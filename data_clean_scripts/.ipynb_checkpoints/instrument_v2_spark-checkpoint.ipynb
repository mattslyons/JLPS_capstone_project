{
 "cells": [
  {
   "cell_type": "markdown",
   "id": "7cf5925c",
   "metadata": {},
   "source": [
    "## This notebook has two major sections. The first loads in the large, combined dataset and outputs monthly files.\n",
    "\n",
    "## The second loads in these monthly files and performs instrument calculations and aggregations."
   ]
  },
  {
   "cell_type": "markdown",
   "id": "e9f8c039",
   "metadata": {},
   "source": [
    "# Begin Splitting"
   ]
  },
  {
   "cell_type": "code",
   "execution_count": 1,
   "id": "e37d0a68",
   "metadata": {},
   "outputs": [],
   "source": [
    "import findspark\n",
    "findspark.init()"
   ]
  },
  {
   "cell_type": "code",
   "execution_count": 427,
   "id": "2d3320ba",
   "metadata": {},
   "outputs": [
    {
     "data": {
      "text/html": [
       "<style>pre { white-space: pre !important; }</style>"
      ],
      "text/plain": [
       "<IPython.core.display.HTML object>"
      ]
     },
     "metadata": {},
     "output_type": "display_data"
    }
   ],
   "source": [
    "import pyspark\n",
    "import pandas as pd \n",
    "import numpy as np\n",
    "import os \n",
    "import datetime\n",
    "from pyspark.sql import SparkSession\n",
    "from pyspark import SparkContext\n",
    "from pyspark.sql.types import *\n",
    "from pyspark.sql.window import Window\n",
    "from math import radians, cos, sin, asin, sqrt\n",
    "from pyspark.sql import functions as F\n",
    "from pyspark.sql.functions import col, row_number, round, substring, count, when, isnan, min, max, avg, stddev_samp, abs, sum, count\n",
    "from pyspark.ml.feature import MinMaxScaler, StandardScaler, VectorAssembler\n",
    "from pyspark.ml import Pipeline\n",
    "\n",
    "from datetime import date, timedelta\n",
    "\n",
    "import datetime\n",
    "\n",
    "from pyspark_dist_explore import hist\n",
    "import matplotlib.pyplot as plt\n",
    "\n",
    "from IPython.core.display import HTML\n",
    "display(HTML(\"<style>pre { white-space: pre !important; }</style>\"))\n",
    "\n",
    "pd.set_option('display.max_columns', None)"
   ]
  },
  {
   "cell_type": "code",
   "execution_count": 3,
   "id": "c306549a",
   "metadata": {},
   "outputs": [],
   "source": [
    "spark = SparkSession.builder.master(\"local[*]\").config(\"spark.executor.memory\", \"48g\").config(\"spark.driver.memory\", \"48g\").config(\"spark.driver.maxResultSize\",\"0\").getOrCreate()"
   ]
  },
  {
   "cell_type": "code",
   "execution_count": 5,
   "id": "b3287865",
   "metadata": {},
   "outputs": [],
   "source": [
    "gdrive_path = 'I:\\\\.shortcut-targets-by-id\\\\11wLy1WKwOTcthBs1rpfEzkqax2BZG-6E\\\\W210_Capstone\\\\Data\\\\'\n",
    "local_path = 'C:\\\\Users\\\\matts\\\\Documents\\\\Berkeley MIDS\\\\DataSci 210 Capstone\\\\non-push files\\\\data\\\\'"
   ]
  },
  {
   "cell_type": "code",
   "execution_count": 7,
   "id": "c322ecdf",
   "metadata": {},
   "outputs": [],
   "source": [
    "wind_grid_points = spark.read.option(\"header\",True).csv(os.path.join(local_path,'all_wind_measurements.csv'))"
   ]
  },
  {
   "cell_type": "code",
   "execution_count": 8,
   "id": "803af395",
   "metadata": {},
   "outputs": [],
   "source": [
    "wind_grid_points = wind_grid_points.withColumnRenamed('lat','wind_lat').withColumnRenamed('lon','wind_lon')"
   ]
  },
  {
   "cell_type": "code",
   "execution_count": 9,
   "id": "6c8307ac",
   "metadata": {},
   "outputs": [],
   "source": [
    "used_grid_points = spark.read.option(\"header\",True).csv(os.path.join(local_path,'all_used_wind_sites.csv'))"
   ]
  },
  {
   "cell_type": "code",
   "execution_count": 10,
   "id": "7f59a846",
   "metadata": {},
   "outputs": [
    {
     "name": "stdout",
     "output_type": "stream",
     "text": [
      "+----------+---------+-----------+\n",
      "|grid_index| wind_lat|   wind_lon|\n",
      "+----------+---------+-----------+\n",
      "|       443|37.779999|-122.160004|\n",
      "|       722|34.529999|-120.410004|\n",
      "|       631|38.279999|-120.910004|\n",
      "|       589|39.279999|-121.160004|\n",
      "|      1105|33.779999|-117.910004|\n",
      "+----------+---------+-----------+\n",
      "\n"
     ]
    }
   ],
   "source": [
    "used_grid_points.limit(5).show()"
   ]
  },
  {
   "cell_type": "code",
   "execution_count": 11,
   "id": "b8ea1a97",
   "metadata": {},
   "outputs": [
    {
     "name": "stdout",
     "output_type": "stream",
     "text": [
      "root\n",
      " |-- grid_index: string (nullable = true)\n",
      " |-- wind_lat: string (nullable = true)\n",
      " |-- wind_lon: string (nullable = true)\n",
      "\n"
     ]
    }
   ],
   "source": [
    "used_grid_points.printSchema()"
   ]
  },
  {
   "cell_type": "code",
   "execution_count": 12,
   "id": "10f5ccd2",
   "metadata": {},
   "outputs": [],
   "source": [
    "used_grid_points = used_grid_points.withColumn(\"wind_lat\",used_grid_points.wind_lat.cast('double'))\n",
    "used_grid_points = used_grid_points.withColumn(\"wind_lon\",used_grid_points.wind_lon.cast('double'))"
   ]
  },
  {
   "cell_type": "code",
   "execution_count": 16,
   "id": "f2e23ba3",
   "metadata": {},
   "outputs": [],
   "source": [
    "wind_grid_points = wind_grid_points.withColumn(\"wind_lat\",wind_grid_points.wind_lat.cast('double'))\n",
    "wind_grid_points = wind_grid_points.withColumn(\"wind_lon\",wind_grid_points.wind_lon.cast('double'))\n",
    "wind_grid_points = wind_grid_points.withColumn(\"u\",wind_grid_points.u.cast('double'))\n",
    "wind_grid_points = wind_grid_points.withColumn(\"v\",wind_grid_points.v.cast('double'))\n",
    "wind_grid_points = wind_grid_points.withColumn(\"wdir\",wind_grid_points.wdir.cast('double'))\n",
    "wind_grid_points = wind_grid_points.withColumn(\"wspd\",wind_grid_points.wspd.cast('double'))\n",
    "wind_grid_points = wind_grid_points.drop('_c0')"
   ]
  },
  {
   "cell_type": "code",
   "execution_count": 22,
   "id": "0815519a",
   "metadata": {},
   "outputs": [],
   "source": [
    "wind_grid_points = wind_grid_points.withColumn(\"wind_lat\",round(col('wind_lat'),6))\n",
    "wind_grid_points = wind_grid_points.withColumn(\"wind_lon\",round(col('wind_lon'),6))\n",
    "wind_grid_points = wind_grid_points.withColumn(\"u\",round(col('u'),6))\n",
    "wind_grid_points = wind_grid_points.withColumn(\"v\",round(col('v'),6))\n",
    "wind_grid_points = wind_grid_points.withColumn(\"wdir\",round(col('wdir'),6))\n",
    "wind_grid_points = wind_grid_points.withColumn(\"wspd\",round(col('wspd'),6))"
   ]
  },
  {
   "cell_type": "code",
   "execution_count": 23,
   "id": "228429c7",
   "metadata": {},
   "outputs": [
    {
     "name": "stdout",
     "output_type": "stream",
     "text": [
      "+---------+-----------+--------+---------+----------+--------+-------------------+\n",
      "| wind_lat|   wind_lon|       u|        v|      wdir|    wspd|           Datetime|\n",
      "+---------+-----------+--------+---------+----------+--------+-------------------+\n",
      "|42.279999|-124.410004|1.316132| -4.17089|287.513185|4.373617|2001-01-01 00:00:00|\n",
      "|42.029999|-124.410004|1.720276|-4.124691|292.639445|4.469052|2001-01-01 00:00:00|\n",
      "|41.779999|-124.410004|2.337209|-4.626282| 296.80302|5.183149|2001-01-01 00:00:00|\n",
      "|41.529999|-124.410004|2.451185|-5.043875|295.918485|5.607939|2001-01-01 00:00:00|\n",
      "|41.279999|-124.410004| 2.09671|-5.050475|292.545832|5.468408|2001-01-01 00:00:00|\n",
      "+---------+-----------+--------+---------+----------+--------+-------------------+\n",
      "\n"
     ]
    }
   ],
   "source": [
    "wind_grid_points.limit(5).show()"
   ]
  },
  {
   "cell_type": "code",
   "execution_count": 17,
   "id": "2099309c",
   "metadata": {},
   "outputs": [
    {
     "name": "stdout",
     "output_type": "stream",
     "text": [
      "root\n",
      " |-- wind_lat: double (nullable = true)\n",
      " |-- wind_lon: double (nullable = true)\n",
      " |-- u: double (nullable = true)\n",
      " |-- v: double (nullable = true)\n",
      " |-- wdir: double (nullable = true)\n",
      " |-- wspd: double (nullable = true)\n",
      " |-- Datetime: string (nullable = true)\n",
      "\n"
     ]
    }
   ],
   "source": [
    "wind_grid_points.printSchema()"
   ]
  },
  {
   "cell_type": "markdown",
   "id": "6962e7bc",
   "metadata": {},
   "source": [
    "## Use inner join to filter out unused points"
   ]
  },
  {
   "cell_type": "code",
   "execution_count": 24,
   "id": "dcc2027f",
   "metadata": {},
   "outputs": [],
   "source": [
    "used_wind_observations = wind_grid_points.join(used_grid_points, ['wind_lat','wind_lon'], how='inner')"
   ]
  },
  {
   "cell_type": "code",
   "execution_count": 25,
   "id": "d1b18d15",
   "metadata": {},
   "outputs": [
    {
     "data": {
      "text/plain": [
       "71825712"
      ]
     },
     "execution_count": 25,
     "metadata": {},
     "output_type": "execute_result"
    }
   ],
   "source": [
    "used_wind_observations.count()"
   ]
  },
  {
   "cell_type": "markdown",
   "id": "af13b298",
   "metadata": {},
   "source": [
    "### Pre-compute min-max for scaled version of instrument below"
   ]
  },
  {
   "cell_type": "code",
   "execution_count": 99,
   "id": "203375c9",
   "metadata": {},
   "outputs": [
    {
     "name": "stdout",
     "output_type": "stream",
     "text": [
      "Max wspd is [Row(max(wspd)=19.395623)]; min wspd is[Row(min(wspd)=0.000415)].\n"
     ]
    }
   ],
   "source": [
    "min_wspd = used_wind_observations.select(min('wspd')).collect()\n",
    "max_wspd = used_wind_observations.select(max('wspd')).collect()\n",
    "\n",
    "print(\"Max wspd is \",max_wspd,\"; min wspd is\",min_wspd,\".\",sep=\"\")"
   ]
  },
  {
   "cell_type": "code",
   "execution_count": 103,
   "id": "6fb71ee7",
   "metadata": {},
   "outputs": [
    {
     "ename": "TypeError",
     "evalue": "'float' object is not subscriptable",
     "output_type": "error",
     "traceback": [
      "\u001b[1;31m---------------------------------------------------------------------------\u001b[0m",
      "\u001b[1;31mTypeError\u001b[0m                                 Traceback (most recent call last)",
      "Input \u001b[1;32mIn [103]\u001b[0m, in \u001b[0;36m<cell line: 1>\u001b[1;34m()\u001b[0m\n\u001b[1;32m----> 1\u001b[0m min_wspd \u001b[38;5;241m=\u001b[39m \u001b[43mmin_wspd\u001b[49m\u001b[43m[\u001b[49m\u001b[38;5;241;43m0\u001b[39;49m\u001b[43m]\u001b[49m[\u001b[38;5;241m0\u001b[39m]\n\u001b[0;32m      2\u001b[0m max_wspd \u001b[38;5;241m=\u001b[39m max_wspd[\u001b[38;5;241m0\u001b[39m][\u001b[38;5;241m0\u001b[39m]\n\u001b[0;32m      4\u001b[0m \u001b[38;5;28mprint\u001b[39m(\u001b[38;5;124m\"\u001b[39m\u001b[38;5;124mMax wspd is \u001b[39m\u001b[38;5;124m\"\u001b[39m,max_wspd,\u001b[38;5;124m\"\u001b[39m\u001b[38;5;124m; min wspd is \u001b[39m\u001b[38;5;124m\"\u001b[39m,min_wspd,\u001b[38;5;124m\"\u001b[39m\u001b[38;5;124m.\u001b[39m\u001b[38;5;124m\"\u001b[39m,sep\u001b[38;5;241m=\u001b[39m\u001b[38;5;124m\"\u001b[39m\u001b[38;5;124m\"\u001b[39m)\n",
      "\u001b[1;31mTypeError\u001b[0m: 'float' object is not subscriptable"
     ]
    }
   ],
   "source": [
    "min_wspd = min_wspd[0][0]\n",
    "max_wspd = max_wspd[0][0]"
   ]
  },
  {
   "cell_type": "code",
   "execution_count": 104,
   "id": "a2489383",
   "metadata": {},
   "outputs": [
    {
     "name": "stdout",
     "output_type": "stream",
     "text": [
      "Max wspd is 19.395623; min wspd is 0.000415.\n"
     ]
    }
   ],
   "source": [
    "print(\"Max wspd is \",max_wspd,\"; min wspd is \",min_wspd,\".\",sep=\"\")"
   ]
  },
  {
   "cell_type": "markdown",
   "id": "d2dda355",
   "metadata": {},
   "source": [
    "   ## Save off subset"
   ]
  },
  {
   "cell_type": "code",
   "execution_count": 26,
   "id": "2c37e72d",
   "metadata": {},
   "outputs": [],
   "source": [
    "used_wind_observations.write.parquet(os.path.join(local_path,'wind_subset'))"
   ]
  },
  {
   "cell_type": "markdown",
   "id": "b8e16efb",
   "metadata": {},
   "source": [
    "## Start splitting out --"
   ]
  },
  {
   "cell_type": "code",
   "execution_count": 57,
   "id": "13481b8d",
   "metadata": {},
   "outputs": [
    {
     "name": "stdout",
     "output_type": "stream",
     "text": [
      "['2001-01', '2001-02', '2001-03', '2001-04', '2001-05', '2001-06', '2001-07', '2001-08', '2001-09', '2001-10', '2001-11', '2001-12', '2002-01', '2002-02', '2002-03', '2002-04', '2002-05', '2002-06', '2002-07', '2002-08', '2002-09', '2002-10', '2002-11', '2002-12', '2003-01', '2003-02', '2003-03', '2003-04', '2003-05', '2003-06', '2003-07', '2003-08', '2003-09', '2003-10', '2003-11', '2003-12', '2004-01', '2004-02', '2004-03', '2004-04', '2004-05', '2004-06', '2004-07', '2004-08', '2004-09', '2004-10', '2004-11', '2004-12', '2005-01', '2005-02', '2005-03', '2005-04', '2005-05', '2005-06', '2005-07', '2005-08', '2005-09', '2005-10', '2005-11', '2005-12', '2006-01', '2006-02', '2006-03', '2006-04', '2006-05', '2006-06', '2006-07', '2006-08', '2006-09', '2006-10', '2006-11', '2006-12', '2007-01', '2007-02', '2007-03', '2007-04', '2007-05', '2007-06', '2007-07', '2007-08', '2007-09', '2007-10', '2007-11', '2007-12', '2008-01', '2008-02', '2008-03', '2008-04', '2008-05', '2008-06', '2008-07', '2008-08', '2008-09', '2008-10', '2008-11', '2008-12', '2009-01', '2009-02', '2009-03', '2009-04', '2009-05', '2009-06', '2009-07', '2009-08', '2009-09', '2009-10', '2009-11', '2009-12', '2010-01', '2010-02', '2010-03', '2010-04', '2010-05', '2010-06', '2010-07', '2010-08', '2010-09', '2010-10', '2010-11', '2010-12', '2011-01', '2011-02', '2011-03', '2011-04', '2011-05', '2011-06', '2011-07', '2011-08', '2011-09', '2011-10', '2011-11', '2011-12', '2012-01', '2012-02', '2012-03', '2012-04', '2012-05', '2012-06', '2012-07', '2012-08', '2012-09', '2012-10', '2012-11', '2012-12', '2013-01', '2013-02', '2013-03', '2013-04', '2013-05', '2013-06', '2013-07', '2013-08', '2013-09', '2013-10', '2013-11', '2013-12', '2014-01', '2014-02', '2014-03', '2014-04', '2014-05', '2014-06', '2014-07', '2014-08', '2014-09', '2014-10', '2014-11', '2014-12', '2015-01', '2015-02', '2015-03', '2015-04', '2015-05', '2015-06', '2015-07', '2015-08', '2015-09', '2015-10', '2015-11', '2015-12', '2016-01', '2016-02', '2016-03', '2016-04', '2016-05', '2016-06', '2016-07', '2016-08', '2016-09', '2016-10', '2016-11', '2016-12', '2017-01', '2017-02', '2017-03', '2017-04', '2017-05', '2017-06', '2017-07', '2017-08', '2017-09', '2017-10', '2017-11', '2017-12']\n"
     ]
    }
   ],
   "source": [
    "# create by-month data structure\n",
    "\n",
    "month_bins_pd = pd.date_range(start='2000-12-01',end='2017-12-01',freq='m')\n",
    "\n",
    "month_bins = []\n",
    "\n",
    "for month in month_bins_pd:\n",
    "    month_bins.append(datetime.datetime.strftime(month+timedelta(days=1), \"%Y-%m\"))\n",
    "\n",
    "print(month_bins)"
   ]
  },
  {
   "cell_type": "code",
   "execution_count": 60,
   "id": "e2a89c6b",
   "metadata": {},
   "outputs": [],
   "source": [
    "# create compare column\n",
    "\n",
    "used_wind_observations = used_wind_observations.withColumn('y-m', substring('Datetime', 1,7))"
   ]
  },
  {
   "cell_type": "code",
   "execution_count": 61,
   "id": "70613181",
   "metadata": {},
   "outputs": [
    {
     "name": "stdout",
     "output_type": "stream",
     "text": [
      "+---------+-----------+---------+---------+----------+--------+-------------------+----------+-------+\n",
      "| wind_lat|   wind_lon|        u|        v|      wdir|    wspd|           Datetime|grid_index|    y-m|\n",
      "+---------+-----------+---------+---------+----------+--------+-------------------+----------+-------+\n",
      "|42.029999|-124.160004| 0.170099| -1.91193|275.084065|1.919482|2001-01-01 00:00:00|        44|2001-01|\n",
      "|41.779999|-124.160004| 0.610318|-2.619918|283.113362|2.690066|2001-01-01 00:00:00|       123|2001-01|\n",
      "|41.529999|-124.160004| 0.897872|-3.260106|285.398186|3.381489|2001-01-01 00:00:00|       124|2001-01|\n",
      "|41.279999|-124.160004| 0.849772|-3.431103| 283.91038|3.534768|2001-01-01 00:00:00|       125|2001-01|\n",
      "|41.029999|-124.160004| 0.826245|-3.327305|283.945749|3.428358|2001-01-01 00:00:00|       126|2001-01|\n",
      "|40.779999|-124.160004| 0.781805|-3.174908|283.833566|3.269749|2001-01-01 00:00:00|       127|2001-01|\n",
      "|40.529999|-124.160004| 0.707041|-2.862313|283.875283|2.948346|2001-01-01 00:00:00|       128|2001-01|\n",
      "|40.279999|-124.160004| 1.005051|-3.470103|286.152681|3.612719|2001-01-01 00:00:00|       129|2001-01|\n",
      "|41.779999|-123.910004|-0.543557|-1.178743|245.244024|1.298033|2001-01-01 00:00:00|       161|2001-01|\n",
      "|41.279999|-123.910004|-0.377821|-1.730733|257.685445|1.771493|2001-01-01 00:00:00|       163|2001-01|\n",
      "|41.029999|-123.910004|-0.236136|-1.769133|262.397353|1.784822|2001-01-01 00:00:00|       164|2001-01|\n",
      "|40.779999|-123.910004| 0.015866|-2.070327|270.439075|2.070388|2001-01-01 00:00:00|       165|2001-01|\n",
      "|40.529999|-123.910004|-0.036417|-2.136326|269.023408|2.136636|2001-01-01 00:00:00|       166|2001-01|\n",
      "|40.279999|-123.910004|-0.080857|-2.309723|267.995057|2.311138|2001-01-01 00:00:00|       167|2001-01|\n",
      "|40.029999|-123.910004| 0.645347|-2.633717|283.768077|2.711631|2001-01-01 00:00:00|       168|2001-01|\n",
      "|39.529999|-123.910004| 2.508173|-2.444121|315.741017|3.502094|2001-01-01 00:00:00|       170|2001-01|\n",
      "|39.279999|-123.910004| 2.838599|-2.893513|314.451119|4.053401|2001-01-01 00:00:00|       171|2001-01|\n",
      "|42.029999|-123.660004|-0.964431|-0.182161|190.695947|0.981484|2001-01-01 00:00:00|        46|2001-01|\n",
      "|41.279999|-123.660004|-0.931493|-0.694552|216.709402| 1.16193|2001-01-01 00:00:00|       201|2001-01|\n",
      "|41.029999|-123.660004|-0.693085| -0.75335|227.385837|1.023672|2001-01-01 00:00:00|       202|2001-01|\n",
      "+---------+-----------+---------+---------+----------+--------+-------------------+----------+-------+\n",
      "only showing top 20 rows\n",
      "\n"
     ]
    }
   ],
   "source": [
    "used_wind_observations.limit(25).show()"
   ]
  },
  {
   "cell_type": "code",
   "execution_count": 75,
   "id": "df864811",
   "metadata": {},
   "outputs": [
    {
     "name": "stdout",
     "output_type": "stream",
     "text": [
      "+--------+--------+---+---+----+----+--------+----------+---+\n",
      "|wind_lat|wind_lon|  u|  v|wdir|wspd|Datetime|grid_index|y-m|\n",
      "+--------+--------+---+---+----+----+--------+----------+---+\n",
      "|       0|       0|  0|  0|   0|   0|       0|         0|  0|\n",
      "+--------+--------+---+---+----+----+--------+----------+---+\n",
      "\n"
     ]
    }
   ],
   "source": [
    "# Check for nulls\n",
    "\n",
    "used_wind_observations.select([count(when(isnan(c) | col(c).isNull(), c)).alias(c) for c in used_wind_observations.columns]).show()"
   ]
  },
  {
   "cell_type": "code",
   "execution_count": 84,
   "id": "eb990f9f",
   "metadata": {},
   "outputs": [
    {
     "name": "stdout",
     "output_type": "stream",
     "text": [
      "+--------+--------+---+---+----+----+--------+----------+---+\n",
      "|wind_lat|wind_lon|  u|  v|wdir|wspd|Datetime|grid_index|y-m|\n",
      "+--------+--------+---+---+----+----+--------+----------+---+\n",
      "|       0|       0|  0|  0|   0|   0|       0|  62139672|  0|\n",
      "+--------+--------+---+---+----+----+--------+----------+---+\n",
      "\n"
     ]
    }
   ],
   "source": [
    "# Check for large values\n",
    "\n",
    "used_wind_observations.select([count(when((col(c).cast('integer') > 360), c)).alias(c) for c in used_wind_observations.columns]).show()"
   ]
  },
  {
   "cell_type": "code",
   "execution_count": 91,
   "id": "f5bf4522",
   "metadata": {},
   "outputs": [
    {
     "name": "stdout",
     "output_type": "stream",
     "text": [
      "+--------+--------+---+---+----+----+--------+----------+---+\n",
      "|wind_lat|wind_lon|  u|  v|wdir|wspd|Datetime|grid_index|y-m|\n",
      "+--------+--------+---+---+----+----+--------+----------+---+\n",
      "|       0|       0|  0|  0|   0|   0|       0|         0|  0|\n",
      "+--------+--------+---+---+----+----+--------+----------+---+\n",
      "\n"
     ]
    }
   ],
   "source": [
    "# Check for zeros (are all of these valid??)\n",
    "\n",
    "used_wind_observations.select([count(when((col(c).cast('float') == 0), c)).alias(c) for c in used_wind_observations.columns]).show()"
   ]
  },
  {
   "cell_type": "code",
   "execution_count": 92,
   "id": "e188cadc",
   "metadata": {},
   "outputs": [
    {
     "name": "stdout",
     "output_type": "stream",
     "text": [
      "U columns with 0 values: 0\n",
      "V columns with 0 values: 0\n"
     ]
    }
   ],
   "source": [
    "print(\"U columns with 0 values:\",used_wind_observations.filter(col('u') == 0).count())\n",
    "print(\"V columns with 0 values:\",used_wind_observations.filter(col('v') == 0).count())"
   ]
  },
  {
   "cell_type": "code",
   "execution_count": 90,
   "id": "9182ebab",
   "metadata": {},
   "outputs": [
    {
     "data": {
      "text/plain": [
       "14"
      ]
     },
     "execution_count": 90,
     "metadata": {},
     "output_type": "execute_result"
    }
   ],
   "source": [
    "# Check for u and v being 0\n",
    "\n",
    "used_wind_observations.filter((col('u') + col('v')) == 0).count()"
   ]
  },
  {
   "cell_type": "code",
   "execution_count": 64,
   "id": "3dee5735",
   "metadata": {},
   "outputs": [
    {
     "name": "stdout",
     "output_type": "stream",
     "text": [
      "Now working on 2001-01 subset.\n",
      "Total observations for 2001-01: 358608.\n",
      "Now writing\n",
      "Now working on 2001-02 subset.\n",
      "Total observations for 2001-02: 323904.\n",
      "Now writing\n",
      "Now working on 2001-03 subset.\n",
      "Total observations for 2001-03: 358608.\n",
      "Now writing\n",
      "Now working on 2001-04 subset.\n",
      "Total observations for 2001-04: 347040.\n",
      "Now writing\n",
      "Now working on 2001-05 subset.\n",
      "Total observations for 2001-05: 358608.\n",
      "Now writing\n",
      "Now working on 2001-06 subset.\n",
      "Total observations for 2001-06: 347040.\n",
      "Now writing\n",
      "Now working on 2001-07 subset.\n",
      "Total observations for 2001-07: 358608.\n",
      "Now writing\n",
      "Now working on 2001-08 subset.\n",
      "Total observations for 2001-08: 358608.\n",
      "Now writing\n",
      "Now working on 2001-09 subset.\n",
      "Total observations for 2001-09: 347040.\n",
      "Now writing\n",
      "Now working on 2001-10 subset.\n",
      "Total observations for 2001-10: 358608.\n",
      "Now writing\n",
      "Now working on 2001-11 subset.\n",
      "Total observations for 2001-11: 347040.\n",
      "Now writing\n",
      "Now working on 2001-12 subset.\n",
      "Total observations for 2001-12: 358608.\n",
      "Now writing\n",
      "Now working on 2002-01 subset.\n",
      "Total observations for 2002-01: 358608.\n",
      "Now writing\n",
      "Now working on 2002-02 subset.\n",
      "Total observations for 2002-02: 323904.\n",
      "Now writing\n",
      "Now working on 2002-03 subset.\n",
      "Total observations for 2002-03: 358608.\n",
      "Now writing\n",
      "Now working on 2002-04 subset.\n",
      "Total observations for 2002-04: 347040.\n",
      "Now writing\n",
      "Now working on 2002-05 subset.\n",
      "Total observations for 2002-05: 358608.\n",
      "Now writing\n",
      "Now working on 2002-06 subset.\n",
      "Total observations for 2002-06: 347040.\n",
      "Now writing\n",
      "Now working on 2002-07 subset.\n",
      "Total observations for 2002-07: 358608.\n",
      "Now writing\n",
      "Now working on 2002-08 subset.\n",
      "Total observations for 2002-08: 358608.\n",
      "Now writing\n",
      "Now working on 2002-09 subset.\n",
      "Total observations for 2002-09: 347040.\n",
      "Now writing\n",
      "Now working on 2002-10 subset.\n",
      "Total observations for 2002-10: 358608.\n",
      "Now writing\n",
      "Now working on 2002-11 subset.\n",
      "Total observations for 2002-11: 347040.\n",
      "Now writing\n",
      "Now working on 2002-12 subset.\n",
      "Total observations for 2002-12: 358608.\n",
      "Now writing\n",
      "Now working on 2003-01 subset.\n",
      "Total observations for 2003-01: 358608.\n",
      "Now writing\n",
      "Now working on 2003-02 subset.\n",
      "Total observations for 2003-02: 323904.\n",
      "Now writing\n",
      "Now working on 2003-03 subset.\n",
      "Total observations for 2003-03: 358608.\n",
      "Now writing\n",
      "Now working on 2003-04 subset.\n",
      "Total observations for 2003-04: 347040.\n",
      "Now writing\n",
      "Now working on 2003-05 subset.\n",
      "Total observations for 2003-05: 358608.\n",
      "Now writing\n",
      "Now working on 2003-06 subset.\n",
      "Total observations for 2003-06: 347040.\n",
      "Now writing\n",
      "Now working on 2003-07 subset.\n",
      "Total observations for 2003-07: 358608.\n",
      "Now writing\n",
      "Now working on 2003-08 subset.\n",
      "Total observations for 2003-08: 358608.\n",
      "Now writing\n",
      "Now working on 2003-09 subset.\n",
      "Total observations for 2003-09: 347040.\n",
      "Now writing\n",
      "Now working on 2003-10 subset.\n",
      "Total observations for 2003-10: 358608.\n",
      "Now writing\n",
      "Now working on 2003-11 subset.\n",
      "Total observations for 2003-11: 347040.\n",
      "Now writing\n",
      "Now working on 2003-12 subset.\n",
      "Total observations for 2003-12: 358608.\n",
      "Now writing\n",
      "Now working on 2004-01 subset.\n",
      "Total observations for 2004-01: 358608.\n",
      "Now writing\n",
      "Now working on 2004-02 subset.\n",
      "Total observations for 2004-02: 335472.\n",
      "Now writing\n",
      "Now working on 2004-03 subset.\n",
      "Total observations for 2004-03: 358608.\n",
      "Now writing\n",
      "Now working on 2004-04 subset.\n",
      "Total observations for 2004-04: 347040.\n",
      "Now writing\n",
      "Now working on 2004-05 subset.\n",
      "Total observations for 2004-05: 358608.\n",
      "Now writing\n",
      "Now working on 2004-06 subset.\n",
      "Total observations for 2004-06: 347040.\n",
      "Now writing\n",
      "Now working on 2004-07 subset.\n",
      "Total observations for 2004-07: 358608.\n",
      "Now writing\n",
      "Now working on 2004-08 subset.\n",
      "Total observations for 2004-08: 358608.\n",
      "Now writing\n",
      "Now working on 2004-09 subset.\n",
      "Total observations for 2004-09: 347040.\n",
      "Now writing\n",
      "Now working on 2004-10 subset.\n",
      "Total observations for 2004-10: 358608.\n",
      "Now writing\n",
      "Now working on 2004-11 subset.\n",
      "Total observations for 2004-11: 347040.\n",
      "Now writing\n",
      "Now working on 2004-12 subset.\n",
      "Total observations for 2004-12: 358608.\n",
      "Now writing\n",
      "Now working on 2005-01 subset.\n",
      "Total observations for 2005-01: 358608.\n",
      "Now writing\n",
      "Now working on 2005-02 subset.\n",
      "Total observations for 2005-02: 323904.\n",
      "Now writing\n",
      "Now working on 2005-03 subset.\n",
      "Total observations for 2005-03: 358608.\n",
      "Now writing\n",
      "Now working on 2005-04 subset.\n",
      "Total observations for 2005-04: 347040.\n",
      "Now writing\n",
      "Now working on 2005-05 subset.\n",
      "Total observations for 2005-05: 358608.\n",
      "Now writing\n",
      "Now working on 2005-06 subset.\n",
      "Total observations for 2005-06: 347040.\n",
      "Now writing\n",
      "Now working on 2005-07 subset.\n",
      "Total observations for 2005-07: 358608.\n",
      "Now writing\n",
      "Now working on 2005-08 subset.\n",
      "Total observations for 2005-08: 358608.\n",
      "Now writing\n",
      "Now working on 2005-09 subset.\n",
      "Total observations for 2005-09: 347040.\n",
      "Now writing\n",
      "Now working on 2005-10 subset.\n",
      "Total observations for 2005-10: 358608.\n",
      "Now writing\n",
      "Now working on 2005-11 subset.\n",
      "Total observations for 2005-11: 347040.\n",
      "Now writing\n",
      "Now working on 2005-12 subset.\n",
      "Total observations for 2005-12: 358608.\n",
      "Now writing\n",
      "Now working on 2006-01 subset.\n",
      "Total observations for 2006-01: 358608.\n",
      "Now writing\n",
      "Now working on 2006-02 subset.\n",
      "Total observations for 2006-02: 323904.\n",
      "Now writing\n",
      "Now working on 2006-03 subset.\n",
      "Total observations for 2006-03: 358608.\n",
      "Now writing\n",
      "Now working on 2006-04 subset.\n",
      "Total observations for 2006-04: 347040.\n",
      "Now writing\n",
      "Now working on 2006-05 subset.\n",
      "Total observations for 2006-05: 358608.\n",
      "Now writing\n",
      "Now working on 2006-06 subset.\n",
      "Total observations for 2006-06: 347040.\n",
      "Now writing\n",
      "Now working on 2006-07 subset.\n",
      "Total observations for 2006-07: 358608.\n",
      "Now writing\n",
      "Now working on 2006-08 subset.\n",
      "Total observations for 2006-08: 358608.\n",
      "Now writing\n",
      "Now working on 2006-09 subset.\n",
      "Total observations for 2006-09: 347040.\n",
      "Now writing\n",
      "Now working on 2006-10 subset.\n",
      "Total observations for 2006-10: 358608.\n",
      "Now writing\n",
      "Now working on 2006-11 subset.\n",
      "Total observations for 2006-11: 347040.\n",
      "Now writing\n",
      "Now working on 2006-12 subset.\n",
      "Total observations for 2006-12: 358608.\n",
      "Now writing\n",
      "Now working on 2007-01 subset.\n",
      "Total observations for 2007-01: 358608.\n",
      "Now writing\n",
      "Now working on 2007-02 subset.\n",
      "Total observations for 2007-02: 323904.\n",
      "Now writing\n",
      "Now working on 2007-03 subset.\n",
      "Total observations for 2007-03: 358608.\n",
      "Now writing\n",
      "Now working on 2007-04 subset.\n",
      "Total observations for 2007-04: 347040.\n",
      "Now writing\n",
      "Now working on 2007-05 subset.\n",
      "Total observations for 2007-05: 358608.\n",
      "Now writing\n",
      "Now working on 2007-06 subset.\n",
      "Total observations for 2007-06: 347040.\n",
      "Now writing\n",
      "Now working on 2007-07 subset.\n",
      "Total observations for 2007-07: 358608.\n",
      "Now writing\n",
      "Now working on 2007-08 subset.\n",
      "Total observations for 2007-08: 358608.\n",
      "Now writing\n",
      "Now working on 2007-09 subset.\n",
      "Total observations for 2007-09: 347040.\n",
      "Now writing\n",
      "Now working on 2007-10 subset.\n",
      "Total observations for 2007-10: 358608.\n",
      "Now writing\n",
      "Now working on 2007-11 subset.\n",
      "Total observations for 2007-11: 347040.\n",
      "Now writing\n",
      "Now working on 2007-12 subset.\n",
      "Total observations for 2007-12: 358608.\n",
      "Now writing\n",
      "Now working on 2008-01 subset.\n",
      "Total observations for 2008-01: 358608.\n",
      "Now writing\n",
      "Now working on 2008-02 subset.\n",
      "Total observations for 2008-02: 335472.\n",
      "Now writing\n",
      "Now working on 2008-03 subset.\n",
      "Total observations for 2008-03: 358608.\n",
      "Now writing\n",
      "Now working on 2008-04 subset.\n",
      "Total observations for 2008-04: 347040.\n",
      "Now writing\n",
      "Now working on 2008-05 subset.\n",
      "Total observations for 2008-05: 358608.\n",
      "Now writing\n",
      "Now working on 2008-06 subset.\n",
      "Total observations for 2008-06: 347040.\n",
      "Now writing\n",
      "Now working on 2008-07 subset.\n",
      "Total observations for 2008-07: 358608.\n",
      "Now writing\n",
      "Now working on 2008-08 subset.\n",
      "Total observations for 2008-08: 358608.\n",
      "Now writing\n",
      "Now working on 2008-09 subset.\n",
      "Total observations for 2008-09: 347040.\n",
      "Now writing\n",
      "Now working on 2008-10 subset.\n",
      "Total observations for 2008-10: 358608.\n",
      "Now writing\n",
      "Now working on 2008-11 subset.\n",
      "Total observations for 2008-11: 347040.\n",
      "Now writing\n",
      "Now working on 2008-12 subset.\n",
      "Total observations for 2008-12: 358608.\n",
      "Now writing\n",
      "Now working on 2009-01 subset.\n",
      "Total observations for 2009-01: 358608.\n",
      "Now writing\n",
      "Now working on 2009-02 subset.\n",
      "Total observations for 2009-02: 323904.\n",
      "Now writing\n",
      "Now working on 2009-03 subset.\n",
      "Total observations for 2009-03: 358608.\n",
      "Now writing\n"
     ]
    },
    {
     "name": "stdout",
     "output_type": "stream",
     "text": [
      "Now working on 2009-04 subset.\n",
      "Total observations for 2009-04: 347040.\n",
      "Now writing\n",
      "Now working on 2009-05 subset.\n",
      "Total observations for 2009-05: 358608.\n",
      "Now writing\n",
      "Now working on 2009-06 subset.\n",
      "Total observations for 2009-06: 347040.\n",
      "Now writing\n",
      "Now working on 2009-07 subset.\n",
      "Total observations for 2009-07: 358608.\n",
      "Now writing\n",
      "Now working on 2009-08 subset.\n",
      "Total observations for 2009-08: 358608.\n",
      "Now writing\n",
      "Now working on 2009-09 subset.\n",
      "Total observations for 2009-09: 347040.\n",
      "Now writing\n",
      "Now working on 2009-10 subset.\n",
      "Total observations for 2009-10: 358608.\n",
      "Now writing\n",
      "Now working on 2009-11 subset.\n",
      "Total observations for 2009-11: 347040.\n",
      "Now writing\n",
      "Now working on 2009-12 subset.\n",
      "Total observations for 2009-12: 358608.\n",
      "Now writing\n",
      "Now working on 2010-01 subset.\n",
      "Total observations for 2010-01: 358608.\n",
      "Now writing\n",
      "Now working on 2010-02 subset.\n",
      "Total observations for 2010-02: 323904.\n",
      "Now writing\n",
      "Now working on 2010-03 subset.\n",
      "Total observations for 2010-03: 358608.\n",
      "Now writing\n",
      "Now working on 2010-04 subset.\n",
      "Total observations for 2010-04: 347040.\n",
      "Now writing\n",
      "Now working on 2010-05 subset.\n",
      "Total observations for 2010-05: 358608.\n",
      "Now writing\n",
      "Now working on 2010-06 subset.\n",
      "Total observations for 2010-06: 347040.\n",
      "Now writing\n",
      "Now working on 2010-07 subset.\n",
      "Total observations for 2010-07: 358608.\n",
      "Now writing\n",
      "Now working on 2010-08 subset.\n",
      "Total observations for 2010-08: 358608.\n",
      "Now writing\n",
      "Now working on 2010-09 subset.\n",
      "Total observations for 2010-09: 347040.\n",
      "Now writing\n",
      "Now working on 2010-10 subset.\n",
      "Total observations for 2010-10: 358608.\n",
      "Now writing\n",
      "Now working on 2010-11 subset.\n",
      "Total observations for 2010-11: 347040.\n",
      "Now writing\n",
      "Now working on 2010-12 subset.\n",
      "Total observations for 2010-12: 358608.\n",
      "Now writing\n",
      "Now working on 2011-01 subset.\n",
      "Total observations for 2011-01: 358608.\n",
      "Now writing\n",
      "Now working on 2011-02 subset.\n",
      "Total observations for 2011-02: 323904.\n",
      "Now writing\n",
      "Now working on 2011-03 subset.\n",
      "Total observations for 2011-03: 358608.\n",
      "Now writing\n",
      "Now working on 2011-04 subset.\n",
      "Total observations for 2011-04: 347040.\n",
      "Now writing\n",
      "Now working on 2011-05 subset.\n",
      "Total observations for 2011-05: 358608.\n",
      "Now writing\n",
      "Now working on 2011-06 subset.\n",
      "Total observations for 2011-06: 347040.\n",
      "Now writing\n",
      "Now working on 2011-07 subset.\n",
      "Total observations for 2011-07: 358608.\n",
      "Now writing\n",
      "Now working on 2011-08 subset.\n",
      "Total observations for 2011-08: 358608.\n",
      "Now writing\n",
      "Now working on 2011-09 subset.\n",
      "Total observations for 2011-09: 347040.\n",
      "Now writing\n",
      "Now working on 2011-10 subset.\n",
      "Total observations for 2011-10: 358608.\n",
      "Now writing\n",
      "Now working on 2011-11 subset.\n",
      "Total observations for 2011-11: 347040.\n",
      "Now writing\n",
      "Now working on 2011-12 subset.\n",
      "Total observations for 2011-12: 358608.\n",
      "Now writing\n",
      "Now working on 2012-01 subset.\n",
      "Total observations for 2012-01: 358608.\n",
      "Now writing\n",
      "Now working on 2012-02 subset.\n",
      "Total observations for 2012-02: 335472.\n",
      "Now writing\n",
      "Now working on 2012-03 subset.\n",
      "Total observations for 2012-03: 358608.\n",
      "Now writing\n",
      "Now working on 2012-04 subset.\n",
      "Total observations for 2012-04: 347040.\n",
      "Now writing\n",
      "Now working on 2012-05 subset.\n",
      "Total observations for 2012-05: 358608.\n",
      "Now writing\n",
      "Now working on 2012-06 subset.\n",
      "Total observations for 2012-06: 347040.\n",
      "Now writing\n",
      "Now working on 2012-07 subset.\n",
      "Total observations for 2012-07: 358608.\n",
      "Now writing\n",
      "Now working on 2012-08 subset.\n",
      "Total observations for 2012-08: 358608.\n",
      "Now writing\n",
      "Now working on 2012-09 subset.\n",
      "Total observations for 2012-09: 347040.\n",
      "Now writing\n",
      "Now working on 2012-10 subset.\n",
      "Total observations for 2012-10: 358608.\n",
      "Now writing\n",
      "Now working on 2012-11 subset.\n",
      "Total observations for 2012-11: 347040.\n",
      "Now writing\n",
      "Now working on 2012-12 subset.\n",
      "Total observations for 2012-12: 358608.\n",
      "Now writing\n",
      "Now working on 2013-01 subset.\n",
      "Total observations for 2013-01: 358608.\n",
      "Now writing\n",
      "Now working on 2013-02 subset.\n",
      "Total observations for 2013-02: 323904.\n",
      "Now writing\n",
      "Now working on 2013-03 subset.\n",
      "Total observations for 2013-03: 358608.\n",
      "Now writing\n",
      "Now working on 2013-04 subset.\n",
      "Total observations for 2013-04: 347040.\n",
      "Now writing\n",
      "Now working on 2013-05 subset.\n",
      "Total observations for 2013-05: 358608.\n",
      "Now writing\n",
      "Now working on 2013-06 subset.\n",
      "Total observations for 2013-06: 347040.\n",
      "Now writing\n",
      "Now working on 2013-07 subset.\n",
      "Total observations for 2013-07: 358608.\n",
      "Now writing\n",
      "Now working on 2013-08 subset.\n",
      "Total observations for 2013-08: 358608.\n",
      "Now writing\n",
      "Now working on 2013-09 subset.\n",
      "Total observations for 2013-09: 347040.\n",
      "Now writing\n",
      "Now working on 2013-10 subset.\n",
      "Total observations for 2013-10: 358608.\n",
      "Now writing\n",
      "Now working on 2013-11 subset.\n",
      "Total observations for 2013-11: 347040.\n",
      "Now writing\n",
      "Now working on 2013-12 subset.\n",
      "Total observations for 2013-12: 358608.\n",
      "Now writing\n",
      "Now working on 2014-01 subset.\n",
      "Total observations for 2014-01: 358608.\n",
      "Now writing\n",
      "Now working on 2014-02 subset.\n",
      "Total observations for 2014-02: 323904.\n",
      "Now writing\n",
      "Now working on 2014-03 subset.\n",
      "Total observations for 2014-03: 358608.\n",
      "Now writing\n",
      "Now working on 2014-04 subset.\n",
      "Total observations for 2014-04: 347040.\n",
      "Now writing\n",
      "Now working on 2014-05 subset.\n",
      "Total observations for 2014-05: 358608.\n",
      "Now writing\n",
      "Now working on 2014-06 subset.\n",
      "Total observations for 2014-06: 347040.\n",
      "Now writing\n",
      "Now working on 2014-07 subset.\n",
      "Total observations for 2014-07: 358608.\n",
      "Now writing\n",
      "Now working on 2014-08 subset.\n",
      "Total observations for 2014-08: 358608.\n",
      "Now writing\n",
      "Now working on 2014-09 subset.\n",
      "Total observations for 2014-09: 347040.\n",
      "Now writing\n",
      "Now working on 2014-10 subset.\n",
      "Total observations for 2014-10: 358608.\n",
      "Now writing\n",
      "Now working on 2014-11 subset.\n",
      "Total observations for 2014-11: 347040.\n",
      "Now writing\n",
      "Now working on 2014-12 subset.\n",
      "Total observations for 2014-12: 358608.\n",
      "Now writing\n",
      "Now working on 2015-01 subset.\n",
      "Total observations for 2015-01: 358608.\n",
      "Now writing\n",
      "Now working on 2015-02 subset.\n",
      "Total observations for 2015-02: 323904.\n",
      "Now writing\n",
      "Now working on 2015-03 subset.\n",
      "Total observations for 2015-03: 358608.\n",
      "Now writing\n",
      "Now working on 2015-04 subset.\n",
      "Total observations for 2015-04: 347040.\n",
      "Now writing\n",
      "Now working on 2015-05 subset.\n",
      "Total observations for 2015-05: 358608.\n",
      "Now writing\n",
      "Now working on 2015-06 subset.\n",
      "Total observations for 2015-06: 347040.\n",
      "Now writing\n",
      "Now working on 2015-07 subset.\n",
      "Total observations for 2015-07: 358608.\n",
      "Now writing\n",
      "Now working on 2015-08 subset.\n",
      "Total observations for 2015-08: 358608.\n",
      "Now writing\n",
      "Now working on 2015-09 subset.\n",
      "Total observations for 2015-09: 347040.\n",
      "Now writing\n",
      "Now working on 2015-10 subset.\n",
      "Total observations for 2015-10: 358608.\n",
      "Now writing\n",
      "Now working on 2015-11 subset.\n",
      "Total observations for 2015-11: 347040.\n",
      "Now writing\n",
      "Now working on 2015-12 subset.\n",
      "Total observations for 2015-12: 358608.\n",
      "Now writing\n",
      "Now working on 2016-01 subset.\n",
      "Total observations for 2016-01: 358608.\n",
      "Now writing\n",
      "Now working on 2016-02 subset.\n",
      "Total observations for 2016-02: 335472.\n",
      "Now writing\n",
      "Now working on 2016-03 subset.\n",
      "Total observations for 2016-03: 358608.\n",
      "Now writing\n",
      "Now working on 2016-04 subset.\n",
      "Total observations for 2016-04: 347040.\n",
      "Now writing\n",
      "Now working on 2016-05 subset.\n",
      "Total observations for 2016-05: 358608.\n",
      "Now writing\n",
      "Now working on 2016-06 subset.\n",
      "Total observations for 2016-06: 347040.\n",
      "Now writing\n",
      "Now working on 2016-07 subset.\n",
      "Total observations for 2016-07: 358608.\n",
      "Now writing\n",
      "Now working on 2016-08 subset.\n",
      "Total observations for 2016-08: 358608.\n",
      "Now writing\n",
      "Now working on 2016-09 subset.\n",
      "Total observations for 2016-09: 347040.\n",
      "Now writing\n",
      "Now working on 2016-10 subset.\n",
      "Total observations for 2016-10: 358608.\n",
      "Now writing\n",
      "Now working on 2016-11 subset.\n",
      "Total observations for 2016-11: 347040.\n",
      "Now writing\n",
      "Now working on 2016-12 subset.\n",
      "Total observations for 2016-12: 358608.\n",
      "Now writing\n",
      "Now working on 2017-01 subset.\n",
      "Total observations for 2017-01: 358608.\n",
      "Now writing\n",
      "Now working on 2017-02 subset.\n",
      "Total observations for 2017-02: 323904.\n",
      "Now writing\n",
      "Now working on 2017-03 subset.\n",
      "Total observations for 2017-03: 358608.\n",
      "Now writing\n",
      "Now working on 2017-04 subset.\n",
      "Total observations for 2017-04: 347040.\n",
      "Now writing\n",
      "Now working on 2017-05 subset.\n",
      "Total observations for 2017-05: 358608.\n",
      "Now writing\n",
      "Now working on 2017-06 subset.\n",
      "Total observations for 2017-06: 347040.\n",
      "Now writing\n"
     ]
    },
    {
     "name": "stdout",
     "output_type": "stream",
     "text": [
      "Now working on 2017-07 subset.\n",
      "Total observations for 2017-07: 358608.\n",
      "Now writing\n",
      "Now working on 2017-08 subset.\n",
      "Total observations for 2017-08: 358608.\n",
      "Now writing\n",
      "Now working on 2017-09 subset.\n",
      "Total observations for 2017-09: 347040.\n",
      "Now writing\n",
      "Now working on 2017-10 subset.\n",
      "Total observations for 2017-10: 358608.\n",
      "Now writing\n",
      "Now working on 2017-11 subset.\n",
      "Total observations for 2017-11: 347040.\n",
      "Now writing\n",
      "Now working on 2017-12 subset.\n",
      "Total observations for 2017-12: 358608.\n",
      "Now writing\n"
     ]
    }
   ],
   "source": [
    "# create and write out dataframe for each month\n",
    "\n",
    "for ym in month_bins:\n",
    "    \n",
    "    print(\"Now working on\",ym,\"subset.\")\n",
    "    \n",
    "    file_name = os.path.join(local_path,'wind_subset_by_month\\\\', ym)\n",
    "    \n",
    "    temp_df = used_wind_observations.filter(col(\"y-m\") == ym)\n",
    "    \n",
    "    print(\"Total observations for \",ym,\": \",temp_df.count(),\".\",sep=\"\")\n",
    "    print(\"Now writing\")\n",
    "    \n",
    "    temp_df.write.parquet(file_name)"
   ]
  },
  {
   "cell_type": "markdown",
   "id": "d1e015d6",
   "metadata": {},
   "source": [
    "# End Splitting"
   ]
  },
  {
   "cell_type": "markdown",
   "id": "5f8443e2",
   "metadata": {},
   "source": [
    "___________________\n",
    "\n",
    "\n",
    "# Begin Calculations/Aggregation Step-through\n",
    "## If you want to just run this, go down to Begin Calculation/Aggregation Loop"
   ]
  },
  {
   "cell_type": "markdown",
   "id": "134a1b39",
   "metadata": {},
   "source": [
    "## Load in lookup tables and data sources"
   ]
  },
  {
   "attachments": {},
   "cell_type": "markdown",
   "id": "80632545",
   "metadata": {},
   "source": [
    "## Quick overview\n",
    "\n",
    "### Pre-compute scalars for distance and TPY norming:\n",
    "#### Load in `school_year_to_point_lookup_top_5_filtered`, select point_source_index, point_source_pm25_tpy,school_to_ps_geod_dist_m\n",
    "#### Calculate avg, stddev_samp, max, min (AFTER standard scaling)\n",
    "#### Save as scalars (outside of loop)\n",
    "\n",
    "### Make list to hold Pandas dataframes of aggregated instruments\n",
    "\n",
    "## Start loop\n",
    "\n",
    "### initialize empty Pandas dataframe\n",
    "\n",
    "### Load in month of wind data\n",
    "### Temporarily store backup of wind readings for self-joining (remove lat/lon/y-m) (temp_wind_readings_df)\n",
    "### Temporarily store simple averages of wdir/wspd per zip code (to Pandas?) (temp_df_avgs_by_zip)\n",
    "\n",
    "--- wind_temp_df\n",
    "\n",
    "## Perform joins:\n",
    "\n",
    "### First join: inner: wind points to schools from pre-computed lookup (school_lookup)\n",
    "\n",
    "---compute zip code avgs, save off\n",
    "\n",
    "--add column for current year\n",
    "join year lookup for ps\n",
    "drop column for current year\n",
    "\n",
    "### Second itty-bitty join: measurement year to ps_lookup year to avoid duplicates\n",
    "\n",
    "### third join: left: schools to top five point sources from pre-computed lookup (school_to_ps_lookup)\n",
    "--join on CDSCode and lookup_year\n",
    "\n",
    "### fourth join: left: point sources to associated wind grid points from pre-computed lookup (ps_lookup)\n",
    "### Fifth join: left: point source wind grid indices to wind measurements at the same time marker (wind_temp_df)\n",
    "join on grid_index and Datetime\n",
    "renamed u, v, wspd, wdir_wrt_0N\n",
    "\n",
    "### Compute Θd for each row (wind_alignment)\n",
    "#### **Be sure to subtract the raw value from 180 so that high values indicate good alignment**\n",
    "\n",
    "### Add columns for normed TPY and Dps (ps_pm25_tpy_normed, school_to_ps_geod_dist_m_normed)\n",
    "\n",
    "((X - Xmin) / (Xmax - Xmin))\n",
    "\n",
    "min_wspd\n",
    "max_wspd\n",
    "ps_TPY_mean\n",
    "ps_dist_mean\n",
    "ps_TPY_sd\n",
    "ps_dist_sd\n",
    "ps_TPY_min\n",
    "ps_dist_min\n",
    "ps_TPY_max\n",
    "ps_dist_max\n",
    "\n",
    "\n",
    "### Add columns for normed Θd and wspd for v5 (wind_alignment_normed, wspd_normed)\n",
    "\n",
    "### Compute each instrument for each row:\n",
    "#### Izmd_v1_unnormed\n",
    "#### Izmd_v2_nodist_unnormed\n",
    "#### Izmd_v3_normed_D_and_TPY\n",
    "#### Izmd_v4_nodist_normed_TPY\n",
    "#### Izmd_v5_all_normed\n",
    "\n",
    "### Save off completely un-aggregated version (wind_subset_by_month_joined_unaggregated / yyyy-mm)\n",
    "\n",
    "### Aggregate to CDSCode level, summing each instrument\n",
    "\n",
    "### Aggregate at school zip code, averaging each instrument \n",
    "\n",
    "### Rejoin with simple avgs\n",
    "\n",
    "### Save off version aggregated at school level (aggregated_inst_by_month / yyyy-mm)\n",
    "\n",
    "### Convert aggregated version to Pandas df and append to list\n",
    "\n",
    "## End loop\n",
    "\n",
    "### Append list of aggregated instruments into single dataframe and save off"
   ]
  },
  {
   "cell_type": "markdown",
   "id": "6e8fc38a",
   "metadata": {},
   "source": [
    "## Below, we will walk through a single example month to check the code.\n",
    "## After that, we will define the loop to run through all months and run it."
   ]
  },
  {
   "cell_type": "code",
   "execution_count": 336,
   "id": "4a73045f",
   "metadata": {},
   "outputs": [],
   "source": [
    "# load files\n",
    "\n",
    "local_dir = 'C:\\\\Users\\\\matts\\\\Documents\\\\Berkeley MIDS\\\\DataSci 210 Capstone\\\\non-push files\\\\data\\\\'\n",
    "\n",
    "school_lookup = spark.read.option(\"header\",True).csv(os.path.join(local_dir, 'wind_grid_to_school_lookup_filtered.csv'))\n",
    "ps_year_lookup = spark.read.option(\"header\",True).csv(os.path.join(local_dir, 'year_lookup.csv'))\n",
    "school_to_ps_lookup = spark.read.option(\"header\",True).csv(os.path.join(local_dir, 'school_year_to_point_lookup_top_5_filtered.csv'))\n",
    "ps_lookup = spark.read.option(\"header\",True).csv(os.path.join(local_dir, 'wind_grid_to_ps_point_lookup_filtered.csv'))"
   ]
  },
  {
   "cell_type": "code",
   "execution_count": 164,
   "id": "34335478",
   "metadata": {},
   "outputs": [
    {
     "name": "stdout",
     "output_type": "stream",
     "text": [
      "+-----------------+--------------+----------+----------+-----------+--------------------------+\n",
      "|school_grid_index|       CDSCode|school_zip|school_lat| school_lon|wind_to_school_geod_dist_m|\n",
      "+-----------------+--------------+----------+----------+-----------+--------------------------+\n",
      "|              789|10101080119628|     93706| 36.730273|-119.807915|               10656.24466|\n",
      "|              866|10621096005839|     93631| 36.554793|-119.504582|               8904.455363|\n",
      "|              827|10621176109920|     93720| 36.875241|-119.759962|               13828.73923|\n",
      "|              827|10621176116313|     93611|   36.8173|-119.674236|                4329.91988|\n",
      "|              753|10621251030477|     93234| 36.208894|-120.098567|               9630.587612|\n",
      "+-----------------+--------------+----------+----------+-----------+--------------------------+\n",
      "\n"
     ]
    }
   ],
   "source": [
    "school_lookup.limit(5).show()"
   ]
  },
  {
   "cell_type": "code",
   "execution_count": 165,
   "id": "17301b54",
   "metadata": {},
   "outputs": [
    {
     "name": "stdout",
     "output_type": "stream",
     "text": [
      "+--------------+--------+-----------------+---------------------+----------------+------------------------+---------------+----------------+\n",
      "|       CDSCode|ps_index|point_source_year|point_source_pm25_tpy|point_source_zip|school_to_ps_geod_dist_m|angle_to_school|ps_distance_rank|\n",
      "+--------------+--------+-----------------+---------------------+----------------+------------------------+---------------+----------------+\n",
      "|10621171030071|     111|             2002|           2.30478261|           93612|             710.4600631|   -53.65448057|               1|\n",
      "|10621171030071|     624|             2002|               10.089|           93727|              6602.12932|    -1.83659538|               2|\n",
      "|10621171030071|     787|             2002|              29.2146|           93711|             11296.27967|    100.0364033|               3|\n",
      "|10621171030071|      95|             2002|          2.230020551|           93721|             14026.48193|    32.45898722|               4|\n",
      "|10621171030071|     509|             2002|               6.7392|           93706|             14416.82732|    48.74880761|               5|\n",
      "+--------------+--------+-----------------+---------------------+----------------+------------------------+---------------+----------------+\n",
      "\n"
     ]
    }
   ],
   "source": [
    "school_to_ps_lookup.limit(5).show()"
   ]
  },
  {
   "cell_type": "code",
   "execution_count": 166,
   "id": "3e8f807b",
   "metadata": {},
   "outputs": [
    {
     "name": "stdout",
     "output_type": "stream",
     "text": [
      "+-------------+--------+----------------------+\n",
      "|ps_grid_index|ps_index|wind_to_ps_geod_dist_m|\n",
      "+-------------+--------+----------------------+\n",
      "|          443|    1019|           9658.554153|\n",
      "|          722|    1097|           8926.231706|\n",
      "|          631|     110|           11822.85566|\n",
      "|          589|    1103|           13572.37684|\n",
      "|         1105|     124|           15949.34107|\n",
      "+-------------+--------+----------------------+\n",
      "\n"
     ]
    }
   ],
   "source": [
    "ps_lookup.limit(5).show()"
   ]
  },
  {
   "cell_type": "code",
   "execution_count": 106,
   "id": "e52fa14f",
   "metadata": {},
   "outputs": [
    {
     "name": "stdout",
     "output_type": "stream",
     "text": [
      "+---------------------+------------------------+\n",
      "|point_source_pm25_tpy|school_to_ps_geod_dist_m|\n",
      "+---------------------+------------------------+\n",
      "|            5.3369886|             2390.635165|\n",
      "|            14.182397|             6092.817218|\n",
      "|              1.58245|             4700.183159|\n",
      "|           4.59813891|             3372.730667|\n",
      "|           3.65458735|              3347.69715|\n",
      "+---------------------+------------------------+\n",
      "\n"
     ]
    }
   ],
   "source": [
    "# TPY/dist stats part 1\n",
    "\n",
    "cols_to_drop = ['point_source_index','CDSCode', 'point_source_year', 'point_source_zip', 'angle_to_school', 'ps_distance_rank']\n",
    "\n",
    "ps_agg = school_to_ps_lookup.drop(*cols_to_drop).distinct().cache()\n",
    "\n",
    "ps_agg.limit(5).show()"
   ]
  },
  {
   "cell_type": "code",
   "execution_count": 113,
   "id": "724a7cc5",
   "metadata": {},
   "outputs": [
    {
     "name": "stdout",
     "output_type": "stream",
     "text": [
      "Row(avg(point_source_pm25_tpy)=13.225952014379654, avg(school_to_ps_geod_dist_m)=10453.018640947166, stddev_samp(point_source_pm25_tpy)=50.486910084637685, stddev_samp(school_to_ps_geod_dist_m)=13818.527648504192)\n"
     ]
    }
   ],
   "source": [
    "# TPY/dist stats part 2\n",
    "# compute mean/sd scalars\n",
    "\n",
    "ps_stats = ps_agg.select(avg('point_source_pm25_tpy'), avg('school_to_ps_geod_dist_m'), \n",
    "                         stddev_samp('point_source_pm25_tpy'), stddev_samp('school_to_ps_geod_dist_m')).collect()\n",
    "\n",
    "ps_stats\n",
    "\n",
    "ps_stats = ps_stats[0]\n",
    "\n",
    "print(ps_stats)"
   ]
  },
  {
   "cell_type": "code",
   "execution_count": 114,
   "id": "63740e8c",
   "metadata": {},
   "outputs": [
    {
     "name": "stdout",
     "output_type": "stream",
     "text": [
      "avg tpy: 13.225952014379654\n"
     ]
    }
   ],
   "source": [
    "# TPY/dist stats part 3\n",
    "# save out scalars for mean/sd\n",
    "\n",
    "ps_TPY_mean = ps_stats[0]\n",
    "ps_dist_mean = ps_stats[1]\n",
    "ps_TPY_sd = ps_stats[2]\n",
    "ps_dist_sd = ps_stats[3]\n",
    "\n",
    "print(\"avg tpy:\", ps_TPY_mean)"
   ]
  },
  {
   "cell_type": "code",
   "execution_count": 116,
   "id": "b732438f",
   "metadata": {},
   "outputs": [
    {
     "name": "stdout",
     "output_type": "stream",
     "text": [
      "Row(min(TPY_norm)=-0.2464301038332982, min(dist_norm)=-0.7541348842439959, max(TPY_norm)=61.78923457101895, max(dist_norm)=12.084924082134723)\n"
     ]
    }
   ],
   "source": [
    "# TPY/dist stats part 4\n",
    "# use scalars to scale values\n",
    "\n",
    "ps_agg = ps_agg.withColumn('TPY_norm', (col('point_source_pm25_tpy') - ps_TPY_mean)/ps_TPY_sd).withColumn('dist_norm', (col('school_to_ps_geod_dist_m') - ps_dist_mean)/ps_dist_sd)\n",
    "\n",
    "ps_stats_mm = ps_agg.select(min('TPY_norm'), min('dist_norm'), max('TPY_norm'), max('dist_norm')).collect()\n",
    "\n",
    "ps_stats_mm = ps_stats_mm[0]\n",
    "\n",
    "print(ps_stats_mm)"
   ]
  },
  {
   "cell_type": "code",
   "execution_count": 118,
   "id": "49254bdb",
   "metadata": {},
   "outputs": [
    {
     "name": "stdout",
     "output_type": "stream",
     "text": [
      "min_norm_tpy: -0.2464301038332982\n"
     ]
    }
   ],
   "source": [
    "# TPY/dist stats part 3\n",
    "# save out scalars for min/max\n",
    "\n",
    "ps_TPY_min = ps_stats_mm[0]\n",
    "ps_dist_min = ps_stats_mm[1]\n",
    "ps_TPY_max = ps_stats_mm[2]\n",
    "ps_dist_max = ps_stats_mm[3]\n",
    "\n",
    "print(\"min_norm_tpy:\", ps_TPY_min)"
   ]
  },
  {
   "cell_type": "markdown",
   "id": "984e730e",
   "metadata": {},
   "source": [
    "## Data structures (testing)"
   ]
  },
  {
   "cell_type": "code",
   "execution_count": 316,
   "id": "b603e935",
   "metadata": {},
   "outputs": [],
   "source": [
    "zmy_agg_list = []\n",
    "school_my_agg_list = []\n",
    "df_avgs_list = []"
   ]
  },
  {
   "cell_type": "code",
   "execution_count": 317,
   "id": "4fea58d7",
   "metadata": {},
   "outputs": [],
   "source": [
    "in_dir = 'C:\\\\Users\\\\matts\\\\Documents\\\\Berkeley MIDS\\\\DataSci 210 Capstone\\\\non-push files\\\\data\\\\wind_subset_by_month\\\\'\n",
    "\n",
    "out_dir_unagged = 'C:\\\\Users\\\\matts\\\\Documents\\\\Berkeley MIDS\\\\DataSci 210 Capstone\\\\non-push files\\\\data\\\\raw_my_spark_dfs'\n",
    "out_dir_zmy = 'C:\\\\Users\\\\matts\\\\Documents\\\\Berkeley MIDS\\\\DataSci 210 Capstone\\\\non-push files\\\\data\\\\zmy_agged_dfs\\\\'\n",
    "out_dir_school_my = 'C:\\\\Users\\\\matts\\\\Documents\\\\Berkeley MIDS\\\\DataSci 210 Capstone\\\\non-push files\\\\data\\\\school_my_agged_dfs\\\\'\n",
    "\n",
    "for parquet_file in os.listdir(in_dir):\n",
    "    \n",
    "    if parquet_file == '2001-01':\n",
    "    \n",
    "        # for holding augmented df at the zip code level\n",
    "        temp_zmy_df = pd.DataFrame()\n",
    "        \n",
    "        # for holding augmented df at the school level\n",
    "        temp_school_my_df = pd.DataFrame()\n",
    "\n",
    "        # for holding summmary statistics\n",
    "        temp_df_avgs = pd.DataFrame()\n",
    "\n",
    "        # read in one month\n",
    "        temp_meas_df = spark.read.parquet(os.path.join(in_dir, parquet_file))"
   ]
  },
  {
   "cell_type": "code",
   "execution_count": 318,
   "id": "e2bfc53f",
   "metadata": {},
   "outputs": [
    {
     "name": "stdout",
     "output_type": "stream",
     "text": [
      "+---------+-----------+--------+---------+----------+--------+-------------------+----------+-------+\n",
      "| wind_lat|   wind_lon|       u|        v|      wdir|    wspd|           Datetime|grid_index|    y-m|\n",
      "+---------+-----------+--------+---------+----------+--------+-------------------+----------+-------+\n",
      "|42.029999|-124.160004|0.170099| -1.91193|275.084065|1.919482|2001-01-01 00:00:00|        44|2001-01|\n",
      "|41.779999|-124.160004|0.610318|-2.619918|283.113362|2.690066|2001-01-01 00:00:00|       123|2001-01|\n",
      "|41.529999|-124.160004|0.897872|-3.260106|285.398186|3.381489|2001-01-01 00:00:00|       124|2001-01|\n",
      "|41.279999|-124.160004|0.849772|-3.431103| 283.91038|3.534768|2001-01-01 00:00:00|       125|2001-01|\n",
      "|41.029999|-124.160004|0.826245|-3.327305|283.945749|3.428358|2001-01-01 00:00:00|       126|2001-01|\n",
      "+---------+-----------+--------+---------+----------+--------+-------------------+----------+-------+\n",
      "\n"
     ]
    }
   ],
   "source": [
    "temp_meas_df.limit(5).show()"
   ]
  },
  {
   "cell_type": "code",
   "execution_count": 319,
   "id": "35c5604d",
   "metadata": {},
   "outputs": [],
   "source": [
    "# compute wind dir wrt 0N\n",
    "\n",
    "temp_meas_df = temp_meas_df.withColumn('wdir_wrt_0N',(180*F.atan2(col('u'), col('v'))/(3.141592653589793238462)).cast('double'))"
   ]
  },
  {
   "cell_type": "code",
   "execution_count": 320,
   "id": "8964461b",
   "metadata": {},
   "outputs": [
    {
     "name": "stdout",
     "output_type": "stream",
     "text": [
      "+---------+---------+--------+-------------------+----------+-------------------+\n",
      "|        u|        v|    wspd|           Datetime|grid_index|        wdir_wrt_0N|\n",
      "+---------+---------+--------+-------------------+----------+-------------------+\n",
      "| 0.170099| -1.91193|1.919482|2001-01-01 00:00:00|        44| 174.91594219384388|\n",
      "| 0.610318|-2.619918|2.690066|2001-01-01 00:00:00|       123| 166.88664073725573|\n",
      "| 0.897872|-3.260106|3.381489|2001-01-01 00:00:00|       124| 164.60181000653935|\n",
      "| 0.849772|-3.431103|3.534768|2001-01-01 00:00:00|       125| 166.08961753606766|\n",
      "| 0.826245|-3.327305|3.428358|2001-01-01 00:00:00|       126| 166.05424716779632|\n",
      "| 0.781805|-3.174908|3.269749|2001-01-01 00:00:00|       127| 166.16642852745528|\n",
      "| 0.707041|-2.862313|2.948346|2001-01-01 00:00:00|       128|  166.1247092524355|\n",
      "| 1.005051|-3.470103|3.612719|2001-01-01 00:00:00|       129| 163.84732058815214|\n",
      "|-0.543557|-1.178743|1.298033|2001-01-01 00:00:00|       161|-155.24402584649116|\n",
      "|-0.377821|-1.730733|1.771493|2001-01-01 00:00:00|       163| -167.6854579535119|\n",
      "+---------+---------+--------+-------------------+----------+-------------------+\n",
      "\n"
     ]
    }
   ],
   "source": [
    "# drop lat/lon, wdir, and y-m and store temp df to re-join for ps wind readings (dropped can be recovered if needed)\n",
    "# this assumes wdir calc is correct--that is verified below but these were run out of order\n",
    "\n",
    "wind_temp_df = temp_meas_df.drop('wind_lat','wind_lon','wdir','y-m')\n",
    "\n",
    "wind_temp_df.cache()\n",
    "\n",
    "wind_temp_df.limit(10).show()"
   ]
  },
  {
   "cell_type": "code",
   "execution_count": 321,
   "id": "abc37831",
   "metadata": {},
   "outputs": [],
   "source": [
    "# rename for explicitness of measurements\n",
    "\n",
    "temp_meas_df = (temp_meas_df\n",
    "                .withColumnRenamed('wind_lat','school_wind_lat')\n",
    "                .withColumnRenamed('wind_lon','school_wind_lon')\n",
    "                .withColumnRenamed('u','school_u')\n",
    "                .withColumnRenamed('v','school_v')\n",
    "                .withColumnRenamed('grid_index','school_grid_index')\n",
    "               ).drop('wdir').drop('y-m') # wdir is wrt 0° E and is confusing; y-m not needed"
   ]
  },
  {
   "cell_type": "code",
   "execution_count": 322,
   "id": "15288ff6",
   "metadata": {},
   "outputs": [
    {
     "name": "stdout",
     "output_type": "stream",
     "text": [
      "+---------------+---------------+---------+---------+--------+-------------------+-----------------+-------------------+\n",
      "|school_wind_lat|school_wind_lon| school_u| school_v|    wspd|           Datetime|school_grid_index|        wdir_wrt_0N|\n",
      "+---------------+---------------+---------+---------+--------+-------------------+-----------------+-------------------+\n",
      "|      42.029999|    -124.160004| 0.170099| -1.91193|1.919482|2001-01-01 00:00:00|               44| 174.91594219384388|\n",
      "|      41.779999|    -124.160004| 0.610318|-2.619918|2.690066|2001-01-01 00:00:00|              123| 166.88664073725573|\n",
      "|      41.529999|    -124.160004| 0.897872|-3.260106|3.381489|2001-01-01 00:00:00|              124| 164.60181000653935|\n",
      "|      41.279999|    -124.160004| 0.849772|-3.431103|3.534768|2001-01-01 00:00:00|              125| 166.08961753606766|\n",
      "|      41.029999|    -124.160004| 0.826245|-3.327305|3.428358|2001-01-01 00:00:00|              126| 166.05424716779632|\n",
      "|      40.779999|    -124.160004| 0.781805|-3.174908|3.269749|2001-01-01 00:00:00|              127| 166.16642852745528|\n",
      "|      40.529999|    -124.160004| 0.707041|-2.862313|2.948346|2001-01-01 00:00:00|              128|  166.1247092524355|\n",
      "|      40.279999|    -124.160004| 1.005051|-3.470103|3.612719|2001-01-01 00:00:00|              129| 163.84732058815214|\n",
      "|      41.779999|    -123.910004|-0.543557|-1.178743|1.298033|2001-01-01 00:00:00|              161|-155.24402584649116|\n",
      "|      41.279999|    -123.910004|-0.377821|-1.730733|1.771493|2001-01-01 00:00:00|              163| -167.6854579535119|\n",
      "|      41.029999|    -123.910004|-0.236136|-1.769133|1.784822|2001-01-01 00:00:00|              164|-172.39735070253698|\n",
      "|      40.779999|    -123.910004| 0.015866|-2.070327|2.070388|2001-01-01 00:00:00|              165|  179.5609210321651|\n",
      "|      40.529999|    -123.910004|-0.036417|-2.136326|2.136636|2001-01-01 00:00:00|              166|-179.02339889514235|\n",
      "|      40.279999|    -123.910004|-0.080857|-2.309723|2.311138|2001-01-01 00:00:00|              167| -177.9950523328159|\n",
      "|      40.029999|    -123.910004| 0.645347|-2.633717|2.711631|2001-01-01 00:00:00|              168|  166.2319274887379|\n",
      "|      39.529999|    -123.910004| 2.508173|-2.444121|3.502094|2001-01-01 00:00:00|              170| 134.25898893487582|\n",
      "|      39.279999|    -123.910004| 2.838599|-2.893513|4.053401|2001-01-01 00:00:00|              171| 135.54888044527542|\n",
      "|      42.029999|    -123.660004|-0.964431|-0.182161|0.981484|2001-01-01 00:00:00|               46|-100.69597726577076|\n",
      "|      41.279999|    -123.660004|-0.931493|-0.694552| 1.16193|2001-01-01 00:00:00|              201| -126.7094300236567|\n",
      "|      41.029999|    -123.660004|-0.693085| -0.75335|1.023672|2001-01-01 00:00:00|              202| -137.3858204582848|\n",
      "+---------------+---------------+---------+---------+--------+-------------------+-----------------+-------------------+\n",
      "only showing top 20 rows\n",
      "\n"
     ]
    }
   ],
   "source": [
    "# spot check calculations (run out of order but this checks the wind dir calc above)\n",
    "temp_meas_df.limit(25).show()"
   ]
  },
  {
   "cell_type": "code",
   "execution_count": 323,
   "id": "7f5e21c7",
   "metadata": {},
   "outputs": [
    {
     "data": {
      "text/plain": [
       "358608"
      ]
     },
     "execution_count": 323,
     "metadata": {},
     "output_type": "execute_result"
    }
   ],
   "source": [
    "temp_meas_df.count()"
   ]
  },
  {
   "cell_type": "code",
   "execution_count": 368,
   "id": "04190357",
   "metadata": {},
   "outputs": [],
   "source": [
    "combined_df = temp_meas_df.join(school_lookup, ['school_grid_index'], how='inner')"
   ]
  },
  {
   "cell_type": "code",
   "execution_count": 369,
   "id": "6f9641b8",
   "metadata": {},
   "outputs": [
    {
     "name": "stdout",
     "output_type": "stream",
     "text": [
      "+-----------------+---------------+---------------+--------+---------+--------+-------------------+------------------+-------------+----------+----------+-----------+--------------------------+\n",
      "|school_grid_index|school_wind_lat|school_wind_lon|school_u| school_v|    wspd|           Datetime|       wdir_wrt_0N|      CDSCode|school_zip|school_lat| school_lon|wind_to_school_geod_dist_m|\n",
      "+-----------------+---------------+---------------+--------+---------+--------+-------------------+------------------+-------------+----------+----------+-----------+--------------------------+\n",
      "|               44|      42.029999|    -124.160004|0.170099| -1.91193|1.919482|2001-01-01 00:00:00|174.91594219384388|8618206005458|     95567| 41.927578| -124.15199|               11395.56698|\n",
      "|              123|      41.779999|    -124.160004|0.610318|-2.619918|2.690066|2001-01-01 00:00:00|166.88664073725573|8618206005391|     95531| 41.755659|-124.206615|               4725.461031|\n",
      "|              123|      41.779999|    -124.160004|0.610318|-2.619918|2.690066|2001-01-01 00:00:00|166.88664073725573|8618200137729|     95531| 41.750856|-124.201317|               4720.066955|\n",
      "|              123|      41.779999|    -124.160004|0.610318|-2.619918|2.690066|2001-01-01 00:00:00|166.88664073725573|8618206005383|     95531|  41.75672|-124.204886|               4540.123701|\n",
      "|              123|      41.779999|    -124.160004|0.610318|-2.619918|2.690066|2001-01-01 00:00:00|166.88664073725573|8100820830059|     95531| 41.767263|-124.210319|               4416.069179|\n",
      "+-----------------+---------------+---------------+--------+---------+--------+-------------------+------------------+-------------+----------+----------+-----------+--------------------------+\n",
      "\n"
     ]
    },
    {
     "data": {
      "text/plain": [
       "9892968"
      ]
     },
     "execution_count": 369,
     "metadata": {},
     "output_type": "execute_result"
    }
   ],
   "source": [
    "combined_df.limit(5).show()\n",
    "\n",
    "combined_df.count()"
   ]
  },
  {
   "cell_type": "code",
   "execution_count": 370,
   "id": "e42c5d24",
   "metadata": {},
   "outputs": [
    {
     "data": {
      "text/html": [
       "<div>\n",
       "<style scoped>\n",
       "    .dataframe tbody tr th:only-of-type {\n",
       "        vertical-align: middle;\n",
       "    }\n",
       "\n",
       "    .dataframe tbody tr th {\n",
       "        vertical-align: top;\n",
       "    }\n",
       "\n",
       "    .dataframe thead th {\n",
       "        text-align: right;\n",
       "    }\n",
       "</style>\n",
       "<table border=\"1\" class=\"dataframe\">\n",
       "  <thead>\n",
       "    <tr style=\"text-align: right;\">\n",
       "      <th></th>\n",
       "      <th>zip_code</th>\n",
       "      <th>avg_wspd</th>\n",
       "      <th>avg_wdir_0N</th>\n",
       "      <th>avg_u</th>\n",
       "      <th>avg_v</th>\n",
       "      <th>y-m</th>\n",
       "    </tr>\n",
       "  </thead>\n",
       "  <tbody>\n",
       "    <tr>\n",
       "      <th>0</th>\n",
       "      <td>95519</td>\n",
       "      <td>3.834603</td>\n",
       "      <td>-31.618201</td>\n",
       "      <td>-1.502319</td>\n",
       "      <td>0.392380</td>\n",
       "      <td>2017-12</td>\n",
       "    </tr>\n",
       "    <tr>\n",
       "      <th>1</th>\n",
       "      <td>94102</td>\n",
       "      <td>3.098176</td>\n",
       "      <td>-12.994330</td>\n",
       "      <td>-0.207525</td>\n",
       "      <td>-0.305454</td>\n",
       "      <td>2017-12</td>\n",
       "    </tr>\n",
       "    <tr>\n",
       "      <th>2</th>\n",
       "      <td>95134</td>\n",
       "      <td>2.068261</td>\n",
       "      <td>-16.739172</td>\n",
       "      <td>-0.410638</td>\n",
       "      <td>0.179738</td>\n",
       "      <td>2017-12</td>\n",
       "    </tr>\n",
       "    <tr>\n",
       "      <th>3</th>\n",
       "      <td>93924</td>\n",
       "      <td>2.484223</td>\n",
       "      <td>8.085609</td>\n",
       "      <td>-0.109868</td>\n",
       "      <td>-0.133446</td>\n",
       "      <td>2017-12</td>\n",
       "    </tr>\n",
       "    <tr>\n",
       "      <th>4</th>\n",
       "      <td>93545</td>\n",
       "      <td>1.316469</td>\n",
       "      <td>77.580772</td>\n",
       "      <td>0.943365</td>\n",
       "      <td>-0.255368</td>\n",
       "      <td>2017-12</td>\n",
       "    </tr>\n",
       "    <tr>\n",
       "      <th>...</th>\n",
       "      <td>...</td>\n",
       "      <td>...</td>\n",
       "      <td>...</td>\n",
       "      <td>...</td>\n",
       "      <td>...</td>\n",
       "      <td>...</td>\n",
       "    </tr>\n",
       "    <tr>\n",
       "      <th>1534</th>\n",
       "      <td>90006</td>\n",
       "      <td>1.964524</td>\n",
       "      <td>-47.490534</td>\n",
       "      <td>-0.286081</td>\n",
       "      <td>-0.714206</td>\n",
       "      <td>2017-12</td>\n",
       "    </tr>\n",
       "    <tr>\n",
       "      <th>1535</th>\n",
       "      <td>92408</td>\n",
       "      <td>1.559641</td>\n",
       "      <td>-59.124129</td>\n",
       "      <td>-0.641338</td>\n",
       "      <td>-0.298651</td>\n",
       "      <td>2017-12</td>\n",
       "    </tr>\n",
       "    <tr>\n",
       "      <th>1536</th>\n",
       "      <td>95776</td>\n",
       "      <td>2.484882</td>\n",
       "      <td>40.662983</td>\n",
       "      <td>-0.086244</td>\n",
       "      <td>-0.236341</td>\n",
       "      <td>2017-12</td>\n",
       "    </tr>\n",
       "    <tr>\n",
       "      <th>1537</th>\n",
       "      <td>93662</td>\n",
       "      <td>1.618309</td>\n",
       "      <td>14.061419</td>\n",
       "      <td>-0.110235</td>\n",
       "      <td>-0.182299</td>\n",
       "      <td>2017-12</td>\n",
       "    </tr>\n",
       "    <tr>\n",
       "      <th>1538</th>\n",
       "      <td>91103</td>\n",
       "      <td>1.814057</td>\n",
       "      <td>-89.550705</td>\n",
       "      <td>-0.631576</td>\n",
       "      <td>-0.722181</td>\n",
       "      <td>2017-12</td>\n",
       "    </tr>\n",
       "  </tbody>\n",
       "</table>\n",
       "<p>1539 rows × 6 columns</p>\n",
       "</div>"
      ],
      "text/plain": [
       "     zip_code  avg_wspd  avg_wdir_0N     avg_u     avg_v      y-m\n",
       "0       95519  3.834603   -31.618201 -1.502319  0.392380  2017-12\n",
       "1       94102  3.098176   -12.994330 -0.207525 -0.305454  2017-12\n",
       "2       95134  2.068261   -16.739172 -0.410638  0.179738  2017-12\n",
       "3       93924  2.484223     8.085609 -0.109868 -0.133446  2017-12\n",
       "4       93545  1.316469    77.580772  0.943365 -0.255368  2017-12\n",
       "...       ...       ...          ...       ...       ...      ...\n",
       "1534    90006  1.964524   -47.490534 -0.286081 -0.714206  2017-12\n",
       "1535    92408  1.559641   -59.124129 -0.641338 -0.298651  2017-12\n",
       "1536    95776  2.484882    40.662983 -0.086244 -0.236341  2017-12\n",
       "1537    93662  1.618309    14.061419 -0.110235 -0.182299  2017-12\n",
       "1538    91103  1.814057   -89.550705 -0.631576 -0.722181  2017-12\n",
       "\n",
       "[1539 rows x 6 columns]"
      ]
     },
     "metadata": {},
     "output_type": "display_data"
    }
   ],
   "source": [
    "# compute zip code averages for wdir, wspd\n",
    "\n",
    "zip_avgs = (combined_df.groupBy('school_zip')\n",
    "            .avg('wspd','wdir_wrt_0N', 'school_u','school_v')\n",
    "            .withColumnRenamed(\"school_zip\",\"zip_code\")\n",
    "            .withColumnRenamed(\"avg(wspd)\",\"avg_wspd\")\n",
    "            .withColumnRenamed(\"avg(wdir_wrt_0N)\",\"avg_wdir_0N\")\n",
    "            .withColumnRenamed(\"avg(school_u)\",\"avg_u\")\n",
    "            .withColumnRenamed(\"avg(school_v)\",\"avg_v\")\n",
    "            .toPandas()\n",
    "           )\n",
    "\n",
    "zip_avgs['y-m'] = parquet_file\n",
    "\n",
    "display(zip_avgs)\n",
    "\n",
    "df_avgs_list.append(temp_df_avgs)"
   ]
  },
  {
   "cell_type": "code",
   "execution_count": 371,
   "id": "f997894c",
   "metadata": {},
   "outputs": [
    {
     "name": "stdout",
     "output_type": "stream",
     "text": [
      "+-----------------+---------------+---------------+--------+---------+-----------+-------------------+------------------+-------------+----------+----------+-----------+--------------------------+\n",
      "|school_grid_index|school_wind_lat|school_wind_lon|school_u| school_v|school_wspd|           Datetime|    school_wdir_0N|      CDSCode|school_zip|school_lat| school_lon|wind_to_school_geod_dist_m|\n",
      "+-----------------+---------------+---------------+--------+---------+-----------+-------------------+------------------+-------------+----------+----------+-----------+--------------------------+\n",
      "|               44|      42.029999|    -124.160004|0.170099| -1.91193|   1.919482|2001-01-01 00:00:00|174.91594219384388|8618206005458|     95567| 41.927578| -124.15199|               11395.56698|\n",
      "|              123|      41.779999|    -124.160004|0.610318|-2.619918|   2.690066|2001-01-01 00:00:00|166.88664073725573|8618206005391|     95531| 41.755659|-124.206615|               4725.461031|\n",
      "|              123|      41.779999|    -124.160004|0.610318|-2.619918|   2.690066|2001-01-01 00:00:00|166.88664073725573|8618200137729|     95531| 41.750856|-124.201317|               4720.066955|\n",
      "|              123|      41.779999|    -124.160004|0.610318|-2.619918|   2.690066|2001-01-01 00:00:00|166.88664073725573|8618206005383|     95531|  41.75672|-124.204886|               4540.123701|\n",
      "|              123|      41.779999|    -124.160004|0.610318|-2.619918|   2.690066|2001-01-01 00:00:00|166.88664073725573|8100820830059|     95531| 41.767263|-124.210319|               4416.069179|\n",
      "+-----------------+---------------+---------------+--------+---------+-----------+-------------------+------------------+-------------+----------+----------+-----------+--------------------------+\n",
      "\n"
     ]
    }
   ],
   "source": [
    "combined_df = (combined_df\n",
    "               .withColumnRenamed('wspd','school_wspd')\n",
    "               .withColumnRenamed('wdir_wrt_0N','school_wdir_0N') \n",
    "              )\n",
    "\n",
    "combined_df.limit(5).show()"
   ]
  },
  {
   "cell_type": "code",
   "execution_count": 375,
   "id": "38cf02c2",
   "metadata": {},
   "outputs": [
    {
     "name": "stdout",
     "output_type": "stream",
     "text": [
      "+-----------------+---------------+---------------+--------+---------+-----------+-------------------+------------------+-------------+----------+----------+-----------+--------------------------+----+\n",
      "|school_grid_index|school_wind_lat|school_wind_lon|school_u| school_v|school_wspd|           Datetime|    school_wdir_0N|      CDSCode|school_zip|school_lat| school_lon|wind_to_school_geod_dist_m|year|\n",
      "+-----------------+---------------+---------------+--------+---------+-----------+-------------------+------------------+-------------+----------+----------+-----------+--------------------------+----+\n",
      "|               44|      42.029999|    -124.160004|0.170099| -1.91193|   1.919482|2001-01-01 00:00:00|174.91594219384388|8618206005458|     95567| 41.927578| -124.15199|               11395.56698|2001|\n",
      "|              123|      41.779999|    -124.160004|0.610318|-2.619918|   2.690066|2001-01-01 00:00:00|166.88664073725573|8618206005391|     95531| 41.755659|-124.206615|               4725.461031|2001|\n",
      "|              123|      41.779999|    -124.160004|0.610318|-2.619918|   2.690066|2001-01-01 00:00:00|166.88664073725573|8618200137729|     95531| 41.750856|-124.201317|               4720.066955|2001|\n",
      "|              123|      41.779999|    -124.160004|0.610318|-2.619918|   2.690066|2001-01-01 00:00:00|166.88664073725573|8618206005383|     95531|  41.75672|-124.204886|               4540.123701|2001|\n",
      "|              123|      41.779999|    -124.160004|0.610318|-2.619918|   2.690066|2001-01-01 00:00:00|166.88664073725573|8100820830059|     95531| 41.767263|-124.210319|               4416.069179|2001|\n",
      "+-----------------+---------------+---------------+--------+---------+-----------+-------------------+------------------+-------------+----------+----------+-----------+--------------------------+----+\n",
      "\n"
     ]
    }
   ],
   "source": [
    "# need to lookup by CDSCode and year, so substring for year\n",
    "\n",
    "combined_df = combined_df.withColumn(\"year\", substring(col('Datetime'),1,4))\n",
    "\n",
    "combined_df.limit(5).show()"
   ]
  },
  {
   "cell_type": "code",
   "execution_count": 376,
   "id": "3ad847c7",
   "metadata": {},
   "outputs": [
    {
     "data": {
      "text/plain": [
       "9892968"
      ]
     },
     "execution_count": 376,
     "metadata": {},
     "output_type": "execute_result"
    }
   ],
   "source": [
    "# join in ps <-> year lookup\n",
    "\n",
    "combined_df = combined_df.join(ps_year_lookup, ['year'], how='left').drop('year')\n",
    "\n",
    "combined_df.count()"
   ]
  },
  {
   "cell_type": "code",
   "execution_count": 377,
   "id": "ecaba2fb",
   "metadata": {},
   "outputs": [
    {
     "name": "stdout",
     "output_type": "stream",
     "text": [
      "+-----------------+---------------+---------------+--------+---------+-----------+-------------------+------------------+-------------+----------+----------+-----------+--------------------------+-------+\n",
      "|school_grid_index|school_wind_lat|school_wind_lon|school_u| school_v|school_wspd|           Datetime|    school_wdir_0N|      CDSCode|school_zip|school_lat| school_lon|wind_to_school_geod_dist_m|ps_year|\n",
      "+-----------------+---------------+---------------+--------+---------+-----------+-------------------+------------------+-------------+----------+----------+-----------+--------------------------+-------+\n",
      "|               44|      42.029999|    -124.160004|0.170099| -1.91193|   1.919482|2001-01-01 00:00:00|174.91594219384388|8618206005458|     95567| 41.927578| -124.15199|               11395.56698|   2002|\n",
      "|              123|      41.779999|    -124.160004|0.610318|-2.619918|   2.690066|2001-01-01 00:00:00|166.88664073725573|8618206005391|     95531| 41.755659|-124.206615|               4725.461031|   2002|\n",
      "|              123|      41.779999|    -124.160004|0.610318|-2.619918|   2.690066|2001-01-01 00:00:00|166.88664073725573|8618200137729|     95531| 41.750856|-124.201317|               4720.066955|   2002|\n",
      "|              123|      41.779999|    -124.160004|0.610318|-2.619918|   2.690066|2001-01-01 00:00:00|166.88664073725573|8618206005383|     95531|  41.75672|-124.204886|               4540.123701|   2002|\n",
      "|              123|      41.779999|    -124.160004|0.610318|-2.619918|   2.690066|2001-01-01 00:00:00|166.88664073725573|8100820830059|     95531| 41.767263|-124.210319|               4416.069179|   2002|\n",
      "+-----------------+---------------+---------------+--------+---------+-----------+-------------------+------------------+-------------+----------+----------+-----------+--------------------------+-------+\n",
      "\n"
     ]
    }
   ],
   "source": [
    "combined_df.limit(5).show()"
   ]
  },
  {
   "cell_type": "code",
   "execution_count": 378,
   "id": "d40f23ef",
   "metadata": {},
   "outputs": [],
   "source": [
    "combined_df = combined_df.join(school_to_ps_lookup, ['CDSCode','ps_year'], how='left')"
   ]
  },
  {
   "cell_type": "code",
   "execution_count": 379,
   "id": "783e71ff",
   "metadata": {},
   "outputs": [
    {
     "name": "stdout",
     "output_type": "stream",
     "text": [
      "+-------------+-------+-----------------+---------------+---------------+--------+--------+-----------+-------------------+------------------+----------+----------+----------+--------------------------+--------+---------+-----------+-----------+------+-----------+---------------+----------------+\n",
      "|      CDSCode|ps_year|school_grid_index|school_wind_lat|school_wind_lon|school_u|school_v|school_wspd|           Datetime|    school_wdir_0N|school_zip|school_lat|school_lon|wind_to_school_geod_dist_m|ps_index|   ps_lat|     ps_lon|ps_pm25_tpy|ps_zip|geod_dist_m|angle_to_school|ps_distance_rank|\n",
      "+-------------+-------+-----------------+---------------+---------------+--------+--------+-----------+-------------------+------------------+----------+----------+----------+--------------------------+--------+---------+-----------+-----------+------+-----------+---------------+----------------+\n",
      "|8618206005458|   2002|               44|      42.029999|    -124.160004|0.170099|-1.91193|   1.919482|2001-01-01 00:00:00|174.91594219384388|     95567| 41.927578|-124.15199|               11395.56698|     133|41.754517|-124.174309|   2.440692| 95531|19311.09883|    5.501065246|               1|\n",
      "|8618206005458|   2002|               44|      42.029999|    -124.160004|0.170099|-1.91193|   1.919482|2001-01-01 00:00:00|174.91594219384388|     95567| 41.927578|-124.15199|               11395.56698|     632|41.752659|-124.173866|10.47481863| 95531|19513.06316|    5.335584052|               2|\n",
      "|8618206005458|   2002|               44|      42.029999|    -124.160004|0.170099|-1.91193|   1.919482|2001-01-01 00:00:00|174.91594219384388|     95567| 41.927578|-124.15199|               11395.56698|     801|41.749962| -124.17382|34.03770984| 95531| 19810.9864|    5.244037529|               3|\n",
      "|8618206005458|   2002|               44|      42.029999|    -124.160004|0.170099|-1.91193|   1.919482|2001-01-01 00:00:00|174.91594219384388|     95567| 41.927578|-124.15199|               11395.56698|     102|41.797836|-123.369476|      2.264| 96039| 66549.7231|   -77.23337834|               4|\n",
      "|8618206005458|   2002|               44|      42.029999|    -124.160004|0.170099|-1.91193|   1.919482|2001-01-01 00:00:00|174.91594219384388|     95567| 41.927578|-124.15199|               11395.56698|     716|41.797699|-123.368301| 16.0176986| 96039|66648.32896|   -77.23838978|               5|\n",
      "+-------------+-------+-----------------+---------------+---------------+--------+--------+-----------+-------------------+------------------+----------+----------+----------+--------------------------+--------+---------+-----------+-----------+------+-----------+---------------+----------------+\n",
      "\n"
     ]
    }
   ],
   "source": [
    "combined_df.limit(5).show()"
   ]
  },
  {
   "cell_type": "code",
   "execution_count": 380,
   "id": "4c668bbe",
   "metadata": {},
   "outputs": [
    {
     "data": {
      "text/plain": [
       "49464840"
      ]
     },
     "execution_count": 380,
     "metadata": {},
     "output_type": "execute_result"
    }
   ],
   "source": [
    "combined_df.count()"
   ]
  },
  {
   "cell_type": "code",
   "execution_count": 381,
   "id": "a435e4e7",
   "metadata": {},
   "outputs": [
    {
     "data": {
      "text/plain": [
       "49464840"
      ]
     },
     "execution_count": 381,
     "metadata": {},
     "output_type": "execute_result"
    }
   ],
   "source": [
    "combined_df = combined_df.join(ps_lookup, ['ps_index'], how='left')\n",
    "\n",
    "# length should not have changed\n",
    "\n",
    "combined_df.count()"
   ]
  },
  {
   "cell_type": "code",
   "execution_count": 399,
   "id": "999aabbc",
   "metadata": {},
   "outputs": [],
   "source": [
    "combined_df = combined_df.withColumnRenamed('geod_dist_m', 'school_to_ps_geod_dist_m')"
   ]
  },
  {
   "cell_type": "code",
   "execution_count": 382,
   "id": "9fb104b4",
   "metadata": {},
   "outputs": [
    {
     "name": "stdout",
     "output_type": "stream",
     "text": [
      "+--------+-------------+-------+-----------------+---------------+---------------+--------+--------+-----------+-------------------+------------------+----------+----------+----------+--------------------------+---------+-----------+-----------+------+-----------+---------------+----------------+-------------+----------------------+\n",
      "|ps_index|      CDSCode|ps_year|school_grid_index|school_wind_lat|school_wind_lon|school_u|school_v|school_wspd|           Datetime|    school_wdir_0N|school_zip|school_lat|school_lon|wind_to_school_geod_dist_m|   ps_lat|     ps_lon|ps_pm25_tpy|ps_zip|geod_dist_m|angle_to_school|ps_distance_rank|ps_grid_index|wind_to_ps_geod_dist_m|\n",
      "+--------+-------------+-------+-----------------+---------------+---------------+--------+--------+-----------+-------------------+------------------+----------+----------+----------+--------------------------+---------+-----------+-----------+------+-----------+---------------+----------------+-------------+----------------------+\n",
      "|     133|8618206005458|   2002|               44|      42.029999|    -124.160004|0.170099|-1.91193|   1.919482|2001-01-01 00:00:00|174.91594219384388|     95567| 41.927578|-124.15199|               11395.56698|41.754517|-124.174309|   2.440692| 95531|19311.09883|    5.501065246|               1|          123|           3070.052704|\n",
      "|     632|8618206005458|   2002|               44|      42.029999|    -124.160004|0.170099|-1.91193|   1.919482|2001-01-01 00:00:00|174.91594219384388|     95567| 41.927578|-124.15199|               11395.56698|41.752659|-124.173866|10.47481863| 95531|19513.06316|    5.335584052|               2|          123|           3248.030953|\n",
      "|     801|8618206005458|   2002|               44|      42.029999|    -124.160004|0.170099|-1.91193|   1.919482|2001-01-01 00:00:00|174.91594219384388|     95567| 41.927578|-124.15199|               11395.56698|41.749962| -124.17382|34.03770984| 95531| 19810.9864|    5.244037529|               3|          123|           3528.446796|\n",
      "|     102|8618206005458|   2002|               44|      42.029999|    -124.160004|0.170099|-1.91193|   1.919482|2001-01-01 00:00:00|174.91594219384388|     95567| 41.927578|-124.15199|               11395.56698|41.797836|-123.369476|      2.264| 96039| 66549.7231|   -77.23337834|               4|          237|           3908.205206|\n",
      "|     716|8618206005458|   2002|               44|      42.029999|    -124.160004|0.170099|-1.91193|   1.919482|2001-01-01 00:00:00|174.91594219384388|     95567| 41.927578|-124.15199|               11395.56698|41.797699|-123.368301| 16.0176986| 96039|66648.32896|   -77.23838978|               5|          237|           3985.178589|\n",
      "+--------+-------------+-------+-----------------+---------------+---------------+--------+--------+-----------+-------------------+------------------+----------+----------+----------+--------------------------+---------+-----------+-----------+------+-----------+---------------+----------------+-------------+----------------------+\n",
      "\n"
     ]
    }
   ],
   "source": [
    "combined_df.limit(5).show()"
   ]
  },
  {
   "cell_type": "code",
   "execution_count": 383,
   "id": "4aa1700f",
   "metadata": {},
   "outputs": [],
   "source": [
    "combined_df = combined_df.withColumnRenamed(\"ps_grid_index\",\"grid_index\")"
   ]
  },
  {
   "cell_type": "code",
   "execution_count": 384,
   "id": "1d58ec4b",
   "metadata": {},
   "outputs": [],
   "source": [
    "# join in saved-off wind measurements\n",
    "\n",
    "combined_df = combined_df.join(wind_temp_df, ['grid_index',\"Datetime\"], how='left')"
   ]
  },
  {
   "cell_type": "code",
   "execution_count": 385,
   "id": "26997480",
   "metadata": {},
   "outputs": [],
   "source": [
    "combined_df = (combined_df\n",
    "                .withColumnRenamed('u','ps_u')\n",
    "                .withColumnRenamed('v','ps_v')\n",
    "                .withColumnRenamed('wspd','ps_wspd')\n",
    "                .withColumnRenamed('wdir_wrt_0N','ps_wdir_0N')\n",
    "               )"
   ]
  },
  {
   "cell_type": "code",
   "execution_count": 386,
   "id": "27f128cd",
   "metadata": {},
   "outputs": [
    {
     "data": {
      "text/plain": [
       "49464840"
      ]
     },
     "execution_count": 386,
     "metadata": {},
     "output_type": "execute_result"
    }
   ],
   "source": [
    "combined_df.count()"
   ]
  },
  {
   "cell_type": "code",
   "execution_count": 387,
   "id": "f4037584",
   "metadata": {},
   "outputs": [
    {
     "name": "stdout",
     "output_type": "stream",
     "text": [
      "+----------+-------------------+--------+-------------+-------+-----------------+---------------+---------------+--------+---------+-----------+------------------+----------+----------+-----------+--------------------------+---------+-----------+-----------+------+-----------+---------------+----------------+----------------------+--------+---------+--------+------------------+\n",
      "|grid_index|           Datetime|ps_index|      CDSCode|ps_year|school_grid_index|school_wind_lat|school_wind_lon|school_u| school_v|school_wspd|    school_wdir_0N|school_zip|school_lat| school_lon|wind_to_school_geod_dist_m|   ps_lat|     ps_lon|ps_pm25_tpy|ps_zip|geod_dist_m|angle_to_school|ps_distance_rank|wind_to_ps_geod_dist_m|    ps_u|     ps_v| ps_wspd|        ps_wdir_0N|\n",
      "+----------+-------------------+--------+-------------+-------+-----------------+---------------+---------------+--------+---------+-----------+------------------+----------+----------+-----------+--------------------------+---------+-----------+-----------+------+-----------+---------------+----------------+----------------------+--------+---------+--------+------------------+\n",
      "|       123|2001-01-01 00:00:00|     133|8618206005458|   2002|               44|      42.029999|    -124.160004|0.170099| -1.91193|   1.919482|174.91594219384388|     95567| 41.927578| -124.15199|               11395.56698|41.754517|-124.174309|   2.440692| 95531|19311.09883|    5.501065246|               1|           3070.052704|0.610318|-2.619918|2.690066|166.88664073725573|\n",
      "|       123|2001-01-01 00:00:00|     632|8618206005458|   2002|               44|      42.029999|    -124.160004|0.170099| -1.91193|   1.919482|174.91594219384388|     95567| 41.927578| -124.15199|               11395.56698|41.752659|-124.173866|10.47481863| 95531|19513.06316|    5.335584052|               2|           3248.030953|0.610318|-2.619918|2.690066|166.88664073725573|\n",
      "|       123|2001-01-01 00:00:00|     801|8618206005458|   2002|               44|      42.029999|    -124.160004|0.170099| -1.91193|   1.919482|174.91594219384388|     95567| 41.927578| -124.15199|               11395.56698|41.749962| -124.17382|34.03770984| 95531| 19810.9864|    5.244037529|               3|           3528.446796|0.610318|-2.619918|2.690066|166.88664073725573|\n",
      "|       123|2001-01-01 00:00:00|     133|8618206005391|   2002|              123|      41.779999|    -124.160004|0.610318|-2.619918|   2.690066|166.88664073725573|     95531| 41.755659|-124.206615|               4725.461031|41.754517|-124.174309|   2.440692| 95531|2689.807769|    -87.2864076|               1|           3070.052704|0.610318|-2.619918|2.690066|166.88664073725573|\n",
      "|       123|2001-01-01 00:00:00|     632|8618206005391|   2002|              123|      41.779999|    -124.160004|0.610318|-2.619918|   2.690066|166.88664073725573|     95531| 41.755659|-124.206615|               4725.461031|41.752659|-124.173866|10.47481863| 95531|2744.003811|   -83.01443247|               2|           3248.030953|0.610318|-2.619918|2.690066|166.88664073725573|\n",
      "+----------+-------------------+--------+-------------+-------+-----------------+---------------+---------------+--------+---------+-----------+------------------+----------+----------+-----------+--------------------------+---------+-----------+-----------+------+-----------+---------------+----------------+----------------------+--------+---------+--------+------------------+\n",
      "\n"
     ]
    }
   ],
   "source": [
    "combined_df.limit(5).show()"
   ]
  },
  {
   "cell_type": "code",
   "execution_count": 388,
   "id": "a469623d",
   "metadata": {},
   "outputs": [
    {
     "name": "stdout",
     "output_type": "stream",
     "text": [
      "root\n",
      " |-- grid_index: string (nullable = true)\n",
      " |-- Datetime: string (nullable = true)\n",
      " |-- ps_index: string (nullable = true)\n",
      " |-- CDSCode: string (nullable = true)\n",
      " |-- ps_year: string (nullable = true)\n",
      " |-- school_grid_index: string (nullable = true)\n",
      " |-- school_wind_lat: double (nullable = true)\n",
      " |-- school_wind_lon: double (nullable = true)\n",
      " |-- school_u: double (nullable = true)\n",
      " |-- school_v: double (nullable = true)\n",
      " |-- school_wspd: double (nullable = true)\n",
      " |-- school_wdir_0N: double (nullable = true)\n",
      " |-- school_zip: string (nullable = true)\n",
      " |-- school_lat: string (nullable = true)\n",
      " |-- school_lon: string (nullable = true)\n",
      " |-- wind_to_school_geod_dist_m: string (nullable = true)\n",
      " |-- ps_lat: string (nullable = true)\n",
      " |-- ps_lon: string (nullable = true)\n",
      " |-- ps_pm25_tpy: string (nullable = true)\n",
      " |-- ps_zip: string (nullable = true)\n",
      " |-- geod_dist_m: string (nullable = true)\n",
      " |-- angle_to_school: string (nullable = true)\n",
      " |-- ps_distance_rank: string (nullable = true)\n",
      " |-- wind_to_ps_geod_dist_m: string (nullable = true)\n",
      " |-- ps_u: double (nullable = true)\n",
      " |-- ps_v: double (nullable = true)\n",
      " |-- ps_wspd: double (nullable = true)\n",
      " |-- ps_wdir_0N: double (nullable = true)\n",
      "\n"
     ]
    }
   ],
   "source": [
    "combined_df.printSchema()"
   ]
  },
  {
   "cell_type": "code",
   "execution_count": 389,
   "id": "7192ed90",
   "metadata": {},
   "outputs": [],
   "source": [
    "combined_df = combined_df.withColumn(\"angle_to_school\",col(\"angle_to_school\").cast(\"double\"))"
   ]
  },
  {
   "cell_type": "code",
   "execution_count": 390,
   "id": "fb78303b",
   "metadata": {},
   "outputs": [
    {
     "name": "stdout",
     "output_type": "stream",
     "text": [
      "root\n",
      " |-- grid_index: string (nullable = true)\n",
      " |-- Datetime: string (nullable = true)\n",
      " |-- ps_index: string (nullable = true)\n",
      " |-- CDSCode: string (nullable = true)\n",
      " |-- ps_year: string (nullable = true)\n",
      " |-- school_grid_index: string (nullable = true)\n",
      " |-- school_wind_lat: double (nullable = true)\n",
      " |-- school_wind_lon: double (nullable = true)\n",
      " |-- school_u: double (nullable = true)\n",
      " |-- school_v: double (nullable = true)\n",
      " |-- school_wspd: double (nullable = true)\n",
      " |-- school_wdir_0N: double (nullable = true)\n",
      " |-- school_zip: string (nullable = true)\n",
      " |-- school_lat: string (nullable = true)\n",
      " |-- school_lon: string (nullable = true)\n",
      " |-- wind_to_school_geod_dist_m: string (nullable = true)\n",
      " |-- ps_lat: string (nullable = true)\n",
      " |-- ps_lon: string (nullable = true)\n",
      " |-- ps_pm25_tpy: string (nullable = true)\n",
      " |-- ps_zip: string (nullable = true)\n",
      " |-- geod_dist_m: string (nullable = true)\n",
      " |-- angle_to_school: double (nullable = true)\n",
      " |-- ps_distance_rank: string (nullable = true)\n",
      " |-- wind_to_ps_geod_dist_m: string (nullable = true)\n",
      " |-- ps_u: double (nullable = true)\n",
      " |-- ps_v: double (nullable = true)\n",
      " |-- ps_wspd: double (nullable = true)\n",
      " |-- ps_wdir_0N: double (nullable = true)\n",
      "\n"
     ]
    }
   ],
   "source": [
    "combined_df.printSchema()"
   ]
  },
  {
   "cell_type": "code",
   "execution_count": 391,
   "id": "ac63fee3",
   "metadata": {},
   "outputs": [
    {
     "name": "stdout",
     "output_type": "stream",
     "text": [
      "+----------+--------+--------+-------+-------+-----------------+---------------+---------------+--------+--------+-----------+--------------+----------+----------+----------+--------------------------+------+------+-----------+------+-----------+---------------+----------------+----------------------+----+----+-------+----------+\n",
      "|grid_index|Datetime|ps_index|CDSCode|ps_year|school_grid_index|school_wind_lat|school_wind_lon|school_u|school_v|school_wspd|school_wdir_0N|school_zip|school_lat|school_lon|wind_to_school_geod_dist_m|ps_lat|ps_lon|ps_pm25_tpy|ps_zip|geod_dist_m|angle_to_school|ps_distance_rank|wind_to_ps_geod_dist_m|ps_u|ps_v|ps_wspd|ps_wdir_0N|\n",
      "+----------+--------+--------+-------+-------+-----------------+---------------+---------------+--------+--------+-----------+--------------+----------+----------+----------+--------------------------+------+------+-----------+------+-----------+---------------+----------------+----------------------+----+----+-------+----------+\n",
      "|         0|       0|       0|      0|      0|                0|              0|              0|       0|       0|          0|             0|         0|         0|         0|                         0|     0|     0|          0|     0|          0|              0|               0|                     0|   0|   0|      0|         0|\n",
      "+----------+--------+--------+-------+-------+-----------------+---------------+---------------+--------+--------+-----------+--------------+----------+----------+----------+--------------------------+------+------+-----------+------+-----------+---------------+----------------+----------------------+----+----+-------+----------+\n",
      "\n"
     ]
    }
   ],
   "source": [
    "# spot check for nulls\n",
    "\n",
    "combined_df.select([count(when(isnan(c) | col(c).isNull(), c)).alias(c) for c in combined_df.columns]).show()"
   ]
  },
  {
   "cell_type": "code",
   "execution_count": 392,
   "id": "5deef728",
   "metadata": {},
   "outputs": [],
   "source": [
    "# first angle is wind angle, second angle is heading to school (both wrt 0N)\n",
    "\n",
    "def calculateDifferenceBetweenAngles(firstAngle, secondAngle):\n",
    "    difference = secondAngle - firstAngle\n",
    "    if (difference <= -180): \n",
    "        difference += 360\n",
    "        return difference\n",
    "    elif (difference >= 180): \n",
    "        difference -= 360\n",
    "        return difference\n",
    "    return difference\n",
    "\n",
    "udf_calculateDifferenceBetweenAngles = F.udf(calculateDifferenceBetweenAngles)"
   ]
  },
  {
   "cell_type": "code",
   "execution_count": 393,
   "id": "04b5ef22",
   "metadata": {},
   "outputs": [],
   "source": [
    "combined_df = (combined_df\n",
    "               .withColumn(\"school_wind_alignment\",\n",
    "                           udf_calculateDifferenceBetweenAngles(\n",
    "                           col('school_wdir_0N'), col('angle_to_school')).cast('double'))\n",
    "               .withColumn(\"ps_wind_alignment\",\n",
    "                           udf_calculateDifferenceBetweenAngles(\n",
    "                           col('ps_wdir_0N'), col('angle_to_school')).cast('double'))\n",
    "              )"
   ]
  },
  {
   "cell_type": "code",
   "execution_count": 394,
   "id": "8d8b71d2",
   "metadata": {},
   "outputs": [
    {
     "name": "stdout",
     "output_type": "stream",
     "text": [
      "+----------+-------------------+--------+--------------+-------+-----------------+---------------+---------------+---------+---------+-----------+------------------+----------+----------+-----------+--------------------------+---------+-----------+-----------+------+-----------+---------------+----------------+----------------------+--------+---------+--------+-----------------+---------------------+-------------------+\n",
      "|grid_index|           Datetime|ps_index|       CDSCode|ps_year|school_grid_index|school_wind_lat|school_wind_lon| school_u| school_v|school_wspd|    school_wdir_0N|school_zip|school_lat| school_lon|wind_to_school_geod_dist_m|   ps_lat|     ps_lon|ps_pm25_tpy|ps_zip|geod_dist_m|angle_to_school|ps_distance_rank|wind_to_ps_geod_dist_m|    ps_u|     ps_v| ps_wspd|       ps_wdir_0N|school_wind_alignment|  ps_wind_alignment|\n",
      "+----------+-------------------+--------+--------------+-------+-----------------+---------------+---------------+---------+---------+-----------+------------------+----------+----------+-----------+--------------------------+---------+-----------+-----------+------+-----------+---------------+----------------+----------------------+--------+---------+--------+-----------------+---------------------+-------------------+\n",
      "|      1014|2001-01-06 03:00:00|     744|14766870118299|   2002|             1015|      37.279999|    -118.410004| 0.466018| 0.059035|   0.469743| 82.78024668610641|     93514| 37.364884|-118.405224|               9430.372811|37.411781|-118.406715|    19.5212| 93514|5206.535003|    178.5463629|               1|            13123.8261|0.041484|-0.066363|0.078262|147.9901934500967|    95.76611621389358|  30.55616944990328|\n",
      "|      1014|2001-01-06 03:00:00|     744|14766871430057|   2002|             1016|      37.029999|    -118.410004| 0.024231|-0.105362|   0.108112|167.04840273149708|     93513| 37.151913|-118.328269|               15357.86301|37.411781|-118.406715|    19.5212| 93514|29668.07071|    166.4148938|               2|            13123.8261|0.041484|-0.066363|0.078262|147.9901934500967|  -0.6335089314970901| 18.424700349903276|\n",
      "|      1014|2001-01-06 03:00:00|     744|26102640129478|   2002|              938|      37.529999|    -118.910004| -0.73282| 0.228232|   0.767538|-72.70114126229504|     93546| 37.641536| -118.95866|               13104.06825|37.411781|-118.406715|    19.5212| 93514|55050.53435|   -62.23775173|               3|            13123.8261|0.041484|-0.066363|0.078262|147.9901934500967|    10.46338953229504|  149.7720548199033|\n",
      "|      1014|2001-01-06 03:00:00|     744|26736926025969|   2002|              938|      37.529999|    -118.910004| -0.73282| 0.228232|   0.767538|-72.70114126229504|     93546| 37.641904|-118.960293|               13190.52363|37.411781|-118.406715|    19.5212| 93514|55197.28241|   -62.26902737|               3|            13123.8261|0.041484|-0.066363|0.078262|147.9901934500967|   10.432113892295035| 149.74077917990329|\n",
      "|      1014|2001-01-06 03:00:00|     744|26736682630069|   2002|             1013|      37.779999|    -118.410004|-0.206335| 0.009236|   0.206541|-87.43702808216094|     93512| 37.818597| -118.47712|               7300.226614|37.411781|-118.406715|    19.5212| 93514|45578.04643|   -7.817061819|               1|            13123.8261|0.041484|-0.066363|0.078262|147.9901934500967|    79.61996626316093|-155.80725526909671|\n",
      "+----------+-------------------+--------+--------------+-------+-----------------+---------------+---------------+---------+---------+-----------+------------------+----------+----------+-----------+--------------------------+---------+-----------+-----------+------+-----------+---------------+----------------+----------------------+--------+---------+--------+-----------------+---------------------+-------------------+\n",
      "\n"
     ]
    }
   ],
   "source": [
    "combined_df.limit(5).show()"
   ]
  },
  {
   "cell_type": "code",
   "execution_count": 395,
   "id": "62b327a4",
   "metadata": {},
   "outputs": [
    {
     "name": "stdout",
     "output_type": "stream",
     "text": [
      "+----------+--------+--------+-------+-------+-----------------+---------------+---------------+--------+--------+-----------+--------------+----------+----------+----------+--------------------------+------+------+-----------+------+-----------+---------------+----------------+----------------------+----+----+-------+----------+---------------------+-----------------+\n",
      "|grid_index|Datetime|ps_index|CDSCode|ps_year|school_grid_index|school_wind_lat|school_wind_lon|school_u|school_v|school_wspd|school_wdir_0N|school_zip|school_lat|school_lon|wind_to_school_geod_dist_m|ps_lat|ps_lon|ps_pm25_tpy|ps_zip|geod_dist_m|angle_to_school|ps_distance_rank|wind_to_ps_geod_dist_m|ps_u|ps_v|ps_wspd|ps_wdir_0N|school_wind_alignment|ps_wind_alignment|\n",
      "+----------+--------+--------+-------+-------+-----------------+---------------+---------------+--------+--------+-----------+--------------+----------+----------+----------+--------------------------+------+------+-----------+------+-----------+---------------+----------------+----------------------+----+----+-------+----------+---------------------+-----------------+\n",
      "|         0|       0|       0|      0|      0|                0|              0|              0|       0|       0|          0|             0|         0|         0|         0|                         0|     0|     0|          0|     0|          0|              0|               0|                     0|   0|   0|      0|         0|                    0|                0|\n",
      "+----------+--------+--------+-------+-------+-----------------+---------------+---------------+--------+--------+-----------+--------------+----------+----------+----------+--------------------------+------+------+-----------+------+-----------+---------------+----------------+----------------------+----+----+-------+----------+---------------------+-----------------+\n",
      "\n"
     ]
    }
   ],
   "source": [
    "# spot check for nulls\n",
    "\n",
    "combined_df.select([count(when(isnan(c) | col(c).isNull(), c)).alias(c) for c in combined_df.columns]).show()"
   ]
  },
  {
   "cell_type": "code",
   "execution_count": 396,
   "id": "0f40c312",
   "metadata": {},
   "outputs": [],
   "source": [
    "combined_df = combined_df.withColumn(\"central_wind_alignment_180_high\", \n",
    "                                     (180 - abs(((col('school_wind_alignment') + col('ps_wind_alignment'))/2))).cast('double'))"
   ]
  },
  {
   "cell_type": "code",
   "execution_count": 397,
   "id": "bcd6872c",
   "metadata": {},
   "outputs": [
    {
     "name": "stdout",
     "output_type": "stream",
     "text": [
      "+----------+-------------------+--------+--------------+-------+-----------------+---------------+---------------+---------+---------+-----------+------------------+----------+----------+-----------+--------------------------+---------+-----------+-----------+------+-----------+---------------+----------------+----------------------+--------+---------+--------+-----------------+---------------------+-------------------+-------------------------------+\n",
      "|grid_index|           Datetime|ps_index|       CDSCode|ps_year|school_grid_index|school_wind_lat|school_wind_lon| school_u| school_v|school_wspd|    school_wdir_0N|school_zip|school_lat| school_lon|wind_to_school_geod_dist_m|   ps_lat|     ps_lon|ps_pm25_tpy|ps_zip|geod_dist_m|angle_to_school|ps_distance_rank|wind_to_ps_geod_dist_m|    ps_u|     ps_v| ps_wspd|       ps_wdir_0N|school_wind_alignment|  ps_wind_alignment|central_wind_alignment_180_high|\n",
      "+----------+-------------------+--------+--------------+-------+-----------------+---------------+---------------+---------+---------+-----------+------------------+----------+----------+-----------+--------------------------+---------+-----------+-----------+------+-----------+---------------+----------------+----------------------+--------+---------+--------+-----------------+---------------------+-------------------+-------------------------------+\n",
      "|      1014|2001-01-06 03:00:00|     744|14766870118299|   2002|             1015|      37.279999|    -118.410004| 0.466018| 0.059035|   0.469743| 82.78024668610641|     93514| 37.364884|-118.405224|               9430.372811|37.411781|-118.406715|    19.5212| 93514|5206.535003|    178.5463629|               1|            13123.8261|0.041484|-0.066363|0.078262|147.9901934500967|    95.76611621389358|  30.55616944990328|             116.83885716810157|\n",
      "|      1014|2001-01-06 03:00:00|     744|14766871430057|   2002|             1016|      37.029999|    -118.410004| 0.024231|-0.105362|   0.108112|167.04840273149708|     93513| 37.151913|-118.328269|               15357.86301|37.411781|-118.406715|    19.5212| 93514|29668.07071|    166.4148938|               2|            13123.8261|0.041484|-0.066363|0.078262|147.9901934500967|  -0.6335089314970901| 18.424700349903276|              171.1044042907969|\n",
      "|      1014|2001-01-06 03:00:00|     744|26102640129478|   2002|              938|      37.529999|    -118.910004| -0.73282| 0.228232|   0.767538|-72.70114126229504|     93546| 37.641536| -118.95866|               13104.06825|37.411781|-118.406715|    19.5212| 93514|55050.53435|   -62.23775173|               3|            13123.8261|0.041484|-0.066363|0.078262|147.9901934500967|    10.46338953229504|  149.7720548199033|              99.88227782390084|\n",
      "|      1014|2001-01-06 03:00:00|     744|26736926025969|   2002|              938|      37.529999|    -118.910004| -0.73282| 0.228232|   0.767538|-72.70114126229504|     93546| 37.641904|-118.960293|               13190.52363|37.411781|-118.406715|    19.5212| 93514|55197.28241|   -62.26902737|               3|            13123.8261|0.041484|-0.066363|0.078262|147.9901934500967|   10.432113892295035| 149.74077917990329|              99.91355346390084|\n",
      "|      1014|2001-01-06 03:00:00|     744|26736682630069|   2002|             1013|      37.779999|    -118.410004|-0.206335| 0.009236|   0.206541|-87.43702808216094|     93512| 37.818597| -118.47712|               7300.226614|37.411781|-118.406715|    19.5212| 93514|45578.04643|   -7.817061819|               1|            13123.8261|0.041484|-0.066363|0.078262|147.9901934500967|    79.61996626316093|-155.80725526909671|              141.9063554970321|\n",
      "+----------+-------------------+--------+--------------+-------+-----------------+---------------+---------------+---------+---------+-----------+------------------+----------+----------+-----------+--------------------------+---------+-----------+-----------+------+-----------+---------------+----------------+----------------------+--------+---------+--------+-----------------+---------------------+-------------------+-------------------------------+\n",
      "\n"
     ]
    }
   ],
   "source": [
    "combined_df.limit(5).show()"
   ]
  },
  {
   "cell_type": "code",
   "execution_count": 400,
   "id": "6a534ed2",
   "metadata": {},
   "outputs": [],
   "source": [
    "# compute normed TPY and dist using scalars from above\n",
    "\n",
    "combined_df = (combined_df\n",
    "               .withColumn('ps_pm25_tpy_normed', \n",
    "                           ((((col('ps_pm25_tpy') - ps_TPY_mean) / ps_TPY_sd) - ps_TPY_min) / (ps_TPY_max - ps_TPY_min)).cast('double'))\n",
    "               .withColumn('school_to_ps_geod_dist_m_normed',((((col('school_to_ps_geod_dist_m') - ps_dist_mean) / ps_dist_sd) - ps_dist_min) / (ps_dist_max - ps_dist_min)).cast('double'))\n",
    "              )"
   ]
  },
  {
   "cell_type": "code",
   "execution_count": 407,
   "id": "c4d56921",
   "metadata": {},
   "outputs": [],
   "source": [
    "# compute normed wspd and wind alignment for Instrument v5\n",
    "\n",
    "combined_df = (combined_df\n",
    "               .withColumn('avg_wspd',((col('school_wspd') + col('ps_wspd'))/2).cast('double'))\n",
    "              )\n",
    "\n",
    "combined_df = (combined_df\n",
    "               .withColumn('central_wind_alignment_180_high_normed',\n",
    "                           (col('central_wind_alignment_180_high')/180).cast('double'))\n",
    "               .withColumn('avg_wspd_normed',\n",
    "                           ((col('avg_wspd') - min_wspd) / (max_wspd - min_wspd)).cast('double'))\n",
    "              )"
   ]
  },
  {
   "cell_type": "code",
   "execution_count": 409,
   "id": "3bbd362e",
   "metadata": {},
   "outputs": [
    {
     "name": "stdout",
     "output_type": "stream",
     "text": [
      "+----------+-------------------+--------+--------------+-------+-----------------+---------------+---------------+---------+---------+-----------+-------------------+----------+----------+-----------+--------------------------+---------+-----------+-----------+------+------------------------+---------------+----------------+----------------------+--------+---------+--------+-----------------+---------------------+-------------------+-------------------------------+--------------------+-------------------------------+--------------------------------------+--------------------+-------------------+\n",
      "|grid_index|           Datetime|ps_index|       CDSCode|ps_year|school_grid_index|school_wind_lat|school_wind_lon| school_u| school_v|school_wspd|     school_wdir_0N|school_zip|school_lat| school_lon|wind_to_school_geod_dist_m|   ps_lat|     ps_lon|ps_pm25_tpy|ps_zip|school_to_ps_geod_dist_m|angle_to_school|ps_distance_rank|wind_to_ps_geod_dist_m|    ps_u|     ps_v| ps_wspd|       ps_wdir_0N|school_wind_alignment|  ps_wind_alignment|central_wind_alignment_180_high|  ps_pm25_tpy_normed|school_to_ps_geod_dist_m_normed|central_wind_alignment_180_high_normed|     avg_wspd_normed|           avg_wspd|\n",
      "+----------+-------------------+--------+--------------+-------+-----------------+---------------+---------------+---------+---------+-----------+-------------------+----------+----------+-----------+--------------------------+---------+-----------+-----------+------+------------------------+---------------+----------------+----------------------+--------+---------+--------+-----------------+---------------------+-------------------+-------------------------------+--------------------+-------------------------------+--------------------------------------+--------------------+-------------------+\n",
      "|      1014|2001-01-06 03:00:00|     744|14766870118299|   2002|             1015|      37.279999|    -118.410004| 0.466018| 0.059035|   0.469743|  82.78024668610641|     93514| 37.364884|-118.405224|               9430.372811|37.411781|-118.406715|    19.5212| 93514|             5206.535003|    178.5463629|               1|            13123.8261|0.041484|-0.066363|0.078262|147.9901934500967|    95.76611621389358|  30.55616944990328|             116.83885716810157|0.005982378077812...|           0.029166051059401045|                    0.6491047620450087|0.014105932764423049|0.27400250000000004|\n",
      "|      1014|2001-01-06 03:00:00|     744|14766871430057|   2002|             1016|      37.029999|    -118.410004| 0.024231|-0.105362|   0.108112| 167.04840273149708|     93513| 37.151913|-118.328269|               15357.86301|37.411781|-118.406715|    19.5212| 93514|             29668.07071|    166.4148938|               2|            13123.8261|0.041484|-0.066363|0.078262|147.9901934500967|  -0.6335089314970901| 18.424700349903276|              171.1044042907969|0.005982378077812...|            0.16704207586573308|                    0.9505800238377606|0.004783243366093315|0.09318699999999999|\n",
      "|      1014|2001-01-06 03:00:00|     744|26102640129478|   2002|              938|      37.529999|    -118.910004| -0.73282| 0.228232|   0.767538| -72.70114126229504|     93546| 37.641536| -118.95866|               13104.06825|37.411781|-118.406715|    19.5212| 93514|             55050.53435|   -62.23775173|               3|            13123.8261|0.041484|-0.066363|0.078262|147.9901934500967|    10.46338953229504|  149.7720548199033|              99.88227782390084|0.005982378077812...|             0.3101088574608475|                    0.5549015434661158|0.021782957934764095|0.42290000000000005|\n",
      "|      1014|2001-01-06 03:00:00|     744|26736926025969|   2002|              938|      37.529999|    -118.910004| -0.73282| 0.228232|   0.767538| -72.70114126229504|     93546| 37.641904|-118.960293|               13190.52363|37.411781|-118.406715|    19.5212| 93514|             55197.28241|   -62.26902737|               3|            13123.8261|0.041484|-0.066363|0.078262|147.9901934500967|   10.432113892295035| 149.74077917990329|              99.91355346390084|0.005982378077812...|             0.3109359943750295|                    0.5550752970216714|0.021782957934764095|0.42290000000000005|\n",
      "|      1014|2001-01-06 03:00:00|     744|26736682630069|   2002|             1013|      37.779999|    -118.410004|-0.206335| 0.009236|   0.206541| -87.43702808216094|     93512| 37.818597| -118.47712|               7300.226614|37.411781|-118.406715|    19.5212| 93514|             45578.04643|   -7.817061819|               1|            13123.8261|0.041484|-0.066363|0.078262|147.9901934500967|    79.61996626316093|-155.80725526909671|              141.9063554970321|0.005982378077812...|             0.2567177296478107|                    0.7883686416501784|0.007320700040958572|0.14240150000000001|\n",
      "|      1014|2001-01-06 03:00:00|     744|14101401430099|   2002|             1055|      36.779999|    -118.160004| 0.485363|-0.063963|   0.489559|   97.5073970374999|     93526| 36.799384| -118.19488|               3783.902196|37.411781|-118.406715|    19.5212| 93514|             70523.73474|    164.4503324|               4|            13123.8261|0.041484|-0.066363|0.078262|147.9901934500967|    66.94293536250011| 16.460138949903296|              138.2984628437983|0.005982378077812...|             0.3973226524718651|                    0.7683247935766572|0.014616780598589096|          0.2839105|\n",
      "|      1014|2001-01-06 03:00:00|     744|14632481430123|   2002|             1015|      37.279999|    -118.410004| 0.466018| 0.059035|   0.469743|  82.78024668610641|     93513| 37.161788| -118.28898|                16955.5513|37.411781|-118.406715|    19.5212| 93514|             29644.27848|    159.3432445|               2|            13123.8261|0.041484|-0.066363|0.078262|147.9901934500967|    76.56299781389359| 11.353051049903286|             136.04197556810158|0.005982378077812...|            0.16690797234365787|                    0.7557887531561198|0.014105932764423049|0.27400250000000004|\n",
      "|      1014|2001-01-06 03:00:00|     744|14632970000000|   2002|             1055|      36.779999|    -118.160004| 0.485363|-0.063963|   0.489559|   97.5073970374999|     93526| 36.802526| -118.19667|               4118.185076|37.411781|-118.406715|    19.5212| 93514|             70145.15536|    164.5003777|               4|            13123.8261|0.041484|-0.066363|0.078262|147.9901934500967|     66.9929806625001|  16.51018424990329|              138.2484175437983|0.005982378077812...|            0.39518881179181703|                    0.7680467641322127|0.014616780598589096|          0.2839105|\n",
      "|      1014|2001-01-06 03:00:00|     744|14633056008809|   2002|              976|      37.529999|    -118.660004|-0.192219| 0.466428|   0.504483|-22.396981284181688|     93514| 37.418952|-118.586145|               13949.26431|37.411781|-118.406715|    19.5212| 93514|             15903.99145|   -87.07706677|               1|            13123.8261|0.041484|-0.066363|0.078262|147.9901934500967|   -64.68008548581831| 124.93273977990327|             149.87367285295753|0.005982378077812...|            0.08946164280465518|                     0.832631515849764|0.015001514807162677|0.29137250000000003|\n",
      "|      1014|2001-01-06 03:00:00|     744|14632976008791|   2002|             1055|      36.779999|    -118.160004| 0.485363|-0.063963|   0.489559|   97.5073970374999|     93526| 36.802606|-118.195602|               4048.342647|37.411781|-118.406715|    19.5212| 93514|             70161.92447|    164.4234069|               4|            13123.8261|0.041484|-0.066363|0.078262|147.9901934500967|     66.9160098625001| 16.433213449903292|              138.3253883437983|0.005982378077812...|             0.3952833299060529|                    0.7684743796877683|0.014616780598589096|          0.2839105|\n",
      "+----------+-------------------+--------+--------------+-------+-----------------+---------------+---------------+---------+---------+-----------+-------------------+----------+----------+-----------+--------------------------+---------+-----------+-----------+------+------------------------+---------------+----------------+----------------------+--------+---------+--------+-----------------+---------------------+-------------------+-------------------------------+--------------------+-------------------------------+--------------------------------------+--------------------+-------------------+\n",
      "\n"
     ]
    }
   ],
   "source": [
    "combined_df.limit(10).show()"
   ]
  },
  {
   "cell_type": "code",
   "execution_count": 410,
   "id": "b062f52f",
   "metadata": {},
   "outputs": [],
   "source": [
    "combined_df = (combined_df\n",
    "               .withColumn('Izmd_v1_unnormed',(col('central_wind_alignment_180_high') * col('ps_pm25_tpy') * (col('avg_wspd') / col('school_to_ps_geod_dist_m'))).cast('double'))\n",
    "               .withColumn('Izmd_v2_nodist_unnormed',(col('central_wind_alignment_180_high') * col('ps_pm25_tpy') * col('avg_wspd')).cast('double'))\n",
    "               .withColumn('Izmd_v3_normed_D_and_TPY',(col('central_wind_alignment_180_high') * col('ps_pm25_tpy_normed') * (col('avg_wspd') / col('school_to_ps_geod_dist_m_normed'))).cast('double'))\n",
    "               .withColumn('Izmd_v4_nodist_normed_TPY',(col('central_wind_alignment_180_high') * col('ps_pm25_tpy_normed') * col('avg_wspd')).cast('double'))\n",
    "               .withColumn('Izmd_v5_all_normed',(col('central_wind_alignment_180_high_normed') * col('ps_pm25_tpy_normed') * (col('avg_wspd_normed') / col('school_to_ps_geod_dist_m_normed'))).cast('double'))\n",
    "              )"
   ]
  },
  {
   "cell_type": "code",
   "execution_count": 411,
   "id": "9e7d70ac",
   "metadata": {},
   "outputs": [
    {
     "name": "stdout",
     "output_type": "stream",
     "text": [
      "+----------+-------------------+--------+--------------+-------+-----------------+---------------+---------------+---------+---------+-----------+-------------------+----------+----------+-----------+--------------------------+---------+-----------+-----------+------+------------------------+---------------+----------------+----------------------+--------+---------+--------+-----------------+---------------------+-------------------+-------------------------------+--------------------+-------------------------------+--------------------------------------+--------------------+-------------------+--------------------+-----------------------+------------------------+-------------------------+--------------------+\n",
      "|grid_index|           Datetime|ps_index|       CDSCode|ps_year|school_grid_index|school_wind_lat|school_wind_lon| school_u| school_v|school_wspd|     school_wdir_0N|school_zip|school_lat| school_lon|wind_to_school_geod_dist_m|   ps_lat|     ps_lon|ps_pm25_tpy|ps_zip|school_to_ps_geod_dist_m|angle_to_school|ps_distance_rank|wind_to_ps_geod_dist_m|    ps_u|     ps_v| ps_wspd|       ps_wdir_0N|school_wind_alignment|  ps_wind_alignment|central_wind_alignment_180_high|  ps_pm25_tpy_normed|school_to_ps_geod_dist_m_normed|central_wind_alignment_180_high_normed|     avg_wspd_normed|           avg_wspd|    Izmd_v1_unnormed|Izmd_v2_nodist_unnormed|Izmd_v3_normed_D_and_TPY|Izmd_v4_nodist_normed_TPY|  Izmd_v5_all_normed|\n",
      "+----------+-------------------+--------+--------------+-------+-----------------+---------------+---------------+---------+---------+-----------+-------------------+----------+----------+-----------+--------------------------+---------+-----------+-----------+------+------------------------+---------------+----------------+----------------------+--------+---------+--------+-----------------+---------------------+-------------------+-------------------------------+--------------------+-------------------------------+--------------------------------------+--------------------+-------------------+--------------------+-----------------------+------------------------+-------------------------+--------------------+\n",
      "|      1014|2001-01-06 03:00:00|     744|14766870118299|   2002|             1015|      37.279999|    -118.410004| 0.466018| 0.059035|   0.469743|  82.78024668610641|     93514| 37.364884|-118.405224|               9430.372811|37.411781|-118.406715|    19.5212| 93514|             5206.535003|    178.5463629|               1|            13123.8261|0.041484|-0.066363|0.078262|147.9901934500967|    95.76611621389358|  30.55616944990328|             116.83885716810157|0.005982378077812...|           0.029166051059401045|                    0.6491047620450087|0.014105932764423049|0.27400250000000004| 0.12003269144053255|      624.9544094894312|       6.566562017994723|      0.19152068310155765|0.001878074557698...|\n",
      "|      1014|2001-01-06 03:00:00|     744|14766871430057|   2002|             1016|      37.029999|    -118.410004| 0.024231|-0.105362|   0.108112| 167.04840273149708|     93513| 37.151913|-118.328269|               15357.86301|37.411781|-118.406715|    19.5212| 93514|             29668.07071|    166.4148938|               2|            13123.8261|0.041484|-0.066363|0.078262|147.9901934500967|  -0.6335089314970901| 18.424700349903276|              171.1044042907969|0.005982378077812...|            0.16704207586573308|                    0.9505800238377606|0.004783243366093315|0.09318699999999999|0.010491406745113783|      311.2597971614067|      0.5710373262001492|      0.09538726036529072|1.628392671807183...|\n",
      "|      1014|2001-01-06 03:00:00|     744|26102640129478|   2002|              938|      37.529999|    -118.910004| -0.73282| 0.228232|   0.767538| -72.70114126229504|     93546| 37.641536| -118.95866|               13104.06825|37.411781|-118.406715|    19.5212| 93514|             55050.53435|   -62.23775173|               3|            13123.8261|0.041484|-0.066363|0.078262|147.9901934500967|    10.46338953229504|  149.7720548199033|              99.88227782390084|0.005982378077812...|             0.3101088574608475|                    0.5549015434661158|0.021782957934764095|0.42290000000000005| 0.01497859558474702|      824.5796907528742|       0.814865270319588|      0.25269693796333204|2.331806298556495...|\n",
      "|      1014|2001-01-06 03:00:00|     744|26736926025969|   2002|              938|      37.529999|    -118.910004| -0.73282| 0.228232|   0.767538| -72.70114126229504|     93546| 37.641904|-118.960293|               13190.52363|37.411781|-118.406715|    19.5212| 93514|             55197.28241|   -62.26902737|               3|            13123.8261|0.041484|-0.066363|0.078262|147.9901934500967|   10.432113892295035| 149.74077917990329|              99.91355346390084|0.005982378077812...|             0.3109359943750295|                    0.5550752970216714|0.021782957934764095|0.42290000000000005|0.014943451040872377|      824.8378872830411|      0.8129520810369558|      0.25277606369647543|2.326331544652917...|\n",
      "|      1014|2001-01-06 03:00:00|     744|26736682630069|   2002|             1013|      37.779999|    -118.410004|-0.206335| 0.009236|   0.206541| -87.43702808216094|     93512| 37.818597| -118.47712|               7300.226614|37.411781|-118.406715|    19.5212| 93514|             45578.04643|   -7.817061819|               1|            13123.8261|0.041484|-0.066363|0.078262|147.9901934500967|    79.61996626316093|-155.80725526909671|              141.9063554970321|0.005982378077812...|             0.2567177296478107|                    0.7883686416501784|0.007320700040958572|0.14240150000000001|0.008655002844012024|      394.4781214761621|      0.4709061946461171|      0.12088996916664121|1.344930822917156...|\n",
      "|      1014|2001-01-06 03:00:00|     744|14101401430099|   2002|             1055|      36.779999|    -118.160004| 0.485363|-0.063963|   0.489559|   97.5073970374999|     93526| 36.799384| -118.19488|               3783.902196|37.411781|-118.406715|    19.5212| 93514|             70523.73474|    164.4503324|               4|            13123.8261|0.041484|-0.066363|0.078262|147.9901934500967|    66.94293536250011| 16.460138949903296|              138.2984628437983|0.005982378077812...|             0.3973226524718651|                    0.7683247935766572|0.014616780598589096|          0.2839105| 0.01086851014966913|      766.4879268142633|      0.5911930744441286|      0.23489440046113796|1.690935750792195...|\n",
      "|      1014|2001-01-06 03:00:00|     744|14632481430123|   2002|             1015|      37.279999|    -118.410004| 0.466018| 0.059035|   0.469743|  82.78024668610641|     93513| 37.161788| -118.28898|                16955.5513|37.411781|-118.406715|    19.5212| 93514|             29644.27848|    159.3432445|               2|            13123.8261|0.041484|-0.066363|0.078262|147.9901934500967|    76.56299781389359| 11.353051049903286|             136.04197556810158|0.005982378077812...|            0.16690797234365787|                    0.7557887531561198|0.014105932764423049|0.27400250000000004|0.024546698137231253|      727.6691553445805|      1.3360546734559418|      0.22299817648679915|3.821193317044492E-4|\n",
      "|      1014|2001-01-06 03:00:00|     744|14632970000000|   2002|             1055|      36.779999|    -118.160004| 0.485363|-0.063963|   0.489559|   97.5073970374999|     93526| 36.802526| -118.19667|               4118.185076|37.411781|-118.406715|    19.5212| 93514|             70145.15536|    164.5003777|               4|            13123.8261|0.041484|-0.066363|0.078262|147.9901934500967|     66.9929806625001|  16.51018424990329|              138.2484175437983|0.005982378077812...|            0.39518881179181703|                    0.7680467641322127|0.014616780598589096|          0.2839105|0.010923214270953992|       766.210562066637|      0.5941701625071188|      0.23480940052333912|1.699450844856347...|\n",
      "|      1014|2001-01-06 03:00:00|     744|14633056008809|   2002|              976|      37.529999|    -118.660004|-0.192219| 0.466428|   0.504483|-22.396981284181688|     93514| 37.418952|-118.586145|               13949.26431|37.411781|-118.406715|    19.5212| 93514|             15903.99145|   -87.07706677|               1|            13123.8261|0.041484|-0.066363|0.078262|147.9901934500967|   -64.68008548581831| 124.93273977990327|             149.87367285295753|0.005982378077812...|            0.08946164280465518|                     0.832631515849764|0.015001514807162677|0.29137250000000003| 0.05360117228371952|      852.4725857102522|       2.920188578857229|      0.26124486756395904|8.352662772345449E-4|\n",
      "|      1014|2001-01-06 03:00:00|     744|14632976008791|   2002|             1055|      36.779999|    -118.160004| 0.485363|-0.063963|   0.489559|   97.5073970374999|     93526| 36.802606|-118.195602|               4048.342647|37.411781|-118.406715|    19.5212| 93514|             70161.92447|    164.4234069|               4|            13123.8261|0.041484|-0.066363|0.078262|147.9901934500967|     66.9160098625001| 16.433213449903292|              138.3253883437983|0.005982378077812...|             0.3952833299060529|                    0.7684743796877683|0.014616780598589096|          0.2839105|0.010926683683417164|      766.6371553034965|      0.5943588170044861|      0.23494013234455566|1.699990436147138...|\n",
      "+----------+-------------------+--------+--------------+-------+-----------------+---------------+---------------+---------+---------+-----------+-------------------+----------+----------+-----------+--------------------------+---------+-----------+-----------+------+------------------------+---------------+----------------+----------------------+--------+---------+--------+-----------------+---------------------+-------------------+-------------------------------+--------------------+-------------------------------+--------------------------------------+--------------------+-------------------+--------------------+-----------------------+------------------------+-------------------------+--------------------+\n",
      "\n"
     ]
    }
   ],
   "source": [
    "combined_df.limit(10).show()"
   ]
  },
  {
   "cell_type": "code",
   "execution_count": 412,
   "id": "e2795882",
   "metadata": {},
   "outputs": [
    {
     "data": {
      "text/plain": [
       "['grid_index',\n",
       " 'Datetime',\n",
       " 'ps_index',\n",
       " 'CDSCode',\n",
       " 'ps_year',\n",
       " 'school_grid_index',\n",
       " 'school_wind_lat',\n",
       " 'school_wind_lon',\n",
       " 'school_u',\n",
       " 'school_v',\n",
       " 'school_wspd',\n",
       " 'school_wdir_0N',\n",
       " 'school_zip',\n",
       " 'school_lat',\n",
       " 'school_lon',\n",
       " 'wind_to_school_geod_dist_m',\n",
       " 'ps_lat',\n",
       " 'ps_lon',\n",
       " 'ps_pm25_tpy',\n",
       " 'ps_zip',\n",
       " 'school_to_ps_geod_dist_m',\n",
       " 'angle_to_school',\n",
       " 'ps_distance_rank',\n",
       " 'wind_to_ps_geod_dist_m',\n",
       " 'ps_u',\n",
       " 'ps_v',\n",
       " 'ps_wspd',\n",
       " 'ps_wdir_0N',\n",
       " 'school_wind_alignment',\n",
       " 'ps_wind_alignment',\n",
       " 'central_wind_alignment_180_high',\n",
       " 'ps_pm25_tpy_normed',\n",
       " 'school_to_ps_geod_dist_m_normed',\n",
       " 'central_wind_alignment_180_high_normed',\n",
       " 'avg_wspd_normed',\n",
       " 'avg_wspd',\n",
       " 'Izmd_v1_unnormed',\n",
       " 'Izmd_v2_nodist_unnormed',\n",
       " 'Izmd_v3_normed_D_and_TPY',\n",
       " 'Izmd_v4_nodist_normed_TPY',\n",
       " 'Izmd_v5_all_normed']"
      ]
     },
     "execution_count": 412,
     "metadata": {},
     "output_type": "execute_result"
    }
   ],
   "source": [
    "combined_df.columns"
   ]
  },
  {
   "cell_type": "code",
   "execution_count": 415,
   "id": "12e5d38b",
   "metadata": {},
   "outputs": [
    {
     "name": "stdout",
     "output_type": "stream",
     "text": [
      "+--------------+----------+----------------+--------------------+-----------+---------------+-------------------------------+------------------------+-------------------------------+--------------------------------------+--------------------+------------------+--------------------+-----------------------+------------------------+-------------------------+--------------------+\n",
      "|       CDSCode|school_zip|ps_distance_rank|  ps_pm25_tpy_normed|ps_pm25_tpy|angle_to_school|school_to_ps_geod_dist_m_normed|school_to_ps_geod_dist_m|central_wind_alignment_180_high|central_wind_alignment_180_high_normed|     avg_wspd_normed|          avg_wspd|    Izmd_v1_unnormed|Izmd_v2_nodist_unnormed|Izmd_v3_normed_D_and_TPY|Izmd_v4_nodist_normed_TPY|  Izmd_v5_all_normed|\n",
      "+--------------+----------+----------------+--------------------+-----------+---------------+-------------------------------+------------------------+-------------------------------+--------------------------------------+--------------------+------------------+--------------------+-----------------------+------------------------+-------------------------+--------------------+\n",
      "|14766870118299|     93514|               1|0.005982378077812...|    19.5212|    178.5463629|           0.029166051059401045|             5206.535003|              92.80166734586871|                    0.5155648185881595|0.032966210004038106|0.6398014999999999| 0.22261721821696825|     1159.0643389171344|      12.178596948477297|      0.35520158043115463|0.003486169664932017|\n",
      "|14766871430057|     93513|               2|0.005982378077812...|    19.5212|    166.4148938|            0.16704207586573308|             29668.07071|              95.83324798484438|                    0.5324069332491355|0.020453170700721536|         0.3971085|0.025040476919271616|      742.9026398530733|      1.3629294273064938|      0.22766656079577152|3.899889692858412E-4|\n",
      "|26102640129478|     93546|               3|0.005982378077812...|    19.5212|   -62.23775173|             0.3101088574608475|             55050.53435|              82.35087557926656|                   0.45750486432925863|0.028600776026738148|          0.555133|0.016211016134324255|      892.4251005510216|      0.8819113894698587|       0.2734885333702064|2.524254960888938...|\n",
      "|26736926025969|     93546|               3|0.005982378077812...|    19.5212|   -62.26902737|             0.3109359943750295|             55197.28241|              82.31959993926655|                    0.4573311107737031|0.028600776026738148|          0.555133|0.016161777025906016|      892.0861707463841|      0.8792313255170631|       0.2733846664853232|2.516583935421844...|\n",
      "|26736682630069|     93512|               1|0.005982378077812...|    19.5212|   -7.817061819|             0.2567177296478107|             45578.04643|             118.16016710297944|                    0.6564453727943302|0.026399020830299935|         0.5124295|0.025933194936829676|      1181.984362909064|      1.4109876522071136|       0.3622255466357049|4.038354156459201...|\n",
      "+--------------+----------+----------------+--------------------+-----------+---------------+-------------------------------+------------------------+-------------------------------+--------------------------------------+--------------------+------------------+--------------------+-----------------------+------------------------+-------------------------+--------------------+\n",
      "\n"
     ]
    }
   ],
   "source": [
    "# start selecting and aggregating down\n",
    "\n",
    "cols_to_select = ['CDSCode',\n",
    "                'school_zip',\n",
    "                'ps_distance_rank',\n",
    "                'ps_pm25_tpy_normed',\n",
    "                'ps_pm25_tpy',\n",
    "                'angle_to_school',\n",
    "                'school_to_ps_geod_dist_m_normed',\n",
    "                'school_to_ps_geod_dist_m',\n",
    "                 'central_wind_alignment_180_high',\n",
    "                 'central_wind_alignment_180_high_normed',\n",
    "                 'avg_wspd_normed',\n",
    "                 'avg_wspd',\n",
    "                 'Izmd_v1_unnormed',\n",
    "                 'Izmd_v2_nodist_unnormed',\n",
    "                 'Izmd_v3_normed_D_and_TPY',\n",
    "                 'Izmd_v4_nodist_normed_TPY',\n",
    "                 'Izmd_v5_all_normed']\n",
    "\n",
    "combined_df = combined_df.select(*cols_to_select)\n",
    "\n",
    "combined_df.limit(5).show()"
   ]
  },
  {
   "cell_type": "code",
   "execution_count": 417,
   "id": "af08e549",
   "metadata": {},
   "outputs": [
    {
     "name": "stdout",
     "output_type": "stream",
     "text": [
      "+--------------+----------+----------------+--------------------+-----------+---------------+-------------------------------+------------------------+-------------------------------+--------------------------------------+-------------------+------------------+------------------+-----------------------+------------------------+-------------------------+------------------+\n",
      "|       CDSCode|school_zip|ps_distance_rank|  ps_pm25_tpy_normed|ps_pm25_tpy|angle_to_school|school_to_ps_geod_dist_m_normed|school_to_ps_geod_dist_m|central_wind_alignment_180_high|central_wind_alignment_180_high_normed|    avg_wspd_normed|          avg_wspd|  Izmd_v1_unnormed|Izmd_v2_nodist_unnormed|Izmd_v3_normed_D_and_TPY|Izmd_v4_nodist_normed_TPY|Izmd_v5_all_normed|\n",
      "+--------------+----------+----------------+--------------------+-----------+---------------+-------------------------------+------------------------+-------------------------------+--------------------------------------+-------------------+------------------+------------------+-----------------------+------------------------+-------------------------+------------------+\n",
      "|15636770114512|     93505|               4| 0.04181141487293109|  131.73735|    87.06324003|            0.20081557333733838|             35660.05964|             107.27251968186856|                    0.5959584426770476|0.11757955768365984|  2.28089497782258| 664.5897719140806|   2.3699310902590107E7|       37456.24783009704|        7521.797883066374|10.726977186983978|\n",
      "|19645681932144|     91214|               2| 0.01068450630204745|34.24821399|    96.47769471|            0.02857536563915964|             5101.737432|              78.68454275386493|                    0.4371363486325829|0.09746896935262486|1.8908459341397845| 712.0399945474447|      3632641.093263777|       39659.49925636783|       1133.2846923166906|11.357448975176336|\n",
      "|19647336019400|     91342|               1|6.968781646233185E-4|2.967072283|   -24.05020065|           0.026113112384803978|             4664.892114|              70.38112547978092|                    0.3910062526654496|0.09935641012931637|1.9274532405913978| 62.56275680736926|      291848.5108607966|      2624.9895217395547|        68.54664639011783|0.7517348248241621|\n",
      "|19646836014781|     91302|               5|0.001197458945956...|4.534885796|   -112.2516861|            0.12384613683471109|             22004.38149|             118.75868896469285|                     0.659770494248293|0.11310616908069386|2.1941326754032264|40.209117877327124|      884776.7691490853|       1886.450984651392|        233.6296667771118|0.5402527049114809|\n",
      "|19647336018642|     91331|               4|7.837008561699942E-4|      3.239|    -42.1236852|            0.03357643042200082|             5989.010799|               81.4154481392407|                     0.452308045218004|0.09935641012931637|1.9274532405913978|62.405540673643365|      373747.4570118839|      2693.2898603467843|        90.43105960221412|0.7712967963572346|\n",
      "|19647330140749|     91607|               1|7.201443559893937E-4|3.039941739|    -157.372474|            0.03270156851423116|             5833.795519|             132.69613418246166|                    0.7372007454581205|0.09935641012931637|1.9274532405913978|101.90419708871867|      594488.2483434599|       4306.545015108835|        140.8307768712023|1.2333065747381453|\n",
      "|19647336015960|     91406|               1|0.001197458945956...|4.534885796|    160.2473154|           0.009223017389264591|             1668.303966|              112.3185578531743|                    0.6239919880731909|0.09935641012931637|1.9274532405913978| 445.7433537669678|      743635.4049075737|      21290.276880628386|       196.36059389229345| 6.097088607865445|\n",
      "|19647331937622|     91340|               5|0.001197458945956...|4.534885796|    28.36679348|           0.043959693703315324|             7831.177092|              48.62331235448179|                   0.27012951308045446|0.09935641012931637|1.9274532405913978|37.621544199195625|      294620.9750984062|      1769.7148011577085|        77.79612060111643|0.5067992539130598|\n",
      "|19647336019202|     90066|               4|0.005691884952553364|18.61137872|   -2.878599316|            0.04612194529713183|             8214.797048|              59.60487103152446|                   0.33113817239735815| 0.1031159461202107|2.0003702231182796| 204.8613190284782|      1682894.158804528|      11159.037919840957|        514.6765365075246|3.1957397647656847|\n",
      "|19644440000000|     90232|               3|0.002021500365267...|7.115774477|    143.3746421|            0.03874460129480604|             6905.931609|             107.24881162588841|                    0.5958267312549356| 0.1031159461202107|2.0003702231182796|159.02485345850425|     1098214.7621156771|      8052.4443077790165|        311.9887441535284|2.3060440085929215|\n",
      "+--------------+----------+----------------+--------------------+-----------+---------------+-------------------------------+------------------------+-------------------------------+--------------------------------------+-------------------+------------------+------------------+-----------------------+------------------------+-------------------------+------------------+\n",
      "\n"
     ]
    }
   ],
   "source": [
    "### AGGREGATION 1/3: reduce to m-y-school-ps(-zip) level ###\n",
    "\n",
    "group_by_cols = ['CDSCode',\n",
    "                'school_zip',\n",
    "                'ps_distance_rank',\n",
    "                'ps_pm25_tpy_normed',\n",
    "                'ps_pm25_tpy',\n",
    "                'angle_to_school',\n",
    "                'school_to_ps_geod_dist_m_normed',\n",
    "                'school_to_ps_geod_dist_m']\n",
    "\n",
    "combined_df = combined_df.groupBy(*group_by_cols) \\\n",
    "                .agg(\n",
    "                avg('central_wind_alignment_180_high').alias('central_wind_alignment_180_high'), \\\n",
    "                avg('central_wind_alignment_180_high_normed').alias('central_wind_alignment_180_high_normed'), \\\n",
    "                avg('avg_wspd_normed').alias('avg_wspd_normed'), \\\n",
    "                avg('avg_wspd').alias('avg_wspd'), \\\n",
    "                sum('Izmd_v1_unnormed').alias('Izmd_v1_unnormed'), \\\n",
    "                sum('Izmd_v2_nodist_unnormed').alias('Izmd_v2_nodist_unnormed'), \\\n",
    "                sum('Izmd_v3_normed_D_and_TPY').alias('Izmd_v3_normed_D_and_TPY'), \\\n",
    "                sum('Izmd_v4_nodist_normed_TPY').alias('Izmd_v4_nodist_normed_TPY'), \\\n",
    "                sum('Izmd_v5_all_normed').alias('Izmd_v5_all_normed') \\\n",
    "                    )\n",
    "\n",
    "combined_df.limit(10).show()"
   ]
  },
  {
   "cell_type": "code",
   "execution_count": 418,
   "id": "d55bba99",
   "metadata": {},
   "outputs": [
    {
     "data": {
      "text/plain": [
       "66485"
      ]
     },
     "execution_count": 418,
     "metadata": {},
     "output_type": "execute_result"
    }
   ],
   "source": [
    "combined_df.count()"
   ]
  },
  {
   "cell_type": "code",
   "execution_count": 419,
   "id": "b956cc18",
   "metadata": {},
   "outputs": [
    {
     "name": "stdout",
     "output_type": "stream",
     "text": [
      "+--------------+----------+-------------------------------+--------------------+-------------------------------+------------------+------------------------+--------------------------------------+-------------------+------------------+------------------+-----------------------+------------------------+-------------------------+------------------+\n",
      "|       CDSCode|school_zip|central_wind_alignment_180_high|  ps_pm25_tpy_normed|school_to_ps_geod_dist_m_normed|       ps_pm25_tpy|school_to_ps_geod_dist_m|central_wind_alignment_180_high_normed|    avg_wspd_normed|          avg_wspd|  Izmd_v1_unnormed|Izmd_v2_nodist_unnormed|Izmd_v3_normed_D_and_TPY|Izmd_v4_nodist_normed_TPY|Izmd_v5_all_normed|\n",
      "+--------------+----------+-------------------------------+--------------------+-------------------------------+------------------+------------------------+--------------------------------------+-------------------+------------------+------------------+-----------------------+------------------------+-------------------------+------------------+\n",
      "|27659872730414|     93923|             104.74462297929131|  0.0111288668629313|            0.16424622121883944|35.639946389600006|             29172.03887|                     0.581914572107174|0.14218885908889595| 2.758197497311828| 1148.643281826321|     3.45141782061404E7|       63642.73924810102|       10776.321984297818| 18.22676311383451|\n",
      "|49708966085229|     95409|              88.95239348546629|0.003308333074928427|            0.06679560225936058|11.146120400000001|      11882.652998200001|                    0.4941799638081461|0.10178129267474127|1.9744843419354836| 657.4522364447027|      7241336.058915879|       34781.41760368532|        2150.340124187461|  9.96066165012978|\n",
      "|34674476034656|     95610|             106.07642842629107|0.005100675358290041|             0.0712370331591584|     16.7597167596|      12670.637861399999|                    0.5893134912571728|0.12056427542968125| 2.338784199327957| 1709.172311544862|   1.6116597744974658E7|       93565.44939965618|        4907.684143121472| 26.79627951949187|\n",
      "|34674473438504|     95610|             103.24061254699191|0.004928564363460008|            0.07660249389845833|     16.2206670128|      13622.561226199998|                    0.5735589585943994| 0.1225264951669605| 2.376841859274193|1406.6213959575553|   1.4908092209201107E7|       76801.19452880089|        4533.156138940897|21.995127369301255|\n",
      "|11626531132109|     95939|              92.15141750811534|0.009824431081941195|            0.13578885766463175|31.554467840399997|           24123.2218934|                    0.5119523194895297|0.09512741262870106|1.8454309544354839| 784.0079444605258|   1.8389739079837747E7|       42568.26900517265|        5715.552395507338|12.190456797440739|\n",
      "|38684780111427|     94116|              96.08646517471333|0.001596731039384...|            0.03380434639720453| 5.785401610399999|       6029.446942799999|                    0.5338136954150738|0.15971785228587648|  3.09817596639785|1323.5332907837605|      6298457.026448876|       65598.25056470923|         1740.70658493332|18.787285745290973|\n",
      "|55724056114870|     95379|              68.96572102451285|0.006412756394104746|            0.08342438624861251|      20.869140163|           14832.8801598|                   0.38314289458062695|0.11514500977689676| 2.233676414784946| 997.0604730158435|   1.0771260466695404E7|       54763.11154034299|        3309.089118409864|15.683056987350048|\n",
      "|16639176010433|     93230|              81.67740038968525|0.001791584241624...|           0.013958791075338811|      6.3956797012|           2508.51021132|                    0.4537633354982513|0.07868957785029732|1.5266157298387097|1469.0871221003508|      3118562.045509873|        73967.9370985857|         873.800101800808|21.181879243034075|\n",
      "|49753900124230|     95448|              92.45514083009148|0.003662861252173...|            0.07377679949109443|       12.25649876|      13121.235308660001|                    0.5136396712782859|0.10724735453499204| 2.080499748655914|   945.49517829534|      9633699.690960499|      44299.154276564004|       2891.7204281278737|12.686539730484501|\n",
      "|54105465430061|     93277|             102.42103898356747|0.001172387661610...|            0.03505990253708576|      4.4563628086|              6252.20381|                    0.5690057721309305|0.06906454219466594|1.3399361612903224| 387.5399216866686|      2187959.832834868|       18163.49151329274|        575.4767153799293| 5.201052532992374|\n",
      "+--------------+----------+-------------------------------+--------------------+-------------------------------+------------------+------------------------+--------------------------------------+-------------------+------------------+------------------+-----------------------+------------------------+-------------------------+------------------+\n",
      "\n"
     ]
    }
   ],
   "source": [
    "### AGGREGATION 2/3: reduce to m-y-school(-zip) level ###\n",
    "\n",
    "combined_df = combined_df.groupBy(\"CDSCode\", \"school_zip\") \\\n",
    "                .agg(\n",
    "                avg('central_wind_alignment_180_high').alias('central_wind_alignment_180_high'), \\\n",
    "                avg('ps_pm25_tpy_normed').alias('ps_pm25_tpy_normed'), \\\n",
    "                avg('school_to_ps_geod_dist_m_normed').alias('school_to_ps_geod_dist_m_normed'), \\\n",
    "                avg('ps_pm25_tpy').alias('ps_pm25_tpy'), \\\n",
    "                avg('school_to_ps_geod_dist_m').alias('school_to_ps_geod_dist_m'), \\\n",
    "                avg('central_wind_alignment_180_high_normed').alias('central_wind_alignment_180_high_normed'), \\\n",
    "                avg('avg_wspd_normed').alias('avg_wspd_normed'), \\\n",
    "                avg('avg_wspd').alias('avg_wspd'), \\\n",
    "                sum('Izmd_v1_unnormed').alias('Izmd_v1_unnormed'), \\\n",
    "                sum('Izmd_v2_nodist_unnormed').alias('Izmd_v2_nodist_unnormed'), \\\n",
    "                sum('Izmd_v3_normed_D_and_TPY').alias('Izmd_v3_normed_D_and_TPY'), \\\n",
    "                sum('Izmd_v4_nodist_normed_TPY').alias('Izmd_v4_nodist_normed_TPY'), \\\n",
    "                sum('Izmd_v5_all_normed').alias('Izmd_v5_all_normed') \\\n",
    "                    )\n",
    "\n",
    "combined_df.limit(10).show()"
   ]
  },
  {
   "cell_type": "code",
   "execution_count": 420,
   "id": "61ca028f",
   "metadata": {},
   "outputs": [
    {
     "data": {
      "text/plain": [
       "13297"
      ]
     },
     "execution_count": 420,
     "metadata": {},
     "output_type": "execute_result"
    }
   ],
   "source": [
    "combined_df.count()"
   ]
  },
  {
   "cell_type": "code",
   "execution_count": 421,
   "id": "12d6880f",
   "metadata": {},
   "outputs": [],
   "source": [
    "### AGGREGATION 3/3: reduce to m-y-zip level ###\n",
    "\n",
    "combined_df = combined_df.groupBy(\"school_zip\") \\\n",
    "                .agg(\n",
    "                avg('central_wind_alignment_180_high').alias('central_wind_alignment_180_high'), \\\n",
    "                avg('ps_pm25_tpy_normed').alias('ps_pm25_tpy_normed'), \\\n",
    "                avg('school_to_ps_geod_dist_m_normed').alias('school_to_ps_geod_dist_m_normed'), \\\n",
    "                avg('ps_pm25_tpy').alias('ps_pm25_tpy'), \\\n",
    "                avg('school_to_ps_geod_dist_m').alias('school_to_ps_geod_dist_m'), \\\n",
    "                avg('central_wind_alignment_180_high_normed').alias('central_wind_alignment_180_high_normed'), \\\n",
    "                avg('avg_wspd_normed').alias('avg_wspd_normed'), \\\n",
    "                avg('avg_wspd').alias('avg_wspd'), \\\n",
    "                avg('Izmd_v1_unnormed').alias('Izmd_v1_unnormed'), \\\n",
    "                avg('Izmd_v2_nodist_unnormed').alias('Izmd_v2_nodist_unnormed'), \\\n",
    "                avg('Izmd_v3_normed_D_and_TPY').alias('Izmd_v3_normed_D_and_TPY'), \\\n",
    "                avg('Izmd_v4_nodist_normed_TPY').alias('Izmd_v4_nodist_normed_TPY'), \\\n",
    "                avg('Izmd_v5_all_normed').alias('Izmd_v5_all_normed'), \\\n",
    "                count('CDSCode')\n",
    "                )"
   ]
  },
  {
   "cell_type": "code",
   "execution_count": 422,
   "id": "f5efd730",
   "metadata": {},
   "outputs": [
    {
     "name": "stdout",
     "output_type": "stream",
     "text": [
      "+----------+-------------------------------+--------------------+-------------------------------+------------------+------------------------+--------------------------------------+-------------------+------------------+------------------+-----------------------+------------------------+-------------------------+------------------+\n",
      "|school_zip|central_wind_alignment_180_high|  ps_pm25_tpy_normed|school_to_ps_geod_dist_m_normed|       ps_pm25_tpy|school_to_ps_geod_dist_m|central_wind_alignment_180_high_normed|    avg_wspd_normed|          avg_wspd|  Izmd_v1_unnormed|Izmd_v2_nodist_unnormed|Izmd_v3_normed_D_and_TPY|Izmd_v4_nodist_normed_TPY|Izmd_v5_all_normed|\n",
      "+----------+-------------------------------+--------------------+-------------------------------+------------------+------------------------+--------------------------------------+-------------------+------------------+------------------+-----------------------+------------------------+-------------------------+------------------+\n",
      "|     93545|              83.83810710100563|0.001835905584360...|              0.285796646797736|      6.5344936602|       50737.13751333334|                    0.4657672616722535|0.07305555628366653|1.4173427096774194|56.619465090451676|      3092896.593545701|      2725.3527923786787|        881.2963460598281|0.7804091600670212|\n",
      "|     90022|               76.8165568302595|0.001958467513310...|           0.024535814717093762| 6.918356276487999|          4385.052865128|                   0.42675864905699723|0.08833044590023174|1.7136023709677415| 747.9587853259183|     3161757.6830740278|       37474.41608260553|        886.2550789375397|10.731573500812068|\n",
      "|     95134|              86.75458339957186|0.001530096147126...|           0.014367790596213964|      5.5767018592|      2581.0736348600003|                   0.48196990777539916|0.10610289709716698| 2.058302758602151|1914.1581216636641|      3717730.684254063|       94362.60519248992|       1018.6163596237017|27.023731192871992|\n",
      "|     91910|              84.75390706309204|0.011992860941489781|           0.027924483470239615|38.345966360860864|       4986.259940982609|                   0.47085503923940025|0.13587286458393694|2.6356974701612903| 8183.436868714823|    3.248345238920988E7|        459356.513831687|       10158.477004135924|131.55811905910113|\n",
      "|     95519|             106.22691024305487|0.009749023721138199|             0.0691640742624954|31.318292813999996|      12302.859938145453|                     0.590149501350305| 0.1834778216283385|3.5590055138685233| 4756.258362609184|    4.565250452251282E7|       264556.8407827438|        14215.17080503567|  75.7711887582006|\n",
      "|     92027|              78.82975456257422|0.006234186788391374|            0.04209340357840394|20.309862117800005|           7500.06569976|                   0.43794308090319006|0.09394745949347394|1.8225455179475016|1367.2537829987195|    1.178420587229865E7|       72928.23746295033|        3616.566729574245| 20.88519281846497|\n",
      "|     94404|              89.05166330310999|0.001013275096175...|           0.035332526628210084|3.9580240000000004|      6300.5719287428565|                   0.49473146279505553|0.11552880933768661|2.2411202870967744|  560.775253632681|      3097271.322003207|      26039.440266287525|        792.8694975634202|  7.45743958230745|\n",
      "|     91326|                89.259857956197|7.764987365030053E-4|             0.0488486397250657|3.2164430402499997|           8698.55869695|                      0.49588809975665|0.09978328456904328|1.9357325591397845|267.43149775353027|       2138482.17795367|      11679.151591026011|        522.9040474808816|3.3446521269274068|\n",
      "|     90807|               93.9701429314741|0.005050155874852109|           0.027217032777650595|    16.60149029195|           4860.74623835|                    0.5220563496193006| 0.0985241291988539|1.9113109788306453|2197.0945229205504|   1.0723114914073216E7|       118741.8967452839|        3255.255034453617| 34.00552133600084|\n",
      "|     94610|              83.51657074662123|0.004653695306596184|            0.01831103666850259|15.359780143533333|       3280.672094666667|                   0.46398094859234024|0.11992048200901427|2.3262976920250895|3362.0141345764673|   1.1681936876841903E7|       181514.4432381872|        3543.022520222466| 51.98394000107407|\n",
      "+----------+-------------------------------+--------------------+-------------------------------+------------------+------------------------+--------------------------------------+-------------------+------------------+------------------+-----------------------+------------------------+-------------------------+------------------+\n",
      "\n"
     ]
    }
   ],
   "source": [
    "combined_df.limit(10).show()"
   ]
  },
  {
   "cell_type": "code",
   "execution_count": 423,
   "id": "85a6779b",
   "metadata": {},
   "outputs": [
    {
     "data": {
      "text/plain": [
       "1539"
      ]
     },
     "execution_count": 423,
     "metadata": {},
     "output_type": "execute_result"
    }
   ],
   "source": [
    "combined_df.count()"
   ]
  },
  {
   "cell_type": "code",
   "execution_count": 424,
   "id": "d221bd70",
   "metadata": {},
   "outputs": [
    {
     "ename": "NameError",
     "evalue": "name 'zmy_agg_list' is not defined",
     "output_type": "error",
     "traceback": [
      "\u001b[1;31m---------------------------------------------------------------------------\u001b[0m",
      "\u001b[1;31mNameError\u001b[0m                                 Traceback (most recent call last)",
      "Input \u001b[1;32mIn [424]\u001b[0m, in \u001b[0;36m<cell line: 5>\u001b[1;34m()\u001b[0m\n\u001b[0;32m      1\u001b[0m pd_combined_df \u001b[38;5;241m=\u001b[39m combined_df\u001b[38;5;241m.\u001b[39mtoPandas()\n\u001b[0;32m      3\u001b[0m pd_combined_df[\u001b[38;5;124m'\u001b[39m\u001b[38;5;124my-m\u001b[39m\u001b[38;5;124m'\u001b[39m] \u001b[38;5;241m=\u001b[39m parquet_file\n\u001b[1;32m----> 5\u001b[0m \u001b[43mzmy_agg_list\u001b[49m\u001b[38;5;241m.\u001b[39mappend(combined_df)\n",
      "\u001b[1;31mNameError\u001b[0m: name 'zmy_agg_list' is not defined"
     ]
    }
   ],
   "source": [
    "pd_combined_df = combined_df.toPandas()\n",
    "\n",
    "pd_combined_df['y-m'] = parquet_file\n",
    "\n",
    "zmy_agg_list.append(combined_df)"
   ]
  },
  {
   "cell_type": "code",
   "execution_count": null,
   "id": "80ca8ebf",
   "metadata": {},
   "outputs": [],
   "source": [
    "# test final join\n",
    "zip_avgs\n",
    "df_merged = pd.merge(df, df_avgs, left_on=[\"school_zip\",\"y-m\"], right_on=[\"zip code\", \"y-m\"], how=\"left\")"
   ]
  },
  {
   "cell_type": "markdown",
   "id": "03a27dfe",
   "metadata": {},
   "source": [
    "## Basic Instrument form (distance is present in some versions only)\n",
    "\n",
    "## $$I_{zmy} = \\sum_{ps=1}^{3} \\sum_{d_{m}=1}^{D_{m}}\\theta_{downstream_{zd_{m}}} \\times TPY_{ps} \\times \\frac{S_{zd_{m}}}{D_{ps}}$$"
   ]
  },
  {
   "cell_type": "markdown",
   "id": "05313b17",
   "metadata": {},
   "source": [
    "V1: as written, no normalizing - Our original IV </br>\n",
    "V2: no dividing by distance, no normalizing - Cornelia wants this</br>\n",
    "V3: as written, normalizing - normalize TPY, Dps (z-score, min max)</br>\n",
    "V4: no dividing by distance, normalizing - normalize TPY, Dps (z-score, min max)</br>\n",
    "V5: as written, all quantities normed"
   ]
  },
  {
   "cell_type": "markdown",
   "id": "d1be710f",
   "metadata": {},
   "source": [
    "\n",
    "# End Calculations/Aggregation Step-through"
   ]
  },
  {
   "cell_type": "markdown",
   "id": "8d1d457e",
   "metadata": {},
   "source": [
    "___________________\n",
    "\n",
    "\n",
    "# Begin Calculation/Aggregation Loop"
   ]
  },
  {
   "cell_type": "code",
   "execution_count": 429,
   "id": "ee93d849",
   "metadata": {},
   "outputs": [],
   "source": [
    "# Setup directories/variables\n",
    "\n",
    "local_dir = 'C:\\\\Users\\\\matts\\\\Documents\\\\Berkeley MIDS\\\\DataSci 210 Capstone\\\\non-push files\\\\data\\\\'\n",
    "\n",
    "out_dir_zmy_raw_avgs = os.path.join(local_dir,'naive_zmy_avgs\\\\')\n",
    "out_dir_unagged = os.path.join(local_dir,'raw_my_spark_dfs\\\\')\n",
    "out_dir_zmy = os.path.join(local_dir,'zmy_agged_dfs\\\\')"
   ]
  },
  {
   "cell_type": "code",
   "execution_count": 428,
   "id": "b5f6fb66",
   "metadata": {},
   "outputs": [],
   "source": [
    "def aggregate_zmy(early_stopping: int = 0):\n",
    "    \"\"\"Process and Aggregate Monthly Data\n",
    "    Before running this, set input/output directories above.\n",
    "\n",
    "    This will take a long time and generate many files.\n",
    "    Its only direct output is a pandas dataframe, but it \n",
    "    will save monthly Pandas dataframes to disk in case \n",
    "    something needs revisiting.\n",
    "\n",
    "    Inputs: early_stopping (int): for testing, set to max iterations to perform\n",
    "    Outputs: combined Pandas dataframe with all aggregated y-m data\n",
    "    \"\"\"\n",
    "    ### Opening Section: Data Load and Preprocessing ###\n",
    "\n",
    "    # read in files\n",
    "    school_lookup = spark.read.option(\"header\",True).csv(os.path.join(local_dir, 'wind_grid_to_school_lookup_filtered.csv'))\n",
    "    ps_year_lookup = spark.read.option(\"header\",True).csv(os.path.join(local_dir, 'year_lookup.csv'))\n",
    "    school_to_ps_lookup = spark.read.option(\"header\",True).csv(os.path.join(local_dir, 'school_year_to_point_lookup_top_5_filtered.csv'))\n",
    "    ps_lookup = spark.read.option(\"header\",True).csv(os.path.join(local_dir, 'wind_grid_to_ps_point_lookup_filtered.csv'))\n",
    "\n",
    "    # Calculate and save out statistics for first normalizing (standard scaler)\n",
    "    cols_to_drop = ['ps_index','CDSCode', 'ps_year', 'ps_zip', 'angle_to_school', 'ps_distance_rank']\n",
    "    ps_agg = school_to_ps_lookup.drop(*cols_to_drop).distinct().cache()\n",
    "\n",
    "    ps_stats = ps_agg.select(avg('ps_pm25_tpy'), avg('school_to_ps_geod_dist_m'), \n",
    "                             stddev_samp('ps_pm25_tpy'), stddev_samp('school_to_ps_geod_dist_m')).collect()\n",
    "\n",
    "    ps_stats = ps_stats[0]\n",
    "\n",
    "    ps_TPY_mean = ps_stats[0]\n",
    "    ps_dist_mean = ps_stats[1]\n",
    "    ps_TPY_sd = ps_stats[2]\n",
    "    ps_dist_sd = ps_stats[3]\n",
    "\n",
    "    # Calculate and save statistics for second normalizing (min-max)\n",
    "    ps_agg = ps_agg.withColumn('TPY_norm', (col('point_source_pm25_tpy') - ps_TPY_mean)/ps_TPY_sd).withColumn('dist_norm', (col('school_to_ps_geod_dist_m') - ps_dist_mean)/ps_dist_sd)\n",
    "    ps_stats_mm = ps_agg.select(min('TPY_norm'), min('dist_norm'), max('TPY_norm'), max('dist_norm')).collect()\n",
    "    ps_stats_mm = ps_stats_mm[0]\n",
    "\n",
    "    ps_TPY_min = ps_stats_mm[0]\n",
    "    ps_dist_min = ps_stats_mm[1]\n",
    "    ps_TPY_max = ps_stats_mm[2]\n",
    "    ps_dist_max = ps_stats_mm[3]\n",
    "\n",
    "    # lists to contain pandas dataframes\n",
    "    zmy_agg_list = []\n",
    "    df_avgs_list = []\n",
    "    \n",
    "    counter = 0\n",
    "\n",
    "    # loop through files\n",
    "    for parquet_file in os.listdir(in_dir):\n",
    "        \n",
    "        if (early_stopping == 0 or counter < early_stopping):\n",
    "\n",
    "            # for holding augmented df at the zip code level\n",
    "            temp_zmy_df = pd.DataFrame()\n",
    "\n",
    "            # for holding augmented df at the school level\n",
    "            temp_school_my_df = pd.DataFrame()\n",
    "\n",
    "            # read in one month\n",
    "            temp_meas_df = spark.read.parquet(os.path.join(in_dir, parquet_file))\n",
    "\n",
    "            temp_meas_df = (temp_meas_df\n",
    "                            .withColumn('wdir_wrt_0N',(180*F.atan2(col('u'), col('v'))\n",
    "                                                       /(3.141592653589793238462)).cast('double')\n",
    "                                       )\n",
    "                            )\n",
    "\n",
    "            # drop lat/lon, wdir, and y-m and store temp df to re-join for ps wind readings (dropped can be recovered if needed)\n",
    "            wind_temp_df = temp_meas_df.drop('wind_lat','wind_lon','wdir','y-m')\n",
    "            wind_temp_df.cache()\n",
    "\n",
    "            # rename for explicitness of measurements\n",
    "            temp_meas_df = (temp_meas_df\n",
    "                            .withColumnRenamed('wind_lat','school_wind_lat')\n",
    "                            .withColumnRenamed('wind_lon','school_wind_lon')\n",
    "                            .withColumnRenamed('u','school_u')\n",
    "                            .withColumnRenamed('v','school_v')\n",
    "                            .withColumnRenamed('grid_index','school_grid_index')\n",
    "                           ).drop('wdir').drop('y-m') # wdir is wrt 0° E and is confusing; y-m not needed\n",
    "\n",
    "            combined_df = temp_meas_df.join(school_lookup, ['school_grid_index'], how='inner')\n",
    "\n",
    "            # compute zip code averages for wdir, wspd\n",
    "            zip_avgs = (combined_df.groupBy('school_zip')\n",
    "                        .avg('wspd','wdir_wrt_0N', 'school_u','school_v')\n",
    "                        .withColumnRenamed(\"school_zip\",\"zip_code\")\n",
    "                        .withColumnRenamed(\"avg(wspd)\",\"avg_wspd\")\n",
    "                        .withColumnRenamed(\"avg(wdir_wrt_0N)\",\"avg_wdir_0N\")\n",
    "                        .withColumnRenamed(\"avg(school_u)\",\"avg_u\")\n",
    "                        .withColumnRenamed(\"avg(school_v)\",\"avg_v\")\n",
    "                        .toPandas()\n",
    "                       )\n",
    "\n",
    "            zip_avgs['y-m'] = parquet_file\n",
    "\n",
    "            df_avgs_list.append(zip_avgs)\n",
    "\n",
    "            combined_df = (combined_df\n",
    "                           .withColumnRenamed('wspd','school_wspd')\n",
    "                           .withColumnRenamed('wdir_wrt_0N','school_wdir_0N') \n",
    "                          )\n",
    "\n",
    "            ### Middle Section: joins ###\n",
    "\n",
    "            # need to lookup by CDSCode and year, so substring for year\n",
    "            combined_df = combined_df.withColumn(\"year\", substring(col('Datetime'),1,4))\n",
    "\n",
    "            # join in ps <-> year lookup\n",
    "            combined_df = combined_df.join(ps_year_lookup, ['year'], how='left').drop('year')\n",
    "\n",
    "            # use lookup year to join in PSs to each school\n",
    "            combined_df = combined_df.join(school_to_ps_lookup, ['CDSCode','ps_year'], how='left')\n",
    "\n",
    "            # join lookup table to get nearest wind grid index for each PS\n",
    "            combined_df = combined_df.join(ps_lookup, ['ps_index'], how='left')\n",
    "\n",
    "            # rename for clarity\n",
    "            combined_df = combined_df.withColumnRenamed('geod_dist_m', 'school_to_ps_geod_dist_m')\n",
    "\n",
    "            # rename of ease/cleanliness of join           \n",
    "            combined_df = combined_df.withColumnRenamed(\"ps_grid_index\",\"grid_index\")\n",
    "\n",
    "            # join wind measurements at PS that we had saved off\n",
    "            combined_df = combined_df.join(wind_temp_df, ['grid_index',\"Datetime\"], how='left')\n",
    "\n",
    "            # rename for clarity\n",
    "            combined_df = (combined_df\n",
    "                            .withColumnRenamed('u','ps_u')\n",
    "                            .withColumnRenamed('v','ps_v')\n",
    "                            .withColumnRenamed('wspd','ps_wspd')\n",
    "                            .withColumnRenamed('wdir_wrt_0N','ps_wdir_0N')\n",
    "                           )\n",
    "\n",
    "            combined_df = combined_df.withColumn(\"angle_to_school\",col(\"angle_to_school\").cast(\"double\"))\n",
    "\n",
    "            ### Second-to-last Section: Computations ###\n",
    "\n",
    "            # function to compute better difference between alignments, factoring the zero-crossing\n",
    "            # first angle is wind angle, second angle is heading to school (both wrt 0N)\n",
    "            def calculateDifferenceBetweenAngles(firstAngle, secondAngle):\n",
    "                difference = secondAngle - firstAngle\n",
    "                if (difference <= -180): \n",
    "                    difference += 360\n",
    "                    return difference\n",
    "                elif (difference >= 180): \n",
    "                    difference -= 360\n",
    "                    return difference\n",
    "                return difference\n",
    "\n",
    "            udf_calculateDifferenceBetweenAngles = F.udf(calculateDifferenceBetweenAngles)\n",
    "\n",
    "            # compute alignment at each site and \"central\" (avg) alignment, with 180 being high and 0 being low\n",
    "            combined_df = (combined_df\n",
    "                           .withColumn(\"school_wind_alignment\",\n",
    "                                       udf_calculateDifferenceBetweenAngles(\n",
    "                                       col('school_wdir_0N'), col('angle_to_school')).cast('double'))\n",
    "                           .withColumn(\"ps_wind_alignment\",\n",
    "                                       udf_calculateDifferenceBetweenAngles(\n",
    "                                       col('ps_wdir_0N'), col('angle_to_school')).cast('double'))\n",
    "                          )\n",
    "\n",
    "            combined_df = combined_df.withColumn(\"central_wind_alignment_180_high\", \n",
    "                                                 (180 - abs(((col('school_wind_alignment') + col('ps_wind_alignment'))/2))).cast('double'))\n",
    "\n",
    "            # compute normed TPY and dist using scalars from above\n",
    "            combined_df = (combined_df\n",
    "                           .withColumn('ps_pm25_tpy_normed', \n",
    "                                       ((((col('ps_pm25_tpy') - ps_TPY_mean) / ps_TPY_sd) - ps_TPY_min) / (ps_TPY_max - ps_TPY_min)).cast('double'))\n",
    "                           .withColumn('school_to_ps_geod_dist_m_normed',((((col('school_to_ps_geod_dist_m') - ps_dist_mean) / ps_dist_sd) - ps_dist_min) / (ps_dist_max - ps_dist_min)).cast('double'))\n",
    "                          )\n",
    "\n",
    "            # compute normed wspd and wind alignment for Instrument v5\n",
    "\n",
    "            combined_df = (combined_df\n",
    "                           .withColumn('avg_wspd',((col('school_wspd') + col('ps_wspd'))/2).cast('double'))\n",
    "                          )\n",
    "\n",
    "            combined_df = (combined_df\n",
    "                           .withColumn('central_wind_alignment_180_high_normed',\n",
    "                                       (col('central_wind_alignment_180_high')/180).cast('double'))\n",
    "                           .withColumn('avg_wspd_normed',\n",
    "                                       ((col('avg_wspd') - min_wspd) / (max_wspd - min_wspd)).cast('double'))\n",
    "                          )\n",
    "\n",
    "            combined_df = (combined_df\n",
    "                           .withColumn('Izmd_v1_unnormed',(col('central_wind_alignment_180_high') * col('ps_pm25_tpy') * (col('avg_wspd') / col('school_to_ps_geod_dist_m'))).cast('double'))\n",
    "                           .withColumn('Izmd_v2_nodist_unnormed',(col('central_wind_alignment_180_high') * col('ps_pm25_tpy') * col('avg_wspd')).cast('double'))\n",
    "                           .withColumn('Izmd_v3_normed_D_and_TPY',(col('central_wind_alignment_180_high') * col('ps_pm25_tpy_normed') * (col('avg_wspd') / col('school_to_ps_geod_dist_m_normed'))).cast('double'))\n",
    "                           .withColumn('Izmd_v4_nodist_normed_TPY',(col('central_wind_alignment_180_high') * col('ps_pm25_tpy_normed') * col('avg_wspd')).cast('double'))\n",
    "                           .withColumn('Izmd_v5_all_normed',(col('central_wind_alignment_180_high_normed') * col('ps_pm25_tpy_normed') * (col('avg_wspd_normed') / col('school_to_ps_geod_dist_m_normed'))).cast('double'))\n",
    "                          )\n",
    "\n",
    "            ### Final Section: Aggregations and Saving Out ###\n",
    "\n",
    "            # write out raw (unaggregated) df\n",
    "            file_name = os.path.join(out_dir_unagged, parquet_file)\n",
    "            combined_df.write.parquet(file_name)\n",
    "\n",
    "            # start selecting and aggregating down\n",
    "\n",
    "            cols_to_select = ['CDSCode',\n",
    "                            'school_zip',\n",
    "                            'ps_distance_rank',\n",
    "                            'ps_pm25_tpy_normed',\n",
    "                            'ps_pm25_tpy',\n",
    "                            'angle_to_school',\n",
    "                            'school_to_ps_geod_dist_m_normed',\n",
    "                            'school_to_ps_geod_dist_m',\n",
    "                             'central_wind_alignment_180_high',\n",
    "                             'central_wind_alignment_180_high_normed',\n",
    "                             'avg_wspd_normed',\n",
    "                             'avg_wspd',\n",
    "                             'Izmd_v1_unnormed',\n",
    "                             'Izmd_v2_nodist_unnormed',\n",
    "                             'Izmd_v3_normed_D_and_TPY',\n",
    "                             'Izmd_v4_nodist_normed_TPY',\n",
    "                             'Izmd_v5_all_normed']\n",
    "\n",
    "            combined_df = combined_df.select(*cols_to_select)\n",
    "\n",
    "            ### AGGREGATION 1/3: reduce to m-y-school-ps(-zip) level ###\n",
    "\n",
    "            group_by_cols = ['CDSCode',\n",
    "                            'school_zip',\n",
    "                            'ps_distance_rank',\n",
    "                            'ps_pm25_tpy_normed',\n",
    "                            'ps_pm25_tpy',\n",
    "                            'angle_to_school',\n",
    "                            'school_to_ps_geod_dist_m_normed',\n",
    "                            'school_to_ps_geod_dist_m']\n",
    "\n",
    "            combined_df = combined_df.groupBy(*group_by_cols) \\\n",
    "                            .agg(\n",
    "                            avg('central_wind_alignment_180_high').alias('central_wind_alignment_180_high'), \\\n",
    "                            avg('central_wind_alignment_180_high_normed').alias('central_wind_alignment_180_high_normed'), \\\n",
    "                            avg('avg_wspd_normed').alias('avg_wspd_normed'), \\\n",
    "                            avg('avg_wspd').alias('avg_wspd'), \\\n",
    "                            sum('Izmd_v1_unnormed').alias('Izmd_v1_unnormed'), \\\n",
    "                            sum('Izmd_v2_nodist_unnormed').alias('Izmd_v2_nodist_unnormed'), \\\n",
    "                            sum('Izmd_v3_normed_D_and_TPY').alias('Izmd_v3_normed_D_and_TPY'), \\\n",
    "                            sum('Izmd_v4_nodist_normed_TPY').alias('Izmd_v4_nodist_normed_TPY'), \\\n",
    "                            sum('Izmd_v5_all_normed').alias('Izmd_v5_all_normed') \\\n",
    "                                )\n",
    "\n",
    "            ### AGGREGATION 2/3: reduce to m-y-school(-zip) level ###\n",
    "\n",
    "            combined_df = combined_df.groupBy(\"CDSCode\", \"school_zip\") \\\n",
    "                            .agg(\n",
    "                            avg('central_wind_alignment_180_high').alias('central_wind_alignment_180_high'), \\\n",
    "                            avg('ps_pm25_tpy_normed').alias('ps_pm25_tpy_normed'), \\\n",
    "                            avg('school_to_ps_geod_dist_m_normed').alias('school_to_ps_geod_dist_m_normed'), \\\n",
    "                            avg('ps_pm25_tpy').alias('ps_pm25_tpy'), \\\n",
    "                            avg('school_to_ps_geod_dist_m').alias('school_to_ps_geod_dist_m'), \\\n",
    "                            avg('central_wind_alignment_180_high_normed').alias('central_wind_alignment_180_high_normed'), \\\n",
    "                            avg('avg_wspd_normed').alias('avg_wspd_normed'), \\\n",
    "                            avg('avg_wspd').alias('avg_wspd'), \\\n",
    "                            sum('Izmd_v1_unnormed').alias('Izmd_v1_unnormed'), \\\n",
    "                            sum('Izmd_v2_nodist_unnormed').alias('Izmd_v2_nodist_unnormed'), \\\n",
    "                            sum('Izmd_v3_normed_D_and_TPY').alias('Izmd_v3_normed_D_and_TPY'), \\\n",
    "                            sum('Izmd_v4_nodist_normed_TPY').alias('Izmd_v4_nodist_normed_TPY'), \\\n",
    "                            sum('Izmd_v5_all_normed').alias('Izmd_v5_all_normed') \\\n",
    "                                )\n",
    "\n",
    "            ### AGGREGATION 3/3: reduce to m-y-zip level ###\n",
    "\n",
    "            combined_df = combined_df.groupBy(\"school_zip\") \\\n",
    "                            .agg(\n",
    "                            avg('central_wind_alignment_180_high').alias('central_wind_alignment_180_high'), \\\n",
    "                            avg('ps_pm25_tpy_normed').alias('ps_pm25_tpy_normed'), \\\n",
    "                            avg('school_to_ps_geod_dist_m_normed').alias('school_to_ps_geod_dist_m_normed'), \\\n",
    "                            avg('ps_pm25_tpy').alias('ps_pm25_tpy'), \\\n",
    "                            avg('school_to_ps_geod_dist_m').alias('school_to_ps_geod_dist_m'), \\\n",
    "                            avg('central_wind_alignment_180_high_normed').alias('central_wind_alignment_180_high_normed'), \\\n",
    "                            avg('avg_wspd_normed').alias('avg_wspd_normed'), \\\n",
    "                            avg('avg_wspd').alias('avg_wspd'), \\\n",
    "                            avg('Izmd_v1_unnormed').alias('Izmd_v1_unnormed'), \\\n",
    "                            avg('Izmd_v2_nodist_unnormed').alias('Izmd_v2_nodist_unnormed'), \\\n",
    "                            avg('Izmd_v3_normed_D_and_TPY').alias('Izmd_v3_normed_D_and_TPY'), \\\n",
    "                            avg('Izmd_v4_nodist_normed_TPY').alias('Izmd_v4_nodist_normed_TPY'), \\\n",
    "                            avg('Izmd_v5_all_normed').alias('Izmd_v5_all_normed'), \\\n",
    "                            count('CDSCode')).toPandas()\n",
    "\n",
    "            combined_df['y-m'] = parquet_file\n",
    "\n",
    "            zmy_agg_list.append(combined_df)\n",
    "\n",
    "            # counter for early stopping\n",
    "            counter += 1\n",
    "    df_avgs = pd.concat(df_avgs_list)\n",
    "    df_avgs.to_csv(os.path.join(out_dir_zmy_raw_avgs,'df_zmy_avgs.csv'))\n",
    "                            \n",
    "    df = pd.concat(zmy_agg_list)\n",
    "    \n",
    "    df_merged = pd.merge(df, df_avgs, left_on=[\"school_zip\",\"y-m\"], right_on=[\"zip code\", \"y-m\"], how=\"left\")\n",
    "\n",
    "    return df_avgs_list"
   ]
  },
  {
   "cell_type": "code",
   "execution_count": null,
   "id": "d85423e7",
   "metadata": {},
   "outputs": [],
   "source": [
    "df_avgs_list = aggregate_zmy(early_stopping = 6)"
   ]
  },
  {
   "cell_type": "code",
   "execution_count": null,
   "id": "d937653a",
   "metadata": {},
   "outputs": [],
   "source": []
  },
  {
   "cell_type": "code",
   "execution_count": null,
   "id": "c084cb4f",
   "metadata": {},
   "outputs": [],
   "source": []
  },
  {
   "cell_type": "code",
   "execution_count": null,
   "id": "3d39080d",
   "metadata": {},
   "outputs": [],
   "source": []
  }
 ],
 "metadata": {
  "kernelspec": {
   "display_name": "Python 3",
   "language": "python",
   "name": "python3"
  },
  "language_info": {
   "codemirror_mode": {
    "name": "ipython",
    "version": 3
   },
   "file_extension": ".py",
   "mimetype": "text/x-python",
   "name": "python",
   "nbconvert_exporter": "python",
   "pygments_lexer": "ipython3",
   "version": "3.8.13"
  }
 },
 "nbformat": 4,
 "nbformat_minor": 5
}
