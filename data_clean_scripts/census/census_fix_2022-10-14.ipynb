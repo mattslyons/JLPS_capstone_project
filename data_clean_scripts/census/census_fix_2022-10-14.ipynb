{
 "cells": [
  {
   "cell_type": "markdown",
   "metadata": {},
   "source": [
    "# Fix Population Data\n",
    "\n",
    "Use Cornelia's mapping from census tracts -> zip code to correctly map the CA population to schools"
   ]
  },
  {
   "cell_type": "code",
   "execution_count": 1,
   "metadata": {},
   "outputs": [],
   "source": [
    "# basics\n",
    "import pandas as pd \n",
    "import numpy as np\n",
    "import os \n",
    "import re\n",
    "from datetime import datetime\n",
    "from tqdm.notebook import tqdm\n",
    "tqdm.pandas()\n",
    "import requests\n",
    "import urllib\n",
    "\n",
    "# plotting\n",
    "import matplotlib.pyplot as plt\n",
    "from matplotlib.dates import DateFormatter\n",
    "import plotly.express as px\n",
    "import seaborn as sns\n",
    "\n",
    "# modeling\n",
    "import statsmodels.api as sm\n",
    "\n",
    "pd.set_option('display.max_columns', None)\n",
    "pd.options.mode.chained_assignment = None"
   ]
  },
  {
   "cell_type": "code",
   "execution_count": 5,
   "metadata": {},
   "outputs": [],
   "source": [
    "# local or gdrive\n",
    "path_source = 'local'\n",
    "\n",
    "if path_source == 'gdrive':\n",
    "  from google.colab import drive\n",
    "  drive.mount('/content/gdrive')\n",
    "  data_path = '/content/gdrive/MyDrive/Classes/W210_capstone/W210_Capstone/Data'\n",
    "  #env_path = '/content/gdrive/MyDrive/.env'\n",
    "  \n",
    "elif path_source == 'local':\n",
    "  data_path = '/Users/tj/trevorj@berkeley.edu - Google Drive/My Drive/Classes/W210_capstone/W210_Capstone/Data'\n",
    "  #env_path = '/content/gdrive/MyDrive/.env'\n",
    "\n",
    "elif path_source == 'work':\n",
    "  data_path = '/Users/trevorjohnson/trevorj@berkeley.edu - Google Drive/My Drive/Classes/W210_capstone/W210_Capstone/Data'"
   ]
  },
  {
   "cell_type": "markdown",
   "metadata": {},
   "source": [
    "# Read Data"
   ]
  },
  {
   "cell_type": "code",
   "execution_count": 65,
   "metadata": {},
   "outputs": [],
   "source": [
    "# read in full joined dataset:\n",
    "df = pd.read_parquet(os.path.join(data_path, 'joined_data/joined_open_schools_only_10-10-22.parquet'))\n",
    "\n",
    "# read in census data\n",
    "df_census = pd.read_csv(os.path.join(data_path, 'census/census_bureau_clean/census_bureau.csv'))\n",
    "\n",
    "# zcta -> zip crosswalk\n",
    "df_zips = pd.read_csv(os.path.join(data_path, 'census/ZiptoZcta_Crosswalk_2021.csv'))\n"
   ]
  },
  {
   "cell_type": "markdown",
   "metadata": {},
   "source": [
    "# Data Clean"
   ]
  },
  {
   "cell_type": "code",
   "execution_count": 66,
   "metadata": {},
   "outputs": [],
   "source": [
    "# df_zip cleaning:\n",
    "# make all the cols lowercase\n",
    "df_zips.columns = df_zips.columns.str.lower()\n",
    "# only need CA\n",
    "df_zips = df_zips[df_zips['state'] == 'CA']\n",
    "# convert to int\n",
    "df_zips['zcta'] = df_zips['zcta'].astype(int)\n",
    "\n",
    "\n",
    "# Census cleaning:\n",
    "df_census['pop_under19_male']   = df_census['population_0_4_male']   + df_census['population_5_9_male']   + df_census['population_10_14_male']   + df_census['population_15_19_male']\n",
    "df_census['pop_under19_female'] = df_census['population_0_4_female'] + df_census['population_5_9_female'] + df_census['population_10_14_female'] + df_census['population_15_19_female']"
   ]
  },
  {
   "cell_type": "markdown",
   "metadata": {},
   "source": [
    "# Data Checks"
   ]
  },
  {
   "cell_type": "markdown",
   "metadata": {},
   "source": [
    "Strangly there are two zip code fields in our dataset. I think the one labeled \"Zip Code\" is for something else, and we should probs only worry about the \"school_zip\". They have a ~99.9% match rate."
   ]
  },
  {
   "cell_type": "code",
   "execution_count": 70,
   "metadata": {},
   "outputs": [
    {
     "name": "stdout",
     "output_type": "stream",
     "text": [
      "0.9988100594282459\n"
     ]
    }
   ],
   "source": [
    "df2 = df[['year', 'school_zip', 'year_month', 'pop_under19_female', 'pop_under19_female', 'total_pop_under19']]\n",
    "\n",
    "# do the two zip codes in this file always align? pretty much always, but not 100%\n",
    "# let's not worry about this, and focus on the school zips\n",
    "match_rate = (df['school_zip'].astype(str) == df['Zip Code']).sum() / df.shape[0]\n",
    "print(match_rate)"
   ]
  },
  {
   "cell_type": "markdown",
   "metadata": {},
   "source": [
    "Likely will want to use the option where: zip_join_type = Zip matches ZCTA"
   ]
  },
  {
   "cell_type": "code",
   "execution_count": 43,
   "metadata": {},
   "outputs": [
    {
     "data": {
      "text/plain": [
       "Zip matches ZCTA               1761\n",
       "Spatial join to ZCTA            833\n",
       "populated ZCTA, missing zip       1\n",
       "Name: zip_join_type, dtype: int64"
      ]
     },
     "execution_count": 43,
     "metadata": {},
     "output_type": "execute_result"
    }
   ],
   "source": [
    "#df_zips.sort_values('zcta')\n",
    "df_zips['zip_join_type'].value_counts()"
   ]
  },
  {
   "cell_type": "code",
   "execution_count": 49,
   "metadata": {},
   "outputs": [
    {
     "name": "stdout",
     "output_type": "stream",
     "text": [
      "num distinct CA zips in mapping file: 2590\n",
      "num distinct school zips in joined df file: 1391\n",
      "num distinct census tracts in population file: 1769\n"
     ]
    }
   ],
   "source": [
    "a1 = df_zips['zip_code'].drop_duplicates().shape[0]\n",
    "print(f'num distinct CA zips in mapping file: {a1}')\n",
    "\n",
    "a2 = df[['school_zip']].drop_duplicates().shape[0]\n",
    "print(f'num distinct school zips in joined df file: {a2}')\n",
    "\n",
    "a3 = df_census['zip'].drop_duplicates().shape[0]\n",
    "print(f'num distinct census tracts in population file: {a3}')"
   ]
  },
  {
   "cell_type": "code",
   "execution_count": 80,
   "metadata": {},
   "outputs": [
    {
     "name": "stdout",
     "output_type": "stream",
     "text": [
      "0.9954776710005653\n",
      "\n",
      " here are the 8 zctas that dont match\n",
      "{97635, 89060, 89061, 89010, 95250, 95314, 89019, 89439}\n"
     ]
    }
   ],
   "source": [
    "df_zips2 = df_zips[df_zips['zip_join_type'] == 'Zip matches ZCTA']\n",
    "x1 = set(df_zips2['zcta'].to_list())\n",
    "\n",
    "\n",
    "x2 = set(df_census['zip'].to_list()) \n",
    "\n",
    "# 99.5% of the census zcta's are in the zip matching file\n",
    "print(len(x1 & x2) / len(x2))\n",
    "\n",
    "print('\\n here are the 8 zctas that dont match')\n",
    "print(x2 - x1)"
   ]
  },
  {
   "cell_type": "markdown",
   "metadata": {},
   "source": [
    "I looked up those 8 census tracts manually:\n",
    "- 6 of them are actually outside of CA (on the boarder of Oregon or Nevada). And they are labeled as \"Zip matches ZCTA\" when I look them up online. \n",
    "- 2 of them: 95250, 95314. Are actually not found in the census tract list, but are valid CA zip code. \n",
    "\n",
    "\n",
    "## Thus, I think our joined dataset is fine to use as-is with the way we've used the zips."
   ]
  },
  {
   "cell_type": "code",
   "execution_count": null,
   "metadata": {},
   "outputs": [],
   "source": []
  }
 ],
 "metadata": {
  "kernelspec": {
   "display_name": "Python 3.9.1 64-bit ('miniconda3')",
   "language": "python",
   "name": "python3"
  },
  "language_info": {
   "codemirror_mode": {
    "name": "ipython",
    "version": 3
   },
   "file_extension": ".py",
   "mimetype": "text/x-python",
   "name": "python",
   "nbconvert_exporter": "python",
   "pygments_lexer": "ipython3",
   "version": "3.9.1"
  },
  "orig_nbformat": 4,
  "vscode": {
   "interpreter": {
    "hash": "b25cd5a5a3cd1ea9e93fd254f185f4731ffaa4421de0b98534600687fe3ed44f"
   }
  }
 },
 "nbformat": 4,
 "nbformat_minor": 2
}
