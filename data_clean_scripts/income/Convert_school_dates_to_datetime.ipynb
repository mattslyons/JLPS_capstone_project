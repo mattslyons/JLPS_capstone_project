{
 "cells": [
  {
   "cell_type": "code",
   "execution_count": 1,
   "id": "6149abbc",
   "metadata": {
    "scrolled": true
   },
   "outputs": [],
   "source": [
    "import pandas as pd\n",
    "import numpy as np\n",
    "import os\n",
    "import matplotlib.pyplot as plt\n",
    "import pyarrow\n",
    "from datetime import datetime\n",
    "from meteostat import Point, Daily, Stations, Monthly\n",
    "\n",
    "#https://meteostat.net/en/blog/obtain-weather-data-any-location-python"
   ]
  },
  {
   "cell_type": "code",
   "execution_count": 2,
   "id": "aec0bdf3",
   "metadata": {
    "scrolled": true
   },
   "outputs": [
    {
     "name": "stdout",
     "output_type": "stream",
     "text": [
      "Requirement already satisfied: meteostat in /Users/michelle/anaconda3/lib/python3.8/site-packages (1.6.5)\n",
      "Requirement already satisfied: pandas>=1.1 in /Users/michelle/anaconda3/lib/python3.8/site-packages (from meteostat) (1.4.3)\n",
      "Requirement already satisfied: pytz in /Users/michelle/anaconda3/lib/python3.8/site-packages (from meteostat) (2022.1)\n",
      "Requirement already satisfied: numpy in /Users/michelle/anaconda3/lib/python3.8/site-packages (from meteostat) (1.23.1)\n",
      "Requirement already satisfied: python-dateutil>=2.8.1 in /Users/michelle/anaconda3/lib/python3.8/site-packages (from pandas>=1.1->meteostat) (2.8.2)\n",
      "Requirement already satisfied: six>=1.5 in /Users/michelle/anaconda3/lib/python3.8/site-packages (from python-dateutil>=2.8.1->pandas>=1.1->meteostat) (1.16.0)\n"
     ]
    }
   ],
   "source": [
    "!pip install meteostat"
   ]
  },
  {
   "cell_type": "code",
   "execution_count": 2,
   "id": "ffe8d1df",
   "metadata": {},
   "outputs": [],
   "source": [
    "cwd = os.getcwd()\n",
    "cwd\n",
    "pd.set_option('display.max_columns', None)"
   ]
  },
  {
   "cell_type": "code",
   "execution_count": 3,
   "id": "eb8e37da",
   "metadata": {},
   "outputs": [],
   "source": [
    "point_elevations = pd.read_csv('pollution_point_source_elevations.csv', low_memory=False)\n",
    "school_elevations = pd.read_parquet('school_elevations.parquet', engine='pyarrow')"
   ]
  },
  {
   "cell_type": "code",
   "execution_count": 5,
   "id": "a324e72f",
   "metadata": {},
   "outputs": [],
   "source": [
    "joined = pd.read_parquet('joined_filtered_data.parquet', engine='pyarrow')"
   ]
  },
  {
   "cell_type": "code",
   "execution_count": 187,
   "id": "fc368ae8",
   "metadata": {},
   "outputs": [
    {
     "data": {
      "text/html": [
       "<div>\n",
       "<style scoped>\n",
       "    .dataframe tbody tr th:only-of-type {\n",
       "        vertical-align: middle;\n",
       "    }\n",
       "\n",
       "    .dataframe tbody tr th {\n",
       "        vertical-align: top;\n",
       "    }\n",
       "\n",
       "    .dataframe thead th {\n",
       "        text-align: right;\n",
       "    }\n",
       "</style>\n",
       "<table border=\"1\" class=\"dataframe\">\n",
       "  <thead>\n",
       "    <tr style=\"text-align: right;\">\n",
       "      <th></th>\n",
       "      <th>year</th>\n",
       "      <th>cdscode</th>\n",
       "      <th>school_county</th>\n",
       "      <th>school_zip</th>\n",
       "      <th>school_region_name</th>\n",
       "      <th>school_open_date</th>\n",
       "      <th>school_closed_date</th>\n",
       "      <th>school_lat</th>\n",
       "      <th>school_lon</th>\n",
       "      <th>school_wspd</th>\n",
       "      <th>school_elevation_m</th>\n",
       "      <th>year_month</th>\n",
       "      <th>total_population</th>\n",
       "      <th>total_population_male</th>\n",
       "      <th>total_population_female</th>\n",
       "      <th>population_0_4</th>\n",
       "      <th>population_0_4_male</th>\n",
       "      <th>population_0_4_female</th>\n",
       "      <th>population_5_9</th>\n",
       "      <th>population_5_9_male</th>\n",
       "      <th>population_5_9_female</th>\n",
       "      <th>population_10_14</th>\n",
       "      <th>population_10_14_male</th>\n",
       "      <th>population_10_14_female</th>\n",
       "      <th>population_15_19</th>\n",
       "      <th>population_15_19_male</th>\n",
       "      <th>population_15_19_female</th>\n",
       "      <th>pop_under19_male</th>\n",
       "      <th>pop_under19_female</th>\n",
       "      <th>total_pop_under19</th>\n",
       "      <th>pm25</th>\n",
       "      <th>point_source_lat</th>\n",
       "      <th>point_source_lon</th>\n",
       "      <th>ps_elevation_m</th>\n",
       "      <th>point_source_pm25_tpy</th>\n",
       "      <th>dist_school_to_ps_m</th>\n",
       "      <th>angle_to_school</th>\n",
       "      <th>ps_wind_lat</th>\n",
       "      <th>ps_wind_lon</th>\n",
       "      <th>ps_wspd_merge</th>\n",
       "      <th>school_wdir_wrt_0N</th>\n",
       "      <th>ps_wdir_wrt_0N</th>\n",
       "      <th>school_wind_alignment</th>\n",
       "      <th>ps_wind_alignment</th>\n",
       "      <th>avg_wind_speed</th>\n",
       "      <th>avg_wind_alignment</th>\n",
       "      <th>avg_wind_alignment_cosine</th>\n",
       "    </tr>\n",
       "  </thead>\n",
       "  <tbody>\n",
       "    <tr>\n",
       "      <th>0</th>\n",
       "      <td>2010.0</td>\n",
       "      <td>20102070109728</td>\n",
       "      <td>Madera</td>\n",
       "      <td>93610</td>\n",
       "      <td>Northern San Joaquin Valley</td>\n",
       "      <td>8/16/2005</td>\n",
       "      <td>6/30/2014</td>\n",
       "      <td>37.115210</td>\n",
       "      <td>-120.26603</td>\n",
       "      <td>1.531352</td>\n",
       "      <td>70.84</td>\n",
       "      <td>2010-04</td>\n",
       "      <td>23833.0</td>\n",
       "      <td>8280.0</td>\n",
       "      <td>15553.0</td>\n",
       "      <td>1439.0</td>\n",
       "      <td>694.0</td>\n",
       "      <td>745.0</td>\n",
       "      <td>1485.0</td>\n",
       "      <td>729.0</td>\n",
       "      <td>756.0</td>\n",
       "      <td>1407.0</td>\n",
       "      <td>740.0</td>\n",
       "      <td>667.0</td>\n",
       "      <td>1473.0</td>\n",
       "      <td>753.0</td>\n",
       "      <td>720.0</td>\n",
       "      <td>2916.0</td>\n",
       "      <td>2888.0</td>\n",
       "      <td>5804.0</td>\n",
       "      <td>7.736047</td>\n",
       "      <td>37.1056</td>\n",
       "      <td>-120.2487</td>\n",
       "      <td>73.3</td>\n",
       "      <td>2.0127727</td>\n",
       "      <td>1873.525780181077</td>\n",
       "      <td>-55.29643968357893</td>\n",
       "      <td>NaN</td>\n",
       "      <td>NaN</td>\n",
       "      <td>1.531352</td>\n",
       "      <td>102.528057</td>\n",
       "      <td>102.528057</td>\n",
       "      <td>157.824497</td>\n",
       "      <td>157.824497</td>\n",
       "      <td>1.531352</td>\n",
       "      <td>157.824497</td>\n",
       "      <td>0.073968</td>\n",
       "    </tr>\n",
       "    <tr>\n",
       "      <th>1</th>\n",
       "      <td>2010.0</td>\n",
       "      <td>20102072030187</td>\n",
       "      <td>Madera</td>\n",
       "      <td>93610</td>\n",
       "      <td>Northern San Joaquin Valley</td>\n",
       "      <td>1/22/2001</td>\n",
       "      <td>6/30/2014</td>\n",
       "      <td>37.115210</td>\n",
       "      <td>-120.26603</td>\n",
       "      <td>1.531352</td>\n",
       "      <td>70.84</td>\n",
       "      <td>2010-04</td>\n",
       "      <td>23833.0</td>\n",
       "      <td>8280.0</td>\n",
       "      <td>15553.0</td>\n",
       "      <td>1439.0</td>\n",
       "      <td>694.0</td>\n",
       "      <td>745.0</td>\n",
       "      <td>1485.0</td>\n",
       "      <td>729.0</td>\n",
       "      <td>756.0</td>\n",
       "      <td>1407.0</td>\n",
       "      <td>740.0</td>\n",
       "      <td>667.0</td>\n",
       "      <td>1473.0</td>\n",
       "      <td>753.0</td>\n",
       "      <td>720.0</td>\n",
       "      <td>2916.0</td>\n",
       "      <td>2888.0</td>\n",
       "      <td>5804.0</td>\n",
       "      <td>7.736047</td>\n",
       "      <td>37.1056</td>\n",
       "      <td>-120.2487</td>\n",
       "      <td>73.3</td>\n",
       "      <td>2.0127727</td>\n",
       "      <td>1873.525780181077</td>\n",
       "      <td>-55.29643968357893</td>\n",
       "      <td>NaN</td>\n",
       "      <td>NaN</td>\n",
       "      <td>1.531352</td>\n",
       "      <td>102.528057</td>\n",
       "      <td>102.528057</td>\n",
       "      <td>157.824497</td>\n",
       "      <td>157.824497</td>\n",
       "      <td>1.531352</td>\n",
       "      <td>157.824497</td>\n",
       "      <td>0.073968</td>\n",
       "    </tr>\n",
       "    <tr>\n",
       "      <th>2</th>\n",
       "      <td>2010.0</td>\n",
       "      <td>20651930000000</td>\n",
       "      <td>Madera</td>\n",
       "      <td>93610</td>\n",
       "      <td>Northern San Joaquin Valley</td>\n",
       "      <td>No Data</td>\n",
       "      <td>No Data</td>\n",
       "      <td>37.122449</td>\n",
       "      <td>-120.26487</td>\n",
       "      <td>1.531352</td>\n",
       "      <td>72.77</td>\n",
       "      <td>2010-04</td>\n",
       "      <td>23833.0</td>\n",
       "      <td>8280.0</td>\n",
       "      <td>15553.0</td>\n",
       "      <td>1439.0</td>\n",
       "      <td>694.0</td>\n",
       "      <td>745.0</td>\n",
       "      <td>1485.0</td>\n",
       "      <td>729.0</td>\n",
       "      <td>756.0</td>\n",
       "      <td>1407.0</td>\n",
       "      <td>740.0</td>\n",
       "      <td>667.0</td>\n",
       "      <td>1473.0</td>\n",
       "      <td>753.0</td>\n",
       "      <td>720.0</td>\n",
       "      <td>2916.0</td>\n",
       "      <td>2888.0</td>\n",
       "      <td>5804.0</td>\n",
       "      <td>7.736047</td>\n",
       "      <td>37.1056</td>\n",
       "      <td>-120.2487</td>\n",
       "      <td>73.3</td>\n",
       "      <td>2.0127727</td>\n",
       "      <td>2358.38241919395</td>\n",
       "      <td>-37.54028477906731</td>\n",
       "      <td>NaN</td>\n",
       "      <td>NaN</td>\n",
       "      <td>1.531352</td>\n",
       "      <td>102.528057</td>\n",
       "      <td>102.528057</td>\n",
       "      <td>140.068342</td>\n",
       "      <td>140.068342</td>\n",
       "      <td>1.531352</td>\n",
       "      <td>140.068342</td>\n",
       "      <td>0.233189</td>\n",
       "    </tr>\n",
       "    <tr>\n",
       "      <th>3</th>\n",
       "      <td>2010.0</td>\n",
       "      <td>20651930113076</td>\n",
       "      <td>Madera</td>\n",
       "      <td>93610</td>\n",
       "      <td>Northern San Joaquin Valley</td>\n",
       "      <td>8/21/2007</td>\n",
       "      <td>No Data</td>\n",
       "      <td>37.131113</td>\n",
       "      <td>-120.242025</td>\n",
       "      <td>1.531352</td>\n",
       "      <td>77.12</td>\n",
       "      <td>2010-04</td>\n",
       "      <td>23833.0</td>\n",
       "      <td>8280.0</td>\n",
       "      <td>15553.0</td>\n",
       "      <td>1439.0</td>\n",
       "      <td>694.0</td>\n",
       "      <td>745.0</td>\n",
       "      <td>1485.0</td>\n",
       "      <td>729.0</td>\n",
       "      <td>756.0</td>\n",
       "      <td>1407.0</td>\n",
       "      <td>740.0</td>\n",
       "      <td>667.0</td>\n",
       "      <td>1473.0</td>\n",
       "      <td>753.0</td>\n",
       "      <td>720.0</td>\n",
       "      <td>2916.0</td>\n",
       "      <td>2888.0</td>\n",
       "      <td>5804.0</td>\n",
       "      <td>7.736047</td>\n",
       "      <td>37.1056</td>\n",
       "      <td>-120.2487</td>\n",
       "      <td>73.3</td>\n",
       "      <td>2.0127727</td>\n",
       "      <td>2892.9075458251764</td>\n",
       "      <td>11.831222108044384</td>\n",
       "      <td>NaN</td>\n",
       "      <td>NaN</td>\n",
       "      <td>1.531352</td>\n",
       "      <td>102.528057</td>\n",
       "      <td>102.528057</td>\n",
       "      <td>90.696835</td>\n",
       "      <td>90.696835</td>\n",
       "      <td>1.531352</td>\n",
       "      <td>90.696835</td>\n",
       "      <td>0.987838</td>\n",
       "    </tr>\n",
       "    <tr>\n",
       "      <th>4</th>\n",
       "      <td>2010.0</td>\n",
       "      <td>20651936023907</td>\n",
       "      <td>Madera</td>\n",
       "      <td>93610</td>\n",
       "      <td>Northern San Joaquin Valley</td>\n",
       "      <td>7/1/1980</td>\n",
       "      <td>No Data</td>\n",
       "      <td>37.115243</td>\n",
       "      <td>-120.26777</td>\n",
       "      <td>1.531352</td>\n",
       "      <td>70.66</td>\n",
       "      <td>2010-04</td>\n",
       "      <td>23833.0</td>\n",
       "      <td>8280.0</td>\n",
       "      <td>15553.0</td>\n",
       "      <td>1439.0</td>\n",
       "      <td>694.0</td>\n",
       "      <td>745.0</td>\n",
       "      <td>1485.0</td>\n",
       "      <td>729.0</td>\n",
       "      <td>756.0</td>\n",
       "      <td>1407.0</td>\n",
       "      <td>740.0</td>\n",
       "      <td>667.0</td>\n",
       "      <td>1473.0</td>\n",
       "      <td>753.0</td>\n",
       "      <td>720.0</td>\n",
       "      <td>2916.0</td>\n",
       "      <td>2888.0</td>\n",
       "      <td>5804.0</td>\n",
       "      <td>7.736047</td>\n",
       "      <td>37.1056</td>\n",
       "      <td>-120.2487</td>\n",
       "      <td>73.3</td>\n",
       "      <td>2.0127727</td>\n",
       "      <td>2004.5665433091058</td>\n",
       "      <td>-57.72695665034661</td>\n",
       "      <td>NaN</td>\n",
       "      <td>NaN</td>\n",
       "      <td>1.531352</td>\n",
       "      <td>102.528057</td>\n",
       "      <td>102.528057</td>\n",
       "      <td>160.255014</td>\n",
       "      <td>160.255014</td>\n",
       "      <td>1.531352</td>\n",
       "      <td>160.255014</td>\n",
       "      <td>0.058794</td>\n",
       "    </tr>\n",
       "  </tbody>\n",
       "</table>\n",
       "</div>"
      ],
      "text/plain": [
       "     year         cdscode school_county school_zip  \\\n",
       "0  2010.0  20102070109728        Madera      93610   \n",
       "1  2010.0  20102072030187        Madera      93610   \n",
       "2  2010.0  20651930000000        Madera      93610   \n",
       "3  2010.0  20651930113076        Madera      93610   \n",
       "4  2010.0  20651936023907        Madera      93610   \n",
       "\n",
       "            school_region_name school_open_date school_closed_date school_lat  \\\n",
       "0  Northern San Joaquin Valley        8/16/2005          6/30/2014  37.115210   \n",
       "1  Northern San Joaquin Valley        1/22/2001          6/30/2014  37.115210   \n",
       "2  Northern San Joaquin Valley          No Data            No Data  37.122449   \n",
       "3  Northern San Joaquin Valley        8/21/2007            No Data  37.131113   \n",
       "4  Northern San Joaquin Valley         7/1/1980            No Data  37.115243   \n",
       "\n",
       "    school_lon  school_wspd  school_elevation_m year_month total_population  \\\n",
       "0   -120.26603     1.531352               70.84    2010-04          23833.0   \n",
       "1   -120.26603     1.531352               70.84    2010-04          23833.0   \n",
       "2   -120.26487     1.531352               72.77    2010-04          23833.0   \n",
       "3  -120.242025     1.531352               77.12    2010-04          23833.0   \n",
       "4   -120.26777     1.531352               70.66    2010-04          23833.0   \n",
       "\n",
       "  total_population_male total_population_female population_0_4  \\\n",
       "0                8280.0                 15553.0         1439.0   \n",
       "1                8280.0                 15553.0         1439.0   \n",
       "2                8280.0                 15553.0         1439.0   \n",
       "3                8280.0                 15553.0         1439.0   \n",
       "4                8280.0                 15553.0         1439.0   \n",
       "\n",
       "  population_0_4_male population_0_4_female population_5_9  \\\n",
       "0               694.0                 745.0         1485.0   \n",
       "1               694.0                 745.0         1485.0   \n",
       "2               694.0                 745.0         1485.0   \n",
       "3               694.0                 745.0         1485.0   \n",
       "4               694.0                 745.0         1485.0   \n",
       "\n",
       "  population_5_9_male population_5_9_female population_10_14  \\\n",
       "0               729.0                 756.0           1407.0   \n",
       "1               729.0                 756.0           1407.0   \n",
       "2               729.0                 756.0           1407.0   \n",
       "3               729.0                 756.0           1407.0   \n",
       "4               729.0                 756.0           1407.0   \n",
       "\n",
       "  population_10_14_male population_10_14_female population_15_19  \\\n",
       "0                 740.0                   667.0           1473.0   \n",
       "1                 740.0                   667.0           1473.0   \n",
       "2                 740.0                   667.0           1473.0   \n",
       "3                 740.0                   667.0           1473.0   \n",
       "4                 740.0                   667.0           1473.0   \n",
       "\n",
       "  population_15_19_male population_15_19_female  pop_under19_male  \\\n",
       "0                 753.0                   720.0            2916.0   \n",
       "1                 753.0                   720.0            2916.0   \n",
       "2                 753.0                   720.0            2916.0   \n",
       "3                 753.0                   720.0            2916.0   \n",
       "4                 753.0                   720.0            2916.0   \n",
       "\n",
       "   pop_under19_female total_pop_under19      pm25 point_source_lat  \\\n",
       "0              2888.0            5804.0  7.736047          37.1056   \n",
       "1              2888.0            5804.0  7.736047          37.1056   \n",
       "2              2888.0            5804.0  7.736047          37.1056   \n",
       "3              2888.0            5804.0  7.736047          37.1056   \n",
       "4              2888.0            5804.0  7.736047          37.1056   \n",
       "\n",
       "  point_source_lon ps_elevation_m point_source_pm25_tpy dist_school_to_ps_m  \\\n",
       "0        -120.2487           73.3             2.0127727   1873.525780181077   \n",
       "1        -120.2487           73.3             2.0127727   1873.525780181077   \n",
       "2        -120.2487           73.3             2.0127727    2358.38241919395   \n",
       "3        -120.2487           73.3             2.0127727  2892.9075458251764   \n",
       "4        -120.2487           73.3             2.0127727  2004.5665433091058   \n",
       "\n",
       "      angle_to_school  ps_wind_lat  ps_wind_lon  ps_wspd_merge  \\\n",
       "0  -55.29643968357893          NaN          NaN       1.531352   \n",
       "1  -55.29643968357893          NaN          NaN       1.531352   \n",
       "2  -37.54028477906731          NaN          NaN       1.531352   \n",
       "3  11.831222108044384          NaN          NaN       1.531352   \n",
       "4  -57.72695665034661          NaN          NaN       1.531352   \n",
       "\n",
       "   school_wdir_wrt_0N  ps_wdir_wrt_0N  school_wind_alignment  \\\n",
       "0          102.528057      102.528057             157.824497   \n",
       "1          102.528057      102.528057             157.824497   \n",
       "2          102.528057      102.528057             140.068342   \n",
       "3          102.528057      102.528057              90.696835   \n",
       "4          102.528057      102.528057             160.255014   \n",
       "\n",
       "   ps_wind_alignment  avg_wind_speed  avg_wind_alignment  \\\n",
       "0         157.824497        1.531352          157.824497   \n",
       "1         157.824497        1.531352          157.824497   \n",
       "2         140.068342        1.531352          140.068342   \n",
       "3          90.696835        1.531352           90.696835   \n",
       "4         160.255014        1.531352          160.255014   \n",
       "\n",
       "   avg_wind_alignment_cosine  \n",
       "0                   0.073968  \n",
       "1                   0.073968  \n",
       "2                   0.233189  \n",
       "3                   0.987838  \n",
       "4                   0.058794  "
      ]
     },
     "execution_count": 187,
     "metadata": {},
     "output_type": "execute_result"
    }
   ],
   "source": [
    "joined.head()"
   ]
  },
  {
   "cell_type": "code",
   "execution_count": 6,
   "id": "8c9eaf33",
   "metadata": {
    "scrolled": true
   },
   "outputs": [
    {
     "data": {
      "text/html": [
       "<div>\n",
       "<style scoped>\n",
       "    .dataframe tbody tr th:only-of-type {\n",
       "        vertical-align: middle;\n",
       "    }\n",
       "\n",
       "    .dataframe tbody tr th {\n",
       "        vertical-align: top;\n",
       "    }\n",
       "\n",
       "    .dataframe thead th {\n",
       "        text-align: right;\n",
       "    }\n",
       "</style>\n",
       "<table border=\"1\" class=\"dataframe\">\n",
       "  <thead>\n",
       "    <tr style=\"text-align: right;\">\n",
       "      <th></th>\n",
       "      <th>point_source_lat</th>\n",
       "      <th>point_source_lon</th>\n",
       "      <th>elevation_meters</th>\n",
       "    </tr>\n",
       "  </thead>\n",
       "  <tbody>\n",
       "    <tr>\n",
       "      <th>0</th>\n",
       "      <td>37.105600</td>\n",
       "      <td>-120.248700</td>\n",
       "      <td>73.30</td>\n",
       "    </tr>\n",
       "    <tr>\n",
       "      <th>1</th>\n",
       "      <td>35.151250</td>\n",
       "      <td>-118.016670</td>\n",
       "      <td>740.08</td>\n",
       "    </tr>\n",
       "    <tr>\n",
       "      <th>2</th>\n",
       "      <td>35.513841</td>\n",
       "      <td>-118.901299</td>\n",
       "      <td>250.90</td>\n",
       "    </tr>\n",
       "    <tr>\n",
       "      <th>3</th>\n",
       "      <td>35.576700</td>\n",
       "      <td>-119.785400</td>\n",
       "      <td>175.10</td>\n",
       "    </tr>\n",
       "    <tr>\n",
       "      <th>4</th>\n",
       "      <td>34.534084</td>\n",
       "      <td>-117.861722</td>\n",
       "      <td>900.09</td>\n",
       "    </tr>\n",
       "  </tbody>\n",
       "</table>\n",
       "</div>"
      ],
      "text/plain": [
       "   point_source_lat  point_source_lon  elevation_meters\n",
       "0         37.105600       -120.248700             73.30\n",
       "1         35.151250       -118.016670            740.08\n",
       "2         35.513841       -118.901299            250.90\n",
       "3         35.576700       -119.785400            175.10\n",
       "4         34.534084       -117.861722            900.09"
      ]
     },
     "execution_count": 6,
     "metadata": {},
     "output_type": "execute_result"
    }
   ],
   "source": [
    "elevations.head()"
   ]
  },
  {
   "cell_type": "code",
   "execution_count": 6,
   "id": "4e43f9cd",
   "metadata": {
    "scrolled": false
   },
   "outputs": [
    {
     "data": {
      "text/plain": [
       "str"
      ]
     },
     "execution_count": 6,
     "metadata": {},
     "output_type": "execute_result"
    }
   ],
   "source": [
    "type(joined['school_open_date'][0])"
   ]
  },
  {
   "cell_type": "code",
   "execution_count": 7,
   "id": "1030fb11",
   "metadata": {},
   "outputs": [
    {
     "data": {
      "text/plain": [
       "str"
      ]
     },
     "execution_count": 7,
     "metadata": {},
     "output_type": "execute_result"
    }
   ],
   "source": [
    "type(joined['school_lon'][0])"
   ]
  },
  {
   "cell_type": "code",
   "execution_count": 27,
   "id": "0d93ed2f",
   "metadata": {},
   "outputs": [
    {
     "data": {
      "text/plain": [
       "numpy.float64"
      ]
     },
     "execution_count": 27,
     "metadata": {},
     "output_type": "execute_result"
    }
   ],
   "source": [
    "type(joined['school_lat'][0])"
   ]
  },
  {
   "cell_type": "code",
   "execution_count": 58,
   "id": "d3b9164a",
   "metadata": {},
   "outputs": [
    {
     "data": {
      "text/plain": [
       "numpy.float64"
      ]
     },
     "execution_count": 58,
     "metadata": {},
     "output_type": "execute_result"
    }
   ],
   "source": [
    "type(joined['year'][0])"
   ]
  },
  {
   "cell_type": "code",
   "execution_count": 59,
   "id": "667a4adf",
   "metadata": {},
   "outputs": [
    {
     "data": {
      "text/plain": [
       "0          2010.0\n",
       "1          2010.0\n",
       "2          2010.0\n",
       "3          2010.0\n",
       "4          2010.0\n",
       "            ...  \n",
       "2983106    2016.0\n",
       "2983107    2016.0\n",
       "2983108    2016.0\n",
       "2983109    2016.0\n",
       "2983110    2016.0\n",
       "Name: year, Length: 2983111, dtype: float64"
      ]
     },
     "execution_count": 59,
     "metadata": {},
     "output_type": "execute_result"
    }
   ],
   "source": [
    "joined['year']"
   ]
  },
  {
   "cell_type": "code",
   "execution_count": 17,
   "id": "98ec7ae6",
   "metadata": {},
   "outputs": [],
   "source": [
    "#joined.dtypes"
   ]
  },
  {
   "cell_type": "code",
   "execution_count": 18,
   "id": "5e2a322b",
   "metadata": {},
   "outputs": [
    {
     "data": {
      "text/plain": [
       "numpy.float64"
      ]
     },
     "execution_count": 18,
     "metadata": {},
     "output_type": "execute_result"
    }
   ],
   "source": [
    "type(elevations['point_source_lat'][0])"
   ]
  },
  {
   "cell_type": "code",
   "execution_count": 19,
   "id": "19bdaca1",
   "metadata": {},
   "outputs": [
    {
     "data": {
      "text/plain": [
       "numpy.float64"
      ]
     },
     "execution_count": 19,
     "metadata": {},
     "output_type": "execute_result"
    }
   ],
   "source": [
    "type(elevations['point_source_lon'][0])"
   ]
  },
  {
   "cell_type": "code",
   "execution_count": 20,
   "id": "55aac9e5",
   "metadata": {},
   "outputs": [
    {
     "data": {
      "text/plain": [
       "numpy.float64"
      ]
     },
     "execution_count": 20,
     "metadata": {},
     "output_type": "execute_result"
    }
   ],
   "source": [
    "type(elevations['elevation_meters'][0])"
   ]
  },
  {
   "cell_type": "markdown",
   "id": "6a2091e6",
   "metadata": {},
   "source": [
    "# Convert joined dataset lat/lons to floats"
   ]
  },
  {
   "cell_type": "code",
   "execution_count": null,
   "id": "aa3568d5",
   "metadata": {},
   "outputs": [],
   "source": [
    "# make school_open_date and school_closed_date month-day-year"
   ]
  },
  {
   "cell_type": "code",
   "execution_count": 8,
   "id": "c4f32c7b",
   "metadata": {},
   "outputs": [],
   "source": [
    "def str_to_float(string):\n",
    "    string = string\n",
    "    try:\n",
    "        string = float(string)\n",
    "    except:\n",
    "        print(string)\n",
    "    return string"
   ]
  },
  {
   "cell_type": "code",
   "execution_count": 9,
   "id": "04ab53f9",
   "metadata": {},
   "outputs": [],
   "source": [
    "# converting lat column to floats\n",
    "joined['school_lat'] = joined['school_lat'].apply(str_to_float)"
   ]
  },
  {
   "cell_type": "code",
   "execution_count": 10,
   "id": "499a9653",
   "metadata": {},
   "outputs": [],
   "source": [
    "# converting lon column to floats\n",
    "joined['school_lon'] = joined['school_lon'].apply(str_to_float)"
   ]
  },
  {
   "cell_type": "markdown",
   "id": "7356f507",
   "metadata": {},
   "source": [
    "# Convert school open dates and school closed dates to datetime"
   ]
  },
  {
   "cell_type": "code",
   "execution_count": 11,
   "id": "7bb1f7c9",
   "metadata": {},
   "outputs": [],
   "source": [
    "joined.replace(to_replace='No Data', value=np.nan, inplace=True)"
   ]
  },
  {
   "cell_type": "code",
   "execution_count": 12,
   "id": "39bcffac",
   "metadata": {},
   "outputs": [
    {
     "data": {
      "text/html": [
       "<div>\n",
       "<style scoped>\n",
       "    .dataframe tbody tr th:only-of-type {\n",
       "        vertical-align: middle;\n",
       "    }\n",
       "\n",
       "    .dataframe tbody tr th {\n",
       "        vertical-align: top;\n",
       "    }\n",
       "\n",
       "    .dataframe thead th {\n",
       "        text-align: right;\n",
       "    }\n",
       "</style>\n",
       "<table border=\"1\" class=\"dataframe\">\n",
       "  <thead>\n",
       "    <tr style=\"text-align: right;\">\n",
       "      <th></th>\n",
       "      <th>year</th>\n",
       "      <th>cdscode</th>\n",
       "      <th>school_county</th>\n",
       "      <th>school_zip</th>\n",
       "      <th>school_region_name</th>\n",
       "      <th>school_open_date</th>\n",
       "      <th>school_closed_date</th>\n",
       "      <th>school_lat</th>\n",
       "      <th>school_lon</th>\n",
       "      <th>school_wspd</th>\n",
       "      <th>school_elevation_m</th>\n",
       "      <th>year_month</th>\n",
       "      <th>total_population</th>\n",
       "      <th>total_population_male</th>\n",
       "      <th>total_population_female</th>\n",
       "      <th>population_0_4</th>\n",
       "      <th>population_0_4_male</th>\n",
       "      <th>population_0_4_female</th>\n",
       "      <th>population_5_9</th>\n",
       "      <th>population_5_9_male</th>\n",
       "      <th>population_5_9_female</th>\n",
       "      <th>population_10_14</th>\n",
       "      <th>population_10_14_male</th>\n",
       "      <th>population_10_14_female</th>\n",
       "      <th>population_15_19</th>\n",
       "      <th>population_15_19_male</th>\n",
       "      <th>population_15_19_female</th>\n",
       "      <th>pop_under19_male</th>\n",
       "      <th>pop_under19_female</th>\n",
       "      <th>total_pop_under19</th>\n",
       "      <th>pm25</th>\n",
       "      <th>point_source_lat</th>\n",
       "      <th>point_source_lon</th>\n",
       "      <th>ps_elevation_m</th>\n",
       "      <th>point_source_pm25_tpy</th>\n",
       "      <th>dist_school_to_ps_m</th>\n",
       "      <th>angle_to_school</th>\n",
       "      <th>ps_wind_lat</th>\n",
       "      <th>ps_wind_lon</th>\n",
       "      <th>ps_wspd_merge</th>\n",
       "      <th>school_wdir_wrt_0N</th>\n",
       "      <th>ps_wdir_wrt_0N</th>\n",
       "      <th>school_wind_alignment</th>\n",
       "      <th>ps_wind_alignment</th>\n",
       "      <th>avg_wind_speed</th>\n",
       "      <th>avg_wind_alignment</th>\n",
       "      <th>avg_wind_alignment_cosine</th>\n",
       "    </tr>\n",
       "  </thead>\n",
       "  <tbody>\n",
       "  </tbody>\n",
       "</table>\n",
       "</div>"
      ],
      "text/plain": [
       "Empty DataFrame\n",
       "Columns: [year, cdscode, school_county, school_zip, school_region_name, school_open_date, school_closed_date, school_lat, school_lon, school_wspd, school_elevation_m, year_month, total_population, total_population_male, total_population_female, population_0_4, population_0_4_male, population_0_4_female, population_5_9, population_5_9_male, population_5_9_female, population_10_14, population_10_14_male, population_10_14_female, population_15_19, population_15_19_male, population_15_19_female, pop_under19_male, pop_under19_female, total_pop_under19, pm25, point_source_lat, point_source_lon, ps_elevation_m, point_source_pm25_tpy, dist_school_to_ps_m, angle_to_school, ps_wind_lat, ps_wind_lon, ps_wspd_merge, school_wdir_wrt_0N, ps_wdir_wrt_0N, school_wind_alignment, ps_wind_alignment, avg_wind_speed, avg_wind_alignment, avg_wind_alignment_cosine]\n",
       "Index: []"
      ]
     },
     "execution_count": 12,
     "metadata": {},
     "output_type": "execute_result"
    }
   ],
   "source": [
    "joined[joined['school_open_date'] == 'No Data']"
   ]
  },
  {
   "cell_type": "code",
   "execution_count": 13,
   "id": "cd9a9157",
   "metadata": {},
   "outputs": [],
   "source": [
    "joined['school_open_date'] = pd.to_datetime(joined['school_open_date'])\n",
    "#joined['school_open_date'] = joined['school_open_date'].dt.date"
   ]
  },
  {
   "cell_type": "code",
   "execution_count": 14,
   "id": "885a48cb",
   "metadata": {},
   "outputs": [],
   "source": [
    "joined['school_closed_date'] = pd.to_datetime(joined['school_closed_date'])"
   ]
  },
  {
   "cell_type": "code",
   "execution_count": 15,
   "id": "fc43e9f0",
   "metadata": {},
   "outputs": [],
   "source": [
    "joined['new_year'] = pd.to_datetime(joined['year'], format='%Y')"
   ]
  },
  {
   "cell_type": "code",
   "execution_count": 20,
   "id": "cc4e5e72",
   "metadata": {},
   "outputs": [],
   "source": [
    "joined['new_ym'] = pd.to_datetime(joined['year_month'])"
   ]
  },
  {
   "cell_type": "code",
   "execution_count": 21,
   "id": "dc910064",
   "metadata": {},
   "outputs": [
    {
     "data": {
      "text/html": [
       "<div>\n",
       "<style scoped>\n",
       "    .dataframe tbody tr th:only-of-type {\n",
       "        vertical-align: middle;\n",
       "    }\n",
       "\n",
       "    .dataframe tbody tr th {\n",
       "        vertical-align: top;\n",
       "    }\n",
       "\n",
       "    .dataframe thead th {\n",
       "        text-align: right;\n",
       "    }\n",
       "</style>\n",
       "<table border=\"1\" class=\"dataframe\">\n",
       "  <thead>\n",
       "    <tr style=\"text-align: right;\">\n",
       "      <th></th>\n",
       "      <th>year</th>\n",
       "      <th>cdscode</th>\n",
       "      <th>school_county</th>\n",
       "      <th>school_zip</th>\n",
       "      <th>school_region_name</th>\n",
       "      <th>school_open_date</th>\n",
       "      <th>school_closed_date</th>\n",
       "      <th>school_lat</th>\n",
       "      <th>school_lon</th>\n",
       "      <th>school_wspd</th>\n",
       "      <th>school_elevation_m</th>\n",
       "      <th>year_month</th>\n",
       "      <th>total_population</th>\n",
       "      <th>total_population_male</th>\n",
       "      <th>total_population_female</th>\n",
       "      <th>population_0_4</th>\n",
       "      <th>population_0_4_male</th>\n",
       "      <th>population_0_4_female</th>\n",
       "      <th>population_5_9</th>\n",
       "      <th>population_5_9_male</th>\n",
       "      <th>population_5_9_female</th>\n",
       "      <th>population_10_14</th>\n",
       "      <th>population_10_14_male</th>\n",
       "      <th>population_10_14_female</th>\n",
       "      <th>population_15_19</th>\n",
       "      <th>population_15_19_male</th>\n",
       "      <th>population_15_19_female</th>\n",
       "      <th>pop_under19_male</th>\n",
       "      <th>pop_under19_female</th>\n",
       "      <th>total_pop_under19</th>\n",
       "      <th>pm25</th>\n",
       "      <th>point_source_lat</th>\n",
       "      <th>point_source_lon</th>\n",
       "      <th>ps_elevation_m</th>\n",
       "      <th>point_source_pm25_tpy</th>\n",
       "      <th>dist_school_to_ps_m</th>\n",
       "      <th>angle_to_school</th>\n",
       "      <th>ps_wind_lat</th>\n",
       "      <th>ps_wind_lon</th>\n",
       "      <th>ps_wspd_merge</th>\n",
       "      <th>school_wdir_wrt_0N</th>\n",
       "      <th>ps_wdir_wrt_0N</th>\n",
       "      <th>school_wind_alignment</th>\n",
       "      <th>ps_wind_alignment</th>\n",
       "      <th>avg_wind_speed</th>\n",
       "      <th>avg_wind_alignment</th>\n",
       "      <th>avg_wind_alignment_cosine</th>\n",
       "      <th>new_year</th>\n",
       "      <th>new_ym</th>\n",
       "    </tr>\n",
       "  </thead>\n",
       "  <tbody>\n",
       "    <tr>\n",
       "      <th>0</th>\n",
       "      <td>2010.0</td>\n",
       "      <td>20102070109728</td>\n",
       "      <td>Madera</td>\n",
       "      <td>93610</td>\n",
       "      <td>Northern San Joaquin Valley</td>\n",
       "      <td>2005-08-16</td>\n",
       "      <td>2014-06-30</td>\n",
       "      <td>37.115210</td>\n",
       "      <td>-120.266030</td>\n",
       "      <td>1.531352</td>\n",
       "      <td>70.84</td>\n",
       "      <td>2010-04</td>\n",
       "      <td>23833.0</td>\n",
       "      <td>8280.0</td>\n",
       "      <td>15553.0</td>\n",
       "      <td>1439.0</td>\n",
       "      <td>694.0</td>\n",
       "      <td>745.0</td>\n",
       "      <td>1485.0</td>\n",
       "      <td>729.0</td>\n",
       "      <td>756.0</td>\n",
       "      <td>1407.0</td>\n",
       "      <td>740.0</td>\n",
       "      <td>667.0</td>\n",
       "      <td>1473.0</td>\n",
       "      <td>753.0</td>\n",
       "      <td>720.0</td>\n",
       "      <td>2916.0</td>\n",
       "      <td>2888.0</td>\n",
       "      <td>5804.0</td>\n",
       "      <td>7.736047</td>\n",
       "      <td>37.1056</td>\n",
       "      <td>-120.2487</td>\n",
       "      <td>73.3</td>\n",
       "      <td>2.0127727</td>\n",
       "      <td>1873.525780181077</td>\n",
       "      <td>-55.29643968357893</td>\n",
       "      <td>NaN</td>\n",
       "      <td>NaN</td>\n",
       "      <td>1.531352</td>\n",
       "      <td>102.528057</td>\n",
       "      <td>102.528057</td>\n",
       "      <td>157.824497</td>\n",
       "      <td>157.824497</td>\n",
       "      <td>1.531352</td>\n",
       "      <td>157.824497</td>\n",
       "      <td>0.073968</td>\n",
       "      <td>2010-01-01</td>\n",
       "      <td>2010-04-01</td>\n",
       "    </tr>\n",
       "    <tr>\n",
       "      <th>1</th>\n",
       "      <td>2010.0</td>\n",
       "      <td>20102072030187</td>\n",
       "      <td>Madera</td>\n",
       "      <td>93610</td>\n",
       "      <td>Northern San Joaquin Valley</td>\n",
       "      <td>2001-01-22</td>\n",
       "      <td>2014-06-30</td>\n",
       "      <td>37.115210</td>\n",
       "      <td>-120.266030</td>\n",
       "      <td>1.531352</td>\n",
       "      <td>70.84</td>\n",
       "      <td>2010-04</td>\n",
       "      <td>23833.0</td>\n",
       "      <td>8280.0</td>\n",
       "      <td>15553.0</td>\n",
       "      <td>1439.0</td>\n",
       "      <td>694.0</td>\n",
       "      <td>745.0</td>\n",
       "      <td>1485.0</td>\n",
       "      <td>729.0</td>\n",
       "      <td>756.0</td>\n",
       "      <td>1407.0</td>\n",
       "      <td>740.0</td>\n",
       "      <td>667.0</td>\n",
       "      <td>1473.0</td>\n",
       "      <td>753.0</td>\n",
       "      <td>720.0</td>\n",
       "      <td>2916.0</td>\n",
       "      <td>2888.0</td>\n",
       "      <td>5804.0</td>\n",
       "      <td>7.736047</td>\n",
       "      <td>37.1056</td>\n",
       "      <td>-120.2487</td>\n",
       "      <td>73.3</td>\n",
       "      <td>2.0127727</td>\n",
       "      <td>1873.525780181077</td>\n",
       "      <td>-55.29643968357893</td>\n",
       "      <td>NaN</td>\n",
       "      <td>NaN</td>\n",
       "      <td>1.531352</td>\n",
       "      <td>102.528057</td>\n",
       "      <td>102.528057</td>\n",
       "      <td>157.824497</td>\n",
       "      <td>157.824497</td>\n",
       "      <td>1.531352</td>\n",
       "      <td>157.824497</td>\n",
       "      <td>0.073968</td>\n",
       "      <td>2010-01-01</td>\n",
       "      <td>2010-04-01</td>\n",
       "    </tr>\n",
       "    <tr>\n",
       "      <th>2</th>\n",
       "      <td>2010.0</td>\n",
       "      <td>20651930000000</td>\n",
       "      <td>Madera</td>\n",
       "      <td>93610</td>\n",
       "      <td>Northern San Joaquin Valley</td>\n",
       "      <td>NaT</td>\n",
       "      <td>NaT</td>\n",
       "      <td>37.122449</td>\n",
       "      <td>-120.264870</td>\n",
       "      <td>1.531352</td>\n",
       "      <td>72.77</td>\n",
       "      <td>2010-04</td>\n",
       "      <td>23833.0</td>\n",
       "      <td>8280.0</td>\n",
       "      <td>15553.0</td>\n",
       "      <td>1439.0</td>\n",
       "      <td>694.0</td>\n",
       "      <td>745.0</td>\n",
       "      <td>1485.0</td>\n",
       "      <td>729.0</td>\n",
       "      <td>756.0</td>\n",
       "      <td>1407.0</td>\n",
       "      <td>740.0</td>\n",
       "      <td>667.0</td>\n",
       "      <td>1473.0</td>\n",
       "      <td>753.0</td>\n",
       "      <td>720.0</td>\n",
       "      <td>2916.0</td>\n",
       "      <td>2888.0</td>\n",
       "      <td>5804.0</td>\n",
       "      <td>7.736047</td>\n",
       "      <td>37.1056</td>\n",
       "      <td>-120.2487</td>\n",
       "      <td>73.3</td>\n",
       "      <td>2.0127727</td>\n",
       "      <td>2358.38241919395</td>\n",
       "      <td>-37.54028477906731</td>\n",
       "      <td>NaN</td>\n",
       "      <td>NaN</td>\n",
       "      <td>1.531352</td>\n",
       "      <td>102.528057</td>\n",
       "      <td>102.528057</td>\n",
       "      <td>140.068342</td>\n",
       "      <td>140.068342</td>\n",
       "      <td>1.531352</td>\n",
       "      <td>140.068342</td>\n",
       "      <td>0.233189</td>\n",
       "      <td>2010-01-01</td>\n",
       "      <td>2010-04-01</td>\n",
       "    </tr>\n",
       "    <tr>\n",
       "      <th>3</th>\n",
       "      <td>2010.0</td>\n",
       "      <td>20651930113076</td>\n",
       "      <td>Madera</td>\n",
       "      <td>93610</td>\n",
       "      <td>Northern San Joaquin Valley</td>\n",
       "      <td>2007-08-21</td>\n",
       "      <td>NaT</td>\n",
       "      <td>37.131113</td>\n",
       "      <td>-120.242025</td>\n",
       "      <td>1.531352</td>\n",
       "      <td>77.12</td>\n",
       "      <td>2010-04</td>\n",
       "      <td>23833.0</td>\n",
       "      <td>8280.0</td>\n",
       "      <td>15553.0</td>\n",
       "      <td>1439.0</td>\n",
       "      <td>694.0</td>\n",
       "      <td>745.0</td>\n",
       "      <td>1485.0</td>\n",
       "      <td>729.0</td>\n",
       "      <td>756.0</td>\n",
       "      <td>1407.0</td>\n",
       "      <td>740.0</td>\n",
       "      <td>667.0</td>\n",
       "      <td>1473.0</td>\n",
       "      <td>753.0</td>\n",
       "      <td>720.0</td>\n",
       "      <td>2916.0</td>\n",
       "      <td>2888.0</td>\n",
       "      <td>5804.0</td>\n",
       "      <td>7.736047</td>\n",
       "      <td>37.1056</td>\n",
       "      <td>-120.2487</td>\n",
       "      <td>73.3</td>\n",
       "      <td>2.0127727</td>\n",
       "      <td>2892.9075458251764</td>\n",
       "      <td>11.831222108044384</td>\n",
       "      <td>NaN</td>\n",
       "      <td>NaN</td>\n",
       "      <td>1.531352</td>\n",
       "      <td>102.528057</td>\n",
       "      <td>102.528057</td>\n",
       "      <td>90.696835</td>\n",
       "      <td>90.696835</td>\n",
       "      <td>1.531352</td>\n",
       "      <td>90.696835</td>\n",
       "      <td>0.987838</td>\n",
       "      <td>2010-01-01</td>\n",
       "      <td>2010-04-01</td>\n",
       "    </tr>\n",
       "    <tr>\n",
       "      <th>4</th>\n",
       "      <td>2010.0</td>\n",
       "      <td>20651936023907</td>\n",
       "      <td>Madera</td>\n",
       "      <td>93610</td>\n",
       "      <td>Northern San Joaquin Valley</td>\n",
       "      <td>1980-07-01</td>\n",
       "      <td>NaT</td>\n",
       "      <td>37.115243</td>\n",
       "      <td>-120.267770</td>\n",
       "      <td>1.531352</td>\n",
       "      <td>70.66</td>\n",
       "      <td>2010-04</td>\n",
       "      <td>23833.0</td>\n",
       "      <td>8280.0</td>\n",
       "      <td>15553.0</td>\n",
       "      <td>1439.0</td>\n",
       "      <td>694.0</td>\n",
       "      <td>745.0</td>\n",
       "      <td>1485.0</td>\n",
       "      <td>729.0</td>\n",
       "      <td>756.0</td>\n",
       "      <td>1407.0</td>\n",
       "      <td>740.0</td>\n",
       "      <td>667.0</td>\n",
       "      <td>1473.0</td>\n",
       "      <td>753.0</td>\n",
       "      <td>720.0</td>\n",
       "      <td>2916.0</td>\n",
       "      <td>2888.0</td>\n",
       "      <td>5804.0</td>\n",
       "      <td>7.736047</td>\n",
       "      <td>37.1056</td>\n",
       "      <td>-120.2487</td>\n",
       "      <td>73.3</td>\n",
       "      <td>2.0127727</td>\n",
       "      <td>2004.5665433091058</td>\n",
       "      <td>-57.72695665034661</td>\n",
       "      <td>NaN</td>\n",
       "      <td>NaN</td>\n",
       "      <td>1.531352</td>\n",
       "      <td>102.528057</td>\n",
       "      <td>102.528057</td>\n",
       "      <td>160.255014</td>\n",
       "      <td>160.255014</td>\n",
       "      <td>1.531352</td>\n",
       "      <td>160.255014</td>\n",
       "      <td>0.058794</td>\n",
       "      <td>2010-01-01</td>\n",
       "      <td>2010-04-01</td>\n",
       "    </tr>\n",
       "  </tbody>\n",
       "</table>\n",
       "</div>"
      ],
      "text/plain": [
       "     year         cdscode school_county school_zip  \\\n",
       "0  2010.0  20102070109728        Madera      93610   \n",
       "1  2010.0  20102072030187        Madera      93610   \n",
       "2  2010.0  20651930000000        Madera      93610   \n",
       "3  2010.0  20651930113076        Madera      93610   \n",
       "4  2010.0  20651936023907        Madera      93610   \n",
       "\n",
       "            school_region_name school_open_date school_closed_date  \\\n",
       "0  Northern San Joaquin Valley       2005-08-16         2014-06-30   \n",
       "1  Northern San Joaquin Valley       2001-01-22         2014-06-30   \n",
       "2  Northern San Joaquin Valley              NaT                NaT   \n",
       "3  Northern San Joaquin Valley       2007-08-21                NaT   \n",
       "4  Northern San Joaquin Valley       1980-07-01                NaT   \n",
       "\n",
       "   school_lat  school_lon  school_wspd  school_elevation_m year_month  \\\n",
       "0   37.115210 -120.266030     1.531352               70.84    2010-04   \n",
       "1   37.115210 -120.266030     1.531352               70.84    2010-04   \n",
       "2   37.122449 -120.264870     1.531352               72.77    2010-04   \n",
       "3   37.131113 -120.242025     1.531352               77.12    2010-04   \n",
       "4   37.115243 -120.267770     1.531352               70.66    2010-04   \n",
       "\n",
       "  total_population total_population_male total_population_female  \\\n",
       "0          23833.0                8280.0                 15553.0   \n",
       "1          23833.0                8280.0                 15553.0   \n",
       "2          23833.0                8280.0                 15553.0   \n",
       "3          23833.0                8280.0                 15553.0   \n",
       "4          23833.0                8280.0                 15553.0   \n",
       "\n",
       "  population_0_4 population_0_4_male population_0_4_female population_5_9  \\\n",
       "0         1439.0               694.0                 745.0         1485.0   \n",
       "1         1439.0               694.0                 745.0         1485.0   \n",
       "2         1439.0               694.0                 745.0         1485.0   \n",
       "3         1439.0               694.0                 745.0         1485.0   \n",
       "4         1439.0               694.0                 745.0         1485.0   \n",
       "\n",
       "  population_5_9_male population_5_9_female population_10_14  \\\n",
       "0               729.0                 756.0           1407.0   \n",
       "1               729.0                 756.0           1407.0   \n",
       "2               729.0                 756.0           1407.0   \n",
       "3               729.0                 756.0           1407.0   \n",
       "4               729.0                 756.0           1407.0   \n",
       "\n",
       "  population_10_14_male population_10_14_female population_15_19  \\\n",
       "0                 740.0                   667.0           1473.0   \n",
       "1                 740.0                   667.0           1473.0   \n",
       "2                 740.0                   667.0           1473.0   \n",
       "3                 740.0                   667.0           1473.0   \n",
       "4                 740.0                   667.0           1473.0   \n",
       "\n",
       "  population_15_19_male population_15_19_female  pop_under19_male  \\\n",
       "0                 753.0                   720.0            2916.0   \n",
       "1                 753.0                   720.0            2916.0   \n",
       "2                 753.0                   720.0            2916.0   \n",
       "3                 753.0                   720.0            2916.0   \n",
       "4                 753.0                   720.0            2916.0   \n",
       "\n",
       "   pop_under19_female total_pop_under19      pm25 point_source_lat  \\\n",
       "0              2888.0            5804.0  7.736047          37.1056   \n",
       "1              2888.0            5804.0  7.736047          37.1056   \n",
       "2              2888.0            5804.0  7.736047          37.1056   \n",
       "3              2888.0            5804.0  7.736047          37.1056   \n",
       "4              2888.0            5804.0  7.736047          37.1056   \n",
       "\n",
       "  point_source_lon ps_elevation_m point_source_pm25_tpy dist_school_to_ps_m  \\\n",
       "0        -120.2487           73.3             2.0127727   1873.525780181077   \n",
       "1        -120.2487           73.3             2.0127727   1873.525780181077   \n",
       "2        -120.2487           73.3             2.0127727    2358.38241919395   \n",
       "3        -120.2487           73.3             2.0127727  2892.9075458251764   \n",
       "4        -120.2487           73.3             2.0127727  2004.5665433091058   \n",
       "\n",
       "      angle_to_school  ps_wind_lat  ps_wind_lon  ps_wspd_merge  \\\n",
       "0  -55.29643968357893          NaN          NaN       1.531352   \n",
       "1  -55.29643968357893          NaN          NaN       1.531352   \n",
       "2  -37.54028477906731          NaN          NaN       1.531352   \n",
       "3  11.831222108044384          NaN          NaN       1.531352   \n",
       "4  -57.72695665034661          NaN          NaN       1.531352   \n",
       "\n",
       "   school_wdir_wrt_0N  ps_wdir_wrt_0N  school_wind_alignment  \\\n",
       "0          102.528057      102.528057             157.824497   \n",
       "1          102.528057      102.528057             157.824497   \n",
       "2          102.528057      102.528057             140.068342   \n",
       "3          102.528057      102.528057              90.696835   \n",
       "4          102.528057      102.528057             160.255014   \n",
       "\n",
       "   ps_wind_alignment  avg_wind_speed  avg_wind_alignment  \\\n",
       "0         157.824497        1.531352          157.824497   \n",
       "1         157.824497        1.531352          157.824497   \n",
       "2         140.068342        1.531352          140.068342   \n",
       "3          90.696835        1.531352           90.696835   \n",
       "4         160.255014        1.531352          160.255014   \n",
       "\n",
       "   avg_wind_alignment_cosine   new_year     new_ym  \n",
       "0                   0.073968 2010-01-01 2010-04-01  \n",
       "1                   0.073968 2010-01-01 2010-04-01  \n",
       "2                   0.233189 2010-01-01 2010-04-01  \n",
       "3                   0.987838 2010-01-01 2010-04-01  \n",
       "4                   0.058794 2010-01-01 2010-04-01  "
      ]
     },
     "execution_count": 21,
     "metadata": {},
     "output_type": "execute_result"
    }
   ],
   "source": [
    "joined.head()"
   ]
  },
  {
   "cell_type": "code",
   "execution_count": 16,
   "id": "9a6a5855",
   "metadata": {
    "scrolled": true
   },
   "outputs": [
    {
     "data": {
      "text/plain": [
       "0          2010-04\n",
       "1          2010-04\n",
       "2          2010-04\n",
       "3          2010-04\n",
       "4          2010-04\n",
       "            ...   \n",
       "2983106    2016-06\n",
       "2983107    2016-06\n",
       "2983108    2016-06\n",
       "2983109    2016-06\n",
       "2983110    2016-06\n",
       "Name: year_month, Length: 2983111, dtype: object"
      ]
     },
     "execution_count": 16,
     "metadata": {},
     "output_type": "execute_result"
    }
   ],
   "source": [
    "joined['year_month']"
   ]
  },
  {
   "cell_type": "code",
   "execution_count": 22,
   "id": "118a3ffa",
   "metadata": {},
   "outputs": [
    {
     "data": {
      "text/plain": [
       "0         2010-04-01\n",
       "1         2010-04-01\n",
       "2         2010-04-01\n",
       "3         2010-04-01\n",
       "4         2010-04-01\n",
       "             ...    \n",
       "2983106   2016-06-01\n",
       "2983107   2016-06-01\n",
       "2983108   2016-06-01\n",
       "2983109   2016-06-01\n",
       "2983110   2016-06-01\n",
       "Name: new_ym, Length: 2983111, dtype: datetime64[ns]"
      ]
     },
     "execution_count": 22,
     "metadata": {},
     "output_type": "execute_result"
    }
   ],
   "source": [
    "joined['new_ym']"
   ]
  },
  {
   "cell_type": "code",
   "execution_count": 23,
   "id": "d2911204",
   "metadata": {},
   "outputs": [
    {
     "data": {
      "text/plain": [
       "pandas._libs.tslibs.nattype.NaTType"
      ]
     },
     "execution_count": 23,
     "metadata": {},
     "output_type": "execute_result"
    }
   ],
   "source": [
    "type(joined['school_closed_date'][2])"
   ]
  },
  {
   "cell_type": "code",
   "execution_count": null,
   "id": "6aa6074b",
   "metadata": {},
   "outputs": [],
   "source": [
    "def new_school_open_close(year, school_open_date, school_closed_date):\n",
    "    year = year\n",
    "    school_open_date = school_open_date\n",
    "    school_closed_date = school_closed_date\n",
    "    if pd.isnull(school_closed_date):\n",
    "        new_school_closed = '1990-01-01'\n",
    "    elif pd.isnull(school_opened_date):\n",
    "        new_school_closed = '2025-01-01'"
   ]
  },
  {
   "cell_type": "code",
   "execution_count": 24,
   "id": "62e2101d",
   "metadata": {},
   "outputs": [],
   "source": [
    "# make date time back to a string\n",
    "# it's 0 only if both of the dates were there in the first place\n",
    "\n",
    "def check_school_open_close(year, school_open_date, school_closed_date):\n",
    "    year = year\n",
    "    school_open_date = school_open_date\n",
    "    school_closed_date = school_closed_date\n",
    "    try:\n",
    "        # if both missing, still 1\n",
    "        # 0 means both there and current date doesn't fall within\n",
    "        if (pd.isnull(school_open_date)==False) and (pd.isnull(school_closed_date)):\n",
    "            if year > school_open_date:\n",
    "                return 2 # still 1\n",
    "            else:\n",
    "                return 0\n",
    "        elif (pd.isnull(school_open_date)) and (pd.isnull(school_closed_date)==False):\n",
    "            return 3\n",
    "        elif pd.isnull(school_open_date) and pd.isnull(school_closed_date):\n",
    "            return 0\n",
    "        elif (year > school_open_date) & (year < school_closed_date):\n",
    "            return 1\n",
    "        else:\n",
    "            return 0\n",
    "    except:\n",
    "        print(\"school open date is {}\\nschool close date is {}\".format(school_open_date, school_closed_date))\n",
    "    "
   ]
  },
  {
   "cell_type": "code",
   "execution_count": 26,
   "id": "7917562c",
   "metadata": {},
   "outputs": [],
   "source": [
    "joined['open_close_dates_valid'] = joined.apply(lambda row: check_school_open_close(row['new_ym'], \n",
    "                                                                                    row['school_open_date'], \n",
    "                                                                                    row['school_closed_date']), axis = 1)"
   ]
  },
  {
   "cell_type": "code",
   "execution_count": 126,
   "id": "9fc05723",
   "metadata": {
    "scrolled": false
   },
   "outputs": [
    {
     "data": {
      "text/plain": [
       "2    2054340\n",
       "0     759919\n",
       "1     168852\n",
       "Name: open_close_dates_valid, dtype: int64"
      ]
     },
     "execution_count": 126,
     "metadata": {},
     "output_type": "execute_result"
    }
   ],
   "source": [
    "# old ones joined only with year\n",
    "#joined['open_close_dates_valid'].value_counts()\n",
    "# 0 means both open and closed dates are missing, or that the year was before the school open date\n",
    "# 1 means has both open and closed dates and year falls within that range (good)\n",
    "# 2 means that only has open date but the year falls after the open date (good)"
   ]
  },
  {
   "cell_type": "code",
   "execution_count": 27,
   "id": "f3e1bbb6",
   "metadata": {},
   "outputs": [
    {
     "data": {
      "text/plain": [
       "2    2064541\n",
       "0     753378\n",
       "1     165192\n",
       "Name: open_close_dates_valid, dtype: int64"
      ]
     },
     "execution_count": 27,
     "metadata": {},
     "output_type": "execute_result"
    }
   ],
   "source": [
    "# new one joined with year-month\n",
    "joined['open_close_dates_valid'].value_counts()"
   ]
  },
  {
   "cell_type": "code",
   "execution_count": 28,
   "id": "fd181ab2",
   "metadata": {
    "scrolled": true
   },
   "outputs": [
    {
     "data": {
      "text/plain": [
       "241280"
      ]
     },
     "execution_count": 28,
     "metadata": {},
     "output_type": "execute_result"
    }
   ],
   "source": [
    "len(joined[pd.isnull(joined['school_open_date'])])"
   ]
  },
  {
   "cell_type": "code",
   "execution_count": 29,
   "id": "b63a4335",
   "metadata": {
    "scrolled": true
   },
   "outputs": [
    {
     "data": {
      "text/plain": [
       "2628068"
      ]
     },
     "execution_count": 29,
     "metadata": {},
     "output_type": "execute_result"
    }
   ],
   "source": [
    "len(joined[pd.isnull(joined['school_closed_date'])])"
   ]
  },
  {
   "cell_type": "code",
   "execution_count": 30,
   "id": "ed9e0d93",
   "metadata": {
    "scrolled": true
   },
   "outputs": [
    {
     "data": {
      "text/plain": [
       "2983111"
      ]
     },
     "execution_count": 30,
     "metadata": {},
     "output_type": "execute_result"
    }
   ],
   "source": [
    "joined.shape[0]"
   ]
  },
  {
   "cell_type": "code",
   "execution_count": 31,
   "id": "7476207d",
   "metadata": {},
   "outputs": [
    {
     "data": {
      "text/plain": [
       "year                                float64\n",
       "cdscode                              object\n",
       "school_county                        object\n",
       "school_zip                           object\n",
       "school_region_name                   object\n",
       "school_open_date             datetime64[ns]\n",
       "school_closed_date           datetime64[ns]\n",
       "school_lat                          float64\n",
       "school_lon                          float64\n",
       "school_wspd                         float64\n",
       "school_elevation_m                  float64\n",
       "year_month                           object\n",
       "total_population                     object\n",
       "total_population_male                object\n",
       "total_population_female              object\n",
       "population_0_4                       object\n",
       "population_0_4_male                  object\n",
       "population_0_4_female                object\n",
       "population_5_9                       object\n",
       "population_5_9_male                  object\n",
       "population_5_9_female                object\n",
       "population_10_14                     object\n",
       "population_10_14_male                object\n",
       "population_10_14_female              object\n",
       "population_15_19                     object\n",
       "population_15_19_male                object\n",
       "population_15_19_female              object\n",
       "pop_under19_male                    float64\n",
       "pop_under19_female                  float64\n",
       "total_pop_under19                    object\n",
       "pm25                                 object\n",
       "point_source_lat                     object\n",
       "point_source_lon                     object\n",
       "ps_elevation_m                       object\n",
       "point_source_pm25_tpy                object\n",
       "dist_school_to_ps_m                  object\n",
       "angle_to_school                      object\n",
       "ps_wind_lat                         float64\n",
       "ps_wind_lon                         float64\n",
       "ps_wspd_merge                       float64\n",
       "school_wdir_wrt_0N                  float64\n",
       "ps_wdir_wrt_0N                      float64\n",
       "school_wind_alignment               float64\n",
       "ps_wind_alignment                   float64\n",
       "avg_wind_speed                      float64\n",
       "avg_wind_alignment                  float64\n",
       "avg_wind_alignment_cosine           float64\n",
       "new_year                     datetime64[ns]\n",
       "new_ym                       datetime64[ns]\n",
       "open_close_dates_valid                int64\n",
       "dtype: object"
      ]
     },
     "execution_count": 31,
     "metadata": {},
     "output_type": "execute_result"
    }
   ],
   "source": [
    "joined.dtypes"
   ]
  },
  {
   "cell_type": "code",
   "execution_count": 32,
   "id": "4d99d3b2",
   "metadata": {},
   "outputs": [],
   "source": [
    "joined.to_parquet(\"joined_datetime_ym.parquet\")"
   ]
  },
  {
   "cell_type": "markdown",
   "id": "6223773a",
   "metadata": {},
   "source": [
    "# Temperature"
   ]
  },
  {
   "cell_type": "code",
   "execution_count": 144,
   "id": "1a0e4d70",
   "metadata": {
    "scrolled": true
   },
   "outputs": [
    {
     "data": {
      "text/html": [
       "<div>\n",
       "<style scoped>\n",
       "    .dataframe tbody tr th:only-of-type {\n",
       "        vertical-align: middle;\n",
       "    }\n",
       "\n",
       "    .dataframe tbody tr th {\n",
       "        vertical-align: top;\n",
       "    }\n",
       "\n",
       "    .dataframe thead th {\n",
       "        text-align: right;\n",
       "    }\n",
       "</style>\n",
       "<table border=\"1\" class=\"dataframe\">\n",
       "  <thead>\n",
       "    <tr style=\"text-align: right;\">\n",
       "      <th></th>\n",
       "      <th>cdscode</th>\n",
       "      <th>school_lat</th>\n",
       "      <th>school_lon</th>\n",
       "      <th>elevation_meters</th>\n",
       "    </tr>\n",
       "  </thead>\n",
       "  <tbody>\n",
       "    <tr>\n",
       "      <th>0</th>\n",
       "      <td>20102070109728</td>\n",
       "      <td>37.115210</td>\n",
       "      <td>-120.26603</td>\n",
       "      <td>70.84</td>\n",
       "    </tr>\n",
       "    <tr>\n",
       "      <th>1</th>\n",
       "      <td>20102072030187</td>\n",
       "      <td>37.115210</td>\n",
       "      <td>-120.26603</td>\n",
       "      <td>70.84</td>\n",
       "    </tr>\n",
       "    <tr>\n",
       "      <th>2</th>\n",
       "      <td>20651930000000</td>\n",
       "      <td>37.122449</td>\n",
       "      <td>-120.26487</td>\n",
       "      <td>72.77</td>\n",
       "    </tr>\n",
       "    <tr>\n",
       "      <th>3</th>\n",
       "      <td>20651930113076</td>\n",
       "      <td>37.131113</td>\n",
       "      <td>-120.242025</td>\n",
       "      <td>77.12</td>\n",
       "    </tr>\n",
       "    <tr>\n",
       "      <th>4</th>\n",
       "      <td>20651936023907</td>\n",
       "      <td>37.115243</td>\n",
       "      <td>-120.26777</td>\n",
       "      <td>70.66</td>\n",
       "    </tr>\n",
       "  </tbody>\n",
       "</table>\n",
       "</div>"
      ],
      "text/plain": [
       "          cdscode school_lat   school_lon  elevation_meters\n",
       "0  20102070109728  37.115210   -120.26603             70.84\n",
       "1  20102072030187  37.115210   -120.26603             70.84\n",
       "2  20651930000000  37.122449   -120.26487             72.77\n",
       "3  20651930113076  37.131113  -120.242025             77.12\n",
       "4  20651936023907  37.115243   -120.26777             70.66"
      ]
     },
     "execution_count": 144,
     "metadata": {},
     "output_type": "execute_result"
    }
   ],
   "source": [
    "school_elevations.head()"
   ]
  },
  {
   "cell_type": "code",
   "execution_count": 159,
   "id": "606467a8",
   "metadata": {},
   "outputs": [],
   "source": [
    "school_elevations['school_lat'] = pd.to_numeric(school_elevations['school_lat'])\n",
    "school_elevations['school_lon'] = pd.to_numeric(school_elevations['school_lon'])"
   ]
  },
  {
   "cell_type": "code",
   "execution_count": 160,
   "id": "6cd72c24",
   "metadata": {},
   "outputs": [
    {
     "data": {
      "text/plain": [
       "cdscode              object\n",
       "school_lat          float64\n",
       "school_lon          float64\n",
       "elevation_meters    float64\n",
       "dtype: object"
      ]
     },
     "execution_count": 160,
     "metadata": {},
     "output_type": "execute_result"
    }
   ],
   "source": [
    "school_elevations.dtypes"
   ]
  },
  {
   "cell_type": "code",
   "execution_count": 161,
   "id": "49728e2b",
   "metadata": {},
   "outputs": [],
   "source": [
    "joined_with_elevations = pd.merge(joined, school_elevations,  how='left', left_on=['cdscode', 'school_lat','school_lon'], right_on = ['cdscode', 'school_lat','school_lon'])"
   ]
  },
  {
   "cell_type": "code",
   "execution_count": 162,
   "id": "517b0251",
   "metadata": {},
   "outputs": [
    {
     "data": {
      "text/plain": [
       "2983111"
      ]
     },
     "execution_count": 162,
     "metadata": {},
     "output_type": "execute_result"
    }
   ],
   "source": [
    "len(joined_with_elevations)"
   ]
  },
  {
   "cell_type": "code",
   "execution_count": 166,
   "id": "039ea509",
   "metadata": {
    "scrolled": true
   },
   "outputs": [
    {
     "data": {
      "text/plain": [
       "0"
      ]
     },
     "execution_count": 166,
     "metadata": {},
     "output_type": "execute_result"
    }
   ],
   "source": [
    "joined_with_elevations['elevation_meters'].isnull().sum()"
   ]
  },
  {
   "cell_type": "code",
   "execution_count": 177,
   "id": "6fa5f093",
   "metadata": {},
   "outputs": [
    {
     "data": {
      "text/plain": [
       "2983111"
      ]
     },
     "execution_count": 177,
     "metadata": {},
     "output_type": "execute_result"
    }
   ],
   "source": [
    "len(joined_with_elevations['elevation_meters'])"
   ]
  },
  {
   "cell_type": "code",
   "execution_count": 167,
   "id": "92a52065",
   "metadata": {},
   "outputs": [],
   "source": [
    "joined_with_elevations.to_parquet(\"joined_datetime_elevations.parquet\")"
   ]
  },
  {
   "cell_type": "code",
   "execution_count": 176,
   "id": "628ff9ab",
   "metadata": {},
   "outputs": [
    {
     "data": {
      "text/plain": [
       "year                                float64\n",
       "cdscode                              object\n",
       "school_county                        object\n",
       "school_zip                           object\n",
       "school_region_name                   object\n",
       "school_open_date             datetime64[ns]\n",
       "school_closed_date           datetime64[ns]\n",
       "school_lat                          float64\n",
       "school_lon                          float64\n",
       "school_wspd                         float64\n",
       "school_elevation_m                  float64\n",
       "year_month                           object\n",
       "total_population                     object\n",
       "total_population_male                object\n",
       "total_population_female              object\n",
       "population_0_4                       object\n",
       "population_0_4_male                  object\n",
       "population_0_4_female                object\n",
       "population_5_9                       object\n",
       "population_5_9_male                  object\n",
       "population_5_9_female                object\n",
       "population_10_14                     object\n",
       "population_10_14_male                object\n",
       "population_10_14_female              object\n",
       "population_15_19                     object\n",
       "population_15_19_male                object\n",
       "population_15_19_female              object\n",
       "pop_under19_male                    float64\n",
       "pop_under19_female                  float64\n",
       "total_pop_under19                    object\n",
       "pm25                                 object\n",
       "point_source_lat                     object\n",
       "point_source_lon                     object\n",
       "ps_elevation_m                       object\n",
       "point_source_pm25_tpy                object\n",
       "dist_school_to_ps_m                  object\n",
       "angle_to_school                      object\n",
       "ps_wind_lat                         float64\n",
       "ps_wind_lon                         float64\n",
       "ps_wspd_merge                       float64\n",
       "school_wdir_wrt_0N                  float64\n",
       "ps_wdir_wrt_0N                      float64\n",
       "school_wind_alignment               float64\n",
       "ps_wind_alignment                   float64\n",
       "avg_wind_speed                      float64\n",
       "avg_wind_alignment                  float64\n",
       "avg_wind_alignment_cosine           float64\n",
       "new_year                     datetime64[ns]\n",
       "open_close_dates_valid                int64\n",
       "elevation_meters                    float64\n",
       "dtype: object"
      ]
     },
     "execution_count": 176,
     "metadata": {},
     "output_type": "execute_result"
    }
   ],
   "source": [
    "joined_with_elevations.dtypes"
   ]
  },
  {
   "cell_type": "code",
   "execution_count": 178,
   "id": "888b7afc",
   "metadata": {
    "scrolled": false
   },
   "outputs": [
    {
     "data": {
      "text/plain": [
       "Index(['year', 'cdscode', 'school_county', 'school_zip', 'school_region_name',\n",
       "       'school_open_date', 'school_closed_date', 'school_lat', 'school_lon',\n",
       "       'school_wspd', 'school_elevation_m', 'year_month', 'total_population',\n",
       "       'total_population_male', 'total_population_female', 'population_0_4',\n",
       "       'population_0_4_male', 'population_0_4_female', 'population_5_9',\n",
       "       'population_5_9_male', 'population_5_9_female', 'population_10_14',\n",
       "       'population_10_14_male', 'population_10_14_female', 'population_15_19',\n",
       "       'population_15_19_male', 'population_15_19_female', 'pop_under19_male',\n",
       "       'pop_under19_female', 'total_pop_under19', 'pm25', 'point_source_lat',\n",
       "       'point_source_lon', 'ps_elevation_m', 'point_source_pm25_tpy',\n",
       "       'dist_school_to_ps_m', 'angle_to_school', 'ps_wind_lat', 'ps_wind_lon',\n",
       "       'ps_wspd_merge', 'school_wdir_wrt_0N', 'ps_wdir_wrt_0N',\n",
       "       'school_wind_alignment', 'ps_wind_alignment', 'avg_wind_speed',\n",
       "       'avg_wind_alignment', 'avg_wind_alignment_cosine', 'new_year',\n",
       "       'open_close_dates_valid', 'elevation_meters'],\n",
       "      dtype='object')"
      ]
     },
     "execution_count": 178,
     "metadata": {},
     "output_type": "execute_result"
    }
   ],
   "source": [
    "joined_with_elevations.columns"
   ]
  },
  {
   "cell_type": "code",
   "execution_count": 181,
   "id": "cce11001",
   "metadata": {},
   "outputs": [
    {
     "data": {
      "text/plain": [
       "0            70.84\n",
       "1            70.84\n",
       "2            72.77\n",
       "3            77.12\n",
       "4            70.66\n",
       "            ...   \n",
       "2983106    1794.66\n",
       "2983107    1840.70\n",
       "2983108    1794.66\n",
       "2983109    1895.97\n",
       "2983110    1895.72\n",
       "Name: school_elevation_m, Length: 2983111, dtype: float64"
      ]
     },
     "execution_count": 181,
     "metadata": {},
     "output_type": "execute_result"
    }
   ],
   "source": [
    "joined_with_elevations['school_elevation_m']"
   ]
  },
  {
   "cell_type": "code",
   "execution_count": 183,
   "id": "dc3c12d3",
   "metadata": {},
   "outputs": [],
   "source": [
    "joined_with_elevations.drop(columns=['elevation_meters'], inplace=True)"
   ]
  },
  {
   "cell_type": "code",
   "execution_count": null,
   "id": "1eff19bb",
   "metadata": {},
   "outputs": [],
   "source": [
    "def get_temp(year, lat, lon, elevation):\n",
    "    year = year\n",
    "    start = datetime(2018, 1, 1)\n",
    "    end = datetime(2018, 1, 1)\n",
    "    \n",
    "    point = Point(lat, lon, elevation)"
   ]
  },
  {
   "cell_type": "code",
   "execution_count": 172,
   "id": "46244c70",
   "metadata": {},
   "outputs": [],
   "source": [
    "# Point(lat, lon, elevation)\n",
    "start = datetime(2018, 1, 1)\n",
    "end = datetime(2018, 12, 31)\n",
    "\n",
    "vancouver = Point(37.105600, -120.248700, 73.30)"
   ]
  },
  {
   "cell_type": "code",
   "execution_count": 173,
   "id": "749fe5bd",
   "metadata": {},
   "outputs": [],
   "source": [
    "data = Daily(vancouver, start, end)\n",
    "data = data.fetch()"
   ]
  },
  {
   "cell_type": "code",
   "execution_count": 175,
   "id": "14c37c0a",
   "metadata": {},
   "outputs": [
    {
     "data": {
      "text/html": [
       "<div>\n",
       "<style scoped>\n",
       "    .dataframe tbody tr th:only-of-type {\n",
       "        vertical-align: middle;\n",
       "    }\n",
       "\n",
       "    .dataframe tbody tr th {\n",
       "        vertical-align: top;\n",
       "    }\n",
       "\n",
       "    .dataframe thead th {\n",
       "        text-align: right;\n",
       "    }\n",
       "</style>\n",
       "<table border=\"1\" class=\"dataframe\">\n",
       "  <thead>\n",
       "    <tr style=\"text-align: right;\">\n",
       "      <th></th>\n",
       "      <th>tavg</th>\n",
       "      <th>tmin</th>\n",
       "      <th>tmax</th>\n",
       "      <th>prcp</th>\n",
       "      <th>snow</th>\n",
       "      <th>wdir</th>\n",
       "      <th>wspd</th>\n",
       "      <th>wpgt</th>\n",
       "      <th>pres</th>\n",
       "      <th>tsun</th>\n",
       "    </tr>\n",
       "    <tr>\n",
       "      <th>time</th>\n",
       "      <th></th>\n",
       "      <th></th>\n",
       "      <th></th>\n",
       "      <th></th>\n",
       "      <th></th>\n",
       "      <th></th>\n",
       "      <th></th>\n",
       "      <th></th>\n",
       "      <th></th>\n",
       "      <th></th>\n",
       "    </tr>\n",
       "  </thead>\n",
       "  <tbody>\n",
       "    <tr>\n",
       "      <th>2018-01-01</th>\n",
       "      <td>8.2</td>\n",
       "      <td>1.1</td>\n",
       "      <td>17.2</td>\n",
       "      <td>0.0</td>\n",
       "      <td>NaN</td>\n",
       "      <td>NaN</td>\n",
       "      <td>3.3</td>\n",
       "      <td>NaN</td>\n",
       "      <td>1022.8</td>\n",
       "      <td>NaN</td>\n",
       "    </tr>\n",
       "    <tr>\n",
       "      <th>2018-01-02</th>\n",
       "      <td>9.4</td>\n",
       "      <td>5.6</td>\n",
       "      <td>15.0</td>\n",
       "      <td>0.0</td>\n",
       "      <td>NaN</td>\n",
       "      <td>NaN</td>\n",
       "      <td>3.1</td>\n",
       "      <td>NaN</td>\n",
       "      <td>1021.6</td>\n",
       "      <td>NaN</td>\n",
       "    </tr>\n",
       "    <tr>\n",
       "      <th>2018-01-03</th>\n",
       "      <td>10.9</td>\n",
       "      <td>4.4</td>\n",
       "      <td>17.2</td>\n",
       "      <td>0.0</td>\n",
       "      <td>NaN</td>\n",
       "      <td>NaN</td>\n",
       "      <td>7.8</td>\n",
       "      <td>NaN</td>\n",
       "      <td>1017.8</td>\n",
       "      <td>NaN</td>\n",
       "    </tr>\n",
       "    <tr>\n",
       "      <th>2018-01-04</th>\n",
       "      <td>14.3</td>\n",
       "      <td>9.4</td>\n",
       "      <td>20.0</td>\n",
       "      <td>3.7</td>\n",
       "      <td>NaN</td>\n",
       "      <td>NaN</td>\n",
       "      <td>10.8</td>\n",
       "      <td>NaN</td>\n",
       "      <td>1019.6</td>\n",
       "      <td>NaN</td>\n",
       "    </tr>\n",
       "    <tr>\n",
       "      <th>2018-01-05</th>\n",
       "      <td>15.5</td>\n",
       "      <td>10.6</td>\n",
       "      <td>22.2</td>\n",
       "      <td>0.0</td>\n",
       "      <td>NaN</td>\n",
       "      <td>NaN</td>\n",
       "      <td>7.3</td>\n",
       "      <td>NaN</td>\n",
       "      <td>1021.8</td>\n",
       "      <td>NaN</td>\n",
       "    </tr>\n",
       "    <tr>\n",
       "      <th>...</th>\n",
       "      <td>...</td>\n",
       "      <td>...</td>\n",
       "      <td>...</td>\n",
       "      <td>...</td>\n",
       "      <td>...</td>\n",
       "      <td>...</td>\n",
       "      <td>...</td>\n",
       "      <td>...</td>\n",
       "      <td>...</td>\n",
       "      <td>...</td>\n",
       "    </tr>\n",
       "    <tr>\n",
       "      <th>2018-12-26</th>\n",
       "      <td>7.9</td>\n",
       "      <td>3.3</td>\n",
       "      <td>14.4</td>\n",
       "      <td>0.0</td>\n",
       "      <td>NaN</td>\n",
       "      <td>NaN</td>\n",
       "      <td>3.4</td>\n",
       "      <td>NaN</td>\n",
       "      <td>1019.7</td>\n",
       "      <td>NaN</td>\n",
       "    </tr>\n",
       "    <tr>\n",
       "      <th>2018-12-27</th>\n",
       "      <td>6.7</td>\n",
       "      <td>2.2</td>\n",
       "      <td>13.3</td>\n",
       "      <td>0.0</td>\n",
       "      <td>NaN</td>\n",
       "      <td>NaN</td>\n",
       "      <td>7.3</td>\n",
       "      <td>NaN</td>\n",
       "      <td>NaN</td>\n",
       "      <td>NaN</td>\n",
       "    </tr>\n",
       "    <tr>\n",
       "      <th>2018-12-28</th>\n",
       "      <td>6.0</td>\n",
       "      <td>1.1</td>\n",
       "      <td>12.8</td>\n",
       "      <td>0.0</td>\n",
       "      <td>NaN</td>\n",
       "      <td>NaN</td>\n",
       "      <td>8.1</td>\n",
       "      <td>NaN</td>\n",
       "      <td>1023.0</td>\n",
       "      <td>NaN</td>\n",
       "    </tr>\n",
       "    <tr>\n",
       "      <th>2018-12-29</th>\n",
       "      <td>6.9</td>\n",
       "      <td>1.7</td>\n",
       "      <td>13.9</td>\n",
       "      <td>0.0</td>\n",
       "      <td>NaN</td>\n",
       "      <td>NaN</td>\n",
       "      <td>3.8</td>\n",
       "      <td>NaN</td>\n",
       "      <td>1027.8</td>\n",
       "      <td>NaN</td>\n",
       "    </tr>\n",
       "    <tr>\n",
       "      <th>2018-12-30</th>\n",
       "      <td>7.0</td>\n",
       "      <td>2.2</td>\n",
       "      <td>13.9</td>\n",
       "      <td>0.0</td>\n",
       "      <td>NaN</td>\n",
       "      <td>NaN</td>\n",
       "      <td>4.0</td>\n",
       "      <td>NaN</td>\n",
       "      <td>1021.7</td>\n",
       "      <td>NaN</td>\n",
       "    </tr>\n",
       "  </tbody>\n",
       "</table>\n",
       "<p>364 rows × 10 columns</p>\n",
       "</div>"
      ],
      "text/plain": [
       "            tavg  tmin  tmax  prcp  snow  wdir  wspd  wpgt    pres  tsun\n",
       "time                                                                    \n",
       "2018-01-01   8.2   1.1  17.2   0.0   NaN   NaN   3.3   NaN  1022.8   NaN\n",
       "2018-01-02   9.4   5.6  15.0   0.0   NaN   NaN   3.1   NaN  1021.6   NaN\n",
       "2018-01-03  10.9   4.4  17.2   0.0   NaN   NaN   7.8   NaN  1017.8   NaN\n",
       "2018-01-04  14.3   9.4  20.0   3.7   NaN   NaN  10.8   NaN  1019.6   NaN\n",
       "2018-01-05  15.5  10.6  22.2   0.0   NaN   NaN   7.3   NaN  1021.8   NaN\n",
       "...          ...   ...   ...   ...   ...   ...   ...   ...     ...   ...\n",
       "2018-12-26   7.9   3.3  14.4   0.0   NaN   NaN   3.4   NaN  1019.7   NaN\n",
       "2018-12-27   6.7   2.2  13.3   0.0   NaN   NaN   7.3   NaN     NaN   NaN\n",
       "2018-12-28   6.0   1.1  12.8   0.0   NaN   NaN   8.1   NaN  1023.0   NaN\n",
       "2018-12-29   6.9   1.7  13.9   0.0   NaN   NaN   3.8   NaN  1027.8   NaN\n",
       "2018-12-30   7.0   2.2  13.9   0.0   NaN   NaN   4.0   NaN  1021.7   NaN\n",
       "\n",
       "[364 rows x 10 columns]"
      ]
     },
     "execution_count": 175,
     "metadata": {},
     "output_type": "execute_result"
    }
   ],
   "source": [
    "data"
   ]
  },
  {
   "cell_type": "code",
   "execution_count": 171,
   "id": "da59fe98",
   "metadata": {},
   "outputs": [
    {
     "data": {
      "text/plain": [
       "time\n",
       "2018-01-01    8.2\n",
       "Freq: D, Name: tavg, dtype: float64"
      ]
     },
     "execution_count": 171,
     "metadata": {},
     "output_type": "execute_result"
    }
   ],
   "source": [
    "data['tavg']"
   ]
  },
  {
   "cell_type": "code",
   "execution_count": 66,
   "id": "79cd2a0a",
   "metadata": {
    "scrolled": true
   },
   "outputs": [
    {
     "data": {
      "text/html": [
       "<div>\n",
       "<style scoped>\n",
       "    .dataframe tbody tr th:only-of-type {\n",
       "        vertical-align: middle;\n",
       "    }\n",
       "\n",
       "    .dataframe tbody tr th {\n",
       "        vertical-align: top;\n",
       "    }\n",
       "\n",
       "    .dataframe thead th {\n",
       "        text-align: right;\n",
       "    }\n",
       "</style>\n",
       "<table border=\"1\" class=\"dataframe\">\n",
       "  <thead>\n",
       "    <tr style=\"text-align: right;\">\n",
       "      <th></th>\n",
       "      <th>tavg</th>\n",
       "      <th>tmin</th>\n",
       "      <th>tmax</th>\n",
       "      <th>prcp</th>\n",
       "      <th>wspd</th>\n",
       "      <th>pres</th>\n",
       "      <th>tsun</th>\n",
       "    </tr>\n",
       "  </thead>\n",
       "  <tbody>\n",
       "  </tbody>\n",
       "</table>\n",
       "</div>"
      ],
      "text/plain": [
       "Empty DataFrame\n",
       "Columns: [tavg, tmin, tmax, prcp, wspd, pres, tsun]\n",
       "Index: []"
      ]
     },
     "execution_count": 66,
     "metadata": {},
     "output_type": "execute_result"
    }
   ],
   "source": [
    "# Set time period\n",
    "start = datetime(2000, 1, 1)\n",
    "end = datetime(2018, 12, 31)\n",
    "\n",
    "#\n",
    "#point = Point(37.105600,-120.248700,73.30)\n",
    "\n",
    "# 3\n",
    "point = Point(35.576700, -119.785400, 175.10)\n",
    "\n",
    "# Get Monthly data\n",
    "data = Monthly(point, start, end)\n",
    "data = data.fetch()\n",
    "data\n",
    "#data = data.reset_index()\n",
    "\n",
    "\n",
    "# Plot line chart including average, minimum and maximum temperature\n",
    "#ata\n",
    "# data.plot(y=['tavg', 'tmin', 'tmax'])\n",
    "# plt.show()"
   ]
  },
  {
   "cell_type": "code",
   "execution_count": 35,
   "id": "582c5439",
   "metadata": {},
   "outputs": [
    {
     "data": {
      "text/html": [
       "<div>\n",
       "<style scoped>\n",
       "    .dataframe tbody tr th:only-of-type {\n",
       "        vertical-align: middle;\n",
       "    }\n",
       "\n",
       "    .dataframe tbody tr th {\n",
       "        vertical-align: top;\n",
       "    }\n",
       "\n",
       "    .dataframe thead th {\n",
       "        text-align: right;\n",
       "    }\n",
       "</style>\n",
       "<table border=\"1\" class=\"dataframe\">\n",
       "  <thead>\n",
       "    <tr style=\"text-align: right;\">\n",
       "      <th></th>\n",
       "      <th>time</th>\n",
       "      <th>tavg</th>\n",
       "      <th>tmin</th>\n",
       "      <th>tmax</th>\n",
       "      <th>prcp</th>\n",
       "      <th>wspd</th>\n",
       "      <th>pres</th>\n",
       "      <th>tsun</th>\n",
       "    </tr>\n",
       "  </thead>\n",
       "  <tbody>\n",
       "    <tr>\n",
       "      <th>0</th>\n",
       "      <td>2006-02-01</td>\n",
       "      <td>9.9</td>\n",
       "      <td>3.8</td>\n",
       "      <td>16.9</td>\n",
       "      <td>NaN</td>\n",
       "      <td>NaN</td>\n",
       "      <td>NaN</td>\n",
       "      <td>NaN</td>\n",
       "    </tr>\n",
       "    <tr>\n",
       "      <th>1</th>\n",
       "      <td>2006-03-01</td>\n",
       "      <td>9.5</td>\n",
       "      <td>4.4</td>\n",
       "      <td>14.7</td>\n",
       "      <td>NaN</td>\n",
       "      <td>NaN</td>\n",
       "      <td>NaN</td>\n",
       "      <td>NaN</td>\n",
       "    </tr>\n",
       "    <tr>\n",
       "      <th>2</th>\n",
       "      <td>2006-04-01</td>\n",
       "      <td>NaN</td>\n",
       "      <td>NaN</td>\n",
       "      <td>NaN</td>\n",
       "      <td>NaN</td>\n",
       "      <td>NaN</td>\n",
       "      <td>NaN</td>\n",
       "      <td>NaN</td>\n",
       "    </tr>\n",
       "    <tr>\n",
       "      <th>3</th>\n",
       "      <td>2006-05-01</td>\n",
       "      <td>20.6</td>\n",
       "      <td>12.2</td>\n",
       "      <td>29.0</td>\n",
       "      <td>NaN</td>\n",
       "      <td>11.6</td>\n",
       "      <td>1013.2</td>\n",
       "      <td>NaN</td>\n",
       "    </tr>\n",
       "    <tr>\n",
       "      <th>4</th>\n",
       "      <td>2006-06-01</td>\n",
       "      <td>25.3</td>\n",
       "      <td>16.2</td>\n",
       "      <td>34.2</td>\n",
       "      <td>NaN</td>\n",
       "      <td>NaN</td>\n",
       "      <td>1012.1</td>\n",
       "      <td>NaN</td>\n",
       "    </tr>\n",
       "    <tr>\n",
       "      <th>...</th>\n",
       "      <td>...</td>\n",
       "      <td>...</td>\n",
       "      <td>...</td>\n",
       "      <td>...</td>\n",
       "      <td>...</td>\n",
       "      <td>...</td>\n",
       "      <td>...</td>\n",
       "      <td>...</td>\n",
       "    </tr>\n",
       "    <tr>\n",
       "      <th>149</th>\n",
       "      <td>2018-07-01</td>\n",
       "      <td>28.3</td>\n",
       "      <td>19.3</td>\n",
       "      <td>37.4</td>\n",
       "      <td>0.0</td>\n",
       "      <td>13.0</td>\n",
       "      <td>1012.4</td>\n",
       "      <td>NaN</td>\n",
       "    </tr>\n",
       "    <tr>\n",
       "      <th>150</th>\n",
       "      <td>2018-08-01</td>\n",
       "      <td>24.7</td>\n",
       "      <td>15.7</td>\n",
       "      <td>33.9</td>\n",
       "      <td>0.0</td>\n",
       "      <td>NaN</td>\n",
       "      <td>1012.1</td>\n",
       "      <td>NaN</td>\n",
       "    </tr>\n",
       "    <tr>\n",
       "      <th>151</th>\n",
       "      <td>2018-09-01</td>\n",
       "      <td>24.0</td>\n",
       "      <td>14.4</td>\n",
       "      <td>34.3</td>\n",
       "      <td>0.0</td>\n",
       "      <td>9.0</td>\n",
       "      <td>1011.1</td>\n",
       "      <td>NaN</td>\n",
       "    </tr>\n",
       "    <tr>\n",
       "      <th>152</th>\n",
       "      <td>2018-10-01</td>\n",
       "      <td>18.9</td>\n",
       "      <td>11.4</td>\n",
       "      <td>27.7</td>\n",
       "      <td>NaN</td>\n",
       "      <td>NaN</td>\n",
       "      <td>NaN</td>\n",
       "      <td>NaN</td>\n",
       "    </tr>\n",
       "    <tr>\n",
       "      <th>153</th>\n",
       "      <td>2018-11-01</td>\n",
       "      <td>13.3</td>\n",
       "      <td>6.8</td>\n",
       "      <td>21.6</td>\n",
       "      <td>NaN</td>\n",
       "      <td>5.6</td>\n",
       "      <td>NaN</td>\n",
       "      <td>NaN</td>\n",
       "    </tr>\n",
       "  </tbody>\n",
       "</table>\n",
       "<p>154 rows × 8 columns</p>\n",
       "</div>"
      ],
      "text/plain": [
       "          time  tavg  tmin  tmax  prcp  wspd    pres  tsun\n",
       "0   2006-02-01   9.9   3.8  16.9   NaN   NaN     NaN   NaN\n",
       "1   2006-03-01   9.5   4.4  14.7   NaN   NaN     NaN   NaN\n",
       "2   2006-04-01   NaN   NaN   NaN   NaN   NaN     NaN   NaN\n",
       "3   2006-05-01  20.6  12.2  29.0   NaN  11.6  1013.2   NaN\n",
       "4   2006-06-01  25.3  16.2  34.2   NaN   NaN  1012.1   NaN\n",
       "..         ...   ...   ...   ...   ...   ...     ...   ...\n",
       "149 2018-07-01  28.3  19.3  37.4   0.0  13.0  1012.4   NaN\n",
       "150 2018-08-01  24.7  15.7  33.9   0.0   NaN  1012.1   NaN\n",
       "151 2018-09-01  24.0  14.4  34.3   0.0   9.0  1011.1   NaN\n",
       "152 2018-10-01  18.9  11.4  27.7   NaN   NaN     NaN   NaN\n",
       "153 2018-11-01  13.3   6.8  21.6   NaN   5.6     NaN   NaN\n",
       "\n",
       "[154 rows x 8 columns]"
      ]
     },
     "execution_count": 35,
     "metadata": {},
     "output_type": "execute_result"
    }
   ],
   "source": [
    "data.reset_index()"
   ]
  },
  {
   "cell_type": "code",
   "execution_count": 61,
   "id": "55049eee",
   "metadata": {},
   "outputs": [],
   "source": [
    "def get_temp(lat, lon, elevation):\n",
    "    new_df_dict = {}\n",
    "    year_start = 2000\n",
    "    year_end = 2018\n",
    "    month_start = 1\n",
    "    month_end = 12\n",
    "    lat = lat\n",
    "    lon = lon\n",
    "    elevation = elevation\n",
    "    start = datetime(year_start, month_start, 31)\n",
    "    end = datetime(year_end, month_end, 31)\n",
    "    \n",
    "    point = Point(lat, lon, elevation)\n",
    "    month = Monthly(point, start, end)\n",
    "    table = month.fetch()\n",
    "    data = table.reset_index(drop=False)\n",
    "    if data.empty:\n",
    "        df_time = data['time']\n",
    "    \n",
    "    else:\n",
    "        df_tavg = data['tavg']\n",
    "        df_time = data['time']\n",
    "        df_lat = pd.Series([lat])\n",
    "        df_lat_r = df_lat.repeat(df_time.shape[0]).reset_index(drop=True)\n",
    "\n",
    "        df_lon = pd.Series([lon])\n",
    "        df_lon_r = df_lon.repeat(df_time.shape[0]).reset_index(drop=True)\n",
    "\n",
    "        df_elevation = pd.Series([elevation])\n",
    "        df_elevation_r = df_elevation.repeat(df_time.shape[0]).reset_index(drop=True)\n",
    "    #idx = pd.Series(range(0,df_time.shape[0]))\n",
    "    \n",
    "    \n",
    "    new_df = pd.concat([df_lat_r, df_lon_r, df_elevation_r, df_time, df_tavg], axis=1)\n",
    "    return new_df\n",
    "    \n",
    "    #new_df_dict['point_source_lat'] = lat\n",
    "    \n",
    "    #point['year_month'] = point['time'][:7]"
   ]
  },
  {
   "cell_type": "code",
   "execution_count": 5,
   "id": "dc70709d",
   "metadata": {},
   "outputs": [],
   "source": [
    "point_elevations_test = point_elevations[:5]"
   ]
  },
  {
   "cell_type": "code",
   "execution_count": 6,
   "id": "4c12a9bf",
   "metadata": {},
   "outputs": [
    {
     "data": {
      "text/html": [
       "<div>\n",
       "<style scoped>\n",
       "    .dataframe tbody tr th:only-of-type {\n",
       "        vertical-align: middle;\n",
       "    }\n",
       "\n",
       "    .dataframe tbody tr th {\n",
       "        vertical-align: top;\n",
       "    }\n",
       "\n",
       "    .dataframe thead th {\n",
       "        text-align: right;\n",
       "    }\n",
       "</style>\n",
       "<table border=\"1\" class=\"dataframe\">\n",
       "  <thead>\n",
       "    <tr style=\"text-align: right;\">\n",
       "      <th></th>\n",
       "      <th>point_source_lat</th>\n",
       "      <th>point_source_lon</th>\n",
       "      <th>elevation_meters</th>\n",
       "    </tr>\n",
       "  </thead>\n",
       "  <tbody>\n",
       "    <tr>\n",
       "      <th>0</th>\n",
       "      <td>37.105600</td>\n",
       "      <td>-120.248700</td>\n",
       "      <td>73.30</td>\n",
       "    </tr>\n",
       "    <tr>\n",
       "      <th>1</th>\n",
       "      <td>35.151250</td>\n",
       "      <td>-118.016670</td>\n",
       "      <td>740.08</td>\n",
       "    </tr>\n",
       "    <tr>\n",
       "      <th>2</th>\n",
       "      <td>35.513841</td>\n",
       "      <td>-118.901299</td>\n",
       "      <td>250.90</td>\n",
       "    </tr>\n",
       "    <tr>\n",
       "      <th>3</th>\n",
       "      <td>35.576700</td>\n",
       "      <td>-119.785400</td>\n",
       "      <td>175.10</td>\n",
       "    </tr>\n",
       "    <tr>\n",
       "      <th>4</th>\n",
       "      <td>34.534084</td>\n",
       "      <td>-117.861722</td>\n",
       "      <td>900.09</td>\n",
       "    </tr>\n",
       "  </tbody>\n",
       "</table>\n",
       "</div>"
      ],
      "text/plain": [
       "   point_source_lat  point_source_lon  elevation_meters\n",
       "0         37.105600       -120.248700             73.30\n",
       "1         35.151250       -118.016670            740.08\n",
       "2         35.513841       -118.901299            250.90\n",
       "3         35.576700       -119.785400            175.10\n",
       "4         34.534084       -117.861722            900.09"
      ]
     },
     "execution_count": 6,
     "metadata": {},
     "output_type": "execute_result"
    }
   ],
   "source": [
    "point_elevations_test"
   ]
  },
  {
   "cell_type": "code",
   "execution_count": 62,
   "id": "ba0b2fc3",
   "metadata": {},
   "outputs": [
    {
     "name": "stdout",
     "output_type": "stream",
     "text": [
      "          time  tavg  tmin  tmax  prcp  wspd    pres  tsun\n",
      "0   2006-02-01   9.9   3.8  16.9   NaN   NaN     NaN   NaN\n",
      "1   2006-03-01   9.5   4.4  14.7   NaN   NaN     NaN   NaN\n",
      "2   2006-04-01   NaN   NaN   NaN   NaN   NaN     NaN   NaN\n",
      "3   2006-05-01  20.6  12.2  29.0   NaN  11.6  1013.2   NaN\n",
      "4   2006-06-01  25.3  16.2  34.2   NaN   NaN  1012.1   NaN\n",
      "..         ...   ...   ...   ...   ...   ...     ...   ...\n",
      "149 2018-07-01  28.3  19.3  37.4   0.0  13.0  1012.4   NaN\n",
      "150 2018-08-01  24.7  15.7  33.9   0.0   NaN  1012.1   NaN\n",
      "151 2018-09-01  24.0  14.4  34.3   0.0   9.0  1011.1   NaN\n",
      "152 2018-10-01  18.9  11.4  27.7   NaN   NaN     NaN   NaN\n",
      "153 2018-11-01  13.3   6.8  21.6   NaN   5.6     NaN   NaN\n",
      "\n",
      "[154 rows x 8 columns]\n",
      "          time  tavg  tmin  tmax  prcp  wspd    pres  tsun\n",
      "0   2006-09-01  22.9  12.1  32.9   0.0  12.6  1012.0   NaN\n",
      "1   2006-10-01   NaN   NaN   NaN   NaN   NaN     NaN   NaN\n",
      "2   2006-11-01  11.1   1.7  21.3   NaN  11.8  1017.8   NaN\n",
      "3   2006-12-01   NaN   NaN   NaN   NaN   NaN     NaN   NaN\n",
      "4   2007-01-01   NaN   NaN   NaN   NaN   NaN     NaN   NaN\n",
      "..         ...   ...   ...   ...   ...   ...     ...   ...\n",
      "142 2018-07-01   NaN   NaN   NaN   NaN   NaN     NaN   NaN\n",
      "143 2018-08-01   NaN   NaN   NaN   NaN   NaN     NaN   NaN\n",
      "144 2018-09-01   NaN   NaN   NaN   NaN   NaN     NaN   NaN\n",
      "145 2018-10-01   NaN   NaN   NaN   NaN   NaN     NaN   NaN\n",
      "146 2018-11-01  11.1   2.8  20.3   NaN   NaN     NaN   NaN\n",
      "\n",
      "[147 rows x 8 columns]\n",
      "          time  tavg  tmin  tmax  prcp  wspd    pres  tsun\n",
      "0   2000-01-01  10.1   4.4  15.3  23.8   7.7  1022.0   NaN\n",
      "1   2000-02-01  11.9   6.4  17.2  41.1  10.4     NaN   NaN\n",
      "2   2000-03-01  12.8   6.9  18.5  33.1   9.0     NaN   NaN\n",
      "3   2000-04-01  16.7   8.9  24.2  14.5  11.2     NaN   NaN\n",
      "4   2000-05-01  21.2  13.4  28.7   2.1  12.3  1013.4   NaN\n",
      "..         ...   ...   ...   ...   ...   ...     ...   ...\n",
      "223 2018-08-01  28.7  21.0  36.2   0.0   9.6     NaN   NaN\n",
      "224 2018-09-01  25.5  18.0  33.0   0.0   8.4  1010.6   NaN\n",
      "225 2018-10-01  20.0  13.2  26.6   0.0   8.2  1013.6   NaN\n",
      "226 2018-11-01  13.9   7.5  20.8  17.4   6.2     NaN   NaN\n",
      "227 2018-12-01   9.8   5.7  14.2  15.7   7.2     NaN   NaN\n",
      "\n",
      "[228 rows x 8 columns]\n",
      "Empty DataFrame\n",
      "Columns: [index, tavg, tmin, tmax, prcp, wspd, pres, tsun]\n",
      "Index: []\n"
     ]
    },
    {
     "ename": "KeyError",
     "evalue": "'time'",
     "output_type": "error",
     "traceback": [
      "\u001b[0;31m---------------------------------------------------------------------------\u001b[0m",
      "\u001b[0;31mKeyError\u001b[0m                                  Traceback (most recent call last)",
      "File \u001b[0;32m~/anaconda3/lib/python3.8/site-packages/pandas/core/indexes/base.py:3621\u001b[0m, in \u001b[0;36mIndex.get_loc\u001b[0;34m(self, key, method, tolerance)\u001b[0m\n\u001b[1;32m   3620\u001b[0m \u001b[38;5;28;01mtry\u001b[39;00m:\n\u001b[0;32m-> 3621\u001b[0m     \u001b[38;5;28;01mreturn\u001b[39;00m \u001b[38;5;28;43mself\u001b[39;49m\u001b[38;5;241;43m.\u001b[39;49m\u001b[43m_engine\u001b[49m\u001b[38;5;241;43m.\u001b[39;49m\u001b[43mget_loc\u001b[49m\u001b[43m(\u001b[49m\u001b[43mcasted_key\u001b[49m\u001b[43m)\u001b[49m\n\u001b[1;32m   3622\u001b[0m \u001b[38;5;28;01mexcept\u001b[39;00m \u001b[38;5;167;01mKeyError\u001b[39;00m \u001b[38;5;28;01mas\u001b[39;00m err:\n",
      "File \u001b[0;32m~/anaconda3/lib/python3.8/site-packages/pandas/_libs/index.pyx:136\u001b[0m, in \u001b[0;36mpandas._libs.index.IndexEngine.get_loc\u001b[0;34m()\u001b[0m\n",
      "File \u001b[0;32m~/anaconda3/lib/python3.8/site-packages/pandas/_libs/index.pyx:163\u001b[0m, in \u001b[0;36mpandas._libs.index.IndexEngine.get_loc\u001b[0;34m()\u001b[0m\n",
      "File \u001b[0;32mpandas/_libs/hashtable_class_helper.pxi:5198\u001b[0m, in \u001b[0;36mpandas._libs.hashtable.PyObjectHashTable.get_item\u001b[0;34m()\u001b[0m\n",
      "File \u001b[0;32mpandas/_libs/hashtable_class_helper.pxi:5206\u001b[0m, in \u001b[0;36mpandas._libs.hashtable.PyObjectHashTable.get_item\u001b[0;34m()\u001b[0m\n",
      "\u001b[0;31mKeyError\u001b[0m: 'time'",
      "\nThe above exception was the direct cause of the following exception:\n",
      "\u001b[0;31mKeyError\u001b[0m                                  Traceback (most recent call last)",
      "Input \u001b[0;32mIn [62]\u001b[0m, in \u001b[0;36m<cell line: 1>\u001b[0;34m()\u001b[0m\n\u001b[0;32m----> 1\u001b[0m testing_new_df \u001b[38;5;241m=\u001b[39m \u001b[43mpoint_elevations_test\u001b[49m\u001b[38;5;241;43m.\u001b[39;49m\u001b[43mapply\u001b[49m\u001b[43m(\u001b[49m\u001b[38;5;28;43;01mlambda\u001b[39;49;00m\u001b[43m \u001b[49m\u001b[43mrow\u001b[49m\u001b[43m:\u001b[49m\u001b[43m \u001b[49m\u001b[43mget_temp\u001b[49m\u001b[43m(\u001b[49m\u001b[43mrow\u001b[49m\u001b[43m[\u001b[49m\u001b[38;5;124;43m'\u001b[39;49m\u001b[38;5;124;43mpoint_source_lat\u001b[39;49m\u001b[38;5;124;43m'\u001b[39;49m\u001b[43m]\u001b[49m\u001b[43m,\u001b[49m\u001b[43m \u001b[49m\n\u001b[1;32m      2\u001b[0m \u001b[43m                                                                  \u001b[49m\u001b[43mrow\u001b[49m\u001b[43m[\u001b[49m\u001b[38;5;124;43m'\u001b[39;49m\u001b[38;5;124;43mpoint_source_lon\u001b[39;49m\u001b[38;5;124;43m'\u001b[39;49m\u001b[43m]\u001b[49m\u001b[43m,\u001b[49m\u001b[43m \u001b[49m\n\u001b[1;32m      3\u001b[0m \u001b[43m                                                                  \u001b[49m\u001b[43mrow\u001b[49m\u001b[43m[\u001b[49m\u001b[38;5;124;43m'\u001b[39;49m\u001b[38;5;124;43melevation_meters\u001b[39;49m\u001b[38;5;124;43m'\u001b[39;49m\u001b[43m]\u001b[49m\u001b[43m)\u001b[49m\u001b[43m,\u001b[49m\u001b[43m \u001b[49m\u001b[43maxis\u001b[49m\u001b[38;5;241;43m=\u001b[39;49m\u001b[38;5;241;43m1\u001b[39;49m\u001b[43m)\u001b[49m\n",
      "File \u001b[0;32m~/anaconda3/lib/python3.8/site-packages/pandas/core/frame.py:8845\u001b[0m, in \u001b[0;36mDataFrame.apply\u001b[0;34m(self, func, axis, raw, result_type, args, **kwargs)\u001b[0m\n\u001b[1;32m   8834\u001b[0m \u001b[38;5;28;01mfrom\u001b[39;00m \u001b[38;5;21;01mpandas\u001b[39;00m\u001b[38;5;21;01m.\u001b[39;00m\u001b[38;5;21;01mcore\u001b[39;00m\u001b[38;5;21;01m.\u001b[39;00m\u001b[38;5;21;01mapply\u001b[39;00m \u001b[38;5;28;01mimport\u001b[39;00m frame_apply\n\u001b[1;32m   8836\u001b[0m op \u001b[38;5;241m=\u001b[39m frame_apply(\n\u001b[1;32m   8837\u001b[0m     \u001b[38;5;28mself\u001b[39m,\n\u001b[1;32m   8838\u001b[0m     func\u001b[38;5;241m=\u001b[39mfunc,\n\u001b[0;32m   (...)\u001b[0m\n\u001b[1;32m   8843\u001b[0m     kwargs\u001b[38;5;241m=\u001b[39mkwargs,\n\u001b[1;32m   8844\u001b[0m )\n\u001b[0;32m-> 8845\u001b[0m \u001b[38;5;28;01mreturn\u001b[39;00m \u001b[43mop\u001b[49m\u001b[38;5;241;43m.\u001b[39;49m\u001b[43mapply\u001b[49m\u001b[43m(\u001b[49m\u001b[43m)\u001b[49m\u001b[38;5;241m.\u001b[39m__finalize__(\u001b[38;5;28mself\u001b[39m, method\u001b[38;5;241m=\u001b[39m\u001b[38;5;124m\"\u001b[39m\u001b[38;5;124mapply\u001b[39m\u001b[38;5;124m\"\u001b[39m)\n",
      "File \u001b[0;32m~/anaconda3/lib/python3.8/site-packages/pandas/core/apply.py:733\u001b[0m, in \u001b[0;36mFrameApply.apply\u001b[0;34m(self)\u001b[0m\n\u001b[1;32m    730\u001b[0m \u001b[38;5;28;01melif\u001b[39;00m \u001b[38;5;28mself\u001b[39m\u001b[38;5;241m.\u001b[39mraw:\n\u001b[1;32m    731\u001b[0m     \u001b[38;5;28;01mreturn\u001b[39;00m \u001b[38;5;28mself\u001b[39m\u001b[38;5;241m.\u001b[39mapply_raw()\n\u001b[0;32m--> 733\u001b[0m \u001b[38;5;28;01mreturn\u001b[39;00m \u001b[38;5;28;43mself\u001b[39;49m\u001b[38;5;241;43m.\u001b[39;49m\u001b[43mapply_standard\u001b[49m\u001b[43m(\u001b[49m\u001b[43m)\u001b[49m\n",
      "File \u001b[0;32m~/anaconda3/lib/python3.8/site-packages/pandas/core/apply.py:857\u001b[0m, in \u001b[0;36mFrameApply.apply_standard\u001b[0;34m(self)\u001b[0m\n\u001b[1;32m    856\u001b[0m \u001b[38;5;28;01mdef\u001b[39;00m \u001b[38;5;21mapply_standard\u001b[39m(\u001b[38;5;28mself\u001b[39m):\n\u001b[0;32m--> 857\u001b[0m     results, res_index \u001b[38;5;241m=\u001b[39m \u001b[38;5;28;43mself\u001b[39;49m\u001b[38;5;241;43m.\u001b[39;49m\u001b[43mapply_series_generator\u001b[49m\u001b[43m(\u001b[49m\u001b[43m)\u001b[49m\n\u001b[1;32m    859\u001b[0m     \u001b[38;5;66;03m# wrap results\u001b[39;00m\n\u001b[1;32m    860\u001b[0m     \u001b[38;5;28;01mreturn\u001b[39;00m \u001b[38;5;28mself\u001b[39m\u001b[38;5;241m.\u001b[39mwrap_results(results, res_index)\n",
      "File \u001b[0;32m~/anaconda3/lib/python3.8/site-packages/pandas/core/apply.py:873\u001b[0m, in \u001b[0;36mFrameApply.apply_series_generator\u001b[0;34m(self)\u001b[0m\n\u001b[1;32m    870\u001b[0m \u001b[38;5;28;01mwith\u001b[39;00m option_context(\u001b[38;5;124m\"\u001b[39m\u001b[38;5;124mmode.chained_assignment\u001b[39m\u001b[38;5;124m\"\u001b[39m, \u001b[38;5;28;01mNone\u001b[39;00m):\n\u001b[1;32m    871\u001b[0m     \u001b[38;5;28;01mfor\u001b[39;00m i, v \u001b[38;5;129;01min\u001b[39;00m \u001b[38;5;28menumerate\u001b[39m(series_gen):\n\u001b[1;32m    872\u001b[0m         \u001b[38;5;66;03m# ignore SettingWithCopy here in case the user mutates\u001b[39;00m\n\u001b[0;32m--> 873\u001b[0m         results[i] \u001b[38;5;241m=\u001b[39m \u001b[38;5;28;43mself\u001b[39;49m\u001b[38;5;241;43m.\u001b[39;49m\u001b[43mf\u001b[49m\u001b[43m(\u001b[49m\u001b[43mv\u001b[49m\u001b[43m)\u001b[49m\n\u001b[1;32m    874\u001b[0m         \u001b[38;5;28;01mif\u001b[39;00m \u001b[38;5;28misinstance\u001b[39m(results[i], ABCSeries):\n\u001b[1;32m    875\u001b[0m             \u001b[38;5;66;03m# If we have a view on v, we need to make a copy because\u001b[39;00m\n\u001b[1;32m    876\u001b[0m             \u001b[38;5;66;03m#  series_generator will swap out the underlying data\u001b[39;00m\n\u001b[1;32m    877\u001b[0m             results[i] \u001b[38;5;241m=\u001b[39m results[i]\u001b[38;5;241m.\u001b[39mcopy(deep\u001b[38;5;241m=\u001b[39m\u001b[38;5;28;01mFalse\u001b[39;00m)\n",
      "Input \u001b[0;32mIn [62]\u001b[0m, in \u001b[0;36m<lambda>\u001b[0;34m(row)\u001b[0m\n\u001b[0;32m----> 1\u001b[0m testing_new_df \u001b[38;5;241m=\u001b[39m point_elevations_test\u001b[38;5;241m.\u001b[39mapply(\u001b[38;5;28;01mlambda\u001b[39;00m row: \u001b[43mget_temp\u001b[49m\u001b[43m(\u001b[49m\u001b[43mrow\u001b[49m\u001b[43m[\u001b[49m\u001b[38;5;124;43m'\u001b[39;49m\u001b[38;5;124;43mpoint_source_lat\u001b[39;49m\u001b[38;5;124;43m'\u001b[39;49m\u001b[43m]\u001b[49m\u001b[43m,\u001b[49m\u001b[43m \u001b[49m\n\u001b[1;32m      2\u001b[0m \u001b[43m                                                                  \u001b[49m\u001b[43mrow\u001b[49m\u001b[43m[\u001b[49m\u001b[38;5;124;43m'\u001b[39;49m\u001b[38;5;124;43mpoint_source_lon\u001b[39;49m\u001b[38;5;124;43m'\u001b[39;49m\u001b[43m]\u001b[49m\u001b[43m,\u001b[49m\u001b[43m \u001b[49m\n\u001b[1;32m      3\u001b[0m \u001b[43m                                                                  \u001b[49m\u001b[43mrow\u001b[49m\u001b[43m[\u001b[49m\u001b[38;5;124;43m'\u001b[39;49m\u001b[38;5;124;43melevation_meters\u001b[39;49m\u001b[38;5;124;43m'\u001b[39;49m\u001b[43m]\u001b[49m\u001b[43m)\u001b[49m, axis\u001b[38;5;241m=\u001b[39m\u001b[38;5;241m1\u001b[39m)\n",
      "Input \u001b[0;32mIn [61]\u001b[0m, in \u001b[0;36mget_temp\u001b[0;34m(lat, lon, elevation)\u001b[0m\n\u001b[1;32m     17\u001b[0m \u001b[38;5;28mprint\u001b[39m(data\n\u001b[1;32m     18\u001b[0m      )\n\u001b[1;32m     20\u001b[0m df_tavg \u001b[38;5;241m=\u001b[39m data[\u001b[38;5;124m'\u001b[39m\u001b[38;5;124mtavg\u001b[39m\u001b[38;5;124m'\u001b[39m]\n\u001b[0;32m---> 21\u001b[0m df_time \u001b[38;5;241m=\u001b[39m \u001b[43mdata\u001b[49m\u001b[43m[\u001b[49m\u001b[38;5;124;43m'\u001b[39;49m\u001b[38;5;124;43mtime\u001b[39;49m\u001b[38;5;124;43m'\u001b[39;49m\u001b[43m]\u001b[49m\n\u001b[1;32m     22\u001b[0m df_lat \u001b[38;5;241m=\u001b[39m pd\u001b[38;5;241m.\u001b[39mSeries([lat])\n\u001b[1;32m     23\u001b[0m df_lat_r \u001b[38;5;241m=\u001b[39m df_lat\u001b[38;5;241m.\u001b[39mrepeat(df_time\u001b[38;5;241m.\u001b[39mshape[\u001b[38;5;241m0\u001b[39m])\u001b[38;5;241m.\u001b[39mreset_index(drop\u001b[38;5;241m=\u001b[39m\u001b[38;5;28;01mTrue\u001b[39;00m)\n",
      "File \u001b[0;32m~/anaconda3/lib/python3.8/site-packages/pandas/core/frame.py:3505\u001b[0m, in \u001b[0;36mDataFrame.__getitem__\u001b[0;34m(self, key)\u001b[0m\n\u001b[1;32m   3503\u001b[0m \u001b[38;5;28;01mif\u001b[39;00m \u001b[38;5;28mself\u001b[39m\u001b[38;5;241m.\u001b[39mcolumns\u001b[38;5;241m.\u001b[39mnlevels \u001b[38;5;241m>\u001b[39m \u001b[38;5;241m1\u001b[39m:\n\u001b[1;32m   3504\u001b[0m     \u001b[38;5;28;01mreturn\u001b[39;00m \u001b[38;5;28mself\u001b[39m\u001b[38;5;241m.\u001b[39m_getitem_multilevel(key)\n\u001b[0;32m-> 3505\u001b[0m indexer \u001b[38;5;241m=\u001b[39m \u001b[38;5;28;43mself\u001b[39;49m\u001b[38;5;241;43m.\u001b[39;49m\u001b[43mcolumns\u001b[49m\u001b[38;5;241;43m.\u001b[39;49m\u001b[43mget_loc\u001b[49m\u001b[43m(\u001b[49m\u001b[43mkey\u001b[49m\u001b[43m)\u001b[49m\n\u001b[1;32m   3506\u001b[0m \u001b[38;5;28;01mif\u001b[39;00m is_integer(indexer):\n\u001b[1;32m   3507\u001b[0m     indexer \u001b[38;5;241m=\u001b[39m [indexer]\n",
      "File \u001b[0;32m~/anaconda3/lib/python3.8/site-packages/pandas/core/indexes/base.py:3623\u001b[0m, in \u001b[0;36mIndex.get_loc\u001b[0;34m(self, key, method, tolerance)\u001b[0m\n\u001b[1;32m   3621\u001b[0m     \u001b[38;5;28;01mreturn\u001b[39;00m \u001b[38;5;28mself\u001b[39m\u001b[38;5;241m.\u001b[39m_engine\u001b[38;5;241m.\u001b[39mget_loc(casted_key)\n\u001b[1;32m   3622\u001b[0m \u001b[38;5;28;01mexcept\u001b[39;00m \u001b[38;5;167;01mKeyError\u001b[39;00m \u001b[38;5;28;01mas\u001b[39;00m err:\n\u001b[0;32m-> 3623\u001b[0m     \u001b[38;5;28;01mraise\u001b[39;00m \u001b[38;5;167;01mKeyError\u001b[39;00m(key) \u001b[38;5;28;01mfrom\u001b[39;00m \u001b[38;5;21;01merr\u001b[39;00m\n\u001b[1;32m   3624\u001b[0m \u001b[38;5;28;01mexcept\u001b[39;00m \u001b[38;5;167;01mTypeError\u001b[39;00m:\n\u001b[1;32m   3625\u001b[0m     \u001b[38;5;66;03m# If we have a listlike key, _check_indexing_error will raise\u001b[39;00m\n\u001b[1;32m   3626\u001b[0m     \u001b[38;5;66;03m#  InvalidIndexError. Otherwise we fall through and re-raise\u001b[39;00m\n\u001b[1;32m   3627\u001b[0m     \u001b[38;5;66;03m#  the TypeError.\u001b[39;00m\n\u001b[1;32m   3628\u001b[0m     \u001b[38;5;28mself\u001b[39m\u001b[38;5;241m.\u001b[39m_check_indexing_error(key)\n",
      "\u001b[0;31mKeyError\u001b[0m: 'time'"
     ]
    }
   ],
   "source": [
    "testing_new_df = point_elevations_test.apply(lambda row: get_temp(row['point_source_lat'], \n",
    "                                                                  row['point_source_lon'], \n",
    "                                                                  row['elevation_meters']), axis=1)"
   ]
  },
  {
   "cell_type": "code",
   "execution_count": 34,
   "id": "e45e5a24",
   "metadata": {
    "scrolled": false
   },
   "outputs": [
    {
     "data": {
      "text/html": [
       "<div>\n",
       "<style scoped>\n",
       "    .dataframe tbody tr th:only-of-type {\n",
       "        vertical-align: middle;\n",
       "    }\n",
       "\n",
       "    .dataframe tbody tr th {\n",
       "        vertical-align: top;\n",
       "    }\n",
       "\n",
       "    .dataframe thead th {\n",
       "        text-align: right;\n",
       "    }\n",
       "</style>\n",
       "<table border=\"1\" class=\"dataframe\">\n",
       "  <thead>\n",
       "    <tr style=\"text-align: right;\">\n",
       "      <th></th>\n",
       "      <th>point_source_lat</th>\n",
       "      <th>point_source_lon</th>\n",
       "      <th>elevation_meters</th>\n",
       "    </tr>\n",
       "  </thead>\n",
       "  <tbody>\n",
       "    <tr>\n",
       "      <th>0</th>\n",
       "      <td>37.105600</td>\n",
       "      <td>-120.248700</td>\n",
       "      <td>73.30</td>\n",
       "    </tr>\n",
       "    <tr>\n",
       "      <th>1</th>\n",
       "      <td>35.151250</td>\n",
       "      <td>-118.016670</td>\n",
       "      <td>740.08</td>\n",
       "    </tr>\n",
       "    <tr>\n",
       "      <th>2</th>\n",
       "      <td>35.513841</td>\n",
       "      <td>-118.901299</td>\n",
       "      <td>250.90</td>\n",
       "    </tr>\n",
       "    <tr>\n",
       "      <th>3</th>\n",
       "      <td>35.576700</td>\n",
       "      <td>-119.785400</td>\n",
       "      <td>175.10</td>\n",
       "    </tr>\n",
       "    <tr>\n",
       "      <th>4</th>\n",
       "      <td>34.534084</td>\n",
       "      <td>-117.861722</td>\n",
       "      <td>900.09</td>\n",
       "    </tr>\n",
       "  </tbody>\n",
       "</table>\n",
       "</div>"
      ],
      "text/plain": [
       "   point_source_lat  point_source_lon  elevation_meters\n",
       "0         37.105600       -120.248700             73.30\n",
       "1         35.151250       -118.016670            740.08\n",
       "2         35.513841       -118.901299            250.90\n",
       "3         35.576700       -119.785400            175.10\n",
       "4         34.534084       -117.861722            900.09"
      ]
     },
     "execution_count": 34,
     "metadata": {},
     "output_type": "execute_result"
    }
   ],
   "source": [
    "point_elevations.head()"
   ]
  },
  {
   "cell_type": "code",
   "execution_count": 40,
   "id": "a7765b4b",
   "metadata": {},
   "outputs": [
    {
     "data": {
      "text/plain": [
       "3330"
      ]
     },
     "execution_count": 40,
     "metadata": {},
     "output_type": "execute_result"
    }
   ],
   "source": [
    "len(point_elevations)"
   ]
  },
  {
   "cell_type": "code",
   "execution_count": 35,
   "id": "02f1dd6a",
   "metadata": {
    "scrolled": false
   },
   "outputs": [
    {
     "data": {
      "text/html": [
       "<div>\n",
       "<style scoped>\n",
       "    .dataframe tbody tr th:only-of-type {\n",
       "        vertical-align: middle;\n",
       "    }\n",
       "\n",
       "    .dataframe tbody tr th {\n",
       "        vertical-align: top;\n",
       "    }\n",
       "\n",
       "    .dataframe thead th {\n",
       "        text-align: right;\n",
       "    }\n",
       "</style>\n",
       "<table border=\"1\" class=\"dataframe\">\n",
       "  <thead>\n",
       "    <tr style=\"text-align: right;\">\n",
       "      <th></th>\n",
       "      <th>cdscode</th>\n",
       "      <th>school_lat</th>\n",
       "      <th>school_lon</th>\n",
       "      <th>elevation_meters</th>\n",
       "    </tr>\n",
       "  </thead>\n",
       "  <tbody>\n",
       "    <tr>\n",
       "      <th>0</th>\n",
       "      <td>20102070109728</td>\n",
       "      <td>37.115210</td>\n",
       "      <td>-120.26603</td>\n",
       "      <td>70.84</td>\n",
       "    </tr>\n",
       "    <tr>\n",
       "      <th>1</th>\n",
       "      <td>20102072030187</td>\n",
       "      <td>37.115210</td>\n",
       "      <td>-120.26603</td>\n",
       "      <td>70.84</td>\n",
       "    </tr>\n",
       "    <tr>\n",
       "      <th>2</th>\n",
       "      <td>20651930000000</td>\n",
       "      <td>37.122449</td>\n",
       "      <td>-120.26487</td>\n",
       "      <td>72.77</td>\n",
       "    </tr>\n",
       "    <tr>\n",
       "      <th>3</th>\n",
       "      <td>20651930113076</td>\n",
       "      <td>37.131113</td>\n",
       "      <td>-120.242025</td>\n",
       "      <td>77.12</td>\n",
       "    </tr>\n",
       "    <tr>\n",
       "      <th>4</th>\n",
       "      <td>20651936023907</td>\n",
       "      <td>37.115243</td>\n",
       "      <td>-120.26777</td>\n",
       "      <td>70.66</td>\n",
       "    </tr>\n",
       "  </tbody>\n",
       "</table>\n",
       "</div>"
      ],
      "text/plain": [
       "          cdscode school_lat   school_lon  elevation_meters\n",
       "0  20102070109728  37.115210   -120.26603             70.84\n",
       "1  20102072030187  37.115210   -120.26603             70.84\n",
       "2  20651930000000  37.122449   -120.26487             72.77\n",
       "3  20651930113076  37.131113  -120.242025             77.12\n",
       "4  20651936023907  37.115243   -120.26777             70.66"
      ]
     },
     "execution_count": 35,
     "metadata": {},
     "output_type": "execute_result"
    }
   ],
   "source": [
    "school_elevations.head()"
   ]
  },
  {
   "cell_type": "code",
   "execution_count": 41,
   "id": "f4872f5e",
   "metadata": {},
   "outputs": [
    {
     "data": {
      "text/plain": [
       "13297"
      ]
     },
     "execution_count": 41,
     "metadata": {},
     "output_type": "execute_result"
    }
   ],
   "source": [
    "len(school_elevations)"
   ]
  }
 ],
 "metadata": {
  "kernelspec": {
   "display_name": "Python 3 (ipykernel)",
   "language": "python",
   "name": "python3"
  },
  "language_info": {
   "codemirror_mode": {
    "name": "ipython",
    "version": 3
   },
   "file_extension": ".py",
   "mimetype": "text/x-python",
   "name": "python",
   "nbconvert_exporter": "python",
   "pygments_lexer": "ipython3",
   "version": "3.8.5"
  }
 },
 "nbformat": 4,
 "nbformat_minor": 5
}
