{
 "cells": [
  {
   "cell_type": "code",
   "execution_count": 101,
   "id": "8b7d8813",
   "metadata": {},
   "outputs": [],
   "source": [
    "import pandas as pd\n",
    "import numpy as np\n",
    "import os\n",
    "import matplotlib.pyplot as plt\n",
    "import pyarrow"
   ]
  },
  {
   "cell_type": "code",
   "execution_count": 9,
   "id": "a7108964",
   "metadata": {},
   "outputs": [],
   "source": [
    "#!pip install pyarrow"
   ]
  },
  {
   "cell_type": "code",
   "execution_count": 102,
   "id": "52d81271",
   "metadata": {},
   "outputs": [
    {
     "data": {
      "text/plain": [
       "'/Users/michelle/MIDS/210 Capstone'"
      ]
     },
     "execution_count": 102,
     "metadata": {},
     "output_type": "execute_result"
    }
   ],
   "source": [
    "cwd = os.getcwd()\n",
    "cwd"
   ]
  },
  {
   "cell_type": "code",
   "execution_count": 103,
   "id": "f5c815b6",
   "metadata": {},
   "outputs": [],
   "source": [
    "joined = pd.read_parquet('joined_datetime.parquet', engine='pyarrow')\n",
    "\n",
    "income = pd.read_csv('income_data.csv', low_memory=False)\n"
   ]
  },
  {
   "cell_type": "code",
   "execution_count": 97,
   "id": "3edb3099",
   "metadata": {},
   "outputs": [],
   "source": [
    "#joined.head()"
   ]
  },
  {
   "cell_type": "code",
   "execution_count": 98,
   "id": "0ddfb091",
   "metadata": {},
   "outputs": [],
   "source": [
    "#elevations.head()"
   ]
  },
  {
   "cell_type": "code",
   "execution_count": 104,
   "id": "5e76cde4",
   "metadata": {},
   "outputs": [],
   "source": [
    "def str_to_int(zip_code):\n",
    "    zip_code = zip_code\n",
    "    try:\n",
    "        zip_code = int(zip_code)\n",
    "    except:\n",
    "        print(zip_code)\n",
    "    return zip_code"
   ]
  },
  {
   "cell_type": "code",
   "execution_count": 99,
   "id": "c80580f6",
   "metadata": {},
   "outputs": [],
   "source": [
    "#income[income['Zip Code']=='Unallocated']"
   ]
  },
  {
   "cell_type": "markdown",
   "id": "23452a74",
   "metadata": {},
   "source": [
    "# Dropping rows where income dataset doesn't have zip codes\n",
    "Can't supplement; dropping"
   ]
  },
  {
   "cell_type": "code",
   "execution_count": 36,
   "id": "7b4f9fcd",
   "metadata": {},
   "outputs": [],
   "source": [
    "idx = income[ (income['Zip Code'] == 'Unallocated') \n",
    "                  | (income['Zip Code'] == 'Suppressed') \n",
    "                 | (income['Zip Code'] == 'Suppressed1')\n",
    "                 | (income['Zip Code'] == 'Unallocated2')].index\n",
    "income.drop(idx , inplace=True)"
   ]
  },
  {
   "cell_type": "code",
   "execution_count": 37,
   "id": "eae151b9",
   "metadata": {},
   "outputs": [
    {
     "data": {
      "text/html": [
       "<div>\n",
       "<style scoped>\n",
       "    .dataframe tbody tr th:only-of-type {\n",
       "        vertical-align: middle;\n",
       "    }\n",
       "\n",
       "    .dataframe tbody tr th {\n",
       "        vertical-align: top;\n",
       "    }\n",
       "\n",
       "    .dataframe thead th {\n",
       "        text-align: right;\n",
       "    }\n",
       "</style>\n",
       "<table border=\"1\" class=\"dataframe\">\n",
       "  <thead>\n",
       "    <tr style=\"text-align: right;\">\n",
       "      <th></th>\n",
       "      <th>Taxable Year</th>\n",
       "      <th>Zip Code</th>\n",
       "      <th>State</th>\n",
       "      <th>City</th>\n",
       "      <th>County</th>\n",
       "      <th>Returns</th>\n",
       "      <th>CA AGI</th>\n",
       "      <th>Total Tax Liability</th>\n",
       "      <th>CountyLatitude</th>\n",
       "      <th>CountyLongitude</th>\n",
       "      <th>Geo County</th>\n",
       "      <th>Geo City</th>\n",
       "      <th>Geo ZipCode</th>\n",
       "    </tr>\n",
       "  </thead>\n",
       "  <tbody>\n",
       "  </tbody>\n",
       "</table>\n",
       "</div>"
      ],
      "text/plain": [
       "Empty DataFrame\n",
       "Columns: [Taxable Year, Zip Code, State, City, County, Returns, CA AGI, Total Tax Liability, CountyLatitude, CountyLongitude, Geo County, Geo City, Geo ZipCode]\n",
       "Index: []"
      ]
     },
     "execution_count": 37,
     "metadata": {},
     "output_type": "execute_result"
    }
   ],
   "source": [
    "# checking\n",
    "income[income['Zip Code']=='Unallocated']"
   ]
  },
  {
   "cell_type": "code",
   "execution_count": 38,
   "id": "de1a56ff",
   "metadata": {},
   "outputs": [],
   "source": [
    "# converting zip code column to ints\n",
    "income['Zip Code'] = income['Zip Code'].apply(str_to_int)"
   ]
  },
  {
   "cell_type": "code",
   "execution_count": 53,
   "id": "9fe10d9e",
   "metadata": {},
   "outputs": [
    {
     "data": {
      "text/plain": [
       "2534"
      ]
     },
     "execution_count": 53,
     "metadata": {},
     "output_type": "execute_result"
    }
   ],
   "source": [
    "# get unique zips from income dataset\n",
    "unique_income_zips = set(income['Zip Code'].unique())\n",
    "len(unique_income_zips)"
   ]
  },
  {
   "cell_type": "code",
   "execution_count": 43,
   "id": "e6918c6d",
   "metadata": {},
   "outputs": [],
   "source": [
    "# converting schools joined dataset zip code column to ints\n",
    "joined['school_zip'] = joined['school_zip'].apply(str_to_int)"
   ]
  },
  {
   "cell_type": "code",
   "execution_count": 54,
   "id": "40d797d7",
   "metadata": {},
   "outputs": [
    {
     "data": {
      "text/plain": [
       "1539"
      ]
     },
     "execution_count": 54,
     "metadata": {},
     "output_type": "execute_result"
    }
   ],
   "source": [
    "# get unique zips from schools dataset\n",
    "unique_school_zips = set(joined['school_zip'].unique())\n",
    "len(unique_school_zips)"
   ]
  },
  {
   "cell_type": "code",
   "execution_count": 58,
   "id": "ff82451f",
   "metadata": {},
   "outputs": [
    {
     "name": "stdout",
     "output_type": "stream",
     "text": [
      "2534 unique income dataset zips\n",
      "1539 unique school zips\n"
     ]
    }
   ],
   "source": [
    "print(\"{} unique income dataset zips\".format(len(unique_income_zips)))\n",
    "print(\"{} unique school zips\".format(len(unique_school_zips)))"
   ]
  },
  {
   "cell_type": "code",
   "execution_count": 59,
   "id": "916ffae1",
   "metadata": {},
   "outputs": [
    {
     "data": {
      "text/plain": [
       "1527"
      ]
     },
     "execution_count": 59,
     "metadata": {},
     "output_type": "execute_result"
    }
   ],
   "source": [
    "# getting number of same unique zip codes across both datasets\n",
    "intersect_zips = unique_income_zips.intersection(unique_school_zips)\n",
    "len(intersect_zips)"
   ]
  },
  {
   "cell_type": "markdown",
   "id": "ff1b166f",
   "metadata": {},
   "source": [
    "# Check each year of income dataset for # unique zip codes"
   ]
  },
  {
   "cell_type": "code",
   "execution_count": 64,
   "id": "12e93a3b",
   "metadata": {},
   "outputs": [
    {
     "data": {
      "text/plain": [
       "1992    2314\n",
       "1993    2311\n",
       "1994    2298\n",
       "1995    2365\n",
       "1996    2349\n",
       "1997    2354\n",
       "1998    2360\n",
       "1999    2355\n",
       "2000    2362\n",
       "2001    2364\n",
       "2002    2373\n",
       "2003    2385\n",
       "2004    2390\n",
       "2005    2404\n",
       "2006    2377\n",
       "2007    2373\n",
       "2008    2384\n",
       "2009    2380\n",
       "2010    2380\n",
       "2011    2371\n",
       "2012    2368\n",
       "2013    2365\n",
       "2014    2364\n",
       "2015    2378\n",
       "2016    2365\n",
       "2017    2362\n",
       "2018    2361\n",
       "2019    2360\n",
       "2020    2358\n",
       "Name: Taxable Year, dtype: int64"
      ]
     },
     "execution_count": 64,
     "metadata": {},
     "output_type": "execute_result"
    }
   ],
   "source": [
    "income['Taxable Year'].value_counts().sort_index(ascending=True)"
   ]
  },
  {
   "cell_type": "code",
   "execution_count": 70,
   "id": "c0152c8b",
   "metadata": {},
   "outputs": [
    {
     "data": {
      "text/plain": [
       "29"
      ]
     },
     "execution_count": 70,
     "metadata": {},
     "output_type": "execute_result"
    }
   ],
   "source": [
    "years = list(income['Taxable Year'].unique())\n",
    "len(years)"
   ]
  },
  {
   "cell_type": "code",
   "execution_count": 71,
   "id": "d6b3e3a8",
   "metadata": {},
   "outputs": [],
   "source": [
    "# make dict of unique zip codes per year\n",
    "list_unique_zips_per_year = {}\n",
    "for i in years:\n",
    "    temp = income[income['Taxable Year'] == i]\n",
    "    temp_unique_zips = set(temp['Zip Code'].unique())\n",
    "    list_unique_zips_per_year[i] = temp_unique_zips"
   ]
  },
  {
   "cell_type": "code",
   "execution_count": 74,
   "id": "55479097",
   "metadata": {},
   "outputs": [],
   "source": [
    "#list_unique_zips_per_year"
   ]
  },
  {
   "cell_type": "code",
   "execution_count": 72,
   "id": "e8c14044",
   "metadata": {
    "scrolled": true
   },
   "outputs": [
    {
     "data": {
      "text/plain": [
       "29"
      ]
     },
     "execution_count": 72,
     "metadata": {},
     "output_type": "execute_result"
    }
   ],
   "source": [
    "len(list_unique_zips_per_year)"
   ]
  },
  {
   "cell_type": "code",
   "execution_count": 87,
   "id": "37647805",
   "metadata": {},
   "outputs": [],
   "source": [
    "# function to get the count and list of intersecting zip codes between unique school zips\n",
    "# and unique zips per year\n",
    "def check_zip_intersect(unique_school_zips, year, unique_income_zips_year):\n",
    "    unique_school_zips = unique_school_zips\n",
    "    unique_income_zips_year = unique_income_zips_year\n",
    "    year = year\n",
    "    intersect_zips = unique_income_zips_year.intersection(unique_school_zips)\n",
    "    #print(\"Number of intersecting zip codes for year {}:\\n{}\\n\\n\".format(year, len(intersect_zips)))\n",
    "    return len(intersect_zips), intersect_zips"
   ]
  },
  {
   "cell_type": "code",
   "execution_count": 88,
   "id": "30b82a7f",
   "metadata": {},
   "outputs": [],
   "source": [
    "# dumping into dictionaries:\n",
    "# key is year; value is the number of zip codes that intersect\n",
    "year_and_count_intersect_zips = {}\n",
    "# key is year; value is the list of zip codes in the intersect\n",
    "year_and_list_intersect_zips = {}\n",
    "for k, v in list_unique_zips_per_year.items():\n",
    "    year_and_count_intersect_zips[k], year_and_list_intersect_zips[k] = check_zip_intersect(unique_school_zips, k, v)\n",
    "\n"
   ]
  },
  {
   "cell_type": "code",
   "execution_count": 91,
   "id": "4babf79b",
   "metadata": {},
   "outputs": [
    {
     "data": {
      "text/plain": [
       "{2015: 1527,\n",
       " 2003: 1518,\n",
       " 2017: 1525,\n",
       " 2004: 1520,\n",
       " 2007: 1517,\n",
       " 1995: 1488,\n",
       " 2010: 1525,\n",
       " 1992: 1446,\n",
       " 2019: 1524,\n",
       " 2001: 1511,\n",
       " 2018: 1525,\n",
       " 1998: 1501,\n",
       " 2014: 1525,\n",
       " 2016: 1524,\n",
       " 2009: 1525,\n",
       " 1994: 1459,\n",
       " 2006: 1517,\n",
       " 2012: 1524,\n",
       " 2013: 1524,\n",
       " 2020: 1525,\n",
       " 2011: 1526,\n",
       " 2002: 1513,\n",
       " 2008: 1525,\n",
       " 1996: 1490,\n",
       " 2000: 1506,\n",
       " 1999: 1503,\n",
       " 1997: 1493,\n",
       " 2005: 1523,\n",
       " 1993: 1458}"
      ]
     },
     "execution_count": 91,
     "metadata": {},
     "output_type": "execute_result"
    }
   ],
   "source": [
    "year_and_count_intersect_zips"
   ]
  },
  {
   "cell_type": "code",
   "execution_count": 96,
   "id": "7d68114c",
   "metadata": {
    "scrolled": false
   },
   "outputs": [
    {
     "data": {
      "text/plain": [
       "{2002: 1513,\n",
       " 2003: 1518,\n",
       " 2004: 1520,\n",
       " 2005: 1523,\n",
       " 2006: 1517,\n",
       " 2007: 1517,\n",
       " 2008: 1525,\n",
       " 2009: 1525,\n",
       " 2010: 1525,\n",
       " 2011: 1526,\n",
       " 2012: 1524,\n",
       " 2013: 1524,\n",
       " 2014: 1525,\n",
       " 2015: 1527,\n",
       " 2016: 1524,\n",
       " 2017: 1525}"
      ]
     },
     "execution_count": 96,
     "metadata": {},
     "output_type": "execute_result"
    }
   ],
   "source": [
    "# filter to years 2002-2017\n",
    "filtered_counts = {key: year_and_count_intersect_zips[key] for key in range(2002,2018)}\n",
    "filtered_counts"
   ]
  },
  {
   "cell_type": "code",
   "execution_count": 100,
   "id": "cef69957",
   "metadata": {
    "scrolled": false
   },
   "outputs": [],
   "source": [
    "#year_and_list_intersect_zips"
   ]
  }
 ],
 "metadata": {
  "kernelspec": {
   "display_name": "Python 3 (ipykernel)",
   "language": "python",
   "name": "python3"
  },
  "language_info": {
   "codemirror_mode": {
    "name": "ipython",
    "version": 3
   },
   "file_extension": ".py",
   "mimetype": "text/x-python",
   "name": "python",
   "nbconvert_exporter": "python",
   "pygments_lexer": "ipython3",
   "version": "3.8.5"
  }
 },
 "nbformat": 4,
 "nbformat_minor": 5
}
