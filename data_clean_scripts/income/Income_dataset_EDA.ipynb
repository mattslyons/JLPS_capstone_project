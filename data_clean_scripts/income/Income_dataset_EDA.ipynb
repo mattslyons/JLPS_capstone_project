{
 "cells": [
  {
   "cell_type": "code",
   "execution_count": 55,
   "id": "8b7d8813",
   "metadata": {},
   "outputs": [],
   "source": [
    "import pandas as pd\n",
    "import numpy as np\n",
    "import os\n",
    "import matplotlib.pyplot as plt\n",
    "import pyarrow"
   ]
  },
  {
   "cell_type": "code",
   "execution_count": 9,
   "id": "a7108964",
   "metadata": {},
   "outputs": [],
   "source": [
    "#!pip install pyarrow"
   ]
  },
  {
   "cell_type": "code",
   "execution_count": 3,
   "id": "52d81271",
   "metadata": {},
   "outputs": [
    {
     "data": {
      "text/plain": [
       "'/Users/michelle/MIDS/210 Capstone'"
      ]
     },
     "execution_count": 3,
     "metadata": {},
     "output_type": "execute_result"
    }
   ],
   "source": [
    "cwd = os.getcwd()\n",
    "cwd"
   ]
  },
  {
   "cell_type": "code",
   "execution_count": 26,
   "id": "f5c815b6",
   "metadata": {},
   "outputs": [],
   "source": [
    "joined = pd.read_parquet('joined_datetime_ym.parquet', engine='pyarrow')\n",
    "\n",
    "income = pd.read_csv('income_data.csv', low_memory=False)\n"
   ]
  },
  {
   "cell_type": "code",
   "execution_count": 57,
   "id": "d9e4aa41",
   "metadata": {},
   "outputs": [],
   "source": [
    "joined_income = pd.read_parquet('joined_datetime_ym_with_income.parquet', engine='pyarrow')"
   ]
  },
  {
   "cell_type": "code",
   "execution_count": 59,
   "id": "3edb3099",
   "metadata": {},
   "outputs": [
    {
     "data": {
      "text/plain": [
       "year                                float64\n",
       "cdscode                              object\n",
       "school_county                        object\n",
       "school_zip                            int64\n",
       "school_region_name                   object\n",
       "school_open_date             datetime64[ns]\n",
       "school_closed_date           datetime64[ns]\n",
       "school_lat                          float64\n",
       "school_lon                          float64\n",
       "school_wspd                         float64\n",
       "school_elevation_m                  float64\n",
       "year_month                           object\n",
       "total_population                     object\n",
       "total_population_male                object\n",
       "total_population_female              object\n",
       "population_0_4                       object\n",
       "population_0_4_male                  object\n",
       "population_0_4_female                object\n",
       "population_5_9                       object\n",
       "population_5_9_male                  object\n",
       "population_5_9_female                object\n",
       "population_10_14                     object\n",
       "population_10_14_male                object\n",
       "population_10_14_female              object\n",
       "population_15_19                     object\n",
       "population_15_19_male                object\n",
       "population_15_19_female              object\n",
       "pop_under19_male                    float64\n",
       "pop_under19_female                  float64\n",
       "total_pop_under19                    object\n",
       "pm25                                 object\n",
       "point_source_lat                     object\n",
       "point_source_lon                     object\n",
       "ps_elevation_m                       object\n",
       "point_source_pm25_tpy                object\n",
       "dist_school_to_ps_m                  object\n",
       "angle_to_school                      object\n",
       "ps_wind_lat                         float64\n",
       "ps_wind_lon                         float64\n",
       "ps_wspd_merge                       float64\n",
       "school_wdir_wrt_0N                  float64\n",
       "ps_wdir_wrt_0N                      float64\n",
       "school_wind_alignment               float64\n",
       "ps_wind_alignment                   float64\n",
       "avg_wind_speed                      float64\n",
       "avg_wind_alignment                  float64\n",
       "avg_wind_alignment_cosine           float64\n",
       "new_year                     datetime64[ns]\n",
       "new_ym                       datetime64[ns]\n",
       "open_close_dates_valid                int64\n",
       "Taxable Year                        float64\n",
       "Zip Code                            float64\n",
       "CA_AGI_per_returns                  float64\n",
       "Total Tax Liability                 float64\n",
       "dtype: object"
      ]
     },
     "execution_count": 59,
     "metadata": {},
     "output_type": "execute_result"
    }
   ],
   "source": [
    "joined_income.dtypes"
   ]
  },
  {
   "cell_type": "code",
   "execution_count": 98,
   "id": "0ddfb091",
   "metadata": {},
   "outputs": [],
   "source": [
    "#elevations.head()"
   ]
  },
  {
   "cell_type": "code",
   "execution_count": 27,
   "id": "5e76cde4",
   "metadata": {},
   "outputs": [],
   "source": [
    "def str_to_int(zip_code):\n",
    "    zip_code = zip_code\n",
    "    try:\n",
    "        zip_code = int(zip_code)\n",
    "    except:\n",
    "        print(zip_code)\n",
    "    return zip_code"
   ]
  },
  {
   "cell_type": "code",
   "execution_count": 99,
   "id": "c80580f6",
   "metadata": {},
   "outputs": [],
   "source": [
    "#income[income['Zip Code']=='Unallocated']"
   ]
  },
  {
   "cell_type": "markdown",
   "id": "23452a74",
   "metadata": {},
   "source": [
    "# Dropping rows where income dataset doesn't have zip codes\n",
    "Can't supplement; dropping"
   ]
  },
  {
   "cell_type": "code",
   "execution_count": 28,
   "id": "7b4f9fcd",
   "metadata": {},
   "outputs": [],
   "source": [
    "idx = income[ (income['Zip Code'] == 'Unallocated') \n",
    "                  | (income['Zip Code'] == 'Suppressed') \n",
    "                 | (income['Zip Code'] == 'Suppressed1')\n",
    "                 | (income['Zip Code'] == 'Unallocated2')].index\n",
    "income.drop(idx , inplace=True)"
   ]
  },
  {
   "cell_type": "code",
   "execution_count": 29,
   "id": "eae151b9",
   "metadata": {},
   "outputs": [
    {
     "data": {
      "text/html": [
       "<div>\n",
       "<style scoped>\n",
       "    .dataframe tbody tr th:only-of-type {\n",
       "        vertical-align: middle;\n",
       "    }\n",
       "\n",
       "    .dataframe tbody tr th {\n",
       "        vertical-align: top;\n",
       "    }\n",
       "\n",
       "    .dataframe thead th {\n",
       "        text-align: right;\n",
       "    }\n",
       "</style>\n",
       "<table border=\"1\" class=\"dataframe\">\n",
       "  <thead>\n",
       "    <tr style=\"text-align: right;\">\n",
       "      <th></th>\n",
       "      <th>Taxable Year</th>\n",
       "      <th>Zip Code</th>\n",
       "      <th>State</th>\n",
       "      <th>City</th>\n",
       "      <th>County</th>\n",
       "      <th>Returns</th>\n",
       "      <th>CA AGI</th>\n",
       "      <th>Total Tax Liability</th>\n",
       "      <th>CountyLatitude</th>\n",
       "      <th>CountyLongitude</th>\n",
       "      <th>Geo County</th>\n",
       "      <th>Geo City</th>\n",
       "      <th>Geo ZipCode</th>\n",
       "    </tr>\n",
       "  </thead>\n",
       "  <tbody>\n",
       "  </tbody>\n",
       "</table>\n",
       "</div>"
      ],
      "text/plain": [
       "Empty DataFrame\n",
       "Columns: [Taxable Year, Zip Code, State, City, County, Returns, CA AGI, Total Tax Liability, CountyLatitude, CountyLongitude, Geo County, Geo City, Geo ZipCode]\n",
       "Index: []"
      ]
     },
     "execution_count": 29,
     "metadata": {},
     "output_type": "execute_result"
    }
   ],
   "source": [
    "# checking\n",
    "income[income['Zip Code']=='Unallocated']"
   ]
  },
  {
   "cell_type": "code",
   "execution_count": 30,
   "id": "de1a56ff",
   "metadata": {},
   "outputs": [],
   "source": [
    "# converting zip code column to ints\n",
    "income['Zip Code'] = income['Zip Code'].apply(str_to_int)"
   ]
  },
  {
   "cell_type": "code",
   "execution_count": 31,
   "id": "9fe10d9e",
   "metadata": {},
   "outputs": [
    {
     "data": {
      "text/plain": [
       "2534"
      ]
     },
     "execution_count": 31,
     "metadata": {},
     "output_type": "execute_result"
    }
   ],
   "source": [
    "# get unique zips from income dataset\n",
    "unique_income_zips = set(income['Zip Code'].unique())\n",
    "len(unique_income_zips)"
   ]
  },
  {
   "cell_type": "code",
   "execution_count": 32,
   "id": "e6918c6d",
   "metadata": {},
   "outputs": [],
   "source": [
    "# converting schools joined dataset zip code column to ints\n",
    "joined['school_zip'] = joined['school_zip'].apply(str_to_int)"
   ]
  },
  {
   "cell_type": "code",
   "execution_count": 33,
   "id": "40d797d7",
   "metadata": {},
   "outputs": [
    {
     "data": {
      "text/plain": [
       "1539"
      ]
     },
     "execution_count": 33,
     "metadata": {},
     "output_type": "execute_result"
    }
   ],
   "source": [
    "# get unique zips from schools dataset\n",
    "unique_school_zips = set(joined['school_zip'].unique())\n",
    "len(unique_school_zips)"
   ]
  },
  {
   "cell_type": "code",
   "execution_count": 34,
   "id": "ff82451f",
   "metadata": {},
   "outputs": [
    {
     "name": "stdout",
     "output_type": "stream",
     "text": [
      "2534 unique income dataset zips\n",
      "1539 unique school zips\n"
     ]
    }
   ],
   "source": [
    "print(\"{} unique income dataset zips\".format(len(unique_income_zips)))\n",
    "print(\"{} unique school zips\".format(len(unique_school_zips)))"
   ]
  },
  {
   "cell_type": "code",
   "execution_count": 35,
   "id": "916ffae1",
   "metadata": {},
   "outputs": [
    {
     "data": {
      "text/plain": [
       "1527"
      ]
     },
     "execution_count": 35,
     "metadata": {},
     "output_type": "execute_result"
    }
   ],
   "source": [
    "# getting number of same unique zip codes across both datasets\n",
    "intersect_zips = unique_income_zips.intersection(unique_school_zips)\n",
    "len(intersect_zips)"
   ]
  },
  {
   "cell_type": "markdown",
   "id": "ff1b166f",
   "metadata": {},
   "source": [
    "# Check each year of income dataset for # unique zip codes"
   ]
  },
  {
   "cell_type": "code",
   "execution_count": 36,
   "id": "12e93a3b",
   "metadata": {},
   "outputs": [
    {
     "data": {
      "text/plain": [
       "1992    2314\n",
       "1993    2311\n",
       "1994    2298\n",
       "1995    2365\n",
       "1996    2349\n",
       "1997    2354\n",
       "1998    2360\n",
       "1999    2355\n",
       "2000    2362\n",
       "2001    2364\n",
       "2002    2373\n",
       "2003    2385\n",
       "2004    2390\n",
       "2005    2404\n",
       "2006    2377\n",
       "2007    2373\n",
       "2008    2384\n",
       "2009    2380\n",
       "2010    2380\n",
       "2011    2371\n",
       "2012    2368\n",
       "2013    2365\n",
       "2014    2364\n",
       "2015    2378\n",
       "2016    2365\n",
       "2017    2362\n",
       "2018    2361\n",
       "2019    2360\n",
       "2020    2358\n",
       "Name: Taxable Year, dtype: int64"
      ]
     },
     "execution_count": 36,
     "metadata": {},
     "output_type": "execute_result"
    }
   ],
   "source": [
    "income['Taxable Year'].value_counts().sort_index(ascending=True)"
   ]
  },
  {
   "cell_type": "code",
   "execution_count": 37,
   "id": "c0152c8b",
   "metadata": {},
   "outputs": [
    {
     "data": {
      "text/plain": [
       "29"
      ]
     },
     "execution_count": 37,
     "metadata": {},
     "output_type": "execute_result"
    }
   ],
   "source": [
    "years = list(income['Taxable Year'].unique())\n",
    "len(years)"
   ]
  },
  {
   "cell_type": "code",
   "execution_count": 38,
   "id": "d6b3e3a8",
   "metadata": {},
   "outputs": [],
   "source": [
    "# make dict of unique zip codes per year\n",
    "list_unique_zips_per_year = {}\n",
    "for i in years:\n",
    "    temp = income[income['Taxable Year'] == i]\n",
    "    temp_unique_zips = set(temp['Zip Code'].unique())\n",
    "    list_unique_zips_per_year[i] = temp_unique_zips"
   ]
  },
  {
   "cell_type": "code",
   "execution_count": 74,
   "id": "55479097",
   "metadata": {},
   "outputs": [],
   "source": [
    "#list_unique_zips_per_year"
   ]
  },
  {
   "cell_type": "code",
   "execution_count": 39,
   "id": "e8c14044",
   "metadata": {
    "scrolled": true
   },
   "outputs": [
    {
     "data": {
      "text/plain": [
       "29"
      ]
     },
     "execution_count": 39,
     "metadata": {},
     "output_type": "execute_result"
    }
   ],
   "source": [
    "len(list_unique_zips_per_year)"
   ]
  },
  {
   "cell_type": "code",
   "execution_count": 40,
   "id": "37647805",
   "metadata": {},
   "outputs": [],
   "source": [
    "# function to get the count and list of intersecting zip codes between unique school zips\n",
    "# and unique zips per year\n",
    "def check_zip_intersect(unique_school_zips, year, unique_income_zips_year):\n",
    "    unique_school_zips = unique_school_zips\n",
    "    unique_income_zips_year = unique_income_zips_year\n",
    "    year = year\n",
    "    intersect_zips = unique_income_zips_year.intersection(unique_school_zips)\n",
    "    #print(\"Number of intersecting zip codes for year {}:\\n{}\\n\\n\".format(year, len(intersect_zips)))\n",
    "    return len(intersect_zips), intersect_zips"
   ]
  },
  {
   "cell_type": "code",
   "execution_count": 41,
   "id": "30b82a7f",
   "metadata": {},
   "outputs": [],
   "source": [
    "# dumping into dictionaries:\n",
    "# key is year; value is the number of zip codes that intersect\n",
    "year_and_count_intersect_zips = {}\n",
    "# key is year; value is the list of zip codes in the intersect\n",
    "year_and_list_intersect_zips = {}\n",
    "for k, v in list_unique_zips_per_year.items():\n",
    "    year_and_count_intersect_zips[k], year_and_list_intersect_zips[k] = check_zip_intersect(unique_school_zips, k, v)\n",
    "\n"
   ]
  },
  {
   "cell_type": "code",
   "execution_count": 42,
   "id": "4babf79b",
   "metadata": {},
   "outputs": [
    {
     "data": {
      "text/plain": [
       "{2015: 1527,\n",
       " 2003: 1518,\n",
       " 2017: 1525,\n",
       " 2004: 1520,\n",
       " 2007: 1517,\n",
       " 1995: 1488,\n",
       " 2010: 1525,\n",
       " 1992: 1446,\n",
       " 2019: 1524,\n",
       " 2001: 1511,\n",
       " 2018: 1525,\n",
       " 1998: 1501,\n",
       " 2014: 1525,\n",
       " 2016: 1524,\n",
       " 2009: 1525,\n",
       " 1994: 1459,\n",
       " 2006: 1517,\n",
       " 2012: 1524,\n",
       " 2013: 1524,\n",
       " 2020: 1525,\n",
       " 2011: 1526,\n",
       " 2002: 1513,\n",
       " 2008: 1525,\n",
       " 1996: 1490,\n",
       " 2000: 1506,\n",
       " 1999: 1503,\n",
       " 1997: 1493,\n",
       " 2005: 1523,\n",
       " 1993: 1458}"
      ]
     },
     "execution_count": 42,
     "metadata": {},
     "output_type": "execute_result"
    }
   ],
   "source": [
    "year_and_count_intersect_zips"
   ]
  },
  {
   "cell_type": "code",
   "execution_count": 43,
   "id": "7d68114c",
   "metadata": {
    "scrolled": false
   },
   "outputs": [
    {
     "data": {
      "text/plain": [
       "{2002: 1513,\n",
       " 2003: 1518,\n",
       " 2004: 1520,\n",
       " 2005: 1523,\n",
       " 2006: 1517,\n",
       " 2007: 1517,\n",
       " 2008: 1525,\n",
       " 2009: 1525,\n",
       " 2010: 1525,\n",
       " 2011: 1526,\n",
       " 2012: 1524,\n",
       " 2013: 1524,\n",
       " 2014: 1525,\n",
       " 2015: 1527,\n",
       " 2016: 1524,\n",
       " 2017: 1525}"
      ]
     },
     "execution_count": 43,
     "metadata": {},
     "output_type": "execute_result"
    }
   ],
   "source": [
    "# filter to years 2002-2017\n",
    "filtered_counts = {key: year_and_count_intersect_zips[key] for key in range(2002,2018)}\n",
    "filtered_counts"
   ]
  },
  {
   "cell_type": "code",
   "execution_count": 44,
   "id": "cef69957",
   "metadata": {
    "scrolled": false
   },
   "outputs": [],
   "source": [
    "#joined['year_and_list_intersect_zips']\n"
   ]
  },
  {
   "cell_type": "code",
   "execution_count": 45,
   "id": "383f9c34",
   "metadata": {},
   "outputs": [
    {
     "data": {
      "text/html": [
       "<div>\n",
       "<style scoped>\n",
       "    .dataframe tbody tr th:only-of-type {\n",
       "        vertical-align: middle;\n",
       "    }\n",
       "\n",
       "    .dataframe tbody tr th {\n",
       "        vertical-align: top;\n",
       "    }\n",
       "\n",
       "    .dataframe thead th {\n",
       "        text-align: right;\n",
       "    }\n",
       "</style>\n",
       "<table border=\"1\" class=\"dataframe\">\n",
       "  <thead>\n",
       "    <tr style=\"text-align: right;\">\n",
       "      <th></th>\n",
       "      <th>year</th>\n",
       "      <th>cdscode</th>\n",
       "      <th>school_county</th>\n",
       "      <th>school_zip</th>\n",
       "      <th>school_region_name</th>\n",
       "      <th>school_open_date</th>\n",
       "      <th>school_closed_date</th>\n",
       "      <th>school_lat</th>\n",
       "      <th>school_lon</th>\n",
       "      <th>school_wspd</th>\n",
       "      <th>...</th>\n",
       "      <th>school_wdir_wrt_0N</th>\n",
       "      <th>ps_wdir_wrt_0N</th>\n",
       "      <th>school_wind_alignment</th>\n",
       "      <th>ps_wind_alignment</th>\n",
       "      <th>avg_wind_speed</th>\n",
       "      <th>avg_wind_alignment</th>\n",
       "      <th>avg_wind_alignment_cosine</th>\n",
       "      <th>new_year</th>\n",
       "      <th>new_ym</th>\n",
       "      <th>open_close_dates_valid</th>\n",
       "    </tr>\n",
       "  </thead>\n",
       "  <tbody>\n",
       "    <tr>\n",
       "      <th>0</th>\n",
       "      <td>2010.0</td>\n",
       "      <td>20102070109728</td>\n",
       "      <td>Madera</td>\n",
       "      <td>93610</td>\n",
       "      <td>Northern San Joaquin Valley</td>\n",
       "      <td>2005-08-16</td>\n",
       "      <td>2014-06-30</td>\n",
       "      <td>37.115210</td>\n",
       "      <td>-120.266030</td>\n",
       "      <td>1.531352</td>\n",
       "      <td>...</td>\n",
       "      <td>102.528057</td>\n",
       "      <td>102.528057</td>\n",
       "      <td>157.824497</td>\n",
       "      <td>157.824497</td>\n",
       "      <td>1.531352</td>\n",
       "      <td>157.824497</td>\n",
       "      <td>0.073968</td>\n",
       "      <td>2010-01-01</td>\n",
       "      <td>2010-04-01</td>\n",
       "      <td>1</td>\n",
       "    </tr>\n",
       "    <tr>\n",
       "      <th>1</th>\n",
       "      <td>2010.0</td>\n",
       "      <td>20102072030187</td>\n",
       "      <td>Madera</td>\n",
       "      <td>93610</td>\n",
       "      <td>Northern San Joaquin Valley</td>\n",
       "      <td>2001-01-22</td>\n",
       "      <td>2014-06-30</td>\n",
       "      <td>37.115210</td>\n",
       "      <td>-120.266030</td>\n",
       "      <td>1.531352</td>\n",
       "      <td>...</td>\n",
       "      <td>102.528057</td>\n",
       "      <td>102.528057</td>\n",
       "      <td>157.824497</td>\n",
       "      <td>157.824497</td>\n",
       "      <td>1.531352</td>\n",
       "      <td>157.824497</td>\n",
       "      <td>0.073968</td>\n",
       "      <td>2010-01-01</td>\n",
       "      <td>2010-04-01</td>\n",
       "      <td>1</td>\n",
       "    </tr>\n",
       "    <tr>\n",
       "      <th>2</th>\n",
       "      <td>2010.0</td>\n",
       "      <td>20651930000000</td>\n",
       "      <td>Madera</td>\n",
       "      <td>93610</td>\n",
       "      <td>Northern San Joaquin Valley</td>\n",
       "      <td>NaT</td>\n",
       "      <td>NaT</td>\n",
       "      <td>37.122449</td>\n",
       "      <td>-120.264870</td>\n",
       "      <td>1.531352</td>\n",
       "      <td>...</td>\n",
       "      <td>102.528057</td>\n",
       "      <td>102.528057</td>\n",
       "      <td>140.068342</td>\n",
       "      <td>140.068342</td>\n",
       "      <td>1.531352</td>\n",
       "      <td>140.068342</td>\n",
       "      <td>0.233189</td>\n",
       "      <td>2010-01-01</td>\n",
       "      <td>2010-04-01</td>\n",
       "      <td>0</td>\n",
       "    </tr>\n",
       "    <tr>\n",
       "      <th>3</th>\n",
       "      <td>2010.0</td>\n",
       "      <td>20651930113076</td>\n",
       "      <td>Madera</td>\n",
       "      <td>93610</td>\n",
       "      <td>Northern San Joaquin Valley</td>\n",
       "      <td>2007-08-21</td>\n",
       "      <td>NaT</td>\n",
       "      <td>37.131113</td>\n",
       "      <td>-120.242025</td>\n",
       "      <td>1.531352</td>\n",
       "      <td>...</td>\n",
       "      <td>102.528057</td>\n",
       "      <td>102.528057</td>\n",
       "      <td>90.696835</td>\n",
       "      <td>90.696835</td>\n",
       "      <td>1.531352</td>\n",
       "      <td>90.696835</td>\n",
       "      <td>0.987838</td>\n",
       "      <td>2010-01-01</td>\n",
       "      <td>2010-04-01</td>\n",
       "      <td>2</td>\n",
       "    </tr>\n",
       "    <tr>\n",
       "      <th>4</th>\n",
       "      <td>2010.0</td>\n",
       "      <td>20651936023907</td>\n",
       "      <td>Madera</td>\n",
       "      <td>93610</td>\n",
       "      <td>Northern San Joaquin Valley</td>\n",
       "      <td>1980-07-01</td>\n",
       "      <td>NaT</td>\n",
       "      <td>37.115243</td>\n",
       "      <td>-120.267770</td>\n",
       "      <td>1.531352</td>\n",
       "      <td>...</td>\n",
       "      <td>102.528057</td>\n",
       "      <td>102.528057</td>\n",
       "      <td>160.255014</td>\n",
       "      <td>160.255014</td>\n",
       "      <td>1.531352</td>\n",
       "      <td>160.255014</td>\n",
       "      <td>0.058794</td>\n",
       "      <td>2010-01-01</td>\n",
       "      <td>2010-04-01</td>\n",
       "      <td>2</td>\n",
       "    </tr>\n",
       "  </tbody>\n",
       "</table>\n",
       "<p>5 rows × 50 columns</p>\n",
       "</div>"
      ],
      "text/plain": [
       "     year         cdscode school_county  school_zip  \\\n",
       "0  2010.0  20102070109728        Madera       93610   \n",
       "1  2010.0  20102072030187        Madera       93610   \n",
       "2  2010.0  20651930000000        Madera       93610   \n",
       "3  2010.0  20651930113076        Madera       93610   \n",
       "4  2010.0  20651936023907        Madera       93610   \n",
       "\n",
       "            school_region_name school_open_date school_closed_date  \\\n",
       "0  Northern San Joaquin Valley       2005-08-16         2014-06-30   \n",
       "1  Northern San Joaquin Valley       2001-01-22         2014-06-30   \n",
       "2  Northern San Joaquin Valley              NaT                NaT   \n",
       "3  Northern San Joaquin Valley       2007-08-21                NaT   \n",
       "4  Northern San Joaquin Valley       1980-07-01                NaT   \n",
       "\n",
       "   school_lat  school_lon  school_wspd  ...  school_wdir_wrt_0N  \\\n",
       "0   37.115210 -120.266030     1.531352  ...          102.528057   \n",
       "1   37.115210 -120.266030     1.531352  ...          102.528057   \n",
       "2   37.122449 -120.264870     1.531352  ...          102.528057   \n",
       "3   37.131113 -120.242025     1.531352  ...          102.528057   \n",
       "4   37.115243 -120.267770     1.531352  ...          102.528057   \n",
       "\n",
       "  ps_wdir_wrt_0N school_wind_alignment ps_wind_alignment avg_wind_speed  \\\n",
       "0     102.528057            157.824497        157.824497       1.531352   \n",
       "1     102.528057            157.824497        157.824497       1.531352   \n",
       "2     102.528057            140.068342        140.068342       1.531352   \n",
       "3     102.528057             90.696835         90.696835       1.531352   \n",
       "4     102.528057            160.255014        160.255014       1.531352   \n",
       "\n",
       "  avg_wind_alignment avg_wind_alignment_cosine   new_year     new_ym  \\\n",
       "0         157.824497                  0.073968 2010-01-01 2010-04-01   \n",
       "1         157.824497                  0.073968 2010-01-01 2010-04-01   \n",
       "2         140.068342                  0.233189 2010-01-01 2010-04-01   \n",
       "3          90.696835                  0.987838 2010-01-01 2010-04-01   \n",
       "4         160.255014                  0.058794 2010-01-01 2010-04-01   \n",
       "\n",
       "  open_close_dates_valid  \n",
       "0                      1  \n",
       "1                      1  \n",
       "2                      0  \n",
       "3                      2  \n",
       "4                      2  \n",
       "\n",
       "[5 rows x 50 columns]"
      ]
     },
     "execution_count": 45,
     "metadata": {},
     "output_type": "execute_result"
    }
   ],
   "source": [
    "joined.head()"
   ]
  },
  {
   "cell_type": "code",
   "execution_count": 46,
   "id": "28c7cc0b",
   "metadata": {},
   "outputs": [],
   "source": [
    "income['CA_AGI_per_returns'] = income['CA AGI']/income['Returns']"
   ]
  },
  {
   "cell_type": "code",
   "execution_count": 47,
   "id": "e31cb8dd",
   "metadata": {
    "scrolled": true
   },
   "outputs": [
    {
     "data": {
      "text/html": [
       "<div>\n",
       "<style scoped>\n",
       "    .dataframe tbody tr th:only-of-type {\n",
       "        vertical-align: middle;\n",
       "    }\n",
       "\n",
       "    .dataframe tbody tr th {\n",
       "        vertical-align: top;\n",
       "    }\n",
       "\n",
       "    .dataframe thead th {\n",
       "        text-align: right;\n",
       "    }\n",
       "</style>\n",
       "<table border=\"1\" class=\"dataframe\">\n",
       "  <thead>\n",
       "    <tr style=\"text-align: right;\">\n",
       "      <th></th>\n",
       "      <th>Taxable Year</th>\n",
       "      <th>Zip Code</th>\n",
       "      <th>State</th>\n",
       "      <th>City</th>\n",
       "      <th>County</th>\n",
       "      <th>Returns</th>\n",
       "      <th>CA AGI</th>\n",
       "      <th>Total Tax Liability</th>\n",
       "      <th>CountyLatitude</th>\n",
       "      <th>CountyLongitude</th>\n",
       "      <th>Geo County</th>\n",
       "      <th>Geo City</th>\n",
       "      <th>Geo ZipCode</th>\n",
       "      <th>CA_AGI_per_returns</th>\n",
       "    </tr>\n",
       "  </thead>\n",
       "  <tbody>\n",
       "    <tr>\n",
       "      <th>0</th>\n",
       "      <td>2015</td>\n",
       "      <td>91101</td>\n",
       "      <td>CA</td>\n",
       "      <td>Pasadena</td>\n",
       "      <td>Los Angeles</td>\n",
       "      <td>9841</td>\n",
       "      <td>1000029587</td>\n",
       "      <td>75705318</td>\n",
       "      <td>34.059483</td>\n",
       "      <td>-118.242048</td>\n",
       "      <td>POINT (-118.242048 34.0594833)</td>\n",
       "      <td>POINT (-118.141452 34.14955)</td>\n",
       "      <td>POINT (-118.139043 34.14764)</td>\n",
       "      <td>101618.695966</td>\n",
       "    </tr>\n",
       "    <tr>\n",
       "      <th>1</th>\n",
       "      <td>2015</td>\n",
       "      <td>95667</td>\n",
       "      <td>CA</td>\n",
       "      <td>Placerville</td>\n",
       "      <td>El Dorado</td>\n",
       "      <td>16307</td>\n",
       "      <td>1000097894</td>\n",
       "      <td>36234728</td>\n",
       "      <td>38.763942</td>\n",
       "      <td>-120.606059</td>\n",
       "      <td>POINT (-120.6060593 38.76394197)</td>\n",
       "      <td>POINT (-120.799147 38.729652)</td>\n",
       "      <td>POINT (-120.794085 38.726337)</td>\n",
       "      <td>61329.361256</td>\n",
       "    </tr>\n",
       "    <tr>\n",
       "      <th>2</th>\n",
       "      <td>2003</td>\n",
       "      <td>95446</td>\n",
       "      <td>CA</td>\n",
       "      <td>Guerneville</td>\n",
       "      <td>Sonoma</td>\n",
       "      <td>2357</td>\n",
       "      <td>100012444</td>\n",
       "      <td>3631836</td>\n",
       "      <td>38.493672</td>\n",
       "      <td>-122.930263</td>\n",
       "      <td>POINT (-122.9302632 38.49367199)</td>\n",
       "      <td>POINT (-122.998768 38.501992)</td>\n",
       "      <td>POINT (-122.996796 38.510032)</td>\n",
       "      <td>42432.093339</td>\n",
       "    </tr>\n",
       "    <tr>\n",
       "      <th>3</th>\n",
       "      <td>2017</td>\n",
       "      <td>92007</td>\n",
       "      <td>CA</td>\n",
       "      <td>Cardiff By The Sea</td>\n",
       "      <td>San Diego</td>\n",
       "      <td>5909</td>\n",
       "      <td>1000162607</td>\n",
       "      <td>81875263</td>\n",
       "      <td>32.789640</td>\n",
       "      <td>-117.193658</td>\n",
       "      <td>POINT (-117.1936577 32.78964014)</td>\n",
       "      <td>POINT (-117.280296 33.021702)</td>\n",
       "      <td>POINT (-117.275252 33.023512)</td>\n",
       "      <td>169260.891352</td>\n",
       "    </tr>\n",
       "    <tr>\n",
       "      <th>4</th>\n",
       "      <td>2004</td>\n",
       "      <td>90280</td>\n",
       "      <td>CA</td>\n",
       "      <td>South Gate</td>\n",
       "      <td>Los Angeles</td>\n",
       "      <td>35211</td>\n",
       "      <td>1000239478</td>\n",
       "      <td>12188238</td>\n",
       "      <td>34.059483</td>\n",
       "      <td>-118.242048</td>\n",
       "      <td>POINT (-118.242048 34.0594833)</td>\n",
       "      <td>POINT (-118.206087 33.954211)</td>\n",
       "      <td>POINT (-118.19452 33.943676)</td>\n",
       "      <td>28407.017069</td>\n",
       "    </tr>\n",
       "  </tbody>\n",
       "</table>\n",
       "</div>"
      ],
      "text/plain": [
       "   Taxable Year  Zip Code State                City       County  Returns  \\\n",
       "0          2015     91101    CA            Pasadena  Los Angeles     9841   \n",
       "1          2015     95667    CA         Placerville    El Dorado    16307   \n",
       "2          2003     95446    CA         Guerneville       Sonoma     2357   \n",
       "3          2017     92007    CA  Cardiff By The Sea    San Diego     5909   \n",
       "4          2004     90280    CA          South Gate  Los Angeles    35211   \n",
       "\n",
       "       CA AGI  Total Tax Liability  CountyLatitude  CountyLongitude  \\\n",
       "0  1000029587             75705318       34.059483      -118.242048   \n",
       "1  1000097894             36234728       38.763942      -120.606059   \n",
       "2   100012444              3631836       38.493672      -122.930263   \n",
       "3  1000162607             81875263       32.789640      -117.193658   \n",
       "4  1000239478             12188238       34.059483      -118.242048   \n",
       "\n",
       "                         Geo County                       Geo City  \\\n",
       "0    POINT (-118.242048 34.0594833)   POINT (-118.141452 34.14955)   \n",
       "1  POINT (-120.6060593 38.76394197)  POINT (-120.799147 38.729652)   \n",
       "2  POINT (-122.9302632 38.49367199)  POINT (-122.998768 38.501992)   \n",
       "3  POINT (-117.1936577 32.78964014)  POINT (-117.280296 33.021702)   \n",
       "4    POINT (-118.242048 34.0594833)  POINT (-118.206087 33.954211)   \n",
       "\n",
       "                     Geo ZipCode  CA_AGI_per_returns  \n",
       "0   POINT (-118.139043 34.14764)       101618.695966  \n",
       "1  POINT (-120.794085 38.726337)        61329.361256  \n",
       "2  POINT (-122.996796 38.510032)        42432.093339  \n",
       "3  POINT (-117.275252 33.023512)       169260.891352  \n",
       "4   POINT (-118.19452 33.943676)        28407.017069  "
      ]
     },
     "execution_count": 47,
     "metadata": {},
     "output_type": "execute_result"
    }
   ],
   "source": [
    "income.head()"
   ]
  },
  {
   "cell_type": "code",
   "execution_count": 48,
   "id": "5a8b3418",
   "metadata": {},
   "outputs": [],
   "source": [
    "income_subset = income[[\"Taxable Year\", \"Zip Code\", \"CA_AGI_per_returns\", \"Total Tax Liability\"]]"
   ]
  },
  {
   "cell_type": "code",
   "execution_count": 49,
   "id": "ffbb4c39",
   "metadata": {},
   "outputs": [],
   "source": [
    "joined_with_income = pd.merge(joined, income_subset,  how='left', left_on=['year', 'school_zip'], right_on = ['Taxable Year', 'Zip Code'])"
   ]
  },
  {
   "cell_type": "code",
   "execution_count": 50,
   "id": "8c4f9b6a",
   "metadata": {
    "scrolled": false
   },
   "outputs": [
    {
     "data": {
      "text/html": [
       "<div>\n",
       "<style scoped>\n",
       "    .dataframe tbody tr th:only-of-type {\n",
       "        vertical-align: middle;\n",
       "    }\n",
       "\n",
       "    .dataframe tbody tr th {\n",
       "        vertical-align: top;\n",
       "    }\n",
       "\n",
       "    .dataframe thead th {\n",
       "        text-align: right;\n",
       "    }\n",
       "</style>\n",
       "<table border=\"1\" class=\"dataframe\">\n",
       "  <thead>\n",
       "    <tr style=\"text-align: right;\">\n",
       "      <th></th>\n",
       "      <th>year</th>\n",
       "      <th>cdscode</th>\n",
       "      <th>school_county</th>\n",
       "      <th>school_zip</th>\n",
       "      <th>school_region_name</th>\n",
       "      <th>school_open_date</th>\n",
       "      <th>school_closed_date</th>\n",
       "      <th>school_lat</th>\n",
       "      <th>school_lon</th>\n",
       "      <th>school_wspd</th>\n",
       "      <th>...</th>\n",
       "      <th>avg_wind_speed</th>\n",
       "      <th>avg_wind_alignment</th>\n",
       "      <th>avg_wind_alignment_cosine</th>\n",
       "      <th>new_year</th>\n",
       "      <th>new_ym</th>\n",
       "      <th>open_close_dates_valid</th>\n",
       "      <th>Taxable Year</th>\n",
       "      <th>Zip Code</th>\n",
       "      <th>CA_AGI_per_returns</th>\n",
       "      <th>Total Tax Liability</th>\n",
       "    </tr>\n",
       "  </thead>\n",
       "  <tbody>\n",
       "    <tr>\n",
       "      <th>0</th>\n",
       "      <td>2010.0</td>\n",
       "      <td>20102070109728</td>\n",
       "      <td>Madera</td>\n",
       "      <td>93610</td>\n",
       "      <td>Northern San Joaquin Valley</td>\n",
       "      <td>2005-08-16</td>\n",
       "      <td>2014-06-30</td>\n",
       "      <td>37.115210</td>\n",
       "      <td>-120.266030</td>\n",
       "      <td>1.531352</td>\n",
       "      <td>...</td>\n",
       "      <td>1.531352</td>\n",
       "      <td>157.824497</td>\n",
       "      <td>0.073968</td>\n",
       "      <td>2010-01-01</td>\n",
       "      <td>2010-04-01</td>\n",
       "      <td>1</td>\n",
       "      <td>2010.0</td>\n",
       "      <td>93610.0</td>\n",
       "      <td>14375.028223</td>\n",
       "      <td>2905021.0</td>\n",
       "    </tr>\n",
       "    <tr>\n",
       "      <th>1</th>\n",
       "      <td>2010.0</td>\n",
       "      <td>20102072030187</td>\n",
       "      <td>Madera</td>\n",
       "      <td>93610</td>\n",
       "      <td>Northern San Joaquin Valley</td>\n",
       "      <td>2001-01-22</td>\n",
       "      <td>2014-06-30</td>\n",
       "      <td>37.115210</td>\n",
       "      <td>-120.266030</td>\n",
       "      <td>1.531352</td>\n",
       "      <td>...</td>\n",
       "      <td>1.531352</td>\n",
       "      <td>157.824497</td>\n",
       "      <td>0.073968</td>\n",
       "      <td>2010-01-01</td>\n",
       "      <td>2010-04-01</td>\n",
       "      <td>1</td>\n",
       "      <td>2010.0</td>\n",
       "      <td>93610.0</td>\n",
       "      <td>14375.028223</td>\n",
       "      <td>2905021.0</td>\n",
       "    </tr>\n",
       "    <tr>\n",
       "      <th>2</th>\n",
       "      <td>2010.0</td>\n",
       "      <td>20651930000000</td>\n",
       "      <td>Madera</td>\n",
       "      <td>93610</td>\n",
       "      <td>Northern San Joaquin Valley</td>\n",
       "      <td>NaT</td>\n",
       "      <td>NaT</td>\n",
       "      <td>37.122449</td>\n",
       "      <td>-120.264870</td>\n",
       "      <td>1.531352</td>\n",
       "      <td>...</td>\n",
       "      <td>1.531352</td>\n",
       "      <td>140.068342</td>\n",
       "      <td>0.233189</td>\n",
       "      <td>2010-01-01</td>\n",
       "      <td>2010-04-01</td>\n",
       "      <td>0</td>\n",
       "      <td>2010.0</td>\n",
       "      <td>93610.0</td>\n",
       "      <td>14375.028223</td>\n",
       "      <td>2905021.0</td>\n",
       "    </tr>\n",
       "    <tr>\n",
       "      <th>3</th>\n",
       "      <td>2010.0</td>\n",
       "      <td>20651930113076</td>\n",
       "      <td>Madera</td>\n",
       "      <td>93610</td>\n",
       "      <td>Northern San Joaquin Valley</td>\n",
       "      <td>2007-08-21</td>\n",
       "      <td>NaT</td>\n",
       "      <td>37.131113</td>\n",
       "      <td>-120.242025</td>\n",
       "      <td>1.531352</td>\n",
       "      <td>...</td>\n",
       "      <td>1.531352</td>\n",
       "      <td>90.696835</td>\n",
       "      <td>0.987838</td>\n",
       "      <td>2010-01-01</td>\n",
       "      <td>2010-04-01</td>\n",
       "      <td>2</td>\n",
       "      <td>2010.0</td>\n",
       "      <td>93610.0</td>\n",
       "      <td>14375.028223</td>\n",
       "      <td>2905021.0</td>\n",
       "    </tr>\n",
       "    <tr>\n",
       "      <th>4</th>\n",
       "      <td>2010.0</td>\n",
       "      <td>20651936023907</td>\n",
       "      <td>Madera</td>\n",
       "      <td>93610</td>\n",
       "      <td>Northern San Joaquin Valley</td>\n",
       "      <td>1980-07-01</td>\n",
       "      <td>NaT</td>\n",
       "      <td>37.115243</td>\n",
       "      <td>-120.267770</td>\n",
       "      <td>1.531352</td>\n",
       "      <td>...</td>\n",
       "      <td>1.531352</td>\n",
       "      <td>160.255014</td>\n",
       "      <td>0.058794</td>\n",
       "      <td>2010-01-01</td>\n",
       "      <td>2010-04-01</td>\n",
       "      <td>2</td>\n",
       "      <td>2010.0</td>\n",
       "      <td>93610.0</td>\n",
       "      <td>14375.028223</td>\n",
       "      <td>2905021.0</td>\n",
       "    </tr>\n",
       "  </tbody>\n",
       "</table>\n",
       "<p>5 rows × 54 columns</p>\n",
       "</div>"
      ],
      "text/plain": [
       "     year         cdscode school_county  school_zip  \\\n",
       "0  2010.0  20102070109728        Madera       93610   \n",
       "1  2010.0  20102072030187        Madera       93610   \n",
       "2  2010.0  20651930000000        Madera       93610   \n",
       "3  2010.0  20651930113076        Madera       93610   \n",
       "4  2010.0  20651936023907        Madera       93610   \n",
       "\n",
       "            school_region_name school_open_date school_closed_date  \\\n",
       "0  Northern San Joaquin Valley       2005-08-16         2014-06-30   \n",
       "1  Northern San Joaquin Valley       2001-01-22         2014-06-30   \n",
       "2  Northern San Joaquin Valley              NaT                NaT   \n",
       "3  Northern San Joaquin Valley       2007-08-21                NaT   \n",
       "4  Northern San Joaquin Valley       1980-07-01                NaT   \n",
       "\n",
       "   school_lat  school_lon  school_wspd  ...  avg_wind_speed  \\\n",
       "0   37.115210 -120.266030     1.531352  ...        1.531352   \n",
       "1   37.115210 -120.266030     1.531352  ...        1.531352   \n",
       "2   37.122449 -120.264870     1.531352  ...        1.531352   \n",
       "3   37.131113 -120.242025     1.531352  ...        1.531352   \n",
       "4   37.115243 -120.267770     1.531352  ...        1.531352   \n",
       "\n",
       "  avg_wind_alignment avg_wind_alignment_cosine   new_year     new_ym  \\\n",
       "0         157.824497                  0.073968 2010-01-01 2010-04-01   \n",
       "1         157.824497                  0.073968 2010-01-01 2010-04-01   \n",
       "2         140.068342                  0.233189 2010-01-01 2010-04-01   \n",
       "3          90.696835                  0.987838 2010-01-01 2010-04-01   \n",
       "4         160.255014                  0.058794 2010-01-01 2010-04-01   \n",
       "\n",
       "  open_close_dates_valid Taxable Year Zip Code CA_AGI_per_returns  \\\n",
       "0                      1       2010.0  93610.0       14375.028223   \n",
       "1                      1       2010.0  93610.0       14375.028223   \n",
       "2                      0       2010.0  93610.0       14375.028223   \n",
       "3                      2       2010.0  93610.0       14375.028223   \n",
       "4                      2       2010.0  93610.0       14375.028223   \n",
       "\n",
       "  Total Tax Liability  \n",
       "0           2905021.0  \n",
       "1           2905021.0  \n",
       "2           2905021.0  \n",
       "3           2905021.0  \n",
       "4           2905021.0  \n",
       "\n",
       "[5 rows x 54 columns]"
      ]
     },
     "execution_count": 50,
     "metadata": {},
     "output_type": "execute_result"
    }
   ],
   "source": [
    "joined_with_income.head()"
   ]
  },
  {
   "cell_type": "code",
   "execution_count": 51,
   "id": "56acccf6",
   "metadata": {},
   "outputs": [
    {
     "data": {
      "text/plain": [
       "6367"
      ]
     },
     "execution_count": 51,
     "metadata": {},
     "output_type": "execute_result"
    }
   ],
   "source": [
    "joined_with_income['CA_AGI_per_returns'].isnull().sum()"
   ]
  },
  {
   "cell_type": "code",
   "execution_count": 52,
   "id": "d9f7a155",
   "metadata": {},
   "outputs": [
    {
     "data": {
      "text/plain": [
       "2983111"
      ]
     },
     "execution_count": 52,
     "metadata": {},
     "output_type": "execute_result"
    }
   ],
   "source": [
    "len(joined_with_income)"
   ]
  },
  {
   "cell_type": "code",
   "execution_count": 53,
   "id": "ff2faa60",
   "metadata": {},
   "outputs": [],
   "source": [
    "joined_with_income.to_parquet(\"joined_datetime_ym_with_income.parquet\")"
   ]
  }
 ],
 "metadata": {
  "kernelspec": {
   "display_name": "Python 3 (ipykernel)",
   "language": "python",
   "name": "python3"
  },
  "language_info": {
   "codemirror_mode": {
    "name": "ipython",
    "version": 3
   },
   "file_extension": ".py",
   "mimetype": "text/x-python",
   "name": "python",
   "nbconvert_exporter": "python",
   "pygments_lexer": "ipython3",
   "version": "3.8.5"
  }
 },
 "nbformat": 4,
 "nbformat_minor": 5
}
