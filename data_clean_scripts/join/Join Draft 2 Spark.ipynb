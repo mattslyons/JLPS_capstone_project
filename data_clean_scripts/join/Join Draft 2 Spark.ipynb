{
 "cells": [
  {
   "cell_type": "code",
   "execution_count": 1,
   "id": "c727f298",
   "metadata": {},
   "outputs": [],
   "source": [
    "import findspark\n",
    "findspark.init()"
   ]
  },
  {
   "cell_type": "code",
   "execution_count": 49,
   "id": "ef3bd5a0",
   "metadata": {},
   "outputs": [],
   "source": [
    "import pyspark\n",
    "import pandas as pd \n",
    "import numpy as np\n",
    "import os \n",
    "import datetime\n",
    "from tqdm.notebook import tqdm\n",
    "\n",
    "import matplotlib.pyplot as plt\n",
    "from matplotlib.dates import DateFormatter\n",
    "import matplotlib.ticker as mticker\n",
    "import plotly.express as px\n",
    "\n",
    "from pyspark.sql import SparkSession\n",
    "from pyspark import SparkContext\n",
    "from pyspark.sql.types import *\n",
    "from pyspark.sql.window import Window\n",
    "from math import radians, cos, sin, asin, sqrt\n",
    "from pyspark.sql import functions as F\n",
    "from pyspark.sql.functions import col, row_number, count, when, isnan, abs, cos, atan2\n",
    "\n",
    "from cmath import pi\n",
    "from math import atan2, radians\n",
    "\n",
    "from IPython.core.display import HTML\n",
    "display(HTML(\"<style>pre { white-space: pre !important; }</style>\"))\n",
    "\n",
    "pd.set_option('display.max_columns', None)\n",
    "pd.options.mode.chained_assignment = None"
   ]
  },
  {
   "cell_type": "code",
   "execution_count": 3,
   "id": "7e23edb2",
   "metadata": {},
   "outputs": [],
   "source": [
    "spark = SparkSession.builder.master(\"local[*]\").config(\"spark.executor.memory\", \"48g\").config(\"spark.driver.memory\", \"48g\").config(\"spark.driver.maxResultSize\",\"0\").config(\"spark.executor.heartbeatInterval\",\"100000\").getOrCreate()"
   ]
  },
  {
   "cell_type": "code",
   "execution_count": 4,
   "id": "c87304b8",
   "metadata": {},
   "outputs": [],
   "source": [
    "gdrive_path = 'C:\\\\Users\\\\matts\\\\Google Drive\\\\berkeley\\\\.shortcut-targets-by-id\\\\11wLy1WKwOTcthBs1rpfEzkqax2BZG-6E\\\\W210_Capstone\\\\Data\\\\'"
   ]
  },
  {
   "cell_type": "code",
   "execution_count": 5,
   "id": "c2193d86",
   "metadata": {},
   "outputs": [],
   "source": [
    "df_census = spark.read.option(\"header\",True).csv(os.path.join(gdrive_path, 'census/census_bureau_clean/census_bureau.csv'))\n",
    "\n",
    "# re-using Pandas df cleaning code before converting to Spark\n",
    "df_wind = pd.read_parquet(os.path.join(gdrive_path, 'wind/'))\n",
    "df_pollution = spark.read.option(\"header\",True).csv(os.path.join(gdrive_path, 'AirPollution/UW_pm25_zip_monthly_anand_2000-2018-v2.csv'))\n",
    "df_point_sources = spark.read.option(\"header\",True).csv(os.path.join(gdrive_path, 'Point source/pollution_point_sources.csv'))\n",
    "df_schools = spark.read.option(\"header\",True).csv(os.path.join(gdrive_path, 'schools/filtered_joined_schools_data.csv'))             "
   ]
  },
  {
   "cell_type": "code",
   "execution_count": 6,
   "id": "9be36651",
   "metadata": {},
   "outputs": [],
   "source": [
    "df_schools = df_schools.withColumnRenamed(\"County\",\"school_county\")\\\n",
    ".withColumnRenamed(\"StatusType\",\"school_active_status\")\\\n",
    ".withColumnRenamed(\"Street\",\"school_street\")\\\n",
    ".withColumnRenamed(\"EILName\",\"school_type\")\\\n",
    ".withColumnRenamed(\"GSoffered\",\"school_grades_offered\")\\\n",
    ".withColumnRenamed(\"Zip_first_five\",\"school_zip\")\\\n",
    ".withColumnRenamed(\"OpenDate\",\"school_open_date\")\\\n",
    ".withColumnRenamed(\"ClosedDate\",\"school_closed_date\")\\\n",
    ".withColumnRenamed(\"Merged_Lat\",\"school_lat\")\\\n",
    ".withColumnRenamed(\"Merged_Long\",\"school_lon\")\\\n",
    ".withColumnRenamed(\"CDSCode\",\"cdscode\")\n",
    "\n",
    "df_schools = df_schools.select(\"cdscode\",\"school_county\"\\\n",
    "                               ,\"school_active_status\",\"school_street\"\\\n",
    "                               ,\"school_type\",\"school_grades_offered\",\"school_zip\"\\\n",
    "                               ,\"school_open_date\",\"school_closed_date\",\"school_lat\",\"school_lon\")"
   ]
  },
  {
   "cell_type": "code",
   "execution_count": 7,
   "id": "23efbd78",
   "metadata": {},
   "outputs": [],
   "source": [
    "# clean wind\n",
    "df_wind = df_wind.rename(columns={'lat': 'wind_lat', 'lon': 'wind_lon'})\n",
    "df_wind['year_month'] = df_wind['year_month'].astype(str).map(lambda x: x[:4] + '-' + x[-2:])\n",
    "df_wind['year'] = df_wind['year_month'].map(lambda x: int(x[:4]))\n",
    "df_wind['ZCTA10'] = df_wind['ZCTA10'].astype(int)\n",
    "df_wind = df_wind[(df_wind['year'] >= 2000) & (df_wind['year'] <= 2019)]\n",
    "\n",
    "df_wind = spark.createDataFrame(df_wind)"
   ]
  },
  {
   "cell_type": "code",
   "execution_count": 8,
   "id": "77f8b8d9",
   "metadata": {},
   "outputs": [
    {
     "data": {
      "text/plain": [
       "StructType([StructField('wind_lat', DoubleType(), True), StructField('wind_lon', DoubleType(), True), StructField('ZCTA10', LongType(), True), StructField('u', DoubleType(), True), StructField('v', DoubleType(), True), StructField('wdir', DoubleType(), True), StructField('wspd', DoubleType(), True), StructField('year_month', StringType(), True), StructField('year', LongType(), True)])"
      ]
     },
     "execution_count": 8,
     "metadata": {},
     "output_type": "execute_result"
    }
   ],
   "source": [
    "df_wind.schema"
   ]
  },
  {
   "cell_type": "code",
   "execution_count": 9,
   "id": "927aab5b",
   "metadata": {},
   "outputs": [
    {
     "name": "stdout",
     "output_type": "stream",
     "text": [
      "+--------+--------+------+--------------------+--------------------+------------------+-------------------+----------+----+\n",
      "|wind_lat|wind_lon|ZCTA10|                   u|                   v|              wdir|               wspd|year_month|year|\n",
      "+--------+--------+------+--------------------+--------------------+------------------+-------------------+----------+----+\n",
      "|  37.465|-117.936| 89010|  0.8576987981796265|  0.2611056864261627|16.931604385375977| 0.8965619802474976|   2000-01|2000|\n",
      "|  35.396|-116.322| 89019|  0.4024794399738312| 0.08723340928554535|12.229137420654297|0.41182443499565125|   2000-01|2000|\n",
      "|  36.161|-116.139| 89060|-0.07470311224460602| 0.17972277104854584|112.57057189941406| 0.1946299821138382|   2000-01|2000|\n",
      "|  35.957|-115.897| 89061|  0.6378185749053955|-0.03187631443142891|  357.138916015625| 0.6386146545410156|   2000-01|2000|\n",
      "|   39.52|-120.032| 89439|  0.7424972057342529|  0.8004334568977356| 47.15041732788086| 1.0917856693267822|   2000-01|2000|\n",
      "+--------+--------+------+--------------------+--------------------+------------------+-------------------+----------+----+\n",
      "\n"
     ]
    }
   ],
   "source": [
    "\n",
    "df_wind.limit(5).show()"
   ]
  },
  {
   "cell_type": "code",
   "execution_count": 10,
   "id": "21a1fd05",
   "metadata": {},
   "outputs": [],
   "source": [
    "df_pollution = df_pollution.drop('Unnamed: 0').drop('GEOID10').drop('year_month_zip')"
   ]
  },
  {
   "cell_type": "code",
   "execution_count": 11,
   "id": "66634e81",
   "metadata": {},
   "outputs": [],
   "source": [
    "# clean pollution point sources\n",
    "df_point_sources = df_point_sources.drop('zip_code').drop('new_zip')\\\n",
    ".withColumnRenamed('combo_zip','point_source_zip')\\\n",
    ".withColumnRenamed('_c0','point_source_index')\\\n",
    ".withColumnRenamed('checked_lat','point_source_lat')\\\n",
    ".withColumnRenamed('checked_lon','point_source_lon')\\\n",
    ".withColumnRenamed('report_year','point_source_year')\\\n",
    ".withColumnRenamed('PM25_emissions_TPY','point_source_pm25_tpy')\n",
    "\n",
    "df_point_sources = df_point_sources.withColumn('point_source_zip',df_point_sources.point_source_zip.cast(IntegerType()))\n",
    "\n",
    "# # create an ID field for easier lookups\n",
    "# df_point_sources['point_source_id'] = [i for i in range(df_point_sources.shape[0])]"
   ]
  },
  {
   "cell_type": "code",
   "execution_count": 12,
   "id": "0f48893c",
   "metadata": {},
   "outputs": [
    {
     "name": "stdout",
     "output_type": "stream",
     "text": [
      "+------------------+----------------+----------------+-----------------+---------------------+----------------+\n",
      "|point_source_index|point_source_lat|point_source_lon|point_source_year|point_source_pm25_tpy|point_source_zip|\n",
      "+------------------+----------------+----------------+-----------------+---------------------+----------------+\n",
      "|                 0|       33.811466|      -117.91555|             2002|          1.787853962|           92803|\n",
      "|                 1|       34.088242|     -117.470116|             2002|               1.7892|           92335|\n",
      "|                 2|       33.911602|     -118.281799|             2002|          1.791299781|           93420|\n",
      "|                 3|       37.944618|     -121.325859|             2002|          1.797499934|           95203|\n",
      "|                 4|       39.221817|     -121.054955|             2002|              1.80154|           95945|\n",
      "+------------------+----------------+----------------+-----------------+---------------------+----------------+\n",
      "\n"
     ]
    }
   ],
   "source": [
    "df_point_sources.limit(5).show()"
   ]
  },
  {
   "cell_type": "code",
   "execution_count": 13,
   "id": "13dc6023",
   "metadata": {},
   "outputs": [
    {
     "name": "stdout",
     "output_type": "stream",
     "text": [
      "+--------------+-------------+--------------------+--------------------+-----------+---------------------+----------+----------------+------------------+----------+-----------+---------------+---------------+---------------+--------------------+--------------------+------------------+-------------------+----------+----+\n",
      "|       cdscode|school_county|school_active_status|       school_street|school_type|school_grades_offered|school_zip|school_open_date|school_closed_date|school_lat| school_lon|school_wind_lat|school_wind_lon|school_wind_zip|       school_wind_u|       school_wind_v|       school_wdir|        school_wspd|year_month|year|\n",
      "+--------------+-------------+--------------------+--------------------+-----------+---------------------+----------+----------------+------------------+----------+-----------+---------------+---------------+---------------+--------------------+--------------------+------------------+-------------------+----------+----+\n",
      "|19643376011894|  Los Angeles|              Active|720 East Cypress ...| Elementary|                  K-5|     91501|        7/1/1980|           No Data| 34.190322|-118.306548|         34.178|       -118.299|          91501|-0.09542745351791382| -0.7509922981262207| 262.7583312988281| 0.7570309638977051|   2000-01|2000|\n",
      "|19643376011894|  Los Angeles|              Active|720 East Cypress ...| Elementary|                  K-5|     91501|        7/1/1980|           No Data| 34.190322|-118.306548|         34.178|       -118.299|          91501| 0.48693257570266724|  0.8334596157073975| 59.70521926879883|  0.965276300907135|   2000-02|2000|\n",
      "|19643376011894|  Los Angeles|              Active|720 East Cypress ...| Elementary|                  K-5|     91501|        7/1/1980|           No Data| 34.190322|-118.306548|         34.178|       -118.299|          91501| 0.19061893224716187|-0.05917642265558243| 342.7533874511719|0.19959314167499542|   2000-03|2000|\n",
      "|19643376011894|  Los Angeles|              Active|720 East Cypress ...| Elementary|                  K-5|     91501|        7/1/1980|           No Data| 34.190322|-118.306548|         34.178|       -118.299|          91501|  0.7405375838279724| 0.21779859066009521|16.389070510864258| 0.7719016671180725|   2000-04|2000|\n",
      "|19643376011894|  Los Angeles|              Active|720 East Cypress ...| Elementary|                  K-5|     91501|        7/1/1980|           No Data| 34.190322|-118.306548|         34.178|       -118.299|          91501|   1.022397518157959| 0.29383930563926697|16.034767150878906| 1.0637848377227783|   2000-05|2000|\n",
      "+--------------+-------------+--------------------+--------------------+-----------+---------------------+----------+----------------+------------------+----------+-----------+---------------+---------------+---------------+--------------------+--------------------+------------------+-------------------+----------+----+\n",
      "\n"
     ]
    }
   ],
   "source": [
    "df_all = df_schools.join(df_wind,df_schools['school_zip'] == df_wind['ZCTA10'], 'left')\n",
    "\n",
    "df_all = df_all.withColumnRenamed(\"u\",\"school_wind_u\")\\\n",
    ".withColumnRenamed(\"v\",\"school_wind_v\")\\\n",
    ".withColumnRenamed(\"wdir\",\"school_wdir\")\\\n",
    ".withColumnRenamed(\"wspd\",\"school_wspd\")\\\n",
    ".withColumnRenamed(\"wind_lat\",\"school_wind_lat\")\\\n",
    ".withColumnRenamed(\"wind_lon\",\"school_wind_lon\")\\\n",
    ".withColumnRenamed(\"ZCTA10\",\"school_wind_zip\")\n",
    "\n",
    "df_all.cache()\n",
    "\n",
    "df_all.limit(5).show()\n",
    "\n",
    "# df_all = pd.merge(df_schools, df_wind, left_on = 'school_zip', right_on='ZCTA10', how='left')\\\n",
    "#   .merge(df_census, left_on = ['school_zip', 'year'], right_on=['zip', 'year'], how='left')\\\n",
    "#   .merge(df_pollution, left_on=['school_zip', 'year_month'], right_on=['ZIP10', 'year_month'], how='left')"
   ]
  },
  {
   "cell_type": "code",
   "execution_count": 14,
   "id": "ed9a33b4",
   "metadata": {},
   "outputs": [
    {
     "name": "stdout",
     "output_type": "stream",
     "text": [
      "+-------+-------------+--------------------+-------------+-----------+---------------------+----------+----------------+------------------+----------+----------+---------------+---------------+---------------+-------------+-------------+-----------+-----------+----------+----+\n",
      "|cdscode|school_county|school_active_status|school_street|school_type|school_grades_offered|school_zip|school_open_date|school_closed_date|school_lat|school_lon|school_wind_lat|school_wind_lon|school_wind_zip|school_wind_u|school_wind_v|school_wdir|school_wspd|year_month|year|\n",
      "+-------+-------------+--------------------+-------------+-----------+---------------------+----------+----------------+------------------+----------+----------+---------------+---------------+---------------+-------------+-------------+-----------+-----------+----------+----+\n",
      "|      0|            0|                   0|            0|          0|                    0|         0|               0|                 0|         0|         0|            871|            871|            871|          871|          871|        871|        871|       871| 871|\n",
      "+-------+-------------+--------------------+-------------+-----------+---------------------+----------+----------------+------------------+----------+----------+---------------+---------------+---------------+-------------+-------------+-----------+-----------+----------+----+\n",
      "\n"
     ]
    }
   ],
   "source": [
    "# spot check for nulls\n",
    "\n",
    "df_all.select([count(when(isnan(c) | col(c).isNull(), c)).alias(c) for c in df_all.columns]).show()"
   ]
  },
  {
   "cell_type": "code",
   "execution_count": 15,
   "id": "88972aa1",
   "metadata": {},
   "outputs": [
    {
     "name": "stdout",
     "output_type": "stream",
     "text": [
      "root\n",
      " |-- year: string (nullable = true)\n",
      " |-- zip: string (nullable = true)\n",
      " |-- total_population: string (nullable = true)\n",
      " |-- total_population_male: string (nullable = true)\n",
      " |-- total_population_female: string (nullable = true)\n",
      " |-- population_0_4: string (nullable = true)\n",
      " |-- population_0_4_male: string (nullable = true)\n",
      " |-- population_0_4_female: string (nullable = true)\n",
      " |-- population_5_9: string (nullable = true)\n",
      " |-- population_5_9_male: string (nullable = true)\n",
      " |-- population_5_9_female: string (nullable = true)\n",
      " |-- population_10_14: string (nullable = true)\n",
      " |-- population_10_14_male: string (nullable = true)\n",
      " |-- population_10_14_female: string (nullable = true)\n",
      " |-- population_15_19: string (nullable = true)\n",
      " |-- population_15_19_male: string (nullable = true)\n",
      " |-- population_15_19_female: string (nullable = true)\n",
      " |-- total_pop_under19: string (nullable = true)\n",
      "\n"
     ]
    }
   ],
   "source": [
    "df_census.printSchema()"
   ]
  },
  {
   "cell_type": "code",
   "execution_count": 16,
   "id": "fff728b2",
   "metadata": {},
   "outputs": [],
   "source": [
    "# avoiding duplicate column names after join\n",
    "df_census = df_census.withColumnRenamed(\"year\",\"census_year\").withColumnRenamed(\"zip\",\"census_zip\")"
   ]
  },
  {
   "cell_type": "code",
   "execution_count": 17,
   "id": "27eff208",
   "metadata": {},
   "outputs": [
    {
     "name": "stdout",
     "output_type": "stream",
     "text": [
      "+--------------+-------------+--------------------+--------------------+-----------+---------------------+----------+----------------+------------------+----------+-----------+---------------+---------------+---------------+--------------------+--------------------+------------------+-------------------+----------+----+-----------+----------+----------------+---------------------+-----------------------+--------------+-------------------+---------------------+--------------+-------------------+---------------------+----------------+---------------------+-----------------------+----------------+---------------------+-----------------------+-----------------+\n",
      "|       cdscode|school_county|school_active_status|       school_street|school_type|school_grades_offered|school_zip|school_open_date|school_closed_date|school_lat| school_lon|school_wind_lat|school_wind_lon|school_wind_zip|       school_wind_u|       school_wind_v|       school_wdir|        school_wspd|year_month|year|census_year|census_zip|total_population|total_population_male|total_population_female|population_0_4|population_0_4_male|population_0_4_female|population_5_9|population_5_9_male|population_5_9_female|population_10_14|population_10_14_male|population_10_14_female|population_15_19|population_15_19_male|population_15_19_female|total_pop_under19|\n",
      "+--------------+-------------+--------------------+--------------------+-----------+---------------------+----------+----------------+------------------+----------+-----------+---------------+---------------+---------------+--------------------+--------------------+------------------+-------------------+----------+----+-----------+----------+----------------+---------------------+-----------------------+--------------+-------------------+---------------------+--------------+-------------------+---------------------+----------------+---------------------+-----------------------+----------------+---------------------+-----------------------+-----------------+\n",
      "|19643376011894|  Los Angeles|              Active|720 East Cypress ...| Elementary|                  K-5|     91501|        7/1/1980|           No Data| 34.190322|-118.306548|         34.178|       -118.299|          91501|-0.09542745351791382| -0.7509922981262207| 262.7583312988281| 0.7570309638977051|   2000-01|2000|       2000|     91501|         18096.0|               8525.0|                 9571.0|        1013.0|              515.0|                498.0|        1167.0|              593.0|                574.0|          1216.0|                630.0|                  586.0|          1029.0|                534.0|                  495.0|           4425.0|\n",
      "|19643376011894|  Los Angeles|              Active|720 East Cypress ...| Elementary|                  K-5|     91501|        7/1/1980|           No Data| 34.190322|-118.306548|         34.178|       -118.299|          91501| 0.48693257570266724|  0.8334596157073975| 59.70521926879883|  0.965276300907135|   2000-02|2000|       2000|     91501|         18096.0|               8525.0|                 9571.0|        1013.0|              515.0|                498.0|        1167.0|              593.0|                574.0|          1216.0|                630.0|                  586.0|          1029.0|                534.0|                  495.0|           4425.0|\n",
      "|19643376011894|  Los Angeles|              Active|720 East Cypress ...| Elementary|                  K-5|     91501|        7/1/1980|           No Data| 34.190322|-118.306548|         34.178|       -118.299|          91501| 0.19061893224716187|-0.05917642265558243| 342.7533874511719|0.19959314167499542|   2000-03|2000|       2000|     91501|         18096.0|               8525.0|                 9571.0|        1013.0|              515.0|                498.0|        1167.0|              593.0|                574.0|          1216.0|                630.0|                  586.0|          1029.0|                534.0|                  495.0|           4425.0|\n",
      "|19643376011894|  Los Angeles|              Active|720 East Cypress ...| Elementary|                  K-5|     91501|        7/1/1980|           No Data| 34.190322|-118.306548|         34.178|       -118.299|          91501|  0.7405375838279724| 0.21779859066009521|16.389070510864258| 0.7719016671180725|   2000-04|2000|       2000|     91501|         18096.0|               8525.0|                 9571.0|        1013.0|              515.0|                498.0|        1167.0|              593.0|                574.0|          1216.0|                630.0|                  586.0|          1029.0|                534.0|                  495.0|           4425.0|\n",
      "|19643376011894|  Los Angeles|              Active|720 East Cypress ...| Elementary|                  K-5|     91501|        7/1/1980|           No Data| 34.190322|-118.306548|         34.178|       -118.299|          91501|   1.022397518157959| 0.29383930563926697|16.034767150878906| 1.0637848377227783|   2000-05|2000|       2000|     91501|         18096.0|               8525.0|                 9571.0|        1013.0|              515.0|                498.0|        1167.0|              593.0|                574.0|          1216.0|                630.0|                  586.0|          1029.0|                534.0|                  495.0|           4425.0|\n",
      "+--------------+-------------+--------------------+--------------------+-----------+---------------------+----------+----------------+------------------+----------+-----------+---------------+---------------+---------------+--------------------+--------------------+------------------+-------------------+----------+----+-----------+----------+----------------+---------------------+-----------------------+--------------+-------------------+---------------------+--------------+-------------------+---------------------+----------------+---------------------+-----------------------+----------------+---------------------+-----------------------+-----------------+\n",
      "\n"
     ]
    }
   ],
   "source": [
    "df_all = df_all.join(df_census, (df_all['year'] == df_census['census_year']) & (df_all['school_zip'] == df_census['census_zip']), 'left')\n",
    "\n",
    "df_all.cache()\n",
    "\n",
    "df_all.limit(5).show()"
   ]
  },
  {
   "cell_type": "code",
   "execution_count": 18,
   "id": "ca303a2d",
   "metadata": {},
   "outputs": [
    {
     "name": "stdout",
     "output_type": "stream",
     "text": [
      "+-------+-------------+--------------------+-------------+-----------+---------------------+----------+----------------+------------------+----------+----------+---------------+---------------+---------------+-------------+-------------+-----------+-----------+----------+----+-----------+----------+----------------+---------------------+-----------------------+--------------+-------------------+---------------------+--------------+-------------------+---------------------+----------------+---------------------+-----------------------+----------------+---------------------+-----------------------+-----------------+\n",
      "|cdscode|school_county|school_active_status|school_street|school_type|school_grades_offered|school_zip|school_open_date|school_closed_date|school_lat|school_lon|school_wind_lat|school_wind_lon|school_wind_zip|school_wind_u|school_wind_v|school_wdir|school_wspd|year_month|year|census_year|census_zip|total_population|total_population_male|total_population_female|population_0_4|population_0_4_male|population_0_4_female|population_5_9|population_5_9_male|population_5_9_female|population_10_14|population_10_14_male|population_10_14_female|population_15_19|population_15_19_male|population_15_19_female|total_pop_under19|\n",
      "+-------+-------------+--------------------+-------------+-----------+---------------------+----------+----------------+------------------+----------+----------+---------------+---------------+---------------+-------------+-------------+-----------+-----------+----------+----+-----------+----------+----------------+---------------------+-----------------------+--------------+-------------------+---------------------+--------------+-------------------+---------------------+----------------+---------------------+-----------------------+----------------+---------------------+-----------------------+-----------------+\n",
      "|      0|            0|                   0|            0|          0|                    0|         0|               0|                 0|         0|         0|            871|            871|            871|          871|          871|        871|        871|       871| 871|        871|       871|            3775|                 3775|                   3775|          3775|               3775|                 3775|          3775|               3775|                 3775|            3775|                 3775|                   3775|            3775|                 3775|                   3775|             3775|\n",
      "+-------+-------------+--------------------+-------------+-----------+---------------------+----------+----------------+------------------+----------+----------+---------------+---------------+---------------+-------------+-------------+-----------+-----------+----------+----+-----------+----------+----------------+---------------------+-----------------------+--------------+-------------------+---------------------+--------------+-------------------+---------------------+----------------+---------------------+-----------------------+----------------+---------------------+-----------------------+-----------------+\n",
      "\n"
     ]
    }
   ],
   "source": [
    "# spot check for nulls\n",
    "\n",
    "df_all.select([count(when(isnan(c) | col(c).isNull(), c)).alias(c) for c in df_all.columns]).show()"
   ]
  },
  {
   "cell_type": "code",
   "execution_count": 19,
   "id": "b5a0030b",
   "metadata": {},
   "outputs": [
    {
     "name": "stdout",
     "output_type": "stream",
     "text": [
      "root\n",
      " |-- _c0: string (nullable = true)\n",
      " |-- year_month: string (nullable = true)\n",
      " |-- ZIP10: string (nullable = true)\n",
      " |-- pm25: string (nullable = true)\n",
      "\n"
     ]
    }
   ],
   "source": [
    "df_pollution.printSchema()"
   ]
  },
  {
   "cell_type": "code",
   "execution_count": 20,
   "id": "76a59790",
   "metadata": {},
   "outputs": [],
   "source": [
    "df_pollution = df_pollution.withColumnRenamed(\"_c0\",\"pm25_index\")\\\n",
    ".withColumnRenamed(\"year_month\",\"pm25_year_month\")\\\n",
    ".withColumnRenamed(\"ZIP10\",\"pm25_zip\")"
   ]
  },
  {
   "cell_type": "code",
   "execution_count": 21,
   "id": "e8ce2b2c",
   "metadata": {},
   "outputs": [
    {
     "name": "stdout",
     "output_type": "stream",
     "text": [
      "+--------------+-------------+--------------------+--------------------+--------------------+---------------------+----------+----------------+------------------+----------+-----------+---------------+---------------+---------------+--------------------+-------------------+-----------------+------------------+----------+----+-----------+----------+----------------+---------------------+-----------------------+--------------+-------------------+---------------------+--------------+-------------------+---------------------+----------------+---------------------+-----------------------+----------------+---------------------+-----------------------+-----------------+----------+---------------+--------+-----+\n",
      "|       cdscode|school_county|school_active_status|       school_street|         school_type|school_grades_offered|school_zip|school_open_date|school_closed_date|school_lat| school_lon|school_wind_lat|school_wind_lon|school_wind_zip|       school_wind_u|      school_wind_v|      school_wdir|       school_wspd|year_month|year|census_year|census_zip|total_population|total_population_male|total_population_female|population_0_4|population_0_4_male|population_0_4_female|population_5_9|population_5_9_male|population_5_9_female|population_10_14|population_10_14_male|population_10_14_female|population_15_19|population_15_19_male|population_15_19_female|total_pop_under19|pm25_index|pm25_year_month|pm25_zip| pm25|\n",
      "+--------------+-------------+--------------------+--------------------+--------------------+---------------------+----------+----------------+------------------+----------+-----------+---------------+---------------+---------------+--------------------+-------------------+-----------------+------------------+----------+----+-----------+----------+----------------+---------------------+-----------------------+--------------+-------------------+---------------------+--------------+-------------------+---------------------+----------------+---------------------+-----------------------+----------------+---------------------+-----------------------+-----------------+----------+---------------+--------+-----+\n",
      "|43696740140475|  Santa Clara|              Active|    3534 Zanker Road|          Elementary|                  K-5|     95134|       8/12/2021|           No Data| 37.407857|-121.933134|           null|           null|           null|                null|               null|             null|              null|      null|null|       null|      null|            null|                 null|                   null|          null|               null|                 null|          null|               null|                 null|            null|                 null|                   null|            null|                 null|                   null|             null|      null|           null|    null| null|\n",
      "|43696740140483|  Santa Clara|              Active|    3556 Zanker Road|Intermediate/Midd...|                  6-8|     95134|       8/12/2021|           No Data| 37.407857|-121.933134|           null|           null|           null|                null|               null|             null|              null|      null|null|       null|      null|            null|                 null|                   null|          null|               null|                 null|          null|               null|                 null|            null|                 null|                   null|            null|                 null|                   null|             null|      null|           null|    null| null|\n",
      "|43696740141283|  Santa Clara|              Active|    3588 Zanker Road|         High School|                 9-12|     95134|       7/11/2022|           No Data| 37.408099| -121.93356|           null|           null|           null|                null|               null|             null|              null|      null|null|       null|      null|            null|                 null|                   null|          null|               null|                 null|          null|               null|                 null|            null|                 null|                   null|            null|                 null|                   null|             null|      null|           null|    null| null|\n",
      "|19647336016356|  Los Angeles|              Active|3909 Carpenter Av...|          Elementary|                  K-5|     91604|        7/1/1924|           No Data| 34.141124|-118.392983|         34.138|       -118.363|          91604|-0.09542745351791382|-0.7509922981262207|262.7583312988281|0.7570309638977051|   2000-01|2000|       2000|     91604|         26137.0|              12956.0|                13181.0|        1222.0|              638.0|                584.0|        1076.0|              544.0|                532.0|           935.0|                506.0|                  429.0|           718.0|                371.0|                  347.0|           3951.0|       981|        2000-01|   91604|24.95|\n",
      "|37680070000000|    San Diego|              Active|1888 Montgomery A...|             No Data|              No Data|     92007|         No Data|           No Data| 33.025044| -117.28220|         33.002|       -117.277|          92007|  0.8630452156066895|-0.7211896777153015|320.1167297363281|1.1247050762176514|   2000-01|2000|       2000|     92007|         10366.0|               5241.0|                 5125.0|         519.0|              271.0|                248.0|         568.0|              293.0|                275.0|           547.0|                267.0|                  280.0|           507.0|                265.0|                  242.0|           2141.0|      1066|        2000-01|   92007|14.86|\n",
      "+--------------+-------------+--------------------+--------------------+--------------------+---------------------+----------+----------------+------------------+----------+-----------+---------------+---------------+---------------+--------------------+-------------------+-----------------+------------------+----------+----+-----------+----------+----------------+---------------------+-----------------------+--------------+-------------------+---------------------+--------------+-------------------+---------------------+----------------+---------------------+-----------------------+----------------+---------------------+-----------------------+-----------------+----------+---------------+--------+-----+\n",
      "\n"
     ]
    }
   ],
   "source": [
    "df_all = df_all.join(df_pollution, (df_all['year_month'] == df_pollution['pm25_year_month']) & (df_all['school_zip'] == df_pollution['pm25_zip']), 'left')\n",
    "\n",
    "df_all.cache()\n",
    "\n",
    "df_all.limit(5).show()"
   ]
  },
  {
   "cell_type": "code",
   "execution_count": 22,
   "id": "6b573819",
   "metadata": {},
   "outputs": [
    {
     "name": "stdout",
     "output_type": "stream",
     "text": [
      "+-------+-------------+--------------------+-------------+-----------+---------------------+----------+----------------+------------------+----------+----------+---------------+---------------+---------------+-------------+-------------+-----------+-----------+----------+----+-----------+----------+----------------+---------------------+-----------------------+--------------+-------------------+---------------------+--------------+-------------------+---------------------+----------------+---------------------+-----------------------+----------------+---------------------+-----------------------+-----------------+----------+---------------+--------+------+\n",
      "|cdscode|school_county|school_active_status|school_street|school_type|school_grades_offered|school_zip|school_open_date|school_closed_date|school_lat|school_lon|school_wind_lat|school_wind_lon|school_wind_zip|school_wind_u|school_wind_v|school_wdir|school_wspd|year_month|year|census_year|census_zip|total_population|total_population_male|total_population_female|population_0_4|population_0_4_male|population_0_4_female|population_5_9|population_5_9_male|population_5_9_female|population_10_14|population_10_14_male|population_10_14_female|population_15_19|population_15_19_male|population_15_19_female|total_pop_under19|pm25_index|pm25_year_month|pm25_zip|  pm25|\n",
      "+-------+-------------+--------------------+-------------+-----------+---------------------+----------+----------------+------------------+----------+----------+---------------+---------------+---------------+-------------+-------------+-----------+-----------+----------+----+-----------+----------+----------------+---------------------+-----------------------+--------------+-------------------+---------------------+--------------+-------------------+---------------------+----------------+---------------------+-----------------------+----------------+---------------------+-----------------------+-----------------+----------+---------------+--------+------+\n",
      "|      0|            0|                   0|            0|          0|                    0|         0|               0|                 0|         0|         0|            871|            871|            871|          871|          871|        871|        871|       871| 871|        871|       871|            3775|                 3775|                   3775|          3775|               3775|                 3775|          3775|               3775|                 3775|            3775|                 3775|                   3775|            3775|                 3775|                   3775|             3775|    153403|         153403|  153403|153403|\n",
      "+-------+-------------+--------------------+-------------+-----------+---------------------+----------+----------------+------------------+----------+----------+---------------+---------------+---------------+-------------+-------------+-----------+-----------+----------+----+-----------+----------+----------------+---------------------+-----------------------+--------------+-------------------+---------------------+--------------+-------------------+---------------------+----------------+---------------------+-----------------------+----------------+---------------------+-----------------------+-----------------+----------+---------------+--------+------+\n",
      "\n"
     ]
    }
   ],
   "source": [
    "# spot check for nulls\n",
    "\n",
    "df_all.select([count(when(isnan(c) | col(c).isNull(), c)).alias(c) for c in df_all.columns]).show()"
   ]
  },
  {
   "cell_type": "code",
   "execution_count": 23,
   "id": "61dd9ce4",
   "metadata": {},
   "outputs": [],
   "source": [
    "df_closest_ps_by_year = spark.read.option(\"header\",True).csv(os.path.join(gdrive_path, 'schools/school_year_to_point_lookup.csv'))"
   ]
  },
  {
   "cell_type": "code",
   "execution_count": 24,
   "id": "5fe51102",
   "metadata": {},
   "outputs": [
    {
     "name": "stdout",
     "output_type": "stream",
     "text": [
      "+---+--------------+-------------+----------+----------------+------------------+----------+-----------+------------------+----------------+----------------+-----------------+---------------------+----------------+------------------+-------------------+\n",
      "|_c0|       CDSCode|school_county|school_zip|school_open_date|school_closed_date|school_lat| school_lon|point_source_index|point_source_lat|point_source_lon|point_source_year|point_source_pm25_tpy|point_source_zip|       geod_dist_m|    angle_to_school|\n",
      "+---+--------------+-------------+----------+----------------+------------------+----------+-----------+------------------+----------------+----------------+-----------------+---------------------+----------------+------------------+-------------------+\n",
      "|  0|10621171030071|       Fresno|     93611|        7/1/1967|           No Data| 36.834437| -119.69052|               111|       36.830643|     -119.684105|             2002|           2.30478261|         93612.0| 710.4600630843861|-53.654480572843454|\n",
      "|  1|10621171030196|       Fresno|     93720|        7/1/1980|           No Data| 36.861115|-119.762359|              2057|          36.841|       -119.7903|             2008|            1.5648188|         93721.0| 3345.539540386091| 48.137648661761396|\n",
      "|  2|10621176104624|       Fresno|     93720|        7/1/1980|           No Data|  36.84589|-119.746029|              2057|          36.841|       -119.7903|             2008|            1.5648188|         93721.0|3985.8146532595038|   82.1616370925463|\n",
      "|  3|10621250000000|       Fresno|     93210|         No Data|           No Data| 36.142334| -120.36406|              4326|        36.13427|      -120.38843|             2011|           16.0590037|               0| 2368.936923918806|  67.80030938687635|\n",
      "|  4|10621256113849|       Fresno|     93234|       8/26/1996|           No Data| 36.197552|-120.100674|              6068|         36.1812|       -120.1535|             2017|         1.3613280885|         93234.0| 5086.227465808878|   69.0843043786226|\n",
      "+---+--------------+-------------+----------+----------------+------------------+----------+-----------+------------------+----------------+----------------+-----------------+---------------------+----------------+------------------+-------------------+\n",
      "\n"
     ]
    }
   ],
   "source": [
    "df_closest_ps_by_year.limit(5).show()"
   ]
  },
  {
   "cell_type": "code",
   "execution_count": 25,
   "id": "862b09d0",
   "metadata": {},
   "outputs": [],
   "source": [
    "df_year_lookup = spark.read.option(\"header\",True).csv(os.path.join(gdrive_path, 'school_pollution_mapping/year_lookup.csv'))"
   ]
  },
  {
   "cell_type": "code",
   "execution_count": 26,
   "id": "f659cb5d",
   "metadata": {},
   "outputs": [],
   "source": [
    "df_all = df_all.join(df_year_lookup,[\"year\"],\"left\")"
   ]
  },
  {
   "cell_type": "code",
   "execution_count": 27,
   "id": "a04ad9c3",
   "metadata": {},
   "outputs": [
    {
     "name": "stdout",
     "output_type": "stream",
     "text": [
      "+----+-------+-------------+--------------------+-------------+-----------+---------------------+----------+----------------+------------------+----------+----------+---------------+---------------+---------------+-------------+-------------+-----------+-----------+----------+-----------+----------+----------------+---------------------+-----------------------+--------------+-------------------+---------------------+--------------+-------------------+---------------------+----------------+---------------------+-----------------------+----------------+---------------------+-----------------------+-----------------+----------+---------------+--------+------+-----------+\n",
      "|year|cdscode|school_county|school_active_status|school_street|school_type|school_grades_offered|school_zip|school_open_date|school_closed_date|school_lat|school_lon|school_wind_lat|school_wind_lon|school_wind_zip|school_wind_u|school_wind_v|school_wdir|school_wspd|year_month|census_year|census_zip|total_population|total_population_male|total_population_female|population_0_4|population_0_4_male|population_0_4_female|population_5_9|population_5_9_male|population_5_9_female|population_10_14|population_10_14_male|population_10_14_female|population_15_19|population_15_19_male|population_15_19_female|total_pop_under19|pm25_index|pm25_year_month|pm25_zip|  pm25|lookup_year|\n",
      "+----+-------+-------------+--------------------+-------------+-----------+---------------------+----------+----------------+------------------+----------+----------+---------------+---------------+---------------+-------------+-------------+-----------+-----------+----------+-----------+----------+----------------+---------------------+-----------------------+--------------+-------------------+---------------------+--------------+-------------------+---------------------+----------------+---------------------+-----------------------+----------------+---------------------+-----------------------+-----------------+----------+---------------+--------+------+-----------+\n",
      "| 871|      0|            0|                   0|            0|          0|                    0|         0|               0|                 0|         0|         0|            871|            871|            871|          871|          871|        871|        871|       871|        871|       871|            3775|                 3775|                   3775|          3775|               3775|                 3775|          3775|               3775|                 3775|            3775|                 3775|                   3775|            3775|                 3775|                   3775|             3775|    153403|         153403|  153403|153403|        871|\n",
      "+----+-------+-------------+--------------------+-------------+-----------+---------------------+----------+----------------+------------------+----------+----------+---------------+---------------+---------------+-------------+-------------+-----------+-----------+----------+-----------+----------+----------------+---------------------+-----------------------+--------------+-------------------+---------------------+--------------+-------------------+---------------------+----------------+---------------------+-----------------------+----------------+---------------------+-----------------------+-----------------+----------+---------------+--------+------+-----------+\n",
      "\n"
     ]
    }
   ],
   "source": [
    "# spot check for nulls\n",
    "\n",
    "df_all.select([count(when(isnan(c) | col(c).isNull(), c)).alias(c) for c in df_all.columns]).show()"
   ]
  },
  {
   "cell_type": "code",
   "execution_count": 28,
   "id": "7b2bb111",
   "metadata": {},
   "outputs": [
    {
     "data": {
      "text/plain": [
       "DataFrame[year: bigint, cdscode: string, school_county: string, school_active_status: string, school_street: string, school_type: string, school_grades_offered: string, school_zip: string, school_open_date: string, school_closed_date: string, school_lat: string, school_lon: string, school_wind_lat: double, school_wind_lon: double, school_wind_zip: bigint, school_wind_u: double, school_wind_v: double, school_wdir: double, school_wspd: double, year_month: string, census_year: string, census_zip: string, total_population: string, total_population_male: string, total_population_female: string, population_0_4: string, population_0_4_male: string, population_0_4_female: string, population_5_9: string, population_5_9_male: string, population_5_9_female: string, population_10_14: string, population_10_14_male: string, population_10_14_female: string, population_15_19: string, population_15_19_male: string, population_15_19_female: string, total_pop_under19: string, pm25_index: string, pm25_year_month: string, pm25_zip: string, pm25: string, lookup_year: string]"
      ]
     },
     "execution_count": 28,
     "metadata": {},
     "output_type": "execute_result"
    }
   ],
   "source": [
    "df_all.limit(10).drop()"
   ]
  },
  {
   "cell_type": "code",
   "execution_count": 29,
   "id": "cc548eaf",
   "metadata": {},
   "outputs": [
    {
     "name": "stdout",
     "output_type": "stream",
     "text": [
      "root\n",
      " |-- year: long (nullable = true)\n",
      " |-- cdscode: string (nullable = true)\n",
      " |-- school_county: string (nullable = true)\n",
      " |-- school_active_status: string (nullable = true)\n",
      " |-- school_street: string (nullable = true)\n",
      " |-- school_type: string (nullable = true)\n",
      " |-- school_grades_offered: string (nullable = true)\n",
      " |-- school_zip: string (nullable = true)\n",
      " |-- school_open_date: string (nullable = true)\n",
      " |-- school_closed_date: string (nullable = true)\n",
      " |-- school_lat: string (nullable = true)\n",
      " |-- school_lon: string (nullable = true)\n",
      " |-- school_wind_lat: double (nullable = true)\n",
      " |-- school_wind_lon: double (nullable = true)\n",
      " |-- school_wind_zip: long (nullable = true)\n",
      " |-- school_wind_u: double (nullable = true)\n",
      " |-- school_wind_v: double (nullable = true)\n",
      " |-- school_wdir: double (nullable = true)\n",
      " |-- school_wspd: double (nullable = true)\n",
      " |-- year_month: string (nullable = true)\n",
      " |-- census_year: string (nullable = true)\n",
      " |-- census_zip: string (nullable = true)\n",
      " |-- total_population: string (nullable = true)\n",
      " |-- total_population_male: string (nullable = true)\n",
      " |-- total_population_female: string (nullable = true)\n",
      " |-- population_0_4: string (nullable = true)\n",
      " |-- population_0_4_male: string (nullable = true)\n",
      " |-- population_0_4_female: string (nullable = true)\n",
      " |-- population_5_9: string (nullable = true)\n",
      " |-- population_5_9_male: string (nullable = true)\n",
      " |-- population_5_9_female: string (nullable = true)\n",
      " |-- population_10_14: string (nullable = true)\n",
      " |-- population_10_14_male: string (nullable = true)\n",
      " |-- population_10_14_female: string (nullable = true)\n",
      " |-- population_15_19: string (nullable = true)\n",
      " |-- population_15_19_male: string (nullable = true)\n",
      " |-- population_15_19_female: string (nullable = true)\n",
      " |-- total_pop_under19: string (nullable = true)\n",
      " |-- pm25_index: string (nullable = true)\n",
      " |-- pm25_year_month: string (nullable = true)\n",
      " |-- pm25_zip: string (nullable = true)\n",
      " |-- pm25: string (nullable = true)\n",
      " |-- lookup_year: string (nullable = true)\n",
      "\n"
     ]
    }
   ],
   "source": [
    "# compare data types for join\n",
    "df_all.printSchema()"
   ]
  },
  {
   "cell_type": "code",
   "execution_count": 30,
   "id": "954ab636",
   "metadata": {},
   "outputs": [],
   "source": [
    "col_list = [\"CDSCode\",\"point_source_lat\",\"point_source_lon\",\"point_source_year\",\"point_source_pm25_tpy\",\"point_source_zip\",\"geod_dist_m\",\"angle_to_school\"]\n",
    "\n",
    "df_closest_ps_by_year = df_closest_ps_by_year.select(col_list)\n",
    "df_closest_ps_by_year = df_closest_ps_by_year.withColumnRenamed(\"CDSCode\",\"cdscode_closest_ps\")\\\n",
    ".withColumnRenamed(\"geod_dist_m\",\"dist_school_to_ps_m\")\n",
    "\n",
    "\n",
    "# convert year and zip strings to ints for joining\n",
    "df_closest_ps_by_year = df_closest_ps_by_year.withColumn('point_source_zip',df_closest_ps_by_year.point_source_zip.cast(IntegerType()))\n",
    "df_closest_ps_by_year = df_closest_ps_by_year.withColumn('point_source_year',df_closest_ps_by_year.point_source_year.cast(IntegerType()))"
   ]
  },
  {
   "cell_type": "code",
   "execution_count": null,
   "id": "a33b8559",
   "metadata": {},
   "outputs": [],
   "source": []
  },
  {
   "cell_type": "code",
   "execution_count": 31,
   "id": "5f8d3e3f",
   "metadata": {},
   "outputs": [
    {
     "name": "stdout",
     "output_type": "stream",
     "text": [
      "root\n",
      " |-- cdscode_closest_ps: string (nullable = true)\n",
      " |-- point_source_lat: string (nullable = true)\n",
      " |-- point_source_lon: string (nullable = true)\n",
      " |-- point_source_year: integer (nullable = true)\n",
      " |-- point_source_pm25_tpy: string (nullable = true)\n",
      " |-- point_source_zip: integer (nullable = true)\n",
      " |-- dist_school_to_ps_m: string (nullable = true)\n",
      " |-- angle_to_school: string (nullable = true)\n",
      "\n"
     ]
    }
   ],
   "source": [
    "df_closest_ps_by_year.printSchema()"
   ]
  },
  {
   "cell_type": "code",
   "execution_count": 32,
   "id": "4a8d8459",
   "metadata": {},
   "outputs": [
    {
     "name": "stdout",
     "output_type": "stream",
     "text": [
      "+------------------+----------------+----------------+-----------------+---------------------+----------------+-------------------+-------------------+\n",
      "|cdscode_closest_ps|point_source_lat|point_source_lon|point_source_year|point_source_pm25_tpy|point_source_zip|dist_school_to_ps_m|    angle_to_school|\n",
      "+------------------+----------------+----------------+-----------------+---------------------+----------------+-------------------+-------------------+\n",
      "|    10621171030071|       36.830643|     -119.684105|             2002|           2.30478261|           93612|  710.4600630843861|-53.654480572843454|\n",
      "|    10621171030196|          36.841|       -119.7903|             2008|            1.5648188|           93721|  3345.539540386091| 48.137648661761396|\n",
      "|    10621176104624|          36.841|       -119.7903|             2008|            1.5648188|           93721| 3985.8146532595038|   82.1616370925463|\n",
      "|    10621250000000|        36.13427|      -120.38843|             2011|           16.0590037|               0|  2368.936923918806|  67.80030938687635|\n",
      "|    10621256113849|         36.1812|       -120.1535|             2017|         1.3613280885|           93234|  5086.227465808878|   69.0843043786226|\n",
      "|    10621666006357|        36.70464|      -119.73677|             2014|            1.3012621|           93725| 2880.2063567748196| -5.517018105311516|\n",
      "|    10621666057327|       36.774975|     -119.688148|             2002|               10.089|           93727|  4467.648477696179| -138.0514183411134|\n",
      "|    10621666111231|        36.72675|       -119.7916|             2011|          5.591447872|           93706| 3192.5466637896834|-0.4086584694760366|\n",
      "|    10624140123463|         36.6781|       -119.6985|             2017|         2.3742312118|           93725| 4322.2129567010425|  34.09158673372448|\n",
      "|    10625470127159|        36.74699|       -119.8092|             2014|    4.414960300000001|           93701|  1362.455127162305| 157.04141255030538|\n",
      "+------------------+----------------+----------------+-----------------+---------------------+----------------+-------------------+-------------------+\n",
      "\n"
     ]
    }
   ],
   "source": [
    "df_closest_ps_by_year.limit(10).show()"
   ]
  },
  {
   "cell_type": "code",
   "execution_count": 33,
   "id": "36b35452",
   "metadata": {},
   "outputs": [],
   "source": [
    "df_all = df_all.join(df_closest_ps_by_year,((df_all[\"cdscode\"] == df_closest_ps_by_year['cdscode_closest_ps']) & (df_all['lookup_year'] == df_closest_ps_by_year['point_source_year'])),\"left\")"
   ]
  },
  {
   "cell_type": "code",
   "execution_count": 34,
   "id": "e64b52ee",
   "metadata": {},
   "outputs": [
    {
     "data": {
      "text/plain": [
       "DataFrame[year: bigint, cdscode: string, school_county: string, school_active_status: string, school_street: string, school_type: string, school_grades_offered: string, school_zip: string, school_open_date: string, school_closed_date: string, school_lat: string, school_lon: string, school_wind_lat: double, school_wind_lon: double, school_wind_zip: bigint, school_wind_u: double, school_wind_v: double, school_wdir: double, school_wspd: double, year_month: string, census_year: string, census_zip: string, total_population: string, total_population_male: string, total_population_female: string, population_0_4: string, population_0_4_male: string, population_0_4_female: string, population_5_9: string, population_5_9_male: string, population_5_9_female: string, population_10_14: string, population_10_14_male: string, population_10_14_female: string, population_15_19: string, population_15_19_male: string, population_15_19_female: string, total_pop_under19: string, pm25_index: string, pm25_year_month: string, pm25_zip: string, pm25: string, lookup_year: string, cdscode_closest_ps: string, point_source_lat: string, point_source_lon: string, point_source_year: int, point_source_pm25_tpy: string, point_source_zip: int, dist_school_to_ps_m: string, angle_to_school: string]"
      ]
     },
     "execution_count": 34,
     "metadata": {},
     "output_type": "execute_result"
    }
   ],
   "source": [
    "df_all.limit(10).drop()"
   ]
  },
  {
   "cell_type": "code",
   "execution_count": 35,
   "id": "14dccb23",
   "metadata": {},
   "outputs": [
    {
     "name": "stdout",
     "output_type": "stream",
     "text": [
      "+----+-------+-------------+--------------------+-------------+-----------+---------------------+----------+----------------+------------------+----------+----------+---------------+---------------+---------------+-------------+-------------+-----------+-----------+----------+-----------+----------+----------------+---------------------+-----------------------+--------------+-------------------+---------------------+--------------+-------------------+---------------------+----------------+---------------------+-----------------------+----------------+---------------------+-----------------------+-----------------+----------+---------------+--------+------+-----------+------------------+----------------+----------------+-----------------+---------------------+----------------+-------------------+---------------+\n",
      "|year|cdscode|school_county|school_active_status|school_street|school_type|school_grades_offered|school_zip|school_open_date|school_closed_date|school_lat|school_lon|school_wind_lat|school_wind_lon|school_wind_zip|school_wind_u|school_wind_v|school_wdir|school_wspd|year_month|census_year|census_zip|total_population|total_population_male|total_population_female|population_0_4|population_0_4_male|population_0_4_female|population_5_9|population_5_9_male|population_5_9_female|population_10_14|population_10_14_male|population_10_14_female|population_15_19|population_15_19_male|population_15_19_female|total_pop_under19|pm25_index|pm25_year_month|pm25_zip|  pm25|lookup_year|cdscode_closest_ps|point_source_lat|point_source_lon|point_source_year|point_source_pm25_tpy|point_source_zip|dist_school_to_ps_m|angle_to_school|\n",
      "+----+-------+-------------+--------------------+-------------+-----------+---------------------+----------+----------------+------------------+----------+----------+---------------+---------------+---------------+-------------+-------------+-----------+-----------+----------+-----------+----------+----------------+---------------------+-----------------------+--------------+-------------------+---------------------+--------------+-------------------+---------------------+----------------+---------------------+-----------------------+----------------+---------------------+-----------------------+-----------------+----------+---------------+--------+------+-----------+------------------+----------------+----------------+-----------------+---------------------+----------------+-------------------+---------------+\n",
      "| 871|      0|            0|                   0|            0|          0|                    0|         0|               0|                 0|         0|         0|            871|            871|            871|          871|          871|        871|        871|       871|        871|       871|            3775|                 3775|                   3775|          3775|               3775|                 3775|          3775|               3775|                 3775|            3775|                 3775|                   3775|            3775|                 3775|                   3775|             3775|    153403|         153403|  153403|153403|        871|               871|             871|             871|              871|                  871|             871|                871|            871|\n",
      "+----+-------+-------------+--------------------+-------------+-----------+---------------------+----------+----------------+------------------+----------+----------+---------------+---------------+---------------+-------------+-------------+-----------+-----------+----------+-----------+----------+----------------+---------------------+-----------------------+--------------+-------------------+---------------------+--------------+-------------------+---------------------+----------------+---------------------+-----------------------+----------------+---------------------+-----------------------+-----------------+----------+---------------+--------+------+-----------+------------------+----------------+----------------+-----------------+---------------------+----------------+-------------------+---------------+\n",
      "\n"
     ]
    }
   ],
   "source": [
    "# spot check for nulls\n",
    "\n",
    "df_all.select([count(when(isnan(c) | col(c).isNull(), c)).alias(c) for c in df_all.columns]).show()"
   ]
  },
  {
   "cell_type": "code",
   "execution_count": 36,
   "id": "d47b0d6a",
   "metadata": {},
   "outputs": [],
   "source": [
    "df_wind_2 = df_wind\n",
    "\n",
    "df_wind_2 = df_wind_2.withColumnRenamed(\"year\",\"wind_year\").withColumnRenamed(\"year_month\",\"wind_year_month\")"
   ]
  },
  {
   "cell_type": "code",
   "execution_count": 37,
   "id": "3ec16c93",
   "metadata": {},
   "outputs": [],
   "source": [
    "df_all = df_all.join(df_wind_2,((df_all['point_source_zip'] == df_wind_2['ZCTA10']) & (df_all['year_month'] == df_wind_2['wind_year_month'])), 'left')\n",
    "df_all = df_all.drop(\"wind_year\").drop(\"wind_year_month\")"
   ]
  },
  {
   "cell_type": "code",
   "execution_count": 38,
   "id": "7ea783a9",
   "metadata": {},
   "outputs": [
    {
     "data": {
      "text/plain": [
       "DataFrame[year: bigint, cdscode: string, school_county: string, school_active_status: string, school_street: string, school_type: string, school_grades_offered: string, school_zip: string, school_open_date: string, school_closed_date: string, school_lat: string, school_lon: string, school_wind_lat: double, school_wind_lon: double, school_wind_zip: bigint, school_wind_u: double, school_wind_v: double, school_wdir: double, school_wspd: double, year_month: string, census_year: string, census_zip: string, total_population: string, total_population_male: string, total_population_female: string, population_0_4: string, population_0_4_male: string, population_0_4_female: string, population_5_9: string, population_5_9_male: string, population_5_9_female: string, population_10_14: string, population_10_14_male: string, population_10_14_female: string, population_15_19: string, population_15_19_male: string, population_15_19_female: string, total_pop_under19: string, pm25_index: string, pm25_year_month: string, pm25_zip: string, pm25: string, lookup_year: string, cdscode_closest_ps: string, point_source_lat: string, point_source_lon: string, point_source_year: int, point_source_pm25_tpy: string, point_source_zip: int, dist_school_to_ps_m: string, angle_to_school: string, wind_lat: double, wind_lon: double, ZCTA10: bigint, u: double, v: double, wdir: double, wspd: double]"
      ]
     },
     "execution_count": 38,
     "metadata": {},
     "output_type": "execute_result"
    }
   ],
   "source": [
    "df_all.limit(5).drop()"
   ]
  },
  {
   "cell_type": "code",
   "execution_count": 39,
   "id": "047afdd3",
   "metadata": {},
   "outputs": [
    {
     "name": "stdout",
     "output_type": "stream",
     "text": [
      "+----+-------+-------------+--------------------+-------------+-----------+---------------------+----------+----------------+------------------+----------+----------+---------------+---------------+---------------+-------------+-------------+-----------+-----------+----------+-----------+----------+----------------+---------------------+-----------------------+--------------+-------------------+---------------------+--------------+-------------------+---------------------+----------------+---------------------+-----------------------+----------------+---------------------+-----------------------+-----------------+----------+---------------+--------+------+-----------+------------------+----------------+----------------+-----------------+---------------------+----------------+-------------------+---------------+--------+--------+------+------+------+------+------+\n",
      "|year|cdscode|school_county|school_active_status|school_street|school_type|school_grades_offered|school_zip|school_open_date|school_closed_date|school_lat|school_lon|school_wind_lat|school_wind_lon|school_wind_zip|school_wind_u|school_wind_v|school_wdir|school_wspd|year_month|census_year|census_zip|total_population|total_population_male|total_population_female|population_0_4|population_0_4_male|population_0_4_female|population_5_9|population_5_9_male|population_5_9_female|population_10_14|population_10_14_male|population_10_14_female|population_15_19|population_15_19_male|population_15_19_female|total_pop_under19|pm25_index|pm25_year_month|pm25_zip|  pm25|lookup_year|cdscode_closest_ps|point_source_lat|point_source_lon|point_source_year|point_source_pm25_tpy|point_source_zip|dist_school_to_ps_m|angle_to_school|wind_lat|wind_lon|ZCTA10|     u|     v|  wdir|  wspd|\n",
      "+----+-------+-------------+--------------------+-------------+-----------+---------------------+----------+----------------+------------------+----------+----------+---------------+---------------+---------------+-------------+-------------+-----------+-----------+----------+-----------+----------+----------------+---------------------+-----------------------+--------------+-------------------+---------------------+--------------+-------------------+---------------------+----------------+---------------------+-----------------------+----------------+---------------------+-----------------------+-----------------+----------+---------------+--------+------+-----------+------------------+----------------+----------------+-----------------+---------------------+----------------+-------------------+---------------+--------+--------+------+------+------+------+------+\n",
      "| 871|      0|            0|                   0|            0|          0|                    0|         0|               0|                 0|         0|         0|            871|            871|            871|          871|          871|        871|        871|       871|        871|       871|            3775|                 3775|                   3775|          3775|               3775|                 3775|          3775|               3775|                 3775|            3775|                 3775|                   3775|            3775|                 3775|                   3775|             3775|    153403|         153403|  153403|153403|        871|               871|             871|             871|              871|                  871|             871|                871|            871|  307831|  307831|307831|307831|307831|307831|307831|\n",
      "+----+-------+-------------+--------------------+-------------+-----------+---------------------+----------+----------------+------------------+----------+----------+---------------+---------------+---------------+-------------+-------------+-----------+-----------+----------+-----------+----------+----------------+---------------------+-----------------------+--------------+-------------------+---------------------+--------------+-------------------+---------------------+----------------+---------------------+-----------------------+----------------+---------------------+-----------------------+-----------------+----------+---------------+--------+------+-----------+------------------+----------------+----------------+-----------------+---------------------+----------------+-------------------+---------------+--------+--------+------+------+------+------+------+\n",
      "\n"
     ]
    }
   ],
   "source": [
    "# spot check for nulls\n",
    "\n",
    "df_all.select([count(when(isnan(c) | col(c).isNull(), c)).alias(c) for c in df_all.columns]).show()"
   ]
  },
  {
   "cell_type": "code",
   "execution_count": 40,
   "id": "49747791",
   "metadata": {},
   "outputs": [
    {
     "data": {
      "text/plain": [
       "DataFrame[year: bigint, cdscode: string, school_county: string, school_active_status: string, school_street: string, school_type: string, school_grades_offered: string, school_zip: string, school_open_date: string, school_closed_date: string, school_lat: string, school_lon: string, school_wind_lat: double, school_wind_lon: double, school_wind_zip: bigint, school_wind_u: double, school_wind_v: double, school_wdir: double, school_wspd: double, year_month: string, census_year: string, census_zip: string, total_population: string, total_population_male: string, total_population_female: string, population_0_4: string, population_0_4_male: string, population_0_4_female: string, population_5_9: string, population_5_9_male: string, population_5_9_female: string, population_10_14: string, population_10_14_male: string, population_10_14_female: string, population_15_19: string, population_15_19_male: string, population_15_19_female: string, total_pop_under19: string, pm25_index: string, pm25_year_month: string, pm25_zip: string, pm25: string, lookup_year: string, cdscode_closest_ps: string, point_source_lat: string, point_source_lon: string, point_source_year: int, point_source_pm25_tpy: string, point_source_zip: int, dist_school_to_ps_m: string, angle_to_school: string, ps_wind_lat: double, ps_wind_lon: double, ps_wind_zip: bigint, ps_wind_u: double, ps_wind_v: double, ps_wdir: double, ps_wspd: double]"
      ]
     },
     "execution_count": 40,
     "metadata": {},
     "output_type": "execute_result"
    }
   ],
   "source": [
    "df_all = df_all.withColumnRenamed(\"u\",\"ps_wind_u\")\\\n",
    ".withColumnRenamed(\"v\",\"ps_wind_v\")\\\n",
    ".withColumnRenamed(\"wdir\",\"ps_wdir\")\\\n",
    ".withColumnRenamed(\"wspd\",\"ps_wspd\")\\\n",
    ".withColumnRenamed(\"wind_lat\",\"ps_wind_lat\")\\\n",
    ".withColumnRenamed(\"wind_lon\",\"ps_wind_lon\")\\\n",
    ".withColumnRenamed(\"ZCTA10\",\"ps_wind_zip\")\n",
    "\n",
    "df_all.cache()\n",
    "\n",
    "# learned we can use .drop() instead of .show() to get a nice output. So stupid!\n",
    "# upon restarting kernel, does not work. so strange.\n",
    "df_all.limit(5).drop()"
   ]
  },
  {
   "cell_type": "code",
   "execution_count": 41,
   "id": "6be6f06c",
   "metadata": {},
   "outputs": [
    {
     "name": "stdout",
     "output_type": "stream",
     "text": [
      "+----+-------+-------------+--------------------+-------------+-----------+---------------------+----------+----------------+------------------+----------+----------+---------------+---------------+---------------+-------------+-------------+-----------+-----------+----------+-----------+----------+----------------+---------------------+-----------------------+--------------+-------------------+---------------------+--------------+-------------------+---------------------+----------------+---------------------+-----------------------+----------------+---------------------+-----------------------+-----------------+----------+---------------+--------+------+-----------+------------------+----------------+----------------+-----------------+---------------------+----------------+-------------------+---------------+-----------+-----------+-----------+---------+---------+-------+-------+\n",
      "|year|cdscode|school_county|school_active_status|school_street|school_type|school_grades_offered|school_zip|school_open_date|school_closed_date|school_lat|school_lon|school_wind_lat|school_wind_lon|school_wind_zip|school_wind_u|school_wind_v|school_wdir|school_wspd|year_month|census_year|census_zip|total_population|total_population_male|total_population_female|population_0_4|population_0_4_male|population_0_4_female|population_5_9|population_5_9_male|population_5_9_female|population_10_14|population_10_14_male|population_10_14_female|population_15_19|population_15_19_male|population_15_19_female|total_pop_under19|pm25_index|pm25_year_month|pm25_zip|  pm25|lookup_year|cdscode_closest_ps|point_source_lat|point_source_lon|point_source_year|point_source_pm25_tpy|point_source_zip|dist_school_to_ps_m|angle_to_school|ps_wind_lat|ps_wind_lon|ps_wind_zip|ps_wind_u|ps_wind_v|ps_wdir|ps_wspd|\n",
      "+----+-------+-------------+--------------------+-------------+-----------+---------------------+----------+----------------+------------------+----------+----------+---------------+---------------+---------------+-------------+-------------+-----------+-----------+----------+-----------+----------+----------------+---------------------+-----------------------+--------------+-------------------+---------------------+--------------+-------------------+---------------------+----------------+---------------------+-----------------------+----------------+---------------------+-----------------------+-----------------+----------+---------------+--------+------+-----------+------------------+----------------+----------------+-----------------+---------------------+----------------+-------------------+---------------+-----------+-----------+-----------+---------+---------+-------+-------+\n",
      "| 871|      0|            0|                   0|            0|          0|                    0|         0|               0|                 0|         0|         0|            871|            871|            871|          871|          871|        871|        871|       871|        871|       871|            3775|                 3775|                   3775|          3775|               3775|                 3775|          3775|               3775|                 3775|            3775|                 3775|                   3775|            3775|                 3775|                   3775|             3775|    153403|         153403|  153403|153403|        871|               871|             871|             871|              871|                  871|             871|                871|            871|     307831|     307831|     307831|   307831|   307831| 307831| 307831|\n",
      "+----+-------+-------------+--------------------+-------------+-----------+---------------------+----------+----------------+------------------+----------+----------+---------------+---------------+---------------+-------------+-------------+-----------+-----------+----------+-----------+----------+----------------+---------------------+-----------------------+--------------+-------------------+---------------------+--------------+-------------------+---------------------+----------------+---------------------+-----------------------+----------------+---------------------+-----------------------+-----------------+----------+---------------+--------+------+-----------+------------------+----------------+----------------+-----------------+---------------------+----------------+-------------------+---------------+-----------+-----------+-----------+---------+---------+-------+-------+\n",
      "\n"
     ]
    }
   ],
   "source": [
    "# spot check for nulls\n",
    "\n",
    "df_all.select([count(when(isnan(c) | col(c).isNull(), c)).alias(c) for c in df_all.columns]).show()"
   ]
  },
  {
   "cell_type": "code",
   "execution_count": 42,
   "id": "1e9d8951",
   "metadata": {},
   "outputs": [
    {
     "data": {
      "text/plain": [
       "2983111"
      ]
     },
     "execution_count": 42,
     "metadata": {},
     "output_type": "execute_result"
    }
   ],
   "source": [
    "df_all.count()"
   ]
  },
  {
   "cell_type": "code",
   "execution_count": 43,
   "id": "2872bcec",
   "metadata": {},
   "outputs": [],
   "source": [
    "# df_all.write.parquet('C:\\\\Users\\\\matts\\\\Documents\\\\Berkeley MIDS\\\\DataSci 210 Capstone\\\\non-push files\\\\joined_data_v2_10_2_22.parquet')"
   ]
  },
  {
   "cell_type": "markdown",
   "id": "8d358397",
   "metadata": {},
   "source": [
    "## Next steps: create column for pollution source wind which infers from schools\n",
    "## Then: recalculate wind dir for school and pollution source u and v\n",
    "## Lastly: compute the angle differences between school bearing and wind dirs, taking average"
   ]
  },
  {
   "cell_type": "code",
   "execution_count": 44,
   "id": "7b32ad80",
   "metadata": {},
   "outputs": [],
   "source": [
    "df_all = df_all.withColumn('ps_wind_u_merge',when(df_all.ps_wspd.isNull(),df_all.school_wind_u).otherwise(df_all.ps_wind_u))\n",
    "df_all = df_all.withColumn('ps_wind_v_merge',when(df_all.ps_wspd.isNull(),df_all.school_wind_v).otherwise(df_all.ps_wind_v))\n",
    "df_all = df_all.withColumn('ps_wdir_merge',when(df_all.ps_wspd.isNull(),df_all.school_wdir).otherwise(df_all.ps_wdir))\n",
    "df_all = df_all.withColumn('ps_wspd_merge',when(df_all.ps_wspd.isNull(),df_all.school_wspd).otherwise(df_all.ps_wspd))"
   ]
  },
  {
   "cell_type": "code",
   "execution_count": 45,
   "id": "98c5a84e",
   "metadata": {},
   "outputs": [
    {
     "name": "stdout",
     "output_type": "stream",
     "text": [
      "+----+--------------+-------------+--------------------+--------------------+-----------+---------------------+----------+----------------+------------------+----------+-----------+---------------+---------------+---------------+-------------------+--------------------+------------------+-------------------+----------+-----------+----------+----------------+---------------------+-----------------------+--------------+-------------------+---------------------+------------------+-------------------+---------------------+----------------+---------------------+-----------------------+------------------+---------------------+-----------------------+-----------------+----------+---------------+--------+---------+-----------+------------------+----------------+----------------+-----------------+---------------------+----------------+-------------------+-------------------+-----------+-----------+-----------+-------------------+--------------------+-------------------+-------------------+-------------------+--------------------+-------------------+-------------------+\n",
      "|year|       cdscode|school_county|school_active_status|       school_street|school_type|school_grades_offered|school_zip|school_open_date|school_closed_date|school_lat| school_lon|school_wind_lat|school_wind_lon|school_wind_zip|      school_wind_u|       school_wind_v|       school_wdir|        school_wspd|year_month|census_year|census_zip|total_population|total_population_male|total_population_female|population_0_4|population_0_4_male|population_0_4_female|    population_5_9|population_5_9_male|population_5_9_female|population_10_14|population_10_14_male|population_10_14_female|  population_15_19|population_15_19_male|population_15_19_female|total_pop_under19|pm25_index|pm25_year_month|pm25_zip|     pm25|lookup_year|cdscode_closest_ps|point_source_lat|point_source_lon|point_source_year|point_source_pm25_tpy|point_source_zip|dist_school_to_ps_m|    angle_to_school|ps_wind_lat|ps_wind_lon|ps_wind_zip|          ps_wind_u|           ps_wind_v|            ps_wdir|            ps_wspd|    ps_wind_u_merge|     ps_wind_v_merge|      ps_wdir_merge|      ps_wspd_merge|\n",
      "+----+--------------+-------------+--------------------+--------------------+-----------+---------------------+----------+----------------+------------------+----------+-----------+---------------+---------------+---------------+-------------------+--------------------+------------------+-------------------+----------+-----------+----------+----------------+---------------------+-----------------------+--------------+-------------------+---------------------+------------------+-------------------+---------------------+----------------+---------------------+-----------------------+------------------+---------------------+-----------------------+-----------------+----------+---------------+--------+---------+-----------+------------------+----------------+----------------+-----------------+---------------------+----------------+-------------------+-------------------+-----------+-----------+-----------+-------------------+--------------------+-------------------+-------------------+-------------------+--------------------+-------------------+-------------------+\n",
      "|2006|19647336120794|  Los Angeles|              Active|10001 Jumilla Avenue| Elementary|                  K-6|     91311|        9/3/1999|           No Data| 34.056304|-118.257394|         34.234|       -118.564|          91311|  1.169479250907898|  0.4128546118736267| 19.44426918029785| 1.2402139902114868|   2006-06|       2006|     91311|         36061.0|              17589.0|                18472.0|        1794.0|              910.0|                884.0|            1988.0|             1021.0|                967.0|          2197.0|               1136.0|                 1061.0|            2328.0|               1234.0|                 1094.0|           8307.0|    136460|        2006-06|   91311|10.545161|       2008|    19647336120794|       34.055837|     -118.243529|             2008|              7.25544|           90012| 1281.1205328518886| -87.67877061318816|     34.046|    -118.24|      90012| 0.7486752867698669|   0.539320707321167|  35.76771926879883| 0.9227033853530884| 0.7486752867698669|   0.539320707321167|  35.76771926879883| 0.9227033853530884|\n",
      "|2007|19647336120794|  Los Angeles|              Active|10001 Jumilla Avenue| Elementary|                  K-6|     91311|        9/3/1999|           No Data| 34.056304|-118.257394|         34.234|       -118.564|          91311| 1.2767947912216187|-0.18771032989025116|  351.636474609375|    1.2905193567276|   2007-04|       2007|     91311|         36185.0|              17651.0|                18534.0|        1769.0|              898.0|                871.0|            1942.0|              997.0|                945.0|          2180.0|               1124.0|                 1056.0|            2355.0|               1248.0|                 1107.0|           8246.0|    154018|        2007-04|   91311|11.264516|       2008|    19647336120794|       34.055837|     -118.243529|             2008|              7.25544|           90012| 1281.1205328518886| -87.67877061318816|     34.046|    -118.24|      90012| 0.9332471489906311|-0.01736518368124962|  358.9339904785156| 0.9334086775779724| 0.9332471489906311|-0.01736518368124962|  358.9339904785156| 0.9334086775779724|\n",
      "|2015|19647330127217|  Los Angeles|              Closed| 461 West 9th Street|High School|                 9-12|     90731|        8/4/2014|         6/30/2021| 34.033078|-118.272071|         33.697|       -118.298|          90731| 1.0174813270568848|-0.08045731484889984|  355.478759765625| 1.0206575393676758|   2015-02|       2015|     90731|         62028.0|              31759.0|                30269.0|      4155.876|           2254.889|             1876.678|3907.7639999999997|            1905.54|   2028.0230000000001|        4093.848|             2191.371|               1876.678|4466.0160000000005|             2381.925|                2118.83|        16623.504|    319137|        2015-02|   90731|17.006666|       2017|    19647330127217|        34.03749|      -118.26614|             2017|           1.01676088|           90015|  734.4987541314479|-131.78004231712904|     34.029|   -118.257|      90015|0.10566005855798721| -0.1562534123659134| 304.06695556640625|0.18862444162368774|0.10566005855798721| -0.1562534123659134| 304.06695556640625|0.18862444162368774|\n",
      "|2010|19647336018709|  Los Angeles|              Active|  7751 Paseo del Rey| Elementary|                  K-5|     90293|        7/1/1960|           No Data| 33.956961|-118.434031|         33.943|       -118.452|          90293| 1.4658182859420776| -0.3226795196533203|347.58514404296875| 1.5009148120880127|   2010-05|       2010|     90293|         12132.0|               5890.0|                 6242.0|         488.0|              260.0|                228.0|             285.0|              123.0|                162.0|           250.0|                126.0|                  124.0|             228.0|                125.0|                  103.0|           1251.0|    218872|        2010-05|   90293|   10.625|       2011|    19647336018709|       33.942699|     -118.413205|             2011|           1.47345999|           90045| 2491.7368548584177| -50.58285473619526|     33.924|   -118.374|      90045| 1.0824803113937378| 0.10196185857057571| 5.3809733390808105|  1.087271809577942| 1.0824803113937378| 0.10196185857057571| 5.3809733390808105|  1.087271809577942|\n",
      "|2018|19647336016778|  Los Angeles|              Active|4220 Dixie Canyon...| Elementary|                  K-5|     91423|        7/1/1947|           No Data|  34.14798|-118.423943|         34.132|       -118.415|          91423|0.18857772648334503|  0.0801248550415039| 23.02016830444336|0.20489400625228882|   2018-10|       2018|     91423|         33737.0|              15966.0|                17771.0|        1933.0|              961.0|                972.0|            1196.0|              749.0|                447.0|          1351.0|                719.0|                  632.0|            1398.0|                642.0|                  756.0|           5878.0|    396034|        2018-10|   91423|12.883333|       2017|    19647336016778|        34.12499|      -118.47917|             2017|                 1.16|           90049|   5696.64421186388|  63.39082634234663|     34.041|   -118.484|      90049| 0.4264926314353943|0.003181311301887...|0.42737507820129395| 0.4265044927597046| 0.4264926314353943|0.003181311301887...|0.42737507820129395| 0.4265044927597046|\n",
      "|2019|19647336016778|  Los Angeles|              Active|4220 Dixie Canyon...| Elementary|                  K-5|     91423|        7/1/1947|           No Data|  34.14798|-118.423943|         34.132|       -118.415|          91423| 0.5374557375907898|  0.8021285533905029| 56.17645263671875| 0.9655407071113586|   2019-08|       2019|     91423|         33172.0|              15936.0|                17236.0|        2060.0|             1030.0|               1030.0|            1228.0|              790.0|                438.0|          1353.0|                686.0|                  667.0|            1204.0|                535.0|                  669.0|           5845.0|      null|           null|    null|     null|       2017|    19647336016778|        34.12499|      -118.47917|             2017|                 1.16|           90049|   5696.64421186388|  63.39082634234663|     34.041|   -118.484|      90049| 0.9311808347702026|  0.8267935514450073|    41.601806640625| 1.2452651262283325| 0.9311808347702026|  0.8267935514450073|    41.601806640625| 1.2452651262283325|\n",
      "|2014|19647336018618|  Los Angeles|              Active|  10650 Ashby Avenue| Elementary|                  K-5|     90064|        7/1/1931|           No Data| 34.038077| -118.42068|         34.017|       -118.444|          90064|  1.208005428314209|  1.1692465543746948| 44.06592559814453| 1.6811944246292114|   2014-06|       2014|     90064|         25788.0|              12462.0|                13326.0|      1495.704|             747.72|    746.2559999999999|1702.0079999999998|  710.3340000000001|               999.45|        1366.764|              797.568|      573.0179999999999|            902.58|   448.63200000000006|                453.084|         5467.056|    304907|        2014-06|   90064|     18.8|       2014|    19647336018618|        34.05931|      -118.41247|             2014|          3.448960625|           90067|  2474.218981997968| -162.1566201839572|     34.054|   -118.407|      90067| 0.9374694228172302|  0.9941596388816833|  46.68105697631836|  1.366456151008606| 0.9374694228172302|  0.9941596388816833|  46.68105697631836|  1.366456151008606|\n",
      "|2014|19647336019939|  Los Angeles|              Active|   2050 Selby Avenue| Elementary|                  K-5|     90025|        7/1/1924|           No Data| 34.047836|-118.430409|         34.033|       -118.461|          90025|  1.208005428314209|  1.1692465543746948| 44.06592559814453| 1.6811944246292114|   2014-06|       2014|     90025|         45284.0|              22869.0|                22415.0|      2083.064|            891.891|             1187.995|          1539.656|            754.677|              784.525|         996.248|              480.249|                515.545|           950.964|              525.987|                425.885|         5569.932|    304968|        2014-06|   90025|     18.4|       2014|    19647336019939|        34.05931|      -118.41247|             2014|          3.448960625|           90067| 2088.7833312824537|-127.53522755048178|     34.054|   -118.407|      90067| 0.9374694228172302|  0.9941596388816833|  46.68105697631836|  1.366456151008606| 0.9374694228172302|  0.9941596388816833|  46.68105697631836|  1.366456151008606|\n",
      "|2008|54722316105381|       Tulare|              Active|1870 South Laspin...| Elementary|                  K-6|     93274|        7/1/1980|           No Data| 36.188047|-119.323836|          36.24|       -119.261|          93274| 1.6214404106140137| -0.6386092305183411| 338.5028381347656| 1.7426676750183105|   2008-07|       2008|     93274|         66996.0|              33146.0|                33850.0|        6246.0|             3172.0|               3074.0|            6380.0|             3222.0|               3158.0|          6164.0|               3155.0|                 3009.0|            5939.0|               2985.0|                 2954.0|          24729.0|    180434|        2008-07|   93274|20.390476|       2008|    54722316105381|         36.1822|       -119.3409|             2008|           6.74162391|           90280| 1666.4355061220147|  67.08199611822482|      33.91|    -118.16|      90280| 0.6448423862457275|  1.0323634147644043|  58.00996780395508| 1.2172082662582397| 0.6448423862457275|  1.0323634147644043|  58.00996780395508| 1.2172082662582397|\n",
      "|2008|54722490107649|       Tulare|              Active|1084 South Pratt ...|High School|                 9-12|     93274|       8/11/2004|           No Data| 36.192818|-119.355638|          36.24|       -119.261|          93274| 1.6214404106140137| -0.6386092305183411| 338.5028381347656| 1.7426676750183105|   2008-07|       2008|     93274|         66996.0|              33146.0|                33850.0|        6246.0|             3172.0|               3074.0|            6380.0|             3222.0|               3158.0|          6164.0|               3155.0|                 3009.0|            5939.0|               2985.0|                 2954.0|          24729.0|    180434|        2008-07|   93274|20.390476|       2008|    54722490107649|         36.1822|       -119.3409|             2008|           6.74162391|           90280| 1773.5784988796247| -48.36651018803622|      33.91|    -118.16|      90280| 0.6448423862457275|  1.0323634147644043|  58.00996780395508| 1.2172082662582397| 0.6448423862457275|  1.0323634147644043|  58.00996780395508| 1.2172082662582397|\n",
      "+----+--------------+-------------+--------------------+--------------------+-----------+---------------------+----------+----------------+------------------+----------+-----------+---------------+---------------+---------------+-------------------+--------------------+------------------+-------------------+----------+-----------+----------+----------------+---------------------+-----------------------+--------------+-------------------+---------------------+------------------+-------------------+---------------------+----------------+---------------------+-----------------------+------------------+---------------------+-----------------------+-----------------+----------+---------------+--------+---------+-----------+------------------+----------------+----------------+-----------------+---------------------+----------------+-------------------+-------------------+-----------+-----------+-----------+-------------------+--------------------+-------------------+-------------------+-------------------+--------------------+-------------------+-------------------+\n",
      "\n"
     ]
    }
   ],
   "source": [
    "df_all.filter(df_all.ps_wspd.isNotNull()).filter(df_all.ps_wspd != df_all.school_wspd).limit(10).show()"
   ]
  },
  {
   "cell_type": "code",
   "execution_count": 46,
   "id": "e0dee90c",
   "metadata": {},
   "outputs": [
    {
     "data": {
      "text/html": [
       "<style>pre { white-space: pre !important; }</style>"
      ],
      "text/plain": [
       "<IPython.core.display.HTML object>"
      ]
     },
     "metadata": {},
     "output_type": "display_data"
    },
    {
     "name": "stdout",
     "output_type": "stream",
     "text": [
      "+----+-------+-------------+--------------------+-------------+-----------+---------------------+----------+----------------+------------------+----------+----------+---------------+---------------+---------------+-------------+-------------+-----------+-----------+----------+-----------+----------+----------------+---------------------+-----------------------+--------------+-------------------+---------------------+--------------+-------------------+---------------------+----------------+---------------------+-----------------------+----------------+---------------------+-----------------------+-----------------+----------+---------------+--------+------+-----------+------------------+----------------+----------------+-----------------+---------------------+----------------+-------------------+---------------+-----------+-----------+-----------+---------+---------+-------+-------+---------------+---------------+-------------+-------------+\n",
      "|year|cdscode|school_county|school_active_status|school_street|school_type|school_grades_offered|school_zip|school_open_date|school_closed_date|school_lat|school_lon|school_wind_lat|school_wind_lon|school_wind_zip|school_wind_u|school_wind_v|school_wdir|school_wspd|year_month|census_year|census_zip|total_population|total_population_male|total_population_female|population_0_4|population_0_4_male|population_0_4_female|population_5_9|population_5_9_male|population_5_9_female|population_10_14|population_10_14_male|population_10_14_female|population_15_19|population_15_19_male|population_15_19_female|total_pop_under19|pm25_index|pm25_year_month|pm25_zip|  pm25|lookup_year|cdscode_closest_ps|point_source_lat|point_source_lon|point_source_year|point_source_pm25_tpy|point_source_zip|dist_school_to_ps_m|angle_to_school|ps_wind_lat|ps_wind_lon|ps_wind_zip|ps_wind_u|ps_wind_v|ps_wdir|ps_wspd|ps_wind_u_merge|ps_wind_v_merge|ps_wdir_merge|ps_wspd_merge|\n",
      "+----+-------+-------------+--------------------+-------------+-----------+---------------------+----------+----------------+------------------+----------+----------+---------------+---------------+---------------+-------------+-------------+-----------+-----------+----------+-----------+----------+----------------+---------------------+-----------------------+--------------+-------------------+---------------------+--------------+-------------------+---------------------+----------------+---------------------+-----------------------+----------------+---------------------+-----------------------+-----------------+----------+---------------+--------+------+-----------+------------------+----------------+----------------+-----------------+---------------------+----------------+-------------------+---------------+-----------+-----------+-----------+---------+---------+-------+-------+---------------+---------------+-------------+-------------+\n",
      "| 871|      0|            0|                   0|            0|          0|                    0|         0|               0|                 0|         0|         0|            871|            871|            871|          871|          871|        871|        871|       871|        871|       871|            3775|                 3775|                   3775|          3775|               3775|                 3775|          3775|               3775|                 3775|            3775|                 3775|                   3775|            3775|                 3775|                   3775|             3775|    153403|         153403|  153403|153403|        871|               871|             871|             871|              871|                  871|             871|                871|            871|     307831|     307831|     307831|   307831|   307831| 307831| 307831|            871|            871|          871|          871|\n",
      "+----+-------+-------------+--------------------+-------------+-----------+---------------------+----------+----------------+------------------+----------+----------+---------------+---------------+---------------+-------------+-------------+-----------+-----------+----------+-----------+----------+----------------+---------------------+-----------------------+--------------+-------------------+---------------------+--------------+-------------------+---------------------+----------------+---------------------+-----------------------+----------------+---------------------+-----------------------+-----------------+----------+---------------+--------+------+-----------+------------------+----------------+----------------+-----------------+---------------------+----------------+-------------------+---------------+-----------+-----------+-----------+---------+---------+-------+-------+---------------+---------------+-------------+-------------+\n",
      "\n"
     ]
    }
   ],
   "source": [
    "# spot check for nulls\n",
    "\n",
    "from IPython.core.display import HTML\n",
    "display(HTML(\"<style>pre { white-space: pre !important; }</style>\"))\n",
    "\n",
    "df_all.select([count(when(isnan(c) | col(c).isNull(), c)).alias(c) for c in df_all.columns]).show()"
   ]
  },
  {
   "cell_type": "code",
   "execution_count": 47,
   "id": "54cbb333",
   "metadata": {},
   "outputs": [],
   "source": [
    "def convert_u_v_wdir(u, v):\n",
    "    \"\"\"convert wind speed in u (+east) and v (+north) to a bearing from (-180, 180] with 0 degrees being due north. \n",
    "\n",
    "    Args:\n",
    "        u (float): windspeed arrow going towards east\n",
    "        v (float): windspeed arrow going towards north\n",
    "\n",
    "    Returns:\n",
    "        float: wdir in degrees measured from (-180, 180], compatible with azimuth/bearing from pyproj.geod.inv\n",
    "    \"\"\"\n",
    "    \n",
    "    if not u or not v:\n",
    "        return None\n",
    "\n",
    "    angle_rad = atan2(u, v)\n",
    "    angle_deg = 180*angle_rad/pi\n",
    "\n",
    "    return angle_deg"
   ]
  },
  {
   "cell_type": "code",
   "execution_count": 48,
   "id": "dca28f09",
   "metadata": {},
   "outputs": [],
   "source": [
    "udf_convert_u_v_wdir = F.udf(convert_u_v_wdir)"
   ]
  },
  {
   "cell_type": "code",
   "execution_count": 47,
   "id": "e51bf08c",
   "metadata": {},
   "outputs": [],
   "source": [
    "# original udf run for school wdir\n",
    "\n",
    "# df_all = df_all.withColumn('school_wdir_wrt_0N',\\\n",
    "#                                      udf_convert_u_v_wdir(df_all.school_wind_u, df_all_test.school_wind_v).cast('double'))"
   ]
  },
  {
   "cell_type": "code",
   "execution_count": 49,
   "id": "bf50f90a",
   "metadata": {},
   "outputs": [],
   "source": [
    "# original udf for point source wdir\n",
    "\n",
    "# df_all = df_all.withColumn('ps_wdir_wrt_0N',\\\n",
    "#                                      udf_convert_u_v_wdir(df_all.ps_wind_u_merge, df_all.ps_wind_v_merge).cast('double'))"
   ]
  },
  {
   "cell_type": "code",
   "execution_count": 52,
   "id": "70fc72cc",
   "metadata": {},
   "outputs": [],
   "source": [
    "# try to compute wind bearing wrt 0N using built-in Pyspark\n",
    "\n",
    "df_all = df_all.withColumn('school_wdir_wrt_0N',(180*F.atan2(df_all.school_wind_u, df_all.school_wind_v)/(3.141592653589793238462)).cast('double'))"
   ]
  },
  {
   "cell_type": "code",
   "execution_count": 53,
   "id": "7893b892",
   "metadata": {},
   "outputs": [
    {
     "name": "stdout",
     "output_type": "stream",
     "text": [
      "+----+-------+-------------+--------------------+-------------+-----------+---------------------+----------+----------------+------------------+----------+----------+---------------+---------------+---------------+-------------+-------------+-----------+-----------+----------+-----------+----------+----------------+---------------------+-----------------------+--------------+-------------------+---------------------+--------------+-------------------+---------------------+----------------+---------------------+-----------------------+----------------+---------------------+-----------------------+-----------------+----------+---------------+--------+------+-----------+------------------+----------------+----------------+-----------------+---------------------+----------------+-------------------+---------------+-----------+-----------+-----------+---------+---------+-------+-------+---------------+---------------+-------------+-------------+------------------+\n",
      "|year|cdscode|school_county|school_active_status|school_street|school_type|school_grades_offered|school_zip|school_open_date|school_closed_date|school_lat|school_lon|school_wind_lat|school_wind_lon|school_wind_zip|school_wind_u|school_wind_v|school_wdir|school_wspd|year_month|census_year|census_zip|total_population|total_population_male|total_population_female|population_0_4|population_0_4_male|population_0_4_female|population_5_9|population_5_9_male|population_5_9_female|population_10_14|population_10_14_male|population_10_14_female|population_15_19|population_15_19_male|population_15_19_female|total_pop_under19|pm25_index|pm25_year_month|pm25_zip|  pm25|lookup_year|cdscode_closest_ps|point_source_lat|point_source_lon|point_source_year|point_source_pm25_tpy|point_source_zip|dist_school_to_ps_m|angle_to_school|ps_wind_lat|ps_wind_lon|ps_wind_zip|ps_wind_u|ps_wind_v|ps_wdir|ps_wspd|ps_wind_u_merge|ps_wind_v_merge|ps_wdir_merge|ps_wspd_merge|school_wdir_wrt_0N|\n",
      "+----+-------+-------------+--------------------+-------------+-----------+---------------------+----------+----------------+------------------+----------+----------+---------------+---------------+---------------+-------------+-------------+-----------+-----------+----------+-----------+----------+----------------+---------------------+-----------------------+--------------+-------------------+---------------------+--------------+-------------------+---------------------+----------------+---------------------+-----------------------+----------------+---------------------+-----------------------+-----------------+----------+---------------+--------+------+-----------+------------------+----------------+----------------+-----------------+---------------------+----------------+-------------------+---------------+-----------+-----------+-----------+---------+---------+-------+-------+---------------+---------------+-------------+-------------+------------------+\n",
      "| 871|      0|            0|                   0|            0|          0|                    0|         0|               0|                 0|         0|         0|            871|            871|            871|          871|          871|        871|        871|       871|        871|       871|            3775|                 3775|                   3775|          3775|               3775|                 3775|          3775|               3775|                 3775|            3775|                 3775|                   3775|            3775|                 3775|                   3775|             3775|    153403|         153403|  153403|153403|        871|               871|             871|             871|              871|                  871|             871|                871|            871|     307831|     307831|     307831|   307831|   307831| 307831| 307831|            871|            871|          871|          871|               871|\n",
      "+----+-------+-------------+--------------------+-------------+-----------+---------------------+----------+----------------+------------------+----------+----------+---------------+---------------+---------------+-------------+-------------+-----------+-----------+----------+-----------+----------+----------------+---------------------+-----------------------+--------------+-------------------+---------------------+--------------+-------------------+---------------------+----------------+---------------------+-----------------------+----------------+---------------------+-----------------------+-----------------+----------+---------------+--------+------+-----------+------------------+----------------+----------------+-----------------+---------------------+----------------+-------------------+---------------+-----------+-----------+-----------+---------+---------+-------+-------+---------------+---------------+-------------+-------------+------------------+\n",
      "\n"
     ]
    }
   ],
   "source": [
    "# spot check for nulls\n",
    "\n",
    "df_all.select([count(when(isnan(c) | col(c).isNull(), c)).alias(c) for c in df_all.columns]).show()"
   ]
  },
  {
   "cell_type": "code",
   "execution_count": 54,
   "id": "9f99324e",
   "metadata": {},
   "outputs": [],
   "source": [
    "# try to compute wind bearing wrt 0N using built-in Pyspark\n",
    "\n",
    "df_all = df_all.withColumn('ps_wdir_wrt_0N',(180*F.atan2(df_all.ps_wind_u_merge, df_all.ps_wind_v_merge)/(3.141592653589793238462)).cast('double'))"
   ]
  },
  {
   "cell_type": "code",
   "execution_count": 55,
   "id": "d70d319e",
   "metadata": {},
   "outputs": [
    {
     "name": "stdout",
     "output_type": "stream",
     "text": [
      "+----+-------+-------------+--------------------+-------------+-----------+---------------------+----------+----------------+------------------+----------+----------+---------------+---------------+---------------+-------------+-------------+-----------+-----------+----------+-----------+----------+----------------+---------------------+-----------------------+--------------+-------------------+---------------------+--------------+-------------------+---------------------+----------------+---------------------+-----------------------+----------------+---------------------+-----------------------+-----------------+----------+---------------+--------+------+-----------+------------------+----------------+----------------+-----------------+---------------------+----------------+-------------------+---------------+-----------+-----------+-----------+---------+---------+-------+-------+---------------+---------------+-------------+-------------+------------------+--------------+\n",
      "|year|cdscode|school_county|school_active_status|school_street|school_type|school_grades_offered|school_zip|school_open_date|school_closed_date|school_lat|school_lon|school_wind_lat|school_wind_lon|school_wind_zip|school_wind_u|school_wind_v|school_wdir|school_wspd|year_month|census_year|census_zip|total_population|total_population_male|total_population_female|population_0_4|population_0_4_male|population_0_4_female|population_5_9|population_5_9_male|population_5_9_female|population_10_14|population_10_14_male|population_10_14_female|population_15_19|population_15_19_male|population_15_19_female|total_pop_under19|pm25_index|pm25_year_month|pm25_zip|  pm25|lookup_year|cdscode_closest_ps|point_source_lat|point_source_lon|point_source_year|point_source_pm25_tpy|point_source_zip|dist_school_to_ps_m|angle_to_school|ps_wind_lat|ps_wind_lon|ps_wind_zip|ps_wind_u|ps_wind_v|ps_wdir|ps_wspd|ps_wind_u_merge|ps_wind_v_merge|ps_wdir_merge|ps_wspd_merge|school_wdir_wrt_0N|ps_wdir_wrt_0N|\n",
      "+----+-------+-------------+--------------------+-------------+-----------+---------------------+----------+----------------+------------------+----------+----------+---------------+---------------+---------------+-------------+-------------+-----------+-----------+----------+-----------+----------+----------------+---------------------+-----------------------+--------------+-------------------+---------------------+--------------+-------------------+---------------------+----------------+---------------------+-----------------------+----------------+---------------------+-----------------------+-----------------+----------+---------------+--------+------+-----------+------------------+----------------+----------------+-----------------+---------------------+----------------+-------------------+---------------+-----------+-----------+-----------+---------+---------+-------+-------+---------------+---------------+-------------+-------------+------------------+--------------+\n",
      "| 871|      0|            0|                   0|            0|          0|                    0|         0|               0|                 0|         0|         0|            871|            871|            871|          871|          871|        871|        871|       871|        871|       871|            3775|                 3775|                   3775|          3775|               3775|                 3775|          3775|               3775|                 3775|            3775|                 3775|                   3775|            3775|                 3775|                   3775|             3775|    153403|         153403|  153403|153403|        871|               871|             871|             871|              871|                  871|             871|                871|            871|     307831|     307831|     307831|   307831|   307831| 307831| 307831|            871|            871|          871|          871|               871|           871|\n",
      "+----+-------+-------------+--------------------+-------------+-----------+---------------------+----------+----------------+------------------+----------+----------+---------------+---------------+---------------+-------------+-------------+-----------+-----------+----------+-----------+----------+----------------+---------------------+-----------------------+--------------+-------------------+---------------------+--------------+-------------------+---------------------+----------------+---------------------+-----------------------+----------------+---------------------+-----------------------+-----------------+----------+---------------+--------+------+-----------+------------------+----------------+----------------+-----------------+---------------------+----------------+-------------------+---------------+-----------+-----------+-----------+---------+---------+-------+-------+---------------+---------------+-------------+-------------+------------------+--------------+\n",
      "\n"
     ]
    }
   ],
   "source": [
    "# spot check for nulls\n",
    "\n",
    "df_all.select([count(when(isnan(c) | col(c).isNull(), c)).alias(c) for c in df_all.columns]).show()"
   ]
  },
  {
   "cell_type": "code",
   "execution_count": null,
   "id": "23d389c8",
   "metadata": {},
   "outputs": [],
   "source": []
  },
  {
   "cell_type": "code",
   "execution_count": 59,
   "id": "cdba0779",
   "metadata": {},
   "outputs": [
    {
     "name": "stdout",
     "output_type": "stream",
     "text": [
      "+------------------+------------------+-------------------+------------------+-------------------+--------------------+-------------------+--------------------+\n",
      "|       school_wdir|school_wdir_wrt_0N|            ps_wdir|    ps_wdir_wrt_0N|      school_wind_u|       school_wind_v|          ps_wind_u|           ps_wind_v|\n",
      "+------------------+------------------+-------------------+------------------+-------------------+--------------------+-------------------+--------------------+\n",
      "| 19.44426918029785| 70.55572942519163|  35.76771926879883|54.232279912986044|  1.169479250907898|  0.4128546118736267| 0.7486752867698669|   0.539320707321167|\n",
      "|  351.636474609375| 98.36353130324896|  358.9339904785156| 91.06599514689991| 1.2767947912216187|-0.18771032989025116| 0.9332471489906311|-0.01736518368124962|\n",
      "|  355.478759765625|  94.5212546601001| 304.06695556640625|145.93306460632525| 1.0174813270568848|-0.08045731484889984|0.10566005855798721| -0.1562534123659134|\n",
      "|347.58514404296875|102.41485623149009| 5.3809733390808105| 84.61902609100291| 1.4658182859420776| -0.3226795196533203| 1.0824803113937378| 0.10196185857057571|\n",
      "| 23.02016830444336|  66.9798298206336|0.42737507820129395| 89.57262490141693|0.18857772648334503|  0.0801248550415039| 0.4264926314353943|0.003181311301887...|\n",
      "| 56.17645263671875| 33.82354478633042|    41.601806640625| 48.39819296378659| 0.5374557375907898|  0.8021285533905029| 0.9311808347702026|  0.8267935514450073|\n",
      "| 44.06592559814453| 45.93407142804621|  46.68105697631836| 43.31894326759792|  1.208005428314209|  1.1692465543746948| 0.9374694228172302|  0.9941596388816833|\n",
      "| 44.06592559814453| 45.93407142804621|  46.68105697631836| 43.31894326759792|  1.208005428314209|  1.1692465543746948| 0.9374694228172302|  0.9941596388816833|\n",
      "| 338.5028381347656|111.49715102494353|  58.00996780395508|31.990025405354398| 1.6214404106140137| -0.6386092305183411| 0.6448423862457275|  1.0323634147644043|\n",
      "| 338.5028381347656|111.49715102494353|  58.00996780395508|31.990025405354398| 1.6214404106140137| -0.6386092305183411| 0.6448423862457275|  1.0323634147644043|\n",
      "+------------------+------------------+-------------------+------------------+-------------------+--------------------+-------------------+--------------------+\n",
      "\n"
     ]
    }
   ],
   "source": [
    "test_cols = ['school_wdir','school_wdir_wrt_0N',\\\n",
    "             'ps_wdir','ps_wdir_wrt_0N',\\\n",
    "             'school_wind_u','school_wind_v','ps_wind_u','ps_wind_v']\n",
    "\n",
    "df_all.select(test_cols).filter(df_all.ps_wind_u.isNotNull()).filter(df_all.school_wdir_wrt_0N != df_all.ps_wdir_wrt_0N).limit(10).show()"
   ]
  },
  {
   "cell_type": "code",
   "execution_count": 53,
   "id": "0eec6c0c",
   "metadata": {},
   "outputs": [
    {
     "data": {
      "text/plain": [
       "DataFrame[school_wdir: double, school_wdir_wrt_0N: double, ps_wdir: double, ps_wdir_wrt_0N: double, school_wind_u: double, school_wind_v: double, ps_wind_u: double, ps_wind_v: double]"
      ]
     },
     "execution_count": 53,
     "metadata": {},
     "output_type": "execute_result"
    }
   ],
   "source": [
    "df_all.select(test_cols).filter(df_all.ps_wdir.isNotNull()).filter(df_all.ps_wind_u != df_all.school_wind_u).limit(10).show()"
   ]
  },
  {
   "cell_type": "code",
   "execution_count": 60,
   "id": "a2bb5c5e",
   "metadata": {},
   "outputs": [
    {
     "name": "stdout",
     "output_type": "stream",
     "text": [
      "+----+-------+-------------+--------------------+-------------+-----------+---------------------+----------+----------------+------------------+----------+----------+---------------+---------------+---------------+-------------+-------------+-----------+-----------+----------+-----------+----------+----------------+---------------------+-----------------------+--------------+-------------------+---------------------+--------------+-------------------+---------------------+----------------+---------------------+-----------------------+----------------+---------------------+-----------------------+-----------------+----------+---------------+--------+------+-----------+------------------+----------------+----------------+-----------------+---------------------+----------------+-------------------+---------------+-----------+-----------+-----------+---------+---------+-------+-------+---------------+---------------+-------------+-------------+------------------+--------------+\n",
      "|year|cdscode|school_county|school_active_status|school_street|school_type|school_grades_offered|school_zip|school_open_date|school_closed_date|school_lat|school_lon|school_wind_lat|school_wind_lon|school_wind_zip|school_wind_u|school_wind_v|school_wdir|school_wspd|year_month|census_year|census_zip|total_population|total_population_male|total_population_female|population_0_4|population_0_4_male|population_0_4_female|population_5_9|population_5_9_male|population_5_9_female|population_10_14|population_10_14_male|population_10_14_female|population_15_19|population_15_19_male|population_15_19_female|total_pop_under19|pm25_index|pm25_year_month|pm25_zip|  pm25|lookup_year|cdscode_closest_ps|point_source_lat|point_source_lon|point_source_year|point_source_pm25_tpy|point_source_zip|dist_school_to_ps_m|angle_to_school|ps_wind_lat|ps_wind_lon|ps_wind_zip|ps_wind_u|ps_wind_v|ps_wdir|ps_wspd|ps_wind_u_merge|ps_wind_v_merge|ps_wdir_merge|ps_wspd_merge|school_wdir_wrt_0N|ps_wdir_wrt_0N|\n",
      "+----+-------+-------------+--------------------+-------------+-----------+---------------------+----------+----------------+------------------+----------+----------+---------------+---------------+---------------+-------------+-------------+-----------+-----------+----------+-----------+----------+----------------+---------------------+-----------------------+--------------+-------------------+---------------------+--------------+-------------------+---------------------+----------------+---------------------+-----------------------+----------------+---------------------+-----------------------+-----------------+----------+---------------+--------+------+-----------+------------------+----------------+----------------+-----------------+---------------------+----------------+-------------------+---------------+-----------+-----------+-----------+---------+---------+-------+-------+---------------+---------------+-------------+-------------+------------------+--------------+\n",
      "| 871|      0|            0|                   0|            0|          0|                    0|         0|               0|                 0|         0|         0|            871|            871|            871|          871|          871|        871|        871|       871|        871|       871|            3775|                 3775|                   3775|          3775|               3775|                 3775|          3775|               3775|                 3775|            3775|                 3775|                   3775|            3775|                 3775|                   3775|             3775|    153403|         153403|  153403|153403|        871|               871|             871|             871|              871|                  871|             871|                871|            871|     307831|     307831|     307831|   307831|   307831| 307831| 307831|            871|            871|          871|          871|               871|           871|\n",
      "+----+-------+-------------+--------------------+-------------+-----------+---------------------+----------+----------------+------------------+----------+----------+---------------+---------------+---------------+-------------+-------------+-----------+-----------+----------+-----------+----------+----------------+---------------------+-----------------------+--------------+-------------------+---------------------+--------------+-------------------+---------------------+----------------+---------------------+-----------------------+----------------+---------------------+-----------------------+-----------------+----------+---------------+--------+------+-----------+------------------+----------------+----------------+-----------------+---------------------+----------------+-------------------+---------------+-----------+-----------+-----------+---------+---------+-------+-------+---------------+---------------+-------------+-------------+------------------+--------------+\n",
      "\n"
     ]
    }
   ],
   "source": [
    "# spot check for nulls\n",
    "\n",
    "df_all.select([count(when(isnan(c) | col(c).isNull(), c)).alias(c) for c in df_all.columns]).show()"
   ]
  },
  {
   "cell_type": "code",
   "execution_count": 54,
   "id": "12639c07",
   "metadata": {},
   "outputs": [],
   "source": [
    "def abs_of_diff(angle1, angle2):\n",
    "    if not angle1 or not angle2:\n",
    "        return None\n",
    "    else:\n",
    "        return abs(angle1 - angle2)"
   ]
  },
  {
   "cell_type": "code",
   "execution_count": 55,
   "id": "29286b06",
   "metadata": {},
   "outputs": [],
   "source": [
    "udf_abs_of_diff = F.udf(abs_of_diff)"
   ]
  },
  {
   "cell_type": "code",
   "execution_count": 56,
   "id": "856d301b",
   "metadata": {},
   "outputs": [],
   "source": [
    "def null_safe_avg(n1, n2):\n",
    "    if not n1 or not n2:\n",
    "        return None\n",
    "    else:\n",
    "        return (n1 + n2)/2"
   ]
  },
  {
   "cell_type": "code",
   "execution_count": 57,
   "id": "11928475",
   "metadata": {},
   "outputs": [],
   "source": [
    "udf_null_safe_avg = F.udf(null_safe_avg)"
   ]
  },
  {
   "cell_type": "code",
   "execution_count": 58,
   "id": "2a79881c",
   "metadata": {},
   "outputs": [],
   "source": [
    "# previously used UDFs to compute--converted to native, which run much faster and handle nulls better\n",
    "\n",
    "# df_all_test = df_all_test.withColumn(\"school_wind_alignment\",udf_abs_of_diff(df_all_test.school_wdir_wrt_0N, df_all_test.angle_to_school).cast('double'))\n",
    "\n",
    "# df_all_test = df_all_test.withColumn(\"ps_wind_alignment\",udf_abs_of_diff(df_all_test.ps_wdir_wrt_0N, df_all_test.angle_to_school).cast('double'))\n",
    "\n",
    "# df_all_test = df_all_test.withColumn(\"avg_wind_alignment\",udf_null_safe_avg(df_all_test.ps_wind_alignment, df_all_test.school_wind_alignment).cast('double'))"
   ]
  },
  {
   "cell_type": "markdown",
   "id": "817aa88f",
   "metadata": {},
   "source": [
    "https://gamedev.stackexchange.com/questions/4467/comparing-angles-and-working-out-the-difference"
   ]
  },
  {
   "cell_type": "code",
   "execution_count": 61,
   "id": "de7b0737",
   "metadata": {},
   "outputs": [],
   "source": [
    "df_all = df_all.withColumn(\"school_wind_alignment\",180 - abs(abs(df_all.school_wdir_wrt_0N - df_all.angle_to_school) - 180).cast('double'))\n",
    "\n",
    "df_all = df_all.withColumn(\"ps_wind_alignment\",180 - abs(abs(df_all.ps_wdir_wrt_0N - df_all.angle_to_school) - 180).cast('double'))\n",
    "\n",
    "df_all = df_all.withColumn(\"avg_wind_alignment\",((df_all.ps_wind_alignment + df_all.school_wind_alignment)/2).cast('double'))"
   ]
  },
  {
   "cell_type": "code",
   "execution_count": 62,
   "id": "9eb95106",
   "metadata": {},
   "outputs": [
    {
     "name": "stdout",
     "output_type": "stream",
     "text": [
      "root\n",
      " |-- year: long (nullable = true)\n",
      " |-- cdscode: string (nullable = true)\n",
      " |-- school_county: string (nullable = true)\n",
      " |-- school_active_status: string (nullable = true)\n",
      " |-- school_street: string (nullable = true)\n",
      " |-- school_type: string (nullable = true)\n",
      " |-- school_grades_offered: string (nullable = true)\n",
      " |-- school_zip: string (nullable = true)\n",
      " |-- school_open_date: string (nullable = true)\n",
      " |-- school_closed_date: string (nullable = true)\n",
      " |-- school_lat: string (nullable = true)\n",
      " |-- school_lon: string (nullable = true)\n",
      " |-- school_wind_lat: double (nullable = true)\n",
      " |-- school_wind_lon: double (nullable = true)\n",
      " |-- school_wind_zip: long (nullable = true)\n",
      " |-- school_wind_u: double (nullable = true)\n",
      " |-- school_wind_v: double (nullable = true)\n",
      " |-- school_wdir: double (nullable = true)\n",
      " |-- school_wspd: double (nullable = true)\n",
      " |-- year_month: string (nullable = true)\n",
      " |-- census_year: string (nullable = true)\n",
      " |-- census_zip: string (nullable = true)\n",
      " |-- total_population: string (nullable = true)\n",
      " |-- total_population_male: string (nullable = true)\n",
      " |-- total_population_female: string (nullable = true)\n",
      " |-- population_0_4: string (nullable = true)\n",
      " |-- population_0_4_male: string (nullable = true)\n",
      " |-- population_0_4_female: string (nullable = true)\n",
      " |-- population_5_9: string (nullable = true)\n",
      " |-- population_5_9_male: string (nullable = true)\n",
      " |-- population_5_9_female: string (nullable = true)\n",
      " |-- population_10_14: string (nullable = true)\n",
      " |-- population_10_14_male: string (nullable = true)\n",
      " |-- population_10_14_female: string (nullable = true)\n",
      " |-- population_15_19: string (nullable = true)\n",
      " |-- population_15_19_male: string (nullable = true)\n",
      " |-- population_15_19_female: string (nullable = true)\n",
      " |-- total_pop_under19: string (nullable = true)\n",
      " |-- pm25_index: string (nullable = true)\n",
      " |-- pm25_year_month: string (nullable = true)\n",
      " |-- pm25_zip: string (nullable = true)\n",
      " |-- pm25: string (nullable = true)\n",
      " |-- lookup_year: string (nullable = true)\n",
      " |-- cdscode_closest_ps: string (nullable = true)\n",
      " |-- point_source_lat: string (nullable = true)\n",
      " |-- point_source_lon: string (nullable = true)\n",
      " |-- point_source_year: integer (nullable = true)\n",
      " |-- point_source_pm25_tpy: string (nullable = true)\n",
      " |-- point_source_zip: integer (nullable = true)\n",
      " |-- dist_school_to_ps_m: string (nullable = true)\n",
      " |-- angle_to_school: string (nullable = true)\n",
      " |-- ps_wind_lat: double (nullable = true)\n",
      " |-- ps_wind_lon: double (nullable = true)\n",
      " |-- ps_wind_zip: long (nullable = true)\n",
      " |-- ps_wind_u: double (nullable = true)\n",
      " |-- ps_wind_v: double (nullable = true)\n",
      " |-- ps_wdir: double (nullable = true)\n",
      " |-- ps_wspd: double (nullable = true)\n",
      " |-- ps_wind_u_merge: double (nullable = true)\n",
      " |-- ps_wind_v_merge: double (nullable = true)\n",
      " |-- ps_wdir_merge: double (nullable = true)\n",
      " |-- ps_wspd_merge: double (nullable = true)\n",
      " |-- school_wdir_wrt_0N: double (nullable = true)\n",
      " |-- ps_wdir_wrt_0N: double (nullable = true)\n",
      " |-- school_wind_alignment: double (nullable = true)\n",
      " |-- ps_wind_alignment: double (nullable = true)\n",
      " |-- avg_wind_alignment: double (nullable = true)\n",
      "\n"
     ]
    }
   ],
   "source": [
    "df_all.printSchema()"
   ]
  },
  {
   "cell_type": "code",
   "execution_count": 63,
   "id": "7c69c479",
   "metadata": {},
   "outputs": [
    {
     "name": "stdout",
     "output_type": "stream",
     "text": [
      "+-------------------+-------------------+-------------------+---------------------+------------------+------------------+\n",
      "|    angle_to_school| school_wdir_wrt_0N|     ps_wdir_wrt_0N|school_wind_alignment| ps_wind_alignment|avg_wind_alignment|\n",
      "+-------------------+-------------------+-------------------+---------------------+------------------+------------------+\n",
      "|-112.69585791567243| 159.88589549578458| 159.88589549578458|    87.41824658854296| 87.41824658854296| 87.41824658854296|\n",
      "|-112.69585791567243| 159.88589549578458| 159.88589549578458|    87.41824658854296| 87.41824658854296| 87.41824658854296|\n",
      "|-113.61098323048188| 159.88589549578458| 159.88589549578458|    86.50312127373354| 86.50312127373354| 86.50312127373354|\n",
      "|   74.1806907307745|-52.623776587312655|-52.623776587312655|   126.80446731808715|126.80446731808715|126.80446731808715|\n",
      "| 129.10846544104348|  5.874323870140522|  5.874323870140522|   123.23414157090295|123.23414157090295|123.23414157090295|\n",
      "| 125.27784582729981|-172.68361296548682|-172.68361296548682|    62.03854120721337| 62.03854120721337| 62.03854120721337|\n",
      "| 125.34245234796487|-172.68361296548682|-172.68361296548682|    61.97393468654832| 61.97393468654832| 61.97393468654832|\n",
      "| -133.8262275924393| 175.75980859333941| 175.75980859333941|    50.41396381422129| 50.41396381422129| 50.41396381422129|\n",
      "|-138.60864334143417| 175.75980859333941| 175.75980859333941|    45.63154806522641| 45.63154806522641| 45.63154806522641|\n",
      "|-31.375471134903883| 139.84841514832289| 139.84841514832289|   171.22388628322676|171.22388628322676|171.22388628322676|\n",
      "+-------------------+-------------------+-------------------+---------------------+------------------+------------------+\n",
      "\n"
     ]
    }
   ],
   "source": [
    "test_cols2 = ['angle_to_school','school_wdir_wrt_0N',\\\n",
    "             'ps_wdir_wrt_0N',\"school_wind_alignment\", \"ps_wind_alignment\",\\\n",
    "                         'avg_wind_alignment']\n",
    "\n",
    "df_all.select(test_cols2).limit(10).show()"
   ]
  },
  {
   "cell_type": "code",
   "execution_count": 64,
   "id": "3b8456ba",
   "metadata": {},
   "outputs": [
    {
     "name": "stdout",
     "output_type": "stream",
     "text": [
      "+----+-------+-------------+--------------------+-------------+-----------+---------------------+----------+----------------+------------------+----------+----------+---------------+---------------+---------------+-------------+-------------+-----------+-----------+----------+-----------+----------+----------------+---------------------+-----------------------+--------------+-------------------+---------------------+--------------+-------------------+---------------------+----------------+---------------------+-----------------------+----------------+---------------------+-----------------------+-----------------+----------+---------------+--------+------+-----------+------------------+----------------+----------------+-----------------+---------------------+----------------+-------------------+---------------+-----------+-----------+-----------+---------+---------+-------+-------+---------------+---------------+-------------+-------------+------------------+--------------+---------------------+-----------------+------------------+\n",
      "|year|cdscode|school_county|school_active_status|school_street|school_type|school_grades_offered|school_zip|school_open_date|school_closed_date|school_lat|school_lon|school_wind_lat|school_wind_lon|school_wind_zip|school_wind_u|school_wind_v|school_wdir|school_wspd|year_month|census_year|census_zip|total_population|total_population_male|total_population_female|population_0_4|population_0_4_male|population_0_4_female|population_5_9|population_5_9_male|population_5_9_female|population_10_14|population_10_14_male|population_10_14_female|population_15_19|population_15_19_male|population_15_19_female|total_pop_under19|pm25_index|pm25_year_month|pm25_zip|  pm25|lookup_year|cdscode_closest_ps|point_source_lat|point_source_lon|point_source_year|point_source_pm25_tpy|point_source_zip|dist_school_to_ps_m|angle_to_school|ps_wind_lat|ps_wind_lon|ps_wind_zip|ps_wind_u|ps_wind_v|ps_wdir|ps_wspd|ps_wind_u_merge|ps_wind_v_merge|ps_wdir_merge|ps_wspd_merge|school_wdir_wrt_0N|ps_wdir_wrt_0N|school_wind_alignment|ps_wind_alignment|avg_wind_alignment|\n",
      "+----+-------+-------------+--------------------+-------------+-----------+---------------------+----------+----------------+------------------+----------+----------+---------------+---------------+---------------+-------------+-------------+-----------+-----------+----------+-----------+----------+----------------+---------------------+-----------------------+--------------+-------------------+---------------------+--------------+-------------------+---------------------+----------------+---------------------+-----------------------+----------------+---------------------+-----------------------+-----------------+----------+---------------+--------+------+-----------+------------------+----------------+----------------+-----------------+---------------------+----------------+-------------------+---------------+-----------+-----------+-----------+---------+---------+-------+-------+---------------+---------------+-------------+-------------+------------------+--------------+---------------------+-----------------+------------------+\n",
      "| 871|      0|            0|                   0|            0|          0|                    0|         0|               0|                 0|         0|         0|            871|            871|            871|          871|          871|        871|        871|       871|        871|       871|            3775|                 3775|                   3775|          3775|               3775|                 3775|          3775|               3775|                 3775|            3775|                 3775|                   3775|            3775|                 3775|                   3775|             3775|    153403|         153403|  153403|153403|        871|               871|             871|             871|              871|                  871|             871|                871|            871|     307831|     307831|     307831|   307831|   307831| 307831| 307831|            871|            871|          871|          871|               871|           871|                  871|              871|               871|\n",
      "+----+-------+-------------+--------------------+-------------+-----------+---------------------+----------+----------------+------------------+----------+----------+---------------+---------------+---------------+-------------+-------------+-----------+-----------+----------+-----------+----------+----------------+---------------------+-----------------------+--------------+-------------------+---------------------+--------------+-------------------+---------------------+----------------+---------------------+-----------------------+----------------+---------------------+-----------------------+-----------------+----------+---------------+--------+------+-----------+------------------+----------------+----------------+-----------------+---------------------+----------------+-------------------+---------------+-----------+-----------+-----------+---------+---------+-------+-------+---------------+---------------+-------------+-------------+------------------+--------------+---------------------+-----------------+------------------+\n",
      "\n"
     ]
    }
   ],
   "source": [
    "# spot check for nulls\n",
    "\n",
    "df_all.select([count(when(isnan(c) | col(c).isNull(), c)).alias(c) for c in df_all.columns]).show()"
   ]
  },
  {
   "cell_type": "code",
   "execution_count": 73,
   "id": "ac370f34",
   "metadata": {},
   "outputs": [],
   "source": [
    "df_all = df_all.withColumn(\"avg_wind_alignment_cosine\",cos(((3.1415926)*df_all.avg_wind_alignment/180)) + 1)"
   ]
  },
  {
   "cell_type": "code",
   "execution_count": 66,
   "id": "3873eab8",
   "metadata": {},
   "outputs": [
    {
     "name": "stdout",
     "output_type": "stream",
     "text": [
      "+----+-------+-------------+--------------------+-------------+-----------+---------------------+----------+----------------+------------------+----------+----------+---------------+---------------+---------------+-------------+-------------+-----------+-----------+----------+-----------+----------+----------------+---------------------+-----------------------+--------------+-------------------+---------------------+--------------+-------------------+---------------------+----------------+---------------------+-----------------------+----------------+---------------------+-----------------------+-----------------+----------+---------------+--------+------+-----------+------------------+----------------+----------------+-----------------+---------------------+----------------+-------------------+---------------+-----------+-----------+-----------+---------+---------+-------+-------+---------------+---------------+-------------+-------------+------------------+--------------+---------------------+-----------------+------------------+-------------------------+\n",
      "|year|cdscode|school_county|school_active_status|school_street|school_type|school_grades_offered|school_zip|school_open_date|school_closed_date|school_lat|school_lon|school_wind_lat|school_wind_lon|school_wind_zip|school_wind_u|school_wind_v|school_wdir|school_wspd|year_month|census_year|census_zip|total_population|total_population_male|total_population_female|population_0_4|population_0_4_male|population_0_4_female|population_5_9|population_5_9_male|population_5_9_female|population_10_14|population_10_14_male|population_10_14_female|population_15_19|population_15_19_male|population_15_19_female|total_pop_under19|pm25_index|pm25_year_month|pm25_zip|  pm25|lookup_year|cdscode_closest_ps|point_source_lat|point_source_lon|point_source_year|point_source_pm25_tpy|point_source_zip|dist_school_to_ps_m|angle_to_school|ps_wind_lat|ps_wind_lon|ps_wind_zip|ps_wind_u|ps_wind_v|ps_wdir|ps_wspd|ps_wind_u_merge|ps_wind_v_merge|ps_wdir_merge|ps_wspd_merge|school_wdir_wrt_0N|ps_wdir_wrt_0N|school_wind_alignment|ps_wind_alignment|avg_wind_alignment|avg_wind_alignment_cosine|\n",
      "+----+-------+-------------+--------------------+-------------+-----------+---------------------+----------+----------------+------------------+----------+----------+---------------+---------------+---------------+-------------+-------------+-----------+-----------+----------+-----------+----------+----------------+---------------------+-----------------------+--------------+-------------------+---------------------+--------------+-------------------+---------------------+----------------+---------------------+-----------------------+----------------+---------------------+-----------------------+-----------------+----------+---------------+--------+------+-----------+------------------+----------------+----------------+-----------------+---------------------+----------------+-------------------+---------------+-----------+-----------+-----------+---------+---------+-------+-------+---------------+---------------+-------------+-------------+------------------+--------------+---------------------+-----------------+------------------+-------------------------+\n",
      "| 871|      0|            0|                   0|            0|          0|                    0|         0|               0|                 0|         0|         0|            871|            871|            871|          871|          871|        871|        871|       871|        871|       871|            3775|                 3775|                   3775|          3775|               3775|                 3775|          3775|               3775|                 3775|            3775|                 3775|                   3775|            3775|                 3775|                   3775|             3775|    153403|         153403|  153403|153403|        871|               871|             871|             871|              871|                  871|             871|                871|            871|     307831|     307831|     307831|   307831|   307831| 307831| 307831|            871|            871|          871|          871|               871|           871|                  871|              871|               871|                      871|\n",
      "+----+-------+-------------+--------------------+-------------+-----------+---------------------+----------+----------------+------------------+----------+----------+---------------+---------------+---------------+-------------+-------------+-----------+-----------+----------+-----------+----------+----------------+---------------------+-----------------------+--------------+-------------------+---------------------+--------------+-------------------+---------------------+----------------+---------------------+-----------------------+----------------+---------------------+-----------------------+-----------------+----------+---------------+--------+------+-----------+------------------+----------------+----------------+-----------------+---------------------+----------------+-------------------+---------------+-----------+-----------+-----------+---------+---------+-------+-------+---------------+---------------+-------------+-------------+------------------+--------------+---------------------+-----------------+------------------+-------------------------+\n",
      "\n"
     ]
    }
   ],
   "source": [
    "# spot check for nulls\n",
    "\n",
    "df_all.select([count(when(isnan(c) | col(c).isNull(), c)).alias(c) for c in df_all.columns]).show()"
   ]
  },
  {
   "cell_type": "code",
   "execution_count": 74,
   "id": "4bceb9f2",
   "metadata": {},
   "outputs": [
    {
     "name": "stdout",
     "output_type": "stream",
     "text": [
      "+----+--------------+-------------+--------------------+--------------------+--------------------+---------------------+----------+----------------+------------------+----------+-----------+---------------+---------------+---------------+--------------------+--------------------+------------------+-------------------+----------+-----------+----------+----------------+---------------------+-----------------------+--------------+-------------------+---------------------+------------------+-------------------+---------------------+------------------+---------------------+-----------------------+------------------+---------------------+-----------------------+-----------------+----------+---------------+--------+---------+-----------+------------------+----------------+----------------+-----------------+---------------------+----------------+-------------------+-------------------+-----------+-----------+-----------+---------+---------+-------+-------+--------------------+--------------------+------------------+-------------------+-------------------+-------------------+---------------------+------------------+------------------+-------------------------+\n",
      "|year|       cdscode|school_county|school_active_status|       school_street|         school_type|school_grades_offered|school_zip|school_open_date|school_closed_date|school_lat| school_lon|school_wind_lat|school_wind_lon|school_wind_zip|       school_wind_u|       school_wind_v|       school_wdir|        school_wspd|year_month|census_year|census_zip|total_population|total_population_male|total_population_female|population_0_4|population_0_4_male|population_0_4_female|    population_5_9|population_5_9_male|population_5_9_female|  population_10_14|population_10_14_male|population_10_14_female|  population_15_19|population_15_19_male|population_15_19_female|total_pop_under19|pm25_index|pm25_year_month|pm25_zip|     pm25|lookup_year|cdscode_closest_ps|point_source_lat|point_source_lon|point_source_year|point_source_pm25_tpy|point_source_zip|dist_school_to_ps_m|    angle_to_school|ps_wind_lat|ps_wind_lon|ps_wind_zip|ps_wind_u|ps_wind_v|ps_wdir|ps_wspd|     ps_wind_u_merge|     ps_wind_v_merge|     ps_wdir_merge|      ps_wspd_merge| school_wdir_wrt_0N|     ps_wdir_wrt_0N|school_wind_alignment| ps_wind_alignment|avg_wind_alignment|avg_wind_alignment_cosine|\n",
      "+----+--------------+-------------+--------------------+--------------------+--------------------+---------------------+----------+----------------+------------------+----------+-----------+---------------+---------------+---------------+--------------------+--------------------+------------------+-------------------+----------+-----------+----------+----------------+---------------------+-----------------------+--------------+-------------------+---------------------+------------------+-------------------+---------------------+------------------+---------------------+-----------------------+------------------+---------------------+-----------------------+-----------------+----------+---------------+--------+---------+-----------+------------------+----------------+----------------+-----------------+---------------------+----------------+-------------------+-------------------+-----------+-----------+-----------+---------+---------+-------+-------+--------------------+--------------------+------------------+-------------------+-------------------+-------------------+---------------------+------------------+------------------+-------------------------+\n",
      "|2001|42692450000000|Santa Barbara|              Active|2540 Alamo Pintad...|             No Data|              No Data|     93441|         No Data|           No Data| 34.665479| -120.11080|          34.65|       -120.116|          93441|  0.3820219337940216|  -1.043128252029419| 290.1141052246094| 1.1108813285827637|   2001-11|       2001|     93441|          1324.0|                649.0|                  675.0|          74.0|               42.0|                 32.0|              98.0|               45.0|                 53.0|             117.0|                 60.0|                   57.0|              99.0|                 53.0|                   46.0|            388.0|     40135|        2001-11|   93441| 4.891667|       2002|    42692450000000|       34.691002|     -120.037003|             2002|              5.19883|               0|  7331.827366665462|-112.69585791567243|       null|       null|       null|     null|     null|   null|   null|  0.3820219337940216|  -1.043128252029419| 290.1141052246094| 1.1108813285827637| 159.88589549578458| 159.88589549578458|    87.41824658854296| 87.41824658854296| 87.41824658854296|         1.04504487662229|\n",
      "|2001|42692454230199|Santa Barbara|              Closed|2540 Alamo Pintad...|Elementary-High C...|                 K-12|     93441|      11/13/2001|         6/30/2015| 34.665479| -120.11080|          34.65|       -120.116|          93441|  0.3820219337940216|  -1.043128252029419| 290.1141052246094| 1.1108813285827637|   2001-11|       2001|     93441|          1324.0|                649.0|                  675.0|          74.0|               42.0|                 32.0|              98.0|               45.0|                 53.0|             117.0|                 60.0|                   57.0|              99.0|                 53.0|                   46.0|            388.0|     40135|        2001-11|   93441| 4.891667|       2002|    42692454230199|       34.691002|     -120.037003|             2002|              5.19883|               0|  7331.827366665462|-112.69585791567243|       null|       null|       null|     null|     null|   null|   null|  0.3820219337940216|  -1.043128252029419| 290.1141052246094| 1.1108813285827637| 159.88589549578458| 159.88589549578458|    87.41824658854296| 87.41824658854296| 87.41824658854296|         1.04504487662229|\n",
      "|2001|42692456045710|Santa Barbara|              Active|2540 Alamo Pintad...|          Elementary|                  K-8|     93441|        7/1/1980|           No Data| 34.664268|-120.110962|          34.65|       -120.116|          93441|  0.3820219337940216|  -1.043128252029419| 290.1141052246094| 1.1108813285827637|   2001-11|       2001|     93441|          1324.0|                649.0|                  675.0|          74.0|               42.0|                 32.0|              98.0|               45.0|                 53.0|             117.0|                 60.0|                   57.0|              99.0|                 53.0|                   46.0|            388.0|     40135|        2001-11|   93441| 4.891667|       2002|    42692456045710|       34.691002|     -120.037003|             2002|              5.19883|               0|   7398.39093929287|-113.61098323048188|       null|       null|       null|     null|     null|   null|   null|  0.3820219337940216|  -1.043128252029419| 290.1141052246094| 1.1108813285827637| 159.88589549578458| 159.88589549578458|    86.50312127373354| 86.50312127373354| 86.50312127373354|        1.060994190256303|\n",
      "|2016|10101080111682|       Fresno|              Active|64144 Hume Lake Road|Elementary-High C...|                 K-12|     93628|       8/21/2006|           No Data| 36.787211|-118.914189|         36.741|       -118.964|          93628|-0.06927146762609482|0.052916500717401505|142.62376403808594|0.08717048168182373|   2016-01|       2016|     93628|           221.0|                 67.0|                  154.0|           0.0|                0.0|                  0.0|            32.045| 16.012999999999998|   16.016000000000002|            32.045|                  0.0|     32.032000000000004|            34.034|                  0.0|                 34.034|           98.124|    338627|        2016-01|   93628|3.1266665|       2017|    10101080111682|        36.66634|      -119.44985|             2017|            1.5032344|               0|  49694.52522420857|   74.1806907307745|       null|       null|       null|     null|     null|   null|   null|-0.06927146762609482|0.052916500717401505|142.62376403808594|0.08717048168182373|-52.623776587312655|-52.623776587312655|   126.80446731808715|126.80446731808715|126.80446731808715|       0.4009140009809714|\n",
      "|2016|57727106056527|         Yolo|              Active|20450 County Road 97|          Elementary|                  K-6|     95695|        7/1/1980|           No Data| 38.642231|-121.822455|         38.605|       -121.767|          95695| 0.06771482527256012|  0.6581472158432007| 84.12567138671875| 0.6616215705871582|   2016-01|       2016|     95695|         39144.0|              18858.0|                20286.0|      2113.776|           1112.622|               1014.3|           2544.36| 1489.7820000000002|   1075.1580000000001|           2544.36|             1282.344|               1257.732|          2661.792|             1263.486|                1420.02|         9864.288|    337968|        2016-01|   95695|6.1261907|       2017|    57727106056527|        38.67388|      -121.87208|             2017|           1.32447647|               0| 5567.8613699344905| 129.10846544104348|       null|       null|       null|     null|     null|   null|   null| 0.06771482527256012|  0.6581472158432007| 84.12567138671875| 0.6616215705871582|  5.874323870140522|  5.874323870140522|   123.23414157090295|123.23414157090295|123.23414157090295|        0.451938290956556|\n",
      "|2016|33670410000000|    Riverside|              Active|    1434 Kaiser Road|             No Data|              No Data|     92239|         No Data|           No Data| 33.855120| -115.47808|         33.668|       -115.654|          92239|-0.12397852540016174| -0.9656124711036682| 262.6836242675781| 0.9735389351844788|   2016-01|       2016|     92239|           196.0|                100.0|                   96.0|           0.0|                0.0|                  0.0|13.915999999999999|                9.0|    4.992000000000001|            17.052|                  5.0|                   12.0|            11.956|                  8.0|                  4.032|42.92399999999999|    338177|        2016-01|   92239|4.5829268|       2017|    33670410000000|        34.13209|      -115.94583|             2017|            0.9671238|               0|  53023.39057853547| 125.27784582729981|       null|       null|       null|     null|     null|   null|   null|-0.12397852540016174| -0.9656124711036682| 262.6836242675781| 0.9735389351844788|-172.68361296548682|-172.68361296548682|    62.03854120721337| 62.03854120721337| 62.03854120721337|        1.468877539721942|\n",
      "|2016|33670416031900|    Riverside|              Active|    1434 Kaiser Road|          Elementary|                  K-8|     92239|        7/1/1980|           No Data| 33.850239| -115.47102|         33.668|       -115.654|          92239|-0.12397852540016174| -0.9656124711036682| 262.6836242675781| 0.9735389351844788|   2016-01|       2016|     92239|           196.0|                100.0|                   96.0|           0.0|                0.0|                  0.0|13.915999999999999|                9.0|    4.992000000000001|            17.052|                  5.0|                   12.0|            11.956|                  8.0|                  4.032|42.92399999999999|    338177|        2016-01|   92239|4.5829268|       2017|    33670416031900|        34.13209|      -115.94583|             2017|            0.9671238|               0| 53869.771812849736| 125.34245234796487|       null|       null|       null|     null|     null|   null|   null|-0.12397852540016174| -0.9656124711036682| 262.6836242675781| 0.9735389351844788|-172.68361296548682|-172.68361296548682|    61.97393468654832| 61.97393468654832| 61.97393468654832|       1.4698732058897763|\n",
      "|2016|19646420000000|  Los Angeles|              Active|34004 128th Stree...|             No Data|              No Data|     93553|         No Data|           No Data| 34.502938| -117.90091|         34.346|       -117.823|          93553| 0.02871648222208023|-0.38732412457466125| 274.2402038574219|0.38838717341423035|   2016-01|       2016|     93553|          1882.0|                888.0|                  994.0|        26.348|                0.0|               25.844|             18.82|             16.872|   1.9880000000000002|           105.392|    85.24799999999999|     20.874000000000002|48.931999999999995|               23.088|                 25.844|          199.492|    338674|        2016-01|   93553|2.5434783|       2017|    19646420000000|       34.534084|     -117.861722|             2017|                2.671|               0| 4988.4709174708305| -133.8262275924393|       null|       null|       null|     null|     null|   null|   null| 0.02871648222208023|-0.38732412457466125| 274.2402038574219|0.38838717341423035| 175.75980859333941| 175.75980859333941|    50.41396381422129| 50.41396381422129| 50.41396381422129|       1.6372361971111458|\n",
      "|2016|19646426108542|  Los Angeles|              Active| 12828 East Avenue W|          Elementary|                  K-8|     93553|        7/1/1980|           No Data| 34.498274|-117.899837|         34.346|       -117.823|          93553| 0.02871648222208023|-0.38732412457466125| 274.2402038574219|0.38838717341423035|   2016-01|       2016|     93553|          1882.0|                888.0|                  994.0|        26.348|                0.0|               25.844|             18.82|             16.872|   1.9880000000000002|           105.392|    85.24799999999999|     20.874000000000002|48.931999999999995|               23.088|                 25.844|          199.492|    338674|        2016-01|   93553|2.5434783|       2017|    19646426108542|       34.534084|     -117.861722|             2017|                2.671|               0|  5294.252963825041|-138.60864334143417|       null|       null|       null|     null|     null|   null|   null| 0.02871648222208023|-0.38732412457466125| 274.2402038574219|0.38838717341423035| 175.75980859333941| 175.75980859333941|    45.63154806522641| 45.63154806522641| 45.63154806522641|       1.6992698429431827|\n",
      "|2016|37103710115998|    San Diego|              Active|17701 San Pasqual...|         High School|                 9-12|     92025|        7/1/2007|           No Data| 33.086696| -116.94826|         33.043|       -117.042|          92025| 0.15739715099334717|-0.18657393753528595| 310.1515808105469| 0.2440977245569229|   2016-01|       2016|     92025|         53742.0|              26834.0|                26908.0|      4191.876| 2066.2180000000003|              2152.64|           4030.65| 2066.2180000000003|             1991.192|3869.4240000000004|             1851.546|               1991.192|          4460.586|             2254.056|               2233.364|        16552.536|    338206|        2016-01|   92025|7.6384616|       2017|    37103710115998|        33.03891|      -116.91364|             2017|          5.710139556|               0|  6208.045536007495|-31.375471134903883|       null|       null|       null|     null|     null|   null|   null| 0.15739715099334717|-0.18657393753528595| 310.1515808105469| 0.2440977245569229| 139.84841514832289| 139.84841514832289|   171.22388628322676|171.22388628322676|171.22388628322676|     0.011707933289161643|\n",
      "+----+--------------+-------------+--------------------+--------------------+--------------------+---------------------+----------+----------------+------------------+----------+-----------+---------------+---------------+---------------+--------------------+--------------------+------------------+-------------------+----------+-----------+----------+----------------+---------------------+-----------------------+--------------+-------------------+---------------------+------------------+-------------------+---------------------+------------------+---------------------+-----------------------+------------------+---------------------+-----------------------+-----------------+----------+---------------+--------+---------+-----------+------------------+----------------+----------------+-----------------+---------------------+----------------+-------------------+-------------------+-----------+-----------+-----------+---------+---------+-------+-------+--------------------+--------------------+------------------+-------------------+-------------------+-------------------+---------------------+------------------+------------------+-------------------------+\n",
      "\n"
     ]
    }
   ],
   "source": [
    "df_all.limit(10).show()"
   ]
  },
  {
   "cell_type": "code",
   "execution_count": 69,
   "id": "64975fb6",
   "metadata": {},
   "outputs": [
    {
     "data": {
      "text/plain": [
       "2983111"
      ]
     },
     "execution_count": 69,
     "metadata": {},
     "output_type": "execute_result"
    }
   ],
   "source": [
    "df_all.count()"
   ]
  },
  {
   "cell_type": "code",
   "execution_count": 70,
   "id": "6afdbb79",
   "metadata": {},
   "outputs": [
    {
     "name": "stdout",
     "output_type": "stream",
     "text": [
      "root\n",
      " |-- year: long (nullable = true)\n",
      " |-- cdscode: string (nullable = true)\n",
      " |-- school_county: string (nullable = true)\n",
      " |-- school_active_status: string (nullable = true)\n",
      " |-- school_street: string (nullable = true)\n",
      " |-- school_type: string (nullable = true)\n",
      " |-- school_grades_offered: string (nullable = true)\n",
      " |-- school_zip: string (nullable = true)\n",
      " |-- school_open_date: string (nullable = true)\n",
      " |-- school_closed_date: string (nullable = true)\n",
      " |-- school_lat: string (nullable = true)\n",
      " |-- school_lon: string (nullable = true)\n",
      " |-- school_wind_lat: double (nullable = true)\n",
      " |-- school_wind_lon: double (nullable = true)\n",
      " |-- school_wind_zip: long (nullable = true)\n",
      " |-- school_wind_u: double (nullable = true)\n",
      " |-- school_wind_v: double (nullable = true)\n",
      " |-- school_wdir: double (nullable = true)\n",
      " |-- school_wspd: double (nullable = true)\n",
      " |-- year_month: string (nullable = true)\n",
      " |-- census_year: string (nullable = true)\n",
      " |-- census_zip: string (nullable = true)\n",
      " |-- total_population: string (nullable = true)\n",
      " |-- total_population_male: string (nullable = true)\n",
      " |-- total_population_female: string (nullable = true)\n",
      " |-- population_0_4: string (nullable = true)\n",
      " |-- population_0_4_male: string (nullable = true)\n",
      " |-- population_0_4_female: string (nullable = true)\n",
      " |-- population_5_9: string (nullable = true)\n",
      " |-- population_5_9_male: string (nullable = true)\n",
      " |-- population_5_9_female: string (nullable = true)\n",
      " |-- population_10_14: string (nullable = true)\n",
      " |-- population_10_14_male: string (nullable = true)\n",
      " |-- population_10_14_female: string (nullable = true)\n",
      " |-- population_15_19: string (nullable = true)\n",
      " |-- population_15_19_male: string (nullable = true)\n",
      " |-- population_15_19_female: string (nullable = true)\n",
      " |-- total_pop_under19: string (nullable = true)\n",
      " |-- pm25_index: string (nullable = true)\n",
      " |-- pm25_year_month: string (nullable = true)\n",
      " |-- pm25_zip: string (nullable = true)\n",
      " |-- pm25: string (nullable = true)\n",
      " |-- lookup_year: string (nullable = true)\n",
      " |-- cdscode_closest_ps: string (nullable = true)\n",
      " |-- point_source_lat: string (nullable = true)\n",
      " |-- point_source_lon: string (nullable = true)\n",
      " |-- point_source_year: integer (nullable = true)\n",
      " |-- point_source_pm25_tpy: string (nullable = true)\n",
      " |-- point_source_zip: integer (nullable = true)\n",
      " |-- dist_school_to_ps_m: string (nullable = true)\n",
      " |-- angle_to_school: string (nullable = true)\n",
      " |-- ps_wind_lat: double (nullable = true)\n",
      " |-- ps_wind_lon: double (nullable = true)\n",
      " |-- ps_wind_zip: long (nullable = true)\n",
      " |-- ps_wind_u: double (nullable = true)\n",
      " |-- ps_wind_v: double (nullable = true)\n",
      " |-- ps_wdir: double (nullable = true)\n",
      " |-- ps_wspd: double (nullable = true)\n",
      " |-- ps_wind_u_merge: double (nullable = true)\n",
      " |-- ps_wind_v_merge: double (nullable = true)\n",
      " |-- ps_wdir_merge: double (nullable = true)\n",
      " |-- ps_wspd_merge: double (nullable = true)\n",
      " |-- school_wdir_wrt_0N: double (nullable = true)\n",
      " |-- ps_wdir_wrt_0N: double (nullable = true)\n",
      " |-- school_wind_alignment: double (nullable = true)\n",
      " |-- ps_wind_alignment: double (nullable = true)\n",
      " |-- avg_wind_alignment: double (nullable = true)\n",
      " |-- avg_wind_alignment_cosine: double (nullable = true)\n",
      "\n"
     ]
    }
   ],
   "source": [
    "df_all.printSchema()"
   ]
  },
  {
   "cell_type": "code",
   "execution_count": 75,
   "id": "fb76fab8",
   "metadata": {},
   "outputs": [],
   "source": [
    "df_all.write.parquet('C:\\\\Users\\\\matts\\\\Documents\\\\Berkeley MIDS\\\\DataSci 210 Capstone\\\\non-push files\\\\joined_data_v3_10_2_22.parquet')"
   ]
  },
  {
   "cell_type": "markdown",
   "id": "fcee905c",
   "metadata": {},
   "source": [
    "## Reloading to add avg wind spd, total pediatric pop by gender per county, region name, and load in elevation data\n"
   ]
  },
  {
   "cell_type": "code",
   "execution_count": null,
   "id": "690b3228",
   "metadata": {},
   "outputs": [],
   "source": [
    "parquet_path = 'C:\\\\Users\\\\matts\\\\Documents\\\\Berkeley MIDS\\\\DataSci 210 Capstone\\\\non-push files\\\\joined_data_v3_10_2_22.parquet'"
   ]
  },
  {
   "cell_type": "code",
   "execution_count": 76,
   "id": "34697139",
   "metadata": {},
   "outputs": [],
   "source": [
    "school_elevations = spark.read.parquet(os.path.join(gdrive_path, 'schools/school_elevations.parquet'))\n",
    "ps_elevations = spark.read.option(\"header\",True).csv(os.path.join(gdrive_path, 'Point source/pollution_point_source_elevations.csv'))"
   ]
  },
  {
   "cell_type": "code",
   "execution_count": 77,
   "id": "188e1bdc",
   "metadata": {},
   "outputs": [
    {
     "name": "stdout",
     "output_type": "stream",
     "text": [
      "+--------------+----------+-----------+----------------+-----------------+\n",
      "|       cdscode|school_lat| school_lon|elevation_meters|__index_level_0__|\n",
      "+--------------+----------+-----------+----------------+-----------------+\n",
      "|20102070109728| 37.115210| -120.26603|           70.84|                0|\n",
      "|20102072030187| 37.115210| -120.26603|           70.84|                1|\n",
      "|20651930000000| 37.122449| -120.26487|           72.77|                2|\n",
      "|20651930113076| 37.131113|-120.242025|           77.12|                3|\n",
      "|20651936023907| 37.115243| -120.26777|           70.66|                4|\n",
      "|20652010000000| 37.116435| -120.26264|           71.38|                5|\n",
      "|20652012030047| 37.114421|-120.262612|           71.01|                6|\n",
      "|20652012032357| 37.114421|-120.262612|           71.01|                7|\n",
      "|15636770113837|  35.10877|-117.956403|          726.11|                8|\n",
      "|15636770114512| 35.138427| -117.97325|          721.91|                9|\n",
      "|15636776009823|  35.12235|-117.965825|          724.22|               10|\n",
      "|15636776111272|  35.10877|-117.956403|          726.11|               11|\n",
      "|15635456009641| 35.756886|  -118.4166|          840.98|               12|\n",
      "|15635860000000| 35.730014| -118.70482|          969.74|               13|\n",
      "|15635866009724| 35.730757|-118.704599|          976.59|               14|\n",
      "|15101570135467| 35.613904|-119.684291|           88.71|               15|\n",
      "|15635940000000| 35.615205| -119.70291|          100.24|               16|\n",
      "|15635946060420| 35.614094|-119.700563|           99.66|               17|\n",
      "|15635946102792| 35.614094|-119.700563|           99.66|               18|\n",
      "|36739576108260|  34.45067|-117.647375|         1177.84|               19|\n",
      "+--------------+----------+-----------+----------------+-----------------+\n",
      "only showing top 20 rows\n",
      "\n"
     ]
    }
   ],
   "source": [
    "school_elevations.show()"
   ]
  },
  {
   "cell_type": "code",
   "execution_count": 78,
   "id": "50e140a8",
   "metadata": {},
   "outputs": [
    {
     "name": "stdout",
     "output_type": "stream",
     "text": [
      "+----------------+----------------+----------------+\n",
      "|point_source_lat|point_source_lon|elevation_meters|\n",
      "+----------------+----------------+----------------+\n",
      "|         37.1056|       -120.2487|            73.3|\n",
      "|        35.15125|      -118.01667|          740.08|\n",
      "|       35.513841|     -118.901299|           250.9|\n",
      "|         35.5767|       -119.7854|           175.1|\n",
      "|       34.534084|     -117.861722|          900.09|\n",
      "|        36.13427|      -120.38843|          248.32|\n",
      "|        33.03891|      -116.91364|          423.96|\n",
      "|        36.15631|      -119.32617|            83.5|\n",
      "|          34.935|      -119.55425|          719.21|\n",
      "|         34.8996|        -120.465|           80.81|\n",
      "|        38.99018|      -122.89972|          417.72|\n",
      "|        38.91713|      -121.35401|           35.62|\n",
      "|          35.456|       -116.0208|          712.94|\n",
      "|        38.67388|      -121.87208|           35.47|\n",
      "|       34.898505|      -117.05719|          650.03|\n",
      "|        36.66634|      -119.44985|          117.66|\n",
      "|        38.57907|      -121.85663|           29.74|\n",
      "|         32.5723|       -116.9937|          159.43|\n",
      "|         34.9513|       -118.8377|          334.72|\n",
      "|         37.3731|      -118.36361|          1254.4|\n",
      "+----------------+----------------+----------------+\n",
      "only showing top 20 rows\n",
      "\n"
     ]
    }
   ],
   "source": [
    "ps_elevations.show()"
   ]
  },
  {
   "cell_type": "code",
   "execution_count": 80,
   "id": "af31de09",
   "metadata": {},
   "outputs": [],
   "source": [
    "# add columns for total pediatric population by gender\n",
    "\n",
    "df_all = df_all.withColumn(\"pop_under19_male\",df_all.population_0_4_male + df_all.population_5_9_male + df_all.population_10_14_male + df_all.population_15_19_male.cast(\"double\"))\n",
    "\n",
    "df_all = df_all.withColumn(\"pop_under19_female\",df_all.population_0_4_female + df_all.population_5_9_female + df_all.population_10_14_female + df_all.population_15_19_female.cast(\"double\"))"
   ]
  },
  {
   "cell_type": "code",
   "execution_count": 81,
   "id": "744e5292",
   "metadata": {},
   "outputs": [
    {
     "name": "stdout",
     "output_type": "stream",
     "text": [
      "+----+--------------+-------------+--------------------+--------------------+--------------------+---------------------+----------+----------------+------------------+----------+-----------+---------------+---------------+---------------+--------------------+--------------------+------------------+-------------------+----------+-----------+----------+----------------+---------------------+-----------------------+--------------+-------------------+---------------------+------------------+-------------------+---------------------+------------------+---------------------+-----------------------+------------------+---------------------+-----------------------+------------------+----------+---------------+--------+---------+-----------+------------------+----------------+----------------+-----------------+---------------------+----------------+-------------------+-------------------+-----------+-----------+-----------+---------+---------+-------+-------+--------------------+--------------------+------------------+-------------------+-------------------+-------------------+---------------------+------------------+------------------+-------------------------+------------------+------------------+\n",
      "|year|       cdscode|school_county|school_active_status|       school_street|         school_type|school_grades_offered|school_zip|school_open_date|school_closed_date|school_lat| school_lon|school_wind_lat|school_wind_lon|school_wind_zip|       school_wind_u|       school_wind_v|       school_wdir|        school_wspd|year_month|census_year|census_zip|total_population|total_population_male|total_population_female|population_0_4|population_0_4_male|population_0_4_female|    population_5_9|population_5_9_male|population_5_9_female|  population_10_14|population_10_14_male|population_10_14_female|  population_15_19|population_15_19_male|population_15_19_female| total_pop_under19|pm25_index|pm25_year_month|pm25_zip|     pm25|lookup_year|cdscode_closest_ps|point_source_lat|point_source_lon|point_source_year|point_source_pm25_tpy|point_source_zip|dist_school_to_ps_m|    angle_to_school|ps_wind_lat|ps_wind_lon|ps_wind_zip|ps_wind_u|ps_wind_v|ps_wdir|ps_wspd|     ps_wind_u_merge|     ps_wind_v_merge|     ps_wdir_merge|      ps_wspd_merge| school_wdir_wrt_0N|     ps_wdir_wrt_0N|school_wind_alignment| ps_wind_alignment|avg_wind_alignment|avg_wind_alignment_cosine|  pop_under19_male|pop_under19_female|\n",
      "+----+--------------+-------------+--------------------+--------------------+--------------------+---------------------+----------+----------------+------------------+----------+-----------+---------------+---------------+---------------+--------------------+--------------------+------------------+-------------------+----------+-----------+----------+----------------+---------------------+-----------------------+--------------+-------------------+---------------------+------------------+-------------------+---------------------+------------------+---------------------+-----------------------+------------------+---------------------+-----------------------+------------------+----------+---------------+--------+---------+-----------+------------------+----------------+----------------+-----------------+---------------------+----------------+-------------------+-------------------+-----------+-----------+-----------+---------+---------+-------+-------+--------------------+--------------------+------------------+-------------------+-------------------+-------------------+---------------------+------------------+------------------+-------------------------+------------------+------------------+\n",
      "|2001|42692450000000|Santa Barbara|              Active|2540 Alamo Pintad...|             No Data|              No Data|     93441|         No Data|           No Data| 34.665479| -120.11080|          34.65|       -120.116|          93441|  0.3820219337940216|  -1.043128252029419| 290.1141052246094| 1.1108813285827637|   2001-11|       2001|     93441|          1324.0|                649.0|                  675.0|          74.0|               42.0|                 32.0|              98.0|               45.0|                 53.0|             117.0|                 60.0|                   57.0|              99.0|                 53.0|                   46.0|             388.0|     40135|        2001-11|   93441| 4.891667|       2002|    42692450000000|       34.691002|     -120.037003|             2002|              5.19883|               0|  7331.827366665462|-112.69585791567243|       null|       null|       null|     null|     null|   null|   null|  0.3820219337940216|  -1.043128252029419| 290.1141052246094| 1.1108813285827637| 159.88589549578458| 159.88589549578458|    87.41824658854296| 87.41824658854296| 87.41824658854296|         1.04504487662229|             200.0|             188.0|\n",
      "|2001|42692454230199|Santa Barbara|              Closed|2540 Alamo Pintad...|Elementary-High C...|                 K-12|     93441|      11/13/2001|         6/30/2015| 34.665479| -120.11080|          34.65|       -120.116|          93441|  0.3820219337940216|  -1.043128252029419| 290.1141052246094| 1.1108813285827637|   2001-11|       2001|     93441|          1324.0|                649.0|                  675.0|          74.0|               42.0|                 32.0|              98.0|               45.0|                 53.0|             117.0|                 60.0|                   57.0|              99.0|                 53.0|                   46.0|             388.0|     40135|        2001-11|   93441| 4.891667|       2002|    42692454230199|       34.691002|     -120.037003|             2002|              5.19883|               0|  7331.827366665462|-112.69585791567243|       null|       null|       null|     null|     null|   null|   null|  0.3820219337940216|  -1.043128252029419| 290.1141052246094| 1.1108813285827637| 159.88589549578458| 159.88589549578458|    87.41824658854296| 87.41824658854296| 87.41824658854296|         1.04504487662229|             200.0|             188.0|\n",
      "|2001|42692456045710|Santa Barbara|              Active|2540 Alamo Pintad...|          Elementary|                  K-8|     93441|        7/1/1980|           No Data| 34.664268|-120.110962|          34.65|       -120.116|          93441|  0.3820219337940216|  -1.043128252029419| 290.1141052246094| 1.1108813285827637|   2001-11|       2001|     93441|          1324.0|                649.0|                  675.0|          74.0|               42.0|                 32.0|              98.0|               45.0|                 53.0|             117.0|                 60.0|                   57.0|              99.0|                 53.0|                   46.0|             388.0|     40135|        2001-11|   93441| 4.891667|       2002|    42692456045710|       34.691002|     -120.037003|             2002|              5.19883|               0|   7398.39093929287|-113.61098323048188|       null|       null|       null|     null|     null|   null|   null|  0.3820219337940216|  -1.043128252029419| 290.1141052246094| 1.1108813285827637| 159.88589549578458| 159.88589549578458|    86.50312127373354| 86.50312127373354| 86.50312127373354|        1.060994190256303|             200.0|             188.0|\n",
      "|2016|10101080111682|       Fresno|              Active|64144 Hume Lake Road|Elementary-High C...|                 K-12|     93628|       8/21/2006|           No Data| 36.787211|-118.914189|         36.741|       -118.964|          93628|-0.06927146762609482|0.052916500717401505|142.62376403808594|0.08717048168182373|   2016-01|       2016|     93628|           221.0|                 67.0|                  154.0|           0.0|                0.0|                  0.0|            32.045| 16.012999999999998|   16.016000000000002|            32.045|                  0.0|     32.032000000000004|            34.034|                  0.0|                 34.034|            98.124|    338627|        2016-01|   93628|3.1266665|       2017|    10101080111682|        36.66634|      -119.44985|             2017|            1.5032344|               0|  49694.52522420857|   74.1806907307745|       null|       null|       null|     null|     null|   null|   null|-0.06927146762609482|0.052916500717401505|142.62376403808594|0.08717048168182373|-52.623776587312655|-52.623776587312655|   126.80446731808715|126.80446731808715|126.80446731808715|       0.4009140009809714|16.012999999999998|            82.082|\n",
      "|2016|57727106056527|         Yolo|              Active|20450 County Road 97|          Elementary|                  K-6|     95695|        7/1/1980|           No Data| 38.642231|-121.822455|         38.605|       -121.767|          95695| 0.06771482527256012|  0.6581472158432007| 84.12567138671875| 0.6616215705871582|   2016-01|       2016|     95695|         39144.0|              18858.0|                20286.0|      2113.776|           1112.622|               1014.3|           2544.36| 1489.7820000000002|   1075.1580000000001|           2544.36|             1282.344|               1257.732|          2661.792|             1263.486|                1420.02|          9864.288|    337968|        2016-01|   95695|6.1261907|       2017|    57727106056527|        38.67388|      -121.87208|             2017|           1.32447647|               0| 5567.8613699344905| 129.10846544104348|       null|       null|       null|     null|     null|   null|   null| 0.06771482527256012|  0.6581472158432007| 84.12567138671875| 0.6616215705871582|  5.874323870140522|  5.874323870140522|   123.23414157090295|123.23414157090295|123.23414157090295|        0.451938290956556|          5148.234|           4767.21|\n",
      "|2016|33670410000000|    Riverside|              Active|    1434 Kaiser Road|             No Data|              No Data|     92239|         No Data|           No Data| 33.855120| -115.47808|         33.668|       -115.654|          92239|-0.12397852540016174| -0.9656124711036682| 262.6836242675781| 0.9735389351844788|   2016-01|       2016|     92239|           196.0|                100.0|                   96.0|           0.0|                0.0|                  0.0|13.915999999999999|                9.0|    4.992000000000001|            17.052|                  5.0|                   12.0|            11.956|                  8.0|                  4.032| 42.92399999999999|    338177|        2016-01|   92239|4.5829268|       2017|    33670410000000|        34.13209|      -115.94583|             2017|            0.9671238|               0|  53023.39057853547| 125.27784582729981|       null|       null|       null|     null|     null|   null|   null|-0.12397852540016174| -0.9656124711036682| 262.6836242675781| 0.9735389351844788|-172.68361296548682|-172.68361296548682|    62.03854120721337| 62.03854120721337| 62.03854120721337|        1.468877539721942|              22.0|            21.024|\n",
      "|2016|33670416031900|    Riverside|              Active|    1434 Kaiser Road|          Elementary|                  K-8|     92239|        7/1/1980|           No Data| 33.850239| -115.47102|         33.668|       -115.654|          92239|-0.12397852540016174| -0.9656124711036682| 262.6836242675781| 0.9735389351844788|   2016-01|       2016|     92239|           196.0|                100.0|                   96.0|           0.0|                0.0|                  0.0|13.915999999999999|                9.0|    4.992000000000001|            17.052|                  5.0|                   12.0|            11.956|                  8.0|                  4.032| 42.92399999999999|    338177|        2016-01|   92239|4.5829268|       2017|    33670416031900|        34.13209|      -115.94583|             2017|            0.9671238|               0| 53869.771812849736| 125.34245234796487|       null|       null|       null|     null|     null|   null|   null|-0.12397852540016174| -0.9656124711036682| 262.6836242675781| 0.9735389351844788|-172.68361296548682|-172.68361296548682|    61.97393468654832| 61.97393468654832| 61.97393468654832|       1.4698732058897763|              22.0|            21.024|\n",
      "|2016|19646420000000|  Los Angeles|              Active|34004 128th Stree...|             No Data|              No Data|     93553|         No Data|           No Data| 34.502938| -117.90091|         34.346|       -117.823|          93553| 0.02871648222208023|-0.38732412457466125| 274.2402038574219|0.38838717341423035|   2016-01|       2016|     93553|          1882.0|                888.0|                  994.0|        26.348|                0.0|               25.844|             18.82|             16.872|   1.9880000000000002|           105.392|    85.24799999999999|     20.874000000000002|48.931999999999995|               23.088|                 25.844|           199.492|    338674|        2016-01|   93553|2.5434783|       2017|    19646420000000|       34.534084|     -117.861722|             2017|                2.671|               0| 4988.4709174708305| -133.8262275924393|       null|       null|       null|     null|     null|   null|   null| 0.02871648222208023|-0.38732412457466125| 274.2402038574219|0.38838717341423035| 175.75980859333941| 175.75980859333941|    50.41396381422129| 50.41396381422129| 50.41396381422129|       1.6372361971111458|           125.208| 74.55000000000001|\n",
      "|2016|19646426108542|  Los Angeles|              Active| 12828 East Avenue W|          Elementary|                  K-8|     93553|        7/1/1980|           No Data| 34.498274|-117.899837|         34.346|       -117.823|          93553| 0.02871648222208023|-0.38732412457466125| 274.2402038574219|0.38838717341423035|   2016-01|       2016|     93553|          1882.0|                888.0|                  994.0|        26.348|                0.0|               25.844|             18.82|             16.872|   1.9880000000000002|           105.392|    85.24799999999999|     20.874000000000002|48.931999999999995|               23.088|                 25.844|           199.492|    338674|        2016-01|   93553|2.5434783|       2017|    19646426108542|       34.534084|     -117.861722|             2017|                2.671|               0|  5294.252963825041|-138.60864334143417|       null|       null|       null|     null|     null|   null|   null| 0.02871648222208023|-0.38732412457466125| 274.2402038574219|0.38838717341423035| 175.75980859333941| 175.75980859333941|    45.63154806522641| 45.63154806522641| 45.63154806522641|       1.6992698429431827|           125.208| 74.55000000000001|\n",
      "|2016|37103710115998|    San Diego|              Active|17701 San Pasqual...|         High School|                 9-12|     92025|        7/1/2007|           No Data| 33.086696| -116.94826|         33.043|       -117.042|          92025| 0.15739715099334717|-0.18657393753528595| 310.1515808105469| 0.2440977245569229|   2016-01|       2016|     92025|         53742.0|              26834.0|                26908.0|      4191.876| 2066.2180000000003|              2152.64|           4030.65| 2066.2180000000003|             1991.192|3869.4240000000004|             1851.546|               1991.192|          4460.586|             2254.056|               2233.364|         16552.536|    338206|        2016-01|   92025|7.6384616|       2017|    37103710115998|        33.03891|      -116.91364|             2017|          5.710139556|               0|  6208.045536007495|-31.375471134903883|       null|       null|       null|     null|     null|   null|   null| 0.15739715099334717|-0.18657393753528595| 310.1515808105469| 0.2440977245569229| 139.84841514832289| 139.84841514832289|   171.22388628322676|171.22388628322676|171.22388628322676|     0.011707933289161643|          8238.038|          8368.388|\n",
      "|2016|15635456009641|         Kern|              Active|    13550 Sierra Way|          Elementary|                  K-5|     93238|        7/1/1980|           No Data| 35.756886|  -118.4166|         35.661|       -118.432|          93238|  0.6949357986450195| -0.4778667986392975| 325.4859619140625| 0.8433815836906433|   2016-01|       2016|     93238|          1550.0|                832.0|                  718.0|         111.6|             57.408|                53.85|              46.5|             23.296|               22.976|              65.1|               40.768|     23.694000000000003|              21.7|                  0.0|                 20.822|244.89999999999998|    338558|        2016-01|   93238|1.7846154|       2017|    15635456009641|       35.513841|     -118.901299|             2017|            9.0046618|               0|  51522.89128696913|   58.2993528125989|       null|       null|       null|     null|     null|   null|   null|  0.6949357986450195| -0.4778667986392975| 325.4859619140625| 0.8433815836906433| 124.51403368458494| 124.51403368458494|    66.21468087198605| 66.21468087198605| 66.21468087198605|       1.4033108614400505|121.47200000000001|           121.342|\n",
      "|2016|10622650000000|       Fresno|              Active|   1801 Tenth Street|             No Data|              No Data|     93654|         No Data|           No Data| 36.596434| -119.45337|         36.652|       -119.491|          93654| -0.6876817941665649| 0.22570933401584625|161.82925415039062| 0.7237755060195923|   2016-01|       2016|     93654|         31460.0|              16276.0|                15184.0|       2485.34|            1139.32|             1336.192|           2390.96| 1350.9080000000001|             1032.512|           2705.56|               1627.6|               1093.248|2611.1800000000003|             1269.528|               1351.376|          10193.04|    338328|        2016-01|   93654| 7.929167|       2017|    10622650000000|        36.66634|      -119.44985|             2017|            1.5032344|               0|  7763.906802608556| -177.6749640435878|       null|       null|       null|     null|     null|   null|   null| -0.6876817941665649| 0.22570933401584625|161.82925415039062| 0.7237755060195923| -71.82924875849801| -71.82924875849801|    105.8457152850898| 105.8457152850898| 105.8457152850898|       0.7269521333736846|          5387.356|4813.3279999999995|\n",
      "|2016|10622650106815|       Fresno|              Active|1400 North Frankw...|          Elementary|                  K-8|     93654|       8/16/2004|           No Data| 36.609547|-119.447533|         36.652|       -119.491|          93654| -0.6876817941665649| 0.22570933401584625|161.82925415039062| 0.7237755060195923|   2016-01|       2016|     93654|         31460.0|              16276.0|                15184.0|       2485.34|            1139.32|             1336.192|           2390.96| 1350.9080000000001|             1032.512|           2705.56|               1627.6|               1093.248|2611.1800000000003|             1269.528|               1351.376|          10193.04|    338328|        2016-01|   93654| 7.929167|       2017|    10622650106815|        36.66634|      -119.44985|             2017|            1.5032344|               0|  6305.774131978436|  178.1161754342569|       null|       null|       null|     null|     null|   null|   null| -0.6876817941665649| 0.22570933401584625|161.82925415039062| 0.7237755060195923| -71.82924875849801| -71.82924875849801|    110.0545758072451| 110.0545758072451| 110.0545758072451|       0.6570849596579733|          5387.356|4813.3279999999995|\n",
      "|2016|10622650119800|       Fresno|              Active|   1801 Tenth Street|           Preschool|                    P|     93654|       8/20/1992|           No Data| 36.596422| -119.45336|         36.652|       -119.491|          93654| -0.6876817941665649| 0.22570933401584625|161.82925415039062| 0.7237755060195923|   2016-01|       2016|     93654|         31460.0|              16276.0|                15184.0|       2485.34|            1139.32|             1336.192|           2390.96| 1350.9080000000001|             1032.512|           2705.56|               1627.6|               1093.248|2611.1800000000003|             1269.528|               1351.376|          10193.04|    338328|        2016-01|   93654| 7.929167|       2017|    10622650119800|        36.66634|      -119.44985|             2017|            1.5032344|               0| 7765.2011395084255|-177.68195916889738|       null|       null|       null|     null|     null|   null|   null| -0.6876817941665649| 0.22570933401584625|161.82925415039062| 0.7237755060195923| -71.82924875849801| -71.82924875849801|   105.85271041039937|105.85271041039937|105.85271041039937|       0.7268346867307527|          5387.356|4813.3279999999995|\n",
      "|2016|10622650126292|       Fresno|              Active|995 North Reed Av...|         High School|                 9-12|     93654|       8/27/2012|           No Data| 36.606625|-119.460661|         36.652|       -119.491|          93654| -0.6876817941665649| 0.22570933401584625|161.82925415039062| 0.7237755060195923|   2016-01|       2016|     93654|         31460.0|              16276.0|                15184.0|       2485.34|            1139.32|             1336.192|           2390.96| 1350.9080000000001|             1032.512|           2705.56|               1627.6|               1093.248|2611.1800000000003|             1269.528|               1351.376|          10193.04|    338328|        2016-01|   93654| 7.929167|       2017|    10622650126292|        36.66634|      -119.44985|             2017|            1.5032344|               0|  6696.788390503906|-171.69553005454912|       null|       null|       null|     null|     null|   null|   null| -0.6876817941665649| 0.22570933401584625|161.82925415039062| 0.7237755060195923| -71.82924875849801| -71.82924875849801|    99.86628129605111| 99.86628129605111| 99.86628129605111|       0.8286506979582976|          5387.356|4813.3279999999995|\n",
      "|2016|10622651030220|       Fresno|              Active|740 West North Av...|               Adult|                Adult|     93654|        7/1/1980|           No Data| 36.602331| -119.45566|         36.652|       -119.491|          93654| -0.6876817941665649| 0.22570933401584625|161.82925415039062| 0.7237755060195923|   2016-01|       2016|     93654|         31460.0|              16276.0|                15184.0|       2485.34|            1139.32|             1336.192|           2390.96| 1350.9080000000001|             1032.512|           2705.56|               1627.6|               1093.248|2611.1800000000003|             1269.528|               1351.376|          10193.04|    338328|        2016-01|   93654| 7.929167|       2017|    10622651030220|        36.66634|      -119.44985|             2017|            1.5032344|               0|  7122.111034498586|-175.81429306608788|       null|       null|       null|     null|     null|   null|   null| -0.6876817941665649| 0.22570933401584625|161.82925415039062| 0.7237755060195923| -71.82924875849801| -71.82924875849801|   103.98504430758987|103.98504430758987|103.98504430758987|       0.7583314151644824|          5387.356|4813.3279999999995|\n",
      "|2016|10622651030378|       Fresno|              Active| 877 E. North Avenue|Elementary-High C...|                 K-12|     93654|        7/1/1980|           No Data| 36.602458|-119.454391|         36.652|       -119.491|          93654| -0.6876817941665649| 0.22570933401584625|161.82925415039062| 0.7237755060195923|   2016-01|       2016|     93654|         31460.0|              16276.0|                15184.0|       2485.34|            1139.32|             1336.192|           2390.96| 1350.9080000000001|             1032.512|           2705.56|               1627.6|               1093.248|2611.1800000000003|             1269.528|               1351.376|          10193.04|    338328|        2016-01|   93654| 7.929167|       2017|    10622651030378|        36.66634|      -119.44985|             2017|            1.5032344|               0|  7100.660834178125|-176.71976961404263|       null|       null|       null|     null|     null|   null|   null| -0.6876817941665649| 0.22570933401584625|161.82925415039062| 0.7237755060195923| -71.82924875849801| -71.82924875849801|   104.89052085554462|104.89052085554462|104.89052085554462|        0.743027120005904|          5387.356|4813.3279999999995|\n",
      "|2016|10622651035310|       Fresno|              Active|740 West North Av...|         High School|                 9-12|     93654|        7/1/1980|           No Data| 36.602458|-119.454391|         36.652|       -119.491|          93654| -0.6876817941665649| 0.22570933401584625|161.82925415039062| 0.7237755060195923|   2016-01|       2016|     93654|         31460.0|              16276.0|                15184.0|       2485.34|            1139.32|             1336.192|           2390.96| 1350.9080000000001|             1032.512|           2705.56|               1627.6|               1093.248|2611.1800000000003|             1269.528|               1351.376|          10193.04|    338328|        2016-01|   93654| 7.929167|       2017|    10622651035310|        36.66634|      -119.44985|             2017|            1.5032344|               0|  7100.660834178125|-176.71976961404263|       null|       null|       null|     null|     null|   null|   null| -0.6876817941665649| 0.22570933401584625|161.82925415039062| 0.7237755060195923| -71.82924875849801| -71.82924875849801|   104.89052085554462|104.89052085554462|104.89052085554462|        0.743027120005904|          5387.356|4813.3279999999995|\n",
      "|2016|10622656006761|       Fresno|              Active|360 North East Av...|Intermediate/Midd...|                  6-8|     93654|        7/1/1980|           No Data| 36.599714|-119.442024|         36.652|       -119.491|          93654| -0.6876817941665649| 0.22570933401584625|161.82925415039062| 0.7237755060195923|   2016-01|       2016|     93654|         31460.0|              16276.0|                15184.0|       2485.34|            1139.32|             1336.192|           2390.96| 1350.9080000000001|             1032.512|           2705.56|               1627.6|               1093.248|2611.1800000000003|             1269.528|               1351.376|          10193.04|    338328|        2016-01|   93654| 7.929167|       2017|    10622656006761|        36.66634|      -119.44985|             2017|            1.5032344|               0| 7426.5963633329775|  174.5896499985549|       null|       null|       null|     null|     null|   null|   null| -0.6876817941665649| 0.22570933401584625|161.82925415039062| 0.7237755060195923| -71.82924875849801| -71.82924875849801|   113.58110124294708|113.58110124294708|113.58110124294708|       0.5999532783628281|          5387.356|4813.3279999999995|\n",
      "|2016|10622656006803|       Fresno|              Active|374 East North Av...|          Elementary|                  P-5|     93654|        7/1/1980|           No Data| 36.601627|-119.446445|         36.652|       -119.491|          93654| -0.6876817941665649| 0.22570933401584625|161.82925415039062| 0.7237755060195923|   2016-01|       2016|     93654|         31460.0|              16276.0|                15184.0|       2485.34|            1139.32|             1336.192|           2390.96| 1350.9080000000001|             1032.512|           2705.56|               1627.6|               1093.248|2611.1800000000003|             1269.528|               1351.376|          10193.04|    338328|        2016-01|   93654| 7.929167|       2017|    10622656006803|        36.66634|      -119.44985|             2017|            1.5032344|               0|  7187.707234159809|  177.5707295491031|       null|       null|       null|     null|     null|   null|   null| -0.6876817941665649| 0.22570933401584625|161.82925415039062| 0.7237755060195923| -71.82924875849801| -71.82924875849801|   110.60002169239888|110.60002169239888|110.60002169239888|       0.6481580280221658|          5387.356|4813.3279999999995|\n",
      "+----+--------------+-------------+--------------------+--------------------+--------------------+---------------------+----------+----------------+------------------+----------+-----------+---------------+---------------+---------------+--------------------+--------------------+------------------+-------------------+----------+-----------+----------+----------------+---------------------+-----------------------+--------------+-------------------+---------------------+------------------+-------------------+---------------------+------------------+---------------------+-----------------------+------------------+---------------------+-----------------------+------------------+----------+---------------+--------+---------+-----------+------------------+----------------+----------------+-----------------+---------------------+----------------+-------------------+-------------------+-----------+-----------+-----------+---------+---------+-------+-------+--------------------+--------------------+------------------+-------------------+-------------------+-------------------+---------------------+------------------+------------------+-------------------------+------------------+------------------+\n",
      "only showing top 20 rows\n",
      "\n"
     ]
    }
   ],
   "source": [
    "df_all.show()"
   ]
  },
  {
   "cell_type": "code",
   "execution_count": 85,
   "id": "ab9dfd4a",
   "metadata": {},
   "outputs": [
    {
     "name": "stdout",
     "output_type": "stream",
     "text": [
      "+----+--------------+-------------+--------------------+--------------------+--------------------+---------------------+----------+----------------+------------------+----------+-----------+---------------+---------------+---------------+-------------------+--------------------+------------------+-------------------+----------+-----------+----------+----------------+---------------------+-----------------------+--------------+-------------------+---------------------+------------------+-------------------+---------------------+----------------+---------------------+-----------------------+------------------+---------------------+-----------------------+-----------------+----------+---------------+--------+---------+-----------+------------------+----------------+----------------+-----------------+---------------------+----------------+-------------------+-------------------+-----------+-----------+-----------+-------------------+--------------------+-------------------+-------------------+-------------------+--------------------+-------------------+-------------------+------------------+-------------------+---------------------+------------------+------------------+-------------------------+------------------+------------------+------------------+\n",
      "|year|       cdscode|school_county|school_active_status|       school_street|         school_type|school_grades_offered|school_zip|school_open_date|school_closed_date|school_lat| school_lon|school_wind_lat|school_wind_lon|school_wind_zip|      school_wind_u|       school_wind_v|       school_wdir|        school_wspd|year_month|census_year|census_zip|total_population|total_population_male|total_population_female|population_0_4|population_0_4_male|population_0_4_female|    population_5_9|population_5_9_male|population_5_9_female|population_10_14|population_10_14_male|population_10_14_female|  population_15_19|population_15_19_male|population_15_19_female|total_pop_under19|pm25_index|pm25_year_month|pm25_zip|     pm25|lookup_year|cdscode_closest_ps|point_source_lat|point_source_lon|point_source_year|point_source_pm25_tpy|point_source_zip|dist_school_to_ps_m|    angle_to_school|ps_wind_lat|ps_wind_lon|ps_wind_zip|          ps_wind_u|           ps_wind_v|            ps_wdir|            ps_wspd|    ps_wind_u_merge|     ps_wind_v_merge|      ps_wdir_merge|      ps_wspd_merge|school_wdir_wrt_0N|     ps_wdir_wrt_0N|school_wind_alignment| ps_wind_alignment|avg_wind_alignment|avg_wind_alignment_cosine|  pop_under19_male|pop_under19_female|    avg_wind_speed|\n",
      "+----+--------------+-------------+--------------------+--------------------+--------------------+---------------------+----------+----------------+------------------+----------+-----------+---------------+---------------+---------------+-------------------+--------------------+------------------+-------------------+----------+-----------+----------+----------------+---------------------+-----------------------+--------------+-------------------+---------------------+------------------+-------------------+---------------------+----------------+---------------------+-----------------------+------------------+---------------------+-----------------------+-----------------+----------+---------------+--------+---------+-----------+------------------+----------------+----------------+-----------------+---------------------+----------------+-------------------+-------------------+-----------+-----------+-----------+-------------------+--------------------+-------------------+-------------------+-------------------+--------------------+-------------------+-------------------+------------------+-------------------+---------------------+------------------+------------------+-------------------------+------------------+------------------+------------------+\n",
      "|2006|19647336120794|  Los Angeles|              Active|10001 Jumilla Avenue|          Elementary|                  K-6|     91311|        9/3/1999|           No Data| 34.056304|-118.257394|         34.234|       -118.564|          91311|  1.169479250907898|  0.4128546118736267| 19.44426918029785| 1.2402139902114868|   2006-06|       2006|     91311|         36061.0|              17589.0|                18472.0|        1794.0|              910.0|                884.0|            1988.0|             1021.0|                967.0|          2197.0|               1136.0|                 1061.0|            2328.0|               1234.0|                 1094.0|           8307.0|    136460|        2006-06|   91311|10.545161|       2008|    19647336120794|       34.055837|     -118.243529|             2008|              7.25544|           90012| 1281.1205328518886| -87.67877061318816|     34.046|    -118.24|      90012| 0.7486752867698669|   0.539320707321167|  35.76771926879883| 0.9227033853530884| 0.7486752867698669|   0.539320707321167|  35.76771926879883| 0.9227033853530884| 70.55572942519163| 54.232279912986044|    158.2345000383798|141.91105052617422|  150.072775282277|      0.13334023312337473|            4301.0|            4006.0|1.0814586877822876|\n",
      "|2007|19647336120794|  Los Angeles|              Active|10001 Jumilla Avenue|          Elementary|                  K-6|     91311|        9/3/1999|           No Data| 34.056304|-118.257394|         34.234|       -118.564|          91311| 1.2767947912216187|-0.18771032989025116|  351.636474609375|    1.2905193567276|   2007-04|       2007|     91311|         36185.0|              17651.0|                18534.0|        1769.0|              898.0|                871.0|            1942.0|              997.0|                945.0|          2180.0|               1124.0|                 1056.0|            2355.0|               1248.0|                 1107.0|           8246.0|    154018|        2007-04|   91311|11.264516|       2008|    19647336120794|       34.055837|     -118.243529|             2008|              7.25544|           90012| 1281.1205328518886| -87.67877061318816|     34.046|    -118.24|      90012| 0.9332471489906311|-0.01736518368124962|  358.9339904785156| 0.9334086775779724| 0.9332471489906311|-0.01736518368124962|  358.9339904785156| 0.9334086775779724| 98.36353130324896|  91.06599514689991|    173.9576980835629|178.74476576008806|176.35123192182547|     0.002027081431963...|            4267.0|            3979.0|1.1119640171527863|\n",
      "|2015|19647330127217|  Los Angeles|              Closed| 461 West 9th Street|         High School|                 9-12|     90731|        8/4/2014|         6/30/2021| 34.033078|-118.272071|         33.697|       -118.298|          90731| 1.0174813270568848|-0.08045731484889984|  355.478759765625| 1.0206575393676758|   2015-02|       2015|     90731|         62028.0|              31759.0|                30269.0|      4155.876|           2254.889|             1876.678|3907.7639999999997|            1905.54|   2028.0230000000001|        4093.848|             2191.371|               1876.678|4466.0160000000005|             2381.925|                2118.83|        16623.504|    319137|        2015-02|   90731|17.006666|       2017|    19647330127217|        34.03749|      -118.26614|             2017|           1.01676088|           90015|  734.4987541314479|-131.78004231712904|     34.029|   -118.257|      90015|0.10566005855798721| -0.1562534123659134| 304.06695556640625|0.18862444162368774|0.10566005855798721| -0.1562534123659134| 304.06695556640625|0.18862444162368774|  94.5212546601001| 145.93306460632525|   133.69870302277087| 82.28689307654571|107.99279804965829|       0.6911025843057665|          8733.725|          7900.209|0.6046409904956818|\n",
      "|2010|19647336018709|  Los Angeles|              Active|  7751 Paseo del Rey|          Elementary|                  K-5|     90293|        7/1/1960|           No Data| 33.956961|-118.434031|         33.943|       -118.452|          90293| 1.4658182859420776| -0.3226795196533203|347.58514404296875| 1.5009148120880127|   2010-05|       2010|     90293|         12132.0|               5890.0|                 6242.0|         488.0|              260.0|                228.0|             285.0|              123.0|                162.0|           250.0|                126.0|                  124.0|             228.0|                125.0|                  103.0|           1251.0|    218872|        2010-05|   90293|   10.625|       2011|    19647336018709|       33.942699|     -118.413205|             2011|           1.47345999|           90045| 2491.7368548584177| -50.58285473619526|     33.924|   -118.374|      90045| 1.0824803113937378| 0.10196185857057571| 5.3809733390808105|  1.087271809577942| 1.0824803113937378| 0.10196185857057571| 5.3809733390808105|  1.087271809577942|102.41485623149009|  84.61902609100291|   152.99771096768535|135.20188082719818|144.09979589744177|      0.18996047352750944|             634.0|             617.0|1.2940933108329773|\n",
      "|2018|19647336016778|  Los Angeles|              Active|4220 Dixie Canyon...|          Elementary|                  K-5|     91423|        7/1/1947|           No Data|  34.14798|-118.423943|         34.132|       -118.415|          91423|0.18857772648334503|  0.0801248550415039| 23.02016830444336|0.20489400625228882|   2018-10|       2018|     91423|         33737.0|              15966.0|                17771.0|        1933.0|              961.0|                972.0|            1196.0|              749.0|                447.0|          1351.0|                719.0|                  632.0|            1398.0|                642.0|                  756.0|           5878.0|    396034|        2018-10|   91423|12.883333|       2017|    19647336016778|        34.12499|      -118.47917|             2017|                 1.16|           90049|   5696.64421186388|  63.39082634234663|     34.041|   -118.484|      90049| 0.4264926314353943|0.003181311301887...|0.42737507820129395| 0.4265044927597046| 0.4264926314353943|0.003181311301887...|0.42737507820129395| 0.4265044927597046|  66.9798298206336|  89.57262490141693|    3.589003478286969|  26.1817985590703|14.885401018678635|       1.9664415665996047|            3071.0|            2807.0|0.3156992495059967|\n",
      "|2019|19647336016778|  Los Angeles|              Active|4220 Dixie Canyon...|          Elementary|                  K-5|     91423|        7/1/1947|           No Data|  34.14798|-118.423943|         34.132|       -118.415|          91423| 0.5374557375907898|  0.8021285533905029| 56.17645263671875| 0.9655407071113586|   2019-08|       2019|     91423|         33172.0|              15936.0|                17236.0|        2060.0|             1030.0|               1030.0|            1228.0|              790.0|                438.0|          1353.0|                686.0|                  667.0|            1204.0|                535.0|                  669.0|           5845.0|      null|           null|    null|     null|       2017|    19647336016778|        34.12499|      -118.47917|             2017|                 1.16|           90049|   5696.64421186388|  63.39082634234663|     34.041|   -118.484|      90049| 0.9311808347702026|  0.8267935514450073|    41.601806640625| 1.2452651262283325| 0.9311808347702026|  0.8267935514450073|    41.601806640625| 1.2452651262283325| 33.82354478633042|  48.39819296378659|   29.567281556016212|14.992633378560043|22.279957467288128|        1.925342401161874|            3041.0|            2804.0|1.1054029166698456|\n",
      "|2014|19647336018618|  Los Angeles|              Active|  10650 Ashby Avenue|          Elementary|                  K-5|     90064|        7/1/1931|           No Data| 34.038077| -118.42068|         34.017|       -118.444|          90064|  1.208005428314209|  1.1692465543746948| 44.06592559814453| 1.6811944246292114|   2014-06|       2014|     90064|         25788.0|              12462.0|                13326.0|      1495.704|             747.72|    746.2559999999999|1702.0079999999998|  710.3340000000001|               999.45|        1366.764|              797.568|      573.0179999999999|            902.58|   448.63200000000006|                453.084|         5467.056|    304907|        2014-06|   90064|     18.8|       2014|    19647336018618|        34.05931|      -118.41247|             2014|          3.448960625|           90067|  2474.218981997968| -162.1566201839572|     34.054|   -118.407|      90067| 0.9374694228172302|  0.9941596388816833|  46.68105697631836|  1.366456151008606| 0.9374694228172302|  0.9941596388816833|  46.68105697631836|  1.366456151008606| 45.93407142804621|  43.31894326759792|    151.9093083879966| 154.5244365484449|153.21687246822074|      0.10728146633303914|2704.2540000000004|2771.8079999999995|1.5238252878189087|\n",
      "|2014|19647336019939|  Los Angeles|              Active|   2050 Selby Avenue|          Elementary|                  K-5|     90025|        7/1/1924|           No Data| 34.047836|-118.430409|         34.033|       -118.461|          90025|  1.208005428314209|  1.1692465543746948| 44.06592559814453| 1.6811944246292114|   2014-06|       2014|     90025|         45284.0|              22869.0|                22415.0|      2083.064|            891.891|             1187.995|          1539.656|            754.677|              784.525|         996.248|              480.249|                515.545|           950.964|              525.987|                425.885|         5569.932|    304968|        2014-06|   90025|     18.4|       2014|    19647336019939|        34.05931|      -118.41247|             2014|          3.448960625|           90067| 2088.7833312824537|-127.53522755048178|     34.054|   -118.407|      90067| 0.9374694228172302|  0.9941596388816833|  46.68105697631836|  1.366456151008606| 0.9374694228172302|  0.9941596388816833|  46.68105697631836|  1.366456151008606| 45.93407142804621|  43.31894326759792|     173.469298978528| 170.8541708180797|172.16173489830385|     0.009343025380062708|          2652.804|           2913.95|1.5238252878189087|\n",
      "|2008|54722316105381|       Tulare|              Active|1870 South Laspin...|          Elementary|                  K-6|     93274|        7/1/1980|           No Data| 36.188047|-119.323836|          36.24|       -119.261|          93274| 1.6214404106140137| -0.6386092305183411| 338.5028381347656| 1.7426676750183105|   2008-07|       2008|     93274|         66996.0|              33146.0|                33850.0|        6246.0|             3172.0|               3074.0|            6380.0|             3222.0|               3158.0|          6164.0|               3155.0|                 3009.0|            5939.0|               2985.0|                 2954.0|          24729.0|    180434|        2008-07|   93274|20.390476|       2008|    54722316105381|         36.1822|       -119.3409|             2008|           6.74162391|           90280| 1666.4355061220147|  67.08199611822482|      33.91|    -118.16|      90280| 0.6448423862457275|  1.0323634147644043|  58.00996780395508| 1.2172082662582397| 0.6448423862457275|  1.0323634147644043|  58.00996780395508| 1.2172082662582397|111.49715102494353| 31.990025405354398|   44.415154906718726| 35.09197071287042| 39.75356280979457|       1.7688020760726975|           12534.0|           12195.0|1.4799379706382751|\n",
      "|2008|54722490107649|       Tulare|              Active|1084 South Pratt ...|         High School|                 9-12|     93274|       8/11/2004|           No Data| 36.192818|-119.355638|          36.24|       -119.261|          93274| 1.6214404106140137| -0.6386092305183411| 338.5028381347656| 1.7426676750183105|   2008-07|       2008|     93274|         66996.0|              33146.0|                33850.0|        6246.0|             3172.0|               3074.0|            6380.0|             3222.0|               3158.0|          6164.0|               3155.0|                 3009.0|            5939.0|               2985.0|                 2954.0|          24729.0|    180434|        2008-07|   93274|20.390476|       2008|    54722490107649|         36.1822|       -119.3409|             2008|           6.74162391|           90280| 1773.5784988796247| -48.36651018803622|      33.91|    -118.16|      90280| 0.6448423862457275|  1.0323634147644043|  58.00996780395508| 1.2172082662582397| 0.6448423862457275|  1.0323634147644043|  58.00996780395508| 1.2172082662582397|111.49715102494353| 31.990025405354398|   159.86366121297976| 80.35653559339062|120.11009840318519|      0.49833681829413645|           12534.0|           12195.0|1.4799379706382751|\n",
      "|2008|54722495430145|       Tulare|              Active|737 West Bardsley...|         High School|                 9-12|     93274|       8/25/1993|           No Data| 36.192818|-119.355638|          36.24|       -119.261|          93274| 1.6214404106140137| -0.6386092305183411| 338.5028381347656| 1.7426676750183105|   2008-07|       2008|     93274|         66996.0|              33146.0|                33850.0|        6246.0|             3172.0|               3074.0|            6380.0|             3222.0|               3158.0|          6164.0|               3155.0|                 3009.0|            5939.0|               2985.0|                 2954.0|          24729.0|    180434|        2008-07|   93274|20.390476|       2008|    54722495430145|         36.1822|       -119.3409|             2008|           6.74162391|           90280| 1773.5784988796247| -48.36651018803622|      33.91|    -118.16|      90280| 0.6448423862457275|  1.0323634147644043|  58.00996780395508| 1.2172082662582397| 0.6448423862457275|  1.0323634147644043|  58.00996780395508| 1.2172082662582397|111.49715102494353| 31.990025405354398|   159.86366121297976| 80.35653559339062|120.11009840318519|      0.49833681829413645|           12534.0|           12195.0|1.4799379706382751|\n",
      "|2006|19648650000000|  Los Angeles|              Active|       375 Via Almar|             No Data|              No Data|     90274|         No Data|           No Data| 33.800680| -118.39524|         33.742|       -118.346|          90274| 0.6957867741584778|-0.43773552775382996| 327.8250732421875| 0.8220289945602417|   2006-11|       2006|     90274|         25116.0|              12196.0|                12920.0|        1021.0|              525.0|                496.0|            1648.0|              847.0|                801.0|          1942.0|                982.0|                  960.0|            1658.0|                857.0|                  801.0|           6269.0|    145127|        2006-11|   90274|10.981818|       2008|    19648650000000|        33.81086|     -118.339628|             2008|       1.564054351206|           90505|   5271.71364717449|-102.35260432744256|     33.787|   -118.329|      90505|-0.3438873887062073| -0.7977878451347351| 246.68148803710938| 0.8687484860420227|-0.3438873887062073| -0.7977878451347351| 246.68148803710938| 0.8687484860420227|122.17494596780413|-156.68148503197452|    135.4724497047533|54.328880704531954| 94.90066520464262|       0.9145715374389687|            3211.0|            3058.0|0.8453887403011322|\n",
      "|2006|19648650118638|  Los Angeles|              Active|   3801 Via La Selva|          Elementary|                    P|     90274|        9/1/1998|           No Data| 33.801784|-118.364353|         33.742|       -118.346|          90274| 0.6957867741584778|-0.43773552775382996| 327.8250732421875| 0.8220289945602417|   2006-11|       2006|     90274|         25116.0|              12196.0|                12920.0|        1021.0|              525.0|                496.0|            1648.0|              847.0|                801.0|          1942.0|                982.0|                  960.0|            1658.0|                857.0|                  801.0|           6269.0|    145127|        2006-11|   90274|10.981818|       2008|    19648650118638|        33.81086|     -118.339628|             2008|       1.564054351206|           90505| 2500.9453551071997|-113.72941601028634|     33.787|   -118.329|      90505|-0.3438873887062073| -0.7977878451347351| 246.68148803710938| 0.8687484860420227|-0.3438873887062073| -0.7977878451347351| 246.68148803710938| 0.8687484860420227|122.17494596780413|-156.68148503197452|   124.09563802190951|42.952069021688175| 83.52385352179884|       1.1127895823650369|            3211.0|            3058.0|0.8453887403011322|\n",
      "|2006|19648650141002|  Los Angeles|              Active|  38 Crest Road West|Elementary-High C...|                 K-12|     90274|       8/25/2021|           No Data| 33.759011| -118.36011|         33.742|       -118.346|          90274| 0.6957867741584778|-0.43773552775382996| 327.8250732421875| 0.8220289945602417|   2006-11|       2006|     90274|         25116.0|              12196.0|                12920.0|        1021.0|              525.0|                496.0|            1648.0|              847.0|                801.0|          1942.0|                982.0|                  960.0|            1658.0|                857.0|                  801.0|           6269.0|    145127|        2006-11|   90274|10.981818|       2008|    19648650141002|        33.81086|     -118.339628|             2008|       1.564054351206|           90505|  6055.798297342494| -161.7390874883335|     33.787|   -118.329|      90505|-0.3438873887062073| -0.7977878451347351| 246.68148803710938| 0.8687484860420227|-0.3438873887062073| -0.7977878451347351| 246.68148803710938| 0.8687484860420227|122.17494596780413|-156.68148503197452|    76.08596654386236| 5.057602456358978| 40.57178450011067|       1.7595916990710585|            3211.0|            3058.0|0.8453887403011322|\n",
      "|2006|19648651933308|  Los Angeles|              Active|  38 Crest Road West|         High School|                10-12|     90274|        7/1/1980|           No Data| 33.759321| -118.36102|         33.742|       -118.346|          90274| 0.6957867741584778|-0.43773552775382996| 327.8250732421875| 0.8220289945602417|   2006-11|       2006|     90274|         25116.0|              12196.0|                12920.0|        1021.0|              525.0|                496.0|            1648.0|              847.0|                801.0|          1942.0|                982.0|                  960.0|            1658.0|                857.0|                  801.0|           6269.0|    145127|        2006-11|   90274|10.981818|       2008|    19648651933308|        33.81086|     -118.339628|             2008|       1.564054351206|           90505|  6050.225815329481| -160.8788559057382|     33.787|   -118.329|      90505|-0.3438873887062073| -0.7977878451347351| 246.68148803710938| 0.8687484860420227|-0.3438873887062073| -0.7977878451347351| 246.68148803710938| 0.8687484860420227|122.17494596780413|-156.68148503197452|    76.94619812645766| 4.197370873763674| 40.57178450011067|       1.7595916990710585|            3211.0|            3058.0|0.8453887403011322|\n",
      "|2006|19648651995588|  Los Angeles|              Active|27118 Silver Spur...|         High School|                 9-12|     90274|        9/5/1991|           No Data| 33.779943|-118.372375|         33.742|       -118.346|          90274| 0.6957867741584778|-0.43773552775382996| 327.8250732421875| 0.8220289945602417|   2006-11|       2006|     90274|         25116.0|              12196.0|                12920.0|        1021.0|              525.0|                496.0|            1648.0|              847.0|                801.0|          1942.0|                982.0|                  960.0|            1658.0|                857.0|                  801.0|           6269.0|    145127|        2006-11|   90274|10.981818|       2008|    19648651995588|        33.81086|     -118.339628|             2008|       1.564054351206|           90505|  4577.807986237963| -138.5040735430452|     33.787|   -118.329|      90505|-0.3438873887062073| -0.7977878451347351| 246.68148803710938| 0.8687484860420227|-0.3438873887062073| -0.7977878451347351| 246.68148803710938| 0.8687484860420227|122.17494596780413|-156.68148503197452|    99.32098048915066|18.177411488929323| 58.74919598903999|       1.5187852697316804|            3211.0|            3058.0|0.8453887403011322|\n",
      "|2006|19648651996149|  Los Angeles|              Active|  38 Crest Road West|               Adult|                Adult|     90274|       1/12/1998|           No Data| 33.759011| -118.36011|         33.742|       -118.346|          90274| 0.6957867741584778|-0.43773552775382996| 327.8250732421875| 0.8220289945602417|   2006-11|       2006|     90274|         25116.0|              12196.0|                12920.0|        1021.0|              525.0|                496.0|            1648.0|              847.0|                801.0|          1942.0|                982.0|                  960.0|            1658.0|                857.0|                  801.0|           6269.0|    145127|        2006-11|   90274|10.981818|       2008|    19648651996149|        33.81086|     -118.339628|             2008|       1.564054351206|           90505|  6055.798297342494| -161.7390874883335|     33.787|   -118.329|      90505|-0.3438873887062073| -0.7977878451347351| 246.68148803710938| 0.8687484860420227|-0.3438873887062073| -0.7977878451347351| 246.68148803710938| 0.8687484860420227|122.17494596780413|-156.68148503197452|    76.08596654386236| 5.057602456358978| 40.57178450011067|       1.7595916990710585|            3211.0|            3058.0|0.8453887403011322|\n",
      "|2006|19648651996552|  Los Angeles|              Active|    600 Cloyden Road|         High School|                 9-12|     90274|        9/3/2002|           No Data| 33.779269|-118.419673|         33.742|       -118.346|          90274| 0.6957867741584778|-0.43773552775382996| 327.8250732421875| 0.8220289945602417|   2006-11|       2006|     90274|         25116.0|              12196.0|                12920.0|        1021.0|              525.0|                496.0|            1648.0|              847.0|                801.0|          1942.0|                982.0|                  960.0|            1658.0|                857.0|                  801.0|           6269.0|    145127|        2006-11|   90274|10.981818|       2008|    19648651996552|        33.81086|     -118.339628|             2008|       1.564054351206|           90505|    8199.1242008663|-115.27829095558059|     33.787|   -118.329|      90505|-0.3438873887062073| -0.7977878451347351| 246.68148803710938| 0.8687484860420227|-0.3438873887062073| -0.7977878451347351| 246.68148803710938| 0.8687484860420227|122.17494596780413|-156.68148503197452|   122.54676307661526| 41.40319407639393|  81.9749785765046|       1.1396055680705683|            3211.0|            3058.0|0.8453887403011322|\n",
      "|2006|19648656021240|  Los Angeles|              Active|    520 Paseo Lunado|          Elementary|                  K-5|     90274|        7/1/1957|           No Data| 33.767687|-118.417347|         33.742|       -118.346|          90274| 0.6957867741584778|-0.43773552775382996| 327.8250732421875| 0.8220289945602417|   2006-11|       2006|     90274|         25116.0|              12196.0|                12920.0|        1021.0|              525.0|                496.0|            1648.0|              847.0|                801.0|          1942.0|                982.0|                  960.0|            1658.0|                857.0|                  801.0|           6269.0|    145127|        2006-11|   90274|10.981818|       2008|    19648656021240|        33.81086|     -118.339628|             2008|       1.564054351206|           90505|  8645.166575913145| -123.6144022464519|     33.787|   -118.329|      90505|-0.3438873887062073| -0.7977878451347351| 246.68148803710938| 0.8687484860420227|-0.3438873887062073| -0.7977878451347351| 246.68148803710938| 0.8687484860420227|122.17494596780413|-156.68148503197452|   114.21065178574395|33.067082785522615| 73.63886728563328|        1.281690650717858|            3211.0|            3058.0|0.8453887403011322|\n",
      "|2006|19648656021257|  Los Angeles|              Active|    2161 Via Olivera|Intermediate/Midd...|                  6-8|     90274|        7/1/1980|           No Data| 33.777622|-118.413077|         33.742|       -118.346|          90274| 0.6957867741584778|-0.43773552775382996| 327.8250732421875| 0.8220289945602417|   2006-11|       2006|     90274|         25116.0|              12196.0|                12920.0|        1021.0|              525.0|                496.0|            1648.0|              847.0|                801.0|          1942.0|                982.0|                  960.0|            1658.0|                857.0|                  801.0|           6269.0|    145127|        2006-11|   90274|10.981818|       2008|    19648656021257|        33.81086|     -118.339628|             2008|       1.564054351206|           90505|   7736.76477104769|-118.43786244739562|     33.787|   -118.329|      90505|-0.3438873887062073| -0.7977878451347351| 246.68148803710938| 0.8687484860420227|-0.3438873887062073| -0.7977878451347351| 246.68148803710938| 0.8687484860420227|122.17494596780413|-156.68148503197452|   119.38719158480023|  38.2436225845789| 78.81540708468957|        1.193970584105715|            3211.0|            3058.0|0.8453887403011322|\n",
      "+----+--------------+-------------+--------------------+--------------------+--------------------+---------------------+----------+----------------+------------------+----------+-----------+---------------+---------------+---------------+-------------------+--------------------+------------------+-------------------+----------+-----------+----------+----------------+---------------------+-----------------------+--------------+-------------------+---------------------+------------------+-------------------+---------------------+----------------+---------------------+-----------------------+------------------+---------------------+-----------------------+-----------------+----------+---------------+--------+---------+-----------+------------------+----------------+----------------+-----------------+---------------------+----------------+-------------------+-------------------+-----------+-----------+-----------+-------------------+--------------------+-------------------+-------------------+-------------------+--------------------+-------------------+-------------------+------------------+-------------------+---------------------+------------------+------------------+-------------------------+------------------+------------------+------------------+\n",
      "only showing top 20 rows\n",
      "\n"
     ]
    }
   ],
   "source": [
    "# add avg wind speed\n",
    "\n",
    "df_all = df_all.withColumn(\"avg_wind_speed\", ((df_all.ps_wspd_merge + df_all.school_wspd) / 2).cast('double'))\n",
    "\n",
    "df_all.filter(df_all.ps_wspd.isNotNull()).filter(df_all.ps_wspd != df_all.school_wspd).show()"
   ]
  },
  {
   "cell_type": "code",
   "execution_count": 88,
   "id": "ab7e7e02",
   "metadata": {},
   "outputs": [
    {
     "name": "stdout",
     "output_type": "stream",
     "text": [
      "+-------------+-------------------+-------------+\n",
      "|region_number|        region_name|school_county|\n",
      "+-------------+-------------------+-------------+\n",
      "|            1|Superior California|        Butte|\n",
      "|            1|Superior California|       Colusa|\n",
      "|            1|Superior California|    El Dorado|\n",
      "|            1|Superior California|        Glenn|\n",
      "|            1|Superior California|       Lassen|\n",
      "|            1|Superior California|        Modoc|\n",
      "|            1|Superior California|       Nevada|\n",
      "|            1|Superior California|       Placer|\n",
      "|            1|Superior California|       Plumas|\n",
      "|            1|Superior California|   Sacramento|\n",
      "|            1|Superior California|       Shasta|\n",
      "|            1|Superior California|       Sierra|\n",
      "|            1|Superior California|     Siskiyou|\n",
      "|            1|Superior California|       Sutter|\n",
      "|            1|Superior California|       Tehama|\n",
      "|            1|Superior California|         Yolo|\n",
      "|            1|Superior California|         Yuba|\n",
      "|            2|        North Coast|    Del Norte|\n",
      "|            2|        North Coast|     Humboldt|\n",
      "|            2|        North Coast|         Lake|\n",
      "+-------------+-------------------+-------------+\n",
      "only showing top 20 rows\n",
      "\n"
     ]
    }
   ],
   "source": [
    "regions_by_county = spark.read.option(\"header\",True).csv(os.path.join(gdrive_path, 'county region lookup.csv'))\n",
    "\n",
    "regions_by_county.show()"
   ]
  },
  {
   "cell_type": "code",
   "execution_count": 89,
   "id": "6dfafe27",
   "metadata": {},
   "outputs": [],
   "source": [
    "# join county data\n",
    "\n",
    "df_all = df_all.join(regions_by_county, ['school_county'], 'left')"
   ]
  },
  {
   "cell_type": "code",
   "execution_count": 90,
   "id": "16ed6031",
   "metadata": {},
   "outputs": [
    {
     "name": "stdout",
     "output_type": "stream",
     "text": [
      "+-------------+----+--------------+--------------------+--------------------+--------------------+---------------------+----------+----------------+------------------+----------+-----------+---------------+---------------+---------------+--------------------+--------------------+------------------+-------------------+----------+-----------+----------+----------------+---------------------+-----------------------+--------------+-------------------+---------------------+------------------+-------------------+---------------------+------------------+---------------------+-----------------------+------------------+---------------------+-----------------------+------------------+----------+---------------+--------+---------+-----------+------------------+----------------+----------------+-----------------+---------------------+----------------+-------------------+-------------------+-----------+-----------+-----------+---------+---------+-------+-------+--------------------+--------------------+------------------+-------------------+-------------------+-------------------+---------------------+------------------+------------------+-------------------------+------------------+------------------+-------------------+-------------+--------------------+\n",
      "|school_county|year|       cdscode|school_active_status|       school_street|         school_type|school_grades_offered|school_zip|school_open_date|school_closed_date|school_lat| school_lon|school_wind_lat|school_wind_lon|school_wind_zip|       school_wind_u|       school_wind_v|       school_wdir|        school_wspd|year_month|census_year|census_zip|total_population|total_population_male|total_population_female|population_0_4|population_0_4_male|population_0_4_female|    population_5_9|population_5_9_male|population_5_9_female|  population_10_14|population_10_14_male|population_10_14_female|  population_15_19|population_15_19_male|population_15_19_female| total_pop_under19|pm25_index|pm25_year_month|pm25_zip|     pm25|lookup_year|cdscode_closest_ps|point_source_lat|point_source_lon|point_source_year|point_source_pm25_tpy|point_source_zip|dist_school_to_ps_m|    angle_to_school|ps_wind_lat|ps_wind_lon|ps_wind_zip|ps_wind_u|ps_wind_v|ps_wdir|ps_wspd|     ps_wind_u_merge|     ps_wind_v_merge|     ps_wdir_merge|      ps_wspd_merge| school_wdir_wrt_0N|     ps_wdir_wrt_0N|school_wind_alignment| ps_wind_alignment|avg_wind_alignment|avg_wind_alignment_cosine|  pop_under19_male|pop_under19_female|     avg_wind_speed|region_number|         region_name|\n",
      "+-------------+----+--------------+--------------------+--------------------+--------------------+---------------------+----------+----------------+------------------+----------+-----------+---------------+---------------+---------------+--------------------+--------------------+------------------+-------------------+----------+-----------+----------+----------------+---------------------+-----------------------+--------------+-------------------+---------------------+------------------+-------------------+---------------------+------------------+---------------------+-----------------------+------------------+---------------------+-----------------------+------------------+----------+---------------+--------+---------+-----------+------------------+----------------+----------------+-----------------+---------------------+----------------+-------------------+-------------------+-----------+-----------+-----------+---------+---------+-------+-------+--------------------+--------------------+------------------+-------------------+-------------------+-------------------+---------------------+------------------+------------------+-------------------------+------------------+------------------+-------------------+-------------+--------------------+\n",
      "|Santa Barbara|2001|42692450000000|              Active|2540 Alamo Pintad...|             No Data|              No Data|     93441|         No Data|           No Data| 34.665479| -120.11080|          34.65|       -120.116|          93441|  0.3820219337940216|  -1.043128252029419| 290.1141052246094| 1.1108813285827637|   2001-11|       2001|     93441|          1324.0|                649.0|                  675.0|          74.0|               42.0|                 32.0|              98.0|               45.0|                 53.0|             117.0|                 60.0|                   57.0|              99.0|                 53.0|                   46.0|             388.0|     40135|        2001-11|   93441| 4.891667|       2002|    42692450000000|       34.691002|     -120.037003|             2002|              5.19883|               0|  7331.827366665462|-112.69585791567243|       null|       null|       null|     null|     null|   null|   null|  0.3820219337940216|  -1.043128252029419| 290.1141052246094| 1.1108813285827637| 159.88589549578458| 159.88589549578458|    87.41824658854296| 87.41824658854296| 87.41824658854296|         1.04504487662229|             200.0|             188.0| 1.1108813285827637|            5|       Central Coast|\n",
      "|Santa Barbara|2001|42692454230199|              Closed|2540 Alamo Pintad...|Elementary-High C...|                 K-12|     93441|      11/13/2001|         6/30/2015| 34.665479| -120.11080|          34.65|       -120.116|          93441|  0.3820219337940216|  -1.043128252029419| 290.1141052246094| 1.1108813285827637|   2001-11|       2001|     93441|          1324.0|                649.0|                  675.0|          74.0|               42.0|                 32.0|              98.0|               45.0|                 53.0|             117.0|                 60.0|                   57.0|              99.0|                 53.0|                   46.0|             388.0|     40135|        2001-11|   93441| 4.891667|       2002|    42692454230199|       34.691002|     -120.037003|             2002|              5.19883|               0|  7331.827366665462|-112.69585791567243|       null|       null|       null|     null|     null|   null|   null|  0.3820219337940216|  -1.043128252029419| 290.1141052246094| 1.1108813285827637| 159.88589549578458| 159.88589549578458|    87.41824658854296| 87.41824658854296| 87.41824658854296|         1.04504487662229|             200.0|             188.0| 1.1108813285827637|            5|       Central Coast|\n",
      "|Santa Barbara|2001|42692456045710|              Active|2540 Alamo Pintad...|          Elementary|                  K-8|     93441|        7/1/1980|           No Data| 34.664268|-120.110962|          34.65|       -120.116|          93441|  0.3820219337940216|  -1.043128252029419| 290.1141052246094| 1.1108813285827637|   2001-11|       2001|     93441|          1324.0|                649.0|                  675.0|          74.0|               42.0|                 32.0|              98.0|               45.0|                 53.0|             117.0|                 60.0|                   57.0|              99.0|                 53.0|                   46.0|             388.0|     40135|        2001-11|   93441| 4.891667|       2002|    42692456045710|       34.691002|     -120.037003|             2002|              5.19883|               0|   7398.39093929287|-113.61098323048188|       null|       null|       null|     null|     null|   null|   null|  0.3820219337940216|  -1.043128252029419| 290.1141052246094| 1.1108813285827637| 159.88589549578458| 159.88589549578458|    86.50312127373354| 86.50312127373354| 86.50312127373354|        1.060994190256303|             200.0|             188.0| 1.1108813285827637|            5|       Central Coast|\n",
      "|       Fresno|2016|10101080111682|              Active|64144 Hume Lake Road|Elementary-High C...|                 K-12|     93628|       8/21/2006|           No Data| 36.787211|-118.914189|         36.741|       -118.964|          93628|-0.06927146762609482|0.052916500717401505|142.62376403808594|0.08717048168182373|   2016-01|       2016|     93628|           221.0|                 67.0|                  154.0|           0.0|                0.0|                  0.0|            32.045| 16.012999999999998|   16.016000000000002|            32.045|                  0.0|     32.032000000000004|            34.034|                  0.0|                 34.034|            98.124|    338627|        2016-01|   93628|3.1266665|       2017|    10101080111682|        36.66634|      -119.44985|             2017|            1.5032344|               0|  49694.52522420857|   74.1806907307745|       null|       null|       null|     null|     null|   null|   null|-0.06927146762609482|0.052916500717401505|142.62376403808594|0.08717048168182373|-52.623776587312655|-52.623776587312655|   126.80446731808715|126.80446731808715|126.80446731808715|       0.4009140009809714|16.012999999999998|            82.082|0.08717048168182373|            6|Southern San Joaq...|\n",
      "|         Yolo|2016|57727106056527|              Active|20450 County Road 97|          Elementary|                  K-6|     95695|        7/1/1980|           No Data| 38.642231|-121.822455|         38.605|       -121.767|          95695| 0.06771482527256012|  0.6581472158432007| 84.12567138671875| 0.6616215705871582|   2016-01|       2016|     95695|         39144.0|              18858.0|                20286.0|      2113.776|           1112.622|               1014.3|           2544.36| 1489.7820000000002|   1075.1580000000001|           2544.36|             1282.344|               1257.732|          2661.792|             1263.486|                1420.02|          9864.288|    337968|        2016-01|   95695|6.1261907|       2017|    57727106056527|        38.67388|      -121.87208|             2017|           1.32447647|               0| 5567.8613699344905| 129.10846544104348|       null|       null|       null|     null|     null|   null|   null| 0.06771482527256012|  0.6581472158432007| 84.12567138671875| 0.6616215705871582|  5.874323870140522|  5.874323870140522|   123.23414157090295|123.23414157090295|123.23414157090295|        0.451938290956556|          5148.234|           4767.21| 0.6616215705871582|            1| Superior California|\n",
      "|    Riverside|2016|33670410000000|              Active|    1434 Kaiser Road|             No Data|              No Data|     92239|         No Data|           No Data| 33.855120| -115.47808|         33.668|       -115.654|          92239|-0.12397852540016174| -0.9656124711036682| 262.6836242675781| 0.9735389351844788|   2016-01|       2016|     92239|           196.0|                100.0|                   96.0|           0.0|                0.0|                  0.0|13.915999999999999|                9.0|    4.992000000000001|            17.052|                  5.0|                   12.0|            11.956|                  8.0|                  4.032| 42.92399999999999|    338177|        2016-01|   92239|4.5829268|       2017|    33670410000000|        34.13209|      -115.94583|             2017|            0.9671238|               0|  53023.39057853547| 125.27784582729981|       null|       null|       null|     null|     null|   null|   null|-0.12397852540016174| -0.9656124711036682| 262.6836242675781| 0.9735389351844788|-172.68361296548682|-172.68361296548682|    62.03854120721337| 62.03854120721337| 62.03854120721337|        1.468877539721942|              22.0|            21.024| 0.9735389351844788|            7|       Inland Empire|\n",
      "|    Riverside|2016|33670416031900|              Active|    1434 Kaiser Road|          Elementary|                  K-8|     92239|        7/1/1980|           No Data| 33.850239| -115.47102|         33.668|       -115.654|          92239|-0.12397852540016174| -0.9656124711036682| 262.6836242675781| 0.9735389351844788|   2016-01|       2016|     92239|           196.0|                100.0|                   96.0|           0.0|                0.0|                  0.0|13.915999999999999|                9.0|    4.992000000000001|            17.052|                  5.0|                   12.0|            11.956|                  8.0|                  4.032| 42.92399999999999|    338177|        2016-01|   92239|4.5829268|       2017|    33670416031900|        34.13209|      -115.94583|             2017|            0.9671238|               0| 53869.771812849736| 125.34245234796487|       null|       null|       null|     null|     null|   null|   null|-0.12397852540016174| -0.9656124711036682| 262.6836242675781| 0.9735389351844788|-172.68361296548682|-172.68361296548682|    61.97393468654832| 61.97393468654832| 61.97393468654832|       1.4698732058897763|              22.0|            21.024| 0.9735389351844788|            7|       Inland Empire|\n",
      "|  Los Angeles|2016|19646420000000|              Active|34004 128th Stree...|             No Data|              No Data|     93553|         No Data|           No Data| 34.502938| -117.90091|         34.346|       -117.823|          93553| 0.02871648222208023|-0.38732412457466125| 274.2402038574219|0.38838717341423035|   2016-01|       2016|     93553|          1882.0|                888.0|                  994.0|        26.348|                0.0|               25.844|             18.82|             16.872|   1.9880000000000002|           105.392|    85.24799999999999|     20.874000000000002|48.931999999999995|               23.088|                 25.844|           199.492|    338674|        2016-01|   93553|2.5434783|       2017|    19646420000000|       34.534084|     -117.861722|             2017|                2.671|               0| 4988.4709174708305| -133.8262275924393|       null|       null|       null|     null|     null|   null|   null| 0.02871648222208023|-0.38732412457466125| 274.2402038574219|0.38838717341423035| 175.75980859333941| 175.75980859333941|    50.41396381422129| 50.41396381422129| 50.41396381422129|       1.6372361971111458|           125.208| 74.55000000000001|0.38838717341423035|            8|  Los Angeles County|\n",
      "|  Los Angeles|2016|19646426108542|              Active| 12828 East Avenue W|          Elementary|                  K-8|     93553|        7/1/1980|           No Data| 34.498274|-117.899837|         34.346|       -117.823|          93553| 0.02871648222208023|-0.38732412457466125| 274.2402038574219|0.38838717341423035|   2016-01|       2016|     93553|          1882.0|                888.0|                  994.0|        26.348|                0.0|               25.844|             18.82|             16.872|   1.9880000000000002|           105.392|    85.24799999999999|     20.874000000000002|48.931999999999995|               23.088|                 25.844|           199.492|    338674|        2016-01|   93553|2.5434783|       2017|    19646426108542|       34.534084|     -117.861722|             2017|                2.671|               0|  5294.252963825041|-138.60864334143417|       null|       null|       null|     null|     null|   null|   null| 0.02871648222208023|-0.38732412457466125| 274.2402038574219|0.38838717341423035| 175.75980859333941| 175.75980859333941|    45.63154806522641| 45.63154806522641| 45.63154806522641|       1.6992698429431827|           125.208| 74.55000000000001|0.38838717341423035|            8|  Los Angeles County|\n",
      "|    San Diego|2016|37103710115998|              Active|17701 San Pasqual...|         High School|                 9-12|     92025|        7/1/2007|           No Data| 33.086696| -116.94826|         33.043|       -117.042|          92025| 0.15739715099334717|-0.18657393753528595| 310.1515808105469| 0.2440977245569229|   2016-01|       2016|     92025|         53742.0|              26834.0|                26908.0|      4191.876| 2066.2180000000003|              2152.64|           4030.65| 2066.2180000000003|             1991.192|3869.4240000000004|             1851.546|               1991.192|          4460.586|             2254.056|               2233.364|         16552.536|    338206|        2016-01|   92025|7.6384616|       2017|    37103710115998|        33.03891|      -116.91364|             2017|          5.710139556|               0|  6208.045536007495|-31.375471134903883|       null|       null|       null|     null|     null|   null|   null| 0.15739715099334717|-0.18657393753528595| 310.1515808105469| 0.2440977245569229| 139.84841514832289| 139.84841514832289|   171.22388628322676|171.22388628322676|171.22388628322676|     0.011707933289161643|          8238.038|          8368.388| 0.2440977245569229|           10|San Diego - Imperial|\n",
      "|         Kern|2016|15635456009641|              Active|    13550 Sierra Way|          Elementary|                  K-5|     93238|        7/1/1980|           No Data| 35.756886|  -118.4166|         35.661|       -118.432|          93238|  0.6949357986450195| -0.4778667986392975| 325.4859619140625| 0.8433815836906433|   2016-01|       2016|     93238|          1550.0|                832.0|                  718.0|         111.6|             57.408|                53.85|              46.5|             23.296|               22.976|              65.1|               40.768|     23.694000000000003|              21.7|                  0.0|                 20.822|244.89999999999998|    338558|        2016-01|   93238|1.7846154|       2017|    15635456009641|       35.513841|     -118.901299|             2017|            9.0046618|               0|  51522.89128696913|   58.2993528125989|       null|       null|       null|     null|     null|   null|   null|  0.6949357986450195| -0.4778667986392975| 325.4859619140625| 0.8433815836906433| 124.51403368458494| 124.51403368458494|    66.21468087198605| 66.21468087198605| 66.21468087198605|       1.4033108614400505|121.47200000000001|           121.342| 0.8433815836906433|            6|Southern San Joaq...|\n",
      "|       Fresno|2016|10622650000000|              Active|   1801 Tenth Street|             No Data|              No Data|     93654|         No Data|           No Data| 36.596434| -119.45337|         36.652|       -119.491|          93654| -0.6876817941665649| 0.22570933401584625|161.82925415039062| 0.7237755060195923|   2016-01|       2016|     93654|         31460.0|              16276.0|                15184.0|       2485.34|            1139.32|             1336.192|           2390.96| 1350.9080000000001|             1032.512|           2705.56|               1627.6|               1093.248|2611.1800000000003|             1269.528|               1351.376|          10193.04|    338328|        2016-01|   93654| 7.929167|       2017|    10622650000000|        36.66634|      -119.44985|             2017|            1.5032344|               0|  7763.906802608556| -177.6749640435878|       null|       null|       null|     null|     null|   null|   null| -0.6876817941665649| 0.22570933401584625|161.82925415039062| 0.7237755060195923| -71.82924875849801| -71.82924875849801|    105.8457152850898| 105.8457152850898| 105.8457152850898|       0.7269521333736846|          5387.356|4813.3279999999995| 0.7237755060195923|            6|Southern San Joaq...|\n",
      "|       Fresno|2016|10622650106815|              Active|1400 North Frankw...|          Elementary|                  K-8|     93654|       8/16/2004|           No Data| 36.609547|-119.447533|         36.652|       -119.491|          93654| -0.6876817941665649| 0.22570933401584625|161.82925415039062| 0.7237755060195923|   2016-01|       2016|     93654|         31460.0|              16276.0|                15184.0|       2485.34|            1139.32|             1336.192|           2390.96| 1350.9080000000001|             1032.512|           2705.56|               1627.6|               1093.248|2611.1800000000003|             1269.528|               1351.376|          10193.04|    338328|        2016-01|   93654| 7.929167|       2017|    10622650106815|        36.66634|      -119.44985|             2017|            1.5032344|               0|  6305.774131978436|  178.1161754342569|       null|       null|       null|     null|     null|   null|   null| -0.6876817941665649| 0.22570933401584625|161.82925415039062| 0.7237755060195923| -71.82924875849801| -71.82924875849801|    110.0545758072451| 110.0545758072451| 110.0545758072451|       0.6570849596579733|          5387.356|4813.3279999999995| 0.7237755060195923|            6|Southern San Joaq...|\n",
      "|       Fresno|2016|10622650119800|              Active|   1801 Tenth Street|           Preschool|                    P|     93654|       8/20/1992|           No Data| 36.596422| -119.45336|         36.652|       -119.491|          93654| -0.6876817941665649| 0.22570933401584625|161.82925415039062| 0.7237755060195923|   2016-01|       2016|     93654|         31460.0|              16276.0|                15184.0|       2485.34|            1139.32|             1336.192|           2390.96| 1350.9080000000001|             1032.512|           2705.56|               1627.6|               1093.248|2611.1800000000003|             1269.528|               1351.376|          10193.04|    338328|        2016-01|   93654| 7.929167|       2017|    10622650119800|        36.66634|      -119.44985|             2017|            1.5032344|               0| 7765.2011395084255|-177.68195916889738|       null|       null|       null|     null|     null|   null|   null| -0.6876817941665649| 0.22570933401584625|161.82925415039062| 0.7237755060195923| -71.82924875849801| -71.82924875849801|   105.85271041039937|105.85271041039937|105.85271041039937|       0.7268346867307527|          5387.356|4813.3279999999995| 0.7237755060195923|            6|Southern San Joaq...|\n",
      "|       Fresno|2016|10622650126292|              Active|995 North Reed Av...|         High School|                 9-12|     93654|       8/27/2012|           No Data| 36.606625|-119.460661|         36.652|       -119.491|          93654| -0.6876817941665649| 0.22570933401584625|161.82925415039062| 0.7237755060195923|   2016-01|       2016|     93654|         31460.0|              16276.0|                15184.0|       2485.34|            1139.32|             1336.192|           2390.96| 1350.9080000000001|             1032.512|           2705.56|               1627.6|               1093.248|2611.1800000000003|             1269.528|               1351.376|          10193.04|    338328|        2016-01|   93654| 7.929167|       2017|    10622650126292|        36.66634|      -119.44985|             2017|            1.5032344|               0|  6696.788390503906|-171.69553005454912|       null|       null|       null|     null|     null|   null|   null| -0.6876817941665649| 0.22570933401584625|161.82925415039062| 0.7237755060195923| -71.82924875849801| -71.82924875849801|    99.86628129605111| 99.86628129605111| 99.86628129605111|       0.8286506979582976|          5387.356|4813.3279999999995| 0.7237755060195923|            6|Southern San Joaq...|\n",
      "|       Fresno|2016|10622651030220|              Active|740 West North Av...|               Adult|                Adult|     93654|        7/1/1980|           No Data| 36.602331| -119.45566|         36.652|       -119.491|          93654| -0.6876817941665649| 0.22570933401584625|161.82925415039062| 0.7237755060195923|   2016-01|       2016|     93654|         31460.0|              16276.0|                15184.0|       2485.34|            1139.32|             1336.192|           2390.96| 1350.9080000000001|             1032.512|           2705.56|               1627.6|               1093.248|2611.1800000000003|             1269.528|               1351.376|          10193.04|    338328|        2016-01|   93654| 7.929167|       2017|    10622651030220|        36.66634|      -119.44985|             2017|            1.5032344|               0|  7122.111034498586|-175.81429306608788|       null|       null|       null|     null|     null|   null|   null| -0.6876817941665649| 0.22570933401584625|161.82925415039062| 0.7237755060195923| -71.82924875849801| -71.82924875849801|   103.98504430758987|103.98504430758987|103.98504430758987|       0.7583314151644824|          5387.356|4813.3279999999995| 0.7237755060195923|            6|Southern San Joaq...|\n",
      "|       Fresno|2016|10622651030378|              Active| 877 E. North Avenue|Elementary-High C...|                 K-12|     93654|        7/1/1980|           No Data| 36.602458|-119.454391|         36.652|       -119.491|          93654| -0.6876817941665649| 0.22570933401584625|161.82925415039062| 0.7237755060195923|   2016-01|       2016|     93654|         31460.0|              16276.0|                15184.0|       2485.34|            1139.32|             1336.192|           2390.96| 1350.9080000000001|             1032.512|           2705.56|               1627.6|               1093.248|2611.1800000000003|             1269.528|               1351.376|          10193.04|    338328|        2016-01|   93654| 7.929167|       2017|    10622651030378|        36.66634|      -119.44985|             2017|            1.5032344|               0|  7100.660834178125|-176.71976961404263|       null|       null|       null|     null|     null|   null|   null| -0.6876817941665649| 0.22570933401584625|161.82925415039062| 0.7237755060195923| -71.82924875849801| -71.82924875849801|   104.89052085554462|104.89052085554462|104.89052085554462|        0.743027120005904|          5387.356|4813.3279999999995| 0.7237755060195923|            6|Southern San Joaq...|\n",
      "|       Fresno|2016|10622651035310|              Active|740 West North Av...|         High School|                 9-12|     93654|        7/1/1980|           No Data| 36.602458|-119.454391|         36.652|       -119.491|          93654| -0.6876817941665649| 0.22570933401584625|161.82925415039062| 0.7237755060195923|   2016-01|       2016|     93654|         31460.0|              16276.0|                15184.0|       2485.34|            1139.32|             1336.192|           2390.96| 1350.9080000000001|             1032.512|           2705.56|               1627.6|               1093.248|2611.1800000000003|             1269.528|               1351.376|          10193.04|    338328|        2016-01|   93654| 7.929167|       2017|    10622651035310|        36.66634|      -119.44985|             2017|            1.5032344|               0|  7100.660834178125|-176.71976961404263|       null|       null|       null|     null|     null|   null|   null| -0.6876817941665649| 0.22570933401584625|161.82925415039062| 0.7237755060195923| -71.82924875849801| -71.82924875849801|   104.89052085554462|104.89052085554462|104.89052085554462|        0.743027120005904|          5387.356|4813.3279999999995| 0.7237755060195923|            6|Southern San Joaq...|\n",
      "|       Fresno|2016|10622656006761|              Active|360 North East Av...|Intermediate/Midd...|                  6-8|     93654|        7/1/1980|           No Data| 36.599714|-119.442024|         36.652|       -119.491|          93654| -0.6876817941665649| 0.22570933401584625|161.82925415039062| 0.7237755060195923|   2016-01|       2016|     93654|         31460.0|              16276.0|                15184.0|       2485.34|            1139.32|             1336.192|           2390.96| 1350.9080000000001|             1032.512|           2705.56|               1627.6|               1093.248|2611.1800000000003|             1269.528|               1351.376|          10193.04|    338328|        2016-01|   93654| 7.929167|       2017|    10622656006761|        36.66634|      -119.44985|             2017|            1.5032344|               0| 7426.5963633329775|  174.5896499985549|       null|       null|       null|     null|     null|   null|   null| -0.6876817941665649| 0.22570933401584625|161.82925415039062| 0.7237755060195923| -71.82924875849801| -71.82924875849801|   113.58110124294708|113.58110124294708|113.58110124294708|       0.5999532783628281|          5387.356|4813.3279999999995| 0.7237755060195923|            6|Southern San Joaq...|\n",
      "|       Fresno|2016|10622656006803|              Active|374 East North Av...|          Elementary|                  P-5|     93654|        7/1/1980|           No Data| 36.601627|-119.446445|         36.652|       -119.491|          93654| -0.6876817941665649| 0.22570933401584625|161.82925415039062| 0.7237755060195923|   2016-01|       2016|     93654|         31460.0|              16276.0|                15184.0|       2485.34|            1139.32|             1336.192|           2390.96| 1350.9080000000001|             1032.512|           2705.56|               1627.6|               1093.248|2611.1800000000003|             1269.528|               1351.376|          10193.04|    338328|        2016-01|   93654| 7.929167|       2017|    10622656006803|        36.66634|      -119.44985|             2017|            1.5032344|               0|  7187.707234159809|  177.5707295491031|       null|       null|       null|     null|     null|   null|   null| -0.6876817941665649| 0.22570933401584625|161.82925415039062| 0.7237755060195923| -71.82924875849801| -71.82924875849801|   110.60002169239888|110.60002169239888|110.60002169239888|       0.6481580280221658|          5387.356|4813.3279999999995| 0.7237755060195923|            6|Southern San Joaq...|\n",
      "+-------------+----+--------------+--------------------+--------------------+--------------------+---------------------+----------+----------------+------------------+----------+-----------+---------------+---------------+---------------+--------------------+--------------------+------------------+-------------------+----------+-----------+----------+----------------+---------------------+-----------------------+--------------+-------------------+---------------------+------------------+-------------------+---------------------+------------------+---------------------+-----------------------+------------------+---------------------+-----------------------+------------------+----------+---------------+--------+---------+-----------+------------------+----------------+----------------+-----------------+---------------------+----------------+-------------------+-------------------+-----------+-----------+-----------+---------+---------+-------+-------+--------------------+--------------------+------------------+-------------------+-------------------+-------------------+---------------------+------------------+------------------+-------------------------+------------------+------------------+-------------------+-------------+--------------------+\n",
      "only showing top 20 rows\n",
      "\n"
     ]
    }
   ],
   "source": [
    "df_all.show()"
   ]
  },
  {
   "cell_type": "code",
   "execution_count": 93,
   "id": "f45e281e",
   "metadata": {},
   "outputs": [
    {
     "name": "stdout",
     "output_type": "stream",
     "text": [
      "+-------------+----+-------+--------------------+-------------+-----------+---------------------+----------+----------------+------------------+----------+----------+---------------+---------------+---------------+-------------+-------------+-----------+-----------+----------+-----------+----------+----------------+---------------------+-----------------------+--------------+-------------------+---------------------+--------------+-------------------+---------------------+----------------+---------------------+-----------------------+----------------+---------------------+-----------------------+-----------------+----------+---------------+--------+------+-----------+------------------+----------------+----------------+-----------------+---------------------+----------------+-------------------+---------------+-----------+-----------+-----------+---------+---------+-------+-------+---------------+---------------+-------------+-------------+------------------+--------------+---------------------+-----------------+------------------+-------------------------+----------------+------------------+--------------+--------------------+------------------+\n",
      "|school_county|year|cdscode|school_active_status|school_street|school_type|school_grades_offered|school_zip|school_open_date|school_closed_date|school_lat|school_lon|school_wind_lat|school_wind_lon|school_wind_zip|school_wind_u|school_wind_v|school_wdir|school_wspd|year_month|census_year|census_zip|total_population|total_population_male|total_population_female|population_0_4|population_0_4_male|population_0_4_female|population_5_9|population_5_9_male|population_5_9_female|population_10_14|population_10_14_male|population_10_14_female|population_15_19|population_15_19_male|population_15_19_female|total_pop_under19|pm25_index|pm25_year_month|pm25_zip|  pm25|lookup_year|cdscode_closest_ps|point_source_lat|point_source_lon|point_source_year|point_source_pm25_tpy|point_source_zip|dist_school_to_ps_m|angle_to_school|ps_wind_lat|ps_wind_lon|ps_wind_zip|ps_wind_u|ps_wind_v|ps_wdir|ps_wspd|ps_wind_u_merge|ps_wind_v_merge|ps_wdir_merge|ps_wspd_merge|school_wdir_wrt_0N|ps_wdir_wrt_0N|school_wind_alignment|ps_wind_alignment|avg_wind_alignment|avg_wind_alignment_cosine|pop_under19_male|pop_under19_female|avg_wind_speed|school_region_number|school_region_name|\n",
      "+-------------+----+-------+--------------------+-------------+-----------+---------------------+----------+----------------+------------------+----------+----------+---------------+---------------+---------------+-------------+-------------+-----------+-----------+----------+-----------+----------+----------------+---------------------+-----------------------+--------------+-------------------+---------------------+--------------+-------------------+---------------------+----------------+---------------------+-----------------------+----------------+---------------------+-----------------------+-----------------+----------+---------------+--------+------+-----------+------------------+----------------+----------------+-----------------+---------------------+----------------+-------------------+---------------+-----------+-----------+-----------+---------+---------+-------+-------+---------------+---------------+-------------+-------------+------------------+--------------+---------------------+-----------------+------------------+-------------------------+----------------+------------------+--------------+--------------------+------------------+\n",
      "|            0| 871|      0|                   0|            0|          0|                    0|         0|               0|                 0|         0|         0|            871|            871|            871|          871|          871|        871|        871|       871|        871|       871|            3775|                 3775|                   3775|          3775|               3775|                 3775|          3775|               3775|                 3775|            3775|                 3775|                   3775|            3775|                 3775|                   3775|             3775|    153403|         153403|  153403|153403|        871|               871|             871|             871|              871|                  871|             871|                871|            871|     307831|     307831|     307831|   307831|   307831| 307831| 307831|            871|            871|          871|          871|               871|           871|                  871|              871|               871|                      871|            3775|              3775|           871|                   0|                 0|\n",
      "+-------------+----+-------+--------------------+-------------+-----------+---------------------+----------+----------------+------------------+----------+----------+---------------+---------------+---------------+-------------+-------------+-----------+-----------+----------+-----------+----------+----------------+---------------------+-----------------------+--------------+-------------------+---------------------+--------------+-------------------+---------------------+----------------+---------------------+-----------------------+----------------+---------------------+-----------------------+-----------------+----------+---------------+--------+------+-----------+------------------+----------------+----------------+-----------------+---------------------+----------------+-------------------+---------------+-----------+-----------+-----------+---------+---------+-------+-------+---------------+---------------+-------------+-------------+------------------+--------------+---------------------+-----------------+------------------+-------------------------+----------------+------------------+--------------+--------------------+------------------+\n",
      "\n"
     ]
    }
   ],
   "source": [
    "# spot check for nulls\n",
    "\n",
    "df_all.select([count(when(isnan(c) | col(c).isNull(), c)).alias(c) for c in df_all.columns]).show()"
   ]
  },
  {
   "cell_type": "code",
   "execution_count": 94,
   "id": "7816f20f",
   "metadata": {},
   "outputs": [],
   "source": [
    "df_all = df_all.join(ps_elevations, ['point_source_lat','point_source_lon'], 'left')\n",
    "\n",
    "df_all = df_all.withColumnRenamed(\"elevation_meters\",\"ps_elevation_m\")"
   ]
  },
  {
   "cell_type": "code",
   "execution_count": 98,
   "id": "bd5007b1",
   "metadata": {},
   "outputs": [],
   "source": [
    "df_all = df_all.join(school_elevations, ['cdscode'], 'left')\n",
    "\n",
    "df_all = df_all.withColumnRenamed(\"elevation_meters\",\"school_elevation_m\")"
   ]
  },
  {
   "cell_type": "code",
   "execution_count": 99,
   "id": "8784855f",
   "metadata": {},
   "outputs": [
    {
     "name": "stdout",
     "output_type": "stream",
     "text": [
      "+--------------+----------------+----------------+-------------+----+--------------------+--------------------+--------------------+---------------------+----------+----------------+------------------+----------+-----------+---------------+---------------+---------------+--------------------+--------------------+------------------+-------------------+----------+-----------+----------+----------------+---------------------+-----------------------+--------------+-------------------+---------------------+------------------+-------------------+---------------------+------------------+---------------------+-----------------------+------------------+---------------------+-----------------------+------------------+----------+---------------+--------+---------+-----------+------------------+-----------------+---------------------+----------------+-------------------+-------------------+-----------+-----------+-----------+---------+---------+-------+-------+--------------------+--------------------+------------------+-------------------+-------------------+-------------------+---------------------+------------------+------------------+-------------------------+------------------+------------------+-------------------+--------------------+--------------------+--------------+----------+-----------+------------------+-----------------+\n",
      "|       cdscode|point_source_lat|point_source_lon|school_county|year|school_active_status|       school_street|         school_type|school_grades_offered|school_zip|school_open_date|school_closed_date|school_lat| school_lon|school_wind_lat|school_wind_lon|school_wind_zip|       school_wind_u|       school_wind_v|       school_wdir|        school_wspd|year_month|census_year|census_zip|total_population|total_population_male|total_population_female|population_0_4|population_0_4_male|population_0_4_female|    population_5_9|population_5_9_male|population_5_9_female|  population_10_14|population_10_14_male|population_10_14_female|  population_15_19|population_15_19_male|population_15_19_female| total_pop_under19|pm25_index|pm25_year_month|pm25_zip|     pm25|lookup_year|cdscode_closest_ps|point_source_year|point_source_pm25_tpy|point_source_zip|dist_school_to_ps_m|    angle_to_school|ps_wind_lat|ps_wind_lon|ps_wind_zip|ps_wind_u|ps_wind_v|ps_wdir|ps_wspd|     ps_wind_u_merge|     ps_wind_v_merge|     ps_wdir_merge|      ps_wspd_merge| school_wdir_wrt_0N|     ps_wdir_wrt_0N|school_wind_alignment| ps_wind_alignment|avg_wind_alignment|avg_wind_alignment_cosine|  pop_under19_male|pop_under19_female|     avg_wind_speed|school_region_number|  school_region_name|ps_elevation_m|school_lat| school_lon|school_elevation_m|__index_level_0__|\n",
      "+--------------+----------------+----------------+-------------+----+--------------------+--------------------+--------------------+---------------------+----------+----------------+------------------+----------+-----------+---------------+---------------+---------------+--------------------+--------------------+------------------+-------------------+----------+-----------+----------+----------------+---------------------+-----------------------+--------------+-------------------+---------------------+------------------+-------------------+---------------------+------------------+---------------------+-----------------------+------------------+---------------------+-----------------------+------------------+----------+---------------+--------+---------+-----------+------------------+-----------------+---------------------+----------------+-------------------+-------------------+-----------+-----------+-----------+---------+---------+-------+-------+--------------------+--------------------+------------------+-------------------+-------------------+-------------------+---------------------+------------------+------------------+-------------------------+------------------+------------------+-------------------+--------------------+--------------------+--------------+----------+-----------+------------------+-----------------+\n",
      "|42692450000000|       34.691002|     -120.037003|Santa Barbara|2001|              Active|2540 Alamo Pintad...|             No Data|              No Data|     93441|         No Data|           No Data| 34.665479| -120.11080|          34.65|       -120.116|          93441|  0.3820219337940216|  -1.043128252029419| 290.1141052246094| 1.1108813285827637|   2001-11|       2001|     93441|          1324.0|                649.0|                  675.0|          74.0|               42.0|                 32.0|              98.0|               45.0|                 53.0|             117.0|                 60.0|                   57.0|              99.0|                 53.0|                   46.0|             388.0|     40135|        2001-11|   93441| 4.891667|       2002|    42692450000000|             2002|              5.19883|               0|  7331.827366665462|-112.69585791567243|       null|       null|       null|     null|     null|   null|   null|  0.3820219337940216|  -1.043128252029419| 290.1141052246094| 1.1108813285827637| 159.88589549578458| 159.88589549578458|    87.41824658854296| 87.41824658854296| 87.41824658854296|         1.04504487662229|             200.0|             188.0| 1.1108813285827637|                   5|       Central Coast|        324.84| 34.665479| -120.11080|            259.52|             7230|\n",
      "|42692454230199|       34.691002|     -120.037003|Santa Barbara|2001|              Closed|2540 Alamo Pintad...|Elementary-High C...|                 K-12|     93441|      11/13/2001|         6/30/2015| 34.665479| -120.11080|          34.65|       -120.116|          93441|  0.3820219337940216|  -1.043128252029419| 290.1141052246094| 1.1108813285827637|   2001-11|       2001|     93441|          1324.0|                649.0|                  675.0|          74.0|               42.0|                 32.0|              98.0|               45.0|                 53.0|             117.0|                 60.0|                   57.0|              99.0|                 53.0|                   46.0|             388.0|     40135|        2001-11|   93441| 4.891667|       2002|    42692454230199|             2002|              5.19883|               0|  7331.827366665462|-112.69585791567243|       null|       null|       null|     null|     null|   null|   null|  0.3820219337940216|  -1.043128252029419| 290.1141052246094| 1.1108813285827637| 159.88589549578458| 159.88589549578458|    87.41824658854296| 87.41824658854296| 87.41824658854296|         1.04504487662229|             200.0|             188.0| 1.1108813285827637|                   5|       Central Coast|        324.84| 34.665479| -120.11080|            259.52|             7231|\n",
      "|42692456045710|       34.691002|     -120.037003|Santa Barbara|2001|              Active|2540 Alamo Pintad...|          Elementary|                  K-8|     93441|        7/1/1980|           No Data| 34.664268|-120.110962|          34.65|       -120.116|          93441|  0.3820219337940216|  -1.043128252029419| 290.1141052246094| 1.1108813285827637|   2001-11|       2001|     93441|          1324.0|                649.0|                  675.0|          74.0|               42.0|                 32.0|              98.0|               45.0|                 53.0|             117.0|                 60.0|                   57.0|              99.0|                 53.0|                   46.0|             388.0|     40135|        2001-11|   93441| 4.891667|       2002|    42692456045710|             2002|              5.19883|               0|   7398.39093929287|-113.61098323048188|       null|       null|       null|     null|     null|   null|   null|  0.3820219337940216|  -1.043128252029419| 290.1141052246094| 1.1108813285827637| 159.88589549578458| 159.88589549578458|    86.50312127373354| 86.50312127373354| 86.50312127373354|        1.060994190256303|             200.0|             188.0| 1.1108813285827637|                   5|       Central Coast|        324.84| 34.664268|-120.110962|            253.13|             7232|\n",
      "|10101080111682|        36.66634|      -119.44985|       Fresno|2016|              Active|64144 Hume Lake Road|Elementary-High C...|                 K-12|     93628|       8/21/2006|           No Data| 36.787211|-118.914189|         36.741|       -118.964|          93628|-0.06927146762609482|0.052916500717401505|142.62376403808594|0.08717048168182373|   2016-01|       2016|     93628|           221.0|                 67.0|                  154.0|           0.0|                0.0|                  0.0|            32.045| 16.012999999999998|   16.016000000000002|            32.045|                  0.0|     32.032000000000004|            34.034|                  0.0|                 34.034|            98.124|    338627|        2016-01|   93628|3.1266665|       2017|    10101080111682|             2017|            1.5032344|               0|  49694.52522420857|   74.1806907307745|       null|       null|       null|     null|     null|   null|   null|-0.06927146762609482|0.052916500717401505|142.62376403808594|0.08717048168182373|-52.623776587312655|-52.623776587312655|   126.80446731808715|126.80446731808715|126.80446731808715|       0.4009140009809714|16.012999999999998|            82.082|0.08717048168182373|                   6|Southern San Joaq...|        117.66| 36.787211|-118.914189|           1589.98|              212|\n",
      "|57727106056527|        38.67388|      -121.87208|         Yolo|2016|              Active|20450 County Road 97|          Elementary|                  K-6|     95695|        7/1/1980|           No Data| 38.642231|-121.822455|         38.605|       -121.767|          95695| 0.06771482527256012|  0.6581472158432007| 84.12567138671875| 0.6616215705871582|   2016-01|       2016|     95695|         39144.0|              18858.0|                20286.0|      2113.776|           1112.622|               1014.3|           2544.36| 1489.7820000000002|   1075.1580000000001|           2544.36|             1282.344|               1257.732|          2661.792|             1263.486|                1420.02|          9864.288|    337968|        2016-01|   95695|6.1261907|       2017|    57727106056527|             2017|           1.32447647|               0| 5567.8613699344905| 129.10846544104348|       null|       null|       null|     null|     null|   null|   null| 0.06771482527256012|  0.6581472158432007| 84.12567138671875| 0.6616215705871582|  5.874323870140522|  5.874323870140522|   123.23414157090295|123.23414157090295|123.23414157090295|        0.451938290956556|          5148.234|           4767.21| 0.6616215705871582|                   1| Superior California|         35.47| 38.642231|-121.822455|             24.59|               76|\n",
      "|33670410000000|        34.13209|      -115.94583|    Riverside|2016|              Active|    1434 Kaiser Road|             No Data|              No Data|     92239|         No Data|           No Data| 33.855120| -115.47808|         33.668|       -115.654|          92239|-0.12397852540016174| -0.9656124711036682| 262.6836242675781| 0.9735389351844788|   2016-01|       2016|     92239|           196.0|                100.0|                   96.0|           0.0|                0.0|                  0.0|13.915999999999999|                9.0|    4.992000000000001|            17.052|                  5.0|                   12.0|            11.956|                  8.0|                  4.032| 42.92399999999999|    338177|        2016-01|   92239|4.5829268|       2017|    33670410000000|             2017|            0.9671238|               0|  53023.39057853547| 125.27784582729981|       null|       null|       null|     null|     null|   null|   null|-0.12397852540016174| -0.9656124711036682| 262.6836242675781| 0.9735389351844788|-172.68361296548682|-172.68361296548682|    62.03854120721337| 62.03854120721337| 62.03854120721337|        1.468877539721942|              22.0|            21.024| 0.9735389351844788|                   7|       Inland Empire|        562.44| 33.855120| -115.47808|            388.64|              282|\n",
      "|33670416031900|        34.13209|      -115.94583|    Riverside|2016|              Active|    1434 Kaiser Road|          Elementary|                  K-8|     92239|        7/1/1980|           No Data| 33.850239| -115.47102|         33.668|       -115.654|          92239|-0.12397852540016174| -0.9656124711036682| 262.6836242675781| 0.9735389351844788|   2016-01|       2016|     92239|           196.0|                100.0|                   96.0|           0.0|                0.0|                  0.0|13.915999999999999|                9.0|    4.992000000000001|            17.052|                  5.0|                   12.0|            11.956|                  8.0|                  4.032| 42.92399999999999|    338177|        2016-01|   92239|4.5829268|       2017|    33670416031900|             2017|            0.9671238|               0| 53869.771812849736| 125.34245234796487|       null|       null|       null|     null|     null|   null|   null|-0.12397852540016174| -0.9656124711036682| 262.6836242675781| 0.9735389351844788|-172.68361296548682|-172.68361296548682|    61.97393468654832| 61.97393468654832| 61.97393468654832|       1.4698732058897763|              22.0|            21.024| 0.9735389351844788|                   7|       Inland Empire|        562.44| 33.850239| -115.47102|            365.39|              283|\n",
      "|19646420000000|       34.534084|     -117.861722|  Los Angeles|2016|              Active|34004 128th Stree...|             No Data|              No Data|     93553|         No Data|           No Data| 34.502938| -117.90091|         34.346|       -117.823|          93553| 0.02871648222208023|-0.38732412457466125| 274.2402038574219|0.38838717341423035|   2016-01|       2016|     93553|          1882.0|                888.0|                  994.0|        26.348|                0.0|               25.844|             18.82|             16.872|   1.9880000000000002|           105.392|    85.24799999999999|     20.874000000000002|48.931999999999995|               23.088|                 25.844|           199.492|    338674|        2016-01|   93553|2.5434783|       2017|    19646420000000|             2017|                2.671|               0| 4988.4709174708305| -133.8262275924393|       null|       null|       null|     null|     null|   null|   null| 0.02871648222208023|-0.38732412457466125| 274.2402038574219|0.38838717341423035| 175.75980859333941| 175.75980859333941|    50.41396381422129| 50.41396381422129| 50.41396381422129|       1.6372361971111458|           125.208| 74.55000000000001|0.38838717341423035|                   8|  Los Angeles County|        900.09| 34.502938| -117.90091|            941.66|              118|\n",
      "|19646426108542|       34.534084|     -117.861722|  Los Angeles|2016|              Active| 12828 East Avenue W|          Elementary|                  K-8|     93553|        7/1/1980|           No Data| 34.498274|-117.899837|         34.346|       -117.823|          93553| 0.02871648222208023|-0.38732412457466125| 274.2402038574219|0.38838717341423035|   2016-01|       2016|     93553|          1882.0|                888.0|                  994.0|        26.348|                0.0|               25.844|             18.82|             16.872|   1.9880000000000002|           105.392|    85.24799999999999|     20.874000000000002|48.931999999999995|               23.088|                 25.844|           199.492|    338674|        2016-01|   93553|2.5434783|       2017|    19646426108542|             2017|                2.671|               0|  5294.252963825041|-138.60864334143417|       null|       null|       null|     null|     null|   null|   null| 0.02871648222208023|-0.38732412457466125| 274.2402038574219|0.38838717341423035| 175.75980859333941| 175.75980859333941|    45.63154806522641| 45.63154806522641| 45.63154806522641|       1.6992698429431827|           125.208| 74.55000000000001|0.38838717341423035|                   8|  Los Angeles County|        900.09| 34.498274|-117.899837|            961.14|              119|\n",
      "|37103710115998|        33.03891|      -116.91364|    San Diego|2016|              Active|17701 San Pasqual...|         High School|                 9-12|     92025|        7/1/2007|           No Data| 33.086696| -116.94826|         33.043|       -117.042|          92025| 0.15739715099334717|-0.18657393753528595| 310.1515808105469| 0.2440977245569229|   2016-01|       2016|     92025|         53742.0|              26834.0|                26908.0|      4191.876| 2066.2180000000003|              2152.64|           4030.65| 2066.2180000000003|             1991.192|3869.4240000000004|             1851.546|               1991.192|          4460.586|             2254.056|               2233.364|         16552.536|    338206|        2016-01|   92025|7.6384616|       2017|    37103710115998|             2017|          5.710139556|               0|  6208.045536007495|-31.375471134903883|       null|       null|       null|     null|     null|   null|   null| 0.15739715099334717|-0.18657393753528595| 310.1515808105469| 0.2440977245569229| 139.84841514832289| 139.84841514832289|   171.22388628322676|171.22388628322676|171.22388628322676|     0.011707933289161643|          8238.038|          8368.388| 0.2440977245569229|                  10|San Diego - Imperial|        423.96| 33.086696| -116.94826|            140.75|               75|\n",
      "|15635456009641|       35.513841|     -118.901299|         Kern|2016|              Active|    13550 Sierra Way|          Elementary|                  K-5|     93238|        7/1/1980|           No Data| 35.756886|  -118.4166|         35.661|       -118.432|          93238|  0.6949357986450195| -0.4778667986392975| 325.4859619140625| 0.8433815836906433|   2016-01|       2016|     93238|          1550.0|                832.0|                  718.0|         111.6|             57.408|                53.85|              46.5|             23.296|               22.976|              65.1|               40.768|     23.694000000000003|              21.7|                  0.0|                 20.822|244.89999999999998|    338558|        2016-01|   93238|1.7846154|       2017|    15635456009641|             2017|            9.0046618|               0|  51522.89128696913|   58.2993528125989|       null|       null|       null|     null|     null|   null|   null|  0.6949357986450195| -0.4778667986392975| 325.4859619140625| 0.8433815836906433| 124.51403368458494| 124.51403368458494|    66.21468087198605| 66.21468087198605| 66.21468087198605|       1.4033108614400505|121.47200000000001|           121.342| 0.8433815836906433|                   6|Southern San Joaq...|         250.9| 35.756886|  -118.4166|            840.98|               12|\n",
      "|10622650000000|        36.66634|      -119.44985|       Fresno|2016|              Active|   1801 Tenth Street|             No Data|              No Data|     93654|         No Data|           No Data| 36.596434| -119.45337|         36.652|       -119.491|          93654| -0.6876817941665649| 0.22570933401584625|161.82925415039062| 0.7237755060195923|   2016-01|       2016|     93654|         31460.0|              16276.0|                15184.0|       2485.34|            1139.32|             1336.192|           2390.96| 1350.9080000000001|             1032.512|           2705.56|               1627.6|               1093.248|2611.1800000000003|             1269.528|               1351.376|          10193.04|    338328|        2016-01|   93654| 7.929167|       2017|    10622650000000|             2017|            1.5032344|               0|  7763.906802608556| -177.6749640435878|       null|       null|       null|     null|     null|   null|   null| -0.6876817941665649| 0.22570933401584625|161.82925415039062| 0.7237755060195923| -71.82924875849801| -71.82924875849801|    105.8457152850898| 105.8457152850898| 105.8457152850898|       0.7269521333736846|          5387.356|4813.3279999999995| 0.7237755060195923|                   6|Southern San Joaq...|        117.66| 36.596434| -119.45337|            105.81|              200|\n",
      "|10622650106815|        36.66634|      -119.44985|       Fresno|2016|              Active|1400 North Frankw...|          Elementary|                  K-8|     93654|       8/16/2004|           No Data| 36.609547|-119.447533|         36.652|       -119.491|          93654| -0.6876817941665649| 0.22570933401584625|161.82925415039062| 0.7237755060195923|   2016-01|       2016|     93654|         31460.0|              16276.0|                15184.0|       2485.34|            1139.32|             1336.192|           2390.96| 1350.9080000000001|             1032.512|           2705.56|               1627.6|               1093.248|2611.1800000000003|             1269.528|               1351.376|          10193.04|    338328|        2016-01|   93654| 7.929167|       2017|    10622650106815|             2017|            1.5032344|               0|  6305.774131978436|  178.1161754342569|       null|       null|       null|     null|     null|   null|   null| -0.6876817941665649| 0.22570933401584625|161.82925415039062| 0.7237755060195923| -71.82924875849801| -71.82924875849801|    110.0545758072451| 110.0545758072451| 110.0545758072451|       0.6570849596579733|          5387.356|4813.3279999999995| 0.7237755060195923|                   6|Southern San Joaq...|        117.66| 36.609547|-119.447533|            107.34|              201|\n",
      "|10622650119800|        36.66634|      -119.44985|       Fresno|2016|              Active|   1801 Tenth Street|           Preschool|                    P|     93654|       8/20/1992|           No Data| 36.596422| -119.45336|         36.652|       -119.491|          93654| -0.6876817941665649| 0.22570933401584625|161.82925415039062| 0.7237755060195923|   2016-01|       2016|     93654|         31460.0|              16276.0|                15184.0|       2485.34|            1139.32|             1336.192|           2390.96| 1350.9080000000001|             1032.512|           2705.56|               1627.6|               1093.248|2611.1800000000003|             1269.528|               1351.376|          10193.04|    338328|        2016-01|   93654| 7.929167|       2017|    10622650119800|             2017|            1.5032344|               0| 7765.2011395084255|-177.68195916889738|       null|       null|       null|     null|     null|   null|   null| -0.6876817941665649| 0.22570933401584625|161.82925415039062| 0.7237755060195923| -71.82924875849801| -71.82924875849801|   105.85271041039937|105.85271041039937|105.85271041039937|       0.7268346867307527|          5387.356|4813.3279999999995| 0.7237755060195923|                   6|Southern San Joaq...|        117.66| 36.596422| -119.45336|            105.81|              202|\n",
      "|10622650126292|        36.66634|      -119.44985|       Fresno|2016|              Active|995 North Reed Av...|         High School|                 9-12|     93654|       8/27/2012|           No Data| 36.606625|-119.460661|         36.652|       -119.491|          93654| -0.6876817941665649| 0.22570933401584625|161.82925415039062| 0.7237755060195923|   2016-01|       2016|     93654|         31460.0|              16276.0|                15184.0|       2485.34|            1139.32|             1336.192|           2390.96| 1350.9080000000001|             1032.512|           2705.56|               1627.6|               1093.248|2611.1800000000003|             1269.528|               1351.376|          10193.04|    338328|        2016-01|   93654| 7.929167|       2017|    10622650126292|             2017|            1.5032344|               0|  6696.788390503906|-171.69553005454912|       null|       null|       null|     null|     null|   null|   null| -0.6876817941665649| 0.22570933401584625|161.82925415039062| 0.7237755060195923| -71.82924875849801| -71.82924875849801|    99.86628129605111| 99.86628129605111| 99.86628129605111|       0.8286506979582976|          5387.356|4813.3279999999995| 0.7237755060195923|                   6|Southern San Joaq...|        117.66| 36.606625|-119.460661|            107.41|              203|\n",
      "|10622651030220|        36.66634|      -119.44985|       Fresno|2016|              Active|740 West North Av...|               Adult|                Adult|     93654|        7/1/1980|           No Data| 36.602331| -119.45566|         36.652|       -119.491|          93654| -0.6876817941665649| 0.22570933401584625|161.82925415039062| 0.7237755060195923|   2016-01|       2016|     93654|         31460.0|              16276.0|                15184.0|       2485.34|            1139.32|             1336.192|           2390.96| 1350.9080000000001|             1032.512|           2705.56|               1627.6|               1093.248|2611.1800000000003|             1269.528|               1351.376|          10193.04|    338328|        2016-01|   93654| 7.929167|       2017|    10622651030220|             2017|            1.5032344|               0|  7122.111034498586|-175.81429306608788|       null|       null|       null|     null|     null|   null|   null| -0.6876817941665649| 0.22570933401584625|161.82925415039062| 0.7237755060195923| -71.82924875849801| -71.82924875849801|   103.98504430758987|103.98504430758987|103.98504430758987|       0.7583314151644824|          5387.356|4813.3279999999995| 0.7237755060195923|                   6|Southern San Joaq...|        117.66| 36.602331| -119.45566|            107.24|              204|\n",
      "|10622651030378|        36.66634|      -119.44985|       Fresno|2016|              Active| 877 E. North Avenue|Elementary-High C...|                 K-12|     93654|        7/1/1980|           No Data| 36.602458|-119.454391|         36.652|       -119.491|          93654| -0.6876817941665649| 0.22570933401584625|161.82925415039062| 0.7237755060195923|   2016-01|       2016|     93654|         31460.0|              16276.0|                15184.0|       2485.34|            1139.32|             1336.192|           2390.96| 1350.9080000000001|             1032.512|           2705.56|               1627.6|               1093.248|2611.1800000000003|             1269.528|               1351.376|          10193.04|    338328|        2016-01|   93654| 7.929167|       2017|    10622651030378|             2017|            1.5032344|               0|  7100.660834178125|-176.71976961404263|       null|       null|       null|     null|     null|   null|   null| -0.6876817941665649| 0.22570933401584625|161.82925415039062| 0.7237755060195923| -71.82924875849801| -71.82924875849801|   104.89052085554462|104.89052085554462|104.89052085554462|        0.743027120005904|          5387.356|4813.3279999999995| 0.7237755060195923|                   6|Southern San Joaq...|        117.66| 36.602458|-119.454391|            107.15|              205|\n",
      "|10622651035310|        36.66634|      -119.44985|       Fresno|2016|              Active|740 West North Av...|         High School|                 9-12|     93654|        7/1/1980|           No Data| 36.602458|-119.454391|         36.652|       -119.491|          93654| -0.6876817941665649| 0.22570933401584625|161.82925415039062| 0.7237755060195923|   2016-01|       2016|     93654|         31460.0|              16276.0|                15184.0|       2485.34|            1139.32|             1336.192|           2390.96| 1350.9080000000001|             1032.512|           2705.56|               1627.6|               1093.248|2611.1800000000003|             1269.528|               1351.376|          10193.04|    338328|        2016-01|   93654| 7.929167|       2017|    10622651035310|             2017|            1.5032344|               0|  7100.660834178125|-176.71976961404263|       null|       null|       null|     null|     null|   null|   null| -0.6876817941665649| 0.22570933401584625|161.82925415039062| 0.7237755060195923| -71.82924875849801| -71.82924875849801|   104.89052085554462|104.89052085554462|104.89052085554462|        0.743027120005904|          5387.356|4813.3279999999995| 0.7237755060195923|                   6|Southern San Joaq...|        117.66| 36.602458|-119.454391|            107.15|              206|\n",
      "|10622656006761|        36.66634|      -119.44985|       Fresno|2016|              Active|360 North East Av...|Intermediate/Midd...|                  6-8|     93654|        7/1/1980|           No Data| 36.599714|-119.442024|         36.652|       -119.491|          93654| -0.6876817941665649| 0.22570933401584625|161.82925415039062| 0.7237755060195923|   2016-01|       2016|     93654|         31460.0|              16276.0|                15184.0|       2485.34|            1139.32|             1336.192|           2390.96| 1350.9080000000001|             1032.512|           2705.56|               1627.6|               1093.248|2611.1800000000003|             1269.528|               1351.376|          10193.04|    338328|        2016-01|   93654| 7.929167|       2017|    10622656006761|             2017|            1.5032344|               0| 7426.5963633329775|  174.5896499985549|       null|       null|       null|     null|     null|   null|   null| -0.6876817941665649| 0.22570933401584625|161.82925415039062| 0.7237755060195923| -71.82924875849801| -71.82924875849801|   113.58110124294708|113.58110124294708|113.58110124294708|       0.5999532783628281|          5387.356|4813.3279999999995| 0.7237755060195923|                   6|Southern San Joaq...|        117.66| 36.599714|-119.442024|            106.37|              207|\n",
      "|10622656006803|        36.66634|      -119.44985|       Fresno|2016|              Active|374 East North Av...|          Elementary|                  P-5|     93654|        7/1/1980|           No Data| 36.601627|-119.446445|         36.652|       -119.491|          93654| -0.6876817941665649| 0.22570933401584625|161.82925415039062| 0.7237755060195923|   2016-01|       2016|     93654|         31460.0|              16276.0|                15184.0|       2485.34|            1139.32|             1336.192|           2390.96| 1350.9080000000001|             1032.512|           2705.56|               1627.6|               1093.248|2611.1800000000003|             1269.528|               1351.376|          10193.04|    338328|        2016-01|   93654| 7.929167|       2017|    10622656006803|             2017|            1.5032344|               0|  7187.707234159809|  177.5707295491031|       null|       null|       null|     null|     null|   null|   null| -0.6876817941665649| 0.22570933401584625|161.82925415039062| 0.7237755060195923| -71.82924875849801| -71.82924875849801|   110.60002169239888|110.60002169239888|110.60002169239888|       0.6481580280221658|          5387.356|4813.3279999999995| 0.7237755060195923|                   6|Southern San Joaq...|        117.66| 36.601627|-119.446445|            107.11|              208|\n",
      "+--------------+----------------+----------------+-------------+----+--------------------+--------------------+--------------------+---------------------+----------+----------------+------------------+----------+-----------+---------------+---------------+---------------+--------------------+--------------------+------------------+-------------------+----------+-----------+----------+----------------+---------------------+-----------------------+--------------+-------------------+---------------------+------------------+-------------------+---------------------+------------------+---------------------+-----------------------+------------------+---------------------+-----------------------+------------------+----------+---------------+--------+---------+-----------+------------------+-----------------+---------------------+----------------+-------------------+-------------------+-----------+-----------+-----------+---------+---------+-------+-------+--------------------+--------------------+------------------+-------------------+-------------------+-------------------+---------------------+------------------+------------------+-------------------------+------------------+------------------+-------------------+--------------------+--------------------+--------------+----------+-----------+------------------+-----------------+\n",
      "only showing top 20 rows\n",
      "\n"
     ]
    }
   ],
   "source": [
    "df_all.show()"
   ]
  },
  {
   "cell_type": "code",
   "execution_count": 100,
   "id": "5291457c",
   "metadata": {},
   "outputs": [
    {
     "name": "stdout",
     "output_type": "stream",
     "text": [
      "['cdscode', 'point_source_lat', 'point_source_lon', 'school_county', 'year', 'school_active_status', 'school_street', 'school_type', 'school_grades_offered', 'school_zip', 'school_open_date', 'school_closed_date', 'school_lat', 'school_lon', 'school_wind_lat', 'school_wind_lon', 'school_wind_zip', 'school_wind_u', 'school_wind_v', 'school_wdir', 'school_wspd', 'year_month', 'census_year', 'census_zip', 'total_population', 'total_population_male', 'total_population_female', 'population_0_4', 'population_0_4_male', 'population_0_4_female', 'population_5_9', 'population_5_9_male', 'population_5_9_female', 'population_10_14', 'population_10_14_male', 'population_10_14_female', 'population_15_19', 'population_15_19_male', 'population_15_19_female', 'total_pop_under19', 'pm25_index', 'pm25_year_month', 'pm25_zip', 'pm25', 'lookup_year', 'cdscode_closest_ps', 'point_source_year', 'point_source_pm25_tpy', 'point_source_zip', 'dist_school_to_ps_m', 'angle_to_school', 'ps_wind_lat', 'ps_wind_lon', 'ps_wind_zip', 'ps_wind_u', 'ps_wind_v', 'ps_wdir', 'ps_wspd', 'ps_wind_u_merge', 'ps_wind_v_merge', 'ps_wdir_merge', 'ps_wspd_merge', 'school_wdir_wrt_0N', 'ps_wdir_wrt_0N', 'school_wind_alignment', 'ps_wind_alignment', 'avg_wind_alignment', 'avg_wind_alignment_cosine', 'pop_under19_male', 'pop_under19_female', 'avg_wind_speed', 'school_region_number', 'school_region_name', 'ps_elevation_m', 'school_lat', 'school_lon', 'school_elevation_m', '__index_level_0__']\n"
     ]
    }
   ],
   "source": [
    "# accidentally acquired some duplicate colnames; fixing\n",
    "\n",
    "colnames = df_all.columns\n",
    "print(colnames)"
   ]
  },
  {
   "cell_type": "code",
   "execution_count": 102,
   "id": "fd0b76d9",
   "metadata": {},
   "outputs": [
    {
     "name": "stdout",
     "output_type": "stream",
     "text": [
      "['0', '1', '2', '3', '4', '5', '6', '7', '8', '9', '10', '11', '12', '13', '14', '15', '16', '17', '18', '19', '20', '21', '22', '23', '24', '25', '26', '27', '28', '29', '30', '31', '32', '33', '34', '35', '36', '37', '38', '39', '40', '41', '42', '43', '44', '45', '46', '47', '48', '49', '50', '51', '52', '53', '54', '55', '56', '57', '58', '59', '60', '61', '62', '63', '64', '65', '66', '67', '68', '69', '70', '71', '72', '73', '74', '75', '76', '77']\n"
     ]
    }
   ],
   "source": [
    "df_all_rename = df_all.toDF(*map(str, range(len(colnames))))\n",
    "print(df_all_rename.columns)"
   ]
  },
  {
   "cell_type": "code",
   "execution_count": 103,
   "id": "1663011d",
   "metadata": {},
   "outputs": [
    {
     "name": "stdout",
     "output_type": "stream",
     "text": [
      "['cdscode', 'point_source_lat', 'point_source_lon', 'school_county', 'year', 'school_active_status', 'school_street', 'school_type', 'school_grades_offered', 'school_zip', 'school_open_date', 'school_closed_date', 'school_lat', 'school_lon', 'school_wind_lat', 'school_wind_lon', 'school_wind_zip', 'school_wind_u', 'school_wind_v', 'school_wdir', 'school_wspd', 'year_month', 'census_year', 'census_zip', 'total_population', 'total_population_male', 'total_population_female', 'population_0_4', 'population_0_4_male', 'population_0_4_female', 'population_5_9', 'population_5_9_male', 'population_5_9_female', 'population_10_14', 'population_10_14_male', 'population_10_14_female', 'population_15_19', 'population_15_19_male', 'population_15_19_female', 'total_pop_under19', 'pm25_index', 'pm25_year_month', 'pm25_zip', 'pm25', 'lookup_year', 'cdscode_closest_ps', 'point_source_year', 'point_source_pm25_tpy', 'point_source_zip', 'dist_school_to_ps_m', 'angle_to_school', 'ps_wind_lat', 'ps_wind_lon', 'ps_wind_zip', 'ps_wind_u', 'ps_wind_v', 'ps_wdir', 'ps_wspd', 'ps_wind_u_merge', 'ps_wind_v_merge', 'ps_wdir_merge', 'ps_wspd_merge', 'school_wdir_wrt_0N', 'ps_wdir_wrt_0N', 'school_wind_alignment', 'ps_wind_alignment', 'avg_wind_alignment', 'avg_wind_alignment_cosine', 'pop_under19_male', 'pop_under19_female', 'avg_wind_speed', 'school_region_number', 'school_region_name', 'ps_elevation_m', 'school_elevation_m']\n"
     ]
    }
   ],
   "source": [
    "df_all_rename = df_all_rename.drop(df_all_rename.columns[-1])\n",
    "del colnames[-1]\n",
    "df_all_rename = df_all_rename.drop(df_all_rename.columns[-2])\n",
    "del colnames[-2]\n",
    "df_all_rename = df_all_rename.drop(df_all_rename.columns[-2])\n",
    "del colnames[-2]\n",
    "\n",
    "print(colnames)"
   ]
  },
  {
   "cell_type": "code",
   "execution_count": 105,
   "id": "8a4d0553",
   "metadata": {},
   "outputs": [
    {
     "name": "stdout",
     "output_type": "stream",
     "text": [
      "+--------------+----------------+----------------+-------------+----+--------------------+--------------------+--------------------+---------------------+----------+----------------+------------------+----------+-----------+---------------+---------------+---------------+--------------------+--------------------+------------------+-------------------+----------+-----------+----------+----------------+---------------------+-----------------------+--------------+-------------------+---------------------+------------------+-------------------+---------------------+------------------+---------------------+-----------------------+------------------+---------------------+-----------------------+------------------+----------+---------------+--------+---------+-----------+------------------+-----------------+---------------------+----------------+-------------------+-------------------+-----------+-----------+-----------+---------+---------+-------+-------+--------------------+--------------------+------------------+-------------------+-------------------+-------------------+---------------------+------------------+------------------+-------------------------+------------------+------------------+-------------------+--------------------+--------------------+--------------+------------------+\n",
      "|       cdscode|point_source_lat|point_source_lon|school_county|year|school_active_status|       school_street|         school_type|school_grades_offered|school_zip|school_open_date|school_closed_date|school_lat| school_lon|school_wind_lat|school_wind_lon|school_wind_zip|       school_wind_u|       school_wind_v|       school_wdir|        school_wspd|year_month|census_year|census_zip|total_population|total_population_male|total_population_female|population_0_4|population_0_4_male|population_0_4_female|    population_5_9|population_5_9_male|population_5_9_female|  population_10_14|population_10_14_male|population_10_14_female|  population_15_19|population_15_19_male|population_15_19_female| total_pop_under19|pm25_index|pm25_year_month|pm25_zip|     pm25|lookup_year|cdscode_closest_ps|point_source_year|point_source_pm25_tpy|point_source_zip|dist_school_to_ps_m|    angle_to_school|ps_wind_lat|ps_wind_lon|ps_wind_zip|ps_wind_u|ps_wind_v|ps_wdir|ps_wspd|     ps_wind_u_merge|     ps_wind_v_merge|     ps_wdir_merge|      ps_wspd_merge| school_wdir_wrt_0N|     ps_wdir_wrt_0N|school_wind_alignment| ps_wind_alignment|avg_wind_alignment|avg_wind_alignment_cosine|  pop_under19_male|pop_under19_female|     avg_wind_speed|school_region_number|  school_region_name|ps_elevation_m|school_elevation_m|\n",
      "+--------------+----------------+----------------+-------------+----+--------------------+--------------------+--------------------+---------------------+----------+----------------+------------------+----------+-----------+---------------+---------------+---------------+--------------------+--------------------+------------------+-------------------+----------+-----------+----------+----------------+---------------------+-----------------------+--------------+-------------------+---------------------+------------------+-------------------+---------------------+------------------+---------------------+-----------------------+------------------+---------------------+-----------------------+------------------+----------+---------------+--------+---------+-----------+------------------+-----------------+---------------------+----------------+-------------------+-------------------+-----------+-----------+-----------+---------+---------+-------+-------+--------------------+--------------------+------------------+-------------------+-------------------+-------------------+---------------------+------------------+------------------+-------------------------+------------------+------------------+-------------------+--------------------+--------------------+--------------+------------------+\n",
      "|42692450000000|       34.691002|     -120.037003|Santa Barbara|2001|              Active|2540 Alamo Pintad...|             No Data|              No Data|     93441|         No Data|           No Data| 34.665479| -120.11080|          34.65|       -120.116|          93441|  0.3820219337940216|  -1.043128252029419| 290.1141052246094| 1.1108813285827637|   2001-11|       2001|     93441|          1324.0|                649.0|                  675.0|          74.0|               42.0|                 32.0|              98.0|               45.0|                 53.0|             117.0|                 60.0|                   57.0|              99.0|                 53.0|                   46.0|             388.0|     40135|        2001-11|   93441| 4.891667|       2002|    42692450000000|             2002|              5.19883|               0|  7331.827366665462|-112.69585791567243|       null|       null|       null|     null|     null|   null|   null|  0.3820219337940216|  -1.043128252029419| 290.1141052246094| 1.1108813285827637| 159.88589549578458| 159.88589549578458|    87.41824658854296| 87.41824658854296| 87.41824658854296|         1.04504487662229|             200.0|             188.0| 1.1108813285827637|                   5|       Central Coast|        324.84|            259.52|\n",
      "|42692454230199|       34.691002|     -120.037003|Santa Barbara|2001|              Closed|2540 Alamo Pintad...|Elementary-High C...|                 K-12|     93441|      11/13/2001|         6/30/2015| 34.665479| -120.11080|          34.65|       -120.116|          93441|  0.3820219337940216|  -1.043128252029419| 290.1141052246094| 1.1108813285827637|   2001-11|       2001|     93441|          1324.0|                649.0|                  675.0|          74.0|               42.0|                 32.0|              98.0|               45.0|                 53.0|             117.0|                 60.0|                   57.0|              99.0|                 53.0|                   46.0|             388.0|     40135|        2001-11|   93441| 4.891667|       2002|    42692454230199|             2002|              5.19883|               0|  7331.827366665462|-112.69585791567243|       null|       null|       null|     null|     null|   null|   null|  0.3820219337940216|  -1.043128252029419| 290.1141052246094| 1.1108813285827637| 159.88589549578458| 159.88589549578458|    87.41824658854296| 87.41824658854296| 87.41824658854296|         1.04504487662229|             200.0|             188.0| 1.1108813285827637|                   5|       Central Coast|        324.84|            259.52|\n",
      "|42692456045710|       34.691002|     -120.037003|Santa Barbara|2001|              Active|2540 Alamo Pintad...|          Elementary|                  K-8|     93441|        7/1/1980|           No Data| 34.664268|-120.110962|          34.65|       -120.116|          93441|  0.3820219337940216|  -1.043128252029419| 290.1141052246094| 1.1108813285827637|   2001-11|       2001|     93441|          1324.0|                649.0|                  675.0|          74.0|               42.0|                 32.0|              98.0|               45.0|                 53.0|             117.0|                 60.0|                   57.0|              99.0|                 53.0|                   46.0|             388.0|     40135|        2001-11|   93441| 4.891667|       2002|    42692456045710|             2002|              5.19883|               0|   7398.39093929287|-113.61098323048188|       null|       null|       null|     null|     null|   null|   null|  0.3820219337940216|  -1.043128252029419| 290.1141052246094| 1.1108813285827637| 159.88589549578458| 159.88589549578458|    86.50312127373354| 86.50312127373354| 86.50312127373354|        1.060994190256303|             200.0|             188.0| 1.1108813285827637|                   5|       Central Coast|        324.84|            253.13|\n",
      "|10101080111682|        36.66634|      -119.44985|       Fresno|2016|              Active|64144 Hume Lake Road|Elementary-High C...|                 K-12|     93628|       8/21/2006|           No Data| 36.787211|-118.914189|         36.741|       -118.964|          93628|-0.06927146762609482|0.052916500717401505|142.62376403808594|0.08717048168182373|   2016-01|       2016|     93628|           221.0|                 67.0|                  154.0|           0.0|                0.0|                  0.0|            32.045| 16.012999999999998|   16.016000000000002|            32.045|                  0.0|     32.032000000000004|            34.034|                  0.0|                 34.034|            98.124|    338627|        2016-01|   93628|3.1266665|       2017|    10101080111682|             2017|            1.5032344|               0|  49694.52522420857|   74.1806907307745|       null|       null|       null|     null|     null|   null|   null|-0.06927146762609482|0.052916500717401505|142.62376403808594|0.08717048168182373|-52.623776587312655|-52.623776587312655|   126.80446731808715|126.80446731808715|126.80446731808715|       0.4009140009809714|16.012999999999998|            82.082|0.08717048168182373|                   6|Southern San Joaq...|        117.66|           1589.98|\n",
      "|57727106056527|        38.67388|      -121.87208|         Yolo|2016|              Active|20450 County Road 97|          Elementary|                  K-6|     95695|        7/1/1980|           No Data| 38.642231|-121.822455|         38.605|       -121.767|          95695| 0.06771482527256012|  0.6581472158432007| 84.12567138671875| 0.6616215705871582|   2016-01|       2016|     95695|         39144.0|              18858.0|                20286.0|      2113.776|           1112.622|               1014.3|           2544.36| 1489.7820000000002|   1075.1580000000001|           2544.36|             1282.344|               1257.732|          2661.792|             1263.486|                1420.02|          9864.288|    337968|        2016-01|   95695|6.1261907|       2017|    57727106056527|             2017|           1.32447647|               0| 5567.8613699344905| 129.10846544104348|       null|       null|       null|     null|     null|   null|   null| 0.06771482527256012|  0.6581472158432007| 84.12567138671875| 0.6616215705871582|  5.874323870140522|  5.874323870140522|   123.23414157090295|123.23414157090295|123.23414157090295|        0.451938290956556|          5148.234|           4767.21| 0.6616215705871582|                   1| Superior California|         35.47|             24.59|\n",
      "|33670410000000|        34.13209|      -115.94583|    Riverside|2016|              Active|    1434 Kaiser Road|             No Data|              No Data|     92239|         No Data|           No Data| 33.855120| -115.47808|         33.668|       -115.654|          92239|-0.12397852540016174| -0.9656124711036682| 262.6836242675781| 0.9735389351844788|   2016-01|       2016|     92239|           196.0|                100.0|                   96.0|           0.0|                0.0|                  0.0|13.915999999999999|                9.0|    4.992000000000001|            17.052|                  5.0|                   12.0|            11.956|                  8.0|                  4.032| 42.92399999999999|    338177|        2016-01|   92239|4.5829268|       2017|    33670410000000|             2017|            0.9671238|               0|  53023.39057853547| 125.27784582729981|       null|       null|       null|     null|     null|   null|   null|-0.12397852540016174| -0.9656124711036682| 262.6836242675781| 0.9735389351844788|-172.68361296548682|-172.68361296548682|    62.03854120721337| 62.03854120721337| 62.03854120721337|        1.468877539721942|              22.0|            21.024| 0.9735389351844788|                   7|       Inland Empire|        562.44|            388.64|\n",
      "|33670416031900|        34.13209|      -115.94583|    Riverside|2016|              Active|    1434 Kaiser Road|          Elementary|                  K-8|     92239|        7/1/1980|           No Data| 33.850239| -115.47102|         33.668|       -115.654|          92239|-0.12397852540016174| -0.9656124711036682| 262.6836242675781| 0.9735389351844788|   2016-01|       2016|     92239|           196.0|                100.0|                   96.0|           0.0|                0.0|                  0.0|13.915999999999999|                9.0|    4.992000000000001|            17.052|                  5.0|                   12.0|            11.956|                  8.0|                  4.032| 42.92399999999999|    338177|        2016-01|   92239|4.5829268|       2017|    33670416031900|             2017|            0.9671238|               0| 53869.771812849736| 125.34245234796487|       null|       null|       null|     null|     null|   null|   null|-0.12397852540016174| -0.9656124711036682| 262.6836242675781| 0.9735389351844788|-172.68361296548682|-172.68361296548682|    61.97393468654832| 61.97393468654832| 61.97393468654832|       1.4698732058897763|              22.0|            21.024| 0.9735389351844788|                   7|       Inland Empire|        562.44|            365.39|\n",
      "|19646420000000|       34.534084|     -117.861722|  Los Angeles|2016|              Active|34004 128th Stree...|             No Data|              No Data|     93553|         No Data|           No Data| 34.502938| -117.90091|         34.346|       -117.823|          93553| 0.02871648222208023|-0.38732412457466125| 274.2402038574219|0.38838717341423035|   2016-01|       2016|     93553|          1882.0|                888.0|                  994.0|        26.348|                0.0|               25.844|             18.82|             16.872|   1.9880000000000002|           105.392|    85.24799999999999|     20.874000000000002|48.931999999999995|               23.088|                 25.844|           199.492|    338674|        2016-01|   93553|2.5434783|       2017|    19646420000000|             2017|                2.671|               0| 4988.4709174708305| -133.8262275924393|       null|       null|       null|     null|     null|   null|   null| 0.02871648222208023|-0.38732412457466125| 274.2402038574219|0.38838717341423035| 175.75980859333941| 175.75980859333941|    50.41396381422129| 50.41396381422129| 50.41396381422129|       1.6372361971111458|           125.208| 74.55000000000001|0.38838717341423035|                   8|  Los Angeles County|        900.09|            941.66|\n",
      "|19646426108542|       34.534084|     -117.861722|  Los Angeles|2016|              Active| 12828 East Avenue W|          Elementary|                  K-8|     93553|        7/1/1980|           No Data| 34.498274|-117.899837|         34.346|       -117.823|          93553| 0.02871648222208023|-0.38732412457466125| 274.2402038574219|0.38838717341423035|   2016-01|       2016|     93553|          1882.0|                888.0|                  994.0|        26.348|                0.0|               25.844|             18.82|             16.872|   1.9880000000000002|           105.392|    85.24799999999999|     20.874000000000002|48.931999999999995|               23.088|                 25.844|           199.492|    338674|        2016-01|   93553|2.5434783|       2017|    19646426108542|             2017|                2.671|               0|  5294.252963825041|-138.60864334143417|       null|       null|       null|     null|     null|   null|   null| 0.02871648222208023|-0.38732412457466125| 274.2402038574219|0.38838717341423035| 175.75980859333941| 175.75980859333941|    45.63154806522641| 45.63154806522641| 45.63154806522641|       1.6992698429431827|           125.208| 74.55000000000001|0.38838717341423035|                   8|  Los Angeles County|        900.09|            961.14|\n",
      "|37103710115998|        33.03891|      -116.91364|    San Diego|2016|              Active|17701 San Pasqual...|         High School|                 9-12|     92025|        7/1/2007|           No Data| 33.086696| -116.94826|         33.043|       -117.042|          92025| 0.15739715099334717|-0.18657393753528595| 310.1515808105469| 0.2440977245569229|   2016-01|       2016|     92025|         53742.0|              26834.0|                26908.0|      4191.876| 2066.2180000000003|              2152.64|           4030.65| 2066.2180000000003|             1991.192|3869.4240000000004|             1851.546|               1991.192|          4460.586|             2254.056|               2233.364|         16552.536|    338206|        2016-01|   92025|7.6384616|       2017|    37103710115998|             2017|          5.710139556|               0|  6208.045536007495|-31.375471134903883|       null|       null|       null|     null|     null|   null|   null| 0.15739715099334717|-0.18657393753528595| 310.1515808105469| 0.2440977245569229| 139.84841514832289| 139.84841514832289|   171.22388628322676|171.22388628322676|171.22388628322676|     0.011707933289161643|          8238.038|          8368.388| 0.2440977245569229|                  10|San Diego - Imperial|        423.96|            140.75|\n",
      "|15635456009641|       35.513841|     -118.901299|         Kern|2016|              Active|    13550 Sierra Way|          Elementary|                  K-5|     93238|        7/1/1980|           No Data| 35.756886|  -118.4166|         35.661|       -118.432|          93238|  0.6949357986450195| -0.4778667986392975| 325.4859619140625| 0.8433815836906433|   2016-01|       2016|     93238|          1550.0|                832.0|                  718.0|         111.6|             57.408|                53.85|              46.5|             23.296|               22.976|              65.1|               40.768|     23.694000000000003|              21.7|                  0.0|                 20.822|244.89999999999998|    338558|        2016-01|   93238|1.7846154|       2017|    15635456009641|             2017|            9.0046618|               0|  51522.89128696913|   58.2993528125989|       null|       null|       null|     null|     null|   null|   null|  0.6949357986450195| -0.4778667986392975| 325.4859619140625| 0.8433815836906433| 124.51403368458494| 124.51403368458494|    66.21468087198605| 66.21468087198605| 66.21468087198605|       1.4033108614400505|121.47200000000001|           121.342| 0.8433815836906433|                   6|Southern San Joaq...|         250.9|            840.98|\n",
      "|10622650000000|        36.66634|      -119.44985|       Fresno|2016|              Active|   1801 Tenth Street|             No Data|              No Data|     93654|         No Data|           No Data| 36.596434| -119.45337|         36.652|       -119.491|          93654| -0.6876817941665649| 0.22570933401584625|161.82925415039062| 0.7237755060195923|   2016-01|       2016|     93654|         31460.0|              16276.0|                15184.0|       2485.34|            1139.32|             1336.192|           2390.96| 1350.9080000000001|             1032.512|           2705.56|               1627.6|               1093.248|2611.1800000000003|             1269.528|               1351.376|          10193.04|    338328|        2016-01|   93654| 7.929167|       2017|    10622650000000|             2017|            1.5032344|               0|  7763.906802608556| -177.6749640435878|       null|       null|       null|     null|     null|   null|   null| -0.6876817941665649| 0.22570933401584625|161.82925415039062| 0.7237755060195923| -71.82924875849801| -71.82924875849801|    105.8457152850898| 105.8457152850898| 105.8457152850898|       0.7269521333736846|          5387.356|4813.3279999999995| 0.7237755060195923|                   6|Southern San Joaq...|        117.66|            105.81|\n",
      "|10622650106815|        36.66634|      -119.44985|       Fresno|2016|              Active|1400 North Frankw...|          Elementary|                  K-8|     93654|       8/16/2004|           No Data| 36.609547|-119.447533|         36.652|       -119.491|          93654| -0.6876817941665649| 0.22570933401584625|161.82925415039062| 0.7237755060195923|   2016-01|       2016|     93654|         31460.0|              16276.0|                15184.0|       2485.34|            1139.32|             1336.192|           2390.96| 1350.9080000000001|             1032.512|           2705.56|               1627.6|               1093.248|2611.1800000000003|             1269.528|               1351.376|          10193.04|    338328|        2016-01|   93654| 7.929167|       2017|    10622650106815|             2017|            1.5032344|               0|  6305.774131978436|  178.1161754342569|       null|       null|       null|     null|     null|   null|   null| -0.6876817941665649| 0.22570933401584625|161.82925415039062| 0.7237755060195923| -71.82924875849801| -71.82924875849801|    110.0545758072451| 110.0545758072451| 110.0545758072451|       0.6570849596579733|          5387.356|4813.3279999999995| 0.7237755060195923|                   6|Southern San Joaq...|        117.66|            107.34|\n",
      "|10622650119800|        36.66634|      -119.44985|       Fresno|2016|              Active|   1801 Tenth Street|           Preschool|                    P|     93654|       8/20/1992|           No Data| 36.596422| -119.45336|         36.652|       -119.491|          93654| -0.6876817941665649| 0.22570933401584625|161.82925415039062| 0.7237755060195923|   2016-01|       2016|     93654|         31460.0|              16276.0|                15184.0|       2485.34|            1139.32|             1336.192|           2390.96| 1350.9080000000001|             1032.512|           2705.56|               1627.6|               1093.248|2611.1800000000003|             1269.528|               1351.376|          10193.04|    338328|        2016-01|   93654| 7.929167|       2017|    10622650119800|             2017|            1.5032344|               0| 7765.2011395084255|-177.68195916889738|       null|       null|       null|     null|     null|   null|   null| -0.6876817941665649| 0.22570933401584625|161.82925415039062| 0.7237755060195923| -71.82924875849801| -71.82924875849801|   105.85271041039937|105.85271041039937|105.85271041039937|       0.7268346867307527|          5387.356|4813.3279999999995| 0.7237755060195923|                   6|Southern San Joaq...|        117.66|            105.81|\n",
      "|10622650126292|        36.66634|      -119.44985|       Fresno|2016|              Active|995 North Reed Av...|         High School|                 9-12|     93654|       8/27/2012|           No Data| 36.606625|-119.460661|         36.652|       -119.491|          93654| -0.6876817941665649| 0.22570933401584625|161.82925415039062| 0.7237755060195923|   2016-01|       2016|     93654|         31460.0|              16276.0|                15184.0|       2485.34|            1139.32|             1336.192|           2390.96| 1350.9080000000001|             1032.512|           2705.56|               1627.6|               1093.248|2611.1800000000003|             1269.528|               1351.376|          10193.04|    338328|        2016-01|   93654| 7.929167|       2017|    10622650126292|             2017|            1.5032344|               0|  6696.788390503906|-171.69553005454912|       null|       null|       null|     null|     null|   null|   null| -0.6876817941665649| 0.22570933401584625|161.82925415039062| 0.7237755060195923| -71.82924875849801| -71.82924875849801|    99.86628129605111| 99.86628129605111| 99.86628129605111|       0.8286506979582976|          5387.356|4813.3279999999995| 0.7237755060195923|                   6|Southern San Joaq...|        117.66|            107.41|\n",
      "|10622651030220|        36.66634|      -119.44985|       Fresno|2016|              Active|740 West North Av...|               Adult|                Adult|     93654|        7/1/1980|           No Data| 36.602331| -119.45566|         36.652|       -119.491|          93654| -0.6876817941665649| 0.22570933401584625|161.82925415039062| 0.7237755060195923|   2016-01|       2016|     93654|         31460.0|              16276.0|                15184.0|       2485.34|            1139.32|             1336.192|           2390.96| 1350.9080000000001|             1032.512|           2705.56|               1627.6|               1093.248|2611.1800000000003|             1269.528|               1351.376|          10193.04|    338328|        2016-01|   93654| 7.929167|       2017|    10622651030220|             2017|            1.5032344|               0|  7122.111034498586|-175.81429306608788|       null|       null|       null|     null|     null|   null|   null| -0.6876817941665649| 0.22570933401584625|161.82925415039062| 0.7237755060195923| -71.82924875849801| -71.82924875849801|   103.98504430758987|103.98504430758987|103.98504430758987|       0.7583314151644824|          5387.356|4813.3279999999995| 0.7237755060195923|                   6|Southern San Joaq...|        117.66|            107.24|\n",
      "|10622651030378|        36.66634|      -119.44985|       Fresno|2016|              Active| 877 E. North Avenue|Elementary-High C...|                 K-12|     93654|        7/1/1980|           No Data| 36.602458|-119.454391|         36.652|       -119.491|          93654| -0.6876817941665649| 0.22570933401584625|161.82925415039062| 0.7237755060195923|   2016-01|       2016|     93654|         31460.0|              16276.0|                15184.0|       2485.34|            1139.32|             1336.192|           2390.96| 1350.9080000000001|             1032.512|           2705.56|               1627.6|               1093.248|2611.1800000000003|             1269.528|               1351.376|          10193.04|    338328|        2016-01|   93654| 7.929167|       2017|    10622651030378|             2017|            1.5032344|               0|  7100.660834178125|-176.71976961404263|       null|       null|       null|     null|     null|   null|   null| -0.6876817941665649| 0.22570933401584625|161.82925415039062| 0.7237755060195923| -71.82924875849801| -71.82924875849801|   104.89052085554462|104.89052085554462|104.89052085554462|        0.743027120005904|          5387.356|4813.3279999999995| 0.7237755060195923|                   6|Southern San Joaq...|        117.66|            107.15|\n",
      "|10622651035310|        36.66634|      -119.44985|       Fresno|2016|              Active|740 West North Av...|         High School|                 9-12|     93654|        7/1/1980|           No Data| 36.602458|-119.454391|         36.652|       -119.491|          93654| -0.6876817941665649| 0.22570933401584625|161.82925415039062| 0.7237755060195923|   2016-01|       2016|     93654|         31460.0|              16276.0|                15184.0|       2485.34|            1139.32|             1336.192|           2390.96| 1350.9080000000001|             1032.512|           2705.56|               1627.6|               1093.248|2611.1800000000003|             1269.528|               1351.376|          10193.04|    338328|        2016-01|   93654| 7.929167|       2017|    10622651035310|             2017|            1.5032344|               0|  7100.660834178125|-176.71976961404263|       null|       null|       null|     null|     null|   null|   null| -0.6876817941665649| 0.22570933401584625|161.82925415039062| 0.7237755060195923| -71.82924875849801| -71.82924875849801|   104.89052085554462|104.89052085554462|104.89052085554462|        0.743027120005904|          5387.356|4813.3279999999995| 0.7237755060195923|                   6|Southern San Joaq...|        117.66|            107.15|\n",
      "|10622656006761|        36.66634|      -119.44985|       Fresno|2016|              Active|360 North East Av...|Intermediate/Midd...|                  6-8|     93654|        7/1/1980|           No Data| 36.599714|-119.442024|         36.652|       -119.491|          93654| -0.6876817941665649| 0.22570933401584625|161.82925415039062| 0.7237755060195923|   2016-01|       2016|     93654|         31460.0|              16276.0|                15184.0|       2485.34|            1139.32|             1336.192|           2390.96| 1350.9080000000001|             1032.512|           2705.56|               1627.6|               1093.248|2611.1800000000003|             1269.528|               1351.376|          10193.04|    338328|        2016-01|   93654| 7.929167|       2017|    10622656006761|             2017|            1.5032344|               0| 7426.5963633329775|  174.5896499985549|       null|       null|       null|     null|     null|   null|   null| -0.6876817941665649| 0.22570933401584625|161.82925415039062| 0.7237755060195923| -71.82924875849801| -71.82924875849801|   113.58110124294708|113.58110124294708|113.58110124294708|       0.5999532783628281|          5387.356|4813.3279999999995| 0.7237755060195923|                   6|Southern San Joaq...|        117.66|            106.37|\n",
      "|10622656006803|        36.66634|      -119.44985|       Fresno|2016|              Active|374 East North Av...|          Elementary|                  P-5|     93654|        7/1/1980|           No Data| 36.601627|-119.446445|         36.652|       -119.491|          93654| -0.6876817941665649| 0.22570933401584625|161.82925415039062| 0.7237755060195923|   2016-01|       2016|     93654|         31460.0|              16276.0|                15184.0|       2485.34|            1139.32|             1336.192|           2390.96| 1350.9080000000001|             1032.512|           2705.56|               1627.6|               1093.248|2611.1800000000003|             1269.528|               1351.376|          10193.04|    338328|        2016-01|   93654| 7.929167|       2017|    10622656006803|             2017|            1.5032344|               0|  7187.707234159809|  177.5707295491031|       null|       null|       null|     null|     null|   null|   null| -0.6876817941665649| 0.22570933401584625|161.82925415039062| 0.7237755060195923| -71.82924875849801| -71.82924875849801|   110.60002169239888|110.60002169239888|110.60002169239888|       0.6481580280221658|          5387.356|4813.3279999999995| 0.7237755060195923|                   6|Southern San Joaq...|        117.66|            107.11|\n",
      "+--------------+----------------+----------------+-------------+----+--------------------+--------------------+--------------------+---------------------+----------+----------------+------------------+----------+-----------+---------------+---------------+---------------+--------------------+--------------------+------------------+-------------------+----------+-----------+----------+----------------+---------------------+-----------------------+--------------+-------------------+---------------------+------------------+-------------------+---------------------+------------------+---------------------+-----------------------+------------------+---------------------+-----------------------+------------------+----------+---------------+--------+---------+-----------+------------------+-----------------+---------------------+----------------+-------------------+-------------------+-----------+-----------+-----------+---------+---------+-------+-------+--------------------+--------------------+------------------+-------------------+-------------------+-------------------+---------------------+------------------+------------------+-------------------------+------------------+------------------+-------------------+--------------------+--------------------+--------------+------------------+\n",
      "only showing top 20 rows\n",
      "\n"
     ]
    }
   ],
   "source": [
    "df_all = df_all_rename.toDF(*colnames)\n",
    "\n",
    "df_all.show()"
   ]
  },
  {
   "cell_type": "code",
   "execution_count": 106,
   "id": "8bbd4790",
   "metadata": {},
   "outputs": [
    {
     "name": "stdout",
     "output_type": "stream",
     "text": [
      "+-------+----------------+----------------+-------------+----+--------------------+-------------+-----------+---------------------+----------+----------------+------------------+----------+----------+---------------+---------------+---------------+-------------+-------------+-----------+-----------+----------+-----------+----------+----------------+---------------------+-----------------------+--------------+-------------------+---------------------+--------------+-------------------+---------------------+----------------+---------------------+-----------------------+----------------+---------------------+-----------------------+-----------------+----------+---------------+--------+------+-----------+------------------+-----------------+---------------------+----------------+-------------------+---------------+-----------+-----------+-----------+---------+---------+-------+-------+---------------+---------------+-------------+-------------+------------------+--------------+---------------------+-----------------+------------------+-------------------------+----------------+------------------+--------------+--------------------+------------------+--------------+------------------+\n",
      "|cdscode|point_source_lat|point_source_lon|school_county|year|school_active_status|school_street|school_type|school_grades_offered|school_zip|school_open_date|school_closed_date|school_lat|school_lon|school_wind_lat|school_wind_lon|school_wind_zip|school_wind_u|school_wind_v|school_wdir|school_wspd|year_month|census_year|census_zip|total_population|total_population_male|total_population_female|population_0_4|population_0_4_male|population_0_4_female|population_5_9|population_5_9_male|population_5_9_female|population_10_14|population_10_14_male|population_10_14_female|population_15_19|population_15_19_male|population_15_19_female|total_pop_under19|pm25_index|pm25_year_month|pm25_zip|  pm25|lookup_year|cdscode_closest_ps|point_source_year|point_source_pm25_tpy|point_source_zip|dist_school_to_ps_m|angle_to_school|ps_wind_lat|ps_wind_lon|ps_wind_zip|ps_wind_u|ps_wind_v|ps_wdir|ps_wspd|ps_wind_u_merge|ps_wind_v_merge|ps_wdir_merge|ps_wspd_merge|school_wdir_wrt_0N|ps_wdir_wrt_0N|school_wind_alignment|ps_wind_alignment|avg_wind_alignment|avg_wind_alignment_cosine|pop_under19_male|pop_under19_female|avg_wind_speed|school_region_number|school_region_name|ps_elevation_m|school_elevation_m|\n",
      "+-------+----------------+----------------+-------------+----+--------------------+-------------+-----------+---------------------+----------+----------------+------------------+----------+----------+---------------+---------------+---------------+-------------+-------------+-----------+-----------+----------+-----------+----------+----------------+---------------------+-----------------------+--------------+-------------------+---------------------+--------------+-------------------+---------------------+----------------+---------------------+-----------------------+----------------+---------------------+-----------------------+-----------------+----------+---------------+--------+------+-----------+------------------+-----------------+---------------------+----------------+-------------------+---------------+-----------+-----------+-----------+---------+---------+-------+-------+---------------+---------------+-------------+-------------+------------------+--------------+---------------------+-----------------+------------------+-------------------------+----------------+------------------+--------------+--------------------+------------------+--------------+------------------+\n",
      "|      0|             871|             871|            0| 871|                   0|            0|          0|                    0|         0|               0|                 0|         0|         0|            871|            871|            871|          871|          871|        871|        871|       871|        871|       871|            3775|                 3775|                   3775|          3775|               3775|                 3775|          3775|               3775|                 3775|            3775|                 3775|                   3775|            3775|                 3775|                   3775|             3775|    153403|         153403|  153403|153403|        871|               871|              871|                  871|             871|                871|            871|     307831|     307831|     307831|   307831|   307831| 307831| 307831|            871|            871|          871|          871|               871|           871|                  871|              871|               871|                      871|            3775|              3775|           871|                   0|                 0|           871|                 0|\n",
      "+-------+----------------+----------------+-------------+----+--------------------+-------------+-----------+---------------------+----------+----------------+------------------+----------+----------+---------------+---------------+---------------+-------------+-------------+-----------+-----------+----------+-----------+----------+----------------+---------------------+-----------------------+--------------+-------------------+---------------------+--------------+-------------------+---------------------+----------------+---------------------+-----------------------+----------------+---------------------+-----------------------+-----------------+----------+---------------+--------+------+-----------+------------------+-----------------+---------------------+----------------+-------------------+---------------+-----------+-----------+-----------+---------+---------+-------+-------+---------------+---------------+-------------+-------------+------------------+--------------+---------------------+-----------------+------------------+-------------------------+----------------+------------------+--------------+--------------------+------------------+--------------+------------------+\n",
      "\n"
     ]
    }
   ],
   "source": [
    "# spot check for nulls\n",
    "\n",
    "df_all.select([count(when(isnan(c) | col(c).isNull(), c)).alias(c) for c in df_all.columns]).show()"
   ]
  },
  {
   "cell_type": "code",
   "execution_count": 107,
   "id": "716b1aa6",
   "metadata": {},
   "outputs": [],
   "source": [
    "df_all.write.parquet('C:\\\\Users\\\\matts\\\\Documents\\\\Berkeley MIDS\\\\DataSci 210 Capstone\\\\non-push files\\\\joined_data_v4_10_3_22.parquet')"
   ]
  }
 ],
 "metadata": {
  "kernelspec": {
   "display_name": "Python 3",
   "language": "python",
   "name": "python3"
  },
  "language_info": {
   "codemirror_mode": {
    "name": "ipython",
    "version": 3
   },
   "file_extension": ".py",
   "mimetype": "text/x-python",
   "name": "python",
   "nbconvert_exporter": "python",
   "pygments_lexer": "ipython3",
   "version": "3.8.13"
  }
 },
 "nbformat": 4,
 "nbformat_minor": 5
}
