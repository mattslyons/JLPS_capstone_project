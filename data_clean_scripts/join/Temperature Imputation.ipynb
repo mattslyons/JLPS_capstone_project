{
 "cells": [
  {
   "cell_type": "code",
   "execution_count": 1,
   "id": "c5a218bc",
   "metadata": {},
   "outputs": [],
   "source": [
    "import findspark\n",
    "findspark.init()"
   ]
  },
  {
   "cell_type": "code",
   "execution_count": 52,
   "id": "4c8d4429",
   "metadata": {},
   "outputs": [
    {
     "data": {
      "text/html": [
       "<style>pre { white-space: pre !important; }</style>"
      ],
      "text/plain": [
       "<IPython.core.display.HTML object>"
      ]
     },
     "metadata": {},
     "output_type": "display_data"
    }
   ],
   "source": [
    "import pyspark\n",
    "import pandas as pd \n",
    "import numpy as np\n",
    "import os \n",
    "import datetime\n",
    "from tqdm.notebook import tqdm\n",
    "\n",
    "import matplotlib.pyplot as plt\n",
    "from matplotlib.dates import DateFormatter\n",
    "import matplotlib.ticker as mticker\n",
    "import plotly.express as px\n",
    "\n",
    "from pyspark.sql import SparkSession\n",
    "from pyspark import SparkContext\n",
    "from pyspark.sql.types import *\n",
    "from pyspark.sql.window import Window\n",
    "from math import radians, cos, sin, asin, sqrt\n",
    "from pyspark.sql import functions as F\n",
    "from pyspark.sql.functions import col, row_number, count, when, isnan, abs, cos, atan2, coalesce, avg, lit\n",
    "\n",
    "from cmath import pi\n",
    "from math import atan2, radians\n",
    "\n",
    "from IPython.core.display import HTML\n",
    "display(HTML(\"<style>pre { white-space: pre !important; }</style>\"))\n",
    "\n",
    "pd.set_option('display.max_columns', None)\n",
    "pd.options.mode.chained_assignment = None"
   ]
  },
  {
   "cell_type": "code",
   "execution_count": 3,
   "id": "e6c2c570",
   "metadata": {},
   "outputs": [],
   "source": [
    "spark = SparkSession.builder.master(\"local[*]\").config(\"spark.executor.memory\", \"48g\").config(\"spark.driver.memory\", \"48g\").config(\"spark.driver.maxResultSize\",\"0\").config(\"spark.executor.heartbeatInterval\",\"100000\").getOrCreate()"
   ]
  },
  {
   "cell_type": "code",
   "execution_count": 4,
   "id": "125d3f77",
   "metadata": {},
   "outputs": [],
   "source": [
    "gdrive_path = 'C:\\\\Users\\\\matts\\\\Google Drive\\\\berkeley\\\\.shortcut-targets-by-id\\\\11wLy1WKwOTcthBs1rpfEzkqax2BZG-6E\\\\W210_Capstone\\\\Data\\\\'"
   ]
  },
  {
   "cell_type": "code",
   "execution_count": 72,
   "id": "a9c3d112",
   "metadata": {},
   "outputs": [],
   "source": [
    "df_left = spark.read.option(\"header\",True).csv(os.path.join(gdrive_path, 'joined_data/joined_open_schools_only_10-10-22.csv'))"
   ]
  },
  {
   "cell_type": "code",
   "execution_count": 73,
   "id": "984b78e6",
   "metadata": {},
   "outputs": [
    {
     "name": "stdout",
     "output_type": "stream",
     "text": [
      "root\n",
      " |-- index: string (nullable = true)\n",
      " |-- year: string (nullable = true)\n",
      " |-- cdscode: string (nullable = true)\n",
      " |-- school_county: string (nullable = true)\n",
      " |-- school_zip: string (nullable = true)\n",
      " |-- school_open_date: string (nullable = true)\n",
      " |-- school_closed_date: string (nullable = true)\n",
      " |-- school_lat: string (nullable = true)\n",
      " |-- school_lon: string (nullable = true)\n",
      " |-- school_wspd: string (nullable = true)\n",
      " |-- school_elevation_m: string (nullable = true)\n",
      " |-- year_month: string (nullable = true)\n",
      " |-- total_population: string (nullable = true)\n",
      " |-- total_population_male: string (nullable = true)\n",
      " |-- total_population_female: string (nullable = true)\n",
      " |-- population_0_4: string (nullable = true)\n",
      " |-- population_0_4_male: string (nullable = true)\n",
      " |-- population_0_4_female: string (nullable = true)\n",
      " |-- population_5_9: string (nullable = true)\n",
      " |-- population_5_9_male: string (nullable = true)\n",
      " |-- population_5_9_female: string (nullable = true)\n",
      " |-- population_10_14: string (nullable = true)\n",
      " |-- population_10_14_male: string (nullable = true)\n",
      " |-- population_10_14_female: string (nullable = true)\n",
      " |-- population_15_19: string (nullable = true)\n",
      " |-- population_15_19_male: string (nullable = true)\n",
      " |-- population_15_19_female: string (nullable = true)\n",
      " |-- pop_under19_male: string (nullable = true)\n",
      " |-- pop_under19_female: string (nullable = true)\n",
      " |-- total_pop_under19: string (nullable = true)\n",
      " |-- pm25: string (nullable = true)\n",
      " |-- point_source_lat: string (nullable = true)\n",
      " |-- point_source_lon: string (nullable = true)\n",
      " |-- ps_elevation_m: string (nullable = true)\n",
      " |-- point_source_pm25_tpy: string (nullable = true)\n",
      " |-- dist_school_to_ps_m: string (nullable = true)\n",
      " |-- angle_to_school: string (nullable = true)\n",
      " |-- ps_wind_lat: string (nullable = true)\n",
      " |-- ps_wind_lon: string (nullable = true)\n",
      " |-- ps_wspd_merge: string (nullable = true)\n",
      " |-- school_wdir_wrt_0N: string (nullable = true)\n",
      " |-- ps_wdir_wrt_0N: string (nullable = true)\n",
      " |-- school_wind_alignment: string (nullable = true)\n",
      " |-- ps_wind_alignment: string (nullable = true)\n",
      " |-- avg_wind_speed: string (nullable = true)\n",
      " |-- avg_wind_alignment: string (nullable = true)\n",
      " |-- avg_wind_alignment_cosine: string (nullable = true)\n",
      " |-- new_year: string (nullable = true)\n",
      " |-- open_close_dates_valid: string (nullable = true)\n",
      " |-- Taxable Year: string (nullable = true)\n",
      " |-- Zip Code: string (nullable = true)\n",
      " |-- CA_AGI_per_returns: string (nullable = true)\n",
      " |-- Total Tax Liability: string (nullable = true)\n",
      " |-- school_county_v2: string (nullable = true)\n",
      " |-- school_region_name: string (nullable = true)\n",
      " |-- nearby_point_source_count: string (nullable = true)\n",
      " |-- open_dates_valid: string (nullable = true)\n",
      "\n"
     ]
    }
   ],
   "source": [
    "df_left.printSchema()"
   ]
  },
  {
   "cell_type": "code",
   "execution_count": 74,
   "id": "c79d0d29",
   "metadata": {},
   "outputs": [],
   "source": [
    "df_left = df_left.withColumn('school_lat',df_left.school_lat.cast('double'))\n",
    "df_left = df_left.withColumn('school_lon',df_left.school_lon.cast('double'))\n",
    "df_left = df_left.withColumn('point_source_lat',df_left.point_source_lat.cast('double'))\n",
    "df_left = df_left.withColumn('point_source_lon',df_left.point_source_lon.cast('double'))\n",
    "df_left = df_left.withColumn('year',df_left.year_month.substr(0,4).cast('int'))\n",
    "df_left = df_left.withColumn('month',df_left.year_month.substr(6,2).cast('int'))"
   ]
  },
  {
   "cell_type": "code",
   "execution_count": 75,
   "id": "c3d5cf17",
   "metadata": {},
   "outputs": [
    {
     "name": "stdout",
     "output_type": "stream",
     "text": [
      "root\n",
      " |-- index: string (nullable = true)\n",
      " |-- year: integer (nullable = true)\n",
      " |-- cdscode: string (nullable = true)\n",
      " |-- school_county: string (nullable = true)\n",
      " |-- school_zip: string (nullable = true)\n",
      " |-- school_open_date: string (nullable = true)\n",
      " |-- school_closed_date: string (nullable = true)\n",
      " |-- school_lat: double (nullable = true)\n",
      " |-- school_lon: double (nullable = true)\n",
      " |-- school_wspd: string (nullable = true)\n",
      " |-- school_elevation_m: string (nullable = true)\n",
      " |-- year_month: string (nullable = true)\n",
      " |-- total_population: string (nullable = true)\n",
      " |-- total_population_male: string (nullable = true)\n",
      " |-- total_population_female: string (nullable = true)\n",
      " |-- population_0_4: string (nullable = true)\n",
      " |-- population_0_4_male: string (nullable = true)\n",
      " |-- population_0_4_female: string (nullable = true)\n",
      " |-- population_5_9: string (nullable = true)\n",
      " |-- population_5_9_male: string (nullable = true)\n",
      " |-- population_5_9_female: string (nullable = true)\n",
      " |-- population_10_14: string (nullable = true)\n",
      " |-- population_10_14_male: string (nullable = true)\n",
      " |-- population_10_14_female: string (nullable = true)\n",
      " |-- population_15_19: string (nullable = true)\n",
      " |-- population_15_19_male: string (nullable = true)\n",
      " |-- population_15_19_female: string (nullable = true)\n",
      " |-- pop_under19_male: string (nullable = true)\n",
      " |-- pop_under19_female: string (nullable = true)\n",
      " |-- total_pop_under19: string (nullable = true)\n",
      " |-- pm25: string (nullable = true)\n",
      " |-- point_source_lat: double (nullable = true)\n",
      " |-- point_source_lon: double (nullable = true)\n",
      " |-- ps_elevation_m: string (nullable = true)\n",
      " |-- point_source_pm25_tpy: string (nullable = true)\n",
      " |-- dist_school_to_ps_m: string (nullable = true)\n",
      " |-- angle_to_school: string (nullable = true)\n",
      " |-- ps_wind_lat: string (nullable = true)\n",
      " |-- ps_wind_lon: string (nullable = true)\n",
      " |-- ps_wspd_merge: string (nullable = true)\n",
      " |-- school_wdir_wrt_0N: string (nullable = true)\n",
      " |-- ps_wdir_wrt_0N: string (nullable = true)\n",
      " |-- school_wind_alignment: string (nullable = true)\n",
      " |-- ps_wind_alignment: string (nullable = true)\n",
      " |-- avg_wind_speed: string (nullable = true)\n",
      " |-- avg_wind_alignment: string (nullable = true)\n",
      " |-- avg_wind_alignment_cosine: string (nullable = true)\n",
      " |-- new_year: string (nullable = true)\n",
      " |-- open_close_dates_valid: string (nullable = true)\n",
      " |-- Taxable Year: string (nullable = true)\n",
      " |-- Zip Code: string (nullable = true)\n",
      " |-- CA_AGI_per_returns: string (nullable = true)\n",
      " |-- Total Tax Liability: string (nullable = true)\n",
      " |-- school_county_v2: string (nullable = true)\n",
      " |-- school_region_name: string (nullable = true)\n",
      " |-- nearby_point_source_count: string (nullable = true)\n",
      " |-- open_dates_valid: string (nullable = true)\n",
      " |-- month: integer (nullable = true)\n",
      "\n"
     ]
    }
   ],
   "source": [
    "df_left.printSchema()"
   ]
  },
  {
   "cell_type": "code",
   "execution_count": 57,
   "id": "b0d47b42",
   "metadata": {},
   "outputs": [
    {
     "name": "stdout",
     "output_type": "stream",
     "text": [
      "+-----+----+--------------+-------------+----------+----------------+------------------+----------+----------+------------------+------------------+----------+----------------+---------------------+-----------------------+--------------+-------------------+---------------------+--------------+-------------------+---------------------+----------------+---------------------+-----------------------+----------------+---------------------+-----------------------+----------------+------------------+-----------------+--------+----------------+----------------+--------------+---------------------+-------------------+-------------------+-----------+-----------+------------------+------------------+------------------+---------------------+------------------+------------------+------------------+-------------------------+----------+----------------------+------------+--------+------------------+-------------------+----------------+--------------------+-------------------------+----------------+-----+\n",
      "|index|year|       cdscode|school_county|school_zip|school_open_date|school_closed_date|school_lat|school_lon|       school_wspd|school_elevation_m|year_month|total_population|total_population_male|total_population_female|population_0_4|population_0_4_male|population_0_4_female|population_5_9|population_5_9_male|population_5_9_female|population_10_14|population_10_14_male|population_10_14_female|population_15_19|population_15_19_male|population_15_19_female|pop_under19_male|pop_under19_female|total_pop_under19|    pm25|point_source_lat|point_source_lon|ps_elevation_m|point_source_pm25_tpy|dist_school_to_ps_m|    angle_to_school|ps_wind_lat|ps_wind_lon|     ps_wspd_merge|school_wdir_wrt_0N|    ps_wdir_wrt_0N|school_wind_alignment| ps_wind_alignment|    avg_wind_speed|avg_wind_alignment|avg_wind_alignment_cosine|  new_year|open_close_dates_valid|Taxable Year|Zip Code|CA_AGI_per_returns|Total Tax Liability|school_county_v2|  school_region_name|nearby_point_source_count|open_dates_valid|month|\n",
      "+-----+----+--------------+-------------+----------+----------------+------------------+----------+----------+------------------+------------------+----------+----------------+---------------------+-----------------------+--------------+-------------------+---------------------+--------------+-------------------+---------------------+----------------+---------------------+-----------------------+----------------+---------------------+-----------------------+----------------+------------------+-----------------+--------+----------------+----------------+--------------+---------------------+-------------------+-------------------+-----------+-----------+------------------+------------------+------------------+---------------------+------------------+------------------+------------------+-------------------------+----------+----------------------+------------+--------+------------------+-------------------+----------------+--------------------+-------------------------+----------------+-----+\n",
      "|    0|2010|20102070109728|       Madera|     93610|      2005-08-16|        2014-06-30|  37.11521|  37.11521|1.5313516855239868|             70.84|2010-04-01|         23833.0|               8280.0|                15553.0|        1439.0|              694.0|                745.0|        1485.0|              729.0|                756.0|          1407.0|                740.0|                  667.0|          1473.0|                753.0|                  720.0|          2916.0|            2888.0|           5804.0|7.736047|         37.1056|         37.1056|          73.3|            2.0127727|  1873.525780181077| -55.29643968357893|       null|       null|1.5313516855239868|102.52805712371999|102.52805712371999|    157.8244968072989| 157.8244968072989|1.5313516855239868| 157.8244968072989|      0.07396797174718228|2010-01-01|                     1|      2010.0|   93610|14375.028222869629|          2905021.0|          Madera|Northern San Joaq...|                      1.0|               1|    4|\n",
      "|    1|2010|20102072030187|       Madera|     93610|      2001-01-22|        2014-06-30|  37.11521|  37.11521|1.5313516855239868|             70.84|2010-04-01|         23833.0|               8280.0|                15553.0|        1439.0|              694.0|                745.0|        1485.0|              729.0|                756.0|          1407.0|                740.0|                  667.0|          1473.0|                753.0|                  720.0|          2916.0|            2888.0|           5804.0|7.736047|         37.1056|         37.1056|          73.3|            2.0127727|  1873.525780181077| -55.29643968357893|       null|       null|1.5313516855239868|102.52805712371999|102.52805712371999|    157.8244968072989| 157.8244968072989|1.5313516855239868| 157.8244968072989|      0.07396797174718228|2010-01-01|                     1|      2010.0|   93610|14375.028222869629|          2905021.0|          Madera|Northern San Joaq...|                      1.0|               1|    4|\n",
      "|    2|2010|20651930000000|       Madera|     93610|      1990-01-01|        2025-01-01| 37.122449| 37.122449|1.5313516855239868|             72.77|2010-04-01|         23833.0|               8280.0|                15553.0|        1439.0|              694.0|                745.0|        1485.0|              729.0|                756.0|          1407.0|                740.0|                  667.0|          1473.0|                753.0|                  720.0|          2916.0|            2888.0|           5804.0|7.736047|         37.1056|         37.1056|          73.3|            2.0127727|   2358.38241919395| -37.54028477906731|       null|       null|1.5313516855239868|102.52805712371999|102.52805712371999|    140.0683419027873| 140.0683419027873|1.5313516855239868| 140.0683419027873|       0.2331894173573087|2010-01-01|                     0|      2010.0|   93610|14375.028222869629|          2905021.0|          Madera|Northern San Joaq...|                      0.0|               1|    4|\n",
      "|    3|2010|20651930113076|       Madera|     93610|      2007-08-21|        2025-01-01| 37.131113| 37.131113|1.5313516855239868|             77.12|2010-04-01|         23833.0|               8280.0|                15553.0|        1439.0|              694.0|                745.0|        1485.0|              729.0|                756.0|          1407.0|                740.0|                  667.0|          1473.0|                753.0|                  720.0|          2916.0|            2888.0|           5804.0|7.736047|         37.1056|         37.1056|          73.3|            2.0127727| 2892.9075458251764| 11.831222108044384|       null|       null|1.5313516855239868|102.52805712371999|102.52805712371999|     90.6968350156756|  90.6968350156756|1.5313516855239868|  90.6968350156756|        0.987838261458426|2010-01-01|                     2|      2010.0|   93610|14375.028222869629|          2905021.0|          Madera|Northern San Joaq...|                      0.0|               1|    4|\n",
      "|    4|2010|20651936023907|       Madera|     93610|      1980-07-01|        2025-01-01| 37.115243| 37.115243|1.5313516855239868|             70.66|2010-04-01|         23833.0|               8280.0|                15553.0|        1439.0|              694.0|                745.0|        1485.0|              729.0|                756.0|          1407.0|                740.0|                  667.0|          1473.0|                753.0|                  720.0|          2916.0|            2888.0|           5804.0|7.736047|         37.1056|         37.1056|          73.3|            2.0127727| 2004.5665433091058| -57.72695665034661|       null|       null|1.5313516855239868|102.52805712371999|102.52805712371999|   160.25501377406658|160.25501377406658|1.5313516855239868|160.25501377406658|     0.058794434432924536|2010-01-01|                     2|      2010.0|   93610|14375.028222869629|          2905021.0|          Madera|Northern San Joaq...|                      1.0|               1|    4|\n",
      "|    5|2010|20652010000000|       Madera|     93610|      1990-01-01|        2025-01-01| 37.116435| 37.116435|1.5313516855239868|             71.38|2010-04-01|         23833.0|               8280.0|                15553.0|        1439.0|              694.0|                745.0|        1485.0|              729.0|                756.0|          1407.0|                740.0|                  667.0|          1473.0|                753.0|                  720.0|          2916.0|            2888.0|           5804.0|7.736047|         37.1056|         37.1056|          73.3|            2.0127727|  1726.581720001096| -45.85349787412275|       null|       null|1.5313516855239868|102.52805712371999|102.52805712371999|   148.38155499784273|148.38155499784273|1.5313516855239868|148.38155499784273|       0.1484418178451501|2010-01-01|                     0|      2010.0|   93610|14375.028222869629|          2905021.0|          Madera|Northern San Joaq...|                      1.0|               1|    4|\n",
      "|    6|2010|20652012030047|       Madera|     93610|      1980-07-01|        2025-01-01| 37.114421| 37.114421|1.5313516855239868|             71.01|2010-04-01|         23833.0|               8280.0|                15553.0|        1439.0|              694.0|                745.0|        1485.0|              729.0|                756.0|          1407.0|                740.0|                  667.0|          1473.0|                753.0|                  720.0|          2916.0|            2888.0|           5804.0|7.736047|         37.1056|         37.1056|          73.3|            2.0127727| 1577.1455869098806|-51.627712395811756|       null|       null|1.5313516855239868|102.52805712371999|102.52805712371999|   154.15576951953176|154.15576951953176|1.5313516855239868|154.15576951953176|      0.10001750110640129|2010-01-01|                     2|      2010.0|   93610|14375.028222869629|          2905021.0|          Madera|Northern San Joaq...|                      1.0|               1|    4|\n",
      "|    7|2010|20652012032357|       Madera|     93610|      1980-07-01|        2025-01-01| 37.114421| 37.114421|1.5313516855239868|             71.01|2010-04-01|         23833.0|               8280.0|                15553.0|        1439.0|              694.0|                745.0|        1485.0|              729.0|                756.0|          1407.0|                740.0|                  667.0|          1473.0|                753.0|                  720.0|          2916.0|            2888.0|           5804.0|7.736047|         37.1056|         37.1056|          73.3|            2.0127727| 1577.1455869098806|-51.627712395811756|       null|       null|1.5313516855239868|102.52805712371999|102.52805712371999|   154.15576951953176|154.15576951953176|1.5313516855239868|154.15576951953176|      0.10001750110640129|2010-01-01|                     2|      2010.0|   93610|14375.028222869629|          2905021.0|          Madera|Northern San Joaq...|                      1.0|               1|    4|\n",
      "|    8|2010|15636770113837|         Kern|     93505|      2007-08-20|        2025-01-01|  35.10877|  35.10877|1.9229604005813599|            726.11|2010-04-01|         14038.0|               8292.0|                 5746.0|         978.0|              498.0|                480.0|         903.0|              460.0|                443.0|           944.0|                496.0|                  448.0|           961.0|                464.0|                  497.0|          1918.0|            1868.0|           3786.0|8.738297|        35.15125|        35.15125|        740.08|            1.7150765|  7237.644150895437| 130.61169426028664|       null|       null|1.9229604005813599| 90.75829498494724| 90.75829498494724|     39.8533992753394|  39.8533992753394|1.9229604005813599|  39.8533992753394|       1.7676866197437722|2010-01-01|                     2|      2010.0|   93505|3686.3322436849926|           434350.0|            Kern|Southern San Joaq...|                      0.0|               1|    4|\n",
      "|    9|2010|15636770114512|         Kern|     93505|      2007-08-20|        2025-01-01| 35.138427| 35.138427|1.9229604005813599|            721.91|2010-04-01|         14038.0|               8292.0|                 5746.0|         978.0|              498.0|                480.0|         903.0|              460.0|                443.0|           944.0|                496.0|                  448.0|           961.0|                464.0|                  497.0|          1918.0|            1868.0|           3786.0|8.738297|        35.15125|        35.15125|        740.08|            1.7150765|   4204.71340841246| 109.76330491726215|       null|       null|1.9229604005813599| 90.75829498494724| 90.75829498494724|    19.00500993231492| 19.00500993231492|1.9229604005813599| 19.00500993231492|        1.945490106208428|2010-01-01|                     2|      2010.0|   93505|3686.3322436849926|           434350.0|            Kern|Southern San Joaq...|                      0.0|               1|    4|\n",
      "+-----+----+--------------+-------------+----------+----------------+------------------+----------+----------+------------------+------------------+----------+----------------+---------------------+-----------------------+--------------+-------------------+---------------------+--------------+-------------------+---------------------+----------------+---------------------+-----------------------+----------------+---------------------+-----------------------+----------------+------------------+-----------------+--------+----------------+----------------+--------------+---------------------+-------------------+-------------------+-----------+-----------+------------------+------------------+------------------+---------------------+------------------+------------------+------------------+-------------------------+----------+----------------------+------------+--------+------------------+-------------------+----------------+--------------------+-------------------------+----------------+-----+\n",
      "\n"
     ]
    }
   ],
   "source": [
    "df_left.limit(10).show()"
   ]
  },
  {
   "cell_type": "code",
   "execution_count": 8,
   "id": "a95daac1",
   "metadata": {},
   "outputs": [],
   "source": [
    "df_school_temps = spark.read.parquet(os.path.join(gdrive_path, 'temperature/schools_temp_lookup.parquet'))"
   ]
  },
  {
   "cell_type": "code",
   "execution_count": 9,
   "id": "b61a4307",
   "metadata": {},
   "outputs": [
    {
     "name": "stdout",
     "output_type": "stream",
     "text": [
      "root\n",
      " |-- school_lat: double (nullable = true)\n",
      " |-- school_lon: double (nullable = true)\n",
      " |-- elevation_meters: double (nullable = true)\n",
      " |-- time: string (nullable = true)\n",
      " |-- avg_temp: double (nullable = true)\n",
      " |-- __index_level_0__: long (nullable = true)\n",
      "\n"
     ]
    }
   ],
   "source": [
    "df_school_temps.printSchema()"
   ]
  },
  {
   "cell_type": "code",
   "execution_count": 10,
   "id": "cbbc1b14",
   "metadata": {},
   "outputs": [],
   "source": [
    "cols_to_drop = ['elevation_meters','__index_level_0__']\n",
    "\n",
    "df_school_temps = df_school_temps.drop(*cols_to_drop)"
   ]
  },
  {
   "cell_type": "code",
   "execution_count": 11,
   "id": "a4f24a3f",
   "metadata": {},
   "outputs": [
    {
     "name": "stdout",
     "output_type": "stream",
     "text": [
      "+----------+----------+----------+--------+\n",
      "|school_lat|school_lon|      time|avg_temp|\n",
      "+----------+----------+----------+--------+\n",
      "|  37.11521|-120.26603|2006-02-01|     9.9|\n",
      "|  37.11521|-120.26603|2006-03-01|     9.5|\n",
      "|  37.11521|-120.26603|2006-04-01|    null|\n",
      "|  37.11521|-120.26603|2006-05-01|    20.6|\n",
      "|  37.11521|-120.26603|2006-06-01|    25.3|\n",
      "|  37.11521|-120.26603|2006-07-01|    28.5|\n",
      "|  37.11521|-120.26603|2006-08-01|    23.9|\n",
      "|  37.11521|-120.26603|2006-09-01|    22.1|\n",
      "|  37.11521|-120.26603|2006-10-01|    15.6|\n",
      "|  37.11521|-120.26603|2006-11-01|    null|\n",
      "|  37.11521|-120.26603|2006-12-01|    null|\n",
      "|  37.11521|-120.26603|2007-01-01|     4.8|\n",
      "|  37.11521|-120.26603|2007-02-01|    10.1|\n",
      "|  37.11521|-120.26603|2007-03-01|    null|\n",
      "|  37.11521|-120.26603|2007-04-01|    null|\n",
      "|  37.11521|-120.26603|2007-05-01|    20.0|\n",
      "|  37.11521|-120.26603|2007-06-01|    null|\n",
      "|  37.11521|-120.26603|2007-07-01|    null|\n",
      "|  37.11521|-120.26603|2007-08-01|    25.4|\n",
      "|  37.11521|-120.26603|2007-09-01|    21.3|\n",
      "+----------+----------+----------+--------+\n",
      "only showing top 20 rows\n",
      "\n"
     ]
    }
   ],
   "source": [
    "df_school_temps.show()"
   ]
  },
  {
   "cell_type": "code",
   "execution_count": 12,
   "id": "163ea522",
   "metadata": {},
   "outputs": [
    {
     "name": "stdout",
     "output_type": "stream",
     "text": [
      "+----------+----------+----+--------+\n",
      "|school_lat|school_lon|time|avg_temp|\n",
      "+----------+----------+----+--------+\n",
      "|         0|         0|   0|  423883|\n",
      "+----------+----------+----+--------+\n",
      "\n"
     ]
    }
   ],
   "source": [
    "# spot check for nulls\n",
    "\n",
    "df_school_temps.select([count(when( col(c).isNull(), c)).alias(c) for c in df_school_temps.columns]).show()"
   ]
  },
  {
   "cell_type": "code",
   "execution_count": 13,
   "id": "6433ea3e",
   "metadata": {},
   "outputs": [],
   "source": [
    "df_school_temps = df_school_temps.filter(df_school_temps.time.isNotNull()).filter(df_school_temps.avg_temp.isNotNull())"
   ]
  },
  {
   "cell_type": "code",
   "execution_count": 14,
   "id": "faf1eb43",
   "metadata": {},
   "outputs": [
    {
     "name": "stdout",
     "output_type": "stream",
     "text": [
      "+----------+----------+----+--------+\n",
      "|school_lat|school_lon|time|avg_temp|\n",
      "+----------+----------+----+--------+\n",
      "|         0|         0|   0|       0|\n",
      "+----------+----------+----+--------+\n",
      "\n"
     ]
    }
   ],
   "source": [
    "# spot check for nulls\n",
    "\n",
    "df_school_temps.select([count(when( col(c).isNull(), c)).alias(c) for c in df_school_temps.columns]).show()"
   ]
  },
  {
   "cell_type": "code",
   "execution_count": 15,
   "id": "09f0c0f3",
   "metadata": {},
   "outputs": [
    {
     "data": {
      "text/plain": [
       "2060211"
      ]
     },
     "execution_count": 15,
     "metadata": {},
     "output_type": "execute_result"
    }
   ],
   "source": [
    "df_school_temps.count()"
   ]
  },
  {
   "cell_type": "code",
   "execution_count": 16,
   "id": "21804ada",
   "metadata": {},
   "outputs": [],
   "source": [
    "# rename columns to concatenate\n",
    "\n",
    "df_school_temps = df_school_temps.withColumnRenamed(\"school_lat\",\"temp_lat\").withColumnRenamed(\"school_lon\",\"temp_lon\")"
   ]
  },
  {
   "cell_type": "code",
   "execution_count": 17,
   "id": "8b1b39cf",
   "metadata": {},
   "outputs": [],
   "source": [
    "df_school_temps = df_school_temps.dropDuplicates(df_school_temps.columns)"
   ]
  },
  {
   "cell_type": "code",
   "execution_count": 18,
   "id": "f13e9852",
   "metadata": {},
   "outputs": [
    {
     "data": {
      "text/plain": [
       "1834753"
      ]
     },
     "execution_count": 18,
     "metadata": {},
     "output_type": "execute_result"
    }
   ],
   "source": [
    "df_school_temps.count()"
   ]
  },
  {
   "cell_type": "code",
   "execution_count": 19,
   "id": "7434bff9",
   "metadata": {},
   "outputs": [],
   "source": [
    "df_ps_temps = spark.read.parquet(os.path.join(gdrive_path, 'temperature/point_poll_sources_temp_lookup.parquet'))"
   ]
  },
  {
   "cell_type": "code",
   "execution_count": 20,
   "id": "43e988ae",
   "metadata": {},
   "outputs": [
    {
     "name": "stdout",
     "output_type": "stream",
     "text": [
      "root\n",
      " |-- point_source_lat: double (nullable = true)\n",
      " |-- point_source_lon: double (nullable = true)\n",
      " |-- elevation_meters: double (nullable = true)\n",
      " |-- time: string (nullable = true)\n",
      " |-- avg_temp: double (nullable = true)\n",
      " |-- __index_level_0__: long (nullable = true)\n",
      "\n"
     ]
    }
   ],
   "source": [
    "df_ps_temps.printSchema()"
   ]
  },
  {
   "cell_type": "code",
   "execution_count": 21,
   "id": "47ac1182",
   "metadata": {},
   "outputs": [],
   "source": [
    "cols_to_drop = ['elevation_meters','__index_level_0__']\n",
    "\n",
    "df_ps_temps = df_ps_temps.drop(*cols_to_drop)"
   ]
  },
  {
   "cell_type": "code",
   "execution_count": 22,
   "id": "34285522",
   "metadata": {},
   "outputs": [
    {
     "name": "stdout",
     "output_type": "stream",
     "text": [
      "+----------------+----------------+----------+--------+\n",
      "|point_source_lat|point_source_lon|      time|avg_temp|\n",
      "+----------------+----------------+----------+--------+\n",
      "|         37.1056|       -120.2487|2006-02-01|     9.9|\n",
      "|         37.1056|       -120.2487|2006-03-01|     9.5|\n",
      "|         37.1056|       -120.2487|2006-04-01|    null|\n",
      "|         37.1056|       -120.2487|2006-05-01|    20.6|\n",
      "|         37.1056|       -120.2487|2006-06-01|    25.3|\n",
      "|         37.1056|       -120.2487|2006-07-01|    28.4|\n",
      "|         37.1056|       -120.2487|2006-08-01|    23.8|\n",
      "|         37.1056|       -120.2487|2006-09-01|    22.1|\n",
      "|         37.1056|       -120.2487|2006-10-01|    15.5|\n",
      "|         37.1056|       -120.2487|2006-11-01|    null|\n",
      "|         37.1056|       -120.2487|2006-12-01|    null|\n",
      "|         37.1056|       -120.2487|2007-01-01|     4.7|\n",
      "|         37.1056|       -120.2487|2007-02-01|    10.1|\n",
      "|         37.1056|       -120.2487|2007-03-01|    null|\n",
      "|         37.1056|       -120.2487|2007-04-01|    null|\n",
      "|         37.1056|       -120.2487|2007-05-01|    19.9|\n",
      "|         37.1056|       -120.2487|2007-06-01|    null|\n",
      "|         37.1056|       -120.2487|2007-07-01|    null|\n",
      "|         37.1056|       -120.2487|2007-08-01|    25.3|\n",
      "|         37.1056|       -120.2487|2007-09-01|    21.3|\n",
      "+----------------+----------------+----------+--------+\n",
      "only showing top 20 rows\n",
      "\n"
     ]
    }
   ],
   "source": [
    "df_ps_temps.show()"
   ]
  },
  {
   "cell_type": "code",
   "execution_count": 23,
   "id": "6625dfc6",
   "metadata": {},
   "outputs": [
    {
     "name": "stdout",
     "output_type": "stream",
     "text": [
      "+----------------+----------------+----+--------+\n",
      "|point_source_lat|point_source_lon|time|avg_temp|\n",
      "+----------------+----------------+----+--------+\n",
      "|               0|               0|   0|  116377|\n",
      "+----------------+----------------+----+--------+\n",
      "\n"
     ]
    }
   ],
   "source": [
    "# spot check for nulls\n",
    "\n",
    "df_ps_temps.select([count(when( col(c).isNull(), c)).alias(c) for c in df_ps_temps.columns]).show()"
   ]
  },
  {
   "cell_type": "code",
   "execution_count": 24,
   "id": "f2ada9a1",
   "metadata": {},
   "outputs": [],
   "source": [
    "df_ps_temps = df_ps_temps.filter(df_ps_temps.time.isNotNull()).filter(df_ps_temps.avg_temp.isNotNull())"
   ]
  },
  {
   "cell_type": "code",
   "execution_count": 25,
   "id": "f9d1c1d4",
   "metadata": {},
   "outputs": [
    {
     "name": "stdout",
     "output_type": "stream",
     "text": [
      "+----------------+----------------+----+--------+\n",
      "|point_source_lat|point_source_lon|time|avg_temp|\n",
      "+----------------+----------------+----+--------+\n",
      "|               0|               0|   0|       0|\n",
      "+----------------+----------------+----+--------+\n",
      "\n"
     ]
    }
   ],
   "source": [
    "# spot check for nulls\n",
    "\n",
    "df_ps_temps.select([count(when( col(c).isNull(), c)).alias(c) for c in df_ps_temps.columns]).show()"
   ]
  },
  {
   "cell_type": "code",
   "execution_count": 26,
   "id": "a5da779a",
   "metadata": {},
   "outputs": [
    {
     "data": {
      "text/plain": [
       "483895"
      ]
     },
     "execution_count": 26,
     "metadata": {},
     "output_type": "execute_result"
    }
   ],
   "source": [
    "df_ps_temps.count()"
   ]
  },
  {
   "cell_type": "code",
   "execution_count": 27,
   "id": "7bc64138",
   "metadata": {},
   "outputs": [],
   "source": [
    "df_ps_temps = df_ps_temps.withColumnRenamed(\"ps_lat\",\"temp_lat\").withColumnRenamed(\"ps_lon\",\"temp_lon\")"
   ]
  },
  {
   "cell_type": "code",
   "execution_count": 28,
   "id": "bf026703",
   "metadata": {},
   "outputs": [],
   "source": [
    "df_temps_merged = df_school_temps.union(df_ps_temps)"
   ]
  },
  {
   "cell_type": "code",
   "execution_count": 29,
   "id": "30693f80",
   "metadata": {},
   "outputs": [
    {
     "data": {
      "text/plain": [
       "2318648"
      ]
     },
     "execution_count": 29,
     "metadata": {},
     "output_type": "execute_result"
    }
   ],
   "source": [
    "df_temps_merged.count()"
   ]
  },
  {
   "cell_type": "code",
   "execution_count": 30,
   "id": "4e9af717",
   "metadata": {},
   "outputs": [],
   "source": [
    "# check for duplicates\n",
    "\n",
    "df_temps_merged = df_temps_merged.dropDuplicates(df_temps_merged.columns)"
   ]
  },
  {
   "cell_type": "code",
   "execution_count": 31,
   "id": "c45393a9",
   "metadata": {},
   "outputs": [
    {
     "data": {
      "text/plain": [
       "2318648"
      ]
     },
     "execution_count": 31,
     "metadata": {},
     "output_type": "execute_result"
    }
   ],
   "source": [
    "df_temps_merged.count()"
   ]
  },
  {
   "cell_type": "code",
   "execution_count": 32,
   "id": "28e33d44",
   "metadata": {},
   "outputs": [
    {
     "name": "stdout",
     "output_type": "stream",
     "text": [
      "+---------+-----------+----------+--------+\n",
      "| temp_lat|   temp_lon|      time|avg_temp|\n",
      "+---------+-----------+----------+--------+\n",
      "|37.122449| -120.26487|2010-04-01|    12.8|\n",
      "|37.131113|-120.242025|2018-02-01|     9.3|\n",
      "|37.116435| -120.26264|2016-07-01|    26.9|\n",
      "|33.026732|-116.878278|2008-09-01|    21.7|\n",
      "|33.026732|-116.878278|2016-10-01|    17.5|\n",
      "|33.026732|-116.878278|2017-10-01|    20.8|\n",
      "|33.028424| -116.86976|2013-11-01|    13.7|\n",
      "|33.015334| -116.89097|2014-04-01|    15.0|\n",
      "|33.032084|-116.957018|2016-02-01|    15.6|\n",
      "|34.861329|-120.442788|2000-10-01|    14.9|\n",
      "|34.861329|-120.442788|2002-09-01|    16.8|\n",
      "|34.861329|-120.442788|2015-07-01|    19.1|\n",
      "| 34.88976|-120.426345|2006-08-01|    18.2|\n",
      "| 34.88976|-120.426345|2009-08-01|    17.5|\n",
      "| 34.88976|-120.426345|2016-02-01|    14.4|\n",
      "|  34.8621| -120.44016|2003-03-01|    12.5|\n",
      "|34.867755|-120.430803|2004-12-01|    10.5|\n",
      "|34.866008| -120.43321|2012-12-01|    10.6|\n",
      "|34.866008| -120.43321|2015-12-01|    10.1|\n",
      "|39.164975| -122.90268|2005-07-01|    22.9|\n",
      "+---------+-----------+----------+--------+\n",
      "only showing top 20 rows\n",
      "\n"
     ]
    }
   ],
   "source": [
    "df_temps_merged.show()"
   ]
  },
  {
   "cell_type": "code",
   "execution_count": 33,
   "id": "6dfbfbd4",
   "metadata": {},
   "outputs": [],
   "source": [
    "df_temps_merged = df_temps_merged.withColumn('year',col('time').cast('string').substr(0,4).cast('int'))\n",
    "df_temps_merged = df_temps_merged.withColumn('month',col('time').cast('string').substr(6,2).cast('int'))"
   ]
  },
  {
   "cell_type": "code",
   "execution_count": 57,
   "id": "9eb24e8c",
   "metadata": {},
   "outputs": [],
   "source": [
    "df_temps_merged = df_temps_merged.drop(col('time'))"
   ]
  },
  {
   "cell_type": "code",
   "execution_count": 60,
   "id": "058023b3",
   "metadata": {},
   "outputs": [
    {
     "name": "stdout",
     "output_type": "stream",
     "text": [
      "+---------+-----------+--------+----+-----+\n",
      "| temp_lat|   temp_lon|avg_temp|year|month|\n",
      "+---------+-----------+--------+----+-----+\n",
      "|37.122449| -120.26487|    12.8|2010|    4|\n",
      "|37.131113|-120.242025|     9.3|2018|    2|\n",
      "|37.116435| -120.26264|    26.9|2016|    7|\n",
      "|33.026732|-116.878278|    21.7|2008|    9|\n",
      "|33.026732|-116.878278|    17.5|2016|   10|\n",
      "|33.026732|-116.878278|    20.8|2017|   10|\n",
      "|33.028424| -116.86976|    13.7|2013|   11|\n",
      "|33.015334| -116.89097|    15.0|2014|    4|\n",
      "|33.032084|-116.957018|    15.6|2016|    2|\n",
      "|34.861329|-120.442788|    14.9|2000|   10|\n",
      "|34.861329|-120.442788|    16.8|2002|    9|\n",
      "|34.861329|-120.442788|    19.1|2015|    7|\n",
      "| 34.88976|-120.426345|    18.2|2006|    8|\n",
      "| 34.88976|-120.426345|    17.5|2009|    8|\n",
      "| 34.88976|-120.426345|    14.4|2016|    2|\n",
      "|  34.8621| -120.44016|    12.5|2003|    3|\n",
      "|34.867755|-120.430803|    10.5|2004|   12|\n",
      "|34.866008| -120.43321|    10.6|2012|   12|\n",
      "|34.866008| -120.43321|    10.1|2015|   12|\n",
      "|39.164975| -122.90268|    22.9|2005|    7|\n",
      "+---------+-----------+--------+----+-----+\n",
      "only showing top 20 rows\n",
      "\n"
     ]
    }
   ],
   "source": [
    "df_temps_merged.show()"
   ]
  },
  {
   "cell_type": "code",
   "execution_count": 69,
   "id": "c5855a1e",
   "metadata": {},
   "outputs": [
    {
     "data": {
      "text/plain": [
       "[('temp_lat', 'double'),\n",
       " ('temp_lon', 'double'),\n",
       " ('avg_temp', 'double'),\n",
       " ('year', 'int'),\n",
       " ('month', 'int')]"
      ]
     },
     "execution_count": 69,
     "metadata": {},
     "output_type": "execute_result"
    }
   ],
   "source": [
    "df_temps_merged.dtypes"
   ]
  },
  {
   "cell_type": "code",
   "execution_count": 38,
   "id": "9e6cfab5",
   "metadata": {},
   "outputs": [],
   "source": [
    "df_temps_lat_lon_month_lookup = df_temps_merged.groupBy('temp_lat','temp_lon','month').agg(avg(\"avg_temp\").alias(\"avg_temp\"))"
   ]
  },
  {
   "cell_type": "code",
   "execution_count": 39,
   "id": "64c35ce8",
   "metadata": {},
   "outputs": [
    {
     "name": "stdout",
     "output_type": "stream",
     "text": [
      "+---------+-----------+-----+------------------+\n",
      "| temp_lat|   temp_lon|month|          avg_temp|\n",
      "+---------+-----------+-----+------------------+\n",
      "| 34.15203|-118.221966|    1|13.573684210526315|\n",
      "|34.135447|-118.248937|    9|23.968421052631573|\n",
      "|33.878056|-118.403684|    6|19.099999999999998|\n",
      "|33.922703| -118.35969|    6|19.099999999999998|\n",
      "|33.824775|-118.326426|   11| 16.92105263157895|\n",
      "| 33.83538|-118.078142|    2|14.084210526315792|\n",
      "| 33.77985| -118.10496|    4| 17.04736842105263|\n",
      "|34.241048|-118.481689|    7|              24.4|\n",
      "|34.022506|-118.365295|   11|16.810526315789474|\n",
      "|33.158964|-117.327021|    7|20.950000000000003|\n",
      "|32.745829|  -116.9713|   12| 13.08421052631579|\n",
      "|32.790456| -117.00419|    6|18.499999999999996|\n",
      "|32.910433|-117.141714|   12| 13.38421052631579|\n",
      "|32.754147| -117.07949|   11|16.336842105263155|\n",
      "|32.849116| -115.57493|    9| 30.99166666666667|\n",
      "|34.141531| -117.25834|    6|            21.875|\n",
      "|35.594325| -119.34936|    2|12.342105263157896|\n",
      "|33.936138| -117.18722|   10|18.291666666666668|\n",
      "|33.644968|  -117.9652|   10|19.989473684210527|\n",
      "|34.682635| -118.10615|    4|15.670588235294119|\n",
      "+---------+-----------+-----+------------------+\n",
      "only showing top 20 rows\n",
      "\n"
     ]
    }
   ],
   "source": [
    "df_temps_lat_lon_month_lookup.show()"
   ]
  },
  {
   "cell_type": "code",
   "execution_count": 40,
   "id": "fbcab090",
   "metadata": {},
   "outputs": [
    {
     "data": {
      "text/plain": [
       "154922"
      ]
     },
     "execution_count": 40,
     "metadata": {},
     "output_type": "execute_result"
    }
   ],
   "source": [
    "df_temps_lat_lon_month_lookup.count()"
   ]
  },
  {
   "cell_type": "code",
   "execution_count": 41,
   "id": "296548ac",
   "metadata": {},
   "outputs": [],
   "source": [
    "df_temps_lat_lon_lookup = df_temps_merged.groupBy('temp_lat','temp_lon').agg(avg(\"avg_temp\").alias(\"avg_temp\"))"
   ]
  },
  {
   "cell_type": "code",
   "execution_count": 44,
   "id": "7e9c40cb",
   "metadata": {},
   "outputs": [
    {
     "name": "stdout",
     "output_type": "stream",
     "text": [
      "+---------+-----------+------------------+\n",
      "| temp_lat|   temp_lon|          avg_temp|\n",
      "+---------+-----------+------------------+\n",
      "|34.085101|-118.181626| 18.25482456140351|\n",
      "|34.091841|-118.299875| 18.55482456140351|\n",
      "|33.919825|-118.032435|17.900877192982456|\n",
      "|33.788281|-118.313877| 17.99254385964912|\n",
      "|33.878233|-118.270776| 17.96798245614035|\n",
      "|34.212953|-118.506579|18.304385964912278|\n",
      "|34.018209| -118.34422| 17.49298245614035|\n",
      "|33.993337|-118.339355| 17.29298245614035|\n",
      "|32.620116|-116.990621| 16.93464912280702|\n",
      "|34.098017|-117.421523|18.771311475409835|\n",
      "|34.169325|-117.303747|18.553278688524586|\n",
      "|35.279403|-119.008348|19.443781094527363|\n",
      "|38.000382|-121.740373|16.471304347826088|\n",
      "|37.556835|-122.000112|15.319819819819822|\n",
      "|37.640593|-122.109252|14.925877192982457|\n",
      "|37.369374| -121.83409| 15.50541871921182|\n",
      "|37.289052|-121.823926|15.505418719211821|\n",
      "|38.133595| -121.26082|16.629556650246307|\n",
      "| 38.55841|-121.709187|16.317982456140353|\n",
      "|38.556253|-121.466108| 16.40964912280702|\n",
      "+---------+-----------+------------------+\n",
      "only showing top 20 rows\n",
      "\n"
     ]
    }
   ],
   "source": [
    "df_temps_lat_lon_lookup.show()"
   ]
  },
  {
   "cell_type": "code",
   "execution_count": 68,
   "id": "d0126df1",
   "metadata": {},
   "outputs": [
    {
     "data": {
      "text/plain": [
       "[('temp_lat', 'double'), ('temp_lon', 'double'), ('avg_temp', 'double')]"
      ]
     },
     "execution_count": 68,
     "metadata": {},
     "output_type": "execute_result"
    }
   ],
   "source": [
    "df_temps_lat_lon_lookup.dtypes"
   ]
  },
  {
   "cell_type": "code",
   "execution_count": 45,
   "id": "f794aad8",
   "metadata": {},
   "outputs": [
    {
     "data": {
      "text/plain": [
       "13586"
      ]
     },
     "execution_count": 45,
     "metadata": {},
     "output_type": "execute_result"
    }
   ],
   "source": [
    "df_temps_lat_lon_lookup.count()"
   ]
  },
  {
   "cell_type": "code",
   "execution_count": 46,
   "id": "f970994d",
   "metadata": {},
   "outputs": [],
   "source": [
    "df_temps_avg_temp = df_temps_merged.agg(avg(\"avg_temp\").alias(\"avg_temp\"))"
   ]
  },
  {
   "cell_type": "code",
   "execution_count": 92,
   "id": "0066a838",
   "metadata": {},
   "outputs": [
    {
     "data": {
      "text/plain": [
       "16.993707583039793"
      ]
     },
     "execution_count": 92,
     "metadata": {},
     "output_type": "execute_result"
    }
   ],
   "source": [
    "df_temps_avg_temp.collect()[0][0]"
   ]
  },
  {
   "cell_type": "code",
   "execution_count": 61,
   "id": "b317e416",
   "metadata": {},
   "outputs": [],
   "source": [
    "# create duplicates with renamed columns for tidier merging\n",
    "\n",
    "df_temps_merged_schools = df_temps_merged.withColumnRenamed('temp_lat','school_lat').withColumnRenamed('temp_lon','school_lon')\n",
    "df_temps_merged_ps = df_temps_merged.withColumnRenamed('temp_lat','point_source_lat').withColumnRenamed('temp_lon','point_source_lon')\n",
    "\n",
    "df_temps_lat_lon_month_lookup_schools = df_temps_lat_lon_month_lookup.withColumnRenamed('temp_lat','school_lat').withColumnRenamed('temp_lon','school_lon')\n",
    "df_temps_lat_lon_month_lookup_ps = df_temps_lat_lon_month_lookup.withColumnRenamed('temp_lat','point_source_lat').withColumnRenamed('temp_lon','point_source_lon')\n",
    "\n",
    "df_temps_lat_lon_lookup_schools = df_temps_lat_lon_lookup.withColumnRenamed('temp_lat','school_lat').withColumnRenamed('temp_lon','school_lon')\n",
    "df_temps_lat_lon_lookup_ps = df_temps_lat_lon_lookup.withColumnRenamed('temp_lat','point_source_lat').withColumnRenamed('temp_lon','point_source_lon')"
   ]
  },
  {
   "cell_type": "code",
   "execution_count": 70,
   "id": "56e7363f",
   "metadata": {},
   "outputs": [
    {
     "name": "stdout",
     "output_type": "stream",
     "text": [
      "+----------+-----------+--------+----+-----+\n",
      "|school_lat| school_lon|avg_temp|year|month|\n",
      "+----------+-----------+--------+----+-----+\n",
      "| 37.122449| -120.26487|    12.8|2010|    4|\n",
      "| 37.131113|-120.242025|     9.3|2018|    2|\n",
      "| 37.116435| -120.26264|    26.9|2016|    7|\n",
      "| 33.026732|-116.878278|    21.7|2008|    9|\n",
      "| 33.026732|-116.878278|    17.5|2016|   10|\n",
      "| 33.026732|-116.878278|    20.8|2017|   10|\n",
      "| 33.028424| -116.86976|    13.7|2013|   11|\n",
      "| 33.015334| -116.89097|    15.0|2014|    4|\n",
      "| 33.032084|-116.957018|    15.6|2016|    2|\n",
      "| 34.861329|-120.442788|    14.9|2000|   10|\n",
      "| 34.861329|-120.442788|    16.8|2002|    9|\n",
      "| 34.861329|-120.442788|    19.1|2015|    7|\n",
      "|  34.88976|-120.426345|    18.2|2006|    8|\n",
      "|  34.88976|-120.426345|    17.5|2009|    8|\n",
      "|  34.88976|-120.426345|    14.4|2016|    2|\n",
      "|   34.8621| -120.44016|    12.5|2003|    3|\n",
      "| 34.867755|-120.430803|    10.5|2004|   12|\n",
      "| 34.866008| -120.43321|    10.6|2012|   12|\n",
      "| 34.866008| -120.43321|    10.1|2015|   12|\n",
      "| 39.164975| -122.90268|    22.9|2005|    7|\n",
      "+----------+-----------+--------+----+-----+\n",
      "only showing top 20 rows\n",
      "\n"
     ]
    }
   ],
   "source": [
    "df_temps_merged_schools.show()"
   ]
  },
  {
   "cell_type": "code",
   "execution_count": 76,
   "id": "b82faddb",
   "metadata": {},
   "outputs": [],
   "source": [
    "df_left_step1 = df_left.join(df_temps_merged_schools, ['school_lat','school_lon','year','month'], how='left')\n",
    "df_left_step1 = df_left_step1.withColumnRenamed('avg_temp','temp1')"
   ]
  },
  {
   "cell_type": "code",
   "execution_count": 77,
   "id": "9e828c52",
   "metadata": {},
   "outputs": [
    {
     "name": "stdout",
     "output_type": "stream",
     "text": [
      "+----------+-----------+----+-----+-----+--------------+---------------+----------+----------------+------------------+------------------+------------------+----------+----------------+---------------------+-----------------------+--------------+-------------------+---------------------+--------------+-------------------+---------------------+----------------+---------------------+-----------------------+----------------+---------------------+-----------------------+----------------+------------------+-----------------+---------+----------------+----------------+--------------+---------------------+-------------------+-------------------+-----------+-----------+------------------+------------------+------------------+---------------------+------------------+------------------+------------------+-------------------------+----------+----------------------+------------+--------+------------------+-------------------+----------------+--------------------+-------------------------+----------------+-----+\n",
      "|school_lat| school_lon|year|month|index|       cdscode|  school_county|school_zip|school_open_date|school_closed_date|       school_wspd|school_elevation_m|year_month|total_population|total_population_male|total_population_female|population_0_4|population_0_4_male|population_0_4_female|population_5_9|population_5_9_male|population_5_9_female|population_10_14|population_10_14_male|population_10_14_female|population_15_19|population_15_19_male|population_15_19_female|pop_under19_male|pop_under19_female|total_pop_under19|     pm25|point_source_lat|point_source_lon|ps_elevation_m|point_source_pm25_tpy|dist_school_to_ps_m|    angle_to_school|ps_wind_lat|ps_wind_lon|     ps_wspd_merge|school_wdir_wrt_0N|    ps_wdir_wrt_0N|school_wind_alignment| ps_wind_alignment|    avg_wind_speed|avg_wind_alignment|avg_wind_alignment_cosine|  new_year|open_close_dates_valid|Taxable Year|Zip Code|CA_AGI_per_returns|Total Tax Liability|school_county_v2|  school_region_name|nearby_point_source_count|open_dates_valid|temp1|\n",
      "+----------+-----------+----+-----+-----+--------------+---------------+----------+----------------+------------------+------------------+------------------+----------+----------------+---------------------+-----------------------+--------------+-------------------+---------------------+--------------+-------------------+---------------------+----------------+---------------------+-----------------------+----------------+---------------------+-----------------------+----------------+------------------+-----------------+---------+----------------+----------------+--------------+---------------------+-------------------+-------------------+-----------+-----------+------------------+------------------+------------------+---------------------+------------------+------------------+------------------+-------------------------+----------+----------------------+------------+--------+------------------+-------------------+----------------+--------------------+-------------------------+----------------+-----+\n",
      "|  37.11521| -120.26603|2010|    4|    0|20102070109728|         Madera|     93610|      2005-08-16|        2014-06-30|1.5313516855239868|             70.84|2010-04-01|         23833.0|               8280.0|                15553.0|        1439.0|              694.0|                745.0|        1485.0|              729.0|                756.0|          1407.0|                740.0|                  667.0|          1473.0|                753.0|                  720.0|          2916.0|            2888.0|           5804.0| 7.736047|         37.1056|       -120.2487|          73.3|            2.0127727|  1873.525780181077| -55.29643968357893|       null|       null|1.5313516855239868|102.52805712371999|102.52805712371999|    157.8244968072989| 157.8244968072989|1.5313516855239868| 157.8244968072989|      0.07396797174718228|2010-01-01|                     1|      2010.0|   93610|14375.028222869629|          2905021.0|          Madera|Northern San Joaq...|                      1.0|               1| 12.8|\n",
      "|  37.11521| -120.26603|2010|    4|    1|20102072030187|         Madera|     93610|      2001-01-22|        2014-06-30|1.5313516855239868|             70.84|2010-04-01|         23833.0|               8280.0|                15553.0|        1439.0|              694.0|                745.0|        1485.0|              729.0|                756.0|          1407.0|                740.0|                  667.0|          1473.0|                753.0|                  720.0|          2916.0|            2888.0|           5804.0| 7.736047|         37.1056|       -120.2487|          73.3|            2.0127727|  1873.525780181077| -55.29643968357893|       null|       null|1.5313516855239868|102.52805712371999|102.52805712371999|    157.8244968072989| 157.8244968072989|1.5313516855239868| 157.8244968072989|      0.07396797174718228|2010-01-01|                     1|      2010.0|   93610|14375.028222869629|          2905021.0|          Madera|Northern San Joaq...|                      1.0|               1| 12.8|\n",
      "| 37.122449| -120.26487|2010|    4|    2|20651930000000|         Madera|     93610|      1990-01-01|        2025-01-01|1.5313516855239868|             72.77|2010-04-01|         23833.0|               8280.0|                15553.0|        1439.0|              694.0|                745.0|        1485.0|              729.0|                756.0|          1407.0|                740.0|                  667.0|          1473.0|                753.0|                  720.0|          2916.0|            2888.0|           5804.0| 7.736047|         37.1056|       -120.2487|          73.3|            2.0127727|   2358.38241919395| -37.54028477906731|       null|       null|1.5313516855239868|102.52805712371999|102.52805712371999|    140.0683419027873| 140.0683419027873|1.5313516855239868| 140.0683419027873|       0.2331894173573087|2010-01-01|                     0|      2010.0|   93610|14375.028222869629|          2905021.0|          Madera|Northern San Joaq...|                      0.0|               1| 12.8|\n",
      "| 37.131113|-120.242025|2010|    4|    3|20651930113076|         Madera|     93610|      2007-08-21|        2025-01-01|1.5313516855239868|             77.12|2010-04-01|         23833.0|               8280.0|                15553.0|        1439.0|              694.0|                745.0|        1485.0|              729.0|                756.0|          1407.0|                740.0|                  667.0|          1473.0|                753.0|                  720.0|          2916.0|            2888.0|           5804.0| 7.736047|         37.1056|       -120.2487|          73.3|            2.0127727| 2892.9075458251764| 11.831222108044384|       null|       null|1.5313516855239868|102.52805712371999|102.52805712371999|     90.6968350156756|  90.6968350156756|1.5313516855239868|  90.6968350156756|        0.987838261458426|2010-01-01|                     2|      2010.0|   93610|14375.028222869629|          2905021.0|          Madera|Northern San Joaq...|                      0.0|               1| 12.8|\n",
      "| 37.115243| -120.26777|2010|    4|    4|20651936023907|         Madera|     93610|      1980-07-01|        2025-01-01|1.5313516855239868|             70.66|2010-04-01|         23833.0|               8280.0|                15553.0|        1439.0|              694.0|                745.0|        1485.0|              729.0|                756.0|          1407.0|                740.0|                  667.0|          1473.0|                753.0|                  720.0|          2916.0|            2888.0|           5804.0| 7.736047|         37.1056|       -120.2487|          73.3|            2.0127727| 2004.5665433091058| -57.72695665034661|       null|       null|1.5313516855239868|102.52805712371999|102.52805712371999|   160.25501377406658|160.25501377406658|1.5313516855239868|160.25501377406658|     0.058794434432924536|2010-01-01|                     2|      2010.0|   93610|14375.028222869629|          2905021.0|          Madera|Northern San Joaq...|                      1.0|               1| 12.8|\n",
      "| 37.116435| -120.26264|2010|    4|    5|20652010000000|         Madera|     93610|      1990-01-01|        2025-01-01|1.5313516855239868|             71.38|2010-04-01|         23833.0|               8280.0|                15553.0|        1439.0|              694.0|                745.0|        1485.0|              729.0|                756.0|          1407.0|                740.0|                  667.0|          1473.0|                753.0|                  720.0|          2916.0|            2888.0|           5804.0| 7.736047|         37.1056|       -120.2487|          73.3|            2.0127727|  1726.581720001096| -45.85349787412275|       null|       null|1.5313516855239868|102.52805712371999|102.52805712371999|   148.38155499784273|148.38155499784273|1.5313516855239868|148.38155499784273|       0.1484418178451501|2010-01-01|                     0|      2010.0|   93610|14375.028222869629|          2905021.0|          Madera|Northern San Joaq...|                      1.0|               1| 12.8|\n",
      "| 37.114421|-120.262612|2010|    4|    6|20652012030047|         Madera|     93610|      1980-07-01|        2025-01-01|1.5313516855239868|             71.01|2010-04-01|         23833.0|               8280.0|                15553.0|        1439.0|              694.0|                745.0|        1485.0|              729.0|                756.0|          1407.0|                740.0|                  667.0|          1473.0|                753.0|                  720.0|          2916.0|            2888.0|           5804.0| 7.736047|         37.1056|       -120.2487|          73.3|            2.0127727| 1577.1455869098806|-51.627712395811756|       null|       null|1.5313516855239868|102.52805712371999|102.52805712371999|   154.15576951953176|154.15576951953176|1.5313516855239868|154.15576951953176|      0.10001750110640129|2010-01-01|                     2|      2010.0|   93610|14375.028222869629|          2905021.0|          Madera|Northern San Joaq...|                      1.0|               1| 12.8|\n",
      "| 37.114421|-120.262612|2010|    4|    7|20652012032357|         Madera|     93610|      1980-07-01|        2025-01-01|1.5313516855239868|             71.01|2010-04-01|         23833.0|               8280.0|                15553.0|        1439.0|              694.0|                745.0|        1485.0|              729.0|                756.0|          1407.0|                740.0|                  667.0|          1473.0|                753.0|                  720.0|          2916.0|            2888.0|           5804.0| 7.736047|         37.1056|       -120.2487|          73.3|            2.0127727| 1577.1455869098806|-51.627712395811756|       null|       null|1.5313516855239868|102.52805712371999|102.52805712371999|   154.15576951953176|154.15576951953176|1.5313516855239868|154.15576951953176|      0.10001750110640129|2010-01-01|                     2|      2010.0|   93610|14375.028222869629|          2905021.0|          Madera|Northern San Joaq...|                      1.0|               1| 12.8|\n",
      "|  35.10877|-117.956403|2010|    4|    8|15636770113837|           Kern|     93505|      2007-08-20|        2025-01-01|1.9229604005813599|            726.11|2010-04-01|         14038.0|               8292.0|                 5746.0|         978.0|              498.0|                480.0|         903.0|              460.0|                443.0|           944.0|                496.0|                  448.0|           961.0|                464.0|                  497.0|          1918.0|            1868.0|           3786.0| 8.738297|        35.15125|      -118.01667|        740.08|            1.7150765|  7237.644150895437| 130.61169426028664|       null|       null|1.9229604005813599| 90.75829498494724| 90.75829498494724|     39.8533992753394|  39.8533992753394|1.9229604005813599|  39.8533992753394|       1.7676866197437722|2010-01-01|                     2|      2010.0|   93505|3686.3322436849926|           434350.0|            Kern|Southern San Joaq...|                      0.0|               1| null|\n",
      "| 35.138427| -117.97325|2010|    4|    9|15636770114512|           Kern|     93505|      2007-08-20|        2025-01-01|1.9229604005813599|            721.91|2010-04-01|         14038.0|               8292.0|                 5746.0|         978.0|              498.0|                480.0|         903.0|              460.0|                443.0|           944.0|                496.0|                  448.0|           961.0|                464.0|                  497.0|          1918.0|            1868.0|           3786.0| 8.738297|        35.15125|      -118.01667|        740.08|            1.7150765|   4204.71340841246| 109.76330491726215|       null|       null|1.9229604005813599| 90.75829498494724| 90.75829498494724|    19.00500993231492| 19.00500993231492|1.9229604005813599| 19.00500993231492|        1.945490106208428|2010-01-01|                     2|      2010.0|   93505|3686.3322436849926|           434350.0|            Kern|Southern San Joaq...|                      0.0|               1| null|\n",
      "|  35.12235|-117.965825|2010|    4|   10|15636776009823|           Kern|     93505|      1980-07-01|        2025-01-01|1.9229604005813599|            724.22|2010-04-01|         14038.0|               8292.0|                 5746.0|         978.0|              498.0|                480.0|         903.0|              460.0|                443.0|           944.0|                496.0|                  448.0|           961.0|                464.0|                  497.0|          1918.0|            1868.0|           3786.0| 8.738297|        35.15125|      -118.01667|        740.08|            1.7150765| 5634.9138539094165| 124.66575259204703|       null|       null|1.9229604005813599| 90.75829498494724| 90.75829498494724|   33.907457607099786|33.907457607099786|1.9229604005813599|33.907457607099786|        1.829939687705385|2010-01-01|                     2|      2010.0|   93505|3686.3322436849926|           434350.0|            Kern|Southern San Joaq...|                      0.0|               1| null|\n",
      "|  35.10877|-117.956403|2010|    4|   11|15636776111272|           Kern|     93505|      1993-07-06|        2025-01-01|1.9229604005813599|            726.11|2010-04-01|         14038.0|               8292.0|                 5746.0|         978.0|              498.0|                480.0|         903.0|              460.0|                443.0|           944.0|                496.0|                  448.0|           961.0|                464.0|                  497.0|          1918.0|            1868.0|           3786.0| 8.738297|        35.15125|      -118.01667|        740.08|            1.7150765|  7237.644150895437| 130.61169426028664|       null|       null|1.9229604005813599| 90.75829498494724| 90.75829498494724|     39.8533992753394|  39.8533992753394|1.9229604005813599|  39.8533992753394|       1.7676866197437722|2010-01-01|                     2|      2010.0|   93505|3686.3322436849926|           434350.0|            Kern|Southern San Joaq...|                      0.0|               1| null|\n",
      "| 35.756886|  -118.4166|2010|    4|   12|15635456009641|           Kern|     93238|      1980-07-01|        2025-01-01| 1.981123685836792|            840.98|2010-04-01|          1490.0|                738.0|                  752.0|          63.0|               34.0|                 29.0|          63.0|               23.0|                 40.0|            55.0|                 27.0|                   28.0|            42.0|                 21.0|                   21.0|           105.0|             118.0|            223.0|7.2294874|       35.513841|     -118.901299|         250.9|             11.14284|  51522.89128696913|   58.2993528125989|       null|       null| 1.981123685836792| 94.06976578918447| 94.06976578918447|    35.77041297658559| 35.77041297658559| 1.981123685836792| 35.77041297658559|       1.8113657839258157|2010-01-01|                     2|      2010.0|   93238| 2411.103299856528|            61388.0|            Kern|Southern San Joaq...|                      0.0|               1| null|\n",
      "| 35.730014| -118.70482|2010|    4|   13|15635860000000|           Kern|     93226|      1990-01-01|        2025-01-01|1.4003278017044067|            969.74|2010-04-01|           282.0|                135.0|                  147.0|          13.0|                6.0|                  7.0|          15.0|                5.0|                 10.0|             8.0|                  3.0|                    5.0|            13.0|                  6.0|                    7.0|            20.0|              29.0|             49.0| 8.937255|       35.513841|     -118.901299|         250.9|             11.14284|  29867.89306357011|   36.5223965083143|       null|       null|1.4003278017044067|114.63824823583104|114.63824823583104|    78.11585172751674| 78.11585172751674|1.4003278017044067| 78.11585172751674|       1.2059334812373894|2010-01-01|                     0|      2010.0|   93226| 860080.0396039604|          2433499.0|            Kern|Southern San Joaq...|                      0.0|               1| null|\n",
      "| 35.730757|-118.704599|2010|    4|   14|15635866009724|           Kern|     93226|      1980-07-01|        2025-01-01|1.4003278017044067|            976.59|2010-04-01|           282.0|                135.0|                  147.0|          13.0|                6.0|                  7.0|          15.0|                5.0|                 10.0|             8.0|                  3.0|                    5.0|            13.0|                  6.0|                    7.0|            20.0|              29.0|             49.0| 8.937255|       35.513841|     -118.901299|         250.9|             11.14284| 29945.994202328016|   36.4589683018305|       null|       null|1.4003278017044067|114.63824823583104|114.63824823583104|    78.17927993400053| 78.17927993400053|1.4003278017044067| 78.17927993400053|       1.2048500523596735|2010-01-01|                     2|      2010.0|   93226| 860080.0396039604|          2433499.0|            Kern|Southern San Joaq...|                      0.0|               1| null|\n",
      "| 35.615205| -119.70291|2010|    4|   16|15635940000000|           Kern|     93249|      1990-01-01|        2025-01-01|1.3219658136367798|            100.24|2010-04-01|          2739.0|               1559.0|                 1180.0|         382.0|              193.0|                189.0|         309.0|              171.0|                138.0|           248.0|                136.0|                  112.0|           286.0|                159.0|                  127.0|           659.0|             566.0|           1225.0| 9.191603|         35.5767|       -119.7854|         175.1|           2.16845051|   8610.02561495707|  60.22790174449373|       null|       null|1.3219658136367798|107.02405007553217|107.02405007553217|    46.79614833103844| 46.79614833103844|1.3219658136367798| 46.79614833103844|       1.6845961189467769|2010-01-01|                     0|      2010.0|   93249|144288.87545126354|          3047904.0|            Kern|Southern San Joaq...|                      0.0|               1| null|\n",
      "| 35.614094|-119.700563|2010|    4|   17|15635946060420|           Kern|     93249|      1980-07-01|        2025-01-01|1.3219658136367798|             99.66|2010-04-01|          2739.0|               1559.0|                 1180.0|         382.0|              193.0|                189.0|         309.0|              171.0|                138.0|           248.0|                136.0|                  112.0|           286.0|                159.0|                  127.0|           659.0|             566.0|           1225.0| 9.191603|         35.5767|       -119.7854|         175.1|           2.16845051|  8736.154005374226| 61.621571632736625|       null|       null|1.3219658136367798|107.02405007553217|107.02405007553217|    45.40247844279554| 45.40247844279554|1.3219658136367798| 45.40247844279554|       1.7021222618618217|2010-01-01|                     2|      2010.0|   93249|144288.87545126354|          3047904.0|            Kern|Southern San Joaq...|                      0.0|               1| null|\n",
      "| 35.614094|-119.700563|2010|    4|   18|15635946102792|           Kern|     93249|      1980-07-01|        2025-01-01|1.3219658136367798|             99.66|2010-04-01|          2739.0|               1559.0|                 1180.0|         382.0|              193.0|                189.0|         309.0|              171.0|                138.0|           248.0|                136.0|                  112.0|           286.0|                159.0|                  127.0|           659.0|             566.0|           1225.0| 9.191603|         35.5767|       -119.7854|         175.1|           2.16845051|  8736.154005374226| 61.621571632736625|       null|       null|1.3219658136367798|107.02405007553217|107.02405007553217|    45.40247844279554| 45.40247844279554|1.3219658136367798| 45.40247844279554|       1.7021222618618217|2010-01-01|                     2|      2010.0|   93249|144288.87545126354|          3047904.0|            Kern|Southern San Joaq...|                      0.0|               1| null|\n",
      "|  34.45067|-117.647375|2010|    4|   19|36739576108260| San Bernardino|     92372|      1980-07-01|        2025-01-01|1.5667824745178223|           1177.84|2010-04-01|          6220.0|               3136.0|                 3084.0|         368.0|              189.0|                179.0|         367.0|              188.0|                179.0|           489.0|                244.0|                  245.0|           509.0|                268.0|                  241.0|           889.0|             844.0|           1733.0| 9.082143|       34.534084|     -117.861722|        900.09|               32.722| 21753.533182030216| 115.11313547709793|       null|       null|1.5667824745178223|60.816812956827484|60.816812956827484|    54.29632252027045| 54.29632252027045|1.5667824745178223| 54.29632252027045|        1.583593346155176|2010-01-01|                     2|      2010.0|   92372| 44409.83423326134|          2309547.0|  San Bernardino|       Inland Empire|                      0.0|               1| null|\n",
      "| 35.898178|-120.432068|2010|    4|   20|40688336043335|San Luis Obispo|     93451|      1930-07-01|        2025-01-01|  1.26140558719635|             465.9|2010-04-01|          3779.0|               1926.0|                 1853.0|         271.0|              137.0|                134.0|         305.0|              168.0|                137.0|           283.0|                145.0|                  138.0|           294.0|                149.0|                  145.0|           599.0|             554.0|           1153.0|    5.936|        36.13427|      -120.38843|        248.32|           16.0590037|   26490.3080895096|-171.44727253224113|       null|       null|  1.26140558719635|104.68183892580346|104.68183892580346|    83.87088854195542| 83.87088854195542|  1.26140558719635| 83.87088854195542|        1.106769296380005|2010-01-01|                     2|      2010.0|   93451|19882.599339933993|          2286821.0| San Luis Obispo|       Central Coast|                      0.0|               1| 10.5|\n",
      "+----------+-----------+----+-----+-----+--------------+---------------+----------+----------------+------------------+------------------+------------------+----------+----------------+---------------------+-----------------------+--------------+-------------------+---------------------+--------------+-------------------+---------------------+----------------+---------------------+-----------------------+----------------+---------------------+-----------------------+----------------+------------------+-----------------+---------+----------------+----------------+--------------+---------------------+-------------------+-------------------+-----------+-----------+------------------+------------------+------------------+---------------------+------------------+------------------+------------------+-------------------------+----------+----------------------+------------+--------+------------------+-------------------+----------------+--------------------+-------------------------+----------------+-----+\n",
      "only showing top 20 rows\n",
      "\n"
     ]
    }
   ],
   "source": [
    "df_left_step1.show()"
   ]
  },
  {
   "cell_type": "code",
   "execution_count": 80,
   "id": "5348bc87",
   "metadata": {},
   "outputs": [
    {
     "data": {
      "text/plain": [
       "871668"
      ]
     },
     "execution_count": 80,
     "metadata": {},
     "output_type": "execute_result"
    }
   ],
   "source": [
    "df_left_step1.filter(col('temp1').isNull()).count()"
   ]
  },
  {
   "cell_type": "code",
   "execution_count": 85,
   "id": "8af61092",
   "metadata": {},
   "outputs": [],
   "source": [
    "df_left_step2 = df_left_step1.join(df_temps_lat_lon_month_lookup_schools, ['school_lat','school_lon','month'], how='left')\n",
    "df_left_step2 = df_left_step2.withColumnRenamed('avg_temp','temp2')"
   ]
  },
  {
   "cell_type": "code",
   "execution_count": 87,
   "id": "28b0aaf1",
   "metadata": {},
   "outputs": [
    {
     "data": {
      "text/plain": [
       "344524"
      ]
     },
     "execution_count": 87,
     "metadata": {},
     "output_type": "execute_result"
    }
   ],
   "source": [
    "df_left_step2.filter(col('temp2').isNull()).count()"
   ]
  },
  {
   "cell_type": "code",
   "execution_count": 88,
   "id": "ac58ea23",
   "metadata": {},
   "outputs": [],
   "source": [
    "df_left_step3 = df_left_step2.join(df_temps_lat_lon_lookup_schools, ['school_lat','school_lon'], how='left')\n",
    "df_left_step3 = df_left_step3.withColumnRenamed('avg_temp','temp3')"
   ]
  },
  {
   "cell_type": "code",
   "execution_count": 90,
   "id": "052bc172",
   "metadata": {},
   "outputs": [
    {
     "data": {
      "text/plain": [
       "238334"
      ]
     },
     "execution_count": 90,
     "metadata": {},
     "output_type": "execute_result"
    }
   ],
   "source": [
    "df_left_step3.filter(col('temp3').isNull()).count()"
   ]
  },
  {
   "cell_type": "code",
   "execution_count": 93,
   "id": "2212fc85",
   "metadata": {},
   "outputs": [],
   "source": [
    "df_left_step4 = df_left_step3.withColumn(\"temp4\",lit(df_temps_avg_temp.collect()[0][0]))"
   ]
  },
  {
   "cell_type": "code",
   "execution_count": 94,
   "id": "e32882e1",
   "metadata": {},
   "outputs": [
    {
     "name": "stdout",
     "output_type": "stream",
     "text": [
      "+----------+-----------+-----+----+-----+--------------+---------------+----------+----------------+------------------+------------------+------------------+----------+----------------+---------------------+-----------------------+--------------+-------------------+---------------------+--------------+-------------------+---------------------+----------------+---------------------+-----------------------+----------------+---------------------+-----------------------+----------------+------------------+-----------------+---------+----------------+----------------+--------------+---------------------+-------------------+-------------------+-----------+-----------+------------------+------------------+------------------+---------------------+------------------+------------------+------------------+-------------------------+----------+----------------------+------------+--------+------------------+-------------------+----------------+--------------------+-------------------------+----------------+-----+------------------+------------------+------------------+\n",
      "|school_lat| school_lon|month|year|index|       cdscode|  school_county|school_zip|school_open_date|school_closed_date|       school_wspd|school_elevation_m|year_month|total_population|total_population_male|total_population_female|population_0_4|population_0_4_male|population_0_4_female|population_5_9|population_5_9_male|population_5_9_female|population_10_14|population_10_14_male|population_10_14_female|population_15_19|population_15_19_male|population_15_19_female|pop_under19_male|pop_under19_female|total_pop_under19|     pm25|point_source_lat|point_source_lon|ps_elevation_m|point_source_pm25_tpy|dist_school_to_ps_m|    angle_to_school|ps_wind_lat|ps_wind_lon|     ps_wspd_merge|school_wdir_wrt_0N|    ps_wdir_wrt_0N|school_wind_alignment| ps_wind_alignment|    avg_wind_speed|avg_wind_alignment|avg_wind_alignment_cosine|  new_year|open_close_dates_valid|Taxable Year|Zip Code|CA_AGI_per_returns|Total Tax Liability|school_county_v2|  school_region_name|nearby_point_source_count|open_dates_valid|temp1|             temp2|             temp3|             temp4|\n",
      "+----------+-----------+-----+----+-----+--------------+---------------+----------+----------------+------------------+------------------+------------------+----------+----------------+---------------------+-----------------------+--------------+-------------------+---------------------+--------------+-------------------+---------------------+----------------+---------------------+-----------------------+----------------+---------------------+-----------------------+----------------+------------------+-----------------+---------+----------------+----------------+--------------+---------------------+-------------------+-------------------+-----------+-----------+------------------+------------------+------------------+---------------------+------------------+------------------+------------------+-------------------------+----------+----------------------+------------+--------+------------------+-------------------+----------------+--------------------+-------------------------+----------------+-----+------------------+------------------+------------------+\n",
      "|  37.11521| -120.26603|    4|2010|    0|20102070109728|         Madera|     93610|      2005-08-16|        2014-06-30|1.5313516855239868|             70.84|2010-04-01|         23833.0|               8280.0|                15553.0|        1439.0|              694.0|                745.0|        1485.0|              729.0|                756.0|          1407.0|                740.0|                  667.0|          1473.0|                753.0|                  720.0|          2916.0|            2888.0|           5804.0| 7.736047|         37.1056|       -120.2487|          73.3|            2.0127727|  1873.525780181077| -55.29643968357893|       null|       null|1.5313516855239868|102.52805712371999|102.52805712371999|    157.8244968072989| 157.8244968072989|1.5313516855239868| 157.8244968072989|      0.07396797174718228|2010-01-01|                     1|      2010.0|   93610|14375.028222869629|          2905021.0|          Madera|Northern San Joaq...|                      1.0|               1| 12.8|15.688888888888888|18.190721649484537|16.993707583039793|\n",
      "|  37.11521| -120.26603|    4|2010|    1|20102072030187|         Madera|     93610|      2001-01-22|        2014-06-30|1.5313516855239868|             70.84|2010-04-01|         23833.0|               8280.0|                15553.0|        1439.0|              694.0|                745.0|        1485.0|              729.0|                756.0|          1407.0|                740.0|                  667.0|          1473.0|                753.0|                  720.0|          2916.0|            2888.0|           5804.0| 7.736047|         37.1056|       -120.2487|          73.3|            2.0127727|  1873.525780181077| -55.29643968357893|       null|       null|1.5313516855239868|102.52805712371999|102.52805712371999|    157.8244968072989| 157.8244968072989|1.5313516855239868| 157.8244968072989|      0.07396797174718228|2010-01-01|                     1|      2010.0|   93610|14375.028222869629|          2905021.0|          Madera|Northern San Joaq...|                      1.0|               1| 12.8|15.688888888888888|18.190721649484537|16.993707583039793|\n",
      "| 37.122449| -120.26487|    4|2010|    2|20651930000000|         Madera|     93610|      1990-01-01|        2025-01-01|1.5313516855239868|             72.77|2010-04-01|         23833.0|               8280.0|                15553.0|        1439.0|              694.0|                745.0|        1485.0|              729.0|                756.0|          1407.0|                740.0|                  667.0|          1473.0|                753.0|                  720.0|          2916.0|            2888.0|           5804.0| 7.736047|         37.1056|       -120.2487|          73.3|            2.0127727|   2358.38241919395| -37.54028477906731|       null|       null|1.5313516855239868|102.52805712371999|102.52805712371999|    140.0683419027873| 140.0683419027873|1.5313516855239868| 140.0683419027873|       0.2331894173573087|2010-01-01|                     0|      2010.0|   93610|14375.028222869629|          2905021.0|          Madera|Northern San Joaq...|                      0.0|               1| 12.8|15.666666666666666|18.153608247422685|16.993707583039793|\n",
      "| 37.131113|-120.242025|    4|2010|    3|20651930113076|         Madera|     93610|      2007-08-21|        2025-01-01|1.5313516855239868|             77.12|2010-04-01|         23833.0|               8280.0|                15553.0|        1439.0|              694.0|                745.0|        1485.0|              729.0|                756.0|          1407.0|                740.0|                  667.0|          1473.0|                753.0|                  720.0|          2916.0|            2888.0|           5804.0| 7.736047|         37.1056|       -120.2487|          73.3|            2.0127727| 2892.9075458251764| 11.831222108044384|       null|       null|1.5313516855239868|102.52805712371999|102.52805712371999|     90.6968350156756|  90.6968350156756|1.5313516855239868|  90.6968350156756|        0.987838261458426|2010-01-01|                     2|      2010.0|   93610|14375.028222869629|          2905021.0|          Madera|Northern San Joaq...|                      0.0|               1| 12.8| 15.66666666666667|18.153608247422685|16.993707583039793|\n",
      "| 37.115243| -120.26777|    4|2010|    4|20651936023907|         Madera|     93610|      1980-07-01|        2025-01-01|1.5313516855239868|             70.66|2010-04-01|         23833.0|               8280.0|                15553.0|        1439.0|              694.0|                745.0|        1485.0|              729.0|                756.0|          1407.0|                740.0|                  667.0|          1473.0|                753.0|                  720.0|          2916.0|            2888.0|           5804.0| 7.736047|         37.1056|       -120.2487|          73.3|            2.0127727| 2004.5665433091058| -57.72695665034661|       null|       null|1.5313516855239868|102.52805712371999|102.52805712371999|   160.25501377406658|160.25501377406658|1.5313516855239868|160.25501377406658|     0.058794434432924536|2010-01-01|                     2|      2010.0|   93610|14375.028222869629|          2905021.0|          Madera|Northern San Joaq...|                      1.0|               1| 12.8|15.688888888888888|18.190721649484534|16.993707583039793|\n",
      "| 37.116435| -120.26264|    4|2010|    5|20652010000000|         Madera|     93610|      1990-01-01|        2025-01-01|1.5313516855239868|             71.38|2010-04-01|         23833.0|               8280.0|                15553.0|        1439.0|              694.0|                745.0|        1485.0|              729.0|                756.0|          1407.0|                740.0|                  667.0|          1473.0|                753.0|                  720.0|          2916.0|            2888.0|           5804.0| 7.736047|         37.1056|       -120.2487|          73.3|            2.0127727|  1726.581720001096| -45.85349787412275|       null|       null|1.5313516855239868|102.52805712371999|102.52805712371999|   148.38155499784273|148.38155499784273|1.5313516855239868|148.38155499784273|       0.1484418178451501|2010-01-01|                     0|      2010.0|   93610|14375.028222869629|          2905021.0|          Madera|Northern San Joaq...|                      1.0|               1| 12.8| 15.68888888888889|18.190721649484534|16.993707583039793|\n",
      "| 37.114421|-120.262612|    4|2010|    6|20652012030047|         Madera|     93610|      1980-07-01|        2025-01-01|1.5313516855239868|             71.01|2010-04-01|         23833.0|               8280.0|                15553.0|        1439.0|              694.0|                745.0|        1485.0|              729.0|                756.0|          1407.0|                740.0|                  667.0|          1473.0|                753.0|                  720.0|          2916.0|            2888.0|           5804.0| 7.736047|         37.1056|       -120.2487|          73.3|            2.0127727| 1577.1455869098806|-51.627712395811756|       null|       null|1.5313516855239868|102.52805712371999|102.52805712371999|   154.15576951953176|154.15576951953176|1.5313516855239868|154.15576951953176|      0.10001750110640129|2010-01-01|                     2|      2010.0|   93610|14375.028222869629|          2905021.0|          Madera|Northern San Joaq...|                      1.0|               1| 12.8| 15.68888888888889| 18.19072164948453|16.993707583039793|\n",
      "| 37.114421|-120.262612|    4|2010|    7|20652012032357|         Madera|     93610|      1980-07-01|        2025-01-01|1.5313516855239868|             71.01|2010-04-01|         23833.0|               8280.0|                15553.0|        1439.0|              694.0|                745.0|        1485.0|              729.0|                756.0|          1407.0|                740.0|                  667.0|          1473.0|                753.0|                  720.0|          2916.0|            2888.0|           5804.0| 7.736047|         37.1056|       -120.2487|          73.3|            2.0127727| 1577.1455869098806|-51.627712395811756|       null|       null|1.5313516855239868|102.52805712371999|102.52805712371999|   154.15576951953176|154.15576951953176|1.5313516855239868|154.15576951953176|      0.10001750110640129|2010-01-01|                     2|      2010.0|   93610|14375.028222869629|          2905021.0|          Madera|Northern San Joaq...|                      1.0|               1| 12.8| 15.68888888888889| 18.19072164948453|16.993707583039793|\n",
      "|  35.10877|-117.956403|    4|2010|    8|15636770113837|           Kern|     93505|      2007-08-20|        2025-01-01|1.9229604005813599|            726.11|2010-04-01|         14038.0|               8292.0|                 5746.0|         978.0|              498.0|                480.0|         903.0|              460.0|                443.0|           944.0|                496.0|                  448.0|           961.0|                464.0|                  497.0|          1918.0|            1868.0|           3786.0| 8.738297|        35.15125|      -118.01667|        740.08|            1.7150765|  7237.644150895437| 130.61169426028664|       null|       null|1.9229604005813599| 90.75829498494724| 90.75829498494724|     39.8533992753394|  39.8533992753394|1.9229604005813599|  39.8533992753394|       1.7676866197437722|2010-01-01|                     2|      2010.0|   93505|3686.3322436849926|           434350.0|            Kern|Southern San Joaq...|                      0.0|               1| null|              15.6|         17.653125|16.993707583039793|\n",
      "| 35.138427| -117.97325|    4|2010|    9|15636770114512|           Kern|     93505|      2007-08-20|        2025-01-01|1.9229604005813599|            721.91|2010-04-01|         14038.0|               8292.0|                 5746.0|         978.0|              498.0|                480.0|         903.0|              460.0|                443.0|           944.0|                496.0|                  448.0|           961.0|                464.0|                  497.0|          1918.0|            1868.0|           3786.0| 8.738297|        35.15125|      -118.01667|        740.08|            1.7150765|   4204.71340841246| 109.76330491726215|       null|       null|1.9229604005813599| 90.75829498494724| 90.75829498494724|    19.00500993231492| 19.00500993231492|1.9229604005813599| 19.00500993231492|        1.945490106208428|2010-01-01|                     2|      2010.0|   93505|3686.3322436849926|           434350.0|            Kern|Southern San Joaq...|                      0.0|               1| null|15.666666666666666|17.695312499999996|16.993707583039793|\n",
      "|  35.12235|-117.965825|    4|2010|   10|15636776009823|           Kern|     93505|      1980-07-01|        2025-01-01|1.9229604005813599|            724.22|2010-04-01|         14038.0|               8292.0|                 5746.0|         978.0|              498.0|                480.0|         903.0|              460.0|                443.0|           944.0|                496.0|                  448.0|           961.0|                464.0|                  497.0|          1918.0|            1868.0|           3786.0| 8.738297|        35.15125|      -118.01667|        740.08|            1.7150765| 5634.9138539094165| 124.66575259204703|       null|       null|1.9229604005813599| 90.75829498494724| 90.75829498494724|   33.907457607099786|33.907457607099786|1.9229604005813599|33.907457607099786|        1.829939687705385|2010-01-01|                     2|      2010.0|   93505|3686.3322436849926|           434350.0|            Kern|Southern San Joaq...|                      0.0|               1| null|15.666666666666666|        17.6953125|16.993707583039793|\n",
      "|  35.10877|-117.956403|    4|2010|   11|15636776111272|           Kern|     93505|      1993-07-06|        2025-01-01|1.9229604005813599|            726.11|2010-04-01|         14038.0|               8292.0|                 5746.0|         978.0|              498.0|                480.0|         903.0|              460.0|                443.0|           944.0|                496.0|                  448.0|           961.0|                464.0|                  497.0|          1918.0|            1868.0|           3786.0| 8.738297|        35.15125|      -118.01667|        740.08|            1.7150765|  7237.644150895437| 130.61169426028664|       null|       null|1.9229604005813599| 90.75829498494724| 90.75829498494724|     39.8533992753394|  39.8533992753394|1.9229604005813599|  39.8533992753394|       1.7676866197437722|2010-01-01|                     2|      2010.0|   93505|3686.3322436849926|           434350.0|            Kern|Southern San Joaq...|                      0.0|               1| null|              15.6|         17.653125|16.993707583039793|\n",
      "| 35.756886|  -118.4166|    4|2010|   12|15635456009641|           Kern|     93238|      1980-07-01|        2025-01-01| 1.981123685836792|            840.98|2010-04-01|          1490.0|                738.0|                  752.0|          63.0|               34.0|                 29.0|          63.0|               23.0|                 40.0|            55.0|                 27.0|                   28.0|            42.0|                 21.0|                   21.0|           105.0|             118.0|            223.0|7.2294874|       35.513841|     -118.901299|         250.9|             11.14284|  51522.89128696913|   58.2993528125989|       null|       null| 1.981123685836792| 94.06976578918447| 94.06976578918447|    35.77041297658559| 35.77041297658559| 1.981123685836792| 35.77041297658559|       1.8113657839258157|2010-01-01|                     2|      2010.0|   93238| 2411.103299856528|            61388.0|            Kern|Southern San Joaq...|                      0.0|               1| null|              null|              null|16.993707583039793|\n",
      "| 35.730014| -118.70482|    4|2010|   13|15635860000000|           Kern|     93226|      1990-01-01|        2025-01-01|1.4003278017044067|            969.74|2010-04-01|           282.0|                135.0|                  147.0|          13.0|                6.0|                  7.0|          15.0|                5.0|                 10.0|             8.0|                  3.0|                    5.0|            13.0|                  6.0|                    7.0|            20.0|              29.0|             49.0| 8.937255|       35.513841|     -118.901299|         250.9|             11.14284|  29867.89306357011|   36.5223965083143|       null|       null|1.4003278017044067|114.63824823583104|114.63824823583104|    78.11585172751674| 78.11585172751674|1.4003278017044067| 78.11585172751674|       1.2059334812373894|2010-01-01|                     0|      2010.0|   93226| 860080.0396039604|          2433499.0|            Kern|Southern San Joaq...|                      0.0|               1| null|              null|              null|16.993707583039793|\n",
      "| 35.730757|-118.704599|    4|2010|   14|15635866009724|           Kern|     93226|      1980-07-01|        2025-01-01|1.4003278017044067|            976.59|2010-04-01|           282.0|                135.0|                  147.0|          13.0|                6.0|                  7.0|          15.0|                5.0|                 10.0|             8.0|                  3.0|                    5.0|            13.0|                  6.0|                    7.0|            20.0|              29.0|             49.0| 8.937255|       35.513841|     -118.901299|         250.9|             11.14284| 29945.994202328016|   36.4589683018305|       null|       null|1.4003278017044067|114.63824823583104|114.63824823583104|    78.17927993400053| 78.17927993400053|1.4003278017044067| 78.17927993400053|       1.2048500523596735|2010-01-01|                     2|      2010.0|   93226| 860080.0396039604|          2433499.0|            Kern|Southern San Joaq...|                      0.0|               1| null|              null|              null|16.993707583039793|\n",
      "| 35.615205| -119.70291|    4|2010|   16|15635940000000|           Kern|     93249|      1990-01-01|        2025-01-01|1.3219658136367798|            100.24|2010-04-01|          2739.0|               1559.0|                 1180.0|         382.0|              193.0|                189.0|         309.0|              171.0|                138.0|           248.0|                136.0|                  112.0|           286.0|                159.0|                  127.0|           659.0|             566.0|           1225.0| 9.191603|         35.5767|       -119.7854|         175.1|           2.16845051|   8610.02561495707|  60.22790174449373|       null|       null|1.3219658136367798|107.02405007553217|107.02405007553217|    46.79614833103844| 46.79614833103844|1.3219658136367798| 46.79614833103844|       1.6845961189467769|2010-01-01|                     0|      2010.0|   93249|144288.87545126354|          3047904.0|            Kern|Southern San Joaq...|                      0.0|               1| null|              null|              null|16.993707583039793|\n",
      "| 35.614094|-119.700563|    4|2010|   17|15635946060420|           Kern|     93249|      1980-07-01|        2025-01-01|1.3219658136367798|             99.66|2010-04-01|          2739.0|               1559.0|                 1180.0|         382.0|              193.0|                189.0|         309.0|              171.0|                138.0|           248.0|                136.0|                  112.0|           286.0|                159.0|                  127.0|           659.0|             566.0|           1225.0| 9.191603|         35.5767|       -119.7854|         175.1|           2.16845051|  8736.154005374226| 61.621571632736625|       null|       null|1.3219658136367798|107.02405007553217|107.02405007553217|    45.40247844279554| 45.40247844279554|1.3219658136367798| 45.40247844279554|       1.7021222618618217|2010-01-01|                     2|      2010.0|   93249|144288.87545126354|          3047904.0|            Kern|Southern San Joaq...|                      0.0|               1| null|              null|              null|16.993707583039793|\n",
      "| 35.614094|-119.700563|    4|2010|   18|15635946102792|           Kern|     93249|      1980-07-01|        2025-01-01|1.3219658136367798|             99.66|2010-04-01|          2739.0|               1559.0|                 1180.0|         382.0|              193.0|                189.0|         309.0|              171.0|                138.0|           248.0|                136.0|                  112.0|           286.0|                159.0|                  127.0|           659.0|             566.0|           1225.0| 9.191603|         35.5767|       -119.7854|         175.1|           2.16845051|  8736.154005374226| 61.621571632736625|       null|       null|1.3219658136367798|107.02405007553217|107.02405007553217|    45.40247844279554| 45.40247844279554|1.3219658136367798| 45.40247844279554|       1.7021222618618217|2010-01-01|                     2|      2010.0|   93249|144288.87545126354|          3047904.0|            Kern|Southern San Joaq...|                      0.0|               1| null|              null|              null|16.993707583039793|\n",
      "|  34.45067|-117.647375|    4|2010|   19|36739576108260| San Bernardino|     92372|      1980-07-01|        2025-01-01|1.5667824745178223|           1177.84|2010-04-01|          6220.0|               3136.0|                 3084.0|         368.0|              189.0|                179.0|         367.0|              188.0|                179.0|           489.0|                244.0|                  245.0|           509.0|                268.0|                  241.0|           889.0|             844.0|           1733.0| 9.082143|       34.534084|     -117.861722|        900.09|               32.722| 21753.533182030216| 115.11313547709793|       null|       null|1.5667824745178223|60.816812956827484|60.816812956827484|    54.29632252027045| 54.29632252027045|1.5667824745178223| 54.29632252027045|        1.583593346155176|2010-01-01|                     2|      2010.0|   92372| 44409.83423326134|          2309547.0|  San Bernardino|       Inland Empire|                      0.0|               1| null|              null|              27.7|16.993707583039793|\n",
      "| 35.898178|-120.432068|    4|2010|   20|40688336043335|San Luis Obispo|     93451|      1930-07-01|        2025-01-01|  1.26140558719635|             465.9|2010-04-01|          3779.0|               1926.0|                 1853.0|         271.0|              137.0|                134.0|         305.0|              168.0|                137.0|           283.0|                145.0|                  138.0|           294.0|                149.0|                  145.0|           599.0|             554.0|           1153.0|    5.936|        36.13427|      -120.38843|        248.32|           16.0590037|   26490.3080895096|-171.44727253224113|       null|       null|  1.26140558719635|104.68183892580346|104.68183892580346|    83.87088854195542| 83.87088854195542|  1.26140558719635| 83.87088854195542|        1.106769296380005|2010-01-01|                     2|      2010.0|   93451|19882.599339933993|          2286821.0| San Luis Obispo|       Central Coast|                      0.0|               1| 10.5|           12.4875|14.043478260869565|16.993707583039793|\n",
      "+----------+-----------+-----+----+-----+--------------+---------------+----------+----------------+------------------+------------------+------------------+----------+----------------+---------------------+-----------------------+--------------+-------------------+---------------------+--------------+-------------------+---------------------+----------------+---------------------+-----------------------+----------------+---------------------+-----------------------+----------------+------------------+-----------------+---------+----------------+----------------+--------------+---------------------+-------------------+-------------------+-----------+-----------+------------------+------------------+------------------+---------------------+------------------+------------------+------------------+-------------------------+----------+----------------------+------------+--------+------------------+-------------------+----------------+--------------------+-------------------------+----------------+-----+------------------+------------------+------------------+\n",
      "only showing top 20 rows\n",
      "\n"
     ]
    }
   ],
   "source": [
    "df_left_step4.show()"
   ]
  },
  {
   "cell_type": "markdown",
   "id": "7b2be203",
   "metadata": {},
   "source": [
    "## coalesce columns, then repeat for point source temps"
   ]
  },
  {
   "cell_type": "code",
   "execution_count": 95,
   "id": "ec51a3c0",
   "metadata": {},
   "outputs": [],
   "source": [
    "cols = ['temp1','temp2','temp3','temp4']\n",
    "\n",
    "df_left_schooltemps = df_left_step4.withColumn(\"school_temperature\",coalesce(*cols))"
   ]
  },
  {
   "cell_type": "code",
   "execution_count": 96,
   "id": "eba642d6",
   "metadata": {},
   "outputs": [
    {
     "name": "stdout",
     "output_type": "stream",
     "text": [
      "+----------+-----------+-----+----+-----+--------------+---------------+----------+----------------+------------------+------------------+------------------+----------+----------------+---------------------+-----------------------+--------------+-------------------+---------------------+--------------+-------------------+---------------------+----------------+---------------------+-----------------------+----------------+---------------------+-----------------------+----------------+------------------+-----------------+---------+----------------+----------------+--------------+---------------------+-------------------+-------------------+-----------+-----------+------------------+------------------+------------------+---------------------+------------------+------------------+------------------+-------------------------+----------+----------------------+------------+--------+------------------+-------------------+----------------+--------------------+-------------------------+----------------+-----+------------------+------------------+------------------+------------------+\n",
      "|school_lat| school_lon|month|year|index|       cdscode|  school_county|school_zip|school_open_date|school_closed_date|       school_wspd|school_elevation_m|year_month|total_population|total_population_male|total_population_female|population_0_4|population_0_4_male|population_0_4_female|population_5_9|population_5_9_male|population_5_9_female|population_10_14|population_10_14_male|population_10_14_female|population_15_19|population_15_19_male|population_15_19_female|pop_under19_male|pop_under19_female|total_pop_under19|     pm25|point_source_lat|point_source_lon|ps_elevation_m|point_source_pm25_tpy|dist_school_to_ps_m|    angle_to_school|ps_wind_lat|ps_wind_lon|     ps_wspd_merge|school_wdir_wrt_0N|    ps_wdir_wrt_0N|school_wind_alignment| ps_wind_alignment|    avg_wind_speed|avg_wind_alignment|avg_wind_alignment_cosine|  new_year|open_close_dates_valid|Taxable Year|Zip Code|CA_AGI_per_returns|Total Tax Liability|school_county_v2|  school_region_name|nearby_point_source_count|open_dates_valid|temp1|             temp2|             temp3|             temp4|school_temperature|\n",
      "+----------+-----------+-----+----+-----+--------------+---------------+----------+----------------+------------------+------------------+------------------+----------+----------------+---------------------+-----------------------+--------------+-------------------+---------------------+--------------+-------------------+---------------------+----------------+---------------------+-----------------------+----------------+---------------------+-----------------------+----------------+------------------+-----------------+---------+----------------+----------------+--------------+---------------------+-------------------+-------------------+-----------+-----------+------------------+------------------+------------------+---------------------+------------------+------------------+------------------+-------------------------+----------+----------------------+------------+--------+------------------+-------------------+----------------+--------------------+-------------------------+----------------+-----+------------------+------------------+------------------+------------------+\n",
      "|  37.11521| -120.26603|    4|2010|    0|20102070109728|         Madera|     93610|      2005-08-16|        2014-06-30|1.5313516855239868|             70.84|2010-04-01|         23833.0|               8280.0|                15553.0|        1439.0|              694.0|                745.0|        1485.0|              729.0|                756.0|          1407.0|                740.0|                  667.0|          1473.0|                753.0|                  720.0|          2916.0|            2888.0|           5804.0| 7.736047|         37.1056|       -120.2487|          73.3|            2.0127727|  1873.525780181077| -55.29643968357893|       null|       null|1.5313516855239868|102.52805712371999|102.52805712371999|    157.8244968072989| 157.8244968072989|1.5313516855239868| 157.8244968072989|      0.07396797174718228|2010-01-01|                     1|      2010.0|   93610|14375.028222869629|          2905021.0|          Madera|Northern San Joaq...|                      1.0|               1| 12.8|15.688888888888888|18.190721649484537|16.993707583039793|              12.8|\n",
      "|  37.11521| -120.26603|    4|2010|    1|20102072030187|         Madera|     93610|      2001-01-22|        2014-06-30|1.5313516855239868|             70.84|2010-04-01|         23833.0|               8280.0|                15553.0|        1439.0|              694.0|                745.0|        1485.0|              729.0|                756.0|          1407.0|                740.0|                  667.0|          1473.0|                753.0|                  720.0|          2916.0|            2888.0|           5804.0| 7.736047|         37.1056|       -120.2487|          73.3|            2.0127727|  1873.525780181077| -55.29643968357893|       null|       null|1.5313516855239868|102.52805712371999|102.52805712371999|    157.8244968072989| 157.8244968072989|1.5313516855239868| 157.8244968072989|      0.07396797174718228|2010-01-01|                     1|      2010.0|   93610|14375.028222869629|          2905021.0|          Madera|Northern San Joaq...|                      1.0|               1| 12.8|15.688888888888888|18.190721649484537|16.993707583039793|              12.8|\n",
      "| 37.122449| -120.26487|    4|2010|    2|20651930000000|         Madera|     93610|      1990-01-01|        2025-01-01|1.5313516855239868|             72.77|2010-04-01|         23833.0|               8280.0|                15553.0|        1439.0|              694.0|                745.0|        1485.0|              729.0|                756.0|          1407.0|                740.0|                  667.0|          1473.0|                753.0|                  720.0|          2916.0|            2888.0|           5804.0| 7.736047|         37.1056|       -120.2487|          73.3|            2.0127727|   2358.38241919395| -37.54028477906731|       null|       null|1.5313516855239868|102.52805712371999|102.52805712371999|    140.0683419027873| 140.0683419027873|1.5313516855239868| 140.0683419027873|       0.2331894173573087|2010-01-01|                     0|      2010.0|   93610|14375.028222869629|          2905021.0|          Madera|Northern San Joaq...|                      0.0|               1| 12.8|15.666666666666666|18.153608247422685|16.993707583039793|              12.8|\n",
      "| 37.131113|-120.242025|    4|2010|    3|20651930113076|         Madera|     93610|      2007-08-21|        2025-01-01|1.5313516855239868|             77.12|2010-04-01|         23833.0|               8280.0|                15553.0|        1439.0|              694.0|                745.0|        1485.0|              729.0|                756.0|          1407.0|                740.0|                  667.0|          1473.0|                753.0|                  720.0|          2916.0|            2888.0|           5804.0| 7.736047|         37.1056|       -120.2487|          73.3|            2.0127727| 2892.9075458251764| 11.831222108044384|       null|       null|1.5313516855239868|102.52805712371999|102.52805712371999|     90.6968350156756|  90.6968350156756|1.5313516855239868|  90.6968350156756|        0.987838261458426|2010-01-01|                     2|      2010.0|   93610|14375.028222869629|          2905021.0|          Madera|Northern San Joaq...|                      0.0|               1| 12.8| 15.66666666666667|18.153608247422685|16.993707583039793|              12.8|\n",
      "| 37.115243| -120.26777|    4|2010|    4|20651936023907|         Madera|     93610|      1980-07-01|        2025-01-01|1.5313516855239868|             70.66|2010-04-01|         23833.0|               8280.0|                15553.0|        1439.0|              694.0|                745.0|        1485.0|              729.0|                756.0|          1407.0|                740.0|                  667.0|          1473.0|                753.0|                  720.0|          2916.0|            2888.0|           5804.0| 7.736047|         37.1056|       -120.2487|          73.3|            2.0127727| 2004.5665433091058| -57.72695665034661|       null|       null|1.5313516855239868|102.52805712371999|102.52805712371999|   160.25501377406658|160.25501377406658|1.5313516855239868|160.25501377406658|     0.058794434432924536|2010-01-01|                     2|      2010.0|   93610|14375.028222869629|          2905021.0|          Madera|Northern San Joaq...|                      1.0|               1| 12.8|15.688888888888888|18.190721649484534|16.993707583039793|              12.8|\n",
      "| 37.116435| -120.26264|    4|2010|    5|20652010000000|         Madera|     93610|      1990-01-01|        2025-01-01|1.5313516855239868|             71.38|2010-04-01|         23833.0|               8280.0|                15553.0|        1439.0|              694.0|                745.0|        1485.0|              729.0|                756.0|          1407.0|                740.0|                  667.0|          1473.0|                753.0|                  720.0|          2916.0|            2888.0|           5804.0| 7.736047|         37.1056|       -120.2487|          73.3|            2.0127727|  1726.581720001096| -45.85349787412275|       null|       null|1.5313516855239868|102.52805712371999|102.52805712371999|   148.38155499784273|148.38155499784273|1.5313516855239868|148.38155499784273|       0.1484418178451501|2010-01-01|                     0|      2010.0|   93610|14375.028222869629|          2905021.0|          Madera|Northern San Joaq...|                      1.0|               1| 12.8| 15.68888888888889|18.190721649484534|16.993707583039793|              12.8|\n",
      "| 37.114421|-120.262612|    4|2010|    6|20652012030047|         Madera|     93610|      1980-07-01|        2025-01-01|1.5313516855239868|             71.01|2010-04-01|         23833.0|               8280.0|                15553.0|        1439.0|              694.0|                745.0|        1485.0|              729.0|                756.0|          1407.0|                740.0|                  667.0|          1473.0|                753.0|                  720.0|          2916.0|            2888.0|           5804.0| 7.736047|         37.1056|       -120.2487|          73.3|            2.0127727| 1577.1455869098806|-51.627712395811756|       null|       null|1.5313516855239868|102.52805712371999|102.52805712371999|   154.15576951953176|154.15576951953176|1.5313516855239868|154.15576951953176|      0.10001750110640129|2010-01-01|                     2|      2010.0|   93610|14375.028222869629|          2905021.0|          Madera|Northern San Joaq...|                      1.0|               1| 12.8| 15.68888888888889| 18.19072164948453|16.993707583039793|              12.8|\n",
      "| 37.114421|-120.262612|    4|2010|    7|20652012032357|         Madera|     93610|      1980-07-01|        2025-01-01|1.5313516855239868|             71.01|2010-04-01|         23833.0|               8280.0|                15553.0|        1439.0|              694.0|                745.0|        1485.0|              729.0|                756.0|          1407.0|                740.0|                  667.0|          1473.0|                753.0|                  720.0|          2916.0|            2888.0|           5804.0| 7.736047|         37.1056|       -120.2487|          73.3|            2.0127727| 1577.1455869098806|-51.627712395811756|       null|       null|1.5313516855239868|102.52805712371999|102.52805712371999|   154.15576951953176|154.15576951953176|1.5313516855239868|154.15576951953176|      0.10001750110640129|2010-01-01|                     2|      2010.0|   93610|14375.028222869629|          2905021.0|          Madera|Northern San Joaq...|                      1.0|               1| 12.8| 15.68888888888889| 18.19072164948453|16.993707583039793|              12.8|\n",
      "|  35.10877|-117.956403|    4|2010|    8|15636770113837|           Kern|     93505|      2007-08-20|        2025-01-01|1.9229604005813599|            726.11|2010-04-01|         14038.0|               8292.0|                 5746.0|         978.0|              498.0|                480.0|         903.0|              460.0|                443.0|           944.0|                496.0|                  448.0|           961.0|                464.0|                  497.0|          1918.0|            1868.0|           3786.0| 8.738297|        35.15125|      -118.01667|        740.08|            1.7150765|  7237.644150895437| 130.61169426028664|       null|       null|1.9229604005813599| 90.75829498494724| 90.75829498494724|     39.8533992753394|  39.8533992753394|1.9229604005813599|  39.8533992753394|       1.7676866197437722|2010-01-01|                     2|      2010.0|   93505|3686.3322436849926|           434350.0|            Kern|Southern San Joaq...|                      0.0|               1| null|              15.6|         17.653125|16.993707583039793|              15.6|\n",
      "| 35.138427| -117.97325|    4|2010|    9|15636770114512|           Kern|     93505|      2007-08-20|        2025-01-01|1.9229604005813599|            721.91|2010-04-01|         14038.0|               8292.0|                 5746.0|         978.0|              498.0|                480.0|         903.0|              460.0|                443.0|           944.0|                496.0|                  448.0|           961.0|                464.0|                  497.0|          1918.0|            1868.0|           3786.0| 8.738297|        35.15125|      -118.01667|        740.08|            1.7150765|   4204.71340841246| 109.76330491726215|       null|       null|1.9229604005813599| 90.75829498494724| 90.75829498494724|    19.00500993231492| 19.00500993231492|1.9229604005813599| 19.00500993231492|        1.945490106208428|2010-01-01|                     2|      2010.0|   93505|3686.3322436849926|           434350.0|            Kern|Southern San Joaq...|                      0.0|               1| null|15.666666666666666|17.695312499999996|16.993707583039793|15.666666666666666|\n",
      "|  35.12235|-117.965825|    4|2010|   10|15636776009823|           Kern|     93505|      1980-07-01|        2025-01-01|1.9229604005813599|            724.22|2010-04-01|         14038.0|               8292.0|                 5746.0|         978.0|              498.0|                480.0|         903.0|              460.0|                443.0|           944.0|                496.0|                  448.0|           961.0|                464.0|                  497.0|          1918.0|            1868.0|           3786.0| 8.738297|        35.15125|      -118.01667|        740.08|            1.7150765| 5634.9138539094165| 124.66575259204703|       null|       null|1.9229604005813599| 90.75829498494724| 90.75829498494724|   33.907457607099786|33.907457607099786|1.9229604005813599|33.907457607099786|        1.829939687705385|2010-01-01|                     2|      2010.0|   93505|3686.3322436849926|           434350.0|            Kern|Southern San Joaq...|                      0.0|               1| null|15.666666666666666|        17.6953125|16.993707583039793|15.666666666666666|\n",
      "|  35.10877|-117.956403|    4|2010|   11|15636776111272|           Kern|     93505|      1993-07-06|        2025-01-01|1.9229604005813599|            726.11|2010-04-01|         14038.0|               8292.0|                 5746.0|         978.0|              498.0|                480.0|         903.0|              460.0|                443.0|           944.0|                496.0|                  448.0|           961.0|                464.0|                  497.0|          1918.0|            1868.0|           3786.0| 8.738297|        35.15125|      -118.01667|        740.08|            1.7150765|  7237.644150895437| 130.61169426028664|       null|       null|1.9229604005813599| 90.75829498494724| 90.75829498494724|     39.8533992753394|  39.8533992753394|1.9229604005813599|  39.8533992753394|       1.7676866197437722|2010-01-01|                     2|      2010.0|   93505|3686.3322436849926|           434350.0|            Kern|Southern San Joaq...|                      0.0|               1| null|              15.6|         17.653125|16.993707583039793|              15.6|\n",
      "| 35.756886|  -118.4166|    4|2010|   12|15635456009641|           Kern|     93238|      1980-07-01|        2025-01-01| 1.981123685836792|            840.98|2010-04-01|          1490.0|                738.0|                  752.0|          63.0|               34.0|                 29.0|          63.0|               23.0|                 40.0|            55.0|                 27.0|                   28.0|            42.0|                 21.0|                   21.0|           105.0|             118.0|            223.0|7.2294874|       35.513841|     -118.901299|         250.9|             11.14284|  51522.89128696913|   58.2993528125989|       null|       null| 1.981123685836792| 94.06976578918447| 94.06976578918447|    35.77041297658559| 35.77041297658559| 1.981123685836792| 35.77041297658559|       1.8113657839258157|2010-01-01|                     2|      2010.0|   93238| 2411.103299856528|            61388.0|            Kern|Southern San Joaq...|                      0.0|               1| null|              null|              null|16.993707583039793|16.993707583039793|\n",
      "| 35.730014| -118.70482|    4|2010|   13|15635860000000|           Kern|     93226|      1990-01-01|        2025-01-01|1.4003278017044067|            969.74|2010-04-01|           282.0|                135.0|                  147.0|          13.0|                6.0|                  7.0|          15.0|                5.0|                 10.0|             8.0|                  3.0|                    5.0|            13.0|                  6.0|                    7.0|            20.0|              29.0|             49.0| 8.937255|       35.513841|     -118.901299|         250.9|             11.14284|  29867.89306357011|   36.5223965083143|       null|       null|1.4003278017044067|114.63824823583104|114.63824823583104|    78.11585172751674| 78.11585172751674|1.4003278017044067| 78.11585172751674|       1.2059334812373894|2010-01-01|                     0|      2010.0|   93226| 860080.0396039604|          2433499.0|            Kern|Southern San Joaq...|                      0.0|               1| null|              null|              null|16.993707583039793|16.993707583039793|\n",
      "| 35.730757|-118.704599|    4|2010|   14|15635866009724|           Kern|     93226|      1980-07-01|        2025-01-01|1.4003278017044067|            976.59|2010-04-01|           282.0|                135.0|                  147.0|          13.0|                6.0|                  7.0|          15.0|                5.0|                 10.0|             8.0|                  3.0|                    5.0|            13.0|                  6.0|                    7.0|            20.0|              29.0|             49.0| 8.937255|       35.513841|     -118.901299|         250.9|             11.14284| 29945.994202328016|   36.4589683018305|       null|       null|1.4003278017044067|114.63824823583104|114.63824823583104|    78.17927993400053| 78.17927993400053|1.4003278017044067| 78.17927993400053|       1.2048500523596735|2010-01-01|                     2|      2010.0|   93226| 860080.0396039604|          2433499.0|            Kern|Southern San Joaq...|                      0.0|               1| null|              null|              null|16.993707583039793|16.993707583039793|\n",
      "| 35.615205| -119.70291|    4|2010|   16|15635940000000|           Kern|     93249|      1990-01-01|        2025-01-01|1.3219658136367798|            100.24|2010-04-01|          2739.0|               1559.0|                 1180.0|         382.0|              193.0|                189.0|         309.0|              171.0|                138.0|           248.0|                136.0|                  112.0|           286.0|                159.0|                  127.0|           659.0|             566.0|           1225.0| 9.191603|         35.5767|       -119.7854|         175.1|           2.16845051|   8610.02561495707|  60.22790174449373|       null|       null|1.3219658136367798|107.02405007553217|107.02405007553217|    46.79614833103844| 46.79614833103844|1.3219658136367798| 46.79614833103844|       1.6845961189467769|2010-01-01|                     0|      2010.0|   93249|144288.87545126354|          3047904.0|            Kern|Southern San Joaq...|                      0.0|               1| null|              null|              null|16.993707583039793|16.993707583039793|\n",
      "| 35.614094|-119.700563|    4|2010|   17|15635946060420|           Kern|     93249|      1980-07-01|        2025-01-01|1.3219658136367798|             99.66|2010-04-01|          2739.0|               1559.0|                 1180.0|         382.0|              193.0|                189.0|         309.0|              171.0|                138.0|           248.0|                136.0|                  112.0|           286.0|                159.0|                  127.0|           659.0|             566.0|           1225.0| 9.191603|         35.5767|       -119.7854|         175.1|           2.16845051|  8736.154005374226| 61.621571632736625|       null|       null|1.3219658136367798|107.02405007553217|107.02405007553217|    45.40247844279554| 45.40247844279554|1.3219658136367798| 45.40247844279554|       1.7021222618618217|2010-01-01|                     2|      2010.0|   93249|144288.87545126354|          3047904.0|            Kern|Southern San Joaq...|                      0.0|               1| null|              null|              null|16.993707583039793|16.993707583039793|\n",
      "| 35.614094|-119.700563|    4|2010|   18|15635946102792|           Kern|     93249|      1980-07-01|        2025-01-01|1.3219658136367798|             99.66|2010-04-01|          2739.0|               1559.0|                 1180.0|         382.0|              193.0|                189.0|         309.0|              171.0|                138.0|           248.0|                136.0|                  112.0|           286.0|                159.0|                  127.0|           659.0|             566.0|           1225.0| 9.191603|         35.5767|       -119.7854|         175.1|           2.16845051|  8736.154005374226| 61.621571632736625|       null|       null|1.3219658136367798|107.02405007553217|107.02405007553217|    45.40247844279554| 45.40247844279554|1.3219658136367798| 45.40247844279554|       1.7021222618618217|2010-01-01|                     2|      2010.0|   93249|144288.87545126354|          3047904.0|            Kern|Southern San Joaq...|                      0.0|               1| null|              null|              null|16.993707583039793|16.993707583039793|\n",
      "|  34.45067|-117.647375|    4|2010|   19|36739576108260| San Bernardino|     92372|      1980-07-01|        2025-01-01|1.5667824745178223|           1177.84|2010-04-01|          6220.0|               3136.0|                 3084.0|         368.0|              189.0|                179.0|         367.0|              188.0|                179.0|           489.0|                244.0|                  245.0|           509.0|                268.0|                  241.0|           889.0|             844.0|           1733.0| 9.082143|       34.534084|     -117.861722|        900.09|               32.722| 21753.533182030216| 115.11313547709793|       null|       null|1.5667824745178223|60.816812956827484|60.816812956827484|    54.29632252027045| 54.29632252027045|1.5667824745178223| 54.29632252027045|        1.583593346155176|2010-01-01|                     2|      2010.0|   92372| 44409.83423326134|          2309547.0|  San Bernardino|       Inland Empire|                      0.0|               1| null|              null|              27.7|16.993707583039793|              27.7|\n",
      "| 35.898178|-120.432068|    4|2010|   20|40688336043335|San Luis Obispo|     93451|      1930-07-01|        2025-01-01|  1.26140558719635|             465.9|2010-04-01|          3779.0|               1926.0|                 1853.0|         271.0|              137.0|                134.0|         305.0|              168.0|                137.0|           283.0|                145.0|                  138.0|           294.0|                149.0|                  145.0|           599.0|             554.0|           1153.0|    5.936|        36.13427|      -120.38843|        248.32|           16.0590037|   26490.3080895096|-171.44727253224113|       null|       null|  1.26140558719635|104.68183892580346|104.68183892580346|    83.87088854195542| 83.87088854195542|  1.26140558719635| 83.87088854195542|        1.106769296380005|2010-01-01|                     2|      2010.0|   93451|19882.599339933993|          2286821.0| San Luis Obispo|       Central Coast|                      0.0|               1| 10.5|           12.4875|14.043478260869565|16.993707583039793|              10.5|\n",
      "+----------+-----------+-----+----+-----+--------------+---------------+----------+----------------+------------------+------------------+------------------+----------+----------------+---------------------+-----------------------+--------------+-------------------+---------------------+--------------+-------------------+---------------------+----------------+---------------------+-----------------------+----------------+---------------------+-----------------------+----------------+------------------+-----------------+---------+----------------+----------------+--------------+---------------------+-------------------+-------------------+-----------+-----------+------------------+------------------+------------------+---------------------+------------------+------------------+------------------+-------------------------+----------+----------------------+------------+--------+------------------+-------------------+----------------+--------------------+-------------------------+----------------+-----+------------------+------------------+------------------+------------------+\n",
      "only showing top 20 rows\n",
      "\n"
     ]
    }
   ],
   "source": [
    "df_left_schooltemps.show()"
   ]
  },
  {
   "cell_type": "code",
   "execution_count": 97,
   "id": "8f117eac",
   "metadata": {},
   "outputs": [
    {
     "data": {
      "text/plain": [
       "0"
      ]
     },
     "execution_count": 97,
     "metadata": {},
     "output_type": "execute_result"
    }
   ],
   "source": [
    "df_left_schooltemps.filter(col('school_temperature').isNull()).count()"
   ]
  },
  {
   "cell_type": "code",
   "execution_count": 98,
   "id": "c2be397b",
   "metadata": {},
   "outputs": [],
   "source": [
    "cols_to_drop = ['temp1','temp2','temp3','temp4']\n",
    "\n",
    "df_left = df_left_schooltemps.drop(*cols_to_drop)"
   ]
  },
  {
   "cell_type": "code",
   "execution_count": 99,
   "id": "15f535c0",
   "metadata": {},
   "outputs": [],
   "source": [
    "df_left_step1 = df_left.join(df_temps_merged_ps, ['point_source_lat','point_source_lon','year','month'], how='left')\n",
    "df_left_step1 = df_left_step1.withColumnRenamed('avg_temp','temp1')"
   ]
  },
  {
   "cell_type": "code",
   "execution_count": 101,
   "id": "eada6eb8",
   "metadata": {},
   "outputs": [
    {
     "name": "stdout",
     "output_type": "stream",
     "text": [
      "+----------------+----------------+----+-----+----------+-----------+-----+--------------+---------------+----------+----------------+------------------+------------------+------------------+----------+----------------+---------------------+-----------------------+--------------+-------------------+---------------------+--------------+-------------------+---------------------+----------------+---------------------+-----------------------+----------------+---------------------+-----------------------+----------------+------------------+-----------------+---------+--------------+---------------------+-------------------+-------------------+-----------+-----------+------------------+------------------+------------------+---------------------+------------------+------------------+------------------+-------------------------+----------+----------------------+------------+--------+------------------+-------------------+----------------+--------------------+-------------------------+----------------+------------------+-----+\n",
      "|point_source_lat|point_source_lon|year|month|school_lat| school_lon|index|       cdscode|  school_county|school_zip|school_open_date|school_closed_date|       school_wspd|school_elevation_m|year_month|total_population|total_population_male|total_population_female|population_0_4|population_0_4_male|population_0_4_female|population_5_9|population_5_9_male|population_5_9_female|population_10_14|population_10_14_male|population_10_14_female|population_15_19|population_15_19_male|population_15_19_female|pop_under19_male|pop_under19_female|total_pop_under19|     pm25|ps_elevation_m|point_source_pm25_tpy|dist_school_to_ps_m|    angle_to_school|ps_wind_lat|ps_wind_lon|     ps_wspd_merge|school_wdir_wrt_0N|    ps_wdir_wrt_0N|school_wind_alignment| ps_wind_alignment|    avg_wind_speed|avg_wind_alignment|avg_wind_alignment_cosine|  new_year|open_close_dates_valid|Taxable Year|Zip Code|CA_AGI_per_returns|Total Tax Liability|school_county_v2|  school_region_name|nearby_point_source_count|open_dates_valid|school_temperature|temp1|\n",
      "+----------------+----------------+----+-----+----------+-----------+-----+--------------+---------------+----------+----------------+------------------+------------------+------------------+----------+----------------+---------------------+-----------------------+--------------+-------------------+---------------------+--------------+-------------------+---------------------+----------------+---------------------+-----------------------+----------------+---------------------+-----------------------+----------------+------------------+-----------------+---------+--------------+---------------------+-------------------+-------------------+-----------+-----------+------------------+------------------+------------------+---------------------+------------------+------------------+------------------+-------------------------+----------+----------------------+------------+--------+------------------+-------------------+----------------+--------------------+-------------------------+----------------+------------------+-----+\n",
      "|         37.1056|       -120.2487|2010|    4|  37.11521| -120.26603|    0|20102070109728|         Madera|     93610|      2005-08-16|        2014-06-30|1.5313516855239868|             70.84|2010-04-01|         23833.0|               8280.0|                15553.0|        1439.0|              694.0|                745.0|        1485.0|              729.0|                756.0|          1407.0|                740.0|                  667.0|          1473.0|                753.0|                  720.0|          2916.0|            2888.0|           5804.0| 7.736047|          73.3|            2.0127727|  1873.525780181077| -55.29643968357893|       null|       null|1.5313516855239868|102.52805712371999|102.52805712371999|    157.8244968072989| 157.8244968072989|1.5313516855239868| 157.8244968072989|      0.07396797174718228|2010-01-01|                     1|      2010.0|   93610|14375.028222869629|          2905021.0|          Madera|Northern San Joaq...|                      1.0|               1|              12.8| 12.8|\n",
      "|         37.1056|       -120.2487|2010|    4|  37.11521| -120.26603|    1|20102072030187|         Madera|     93610|      2001-01-22|        2014-06-30|1.5313516855239868|             70.84|2010-04-01|         23833.0|               8280.0|                15553.0|        1439.0|              694.0|                745.0|        1485.0|              729.0|                756.0|          1407.0|                740.0|                  667.0|          1473.0|                753.0|                  720.0|          2916.0|            2888.0|           5804.0| 7.736047|          73.3|            2.0127727|  1873.525780181077| -55.29643968357893|       null|       null|1.5313516855239868|102.52805712371999|102.52805712371999|    157.8244968072989| 157.8244968072989|1.5313516855239868| 157.8244968072989|      0.07396797174718228|2010-01-01|                     1|      2010.0|   93610|14375.028222869629|          2905021.0|          Madera|Northern San Joaq...|                      1.0|               1|              12.8| 12.8|\n",
      "|         37.1056|       -120.2487|2010|    4| 37.122449| -120.26487|    2|20651930000000|         Madera|     93610|      1990-01-01|        2025-01-01|1.5313516855239868|             72.77|2010-04-01|         23833.0|               8280.0|                15553.0|        1439.0|              694.0|                745.0|        1485.0|              729.0|                756.0|          1407.0|                740.0|                  667.0|          1473.0|                753.0|                  720.0|          2916.0|            2888.0|           5804.0| 7.736047|          73.3|            2.0127727|   2358.38241919395| -37.54028477906731|       null|       null|1.5313516855239868|102.52805712371999|102.52805712371999|    140.0683419027873| 140.0683419027873|1.5313516855239868| 140.0683419027873|       0.2331894173573087|2010-01-01|                     0|      2010.0|   93610|14375.028222869629|          2905021.0|          Madera|Northern San Joaq...|                      0.0|               1|              12.8| 12.8|\n",
      "|         37.1056|       -120.2487|2010|    4| 37.131113|-120.242025|    3|20651930113076|         Madera|     93610|      2007-08-21|        2025-01-01|1.5313516855239868|             77.12|2010-04-01|         23833.0|               8280.0|                15553.0|        1439.0|              694.0|                745.0|        1485.0|              729.0|                756.0|          1407.0|                740.0|                  667.0|          1473.0|                753.0|                  720.0|          2916.0|            2888.0|           5804.0| 7.736047|          73.3|            2.0127727| 2892.9075458251764| 11.831222108044384|       null|       null|1.5313516855239868|102.52805712371999|102.52805712371999|     90.6968350156756|  90.6968350156756|1.5313516855239868|  90.6968350156756|        0.987838261458426|2010-01-01|                     2|      2010.0|   93610|14375.028222869629|          2905021.0|          Madera|Northern San Joaq...|                      0.0|               1|              12.8| 12.8|\n",
      "|         37.1056|       -120.2487|2010|    4| 37.115243| -120.26777|    4|20651936023907|         Madera|     93610|      1980-07-01|        2025-01-01|1.5313516855239868|             70.66|2010-04-01|         23833.0|               8280.0|                15553.0|        1439.0|              694.0|                745.0|        1485.0|              729.0|                756.0|          1407.0|                740.0|                  667.0|          1473.0|                753.0|                  720.0|          2916.0|            2888.0|           5804.0| 7.736047|          73.3|            2.0127727| 2004.5665433091058| -57.72695665034661|       null|       null|1.5313516855239868|102.52805712371999|102.52805712371999|   160.25501377406658|160.25501377406658|1.5313516855239868|160.25501377406658|     0.058794434432924536|2010-01-01|                     2|      2010.0|   93610|14375.028222869629|          2905021.0|          Madera|Northern San Joaq...|                      1.0|               1|              12.8| 12.8|\n",
      "|         37.1056|       -120.2487|2010|    4| 37.116435| -120.26264|    5|20652010000000|         Madera|     93610|      1990-01-01|        2025-01-01|1.5313516855239868|             71.38|2010-04-01|         23833.0|               8280.0|                15553.0|        1439.0|              694.0|                745.0|        1485.0|              729.0|                756.0|          1407.0|                740.0|                  667.0|          1473.0|                753.0|                  720.0|          2916.0|            2888.0|           5804.0| 7.736047|          73.3|            2.0127727|  1726.581720001096| -45.85349787412275|       null|       null|1.5313516855239868|102.52805712371999|102.52805712371999|   148.38155499784273|148.38155499784273|1.5313516855239868|148.38155499784273|       0.1484418178451501|2010-01-01|                     0|      2010.0|   93610|14375.028222869629|          2905021.0|          Madera|Northern San Joaq...|                      1.0|               1|              12.8| 12.8|\n",
      "|         37.1056|       -120.2487|2010|    4| 37.114421|-120.262612|    6|20652012030047|         Madera|     93610|      1980-07-01|        2025-01-01|1.5313516855239868|             71.01|2010-04-01|         23833.0|               8280.0|                15553.0|        1439.0|              694.0|                745.0|        1485.0|              729.0|                756.0|          1407.0|                740.0|                  667.0|          1473.0|                753.0|                  720.0|          2916.0|            2888.0|           5804.0| 7.736047|          73.3|            2.0127727| 1577.1455869098806|-51.627712395811756|       null|       null|1.5313516855239868|102.52805712371999|102.52805712371999|   154.15576951953176|154.15576951953176|1.5313516855239868|154.15576951953176|      0.10001750110640129|2010-01-01|                     2|      2010.0|   93610|14375.028222869629|          2905021.0|          Madera|Northern San Joaq...|                      1.0|               1|              12.8| 12.8|\n",
      "|         37.1056|       -120.2487|2010|    4| 37.114421|-120.262612|    7|20652012032357|         Madera|     93610|      1980-07-01|        2025-01-01|1.5313516855239868|             71.01|2010-04-01|         23833.0|               8280.0|                15553.0|        1439.0|              694.0|                745.0|        1485.0|              729.0|                756.0|          1407.0|                740.0|                  667.0|          1473.0|                753.0|                  720.0|          2916.0|            2888.0|           5804.0| 7.736047|          73.3|            2.0127727| 1577.1455869098806|-51.627712395811756|       null|       null|1.5313516855239868|102.52805712371999|102.52805712371999|   154.15576951953176|154.15576951953176|1.5313516855239868|154.15576951953176|      0.10001750110640129|2010-01-01|                     2|      2010.0|   93610|14375.028222869629|          2905021.0|          Madera|Northern San Joaq...|                      1.0|               1|              12.8| 12.8|\n",
      "|        35.15125|      -118.01667|2010|    4|  35.10877|-117.956403|    8|15636770113837|           Kern|     93505|      2007-08-20|        2025-01-01|1.9229604005813599|            726.11|2010-04-01|         14038.0|               8292.0|                 5746.0|         978.0|              498.0|                480.0|         903.0|              460.0|                443.0|           944.0|                496.0|                  448.0|           961.0|                464.0|                  497.0|          1918.0|            1868.0|           3786.0| 8.738297|        740.08|            1.7150765|  7237.644150895437| 130.61169426028664|       null|       null|1.9229604005813599| 90.75829498494724| 90.75829498494724|     39.8533992753394|  39.8533992753394|1.9229604005813599|  39.8533992753394|       1.7676866197437722|2010-01-01|                     2|      2010.0|   93505|3686.3322436849926|           434350.0|            Kern|Southern San Joaq...|                      0.0|               1|              15.6| null|\n",
      "|        35.15125|      -118.01667|2010|    4| 35.138427| -117.97325|    9|15636770114512|           Kern|     93505|      2007-08-20|        2025-01-01|1.9229604005813599|            721.91|2010-04-01|         14038.0|               8292.0|                 5746.0|         978.0|              498.0|                480.0|         903.0|              460.0|                443.0|           944.0|                496.0|                  448.0|           961.0|                464.0|                  497.0|          1918.0|            1868.0|           3786.0| 8.738297|        740.08|            1.7150765|   4204.71340841246| 109.76330491726215|       null|       null|1.9229604005813599| 90.75829498494724| 90.75829498494724|    19.00500993231492| 19.00500993231492|1.9229604005813599| 19.00500993231492|        1.945490106208428|2010-01-01|                     2|      2010.0|   93505|3686.3322436849926|           434350.0|            Kern|Southern San Joaq...|                      0.0|               1|15.666666666666666| null|\n",
      "|        35.15125|      -118.01667|2010|    4|  35.12235|-117.965825|   10|15636776009823|           Kern|     93505|      1980-07-01|        2025-01-01|1.9229604005813599|            724.22|2010-04-01|         14038.0|               8292.0|                 5746.0|         978.0|              498.0|                480.0|         903.0|              460.0|                443.0|           944.0|                496.0|                  448.0|           961.0|                464.0|                  497.0|          1918.0|            1868.0|           3786.0| 8.738297|        740.08|            1.7150765| 5634.9138539094165| 124.66575259204703|       null|       null|1.9229604005813599| 90.75829498494724| 90.75829498494724|   33.907457607099786|33.907457607099786|1.9229604005813599|33.907457607099786|        1.829939687705385|2010-01-01|                     2|      2010.0|   93505|3686.3322436849926|           434350.0|            Kern|Southern San Joaq...|                      0.0|               1|15.666666666666666| null|\n",
      "|        35.15125|      -118.01667|2010|    4|  35.10877|-117.956403|   11|15636776111272|           Kern|     93505|      1993-07-06|        2025-01-01|1.9229604005813599|            726.11|2010-04-01|         14038.0|               8292.0|                 5746.0|         978.0|              498.0|                480.0|         903.0|              460.0|                443.0|           944.0|                496.0|                  448.0|           961.0|                464.0|                  497.0|          1918.0|            1868.0|           3786.0| 8.738297|        740.08|            1.7150765|  7237.644150895437| 130.61169426028664|       null|       null|1.9229604005813599| 90.75829498494724| 90.75829498494724|     39.8533992753394|  39.8533992753394|1.9229604005813599|  39.8533992753394|       1.7676866197437722|2010-01-01|                     2|      2010.0|   93505|3686.3322436849926|           434350.0|            Kern|Southern San Joaq...|                      0.0|               1|              15.6| null|\n",
      "|       35.513841|     -118.901299|2010|    4| 35.756886|  -118.4166|   12|15635456009641|           Kern|     93238|      1980-07-01|        2025-01-01| 1.981123685836792|            840.98|2010-04-01|          1490.0|                738.0|                  752.0|          63.0|               34.0|                 29.0|          63.0|               23.0|                 40.0|            55.0|                 27.0|                   28.0|            42.0|                 21.0|                   21.0|           105.0|             118.0|            223.0|7.2294874|         250.9|             11.14284|  51522.89128696913|   58.2993528125989|       null|       null| 1.981123685836792| 94.06976578918447| 94.06976578918447|    35.77041297658559| 35.77041297658559| 1.981123685836792| 35.77041297658559|       1.8113657839258157|2010-01-01|                     2|      2010.0|   93238| 2411.103299856528|            61388.0|            Kern|Southern San Joaq...|                      0.0|               1|16.993707583039793| 14.2|\n",
      "|       35.513841|     -118.901299|2010|    4| 35.730014| -118.70482|   13|15635860000000|           Kern|     93226|      1990-01-01|        2025-01-01|1.4003278017044067|            969.74|2010-04-01|           282.0|                135.0|                  147.0|          13.0|                6.0|                  7.0|          15.0|                5.0|                 10.0|             8.0|                  3.0|                    5.0|            13.0|                  6.0|                    7.0|            20.0|              29.0|             49.0| 8.937255|         250.9|             11.14284|  29867.89306357011|   36.5223965083143|       null|       null|1.4003278017044067|114.63824823583104|114.63824823583104|    78.11585172751674| 78.11585172751674|1.4003278017044067| 78.11585172751674|       1.2059334812373894|2010-01-01|                     0|      2010.0|   93226| 860080.0396039604|          2433499.0|            Kern|Southern San Joaq...|                      0.0|               1|16.993707583039793| 14.2|\n",
      "|       35.513841|     -118.901299|2010|    4| 35.730757|-118.704599|   14|15635866009724|           Kern|     93226|      1980-07-01|        2025-01-01|1.4003278017044067|            976.59|2010-04-01|           282.0|                135.0|                  147.0|          13.0|                6.0|                  7.0|          15.0|                5.0|                 10.0|             8.0|                  3.0|                    5.0|            13.0|                  6.0|                    7.0|            20.0|              29.0|             49.0| 8.937255|         250.9|             11.14284| 29945.994202328016|   36.4589683018305|       null|       null|1.4003278017044067|114.63824823583104|114.63824823583104|    78.17927993400053| 78.17927993400053|1.4003278017044067| 78.17927993400053|       1.2048500523596735|2010-01-01|                     2|      2010.0|   93226| 860080.0396039604|          2433499.0|            Kern|Southern San Joaq...|                      0.0|               1|16.993707583039793| 14.2|\n",
      "|         35.5767|       -119.7854|2010|    4| 35.615205| -119.70291|   16|15635940000000|           Kern|     93249|      1990-01-01|        2025-01-01|1.3219658136367798|            100.24|2010-04-01|          2739.0|               1559.0|                 1180.0|         382.0|              193.0|                189.0|         309.0|              171.0|                138.0|           248.0|                136.0|                  112.0|           286.0|                159.0|                  127.0|           659.0|             566.0|           1225.0| 9.191603|         175.1|           2.16845051|   8610.02561495707|  60.22790174449373|       null|       null|1.3219658136367798|107.02405007553217|107.02405007553217|    46.79614833103844| 46.79614833103844|1.3219658136367798| 46.79614833103844|       1.6845961189467769|2010-01-01|                     0|      2010.0|   93249|144288.87545126354|          3047904.0|            Kern|Southern San Joaq...|                      0.0|               1|16.993707583039793| null|\n",
      "|         35.5767|       -119.7854|2010|    4| 35.614094|-119.700563|   17|15635946060420|           Kern|     93249|      1980-07-01|        2025-01-01|1.3219658136367798|             99.66|2010-04-01|          2739.0|               1559.0|                 1180.0|         382.0|              193.0|                189.0|         309.0|              171.0|                138.0|           248.0|                136.0|                  112.0|           286.0|                159.0|                  127.0|           659.0|             566.0|           1225.0| 9.191603|         175.1|           2.16845051|  8736.154005374226| 61.621571632736625|       null|       null|1.3219658136367798|107.02405007553217|107.02405007553217|    45.40247844279554| 45.40247844279554|1.3219658136367798| 45.40247844279554|       1.7021222618618217|2010-01-01|                     2|      2010.0|   93249|144288.87545126354|          3047904.0|            Kern|Southern San Joaq...|                      0.0|               1|16.993707583039793| null|\n",
      "|         35.5767|       -119.7854|2010|    4| 35.614094|-119.700563|   18|15635946102792|           Kern|     93249|      1980-07-01|        2025-01-01|1.3219658136367798|             99.66|2010-04-01|          2739.0|               1559.0|                 1180.0|         382.0|              193.0|                189.0|         309.0|              171.0|                138.0|           248.0|                136.0|                  112.0|           286.0|                159.0|                  127.0|           659.0|             566.0|           1225.0| 9.191603|         175.1|           2.16845051|  8736.154005374226| 61.621571632736625|       null|       null|1.3219658136367798|107.02405007553217|107.02405007553217|    45.40247844279554| 45.40247844279554|1.3219658136367798| 45.40247844279554|       1.7021222618618217|2010-01-01|                     2|      2010.0|   93249|144288.87545126354|          3047904.0|            Kern|Southern San Joaq...|                      0.0|               1|16.993707583039793| null|\n",
      "|       34.534084|     -117.861722|2010|    4|  34.45067|-117.647375|   19|36739576108260| San Bernardino|     92372|      1980-07-01|        2025-01-01|1.5667824745178223|           1177.84|2010-04-01|          6220.0|               3136.0|                 3084.0|         368.0|              189.0|                179.0|         367.0|              188.0|                179.0|           489.0|                244.0|                  245.0|           509.0|                268.0|                  241.0|           889.0|             844.0|           1733.0| 9.082143|        900.09|               32.722| 21753.533182030216| 115.11313547709793|       null|       null|1.5667824745178223|60.816812956827484|60.816812956827484|    54.29632252027045| 54.29632252027045|1.5667824745178223| 54.29632252027045|        1.583593346155176|2010-01-01|                     2|      2010.0|   92372| 44409.83423326134|          2309547.0|  San Bernardino|       Inland Empire|                      0.0|               1|              27.7| 11.9|\n",
      "|        36.13427|      -120.38843|2010|    4| 35.898178|-120.432068|   20|40688336043335|San Luis Obispo|     93451|      1930-07-01|        2025-01-01|  1.26140558719635|             465.9|2010-04-01|          3779.0|               1926.0|                 1853.0|         271.0|              137.0|                134.0|         305.0|              168.0|                137.0|           283.0|                145.0|                  138.0|           294.0|                149.0|                  145.0|           599.0|             554.0|           1153.0|    5.936|        248.32|           16.0590037|   26490.3080895096|-171.44727253224113|       null|       null|  1.26140558719635|104.68183892580346|104.68183892580346|    83.87088854195542| 83.87088854195542|  1.26140558719635| 83.87088854195542|        1.106769296380005|2010-01-01|                     2|      2010.0|   93451|19882.599339933993|          2286821.0| San Luis Obispo|       Central Coast|                      0.0|               1|              10.5| null|\n",
      "+----------------+----------------+----+-----+----------+-----------+-----+--------------+---------------+----------+----------------+------------------+------------------+------------------+----------+----------------+---------------------+-----------------------+--------------+-------------------+---------------------+--------------+-------------------+---------------------+----------------+---------------------+-----------------------+----------------+---------------------+-----------------------+----------------+------------------+-----------------+---------+--------------+---------------------+-------------------+-------------------+-----------+-----------+------------------+------------------+------------------+---------------------+------------------+------------------+------------------+-------------------------+----------+----------------------+------------+--------+------------------+-------------------+----------------+--------------------+-------------------------+----------------+------------------+-----+\n",
      "only showing top 20 rows\n",
      "\n"
     ]
    }
   ],
   "source": [
    "df_left_step1.show()"
   ]
  },
  {
   "cell_type": "code",
   "execution_count": 100,
   "id": "f8788073",
   "metadata": {},
   "outputs": [
    {
     "data": {
      "text/plain": [
       "861646"
      ]
     },
     "execution_count": 100,
     "metadata": {},
     "output_type": "execute_result"
    }
   ],
   "source": [
    "df_left_step1.filter(col('temp1').isNull()).count()"
   ]
  },
  {
   "cell_type": "code",
   "execution_count": 102,
   "id": "58f78e5f",
   "metadata": {},
   "outputs": [],
   "source": [
    "df_left_step2 = df_left_step1.join(df_temps_lat_lon_month_lookup_ps, ['point_source_lat','point_source_lon','month'], how='left')\n",
    "df_left_step2 = df_left_step2.withColumnRenamed('avg_temp','temp2')"
   ]
  },
  {
   "cell_type": "code",
   "execution_count": 103,
   "id": "e3a6ef8f",
   "metadata": {},
   "outputs": [
    {
     "name": "stdout",
     "output_type": "stream",
     "text": [
      "+----------------+----------------+-----+----+----------+-----------+-----+--------------+---------------+----------+----------------+------------------+------------------+------------------+----------+----------------+---------------------+-----------------------+--------------+-------------------+---------------------+--------------+-------------------+---------------------+----------------+---------------------+-----------------------+----------------+---------------------+-----------------------+----------------+------------------+-----------------+---------+--------------+---------------------+-------------------+-------------------+-----------+-----------+------------------+------------------+------------------+---------------------+------------------+------------------+------------------+-------------------------+----------+----------------------+------------+--------+------------------+-------------------+----------------+--------------------+-------------------------+----------------+------------------+-----+------------------+\n",
      "|point_source_lat|point_source_lon|month|year|school_lat| school_lon|index|       cdscode|  school_county|school_zip|school_open_date|school_closed_date|       school_wspd|school_elevation_m|year_month|total_population|total_population_male|total_population_female|population_0_4|population_0_4_male|population_0_4_female|population_5_9|population_5_9_male|population_5_9_female|population_10_14|population_10_14_male|population_10_14_female|population_15_19|population_15_19_male|population_15_19_female|pop_under19_male|pop_under19_female|total_pop_under19|     pm25|ps_elevation_m|point_source_pm25_tpy|dist_school_to_ps_m|    angle_to_school|ps_wind_lat|ps_wind_lon|     ps_wspd_merge|school_wdir_wrt_0N|    ps_wdir_wrt_0N|school_wind_alignment| ps_wind_alignment|    avg_wind_speed|avg_wind_alignment|avg_wind_alignment_cosine|  new_year|open_close_dates_valid|Taxable Year|Zip Code|CA_AGI_per_returns|Total Tax Liability|school_county_v2|  school_region_name|nearby_point_source_count|open_dates_valid|school_temperature|temp1|             temp2|\n",
      "+----------------+----------------+-----+----+----------+-----------+-----+--------------+---------------+----------+----------------+------------------+------------------+------------------+----------+----------------+---------------------+-----------------------+--------------+-------------------+---------------------+--------------+-------------------+---------------------+----------------+---------------------+-----------------------+----------------+---------------------+-----------------------+----------------+------------------+-----------------+---------+--------------+---------------------+-------------------+-------------------+-----------+-----------+------------------+------------------+------------------+---------------------+------------------+------------------+------------------+-------------------------+----------+----------------------+------------+--------+------------------+-------------------+----------------+--------------------+-------------------------+----------------+------------------+-----+------------------+\n",
      "|         37.1056|       -120.2487|    4|2010|  37.11521| -120.26603|    0|20102070109728|         Madera|     93610|      2005-08-16|        2014-06-30|1.5313516855239868|             70.84|2010-04-01|         23833.0|               8280.0|                15553.0|        1439.0|              694.0|                745.0|        1485.0|              729.0|                756.0|          1407.0|                740.0|                  667.0|          1473.0|                753.0|                  720.0|          2916.0|            2888.0|           5804.0| 7.736047|          73.3|            2.0127727|  1873.525780181077| -55.29643968357893|       null|       null|1.5313516855239868|102.52805712371999|102.52805712371999|    157.8244968072989| 157.8244968072989|1.5313516855239868| 157.8244968072989|      0.07396797174718228|2010-01-01|                     1|      2010.0|   93610|14375.028222869629|          2905021.0|          Madera|Northern San Joaq...|                      1.0|               1|              12.8| 12.8|15.666666666666666|\n",
      "|         37.1056|       -120.2487|    4|2010|  37.11521| -120.26603|    1|20102072030187|         Madera|     93610|      2001-01-22|        2014-06-30|1.5313516855239868|             70.84|2010-04-01|         23833.0|               8280.0|                15553.0|        1439.0|              694.0|                745.0|        1485.0|              729.0|                756.0|          1407.0|                740.0|                  667.0|          1473.0|                753.0|                  720.0|          2916.0|            2888.0|           5804.0| 7.736047|          73.3|            2.0127727|  1873.525780181077| -55.29643968357893|       null|       null|1.5313516855239868|102.52805712371999|102.52805712371999|    157.8244968072989| 157.8244968072989|1.5313516855239868| 157.8244968072989|      0.07396797174718228|2010-01-01|                     1|      2010.0|   93610|14375.028222869629|          2905021.0|          Madera|Northern San Joaq...|                      1.0|               1|              12.8| 12.8|15.666666666666666|\n",
      "|         37.1056|       -120.2487|    4|2010| 37.122449| -120.26487|    2|20651930000000|         Madera|     93610|      1990-01-01|        2025-01-01|1.5313516855239868|             72.77|2010-04-01|         23833.0|               8280.0|                15553.0|        1439.0|              694.0|                745.0|        1485.0|              729.0|                756.0|          1407.0|                740.0|                  667.0|          1473.0|                753.0|                  720.0|          2916.0|            2888.0|           5804.0| 7.736047|          73.3|            2.0127727|   2358.38241919395| -37.54028477906731|       null|       null|1.5313516855239868|102.52805712371999|102.52805712371999|    140.0683419027873| 140.0683419027873|1.5313516855239868| 140.0683419027873|       0.2331894173573087|2010-01-01|                     0|      2010.0|   93610|14375.028222869629|          2905021.0|          Madera|Northern San Joaq...|                      0.0|               1|              12.8| 12.8|15.666666666666666|\n",
      "|         37.1056|       -120.2487|    4|2010| 37.131113|-120.242025|    3|20651930113076|         Madera|     93610|      2007-08-21|        2025-01-01|1.5313516855239868|             77.12|2010-04-01|         23833.0|               8280.0|                15553.0|        1439.0|              694.0|                745.0|        1485.0|              729.0|                756.0|          1407.0|                740.0|                  667.0|          1473.0|                753.0|                  720.0|          2916.0|            2888.0|           5804.0| 7.736047|          73.3|            2.0127727| 2892.9075458251764| 11.831222108044384|       null|       null|1.5313516855239868|102.52805712371999|102.52805712371999|     90.6968350156756|  90.6968350156756|1.5313516855239868|  90.6968350156756|        0.987838261458426|2010-01-01|                     2|      2010.0|   93610|14375.028222869629|          2905021.0|          Madera|Northern San Joaq...|                      0.0|               1|              12.8| 12.8|15.666666666666666|\n",
      "|         37.1056|       -120.2487|    4|2010| 37.115243| -120.26777|    4|20651936023907|         Madera|     93610|      1980-07-01|        2025-01-01|1.5313516855239868|             70.66|2010-04-01|         23833.0|               8280.0|                15553.0|        1439.0|              694.0|                745.0|        1485.0|              729.0|                756.0|          1407.0|                740.0|                  667.0|          1473.0|                753.0|                  720.0|          2916.0|            2888.0|           5804.0| 7.736047|          73.3|            2.0127727| 2004.5665433091058| -57.72695665034661|       null|       null|1.5313516855239868|102.52805712371999|102.52805712371999|   160.25501377406658|160.25501377406658|1.5313516855239868|160.25501377406658|     0.058794434432924536|2010-01-01|                     2|      2010.0|   93610|14375.028222869629|          2905021.0|          Madera|Northern San Joaq...|                      1.0|               1|              12.8| 12.8|15.666666666666666|\n",
      "|         37.1056|       -120.2487|    4|2010| 37.116435| -120.26264|    5|20652010000000|         Madera|     93610|      1990-01-01|        2025-01-01|1.5313516855239868|             71.38|2010-04-01|         23833.0|               8280.0|                15553.0|        1439.0|              694.0|                745.0|        1485.0|              729.0|                756.0|          1407.0|                740.0|                  667.0|          1473.0|                753.0|                  720.0|          2916.0|            2888.0|           5804.0| 7.736047|          73.3|            2.0127727|  1726.581720001096| -45.85349787412275|       null|       null|1.5313516855239868|102.52805712371999|102.52805712371999|   148.38155499784273|148.38155499784273|1.5313516855239868|148.38155499784273|       0.1484418178451501|2010-01-01|                     0|      2010.0|   93610|14375.028222869629|          2905021.0|          Madera|Northern San Joaq...|                      1.0|               1|              12.8| 12.8|15.666666666666666|\n",
      "|         37.1056|       -120.2487|    4|2010| 37.114421|-120.262612|    6|20652012030047|         Madera|     93610|      1980-07-01|        2025-01-01|1.5313516855239868|             71.01|2010-04-01|         23833.0|               8280.0|                15553.0|        1439.0|              694.0|                745.0|        1485.0|              729.0|                756.0|          1407.0|                740.0|                  667.0|          1473.0|                753.0|                  720.0|          2916.0|            2888.0|           5804.0| 7.736047|          73.3|            2.0127727| 1577.1455869098806|-51.627712395811756|       null|       null|1.5313516855239868|102.52805712371999|102.52805712371999|   154.15576951953176|154.15576951953176|1.5313516855239868|154.15576951953176|      0.10001750110640129|2010-01-01|                     2|      2010.0|   93610|14375.028222869629|          2905021.0|          Madera|Northern San Joaq...|                      1.0|               1|              12.8| 12.8|15.666666666666666|\n",
      "|         37.1056|       -120.2487|    4|2010| 37.114421|-120.262612|    7|20652012032357|         Madera|     93610|      1980-07-01|        2025-01-01|1.5313516855239868|             71.01|2010-04-01|         23833.0|               8280.0|                15553.0|        1439.0|              694.0|                745.0|        1485.0|              729.0|                756.0|          1407.0|                740.0|                  667.0|          1473.0|                753.0|                  720.0|          2916.0|            2888.0|           5804.0| 7.736047|          73.3|            2.0127727| 1577.1455869098806|-51.627712395811756|       null|       null|1.5313516855239868|102.52805712371999|102.52805712371999|   154.15576951953176|154.15576951953176|1.5313516855239868|154.15576951953176|      0.10001750110640129|2010-01-01|                     2|      2010.0|   93610|14375.028222869629|          2905021.0|          Madera|Northern San Joaq...|                      1.0|               1|              12.8| 12.8|15.666666666666666|\n",
      "|        35.15125|      -118.01667|    4|2010|  35.10877|-117.956403|    8|15636770113837|           Kern|     93505|      2007-08-20|        2025-01-01|1.9229604005813599|            726.11|2010-04-01|         14038.0|               8292.0|                 5746.0|         978.0|              498.0|                480.0|         903.0|              460.0|                443.0|           944.0|                496.0|                  448.0|           961.0|                464.0|                  497.0|          1918.0|            1868.0|           3786.0| 8.738297|        740.08|            1.7150765|  7237.644150895437| 130.61169426028664|       null|       null|1.9229604005813599| 90.75829498494724| 90.75829498494724|     39.8533992753394|  39.8533992753394|1.9229604005813599|  39.8533992753394|       1.7676866197437722|2010-01-01|                     2|      2010.0|   93505|3686.3322436849926|           434350.0|            Kern|Southern San Joaq...|                      0.0|               1|              15.6| null|16.033333333333335|\n",
      "|        35.15125|      -118.01667|    4|2010| 35.138427| -117.97325|    9|15636770114512|           Kern|     93505|      2007-08-20|        2025-01-01|1.9229604005813599|            721.91|2010-04-01|         14038.0|               8292.0|                 5746.0|         978.0|              498.0|                480.0|         903.0|              460.0|                443.0|           944.0|                496.0|                  448.0|           961.0|                464.0|                  497.0|          1918.0|            1868.0|           3786.0| 8.738297|        740.08|            1.7150765|   4204.71340841246| 109.76330491726215|       null|       null|1.9229604005813599| 90.75829498494724| 90.75829498494724|    19.00500993231492| 19.00500993231492|1.9229604005813599| 19.00500993231492|        1.945490106208428|2010-01-01|                     2|      2010.0|   93505|3686.3322436849926|           434350.0|            Kern|Southern San Joaq...|                      0.0|               1|15.666666666666666| null|16.033333333333335|\n",
      "|        35.15125|      -118.01667|    4|2010|  35.12235|-117.965825|   10|15636776009823|           Kern|     93505|      1980-07-01|        2025-01-01|1.9229604005813599|            724.22|2010-04-01|         14038.0|               8292.0|                 5746.0|         978.0|              498.0|                480.0|         903.0|              460.0|                443.0|           944.0|                496.0|                  448.0|           961.0|                464.0|                  497.0|          1918.0|            1868.0|           3786.0| 8.738297|        740.08|            1.7150765| 5634.9138539094165| 124.66575259204703|       null|       null|1.9229604005813599| 90.75829498494724| 90.75829498494724|   33.907457607099786|33.907457607099786|1.9229604005813599|33.907457607099786|        1.829939687705385|2010-01-01|                     2|      2010.0|   93505|3686.3322436849926|           434350.0|            Kern|Southern San Joaq...|                      0.0|               1|15.666666666666666| null|16.033333333333335|\n",
      "|        35.15125|      -118.01667|    4|2010|  35.10877|-117.956403|   11|15636776111272|           Kern|     93505|      1993-07-06|        2025-01-01|1.9229604005813599|            726.11|2010-04-01|         14038.0|               8292.0|                 5746.0|         978.0|              498.0|                480.0|         903.0|              460.0|                443.0|           944.0|                496.0|                  448.0|           961.0|                464.0|                  497.0|          1918.0|            1868.0|           3786.0| 8.738297|        740.08|            1.7150765|  7237.644150895437| 130.61169426028664|       null|       null|1.9229604005813599| 90.75829498494724| 90.75829498494724|     39.8533992753394|  39.8533992753394|1.9229604005813599|  39.8533992753394|       1.7676866197437722|2010-01-01|                     2|      2010.0|   93505|3686.3322436849926|           434350.0|            Kern|Southern San Joaq...|                      0.0|               1|              15.6| null|16.033333333333335|\n",
      "|       35.513841|     -118.901299|    4|2010| 35.756886|  -118.4166|   12|15635456009641|           Kern|     93238|      1980-07-01|        2025-01-01| 1.981123685836792|            840.98|2010-04-01|          1490.0|                738.0|                  752.0|          63.0|               34.0|                 29.0|          63.0|               23.0|                 40.0|            55.0|                 27.0|                   28.0|            42.0|                 21.0|                   21.0|           105.0|             118.0|            223.0|7.2294874|         250.9|             11.14284|  51522.89128696913|   58.2993528125989|       null|       null| 1.981123685836792| 94.06976578918447| 94.06976578918447|    35.77041297658559| 35.77041297658559| 1.981123685836792| 35.77041297658559|       1.8113657839258157|2010-01-01|                     2|      2010.0|   93238| 2411.103299856528|            61388.0|            Kern|Southern San Joaq...|                      0.0|               1|16.993707583039793| 14.2|          16.90625|\n",
      "|       35.513841|     -118.901299|    4|2010| 35.730014| -118.70482|   13|15635860000000|           Kern|     93226|      1990-01-01|        2025-01-01|1.4003278017044067|            969.74|2010-04-01|           282.0|                135.0|                  147.0|          13.0|                6.0|                  7.0|          15.0|                5.0|                 10.0|             8.0|                  3.0|                    5.0|            13.0|                  6.0|                    7.0|            20.0|              29.0|             49.0| 8.937255|         250.9|             11.14284|  29867.89306357011|   36.5223965083143|       null|       null|1.4003278017044067|114.63824823583104|114.63824823583104|    78.11585172751674| 78.11585172751674|1.4003278017044067| 78.11585172751674|       1.2059334812373894|2010-01-01|                     0|      2010.0|   93226| 860080.0396039604|          2433499.0|            Kern|Southern San Joaq...|                      0.0|               1|16.993707583039793| 14.2|          16.90625|\n",
      "|       35.513841|     -118.901299|    4|2010| 35.730757|-118.704599|   14|15635866009724|           Kern|     93226|      1980-07-01|        2025-01-01|1.4003278017044067|            976.59|2010-04-01|           282.0|                135.0|                  147.0|          13.0|                6.0|                  7.0|          15.0|                5.0|                 10.0|             8.0|                  3.0|                    5.0|            13.0|                  6.0|                    7.0|            20.0|              29.0|             49.0| 8.937255|         250.9|             11.14284| 29945.994202328016|   36.4589683018305|       null|       null|1.4003278017044067|114.63824823583104|114.63824823583104|    78.17927993400053| 78.17927993400053|1.4003278017044067| 78.17927993400053|       1.2048500523596735|2010-01-01|                     2|      2010.0|   93226| 860080.0396039604|          2433499.0|            Kern|Southern San Joaq...|                      0.0|               1|16.993707583039793| 14.2|          16.90625|\n",
      "|         35.5767|       -119.7854|    4|2010| 35.615205| -119.70291|   16|15635940000000|           Kern|     93249|      1990-01-01|        2025-01-01|1.3219658136367798|            100.24|2010-04-01|          2739.0|               1559.0|                 1180.0|         382.0|              193.0|                189.0|         309.0|              171.0|                138.0|           248.0|                136.0|                  112.0|           286.0|                159.0|                  127.0|           659.0|             566.0|           1225.0| 9.191603|         175.1|           2.16845051|   8610.02561495707|  60.22790174449373|       null|       null|1.3219658136367798|107.02405007553217|107.02405007553217|    46.79614833103844| 46.79614833103844|1.3219658136367798| 46.79614833103844|       1.6845961189467769|2010-01-01|                     0|      2010.0|   93249|144288.87545126354|          3047904.0|            Kern|Southern San Joaq...|                      0.0|               1|16.993707583039793| null|              null|\n",
      "|         35.5767|       -119.7854|    4|2010| 35.614094|-119.700563|   17|15635946060420|           Kern|     93249|      1980-07-01|        2025-01-01|1.3219658136367798|             99.66|2010-04-01|          2739.0|               1559.0|                 1180.0|         382.0|              193.0|                189.0|         309.0|              171.0|                138.0|           248.0|                136.0|                  112.0|           286.0|                159.0|                  127.0|           659.0|             566.0|           1225.0| 9.191603|         175.1|           2.16845051|  8736.154005374226| 61.621571632736625|       null|       null|1.3219658136367798|107.02405007553217|107.02405007553217|    45.40247844279554| 45.40247844279554|1.3219658136367798| 45.40247844279554|       1.7021222618618217|2010-01-01|                     2|      2010.0|   93249|144288.87545126354|          3047904.0|            Kern|Southern San Joaq...|                      0.0|               1|16.993707583039793| null|              null|\n",
      "|         35.5767|       -119.7854|    4|2010| 35.614094|-119.700563|   18|15635946102792|           Kern|     93249|      1980-07-01|        2025-01-01|1.3219658136367798|             99.66|2010-04-01|          2739.0|               1559.0|                 1180.0|         382.0|              193.0|                189.0|         309.0|              171.0|                138.0|           248.0|                136.0|                  112.0|           286.0|                159.0|                  127.0|           659.0|             566.0|           1225.0| 9.191603|         175.1|           2.16845051|  8736.154005374226| 61.621571632736625|       null|       null|1.3219658136367798|107.02405007553217|107.02405007553217|    45.40247844279554| 45.40247844279554|1.3219658136367798| 45.40247844279554|       1.7021222618618217|2010-01-01|                     2|      2010.0|   93249|144288.87545126354|          3047904.0|            Kern|Southern San Joaq...|                      0.0|               1|16.993707583039793| null|              null|\n",
      "|       34.534084|     -117.861722|    4|2010|  34.45067|-117.647375|   19|36739576108260| San Bernardino|     92372|      1980-07-01|        2025-01-01|1.5667824745178223|           1177.84|2010-04-01|          6220.0|               3136.0|                 3084.0|         368.0|              189.0|                179.0|         367.0|              188.0|                179.0|           489.0|                244.0|                  245.0|           509.0|                268.0|                  241.0|           889.0|             844.0|           1733.0| 9.082143|        900.09|               32.722| 21753.533182030216| 115.11313547709793|       null|       null|1.5667824745178223|60.816812956827484|60.816812956827484|    54.29632252027045| 54.29632252027045|1.5667824745178223| 54.29632252027045|        1.583593346155176|2010-01-01|                     2|      2010.0|   92372| 44409.83423326134|          2309547.0|  San Bernardino|       Inland Empire|                      0.0|               1|              27.7| 11.9|14.713333333333331|\n",
      "|        36.13427|      -120.38843|    4|2010| 35.898178|-120.432068|   20|40688336043335|San Luis Obispo|     93451|      1930-07-01|        2025-01-01|  1.26140558719635|             465.9|2010-04-01|          3779.0|               1926.0|                 1853.0|         271.0|              137.0|                134.0|         305.0|              168.0|                137.0|           283.0|                145.0|                  138.0|           294.0|                149.0|                  145.0|           599.0|             554.0|           1153.0|    5.936|        248.32|           16.0590037|   26490.3080895096|-171.44727253224113|       null|       null|  1.26140558719635|104.68183892580346|104.68183892580346|    83.87088854195542| 83.87088854195542|  1.26140558719635| 83.87088854195542|        1.106769296380005|2010-01-01|                     2|      2010.0|   93451|19882.599339933993|          2286821.0| San Luis Obispo|       Central Coast|                      0.0|               1|              10.5| null|              null|\n",
      "+----------------+----------------+-----+----+----------+-----------+-----+--------------+---------------+----------+----------------+------------------+------------------+------------------+----------+----------------+---------------------+-----------------------+--------------+-------------------+---------------------+--------------+-------------------+---------------------+----------------+---------------------+-----------------------+----------------+---------------------+-----------------------+----------------+------------------+-----------------+---------+--------------+---------------------+-------------------+-------------------+-----------+-----------+------------------+------------------+------------------+---------------------+------------------+------------------+------------------+-------------------------+----------+----------------------+------------+--------+------------------+-------------------+----------------+--------------------+-------------------------+----------------+------------------+-----+------------------+\n",
      "only showing top 20 rows\n",
      "\n"
     ]
    }
   ],
   "source": [
    "df_left_step2.show()"
   ]
  },
  {
   "cell_type": "code",
   "execution_count": 104,
   "id": "0f5a4df3",
   "metadata": {},
   "outputs": [
    {
     "data": {
      "text/plain": [
       "332437"
      ]
     },
     "execution_count": 104,
     "metadata": {},
     "output_type": "execute_result"
    }
   ],
   "source": [
    "df_left_step2.filter(col('temp2').isNull()).count()"
   ]
  },
  {
   "cell_type": "code",
   "execution_count": 105,
   "id": "e7d8527d",
   "metadata": {},
   "outputs": [],
   "source": [
    "df_left_step3 = df_left_step2.join(df_temps_lat_lon_lookup_ps, ['point_source_lat','point_source_lon'], how='left')\n",
    "df_left_step3 = df_left_step3.withColumnRenamed('avg_temp','temp3')"
   ]
  },
  {
   "cell_type": "code",
   "execution_count": 106,
   "id": "58254dd4",
   "metadata": {},
   "outputs": [
    {
     "name": "stdout",
     "output_type": "stream",
     "text": [
      "+----------------+----------------+-----+----+----------+-----------+-----+--------------+---------------+----------+----------------+------------------+------------------+------------------+----------+----------------+---------------------+-----------------------+--------------+-------------------+---------------------+--------------+-------------------+---------------------+----------------+---------------------+-----------------------+----------------+---------------------+-----------------------+----------------+------------------+-----------------+---------+--------------+---------------------+-------------------+-------------------+-----------+-----------+------------------+------------------+------------------+---------------------+------------------+------------------+------------------+-------------------------+----------+----------------------+------------+--------+------------------+-------------------+----------------+--------------------+-------------------------+----------------+------------------+-----+------------------+------------------+\n",
      "|point_source_lat|point_source_lon|month|year|school_lat| school_lon|index|       cdscode|  school_county|school_zip|school_open_date|school_closed_date|       school_wspd|school_elevation_m|year_month|total_population|total_population_male|total_population_female|population_0_4|population_0_4_male|population_0_4_female|population_5_9|population_5_9_male|population_5_9_female|population_10_14|population_10_14_male|population_10_14_female|population_15_19|population_15_19_male|population_15_19_female|pop_under19_male|pop_under19_female|total_pop_under19|     pm25|ps_elevation_m|point_source_pm25_tpy|dist_school_to_ps_m|    angle_to_school|ps_wind_lat|ps_wind_lon|     ps_wspd_merge|school_wdir_wrt_0N|    ps_wdir_wrt_0N|school_wind_alignment| ps_wind_alignment|    avg_wind_speed|avg_wind_alignment|avg_wind_alignment_cosine|  new_year|open_close_dates_valid|Taxable Year|Zip Code|CA_AGI_per_returns|Total Tax Liability|school_county_v2|  school_region_name|nearby_point_source_count|open_dates_valid|school_temperature|temp1|             temp2|             temp3|\n",
      "+----------------+----------------+-----+----+----------+-----------+-----+--------------+---------------+----------+----------------+------------------+------------------+------------------+----------+----------------+---------------------+-----------------------+--------------+-------------------+---------------------+--------------+-------------------+---------------------+----------------+---------------------+-----------------------+----------------+---------------------+-----------------------+----------------+------------------+-----------------+---------+--------------+---------------------+-------------------+-------------------+-----------+-----------+------------------+------------------+------------------+---------------------+------------------+------------------+------------------+-------------------------+----------+----------------------+------------+--------+------------------+-------------------+----------------+--------------------+-------------------------+----------------+------------------+-----+------------------+------------------+\n",
      "|         37.1056|       -120.2487|    4|2010|  37.11521| -120.26603|    0|20102070109728|         Madera|     93610|      2005-08-16|        2014-06-30|1.5313516855239868|             70.84|2010-04-01|         23833.0|               8280.0|                15553.0|        1439.0|              694.0|                745.0|        1485.0|              729.0|                756.0|          1407.0|                740.0|                  667.0|          1473.0|                753.0|                  720.0|          2916.0|            2888.0|           5804.0| 7.736047|          73.3|            2.0127727|  1873.525780181077| -55.29643968357893|       null|       null|1.5313516855239868|102.52805712371999|102.52805712371999|    157.8244968072989| 157.8244968072989|1.5313516855239868| 157.8244968072989|      0.07396797174718228|2010-01-01|                     1|      2010.0|   93610|14375.028222869629|          2905021.0|          Madera|Northern San Joaq...|                      1.0|               1|              12.8| 12.8|15.666666666666666| 18.15360824742268|\n",
      "|         37.1056|       -120.2487|    4|2010|  37.11521| -120.26603|    1|20102072030187|         Madera|     93610|      2001-01-22|        2014-06-30|1.5313516855239868|             70.84|2010-04-01|         23833.0|               8280.0|                15553.0|        1439.0|              694.0|                745.0|        1485.0|              729.0|                756.0|          1407.0|                740.0|                  667.0|          1473.0|                753.0|                  720.0|          2916.0|            2888.0|           5804.0| 7.736047|          73.3|            2.0127727|  1873.525780181077| -55.29643968357893|       null|       null|1.5313516855239868|102.52805712371999|102.52805712371999|    157.8244968072989| 157.8244968072989|1.5313516855239868| 157.8244968072989|      0.07396797174718228|2010-01-01|                     1|      2010.0|   93610|14375.028222869629|          2905021.0|          Madera|Northern San Joaq...|                      1.0|               1|              12.8| 12.8|15.666666666666666| 18.15360824742268|\n",
      "|         37.1056|       -120.2487|    4|2010| 37.122449| -120.26487|    2|20651930000000|         Madera|     93610|      1990-01-01|        2025-01-01|1.5313516855239868|             72.77|2010-04-01|         23833.0|               8280.0|                15553.0|        1439.0|              694.0|                745.0|        1485.0|              729.0|                756.0|          1407.0|                740.0|                  667.0|          1473.0|                753.0|                  720.0|          2916.0|            2888.0|           5804.0| 7.736047|          73.3|            2.0127727|   2358.38241919395| -37.54028477906731|       null|       null|1.5313516855239868|102.52805712371999|102.52805712371999|    140.0683419027873| 140.0683419027873|1.5313516855239868| 140.0683419027873|       0.2331894173573087|2010-01-01|                     0|      2010.0|   93610|14375.028222869629|          2905021.0|          Madera|Northern San Joaq...|                      0.0|               1|              12.8| 12.8|15.666666666666666| 18.15360824742268|\n",
      "|         37.1056|       -120.2487|    4|2010| 37.131113|-120.242025|    3|20651930113076|         Madera|     93610|      2007-08-21|        2025-01-01|1.5313516855239868|             77.12|2010-04-01|         23833.0|               8280.0|                15553.0|        1439.0|              694.0|                745.0|        1485.0|              729.0|                756.0|          1407.0|                740.0|                  667.0|          1473.0|                753.0|                  720.0|          2916.0|            2888.0|           5804.0| 7.736047|          73.3|            2.0127727| 2892.9075458251764| 11.831222108044384|       null|       null|1.5313516855239868|102.52805712371999|102.52805712371999|     90.6968350156756|  90.6968350156756|1.5313516855239868|  90.6968350156756|        0.987838261458426|2010-01-01|                     2|      2010.0|   93610|14375.028222869629|          2905021.0|          Madera|Northern San Joaq...|                      0.0|               1|              12.8| 12.8|15.666666666666666| 18.15360824742268|\n",
      "|         37.1056|       -120.2487|    4|2010| 37.115243| -120.26777|    4|20651936023907|         Madera|     93610|      1980-07-01|        2025-01-01|1.5313516855239868|             70.66|2010-04-01|         23833.0|               8280.0|                15553.0|        1439.0|              694.0|                745.0|        1485.0|              729.0|                756.0|          1407.0|                740.0|                  667.0|          1473.0|                753.0|                  720.0|          2916.0|            2888.0|           5804.0| 7.736047|          73.3|            2.0127727| 2004.5665433091058| -57.72695665034661|       null|       null|1.5313516855239868|102.52805712371999|102.52805712371999|   160.25501377406658|160.25501377406658|1.5313516855239868|160.25501377406658|     0.058794434432924536|2010-01-01|                     2|      2010.0|   93610|14375.028222869629|          2905021.0|          Madera|Northern San Joaq...|                      1.0|               1|              12.8| 12.8|15.666666666666666| 18.15360824742268|\n",
      "|         37.1056|       -120.2487|    4|2010| 37.116435| -120.26264|    5|20652010000000|         Madera|     93610|      1990-01-01|        2025-01-01|1.5313516855239868|             71.38|2010-04-01|         23833.0|               8280.0|                15553.0|        1439.0|              694.0|                745.0|        1485.0|              729.0|                756.0|          1407.0|                740.0|                  667.0|          1473.0|                753.0|                  720.0|          2916.0|            2888.0|           5804.0| 7.736047|          73.3|            2.0127727|  1726.581720001096| -45.85349787412275|       null|       null|1.5313516855239868|102.52805712371999|102.52805712371999|   148.38155499784273|148.38155499784273|1.5313516855239868|148.38155499784273|       0.1484418178451501|2010-01-01|                     0|      2010.0|   93610|14375.028222869629|          2905021.0|          Madera|Northern San Joaq...|                      1.0|               1|              12.8| 12.8|15.666666666666666| 18.15360824742268|\n",
      "|         37.1056|       -120.2487|    4|2010| 37.114421|-120.262612|    6|20652012030047|         Madera|     93610|      1980-07-01|        2025-01-01|1.5313516855239868|             71.01|2010-04-01|         23833.0|               8280.0|                15553.0|        1439.0|              694.0|                745.0|        1485.0|              729.0|                756.0|          1407.0|                740.0|                  667.0|          1473.0|                753.0|                  720.0|          2916.0|            2888.0|           5804.0| 7.736047|          73.3|            2.0127727| 1577.1455869098806|-51.627712395811756|       null|       null|1.5313516855239868|102.52805712371999|102.52805712371999|   154.15576951953176|154.15576951953176|1.5313516855239868|154.15576951953176|      0.10001750110640129|2010-01-01|                     2|      2010.0|   93610|14375.028222869629|          2905021.0|          Madera|Northern San Joaq...|                      1.0|               1|              12.8| 12.8|15.666666666666666| 18.15360824742268|\n",
      "|         37.1056|       -120.2487|    4|2010| 37.114421|-120.262612|    7|20652012032357|         Madera|     93610|      1980-07-01|        2025-01-01|1.5313516855239868|             71.01|2010-04-01|         23833.0|               8280.0|                15553.0|        1439.0|              694.0|                745.0|        1485.0|              729.0|                756.0|          1407.0|                740.0|                  667.0|          1473.0|                753.0|                  720.0|          2916.0|            2888.0|           5804.0| 7.736047|          73.3|            2.0127727| 1577.1455869098806|-51.627712395811756|       null|       null|1.5313516855239868|102.52805712371999|102.52805712371999|   154.15576951953176|154.15576951953176|1.5313516855239868|154.15576951953176|      0.10001750110640129|2010-01-01|                     2|      2010.0|   93610|14375.028222869629|          2905021.0|          Madera|Northern San Joaq...|                      1.0|               1|              12.8| 12.8|15.666666666666666| 18.15360824742268|\n",
      "|        35.15125|      -118.01667|    4|2010|  35.10877|-117.956403|    8|15636770113837|           Kern|     93505|      2007-08-20|        2025-01-01|1.9229604005813599|            726.11|2010-04-01|         14038.0|               8292.0|                 5746.0|         978.0|              498.0|                480.0|         903.0|              460.0|                443.0|           944.0|                496.0|                  448.0|           961.0|                464.0|                  497.0|          1918.0|            1868.0|           3786.0| 8.738297|        740.08|            1.7150765|  7237.644150895437| 130.61169426028664|       null|       null|1.9229604005813599| 90.75829498494724| 90.75829498494724|     39.8533992753394|  39.8533992753394|1.9229604005813599|  39.8533992753394|       1.7676866197437722|2010-01-01|                     2|      2010.0|   93505|3686.3322436849926|           434350.0|            Kern|Southern San Joaq...|                      0.0|               1|              15.6| null|16.033333333333335|         17.703125|\n",
      "|        35.15125|      -118.01667|    4|2010| 35.138427| -117.97325|    9|15636770114512|           Kern|     93505|      2007-08-20|        2025-01-01|1.9229604005813599|            721.91|2010-04-01|         14038.0|               8292.0|                 5746.0|         978.0|              498.0|                480.0|         903.0|              460.0|                443.0|           944.0|                496.0|                  448.0|           961.0|                464.0|                  497.0|          1918.0|            1868.0|           3786.0| 8.738297|        740.08|            1.7150765|   4204.71340841246| 109.76330491726215|       null|       null|1.9229604005813599| 90.75829498494724| 90.75829498494724|    19.00500993231492| 19.00500993231492|1.9229604005813599| 19.00500993231492|        1.945490106208428|2010-01-01|                     2|      2010.0|   93505|3686.3322436849926|           434350.0|            Kern|Southern San Joaq...|                      0.0|               1|15.666666666666666| null|16.033333333333335|         17.703125|\n",
      "|        35.15125|      -118.01667|    4|2010|  35.12235|-117.965825|   10|15636776009823|           Kern|     93505|      1980-07-01|        2025-01-01|1.9229604005813599|            724.22|2010-04-01|         14038.0|               8292.0|                 5746.0|         978.0|              498.0|                480.0|         903.0|              460.0|                443.0|           944.0|                496.0|                  448.0|           961.0|                464.0|                  497.0|          1918.0|            1868.0|           3786.0| 8.738297|        740.08|            1.7150765| 5634.9138539094165| 124.66575259204703|       null|       null|1.9229604005813599| 90.75829498494724| 90.75829498494724|   33.907457607099786|33.907457607099786|1.9229604005813599|33.907457607099786|        1.829939687705385|2010-01-01|                     2|      2010.0|   93505|3686.3322436849926|           434350.0|            Kern|Southern San Joaq...|                      0.0|               1|15.666666666666666| null|16.033333333333335|         17.703125|\n",
      "|        35.15125|      -118.01667|    4|2010|  35.10877|-117.956403|   11|15636776111272|           Kern|     93505|      1993-07-06|        2025-01-01|1.9229604005813599|            726.11|2010-04-01|         14038.0|               8292.0|                 5746.0|         978.0|              498.0|                480.0|         903.0|              460.0|                443.0|           944.0|                496.0|                  448.0|           961.0|                464.0|                  497.0|          1918.0|            1868.0|           3786.0| 8.738297|        740.08|            1.7150765|  7237.644150895437| 130.61169426028664|       null|       null|1.9229604005813599| 90.75829498494724| 90.75829498494724|     39.8533992753394|  39.8533992753394|1.9229604005813599|  39.8533992753394|       1.7676866197437722|2010-01-01|                     2|      2010.0|   93505|3686.3322436849926|           434350.0|            Kern|Southern San Joaq...|                      0.0|               1|              15.6| null|16.033333333333335|         17.703125|\n",
      "|       35.513841|     -118.901299|    4|2010| 35.756886|  -118.4166|   12|15635456009641|           Kern|     93238|      1980-07-01|        2025-01-01| 1.981123685836792|            840.98|2010-04-01|          1490.0|                738.0|                  752.0|          63.0|               34.0|                 29.0|          63.0|               23.0|                 40.0|            55.0|                 27.0|                   28.0|            42.0|                 21.0|                   21.0|           105.0|             118.0|            223.0|7.2294874|         250.9|             11.14284|  51522.89128696913|   58.2993528125989|       null|       null| 1.981123685836792| 94.06976578918447| 94.06976578918447|    35.77041297658559| 35.77041297658559| 1.981123685836792| 35.77041297658559|       1.8113657839258157|2010-01-01|                     2|      2010.0|   93238| 2411.103299856528|            61388.0|            Kern|Southern San Joaq...|                      0.0|               1|16.993707583039793| 14.2|          16.90625| 18.54378109452736|\n",
      "|       35.513841|     -118.901299|    4|2010| 35.730014| -118.70482|   13|15635860000000|           Kern|     93226|      1990-01-01|        2025-01-01|1.4003278017044067|            969.74|2010-04-01|           282.0|                135.0|                  147.0|          13.0|                6.0|                  7.0|          15.0|                5.0|                 10.0|             8.0|                  3.0|                    5.0|            13.0|                  6.0|                    7.0|            20.0|              29.0|             49.0| 8.937255|         250.9|             11.14284|  29867.89306357011|   36.5223965083143|       null|       null|1.4003278017044067|114.63824823583104|114.63824823583104|    78.11585172751674| 78.11585172751674|1.4003278017044067| 78.11585172751674|       1.2059334812373894|2010-01-01|                     0|      2010.0|   93226| 860080.0396039604|          2433499.0|            Kern|Southern San Joaq...|                      0.0|               1|16.993707583039793| 14.2|          16.90625| 18.54378109452736|\n",
      "|       35.513841|     -118.901299|    4|2010| 35.730757|-118.704599|   14|15635866009724|           Kern|     93226|      1980-07-01|        2025-01-01|1.4003278017044067|            976.59|2010-04-01|           282.0|                135.0|                  147.0|          13.0|                6.0|                  7.0|          15.0|                5.0|                 10.0|             8.0|                  3.0|                    5.0|            13.0|                  6.0|                    7.0|            20.0|              29.0|             49.0| 8.937255|         250.9|             11.14284| 29945.994202328016|   36.4589683018305|       null|       null|1.4003278017044067|114.63824823583104|114.63824823583104|    78.17927993400053| 78.17927993400053|1.4003278017044067| 78.17927993400053|       1.2048500523596735|2010-01-01|                     2|      2010.0|   93226| 860080.0396039604|          2433499.0|            Kern|Southern San Joaq...|                      0.0|               1|16.993707583039793| 14.2|          16.90625| 18.54378109452736|\n",
      "|         35.5767|       -119.7854|    4|2010| 35.615205| -119.70291|   16|15635940000000|           Kern|     93249|      1990-01-01|        2025-01-01|1.3219658136367798|            100.24|2010-04-01|          2739.0|               1559.0|                 1180.0|         382.0|              193.0|                189.0|         309.0|              171.0|                138.0|           248.0|                136.0|                  112.0|           286.0|                159.0|                  127.0|           659.0|             566.0|           1225.0| 9.191603|         175.1|           2.16845051|   8610.02561495707|  60.22790174449373|       null|       null|1.3219658136367798|107.02405007553217|107.02405007553217|    46.79614833103844| 46.79614833103844|1.3219658136367798| 46.79614833103844|       1.6845961189467769|2010-01-01|                     0|      2010.0|   93249|144288.87545126354|          3047904.0|            Kern|Southern San Joaq...|                      0.0|               1|16.993707583039793| null|              null|              null|\n",
      "|         35.5767|       -119.7854|    4|2010| 35.614094|-119.700563|   17|15635946060420|           Kern|     93249|      1980-07-01|        2025-01-01|1.3219658136367798|             99.66|2010-04-01|          2739.0|               1559.0|                 1180.0|         382.0|              193.0|                189.0|         309.0|              171.0|                138.0|           248.0|                136.0|                  112.0|           286.0|                159.0|                  127.0|           659.0|             566.0|           1225.0| 9.191603|         175.1|           2.16845051|  8736.154005374226| 61.621571632736625|       null|       null|1.3219658136367798|107.02405007553217|107.02405007553217|    45.40247844279554| 45.40247844279554|1.3219658136367798| 45.40247844279554|       1.7021222618618217|2010-01-01|                     2|      2010.0|   93249|144288.87545126354|          3047904.0|            Kern|Southern San Joaq...|                      0.0|               1|16.993707583039793| null|              null|              null|\n",
      "|         35.5767|       -119.7854|    4|2010| 35.614094|-119.700563|   18|15635946102792|           Kern|     93249|      1980-07-01|        2025-01-01|1.3219658136367798|             99.66|2010-04-01|          2739.0|               1559.0|                 1180.0|         382.0|              193.0|                189.0|         309.0|              171.0|                138.0|           248.0|                136.0|                  112.0|           286.0|                159.0|                  127.0|           659.0|             566.0|           1225.0| 9.191603|         175.1|           2.16845051|  8736.154005374226| 61.621571632736625|       null|       null|1.3219658136367798|107.02405007553217|107.02405007553217|    45.40247844279554| 45.40247844279554|1.3219658136367798| 45.40247844279554|       1.7021222618618217|2010-01-01|                     2|      2010.0|   93249|144288.87545126354|          3047904.0|            Kern|Southern San Joaq...|                      0.0|               1|16.993707583039793| null|              null|              null|\n",
      "|       34.534084|     -117.861722|    4|2010|  34.45067|-117.647375|   19|36739576108260| San Bernardino|     92372|      1980-07-01|        2025-01-01|1.5667824745178223|           1177.84|2010-04-01|          6220.0|               3136.0|                 3084.0|         368.0|              189.0|                179.0|         367.0|              188.0|                179.0|           489.0|                244.0|                  245.0|           509.0|                268.0|                  241.0|           889.0|             844.0|           1733.0| 9.082143|        900.09|               32.722| 21753.533182030216| 115.11313547709793|       null|       null|1.5667824745178223|60.816812956827484|60.816812956827484|    54.29632252027045| 54.29632252027045|1.5667824745178223| 54.29632252027045|        1.583593346155176|2010-01-01|                     2|      2010.0|   92372| 44409.83423326134|          2309547.0|  San Bernardino|       Inland Empire|                      0.0|               1|              27.7| 11.9|14.713333333333331|17.194904458598725|\n",
      "|        36.13427|      -120.38843|    4|2010| 35.898178|-120.432068|   20|40688336043335|San Luis Obispo|     93451|      1930-07-01|        2025-01-01|  1.26140558719635|             465.9|2010-04-01|          3779.0|               1926.0|                 1853.0|         271.0|              137.0|                134.0|         305.0|              168.0|                137.0|           283.0|                145.0|                  138.0|           294.0|                149.0|                  145.0|           599.0|             554.0|           1153.0|    5.936|        248.32|           16.0590037|   26490.3080895096|-171.44727253224113|       null|       null|  1.26140558719635|104.68183892580346|104.68183892580346|    83.87088854195542| 83.87088854195542|  1.26140558719635| 83.87088854195542|        1.106769296380005|2010-01-01|                     2|      2010.0|   93451|19882.599339933993|          2286821.0| San Luis Obispo|       Central Coast|                      0.0|               1|              10.5| null|              null|              null|\n",
      "+----------------+----------------+-----+----+----------+-----------+-----+--------------+---------------+----------+----------------+------------------+------------------+------------------+----------+----------------+---------------------+-----------------------+--------------+-------------------+---------------------+--------------+-------------------+---------------------+----------------+---------------------+-----------------------+----------------+---------------------+-----------------------+----------------+------------------+-----------------+---------+--------------+---------------------+-------------------+-------------------+-----------+-----------+------------------+------------------+------------------+---------------------+------------------+------------------+------------------+-------------------------+----------+----------------------+------------+--------+------------------+-------------------+----------------+--------------------+-------------------------+----------------+------------------+-----+------------------+------------------+\n",
      "only showing top 20 rows\n",
      "\n"
     ]
    }
   ],
   "source": [
    "df_left_step3.show()"
   ]
  },
  {
   "cell_type": "code",
   "execution_count": 107,
   "id": "8e8593df",
   "metadata": {},
   "outputs": [
    {
     "data": {
      "text/plain": [
       "228141"
      ]
     },
     "execution_count": 107,
     "metadata": {},
     "output_type": "execute_result"
    }
   ],
   "source": [
    "df_left_step3.filter(col('temp3').isNull()).count()"
   ]
  },
  {
   "cell_type": "code",
   "execution_count": 108,
   "id": "5761d449",
   "metadata": {},
   "outputs": [],
   "source": [
    "df_left_step4 = df_left_step3.withColumn(\"temp4\",lit(df_temps_avg_temp.collect()[0][0]))"
   ]
  },
  {
   "cell_type": "code",
   "execution_count": 109,
   "id": "39395506",
   "metadata": {},
   "outputs": [
    {
     "name": "stdout",
     "output_type": "stream",
     "text": [
      "+----------------+----------------+-----+----+----------+-----------+-----+--------------+---------------+----------+----------------+------------------+------------------+------------------+----------+----------------+---------------------+-----------------------+--------------+-------------------+---------------------+--------------+-------------------+---------------------+----------------+---------------------+-----------------------+----------------+---------------------+-----------------------+----------------+------------------+-----------------+---------+--------------+---------------------+-------------------+-------------------+-----------+-----------+------------------+------------------+------------------+---------------------+------------------+------------------+------------------+-------------------------+----------+----------------------+------------+--------+------------------+-------------------+----------------+--------------------+-------------------------+----------------+------------------+-----+------------------+------------------+------------------+\n",
      "|point_source_lat|point_source_lon|month|year|school_lat| school_lon|index|       cdscode|  school_county|school_zip|school_open_date|school_closed_date|       school_wspd|school_elevation_m|year_month|total_population|total_population_male|total_population_female|population_0_4|population_0_4_male|population_0_4_female|population_5_9|population_5_9_male|population_5_9_female|population_10_14|population_10_14_male|population_10_14_female|population_15_19|population_15_19_male|population_15_19_female|pop_under19_male|pop_under19_female|total_pop_under19|     pm25|ps_elevation_m|point_source_pm25_tpy|dist_school_to_ps_m|    angle_to_school|ps_wind_lat|ps_wind_lon|     ps_wspd_merge|school_wdir_wrt_0N|    ps_wdir_wrt_0N|school_wind_alignment| ps_wind_alignment|    avg_wind_speed|avg_wind_alignment|avg_wind_alignment_cosine|  new_year|open_close_dates_valid|Taxable Year|Zip Code|CA_AGI_per_returns|Total Tax Liability|school_county_v2|  school_region_name|nearby_point_source_count|open_dates_valid|school_temperature|temp1|             temp2|             temp3|             temp4|\n",
      "+----------------+----------------+-----+----+----------+-----------+-----+--------------+---------------+----------+----------------+------------------+------------------+------------------+----------+----------------+---------------------+-----------------------+--------------+-------------------+---------------------+--------------+-------------------+---------------------+----------------+---------------------+-----------------------+----------------+---------------------+-----------------------+----------------+------------------+-----------------+---------+--------------+---------------------+-------------------+-------------------+-----------+-----------+------------------+------------------+------------------+---------------------+------------------+------------------+------------------+-------------------------+----------+----------------------+------------+--------+------------------+-------------------+----------------+--------------------+-------------------------+----------------+------------------+-----+------------------+------------------+------------------+\n",
      "|         37.1056|       -120.2487|    4|2010|  37.11521| -120.26603|    0|20102070109728|         Madera|     93610|      2005-08-16|        2014-06-30|1.5313516855239868|             70.84|2010-04-01|         23833.0|               8280.0|                15553.0|        1439.0|              694.0|                745.0|        1485.0|              729.0|                756.0|          1407.0|                740.0|                  667.0|          1473.0|                753.0|                  720.0|          2916.0|            2888.0|           5804.0| 7.736047|          73.3|            2.0127727|  1873.525780181077| -55.29643968357893|       null|       null|1.5313516855239868|102.52805712371999|102.52805712371999|    157.8244968072989| 157.8244968072989|1.5313516855239868| 157.8244968072989|      0.07396797174718228|2010-01-01|                     1|      2010.0|   93610|14375.028222869629|          2905021.0|          Madera|Northern San Joaq...|                      1.0|               1|              12.8| 12.8|15.666666666666666| 18.15360824742268|16.993707583039793|\n",
      "|         37.1056|       -120.2487|    4|2010|  37.11521| -120.26603|    1|20102072030187|         Madera|     93610|      2001-01-22|        2014-06-30|1.5313516855239868|             70.84|2010-04-01|         23833.0|               8280.0|                15553.0|        1439.0|              694.0|                745.0|        1485.0|              729.0|                756.0|          1407.0|                740.0|                  667.0|          1473.0|                753.0|                  720.0|          2916.0|            2888.0|           5804.0| 7.736047|          73.3|            2.0127727|  1873.525780181077| -55.29643968357893|       null|       null|1.5313516855239868|102.52805712371999|102.52805712371999|    157.8244968072989| 157.8244968072989|1.5313516855239868| 157.8244968072989|      0.07396797174718228|2010-01-01|                     1|      2010.0|   93610|14375.028222869629|          2905021.0|          Madera|Northern San Joaq...|                      1.0|               1|              12.8| 12.8|15.666666666666666| 18.15360824742268|16.993707583039793|\n",
      "|         37.1056|       -120.2487|    4|2010| 37.122449| -120.26487|    2|20651930000000|         Madera|     93610|      1990-01-01|        2025-01-01|1.5313516855239868|             72.77|2010-04-01|         23833.0|               8280.0|                15553.0|        1439.0|              694.0|                745.0|        1485.0|              729.0|                756.0|          1407.0|                740.0|                  667.0|          1473.0|                753.0|                  720.0|          2916.0|            2888.0|           5804.0| 7.736047|          73.3|            2.0127727|   2358.38241919395| -37.54028477906731|       null|       null|1.5313516855239868|102.52805712371999|102.52805712371999|    140.0683419027873| 140.0683419027873|1.5313516855239868| 140.0683419027873|       0.2331894173573087|2010-01-01|                     0|      2010.0|   93610|14375.028222869629|          2905021.0|          Madera|Northern San Joaq...|                      0.0|               1|              12.8| 12.8|15.666666666666666| 18.15360824742268|16.993707583039793|\n",
      "|         37.1056|       -120.2487|    4|2010| 37.131113|-120.242025|    3|20651930113076|         Madera|     93610|      2007-08-21|        2025-01-01|1.5313516855239868|             77.12|2010-04-01|         23833.0|               8280.0|                15553.0|        1439.0|              694.0|                745.0|        1485.0|              729.0|                756.0|          1407.0|                740.0|                  667.0|          1473.0|                753.0|                  720.0|          2916.0|            2888.0|           5804.0| 7.736047|          73.3|            2.0127727| 2892.9075458251764| 11.831222108044384|       null|       null|1.5313516855239868|102.52805712371999|102.52805712371999|     90.6968350156756|  90.6968350156756|1.5313516855239868|  90.6968350156756|        0.987838261458426|2010-01-01|                     2|      2010.0|   93610|14375.028222869629|          2905021.0|          Madera|Northern San Joaq...|                      0.0|               1|              12.8| 12.8|15.666666666666666| 18.15360824742268|16.993707583039793|\n",
      "|         37.1056|       -120.2487|    4|2010| 37.115243| -120.26777|    4|20651936023907|         Madera|     93610|      1980-07-01|        2025-01-01|1.5313516855239868|             70.66|2010-04-01|         23833.0|               8280.0|                15553.0|        1439.0|              694.0|                745.0|        1485.0|              729.0|                756.0|          1407.0|                740.0|                  667.0|          1473.0|                753.0|                  720.0|          2916.0|            2888.0|           5804.0| 7.736047|          73.3|            2.0127727| 2004.5665433091058| -57.72695665034661|       null|       null|1.5313516855239868|102.52805712371999|102.52805712371999|   160.25501377406658|160.25501377406658|1.5313516855239868|160.25501377406658|     0.058794434432924536|2010-01-01|                     2|      2010.0|   93610|14375.028222869629|          2905021.0|          Madera|Northern San Joaq...|                      1.0|               1|              12.8| 12.8|15.666666666666666| 18.15360824742268|16.993707583039793|\n",
      "|         37.1056|       -120.2487|    4|2010| 37.116435| -120.26264|    5|20652010000000|         Madera|     93610|      1990-01-01|        2025-01-01|1.5313516855239868|             71.38|2010-04-01|         23833.0|               8280.0|                15553.0|        1439.0|              694.0|                745.0|        1485.0|              729.0|                756.0|          1407.0|                740.0|                  667.0|          1473.0|                753.0|                  720.0|          2916.0|            2888.0|           5804.0| 7.736047|          73.3|            2.0127727|  1726.581720001096| -45.85349787412275|       null|       null|1.5313516855239868|102.52805712371999|102.52805712371999|   148.38155499784273|148.38155499784273|1.5313516855239868|148.38155499784273|       0.1484418178451501|2010-01-01|                     0|      2010.0|   93610|14375.028222869629|          2905021.0|          Madera|Northern San Joaq...|                      1.0|               1|              12.8| 12.8|15.666666666666666| 18.15360824742268|16.993707583039793|\n",
      "|         37.1056|       -120.2487|    4|2010| 37.114421|-120.262612|    6|20652012030047|         Madera|     93610|      1980-07-01|        2025-01-01|1.5313516855239868|             71.01|2010-04-01|         23833.0|               8280.0|                15553.0|        1439.0|              694.0|                745.0|        1485.0|              729.0|                756.0|          1407.0|                740.0|                  667.0|          1473.0|                753.0|                  720.0|          2916.0|            2888.0|           5804.0| 7.736047|          73.3|            2.0127727| 1577.1455869098806|-51.627712395811756|       null|       null|1.5313516855239868|102.52805712371999|102.52805712371999|   154.15576951953176|154.15576951953176|1.5313516855239868|154.15576951953176|      0.10001750110640129|2010-01-01|                     2|      2010.0|   93610|14375.028222869629|          2905021.0|          Madera|Northern San Joaq...|                      1.0|               1|              12.8| 12.8|15.666666666666666| 18.15360824742268|16.993707583039793|\n",
      "|         37.1056|       -120.2487|    4|2010| 37.114421|-120.262612|    7|20652012032357|         Madera|     93610|      1980-07-01|        2025-01-01|1.5313516855239868|             71.01|2010-04-01|         23833.0|               8280.0|                15553.0|        1439.0|              694.0|                745.0|        1485.0|              729.0|                756.0|          1407.0|                740.0|                  667.0|          1473.0|                753.0|                  720.0|          2916.0|            2888.0|           5804.0| 7.736047|          73.3|            2.0127727| 1577.1455869098806|-51.627712395811756|       null|       null|1.5313516855239868|102.52805712371999|102.52805712371999|   154.15576951953176|154.15576951953176|1.5313516855239868|154.15576951953176|      0.10001750110640129|2010-01-01|                     2|      2010.0|   93610|14375.028222869629|          2905021.0|          Madera|Northern San Joaq...|                      1.0|               1|              12.8| 12.8|15.666666666666666| 18.15360824742268|16.993707583039793|\n",
      "|        35.15125|      -118.01667|    4|2010|  35.10877|-117.956403|    8|15636770113837|           Kern|     93505|      2007-08-20|        2025-01-01|1.9229604005813599|            726.11|2010-04-01|         14038.0|               8292.0|                 5746.0|         978.0|              498.0|                480.0|         903.0|              460.0|                443.0|           944.0|                496.0|                  448.0|           961.0|                464.0|                  497.0|          1918.0|            1868.0|           3786.0| 8.738297|        740.08|            1.7150765|  7237.644150895437| 130.61169426028664|       null|       null|1.9229604005813599| 90.75829498494724| 90.75829498494724|     39.8533992753394|  39.8533992753394|1.9229604005813599|  39.8533992753394|       1.7676866197437722|2010-01-01|                     2|      2010.0|   93505|3686.3322436849926|           434350.0|            Kern|Southern San Joaq...|                      0.0|               1|              15.6| null|16.033333333333335|         17.703125|16.993707583039793|\n",
      "|        35.15125|      -118.01667|    4|2010| 35.138427| -117.97325|    9|15636770114512|           Kern|     93505|      2007-08-20|        2025-01-01|1.9229604005813599|            721.91|2010-04-01|         14038.0|               8292.0|                 5746.0|         978.0|              498.0|                480.0|         903.0|              460.0|                443.0|           944.0|                496.0|                  448.0|           961.0|                464.0|                  497.0|          1918.0|            1868.0|           3786.0| 8.738297|        740.08|            1.7150765|   4204.71340841246| 109.76330491726215|       null|       null|1.9229604005813599| 90.75829498494724| 90.75829498494724|    19.00500993231492| 19.00500993231492|1.9229604005813599| 19.00500993231492|        1.945490106208428|2010-01-01|                     2|      2010.0|   93505|3686.3322436849926|           434350.0|            Kern|Southern San Joaq...|                      0.0|               1|15.666666666666666| null|16.033333333333335|         17.703125|16.993707583039793|\n",
      "|        35.15125|      -118.01667|    4|2010|  35.12235|-117.965825|   10|15636776009823|           Kern|     93505|      1980-07-01|        2025-01-01|1.9229604005813599|            724.22|2010-04-01|         14038.0|               8292.0|                 5746.0|         978.0|              498.0|                480.0|         903.0|              460.0|                443.0|           944.0|                496.0|                  448.0|           961.0|                464.0|                  497.0|          1918.0|            1868.0|           3786.0| 8.738297|        740.08|            1.7150765| 5634.9138539094165| 124.66575259204703|       null|       null|1.9229604005813599| 90.75829498494724| 90.75829498494724|   33.907457607099786|33.907457607099786|1.9229604005813599|33.907457607099786|        1.829939687705385|2010-01-01|                     2|      2010.0|   93505|3686.3322436849926|           434350.0|            Kern|Southern San Joaq...|                      0.0|               1|15.666666666666666| null|16.033333333333335|         17.703125|16.993707583039793|\n",
      "|        35.15125|      -118.01667|    4|2010|  35.10877|-117.956403|   11|15636776111272|           Kern|     93505|      1993-07-06|        2025-01-01|1.9229604005813599|            726.11|2010-04-01|         14038.0|               8292.0|                 5746.0|         978.0|              498.0|                480.0|         903.0|              460.0|                443.0|           944.0|                496.0|                  448.0|           961.0|                464.0|                  497.0|          1918.0|            1868.0|           3786.0| 8.738297|        740.08|            1.7150765|  7237.644150895437| 130.61169426028664|       null|       null|1.9229604005813599| 90.75829498494724| 90.75829498494724|     39.8533992753394|  39.8533992753394|1.9229604005813599|  39.8533992753394|       1.7676866197437722|2010-01-01|                     2|      2010.0|   93505|3686.3322436849926|           434350.0|            Kern|Southern San Joaq...|                      0.0|               1|              15.6| null|16.033333333333335|         17.703125|16.993707583039793|\n",
      "|       35.513841|     -118.901299|    4|2010| 35.756886|  -118.4166|   12|15635456009641|           Kern|     93238|      1980-07-01|        2025-01-01| 1.981123685836792|            840.98|2010-04-01|          1490.0|                738.0|                  752.0|          63.0|               34.0|                 29.0|          63.0|               23.0|                 40.0|            55.0|                 27.0|                   28.0|            42.0|                 21.0|                   21.0|           105.0|             118.0|            223.0|7.2294874|         250.9|             11.14284|  51522.89128696913|   58.2993528125989|       null|       null| 1.981123685836792| 94.06976578918447| 94.06976578918447|    35.77041297658559| 35.77041297658559| 1.981123685836792| 35.77041297658559|       1.8113657839258157|2010-01-01|                     2|      2010.0|   93238| 2411.103299856528|            61388.0|            Kern|Southern San Joaq...|                      0.0|               1|16.993707583039793| 14.2|          16.90625| 18.54378109452736|16.993707583039793|\n",
      "|       35.513841|     -118.901299|    4|2010| 35.730014| -118.70482|   13|15635860000000|           Kern|     93226|      1990-01-01|        2025-01-01|1.4003278017044067|            969.74|2010-04-01|           282.0|                135.0|                  147.0|          13.0|                6.0|                  7.0|          15.0|                5.0|                 10.0|             8.0|                  3.0|                    5.0|            13.0|                  6.0|                    7.0|            20.0|              29.0|             49.0| 8.937255|         250.9|             11.14284|  29867.89306357011|   36.5223965083143|       null|       null|1.4003278017044067|114.63824823583104|114.63824823583104|    78.11585172751674| 78.11585172751674|1.4003278017044067| 78.11585172751674|       1.2059334812373894|2010-01-01|                     0|      2010.0|   93226| 860080.0396039604|          2433499.0|            Kern|Southern San Joaq...|                      0.0|               1|16.993707583039793| 14.2|          16.90625| 18.54378109452736|16.993707583039793|\n",
      "|       35.513841|     -118.901299|    4|2010| 35.730757|-118.704599|   14|15635866009724|           Kern|     93226|      1980-07-01|        2025-01-01|1.4003278017044067|            976.59|2010-04-01|           282.0|                135.0|                  147.0|          13.0|                6.0|                  7.0|          15.0|                5.0|                 10.0|             8.0|                  3.0|                    5.0|            13.0|                  6.0|                    7.0|            20.0|              29.0|             49.0| 8.937255|         250.9|             11.14284| 29945.994202328016|   36.4589683018305|       null|       null|1.4003278017044067|114.63824823583104|114.63824823583104|    78.17927993400053| 78.17927993400053|1.4003278017044067| 78.17927993400053|       1.2048500523596735|2010-01-01|                     2|      2010.0|   93226| 860080.0396039604|          2433499.0|            Kern|Southern San Joaq...|                      0.0|               1|16.993707583039793| 14.2|          16.90625| 18.54378109452736|16.993707583039793|\n",
      "|         35.5767|       -119.7854|    4|2010| 35.615205| -119.70291|   16|15635940000000|           Kern|     93249|      1990-01-01|        2025-01-01|1.3219658136367798|            100.24|2010-04-01|          2739.0|               1559.0|                 1180.0|         382.0|              193.0|                189.0|         309.0|              171.0|                138.0|           248.0|                136.0|                  112.0|           286.0|                159.0|                  127.0|           659.0|             566.0|           1225.0| 9.191603|         175.1|           2.16845051|   8610.02561495707|  60.22790174449373|       null|       null|1.3219658136367798|107.02405007553217|107.02405007553217|    46.79614833103844| 46.79614833103844|1.3219658136367798| 46.79614833103844|       1.6845961189467769|2010-01-01|                     0|      2010.0|   93249|144288.87545126354|          3047904.0|            Kern|Southern San Joaq...|                      0.0|               1|16.993707583039793| null|              null|              null|16.993707583039793|\n",
      "|         35.5767|       -119.7854|    4|2010| 35.614094|-119.700563|   17|15635946060420|           Kern|     93249|      1980-07-01|        2025-01-01|1.3219658136367798|             99.66|2010-04-01|          2739.0|               1559.0|                 1180.0|         382.0|              193.0|                189.0|         309.0|              171.0|                138.0|           248.0|                136.0|                  112.0|           286.0|                159.0|                  127.0|           659.0|             566.0|           1225.0| 9.191603|         175.1|           2.16845051|  8736.154005374226| 61.621571632736625|       null|       null|1.3219658136367798|107.02405007553217|107.02405007553217|    45.40247844279554| 45.40247844279554|1.3219658136367798| 45.40247844279554|       1.7021222618618217|2010-01-01|                     2|      2010.0|   93249|144288.87545126354|          3047904.0|            Kern|Southern San Joaq...|                      0.0|               1|16.993707583039793| null|              null|              null|16.993707583039793|\n",
      "|         35.5767|       -119.7854|    4|2010| 35.614094|-119.700563|   18|15635946102792|           Kern|     93249|      1980-07-01|        2025-01-01|1.3219658136367798|             99.66|2010-04-01|          2739.0|               1559.0|                 1180.0|         382.0|              193.0|                189.0|         309.0|              171.0|                138.0|           248.0|                136.0|                  112.0|           286.0|                159.0|                  127.0|           659.0|             566.0|           1225.0| 9.191603|         175.1|           2.16845051|  8736.154005374226| 61.621571632736625|       null|       null|1.3219658136367798|107.02405007553217|107.02405007553217|    45.40247844279554| 45.40247844279554|1.3219658136367798| 45.40247844279554|       1.7021222618618217|2010-01-01|                     2|      2010.0|   93249|144288.87545126354|          3047904.0|            Kern|Southern San Joaq...|                      0.0|               1|16.993707583039793| null|              null|              null|16.993707583039793|\n",
      "|       34.534084|     -117.861722|    4|2010|  34.45067|-117.647375|   19|36739576108260| San Bernardino|     92372|      1980-07-01|        2025-01-01|1.5667824745178223|           1177.84|2010-04-01|          6220.0|               3136.0|                 3084.0|         368.0|              189.0|                179.0|         367.0|              188.0|                179.0|           489.0|                244.0|                  245.0|           509.0|                268.0|                  241.0|           889.0|             844.0|           1733.0| 9.082143|        900.09|               32.722| 21753.533182030216| 115.11313547709793|       null|       null|1.5667824745178223|60.816812956827484|60.816812956827484|    54.29632252027045| 54.29632252027045|1.5667824745178223| 54.29632252027045|        1.583593346155176|2010-01-01|                     2|      2010.0|   92372| 44409.83423326134|          2309547.0|  San Bernardino|       Inland Empire|                      0.0|               1|              27.7| 11.9|14.713333333333331|17.194904458598725|16.993707583039793|\n",
      "|        36.13427|      -120.38843|    4|2010| 35.898178|-120.432068|   20|40688336043335|San Luis Obispo|     93451|      1930-07-01|        2025-01-01|  1.26140558719635|             465.9|2010-04-01|          3779.0|               1926.0|                 1853.0|         271.0|              137.0|                134.0|         305.0|              168.0|                137.0|           283.0|                145.0|                  138.0|           294.0|                149.0|                  145.0|           599.0|             554.0|           1153.0|    5.936|        248.32|           16.0590037|   26490.3080895096|-171.44727253224113|       null|       null|  1.26140558719635|104.68183892580346|104.68183892580346|    83.87088854195542| 83.87088854195542|  1.26140558719635| 83.87088854195542|        1.106769296380005|2010-01-01|                     2|      2010.0|   93451|19882.599339933993|          2286821.0| San Luis Obispo|       Central Coast|                      0.0|               1|              10.5| null|              null|              null|16.993707583039793|\n",
      "+----------------+----------------+-----+----+----------+-----------+-----+--------------+---------------+----------+----------------+------------------+------------------+------------------+----------+----------------+---------------------+-----------------------+--------------+-------------------+---------------------+--------------+-------------------+---------------------+----------------+---------------------+-----------------------+----------------+---------------------+-----------------------+----------------+------------------+-----------------+---------+--------------+---------------------+-------------------+-------------------+-----------+-----------+------------------+------------------+------------------+---------------------+------------------+------------------+------------------+-------------------------+----------+----------------------+------------+--------+------------------+-------------------+----------------+--------------------+-------------------------+----------------+------------------+-----+------------------+------------------+------------------+\n",
      "only showing top 20 rows\n",
      "\n"
     ]
    }
   ],
   "source": [
    "df_left_step4.show()"
   ]
  },
  {
   "cell_type": "code",
   "execution_count": 110,
   "id": "7d0ca77e",
   "metadata": {},
   "outputs": [],
   "source": [
    "cols = ['temp1','temp2','temp3','temp4']\n",
    "\n",
    "df_left_alltemps = df_left_step4.withColumn(\"ps_temperature\",coalesce(*cols))"
   ]
  },
  {
   "cell_type": "code",
   "execution_count": 112,
   "id": "9970e6f9",
   "metadata": {},
   "outputs": [
    {
     "name": "stdout",
     "output_type": "stream",
     "text": [
      "+----------------+----------------+-----+----+----------+-----------+-----+--------------+---------------+----------+----------------+------------------+------------------+------------------+----------+----------------+---------------------+-----------------------+--------------+-------------------+---------------------+--------------+-------------------+---------------------+----------------+---------------------+-----------------------+----------------+---------------------+-----------------------+----------------+------------------+-----------------+---------+--------------+---------------------+-------------------+-------------------+-----------+-----------+------------------+------------------+------------------+---------------------+------------------+------------------+------------------+-------------------------+----------+----------------------+------------+--------+------------------+-------------------+----------------+--------------------+-------------------------+----------------+------------------+-----+------------------+------------------+------------------+------------------+\n",
      "|point_source_lat|point_source_lon|month|year|school_lat| school_lon|index|       cdscode|  school_county|school_zip|school_open_date|school_closed_date|       school_wspd|school_elevation_m|year_month|total_population|total_population_male|total_population_female|population_0_4|population_0_4_male|population_0_4_female|population_5_9|population_5_9_male|population_5_9_female|population_10_14|population_10_14_male|population_10_14_female|population_15_19|population_15_19_male|population_15_19_female|pop_under19_male|pop_under19_female|total_pop_under19|     pm25|ps_elevation_m|point_source_pm25_tpy|dist_school_to_ps_m|    angle_to_school|ps_wind_lat|ps_wind_lon|     ps_wspd_merge|school_wdir_wrt_0N|    ps_wdir_wrt_0N|school_wind_alignment| ps_wind_alignment|    avg_wind_speed|avg_wind_alignment|avg_wind_alignment_cosine|  new_year|open_close_dates_valid|Taxable Year|Zip Code|CA_AGI_per_returns|Total Tax Liability|school_county_v2|  school_region_name|nearby_point_source_count|open_dates_valid|school_temperature|temp1|             temp2|             temp3|             temp4|    ps_temperature|\n",
      "+----------------+----------------+-----+----+----------+-----------+-----+--------------+---------------+----------+----------------+------------------+------------------+------------------+----------+----------------+---------------------+-----------------------+--------------+-------------------+---------------------+--------------+-------------------+---------------------+----------------+---------------------+-----------------------+----------------+---------------------+-----------------------+----------------+------------------+-----------------+---------+--------------+---------------------+-------------------+-------------------+-----------+-----------+------------------+------------------+------------------+---------------------+------------------+------------------+------------------+-------------------------+----------+----------------------+------------+--------+------------------+-------------------+----------------+--------------------+-------------------------+----------------+------------------+-----+------------------+------------------+------------------+------------------+\n",
      "|         37.1056|       -120.2487|    4|2010|  37.11521| -120.26603|    0|20102070109728|         Madera|     93610|      2005-08-16|        2014-06-30|1.5313516855239868|             70.84|2010-04-01|         23833.0|               8280.0|                15553.0|        1439.0|              694.0|                745.0|        1485.0|              729.0|                756.0|          1407.0|                740.0|                  667.0|          1473.0|                753.0|                  720.0|          2916.0|            2888.0|           5804.0| 7.736047|          73.3|            2.0127727|  1873.525780181077| -55.29643968357893|       null|       null|1.5313516855239868|102.52805712371999|102.52805712371999|    157.8244968072989| 157.8244968072989|1.5313516855239868| 157.8244968072989|      0.07396797174718228|2010-01-01|                     1|      2010.0|   93610|14375.028222869629|          2905021.0|          Madera|Northern San Joaq...|                      1.0|               1|              12.8| 12.8|15.666666666666666| 18.15360824742268|16.993707583039793|              12.8|\n",
      "|         37.1056|       -120.2487|    4|2010|  37.11521| -120.26603|    1|20102072030187|         Madera|     93610|      2001-01-22|        2014-06-30|1.5313516855239868|             70.84|2010-04-01|         23833.0|               8280.0|                15553.0|        1439.0|              694.0|                745.0|        1485.0|              729.0|                756.0|          1407.0|                740.0|                  667.0|          1473.0|                753.0|                  720.0|          2916.0|            2888.0|           5804.0| 7.736047|          73.3|            2.0127727|  1873.525780181077| -55.29643968357893|       null|       null|1.5313516855239868|102.52805712371999|102.52805712371999|    157.8244968072989| 157.8244968072989|1.5313516855239868| 157.8244968072989|      0.07396797174718228|2010-01-01|                     1|      2010.0|   93610|14375.028222869629|          2905021.0|          Madera|Northern San Joaq...|                      1.0|               1|              12.8| 12.8|15.666666666666666| 18.15360824742268|16.993707583039793|              12.8|\n",
      "|         37.1056|       -120.2487|    4|2010| 37.122449| -120.26487|    2|20651930000000|         Madera|     93610|      1990-01-01|        2025-01-01|1.5313516855239868|             72.77|2010-04-01|         23833.0|               8280.0|                15553.0|        1439.0|              694.0|                745.0|        1485.0|              729.0|                756.0|          1407.0|                740.0|                  667.0|          1473.0|                753.0|                  720.0|          2916.0|            2888.0|           5804.0| 7.736047|          73.3|            2.0127727|   2358.38241919395| -37.54028477906731|       null|       null|1.5313516855239868|102.52805712371999|102.52805712371999|    140.0683419027873| 140.0683419027873|1.5313516855239868| 140.0683419027873|       0.2331894173573087|2010-01-01|                     0|      2010.0|   93610|14375.028222869629|          2905021.0|          Madera|Northern San Joaq...|                      0.0|               1|              12.8| 12.8|15.666666666666666| 18.15360824742268|16.993707583039793|              12.8|\n",
      "|         37.1056|       -120.2487|    4|2010| 37.131113|-120.242025|    3|20651930113076|         Madera|     93610|      2007-08-21|        2025-01-01|1.5313516855239868|             77.12|2010-04-01|         23833.0|               8280.0|                15553.0|        1439.0|              694.0|                745.0|        1485.0|              729.0|                756.0|          1407.0|                740.0|                  667.0|          1473.0|                753.0|                  720.0|          2916.0|            2888.0|           5804.0| 7.736047|          73.3|            2.0127727| 2892.9075458251764| 11.831222108044384|       null|       null|1.5313516855239868|102.52805712371999|102.52805712371999|     90.6968350156756|  90.6968350156756|1.5313516855239868|  90.6968350156756|        0.987838261458426|2010-01-01|                     2|      2010.0|   93610|14375.028222869629|          2905021.0|          Madera|Northern San Joaq...|                      0.0|               1|              12.8| 12.8|15.666666666666666| 18.15360824742268|16.993707583039793|              12.8|\n",
      "|         37.1056|       -120.2487|    4|2010| 37.115243| -120.26777|    4|20651936023907|         Madera|     93610|      1980-07-01|        2025-01-01|1.5313516855239868|             70.66|2010-04-01|         23833.0|               8280.0|                15553.0|        1439.0|              694.0|                745.0|        1485.0|              729.0|                756.0|          1407.0|                740.0|                  667.0|          1473.0|                753.0|                  720.0|          2916.0|            2888.0|           5804.0| 7.736047|          73.3|            2.0127727| 2004.5665433091058| -57.72695665034661|       null|       null|1.5313516855239868|102.52805712371999|102.52805712371999|   160.25501377406658|160.25501377406658|1.5313516855239868|160.25501377406658|     0.058794434432924536|2010-01-01|                     2|      2010.0|   93610|14375.028222869629|          2905021.0|          Madera|Northern San Joaq...|                      1.0|               1|              12.8| 12.8|15.666666666666666| 18.15360824742268|16.993707583039793|              12.8|\n",
      "|         37.1056|       -120.2487|    4|2010| 37.116435| -120.26264|    5|20652010000000|         Madera|     93610|      1990-01-01|        2025-01-01|1.5313516855239868|             71.38|2010-04-01|         23833.0|               8280.0|                15553.0|        1439.0|              694.0|                745.0|        1485.0|              729.0|                756.0|          1407.0|                740.0|                  667.0|          1473.0|                753.0|                  720.0|          2916.0|            2888.0|           5804.0| 7.736047|          73.3|            2.0127727|  1726.581720001096| -45.85349787412275|       null|       null|1.5313516855239868|102.52805712371999|102.52805712371999|   148.38155499784273|148.38155499784273|1.5313516855239868|148.38155499784273|       0.1484418178451501|2010-01-01|                     0|      2010.0|   93610|14375.028222869629|          2905021.0|          Madera|Northern San Joaq...|                      1.0|               1|              12.8| 12.8|15.666666666666666| 18.15360824742268|16.993707583039793|              12.8|\n",
      "|         37.1056|       -120.2487|    4|2010| 37.114421|-120.262612|    6|20652012030047|         Madera|     93610|      1980-07-01|        2025-01-01|1.5313516855239868|             71.01|2010-04-01|         23833.0|               8280.0|                15553.0|        1439.0|              694.0|                745.0|        1485.0|              729.0|                756.0|          1407.0|                740.0|                  667.0|          1473.0|                753.0|                  720.0|          2916.0|            2888.0|           5804.0| 7.736047|          73.3|            2.0127727| 1577.1455869098806|-51.627712395811756|       null|       null|1.5313516855239868|102.52805712371999|102.52805712371999|   154.15576951953176|154.15576951953176|1.5313516855239868|154.15576951953176|      0.10001750110640129|2010-01-01|                     2|      2010.0|   93610|14375.028222869629|          2905021.0|          Madera|Northern San Joaq...|                      1.0|               1|              12.8| 12.8|15.666666666666666| 18.15360824742268|16.993707583039793|              12.8|\n",
      "|         37.1056|       -120.2487|    4|2010| 37.114421|-120.262612|    7|20652012032357|         Madera|     93610|      1980-07-01|        2025-01-01|1.5313516855239868|             71.01|2010-04-01|         23833.0|               8280.0|                15553.0|        1439.0|              694.0|                745.0|        1485.0|              729.0|                756.0|          1407.0|                740.0|                  667.0|          1473.0|                753.0|                  720.0|          2916.0|            2888.0|           5804.0| 7.736047|          73.3|            2.0127727| 1577.1455869098806|-51.627712395811756|       null|       null|1.5313516855239868|102.52805712371999|102.52805712371999|   154.15576951953176|154.15576951953176|1.5313516855239868|154.15576951953176|      0.10001750110640129|2010-01-01|                     2|      2010.0|   93610|14375.028222869629|          2905021.0|          Madera|Northern San Joaq...|                      1.0|               1|              12.8| 12.8|15.666666666666666| 18.15360824742268|16.993707583039793|              12.8|\n",
      "|        35.15125|      -118.01667|    4|2010|  35.10877|-117.956403|    8|15636770113837|           Kern|     93505|      2007-08-20|        2025-01-01|1.9229604005813599|            726.11|2010-04-01|         14038.0|               8292.0|                 5746.0|         978.0|              498.0|                480.0|         903.0|              460.0|                443.0|           944.0|                496.0|                  448.0|           961.0|                464.0|                  497.0|          1918.0|            1868.0|           3786.0| 8.738297|        740.08|            1.7150765|  7237.644150895437| 130.61169426028664|       null|       null|1.9229604005813599| 90.75829498494724| 90.75829498494724|     39.8533992753394|  39.8533992753394|1.9229604005813599|  39.8533992753394|       1.7676866197437722|2010-01-01|                     2|      2010.0|   93505|3686.3322436849926|           434350.0|            Kern|Southern San Joaq...|                      0.0|               1|              15.6| null|16.033333333333335|         17.703125|16.993707583039793|16.033333333333335|\n",
      "|        35.15125|      -118.01667|    4|2010| 35.138427| -117.97325|    9|15636770114512|           Kern|     93505|      2007-08-20|        2025-01-01|1.9229604005813599|            721.91|2010-04-01|         14038.0|               8292.0|                 5746.0|         978.0|              498.0|                480.0|         903.0|              460.0|                443.0|           944.0|                496.0|                  448.0|           961.0|                464.0|                  497.0|          1918.0|            1868.0|           3786.0| 8.738297|        740.08|            1.7150765|   4204.71340841246| 109.76330491726215|       null|       null|1.9229604005813599| 90.75829498494724| 90.75829498494724|    19.00500993231492| 19.00500993231492|1.9229604005813599| 19.00500993231492|        1.945490106208428|2010-01-01|                     2|      2010.0|   93505|3686.3322436849926|           434350.0|            Kern|Southern San Joaq...|                      0.0|               1|15.666666666666666| null|16.033333333333335|         17.703125|16.993707583039793|16.033333333333335|\n",
      "|        35.15125|      -118.01667|    4|2010|  35.12235|-117.965825|   10|15636776009823|           Kern|     93505|      1980-07-01|        2025-01-01|1.9229604005813599|            724.22|2010-04-01|         14038.0|               8292.0|                 5746.0|         978.0|              498.0|                480.0|         903.0|              460.0|                443.0|           944.0|                496.0|                  448.0|           961.0|                464.0|                  497.0|          1918.0|            1868.0|           3786.0| 8.738297|        740.08|            1.7150765| 5634.9138539094165| 124.66575259204703|       null|       null|1.9229604005813599| 90.75829498494724| 90.75829498494724|   33.907457607099786|33.907457607099786|1.9229604005813599|33.907457607099786|        1.829939687705385|2010-01-01|                     2|      2010.0|   93505|3686.3322436849926|           434350.0|            Kern|Southern San Joaq...|                      0.0|               1|15.666666666666666| null|16.033333333333335|         17.703125|16.993707583039793|16.033333333333335|\n",
      "|        35.15125|      -118.01667|    4|2010|  35.10877|-117.956403|   11|15636776111272|           Kern|     93505|      1993-07-06|        2025-01-01|1.9229604005813599|            726.11|2010-04-01|         14038.0|               8292.0|                 5746.0|         978.0|              498.0|                480.0|         903.0|              460.0|                443.0|           944.0|                496.0|                  448.0|           961.0|                464.0|                  497.0|          1918.0|            1868.0|           3786.0| 8.738297|        740.08|            1.7150765|  7237.644150895437| 130.61169426028664|       null|       null|1.9229604005813599| 90.75829498494724| 90.75829498494724|     39.8533992753394|  39.8533992753394|1.9229604005813599|  39.8533992753394|       1.7676866197437722|2010-01-01|                     2|      2010.0|   93505|3686.3322436849926|           434350.0|            Kern|Southern San Joaq...|                      0.0|               1|              15.6| null|16.033333333333335|         17.703125|16.993707583039793|16.033333333333335|\n",
      "|       35.513841|     -118.901299|    4|2010| 35.756886|  -118.4166|   12|15635456009641|           Kern|     93238|      1980-07-01|        2025-01-01| 1.981123685836792|            840.98|2010-04-01|          1490.0|                738.0|                  752.0|          63.0|               34.0|                 29.0|          63.0|               23.0|                 40.0|            55.0|                 27.0|                   28.0|            42.0|                 21.0|                   21.0|           105.0|             118.0|            223.0|7.2294874|         250.9|             11.14284|  51522.89128696913|   58.2993528125989|       null|       null| 1.981123685836792| 94.06976578918447| 94.06976578918447|    35.77041297658559| 35.77041297658559| 1.981123685836792| 35.77041297658559|       1.8113657839258157|2010-01-01|                     2|      2010.0|   93238| 2411.103299856528|            61388.0|            Kern|Southern San Joaq...|                      0.0|               1|16.993707583039793| 14.2|          16.90625| 18.54378109452736|16.993707583039793|              14.2|\n",
      "|       35.513841|     -118.901299|    4|2010| 35.730014| -118.70482|   13|15635860000000|           Kern|     93226|      1990-01-01|        2025-01-01|1.4003278017044067|            969.74|2010-04-01|           282.0|                135.0|                  147.0|          13.0|                6.0|                  7.0|          15.0|                5.0|                 10.0|             8.0|                  3.0|                    5.0|            13.0|                  6.0|                    7.0|            20.0|              29.0|             49.0| 8.937255|         250.9|             11.14284|  29867.89306357011|   36.5223965083143|       null|       null|1.4003278017044067|114.63824823583104|114.63824823583104|    78.11585172751674| 78.11585172751674|1.4003278017044067| 78.11585172751674|       1.2059334812373894|2010-01-01|                     0|      2010.0|   93226| 860080.0396039604|          2433499.0|            Kern|Southern San Joaq...|                      0.0|               1|16.993707583039793| 14.2|          16.90625| 18.54378109452736|16.993707583039793|              14.2|\n",
      "|       35.513841|     -118.901299|    4|2010| 35.730757|-118.704599|   14|15635866009724|           Kern|     93226|      1980-07-01|        2025-01-01|1.4003278017044067|            976.59|2010-04-01|           282.0|                135.0|                  147.0|          13.0|                6.0|                  7.0|          15.0|                5.0|                 10.0|             8.0|                  3.0|                    5.0|            13.0|                  6.0|                    7.0|            20.0|              29.0|             49.0| 8.937255|         250.9|             11.14284| 29945.994202328016|   36.4589683018305|       null|       null|1.4003278017044067|114.63824823583104|114.63824823583104|    78.17927993400053| 78.17927993400053|1.4003278017044067| 78.17927993400053|       1.2048500523596735|2010-01-01|                     2|      2010.0|   93226| 860080.0396039604|          2433499.0|            Kern|Southern San Joaq...|                      0.0|               1|16.993707583039793| 14.2|          16.90625| 18.54378109452736|16.993707583039793|              14.2|\n",
      "|         35.5767|       -119.7854|    4|2010| 35.615205| -119.70291|   16|15635940000000|           Kern|     93249|      1990-01-01|        2025-01-01|1.3219658136367798|            100.24|2010-04-01|          2739.0|               1559.0|                 1180.0|         382.0|              193.0|                189.0|         309.0|              171.0|                138.0|           248.0|                136.0|                  112.0|           286.0|                159.0|                  127.0|           659.0|             566.0|           1225.0| 9.191603|         175.1|           2.16845051|   8610.02561495707|  60.22790174449373|       null|       null|1.3219658136367798|107.02405007553217|107.02405007553217|    46.79614833103844| 46.79614833103844|1.3219658136367798| 46.79614833103844|       1.6845961189467769|2010-01-01|                     0|      2010.0|   93249|144288.87545126354|          3047904.0|            Kern|Southern San Joaq...|                      0.0|               1|16.993707583039793| null|              null|              null|16.993707583039793|16.993707583039793|\n",
      "|         35.5767|       -119.7854|    4|2010| 35.614094|-119.700563|   17|15635946060420|           Kern|     93249|      1980-07-01|        2025-01-01|1.3219658136367798|             99.66|2010-04-01|          2739.0|               1559.0|                 1180.0|         382.0|              193.0|                189.0|         309.0|              171.0|                138.0|           248.0|                136.0|                  112.0|           286.0|                159.0|                  127.0|           659.0|             566.0|           1225.0| 9.191603|         175.1|           2.16845051|  8736.154005374226| 61.621571632736625|       null|       null|1.3219658136367798|107.02405007553217|107.02405007553217|    45.40247844279554| 45.40247844279554|1.3219658136367798| 45.40247844279554|       1.7021222618618217|2010-01-01|                     2|      2010.0|   93249|144288.87545126354|          3047904.0|            Kern|Southern San Joaq...|                      0.0|               1|16.993707583039793| null|              null|              null|16.993707583039793|16.993707583039793|\n",
      "|         35.5767|       -119.7854|    4|2010| 35.614094|-119.700563|   18|15635946102792|           Kern|     93249|      1980-07-01|        2025-01-01|1.3219658136367798|             99.66|2010-04-01|          2739.0|               1559.0|                 1180.0|         382.0|              193.0|                189.0|         309.0|              171.0|                138.0|           248.0|                136.0|                  112.0|           286.0|                159.0|                  127.0|           659.0|             566.0|           1225.0| 9.191603|         175.1|           2.16845051|  8736.154005374226| 61.621571632736625|       null|       null|1.3219658136367798|107.02405007553217|107.02405007553217|    45.40247844279554| 45.40247844279554|1.3219658136367798| 45.40247844279554|       1.7021222618618217|2010-01-01|                     2|      2010.0|   93249|144288.87545126354|          3047904.0|            Kern|Southern San Joaq...|                      0.0|               1|16.993707583039793| null|              null|              null|16.993707583039793|16.993707583039793|\n",
      "|       34.534084|     -117.861722|    4|2010|  34.45067|-117.647375|   19|36739576108260| San Bernardino|     92372|      1980-07-01|        2025-01-01|1.5667824745178223|           1177.84|2010-04-01|          6220.0|               3136.0|                 3084.0|         368.0|              189.0|                179.0|         367.0|              188.0|                179.0|           489.0|                244.0|                  245.0|           509.0|                268.0|                  241.0|           889.0|             844.0|           1733.0| 9.082143|        900.09|               32.722| 21753.533182030216| 115.11313547709793|       null|       null|1.5667824745178223|60.816812956827484|60.816812956827484|    54.29632252027045| 54.29632252027045|1.5667824745178223| 54.29632252027045|        1.583593346155176|2010-01-01|                     2|      2010.0|   92372| 44409.83423326134|          2309547.0|  San Bernardino|       Inland Empire|                      0.0|               1|              27.7| 11.9|14.713333333333331|17.194904458598725|16.993707583039793|              11.9|\n",
      "|        36.13427|      -120.38843|    4|2010| 35.898178|-120.432068|   20|40688336043335|San Luis Obispo|     93451|      1930-07-01|        2025-01-01|  1.26140558719635|             465.9|2010-04-01|          3779.0|               1926.0|                 1853.0|         271.0|              137.0|                134.0|         305.0|              168.0|                137.0|           283.0|                145.0|                  138.0|           294.0|                149.0|                  145.0|           599.0|             554.0|           1153.0|    5.936|        248.32|           16.0590037|   26490.3080895096|-171.44727253224113|       null|       null|  1.26140558719635|104.68183892580346|104.68183892580346|    83.87088854195542| 83.87088854195542|  1.26140558719635| 83.87088854195542|        1.106769296380005|2010-01-01|                     2|      2010.0|   93451|19882.599339933993|          2286821.0| San Luis Obispo|       Central Coast|                      0.0|               1|              10.5| null|              null|              null|16.993707583039793|16.993707583039793|\n",
      "+----------------+----------------+-----+----+----------+-----------+-----+--------------+---------------+----------+----------------+------------------+------------------+------------------+----------+----------------+---------------------+-----------------------+--------------+-------------------+---------------------+--------------+-------------------+---------------------+----------------+---------------------+-----------------------+----------------+---------------------+-----------------------+----------------+------------------+-----------------+---------+--------------+---------------------+-------------------+-------------------+-----------+-----------+------------------+------------------+------------------+---------------------+------------------+------------------+------------------+-------------------------+----------+----------------------+------------+--------+------------------+-------------------+----------------+--------------------+-------------------------+----------------+------------------+-----+------------------+------------------+------------------+------------------+\n",
      "only showing top 20 rows\n",
      "\n"
     ]
    }
   ],
   "source": [
    "df_left_alltemps.show()"
   ]
  },
  {
   "cell_type": "code",
   "execution_count": 113,
   "id": "f859b908",
   "metadata": {},
   "outputs": [
    {
     "data": {
      "text/plain": [
       "1578330"
      ]
     },
     "execution_count": 113,
     "metadata": {},
     "output_type": "execute_result"
    }
   ],
   "source": [
    "df_left_alltemps.filter(col('school_temperature') != col('ps_temperature')).count()"
   ]
  },
  {
   "cell_type": "markdown",
   "id": "6566dc5f",
   "metadata": {},
   "source": [
    "## surprisingly, about half of the school and point source temperature measurements do not match"
   ]
  },
  {
   "cell_type": "code",
   "execution_count": 114,
   "id": "b1d1878a",
   "metadata": {},
   "outputs": [],
   "source": [
    "cols_to_drop = ['temp1','temp2','temp3','temp4']\n",
    "\n",
    "df_left = df_left_alltemps.drop(*cols_to_drop)"
   ]
  },
  {
   "cell_type": "code",
   "execution_count": 115,
   "id": "b15230f2",
   "metadata": {},
   "outputs": [
    {
     "name": "stdout",
     "output_type": "stream",
     "text": [
      "+----------------+----------------+-----+----+----------+-----------+-----+--------------+---------------+----------+----------------+------------------+------------------+------------------+----------+----------------+---------------------+-----------------------+--------------+-------------------+---------------------+--------------+-------------------+---------------------+----------------+---------------------+-----------------------+----------------+---------------------+-----------------------+----------------+------------------+-----------------+---------+--------------+---------------------+-------------------+-------------------+-----------+-----------+------------------+------------------+------------------+---------------------+------------------+------------------+------------------+-------------------------+----------+----------------------+------------+--------+------------------+-------------------+----------------+--------------------+-------------------------+----------------+------------------+------------------+\n",
      "|point_source_lat|point_source_lon|month|year|school_lat| school_lon|index|       cdscode|  school_county|school_zip|school_open_date|school_closed_date|       school_wspd|school_elevation_m|year_month|total_population|total_population_male|total_population_female|population_0_4|population_0_4_male|population_0_4_female|population_5_9|population_5_9_male|population_5_9_female|population_10_14|population_10_14_male|population_10_14_female|population_15_19|population_15_19_male|population_15_19_female|pop_under19_male|pop_under19_female|total_pop_under19|     pm25|ps_elevation_m|point_source_pm25_tpy|dist_school_to_ps_m|    angle_to_school|ps_wind_lat|ps_wind_lon|     ps_wspd_merge|school_wdir_wrt_0N|    ps_wdir_wrt_0N|school_wind_alignment| ps_wind_alignment|    avg_wind_speed|avg_wind_alignment|avg_wind_alignment_cosine|  new_year|open_close_dates_valid|Taxable Year|Zip Code|CA_AGI_per_returns|Total Tax Liability|school_county_v2|  school_region_name|nearby_point_source_count|open_dates_valid|school_temperature|    ps_temperature|\n",
      "+----------------+----------------+-----+----+----------+-----------+-----+--------------+---------------+----------+----------------+------------------+------------------+------------------+----------+----------------+---------------------+-----------------------+--------------+-------------------+---------------------+--------------+-------------------+---------------------+----------------+---------------------+-----------------------+----------------+---------------------+-----------------------+----------------+------------------+-----------------+---------+--------------+---------------------+-------------------+-------------------+-----------+-----------+------------------+------------------+------------------+---------------------+------------------+------------------+------------------+-------------------------+----------+----------------------+------------+--------+------------------+-------------------+----------------+--------------------+-------------------------+----------------+------------------+------------------+\n",
      "|         37.1056|       -120.2487|    4|2010|  37.11521| -120.26603|    0|20102070109728|         Madera|     93610|      2005-08-16|        2014-06-30|1.5313516855239868|             70.84|2010-04-01|         23833.0|               8280.0|                15553.0|        1439.0|              694.0|                745.0|        1485.0|              729.0|                756.0|          1407.0|                740.0|                  667.0|          1473.0|                753.0|                  720.0|          2916.0|            2888.0|           5804.0| 7.736047|          73.3|            2.0127727|  1873.525780181077| -55.29643968357893|       null|       null|1.5313516855239868|102.52805712371999|102.52805712371999|    157.8244968072989| 157.8244968072989|1.5313516855239868| 157.8244968072989|      0.07396797174718228|2010-01-01|                     1|      2010.0|   93610|14375.028222869629|          2905021.0|          Madera|Northern San Joaq...|                      1.0|               1|              12.8|              12.8|\n",
      "|         37.1056|       -120.2487|    4|2010|  37.11521| -120.26603|    1|20102072030187|         Madera|     93610|      2001-01-22|        2014-06-30|1.5313516855239868|             70.84|2010-04-01|         23833.0|               8280.0|                15553.0|        1439.0|              694.0|                745.0|        1485.0|              729.0|                756.0|          1407.0|                740.0|                  667.0|          1473.0|                753.0|                  720.0|          2916.0|            2888.0|           5804.0| 7.736047|          73.3|            2.0127727|  1873.525780181077| -55.29643968357893|       null|       null|1.5313516855239868|102.52805712371999|102.52805712371999|    157.8244968072989| 157.8244968072989|1.5313516855239868| 157.8244968072989|      0.07396797174718228|2010-01-01|                     1|      2010.0|   93610|14375.028222869629|          2905021.0|          Madera|Northern San Joaq...|                      1.0|               1|              12.8|              12.8|\n",
      "|         37.1056|       -120.2487|    4|2010| 37.122449| -120.26487|    2|20651930000000|         Madera|     93610|      1990-01-01|        2025-01-01|1.5313516855239868|             72.77|2010-04-01|         23833.0|               8280.0|                15553.0|        1439.0|              694.0|                745.0|        1485.0|              729.0|                756.0|          1407.0|                740.0|                  667.0|          1473.0|                753.0|                  720.0|          2916.0|            2888.0|           5804.0| 7.736047|          73.3|            2.0127727|   2358.38241919395| -37.54028477906731|       null|       null|1.5313516855239868|102.52805712371999|102.52805712371999|    140.0683419027873| 140.0683419027873|1.5313516855239868| 140.0683419027873|       0.2331894173573087|2010-01-01|                     0|      2010.0|   93610|14375.028222869629|          2905021.0|          Madera|Northern San Joaq...|                      0.0|               1|              12.8|              12.8|\n",
      "|         37.1056|       -120.2487|    4|2010| 37.131113|-120.242025|    3|20651930113076|         Madera|     93610|      2007-08-21|        2025-01-01|1.5313516855239868|             77.12|2010-04-01|         23833.0|               8280.0|                15553.0|        1439.0|              694.0|                745.0|        1485.0|              729.0|                756.0|          1407.0|                740.0|                  667.0|          1473.0|                753.0|                  720.0|          2916.0|            2888.0|           5804.0| 7.736047|          73.3|            2.0127727| 2892.9075458251764| 11.831222108044384|       null|       null|1.5313516855239868|102.52805712371999|102.52805712371999|     90.6968350156756|  90.6968350156756|1.5313516855239868|  90.6968350156756|        0.987838261458426|2010-01-01|                     2|      2010.0|   93610|14375.028222869629|          2905021.0|          Madera|Northern San Joaq...|                      0.0|               1|              12.8|              12.8|\n",
      "|         37.1056|       -120.2487|    4|2010| 37.115243| -120.26777|    4|20651936023907|         Madera|     93610|      1980-07-01|        2025-01-01|1.5313516855239868|             70.66|2010-04-01|         23833.0|               8280.0|                15553.0|        1439.0|              694.0|                745.0|        1485.0|              729.0|                756.0|          1407.0|                740.0|                  667.0|          1473.0|                753.0|                  720.0|          2916.0|            2888.0|           5804.0| 7.736047|          73.3|            2.0127727| 2004.5665433091058| -57.72695665034661|       null|       null|1.5313516855239868|102.52805712371999|102.52805712371999|   160.25501377406658|160.25501377406658|1.5313516855239868|160.25501377406658|     0.058794434432924536|2010-01-01|                     2|      2010.0|   93610|14375.028222869629|          2905021.0|          Madera|Northern San Joaq...|                      1.0|               1|              12.8|              12.8|\n",
      "|         37.1056|       -120.2487|    4|2010| 37.116435| -120.26264|    5|20652010000000|         Madera|     93610|      1990-01-01|        2025-01-01|1.5313516855239868|             71.38|2010-04-01|         23833.0|               8280.0|                15553.0|        1439.0|              694.0|                745.0|        1485.0|              729.0|                756.0|          1407.0|                740.0|                  667.0|          1473.0|                753.0|                  720.0|          2916.0|            2888.0|           5804.0| 7.736047|          73.3|            2.0127727|  1726.581720001096| -45.85349787412275|       null|       null|1.5313516855239868|102.52805712371999|102.52805712371999|   148.38155499784273|148.38155499784273|1.5313516855239868|148.38155499784273|       0.1484418178451501|2010-01-01|                     0|      2010.0|   93610|14375.028222869629|          2905021.0|          Madera|Northern San Joaq...|                      1.0|               1|              12.8|              12.8|\n",
      "|         37.1056|       -120.2487|    4|2010| 37.114421|-120.262612|    6|20652012030047|         Madera|     93610|      1980-07-01|        2025-01-01|1.5313516855239868|             71.01|2010-04-01|         23833.0|               8280.0|                15553.0|        1439.0|              694.0|                745.0|        1485.0|              729.0|                756.0|          1407.0|                740.0|                  667.0|          1473.0|                753.0|                  720.0|          2916.0|            2888.0|           5804.0| 7.736047|          73.3|            2.0127727| 1577.1455869098806|-51.627712395811756|       null|       null|1.5313516855239868|102.52805712371999|102.52805712371999|   154.15576951953176|154.15576951953176|1.5313516855239868|154.15576951953176|      0.10001750110640129|2010-01-01|                     2|      2010.0|   93610|14375.028222869629|          2905021.0|          Madera|Northern San Joaq...|                      1.0|               1|              12.8|              12.8|\n",
      "|         37.1056|       -120.2487|    4|2010| 37.114421|-120.262612|    7|20652012032357|         Madera|     93610|      1980-07-01|        2025-01-01|1.5313516855239868|             71.01|2010-04-01|         23833.0|               8280.0|                15553.0|        1439.0|              694.0|                745.0|        1485.0|              729.0|                756.0|          1407.0|                740.0|                  667.0|          1473.0|                753.0|                  720.0|          2916.0|            2888.0|           5804.0| 7.736047|          73.3|            2.0127727| 1577.1455869098806|-51.627712395811756|       null|       null|1.5313516855239868|102.52805712371999|102.52805712371999|   154.15576951953176|154.15576951953176|1.5313516855239868|154.15576951953176|      0.10001750110640129|2010-01-01|                     2|      2010.0|   93610|14375.028222869629|          2905021.0|          Madera|Northern San Joaq...|                      1.0|               1|              12.8|              12.8|\n",
      "|        35.15125|      -118.01667|    4|2010|  35.10877|-117.956403|    8|15636770113837|           Kern|     93505|      2007-08-20|        2025-01-01|1.9229604005813599|            726.11|2010-04-01|         14038.0|               8292.0|                 5746.0|         978.0|              498.0|                480.0|         903.0|              460.0|                443.0|           944.0|                496.0|                  448.0|           961.0|                464.0|                  497.0|          1918.0|            1868.0|           3786.0| 8.738297|        740.08|            1.7150765|  7237.644150895437| 130.61169426028664|       null|       null|1.9229604005813599| 90.75829498494724| 90.75829498494724|     39.8533992753394|  39.8533992753394|1.9229604005813599|  39.8533992753394|       1.7676866197437722|2010-01-01|                     2|      2010.0|   93505|3686.3322436849926|           434350.0|            Kern|Southern San Joaq...|                      0.0|               1|              15.6|16.033333333333335|\n",
      "|        35.15125|      -118.01667|    4|2010| 35.138427| -117.97325|    9|15636770114512|           Kern|     93505|      2007-08-20|        2025-01-01|1.9229604005813599|            721.91|2010-04-01|         14038.0|               8292.0|                 5746.0|         978.0|              498.0|                480.0|         903.0|              460.0|                443.0|           944.0|                496.0|                  448.0|           961.0|                464.0|                  497.0|          1918.0|            1868.0|           3786.0| 8.738297|        740.08|            1.7150765|   4204.71340841246| 109.76330491726215|       null|       null|1.9229604005813599| 90.75829498494724| 90.75829498494724|    19.00500993231492| 19.00500993231492|1.9229604005813599| 19.00500993231492|        1.945490106208428|2010-01-01|                     2|      2010.0|   93505|3686.3322436849926|           434350.0|            Kern|Southern San Joaq...|                      0.0|               1|15.666666666666666|16.033333333333335|\n",
      "|        35.15125|      -118.01667|    4|2010|  35.12235|-117.965825|   10|15636776009823|           Kern|     93505|      1980-07-01|        2025-01-01|1.9229604005813599|            724.22|2010-04-01|         14038.0|               8292.0|                 5746.0|         978.0|              498.0|                480.0|         903.0|              460.0|                443.0|           944.0|                496.0|                  448.0|           961.0|                464.0|                  497.0|          1918.0|            1868.0|           3786.0| 8.738297|        740.08|            1.7150765| 5634.9138539094165| 124.66575259204703|       null|       null|1.9229604005813599| 90.75829498494724| 90.75829498494724|   33.907457607099786|33.907457607099786|1.9229604005813599|33.907457607099786|        1.829939687705385|2010-01-01|                     2|      2010.0|   93505|3686.3322436849926|           434350.0|            Kern|Southern San Joaq...|                      0.0|               1|15.666666666666666|16.033333333333335|\n",
      "|        35.15125|      -118.01667|    4|2010|  35.10877|-117.956403|   11|15636776111272|           Kern|     93505|      1993-07-06|        2025-01-01|1.9229604005813599|            726.11|2010-04-01|         14038.0|               8292.0|                 5746.0|         978.0|              498.0|                480.0|         903.0|              460.0|                443.0|           944.0|                496.0|                  448.0|           961.0|                464.0|                  497.0|          1918.0|            1868.0|           3786.0| 8.738297|        740.08|            1.7150765|  7237.644150895437| 130.61169426028664|       null|       null|1.9229604005813599| 90.75829498494724| 90.75829498494724|     39.8533992753394|  39.8533992753394|1.9229604005813599|  39.8533992753394|       1.7676866197437722|2010-01-01|                     2|      2010.0|   93505|3686.3322436849926|           434350.0|            Kern|Southern San Joaq...|                      0.0|               1|              15.6|16.033333333333335|\n",
      "|       35.513841|     -118.901299|    4|2010| 35.756886|  -118.4166|   12|15635456009641|           Kern|     93238|      1980-07-01|        2025-01-01| 1.981123685836792|            840.98|2010-04-01|          1490.0|                738.0|                  752.0|          63.0|               34.0|                 29.0|          63.0|               23.0|                 40.0|            55.0|                 27.0|                   28.0|            42.0|                 21.0|                   21.0|           105.0|             118.0|            223.0|7.2294874|         250.9|             11.14284|  51522.89128696913|   58.2993528125989|       null|       null| 1.981123685836792| 94.06976578918447| 94.06976578918447|    35.77041297658559| 35.77041297658559| 1.981123685836792| 35.77041297658559|       1.8113657839258157|2010-01-01|                     2|      2010.0|   93238| 2411.103299856528|            61388.0|            Kern|Southern San Joaq...|                      0.0|               1|16.993707583039793|              14.2|\n",
      "|       35.513841|     -118.901299|    4|2010| 35.730014| -118.70482|   13|15635860000000|           Kern|     93226|      1990-01-01|        2025-01-01|1.4003278017044067|            969.74|2010-04-01|           282.0|                135.0|                  147.0|          13.0|                6.0|                  7.0|          15.0|                5.0|                 10.0|             8.0|                  3.0|                    5.0|            13.0|                  6.0|                    7.0|            20.0|              29.0|             49.0| 8.937255|         250.9|             11.14284|  29867.89306357011|   36.5223965083143|       null|       null|1.4003278017044067|114.63824823583104|114.63824823583104|    78.11585172751674| 78.11585172751674|1.4003278017044067| 78.11585172751674|       1.2059334812373894|2010-01-01|                     0|      2010.0|   93226| 860080.0396039604|          2433499.0|            Kern|Southern San Joaq...|                      0.0|               1|16.993707583039793|              14.2|\n",
      "|       35.513841|     -118.901299|    4|2010| 35.730757|-118.704599|   14|15635866009724|           Kern|     93226|      1980-07-01|        2025-01-01|1.4003278017044067|            976.59|2010-04-01|           282.0|                135.0|                  147.0|          13.0|                6.0|                  7.0|          15.0|                5.0|                 10.0|             8.0|                  3.0|                    5.0|            13.0|                  6.0|                    7.0|            20.0|              29.0|             49.0| 8.937255|         250.9|             11.14284| 29945.994202328016|   36.4589683018305|       null|       null|1.4003278017044067|114.63824823583104|114.63824823583104|    78.17927993400053| 78.17927993400053|1.4003278017044067| 78.17927993400053|       1.2048500523596735|2010-01-01|                     2|      2010.0|   93226| 860080.0396039604|          2433499.0|            Kern|Southern San Joaq...|                      0.0|               1|16.993707583039793|              14.2|\n",
      "|         35.5767|       -119.7854|    4|2010| 35.615205| -119.70291|   16|15635940000000|           Kern|     93249|      1990-01-01|        2025-01-01|1.3219658136367798|            100.24|2010-04-01|          2739.0|               1559.0|                 1180.0|         382.0|              193.0|                189.0|         309.0|              171.0|                138.0|           248.0|                136.0|                  112.0|           286.0|                159.0|                  127.0|           659.0|             566.0|           1225.0| 9.191603|         175.1|           2.16845051|   8610.02561495707|  60.22790174449373|       null|       null|1.3219658136367798|107.02405007553217|107.02405007553217|    46.79614833103844| 46.79614833103844|1.3219658136367798| 46.79614833103844|       1.6845961189467769|2010-01-01|                     0|      2010.0|   93249|144288.87545126354|          3047904.0|            Kern|Southern San Joaq...|                      0.0|               1|16.993707583039793|16.993707583039793|\n",
      "|         35.5767|       -119.7854|    4|2010| 35.614094|-119.700563|   17|15635946060420|           Kern|     93249|      1980-07-01|        2025-01-01|1.3219658136367798|             99.66|2010-04-01|          2739.0|               1559.0|                 1180.0|         382.0|              193.0|                189.0|         309.0|              171.0|                138.0|           248.0|                136.0|                  112.0|           286.0|                159.0|                  127.0|           659.0|             566.0|           1225.0| 9.191603|         175.1|           2.16845051|  8736.154005374226| 61.621571632736625|       null|       null|1.3219658136367798|107.02405007553217|107.02405007553217|    45.40247844279554| 45.40247844279554|1.3219658136367798| 45.40247844279554|       1.7021222618618217|2010-01-01|                     2|      2010.0|   93249|144288.87545126354|          3047904.0|            Kern|Southern San Joaq...|                      0.0|               1|16.993707583039793|16.993707583039793|\n",
      "|         35.5767|       -119.7854|    4|2010| 35.614094|-119.700563|   18|15635946102792|           Kern|     93249|      1980-07-01|        2025-01-01|1.3219658136367798|             99.66|2010-04-01|          2739.0|               1559.0|                 1180.0|         382.0|              193.0|                189.0|         309.0|              171.0|                138.0|           248.0|                136.0|                  112.0|           286.0|                159.0|                  127.0|           659.0|             566.0|           1225.0| 9.191603|         175.1|           2.16845051|  8736.154005374226| 61.621571632736625|       null|       null|1.3219658136367798|107.02405007553217|107.02405007553217|    45.40247844279554| 45.40247844279554|1.3219658136367798| 45.40247844279554|       1.7021222618618217|2010-01-01|                     2|      2010.0|   93249|144288.87545126354|          3047904.0|            Kern|Southern San Joaq...|                      0.0|               1|16.993707583039793|16.993707583039793|\n",
      "|       34.534084|     -117.861722|    4|2010|  34.45067|-117.647375|   19|36739576108260| San Bernardino|     92372|      1980-07-01|        2025-01-01|1.5667824745178223|           1177.84|2010-04-01|          6220.0|               3136.0|                 3084.0|         368.0|              189.0|                179.0|         367.0|              188.0|                179.0|           489.0|                244.0|                  245.0|           509.0|                268.0|                  241.0|           889.0|             844.0|           1733.0| 9.082143|        900.09|               32.722| 21753.533182030216| 115.11313547709793|       null|       null|1.5667824745178223|60.816812956827484|60.816812956827484|    54.29632252027045| 54.29632252027045|1.5667824745178223| 54.29632252027045|        1.583593346155176|2010-01-01|                     2|      2010.0|   92372| 44409.83423326134|          2309547.0|  San Bernardino|       Inland Empire|                      0.0|               1|              27.7|              11.9|\n",
      "|        36.13427|      -120.38843|    4|2010| 35.898178|-120.432068|   20|40688336043335|San Luis Obispo|     93451|      1930-07-01|        2025-01-01|  1.26140558719635|             465.9|2010-04-01|          3779.0|               1926.0|                 1853.0|         271.0|              137.0|                134.0|         305.0|              168.0|                137.0|           283.0|                145.0|                  138.0|           294.0|                149.0|                  145.0|           599.0|             554.0|           1153.0|    5.936|        248.32|           16.0590037|   26490.3080895096|-171.44727253224113|       null|       null|  1.26140558719635|104.68183892580346|104.68183892580346|    83.87088854195542| 83.87088854195542|  1.26140558719635| 83.87088854195542|        1.106769296380005|2010-01-01|                     2|      2010.0|   93451|19882.599339933993|          2286821.0| San Luis Obispo|       Central Coast|                      0.0|               1|              10.5|16.993707583039793|\n",
      "+----------------+----------------+-----+----+----------+-----------+-----+--------------+---------------+----------+----------------+------------------+------------------+------------------+----------+----------------+---------------------+-----------------------+--------------+-------------------+---------------------+--------------+-------------------+---------------------+----------------+---------------------+-----------------------+----------------+---------------------+-----------------------+----------------+------------------+-----------------+---------+--------------+---------------------+-------------------+-------------------+-----------+-----------+------------------+------------------+------------------+---------------------+------------------+------------------+------------------+-------------------------+----------+----------------------+------------+--------+------------------+-------------------+----------------+--------------------+-------------------------+----------------+------------------+------------------+\n",
      "only showing top 20 rows\n",
      "\n"
     ]
    }
   ],
   "source": [
    "df_left.show()"
   ]
  },
  {
   "cell_type": "code",
   "execution_count": 116,
   "id": "b6ad1393",
   "metadata": {},
   "outputs": [
    {
     "data": {
      "text/plain": [
       "0"
      ]
     },
     "execution_count": 116,
     "metadata": {},
     "output_type": "execute_result"
    }
   ],
   "source": [
    "df_left.filter(col('ps_temperature').isNull()).count()"
   ]
  },
  {
   "cell_type": "code",
   "execution_count": 117,
   "id": "9d941bc8",
   "metadata": {},
   "outputs": [],
   "source": [
    "df_left.write.parquet('C:\\\\Users\\\\matts\\\\Documents\\\\Berkeley MIDS\\\\DataSci 210 Capstone\\\\non-push files\\\\joined_data_with_temperatures_10-16-22.parquet')"
   ]
  }
 ],
 "metadata": {
  "kernelspec": {
   "display_name": "Python 3",
   "language": "python",
   "name": "python3"
  },
  "language_info": {
   "codemirror_mode": {
    "name": "ipython",
    "version": 3
   },
   "file_extension": ".py",
   "mimetype": "text/x-python",
   "name": "python",
   "nbconvert_exporter": "python",
   "pygments_lexer": "ipython3",
   "version": "3.8.13"
  }
 },
 "nbformat": 4,
 "nbformat_minor": 5
}
