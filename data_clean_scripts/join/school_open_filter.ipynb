{
 "cells": [
  {
   "cell_type": "markdown",
   "metadata": {},
   "source": [
    "# Logic for open/closed school dates\n",
    "- If there is \"No Data\" assume the school was open"
   ]
  },
  {
   "cell_type": "code",
   "execution_count": 1,
   "metadata": {},
   "outputs": [],
   "source": [
    "import pandas as pd \n",
    "import numpy as np\n",
    "import os \n",
    "import datetime\n",
    "from tqdm.notebook import tqdm\n",
    "from datetime import datetime\n",
    "\n",
    "import matplotlib.pyplot as plt\n",
    "from matplotlib.dates import DateFormatter\n",
    "import matplotlib.ticker as mticker\n",
    "import plotly.express as px\n",
    "\n",
    "\n",
    "pd.set_option('display.max_columns', None)\n",
    "pd.options.mode.chained_assignment = None"
   ]
  },
  {
   "cell_type": "code",
   "execution_count": 2,
   "metadata": {},
   "outputs": [],
   "source": [
    "path_source = 'local'\n",
    "\n",
    "if path_source == 'gdrive':\n",
    "  from google.colab import drive\n",
    "  drive.mount('/content/gdrive')\n",
    "  gdrive_path = '/content/gdrive/MyDrive/Classes/W210_capstone'\n",
    "  env_path = '/content/gdrive/MyDrive/.env'\n",
    "  \n",
    "elif path_source == 'local':\n",
    "  gdrive_path = '/Users/tj/trevorj@berkeley.edu - Google Drive/My Drive/Classes/W210_capstone'\n",
    "  env_path = '/Users/tj/trevorj@berkeley.edu - Google Drive/MyDrive/.env'\n",
    "\n",
    "elif path_source == 'work':\n",
    "  gdrive_path = '/Users/trevorjohnson/trevorj@berkeley.edu - Google Drive/My Drive/Classes/W210_capstone'\n",
    "  env_path = '/Users/trevorjohnson/trevorj@berkeley.edu - Google Drive/My Drive/.env'"
   ]
  },
  {
   "cell_type": "code",
   "execution_count": 3,
   "metadata": {},
   "outputs": [],
   "source": [
    "df_all = pd.read_parquet(os.path.join(gdrive_path, 'W210_Capstone/Data/joined_data/joined_data.parquet'))"
   ]
  },
  {
   "cell_type": "code",
   "execution_count": 4,
   "metadata": {},
   "outputs": [
    {
     "data": {
      "text/html": [
       "<div>\n",
       "<style scoped>\n",
       "    .dataframe tbody tr th:only-of-type {\n",
       "        vertical-align: middle;\n",
       "    }\n",
       "\n",
       "    .dataframe tbody tr th {\n",
       "        vertical-align: top;\n",
       "    }\n",
       "\n",
       "    .dataframe thead th {\n",
       "        text-align: right;\n",
       "    }\n",
       "</style>\n",
       "<table border=\"1\" class=\"dataframe\">\n",
       "  <thead>\n",
       "    <tr style=\"text-align: right;\">\n",
       "      <th></th>\n",
       "      <th>index</th>\n",
       "      <th>cdscode</th>\n",
       "    </tr>\n",
       "  </thead>\n",
       "  <tbody>\n",
       "    <tr>\n",
       "      <th>0</th>\n",
       "      <td>1100170000000</td>\n",
       "      <td>240</td>\n",
       "    </tr>\n",
       "    <tr>\n",
       "      <th>1</th>\n",
       "      <td>36679343638012</td>\n",
       "      <td>240</td>\n",
       "    </tr>\n",
       "    <tr>\n",
       "      <th>2</th>\n",
       "      <td>36679346059562</td>\n",
       "      <td>240</td>\n",
       "    </tr>\n",
       "    <tr>\n",
       "      <th>3</th>\n",
       "      <td>36679346114698</td>\n",
       "      <td>240</td>\n",
       "    </tr>\n",
       "    <tr>\n",
       "      <th>4</th>\n",
       "      <td>36679590000000</td>\n",
       "      <td>240</td>\n",
       "    </tr>\n",
       "    <tr>\n",
       "      <th>...</th>\n",
       "      <td>...</td>\n",
       "      <td>...</td>\n",
       "    </tr>\n",
       "    <tr>\n",
       "      <th>13292</th>\n",
       "      <td>24658700111294</td>\n",
       "      <td>1</td>\n",
       "    </tr>\n",
       "    <tr>\n",
       "      <th>13293</th>\n",
       "      <td>24658706025829</td>\n",
       "      <td>1</td>\n",
       "    </tr>\n",
       "    <tr>\n",
       "      <th>13294</th>\n",
       "      <td>24658706025837</td>\n",
       "      <td>1</td>\n",
       "    </tr>\n",
       "    <tr>\n",
       "      <th>13295</th>\n",
       "      <td>24658706109425</td>\n",
       "      <td>1</td>\n",
       "    </tr>\n",
       "    <tr>\n",
       "      <th>13296</th>\n",
       "      <td>43696414332904</td>\n",
       "      <td>1</td>\n",
       "    </tr>\n",
       "  </tbody>\n",
       "</table>\n",
       "<p>13297 rows × 2 columns</p>\n",
       "</div>"
      ],
      "text/plain": [
       "                index  cdscode\n",
       "0       1100170000000      240\n",
       "1      36679343638012      240\n",
       "2      36679346059562      240\n",
       "3      36679346114698      240\n",
       "4      36679590000000      240\n",
       "...               ...      ...\n",
       "13292  24658700111294        1\n",
       "13293  24658706025829        1\n",
       "13294  24658706025837        1\n",
       "13295  24658706109425        1\n",
       "13296  43696414332904        1\n",
       "\n",
       "[13297 rows x 2 columns]"
      ]
     },
     "execution_count": 4,
     "metadata": {},
     "output_type": "execute_result"
    }
   ],
   "source": [
    "# some schools dont have wind data, and thus didn't get mapped to a nearest pollution source\n",
    "df_counts = df_all['cdscode'].value_counts().to_frame().reset_index()\n",
    "df_counts"
   ]
  },
  {
   "cell_type": "code",
   "execution_count": 5,
   "metadata": {},
   "outputs": [
    {
     "data": {
      "text/html": [
       "<div>\n",
       "<style scoped>\n",
       "    .dataframe tbody tr th:only-of-type {\n",
       "        vertical-align: middle;\n",
       "    }\n",
       "\n",
       "    .dataframe tbody tr th {\n",
       "        vertical-align: top;\n",
       "    }\n",
       "\n",
       "    .dataframe thead th {\n",
       "        text-align: right;\n",
       "    }\n",
       "</style>\n",
       "<table border=\"1\" class=\"dataframe\">\n",
       "  <thead>\n",
       "    <tr style=\"text-align: right;\">\n",
       "      <th></th>\n",
       "      <th>cdscode</th>\n",
       "      <th>school_active_status</th>\n",
       "      <th>school_county</th>\n",
       "      <th>school_street</th>\n",
       "      <th>school_zip</th>\n",
       "      <th>school_open_date</th>\n",
       "      <th>school_closed_date</th>\n",
       "      <th>school_type</th>\n",
       "      <th>school_grades_offered</th>\n",
       "      <th>school_lat</th>\n",
       "      <th>school_lon</th>\n",
       "      <th>school_last_updated_date</th>\n",
       "      <th>wind_lat</th>\n",
       "      <th>wind_lon</th>\n",
       "      <th>ZCTA10</th>\n",
       "      <th>u</th>\n",
       "      <th>v</th>\n",
       "      <th>wdir</th>\n",
       "      <th>wspd</th>\n",
       "      <th>year_month</th>\n",
       "      <th>year</th>\n",
       "      <th>zip</th>\n",
       "      <th>total_population</th>\n",
       "      <th>total_population_male</th>\n",
       "      <th>total_population_female</th>\n",
       "      <th>population_0_4</th>\n",
       "      <th>population_0_4_male</th>\n",
       "      <th>population_0_4_female</th>\n",
       "      <th>population_5_9</th>\n",
       "      <th>population_5_9_male</th>\n",
       "      <th>population_5_9_female</th>\n",
       "      <th>population_10_14</th>\n",
       "      <th>population_10_14_male</th>\n",
       "      <th>population_10_14_female</th>\n",
       "      <th>population_15_19</th>\n",
       "      <th>population_15_19_male</th>\n",
       "      <th>population_15_19_female</th>\n",
       "      <th>total_pop_under19</th>\n",
       "      <th>ZIP10</th>\n",
       "      <th>pm25</th>\n",
       "      <th>pollution_source_id</th>\n",
       "      <th>pollution_source_lat</th>\n",
       "      <th>pollution_source_lon</th>\n",
       "      <th>PM25_emissions_TPY</th>\n",
       "      <th>pollution_school_distance</th>\n",
       "    </tr>\n",
       "  </thead>\n",
       "  <tbody>\n",
       "    <tr>\n",
       "      <th>480</th>\n",
       "      <td>1100170112607</td>\n",
       "      <td>Active</td>\n",
       "      <td>Alameda</td>\n",
       "      <td>1515 Webster Street</td>\n",
       "      <td>94612</td>\n",
       "      <td>8/28/2006</td>\n",
       "      <td>No Data</td>\n",
       "      <td>Elementary-High Combination</td>\n",
       "      <td>4-12</td>\n",
       "      <td>37.804520</td>\n",
       "      <td>-122.26815</td>\n",
       "      <td>7/18/2022</td>\n",
       "      <td>NaN</td>\n",
       "      <td>NaN</td>\n",
       "      <td>NaN</td>\n",
       "      <td>NaN</td>\n",
       "      <td>NaN</td>\n",
       "      <td>NaN</td>\n",
       "      <td>NaN</td>\n",
       "      <td>None</td>\n",
       "      <td>NaN</td>\n",
       "      <td>NaN</td>\n",
       "      <td>NaN</td>\n",
       "      <td>NaN</td>\n",
       "      <td>NaN</td>\n",
       "      <td>NaN</td>\n",
       "      <td>NaN</td>\n",
       "      <td>NaN</td>\n",
       "      <td>NaN</td>\n",
       "      <td>NaN</td>\n",
       "      <td>NaN</td>\n",
       "      <td>NaN</td>\n",
       "      <td>NaN</td>\n",
       "      <td>NaN</td>\n",
       "      <td>NaN</td>\n",
       "      <td>NaN</td>\n",
       "      <td>NaN</td>\n",
       "      <td>NaN</td>\n",
       "      <td>NaN</td>\n",
       "      <td>NaN</td>\n",
       "      <td>NaN</td>\n",
       "      <td>NaN</td>\n",
       "      <td>NaN</td>\n",
       "      <td>NaN</td>\n",
       "      <td>NaN</td>\n",
       "    </tr>\n",
       "    <tr>\n",
       "      <th>2881</th>\n",
       "      <td>1100170136101</td>\n",
       "      <td>Active</td>\n",
       "      <td>Alameda</td>\n",
       "      <td>703 C Street</td>\n",
       "      <td>94587</td>\n",
       "      <td>8/16/2017</td>\n",
       "      <td>No Data</td>\n",
       "      <td>Elementary-High Combination</td>\n",
       "      <td>K-12</td>\n",
       "      <td>37.603623</td>\n",
       "      <td>-122.02530</td>\n",
       "      <td>8/13/2020</td>\n",
       "      <td>NaN</td>\n",
       "      <td>NaN</td>\n",
       "      <td>NaN</td>\n",
       "      <td>NaN</td>\n",
       "      <td>NaN</td>\n",
       "      <td>NaN</td>\n",
       "      <td>NaN</td>\n",
       "      <td>None</td>\n",
       "      <td>NaN</td>\n",
       "      <td>NaN</td>\n",
       "      <td>NaN</td>\n",
       "      <td>NaN</td>\n",
       "      <td>NaN</td>\n",
       "      <td>NaN</td>\n",
       "      <td>NaN</td>\n",
       "      <td>NaN</td>\n",
       "      <td>NaN</td>\n",
       "      <td>NaN</td>\n",
       "      <td>NaN</td>\n",
       "      <td>NaN</td>\n",
       "      <td>NaN</td>\n",
       "      <td>NaN</td>\n",
       "      <td>NaN</td>\n",
       "      <td>NaN</td>\n",
       "      <td>NaN</td>\n",
       "      <td>NaN</td>\n",
       "      <td>NaN</td>\n",
       "      <td>NaN</td>\n",
       "      <td>NaN</td>\n",
       "      <td>NaN</td>\n",
       "      <td>NaN</td>\n",
       "      <td>NaN</td>\n",
       "      <td>NaN</td>\n",
       "    </tr>\n",
       "    <tr>\n",
       "      <th>38162</th>\n",
       "      <td>1611920131334</td>\n",
       "      <td>Closed</td>\n",
       "      <td>Alameda</td>\n",
       "      <td>2021 Highland Boulevard</td>\n",
       "      <td>94540</td>\n",
       "      <td>8/21/2014</td>\n",
       "      <td>7/30/2021</td>\n",
       "      <td>Elementary</td>\n",
       "      <td>K-12</td>\n",
       "      <td>37.661939</td>\n",
       "      <td>-122.05792</td>\n",
       "      <td>9/22/2021</td>\n",
       "      <td>NaN</td>\n",
       "      <td>NaN</td>\n",
       "      <td>NaN</td>\n",
       "      <td>NaN</td>\n",
       "      <td>NaN</td>\n",
       "      <td>NaN</td>\n",
       "      <td>NaN</td>\n",
       "      <td>None</td>\n",
       "      <td>NaN</td>\n",
       "      <td>NaN</td>\n",
       "      <td>NaN</td>\n",
       "      <td>NaN</td>\n",
       "      <td>NaN</td>\n",
       "      <td>NaN</td>\n",
       "      <td>NaN</td>\n",
       "      <td>NaN</td>\n",
       "      <td>NaN</td>\n",
       "      <td>NaN</td>\n",
       "      <td>NaN</td>\n",
       "      <td>NaN</td>\n",
       "      <td>NaN</td>\n",
       "      <td>NaN</td>\n",
       "      <td>NaN</td>\n",
       "      <td>NaN</td>\n",
       "      <td>NaN</td>\n",
       "      <td>NaN</td>\n",
       "      <td>NaN</td>\n",
       "      <td>NaN</td>\n",
       "      <td>NaN</td>\n",
       "      <td>NaN</td>\n",
       "      <td>NaN</td>\n",
       "      <td>NaN</td>\n",
       "      <td>NaN</td>\n",
       "    </tr>\n",
       "  </tbody>\n",
       "</table>\n",
       "</div>"
      ],
      "text/plain": [
       "             cdscode school_active_status school_county  \\\n",
       "480    1100170112607               Active       Alameda   \n",
       "2881   1100170136101               Active       Alameda   \n",
       "38162  1611920131334               Closed       Alameda   \n",
       "\n",
       "                 school_street  school_zip school_open_date  \\\n",
       "480        1515 Webster Street       94612        8/28/2006   \n",
       "2881              703 C Street       94587        8/16/2017   \n",
       "38162  2021 Highland Boulevard       94540        8/21/2014   \n",
       "\n",
       "      school_closed_date                  school_type school_grades_offered  \\\n",
       "480              No Data  Elementary-High Combination                  4-12   \n",
       "2881             No Data  Elementary-High Combination                  K-12   \n",
       "38162          7/30/2021                   Elementary                  K-12   \n",
       "\n",
       "       school_lat  school_lon school_last_updated_date  wind_lat  wind_lon  \\\n",
       "480     37.804520  -122.26815                7/18/2022       NaN       NaN   \n",
       "2881    37.603623  -122.02530                8/13/2020       NaN       NaN   \n",
       "38162   37.661939  -122.05792                9/22/2021       NaN       NaN   \n",
       "\n",
       "       ZCTA10   u   v  wdir  wspd year_month  year  zip  total_population  \\\n",
       "480       NaN NaN NaN   NaN   NaN       None   NaN  NaN               NaN   \n",
       "2881      NaN NaN NaN   NaN   NaN       None   NaN  NaN               NaN   \n",
       "38162     NaN NaN NaN   NaN   NaN       None   NaN  NaN               NaN   \n",
       "\n",
       "       total_population_male  total_population_female  population_0_4  \\\n",
       "480                      NaN                      NaN             NaN   \n",
       "2881                     NaN                      NaN             NaN   \n",
       "38162                    NaN                      NaN             NaN   \n",
       "\n",
       "       population_0_4_male  population_0_4_female  population_5_9  \\\n",
       "480                    NaN                    NaN             NaN   \n",
       "2881                   NaN                    NaN             NaN   \n",
       "38162                  NaN                    NaN             NaN   \n",
       "\n",
       "       population_5_9_male  population_5_9_female  population_10_14  \\\n",
       "480                    NaN                    NaN               NaN   \n",
       "2881                   NaN                    NaN               NaN   \n",
       "38162                  NaN                    NaN               NaN   \n",
       "\n",
       "       population_10_14_male  population_10_14_female  population_15_19  \\\n",
       "480                      NaN                      NaN               NaN   \n",
       "2881                     NaN                      NaN               NaN   \n",
       "38162                    NaN                      NaN               NaN   \n",
       "\n",
       "       population_15_19_male  population_15_19_female  total_pop_under19  \\\n",
       "480                      NaN                      NaN                NaN   \n",
       "2881                     NaN                      NaN                NaN   \n",
       "38162                    NaN                      NaN                NaN   \n",
       "\n",
       "       ZIP10  pm25  pollution_source_id  pollution_source_lat  \\\n",
       "480      NaN   NaN                  NaN                   NaN   \n",
       "2881     NaN   NaN                  NaN                   NaN   \n",
       "38162    NaN   NaN                  NaN                   NaN   \n",
       "\n",
       "       pollution_source_lon  PM25_emissions_TPY  pollution_school_distance  \n",
       "480                     NaN                 NaN                        NaN  \n",
       "2881                    NaN                 NaN                        NaN  \n",
       "38162                   NaN                 NaN                        NaN  "
      ]
     },
     "execution_count": 5,
     "metadata": {},
     "output_type": "execute_result"
    }
   ],
   "source": [
    "# the schools that weren't joined\n",
    "df_all[df_all['cdscode'].isin(df_counts[df_counts['cdscode'] == 1]['index'].to_list())].head(3)"
   ]
  },
  {
   "cell_type": "code",
   "execution_count": 6,
   "metadata": {},
   "outputs": [],
   "source": [
    "# func to fill in the dates\n",
    "def date_fill(x, start_or_end='start'):\n",
    "  if x == 'No Data' and start_or_end == 'start':\n",
    "    output = '1/1/1990'\n",
    "  elif x == 'No Data' and start_or_end == 'end':\n",
    "    output = '1/1/2025'\n",
    "  else:\n",
    "    output = x \n",
    "\n",
    "  return output"
   ]
  },
  {
   "cell_type": "code",
   "execution_count": 7,
   "metadata": {},
   "outputs": [],
   "source": [
    "# just filter out NAs for now\n",
    "df_all = df_all[~df_all['year_month'].isna()]"
   ]
  },
  {
   "cell_type": "code",
   "execution_count": 8,
   "metadata": {},
   "outputs": [
    {
     "data": {
      "application/vnd.jupyter.widget-view+json": {
       "model_id": "8cb6dbae57854204a61a26af7cdc82f4",
       "version_major": 2,
       "version_minor": 0
      },
      "text/plain": [
       "  0%|          | 0/2982240 [00:00<?, ?it/s]"
      ]
     },
     "metadata": {},
     "output_type": "display_data"
    },
    {
     "data": {
      "application/vnd.jupyter.widget-view+json": {
       "model_id": "24cdd35387534403ae99bebac6188351",
       "version_major": 2,
       "version_minor": 0
      },
      "text/plain": [
       "  0%|          | 0/2982240 [00:00<?, ?it/s]"
      ]
     },
     "metadata": {},
     "output_type": "display_data"
    },
    {
     "data": {
      "application/vnd.jupyter.widget-view+json": {
       "model_id": "bd4dad2a3a5245e2aa5b03e84c7b004f",
       "version_major": 2,
       "version_minor": 0
      },
      "text/plain": [
       "  0%|          | 0/2982240 [00:00<?, ?it/s]"
      ]
     },
     "metadata": {},
     "output_type": "display_data"
    },
    {
     "data": {
      "application/vnd.jupyter.widget-view+json": {
       "model_id": "3df5d3ac3ace4ea19e585ebeb37283a9",
       "version_major": 2,
       "version_minor": 0
      },
      "text/plain": [
       "  0%|          | 0/2982240 [00:00<?, ?it/s]"
      ]
     },
     "metadata": {},
     "output_type": "display_data"
    },
    {
     "data": {
      "application/vnd.jupyter.widget-view+json": {
       "model_id": "da4f070285744538aee86edfa42e8081",
       "version_major": 2,
       "version_minor": 0
      },
      "text/plain": [
       "  0%|          | 0/2982240 [00:00<?, ?it/s]"
      ]
     },
     "metadata": {},
     "output_type": "display_data"
    }
   ],
   "source": [
    "tqdm.pandas()\n",
    "\n",
    "# for all missing dates, just assume the school was always open. \n",
    "df_all['school_open_date'] = df_all['school_open_date'].progress_map(lambda x: date_fill(x, 'start'))\n",
    "df_all['school_closed_date'] = df_all['school_closed_date'].progress_map(lambda x: date_fill(x, 'end'))\n",
    "\n",
    "# convert to datetime format\n",
    "df_all['school_open_date'] = df_all['school_open_date'].progress_map(lambda x: datetime.strptime(x, '%m/%d/%Y'))\n",
    "df_all['school_closed_date'] = df_all['school_closed_date'].progress_map(lambda x: datetime.strptime(x, '%m/%d/%Y'))\n",
    "\n",
    "# do the same for the year_month field. But use this function in case there are NAs\n",
    "def strptime2(x):\n",
    "  try: \n",
    "    return datetime.strptime(x, '%Y-%m')\n",
    "  except:\n",
    "    return None\n",
    "\n",
    "df_all['year_month_date'] = df_all['year_month'].progress_map(strptime2)"
   ]
  },
  {
   "cell_type": "code",
   "execution_count": 9,
   "metadata": {},
   "outputs": [
    {
     "data": {
      "text/html": [
       "<div>\n",
       "<style scoped>\n",
       "    .dataframe tbody tr th:only-of-type {\n",
       "        vertical-align: middle;\n",
       "    }\n",
       "\n",
       "    .dataframe tbody tr th {\n",
       "        vertical-align: top;\n",
       "    }\n",
       "\n",
       "    .dataframe thead th {\n",
       "        text-align: right;\n",
       "    }\n",
       "</style>\n",
       "<table border=\"1\" class=\"dataframe\">\n",
       "  <thead>\n",
       "    <tr style=\"text-align: right;\">\n",
       "      <th></th>\n",
       "      <th>school_open_date</th>\n",
       "      <th>school_closed_date</th>\n",
       "      <th>year_month_date</th>\n",
       "    </tr>\n",
       "  </thead>\n",
       "  <tbody>\n",
       "    <tr>\n",
       "      <th>0</th>\n",
       "      <td>1990-01-01</td>\n",
       "      <td>2025-01-01</td>\n",
       "      <td>2000-01-01</td>\n",
       "    </tr>\n",
       "    <tr>\n",
       "      <th>1</th>\n",
       "      <td>1990-01-01</td>\n",
       "      <td>2025-01-01</td>\n",
       "      <td>2000-02-01</td>\n",
       "    </tr>\n",
       "    <tr>\n",
       "      <th>2</th>\n",
       "      <td>1990-01-01</td>\n",
       "      <td>2025-01-01</td>\n",
       "      <td>2000-03-01</td>\n",
       "    </tr>\n",
       "    <tr>\n",
       "      <th>3</th>\n",
       "      <td>1990-01-01</td>\n",
       "      <td>2025-01-01</td>\n",
       "      <td>2000-04-01</td>\n",
       "    </tr>\n",
       "    <tr>\n",
       "      <th>4</th>\n",
       "      <td>1990-01-01</td>\n",
       "      <td>2025-01-01</td>\n",
       "      <td>2000-05-01</td>\n",
       "    </tr>\n",
       "  </tbody>\n",
       "</table>\n",
       "</div>"
      ],
      "text/plain": [
       "  school_open_date school_closed_date year_month_date\n",
       "0       1990-01-01         2025-01-01      2000-01-01\n",
       "1       1990-01-01         2025-01-01      2000-02-01\n",
       "2       1990-01-01         2025-01-01      2000-03-01\n",
       "3       1990-01-01         2025-01-01      2000-04-01\n",
       "4       1990-01-01         2025-01-01      2000-05-01"
      ]
     },
     "execution_count": 9,
     "metadata": {},
     "output_type": "execute_result"
    }
   ],
   "source": [
    "# create indicator if school was open during this date\n",
    "df_all[['school_open_date', 'school_closed_date', 'year_month_date']].head(5)"
   ]
  },
  {
   "cell_type": "code",
   "execution_count": 10,
   "metadata": {},
   "outputs": [
    {
     "data": {
      "text/plain": [
       "school_open_date      datetime64[ns]\n",
       "school_closed_date    datetime64[ns]\n",
       "year_month_date       datetime64[ns]\n",
       "dtype: object"
      ]
     },
     "execution_count": 10,
     "metadata": {},
     "output_type": "execute_result"
    }
   ],
   "source": [
    "df_all[['school_open_date', 'school_closed_date', 'year_month_date']].dtypes"
   ]
  },
  {
   "cell_type": "code",
   "execution_count": 11,
   "metadata": {},
   "outputs": [
    {
     "data": {
      "application/vnd.jupyter.widget-view+json": {
       "model_id": "0cee3da960554f28ac5c18ce15cb9092",
       "version_major": 2,
       "version_minor": 0
      },
      "text/plain": [
       "  0%|          | 0/2982240 [00:00<?, ?it/s]"
      ]
     },
     "metadata": {},
     "output_type": "display_data"
    }
   ],
   "source": [
    "def is_school_open(start, end, current):\n",
    "  if (start <= current) and (end >= current):\n",
    "    return 1 \n",
    "  else: \n",
    "    return 0 \n",
    "\n",
    "df_all['is_school_open'] = df_all\\\n",
    "  .progress_apply(lambda df: is_school_open(df['school_open_date'], df['school_closed_date'], df['year_month_date']), axis=1)"
   ]
  },
  {
   "cell_type": "code",
   "execution_count": 13,
   "metadata": {},
   "outputs": [
    {
     "data": {
      "text/plain": [
       "1    2471552\n",
       "0     510688\n",
       "Name: is_school_open, dtype: int64"
      ]
     },
     "execution_count": 13,
     "metadata": {},
     "output_type": "execute_result"
    }
   ],
   "source": [
    "df_all['is_school_open'].value_counts()"
   ]
  },
  {
   "cell_type": "code",
   "execution_count": 16,
   "metadata": {},
   "outputs": [],
   "source": [
    "# filter out bad obs\n",
    "df_all = df_all[df_all['is_school_open'] != 0]"
   ]
  },
  {
   "cell_type": "code",
   "execution_count": null,
   "metadata": {},
   "outputs": [],
   "source": []
  }
 ],
 "metadata": {
  "kernelspec": {
   "display_name": "Python 3.9.1 64-bit ('miniconda3')",
   "language": "python",
   "name": "python3"
  },
  "language_info": {
   "codemirror_mode": {
    "name": "ipython",
    "version": 3
   },
   "file_extension": ".py",
   "mimetype": "text/x-python",
   "name": "python",
   "nbconvert_exporter": "python",
   "pygments_lexer": "ipython3",
   "version": "3.9.1"
  },
  "orig_nbformat": 4,
  "vscode": {
   "interpreter": {
    "hash": "b25cd5a5a3cd1ea9e93fd254f185f4731ffaa4421de0b98534600687fe3ed44f"
   }
  }
 },
 "nbformat": 4,
 "nbformat_minor": 2
}
