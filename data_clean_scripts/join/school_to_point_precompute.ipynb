{
 "cells": [
  {
   "cell_type": "code",
   "execution_count": 1,
   "id": "e37d0a68",
   "metadata": {},
   "outputs": [],
   "source": [
    "import findspark\n",
    "findspark.init()"
   ]
  },
  {
   "cell_type": "code",
   "execution_count": 18,
   "id": "2d3320ba",
   "metadata": {},
   "outputs": [],
   "source": [
    "import pyspark\n",
    "import pandas as pd \n",
    "import numpy as np\n",
    "import os \n",
    "import datetime\n",
    "from pyspark.sql import SparkSession\n",
    "from pyspark import SparkContext\n",
    "from pyspark.sql.types import *\n",
    "from pyspark.sql.window import Window\n",
    "from math import radians, cos, sin, asin, sqrt\n",
    "from pyspark.sql import functions as F\n",
    "from pyspark.sql.functions import col, row_number"
   ]
  },
  {
   "cell_type": "code",
   "execution_count": 3,
   "id": "c306549a",
   "metadata": {},
   "outputs": [],
   "source": [
    "spark = SparkSession.builder.master(\"local[*]\").config(\"spark.executor.memory\", \"48g\").config(\"spark.driver.memory\", \"48g\").config(\"spark.driver.maxResultSize\",\"0\").getOrCreate()"
   ]
  },
  {
   "cell_type": "code",
   "execution_count": 4,
   "id": "6b5525c9",
   "metadata": {},
   "outputs": [],
   "source": [
    "spark_df = spark.sql('''select 'spark' as hello ''')"
   ]
  },
  {
   "cell_type": "code",
   "execution_count": 5,
   "id": "4e696510",
   "metadata": {},
   "outputs": [
    {
     "name": "stdout",
     "output_type": "stream",
     "text": [
      "+-----+\n",
      "|hello|\n",
      "+-----+\n",
      "|spark|\n",
      "+-----+\n",
      "\n"
     ]
    }
   ],
   "source": [
    "spark_df.show()"
   ]
  },
  {
   "cell_type": "code",
   "execution_count": 4,
   "id": "b3287865",
   "metadata": {},
   "outputs": [],
   "source": [
    "gdrive_path = 'C:\\\\Users\\\\matts\\\\Google Drive\\\\berkeley\\\\.shortcut-targets-by-id\\\\11wLy1WKwOTcthBs1rpfEzkqax2BZG-6E\\\\W210_Capstone\\\\Data'"
   ]
  },
  {
   "cell_type": "code",
   "execution_count": 5,
   "id": "c322ecdf",
   "metadata": {},
   "outputs": [],
   "source": [
    "df_point_sources = spark.read.option(\"header\",True).csv(os.path.join(gdrive_path, 'Point source/pollution_point_sources.csv'))"
   ]
  },
  {
   "cell_type": "code",
   "execution_count": 6,
   "id": "0fb8ae71",
   "metadata": {},
   "outputs": [
    {
     "name": "stdout",
     "output_type": "stream",
     "text": [
      "+-----------+-----------+--------+-----------+------------------+\n",
      "|checked_lat|checked_lon|zip_code|report_year|PM25_emissions_TPY|\n",
      "+-----------+-----------+--------+-----------+------------------+\n",
      "|  33.811466| -117.91555| 92803.0|       2002|       1.787853962|\n",
      "|  34.088242|-117.470116| 92335.0|       2002|            1.7892|\n",
      "|  33.911602|-118.281799| 93420.0|       2002|       1.791299781|\n",
      "|  37.944618|-121.325859| 95203.0|       2002|       1.797499934|\n",
      "|  39.221817|-121.054955| 95945.0|       2002|1.8015400000000001|\n",
      "+-----------+-----------+--------+-----------+------------------+\n",
      "\n"
     ]
    }
   ],
   "source": [
    "df_point_sources.limit(5).show()"
   ]
  },
  {
   "cell_type": "code",
   "execution_count": 7,
   "id": "2fdc72f6",
   "metadata": {},
   "outputs": [],
   "source": [
    "school_locs = spark.read.option(\"header\",True).csv(os.path.join(gdrive_path, 'schools/filtered_joined_schools_data.csv'))"
   ]
  },
  {
   "cell_type": "code",
   "execution_count": 8,
   "id": "925440b4",
   "metadata": {},
   "outputs": [],
   "source": [
    "school_locs = school_locs.select(\"CDSCode\",\"Latitude\",\"Longitude\")"
   ]
  },
  {
   "cell_type": "code",
   "execution_count": 9,
   "id": "c0a6b596",
   "metadata": {},
   "outputs": [
    {
     "name": "stdout",
     "output_type": "stream",
     "text": [
      "+-------------+---------+----------+\n",
      "|      CDSCode| Latitude| Longitude|\n",
      "+-------------+---------+----------+\n",
      "|1100170000000|37.658212|-122.09713|\n",
      "|1100170109835|37.521436|-121.99391|\n",
      "|1100170112607|37.804520|-122.26815|\n",
      "|1100170118489|37.868991|-122.27844|\n",
      "|1100170123968|37.784648|-122.23863|\n",
      "+-------------+---------+----------+\n",
      "\n"
     ]
    }
   ],
   "source": [
    "school_locs.limit(5).show()"
   ]
  },
  {
   "cell_type": "code",
   "execution_count": 15,
   "id": "6ec84e5e",
   "metadata": {},
   "outputs": [],
   "source": [
    "def haversine(lat1, lon1, lat2, lon2):\n",
    "\n",
    "      R = 3959.87433\n",
    "\n",
    "      dLat = radians(lat2 - lat1)\n",
    "      dLon = radians(lon2 - lon1)\n",
    "      lat1 = radians(lat1)\n",
    "      lat2 = radians(lat2)\n",
    "\n",
    "      a = sin(dLat/2)**2 + cos(lat1)*cos(lat2)*sin(dLon/2)**2\n",
    "      c = 2*asin(sqrt(a))\n",
    "\n",
    "      return R * c"
   ]
  },
  {
   "cell_type": "code",
   "execution_count": 16,
   "id": "dc54336b",
   "metadata": {},
   "outputs": [],
   "source": [
    "udf_haversine = F.udf(haversine)"
   ]
  },
  {
   "cell_type": "code",
   "execution_count": 11,
   "id": "61471196",
   "metadata": {},
   "outputs": [],
   "source": [
    "schools_pointsources = school_locs.crossJoin(df_point_sources)\n",
    "\n",
    "#school_locs.count()\n",
    "#df_point_sources.count()\n",
    "#schools_pointsources.count()"
   ]
  },
  {
   "cell_type": "code",
   "execution_count": 12,
   "id": "8e055f5f",
   "metadata": {},
   "outputs": [
    {
     "name": "stdout",
     "output_type": "stream",
     "text": [
      "+-------------+---------+----------+-----------+-----------+--------+-----------+------------------+\n",
      "|      CDSCode| Latitude| Longitude|checked_lat|checked_lon|zip_code|report_year|PM25_emissions_TPY|\n",
      "+-------------+---------+----------+-----------+-----------+--------+-----------+------------------+\n",
      "|1100170000000|37.658212|-122.09713|  33.811466| -117.91555| 92803.0|       2002|       1.787853962|\n",
      "|1100170000000|37.658212|-122.09713|  34.088242|-117.470116| 92335.0|       2002|            1.7892|\n",
      "|1100170000000|37.658212|-122.09713|  33.911602|-118.281799| 93420.0|       2002|       1.791299781|\n",
      "|1100170000000|37.658212|-122.09713|  37.944618|-121.325859| 95203.0|       2002|       1.797499934|\n",
      "|1100170000000|37.658212|-122.09713|  39.221817|-121.054955| 95945.0|       2002|1.8015400000000001|\n",
      "+-------------+---------+----------+-----------+-----------+--------+-----------+------------------+\n",
      "\n"
     ]
    }
   ],
   "source": [
    "schools_pointsources.limit(5).show()"
   ]
  },
  {
   "cell_type": "code",
   "execution_count": 13,
   "id": "a67a7256",
   "metadata": {},
   "outputs": [],
   "source": [
    "schools_pointsources = schools_pointsources.withColumn(\"Latitude\",schools_pointsources.Latitude.cast('double'))\n",
    "schools_pointsources = schools_pointsources.withColumn(\"Longitude\",schools_pointsources.Longitude.cast('double'))\n",
    "schools_pointsources = schools_pointsources.withColumn(\"checked_lat\",schools_pointsources.checked_lat.cast('double'))\n",
    "schools_pointsources = schools_pointsources.withColumn(\"checked_lon\",schools_pointsources.checked_lon.cast('double'))"
   ]
  },
  {
   "cell_type": "code",
   "execution_count": 17,
   "id": "e2d50788",
   "metadata": {},
   "outputs": [],
   "source": [
    "schools_pointsources = schools_pointsources.withColumn(\"distance_miles\", udf_haversine(schools_pointsources.Latitude,schools_pointsources.Longitude,schools_pointsources.checked_lat,schools_pointsources.checked_lon).cast(DoubleType()))"
   ]
  },
  {
   "cell_type": "code",
   "execution_count": null,
   "id": "8d4675f0",
   "metadata": {},
   "outputs": [],
   "source": [
    "schools_pointsources.cache()"
   ]
  },
  {
   "cell_type": "code",
   "execution_count": 21,
   "id": "10213ac1",
   "metadata": {},
   "outputs": [],
   "source": [
    "school_window = Window.partitionBy(\"CDSCode\").orderBy(col(\"distance_miles\").asc())\n",
    "\n",
    "each_school_min = schools_pointsources.withColumn(\"row\",row_number().over(school_window)).filter(col(\"row\") == 1).drop(\"row\")"
   ]
  },
  {
   "cell_type": "code",
   "execution_count": 19,
   "id": "c45330f1",
   "metadata": {},
   "outputs": [],
   "source": [
    "schools_pointsources.write.parquet('C:\\\\Users\\\\matts\\\\Documents\\\\Berkeley MIDS\\\\DataSci 210 Capstone\\\\all_schools_to_point_source_distances')"
   ]
  },
  {
   "cell_type": "code",
   "execution_count": 20,
   "id": "620aa315",
   "metadata": {},
   "outputs": [],
   "source": [
    "each_school_min = schools_pointsources.groupBy(\"CDSCode\").min(\"distance_miles\")"
   ]
  },
  {
   "cell_type": "code",
   "execution_count": 22,
   "id": "afa22ba0",
   "metadata": {},
   "outputs": [],
   "source": [
    "eachschoolmin_pd = each_school_min.toPandas()"
   ]
  },
  {
   "cell_type": "code",
   "execution_count": 23,
   "id": "b09cfb38",
   "metadata": {},
   "outputs": [
    {
     "data": {
      "text/html": [
       "<div>\n",
       "<style scoped>\n",
       "    .dataframe tbody tr th:only-of-type {\n",
       "        vertical-align: middle;\n",
       "    }\n",
       "\n",
       "    .dataframe tbody tr th {\n",
       "        vertical-align: top;\n",
       "    }\n",
       "\n",
       "    .dataframe thead th {\n",
       "        text-align: right;\n",
       "    }\n",
       "</style>\n",
       "<table border=\"1\" class=\"dataframe\">\n",
       "  <thead>\n",
       "    <tr style=\"text-align: right;\">\n",
       "      <th></th>\n",
       "      <th>CDSCode</th>\n",
       "      <th>Latitude</th>\n",
       "      <th>Longitude</th>\n",
       "      <th>checked_lat</th>\n",
       "      <th>checked_lon</th>\n",
       "      <th>zip_code</th>\n",
       "      <th>report_year</th>\n",
       "      <th>PM25_emissions_TPY</th>\n",
       "      <th>distance_miles</th>\n",
       "    </tr>\n",
       "  </thead>\n",
       "  <tbody>\n",
       "    <tr>\n",
       "      <th>0</th>\n",
       "      <td>10101080119628</td>\n",
       "      <td>36.730149</td>\n",
       "      <td>-119.80866</td>\n",
       "      <td>36.728039</td>\n",
       "      <td>-119.792295</td>\n",
       "      <td>93706.0</td>\n",
       "      <td>2005</td>\n",
       "      <td>7.672591507</td>\n",
       "      <td>0.918145</td>\n",
       "    </tr>\n",
       "    <tr>\n",
       "      <th>1</th>\n",
       "      <td>10621176116313</td>\n",
       "      <td>36.816708</td>\n",
       "      <td>-119.67297</td>\n",
       "      <td>36.830643</td>\n",
       "      <td>-119.684105</td>\n",
       "      <td>93612.0</td>\n",
       "      <td>2002</td>\n",
       "      <td>2.3047826099999997</td>\n",
       "      <td>1.143254</td>\n",
       "    </tr>\n",
       "    <tr>\n",
       "      <th>2</th>\n",
       "      <td>10621660140038</td>\n",
       "      <td>36.808119</td>\n",
       "      <td>-119.80753</td>\n",
       "      <td>36.841000</td>\n",
       "      <td>-119.790300</td>\n",
       "      <td>93721.0</td>\n",
       "      <td>2008</td>\n",
       "      <td>1.5648188</td>\n",
       "      <td>2.464320</td>\n",
       "    </tr>\n",
       "    <tr>\n",
       "      <th>3</th>\n",
       "      <td>10767780122473</td>\n",
       "      <td>36.650368</td>\n",
       "      <td>-119.79540</td>\n",
       "      <td>36.677660</td>\n",
       "      <td>-119.752690</td>\n",
       "      <td>93725.0</td>\n",
       "      <td>2008</td>\n",
       "      <td>1.5408536</td>\n",
       "      <td>3.027262</td>\n",
       "    </tr>\n",
       "    <tr>\n",
       "      <th>4</th>\n",
       "      <td>11101161130103</td>\n",
       "      <td>39.749587</td>\n",
       "      <td>-122.19749</td>\n",
       "      <td>39.750229</td>\n",
       "      <td>-122.190392</td>\n",
       "      <td>95951.0</td>\n",
       "      <td>2002</td>\n",
       "      <td>16.382483357</td>\n",
       "      <td>0.379767</td>\n",
       "    </tr>\n",
       "    <tr>\n",
       "      <th>...</th>\n",
       "      <td>...</td>\n",
       "      <td>...</td>\n",
       "      <td>...</td>\n",
       "      <td>...</td>\n",
       "      <td>...</td>\n",
       "      <td>...</td>\n",
       "      <td>...</td>\n",
       "      <td>...</td>\n",
       "      <td>...</td>\n",
       "    </tr>\n",
       "    <tr>\n",
       "      <th>13292</th>\n",
       "      <td>56725386055289</td>\n",
       "      <td>34.182719</td>\n",
       "      <td>-119.17214</td>\n",
       "      <td>34.189600</td>\n",
       "      <td>-119.166020</td>\n",
       "      <td>93030.0</td>\n",
       "      <td>2008</td>\n",
       "      <td>1.5376</td>\n",
       "      <td>0.590410</td>\n",
       "    </tr>\n",
       "    <tr>\n",
       "      <th>13293</th>\n",
       "      <td>56725460120634</td>\n",
       "      <td>34.208023</td>\n",
       "      <td>-119.07623</td>\n",
       "      <td>34.213760</td>\n",
       "      <td>-119.094330</td>\n",
       "      <td>0.0</td>\n",
       "      <td>2014</td>\n",
       "      <td>4.2757449838</td>\n",
       "      <td>1.107879</td>\n",
       "    </tr>\n",
       "    <tr>\n",
       "      <th>13294</th>\n",
       "      <td>57727106096671</td>\n",
       "      <td>38.658609</td>\n",
       "      <td>-121.79355</td>\n",
       "      <td>38.670731</td>\n",
       "      <td>-121.812576</td>\n",
       "      <td>95695.0</td>\n",
       "      <td>2002</td>\n",
       "      <td>17.408783137</td>\n",
       "      <td>1.325161</td>\n",
       "    </tr>\n",
       "    <tr>\n",
       "      <th>13295</th>\n",
       "      <td>7617476003925</td>\n",
       "      <td>37.826924</td>\n",
       "      <td>-122.13063</td>\n",
       "      <td>37.797170</td>\n",
       "      <td>-122.229880</td>\n",
       "      <td>94602.0</td>\n",
       "      <td>2011</td>\n",
       "      <td>1.2367289499999998</td>\n",
       "      <td>5.796192</td>\n",
       "    </tr>\n",
       "    <tr>\n",
       "      <th>13296</th>\n",
       "      <td>9618530930214</td>\n",
       "      <td>38.681781</td>\n",
       "      <td>-120.83825</td>\n",
       "      <td>38.724220</td>\n",
       "      <td>-120.753330</td>\n",
       "      <td>0.0</td>\n",
       "      <td>2011</td>\n",
       "      <td>3.2006984000000003</td>\n",
       "      <td>5.438861</td>\n",
       "    </tr>\n",
       "  </tbody>\n",
       "</table>\n",
       "<p>13297 rows × 9 columns</p>\n",
       "</div>"
      ],
      "text/plain": [
       "              CDSCode   Latitude  Longitude  checked_lat  checked_lon  \\\n",
       "0      10101080119628  36.730149 -119.80866    36.728039  -119.792295   \n",
       "1      10621176116313  36.816708 -119.67297    36.830643  -119.684105   \n",
       "2      10621660140038  36.808119 -119.80753    36.841000  -119.790300   \n",
       "3      10767780122473  36.650368 -119.79540    36.677660  -119.752690   \n",
       "4      11101161130103  39.749587 -122.19749    39.750229  -122.190392   \n",
       "...               ...        ...        ...          ...          ...   \n",
       "13292  56725386055289  34.182719 -119.17214    34.189600  -119.166020   \n",
       "13293  56725460120634  34.208023 -119.07623    34.213760  -119.094330   \n",
       "13294  57727106096671  38.658609 -121.79355    38.670731  -121.812576   \n",
       "13295   7617476003925  37.826924 -122.13063    37.797170  -122.229880   \n",
       "13296   9618530930214  38.681781 -120.83825    38.724220  -120.753330   \n",
       "\n",
       "      zip_code report_year  PM25_emissions_TPY  distance_miles  \n",
       "0      93706.0        2005         7.672591507        0.918145  \n",
       "1      93612.0        2002  2.3047826099999997        1.143254  \n",
       "2      93721.0        2008           1.5648188        2.464320  \n",
       "3      93725.0        2008           1.5408536        3.027262  \n",
       "4      95951.0        2002        16.382483357        0.379767  \n",
       "...        ...         ...                 ...             ...  \n",
       "13292  93030.0        2008              1.5376        0.590410  \n",
       "13293      0.0        2014        4.2757449838        1.107879  \n",
       "13294  95695.0        2002        17.408783137        1.325161  \n",
       "13295  94602.0        2011  1.2367289499999998        5.796192  \n",
       "13296      0.0        2011  3.2006984000000003        5.438861  \n",
       "\n",
       "[13297 rows x 9 columns]"
      ]
     },
     "metadata": {},
     "output_type": "display_data"
    }
   ],
   "source": [
    "display(eachschoolmin_pd)"
   ]
  },
  {
   "cell_type": "code",
   "execution_count": 24,
   "id": "6a568e1d",
   "metadata": {},
   "outputs": [],
   "source": [
    "eachschoolmin_pd.to_csv('C:\\\\Users\\\\matts\\\\Google Drive\\\\berkeley\\\\.shortcut-targets-by-id\\\\11wLy1WKwOTcthBs1rpfEzkqax2BZG-6E\\\\W210_Capstone\\\\Data\\\\schools\\\\school_to_point_lookup.csv')"
   ]
  },
  {
   "cell_type": "code",
   "execution_count": 25,
   "id": "52c2b43b",
   "metadata": {},
   "outputs": [],
   "source": [
    "school_distance_to_point_source_max = 5"
   ]
  },
  {
   "cell_type": "code",
   "execution_count": 26,
   "id": "a99a5c50",
   "metadata": {},
   "outputs": [],
   "source": [
    "point_sources_within_5miles_schools = schools_pointsources.filter(schools_pointsources.distance_miles < school_distance_to_point_source_max)"
   ]
  },
  {
   "cell_type": "code",
   "execution_count": 27,
   "id": "34634719",
   "metadata": {},
   "outputs": [],
   "source": [
    "count_point_sources_within_5miles_schools = point_sources_within_5miles_schools.groupBy(\"CDSCode\").count()"
   ]
  },
  {
   "cell_type": "code",
   "execution_count": 28,
   "id": "764f1032",
   "metadata": {},
   "outputs": [],
   "source": [
    "school_5miles_pointsource = count_point_sources_within_5miles_schools.toPandas()"
   ]
  },
  {
   "cell_type": "code",
   "execution_count": 29,
   "id": "2040d242",
   "metadata": {},
   "outputs": [],
   "source": [
    "school_5miles_pointsource.to_csv('C:\\\\Users\\\\matts\\\\Google Drive\\\\berkeley\\\\.shortcut-targets-by-id\\\\11wLy1WKwOTcthBs1rpfEzkqax2BZG-6E\\\\W210_Capstone\\\\Data\\\\schools\\\\pointsources_within_5miles_by_school.csv')"
   ]
  }
 ],
 "metadata": {
  "kernelspec": {
   "display_name": "Python 3",
   "language": "python",
   "name": "python3"
  },
  "language_info": {
   "codemirror_mode": {
    "name": "ipython",
    "version": 3
   },
   "file_extension": ".py",
   "mimetype": "text/x-python",
   "name": "python",
   "nbconvert_exporter": "python",
   "pygments_lexer": "ipython3",
   "version": "3.8.13"
  }
 },
 "nbformat": 4,
 "nbformat_minor": 5
}
