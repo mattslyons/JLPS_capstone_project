{
 "cells": [
  {
   "cell_type": "code",
   "execution_count": 1,
   "id": "e37d0a68",
   "metadata": {},
   "outputs": [],
   "source": [
    "import findspark\n",
    "findspark.init()"
   ]
  },
  {
   "cell_type": "code",
   "execution_count": 2,
   "id": "2d3320ba",
   "metadata": {},
   "outputs": [],
   "source": [
    "import pyspark\n",
    "import pandas as pd \n",
    "import numpy as np\n",
    "import os \n",
    "import datetime\n",
    "from pyspark.sql import SparkSession\n",
    "from pyspark import SparkContext\n",
    "from pyspark.sql.types import *\n",
    "from math import radians, cos, sin, asin, sqrt\n",
    "from pyspark.sql import functions as F"
   ]
  },
  {
   "cell_type": "code",
   "execution_count": 3,
   "id": "c306549a",
   "metadata": {},
   "outputs": [],
   "source": [
    "spark = SparkSession.builder.master(\"local[*]\").config(\"spark.executor.memory\", \"48g\").config(\"spark.driver.memory\", \"48g\").config(\"spark.driver.maxResultSize\",\"0\").getOrCreate()"
   ]
  },
  {
   "cell_type": "code",
   "execution_count": 4,
   "id": "6b5525c9",
   "metadata": {},
   "outputs": [],
   "source": [
    "spark_df = spark.sql('''select 'spark' as hello ''')"
   ]
  },
  {
   "cell_type": "code",
   "execution_count": 5,
   "id": "4e696510",
   "metadata": {},
   "outputs": [
    {
     "name": "stdout",
     "output_type": "stream",
     "text": [
      "+-----+\n",
      "|hello|\n",
      "+-----+\n",
      "|spark|\n",
      "+-----+\n",
      "\n"
     ]
    }
   ],
   "source": [
    "spark_df.show()"
   ]
  },
  {
   "cell_type": "code",
   "execution_count": 4,
   "id": "b3287865",
   "metadata": {},
   "outputs": [],
   "source": [
    "gdrive_path = 'C:\\\\Users\\\\matts\\\\Google Drive\\\\berkeley\\\\.shortcut-targets-by-id\\\\11wLy1WKwOTcthBs1rpfEzkqax2BZG-6E\\\\W210_Capstone\\\\Data'"
   ]
  },
  {
   "cell_type": "code",
   "execution_count": 5,
   "id": "c322ecdf",
   "metadata": {},
   "outputs": [],
   "source": [
    "df_point_sources = spark.read.option(\"header\",True).csv(os.path.join(gdrive_path, 'Point source/pollution_point_sources.csv'))"
   ]
  },
  {
   "cell_type": "code",
   "execution_count": 6,
   "id": "0fb8ae71",
   "metadata": {},
   "outputs": [
    {
     "name": "stdout",
     "output_type": "stream",
     "text": [
      "+-----------+-----------+--------+-----------+------------------+\n",
      "|checked_lat|checked_lon|zip_code|report_year|PM25_emissions_TPY|\n",
      "+-----------+-----------+--------+-----------+------------------+\n",
      "|  33.811466| -117.91555| 92803.0|       2002|       1.787853962|\n",
      "|  34.088242|-117.470116| 92335.0|       2002|            1.7892|\n",
      "|  33.911602|-118.281799| 93420.0|       2002|       1.791299781|\n",
      "|  37.944618|-121.325859| 95203.0|       2002|       1.797499934|\n",
      "|  39.221817|-121.054955| 95945.0|       2002|1.8015400000000001|\n",
      "+-----------+-----------+--------+-----------+------------------+\n",
      "\n"
     ]
    }
   ],
   "source": [
    "df_point_sources.limit(5).show()"
   ]
  },
  {
   "cell_type": "code",
   "execution_count": 7,
   "id": "2fdc72f6",
   "metadata": {},
   "outputs": [],
   "source": [
    "school_locs = spark.read.option(\"header\",True).csv(os.path.join(gdrive_path, 'schools/filtered_joined_schools_data.csv'))"
   ]
  },
  {
   "cell_type": "code",
   "execution_count": 8,
   "id": "925440b4",
   "metadata": {},
   "outputs": [],
   "source": [
    "school_locs = school_locs.select(\"CDSCode\",\"Latitude\",\"Longitude\")"
   ]
  },
  {
   "cell_type": "code",
   "execution_count": 9,
   "id": "c0a6b596",
   "metadata": {},
   "outputs": [
    {
     "name": "stdout",
     "output_type": "stream",
     "text": [
      "+-------------+---------+----------+\n",
      "|      CDSCode| Latitude| Longitude|\n",
      "+-------------+---------+----------+\n",
      "|1100170000000|37.658212|-122.09713|\n",
      "|1100170109835|37.521436|-121.99391|\n",
      "|1100170112607|37.804520|-122.26815|\n",
      "|1100170118489|37.868991|-122.27844|\n",
      "|1100170123968|37.784648|-122.23863|\n",
      "+-------------+---------+----------+\n",
      "\n"
     ]
    }
   ],
   "source": [
    "school_locs.limit(5).show()"
   ]
  },
  {
   "cell_type": "code",
   "execution_count": 10,
   "id": "6ec84e5e",
   "metadata": {},
   "outputs": [],
   "source": [
    "def haversine(lat1, lon1, lat2, lon2):\n",
    "\n",
    "      R = 3959.87433\n",
    "\n",
    "      dLat = radians(lat2 - lat1)\n",
    "      dLon = radians(lon2 - lon1)\n",
    "      lat1 = radians(lat1)\n",
    "      lat2 = radians(lat2)\n",
    "\n",
    "      a = sin(dLat/2)**2 + cos(lat1)*cos(lat2)*sin(dLon/2)**2\n",
    "      c = 2*asin(sqrt(a))\n",
    "\n",
    "      return R * c"
   ]
  },
  {
   "cell_type": "code",
   "execution_count": 11,
   "id": "dc54336b",
   "metadata": {},
   "outputs": [],
   "source": [
    "udf_haversine = F.udf(haversine)"
   ]
  },
  {
   "cell_type": "code",
   "execution_count": 15,
   "id": "61471196",
   "metadata": {},
   "outputs": [
    {
     "data": {
      "text/plain": [
       "95140035"
      ]
     },
     "execution_count": 15,
     "metadata": {},
     "output_type": "execute_result"
    }
   ],
   "source": [
    "schools_pointsources = school_locs.crossJoin(df_point_sources)\n",
    "\n",
    "#school_locs.count()\n",
    "#df_point_sources.count()\n",
    "schools_pointsources.count()"
   ]
  },
  {
   "cell_type": "code",
   "execution_count": 16,
   "id": "8e055f5f",
   "metadata": {},
   "outputs": [
    {
     "name": "stdout",
     "output_type": "stream",
     "text": [
      "+-------------+---------+----------+-----------+-----------+--------+-----------+------------------+\n",
      "|      CDSCode| Latitude| Longitude|checked_lat|checked_lon|zip_code|report_year|PM25_emissions_TPY|\n",
      "+-------------+---------+----------+-----------+-----------+--------+-----------+------------------+\n",
      "|1100170000000|37.658212|-122.09713|  33.811466| -117.91555| 92803.0|       2002|       1.787853962|\n",
      "|1100170000000|37.658212|-122.09713|  34.088242|-117.470116| 92335.0|       2002|            1.7892|\n",
      "|1100170000000|37.658212|-122.09713|  33.911602|-118.281799| 93420.0|       2002|       1.791299781|\n",
      "|1100170000000|37.658212|-122.09713|  37.944618|-121.325859| 95203.0|       2002|       1.797499934|\n",
      "|1100170000000|37.658212|-122.09713|  39.221817|-121.054955| 95945.0|       2002|1.8015400000000001|\n",
      "+-------------+---------+----------+-----------+-----------+--------+-----------+------------------+\n",
      "\n"
     ]
    }
   ],
   "source": [
    "schools_pointsources.limit(5).show()"
   ]
  },
  {
   "cell_type": "code",
   "execution_count": 17,
   "id": "a67a7256",
   "metadata": {},
   "outputs": [],
   "source": [
    "schools_pointsources = schools_pointsources.withColumn(\"Latitude\",schools_pointsources.Latitude.cast('double'))\n",
    "schools_pointsources = schools_pointsources.withColumn(\"Longitude\",schools_pointsources.Longitude.cast('double'))\n",
    "schools_pointsources = schools_pointsources.withColumn(\"checked_lat\",schools_pointsources.checked_lat.cast('double'))\n",
    "schools_pointsources = schools_pointsources.withColumn(\"checked_lon\",schools_pointsources.checked_lon.cast('double'))"
   ]
  },
  {
   "cell_type": "code",
   "execution_count": 18,
   "id": "e2d50788",
   "metadata": {},
   "outputs": [],
   "source": [
    "schools_pointsources = schools_pointsources.withColumn(\"distance_miles\", udf_haversine(schools_pointsources.Latitude,schools_pointsources.Longitude,schools_pointsources.checked_lat,schools_pointsources.checked_lon).cast(DoubleType()))"
   ]
  },
  {
   "cell_type": "code",
   "execution_count": 19,
   "id": "c45330f1",
   "metadata": {},
   "outputs": [],
   "source": [
    "schools_pointsources.write.parquet('C:\\\\Users\\\\matts\\\\Documents\\\\Berkeley MIDS\\\\DataSci 210 Capstone\\\\all_schools_to_point_source_distances')"
   ]
  },
  {
   "cell_type": "code",
   "execution_count": 20,
   "id": "620aa315",
   "metadata": {},
   "outputs": [],
   "source": [
    "each_school_min = schools_pointsources.groupBy(\"CDSCode\").min(\"distance_miles\")"
   ]
  },
  {
   "cell_type": "code",
   "execution_count": 22,
   "id": "afa22ba0",
   "metadata": {},
   "outputs": [],
   "source": [
    "eachschoolmin_pd = each_school_min.toPandas()"
   ]
  },
  {
   "cell_type": "code",
   "execution_count": 23,
   "id": "6a568e1d",
   "metadata": {},
   "outputs": [],
   "source": [
    "eachschoolmin_pd.to_csv('C:\\\\Users\\\\matts\\\\Google Drive\\\\berkeley\\\\.shortcut-targets-by-id\\\\11wLy1WKwOTcthBs1rpfEzkqax2BZG-6E\\\\W210_Capstone\\\\Data\\\\schools\\\\school_to_point_lookup.csv')"
   ]
  },
  {
   "cell_type": "code",
   "execution_count": 25,
   "id": "52c2b43b",
   "metadata": {},
   "outputs": [],
   "source": [
    "school_distance_to_point_source_max = 5"
   ]
  },
  {
   "cell_type": "code",
   "execution_count": 26,
   "id": "a99a5c50",
   "metadata": {},
   "outputs": [],
   "source": [
    "point_sources_within_5miles_schools = schools_pointsources.filter(schools_pointsources.distance_miles < school_distance_to_point_source_max)"
   ]
  },
  {
   "cell_type": "code",
   "execution_count": 27,
   "id": "34634719",
   "metadata": {},
   "outputs": [],
   "source": [
    "count_point_sources_within_5miles_schools = point_sources_within_5miles_schools.groupBy(\"CDSCode\").count()"
   ]
  },
  {
   "cell_type": "code",
   "execution_count": 28,
   "id": "764f1032",
   "metadata": {},
   "outputs": [],
   "source": [
    "school_5miles_pointsource = count_point_sources_within_5miles_schools.toPandas()"
   ]
  },
  {
   "cell_type": "code",
   "execution_count": 29,
   "id": "2040d242",
   "metadata": {},
   "outputs": [],
   "source": [
    "school_5miles_pointsource.to_csv('C:\\\\Users\\\\matts\\\\Google Drive\\\\berkeley\\\\.shortcut-targets-by-id\\\\11wLy1WKwOTcthBs1rpfEzkqax2BZG-6E\\\\W210_Capstone\\\\Data\\\\schools\\\\pointsources_within_5miles_by_school.csv')"
   ]
  }
 ],
 "metadata": {
  "kernelspec": {
   "display_name": "Python 3",
   "language": "python",
   "name": "python3"
  },
  "language_info": {
   "codemirror_mode": {
    "name": "ipython",
    "version": 3
   },
   "file_extension": ".py",
   "mimetype": "text/x-python",
   "name": "python",
   "nbconvert_exporter": "python",
   "pygments_lexer": "ipython3",
   "version": "3.8.13"
  }
 },
 "nbformat": 4,
 "nbformat_minor": 5
}
