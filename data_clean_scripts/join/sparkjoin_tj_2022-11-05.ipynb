{
 "cells": [
  {
   "cell_type": "markdown",
   "metadata": {},
   "source": [
    "# About\n",
    "\n",
    "Join 2022-11-05\n",
    "- This time, get the three nearest pollution sources per school. \n",
    "\n",
    "Pretty much do everything in pandas until the very end, do the cross join etc. in spark to make it parallelized."
   ]
  },
  {
   "cell_type": "code",
   "execution_count": 2,
   "metadata": {},
   "outputs": [],
   "source": [
    "import pandas as pd \n",
    "import numpy as np\n",
    "import os \n",
    "import datetime\n",
    "from tqdm.notebook import tqdm\n",
    "\n",
    "import matplotlib.pyplot as plt\n",
    "from matplotlib.dates import DateFormatter\n",
    "import matplotlib.ticker as mticker\n",
    "import plotly.express as px\n",
    "\n",
    "# spark\n",
    "from pyspark.sql import SparkSession\n",
    "from pyspark.sql import types, functions as F, Window\n",
    "\n",
    "pd.set_option('display.max_columns', None)\n",
    "pd.options.mode.chained_assignment = None"
   ]
  },
  {
   "cell_type": "code",
   "execution_count": 3,
   "metadata": {},
   "outputs": [],
   "source": [
    "# local or gdrive\n",
    "path_source = 'work'\n",
    "\n",
    "if path_source == 'gdrive':\n",
    "  from google.colab import drive\n",
    "  drive.mount('/content/gdrive')\n",
    "  data_path = '/content/gdrive/MyDrive/Classes/W210_capstone/W210_Capstone/Data'\n",
    "  \n",
    "elif path_source == 'local':\n",
    "  data_path = '/Users/tj/trevorj@berkeley.edu - Google Drive/My Drive/Classes/W210_capstone/W210_Capstone/Data'\n",
    "\n",
    "elif path_source == 'work':\n",
    "  data_path = '/Users/trevorjohnson/trevorj@berkeley.edu - Google Drive/My Drive/Classes/W210_capstone/W210_Capstone/Data'"
   ]
  },
  {
   "cell_type": "code",
   "execution_count": 4,
   "metadata": {},
   "outputs": [],
   "source": [
    "df_census = pd.read_csv(os.path.join(data_path, 'census/census_bureau_clean/census_bureau.csv'))\n",
    "df_wind = pd.read_parquet(os.path.join(data_path, 'wind'))\n",
    "df_pollution = pd.read_csv(os.path.join(data_path, 'AirPollution/UW_pm25_zip_monthly_anand_2000-2018-v2.csv'))\n",
    "df_point_sources = pd.read_csv(os.path.join(data_path, 'Point source/pollution_point_sources.csv'))\n",
    "# df_schools = pd.read_csv(os.path.join(data_path, 'schools/filtered_joined_schools_data.csv'))\n",
    "\n",
    "file_encoding = 'utf8'\n",
    "with open(os.path.join(data_path, 'schools/filtered_joined_schools_data.csv'), encoding=file_encoding, errors = 'backslashreplace') as my_csv:\n",
    "  df_schools = pd.read_csv(my_csv, low_memory=False)"
   ]
  },
  {
   "cell_type": "code",
   "execution_count": 5,
   "metadata": {},
   "outputs": [],
   "source": [
    "# clean schools \n",
    "df_schools.columns = [i.lower() for i in df_schools.columns]\n",
    "# only select necessary fields\n",
    "df_schools = df_schools[['cdscode', 'statustype', 'county', 'street', 'zip_first_five', 'opendate', 'closeddate', 'eilname', 'gsoffered', \n",
    "  'latitude', 'longitude', 'lastupdate']]\\\n",
    "  .rename(columns={\n",
    "    'statustype': 'school_active_status', 'county': 'school_county', 'street': 'school_street', \n",
    "    'zip_first_five': 'school_zip', 'opendate': 'school_open_date', 'closeddate': 'school_closed_date', \n",
    "    'eilname': 'school_type', 'gsoffered': 'school_grades_offered', 'latitude': 'school_lat', 'longitude': 'school_lon', \n",
    "    'lastupdate': 'school_last_updated_date'})\n",
    "\n",
    "# clean wind\n",
    "df_wind = df_wind.rename(columns={'lat': 'wind_lat', 'lon': 'wind_lon'})\n",
    "df_wind['year_month'] = df_wind['year_month'].astype(str).map(lambda x: x[:4] + '-' + x[-2:])\n",
    "df_wind['year'] = df_wind['year_month'].map(lambda x: int(x[:4]))\n",
    "df_wind['ZCTA10'] = df_wind['ZCTA10'].astype(int)\n",
    "df_wind = df_wind[(df_wind['year'] >= 2000) & (df_wind['year'] <= 2019)]\n",
    "\n",
    "# clean pollution\n",
    "df_pollution = df_pollution.drop(columns=['Unnamed: 0', 'GEOID10', 'year_month_zip'])\n",
    "\n",
    "# clean pollution point sources\n",
    "df_point_sources = df_point_sources.rename(columns={'zip_code': 'point_source_zip'})\n",
    "df_point_sources['point_source_zip'] = df_point_sources['point_source_zip'].astype(int)\n",
    "# create an ID field for easier lookups\n",
    "df_point_sources['point_source_id'] = [i for i in range(df_point_sources.shape[0])]"
   ]
  },
  {
   "cell_type": "code",
   "execution_count": 6,
   "metadata": {},
   "outputs": [],
   "source": [
    "df_all = pd.merge(df_schools, df_wind, left_on = 'school_zip', right_on='ZCTA10', how='left')\\\n",
    "  .merge(df_census, left_on = ['school_zip', 'year'], right_on=['zip', 'year'], how='left')\\\n",
    "  .merge(df_pollution, left_on=['school_zip', 'year_month'], right_on=['ZIP10', 'year_month'], how='left')"
   ]
  },
  {
   "cell_type": "code",
   "execution_count": 7,
   "metadata": {},
   "outputs": [
    {
     "name": "stdout",
     "output_type": "stream",
     "text": [
      "There are 240 year month combos\n",
      "So most schools are repeated 240 times, for the schools that dont have a zip code in the wind data, there are no obs\n"
     ]
    },
    {
     "data": {
      "text/plain": [
       "cdscode\n",
       "240    12426\n",
       "1        871\n",
       "dtype: int64"
      ]
     },
     "execution_count": 7,
     "metadata": {},
     "output_type": "execute_result"
    }
   ],
   "source": [
    "# QA Checks\n",
    "# each school is repeated for every year-month combo. But some schools dont have wind/population data where we dont have that zip code in those datasets. \n",
    "yr_mo = df_wind[['year_month']].drop_duplicates().shape[0]\n",
    "print(f'There are {yr_mo} year month combos')\n",
    "print('So most schools are repeated 240 times, for the schools that dont have a zip code in the wind data, there are no obs')\n",
    "df_all['cdscode'].value_counts().to_frame().value_counts('cdscode')"
   ]
  },
  {
   "cell_type": "markdown",
   "metadata": {},
   "source": [
    "## Lat/Lon Join\n",
    "\n",
    "Join the above dataset to pull the nearest pollution source by year. \n",
    "\n",
    "Do so by creating a school <--> source mapping by year"
   ]
  },
  {
   "cell_type": "code",
   "execution_count": 8,
   "metadata": {},
   "outputs": [],
   "source": [
    "# here is the year mapping since we dont have all years available in the pollution sources. \n",
    "# thus, we have to interpolate for the missing years\n",
    "year_mapping = {\n",
    "  2000: 2002, \n",
    "  2001: 2002, \n",
    "  2002: 2002,\n",
    "  2003: 2005,\n",
    "  2004: 2005,\n",
    "  2005: 2005,\n",
    "  2006: 2008,\n",
    "  2007: 2008,\n",
    "  2008: 2008,\n",
    "  2009: 2011,\n",
    "  2010: 2011,\n",
    "  2011: 2011,\n",
    "  2012: 2014,\n",
    "  2013: 2014,\n",
    "  2014: 2014,\n",
    "  2015: 2017,\n",
    "  2016: 2017,\n",
    "  2017: 2017,\n",
    "  2018: 2017,\n",
    "  2019: 2017\n",
    "}"
   ]
  },
  {
   "cell_type": "code",
   "execution_count": 9,
   "metadata": {},
   "outputs": [
    {
     "name": "stderr",
     "output_type": "stream",
     "text": [
      "Using Spark's default log4j profile: org/apache/spark/log4j-defaults.properties\n",
      "Setting default log level to \"WARN\".\n",
      "To adjust logging level use sc.setLogLevel(newLevel). For SparkR, use setLogLevel(newLevel).\n",
      "22/11/05 15:44:26 WARN NativeCodeLoader: Unable to load native-hadoop library for your platform... using builtin-java classes where applicable\n"
     ]
    }
   ],
   "source": [
    "spark = SparkSession\\\n",
    "    .builder\\\n",
    "    .appName('')\\\n",
    "    .master(\"local[*]\")\\\n",
    "    .getOrCreate()\n",
    "\n",
    "sc = spark.sparkContext"
   ]
  },
  {
   "cell_type": "code",
   "execution_count": 10,
   "metadata": {},
   "outputs": [],
   "source": [
    "df_schools = df_all[['cdscode', 'year', 'school_lat', 'school_lon']].drop_duplicates()\n",
    "df_ps = df_point_sources[['point_source_id', 'checked_lat', 'checked_lon', 'point_source_zip', 'report_year', 'PM25_emissions_TPY']]"
   ]
  },
  {
   "cell_type": "code",
   "execution_count": 11,
   "metadata": {},
   "outputs": [],
   "source": [
    "def get_top_n_polluters(data_year, topn = 3, verbose=True):\n",
    "  \n",
    "  if verbose:\n",
    "    print('Working on year: {}'.format(data_year))\n",
    "\n",
    "  # get spark df of individual year\n",
    "  df_ps_i = spark.createDataFrame(df_ps[df_ps.report_year == year_mapping[data_year]])\n",
    "  df_school_yr_i = spark.createDataFrame(df_schools[df_schools.year == data_year])\n",
    "\n",
    "  # cross join, calc distance, then rank the distances, then filter on top 3\n",
    "  df_x = df_school_yr_i.crossJoin(df_ps_i)\\\n",
    "    .withColumn('distance_euclid', ((F.col('school_lat') - F.col('checked_lat'))**2 + (F.col('school_lon') - F.col('checked_lon'))**2)**.5)\\\n",
    "    .withColumn('dist_rank', F.row_number().over(Window().partitionBy('cdscode').orderBy(F.col('distance_euclid'))))\\\n",
    "    .filter(F.col('dist_rank') <= topn)\n",
    "  \n",
    "  return df_x.toPandas()"
   ]
  },
  {
   "cell_type": "code",
   "execution_count": 12,
   "metadata": {},
   "outputs": [
    {
     "name": "stdout",
     "output_type": "stream",
     "text": [
      "Working on year: 2000\n"
     ]
    },
    {
     "name": "stderr",
     "output_type": "stream",
     "text": [
      "                                                                                \r"
     ]
    },
    {
     "name": "stdout",
     "output_type": "stream",
     "text": [
      "Working on year: 2001\n"
     ]
    },
    {
     "name": "stderr",
     "output_type": "stream",
     "text": [
      "                                                                                \r"
     ]
    },
    {
     "name": "stdout",
     "output_type": "stream",
     "text": [
      "Working on year: 2002\n"
     ]
    },
    {
     "name": "stderr",
     "output_type": "stream",
     "text": [
      "                                                                                \r"
     ]
    },
    {
     "name": "stdout",
     "output_type": "stream",
     "text": [
      "Working on year: 2003\n"
     ]
    },
    {
     "name": "stderr",
     "output_type": "stream",
     "text": [
      "                                                                                \r"
     ]
    },
    {
     "name": "stdout",
     "output_type": "stream",
     "text": [
      "Working on year: 2004\n"
     ]
    },
    {
     "name": "stderr",
     "output_type": "stream",
     "text": [
      "                                                                                \r"
     ]
    },
    {
     "name": "stdout",
     "output_type": "stream",
     "text": [
      "Working on year: 2005\n"
     ]
    },
    {
     "name": "stderr",
     "output_type": "stream",
     "text": [
      "                                                                                \r"
     ]
    },
    {
     "name": "stdout",
     "output_type": "stream",
     "text": [
      "Working on year: 2006\n"
     ]
    },
    {
     "name": "stderr",
     "output_type": "stream",
     "text": [
      "                                                                                \r"
     ]
    },
    {
     "name": "stdout",
     "output_type": "stream",
     "text": [
      "Working on year: 2007\n"
     ]
    },
    {
     "name": "stderr",
     "output_type": "stream",
     "text": [
      "                                                                                \r"
     ]
    },
    {
     "name": "stdout",
     "output_type": "stream",
     "text": [
      "Working on year: 2008\n"
     ]
    },
    {
     "name": "stderr",
     "output_type": "stream",
     "text": [
      "                                                                                \r"
     ]
    },
    {
     "name": "stdout",
     "output_type": "stream",
     "text": [
      "Working on year: 2009\n"
     ]
    },
    {
     "name": "stderr",
     "output_type": "stream",
     "text": [
      "                                                                                \r"
     ]
    },
    {
     "name": "stdout",
     "output_type": "stream",
     "text": [
      "Working on year: 2010\n"
     ]
    },
    {
     "name": "stderr",
     "output_type": "stream",
     "text": [
      "                                                                                \r"
     ]
    },
    {
     "name": "stdout",
     "output_type": "stream",
     "text": [
      "Working on year: 2011\n"
     ]
    },
    {
     "name": "stderr",
     "output_type": "stream",
     "text": [
      "                                                                                \r"
     ]
    },
    {
     "name": "stdout",
     "output_type": "stream",
     "text": [
      "Working on year: 2012\n"
     ]
    },
    {
     "name": "stderr",
     "output_type": "stream",
     "text": [
      "                                                                                \r"
     ]
    },
    {
     "name": "stdout",
     "output_type": "stream",
     "text": [
      "Working on year: 2013\n"
     ]
    },
    {
     "name": "stderr",
     "output_type": "stream",
     "text": [
      "                                                                                \r"
     ]
    },
    {
     "name": "stdout",
     "output_type": "stream",
     "text": [
      "Working on year: 2014\n"
     ]
    },
    {
     "name": "stderr",
     "output_type": "stream",
     "text": [
      "                                                                                \r"
     ]
    },
    {
     "name": "stdout",
     "output_type": "stream",
     "text": [
      "Working on year: 2015\n"
     ]
    },
    {
     "name": "stderr",
     "output_type": "stream",
     "text": [
      "                                                                                \r"
     ]
    },
    {
     "name": "stdout",
     "output_type": "stream",
     "text": [
      "Working on year: 2016\n"
     ]
    },
    {
     "name": "stderr",
     "output_type": "stream",
     "text": [
      "                                                                                \r"
     ]
    },
    {
     "name": "stdout",
     "output_type": "stream",
     "text": [
      "Working on year: 2017\n"
     ]
    },
    {
     "name": "stderr",
     "output_type": "stream",
     "text": [
      "                                                                                \r"
     ]
    },
    {
     "name": "stdout",
     "output_type": "stream",
     "text": [
      "Working on year: 2018\n"
     ]
    },
    {
     "name": "stderr",
     "output_type": "stream",
     "text": [
      "                                                                                \r"
     ]
    },
    {
     "name": "stdout",
     "output_type": "stream",
     "text": [
      "Working on year: 2019\n"
     ]
    },
    {
     "name": "stderr",
     "output_type": "stream",
     "text": [
      "                                                                                \r"
     ]
    }
   ],
   "source": [
    "# run the function on every year!\n",
    "top_polluters_df = pd.concat([get_top_n_polluters(data_year, topn=5) for data_year in range(2000, 2020)])"
   ]
  },
  {
   "cell_type": "code",
   "execution_count": 13,
   "metadata": {},
   "outputs": [
    {
     "data": {
      "text/plain": [
       "n\n",
       "5    248520\n",
       "dtype: int64"
      ]
     },
     "execution_count": 13,
     "metadata": {},
     "output_type": "execute_result"
    }
   ],
   "source": [
    "# every school/year combo has n records\n",
    "top_polluters_df.value_counts(['cdscode', 'year']).to_frame().reset_index().rename(columns={0: 'n'}).value_counts('n')"
   ]
  },
  {
   "cell_type": "code",
   "execution_count": 14,
   "metadata": {},
   "outputs": [
    {
     "data": {
      "text/html": [
       "<div>\n",
       "<style scoped>\n",
       "    .dataframe tbody tr th:only-of-type {\n",
       "        vertical-align: middle;\n",
       "    }\n",
       "\n",
       "    .dataframe tbody tr th {\n",
       "        vertical-align: top;\n",
       "    }\n",
       "\n",
       "    .dataframe thead th {\n",
       "        text-align: right;\n",
       "    }\n",
       "</style>\n",
       "<table border=\"1\" class=\"dataframe\">\n",
       "  <thead>\n",
       "    <tr style=\"text-align: right;\">\n",
       "      <th></th>\n",
       "      <th>cdscode</th>\n",
       "      <th>year</th>\n",
       "      <th>school_lat</th>\n",
       "      <th>school_lon</th>\n",
       "      <th>point_source_id</th>\n",
       "      <th>checked_lat</th>\n",
       "      <th>checked_lon</th>\n",
       "      <th>point_source_zip</th>\n",
       "      <th>report_year</th>\n",
       "      <th>PM25_emissions_TPY</th>\n",
       "      <th>distance_euclid</th>\n",
       "      <th>dist_rank</th>\n",
       "    </tr>\n",
       "  </thead>\n",
       "  <tbody>\n",
       "    <tr>\n",
       "      <th>0</th>\n",
       "      <td>1611190131805</td>\n",
       "      <td>2000.0</td>\n",
       "      <td>37.77693</td>\n",
       "      <td>-122.28528</td>\n",
       "      <td>518</td>\n",
       "      <td>37.789864</td>\n",
       "      <td>-122.293587</td>\n",
       "      <td>94501</td>\n",
       "      <td>2002</td>\n",
       "      <td>6.915300</td>\n",
       "      <td>0.015372</td>\n",
       "      <td>1</td>\n",
       "    </tr>\n",
       "    <tr>\n",
       "      <th>1</th>\n",
       "      <td>1611190131805</td>\n",
       "      <td>2000.0</td>\n",
       "      <td>37.77693</td>\n",
       "      <td>-122.28528</td>\n",
       "      <td>163</td>\n",
       "      <td>37.798897</td>\n",
       "      <td>-122.282364</td>\n",
       "      <td>94607</td>\n",
       "      <td>2002</td>\n",
       "      <td>2.631207</td>\n",
       "      <td>0.022160</td>\n",
       "      <td>2</td>\n",
       "    </tr>\n",
       "    <tr>\n",
       "      <th>2</th>\n",
       "      <td>1611190131805</td>\n",
       "      <td>2000.0</td>\n",
       "      <td>37.77693</td>\n",
       "      <td>-122.28528</td>\n",
       "      <td>248</td>\n",
       "      <td>37.790672</td>\n",
       "      <td>-122.261948</td>\n",
       "      <td>94606</td>\n",
       "      <td>2002</td>\n",
       "      <td>3.168564</td>\n",
       "      <td>0.027078</td>\n",
       "      <td>3</td>\n",
       "    </tr>\n",
       "  </tbody>\n",
       "</table>\n",
       "</div>"
      ],
      "text/plain": [
       "         cdscode    year  school_lat  school_lon  point_source_id  \\\n",
       "0  1611190131805  2000.0    37.77693  -122.28528              518   \n",
       "1  1611190131805  2000.0    37.77693  -122.28528              163   \n",
       "2  1611190131805  2000.0    37.77693  -122.28528              248   \n",
       "\n",
       "   checked_lat  checked_lon  point_source_zip  report_year  \\\n",
       "0    37.789864  -122.293587             94501         2002   \n",
       "1    37.798897  -122.282364             94607         2002   \n",
       "2    37.790672  -122.261948             94606         2002   \n",
       "\n",
       "   PM25_emissions_TPY  distance_euclid  dist_rank  \n",
       "0            6.915300         0.015372          1  \n",
       "1            2.631207         0.022160          2  \n",
       "2            3.168564         0.027078          3  "
      ]
     },
     "execution_count": 14,
     "metadata": {},
     "output_type": "execute_result"
    }
   ],
   "source": [
    "top_polluters_df.head(3)"
   ]
  },
  {
   "cell_type": "code",
   "execution_count": 15,
   "metadata": {},
   "outputs": [
    {
     "name": "stdout",
     "output_type": "stream",
     "text": [
      "871 schools missing from the final lookup.\n",
      "These are the schools that dont have a valid year field\n"
     ]
    },
    {
     "data": {
      "text/plain": [
       "871"
      ]
     },
     "execution_count": 15,
     "metadata": {},
     "output_type": "execute_result"
    }
   ],
   "source": [
    "all_schools = list(set(df_schools['cdscode'].values))\n",
    "res = [i not in top_polluters_df['cdscode'].values for i in all_schools]\n",
    "missing_schools = np.array(all_schools)[res]\n",
    "print('{} schools missing from the final lookup.\\nThese are the schools that dont have a valid year field'.format(len(missing_schools)))\n",
    "df_schools[df_schools['cdscode'].isin(missing_schools)].shape[0]"
   ]
  },
  {
   "cell_type": "code",
   "execution_count": 18,
   "metadata": {},
   "outputs": [
    {
     "name": "stdout",
     "output_type": "stream",
     "text": [
      "In the end, we should end up with this many records.\n",
      "B/c there are 3 nearest polluters for each school for each year\n",
      "748173\n",
      "Here is the count in the end: 1245213. We have to add in the 871 missing schools that have NA year\n"
     ]
    }
   ],
   "source": [
    "print('In the end, we should end up with this many records.\\nB/c there are 3 nearest polluters for each school for each year')\n",
    "print(df_schools[['cdscode', 'year']].drop_duplicates().shape[0] * 3)\n",
    "\n",
    "# the\n",
    "res_count = top_polluters_df.shape[0] + 871*3\n",
    "print('Here is the count in the end: {}. We have to add in the 871 missing schools that have NA year'.format(res_count))"
   ]
  },
  {
   "cell_type": "code",
   "execution_count": 19,
   "metadata": {},
   "outputs": [],
   "source": [
    "top_polluters_df = top_polluters_df.rename(columns = {'checked_lat': 'ps_lat', 'checked_lon': 'ps_lon'})"
   ]
  },
  {
   "cell_type": "code",
   "execution_count": 21,
   "metadata": {},
   "outputs": [
    {
     "data": {
      "text/html": [
       "<div>\n",
       "<style scoped>\n",
       "    .dataframe tbody tr th:only-of-type {\n",
       "        vertical-align: middle;\n",
       "    }\n",
       "\n",
       "    .dataframe tbody tr th {\n",
       "        vertical-align: top;\n",
       "    }\n",
       "\n",
       "    .dataframe thead th {\n",
       "        text-align: right;\n",
       "    }\n",
       "</style>\n",
       "<table border=\"1\" class=\"dataframe\">\n",
       "  <thead>\n",
       "    <tr style=\"text-align: right;\">\n",
       "      <th></th>\n",
       "      <th>cdscode</th>\n",
       "      <th>year</th>\n",
       "      <th>school_lat</th>\n",
       "      <th>school_lon</th>\n",
       "      <th>point_source_id</th>\n",
       "      <th>ps_lat</th>\n",
       "      <th>ps_lon</th>\n",
       "      <th>point_source_zip</th>\n",
       "      <th>report_year</th>\n",
       "      <th>PM25_emissions_TPY</th>\n",
       "      <th>distance_euclid</th>\n",
       "      <th>dist_rank</th>\n",
       "    </tr>\n",
       "  </thead>\n",
       "  <tbody>\n",
       "    <tr>\n",
       "      <th>0</th>\n",
       "      <td>1611190131805</td>\n",
       "      <td>2000.0</td>\n",
       "      <td>37.776930</td>\n",
       "      <td>-122.28528</td>\n",
       "      <td>518</td>\n",
       "      <td>37.789864</td>\n",
       "      <td>-122.293587</td>\n",
       "      <td>94501</td>\n",
       "      <td>2002</td>\n",
       "      <td>6.915300</td>\n",
       "      <td>0.015372</td>\n",
       "      <td>1</td>\n",
       "    </tr>\n",
       "    <tr>\n",
       "      <th>1</th>\n",
       "      <td>1611190131805</td>\n",
       "      <td>2000.0</td>\n",
       "      <td>37.776930</td>\n",
       "      <td>-122.28528</td>\n",
       "      <td>163</td>\n",
       "      <td>37.798897</td>\n",
       "      <td>-122.282364</td>\n",
       "      <td>94607</td>\n",
       "      <td>2002</td>\n",
       "      <td>2.631207</td>\n",
       "      <td>0.022160</td>\n",
       "      <td>2</td>\n",
       "    </tr>\n",
       "    <tr>\n",
       "      <th>2</th>\n",
       "      <td>1611190131805</td>\n",
       "      <td>2000.0</td>\n",
       "      <td>37.776930</td>\n",
       "      <td>-122.28528</td>\n",
       "      <td>248</td>\n",
       "      <td>37.790672</td>\n",
       "      <td>-122.261948</td>\n",
       "      <td>94606</td>\n",
       "      <td>2002</td>\n",
       "      <td>3.168564</td>\n",
       "      <td>0.027078</td>\n",
       "      <td>3</td>\n",
       "    </tr>\n",
       "    <tr>\n",
       "      <th>3</th>\n",
       "      <td>1611190131805</td>\n",
       "      <td>2000.0</td>\n",
       "      <td>37.776930</td>\n",
       "      <td>-122.28528</td>\n",
       "      <td>428</td>\n",
       "      <td>37.819660</td>\n",
       "      <td>-122.285744</td>\n",
       "      <td>94607</td>\n",
       "      <td>2002</td>\n",
       "      <td>5.147391</td>\n",
       "      <td>0.042733</td>\n",
       "      <td>4</td>\n",
       "    </tr>\n",
       "    <tr>\n",
       "      <th>4</th>\n",
       "      <td>1611190131805</td>\n",
       "      <td>2000.0</td>\n",
       "      <td>37.776930</td>\n",
       "      <td>-122.28528</td>\n",
       "      <td>66</td>\n",
       "      <td>37.773750</td>\n",
       "      <td>-122.237137</td>\n",
       "      <td>94606</td>\n",
       "      <td>2002</td>\n",
       "      <td>2.102984</td>\n",
       "      <td>0.048248</td>\n",
       "      <td>5</td>\n",
       "    </tr>\n",
       "    <tr>\n",
       "      <th>5</th>\n",
       "      <td>1611190139220</td>\n",
       "      <td>2000.0</td>\n",
       "      <td>37.772663</td>\n",
       "      <td>-122.27145</td>\n",
       "      <td>248</td>\n",
       "      <td>37.790672</td>\n",
       "      <td>-122.261948</td>\n",
       "      <td>94606</td>\n",
       "      <td>2002</td>\n",
       "      <td>3.168564</td>\n",
       "      <td>0.020362</td>\n",
       "      <td>1</td>\n",
       "    </tr>\n",
       "    <tr>\n",
       "      <th>6</th>\n",
       "      <td>1611190139220</td>\n",
       "      <td>2000.0</td>\n",
       "      <td>37.772663</td>\n",
       "      <td>-122.27145</td>\n",
       "      <td>518</td>\n",
       "      <td>37.789864</td>\n",
       "      <td>-122.293587</td>\n",
       "      <td>94501</td>\n",
       "      <td>2002</td>\n",
       "      <td>6.915300</td>\n",
       "      <td>0.028034</td>\n",
       "      <td>2</td>\n",
       "    </tr>\n",
       "    <tr>\n",
       "      <th>7</th>\n",
       "      <td>1611190139220</td>\n",
       "      <td>2000.0</td>\n",
       "      <td>37.772663</td>\n",
       "      <td>-122.27145</td>\n",
       "      <td>163</td>\n",
       "      <td>37.798897</td>\n",
       "      <td>-122.282364</td>\n",
       "      <td>94607</td>\n",
       "      <td>2002</td>\n",
       "      <td>2.631207</td>\n",
       "      <td>0.028414</td>\n",
       "      <td>3</td>\n",
       "    </tr>\n",
       "    <tr>\n",
       "      <th>8</th>\n",
       "      <td>1611190139220</td>\n",
       "      <td>2000.0</td>\n",
       "      <td>37.772663</td>\n",
       "      <td>-122.27145</td>\n",
       "      <td>66</td>\n",
       "      <td>37.773750</td>\n",
       "      <td>-122.237137</td>\n",
       "      <td>94606</td>\n",
       "      <td>2002</td>\n",
       "      <td>2.102984</td>\n",
       "      <td>0.034330</td>\n",
       "      <td>4</td>\n",
       "    </tr>\n",
       "    <tr>\n",
       "      <th>9</th>\n",
       "      <td>1611190139220</td>\n",
       "      <td>2000.0</td>\n",
       "      <td>37.772663</td>\n",
       "      <td>-122.27145</td>\n",
       "      <td>677</td>\n",
       "      <td>37.772911</td>\n",
       "      <td>-122.234818</td>\n",
       "      <td>94606</td>\n",
       "      <td>2002</td>\n",
       "      <td>13.356216</td>\n",
       "      <td>0.036633</td>\n",
       "      <td>5</td>\n",
       "    </tr>\n",
       "  </tbody>\n",
       "</table>\n",
       "</div>"
      ],
      "text/plain": [
       "         cdscode    year  school_lat  school_lon  point_source_id     ps_lat  \\\n",
       "0  1611190131805  2000.0   37.776930  -122.28528              518  37.789864   \n",
       "1  1611190131805  2000.0   37.776930  -122.28528              163  37.798897   \n",
       "2  1611190131805  2000.0   37.776930  -122.28528              248  37.790672   \n",
       "3  1611190131805  2000.0   37.776930  -122.28528              428  37.819660   \n",
       "4  1611190131805  2000.0   37.776930  -122.28528               66  37.773750   \n",
       "5  1611190139220  2000.0   37.772663  -122.27145              248  37.790672   \n",
       "6  1611190139220  2000.0   37.772663  -122.27145              518  37.789864   \n",
       "7  1611190139220  2000.0   37.772663  -122.27145              163  37.798897   \n",
       "8  1611190139220  2000.0   37.772663  -122.27145               66  37.773750   \n",
       "9  1611190139220  2000.0   37.772663  -122.27145              677  37.772911   \n",
       "\n",
       "       ps_lon  point_source_zip  report_year  PM25_emissions_TPY  \\\n",
       "0 -122.293587             94501         2002            6.915300   \n",
       "1 -122.282364             94607         2002            2.631207   \n",
       "2 -122.261948             94606         2002            3.168564   \n",
       "3 -122.285744             94607         2002            5.147391   \n",
       "4 -122.237137             94606         2002            2.102984   \n",
       "5 -122.261948             94606         2002            3.168564   \n",
       "6 -122.293587             94501         2002            6.915300   \n",
       "7 -122.282364             94607         2002            2.631207   \n",
       "8 -122.237137             94606         2002            2.102984   \n",
       "9 -122.234818             94606         2002           13.356216   \n",
       "\n",
       "   distance_euclid  dist_rank  \n",
       "0         0.015372          1  \n",
       "1         0.022160          2  \n",
       "2         0.027078          3  \n",
       "3         0.042733          4  \n",
       "4         0.048248          5  \n",
       "5         0.020362          1  \n",
       "6         0.028034          2  \n",
       "7         0.028414          3  \n",
       "8         0.034330          4  \n",
       "9         0.036633          5  "
      ]
     },
     "execution_count": 21,
     "metadata": {},
     "output_type": "execute_result"
    }
   ],
   "source": [
    "top_polluters_df.head(10)"
   ]
  },
  {
   "cell_type": "code",
   "execution_count": 22,
   "metadata": {},
   "outputs": [
    {
     "data": {
      "text/html": [
       "<div>\n",
       "<style scoped>\n",
       "    .dataframe tbody tr th:only-of-type {\n",
       "        vertical-align: middle;\n",
       "    }\n",
       "\n",
       "    .dataframe tbody tr th {\n",
       "        vertical-align: top;\n",
       "    }\n",
       "\n",
       "    .dataframe thead tr th {\n",
       "        text-align: left;\n",
       "    }\n",
       "\n",
       "    .dataframe thead tr:last-of-type th {\n",
       "        text-align: right;\n",
       "    }\n",
       "</style>\n",
       "<table border=\"1\" class=\"dataframe\">\n",
       "  <thead>\n",
       "    <tr>\n",
       "      <th></th>\n",
       "      <th></th>\n",
       "      <th></th>\n",
       "      <th></th>\n",
       "      <th colspan=\"5\" halign=\"left\">point_source_id</th>\n",
       "      <th colspan=\"5\" halign=\"left\">ps_lat</th>\n",
       "      <th colspan=\"5\" halign=\"left\">ps_lon</th>\n",
       "      <th colspan=\"5\" halign=\"left\">PM25_emissions_TPY</th>\n",
       "      <th colspan=\"5\" halign=\"left\">distance_euclid</th>\n",
       "    </tr>\n",
       "    <tr>\n",
       "      <th></th>\n",
       "      <th></th>\n",
       "      <th></th>\n",
       "      <th>dist_rank</th>\n",
       "      <th>1</th>\n",
       "      <th>2</th>\n",
       "      <th>3</th>\n",
       "      <th>4</th>\n",
       "      <th>5</th>\n",
       "      <th>1</th>\n",
       "      <th>2</th>\n",
       "      <th>3</th>\n",
       "      <th>4</th>\n",
       "      <th>5</th>\n",
       "      <th>1</th>\n",
       "      <th>2</th>\n",
       "      <th>3</th>\n",
       "      <th>4</th>\n",
       "      <th>5</th>\n",
       "      <th>1</th>\n",
       "      <th>2</th>\n",
       "      <th>3</th>\n",
       "      <th>4</th>\n",
       "      <th>5</th>\n",
       "      <th>1</th>\n",
       "      <th>2</th>\n",
       "      <th>3</th>\n",
       "      <th>4</th>\n",
       "      <th>5</th>\n",
       "    </tr>\n",
       "    <tr>\n",
       "      <th>cdscode</th>\n",
       "      <th>year</th>\n",
       "      <th>school_lat</th>\n",
       "      <th>school_lon</th>\n",
       "      <th></th>\n",
       "      <th></th>\n",
       "      <th></th>\n",
       "      <th></th>\n",
       "      <th></th>\n",
       "      <th></th>\n",
       "      <th></th>\n",
       "      <th></th>\n",
       "      <th></th>\n",
       "      <th></th>\n",
       "      <th></th>\n",
       "      <th></th>\n",
       "      <th></th>\n",
       "      <th></th>\n",
       "      <th></th>\n",
       "      <th></th>\n",
       "      <th></th>\n",
       "      <th></th>\n",
       "      <th></th>\n",
       "      <th></th>\n",
       "      <th></th>\n",
       "      <th></th>\n",
       "      <th></th>\n",
       "      <th></th>\n",
       "      <th></th>\n",
       "    </tr>\n",
       "  </thead>\n",
       "  <tbody>\n",
       "    <tr>\n",
       "      <th rowspan=\"3\" valign=\"top\">1100170000000</th>\n",
       "      <th>2000.0</th>\n",
       "      <th>37.658212</th>\n",
       "      <th>-122.09713</th>\n",
       "      <td>774.0</td>\n",
       "      <td>608.0</td>\n",
       "      <td>385.0</td>\n",
       "      <td>661.0</td>\n",
       "      <td>140.0</td>\n",
       "      <td>37.667973</td>\n",
       "      <td>37.633793</td>\n",
       "      <td>37.635574</td>\n",
       "      <td>37.701672</td>\n",
       "      <td>37.617073</td>\n",
       "      <td>-122.103806</td>\n",
       "      <td>-122.124954</td>\n",
       "      <td>-122.052284</td>\n",
       "      <td>-122.138557</td>\n",
       "      <td>-122.047699</td>\n",
       "      <td>25.813472</td>\n",
       "      <td>9.581375</td>\n",
       "      <td>4.616791</td>\n",
       "      <td>11.998904</td>\n",
       "      <td>2.492</td>\n",
       "      <td>0.011826</td>\n",
       "      <td>0.03702</td>\n",
       "      <td>0.050236</td>\n",
       "      <td>0.060041</td>\n",
       "      <td>0.064311</td>\n",
       "    </tr>\n",
       "    <tr>\n",
       "      <th>2001.0</th>\n",
       "      <th>37.658212</th>\n",
       "      <th>-122.09713</th>\n",
       "      <td>774.0</td>\n",
       "      <td>608.0</td>\n",
       "      <td>385.0</td>\n",
       "      <td>661.0</td>\n",
       "      <td>140.0</td>\n",
       "      <td>37.667973</td>\n",
       "      <td>37.633793</td>\n",
       "      <td>37.635574</td>\n",
       "      <td>37.701672</td>\n",
       "      <td>37.617073</td>\n",
       "      <td>-122.103806</td>\n",
       "      <td>-122.124954</td>\n",
       "      <td>-122.052284</td>\n",
       "      <td>-122.138557</td>\n",
       "      <td>-122.047699</td>\n",
       "      <td>25.813472</td>\n",
       "      <td>9.581375</td>\n",
       "      <td>4.616791</td>\n",
       "      <td>11.998904</td>\n",
       "      <td>2.492</td>\n",
       "      <td>0.011826</td>\n",
       "      <td>0.03702</td>\n",
       "      <td>0.050236</td>\n",
       "      <td>0.060041</td>\n",
       "      <td>0.064311</td>\n",
       "    </tr>\n",
       "    <tr>\n",
       "      <th>2002.0</th>\n",
       "      <th>37.658212</th>\n",
       "      <th>-122.09713</th>\n",
       "      <td>774.0</td>\n",
       "      <td>608.0</td>\n",
       "      <td>385.0</td>\n",
       "      <td>661.0</td>\n",
       "      <td>140.0</td>\n",
       "      <td>37.667973</td>\n",
       "      <td>37.633793</td>\n",
       "      <td>37.635574</td>\n",
       "      <td>37.701672</td>\n",
       "      <td>37.617073</td>\n",
       "      <td>-122.103806</td>\n",
       "      <td>-122.124954</td>\n",
       "      <td>-122.052284</td>\n",
       "      <td>-122.138557</td>\n",
       "      <td>-122.047699</td>\n",
       "      <td>25.813472</td>\n",
       "      <td>9.581375</td>\n",
       "      <td>4.616791</td>\n",
       "      <td>11.998904</td>\n",
       "      <td>2.492</td>\n",
       "      <td>0.011826</td>\n",
       "      <td>0.03702</td>\n",
       "      <td>0.050236</td>\n",
       "      <td>0.060041</td>\n",
       "      <td>0.064311</td>\n",
       "    </tr>\n",
       "  </tbody>\n",
       "</table>\n",
       "</div>"
      ],
      "text/plain": [
       "                                           point_source_id                \\\n",
       "dist_rank                                                1      2      3   \n",
       "cdscode       year   school_lat school_lon                                 \n",
       "1100170000000 2000.0 37.658212  -122.09713           774.0  608.0  385.0   \n",
       "              2001.0 37.658212  -122.09713           774.0  608.0  385.0   \n",
       "              2002.0 37.658212  -122.09713           774.0  608.0  385.0   \n",
       "\n",
       "                                                             ps_lat  \\\n",
       "dist_rank                                       4      5          1   \n",
       "cdscode       year   school_lat school_lon                            \n",
       "1100170000000 2000.0 37.658212  -122.09713  661.0  140.0  37.667973   \n",
       "              2001.0 37.658212  -122.09713  661.0  140.0  37.667973   \n",
       "              2002.0 37.658212  -122.09713  661.0  140.0  37.667973   \n",
       "\n",
       "                                                                             \\\n",
       "dist_rank                                           2          3          4   \n",
       "cdscode       year   school_lat school_lon                                    \n",
       "1100170000000 2000.0 37.658212  -122.09713  37.633793  37.635574  37.701672   \n",
       "              2001.0 37.658212  -122.09713  37.633793  37.635574  37.701672   \n",
       "              2002.0 37.658212  -122.09713  37.633793  37.635574  37.701672   \n",
       "\n",
       "                                                           ps_lon              \\\n",
       "dist_rank                                           5           1           2   \n",
       "cdscode       year   school_lat school_lon                                      \n",
       "1100170000000 2000.0 37.658212  -122.09713  37.617073 -122.103806 -122.124954   \n",
       "              2001.0 37.658212  -122.09713  37.617073 -122.103806 -122.124954   \n",
       "              2002.0 37.658212  -122.09713  37.617073 -122.103806 -122.124954   \n",
       "\n",
       "                                                                    \\\n",
       "dist_rank                                            3           4   \n",
       "cdscode       year   school_lat school_lon                           \n",
       "1100170000000 2000.0 37.658212  -122.09713 -122.052284 -122.138557   \n",
       "              2001.0 37.658212  -122.09713 -122.052284 -122.138557   \n",
       "              2002.0 37.658212  -122.09713 -122.052284 -122.138557   \n",
       "\n",
       "                                                       PM25_emissions_TPY  \\\n",
       "dist_rank                                            5                  1   \n",
       "cdscode       year   school_lat school_lon                                  \n",
       "1100170000000 2000.0 37.658212  -122.09713 -122.047699          25.813472   \n",
       "              2001.0 37.658212  -122.09713 -122.047699          25.813472   \n",
       "              2002.0 37.658212  -122.09713 -122.047699          25.813472   \n",
       "\n",
       "                                                                           \\\n",
       "dist_rank                                          2         3          4   \n",
       "cdscode       year   school_lat school_lon                                  \n",
       "1100170000000 2000.0 37.658212  -122.09713  9.581375  4.616791  11.998904   \n",
       "              2001.0 37.658212  -122.09713  9.581375  4.616791  11.998904   \n",
       "              2002.0 37.658212  -122.09713  9.581375  4.616791  11.998904   \n",
       "\n",
       "                                                  distance_euclid           \\\n",
       "dist_rank                                       5               1        2   \n",
       "cdscode       year   school_lat school_lon                                   \n",
       "1100170000000 2000.0 37.658212  -122.09713  2.492        0.011826  0.03702   \n",
       "              2001.0 37.658212  -122.09713  2.492        0.011826  0.03702   \n",
       "              2002.0 37.658212  -122.09713  2.492        0.011826  0.03702   \n",
       "\n",
       "                                                                          \n",
       "dist_rank                                          3         4         5  \n",
       "cdscode       year   school_lat school_lon                                \n",
       "1100170000000 2000.0 37.658212  -122.09713  0.050236  0.060041  0.064311  \n",
       "              2001.0 37.658212  -122.09713  0.050236  0.060041  0.064311  \n",
       "              2002.0 37.658212  -122.09713  0.050236  0.060041  0.064311  "
      ]
     },
     "execution_count": 22,
     "metadata": {},
     "output_type": "execute_result"
    }
   ],
   "source": [
    "top_polluters_df2 = top_polluters_df.pivot(\n",
    "  index = ['cdscode', 'year', 'school_lat', 'school_lon'], \n",
    "  columns = ['dist_rank'], \n",
    "  values = ['point_source_id', 'ps_lat', 'ps_lon', 'PM25_emissions_TPY', 'distance_euclid']\n",
    "  )\n",
    "\n",
    "top_polluters_df2.head(3)"
   ]
  },
  {
   "cell_type": "code",
   "execution_count": 23,
   "metadata": {},
   "outputs": [
    {
     "data": {
      "text/plain": [
       "248520"
      ]
     },
     "execution_count": 23,
     "metadata": {},
     "output_type": "execute_result"
    }
   ],
   "source": [
    "top_polluters_df2.shape[0]"
   ]
  },
  {
   "cell_type": "code",
   "execution_count": null,
   "metadata": {},
   "outputs": [],
   "source": []
  },
  {
   "cell_type": "code",
   "execution_count": null,
   "metadata": {},
   "outputs": [],
   "source": [
    "# write this mapping table as parquet to disk\n",
    "# school_ps_mapping_df = pd.concat(school_ps_mapping)\n",
    "# fpath = os.path.join(data_path, 'school_pollution_mapping/school_pollution_mapping_top3.parquet')\n",
    "# school_ps_mapping_df.to_parquet(fpath)"
   ]
  },
  {
   "cell_type": "code",
   "execution_count": null,
   "metadata": {},
   "outputs": [],
   "source": [
    "# finally, cast the rows out wider for the mapping. "
   ]
  }
 ],
 "metadata": {
  "kernelspec": {
   "display_name": "Python 3.9.7 ('base')",
   "language": "python",
   "name": "python3"
  },
  "language_info": {
   "codemirror_mode": {
    "name": "ipython",
    "version": 3
   },
   "file_extension": ".py",
   "mimetype": "text/x-python",
   "name": "python",
   "nbconvert_exporter": "python",
   "pygments_lexer": "ipython3",
   "version": "3.9.7"
  },
  "orig_nbformat": 4,
  "vscode": {
   "interpreter": {
    "hash": "3d597f4c481aa0f25dceb95d2a0067e73c0966dcbd003d741d821a7208527ecf"
   }
  }
 },
 "nbformat": 4,
 "nbformat_minor": 2
}
