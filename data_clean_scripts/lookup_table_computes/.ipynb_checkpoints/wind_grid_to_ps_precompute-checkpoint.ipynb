{
 "cells": [
  {
   "cell_type": "code",
   "execution_count": 1,
   "id": "e37d0a68",
   "metadata": {},
   "outputs": [],
   "source": [
    "import findspark\n",
    "findspark.init()"
   ]
  },
  {
   "cell_type": "code",
   "execution_count": 6,
   "id": "2d3320ba",
   "metadata": {},
   "outputs": [
    {
     "data": {
      "text/html": [
       "<style>pre { white-space: pre !important; }</style>"
      ],
      "text/plain": [
       "<IPython.core.display.HTML object>"
      ]
     },
     "metadata": {},
     "output_type": "display_data"
    }
   ],
   "source": [
    "import pyspark\n",
    "import pandas as pd \n",
    "import numpy as np\n",
    "import os \n",
    "import datetime\n",
    "from pyspark.sql import SparkSession\n",
    "from pyspark import SparkContext\n",
    "from pyspark.sql.types import *\n",
    "from pyspark.sql.window import Window\n",
    "from math import radians, cos, sin, asin, sqrt\n",
    "from pyspark.sql import functions as F\n",
    "from pyspark.sql.functions import col, row_number\n",
    "\n",
    "from IPython.core.display import HTML\n",
    "display(HTML(\"<style>pre { white-space: pre !important; }</style>\"))\n",
    "\n",
    "pd.set_option('display.max_columns', None)"
   ]
  },
  {
   "cell_type": "code",
   "execution_count": 3,
   "id": "c306549a",
   "metadata": {},
   "outputs": [],
   "source": [
    "spark = SparkSession.builder.master(\"local[*]\").config(\"spark.executor.memory\", \"48g\").config(\"spark.driver.memory\", \"48g\").config(\"spark.driver.maxResultSize\",\"0\").getOrCreate()"
   ]
  },
  {
   "cell_type": "code",
   "execution_count": 4,
   "id": "b3287865",
   "metadata": {},
   "outputs": [],
   "source": [
    "gdrive_path = 'I:\\\\.shortcut-targets-by-id\\\\11wLy1WKwOTcthBs1rpfEzkqax2BZG-6E\\\\W210_Capstone\\\\Data\\\\'"
   ]
  },
  {
   "cell_type": "code",
   "execution_count": 5,
   "id": "0ff59b32",
   "metadata": {},
   "outputs": [],
   "source": [
    "wind_grid = spark.read.option(\"header\",True).csv(os.path.join(gdrive_path, 'lookup tables/ERA5_grid.csv'))"
   ]
  },
  {
   "cell_type": "code",
   "execution_count": 13,
   "id": "3699f148",
   "metadata": {},
   "outputs": [
    {
     "name": "stdout",
     "output_type": "stream",
     "text": [
      "root\n",
      " |-- grid_index: string (nullable = true)\n",
      " |-- lat: string (nullable = true)\n",
      " |-- lon: string (nullable = true)\n",
      "\n"
     ]
    }
   ],
   "source": [
    "wind_grid.printSchema()"
   ]
  },
  {
   "cell_type": "code",
   "execution_count": 15,
   "id": "00ecfad8",
   "metadata": {},
   "outputs": [],
   "source": [
    "# convert lat/lon/idx to float/float/int\n",
    "\n",
    "wind_grid = wind_grid.withColumn(\"lat\",wind_grid.lat.cast('double')).withColumn(\"lon\",wind_grid.lon.cast('double')).withColumn(\"grid_index\",wind_grid.grid_index.cast('integer'))"
   ]
  },
  {
   "cell_type": "code",
   "execution_count": 16,
   "id": "8dcf01bf",
   "metadata": {},
   "outputs": [
    {
     "name": "stdout",
     "output_type": "stream",
     "text": [
      "root\n",
      " |-- grid_index: integer (nullable = true)\n",
      " |-- lat: double (nullable = true)\n",
      " |-- lon: double (nullable = true)\n",
      "\n"
     ]
    }
   ],
   "source": [
    "wind_grid.printSchema()"
   ]
  },
  {
   "cell_type": "code",
   "execution_count": 17,
   "id": "ebc66e62",
   "metadata": {},
   "outputs": [
    {
     "name": "stdout",
     "output_type": "stream",
     "text": [
      "+----------+---------+-----------+\n",
      "|grid_index|      lat|        lon|\n",
      "+----------+---------+-----------+\n",
      "|         1|42.279999|-124.410004|\n",
      "|         2|42.279999|-124.160004|\n",
      "|         3|42.279999|-123.910004|\n",
      "|         4|42.279999|-123.660004|\n",
      "|         5|42.279999|-123.410004|\n",
      "+----------+---------+-----------+\n",
      "\n"
     ]
    }
   ],
   "source": [
    "wind_grid.limit(5).show()"
   ]
  },
  {
   "cell_type": "code",
   "execution_count": 18,
   "id": "c322ecdf",
   "metadata": {},
   "outputs": [],
   "source": [
    "df_point_sources = spark.read.option(\"header\",True).csv(os.path.join(gdrive_path, 'Point source/pollution_point_sources_above_2_TPY.csv'))"
   ]
  },
  {
   "cell_type": "code",
   "execution_count": 19,
   "id": "604167b0",
   "metadata": {},
   "outputs": [],
   "source": [
    "df_point_sources = df_point_sources.select('_c0','checked_lat','checked_lon','report_year','PM25_emissions_TPY','combo_zip')"
   ]
  },
  {
   "cell_type": "code",
   "execution_count": 20,
   "id": "5595918b",
   "metadata": {},
   "outputs": [
    {
     "data": {
      "text/plain": [
       "7155"
      ]
     },
     "execution_count": 20,
     "metadata": {},
     "output_type": "execute_result"
    }
   ],
   "source": [
    "df_point_sources = df_point_sources.withColumnRenamed('_c0','point_source_index')\\\n",
    ".withColumnRenamed('checked_lat','point_source_lat')\\\n",
    ".withColumnRenamed('checked_lon','point_source_lon')\\\n",
    ".withColumnRenamed('report_year','point_source_year')\\\n",
    ".withColumnRenamed('PM25_emissions_TPY','point_source_pm25_tpy')\\\n",
    ".withColumnRenamed('combo_zip','point_source_zip')\n",
    "\n",
    "df_point_sources.count()"
   ]
  },
  {
   "cell_type": "code",
   "execution_count": 21,
   "id": "7f59a846",
   "metadata": {},
   "outputs": [
    {
     "name": "stdout",
     "output_type": "stream",
     "text": [
      "+------------------+----------------+----------------+-----------------+---------------------+----------------+\n",
      "|point_source_index|point_source_lat|point_source_lon|point_source_year|point_source_pm25_tpy|point_source_zip|\n",
      "+------------------+----------------+----------------+-----------------+---------------------+----------------+\n",
      "|                 0|       33.811466|      -117.91555|             2002|          1.787853962|         92803.0|\n",
      "|                 1|       34.088242|     -117.470116|             2002|               1.7892|         92335.0|\n",
      "|                 2|       33.911602|     -118.281799|             2002|          1.791299781|         93420.0|\n",
      "|                 3|       37.944618|     -121.325859|             2002|          1.797499934|         95203.0|\n",
      "|                 4|       39.221817|     -121.054955|             2002|              1.80154|         95945.0|\n",
      "+------------------+----------------+----------------+-----------------+---------------------+----------------+\n",
      "\n"
     ]
    }
   ],
   "source": [
    "df_point_sources.limit(5).show()"
   ]
  },
  {
   "cell_type": "code",
   "execution_count": 22,
   "id": "48edd2ac",
   "metadata": {},
   "outputs": [],
   "source": [
    "from pyproj import Geod\n",
    "\n",
    "g = Geod(ellps=\"WGS84\") # Use WGS84 ellipsoid"
   ]
  },
  {
   "cell_type": "code",
   "execution_count": 40,
   "id": "315bdfed",
   "metadata": {},
   "outputs": [
    {
     "name": "stdout",
     "output_type": "stream",
     "text": [
      " 54.662 -123.449   288299.735\n",
      "-127.414   50.619   335283.902\n",
      "-86.343   65.836  3947232.483\n"
     ]
    }
   ],
   "source": [
    "newyork_lat = 40.+(47./60.); newyork_lon = -73.-(58./60.)\n",
    "boston_lat = 42.+(15./60.); boston_lon = -71.-(7./60.)\n",
    "dc_lat = 38.9072; dc_lon = -77.0369\n",
    "losangeles_lat = 34.0522; losangeles_lon = -118.2437\n",
    "\n",
    "az12,az21,dist = g.inv(newyork_lon,newyork_lat,boston_lon,boston_lat)\n",
    "f\"{az12:.3f} {az21:.3f} {dist:.3f}\"\n",
    "\n",
    "# compute the azimuths, distances from New York to several\n",
    "# cities (pass a list)\n",
    "\n",
    "lons1 = 3*[newyork_lon]; lats1 = 3*[newyork_lat]\n",
    "lons2 = [boston_lon, dc_lon, losangeles_lon]\n",
    "lats2 = [boston_lat, dc_lat, losangeles_lat]\n",
    "\n",
    "az12,az21,dist = g.inv(lons1,lats1,lons2,lats2)\n",
    "for faz, baz, d in list(zip(az12,az21,dist)):\n",
    "    print(f\"{faz:7.3f} {baz:8.3f} {d:12.3f}\")"
   ]
  },
  {
   "cell_type": "code",
   "execution_count": 23,
   "id": "563f0516",
   "metadata": {},
   "outputs": [],
   "source": [
    "def geod_dist(lat1, lon1, lat2, lon2):\n",
    "    \n",
    "    '''Site 2 (lat2/lon2) must be source location (in this case, pollution sites).\n",
    "       Site 1 (lat1/lon1) must be destination location (schools). AZ12 will look at\n",
    "       the angle from this point to the schools.'''\n",
    "    \n",
    "    az12,az21,dist = g.inv(lon2, lat2, lon1, lat1)\n",
    "    \n",
    "    return dist"
   ]
  },
  {
   "cell_type": "code",
   "execution_count": 24,
   "id": "c39bacb1",
   "metadata": {},
   "outputs": [],
   "source": [
    "udf_geod_dist = F.udf(geod_dist)"
   ]
  },
  {
   "cell_type": "code",
   "execution_count": 25,
   "id": "61471196",
   "metadata": {},
   "outputs": [],
   "source": [
    "wind_obs_point_sources = wind_grid.crossJoin(df_point_sources)"
   ]
  },
  {
   "cell_type": "code",
   "execution_count": 40,
   "id": "343b6f78",
   "metadata": {},
   "outputs": [
    {
     "data": {
      "text/plain": [
       "12020400"
      ]
     },
     "execution_count": 40,
     "metadata": {},
     "output_type": "execute_result"
    }
   ],
   "source": [
    "wind_obs_point_sources.count()"
   ]
  },
  {
   "cell_type": "code",
   "execution_count": 27,
   "id": "8e055f5f",
   "metadata": {},
   "outputs": [
    {
     "name": "stdout",
     "output_type": "stream",
     "text": [
      "+----------+---------+-----------+------------------+----------------+----------------+-----------------+---------------------+----------------+\n",
      "|grid_index|      lat|        lon|point_source_index|point_source_lat|point_source_lon|point_source_year|point_source_pm25_tpy|point_source_zip|\n",
      "+----------+---------+-----------+------------------+----------------+----------------+-----------------+---------------------+----------------+\n",
      "|         1|42.279999|-124.410004|                 0|       33.811466|      -117.91555|             2002|          1.787853962|         92803.0|\n",
      "|         2|42.279999|-124.160004|                 0|       33.811466|      -117.91555|             2002|          1.787853962|         92803.0|\n",
      "|         3|42.279999|-123.910004|                 0|       33.811466|      -117.91555|             2002|          1.787853962|         92803.0|\n",
      "|         4|42.279999|-123.660004|                 0|       33.811466|      -117.91555|             2002|          1.787853962|         92803.0|\n",
      "|         5|42.279999|-123.410004|                 0|       33.811466|      -117.91555|             2002|          1.787853962|         92803.0|\n",
      "+----------+---------+-----------+------------------+----------------+----------------+-----------------+---------------------+----------------+\n",
      "\n"
     ]
    }
   ],
   "source": [
    "wind_obs_point_sources.limit(5).show()"
   ]
  },
  {
   "cell_type": "code",
   "execution_count": 28,
   "id": "17aed99a",
   "metadata": {},
   "outputs": [
    {
     "name": "stdout",
     "output_type": "stream",
     "text": [
      "root\n",
      " |-- grid_index: integer (nullable = true)\n",
      " |-- lat: double (nullable = true)\n",
      " |-- lon: double (nullable = true)\n",
      " |-- point_source_index: string (nullable = true)\n",
      " |-- point_source_lat: string (nullable = true)\n",
      " |-- point_source_lon: string (nullable = true)\n",
      " |-- point_source_year: string (nullable = true)\n",
      " |-- point_source_pm25_tpy: string (nullable = true)\n",
      " |-- point_source_zip: string (nullable = true)\n",
      "\n"
     ]
    }
   ],
   "source": [
    "wind_obs_point_sources.printSchema()"
   ]
  },
  {
   "cell_type": "code",
   "execution_count": 31,
   "id": "a67a7256",
   "metadata": {},
   "outputs": [
    {
     "name": "stdout",
     "output_type": "stream",
     "text": [
      "root\n",
      " |-- grid_index: integer (nullable = true)\n",
      " |-- wind_lat: double (nullable = true)\n",
      " |-- wind_lon: double (nullable = true)\n",
      " |-- point_source_index: string (nullable = true)\n",
      " |-- point_source_lat: double (nullable = true)\n",
      " |-- point_source_lon: double (nullable = true)\n",
      " |-- point_source_year: string (nullable = true)\n",
      " |-- point_source_pm25_tpy: string (nullable = true)\n",
      " |-- point_source_zip: string (nullable = true)\n",
      "\n"
     ]
    },
    {
     "data": {
      "text/plain": [
       "DataFrame[grid_index: int, wind_lat: double, wind_lon: double, point_source_index: string, point_source_lat: double, point_source_lon: double, point_source_year: string, point_source_pm25_tpy: string, point_source_zip: string]"
      ]
     },
     "execution_count": 31,
     "metadata": {},
     "output_type": "execute_result"
    }
   ],
   "source": [
    "wind_obs_point_sources = wind_obs_point_sources.withColumnRenamed(\"lat\",\"wind_lat\")\n",
    "wind_obs_point_sources = wind_obs_point_sources.withColumnRenamed(\"lon\",\"wind_lon\")\n",
    "wind_obs_point_sources = wind_obs_point_sources.withColumn(\"point_source_lat\",wind_obs_point_sources.point_source_lat.cast('double'))\n",
    "wind_obs_point_sources = wind_obs_point_sources.withColumn(\"point_source_lon\",wind_obs_point_sources.point_source_lon.cast('double'))\n",
    "\n",
    "wind_obs_point_sources.printSchema()\n",
    "\n",
    "wind_obs_point_sources.cache()"
   ]
  },
  {
   "cell_type": "code",
   "execution_count": 34,
   "id": "e2d50788",
   "metadata": {},
   "outputs": [],
   "source": [
    "wind_obs_point_sources = wind_obs_point_sources.withColumn(\"geod_dist_m\",\\\n",
    "                        udf_geod_dist(wind_obs_point_sources.wind_lat,wind_obs_point_sources.wind_lon,wind_obs_point_sources.point_source_lat,wind_obs_point_sources.point_source_lon).cast(DoubleType()))"
   ]
  },
  {
   "cell_type": "code",
   "execution_count": 35,
   "id": "5e94d89a",
   "metadata": {},
   "outputs": [
    {
     "data": {
      "text/plain": [
       "DataFrame[grid_index: int, wind_lat: double, wind_lon: double, point_source_index: string, point_source_lat: double, point_source_lon: double, point_source_year: string, point_source_pm25_tpy: string, point_source_zip: string, geod_dist_m: double]"
      ]
     },
     "execution_count": 35,
     "metadata": {},
     "output_type": "execute_result"
    }
   ],
   "source": [
    "wind_obs_point_sources.cache()"
   ]
  },
  {
   "cell_type": "code",
   "execution_count": 41,
   "id": "2f99f275",
   "metadata": {},
   "outputs": [],
   "source": [
    "wind_year_window = Window.partitionBy([col(\"point_source_index\"), col(\"point_source_year\")]).orderBy(col(\"geod_dist_m\").asc())\n",
    "\n",
    "each_wind_year_min = wind_obs_point_sources.withColumn(\"row\",row_number().over(wind_year_window)).filter(col(\"row\") == 1).drop(\"row\")"
   ]
  },
  {
   "cell_type": "code",
   "execution_count": 42,
   "id": "afa22ba0",
   "metadata": {},
   "outputs": [
    {
     "name": "stdout",
     "output_type": "stream",
     "text": [
      "CPU times: total: 0 ns\n",
      "Wall time: 4.19 s\n"
     ]
    }
   ],
   "source": [
    "%%time\n",
    "\n",
    "each_wind_year_min_pd = each_wind_year_min.toPandas()"
   ]
  },
  {
   "cell_type": "code",
   "execution_count": 43,
   "id": "ad991148",
   "metadata": {},
   "outputs": [
    {
     "data": {
      "text/html": [
       "<div>\n",
       "<style scoped>\n",
       "    .dataframe tbody tr th:only-of-type {\n",
       "        vertical-align: middle;\n",
       "    }\n",
       "\n",
       "    .dataframe tbody tr th {\n",
       "        vertical-align: top;\n",
       "    }\n",
       "\n",
       "    .dataframe thead th {\n",
       "        text-align: right;\n",
       "    }\n",
       "</style>\n",
       "<table border=\"1\" class=\"dataframe\">\n",
       "  <thead>\n",
       "    <tr style=\"text-align: right;\">\n",
       "      <th></th>\n",
       "      <th>grid_index</th>\n",
       "      <th>wind_lat</th>\n",
       "      <th>wind_lon</th>\n",
       "      <th>point_source_index</th>\n",
       "      <th>point_source_lat</th>\n",
       "      <th>point_source_lon</th>\n",
       "      <th>point_source_year</th>\n",
       "      <th>point_source_pm25_tpy</th>\n",
       "      <th>point_source_zip</th>\n",
       "      <th>geod_dist_m</th>\n",
       "    </tr>\n",
       "  </thead>\n",
       "  <tbody>\n",
       "    <tr>\n",
       "      <th>0</th>\n",
       "      <td>443</td>\n",
       "      <td>37.779999</td>\n",
       "      <td>-122.160004</td>\n",
       "      <td>1019</td>\n",
       "      <td>37.793602</td>\n",
       "      <td>-122.268305</td>\n",
       "      <td>2005</td>\n",
       "      <td>2.0277</td>\n",
       "      <td>94607.0</td>\n",
       "      <td>9658.554153</td>\n",
       "    </tr>\n",
       "    <tr>\n",
       "      <th>1</th>\n",
       "      <td>722</td>\n",
       "      <td>34.529999</td>\n",
       "      <td>-120.410004</td>\n",
       "      <td>1097</td>\n",
       "      <td>34.598866</td>\n",
       "      <td>-120.460312</td>\n",
       "      <td>2005</td>\n",
       "      <td>2.33489</td>\n",
       "      <td>93436.0</td>\n",
       "      <td>8926.231706</td>\n",
       "    </tr>\n",
       "    <tr>\n",
       "      <th>2</th>\n",
       "      <td>631</td>\n",
       "      <td>38.279999</td>\n",
       "      <td>-120.910004</td>\n",
       "      <td>110</td>\n",
       "      <td>38.377472</td>\n",
       "      <td>-120.964508</td>\n",
       "      <td>2002</td>\n",
       "      <td>2.3024400000000003</td>\n",
       "      <td>95640.0</td>\n",
       "      <td>11822.855658</td>\n",
       "    </tr>\n",
       "    <tr>\n",
       "      <th>3</th>\n",
       "      <td>589</td>\n",
       "      <td>39.279999</td>\n",
       "      <td>-121.160004</td>\n",
       "      <td>1103</td>\n",
       "      <td>39.191578</td>\n",
       "      <td>-121.051447</td>\n",
       "      <td>2005</td>\n",
       "      <td>2.3535500000000003</td>\n",
       "      <td>95945.0</td>\n",
       "      <td>13572.376844</td>\n",
       "    </tr>\n",
       "    <tr>\n",
       "      <th>4</th>\n",
       "      <td>1105</td>\n",
       "      <td>33.779999</td>\n",
       "      <td>-117.910004</td>\n",
       "      <td>124</td>\n",
       "      <td>33.889980</td>\n",
       "      <td>-118.021004</td>\n",
       "      <td>2002</td>\n",
       "      <td>2.411900001</td>\n",
       "      <td>90638.0</td>\n",
       "      <td>15949.341073</td>\n",
       "    </tr>\n",
       "    <tr>\n",
       "      <th>...</th>\n",
       "      <td>...</td>\n",
       "      <td>...</td>\n",
       "      <td>...</td>\n",
       "      <td>...</td>\n",
       "      <td>...</td>\n",
       "      <td>...</td>\n",
       "      <td>...</td>\n",
       "      <td>...</td>\n",
       "      <td>...</td>\n",
       "      <td>...</td>\n",
       "    </tr>\n",
       "    <tr>\n",
       "      <th>7150</th>\n",
       "      <td>1289</td>\n",
       "      <td>35.279999</td>\n",
       "      <td>-116.660004</td>\n",
       "      <td>917</td>\n",
       "      <td>35.265205</td>\n",
       "      <td>-116.689735</td>\n",
       "      <td>2002</td>\n",
       "      <td>1447.163491935</td>\n",
       "      <td>92310.0</td>\n",
       "      <td>3164.062551</td>\n",
       "    </tr>\n",
       "    <tr>\n",
       "      <th>7151</th>\n",
       "      <td>1180</td>\n",
       "      <td>34.029999</td>\n",
       "      <td>-117.410004</td>\n",
       "      <td>918</td>\n",
       "      <td>34.077440</td>\n",
       "      <td>-117.499914</td>\n",
       "      <td>2005</td>\n",
       "      <td>1.7048283</td>\n",
       "      <td>92335.0</td>\n",
       "      <td>9828.526632</td>\n",
       "    </tr>\n",
       "    <tr>\n",
       "      <th>7152</th>\n",
       "      <td>402</td>\n",
       "      <td>38.529999</td>\n",
       "      <td>-122.410004</td>\n",
       "      <td>948</td>\n",
       "      <td>38.496387</td>\n",
       "      <td>-122.467804</td>\n",
       "      <td>2005</td>\n",
       "      <td>1.796759974</td>\n",
       "      <td>94574.0</td>\n",
       "      <td>6271.717525</td>\n",
       "    </tr>\n",
       "    <tr>\n",
       "      <th>7153</th>\n",
       "      <td>791</td>\n",
       "      <td>36.279999</td>\n",
       "      <td>-119.910004</td>\n",
       "      <td>950</td>\n",
       "      <td>36.166852</td>\n",
       "      <td>-119.965068</td>\n",
       "      <td>2005</td>\n",
       "      <td>1.804692367</td>\n",
       "      <td>93266.0</td>\n",
       "      <td>13495.978744</td>\n",
       "    </tr>\n",
       "    <tr>\n",
       "      <th>7154</th>\n",
       "      <td>444</td>\n",
       "      <td>37.529999</td>\n",
       "      <td>-122.160004</td>\n",
       "      <td>991</td>\n",
       "      <td>37.458199</td>\n",
       "      <td>-122.106796</td>\n",
       "      <td>2005</td>\n",
       "      <td>1.942336</td>\n",
       "      <td>94303.0</td>\n",
       "      <td>9254.333863</td>\n",
       "    </tr>\n",
       "  </tbody>\n",
       "</table>\n",
       "<p>7155 rows × 10 columns</p>\n",
       "</div>"
      ],
      "text/plain": [
       "      grid_index   wind_lat    wind_lon point_source_index  point_source_lat  \\\n",
       "0            443  37.779999 -122.160004               1019         37.793602   \n",
       "1            722  34.529999 -120.410004               1097         34.598866   \n",
       "2            631  38.279999 -120.910004                110         38.377472   \n",
       "3            589  39.279999 -121.160004               1103         39.191578   \n",
       "4           1105  33.779999 -117.910004                124         33.889980   \n",
       "...          ...        ...         ...                ...               ...   \n",
       "7150        1289  35.279999 -116.660004                917         35.265205   \n",
       "7151        1180  34.029999 -117.410004                918         34.077440   \n",
       "7152         402  38.529999 -122.410004                948         38.496387   \n",
       "7153         791  36.279999 -119.910004                950         36.166852   \n",
       "7154         444  37.529999 -122.160004                991         37.458199   \n",
       "\n",
       "      point_source_lon point_source_year point_source_pm25_tpy  \\\n",
       "0          -122.268305              2005                2.0277   \n",
       "1          -120.460312              2005               2.33489   \n",
       "2          -120.964508              2002    2.3024400000000003   \n",
       "3          -121.051447              2005    2.3535500000000003   \n",
       "4          -118.021004              2002           2.411900001   \n",
       "...                ...               ...                   ...   \n",
       "7150       -116.689735              2002        1447.163491935   \n",
       "7151       -117.499914              2005             1.7048283   \n",
       "7152       -122.467804              2005           1.796759974   \n",
       "7153       -119.965068              2005           1.804692367   \n",
       "7154       -122.106796              2005              1.942336   \n",
       "\n",
       "     point_source_zip   geod_dist_m  \n",
       "0             94607.0   9658.554153  \n",
       "1             93436.0   8926.231706  \n",
       "2             95640.0  11822.855658  \n",
       "3             95945.0  13572.376844  \n",
       "4             90638.0  15949.341073  \n",
       "...               ...           ...  \n",
       "7150          92310.0   3164.062551  \n",
       "7151          92335.0   9828.526632  \n",
       "7152          94574.0   6271.717525  \n",
       "7153          93266.0  13495.978744  \n",
       "7154          94303.0   9254.333863  \n",
       "\n",
       "[7155 rows x 10 columns]"
      ]
     },
     "metadata": {},
     "output_type": "display_data"
    }
   ],
   "source": [
    "display(each_wind_year_min_pd)"
   ]
  },
  {
   "cell_type": "code",
   "execution_count": 44,
   "id": "c6e23e70",
   "metadata": {},
   "outputs": [
    {
     "data": {
      "text/plain": [
       "7155"
      ]
     },
     "execution_count": 44,
     "metadata": {},
     "output_type": "execute_result"
    }
   ],
   "source": [
    "len(each_wind_year_min_pd.point_source_index.unique())"
   ]
  },
  {
   "cell_type": "code",
   "execution_count": 45,
   "id": "a7da9113",
   "metadata": {},
   "outputs": [
    {
     "data": {
      "text/plain": [
       "<AxesSubplot:>"
      ]
     },
     "execution_count": 45,
     "metadata": {},
     "output_type": "execute_result"
    },
    {
     "data": {
      "image/png": "[encoded data removed]",
      "text/plain": [
       "<Figure size 432x288 with 1 Axes>"
      ]
     },
     "metadata": {
      "needs_background": "light"
     },
     "output_type": "display_data"
    }
   ],
   "source": [
    "each_wind_year_min_pd.geod_dist_m.hist(bins=50)"
   ]
  },
  {
   "cell_type": "code",
   "execution_count": 46,
   "id": "6a568e1d",
   "metadata": {},
   "outputs": [],
   "source": [
    "each_wind_year_min_pd.to_csv('C:\\\\Users\\\\matts\\\\Google Drive\\\\berkeley\\\\.shortcut-targets-by-id\\\\11wLy1WKwOTcthBs1rpfEzkqax2BZG-6E\\\\W210_Capstone\\\\Data\\\\lookup tables\\\\wind_grid_to_ps_point_lookup_top10.csv')"
   ]
  },
  {
   "cell_type": "markdown",
   "id": "7e0a3a72",
   "metadata": {},
   "source": [
    "# Finished with point sources, now do the same for schools"
   ]
  },
  {
   "cell_type": "code",
   "execution_count": null,
   "id": "8be0b465",
   "metadata": {},
   "outputs": [],
   "source": []
  }
 ],
 "metadata": {
  "kernelspec": {
   "display_name": "Python 3",
   "language": "python",
   "name": "python3"
  },
  "language_info": {
   "codemirror_mode": {
    "name": "ipython",
    "version": 3
   },
   "file_extension": ".py",
   "mimetype": "text/x-python",
   "name": "python",
   "nbconvert_exporter": "python",
   "pygments_lexer": "ipython3",
   "version": "3.8.13"
  }
 },
 "nbformat": 4,
 "nbformat_minor": 5
}
