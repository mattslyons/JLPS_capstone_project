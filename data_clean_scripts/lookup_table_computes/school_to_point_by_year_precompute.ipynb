{
 "cells": [
  {
   "cell_type": "code",
   "execution_count": 1,
   "id": "e37d0a68",
   "metadata": {},
   "outputs": [],
   "source": [
    "import findspark\n",
    "findspark.init()"
   ]
  },
  {
   "cell_type": "code",
   "execution_count": 2,
   "id": "2d3320ba",
   "metadata": {},
   "outputs": [],
   "source": [
    "import pyspark\n",
    "import pandas as pd \n",
    "import numpy as np\n",
    "import os \n",
    "import datetime\n",
    "from pyspark.sql import SparkSession\n",
    "from pyspark import SparkContext\n",
    "from pyspark.sql.types import *\n",
    "from pyspark.sql.window import Window\n",
    "from math import radians, cos, sin, asin, sqrt\n",
    "from pyspark.sql import functions as F\n",
    "from pyspark.sql.functions import col, row_number"
   ]
  },
  {
   "cell_type": "code",
   "execution_count": 3,
   "id": "c306549a",
   "metadata": {},
   "outputs": [],
   "source": [
    "spark = SparkSession.builder.master(\"local[*]\").config(\"spark.executor.memory\", \"48g\").config(\"spark.driver.memory\", \"48g\").config(\"spark.driver.maxResultSize\",\"0\").getOrCreate()"
   ]
  },
  {
   "cell_type": "code",
   "execution_count": 4,
   "id": "b3287865",
   "metadata": {},
   "outputs": [],
   "source": [
    "gdrive_path = 'C:\\\\Users\\\\matts\\\\Google Drive\\\\berkeley\\\\.shortcut-targets-by-id\\\\11wLy1WKwOTcthBs1rpfEzkqax2BZG-6E\\\\W210_Capstone\\\\Data'"
   ]
  },
  {
   "cell_type": "code",
   "execution_count": 5,
   "id": "c322ecdf",
   "metadata": {},
   "outputs": [],
   "source": [
    "df_point_sources = spark.read.option(\"header\",True).csv(os.path.join(gdrive_path, 'Point source/pollution_point_sources.csv'))"
   ]
  },
  {
   "cell_type": "code",
   "execution_count": 6,
   "id": "604167b0",
   "metadata": {},
   "outputs": [],
   "source": [
    "df_point_sources = df_point_sources.select('_c0','checked_lat','checked_lon','report_year','PM25_emissions_TPY','combo_zip')"
   ]
  },
  {
   "cell_type": "code",
   "execution_count": 7,
   "id": "5595918b",
   "metadata": {},
   "outputs": [
    {
     "data": {
      "text/plain": [
       "7155"
      ]
     },
     "execution_count": 7,
     "metadata": {},
     "output_type": "execute_result"
    }
   ],
   "source": [
    "df_point_sources = df_point_sources.withColumnRenamed('_c0','point_source_index')\\\n",
    ".withColumnRenamed('checked_lat','point_source_lat')\\\n",
    ".withColumnRenamed('checked_lon','point_source_lon')\\\n",
    ".withColumnRenamed('report_year','point_source_year')\\\n",
    ".withColumnRenamed('PM25_emissions_TPY','point_source_pm25_tpy')\\\n",
    ".withColumnRenamed('combo_zip','point_source_zip')\n",
    "\n",
    "df_point_sources.count()"
   ]
  },
  {
   "cell_type": "code",
   "execution_count": 8,
   "id": "7f59a846",
   "metadata": {},
   "outputs": [
    {
     "name": "stdout",
     "output_type": "stream",
     "text": [
      "+------------------+----------------+----------------+-----------------+---------------------+----------------+\n",
      "|point_source_index|point_source_lat|point_source_lon|point_source_year|point_source_pm25_tpy|point_source_zip|\n",
      "+------------------+----------------+----------------+-----------------+---------------------+----------------+\n",
      "|                 0|       33.811466|      -117.91555|             2002|          1.787853962|         92803.0|\n",
      "|                 1|       34.088242|     -117.470116|             2002|               1.7892|         92335.0|\n",
      "|                 2|       33.911602|     -118.281799|             2002|          1.791299781|         93420.0|\n",
      "|                 3|       37.944618|     -121.325859|             2002|          1.797499934|         95203.0|\n",
      "|                 4|       39.221817|     -121.054955|             2002|              1.80154|         95945.0|\n",
      "+------------------+----------------+----------------+-----------------+---------------------+----------------+\n",
      "\n"
     ]
    }
   ],
   "source": [
    "df_point_sources.limit(5).show()"
   ]
  },
  {
   "cell_type": "code",
   "execution_count": 9,
   "id": "2fdc72f6",
   "metadata": {},
   "outputs": [],
   "source": [
    "school_locs = spark.read.option(\"header\",True).csv(os.path.join(gdrive_path, 'schools/filtered_joined_schools_data.csv'))"
   ]
  },
  {
   "cell_type": "code",
   "execution_count": 10,
   "id": "925440b4",
   "metadata": {},
   "outputs": [],
   "source": [
    "school_locs = school_locs.select(\"CDSCode\",\"County\",\"Zip_first_five\",\"OpenDate\",\"ClosedDate\",\"Merged_Lat\",\"Merged_Long\")"
   ]
  },
  {
   "cell_type": "code",
   "execution_count": 11,
   "id": "3c0cfde0",
   "metadata": {},
   "outputs": [
    {
     "data": {
      "text/plain": [
       "13297"
      ]
     },
     "execution_count": 11,
     "metadata": {},
     "output_type": "execute_result"
    }
   ],
   "source": [
    "school_locs = school_locs.withColumnRenamed(\"County\",\"school_county\")\\\n",
    ".withColumnRenamed(\"Zip_first_five\",\"school_zip\")\\\n",
    ".withColumnRenamed(\"OpenDate\",\"school_open_date\")\\\n",
    ".withColumnRenamed(\"ClosedDate\",\"school_closed_date\")\\\n",
    ".withColumnRenamed(\"Merged_Lat\",\"school_lat\")\\\n",
    ".withColumnRenamed(\"Merged_Long\",\"school_lon\")\n",
    "\n",
    "school_locs.count()"
   ]
  },
  {
   "cell_type": "code",
   "execution_count": 12,
   "id": "c0a6b596",
   "metadata": {},
   "outputs": [
    {
     "name": "stdout",
     "output_type": "stream",
     "text": [
      "+-------------+-------------+----------+----------------+------------------+----------+-----------+\n",
      "|      CDSCode|school_county|school_zip|school_open_date|school_closed_date|school_lat| school_lon|\n",
      "+-------------+-------------+----------+----------------+------------------+----------+-----------+\n",
      "|1100170000000|      Alameda|     94544|         No Data|           No Data| 37.658212| -122.09713|\n",
      "|1100170109835|      Alameda|     94560|       8/29/2005|         7/31/2015| 37.521436| -121.99391|\n",
      "|1100170112607|      Alameda|     94612|       8/28/2006|           No Data| 37.804722|-122.268394|\n",
      "|1100170118489|      Alameda|     94703|       8/21/2008|         6/30/2015| 37.868991| -122.27844|\n",
      "|1100170123968|      Alameda|     94606|       8/22/2011|           No Data| 37.784653|-122.238651|\n",
      "+-------------+-------------+----------+----------------+------------------+----------+-----------+\n",
      "\n"
     ]
    }
   ],
   "source": [
    "school_locs.limit(5).show()"
   ]
  },
  {
   "cell_type": "code",
   "execution_count": 13,
   "id": "48edd2ac",
   "metadata": {},
   "outputs": [],
   "source": [
    "from pyproj import Geod\n",
    "\n",
    "g = Geod(ellps=\"WGS84\") # Use WGS84 ellipsoid"
   ]
  },
  {
   "cell_type": "code",
   "execution_count": 40,
   "id": "315bdfed",
   "metadata": {},
   "outputs": [
    {
     "name": "stdout",
     "output_type": "stream",
     "text": [
      " 54.662 -123.449   288299.735\n",
      "-127.414   50.619   335283.902\n",
      "-86.343   65.836  3947232.483\n"
     ]
    }
   ],
   "source": [
    "newyork_lat = 40.+(47./60.); newyork_lon = -73.-(58./60.)\n",
    "boston_lat = 42.+(15./60.); boston_lon = -71.-(7./60.)\n",
    "dc_lat = 38.9072; dc_lon = -77.0369\n",
    "losangeles_lat = 34.0522; losangeles_lon = -118.2437\n",
    "\n",
    "az12,az21,dist = g.inv(newyork_lon,newyork_lat,boston_lon,boston_lat)\n",
    "f\"{az12:.3f} {az21:.3f} {dist:.3f}\"\n",
    "\n",
    "# compute the azimuths, distances from New York to several\n",
    "# cities (pass a list)\n",
    "\n",
    "lons1 = 3*[newyork_lon]; lats1 = 3*[newyork_lat]\n",
    "lons2 = [boston_lon, dc_lon, losangeles_lon]\n",
    "lats2 = [boston_lat, dc_lat, losangeles_lat]\n",
    "\n",
    "az12,az21,dist = g.inv(lons1,lats1,lons2,lats2)\n",
    "for faz, baz, d in list(zip(az12,az21,dist)):\n",
    "    print(f\"{faz:7.3f} {baz:8.3f} {d:12.3f}\")"
   ]
  },
  {
   "cell_type": "code",
   "execution_count": 14,
   "id": "563f0516",
   "metadata": {},
   "outputs": [],
   "source": [
    "def geod_dist(lat1, lon1, lat2, lon2):\n",
    "    \n",
    "    '''Site 2 (lat2/lon2) must be source location (in this case, pollution sites).\n",
    "       Site 1 (lat1/lon1) must be destination location (schools). AZ12 will look at\n",
    "       the angle from this point to the schools.'''\n",
    "    \n",
    "    az12,az21,dist = g.inv(lon2, lat2, lon1, lat1)\n",
    "    \n",
    "    return dist"
   ]
  },
  {
   "cell_type": "code",
   "execution_count": 15,
   "id": "c39bacb1",
   "metadata": {},
   "outputs": [],
   "source": [
    "udf_geod_dist = F.udf(geod_dist)"
   ]
  },
  {
   "cell_type": "code",
   "execution_count": 16,
   "id": "82f47c75",
   "metadata": {},
   "outputs": [],
   "source": [
    "def geod_angle(lat1, lon1, lat2, lon2):\n",
    "    \n",
    "    '''Site 2 (lat2/lon2) must be source location (in this case, pollution sites).\n",
    "       Site 1 (lat1/lon1) must be destination location (schools). AZ12 will look at\n",
    "       the angle from this point to the schools.'''\n",
    "    \n",
    "    az12,az21,dist = g.inv(lon2, lat2, lon1, lat1)\n",
    "    \n",
    "    return az12"
   ]
  },
  {
   "cell_type": "code",
   "execution_count": 17,
   "id": "6446e271",
   "metadata": {},
   "outputs": [],
   "source": [
    "udf_geod_angle = F.udf(geod_angle)"
   ]
  },
  {
   "cell_type": "code",
   "execution_count": 18,
   "id": "61471196",
   "metadata": {},
   "outputs": [],
   "source": [
    "schools_pointsources = school_locs.crossJoin(df_point_sources)\n",
    "\n",
    "#school_locs.count()\n",
    "#df_point_sources.count()\n",
    "#schools_pointsources.count()"
   ]
  },
  {
   "cell_type": "code",
   "execution_count": 19,
   "id": "8e055f5f",
   "metadata": {},
   "outputs": [
    {
     "name": "stdout",
     "output_type": "stream",
     "text": [
      "+-------------+-------------+----------+----------------+------------------+----------+----------+------------------+----------------+----------------+-----------------+---------------------+----------------+\n",
      "|      CDSCode|school_county|school_zip|school_open_date|school_closed_date|school_lat|school_lon|point_source_index|point_source_lat|point_source_lon|point_source_year|point_source_pm25_tpy|point_source_zip|\n",
      "+-------------+-------------+----------+----------------+------------------+----------+----------+------------------+----------------+----------------+-----------------+---------------------+----------------+\n",
      "|1100170000000|      Alameda|     94544|         No Data|           No Data| 37.658212|-122.09713|                 0|       33.811466|      -117.91555|             2002|          1.787853962|         92803.0|\n",
      "|1100170000000|      Alameda|     94544|         No Data|           No Data| 37.658212|-122.09713|                 1|       34.088242|     -117.470116|             2002|               1.7892|         92335.0|\n",
      "|1100170000000|      Alameda|     94544|         No Data|           No Data| 37.658212|-122.09713|                 2|       33.911602|     -118.281799|             2002|          1.791299781|         93420.0|\n",
      "|1100170000000|      Alameda|     94544|         No Data|           No Data| 37.658212|-122.09713|                 3|       37.944618|     -121.325859|             2002|          1.797499934|         95203.0|\n",
      "|1100170000000|      Alameda|     94544|         No Data|           No Data| 37.658212|-122.09713|                 4|       39.221817|     -121.054955|             2002|              1.80154|         95945.0|\n",
      "+-------------+-------------+----------+----------------+------------------+----------+----------+------------------+----------------+----------------+-----------------+---------------------+----------------+\n",
      "\n"
     ]
    }
   ],
   "source": [
    "schools_pointsources.limit(5).show()"
   ]
  },
  {
   "cell_type": "code",
   "execution_count": 20,
   "id": "a67a7256",
   "metadata": {},
   "outputs": [
    {
     "data": {
      "text/plain": [
       "DataFrame[CDSCode: string, school_county: string, school_zip: string, school_open_date: string, school_closed_date: string, school_lat: double, school_lon: double, point_source_index: string, point_source_lat: double, point_source_lon: double, point_source_year: string, point_source_pm25_tpy: string, point_source_zip: string]"
      ]
     },
     "execution_count": 20,
     "metadata": {},
     "output_type": "execute_result"
    }
   ],
   "source": [
    "schools_pointsources = schools_pointsources.withColumn(\"school_lat\",schools_pointsources.school_lat.cast('double'))\n",
    "schools_pointsources = schools_pointsources.withColumn(\"school_lon\",schools_pointsources.school_lon.cast('double'))\n",
    "schools_pointsources = schools_pointsources.withColumn(\"point_source_lat\",schools_pointsources.point_source_lat.cast('double'))\n",
    "schools_pointsources = schools_pointsources.withColumn(\"point_source_lon\",schools_pointsources.point_source_lon.cast('double'))\n",
    "\n",
    "schools_pointsources.cache()"
   ]
  },
  {
   "cell_type": "code",
   "execution_count": 21,
   "id": "34e7efbf",
   "metadata": {},
   "outputs": [],
   "source": [
    "import time"
   ]
  },
  {
   "cell_type": "code",
   "execution_count": 22,
   "id": "e2d50788",
   "metadata": {},
   "outputs": [
    {
     "name": "stdout",
     "output_type": "stream",
     "text": [
      "0.06400513648986816\n"
     ]
    }
   ],
   "source": [
    "start_time = time.time()\n",
    "\n",
    "# schools_pointsources = schools_pointsources.withColumn(\"h_dist_m\",\\\n",
    "#                         udf_haversine(schools_pointsources.school_lat,schools_pointsources.school_lon,schools_pointsources.point_source_lat,schools_pointsources.point_source_lon).cast(DoubleType()))\n",
    "\n",
    "schools_pointsources = schools_pointsources.withColumn(\"geod_dist_m\",\\\n",
    "                        udf_geod_dist(schools_pointsources.school_lat,schools_pointsources.school_lon,schools_pointsources.point_source_lat,schools_pointsources.point_source_lon).cast(DoubleType()))\n",
    "\n",
    "schools_pointsources = schools_pointsources.withColumn(\"angle_to_school\",\\\n",
    "                        udf_geod_angle(schools_pointsources.school_lat,schools_pointsources.school_lon,schools_pointsources.point_source_lat,schools_pointsources.point_source_lon).cast(DoubleType()))\n",
    "\n",
    "end_time = time.time()\n",
    "\n",
    "print(end_time - start_time)"
   ]
  },
  {
   "cell_type": "code",
   "execution_count": 23,
   "id": "5e94d89a",
   "metadata": {},
   "outputs": [
    {
     "data": {
      "text/plain": [
       "DataFrame[CDSCode: string, school_county: string, school_zip: string, school_open_date: string, school_closed_date: string, school_lat: double, school_lon: double, point_source_index: string, point_source_lat: double, point_source_lon: double, point_source_year: string, point_source_pm25_tpy: string, point_source_zip: string, geod_dist_m: double, angle_to_school: double]"
      ]
     },
     "execution_count": 23,
     "metadata": {},
     "output_type": "execute_result"
    }
   ],
   "source": [
    "schools_pointsources.cache()"
   ]
  },
  {
   "cell_type": "code",
   "execution_count": 24,
   "id": "580e0e3f",
   "metadata": {},
   "outputs": [
    {
     "data": {
      "text/html": [
       "<style>pre { white-space: pre !important; }</style>"
      ],
      "text/plain": [
       "<IPython.core.display.HTML object>"
      ]
     },
     "metadata": {},
     "output_type": "display_data"
    }
   ],
   "source": [
    "from IPython.core.display import HTML\n",
    "display(HTML(\"<style>pre { white-space: pre !important; }</style>\"))"
   ]
  },
  {
   "cell_type": "code",
   "execution_count": 26,
   "id": "2f99f275",
   "metadata": {},
   "outputs": [],
   "source": [
    "school_year_window = Window.partitionBy([col(\"CDSCode\"), col(\"point_source_year\")]).orderBy(col(\"geod_dist_m\").asc())\n",
    "\n",
    "each_school_year_min = schools_pointsources.withColumn(\"row\",row_number().over(school_year_window)).filter(col(\"row\") < 6).withColumnRenamed(\"row\",\"ps_distance_rank\")"
   ]
  },
  {
   "cell_type": "code",
   "execution_count": 27,
   "id": "afa22ba0",
   "metadata": {},
   "outputs": [
    {
     "name": "stdout",
     "output_type": "stream",
     "text": [
      "CPU times: total: 2.52 s\n",
      "Wall time: 17min 54s\n"
     ]
    }
   ],
   "source": [
    "%%time\n",
    "\n",
    "eachschool_year_min_pd = each_school_year_min.toPandas()"
   ]
  },
  {
   "cell_type": "code",
   "execution_count": 28,
   "id": "ad991148",
   "metadata": {},
   "outputs": [
    {
     "data": {
      "text/html": [
       "<div>\n",
       "<style scoped>\n",
       "    .dataframe tbody tr th:only-of-type {\n",
       "        vertical-align: middle;\n",
       "    }\n",
       "\n",
       "    .dataframe tbody tr th {\n",
       "        vertical-align: top;\n",
       "    }\n",
       "\n",
       "    .dataframe thead th {\n",
       "        text-align: right;\n",
       "    }\n",
       "</style>\n",
       "<table border=\"1\" class=\"dataframe\">\n",
       "  <thead>\n",
       "    <tr style=\"text-align: right;\">\n",
       "      <th></th>\n",
       "      <th>CDSCode</th>\n",
       "      <th>school_county</th>\n",
       "      <th>school_zip</th>\n",
       "      <th>school_open_date</th>\n",
       "      <th>school_closed_date</th>\n",
       "      <th>school_lat</th>\n",
       "      <th>school_lon</th>\n",
       "      <th>point_source_index</th>\n",
       "      <th>point_source_lat</th>\n",
       "      <th>point_source_lon</th>\n",
       "      <th>point_source_year</th>\n",
       "      <th>point_source_pm25_tpy</th>\n",
       "      <th>point_source_zip</th>\n",
       "      <th>geod_dist_m</th>\n",
       "      <th>angle_to_school</th>\n",
       "      <th>ps_distance_rank</th>\n",
       "    </tr>\n",
       "  </thead>\n",
       "  <tbody>\n",
       "    <tr>\n",
       "      <th>0</th>\n",
       "      <td>10621171030071</td>\n",
       "      <td>Fresno</td>\n",
       "      <td>93611</td>\n",
       "      <td>7/1/1967</td>\n",
       "      <td>No Data</td>\n",
       "      <td>36.834437</td>\n",
       "      <td>-119.690520</td>\n",
       "      <td>111</td>\n",
       "      <td>36.830643</td>\n",
       "      <td>-119.684105</td>\n",
       "      <td>2002</td>\n",
       "      <td>2.30478261</td>\n",
       "      <td>93612.0</td>\n",
       "      <td>710.460063</td>\n",
       "      <td>-53.654481</td>\n",
       "      <td>1</td>\n",
       "    </tr>\n",
       "    <tr>\n",
       "      <th>1</th>\n",
       "      <td>10621171030071</td>\n",
       "      <td>Fresno</td>\n",
       "      <td>93611</td>\n",
       "      <td>7/1/1967</td>\n",
       "      <td>No Data</td>\n",
       "      <td>36.834437</td>\n",
       "      <td>-119.690520</td>\n",
       "      <td>624</td>\n",
       "      <td>36.774975</td>\n",
       "      <td>-119.688148</td>\n",
       "      <td>2002</td>\n",
       "      <td>10.089</td>\n",
       "      <td>93727.0</td>\n",
       "      <td>6602.129320</td>\n",
       "      <td>-1.836595</td>\n",
       "      <td>2</td>\n",
       "    </tr>\n",
       "    <tr>\n",
       "      <th>2</th>\n",
       "      <td>10621171030071</td>\n",
       "      <td>Fresno</td>\n",
       "      <td>93611</td>\n",
       "      <td>7/1/1967</td>\n",
       "      <td>No Data</td>\n",
       "      <td>36.834437</td>\n",
       "      <td>-119.690520</td>\n",
       "      <td>787</td>\n",
       "      <td>36.852242</td>\n",
       "      <td>-119.815216</td>\n",
       "      <td>2002</td>\n",
       "      <td>29.2146</td>\n",
       "      <td>93711.0</td>\n",
       "      <td>11296.279671</td>\n",
       "      <td>100.036403</td>\n",
       "      <td>3</td>\n",
       "    </tr>\n",
       "    <tr>\n",
       "      <th>3</th>\n",
       "      <td>10621171030071</td>\n",
       "      <td>Fresno</td>\n",
       "      <td>93611</td>\n",
       "      <td>7/1/1967</td>\n",
       "      <td>No Data</td>\n",
       "      <td>36.834437</td>\n",
       "      <td>-119.690520</td>\n",
       "      <td>95</td>\n",
       "      <td>36.727818</td>\n",
       "      <td>-119.774910</td>\n",
       "      <td>2002</td>\n",
       "      <td>2.230020551</td>\n",
       "      <td>93721.0</td>\n",
       "      <td>14026.481929</td>\n",
       "      <td>32.458987</td>\n",
       "      <td>4</td>\n",
       "    </tr>\n",
       "    <tr>\n",
       "      <th>4</th>\n",
       "      <td>10621171030071</td>\n",
       "      <td>Fresno</td>\n",
       "      <td>93611</td>\n",
       "      <td>7/1/1967</td>\n",
       "      <td>No Data</td>\n",
       "      <td>36.834437</td>\n",
       "      <td>-119.690520</td>\n",
       "      <td>509</td>\n",
       "      <td>36.748840</td>\n",
       "      <td>-119.812027</td>\n",
       "      <td>2002</td>\n",
       "      <td>6.7392</td>\n",
       "      <td>93706.0</td>\n",
       "      <td>14416.827317</td>\n",
       "      <td>48.748808</td>\n",
       "      <td>5</td>\n",
       "    </tr>\n",
       "    <tr>\n",
       "      <th>...</th>\n",
       "      <td>...</td>\n",
       "      <td>...</td>\n",
       "      <td>...</td>\n",
       "      <td>...</td>\n",
       "      <td>...</td>\n",
       "      <td>...</td>\n",
       "      <td>...</td>\n",
       "      <td>...</td>\n",
       "      <td>...</td>\n",
       "      <td>...</td>\n",
       "      <td>...</td>\n",
       "      <td>...</td>\n",
       "      <td>...</td>\n",
       "      <td>...</td>\n",
       "      <td>...</td>\n",
       "      <td>...</td>\n",
       "    </tr>\n",
       "    <tr>\n",
       "      <th>398905</th>\n",
       "      <td>9619526005649</td>\n",
       "      <td>El Dorado</td>\n",
       "      <td>95667</td>\n",
       "      <td>7/1/1980</td>\n",
       "      <td>No Data</td>\n",
       "      <td>38.736181</td>\n",
       "      <td>-120.816026</td>\n",
       "      <td>1952</td>\n",
       "      <td>38.739338</td>\n",
       "      <td>-120.677124</td>\n",
       "      <td>2005</td>\n",
       "      <td>52.709</td>\n",
       "      <td>95709.0</td>\n",
       "      <td>12081.953029</td>\n",
       "      <td>-91.618746</td>\n",
       "      <td>1</td>\n",
       "    </tr>\n",
       "    <tr>\n",
       "      <th>398906</th>\n",
       "      <td>9619526005649</td>\n",
       "      <td>El Dorado</td>\n",
       "      <td>95667</td>\n",
       "      <td>7/1/1980</td>\n",
       "      <td>No Data</td>\n",
       "      <td>38.736181</td>\n",
       "      <td>-120.816026</td>\n",
       "      <td>1400</td>\n",
       "      <td>38.655748</td>\n",
       "      <td>-120.965974</td>\n",
       "      <td>2005</td>\n",
       "      <td>4.153700000000001</td>\n",
       "      <td>95682.0</td>\n",
       "      <td>15807.989566</td>\n",
       "      <td>55.562599</td>\n",
       "      <td>2</td>\n",
       "    </tr>\n",
       "    <tr>\n",
       "      <th>398907</th>\n",
       "      <td>9619526005649</td>\n",
       "      <td>El Dorado</td>\n",
       "      <td>95667</td>\n",
       "      <td>7/1/1980</td>\n",
       "      <td>No Data</td>\n",
       "      <td>38.736181</td>\n",
       "      <td>-120.816026</td>\n",
       "      <td>934</td>\n",
       "      <td>38.652626</td>\n",
       "      <td>-120.964729</td>\n",
       "      <td>2005</td>\n",
       "      <td>1.749537963</td>\n",
       "      <td>95682.0</td>\n",
       "      <td>15918.379454</td>\n",
       "      <td>54.313883</td>\n",
       "      <td>3</td>\n",
       "    </tr>\n",
       "    <tr>\n",
       "      <th>398908</th>\n",
       "      <td>9619526005649</td>\n",
       "      <td>El Dorado</td>\n",
       "      <td>95667</td>\n",
       "      <td>7/1/1980</td>\n",
       "      <td>No Data</td>\n",
       "      <td>38.736181</td>\n",
       "      <td>-120.816026</td>\n",
       "      <td>1305</td>\n",
       "      <td>38.602852</td>\n",
       "      <td>-121.058006</td>\n",
       "      <td>2005</td>\n",
       "      <td>3.441279975</td>\n",
       "      <td>95762.0</td>\n",
       "      <td>25739.919673</td>\n",
       "      <td>54.824054</td>\n",
       "      <td>4</td>\n",
       "    </tr>\n",
       "    <tr>\n",
       "      <th>398909</th>\n",
       "      <td>9619526005649</td>\n",
       "      <td>El Dorado</td>\n",
       "      <td>95667</td>\n",
       "      <td>7/1/1980</td>\n",
       "      <td>No Data</td>\n",
       "      <td>38.736181</td>\n",
       "      <td>-120.816026</td>\n",
       "      <td>989</td>\n",
       "      <td>38.800800</td>\n",
       "      <td>-121.215202</td>\n",
       "      <td>2005</td>\n",
       "      <td>1.9358188</td>\n",
       "      <td>95677.0</td>\n",
       "      <td>35425.437762</td>\n",
       "      <td>101.557781</td>\n",
       "      <td>5</td>\n",
       "    </tr>\n",
       "  </tbody>\n",
       "</table>\n",
       "<p>398910 rows × 16 columns</p>\n",
       "</div>"
      ],
      "text/plain": [
       "               CDSCode school_county school_zip school_open_date  \\\n",
       "0       10621171030071        Fresno      93611         7/1/1967   \n",
       "1       10621171030071        Fresno      93611         7/1/1967   \n",
       "2       10621171030071        Fresno      93611         7/1/1967   \n",
       "3       10621171030071        Fresno      93611         7/1/1967   \n",
       "4       10621171030071        Fresno      93611         7/1/1967   \n",
       "...                ...           ...        ...              ...   \n",
       "398905   9619526005649     El Dorado      95667         7/1/1980   \n",
       "398906   9619526005649     El Dorado      95667         7/1/1980   \n",
       "398907   9619526005649     El Dorado      95667         7/1/1980   \n",
       "398908   9619526005649     El Dorado      95667         7/1/1980   \n",
       "398909   9619526005649     El Dorado      95667         7/1/1980   \n",
       "\n",
       "       school_closed_date  school_lat  school_lon point_source_index  \\\n",
       "0                 No Data   36.834437 -119.690520                111   \n",
       "1                 No Data   36.834437 -119.690520                624   \n",
       "2                 No Data   36.834437 -119.690520                787   \n",
       "3                 No Data   36.834437 -119.690520                 95   \n",
       "4                 No Data   36.834437 -119.690520                509   \n",
       "...                   ...         ...         ...                ...   \n",
       "398905            No Data   38.736181 -120.816026               1952   \n",
       "398906            No Data   38.736181 -120.816026               1400   \n",
       "398907            No Data   38.736181 -120.816026                934   \n",
       "398908            No Data   38.736181 -120.816026               1305   \n",
       "398909            No Data   38.736181 -120.816026                989   \n",
       "\n",
       "        point_source_lat  point_source_lon point_source_year  \\\n",
       "0              36.830643       -119.684105              2002   \n",
       "1              36.774975       -119.688148              2002   \n",
       "2              36.852242       -119.815216              2002   \n",
       "3              36.727818       -119.774910              2002   \n",
       "4              36.748840       -119.812027              2002   \n",
       "...                  ...               ...               ...   \n",
       "398905         38.739338       -120.677124              2005   \n",
       "398906         38.655748       -120.965974              2005   \n",
       "398907         38.652626       -120.964729              2005   \n",
       "398908         38.602852       -121.058006              2005   \n",
       "398909         38.800800       -121.215202              2005   \n",
       "\n",
       "       point_source_pm25_tpy point_source_zip   geod_dist_m  angle_to_school  \\\n",
       "0                 2.30478261          93612.0    710.460063       -53.654481   \n",
       "1                     10.089          93727.0   6602.129320        -1.836595   \n",
       "2                    29.2146          93711.0  11296.279671       100.036403   \n",
       "3                2.230020551          93721.0  14026.481929        32.458987   \n",
       "4                     6.7392          93706.0  14416.827317        48.748808   \n",
       "...                      ...              ...           ...              ...   \n",
       "398905                52.709          95709.0  12081.953029       -91.618746   \n",
       "398906     4.153700000000001          95682.0  15807.989566        55.562599   \n",
       "398907           1.749537963          95682.0  15918.379454        54.313883   \n",
       "398908           3.441279975          95762.0  25739.919673        54.824054   \n",
       "398909             1.9358188          95677.0  35425.437762       101.557781   \n",
       "\n",
       "        ps_distance_rank  \n",
       "0                      1  \n",
       "1                      2  \n",
       "2                      3  \n",
       "3                      4  \n",
       "4                      5  \n",
       "...                  ...  \n",
       "398905                 1  \n",
       "398906                 2  \n",
       "398907                 3  \n",
       "398908                 4  \n",
       "398909                 5  \n",
       "\n",
       "[398910 rows x 16 columns]"
      ]
     },
     "metadata": {},
     "output_type": "display_data"
    }
   ],
   "source": [
    "display(eachschool_year_min_pd)"
   ]
  },
  {
   "cell_type": "code",
   "execution_count": 55,
   "id": "c6e23e70",
   "metadata": {},
   "outputs": [
    {
     "data": {
      "text/plain": [
       "5579"
      ]
     },
     "execution_count": 55,
     "metadata": {},
     "output_type": "execute_result"
    }
   ],
   "source": [
    "len(eachschool_year_min_pd.point_source_index.unique())"
   ]
  },
  {
   "cell_type": "code",
   "execution_count": 56,
   "id": "a7da9113",
   "metadata": {},
   "outputs": [
    {
     "data": {
      "text/plain": [
       "<AxesSubplot:>"
      ]
     },
     "execution_count": 56,
     "metadata": {},
     "output_type": "execute_result"
    },
    {
     "data": {
      "image/png": "[encoded data removed]",
      "text/plain": [
       "<Figure size 432x288 with 1 Axes>"
      ]
     },
     "metadata": {
      "needs_background": "light"
     },
     "output_type": "display_data"
    }
   ],
   "source": [
    "eachschool_year_min_pd.geod_dist_m.hist(bins=50)"
   ]
  },
  {
   "cell_type": "code",
   "execution_count": 57,
   "id": "bc939f68",
   "metadata": {},
   "outputs": [
    {
     "data": {
      "text/plain": [
       "<AxesSubplot:>"
      ]
     },
     "execution_count": 57,
     "metadata": {},
     "output_type": "execute_result"
    },
    {
     "data": {
      "image/png": "[encoded data removed]",
      "text/plain": [
       "<Figure size 432x288 with 1 Axes>"
      ]
     },
     "metadata": {
      "needs_background": "light"
     },
     "output_type": "display_data"
    }
   ],
   "source": [
    "eachschool_year_min_pd.angle_to_school.hist(bins=50)"
   ]
  },
  {
   "cell_type": "code",
   "execution_count": 58,
   "id": "69de02a0",
   "metadata": {},
   "outputs": [
    {
     "data": {
      "text/plain": [
       "<AxesSubplot:>"
      ]
     },
     "execution_count": 58,
     "metadata": {},
     "output_type": "execute_result"
    },
    {
     "data": {
      "image/png": "[encoded data removed]",
      "text/plain": [
       "<Figure size 432x288 with 1 Axes>"
      ]
     },
     "metadata": {
      "needs_background": "light"
     },
     "output_type": "display_data"
    }
   ],
   "source": [
    "eachschool_year_min_pd.point_source_pm25_tpy.hist()"
   ]
  },
  {
   "cell_type": "code",
   "execution_count": 59,
   "id": "6a568e1d",
   "metadata": {},
   "outputs": [],
   "source": [
    "eachschool_year_min_pd.to_csv('C:\\\\Users\\\\matts\\\\Google Drive\\\\berkeley\\\\.shortcut-targets-by-id\\\\11wLy1WKwOTcthBs1rpfEzkqax2BZG-6E\\\\W210_Capstone\\\\Data\\\\schools\\\\school_year_to_point_lookup_top_5.csv')"
   ]
  },
  {
   "cell_type": "code",
   "execution_count": 60,
   "id": "52c2b43b",
   "metadata": {},
   "outputs": [],
   "source": [
    "school_distance_to_point_source_max = 2250 # median value of distance to nearest pollution site for each school"
   ]
  },
  {
   "cell_type": "code",
   "execution_count": 61,
   "id": "a99a5c50",
   "metadata": {},
   "outputs": [],
   "source": [
    "point_sources_within_5miles_schools = schools_pointsources.filter(schools_pointsources.geod_dist_m < school_distance_to_point_source_max)"
   ]
  },
  {
   "cell_type": "code",
   "execution_count": 63,
   "id": "34634719",
   "metadata": {},
   "outputs": [],
   "source": [
    "count_point_sources_within_2250m_schools = point_sources_within_5miles_schools.groupBy([col(\"CDSCode\"), col(\"point_source_year\")]).count()"
   ]
  },
  {
   "cell_type": "code",
   "execution_count": 64,
   "id": "764f1032",
   "metadata": {},
   "outputs": [],
   "source": [
    "school_2250m_pointsource = count_point_sources_within_2250m_schools.toPandas()"
   ]
  },
  {
   "cell_type": "code",
   "execution_count": 65,
   "id": "2040d242",
   "metadata": {},
   "outputs": [],
   "source": [
    "school_2250m_pointsource.to_csv('C:\\\\Users\\\\matts\\\\Google Drive\\\\berkeley\\\\.shortcut-targets-by-id\\\\11wLy1WKwOTcthBs1rpfEzkqax2BZG-6E\\\\W210_Capstone\\\\Data\\\\schools\\\\pointsources_within_2250m_by_school_by_year.csv')"
   ]
  }
 ],
 "metadata": {
  "kernelspec": {
   "display_name": "Python 3",
   "language": "python",
   "name": "python3"
  },
  "language_info": {
   "codemirror_mode": {
    "name": "ipython",
    "version": 3
   },
   "file_extension": ".py",
   "mimetype": "text/x-python",
   "name": "python",
   "nbconvert_exporter": "python",
   "pygments_lexer": "ipython3",
   "version": "3.8.13"
  }
 },
 "nbformat": 4,
 "nbformat_minor": 5
}
