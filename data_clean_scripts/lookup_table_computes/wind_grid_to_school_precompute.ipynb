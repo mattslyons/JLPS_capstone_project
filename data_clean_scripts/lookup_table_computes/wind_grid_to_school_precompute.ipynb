{
 "cells": [
  {
   "cell_type": "code",
   "execution_count": 49,
   "id": "e37d0a68",
   "metadata": {},
   "outputs": [],
   "source": [
    "import findspark\n",
    "findspark.init()"
   ]
  },
  {
   "cell_type": "code",
   "execution_count": 50,
   "id": "2d3320ba",
   "metadata": {},
   "outputs": [
    {
     "data": {
      "text/html": [
       "<style>pre { white-space: pre !important; }</style>"
      ],
      "text/plain": [
       "<IPython.core.display.HTML object>"
      ]
     },
     "metadata": {},
     "output_type": "display_data"
    }
   ],
   "source": [
    "import pyspark\n",
    "import pandas as pd \n",
    "import numpy as np\n",
    "import os \n",
    "import datetime\n",
    "from pyspark.sql import SparkSession\n",
    "from pyspark import SparkContext\n",
    "from pyspark.sql.types import *\n",
    "from pyspark.sql.window import Window\n",
    "from math import radians, cos, sin, asin, sqrt\n",
    "from pyspark.sql import functions as F\n",
    "from pyspark.sql.functions import col, row_number\n",
    "\n",
    "from IPython.core.display import HTML\n",
    "display(HTML(\"<style>pre { white-space: pre !important; }</style>\"))\n",
    "\n",
    "pd.set_option('display.max_columns', None)"
   ]
  },
  {
   "cell_type": "code",
   "execution_count": 51,
   "id": "c306549a",
   "metadata": {},
   "outputs": [],
   "source": [
    "spark = SparkSession.builder.master(\"local[*]\").config(\"spark.executor.memory\", \"22g\").config(\"spark.driver.memory\", \"22g\").config(\"spark.driver.maxResultSize\",\"0\").getOrCreate()"
   ]
  },
  {
   "cell_type": "code",
   "execution_count": 52,
   "id": "b3287865",
   "metadata": {},
   "outputs": [],
   "source": [
    "gdrive_path = 'C:\\\\Users\\\\matts\\\\Google Drive\\\\berkeley\\\\.shortcut-targets-by-id\\\\11wLy1WKwOTcthBs1rpfEzkqax2BZG-6E\\\\W210_Capstone\\\\Data'"
   ]
  },
  {
   "cell_type": "code",
   "execution_count": 53,
   "id": "0ff59b32",
   "metadata": {},
   "outputs": [],
   "source": [
    "wind_grid = spark.read.option(\"header\",True).csv(os.path.join(gdrive_path, 'lookup tables/ERA5_grid.csv'))"
   ]
  },
  {
   "cell_type": "code",
   "execution_count": 54,
   "id": "3699f148",
   "metadata": {},
   "outputs": [
    {
     "name": "stdout",
     "output_type": "stream",
     "text": [
      "root\n",
      " |-- grid_index: string (nullable = true)\n",
      " |-- lat: string (nullable = true)\n",
      " |-- lon: string (nullable = true)\n",
      "\n"
     ]
    }
   ],
   "source": [
    "wind_grid.printSchema()"
   ]
  },
  {
   "cell_type": "code",
   "execution_count": 55,
   "id": "00ecfad8",
   "metadata": {},
   "outputs": [],
   "source": [
    "# convert lat/lon/idx to float/float/int\n",
    "\n",
    "wind_grid = wind_grid.withColumn(\"lat\",wind_grid.lat.cast('double')).withColumn(\"lon\",wind_grid.lon.cast('double')).withColumn(\"grid_index\",wind_grid.grid_index.cast('integer'))"
   ]
  },
  {
   "cell_type": "code",
   "execution_count": 56,
   "id": "8dcf01bf",
   "metadata": {},
   "outputs": [
    {
     "name": "stdout",
     "output_type": "stream",
     "text": [
      "root\n",
      " |-- grid_index: integer (nullable = true)\n",
      " |-- lat: double (nullable = true)\n",
      " |-- lon: double (nullable = true)\n",
      "\n"
     ]
    }
   ],
   "source": [
    "wind_grid.printSchema()"
   ]
  },
  {
   "cell_type": "code",
   "execution_count": 57,
   "id": "ebc66e62",
   "metadata": {},
   "outputs": [
    {
     "name": "stdout",
     "output_type": "stream",
     "text": [
      "+----------+---------+-----------+\n",
      "|grid_index|      lat|        lon|\n",
      "+----------+---------+-----------+\n",
      "|         1|42.279999|-124.410004|\n",
      "|         2|42.279999|-124.160004|\n",
      "|         3|42.279999|-123.910004|\n",
      "|         4|42.279999|-123.660004|\n",
      "|         5|42.279999|-123.410004|\n",
      "+----------+---------+-----------+\n",
      "\n"
     ]
    }
   ],
   "source": [
    "wind_grid.limit(5).show()"
   ]
  },
  {
   "cell_type": "code",
   "execution_count": 58,
   "id": "c322ecdf",
   "metadata": {},
   "outputs": [],
   "source": [
    "school_locs = spark.read.option(\"header\",True).csv(os.path.join(gdrive_path, 'schools/filtered_joined_schools_data.csv'))"
   ]
  },
  {
   "cell_type": "code",
   "execution_count": 59,
   "id": "604167b0",
   "metadata": {},
   "outputs": [],
   "source": [
    "school_locs = school_locs.select(\"CDSCode\",\"County\",\"Zip_first_five\",\"OpenDate\",\"ClosedDate\",\"Merged_Lat\",\"Merged_Long\")"
   ]
  },
  {
   "cell_type": "code",
   "execution_count": 60,
   "id": "5595918b",
   "metadata": {},
   "outputs": [
    {
     "data": {
      "text/plain": [
       "13297"
      ]
     },
     "execution_count": 60,
     "metadata": {},
     "output_type": "execute_result"
    }
   ],
   "source": [
    "school_locs = school_locs.withColumnRenamed(\"County\",\"school_county\")\\\n",
    ".withColumnRenamed(\"Zip_first_five\",\"school_zip\")\\\n",
    ".withColumnRenamed(\"OpenDate\",\"school_open_date\")\\\n",
    ".withColumnRenamed(\"ClosedDate\",\"school_closed_date\")\\\n",
    ".withColumnRenamed(\"Merged_Lat\",\"school_lat\")\\\n",
    ".withColumnRenamed(\"Merged_Long\",\"school_lon\")\n",
    "\n",
    "school_locs.count()"
   ]
  },
  {
   "cell_type": "code",
   "execution_count": 61,
   "id": "7f59a846",
   "metadata": {},
   "outputs": [
    {
     "name": "stdout",
     "output_type": "stream",
     "text": [
      "+-------------+-------------+----------+----------------+------------------+----------+-----------+\n",
      "|      CDSCode|school_county|school_zip|school_open_date|school_closed_date|school_lat| school_lon|\n",
      "+-------------+-------------+----------+----------------+------------------+----------+-----------+\n",
      "|1100170000000|      Alameda|     94544|         No Data|           No Data| 37.658212| -122.09713|\n",
      "|1100170109835|      Alameda|     94560|       8/29/2005|         7/31/2015| 37.521436| -121.99391|\n",
      "|1100170112607|      Alameda|     94612|       8/28/2006|           No Data| 37.804722|-122.268394|\n",
      "|1100170118489|      Alameda|     94703|       8/21/2008|         6/30/2015| 37.868991| -122.27844|\n",
      "|1100170123968|      Alameda|     94606|       8/22/2011|           No Data| 37.784653|-122.238651|\n",
      "+-------------+-------------+----------+----------------+------------------+----------+-----------+\n",
      "\n"
     ]
    }
   ],
   "source": [
    "school_locs.limit(5).show()"
   ]
  },
  {
   "cell_type": "code",
   "execution_count": 62,
   "id": "48edd2ac",
   "metadata": {},
   "outputs": [],
   "source": [
    "from pyproj import Geod\n",
    "\n",
    "g = Geod(ellps=\"WGS84\") # Use WGS84 ellipsoid"
   ]
  },
  {
   "cell_type": "code",
   "execution_count": 40,
   "id": "315bdfed",
   "metadata": {},
   "outputs": [
    {
     "name": "stdout",
     "output_type": "stream",
     "text": [
      " 54.662 -123.449   288299.735\n",
      "-127.414   50.619   335283.902\n",
      "-86.343   65.836  3947232.483\n"
     ]
    }
   ],
   "source": [
    "newyork_lat = 40.+(47./60.); newyork_lon = -73.-(58./60.)\n",
    "boston_lat = 42.+(15./60.); boston_lon = -71.-(7./60.)\n",
    "dc_lat = 38.9072; dc_lon = -77.0369\n",
    "losangeles_lat = 34.0522; losangeles_lon = -118.2437\n",
    "\n",
    "az12,az21,dist = g.inv(newyork_lon,newyork_lat,boston_lon,boston_lat)\n",
    "f\"{az12:.3f} {az21:.3f} {dist:.3f}\"\n",
    "\n",
    "# compute the azimuths, distances from New York to several\n",
    "# cities (pass a list)\n",
    "\n",
    "lons1 = 3*[newyork_lon]; lats1 = 3*[newyork_lat]\n",
    "lons2 = [boston_lon, dc_lon, losangeles_lon]\n",
    "lats2 = [boston_lat, dc_lat, losangeles_lat]\n",
    "\n",
    "az12,az21,dist = g.inv(lons1,lats1,lons2,lats2)\n",
    "for faz, baz, d in list(zip(az12,az21,dist)):\n",
    "    print(f\"{faz:7.3f} {baz:8.3f} {d:12.3f}\")"
   ]
  },
  {
   "cell_type": "code",
   "execution_count": 63,
   "id": "563f0516",
   "metadata": {},
   "outputs": [],
   "source": [
    "def geod_dist(lat1, lon1, lat2, lon2):\n",
    "    \n",
    "    '''Site 2 (lat2/lon2) must be source location (in this case, pollution sites).\n",
    "       Site 1 (lat1/lon1) must be destination location (schools). AZ12 will look at\n",
    "       the angle from this point to the schools.'''\n",
    "    \n",
    "    az12,az21,dist = g.inv(lon2, lat2, lon1, lat1)\n",
    "    \n",
    "    return dist"
   ]
  },
  {
   "cell_type": "code",
   "execution_count": 64,
   "id": "c39bacb1",
   "metadata": {},
   "outputs": [],
   "source": [
    "udf_geod_dist = F.udf(geod_dist)"
   ]
  },
  {
   "cell_type": "code",
   "execution_count": 65,
   "id": "61471196",
   "metadata": {},
   "outputs": [],
   "source": [
    "wind_obs_point_sources = wind_grid.crossJoin(school_locs)"
   ]
  },
  {
   "cell_type": "code",
   "execution_count": 66,
   "id": "343b6f78",
   "metadata": {},
   "outputs": [
    {
     "data": {
      "text/plain": [
       "22338960"
      ]
     },
     "execution_count": 66,
     "metadata": {},
     "output_type": "execute_result"
    }
   ],
   "source": [
    "wind_obs_point_sources.count()"
   ]
  },
  {
   "cell_type": "code",
   "execution_count": 67,
   "id": "8e055f5f",
   "metadata": {},
   "outputs": [
    {
     "name": "stdout",
     "output_type": "stream",
     "text": [
      "+----------+---------+-----------+-------------+-------------+----------+----------------+------------------+----------+----------+\n",
      "|grid_index|      lat|        lon|      CDSCode|school_county|school_zip|school_open_date|school_closed_date|school_lat|school_lon|\n",
      "+----------+---------+-----------+-------------+-------------+----------+----------------+------------------+----------+----------+\n",
      "|         1|42.279999|-124.410004|1100170000000|      Alameda|     94544|         No Data|           No Data| 37.658212|-122.09713|\n",
      "|         2|42.279999|-124.160004|1100170000000|      Alameda|     94544|         No Data|           No Data| 37.658212|-122.09713|\n",
      "|         3|42.279999|-123.910004|1100170000000|      Alameda|     94544|         No Data|           No Data| 37.658212|-122.09713|\n",
      "|         4|42.279999|-123.660004|1100170000000|      Alameda|     94544|         No Data|           No Data| 37.658212|-122.09713|\n",
      "|         5|42.279999|-123.410004|1100170000000|      Alameda|     94544|         No Data|           No Data| 37.658212|-122.09713|\n",
      "+----------+---------+-----------+-------------+-------------+----------+----------------+------------------+----------+----------+\n",
      "\n"
     ]
    }
   ],
   "source": [
    "wind_obs_point_sources.limit(5).show()"
   ]
  },
  {
   "cell_type": "code",
   "execution_count": 68,
   "id": "17aed99a",
   "metadata": {},
   "outputs": [
    {
     "name": "stdout",
     "output_type": "stream",
     "text": [
      "root\n",
      " |-- grid_index: integer (nullable = true)\n",
      " |-- lat: double (nullable = true)\n",
      " |-- lon: double (nullable = true)\n",
      " |-- CDSCode: string (nullable = true)\n",
      " |-- school_county: string (nullable = true)\n",
      " |-- school_zip: string (nullable = true)\n",
      " |-- school_open_date: string (nullable = true)\n",
      " |-- school_closed_date: string (nullable = true)\n",
      " |-- school_lat: string (nullable = true)\n",
      " |-- school_lon: string (nullable = true)\n",
      "\n"
     ]
    }
   ],
   "source": [
    "wind_obs_point_sources.printSchema()"
   ]
  },
  {
   "cell_type": "code",
   "execution_count": 69,
   "id": "a67a7256",
   "metadata": {},
   "outputs": [
    {
     "name": "stdout",
     "output_type": "stream",
     "text": [
      "root\n",
      " |-- grid_index: integer (nullable = true)\n",
      " |-- wind_lat: double (nullable = true)\n",
      " |-- wind_lon: double (nullable = true)\n",
      " |-- CDSCode: string (nullable = true)\n",
      " |-- school_county: string (nullable = true)\n",
      " |-- school_zip: string (nullable = true)\n",
      " |-- school_open_date: string (nullable = true)\n",
      " |-- school_closed_date: string (nullable = true)\n",
      " |-- school_lat: double (nullable = true)\n",
      " |-- school_lon: double (nullable = true)\n",
      "\n"
     ]
    },
    {
     "data": {
      "text/plain": [
       "DataFrame[grid_index: int, wind_lat: double, wind_lon: double, CDSCode: string, school_county: string, school_zip: string, school_open_date: string, school_closed_date: string, school_lat: double, school_lon: double]"
      ]
     },
     "execution_count": 69,
     "metadata": {},
     "output_type": "execute_result"
    }
   ],
   "source": [
    "wind_obs_point_sources = wind_obs_point_sources.withColumnRenamed(\"lat\",\"wind_lat\")\n",
    "wind_obs_point_sources = wind_obs_point_sources.withColumnRenamed(\"lon\",\"wind_lon\")\n",
    "wind_obs_point_sources = wind_obs_point_sources.withColumn(\"school_lat\",wind_obs_point_sources.school_lat.cast('double'))\n",
    "wind_obs_point_sources = wind_obs_point_sources.withColumn(\"school_lon\",wind_obs_point_sources.school_lon.cast('double'))\n",
    "\n",
    "wind_obs_point_sources.printSchema()\n",
    "\n",
    "wind_obs_point_sources.cache()"
   ]
  },
  {
   "cell_type": "code",
   "execution_count": 70,
   "id": "e2d50788",
   "metadata": {},
   "outputs": [],
   "source": [
    "wind_obs_point_sources = wind_obs_point_sources.withColumn(\"geod_dist_m\",\\\n",
    "                        udf_geod_dist(wind_obs_point_sources.wind_lat,wind_obs_point_sources.wind_lon,wind_obs_point_sources.school_lat,wind_obs_point_sources.school_lon).cast(DoubleType()))"
   ]
  },
  {
   "cell_type": "code",
   "execution_count": 71,
   "id": "5e94d89a",
   "metadata": {},
   "outputs": [
    {
     "data": {
      "text/plain": [
       "DataFrame[grid_index: int, wind_lat: double, wind_lon: double, CDSCode: string, school_county: string, school_zip: string, school_open_date: string, school_closed_date: string, school_lat: double, school_lon: double, geod_dist_m: double]"
      ]
     },
     "execution_count": 71,
     "metadata": {},
     "output_type": "execute_result"
    }
   ],
   "source": [
    "wind_obs_point_sources.cache()"
   ]
  },
  {
   "cell_type": "code",
   "execution_count": 72,
   "id": "2f99f275",
   "metadata": {},
   "outputs": [],
   "source": [
    "wind_year_window = Window.partitionBy([col(\"CDSCode\")]).orderBy(col(\"geod_dist_m\").asc())\n",
    "\n",
    "each_wind_year_min = wind_obs_point_sources.withColumn(\"row\",row_number().over(wind_year_window)).filter(col(\"row\") == 1).drop(\"row\")"
   ]
  },
  {
   "cell_type": "code",
   "execution_count": 73,
   "id": "afa22ba0",
   "metadata": {},
   "outputs": [
    {
     "name": "stdout",
     "output_type": "stream",
     "text": [
      "CPU times: total: 31.2 ms\n",
      "Wall time: 2min 17s\n"
     ]
    }
   ],
   "source": [
    "%%time\n",
    "\n",
    "each_wind_year_min_pd = each_wind_year_min.toPandas()"
   ]
  },
  {
   "cell_type": "code",
   "execution_count": 74,
   "id": "ad991148",
   "metadata": {},
   "outputs": [
    {
     "data": {
      "text/html": [
       "<div>\n",
       "<style scoped>\n",
       "    .dataframe tbody tr th:only-of-type {\n",
       "        vertical-align: middle;\n",
       "    }\n",
       "\n",
       "    .dataframe tbody tr th {\n",
       "        vertical-align: top;\n",
       "    }\n",
       "\n",
       "    .dataframe thead th {\n",
       "        text-align: right;\n",
       "    }\n",
       "</style>\n",
       "<table border=\"1\" class=\"dataframe\">\n",
       "  <thead>\n",
       "    <tr style=\"text-align: right;\">\n",
       "      <th></th>\n",
       "      <th>grid_index</th>\n",
       "      <th>wind_lat</th>\n",
       "      <th>wind_lon</th>\n",
       "      <th>CDSCode</th>\n",
       "      <th>school_county</th>\n",
       "      <th>school_zip</th>\n",
       "      <th>school_open_date</th>\n",
       "      <th>school_closed_date</th>\n",
       "      <th>school_lat</th>\n",
       "      <th>school_lon</th>\n",
       "      <th>geod_dist_m</th>\n",
       "    </tr>\n",
       "  </thead>\n",
       "  <tbody>\n",
       "    <tr>\n",
       "      <th>0</th>\n",
       "      <td>789</td>\n",
       "      <td>36.779999</td>\n",
       "      <td>-119.910004</td>\n",
       "      <td>10101080119628</td>\n",
       "      <td>Fresno</td>\n",
       "      <td>93706</td>\n",
       "      <td>9/8/2009</td>\n",
       "      <td>No Data</td>\n",
       "      <td>36.730273</td>\n",
       "      <td>-119.807915</td>\n",
       "      <td>10656.244662</td>\n",
       "    </tr>\n",
       "    <tr>\n",
       "      <th>1</th>\n",
       "      <td>866</td>\n",
       "      <td>36.529999</td>\n",
       "      <td>-119.410004</td>\n",
       "      <td>10621096005839</td>\n",
       "      <td>Fresno</td>\n",
       "      <td>93631</td>\n",
       "      <td>07/01/1880</td>\n",
       "      <td>No Data</td>\n",
       "      <td>36.554793</td>\n",
       "      <td>-119.504582</td>\n",
       "      <td>8904.455363</td>\n",
       "    </tr>\n",
       "    <tr>\n",
       "      <th>2</th>\n",
       "      <td>827</td>\n",
       "      <td>36.779999</td>\n",
       "      <td>-119.660004</td>\n",
       "      <td>10621176109920</td>\n",
       "      <td>Fresno</td>\n",
       "      <td>93720</td>\n",
       "      <td>9/3/1991</td>\n",
       "      <td>No Data</td>\n",
       "      <td>36.875241</td>\n",
       "      <td>-119.759962</td>\n",
       "      <td>13828.739232</td>\n",
       "    </tr>\n",
       "    <tr>\n",
       "      <th>3</th>\n",
       "      <td>827</td>\n",
       "      <td>36.779999</td>\n",
       "      <td>-119.660004</td>\n",
       "      <td>10621176116313</td>\n",
       "      <td>Fresno</td>\n",
       "      <td>93611</td>\n",
       "      <td>8/30/1999</td>\n",
       "      <td>No Data</td>\n",
       "      <td>36.817300</td>\n",
       "      <td>-119.674236</td>\n",
       "      <td>4329.919880</td>\n",
       "    </tr>\n",
       "    <tr>\n",
       "      <th>4</th>\n",
       "      <td>753</td>\n",
       "      <td>36.279999</td>\n",
       "      <td>-120.160004</td>\n",
       "      <td>10621251030477</td>\n",
       "      <td>Fresno</td>\n",
       "      <td>93234</td>\n",
       "      <td>10/2/1991</td>\n",
       "      <td>No Data</td>\n",
       "      <td>36.208894</td>\n",
       "      <td>-120.098567</td>\n",
       "      <td>9630.587612</td>\n",
       "    </tr>\n",
       "    <tr>\n",
       "      <th>...</th>\n",
       "      <td>...</td>\n",
       "      <td>...</td>\n",
       "      <td>...</td>\n",
       "      <td>...</td>\n",
       "      <td>...</td>\n",
       "      <td>...</td>\n",
       "      <td>...</td>\n",
       "      <td>...</td>\n",
       "      <td>...</td>\n",
       "      <td>...</td>\n",
       "      <td>...</td>\n",
       "    </tr>\n",
       "    <tr>\n",
       "      <th>13292</th>\n",
       "      <td>481</td>\n",
       "      <td>37.779999</td>\n",
       "      <td>-121.910004</td>\n",
       "      <td>7618040116541</td>\n",
       "      <td>Contra Costa</td>\n",
       "      <td>94582</td>\n",
       "      <td>8/25/2008</td>\n",
       "      <td>No Data</td>\n",
       "      <td>37.769265</td>\n",
       "      <td>-121.911224</td>\n",
       "      <td>1196.228964</td>\n",
       "    </tr>\n",
       "    <tr>\n",
       "      <th>13293</th>\n",
       "      <td>161</td>\n",
       "      <td>41.779999</td>\n",
       "      <td>-123.910004</td>\n",
       "      <td>8618206005425</td>\n",
       "      <td>Del Norte</td>\n",
       "      <td>95543</td>\n",
       "      <td>7/1/1980</td>\n",
       "      <td>No Data</td>\n",
       "      <td>41.846334</td>\n",
       "      <td>-123.962660</td>\n",
       "      <td>8569.016660</td>\n",
       "    </tr>\n",
       "    <tr>\n",
       "      <th>13294</th>\n",
       "      <td>629</td>\n",
       "      <td>38.779999</td>\n",
       "      <td>-120.910004</td>\n",
       "      <td>9618530930214</td>\n",
       "      <td>El Dorado</td>\n",
       "      <td>95623</td>\n",
       "      <td>8/13/2002</td>\n",
       "      <td>No Data</td>\n",
       "      <td>38.681781</td>\n",
       "      <td>-120.838250</td>\n",
       "      <td>12562.186162</td>\n",
       "    </tr>\n",
       "    <tr>\n",
       "      <th>13295</th>\n",
       "      <td>780</td>\n",
       "      <td>39.029999</td>\n",
       "      <td>-119.910004</td>\n",
       "      <td>9619030930107</td>\n",
       "      <td>El Dorado</td>\n",
       "      <td>96150</td>\n",
       "      <td>9/2/1992</td>\n",
       "      <td>6/30/2020</td>\n",
       "      <td>38.910453</td>\n",
       "      <td>-120.017583</td>\n",
       "      <td>16218.803772</td>\n",
       "    </tr>\n",
       "    <tr>\n",
       "      <th>13296</th>\n",
       "      <td>591</td>\n",
       "      <td>38.779999</td>\n",
       "      <td>-121.160004</td>\n",
       "      <td>9619786109441</td>\n",
       "      <td>El Dorado</td>\n",
       "      <td>95762</td>\n",
       "      <td>8/10/1990</td>\n",
       "      <td>No Data</td>\n",
       "      <td>38.720942</td>\n",
       "      <td>-121.085756</td>\n",
       "      <td>9199.970547</td>\n",
       "    </tr>\n",
       "  </tbody>\n",
       "</table>\n",
       "<p>13297 rows × 11 columns</p>\n",
       "</div>"
      ],
      "text/plain": [
       "       grid_index   wind_lat    wind_lon         CDSCode school_county  \\\n",
       "0             789  36.779999 -119.910004  10101080119628        Fresno   \n",
       "1             866  36.529999 -119.410004  10621096005839        Fresno   \n",
       "2             827  36.779999 -119.660004  10621176109920        Fresno   \n",
       "3             827  36.779999 -119.660004  10621176116313        Fresno   \n",
       "4             753  36.279999 -120.160004  10621251030477        Fresno   \n",
       "...           ...        ...         ...             ...           ...   \n",
       "13292         481  37.779999 -121.910004   7618040116541  Contra Costa   \n",
       "13293         161  41.779999 -123.910004   8618206005425     Del Norte   \n",
       "13294         629  38.779999 -120.910004   9618530930214     El Dorado   \n",
       "13295         780  39.029999 -119.910004   9619030930107     El Dorado   \n",
       "13296         591  38.779999 -121.160004   9619786109441     El Dorado   \n",
       "\n",
       "      school_zip school_open_date school_closed_date  school_lat  school_lon  \\\n",
       "0          93706         9/8/2009            No Data   36.730273 -119.807915   \n",
       "1          93631       07/01/1880            No Data   36.554793 -119.504582   \n",
       "2          93720         9/3/1991            No Data   36.875241 -119.759962   \n",
       "3          93611        8/30/1999            No Data   36.817300 -119.674236   \n",
       "4          93234        10/2/1991            No Data   36.208894 -120.098567   \n",
       "...          ...              ...                ...         ...         ...   \n",
       "13292      94582        8/25/2008            No Data   37.769265 -121.911224   \n",
       "13293      95543         7/1/1980            No Data   41.846334 -123.962660   \n",
       "13294      95623        8/13/2002            No Data   38.681781 -120.838250   \n",
       "13295      96150         9/2/1992          6/30/2020   38.910453 -120.017583   \n",
       "13296      95762        8/10/1990            No Data   38.720942 -121.085756   \n",
       "\n",
       "        geod_dist_m  \n",
       "0      10656.244662  \n",
       "1       8904.455363  \n",
       "2      13828.739232  \n",
       "3       4329.919880  \n",
       "4       9630.587612  \n",
       "...             ...  \n",
       "13292   1196.228964  \n",
       "13293   8569.016660  \n",
       "13294  12562.186162  \n",
       "13295  16218.803772  \n",
       "13296   9199.970547  \n",
       "\n",
       "[13297 rows x 11 columns]"
      ]
     },
     "metadata": {},
     "output_type": "display_data"
    }
   ],
   "source": [
    "display(each_wind_year_min_pd)"
   ]
  },
  {
   "cell_type": "code",
   "execution_count": 76,
   "id": "c6e23e70",
   "metadata": {},
   "outputs": [
    {
     "data": {
      "text/plain": [
       "13297"
      ]
     },
     "execution_count": 76,
     "metadata": {},
     "output_type": "execute_result"
    }
   ],
   "source": [
    "len(each_wind_year_min_pd.CDSCode.unique())"
   ]
  },
  {
   "cell_type": "code",
   "execution_count": 77,
   "id": "a7da9113",
   "metadata": {},
   "outputs": [
    {
     "data": {
      "text/plain": [
       "<AxesSubplot:>"
      ]
     },
     "execution_count": 77,
     "metadata": {},
     "output_type": "execute_result"
    },
    {
     "data": {
      "image/png": "[encoded data removed]",
      "text/plain": [
       "<Figure size 432x288 with 1 Axes>"
      ]
     },
     "metadata": {
      "needs_background": "light"
     },
     "output_type": "display_data"
    }
   ],
   "source": [
    "each_wind_year_min_pd.geod_dist_m.hist(bins=50)"
   ]
  },
  {
   "cell_type": "code",
   "execution_count": 78,
   "id": "6a568e1d",
   "metadata": {},
   "outputs": [],
   "source": [
    "each_wind_year_min_pd.to_csv('C:\\\\Users\\\\matts\\\\Google Drive\\\\berkeley\\\\.shortcut-targets-by-id\\\\11wLy1WKwOTcthBs1rpfEzkqax2BZG-6E\\\\W210_Capstone\\\\Data\\\\lookup tables\\\\wind_grid_to_school_lookup.csv')"
   ]
  }
 ],
 "metadata": {
  "kernelspec": {
   "display_name": "Python 3",
   "language": "python",
   "name": "python3"
  },
  "language_info": {
   "codemirror_mode": {
    "name": "ipython",
    "version": 3
   },
   "file_extension": ".py",
   "mimetype": "text/x-python",
   "name": "python",
   "nbconvert_exporter": "python",
   "pygments_lexer": "ipython3",
   "version": "3.8.13"
  }
 },
 "nbformat": 4,
 "nbformat_minor": 5
}
