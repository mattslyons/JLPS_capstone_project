{
 "cells": [
  {
   "cell_type": "markdown",
   "metadata": {},
   "source": [
    "# Generating Fake Medical History for Aim 3 Regression\n",
    "\n",
    "- Our three medical diagnoses we're checking for (ICD-9-CM / ICD-10-CM):\n",
    "  1. Blood Cancers: (200–208 / C81–C96)\n",
    "  1. Type 1 Diabetes: (250.x1 / E10)\n",
    "  1. Pediatric Vasculitis: (287, 446 / D69, M30–31)\n",
    "\n",
    "Consider also checking for respiratory outcomes. Even though this isn't the focus of our study, but we can check for this outcome as a quality check to make sure we at least find significance there."
   ]
  },
  {
   "cell_type": "code",
   "execution_count": 1,
   "metadata": {},
   "outputs": [
    {
     "ename": "ModuleNotFoundError",
     "evalue": "No module named 'statsmodels'",
     "output_type": "error",
     "traceback": [
      "\u001b[0;31m---------------------------------------------------------------------------\u001b[0m",
      "\u001b[0;31mModuleNotFoundError\u001b[0m                       Traceback (most recent call last)",
      "\u001b[1;32m/Users/trevorjohnson/Documents/w210/JLPS_capstone_project/data_clean_scripts/med_data/fake_med_data.ipynb Cell 2\u001b[0m in \u001b[0;36m<cell line: 19>\u001b[0;34m()\u001b[0m\n\u001b[1;32m     <a href='vscode-notebook-cell:/Users/trevorjohnson/Documents/w210/JLPS_capstone_project/data_clean_scripts/med_data/fake_med_data.ipynb#W2sZmlsZQ%3D%3D?line=15'>16</a>\u001b[0m \u001b[39mimport\u001b[39;00m \u001b[39mseaborn\u001b[39;00m \u001b[39mas\u001b[39;00m \u001b[39msns\u001b[39;00m\n\u001b[1;32m     <a href='vscode-notebook-cell:/Users/trevorjohnson/Documents/w210/JLPS_capstone_project/data_clean_scripts/med_data/fake_med_data.ipynb#W2sZmlsZQ%3D%3D?line=17'>18</a>\u001b[0m \u001b[39m# modeling\u001b[39;00m\n\u001b[0;32m---> <a href='vscode-notebook-cell:/Users/trevorjohnson/Documents/w210/JLPS_capstone_project/data_clean_scripts/med_data/fake_med_data.ipynb#W2sZmlsZQ%3D%3D?line=18'>19</a>\u001b[0m \u001b[39mimport\u001b[39;00m \u001b[39mstatsmodels\u001b[39;00m\u001b[39m.\u001b[39;00m\u001b[39mapi\u001b[39;00m \u001b[39mas\u001b[39;00m \u001b[39msm\u001b[39;00m\n\u001b[1;32m     <a href='vscode-notebook-cell:/Users/trevorjohnson/Documents/w210/JLPS_capstone_project/data_clean_scripts/med_data/fake_med_data.ipynb#W2sZmlsZQ%3D%3D?line=20'>21</a>\u001b[0m pd\u001b[39m.\u001b[39mset_option(\u001b[39m'\u001b[39m\u001b[39mdisplay.max_columns\u001b[39m\u001b[39m'\u001b[39m, \u001b[39mNone\u001b[39;00m)\n\u001b[1;32m     <a href='vscode-notebook-cell:/Users/trevorjohnson/Documents/w210/JLPS_capstone_project/data_clean_scripts/med_data/fake_med_data.ipynb#W2sZmlsZQ%3D%3D?line=21'>22</a>\u001b[0m pd\u001b[39m.\u001b[39moptions\u001b[39m.\u001b[39mmode\u001b[39m.\u001b[39mchained_assignment \u001b[39m=\u001b[39m \u001b[39mNone\u001b[39;00m\n",
      "\u001b[0;31mModuleNotFoundError\u001b[0m: No module named 'statsmodels'"
     ]
    }
   ],
   "source": [
    "# basics\n",
    "import pandas as pd \n",
    "import numpy as np\n",
    "import os \n",
    "import re\n",
    "from datetime import datetime\n",
    "from tqdm.notebook import tqdm\n",
    "tqdm.pandas()\n",
    "import requests\n",
    "import urllib\n",
    "\n",
    "# plotting\n",
    "import matplotlib.pyplot as plt\n",
    "from matplotlib.dates import DateFormatter\n",
    "import plotly.express as px\n",
    "import seaborn as sns\n",
    "\n",
    "# modeling\n",
    "import statsmodels.api as sm\n",
    "\n",
    "pd.set_option('display.max_columns', None)\n",
    "pd.options.mode.chained_assignment = None"
   ]
  },
  {
   "cell_type": "code",
   "execution_count": 2,
   "metadata": {},
   "outputs": [],
   "source": [
    "# local or gdrive\n",
    "path_source = 'work'\n",
    "\n",
    "if path_source == 'gdrive':\n",
    "  from google.colab import drive\n",
    "  drive.mount('/content/gdrive')\n",
    "  data_path = '/content/gdrive/MyDrive/Classes/W210_capstone/W210_Capstone/Data/joined_data'\n",
    "  #env_path = '/content/gdrive/MyDrive/.env'\n",
    "  \n",
    "elif path_source == 'local':\n",
    "  data_path = '/Users/tj/trevorj@berkeley.edu - Google Drive/My Drive/Classes/W210_capstone/W210_Capstone/Data/joined_data'\n",
    "  #env_path = '/content/gdrive/MyDrive/.env'\n",
    "\n",
    "elif path_source == 'work':\n",
    "  data_path = '/Users/trevorjohnson/trevorj@berkeley.edu - Google Drive/My Drive/Classes/W210_capstone/W210_Capstone/Data/joined_data'"
   ]
  },
  {
   "cell_type": "code",
   "execution_count": 3,
   "metadata": {},
   "outputs": [],
   "source": [
    "# load full dataset\n",
    "df = pd.read_parquet(os.path.join(data_path, 'joined_open_schools_only_10-10-22.parquet'))"
   ]
  },
  {
   "cell_type": "code",
   "execution_count": 4,
   "metadata": {},
   "outputs": [
    {
     "data": {
      "text/html": [
       "<div>\n",
       "<style scoped>\n",
       "    .dataframe tbody tr th:only-of-type {\n",
       "        vertical-align: middle;\n",
       "    }\n",
       "\n",
       "    .dataframe tbody tr th {\n",
       "        vertical-align: top;\n",
       "    }\n",
       "\n",
       "    .dataframe thead th {\n",
       "        text-align: right;\n",
       "    }\n",
       "</style>\n",
       "<table border=\"1\" class=\"dataframe\">\n",
       "  <thead>\n",
       "    <tr style=\"text-align: right;\">\n",
       "      <th></th>\n",
       "      <th>year</th>\n",
       "      <th>cdscode</th>\n",
       "      <th>school_county</th>\n",
       "      <th>school_zip</th>\n",
       "      <th>school_open_date</th>\n",
       "      <th>school_closed_date</th>\n",
       "      <th>school_lat</th>\n",
       "      <th>school_lon</th>\n",
       "      <th>school_wspd</th>\n",
       "      <th>school_elevation_m</th>\n",
       "      <th>...</th>\n",
       "      <th>new_year</th>\n",
       "      <th>open_close_dates_valid</th>\n",
       "      <th>Taxable Year</th>\n",
       "      <th>Zip Code</th>\n",
       "      <th>CA_AGI_per_returns</th>\n",
       "      <th>Total Tax Liability</th>\n",
       "      <th>school_county_v2</th>\n",
       "      <th>school_region_name</th>\n",
       "      <th>nearby_point_source_count</th>\n",
       "      <th>open_dates_valid</th>\n",
       "    </tr>\n",
       "    <tr>\n",
       "      <th>index</th>\n",
       "      <th></th>\n",
       "      <th></th>\n",
       "      <th></th>\n",
       "      <th></th>\n",
       "      <th></th>\n",
       "      <th></th>\n",
       "      <th></th>\n",
       "      <th></th>\n",
       "      <th></th>\n",
       "      <th></th>\n",
       "      <th></th>\n",
       "      <th></th>\n",
       "      <th></th>\n",
       "      <th></th>\n",
       "      <th></th>\n",
       "      <th></th>\n",
       "      <th></th>\n",
       "      <th></th>\n",
       "      <th></th>\n",
       "      <th></th>\n",
       "      <th></th>\n",
       "    </tr>\n",
       "  </thead>\n",
       "  <tbody>\n",
       "    <tr>\n",
       "      <th>0</th>\n",
       "      <td>2010.0</td>\n",
       "      <td>20102070109728</td>\n",
       "      <td>Madera</td>\n",
       "      <td>93610</td>\n",
       "      <td>2005-08-16</td>\n",
       "      <td>2014-06-30</td>\n",
       "      <td>37.115210</td>\n",
       "      <td>-120.26603</td>\n",
       "      <td>1.531352</td>\n",
       "      <td>70.84</td>\n",
       "      <td>...</td>\n",
       "      <td>2010-01-01</td>\n",
       "      <td>1</td>\n",
       "      <td>2010.0</td>\n",
       "      <td>93610</td>\n",
       "      <td>14375.028223</td>\n",
       "      <td>2905021.0</td>\n",
       "      <td>Madera</td>\n",
       "      <td>Northern San Joaquin Valley</td>\n",
       "      <td>1.0</td>\n",
       "      <td>1</td>\n",
       "    </tr>\n",
       "    <tr>\n",
       "      <th>1</th>\n",
       "      <td>2010.0</td>\n",
       "      <td>20102072030187</td>\n",
       "      <td>Madera</td>\n",
       "      <td>93610</td>\n",
       "      <td>2001-01-22</td>\n",
       "      <td>2014-06-30</td>\n",
       "      <td>37.115210</td>\n",
       "      <td>-120.26603</td>\n",
       "      <td>1.531352</td>\n",
       "      <td>70.84</td>\n",
       "      <td>...</td>\n",
       "      <td>2010-01-01</td>\n",
       "      <td>1</td>\n",
       "      <td>2010.0</td>\n",
       "      <td>93610</td>\n",
       "      <td>14375.028223</td>\n",
       "      <td>2905021.0</td>\n",
       "      <td>Madera</td>\n",
       "      <td>Northern San Joaquin Valley</td>\n",
       "      <td>1.0</td>\n",
       "      <td>1</td>\n",
       "    </tr>\n",
       "    <tr>\n",
       "      <th>2</th>\n",
       "      <td>2010.0</td>\n",
       "      <td>20651930000000</td>\n",
       "      <td>Madera</td>\n",
       "      <td>93610</td>\n",
       "      <td>1990-01-01</td>\n",
       "      <td>2025-01-01</td>\n",
       "      <td>37.122449</td>\n",
       "      <td>-120.26487</td>\n",
       "      <td>1.531352</td>\n",
       "      <td>72.77</td>\n",
       "      <td>...</td>\n",
       "      <td>2010-01-01</td>\n",
       "      <td>0</td>\n",
       "      <td>2010.0</td>\n",
       "      <td>93610</td>\n",
       "      <td>14375.028223</td>\n",
       "      <td>2905021.0</td>\n",
       "      <td>Madera</td>\n",
       "      <td>Northern San Joaquin Valley</td>\n",
       "      <td>0.0</td>\n",
       "      <td>1</td>\n",
       "    </tr>\n",
       "  </tbody>\n",
       "</table>\n",
       "<p>3 rows × 56 columns</p>\n",
       "</div>"
      ],
      "text/plain": [
       "         year         cdscode school_county  school_zip school_open_date  \\\n",
       "index                                                                      \n",
       "0      2010.0  20102070109728        Madera       93610       2005-08-16   \n",
       "1      2010.0  20102072030187        Madera       93610       2001-01-22   \n",
       "2      2010.0  20651930000000        Madera       93610       1990-01-01   \n",
       "\n",
       "      school_closed_date  school_lat  school_lon  school_wspd  \\\n",
       "index                                                           \n",
       "0             2014-06-30   37.115210  -120.26603     1.531352   \n",
       "1             2014-06-30   37.115210  -120.26603     1.531352   \n",
       "2             2025-01-01   37.122449  -120.26487     1.531352   \n",
       "\n",
       "       school_elevation_m  ...   new_year open_close_dates_valid Taxable Year  \\\n",
       "index                      ...                                                  \n",
       "0                   70.84  ... 2010-01-01                      1       2010.0   \n",
       "1                   70.84  ... 2010-01-01                      1       2010.0   \n",
       "2                   72.77  ... 2010-01-01                      0       2010.0   \n",
       "\n",
       "      Zip Code CA_AGI_per_returns Total Tax Liability school_county_v2  \\\n",
       "index                                                                    \n",
       "0        93610       14375.028223           2905021.0           Madera   \n",
       "1        93610       14375.028223           2905021.0           Madera   \n",
       "2        93610       14375.028223           2905021.0           Madera   \n",
       "\n",
       "                school_region_name nearby_point_source_count open_dates_valid  \n",
       "index                                                                          \n",
       "0      Northern San Joaquin Valley                       1.0                1  \n",
       "1      Northern San Joaquin Valley                       1.0                1  \n",
       "2      Northern San Joaquin Valley                       0.0                1  \n",
       "\n",
       "[3 rows x 56 columns]"
      ]
     },
     "execution_count": 4,
     "metadata": {},
     "output_type": "execute_result"
    }
   ],
   "source": [
    "# get every distinct month and zip code that we need health data for:\n",
    "df.head(3)"
   ]
  },
  {
   "cell_type": "code",
   "execution_count": 5,
   "metadata": {},
   "outputs": [
    {
     "data": {
      "text/html": [
       "<div>\n",
       "<style scoped>\n",
       "    .dataframe tbody tr th:only-of-type {\n",
       "        vertical-align: middle;\n",
       "    }\n",
       "\n",
       "    .dataframe tbody tr th {\n",
       "        vertical-align: top;\n",
       "    }\n",
       "\n",
       "    .dataframe thead th {\n",
       "        text-align: right;\n",
       "    }\n",
       "</style>\n",
       "<table border=\"1\" class=\"dataframe\">\n",
       "  <thead>\n",
       "    <tr style=\"text-align: right;\">\n",
       "      <th></th>\n",
       "      <th>school_zip</th>\n",
       "      <th>year_month</th>\n",
       "    </tr>\n",
       "  </thead>\n",
       "  <tbody>\n",
       "    <tr>\n",
       "      <th>0</th>\n",
       "      <td>93610</td>\n",
       "      <td>2010-04-01</td>\n",
       "    </tr>\n",
       "    <tr>\n",
       "      <th>1</th>\n",
       "      <td>93505</td>\n",
       "      <td>2010-04-01</td>\n",
       "    </tr>\n",
       "    <tr>\n",
       "      <th>2</th>\n",
       "      <td>93238</td>\n",
       "      <td>2010-04-01</td>\n",
       "    </tr>\n",
       "    <tr>\n",
       "      <th>3</th>\n",
       "      <td>93226</td>\n",
       "      <td>2010-04-01</td>\n",
       "    </tr>\n",
       "    <tr>\n",
       "      <th>4</th>\n",
       "      <td>93249</td>\n",
       "      <td>2010-04-01</td>\n",
       "    </tr>\n",
       "    <tr>\n",
       "      <th>...</th>\n",
       "      <td>...</td>\n",
       "      <td>...</td>\n",
       "    </tr>\n",
       "    <tr>\n",
       "      <th>329533</th>\n",
       "      <td>96145</td>\n",
       "      <td>2005-03-01</td>\n",
       "    </tr>\n",
       "    <tr>\n",
       "      <th>329534</th>\n",
       "      <td>96150</td>\n",
       "      <td>2005-03-01</td>\n",
       "    </tr>\n",
       "    <tr>\n",
       "      <th>329535</th>\n",
       "      <td>96145</td>\n",
       "      <td>2016-06-01</td>\n",
       "    </tr>\n",
       "    <tr>\n",
       "      <th>329536</th>\n",
       "      <td>96143</td>\n",
       "      <td>2016-06-01</td>\n",
       "    </tr>\n",
       "    <tr>\n",
       "      <th>329537</th>\n",
       "      <td>96146</td>\n",
       "      <td>2016-06-01</td>\n",
       "    </tr>\n",
       "  </tbody>\n",
       "</table>\n",
       "<p>329538 rows × 2 columns</p>\n",
       "</div>"
      ],
      "text/plain": [
       "        school_zip year_month\n",
       "0            93610 2010-04-01\n",
       "1            93505 2010-04-01\n",
       "2            93238 2010-04-01\n",
       "3            93226 2010-04-01\n",
       "4            93249 2010-04-01\n",
       "...            ...        ...\n",
       "329533       96145 2005-03-01\n",
       "329534       96150 2005-03-01\n",
       "329535       96145 2016-06-01\n",
       "329536       96143 2016-06-01\n",
       "329537       96146 2016-06-01\n",
       "\n",
       "[329538 rows x 2 columns]"
      ]
     },
     "execution_count": 5,
     "metadata": {},
     "output_type": "execute_result"
    }
   ],
   "source": [
    "df2 = df[['school_zip', 'year_month']].drop_duplicates().reset_index(drop=True)\n",
    "df2"
   ]
  },
  {
   "cell_type": "markdown",
   "metadata": {},
   "source": [
    "# Quality Checks"
   ]
  },
  {
   "cell_type": "code",
   "execution_count": 6,
   "metadata": {},
   "outputs": [
    {
     "data": {
      "text/plain": [
       "year_month\n",
       "2011-05-01    1384\n",
       "2011-04-01    1384\n",
       "2011-03-01    1384\n",
       "2011-02-01    1384\n",
       "2011-01-01    1384\n",
       "              ... \n",
       "2000-05-01    1361\n",
       "2000-03-01    1360\n",
       "2000-02-01    1360\n",
       "2000-04-01    1360\n",
       "2000-01-01    1360\n",
       "Length: 240, dtype: int64"
      ]
     },
     "execution_count": 6,
     "metadata": {},
     "output_type": "execute_result"
    }
   ],
   "source": [
    "# Most zips are listed 240 times, once for each month.\n",
    "# But some zips appear less frequently.\n",
    "# I spot checked one of the school_zips with less obs it has a narrow open/closed date. \n",
    "# df[df['school_zip'] == 90056]\n",
    "df2.value_counts(['school_zip'])\n",
    "\n",
    "\n",
    "# some of the year_month combos have less obs because of the fewer zips issue. Primarily for the early 2000 years. \n",
    "df2.value_counts('year_month')"
   ]
  },
  {
   "cell_type": "markdown",
   "metadata": {},
   "source": [
    "# Generate fake medical obs"
   ]
  },
  {
   "cell_type": "code",
   "execution_count": 7,
   "metadata": {},
   "outputs": [],
   "source": [
    "np.random.seed(123)\n",
    "\n",
    "# literally just making these up\n",
    "blood_cancer = np.random.normal(loc=10, scale=2, size=df2.shape[0]) / 1e4 # loc=mean, scale=sd\n",
    "#type1_diabetes = np.random.poisson(lam=10, size=df2.shape[0]) / 1e3\n",
    "type1_diabetes = np.random.exponential(10, size=df2.shape[0]) / 1e4\n",
    "vasculitis = np.random.gamma(shape=2, scale=2, size=df2.shape[0]) / 1e4\n",
    "respiratory = np.random.normal(loc=10, scale=4, size=df2.shape[0]) / 1e4\n",
    "\n",
    "\n",
    "# add to the df\n",
    "df2['blood_cancer'] = np.maximum(0, blood_cancer)\n",
    "df2['type1_diabetes'] = np.maximum(0, type1_diabetes)\n",
    "df2['vasculitis'] = np.maximum(0, vasculitis)\n",
    "df2['respiratory'] = np.maximum(0, respiratory)"
   ]
  },
  {
   "cell_type": "code",
   "execution_count": 8,
   "metadata": {},
   "outputs": [],
   "source": [
    "df3 = pd.melt(df2, \n",
    "              value_vars=['blood_cancer', 'type1_diabetes', 'vasculitis', 'respiratory'], \n",
    "              var_name='disease', value_name='proportion')"
   ]
  },
  {
   "cell_type": "code",
   "execution_count": 9,
   "metadata": {},
   "outputs": [
    {
     "name": "stdout",
     "output_type": "stream",
     "text": [
      "\n"
     ]
    },
    {
     "data": {
      "image/png": "[encoded data removed]",
      "text/plain": [
       "<Figure size 1080x288 with 1 Axes>"
      ]
     },
     "metadata": {},
     "output_type": "display_data"
    }
   ],
   "source": [
    "sns.set(rc = {'figure.figsize':(15,4)}) \n",
    "sns.set_style(\"whitegrid\", {'axes.grid' : False})\n",
    "\n",
    "sns.kdeplot(data=df3, x=\"proportion\", hue='disease', bw_adjust=.8, fill=True).set_title(\"Diseases\", size=20)\n",
    "print('')"
   ]
  },
  {
   "cell_type": "markdown",
   "metadata": {},
   "source": [
    "# Write data to disk"
   ]
  },
  {
   "cell_type": "code",
   "execution_count": null,
   "metadata": {},
   "outputs": [],
   "source": [
    "# df2.to_csv(os.path.join(data_path, '../medical/fake_medical_data.csv')) # csv takes up 35mb of storage\n",
    "df2.to_parquet(os.path.join(data_path, '../medical/fake_medical_data.parquet')) # parquet takes up 11.8mb of storage"
   ]
  }
 ],
 "metadata": {
  "kernelspec": {
   "display_name": "Python 3.9.7 ('base')",
   "language": "python",
   "name": "python3"
  },
  "language_info": {
   "codemirror_mode": {
    "name": "ipython",
    "version": 3
   },
   "file_extension": ".py",
   "mimetype": "text/x-python",
   "name": "python",
   "nbconvert_exporter": "python",
   "pygments_lexer": "ipython3",
   "version": "3.9.7"
  },
  "orig_nbformat": 4,
  "vscode": {
   "interpreter": {
    "hash": "3d597f4c481aa0f25dceb95d2a0067e73c0966dcbd003d741d821a7208527ecf"
   }
  }
 },
 "nbformat": 4,
 "nbformat_minor": 2
}
