{
 "cells": [
  {
   "cell_type": "markdown",
   "metadata": {},
   "source": [
    "# Main script to clean UW final satellite pm2.5 data\n",
    "\n",
    "## Model 1: zip_ssn\n",
    "\n",
    "Modules: N/A <br>\n",
    "Author: Cornelia Ilin <br>\n",
    "Email: cilin@wisc.edu <br>\n",
    "Date created: Oct 20, 2020 <br>\n",
    "\n",
    "**Citations (data sources)**\n",
    "\n",
    "``PM 25 at the monthly level:``\n",
    "1. https://sites.wustl.edu/acag/datasets/historical-pm2-5-across-north-america/\n",
    "\n",
    "\n",
    "``Shapefiles for California ZIP codes (2010 census):``\n",
    "\n",
    "3. https://www.census.gov/cgi-bin/geo/shapefiles/index.php?year=2010&layergroup=ZIP+Code+Tabulation+Areas\n",
    "    \n",
    "**Citations (persons)**\n",
    "1. N/A\n",
    "\n",
    "**Preferred environment**\n",
    "1. Code written in Jupyter Notebooks"
   ]
  },
  {
   "cell_type": "markdown",
   "metadata": {},
   "source": [
    "#### Step 1: Import packages"
   ]
  },
  {
   "cell_type": "code",
   "execution_count": 1,
   "metadata": {},
   "outputs": [],
   "source": [
    "# standard\n",
    "import pandas as pd\n",
    "import numpy as np\n",
    "import os\n",
    "import h5py\n",
    "\n",
    "# geography\n",
    "import geopandas as gpd\n",
    "import osmnx as ox\n",
    "import shapely"
   ]
  },
  {
   "cell_type": "markdown",
   "metadata": {},
   "source": [
    "#### Step 2: Define working directories"
   ]
  },
  {
   "cell_type": "code",
   "execution_count": 1,
   "metadata": {},
   "outputs": [],
   "source": [
    "in_dir_zip_shapes = '/Users/cilin/Desktop/CA_hospitals/pm25/UW/data/shapefiles/'\n",
    "in_dir = \"/Users/cilin/Desktop/CA_hospitals/pm25/UW/data/pm25_monthly/\"\n",
    "out_dir = '/Users/cilin/Desktop//CA_hospitals/pm25/UW/output/'"
   ]
  },
  {
   "cell_type": "markdown",
   "metadata": {},
   "source": [
    "#### Step 3: Define functions"
   ]
  },
  {
   "cell_type": "markdown",
   "metadata": {},
   "source": [
    "``read data``"
   ]
  },
  {
   "cell_type": "code",
   "execution_count": 3,
   "metadata": {},
   "outputs": [],
   "source": [
    "def read_census_geom():\n",
    "    \"\"\" Read Census (lat, lon) coordinates for California zip-codes\n",
    "    parameters:\n",
    "    -----------\n",
    "    None\n",
    "    \n",
    "    return:\n",
    "    -------\n",
    "    Df with osmnx_geom\n",
    "    \"\"\"\n",
    "    ### Step 1 ### \n",
    "    ##############\n",
    "    # Read the shapefiles for California's ZIP codes\n",
    "    for file in os.listdir(in_dir_zip_shapes):\n",
    "        if file.endswith('.shp'):\n",
    "            gdf = gpd.read_file(in_dir_zip_shapes + file)\n",
    "\n",
    "    # keep only cols of interest \n",
    "    # ('ZCTA5CE10' = 2010 Census ZIP codes,\t'GEOID10' = 2010 Census Tract codes)\n",
    "    gdf = gdf[['ZCTA5CE10',\t'GEOID10', 'geometry']]\n",
    "    \n",
    "    \n",
    "    ### Step 2 ###\n",
    "    ###############\n",
    "    # For each zip cpde extract polygon with (lat, lon) info\n",
    "\n",
    "    zip_poly = pd.DataFrame()\n",
    "\n",
    "    for idx, multipoly in enumerate(gdf.geometry):\n",
    "        if isinstance(multipoly, shapely.geometry.polygon.Polygon):\n",
    "            temp_df = pd.DataFrame({'latitude': multipoly.exterior.coords.xy[1], \n",
    "                                    'longitude': multipoly.exterior.coords.xy[0],\n",
    "                                    'ZIP10': gdf.loc[idx, 'ZCTA5CE10'],\n",
    "                                    'GEOID10': gdf.loc[idx, 'GEOID10']})\n",
    "            zip_poly = pd.concat([zip_poly, temp_df], axis=0)\n",
    "\n",
    "        if isinstance(multipoly, shapely.geometry.multipolygon.MultiPolygon):\n",
    "            for poly in multipoly:\n",
    "                temp_df = pd.DataFrame({'latitude': poly.exterior.coords.xy[1], \n",
    "                                        'longitude': poly.exterior.coords.xy[0],\n",
    "                                        'ZIP10': gdf.loc[idx, 'ZCTA5CE10'],\n",
    "                                        'GEOID10': gdf.loc[idx, 'GEOID10']})\n",
    "                zip_poly = pd.concat([zip_poly, temp_df], axis=0)   \n",
    "    \n",
    "\n",
    "    # round (lat, lon) to 2 decimal points and add 0.005 to match the UW (lat, lon) values\n",
    "    zip_poly['latitude'] = zip_poly.latitude.round(2) + 0.005\n",
    "    zip_poly['longitude'] = zip_poly.longitude.round(2) + 0.005\n",
    "    zip_poly.sort_values(by=['ZIP10', 'latitude', 'longitude'], inplace=True)\n",
    "    zip_poly.drop_duplicates(subset=['ZIP10', 'latitude', 'longitude'], inplace=True)\n",
    "\n",
    "    \n",
    "    return zip_poly"
   ]
  },
  {
   "cell_type": "markdown",
   "metadata": {},
   "source": [
    "for the function below try to read the data using the ftplib in python (secure file transfer)"
   ]
  },
  {
   "cell_type": "code",
   "execution_count": 4,
   "metadata": {},
   "outputs": [],
   "source": [
    "def read_uw_pm25(zip_poly):\n",
    "    \"\"\"Read UW pm25 data\n",
    "    parameters:\n",
    "    -----------\n",
    "    osmnx_geom: df, contains osmnx_geom and county name/code\n",
    "    \n",
    "    return:\n",
    "    df with pm25 values by year and county in California\n",
    "    \"\"\"\n",
    "    df = pd.DataFrame()\n",
    "    \n",
    "    for idx, file in enumerate(os.listdir(in_dir)):\n",
    "        if file.endswith('.h5'):\n",
    "            print(file[:4])\n",
    "            # read data\n",
    "            f = h5py.File(os.path.join(in_dir, file), 'r')\n",
    "            # read latitude\n",
    "            row_index = f['latitude']\n",
    "            row_index = pd.DataFrame(row_index, columns=['latitude'])\n",
    "            # read longitude\n",
    "            col_index = f['longitude']\n",
    "            col_index = pd.DataFrame(col_index, columns = ['longitude'])\n",
    "            # read pm25 (divide by 100 as indicated here: https://zenodo.org/record/2616769#.X4999NBKg4c)\n",
    "            pm25 = f['CorrectedPM2.5']\n",
    "            pm25 = pd.DataFrame(pm25)/100\n",
    "\n",
    "            # add col and row index to pm25_df\n",
    "            pm25.set_index(row_index.latitude.values, inplace=True)\n",
    "            pm25.columns = col_index.longitude.values\n",
    "            pm25.reset_index(drop=False, inplace=True)\n",
    "            pm25.rename(columns={'index':'latitude'}, inplace=True)\n",
    "\n",
    "            # melt pm25_df\n",
    "            pm25 = pd.melt(pm25, id_vars='latitude', var_name='longitude', value_vars=col_index.longitude.values, value_name='pm25')\n",
    "            pm25.sort_values(by=['latitude', 'longitude'], inplace=True)\n",
    "\n",
    "            # set lat and lon to 3 decimals\n",
    "            pm25['latitude'] = pm25.latitude.round(3)\n",
    "            pm25['longitude'] = pm25.longitude.astype(float).round(3)\n",
    "\n",
    "            # add year column\n",
    "            pm25['year'] = file[:4]\n",
    "\n",
    "            # merge with zip_poly\n",
    "            pm25 = zip_poly.merge(pm25, on=['latitude', 'longitude'], how='inner')\n",
    "\n",
    "            # group by zip code and census tract (get mean for each zip code)\n",
    "            pm25 = pm25.groupby(['year', 'ZIP10', 'GEOID10'], as_index=False).agg({'pm25': np.mean})\n",
    "\n",
    "            # add year and zip column\n",
    "            pm25['year_zip'] = pm25.year.astype(str) + '.0_' + pm25.ZIP10.astype(str) + '.0'\n",
    "\n",
    "            # append to df\n",
    "            df = pd.concat([df, pm25], axis=0)\n",
    "    \n",
    "    # sort and reset index\n",
    "    df.sort_values(by=['year'], inplace=True)\n",
    "    df.reset_index(drop=True, inplace=True)\n",
    "    \n",
    "    return df"
   ]
  },
  {
   "cell_type": "markdown",
   "metadata": {},
   "source": [
    "#### Step 4: Read data"
   ]
  },
  {
   "cell_type": "code",
   "execution_count": 5,
   "metadata": {},
   "outputs": [],
   "source": [
    "zip_poly = read_census_geom()"
   ]
  },
  {
   "cell_type": "code",
   "execution_count": 6,
   "metadata": {},
   "outputs": [
    {
     "name": "stdout",
     "output_type": "stream",
     "text": [
      "1992\n",
      "2013\n",
      "2003\n",
      "1996\n",
      "2007\n",
      "1997\n",
      "2016\n",
      "2006\n",
      "1993\n",
      "2012\n",
      "2002\n",
      "1998\n",
      "2009\n",
      "1999\n",
      "2008\n",
      "1994\n",
      "2015\n",
      "2005\n",
      "2011\n",
      "2001\n",
      "1991\n",
      "2010\n",
      "2000\n",
      "1995\n",
      "2014\n",
      "2004\n"
     ]
    }
   ],
   "source": [
    "df = read_uw_pm25(zip_poly)"
   ]
  },
  {
   "cell_type": "code",
   "execution_count": 7,
   "metadata": {},
   "outputs": [],
   "source": [
    "df.sort_values(by=['ZIP10', 'GEOID10', 'year'], inplace=True)"
   ]
  },
  {
   "cell_type": "code",
   "execution_count": 8,
   "metadata": {},
   "outputs": [],
   "source": [
    "df.to_csv(out_dir + 'UW_pm25_zip_monthly.csv')"
   ]
  },
  {
   "cell_type": "code",
   "execution_count": null,
   "metadata": {},
   "outputs": [],
   "source": []
  }
 ],
 "metadata": {
  "kernelspec": {
   "display_name": "Python 3",
   "language": "python",
   "name": "python3"
  },
  "language_info": {
   "codemirror_mode": {
    "name": "ipython",
    "version": 3
   },
   "file_extension": ".py",
   "mimetype": "text/x-python",
   "name": "python",
   "nbconvert_exporter": "python",
   "pygments_lexer": "ipython3",
   "version": "3.8.3"
  }
 },
 "nbformat": 4,
 "nbformat_minor": 4
}