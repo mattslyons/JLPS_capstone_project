{
 "cells": [
  {
   "cell_type": "markdown",
   "metadata": {
    "id": "s9_baFgHhBQP"
   },
   "source": [
    "# Baseline 2:\n",
    "\n",
    "Staged Least Squares Instrumental Variables Regression using Cornelia's Medical Data\n",
    "\n",
    "- Using instrumental variables and fixed effects shown here: https://docs.google.com/spreadsheets/d/1_MMYeQuxiov2OLE5AX0CE9R1T1mBrk7vpozy2fGjNBg/edit?usp=sharing\n",
    "- Include control diagnoses."
   ]
  },
  {
   "cell_type": "markdown",
   "metadata": {
    "id": "4W6wonOGhBQT"
   },
   "source": [
    "---\n",
    "### Step 1: Import packages"
   ]
  },
  {
   "cell_type": "code",
   "execution_count": 1,
   "metadata": {
    "id": "63-x1PW6hBQT",
    "executionInfo": {
     "status": "ok",
     "timestamp": 1670216357749,
     "user_tz": 480,
     "elapsed": 153,
     "user": {
      "displayName": "Trevor Johnson",
      "userId": "10875792761423186902"
     }
    }
   },
   "outputs": [],
   "source": [
    "# optional. I'm getting annoying warnings that I just want to ignore:\n",
    "import warnings\n",
    "warnings.simplefilter(action='ignore', category=FutureWarning)\n",
    "\n",
    "# basics\n",
    "import pandas as pd \n",
    "import numpy as np\n",
    "import os \n",
    "import re\n",
    "from datetime import datetime\n",
    "from tqdm.notebook import tqdm\n",
    "tqdm.pandas()\n",
    "import requests\n",
    "import urllib\n",
    "\n",
    "# plotting\n",
    "import matplotlib.pyplot as plt\n",
    "from matplotlib.dates import DateFormatter\n",
    "import plotly.express as px\n",
    "import seaborn as sns\n",
    "\n",
    "# modeling\n",
    "from patsy import dmatrices\n",
    "import statsmodels.api as sm\n",
    "from sklearn.linear_model import LinearRegression\n",
    "from statsmodels.sandbox.regression.gmm import IV2SLS\n",
    "from statsmodels.stats.anova import anova_lm\n",
    "\n",
    "import patsy\n",
    "import sklearn.preprocessing as sklp\n",
    "import statsmodels.api as sm\n",
    "\n",
    "pd.set_option('display.max_columns', None)\n",
    "pd.options.mode.chained_assignment = None\n",
    "\n",
    "import seaborn as sb\n",
    "import matplotlib.pyplot as plt\n",
    "%matplotlib inline"
   ]
  },
  {
   "cell_type": "markdown",
   "metadata": {
    "id": "vcgUMcgmhBQV"
   },
   "source": [
    "---\n",
    "### Step 2: Define working directories and global variables"
   ]
  },
  {
   "cell_type": "markdown",
   "metadata": {
    "id": "uCWhD1qrhBQV"
   },
   "source": [
    "#### Hi Cornelia! Please have the following directories created ahead of time (data/ and output/ are your original ones; the remaining folders will be used to store the model outputs and relevant metadata we need to associate models to our instrument-and-FEs combinations). Thank you!\n",
    "* data/\n",
    "* output/\n",
    "* models_s1/\n",
    "* models_s2/\n",
    "* fixed_effects/"
   ]
  },
  {
   "cell_type": "markdown",
   "metadata": {
    "id": "gV2qt2SrhBQV"
   },
   "source": [
    "#### 2.1. Set working directories"
   ]
  },
  {
   "cell_type": "code",
   "source": [
    "  # from google.colab import drive\n",
    "  # drive.mount('/content/gdrive')\n",
    "  # data_path = 'Classes/W210_capstone/W210_Capstone/Data'\n",
    "  # fitted_models_path = '/content/gdrive/MyDrive/Classes/W210_capstone/W210_Capstone/fitted_models/2022-10-23'"
   ],
   "metadata": {
    "colab": {
     "base_uri": "https://localhost:8080/"
    },
    "id": "sUGdpZICjJtl",
    "executionInfo": {
     "status": "ok",
     "timestamp": 1670216358820,
     "user_tz": 480,
     "elapsed": 872,
     "user": {
      "displayName": "Trevor Johnson",
      "userId": "10875792761423186902"
     }
    },
    "outputId": "2e15bbab-e772-437a-8467-74e9c862974f"
   },
   "execution_count": 2,
   "outputs": []
  },
  {
   "cell_type": "code",
   "source": [
    "#os.listdir('/content/gdrive/MyDrive/w210/W210_Capstone/Data')"
   ],
   "metadata": {
    "id": "6AdfXf6bjeju",
    "executionInfo": {
     "status": "ok",
     "timestamp": 1670216358821,
     "user_tz": 480,
     "elapsed": 8,
     "user": {
      "displayName": "Trevor Johnson",
      "userId": "10875792761423186902"
     }
    }
   },
   "execution_count": 50,
   "outputs": []
  },
  {
   "cell_type": "code",
   "execution_count": 3,
   "metadata": {
    "id": "rmzPEqRThBQW",
    "executionInfo": {
     "status": "ok",
     "timestamp": 1670216358821,
     "user_tz": 480,
     "elapsed": 8,
     "user": {
      "displayName": "Trevor Johnson",
      "userId": "10875792761423186902"
     }
    }
   },
   "outputs": [],
   "source": [
    "in_dir_sc = 'C:/Users/cilin/Research/CA_hospitals_capstone/data/'\n",
    "in_dir_h = 'C:/Users/cilin/Research/CA_hospitals_capstone/output/'\n",
    "# folder containing stage 1 outputs\n",
    "out_dir1 = 'C:/Users/cilin/Research/CA_hospitals_capstone/models_s1/'\n",
    "# folder containing stage 2 outputs\n",
    "out_dir2 = 'C:/Users/cilin/Research/CA_hospitals_capstone/models_s2/'\n",
    "# folder containing csvs documenting which fixed effects are in which csv files\n",
    "out_dir3 = 'C:/Users/cilin/Research/CA_hospitals_capstone/fixed_effects/'\n",
    "\n",
    "\n",
    "\n",
    "# #Michelle testing on her computer\n",
    "# in_dir_sc = '/Users/michelle/MIDS/210 Capstone/data/'\n",
    "# in_dir_h = '/Users/michelle/MIDS/210 Capstone/output/'\n",
    "\n",
    "# # folder containing stage 1 outputs\n",
    "# out_dir1 = '/Users/michelle/MIDS/210 Capstone/models_s1/'\n",
    "\n",
    "# # folder containing stage 2 outputs\n",
    "# out_dir2 = '/Users/michelle/MIDS/210 Capstone/models_s2/'\n",
    "\n",
    "# # folder containing csvs documenting which fixed effects are in which csv files\n",
    "# out_dir3 = '/Users/michelle/MIDS/210 Capstone/fixed_effects/'\n",
    "\n",
    "# tj gdrive\n",
    "in_dir_sc = '/content/gdrive/MyDrive/w210/CA_hospitals_capstone/data/'\n",
    "in_dir_h = '/content/gdrive/MyDrive/w210/CA_hospitals_capstone/output/'\n",
    "# folder containing stage 1 outputs\n",
    "out_dir1 = '/content/gdrive/MyDrive/w210/CA_hospitals_capstone/models_s1/'\n",
    "# folder containing stage 2 outputs\n",
    "out_dir2 = '/content/gdrive/MyDrive/w210/CA_hospitals_capstone/models_s2/'\n",
    "# folder containing csvs documenting which fixed effects are in which csv files\n",
    "out_dir3 = '/content/gdrive/MyDrive/w210/CA_hospitals_capstone/fixed_effects/'\n",
    "\n",
    "\n",
    "# tj local\n",
    "main_path = '/Users/tj/trevor.johnson.tj@gmail.com - Google Drive/My Drive/w210/CA_hospitals_capstone'\n",
    "in_dir_sc = os.path.join(main_path, 'data')\n",
    "in_dir_h = os.path.join(main_path, 'output')\n",
    "out_dir1 = os.path.join(main_path, 'models_s1')      # folder containing stage 1 outputs\n",
    "out_dir2 = os.path.join(main_path, 'models_s2')      # folder containing stage 2 outputs\n",
    "out_dir3 = os.path.join(main_path, 'fixed_effects')  # folder containing csvs documenting which fixed"
   ]
  },
  {
   "cell_type": "markdown",
   "metadata": {
    "id": "CORGgflahBQW"
   },
   "source": [
    "#### 2.2. Set Instrumental Variable (predictor), Fixed Effects set, and Notebook Index\n",
    "* Set the instrumental variable (predictor), fixed effects set, and unique notebook index (please don't change)"
   ]
  },
  {
   "cell_type": "code",
   "execution_count": 4,
   "metadata": {
    "id": "vv-5-DDrhBQX",
    "executionInfo": {
     "status": "ok",
     "timestamp": 1670216358821,
     "user_tz": 480,
     "elapsed": 7,
     "user": {
      "displayName": "Trevor Johnson",
      "userId": "10875792761423186902"
     }
    }
   },
   "outputs": [],
   "source": [
    "# set instrumental variable version\n",
    "predictor = 'Izmy_v4_nodist_normed_TPY'\n",
    "\n",
    "# set FE to one of 8 sets (int)\n",
    "FE_set_num = 7\n",
    "\n",
    "# sets unique notebooks index (string - this is just to output a csv file name)\n",
    "notebook_index = \"16\""
   ]
  },
  {
   "cell_type": "markdown",
   "metadata": {
    "id": "5CdHoigvhBQX"
   },
   "source": [
    "#### 2.3. Specify which inputs and outputs we're looking at\n",
    "* Specify the pm2.5 (target) name \n",
    "* Specify instrument (predictor) name\n",
    "* Specify lead and lag times"
   ]
  },
  {
   "cell_type": "code",
   "execution_count": 5,
   "metadata": {
    "colab": {
     "base_uri": "https://localhost:8080/"
    },
    "id": "Ghjqg2ylhBQX",
    "executionInfo": {
     "status": "ok",
     "timestamp": 1670216358822,
     "user_tz": 480,
     "elapsed": 8,
     "user": {
      "displayName": "Trevor Johnson",
      "userId": "10875792761423186902"
     }
    },
    "outputId": "a1b8f68a-b233-432f-b42a-1a580acf5ea3"
   },
   "outputs": [
    {
     "name": "stdout",
     "output_type": "stream",
     "text": [
      "Stage 1\n",
      "Target Name (target_name_s1) = pm25_r9\n",
      "Predictor Name (predictor_name_s1) = Izmy_v4_nodist_normed_TPY_r9\n",
      "\n",
      "Stage 2\n",
      "Health Outcome Lag Input (HO_lag_input) = _fwd3\n"
     ]
    }
   ],
   "source": [
    "lead_time = 9\n",
    "lag_time = '3'\n",
    "lag_style = 'fwd'\n",
    "\n",
    "# define lead time for IV: 'last_month', 'r6', 'r9', 'r12'\n",
    "IV_lead = \"r\" + str(lead_time)\n",
    "HO_lag = lag_style + str(lag_time)\n",
    "\n",
    "if IV_lead:\n",
    "    IV_lead_input = \"_\" + IV_lead \n",
    "else:\n",
    "    # don't add underscore if empty string\n",
    "    IV_lead_input = IV_lead\n",
    "\n",
    "# define lag time for Health Outcome: '', 'fwd3', 'cent3', 'fwd6', 'cent6', 'fwd12', 'cent12'\n",
    "if HO_lag:\n",
    "    HO_lag_input = \"_\" + HO_lag\n",
    "else:\n",
    "    # don't add underscore if empty string\n",
    "    HO_lag_input = HO_lag\n",
    "\n",
    "# IV options: 1 month, 6 months, 9 months, 12 months\n",
    "IV_window_col = [f'pm25{IV_lead_input}']\n",
    "\n",
    "# health outcome options (fwd or cent): 1 month, 3 months, 6 months, 12 months\n",
    "health_outcome_window_col = [f'y_injuries{HO_lag_input}']\n",
    "\n",
    "filter_cols = IV_window_col + health_outcome_window_col # columns to filter out at the beginning and end of df, before modeling\n",
    "\n",
    "target_name_s1 = f'pm25{IV_lead_input}'\n",
    "predictor_name_s1 = f'{predictor}{IV_lead_input}'\n",
    "\n",
    "print(f\"Stage 1\\nTarget Name (target_name_s1) = {target_name_s1}\\nPredictor Name (predictor_name_s1) = {predictor_name_s1}\")\n",
    "print(f\"\\nStage 2\\nHealth Outcome Lag Input (HO_lag_input) = {HO_lag_input}\")"
   ]
  },
  {
   "cell_type": "markdown",
   "metadata": {
    "id": "NuOjIeC1hBQY"
   },
   "source": [
    "#### 2.4. Define fixed effects\n",
    "* Define Fixed Effects based on the fixed effects set hardcoded in 2.2."
   ]
  },
  {
   "cell_type": "code",
   "execution_count": 6,
   "metadata": {
    "colab": {
     "base_uri": "https://localhost:8080/"
    },
    "id": "gnNBZHR_hBQY",
    "executionInfo": {
     "status": "ok",
     "timestamp": 1670216358822,
     "user_tz": 480,
     "elapsed": 7,
     "user": {
      "displayName": "Trevor Johnson",
      "userId": "10875792761423186902"
     }
    },
    "outputId": "0886b1c1-2cd7-41e4-ac63-de9cc9e24594"
   },
   "outputs": [
    {
     "name": "stdout",
     "output_type": "stream",
     "text": [
      "basics:\n",
      " ~ county + month + year_trend * C(county_month)\n",
      "\n",
      "env:\n",
      "+ avg_temp_r9 + avg_elevation_diff_m\n",
      "\n",
      "Fixed effects are:\n",
      " ~ county + month + year_trend * C(county_month)+ avg_temp_r9 + avg_elevation_diff_m + ca_agi_per_returns + total_population + avg_wspd_top_15_r9\n"
     ]
    }
   ],
   "source": [
    "basics = \" ~ county + month + year_trend * C(county_month)\"\n",
    "env = '+ avg_temp' + IV_lead_input + ' + avg_elevation_diff_m'\n",
    "\n",
    "if FE_set_num == 1:\n",
    "    # FE Set 1\n",
    "    adds = \"\"\n",
    "elif FE_set_num == 2:\n",
    "    # FE Set 2\n",
    "    adds = ' + ca_agi_per_returns + total_population'\n",
    "elif FE_set_num == 3:\n",
    "    # FE Set 3\n",
    "    adds = ' + school_count + total_population'\n",
    "elif FE_set_num == 4:\n",
    "    # FE Set 4\n",
    "    adds = ' + total_population + avg_count_ps_within_5km'\n",
    "elif FE_set_num == 5:\n",
    "    # FE Set 5\n",
    "    adds = ' + ca_agi_per_returns'\n",
    "elif FE_set_num == 6:\n",
    "    # FE Set 6\n",
    "    adds = ' + total_population'\n",
    "elif FE_set_num == 7:\n",
    "    # FE Set 7\n",
    "    adds = ' + ca_agi_per_returns + total_population + avg_wspd_top_15_r' + str(lead_time)\n",
    "elif FE_set_num == 8:\n",
    "    # FE Set 8\n",
    "    adds = ''\n",
    "    env = ''\n",
    "\n",
    "fixed_effects = basics + env + adds\n",
    "\n",
    "print(\"basics:\\n{}\\n\".format(basics))\n",
    "print(\"env:\\n{}\\n\".format(env))\n",
    "\n",
    "print(\"Fixed effects are:\\n{}\".format(fixed_effects))"
   ]
  },
  {
   "cell_type": "markdown",
   "metadata": {
    "id": "n6wOxNZ_hBQZ"
   },
   "source": [
    "---\n",
    "### Step 3: Define functions"
   ]
  },
  {
   "cell_type": "code",
   "execution_count": 7,
   "metadata": {
    "id": "X82PQcfrhBQZ",
    "executionInfo": {
     "status": "ok",
     "timestamp": 1670216358822,
     "user_tz": 480,
     "elapsed": 5,
     "user": {
      "displayName": "Trevor Johnson",
      "userId": "10875792761423186902"
     }
    }
   },
   "outputs": [],
   "source": [
    "def fit_ols(df, outcome, predictor, fixed_effects):\n",
    "    ''''''\n",
    "    # drop if outcome is nan\n",
    "    temp = df[~df[outcome].isna()]\n",
    "    temp.reset_index(drop=True, inplace=True)\n",
    "\n",
    "    # create FE and interactions between FE and continous vars\n",
    "    f = outcome + fixed_effects\n",
    "    y, X_fe = patsy.dmatrices(f, temp, return_type=\"dataframe\")\n",
    "    \n",
    "    # X = temp[['pm25']]\n",
    "    X = temp[[predictor]]\n",
    "    \n",
    "    # concat\n",
    "    X = pd.concat([X, X_fe], axis=1)\n",
    "\n",
    "    # fit model\n",
    "    model_a = sm.OLS(y, X).fit(\n",
    "        cov_type='cluster',\n",
    "        cov_kwds={'groups':temp['county']},\n",
    "        use_t=True\n",
    "    )\n",
    "    \n",
    "    # display estimates\n",
    "    print('Outcome: ', outcome)\n",
    "    print('-------------------------------------')\n",
    "    display(pd.concat(\n",
    "        [\n",
    "            \n",
    "            pd.DataFrame(model_a.params).reset_index(drop=False).rename(columns={\"index\":\"variable\", 0:\"coef\"}).iloc[0:2,:],\n",
    "            pd.DataFrame(model_a.bse).reset_index(drop=False).rename(columns={\"index\":\"variable\", 0:\"std err\"}).iloc[0:2,1:2],\n",
    "            model_a.conf_int(alpha=0.05, cols=None).reset_index(drop=True).rename(columns={0:\"[0.025\", 1:\"0.975]\"}).iloc[0:2,:],\n",
    "            pd.DataFrame(model_a.pvalues.values).reset_index(drop=True).rename(columns={0:\"p-value\"}).iloc[0:2,:]\n",
    "        ],\n",
    "        axis=1\n",
    "    ))"
   ]
  },
  {
   "cell_type": "code",
   "execution_count": 8,
   "metadata": {
    "id": "e3fIih0whBQZ",
    "executionInfo": {
     "status": "ok",
     "timestamp": 1670216358822,
     "user_tz": 480,
     "elapsed": 5,
     "user": {
      "displayName": "Trevor Johnson",
      "userId": "10875792761423186902"
     }
    }
   },
   "outputs": [],
   "source": [
    "def fit_1st_stage(df, pm_col, instr_col, fixed_effects):\n",
    "    ''' First stage to check whether wfeI is a strong instrument for pm25I\n",
    "    '''\n",
    "    \n",
    "    temp = df.copy()\n",
    "\n",
    "    # create FE and interactions between FE and continous vars\n",
    "    f = pm_col + fixed_effects\n",
    "    y, X_fe = patsy.dmatrices(f, temp, return_type=\"dataframe\")\n",
    "    \n",
    "    X = temp[[instr_col]]\n",
    "    \n",
    "    # concat\n",
    "    X = pd.concat([X, X_fe], axis=1)\n",
    "\n",
    "    # fit model\n",
    "    fit_1st_stage = sm.OLS(y, X).fit(\n",
    "        cov_type='cluster',\n",
    "        cov_kwds={'groups':temp['county']},\n",
    "        use_t=True\n",
    "    )\n",
    "    \n",
    "    # display estimates\n",
    "    print('Outcome: ', pm_col)\n",
    "    print('-------------------------------------')\n",
    "    display(pd.concat(\n",
    "        [\n",
    "            pd.DataFrame(fit_1st_stage.params).reset_index(drop=False).rename(columns={\"index\":\"variable\", 0:\"coef\"}).iloc[0:2,:],\n",
    "            pd.DataFrame(fit_1st_stage.bse).reset_index(drop=False).rename(columns={\"index\":\"variable\", 0:\"std err\"}).iloc[0:2,1:2],\n",
    "            fit_1st_stage.conf_int(alpha=0.05, cols=None).reset_index(drop=True).rename(columns={0:\"[0.025\", 1:\"0.975]\"}).iloc[0:2,:],\n",
    "            pd.DataFrame(fit_1st_stage.pvalues.values).reset_index(drop=True).rename(columns={0:\"p-value\"}).iloc[0:2,:]\n",
    "        ],\n",
    "        axis=1\n",
    "    ))\n",
    "    \n",
    "    # save pm25I_hat\n",
    "    temp[pm_col+'_hat'] = fit_1st_stage.get_prediction(X).summary_frame()['mean']\n",
    "    \n",
    "    # save model\n",
    "    results_label = \"s1_PREDICTOR_\" + instr_col +  \"_FE_SET_\" + str(FE_set_num) + \"_TARGETING_\" + pm_col + \"_LAG\" + HO_lag_input + \".pkl\"\n",
    "    filename = os.path.join(out_dir1, results_label)\n",
    "    fit_1st_stage.save(filename, remove_data=True)\n",
    "\n",
    "    return temp"
   ]
  },
  {
   "cell_type": "code",
   "execution_count": 9,
   "metadata": {
    "id": "ptpxBpnlhBQZ",
    "executionInfo": {
     "status": "ok",
     "timestamp": 1670216359024,
     "user_tz": 480,
     "elapsed": 6,
     "user": {
      "displayName": "Trevor Johnson",
      "userId": "10875792761423186902"
     }
    }
   },
   "outputs": [],
   "source": [
    "def fit_2sls(df, outcome, independent_var_name, fixed_effects):\n",
    "    ''''''\n",
    "    #independent_var_name example: 'pm25_hat'\n",
    "\n",
    "    # drop if outcome is nan\n",
    "    temp = df[~df[outcome].isna()]\n",
    "    temp.reset_index(drop=True, inplace=True)\n",
    "\n",
    "    # create FE and interactions between FE and continous vars\n",
    "    f = outcome + fixed_effects #\" ~ county + month + year_trend * C(county_month)\"\n",
    "    y, X_fe = patsy.dmatrices(f, temp, return_type=\"dataframe\")\n",
    "    \n",
    "    #X = temp[['pm25_hat']]\n",
    "    X = temp[[independent_var_name]]\n",
    "    \n",
    "    # concat\n",
    "    X = pd.concat([X, X_fe], axis=1)\n",
    "\n",
    "    # fit model\n",
    "    model_a = sm.OLS(y, X).fit(\n",
    "        cov_type='cluster',\n",
    "        cov_kwds={'groups':temp['county']},\n",
    "        use_t=True\n",
    "    )\n",
    "    \n",
    "    # display estimates\n",
    "    print('Outcome: ', outcome)\n",
    "    print('-------------------------------------')\n",
    "    display(pd.concat(\n",
    "        [\n",
    "            pd.DataFrame(model_a.params).reset_index(drop=False).rename(columns={\"index\":\"variable\", 0:\"coef\"}).iloc[0:2,:],\n",
    "            pd.DataFrame(model_a.bse).reset_index(drop=False).rename(columns={\"index\":\"variable\", 0:\"std err\"}).iloc[0:2,1:2],\n",
    "            model_a.conf_int(alpha=0.05, cols=None).reset_index(drop=True).rename(columns={0:\"[0.025\", 1:\"0.975]\"}).iloc[0:2,:],\n",
    "            pd.DataFrame(model_a.pvalues.values).reset_index(drop=True).rename(columns={0:\"p-value\"}).iloc[0:2,:]\n",
    "        ],\n",
    "        axis=1\n",
    "    ))\n",
    "\n",
    "    # save outcome_hat\n",
    "    temp[outcome+'_hat'] = model_a.get_prediction(X).summary_frame()['mean']\n",
    "\n",
    "    # save model\n",
    "    results_label = \"s2_INSTRUMENT_\" + predictor_name_s1 + \"_FE_SET_\" + str(FE_set_num) + \"_TARGETING_\" + outcome + \".pkl\"\n",
    "    filename = os.path.join(out_dir2, results_label)\n",
    "    model_a.save(filename, remove_data=True)\n",
    "\n",
    "    return temp"
   ]
  },
  {
   "cell_type": "markdown",
   "metadata": {
    "id": "FIzKkCeOhBQa"
   },
   "source": [
    "---\n",
    "### Step 4: Read and clean individual datasets"
   ]
  },
  {
   "cell_type": "markdown",
   "metadata": {
    "id": "U1SWhbEnhBQa"
   },
   "source": [
    "#### 4.1. Define the function to generate LEAD rolling windows on dataframe"
   ]
  },
  {
   "cell_type": "code",
   "execution_count": 10,
   "metadata": {
    "id": "HNlUz5UAhBQa",
    "executionInfo": {
     "status": "ok",
     "timestamp": 1670216359025,
     "user_tz": 480,
     "elapsed": 6,
     "user": {
      "displayName": "Trevor Johnson",
      "userId": "10875792761423186902"
     }
    }
   },
   "outputs": [],
   "source": [
    "def roll_selected_cols(df, cols_to_roll:list = ['Izmy_v1_unnormed'\\\n",
    "    ,'Izmy_v2_nodist_unnormed' \\\n",
    "    ,'Izmy_v3_normed_D_and_TPY' \\\n",
    "    ,'Izmy_v4_nodist_normed_TPY' \\\n",
    "    ,'Izmy_v5_all_normed']\n",
    "    ,rolling_periods:list = [6]):\n",
    "\n",
    "    \"\"\"Generates rolling averages for the input variables over the input time periods.\n",
    "    Inputs: df (pd dataframe): contains the data on a y-m level\n",
    "            cols_to_roll (list): list of columns to generate rolling avgs--must be in df\n",
    "            rolling_periods (list): list of time windows (in months) to roll over\n",
    "            \n",
    "    Outputs: df: Pandas dataframe containing the new columns\n",
    "             all_cols: list of list containing the new columns, separated by input type\"\"\"\n",
    "    \n",
    "    df_int = df.copy().sort_values(['school_zip', 'year_month'])\n",
    "    \n",
    "    all_cols_int = []\n",
    "\n",
    "    # Roll each variable\n",
    "    for col_index in range(len(cols_to_roll)):\n",
    "        new_cols = []\n",
    "\n",
    "        col_to_roll = cols_to_roll[col_index]\n",
    "        rolling_periods = rolling_periods\n",
    "\n",
    "        for period in rolling_periods:\n",
    "            df_int[f'{col_to_roll}_r{period}'] = df_int.groupby('school_zip')[col_to_roll]\\\n",
    "                .apply(lambda x: x.rolling(window=period, min_periods=period, closed='left').mean())\n",
    "            \n",
    "            new_cols.append(col_to_roll + \"_r\" + str(period))\n",
    "\n",
    "        all_cols_int.append([col_to_roll] + new_cols)\n",
    "        \n",
    "    return df_int, all_cols_int\n",
    "\n"
   ]
  },
  {
   "cell_type": "markdown",
   "metadata": {
    "id": "vJLQJ_-khBQa"
   },
   "source": [
    "#### 4.2. Read in non-medical data and medical data\n",
    "* Make sure the .csv name starts with 'modeling'\n",
    "* Generate rolling windows for non-medical data for instrumental variable\n",
    "* Filter out 2018 data from both non-medica and medical data"
   ]
  },
  {
   "cell_type": "code",
   "source": [
    "os.listdir(in_dir_sc)"
   ],
   "metadata": {
    "colab": {
     "base_uri": "https://localhost:8080/"
    },
    "id": "jS8qcWIxk8Ke",
    "executionInfo": {
     "status": "ok",
     "timestamp": 1670216359025,
     "user_tz": 480,
     "elapsed": 6,
     "user": {
      "displayName": "Trevor Johnson",
      "userId": "10875792761423186902"
     }
    },
    "outputId": "5ff69c47-a70c-406f-9cb3-0f0eeb6e3b49"
   },
   "execution_count": 11,
   "outputs": [
    {
     "data": {
      "text/plain": "['modeling_data_joined_11-22-top15_4tpy_ds_wind_ratios.csv']"
     },
     "execution_count": 11,
     "metadata": {},
     "output_type": "execute_result"
    }
   ]
  },
  {
   "cell_type": "code",
   "execution_count": 12,
   "metadata": {
    "colab": {
     "base_uri": "https://localhost:8080/",
     "height": 246
    },
    "id": "DYnPWB6ahBQa",
    "executionInfo": {
     "status": "ok",
     "timestamp": 1670216370792,
     "user_tz": 480,
     "elapsed": 11771,
     "user": {
      "displayName": "Trevor Johnson",
      "userId": "10875792761423186902"
     }
    },
    "outputId": "03ec79b3-8ceb-42dd-e926-905c0f42121d"
   },
   "outputs": [
    {
     "name": "stdout",
     "output_type": "stream",
     "text": [
      "Shape of data  (294897, 153)\n"
     ]
    },
    {
     "data": {
      "text/plain": "      Unnamed: 0.1  Unnamed: 0  year_month  school_zip school_county_v2  \\\n0                0           0  2000-01-01       90001      Los Angeles   \n1322          1322        1322  2000-02-01       90001      Los Angeles   \n\n      school_region_name       pm25  school_elevation_m  ps_elevation_m  \\\n0     Los Angeles County  32.149998           44.728889       43.703333   \n1322  Los Angeles County  13.666667           44.728889       43.703333   \n\n      population_0_4  population_0_4_male  population_0_4_female  \\\n0             6196.0               3209.0                 2987.0   \n1322          6196.0               3209.0                 2987.0   \n\n      population_5_9  population_5_9_male  population_5_9_female  \\\n0             6672.0               3397.0                 3275.0   \n1322          6672.0               3397.0                 3275.0   \n\n      population_10_14  population_10_14_male  population_10_14_female  \\\n0               5562.0                 2850.0                   2712.0   \n1322            5562.0                 2850.0                   2712.0   \n\n      population_15_19  population_15_19_male  population_15_19_female  \\\n0               5075.0                 2599.0                   2476.0   \n1322            5075.0                 2599.0                   2476.0   \n\n      total_pop_under19  pop_under19_male  pop_under19_female  \\\n0               23505.0           12055.0             11450.0   \n1322            23505.0           12055.0             11450.0   \n\n      total_population  total_population_male  total_population_female  \\\n0              54481.0                27320.0                  27161.0   \n1322           54481.0                27320.0                  27161.0   \n\n      point_source_pm25_tpy  dist_school_to_ps_m  angle_to_school  \\\n0                 14.241154          3854.812685       -90.196586   \n1322              14.241154          3854.812685       -90.196586   \n\n      ps_wspd_merge  school_wdir_wrt_0n  ps_wdir_wrt_0n  \\\n0          0.757031         -172.758321     -172.758321   \n1322       0.965276           30.294778       30.294778   \n\n      school_wind_alignment  ps_wind_alignment  avg_wind_alignment  \\\n0                 82.561735          82.561735           82.561735   \n1322             120.491364         120.491364          120.491364   \n\n      avg_wind_alignment_cosine  nearby_point_source_count  school_wspd  \\\n0                      1.124995                        0.0     0.757031   \n1322                   0.547186                        0.0     0.965276   \n\n      ca_agi_per_returns  total_tax_liability  tax_liability_per_capita  \\\n0           20049.704556            2608176.0                  47.87313   \n1322        20049.704556            2608176.0                  47.87313   \n\n      school_temperature  ps_temperature  school_count  pm25_last_month  \\\n0              14.277778       14.266667             9              NaN   \n1322           13.877778       13.866667             9        32.149998   \n\n      pm25_r6  pm25_r9  pm25_r12  pm25_r24  pm25_slope6  pm25_slope9  \\\n0         NaN      NaN       NaN       NaN          NaN          NaN   \n1322      NaN      NaN       NaN       NaN          NaN          NaN   \n\n      pm25_slope12  pm25_slope24  pm25_lag_12mo  year  month  \\\n0              NaN           NaN            NaN  2000      1   \n1322           NaN           NaN            NaN  2000      2   \n\n      school_county_v2_alameda  school_county_v2_alpine  \\\n0                            0                        0   \n1322                         0                        0   \n\n      school_county_v2_amador  school_county_v2_butte  \\\n0                           0                       0   \n1322                        0                       0   \n\n      school_county_v2_calaveras  school_county_v2_colusa  \\\n0                              0                        0   \n1322                           0                        0   \n\n      school_county_v2_contra_costa  school_county_v2_del_norte  \\\n0                                 0                           0   \n1322                              0                           0   \n\n      school_county_v2_el_dorado  school_county_v2_fresno  \\\n0                              0                        0   \n1322                           0                        0   \n\n      school_county_v2_glenn  school_county_v2_humboldt  \\\n0                          0                          0   \n1322                       0                          0   \n\n      school_county_v2_imperial  school_county_v2_inyo  school_county_v2_kern  \\\n0                             0                      0                      0   \n1322                          0                      0                      0   \n\n      school_county_v2_kings  school_county_v2_lake  school_county_v2_lassen  \\\n0                          0                      0                        0   \n1322                       0                      0                        0   \n\n      school_county_v2_los_angeles  school_county_v2_madera  \\\n0                                1                        0   \n1322                             1                        0   \n\n      school_county_v2_marin  school_county_v2_mariposa  \\\n0                          0                          0   \n1322                       0                          0   \n\n      school_county_v2_mendocino  school_county_v2_merced  \\\n0                              0                        0   \n1322                           0                        0   \n\n      school_county_v2_modoc  school_county_v2_mono  \\\n0                          0                      0   \n1322                       0                      0   \n\n      school_county_v2_monterey  school_county_v2_napa  \\\n0                             0                      0   \n1322                          0                      0   \n\n      school_county_v2_nevada  school_county_v2_orange  \\\n0                           0                        0   \n1322                        0                        0   \n\n      school_county_v2_placer  school_county_v2_plumas  \\\n0                           0                        0   \n1322                        0                        0   \n\n      school_county_v2_riverside  school_county_v2_sacramento  \\\n0                              0                            0   \n1322                           0                            0   \n\n      school_county_v2_san_benito  school_county_v2_san_bernardino  \\\n0                               0                                0   \n1322                            0                                0   \n\n      school_county_v2_san_diego  school_county_v2_san_francisco  \\\n0                              0                               0   \n1322                           0                               0   \n\n      school_county_v2_san_joaquin  school_county_v2_san_luis_obispo  \\\n0                                0                                 0   \n1322                             0                                 0   \n\n      school_county_v2_san_mateo  school_county_v2_santa_barbara  \\\n0                              0                               0   \n1322                           0                               0   \n\n      school_county_v2_santa_clara  school_county_v2_santa_cruz  \\\n0                                0                            0   \n1322                             0                            0   \n\n      school_county_v2_shasta  school_county_v2_sierra  \\\n0                           0                        0   \n1322                        0                        0   \n\n      school_county_v2_siskiyou  school_county_v2_solano  \\\n0                             0                        0   \n1322                          0                        0   \n\n      school_county_v2_sonoma  school_county_v2_stanislaus  \\\n0                           0                            0   \n1322                        0                            0   \n\n      school_county_v2_sutter  school_county_v2_tehama  \\\n0                           0                        0   \n1322                        0                        0   \n\n      school_county_v2_trinity  school_county_v2_tulare  \\\n0                            0                        0   \n1322                         0                        0   \n\n      school_county_v2_tuolumne  school_county_v2_ventura  \\\n0                             0                         0   \n1322                          0                         0   \n\n      school_county_v2_yolo  school_county_v2_yuba  month_01  month_02  \\\n0                         0                      0         1         0   \n1322                      0                      0         0         1   \n\n      month_03  month_04  month_05  month_06  month_07  month_08  month_09  \\\n0            0         0         0         0         0         0         0   \n1322         0         0         0         0         0         0         0   \n\n      month_10  month_11  month_12      y-m  central_wind_alignment_180_high  \\\n0            0         0         0  2000-01                              NaN   \n1322         0         0         0  2000-02                              NaN   \n\n      avg_count_ps_within_5km  avg_elevation_diff_m  avg_wspd_ratio_ps_sch  \\\n0                         NaN                   NaN                    NaN   \n1322                      NaN                   NaN                    NaN   \n\n      avg_wspd_ratio_sch_ps  avg_school_wspd  avg_ps_wspd  \\\n0                       NaN              NaN          NaN   \n1322                    NaN              NaN          NaN   \n\n      new_alignment_90_high  ps_pm25_tpy_top_20  \\\n0                       NaN                 NaN   \n1322                    NaN                 NaN   \n\n      school_to_ps_geod_dist_m_top_20  avg_wspd_top_15  Izmy_v1_unnormed  \\\n0                                 NaN              NaN               NaN   \n1322                              NaN              NaN               NaN   \n\n      Izmy_v2_nodist_unnormed  Izmy_v3_normed_D_and_TPY  \\\n0                         NaN                       NaN   \n1322                      NaN                       NaN   \n\n      Izmy_v4_nodist_normed_TPY  Izmy_v5_all_normed_but_wspd_ratio  \\\n0                           NaN                                NaN   \n1322                        NaN                                NaN   \n\n      Izmy_v6_unnormed_no_wspd  Izmy_v7_all_normed_no_wspd  \\\n0                          NaN                         NaN   \n1322                       NaN                         NaN   \n\n      Izmy_v8_normed_D_and_TPY_no_wspd   avg_temp  diff_temp_s_ps  \\\n0                                  NaN  14.272222        0.011111   \n1322                               NaN  13.872222        0.011111   \n\n     patzip_year_month  Izmy_v4_nodist_normed_TPY_r9  avg_wspd_top_15_r9  \\\n0         90001-2000-1                           NaN                 NaN   \n1322      90001-2000-2                           NaN                 NaN   \n\n      avg_temp_r9  \n0             NaN  \n1322          NaN  ",
      "text/html": "<div>\n<style scoped>\n    .dataframe tbody tr th:only-of-type {\n        vertical-align: middle;\n    }\n\n    .dataframe tbody tr th {\n        vertical-align: top;\n    }\n\n    .dataframe thead th {\n        text-align: right;\n    }\n</style>\n<table border=\"1\" class=\"dataframe\">\n  <thead>\n    <tr style=\"text-align: right;\">\n      <th></th>\n      <th>Unnamed: 0.1</th>\n      <th>Unnamed: 0</th>\n      <th>year_month</th>\n      <th>school_zip</th>\n      <th>school_county_v2</th>\n      <th>school_region_name</th>\n      <th>pm25</th>\n      <th>school_elevation_m</th>\n      <th>ps_elevation_m</th>\n      <th>population_0_4</th>\n      <th>population_0_4_male</th>\n      <th>population_0_4_female</th>\n      <th>population_5_9</th>\n      <th>population_5_9_male</th>\n      <th>population_5_9_female</th>\n      <th>population_10_14</th>\n      <th>population_10_14_male</th>\n      <th>population_10_14_female</th>\n      <th>population_15_19</th>\n      <th>population_15_19_male</th>\n      <th>population_15_19_female</th>\n      <th>total_pop_under19</th>\n      <th>pop_under19_male</th>\n      <th>pop_under19_female</th>\n      <th>total_population</th>\n      <th>total_population_male</th>\n      <th>total_population_female</th>\n      <th>point_source_pm25_tpy</th>\n      <th>dist_school_to_ps_m</th>\n      <th>angle_to_school</th>\n      <th>ps_wspd_merge</th>\n      <th>school_wdir_wrt_0n</th>\n      <th>ps_wdir_wrt_0n</th>\n      <th>school_wind_alignment</th>\n      <th>ps_wind_alignment</th>\n      <th>avg_wind_alignment</th>\n      <th>avg_wind_alignment_cosine</th>\n      <th>nearby_point_source_count</th>\n      <th>school_wspd</th>\n      <th>ca_agi_per_returns</th>\n      <th>total_tax_liability</th>\n      <th>tax_liability_per_capita</th>\n      <th>school_temperature</th>\n      <th>ps_temperature</th>\n      <th>school_count</th>\n      <th>pm25_last_month</th>\n      <th>pm25_r6</th>\n      <th>pm25_r9</th>\n      <th>pm25_r12</th>\n      <th>pm25_r24</th>\n      <th>pm25_slope6</th>\n      <th>pm25_slope9</th>\n      <th>pm25_slope12</th>\n      <th>pm25_slope24</th>\n      <th>pm25_lag_12mo</th>\n      <th>year</th>\n      <th>month</th>\n      <th>school_county_v2_alameda</th>\n      <th>school_county_v2_alpine</th>\n      <th>school_county_v2_amador</th>\n      <th>school_county_v2_butte</th>\n      <th>school_county_v2_calaveras</th>\n      <th>school_county_v2_colusa</th>\n      <th>school_county_v2_contra_costa</th>\n      <th>school_county_v2_del_norte</th>\n      <th>school_county_v2_el_dorado</th>\n      <th>school_county_v2_fresno</th>\n      <th>school_county_v2_glenn</th>\n      <th>school_county_v2_humboldt</th>\n      <th>school_county_v2_imperial</th>\n      <th>school_county_v2_inyo</th>\n      <th>school_county_v2_kern</th>\n      <th>school_county_v2_kings</th>\n      <th>school_county_v2_lake</th>\n      <th>school_county_v2_lassen</th>\n      <th>school_county_v2_los_angeles</th>\n      <th>school_county_v2_madera</th>\n      <th>school_county_v2_marin</th>\n      <th>school_county_v2_mariposa</th>\n      <th>school_county_v2_mendocino</th>\n      <th>school_county_v2_merced</th>\n      <th>school_county_v2_modoc</th>\n      <th>school_county_v2_mono</th>\n      <th>school_county_v2_monterey</th>\n      <th>school_county_v2_napa</th>\n      <th>school_county_v2_nevada</th>\n      <th>school_county_v2_orange</th>\n      <th>school_county_v2_placer</th>\n      <th>school_county_v2_plumas</th>\n      <th>school_county_v2_riverside</th>\n      <th>school_county_v2_sacramento</th>\n      <th>school_county_v2_san_benito</th>\n      <th>school_county_v2_san_bernardino</th>\n      <th>school_county_v2_san_diego</th>\n      <th>school_county_v2_san_francisco</th>\n      <th>school_county_v2_san_joaquin</th>\n      <th>school_county_v2_san_luis_obispo</th>\n      <th>school_county_v2_san_mateo</th>\n      <th>school_county_v2_santa_barbara</th>\n      <th>school_county_v2_santa_clara</th>\n      <th>school_county_v2_santa_cruz</th>\n      <th>school_county_v2_shasta</th>\n      <th>school_county_v2_sierra</th>\n      <th>school_county_v2_siskiyou</th>\n      <th>school_county_v2_solano</th>\n      <th>school_county_v2_sonoma</th>\n      <th>school_county_v2_stanislaus</th>\n      <th>school_county_v2_sutter</th>\n      <th>school_county_v2_tehama</th>\n      <th>school_county_v2_trinity</th>\n      <th>school_county_v2_tulare</th>\n      <th>school_county_v2_tuolumne</th>\n      <th>school_county_v2_ventura</th>\n      <th>school_county_v2_yolo</th>\n      <th>school_county_v2_yuba</th>\n      <th>month_01</th>\n      <th>month_02</th>\n      <th>month_03</th>\n      <th>month_04</th>\n      <th>month_05</th>\n      <th>month_06</th>\n      <th>month_07</th>\n      <th>month_08</th>\n      <th>month_09</th>\n      <th>month_10</th>\n      <th>month_11</th>\n      <th>month_12</th>\n      <th>y-m</th>\n      <th>central_wind_alignment_180_high</th>\n      <th>avg_count_ps_within_5km</th>\n      <th>avg_elevation_diff_m</th>\n      <th>avg_wspd_ratio_ps_sch</th>\n      <th>avg_wspd_ratio_sch_ps</th>\n      <th>avg_school_wspd</th>\n      <th>avg_ps_wspd</th>\n      <th>new_alignment_90_high</th>\n      <th>ps_pm25_tpy_top_20</th>\n      <th>school_to_ps_geod_dist_m_top_20</th>\n      <th>avg_wspd_top_15</th>\n      <th>Izmy_v1_unnormed</th>\n      <th>Izmy_v2_nodist_unnormed</th>\n      <th>Izmy_v3_normed_D_and_TPY</th>\n      <th>Izmy_v4_nodist_normed_TPY</th>\n      <th>Izmy_v5_all_normed_but_wspd_ratio</th>\n      <th>Izmy_v6_unnormed_no_wspd</th>\n      <th>Izmy_v7_all_normed_no_wspd</th>\n      <th>Izmy_v8_normed_D_and_TPY_no_wspd</th>\n      <th>avg_temp</th>\n      <th>diff_temp_s_ps</th>\n      <th>patzip_year_month</th>\n      <th>Izmy_v4_nodist_normed_TPY_r9</th>\n      <th>avg_wspd_top_15_r9</th>\n      <th>avg_temp_r9</th>\n    </tr>\n  </thead>\n  <tbody>\n    <tr>\n      <th>0</th>\n      <td>0</td>\n      <td>0</td>\n      <td>2000-01-01</td>\n      <td>90001</td>\n      <td>Los Angeles</td>\n      <td>Los Angeles County</td>\n      <td>32.149998</td>\n      <td>44.728889</td>\n      <td>43.703333</td>\n      <td>6196.0</td>\n      <td>3209.0</td>\n      <td>2987.0</td>\n      <td>6672.0</td>\n      <td>3397.0</td>\n      <td>3275.0</td>\n      <td>5562.0</td>\n      <td>2850.0</td>\n      <td>2712.0</td>\n      <td>5075.0</td>\n      <td>2599.0</td>\n      <td>2476.0</td>\n      <td>23505.0</td>\n      <td>12055.0</td>\n      <td>11450.0</td>\n      <td>54481.0</td>\n      <td>27320.0</td>\n      <td>27161.0</td>\n      <td>14.241154</td>\n      <td>3854.812685</td>\n      <td>-90.196586</td>\n      <td>0.757031</td>\n      <td>-172.758321</td>\n      <td>-172.758321</td>\n      <td>82.561735</td>\n      <td>82.561735</td>\n      <td>82.561735</td>\n      <td>1.124995</td>\n      <td>0.0</td>\n      <td>0.757031</td>\n      <td>20049.704556</td>\n      <td>2608176.0</td>\n      <td>47.87313</td>\n      <td>14.277778</td>\n      <td>14.266667</td>\n      <td>9</td>\n      <td>NaN</td>\n      <td>NaN</td>\n      <td>NaN</td>\n      <td>NaN</td>\n      <td>NaN</td>\n      <td>NaN</td>\n      <td>NaN</td>\n      <td>NaN</td>\n      <td>NaN</td>\n      <td>NaN</td>\n      <td>2000</td>\n      <td>1</td>\n      <td>0</td>\n      <td>0</td>\n      <td>0</td>\n      <td>0</td>\n      <td>0</td>\n      <td>0</td>\n      <td>0</td>\n      <td>0</td>\n      <td>0</td>\n      <td>0</td>\n      <td>0</td>\n      <td>0</td>\n      <td>0</td>\n      <td>0</td>\n      <td>0</td>\n      <td>0</td>\n      <td>0</td>\n      <td>0</td>\n      <td>1</td>\n      <td>0</td>\n      <td>0</td>\n      <td>0</td>\n      <td>0</td>\n      <td>0</td>\n      <td>0</td>\n      <td>0</td>\n      <td>0</td>\n      <td>0</td>\n      <td>0</td>\n      <td>0</td>\n      <td>0</td>\n      <td>0</td>\n      <td>0</td>\n      <td>0</td>\n      <td>0</td>\n      <td>0</td>\n      <td>0</td>\n      <td>0</td>\n      <td>0</td>\n      <td>0</td>\n      <td>0</td>\n      <td>0</td>\n      <td>0</td>\n      <td>0</td>\n      <td>0</td>\n      <td>0</td>\n      <td>0</td>\n      <td>0</td>\n      <td>0</td>\n      <td>0</td>\n      <td>0</td>\n      <td>0</td>\n      <td>0</td>\n      <td>0</td>\n      <td>0</td>\n      <td>0</td>\n      <td>0</td>\n      <td>0</td>\n      <td>1</td>\n      <td>0</td>\n      <td>0</td>\n      <td>0</td>\n      <td>0</td>\n      <td>0</td>\n      <td>0</td>\n      <td>0</td>\n      <td>0</td>\n      <td>0</td>\n      <td>0</td>\n      <td>0</td>\n      <td>2000-01</td>\n      <td>NaN</td>\n      <td>NaN</td>\n      <td>NaN</td>\n      <td>NaN</td>\n      <td>NaN</td>\n      <td>NaN</td>\n      <td>NaN</td>\n      <td>NaN</td>\n      <td>NaN</td>\n      <td>NaN</td>\n      <td>NaN</td>\n      <td>NaN</td>\n      <td>NaN</td>\n      <td>NaN</td>\n      <td>NaN</td>\n      <td>NaN</td>\n      <td>NaN</td>\n      <td>NaN</td>\n      <td>NaN</td>\n      <td>14.272222</td>\n      <td>0.011111</td>\n      <td>90001-2000-1</td>\n      <td>NaN</td>\n      <td>NaN</td>\n      <td>NaN</td>\n    </tr>\n    <tr>\n      <th>1322</th>\n      <td>1322</td>\n      <td>1322</td>\n      <td>2000-02-01</td>\n      <td>90001</td>\n      <td>Los Angeles</td>\n      <td>Los Angeles County</td>\n      <td>13.666667</td>\n      <td>44.728889</td>\n      <td>43.703333</td>\n      <td>6196.0</td>\n      <td>3209.0</td>\n      <td>2987.0</td>\n      <td>6672.0</td>\n      <td>3397.0</td>\n      <td>3275.0</td>\n      <td>5562.0</td>\n      <td>2850.0</td>\n      <td>2712.0</td>\n      <td>5075.0</td>\n      <td>2599.0</td>\n      <td>2476.0</td>\n      <td>23505.0</td>\n      <td>12055.0</td>\n      <td>11450.0</td>\n      <td>54481.0</td>\n      <td>27320.0</td>\n      <td>27161.0</td>\n      <td>14.241154</td>\n      <td>3854.812685</td>\n      <td>-90.196586</td>\n      <td>0.965276</td>\n      <td>30.294778</td>\n      <td>30.294778</td>\n      <td>120.491364</td>\n      <td>120.491364</td>\n      <td>120.491364</td>\n      <td>0.547186</td>\n      <td>0.0</td>\n      <td>0.965276</td>\n      <td>20049.704556</td>\n      <td>2608176.0</td>\n      <td>47.87313</td>\n      <td>13.877778</td>\n      <td>13.866667</td>\n      <td>9</td>\n      <td>32.149998</td>\n      <td>NaN</td>\n      <td>NaN</td>\n      <td>NaN</td>\n      <td>NaN</td>\n      <td>NaN</td>\n      <td>NaN</td>\n      <td>NaN</td>\n      <td>NaN</td>\n      <td>NaN</td>\n      <td>2000</td>\n      <td>2</td>\n      <td>0</td>\n      <td>0</td>\n      <td>0</td>\n      <td>0</td>\n      <td>0</td>\n      <td>0</td>\n      <td>0</td>\n      <td>0</td>\n      <td>0</td>\n      <td>0</td>\n      <td>0</td>\n      <td>0</td>\n      <td>0</td>\n      <td>0</td>\n      <td>0</td>\n      <td>0</td>\n      <td>0</td>\n      <td>0</td>\n      <td>1</td>\n      <td>0</td>\n      <td>0</td>\n      <td>0</td>\n      <td>0</td>\n      <td>0</td>\n      <td>0</td>\n      <td>0</td>\n      <td>0</td>\n      <td>0</td>\n      <td>0</td>\n      <td>0</td>\n      <td>0</td>\n      <td>0</td>\n      <td>0</td>\n      <td>0</td>\n      <td>0</td>\n      <td>0</td>\n      <td>0</td>\n      <td>0</td>\n      <td>0</td>\n      <td>0</td>\n      <td>0</td>\n      <td>0</td>\n      <td>0</td>\n      <td>0</td>\n      <td>0</td>\n      <td>0</td>\n      <td>0</td>\n      <td>0</td>\n      <td>0</td>\n      <td>0</td>\n      <td>0</td>\n      <td>0</td>\n      <td>0</td>\n      <td>0</td>\n      <td>0</td>\n      <td>0</td>\n      <td>0</td>\n      <td>0</td>\n      <td>0</td>\n      <td>1</td>\n      <td>0</td>\n      <td>0</td>\n      <td>0</td>\n      <td>0</td>\n      <td>0</td>\n      <td>0</td>\n      <td>0</td>\n      <td>0</td>\n      <td>0</td>\n      <td>0</td>\n      <td>2000-02</td>\n      <td>NaN</td>\n      <td>NaN</td>\n      <td>NaN</td>\n      <td>NaN</td>\n      <td>NaN</td>\n      <td>NaN</td>\n      <td>NaN</td>\n      <td>NaN</td>\n      <td>NaN</td>\n      <td>NaN</td>\n      <td>NaN</td>\n      <td>NaN</td>\n      <td>NaN</td>\n      <td>NaN</td>\n      <td>NaN</td>\n      <td>NaN</td>\n      <td>NaN</td>\n      <td>NaN</td>\n      <td>NaN</td>\n      <td>13.872222</td>\n      <td>0.011111</td>\n      <td>90001-2000-2</td>\n      <td>NaN</td>\n      <td>NaN</td>\n      <td>NaN</td>\n    </tr>\n  </tbody>\n</table>\n</div>"
     },
     "execution_count": 12,
     "metadata": {},
     "output_type": "execute_result"
    }
   ],
   "source": [
    "# non-medical data\n",
    "for file in os.listdir(in_dir_sc):\n",
    "    if file.startswith('modeling'):\n",
    "        # read in our modeling data\n",
    "        df_sc = pd.read_csv(os.path.join(in_dir_sc, file))\n",
    "\n",
    "# add key to df\n",
    "df_sc['patzip_year_month'] = df_sc.school_zip.astype(str) + '-' + df_sc.year.astype(str) + '-' + df_sc.month.astype(str)\n",
    "\n",
    "# add instrumental variables rolling things here - looking at past data, so need 2000-2002 for previous avgs\n",
    "cols_to_roll = [predictor,'avg_wspd_top_15','avg_temp']\n",
    "\n",
    "rolling_periods = [lead_time]\n",
    "df_sc, all_cols = roll_selected_cols(df=df_sc, cols_to_roll=cols_to_roll, rolling_periods=rolling_periods)\n",
    "\n",
    "# drop if year >=2018\n",
    "df_sc = df_sc[df_sc.year.le(2017)]\n",
    "\n",
    "# print shape of data\n",
    "print('Shape of data ', df_sc.shape)\n",
    "df_sc.head(2)\n",
    "\n"
   ]
  },
  {
   "cell_type": "code",
   "execution_count": 13,
   "metadata": {
    "colab": {
     "base_uri": "https://localhost:8080/"
    },
    "id": "bS4DbsLIhBQa",
    "executionInfo": {
     "status": "ok",
     "timestamp": 1670216373635,
     "user_tz": 480,
     "elapsed": 2849,
     "user": {
      "displayName": "Trevor Johnson",
      "userId": "10875792761423186902"
     }
    },
    "outputId": "107ba65e-6164-4aa2-a7d1-dfa98a3be46f"
   },
   "outputs": [
    {
     "name": "stdout",
     "output_type": "stream",
     "text": [
      "Shape of data  (294897, 6)\n"
     ]
    }
   ],
   "source": [
    "# medical data\n",
    "df_h = pd.DataFrame()\n",
    "df_h['patzip_year_month'] = df_sc.patzip_year_month.unique()\n",
    "\n",
    "for file in os.listdir(in_dir_h):\n",
    "    # read in cornelia's healthcare data\n",
    "    temp = pd.read_csv(os.path.join(in_dir_h, file)).iloc[:,1:]\n",
    "    # rename number_of_visits column\n",
    "    temp.rename(\n",
    "        columns={'number_of_visits':'visits_'+file.split('.')[0]},\n",
    "        inplace=True\n",
    "    )\n",
    "\n",
    "    # merge to df_h\n",
    "    df_h = df_h.merge(\n",
    "        temp[['patzip_year_month', 'visits_'+file.split('.')[0]]],\n",
    "        on='patzip_year_month',\n",
    "        how='left'\n",
    "    )\n",
    "\n",
    "# Filter out 2018 data bc it's all nulls \n",
    "# if year > 2017, drop\n",
    "df_h['year_h'] = df_h.patzip_year_month.str.split('-').str[1]\n",
    "df_h = df_h[df_h.year_h.le('2017')]\n",
    "df_h.drop(columns='year_h', inplace=True)\n",
    "\n",
    "# print shape of data\n",
    "print('Shape of data ', df_h.shape)"
   ]
  },
  {
   "cell_type": "code",
   "execution_count": 14,
   "metadata": {
    "colab": {
     "base_uri": "https://localhost:8080/"
    },
    "id": "eogUUjahhBQa",
    "executionInfo": {
     "status": "ok",
     "timestamp": 1670216373635,
     "user_tz": 480,
     "elapsed": 20,
     "user": {
      "displayName": "Trevor Johnson",
      "userId": "10875792761423186902"
     }
    },
    "outputId": "1785260a-52f3-4362-fdb9-6fb2d5626743"
   },
   "outputs": [
    {
     "data": {
      "text/plain": "Index(['patzip_year_month', 'visits_hematopoietic_cancers',\n       'visits_injuries_accidents', 'visits_type_1_diabetes',\n       'visits_pediatric_vasculitis', 'visits_resp_cardio'],\n      dtype='object')"
     },
     "execution_count": 14,
     "metadata": {},
     "output_type": "execute_result"
    }
   ],
   "source": [
    "df_h.columns"
   ]
  },
  {
   "cell_type": "markdown",
   "metadata": {
    "id": "rWHLNkO8hBQb"
   },
   "source": [
    "#### 4.3. Dynamically add 'y_' and lag times to the column names"
   ]
  },
  {
   "cell_type": "code",
   "execution_count": 15,
   "metadata": {
    "colab": {
     "base_uri": "https://localhost:8080/"
    },
    "id": "GqWni4EIhBQb",
    "executionInfo": {
     "status": "ok",
     "timestamp": 1670216373635,
     "user_tz": 480,
     "elapsed": 17,
     "user": {
      "displayName": "Trevor Johnson",
      "userId": "10875792761423186902"
     }
    },
    "outputId": "01fd26fb-5c73-43c1-e1f3-217a649e692b"
   },
   "outputs": [
    {
     "name": "stdout",
     "output_type": "stream",
     "text": [
      "num_visits_col_names:\n",
      "['visits_hematopoietic_cancers', 'visits_injuries_accidents', 'visits_type_1_diabetes', 'visits_pediatric_vasculitis', 'visits_resp_cardio']\n",
      "\n",
      "y_col_names:\n",
      "['y_visits_hematopoietic_cancers', 'y_visits_injuries_accidents', 'y_visits_type_1_diabetes', 'y_visits_pediatric_vasculitis', 'y_visits_resp_cardio']\n",
      "\n",
      "y_col_names_lag:\n",
      "['y_visits_hematopoietic_cancers_fwd3', 'y_visits_injuries_accidents_fwd3', 'y_visits_type_1_diabetes_fwd3', 'y_visits_pediatric_vasculitis_fwd3', 'y_visits_resp_cardio_fwd3']\n"
     ]
    }
   ],
   "source": [
    "# Get the list of outcome columns from the merged health dataset (df_h above)\n",
    "num_visits_col_names = [i for i in list(df_h.columns) if 'visit' in i]\n",
    "print(\"num_visits_col_names:\\n{}\\n\".format(num_visits_col_names))\n",
    "\n",
    "# y_col_names is used in Section 5.4.\n",
    "y_col_names = ['y_' + i for i in num_visits_col_names]\n",
    "print(\"y_col_names:\\n{}\\n\".format(y_col_names))\n",
    "\n",
    "# create a list of columns for outcome variables with health outcome lag window added\n",
    "# y_col_names_lag is used in Step 7\n",
    "y_col_names_lag = []\n",
    "for i in y_col_names:\n",
    "    new_name = i + HO_lag_input\n",
    "    y_col_names_lag.append(new_name)\n",
    "\n",
    "print(\"y_col_names_lag:\\n{}\".format(y_col_names_lag))"
   ]
  },
  {
   "cell_type": "markdown",
   "metadata": {
    "id": "oBoCbnlShBQb"
   },
   "source": [
    "---\n",
    "### Step 5: Merge datasets and data preprocessing"
   ]
  },
  {
   "cell_type": "markdown",
   "metadata": {
    "id": "eixN4v5ZhBQb"
   },
   "source": [
    "#### 5.1. Merge non-medical and medical datasets"
   ]
  },
  {
   "cell_type": "code",
   "execution_count": 16,
   "metadata": {
    "colab": {
     "base_uri": "https://localhost:8080/",
     "height": 246
    },
    "id": "obIzsDbthBQb",
    "executionInfo": {
     "status": "ok",
     "timestamp": 1670216374861,
     "user_tz": 480,
     "elapsed": 1240,
     "user": {
      "displayName": "Trevor Johnson",
      "userId": "10875792761423186902"
     }
    },
    "outputId": "9f1005d0-a8e9-47bc-b342-626dd908720b"
   },
   "outputs": [
    {
     "name": "stdout",
     "output_type": "stream",
     "text": [
      "Shape of data  (294897, 158)\n"
     ]
    },
    {
     "data": {
      "text/plain": "   Unnamed: 0.1  Unnamed: 0  year_month  school_zip school_county_v2  \\\n0             0           0  2000-01-01       90001      Los Angeles   \n1          1322        1322  2000-02-01       90001      Los Angeles   \n\n   school_region_name       pm25  school_elevation_m  ps_elevation_m  \\\n0  Los Angeles County  32.149998           44.728889       43.703333   \n1  Los Angeles County  13.666667           44.728889       43.703333   \n\n   population_0_4  population_0_4_male  population_0_4_female  population_5_9  \\\n0          6196.0               3209.0                 2987.0          6672.0   \n1          6196.0               3209.0                 2987.0          6672.0   \n\n   population_5_9_male  population_5_9_female  population_10_14  \\\n0               3397.0                 3275.0            5562.0   \n1               3397.0                 3275.0            5562.0   \n\n   population_10_14_male  population_10_14_female  population_15_19  \\\n0                 2850.0                   2712.0            5075.0   \n1                 2850.0                   2712.0            5075.0   \n\n   population_15_19_male  population_15_19_female  total_pop_under19  \\\n0                 2599.0                   2476.0            23505.0   \n1                 2599.0                   2476.0            23505.0   \n\n   pop_under19_male  pop_under19_female  total_population  \\\n0           12055.0             11450.0           54481.0   \n1           12055.0             11450.0           54481.0   \n\n   total_population_male  total_population_female  point_source_pm25_tpy  \\\n0                27320.0                  27161.0              14.241154   \n1                27320.0                  27161.0              14.241154   \n\n   dist_school_to_ps_m  angle_to_school  ps_wspd_merge  school_wdir_wrt_0n  \\\n0          3854.812685       -90.196586       0.757031         -172.758321   \n1          3854.812685       -90.196586       0.965276           30.294778   \n\n   ps_wdir_wrt_0n  school_wind_alignment  ps_wind_alignment  \\\n0     -172.758321              82.561735          82.561735   \n1       30.294778             120.491364         120.491364   \n\n   avg_wind_alignment  avg_wind_alignment_cosine  nearby_point_source_count  \\\n0           82.561735                   1.124995                        0.0   \n1          120.491364                   0.547186                        0.0   \n\n   school_wspd  ca_agi_per_returns  total_tax_liability  \\\n0     0.757031        20049.704556            2608176.0   \n1     0.965276        20049.704556            2608176.0   \n\n   tax_liability_per_capita  school_temperature  ps_temperature  school_count  \\\n0                  47.87313           14.277778       14.266667             9   \n1                  47.87313           13.877778       13.866667             9   \n\n   pm25_last_month  pm25_r6  pm25_r9  pm25_r12  pm25_r24  pm25_slope6  \\\n0              NaN      NaN      NaN       NaN       NaN          NaN   \n1        32.149998      NaN      NaN       NaN       NaN          NaN   \n\n   pm25_slope9  pm25_slope12  pm25_slope24  pm25_lag_12mo  year  month  \\\n0          NaN           NaN           NaN            NaN  2000      1   \n1          NaN           NaN           NaN            NaN  2000      2   \n\n   school_county_v2_alameda  school_county_v2_alpine  school_county_v2_amador  \\\n0                         0                        0                        0   \n1                         0                        0                        0   \n\n   school_county_v2_butte  school_county_v2_calaveras  \\\n0                       0                           0   \n1                       0                           0   \n\n   school_county_v2_colusa  school_county_v2_contra_costa  \\\n0                        0                              0   \n1                        0                              0   \n\n   school_county_v2_del_norte  school_county_v2_el_dorado  \\\n0                           0                           0   \n1                           0                           0   \n\n   school_county_v2_fresno  school_county_v2_glenn  school_county_v2_humboldt  \\\n0                        0                       0                          0   \n1                        0                       0                          0   \n\n   school_county_v2_imperial  school_county_v2_inyo  school_county_v2_kern  \\\n0                          0                      0                      0   \n1                          0                      0                      0   \n\n   school_county_v2_kings  school_county_v2_lake  school_county_v2_lassen  \\\n0                       0                      0                        0   \n1                       0                      0                        0   \n\n   school_county_v2_los_angeles  school_county_v2_madera  \\\n0                             1                        0   \n1                             1                        0   \n\n   school_county_v2_marin  school_county_v2_mariposa  \\\n0                       0                          0   \n1                       0                          0   \n\n   school_county_v2_mendocino  school_county_v2_merced  \\\n0                           0                        0   \n1                           0                        0   \n\n   school_county_v2_modoc  school_county_v2_mono  school_county_v2_monterey  \\\n0                       0                      0                          0   \n1                       0                      0                          0   \n\n   school_county_v2_napa  school_county_v2_nevada  school_county_v2_orange  \\\n0                      0                        0                        0   \n1                      0                        0                        0   \n\n   school_county_v2_placer  school_county_v2_plumas  \\\n0                        0                        0   \n1                        0                        0   \n\n   school_county_v2_riverside  school_county_v2_sacramento  \\\n0                           0                            0   \n1                           0                            0   \n\n   school_county_v2_san_benito  school_county_v2_san_bernardino  \\\n0                            0                                0   \n1                            0                                0   \n\n   school_county_v2_san_diego  school_county_v2_san_francisco  \\\n0                           0                               0   \n1                           0                               0   \n\n   school_county_v2_san_joaquin  school_county_v2_san_luis_obispo  \\\n0                             0                                 0   \n1                             0                                 0   \n\n   school_county_v2_san_mateo  school_county_v2_santa_barbara  \\\n0                           0                               0   \n1                           0                               0   \n\n   school_county_v2_santa_clara  school_county_v2_santa_cruz  \\\n0                             0                            0   \n1                             0                            0   \n\n   school_county_v2_shasta  school_county_v2_sierra  \\\n0                        0                        0   \n1                        0                        0   \n\n   school_county_v2_siskiyou  school_county_v2_solano  \\\n0                          0                        0   \n1                          0                        0   \n\n   school_county_v2_sonoma  school_county_v2_stanislaus  \\\n0                        0                            0   \n1                        0                            0   \n\n   school_county_v2_sutter  school_county_v2_tehama  school_county_v2_trinity  \\\n0                        0                        0                         0   \n1                        0                        0                         0   \n\n   school_county_v2_tulare  school_county_v2_tuolumne  \\\n0                        0                          0   \n1                        0                          0   \n\n   school_county_v2_ventura  school_county_v2_yolo  school_county_v2_yuba  \\\n0                         0                      0                      0   \n1                         0                      0                      0   \n\n   month_01  month_02  month_03  month_04  month_05  month_06  month_07  \\\n0         1         0         0         0         0         0         0   \n1         0         1         0         0         0         0         0   \n\n   month_08  month_09  month_10  month_11  month_12      y-m  \\\n0         0         0         0         0         0  2000-01   \n1         0         0         0         0         0  2000-02   \n\n   central_wind_alignment_180_high  avg_count_ps_within_5km  \\\n0                              NaN                      NaN   \n1                              NaN                      NaN   \n\n   avg_elevation_diff_m  avg_wspd_ratio_ps_sch  avg_wspd_ratio_sch_ps  \\\n0                   NaN                    NaN                    NaN   \n1                   NaN                    NaN                    NaN   \n\n   avg_school_wspd  avg_ps_wspd  new_alignment_90_high  ps_pm25_tpy_top_20  \\\n0              NaN          NaN                    NaN                 NaN   \n1              NaN          NaN                    NaN                 NaN   \n\n   school_to_ps_geod_dist_m_top_20  avg_wspd_top_15  Izmy_v1_unnormed  \\\n0                              NaN              NaN               NaN   \n1                              NaN              NaN               NaN   \n\n   Izmy_v2_nodist_unnormed  Izmy_v3_normed_D_and_TPY  \\\n0                      NaN                       NaN   \n1                      NaN                       NaN   \n\n   Izmy_v4_nodist_normed_TPY  Izmy_v5_all_normed_but_wspd_ratio  \\\n0                        NaN                                NaN   \n1                        NaN                                NaN   \n\n   Izmy_v6_unnormed_no_wspd  Izmy_v7_all_normed_no_wspd  \\\n0                       NaN                         NaN   \n1                       NaN                         NaN   \n\n   Izmy_v8_normed_D_and_TPY_no_wspd   avg_temp  diff_temp_s_ps  \\\n0                               NaN  14.272222        0.011111   \n1                               NaN  13.872222        0.011111   \n\n  patzip_year_month  Izmy_v4_nodist_normed_TPY_r9  avg_wspd_top_15_r9  \\\n0      90001-2000-1                           NaN                 NaN   \n1      90001-2000-2                           NaN                 NaN   \n\n   avg_temp_r9  visits_hematopoietic_cancers  visits_injuries_accidents  \\\n0          NaN                           NaN                        NaN   \n1          NaN                           NaN                        NaN   \n\n   visits_type_1_diabetes  visits_pediatric_vasculitis  visits_resp_cardio  \n0                     NaN                          NaN                 NaN  \n1                     NaN                          NaN                 NaN  ",
      "text/html": "<div>\n<style scoped>\n    .dataframe tbody tr th:only-of-type {\n        vertical-align: middle;\n    }\n\n    .dataframe tbody tr th {\n        vertical-align: top;\n    }\n\n    .dataframe thead th {\n        text-align: right;\n    }\n</style>\n<table border=\"1\" class=\"dataframe\">\n  <thead>\n    <tr style=\"text-align: right;\">\n      <th></th>\n      <th>Unnamed: 0.1</th>\n      <th>Unnamed: 0</th>\n      <th>year_month</th>\n      <th>school_zip</th>\n      <th>school_county_v2</th>\n      <th>school_region_name</th>\n      <th>pm25</th>\n      <th>school_elevation_m</th>\n      <th>ps_elevation_m</th>\n      <th>population_0_4</th>\n      <th>population_0_4_male</th>\n      <th>population_0_4_female</th>\n      <th>population_5_9</th>\n      <th>population_5_9_male</th>\n      <th>population_5_9_female</th>\n      <th>population_10_14</th>\n      <th>population_10_14_male</th>\n      <th>population_10_14_female</th>\n      <th>population_15_19</th>\n      <th>population_15_19_male</th>\n      <th>population_15_19_female</th>\n      <th>total_pop_under19</th>\n      <th>pop_under19_male</th>\n      <th>pop_under19_female</th>\n      <th>total_population</th>\n      <th>total_population_male</th>\n      <th>total_population_female</th>\n      <th>point_source_pm25_tpy</th>\n      <th>dist_school_to_ps_m</th>\n      <th>angle_to_school</th>\n      <th>ps_wspd_merge</th>\n      <th>school_wdir_wrt_0n</th>\n      <th>ps_wdir_wrt_0n</th>\n      <th>school_wind_alignment</th>\n      <th>ps_wind_alignment</th>\n      <th>avg_wind_alignment</th>\n      <th>avg_wind_alignment_cosine</th>\n      <th>nearby_point_source_count</th>\n      <th>school_wspd</th>\n      <th>ca_agi_per_returns</th>\n      <th>total_tax_liability</th>\n      <th>tax_liability_per_capita</th>\n      <th>school_temperature</th>\n      <th>ps_temperature</th>\n      <th>school_count</th>\n      <th>pm25_last_month</th>\n      <th>pm25_r6</th>\n      <th>pm25_r9</th>\n      <th>pm25_r12</th>\n      <th>pm25_r24</th>\n      <th>pm25_slope6</th>\n      <th>pm25_slope9</th>\n      <th>pm25_slope12</th>\n      <th>pm25_slope24</th>\n      <th>pm25_lag_12mo</th>\n      <th>year</th>\n      <th>month</th>\n      <th>school_county_v2_alameda</th>\n      <th>school_county_v2_alpine</th>\n      <th>school_county_v2_amador</th>\n      <th>school_county_v2_butte</th>\n      <th>school_county_v2_calaveras</th>\n      <th>school_county_v2_colusa</th>\n      <th>school_county_v2_contra_costa</th>\n      <th>school_county_v2_del_norte</th>\n      <th>school_county_v2_el_dorado</th>\n      <th>school_county_v2_fresno</th>\n      <th>school_county_v2_glenn</th>\n      <th>school_county_v2_humboldt</th>\n      <th>school_county_v2_imperial</th>\n      <th>school_county_v2_inyo</th>\n      <th>school_county_v2_kern</th>\n      <th>school_county_v2_kings</th>\n      <th>school_county_v2_lake</th>\n      <th>school_county_v2_lassen</th>\n      <th>school_county_v2_los_angeles</th>\n      <th>school_county_v2_madera</th>\n      <th>school_county_v2_marin</th>\n      <th>school_county_v2_mariposa</th>\n      <th>school_county_v2_mendocino</th>\n      <th>school_county_v2_merced</th>\n      <th>school_county_v2_modoc</th>\n      <th>school_county_v2_mono</th>\n      <th>school_county_v2_monterey</th>\n      <th>school_county_v2_napa</th>\n      <th>school_county_v2_nevada</th>\n      <th>school_county_v2_orange</th>\n      <th>school_county_v2_placer</th>\n      <th>school_county_v2_plumas</th>\n      <th>school_county_v2_riverside</th>\n      <th>school_county_v2_sacramento</th>\n      <th>school_county_v2_san_benito</th>\n      <th>school_county_v2_san_bernardino</th>\n      <th>school_county_v2_san_diego</th>\n      <th>school_county_v2_san_francisco</th>\n      <th>school_county_v2_san_joaquin</th>\n      <th>school_county_v2_san_luis_obispo</th>\n      <th>school_county_v2_san_mateo</th>\n      <th>school_county_v2_santa_barbara</th>\n      <th>school_county_v2_santa_clara</th>\n      <th>school_county_v2_santa_cruz</th>\n      <th>school_county_v2_shasta</th>\n      <th>school_county_v2_sierra</th>\n      <th>school_county_v2_siskiyou</th>\n      <th>school_county_v2_solano</th>\n      <th>school_county_v2_sonoma</th>\n      <th>school_county_v2_stanislaus</th>\n      <th>school_county_v2_sutter</th>\n      <th>school_county_v2_tehama</th>\n      <th>school_county_v2_trinity</th>\n      <th>school_county_v2_tulare</th>\n      <th>school_county_v2_tuolumne</th>\n      <th>school_county_v2_ventura</th>\n      <th>school_county_v2_yolo</th>\n      <th>school_county_v2_yuba</th>\n      <th>month_01</th>\n      <th>month_02</th>\n      <th>month_03</th>\n      <th>month_04</th>\n      <th>month_05</th>\n      <th>month_06</th>\n      <th>month_07</th>\n      <th>month_08</th>\n      <th>month_09</th>\n      <th>month_10</th>\n      <th>month_11</th>\n      <th>month_12</th>\n      <th>y-m</th>\n      <th>central_wind_alignment_180_high</th>\n      <th>avg_count_ps_within_5km</th>\n      <th>avg_elevation_diff_m</th>\n      <th>avg_wspd_ratio_ps_sch</th>\n      <th>avg_wspd_ratio_sch_ps</th>\n      <th>avg_school_wspd</th>\n      <th>avg_ps_wspd</th>\n      <th>new_alignment_90_high</th>\n      <th>ps_pm25_tpy_top_20</th>\n      <th>school_to_ps_geod_dist_m_top_20</th>\n      <th>avg_wspd_top_15</th>\n      <th>Izmy_v1_unnormed</th>\n      <th>Izmy_v2_nodist_unnormed</th>\n      <th>Izmy_v3_normed_D_and_TPY</th>\n      <th>Izmy_v4_nodist_normed_TPY</th>\n      <th>Izmy_v5_all_normed_but_wspd_ratio</th>\n      <th>Izmy_v6_unnormed_no_wspd</th>\n      <th>Izmy_v7_all_normed_no_wspd</th>\n      <th>Izmy_v8_normed_D_and_TPY_no_wspd</th>\n      <th>avg_temp</th>\n      <th>diff_temp_s_ps</th>\n      <th>patzip_year_month</th>\n      <th>Izmy_v4_nodist_normed_TPY_r9</th>\n      <th>avg_wspd_top_15_r9</th>\n      <th>avg_temp_r9</th>\n      <th>visits_hematopoietic_cancers</th>\n      <th>visits_injuries_accidents</th>\n      <th>visits_type_1_diabetes</th>\n      <th>visits_pediatric_vasculitis</th>\n      <th>visits_resp_cardio</th>\n    </tr>\n  </thead>\n  <tbody>\n    <tr>\n      <th>0</th>\n      <td>0</td>\n      <td>0</td>\n      <td>2000-01-01</td>\n      <td>90001</td>\n      <td>Los Angeles</td>\n      <td>Los Angeles County</td>\n      <td>32.149998</td>\n      <td>44.728889</td>\n      <td>43.703333</td>\n      <td>6196.0</td>\n      <td>3209.0</td>\n      <td>2987.0</td>\n      <td>6672.0</td>\n      <td>3397.0</td>\n      <td>3275.0</td>\n      <td>5562.0</td>\n      <td>2850.0</td>\n      <td>2712.0</td>\n      <td>5075.0</td>\n      <td>2599.0</td>\n      <td>2476.0</td>\n      <td>23505.0</td>\n      <td>12055.0</td>\n      <td>11450.0</td>\n      <td>54481.0</td>\n      <td>27320.0</td>\n      <td>27161.0</td>\n      <td>14.241154</td>\n      <td>3854.812685</td>\n      <td>-90.196586</td>\n      <td>0.757031</td>\n      <td>-172.758321</td>\n      <td>-172.758321</td>\n      <td>82.561735</td>\n      <td>82.561735</td>\n      <td>82.561735</td>\n      <td>1.124995</td>\n      <td>0.0</td>\n      <td>0.757031</td>\n      <td>20049.704556</td>\n      <td>2608176.0</td>\n      <td>47.87313</td>\n      <td>14.277778</td>\n      <td>14.266667</td>\n      <td>9</td>\n      <td>NaN</td>\n      <td>NaN</td>\n      <td>NaN</td>\n      <td>NaN</td>\n      <td>NaN</td>\n      <td>NaN</td>\n      <td>NaN</td>\n      <td>NaN</td>\n      <td>NaN</td>\n      <td>NaN</td>\n      <td>2000</td>\n      <td>1</td>\n      <td>0</td>\n      <td>0</td>\n      <td>0</td>\n      <td>0</td>\n      <td>0</td>\n      <td>0</td>\n      <td>0</td>\n      <td>0</td>\n      <td>0</td>\n      <td>0</td>\n      <td>0</td>\n      <td>0</td>\n      <td>0</td>\n      <td>0</td>\n      <td>0</td>\n      <td>0</td>\n      <td>0</td>\n      <td>0</td>\n      <td>1</td>\n      <td>0</td>\n      <td>0</td>\n      <td>0</td>\n      <td>0</td>\n      <td>0</td>\n      <td>0</td>\n      <td>0</td>\n      <td>0</td>\n      <td>0</td>\n      <td>0</td>\n      <td>0</td>\n      <td>0</td>\n      <td>0</td>\n      <td>0</td>\n      <td>0</td>\n      <td>0</td>\n      <td>0</td>\n      <td>0</td>\n      <td>0</td>\n      <td>0</td>\n      <td>0</td>\n      <td>0</td>\n      <td>0</td>\n      <td>0</td>\n      <td>0</td>\n      <td>0</td>\n      <td>0</td>\n      <td>0</td>\n      <td>0</td>\n      <td>0</td>\n      <td>0</td>\n      <td>0</td>\n      <td>0</td>\n      <td>0</td>\n      <td>0</td>\n      <td>0</td>\n      <td>0</td>\n      <td>0</td>\n      <td>0</td>\n      <td>1</td>\n      <td>0</td>\n      <td>0</td>\n      <td>0</td>\n      <td>0</td>\n      <td>0</td>\n      <td>0</td>\n      <td>0</td>\n      <td>0</td>\n      <td>0</td>\n      <td>0</td>\n      <td>0</td>\n      <td>2000-01</td>\n      <td>NaN</td>\n      <td>NaN</td>\n      <td>NaN</td>\n      <td>NaN</td>\n      <td>NaN</td>\n      <td>NaN</td>\n      <td>NaN</td>\n      <td>NaN</td>\n      <td>NaN</td>\n      <td>NaN</td>\n      <td>NaN</td>\n      <td>NaN</td>\n      <td>NaN</td>\n      <td>NaN</td>\n      <td>NaN</td>\n      <td>NaN</td>\n      <td>NaN</td>\n      <td>NaN</td>\n      <td>NaN</td>\n      <td>14.272222</td>\n      <td>0.011111</td>\n      <td>90001-2000-1</td>\n      <td>NaN</td>\n      <td>NaN</td>\n      <td>NaN</td>\n      <td>NaN</td>\n      <td>NaN</td>\n      <td>NaN</td>\n      <td>NaN</td>\n      <td>NaN</td>\n    </tr>\n    <tr>\n      <th>1</th>\n      <td>1322</td>\n      <td>1322</td>\n      <td>2000-02-01</td>\n      <td>90001</td>\n      <td>Los Angeles</td>\n      <td>Los Angeles County</td>\n      <td>13.666667</td>\n      <td>44.728889</td>\n      <td>43.703333</td>\n      <td>6196.0</td>\n      <td>3209.0</td>\n      <td>2987.0</td>\n      <td>6672.0</td>\n      <td>3397.0</td>\n      <td>3275.0</td>\n      <td>5562.0</td>\n      <td>2850.0</td>\n      <td>2712.0</td>\n      <td>5075.0</td>\n      <td>2599.0</td>\n      <td>2476.0</td>\n      <td>23505.0</td>\n      <td>12055.0</td>\n      <td>11450.0</td>\n      <td>54481.0</td>\n      <td>27320.0</td>\n      <td>27161.0</td>\n      <td>14.241154</td>\n      <td>3854.812685</td>\n      <td>-90.196586</td>\n      <td>0.965276</td>\n      <td>30.294778</td>\n      <td>30.294778</td>\n      <td>120.491364</td>\n      <td>120.491364</td>\n      <td>120.491364</td>\n      <td>0.547186</td>\n      <td>0.0</td>\n      <td>0.965276</td>\n      <td>20049.704556</td>\n      <td>2608176.0</td>\n      <td>47.87313</td>\n      <td>13.877778</td>\n      <td>13.866667</td>\n      <td>9</td>\n      <td>32.149998</td>\n      <td>NaN</td>\n      <td>NaN</td>\n      <td>NaN</td>\n      <td>NaN</td>\n      <td>NaN</td>\n      <td>NaN</td>\n      <td>NaN</td>\n      <td>NaN</td>\n      <td>NaN</td>\n      <td>2000</td>\n      <td>2</td>\n      <td>0</td>\n      <td>0</td>\n      <td>0</td>\n      <td>0</td>\n      <td>0</td>\n      <td>0</td>\n      <td>0</td>\n      <td>0</td>\n      <td>0</td>\n      <td>0</td>\n      <td>0</td>\n      <td>0</td>\n      <td>0</td>\n      <td>0</td>\n      <td>0</td>\n      <td>0</td>\n      <td>0</td>\n      <td>0</td>\n      <td>1</td>\n      <td>0</td>\n      <td>0</td>\n      <td>0</td>\n      <td>0</td>\n      <td>0</td>\n      <td>0</td>\n      <td>0</td>\n      <td>0</td>\n      <td>0</td>\n      <td>0</td>\n      <td>0</td>\n      <td>0</td>\n      <td>0</td>\n      <td>0</td>\n      <td>0</td>\n      <td>0</td>\n      <td>0</td>\n      <td>0</td>\n      <td>0</td>\n      <td>0</td>\n      <td>0</td>\n      <td>0</td>\n      <td>0</td>\n      <td>0</td>\n      <td>0</td>\n      <td>0</td>\n      <td>0</td>\n      <td>0</td>\n      <td>0</td>\n      <td>0</td>\n      <td>0</td>\n      <td>0</td>\n      <td>0</td>\n      <td>0</td>\n      <td>0</td>\n      <td>0</td>\n      <td>0</td>\n      <td>0</td>\n      <td>0</td>\n      <td>0</td>\n      <td>1</td>\n      <td>0</td>\n      <td>0</td>\n      <td>0</td>\n      <td>0</td>\n      <td>0</td>\n      <td>0</td>\n      <td>0</td>\n      <td>0</td>\n      <td>0</td>\n      <td>0</td>\n      <td>2000-02</td>\n      <td>NaN</td>\n      <td>NaN</td>\n      <td>NaN</td>\n      <td>NaN</td>\n      <td>NaN</td>\n      <td>NaN</td>\n      <td>NaN</td>\n      <td>NaN</td>\n      <td>NaN</td>\n      <td>NaN</td>\n      <td>NaN</td>\n      <td>NaN</td>\n      <td>NaN</td>\n      <td>NaN</td>\n      <td>NaN</td>\n      <td>NaN</td>\n      <td>NaN</td>\n      <td>NaN</td>\n      <td>NaN</td>\n      <td>13.872222</td>\n      <td>0.011111</td>\n      <td>90001-2000-2</td>\n      <td>NaN</td>\n      <td>NaN</td>\n      <td>NaN</td>\n      <td>NaN</td>\n      <td>NaN</td>\n      <td>NaN</td>\n      <td>NaN</td>\n      <td>NaN</td>\n    </tr>\n  </tbody>\n</table>\n</div>"
     },
     "execution_count": 16,
     "metadata": {},
     "output_type": "execute_result"
    }
   ],
   "source": [
    "# merge df_h to df_sc\n",
    "df_all = df_sc.merge(\n",
    "    df_h,\n",
    "    on='patzip_year_month',\n",
    "    how='left'\n",
    ")\n",
    "\n",
    "# print shape of data\n",
    "print('Shape of data ', df_all.shape)\n",
    "df_all.head(2)\n",
    "\n",
    "# Shape of data  (294897, 164) <-- old one"
   ]
  },
  {
   "cell_type": "markdown",
   "metadata": {
    "id": "O9PDDpXFhBQb"
   },
   "source": [
    "#### 5.2. Fill in nulls conditionally on merged datasets\n",
    "\n",
    "* For each health outcome, fill in the nulls for a zipcode with 0's ONLY if that row occurred after the first non-zero/not-null visit in that zipcode for that health outcome (keeps them as nulls otherwise)"
   ]
  },
  {
   "cell_type": "code",
   "execution_count": 17,
   "metadata": {
    "colab": {
     "base_uri": "https://localhost:8080/",
     "height": 679
    },
    "id": "cRKA35FYhBQb",
    "executionInfo": {
     "status": "ok",
     "timestamp": 1670216425349,
     "user_tz": 480,
     "elapsed": 50496,
     "user": {
      "displayName": "Trevor Johnson",
      "userId": "10875792761423186902"
     }
    },
    "outputId": "bf1b7d25-6a73-48b2-bbf1-5a6d19b25c30"
   },
   "outputs": [
    {
     "data": {
      "text/plain": "        Unnamed: 0.1  Unnamed: 0  year_month  school_zip school_county_v2  \\\n0                  0           0  2000-01-01       90001      Los Angeles   \n1               1322        1322  2000-02-01       90001      Los Angeles   \n2               2644        2644  2000-03-01       90001      Los Angeles   \n3               3966        3966  2000-04-01       90001      Los Angeles   \n4               5288        5288  2000-05-01       90001      Los Angeles   \n...              ...         ...         ...         ...              ...   \n294892        289465      289465  2017-08-01       97635            Modoc   \n294893        290823      290823  2017-09-01       97635            Modoc   \n294894        292181      292181  2017-10-01       97635            Modoc   \n294895        293539      293539  2017-11-01       97635            Modoc   \n294896        294896      294896  2017-12-01       97635            Modoc   \n\n         school_region_name       pm25  school_elevation_m  ps_elevation_m  \\\n0        Los Angeles County  32.149998           44.728889       43.703333   \n1        Los Angeles County  13.666667           44.728889       43.703333   \n2        Los Angeles County  17.183334           44.728889       43.703333   \n3        Los Angeles County  17.366667           44.728889       43.703333   \n4        Los Angeles County  17.616667           44.728889       43.703333   \n...                     ...        ...                 ...             ...   \n294892  Superior California   5.925000         1484.680000     1331.890000   \n294893  Superior California   3.678125         1484.680000     1331.890000   \n294894  Superior California   3.931250         1484.680000     1331.890000   \n294895  Superior California   4.284375         1484.680000     1331.890000   \n294896  Superior California   1.443750         1484.680000     1331.890000   \n\n        population_0_4  population_0_4_male  population_0_4_female  \\\n0               6196.0               3209.0                 2987.0   \n1               6196.0               3209.0                 2987.0   \n2               6196.0               3209.0                 2987.0   \n3               6196.0               3209.0                 2987.0   \n4               6196.0               3209.0                 2987.0   \n...                ...                  ...                    ...   \n294892             0.0                  0.0                    0.0   \n294893             0.0                  0.0                    0.0   \n294894             0.0                  0.0                    0.0   \n294895             0.0                  0.0                    0.0   \n294896             0.0                  0.0                    0.0   \n\n        population_5_9  population_5_9_male  population_5_9_female  \\\n0               6672.0               3397.0                 3275.0   \n1               6672.0               3397.0                 3275.0   \n2               6672.0               3397.0                 3275.0   \n3               6672.0               3397.0                 3275.0   \n4               6672.0               3397.0                 3275.0   \n...                ...                  ...                    ...   \n294892             0.0                  0.0                    0.0   \n294893             0.0                  0.0                    0.0   \n294894             0.0                  0.0                    0.0   \n294895             0.0                  0.0                    0.0   \n294896             0.0                  0.0                    0.0   \n\n        population_10_14  population_10_14_male  population_10_14_female  \\\n0                 5562.0                 2850.0                   2712.0   \n1                 5562.0                 2850.0                   2712.0   \n2                 5562.0                 2850.0                   2712.0   \n3                 5562.0                 2850.0                   2712.0   \n4                 5562.0                 2850.0                   2712.0   \n...                  ...                    ...                      ...   \n294892              17.0                   12.0                      5.0   \n294893              17.0                   12.0                      5.0   \n294894              17.0                   12.0                      5.0   \n294895              17.0                   12.0                      5.0   \n294896              17.0                   12.0                      5.0   \n\n        population_15_19  population_15_19_male  population_15_19_female  \\\n0                 5075.0                 2599.0                   2476.0   \n1                 5075.0                 2599.0                   2476.0   \n2                 5075.0                 2599.0                   2476.0   \n3                 5075.0                 2599.0                   2476.0   \n4                 5075.0                 2599.0                   2476.0   \n...                  ...                    ...                      ...   \n294892               0.0                    0.0                      0.0   \n294893               0.0                    0.0                      0.0   \n294894               0.0                    0.0                      0.0   \n294895               0.0                    0.0                      0.0   \n294896               0.0                    0.0                      0.0   \n\n        total_pop_under19  pop_under19_male  pop_under19_female  \\\n0                 23505.0           12055.0             11450.0   \n1                 23505.0           12055.0             11450.0   \n2                 23505.0           12055.0             11450.0   \n3                 23505.0           12055.0             11450.0   \n4                 23505.0           12055.0             11450.0   \n...                   ...               ...                 ...   \n294892               17.0              12.0                 5.0   \n294893               17.0              12.0                 5.0   \n294894               17.0              12.0                 5.0   \n294895               17.0              12.0                 5.0   \n294896               17.0              12.0                 5.0   \n\n        total_population  total_population_male  total_population_female  \\\n0                54481.0                27320.0                  27161.0   \n1                54481.0                27320.0                  27161.0   \n2                54481.0                27320.0                  27161.0   \n3                54481.0                27320.0                  27161.0   \n4                54481.0                27320.0                  27161.0   \n...                  ...                    ...                      ...   \n294892             214.0                  113.0                    101.0   \n294893             214.0                  113.0                    101.0   \n294894             214.0                  113.0                    101.0   \n294895             214.0                  113.0                    101.0   \n294896             214.0                  113.0                    101.0   \n\n        point_source_pm25_tpy  dist_school_to_ps_m  angle_to_school  \\\n0                   14.241154          3854.812685       -90.196586   \n1                   14.241154          3854.812685       -90.196586   \n2                   14.241154          3854.812685       -90.196586   \n3                   14.241154          3854.812685       -90.196586   \n4                   14.241154          3854.812685       -90.196586   \n...                       ...                  ...              ...   \n294892               0.877750         60528.982992        21.694962   \n294893               0.877750         60528.982992        21.694962   \n294894               0.877750         60528.982992        21.694962   \n294895               0.877750         60528.982992        21.694962   \n294896               0.877750         60528.982992        21.694962   \n\n        ps_wspd_merge  school_wdir_wrt_0n  ps_wdir_wrt_0n  \\\n0            0.757031         -172.758321     -172.758321   \n1            0.965276           30.294778       30.294778   \n2            0.199593          107.246620      107.246620   \n3            0.771902           73.610928       73.610928   \n4            1.063785           73.965232       73.965232   \n...               ...                 ...             ...   \n294892       0.427147          128.596355      114.046726   \n294893       0.073094          132.915270      -97.997283   \n294894       0.425838           13.870442      -67.817276   \n294895       1.701108           32.728486       26.375591   \n294896       0.889833           13.163388      -34.695874   \n\n        school_wind_alignment  ps_wind_alignment  avg_wind_alignment  \\\n0                   82.561735          82.561735           82.561735   \n1                  120.491364         120.491364          120.491364   \n2                  147.368213         147.368213          147.368213   \n3                  155.392932         155.392932          155.392932   \n4                  155.432299         155.432299          155.432299   \n...                       ...                ...                 ...   \n294892             106.901393          92.351765           99.626579   \n294893             111.220308         119.692244          115.456276   \n294894               7.824520          89.512238           48.668379   \n294895              11.033524           4.680629            7.857076   \n294896               8.531574          56.390836           32.461205   \n\n        avg_wind_alignment_cosine  nearby_point_source_count  school_wspd  \\\n0                        1.124995                        0.0     0.757031   \n1                        0.547186                        0.0     0.965276   \n2                        0.172183                        0.0     0.199593   \n3                        0.159581                        0.0     0.771902   \n4                        0.158167                        0.0     1.063785   \n...                           ...                        ...          ...   \n294892                   0.832774                        0.0     0.371966   \n294893                   0.570178                        0.0     0.135517   \n294894                   1.660416                        0.0     0.476738   \n294895                   1.990612                        0.0     2.559094   \n294896                   1.843755                        0.0     0.973581   \n\n        ca_agi_per_returns  total_tax_liability  tax_liability_per_capita  \\\n0             20049.704556         2.608176e+06                 47.873130   \n1             20049.704556         2.608176e+06                 47.873130   \n2             20049.704556         2.608176e+06                 47.873130   \n3             20049.704556         2.608176e+06                 47.873130   \n4             20049.704556         2.608176e+06                 47.873130   \n...                    ...                  ...                       ...   \n294892        59799.084409         3.809391e+07             178008.912538   \n294893        59799.084409         3.809391e+07             178008.912538   \n294894        59799.084409         3.809391e+07             178008.912538   \n294895        59799.084409         3.809391e+07             178008.912538   \n294896        59799.084409         3.809391e+07             178008.912538   \n\n        school_temperature  ps_temperature  school_count  pm25_last_month  \\\n0                14.277778       14.266667             9              NaN   \n1                13.877778       13.866667             9        32.149998   \n2                14.677778       14.666667             9        13.666667   \n3                16.055556       16.600000             9        17.183334   \n4                17.855556       18.533333             9        17.366667   \n...                    ...             ...           ...              ...   \n294892            8.014286       19.914286             1         5.600000   \n294893            8.014286       15.500000             1         5.925000   \n294894            6.050000        8.672340             1         3.678125   \n294895           -0.700000        4.800000             1         3.931250   \n294896           -5.000000       -1.716667             1         4.284375   \n\n         pm25_r6   pm25_r9  pm25_r12  pm25_r24  pm25_slope6  pm25_slope9  \\\n0            NaN       NaN       NaN       NaN          NaN          NaN   \n1            NaN       NaN       NaN       NaN          NaN          NaN   \n2            NaN       NaN       NaN       NaN          NaN          NaN   \n3            NaN       NaN       NaN       NaN          NaN          NaN   \n4            NaN       NaN       NaN       NaN          NaN          NaN   \n...          ...       ...       ...       ...          ...          ...   \n294892  2.841146  2.942708  3.593750  3.345443     0.461518     0.036927   \n294893  3.283333  3.102431  3.541667  3.244010     0.988214     0.364479   \n294894  3.668750  3.113194  3.264063  3.259766     0.661071     0.442760   \n294895  4.015104  3.397917  3.334896  3.230339     0.335446     0.351927   \n294896  4.361979  3.510417  3.317969  3.243620     0.011518     0.400521   \n\n        pm25_slope12  pm25_slope24  pm25_lag_12mo  year  month  \\\n0                NaN           NaN            NaN  2000      1   \n1                NaN           NaN            NaN  2000      2   \n2                NaN           NaN            NaN  2000      3   \n3                NaN           NaN            NaN  2000      4   \n4                NaN           NaN            NaN  2000      5   \n...              ...           ...            ...   ...    ...   \n294892     -0.254611     -0.039781       6.550000  2017      8   \n294893     -0.030573      0.040514       7.009375  2017      9   \n294894      0.132299      0.045463       3.081250  2017     10   \n294895      0.149650      0.067154       4.487500  2017     11   \n294896      0.238560      0.085686       3.581250  2017     12   \n\n        school_county_v2_alameda  school_county_v2_alpine  \\\n0                              0                        0   \n1                              0                        0   \n2                              0                        0   \n3                              0                        0   \n4                              0                        0   \n...                          ...                      ...   \n294892                         0                        0   \n294893                         0                        0   \n294894                         0                        0   \n294895                         0                        0   \n294896                         0                        0   \n\n        school_county_v2_amador  school_county_v2_butte  \\\n0                             0                       0   \n1                             0                       0   \n2                             0                       0   \n3                             0                       0   \n4                             0                       0   \n...                         ...                     ...   \n294892                        0                       0   \n294893                        0                       0   \n294894                        0                       0   \n294895                        0                       0   \n294896                        0                       0   \n\n        school_county_v2_calaveras  school_county_v2_colusa  \\\n0                                0                        0   \n1                                0                        0   \n2                                0                        0   \n3                                0                        0   \n4                                0                        0   \n...                            ...                      ...   \n294892                           0                        0   \n294893                           0                        0   \n294894                           0                        0   \n294895                           0                        0   \n294896                           0                        0   \n\n        school_county_v2_contra_costa  school_county_v2_del_norte  \\\n0                                   0                           0   \n1                                   0                           0   \n2                                   0                           0   \n3                                   0                           0   \n4                                   0                           0   \n...                               ...                         ...   \n294892                              0                           0   \n294893                              0                           0   \n294894                              0                           0   \n294895                              0                           0   \n294896                              0                           0   \n\n        school_county_v2_el_dorado  school_county_v2_fresno  \\\n0                                0                        0   \n1                                0                        0   \n2                                0                        0   \n3                                0                        0   \n4                                0                        0   \n...                            ...                      ...   \n294892                           0                        0   \n294893                           0                        0   \n294894                           0                        0   \n294895                           0                        0   \n294896                           0                        0   \n\n        school_county_v2_glenn  school_county_v2_humboldt  \\\n0                            0                          0   \n1                            0                          0   \n2                            0                          0   \n3                            0                          0   \n4                            0                          0   \n...                        ...                        ...   \n294892                       0                          0   \n294893                       0                          0   \n294894                       0                          0   \n294895                       0                          0   \n294896                       0                          0   \n\n        school_county_v2_imperial  school_county_v2_inyo  \\\n0                               0                      0   \n1                               0                      0   \n2                               0                      0   \n3                               0                      0   \n4                               0                      0   \n...                           ...                    ...   \n294892                          0                      0   \n294893                          0                      0   \n294894                          0                      0   \n294895                          0                      0   \n294896                          0                      0   \n\n        school_county_v2_kern  school_county_v2_kings  school_county_v2_lake  \\\n0                           0                       0                      0   \n1                           0                       0                      0   \n2                           0                       0                      0   \n3                           0                       0                      0   \n4                           0                       0                      0   \n...                       ...                     ...                    ...   \n294892                      0                       0                      0   \n294893                      0                       0                      0   \n294894                      0                       0                      0   \n294895                      0                       0                      0   \n294896                      0                       0                      0   \n\n        school_county_v2_lassen  school_county_v2_los_angeles  \\\n0                             0                             1   \n1                             0                             1   \n2                             0                             1   \n3                             0                             1   \n4                             0                             1   \n...                         ...                           ...   \n294892                        0                             0   \n294893                        0                             0   \n294894                        0                             0   \n294895                        0                             0   \n294896                        0                             0   \n\n        school_county_v2_madera  school_county_v2_marin  \\\n0                             0                       0   \n1                             0                       0   \n2                             0                       0   \n3                             0                       0   \n4                             0                       0   \n...                         ...                     ...   \n294892                        0                       0   \n294893                        0                       0   \n294894                        0                       0   \n294895                        0                       0   \n294896                        0                       0   \n\n        school_county_v2_mariposa  school_county_v2_mendocino  \\\n0                               0                           0   \n1                               0                           0   \n2                               0                           0   \n3                               0                           0   \n4                               0                           0   \n...                           ...                         ...   \n294892                          0                           0   \n294893                          0                           0   \n294894                          0                           0   \n294895                          0                           0   \n294896                          0                           0   \n\n        school_county_v2_merced  school_county_v2_modoc  \\\n0                             0                       0   \n1                             0                       0   \n2                             0                       0   \n3                             0                       0   \n4                             0                       0   \n...                         ...                     ...   \n294892                        0                       1   \n294893                        0                       1   \n294894                        0                       1   \n294895                        0                       1   \n294896                        0                       1   \n\n        school_county_v2_mono  school_county_v2_monterey  \\\n0                           0                          0   \n1                           0                          0   \n2                           0                          0   \n3                           0                          0   \n4                           0                          0   \n...                       ...                        ...   \n294892                      0                          0   \n294893                      0                          0   \n294894                      0                          0   \n294895                      0                          0   \n294896                      0                          0   \n\n        school_county_v2_napa  school_county_v2_nevada  \\\n0                           0                        0   \n1                           0                        0   \n2                           0                        0   \n3                           0                        0   \n4                           0                        0   \n...                       ...                      ...   \n294892                      0                        0   \n294893                      0                        0   \n294894                      0                        0   \n294895                      0                        0   \n294896                      0                        0   \n\n        school_county_v2_orange  school_county_v2_placer  \\\n0                             0                        0   \n1                             0                        0   \n2                             0                        0   \n3                             0                        0   \n4                             0                        0   \n...                         ...                      ...   \n294892                        0                        0   \n294893                        0                        0   \n294894                        0                        0   \n294895                        0                        0   \n294896                        0                        0   \n\n        school_county_v2_plumas  school_county_v2_riverside  \\\n0                             0                           0   \n1                             0                           0   \n2                             0                           0   \n3                             0                           0   \n4                             0                           0   \n...                         ...                         ...   \n294892                        0                           0   \n294893                        0                           0   \n294894                        0                           0   \n294895                        0                           0   \n294896                        0                           0   \n\n        school_county_v2_sacramento  school_county_v2_san_benito  \\\n0                                 0                            0   \n1                                 0                            0   \n2                                 0                            0   \n3                                 0                            0   \n4                                 0                            0   \n...                             ...                          ...   \n294892                            0                            0   \n294893                            0                            0   \n294894                            0                            0   \n294895                            0                            0   \n294896                            0                            0   \n\n        school_county_v2_san_bernardino  school_county_v2_san_diego  \\\n0                                     0                           0   \n1                                     0                           0   \n2                                     0                           0   \n3                                     0                           0   \n4                                     0                           0   \n...                                 ...                         ...   \n294892                                0                           0   \n294893                                0                           0   \n294894                                0                           0   \n294895                                0                           0   \n294896                                0                           0   \n\n        school_county_v2_san_francisco  school_county_v2_san_joaquin  \\\n0                                    0                             0   \n1                                    0                             0   \n2                                    0                             0   \n3                                    0                             0   \n4                                    0                             0   \n...                                ...                           ...   \n294892                               0                             0   \n294893                               0                             0   \n294894                               0                             0   \n294895                               0                             0   \n294896                               0                             0   \n\n        school_county_v2_san_luis_obispo  school_county_v2_san_mateo  \\\n0                                      0                           0   \n1                                      0                           0   \n2                                      0                           0   \n3                                      0                           0   \n4                                      0                           0   \n...                                  ...                         ...   \n294892                                 0                           0   \n294893                                 0                           0   \n294894                                 0                           0   \n294895                                 0                           0   \n294896                                 0                           0   \n\n        school_county_v2_santa_barbara  school_county_v2_santa_clara  \\\n0                                    0                             0   \n1                                    0                             0   \n2                                    0                             0   \n3                                    0                             0   \n4                                    0                             0   \n...                                ...                           ...   \n294892                               0                             0   \n294893                               0                             0   \n294894                               0                             0   \n294895                               0                             0   \n294896                               0                             0   \n\n        school_county_v2_santa_cruz  school_county_v2_shasta  \\\n0                                 0                        0   \n1                                 0                        0   \n2                                 0                        0   \n3                                 0                        0   \n4                                 0                        0   \n...                             ...                      ...   \n294892                            0                        0   \n294893                            0                        0   \n294894                            0                        0   \n294895                            0                        0   \n294896                            0                        0   \n\n        school_county_v2_sierra  school_county_v2_siskiyou  \\\n0                             0                          0   \n1                             0                          0   \n2                             0                          0   \n3                             0                          0   \n4                             0                          0   \n...                         ...                        ...   \n294892                        0                          0   \n294893                        0                          0   \n294894                        0                          0   \n294895                        0                          0   \n294896                        0                          0   \n\n        school_county_v2_solano  school_county_v2_sonoma  \\\n0                             0                        0   \n1                             0                        0   \n2                             0                        0   \n3                             0                        0   \n4                             0                        0   \n...                         ...                      ...   \n294892                        0                        0   \n294893                        0                        0   \n294894                        0                        0   \n294895                        0                        0   \n294896                        0                        0   \n\n        school_county_v2_stanislaus  school_county_v2_sutter  \\\n0                                 0                        0   \n1                                 0                        0   \n2                                 0                        0   \n3                                 0                        0   \n4                                 0                        0   \n...                             ...                      ...   \n294892                            0                        0   \n294893                            0                        0   \n294894                            0                        0   \n294895                            0                        0   \n294896                            0                        0   \n\n        school_county_v2_tehama  school_county_v2_trinity  \\\n0                             0                         0   \n1                             0                         0   \n2                             0                         0   \n3                             0                         0   \n4                             0                         0   \n...                         ...                       ...   \n294892                        0                         0   \n294893                        0                         0   \n294894                        0                         0   \n294895                        0                         0   \n294896                        0                         0   \n\n        school_county_v2_tulare  school_county_v2_tuolumne  \\\n0                             0                          0   \n1                             0                          0   \n2                             0                          0   \n3                             0                          0   \n4                             0                          0   \n...                         ...                        ...   \n294892                        0                          0   \n294893                        0                          0   \n294894                        0                          0   \n294895                        0                          0   \n294896                        0                          0   \n\n        school_county_v2_ventura  school_county_v2_yolo  \\\n0                              0                      0   \n1                              0                      0   \n2                              0                      0   \n3                              0                      0   \n4                              0                      0   \n...                          ...                    ...   \n294892                         0                      0   \n294893                         0                      0   \n294894                         0                      0   \n294895                         0                      0   \n294896                         0                      0   \n\n        school_county_v2_yuba  month_01  month_02  month_03  month_04  \\\n0                           0         1         0         0         0   \n1                           0         0         1         0         0   \n2                           0         0         0         1         0   \n3                           0         0         0         0         1   \n4                           0         0         0         0         0   \n...                       ...       ...       ...       ...       ...   \n294892                      0         0         0         0         0   \n294893                      0         0         0         0         0   \n294894                      0         0         0         0         0   \n294895                      0         0         0         0         0   \n294896                      0         0         0         0         0   \n\n        month_05  month_06  month_07  month_08  month_09  month_10  month_11  \\\n0              0         0         0         0         0         0         0   \n1              0         0         0         0         0         0         0   \n2              0         0         0         0         0         0         0   \n3              0         0         0         0         0         0         0   \n4              1         0         0         0         0         0         0   \n...          ...       ...       ...       ...       ...       ...       ...   \n294892         0         0         0         1         0         0         0   \n294893         0         0         0         0         1         0         0   \n294894         0         0         0         0         0         1         0   \n294895         0         0         0         0         0         0         1   \n294896         0         0         0         0         0         0         0   \n\n        month_12      y-m  central_wind_alignment_180_high  \\\n0              0  2000-01                              NaN   \n1              0  2000-02                              NaN   \n2              0  2000-03                              NaN   \n3              0  2000-04                              NaN   \n4              0  2000-05                              NaN   \n...          ...      ...                              ...   \n294892         0  2017-08                       128.313092   \n294893         0  2017-09                       121.254592   \n294894         0  2017-10                       117.610480   \n294895         0  2017-11                       134.498873   \n294896         1  2017-12                       120.518339   \n\n        avg_count_ps_within_5km  avg_elevation_diff_m  avg_wspd_ratio_ps_sch  \\\n0                           NaN                   NaN                    NaN   \n1                           NaN                   NaN                    NaN   \n2                           NaN                   NaN                    NaN   \n3                           NaN                   NaN                    NaN   \n4                           NaN                   NaN                    NaN   \n...                         ...                   ...                    ...   \n294892                      0.0           -673.963333               1.515257   \n294893                      0.0           -673.963333               1.138648   \n294894                      0.0           -673.963333               0.992379   \n294895                      0.0           -673.963333               0.747694   \n294896                      0.0           -673.963333               1.050688   \n\n        avg_wspd_ratio_sch_ps  avg_school_wspd  avg_ps_wspd  \\\n0                         NaN              NaN          NaN   \n1                         NaN              NaN          NaN   \n2                         NaN              NaN          NaN   \n3                         NaN              NaN          NaN   \n4                         NaN              NaN          NaN   \n...                       ...              ...          ...   \n294892               1.474275         1.895626     2.163724   \n294893               1.710182         2.295742     2.090771   \n294894               2.098003         2.572472     1.968177   \n294895               2.975230         3.196173     1.749303   \n294896               1.969792         2.021679     1.782029   \n\n        new_alignment_90_high  ps_pm25_tpy_top_20  \\\n0                         NaN                 NaN   \n1                         NaN                 NaN   \n2                         NaN                 NaN   \n3                         NaN                 NaN   \n4                         NaN                 NaN   \n...                       ...                 ...   \n294892              41.923230           30.157308   \n294893              39.123371           30.157308   \n294894              36.263669           30.157308   \n294895              46.899849           30.157308   \n294896              40.033225           30.157308   \n\n        school_to_ps_geod_dist_m_top_20  avg_wspd_top_15  Izmy_v1_unnormed  \\\n0                                   NaN              NaN               NaN   \n1                                   NaN              NaN               NaN   \n2                                   NaN              NaN               NaN   \n3                                   NaN              NaN               NaN   \n4                                   NaN              NaN               NaN   \n...                                 ...              ...               ...   \n294892                    205925.295872         2.029675        114.808556   \n294893                    205925.295872         2.193256         72.582018   \n294894                    205925.295872         2.270324         57.395807   \n294895                    205925.295872         2.472738         52.229601   \n294896                    205925.295872         1.901854         68.017008   \n\n        Izmy_v2_nodist_unnormed  Izmy_v3_normed_D_and_TPY  \\\n0                           NaN                       NaN   \n1                           NaN                       NaN   \n2                           NaN                       NaN   \n3                           NaN                       NaN   \n4                           NaN                       NaN   \n...                         ...                       ...   \n294892             2.312278e+07              12428.042293   \n294893             1.462739e+07               7814.384034   \n294894             1.163883e+07               6153.608210   \n294895             1.051500e+07               5578.276660   \n294896             1.383476e+07               7307.760708   \n\n        Izmy_v4_nodist_normed_TPY  Izmy_v5_all_normed_but_wspd_ratio  \\\n0                             NaN                                NaN   \n1                             NaN                                NaN   \n2                             NaN                                NaN   \n3                             NaN                                NaN   \n4                             NaN                                NaN   \n...                           ...                                ...   \n294892                6444.545693                         138.089359   \n294893                4056.614586                          86.826489   \n294894                3212.957923                          68.373425   \n294895                2892.839642                          61.980852   \n294896                3832.576691                          81.197341   \n\n        Izmy_v6_unnormed_no_wspd  Izmy_v7_all_normed_no_wspd  \\\n0                            NaN                         NaN   \n1                            NaN                         NaN   \n2                            NaN                         NaN   \n3                            NaN                         NaN   \n4                            NaN                         NaN   \n...                          ...                         ...   \n294892                 71.899755                   86.222436   \n294893                 64.158576                   76.759739   \n294894                 61.499497                   73.680521   \n294895                 76.280400                   91.166790   \n294896                 67.887805                   81.297427   \n\n        Izmy_v8_normed_D_and_TPY_no_wspd   avg_temp  diff_temp_s_ps  \\\n0                                    NaN  14.272222        0.011111   \n1                                    NaN  13.872222        0.011111   \n2                                    NaN  14.672222        0.011111   \n3                                    NaN  16.327778       -0.544444   \n4                                    NaN  18.194444       -0.677778   \n...                                  ...        ...             ...   \n294892                       7760.019217  13.964286      -11.900000   \n294893                       6908.376471  11.757143       -7.485714   \n294894                       6631.246893   7.361170       -2.622340   \n294895                       8205.011112   2.050000       -5.500000   \n294896                       7316.768415  -3.358333       -3.283333   \n\n       patzip_year_month  Izmy_v4_nodist_normed_TPY_r9  avg_wspd_top_15_r9  \\\n0           90001-2000-1                           NaN                 NaN   \n1           90001-2000-2                           NaN                 NaN   \n2           90001-2000-3                           NaN                 NaN   \n3           90001-2000-4                           NaN                 NaN   \n4           90001-2000-5                           NaN                 NaN   \n...                  ...                           ...                 ...   \n294892      97635-2017-8                   4342.789788            2.506471   \n294893      97635-2017-9                   4775.122824            2.479211   \n294894     97635-2017-10                   4671.455319            2.486227   \n294895     97635-2017-11                   4509.354802            2.460531   \n294896     97635-2017-12                   4468.455434            2.395122   \n\n        avg_temp_r9  visits_hematopoietic_cancers  visits_injuries_accidents  \\\n0               NaN                           NaN                        NaN   \n1               NaN                           NaN                        NaN   \n2               NaN                           NaN                        NaN   \n3               NaN                           NaN                        NaN   \n4               NaN                           NaN                        NaN   \n...             ...                           ...                        ...   \n294892     6.605095                           NaN                        0.0   \n294893     7.928904                           NaN                        0.0   \n294894     9.608402                           NaN                        0.0   \n294895    10.384643                           NaN                        0.0   \n294896    10.102599                           NaN                        0.0   \n\n        visits_type_1_diabetes  visits_pediatric_vasculitis  \\\n0                          NaN                          NaN   \n1                          NaN                          NaN   \n2                          NaN                          NaN   \n3                          NaN                          NaN   \n4                          NaN                          NaN   \n...                        ...                          ...   \n294892                     NaN                          NaN   \n294893                     NaN                          NaN   \n294894                     NaN                          NaN   \n294895                     NaN                          NaN   \n294896                     NaN                          NaN   \n\n        visits_resp_cardio  \n0                      NaN  \n1                      NaN  \n2                      NaN  \n3                      NaN  \n4                      NaN  \n...                    ...  \n294892                 NaN  \n294893                 NaN  \n294894                 NaN  \n294895                 NaN  \n294896                 NaN  \n\n[294897 rows x 158 columns]",
      "text/html": "<div>\n<style scoped>\n    .dataframe tbody tr th:only-of-type {\n        vertical-align: middle;\n    }\n\n    .dataframe tbody tr th {\n        vertical-align: top;\n    }\n\n    .dataframe thead th {\n        text-align: right;\n    }\n</style>\n<table border=\"1\" class=\"dataframe\">\n  <thead>\n    <tr style=\"text-align: right;\">\n      <th></th>\n      <th>Unnamed: 0.1</th>\n      <th>Unnamed: 0</th>\n      <th>year_month</th>\n      <th>school_zip</th>\n      <th>school_county_v2</th>\n      <th>school_region_name</th>\n      <th>pm25</th>\n      <th>school_elevation_m</th>\n      <th>ps_elevation_m</th>\n      <th>population_0_4</th>\n      <th>population_0_4_male</th>\n      <th>population_0_4_female</th>\n      <th>population_5_9</th>\n      <th>population_5_9_male</th>\n      <th>population_5_9_female</th>\n      <th>population_10_14</th>\n      <th>population_10_14_male</th>\n      <th>population_10_14_female</th>\n      <th>population_15_19</th>\n      <th>population_15_19_male</th>\n      <th>population_15_19_female</th>\n      <th>total_pop_under19</th>\n      <th>pop_under19_male</th>\n      <th>pop_under19_female</th>\n      <th>total_population</th>\n      <th>total_population_male</th>\n      <th>total_population_female</th>\n      <th>point_source_pm25_tpy</th>\n      <th>dist_school_to_ps_m</th>\n      <th>angle_to_school</th>\n      <th>ps_wspd_merge</th>\n      <th>school_wdir_wrt_0n</th>\n      <th>ps_wdir_wrt_0n</th>\n      <th>school_wind_alignment</th>\n      <th>ps_wind_alignment</th>\n      <th>avg_wind_alignment</th>\n      <th>avg_wind_alignment_cosine</th>\n      <th>nearby_point_source_count</th>\n      <th>school_wspd</th>\n      <th>ca_agi_per_returns</th>\n      <th>total_tax_liability</th>\n      <th>tax_liability_per_capita</th>\n      <th>school_temperature</th>\n      <th>ps_temperature</th>\n      <th>school_count</th>\n      <th>pm25_last_month</th>\n      <th>pm25_r6</th>\n      <th>pm25_r9</th>\n      <th>pm25_r12</th>\n      <th>pm25_r24</th>\n      <th>pm25_slope6</th>\n      <th>pm25_slope9</th>\n      <th>pm25_slope12</th>\n      <th>pm25_slope24</th>\n      <th>pm25_lag_12mo</th>\n      <th>year</th>\n      <th>month</th>\n      <th>school_county_v2_alameda</th>\n      <th>school_county_v2_alpine</th>\n      <th>school_county_v2_amador</th>\n      <th>school_county_v2_butte</th>\n      <th>school_county_v2_calaveras</th>\n      <th>school_county_v2_colusa</th>\n      <th>school_county_v2_contra_costa</th>\n      <th>school_county_v2_del_norte</th>\n      <th>school_county_v2_el_dorado</th>\n      <th>school_county_v2_fresno</th>\n      <th>school_county_v2_glenn</th>\n      <th>school_county_v2_humboldt</th>\n      <th>school_county_v2_imperial</th>\n      <th>school_county_v2_inyo</th>\n      <th>school_county_v2_kern</th>\n      <th>school_county_v2_kings</th>\n      <th>school_county_v2_lake</th>\n      <th>school_county_v2_lassen</th>\n      <th>school_county_v2_los_angeles</th>\n      <th>school_county_v2_madera</th>\n      <th>school_county_v2_marin</th>\n      <th>school_county_v2_mariposa</th>\n      <th>school_county_v2_mendocino</th>\n      <th>school_county_v2_merced</th>\n      <th>school_county_v2_modoc</th>\n      <th>school_county_v2_mono</th>\n      <th>school_county_v2_monterey</th>\n      <th>school_county_v2_napa</th>\n      <th>school_county_v2_nevada</th>\n      <th>school_county_v2_orange</th>\n      <th>school_county_v2_placer</th>\n      <th>school_county_v2_plumas</th>\n      <th>school_county_v2_riverside</th>\n      <th>school_county_v2_sacramento</th>\n      <th>school_county_v2_san_benito</th>\n      <th>school_county_v2_san_bernardino</th>\n      <th>school_county_v2_san_diego</th>\n      <th>school_county_v2_san_francisco</th>\n      <th>school_county_v2_san_joaquin</th>\n      <th>school_county_v2_san_luis_obispo</th>\n      <th>school_county_v2_san_mateo</th>\n      <th>school_county_v2_santa_barbara</th>\n      <th>school_county_v2_santa_clara</th>\n      <th>school_county_v2_santa_cruz</th>\n      <th>school_county_v2_shasta</th>\n      <th>school_county_v2_sierra</th>\n      <th>school_county_v2_siskiyou</th>\n      <th>school_county_v2_solano</th>\n      <th>school_county_v2_sonoma</th>\n      <th>school_county_v2_stanislaus</th>\n      <th>school_county_v2_sutter</th>\n      <th>school_county_v2_tehama</th>\n      <th>school_county_v2_trinity</th>\n      <th>school_county_v2_tulare</th>\n      <th>school_county_v2_tuolumne</th>\n      <th>school_county_v2_ventura</th>\n      <th>school_county_v2_yolo</th>\n      <th>school_county_v2_yuba</th>\n      <th>month_01</th>\n      <th>month_02</th>\n      <th>month_03</th>\n      <th>month_04</th>\n      <th>month_05</th>\n      <th>month_06</th>\n      <th>month_07</th>\n      <th>month_08</th>\n      <th>month_09</th>\n      <th>month_10</th>\n      <th>month_11</th>\n      <th>month_12</th>\n      <th>y-m</th>\n      <th>central_wind_alignment_180_high</th>\n      <th>avg_count_ps_within_5km</th>\n      <th>avg_elevation_diff_m</th>\n      <th>avg_wspd_ratio_ps_sch</th>\n      <th>avg_wspd_ratio_sch_ps</th>\n      <th>avg_school_wspd</th>\n      <th>avg_ps_wspd</th>\n      <th>new_alignment_90_high</th>\n      <th>ps_pm25_tpy_top_20</th>\n      <th>school_to_ps_geod_dist_m_top_20</th>\n      <th>avg_wspd_top_15</th>\n      <th>Izmy_v1_unnormed</th>\n      <th>Izmy_v2_nodist_unnormed</th>\n      <th>Izmy_v3_normed_D_and_TPY</th>\n      <th>Izmy_v4_nodist_normed_TPY</th>\n      <th>Izmy_v5_all_normed_but_wspd_ratio</th>\n      <th>Izmy_v6_unnormed_no_wspd</th>\n      <th>Izmy_v7_all_normed_no_wspd</th>\n      <th>Izmy_v8_normed_D_and_TPY_no_wspd</th>\n      <th>avg_temp</th>\n      <th>diff_temp_s_ps</th>\n      <th>patzip_year_month</th>\n      <th>Izmy_v4_nodist_normed_TPY_r9</th>\n      <th>avg_wspd_top_15_r9</th>\n      <th>avg_temp_r9</th>\n      <th>visits_hematopoietic_cancers</th>\n      <th>visits_injuries_accidents</th>\n      <th>visits_type_1_diabetes</th>\n      <th>visits_pediatric_vasculitis</th>\n      <th>visits_resp_cardio</th>\n    </tr>\n  </thead>\n  <tbody>\n    <tr>\n      <th>0</th>\n      <td>0</td>\n      <td>0</td>\n      <td>2000-01-01</td>\n      <td>90001</td>\n      <td>Los Angeles</td>\n      <td>Los Angeles County</td>\n      <td>32.149998</td>\n      <td>44.728889</td>\n      <td>43.703333</td>\n      <td>6196.0</td>\n      <td>3209.0</td>\n      <td>2987.0</td>\n      <td>6672.0</td>\n      <td>3397.0</td>\n      <td>3275.0</td>\n      <td>5562.0</td>\n      <td>2850.0</td>\n      <td>2712.0</td>\n      <td>5075.0</td>\n      <td>2599.0</td>\n      <td>2476.0</td>\n      <td>23505.0</td>\n      <td>12055.0</td>\n      <td>11450.0</td>\n      <td>54481.0</td>\n      <td>27320.0</td>\n      <td>27161.0</td>\n      <td>14.241154</td>\n      <td>3854.812685</td>\n      <td>-90.196586</td>\n      <td>0.757031</td>\n      <td>-172.758321</td>\n      <td>-172.758321</td>\n      <td>82.561735</td>\n      <td>82.561735</td>\n      <td>82.561735</td>\n      <td>1.124995</td>\n      <td>0.0</td>\n      <td>0.757031</td>\n      <td>20049.704556</td>\n      <td>2.608176e+06</td>\n      <td>47.873130</td>\n      <td>14.277778</td>\n      <td>14.266667</td>\n      <td>9</td>\n      <td>NaN</td>\n      <td>NaN</td>\n      <td>NaN</td>\n      <td>NaN</td>\n      <td>NaN</td>\n      <td>NaN</td>\n      <td>NaN</td>\n      <td>NaN</td>\n      <td>NaN</td>\n      <td>NaN</td>\n      <td>2000</td>\n      <td>1</td>\n      <td>0</td>\n      <td>0</td>\n      <td>0</td>\n      <td>0</td>\n      <td>0</td>\n      <td>0</td>\n      <td>0</td>\n      <td>0</td>\n      <td>0</td>\n      <td>0</td>\n      <td>0</td>\n      <td>0</td>\n      <td>0</td>\n      <td>0</td>\n      <td>0</td>\n      <td>0</td>\n      <td>0</td>\n      <td>0</td>\n      <td>1</td>\n      <td>0</td>\n      <td>0</td>\n      <td>0</td>\n      <td>0</td>\n      <td>0</td>\n      <td>0</td>\n      <td>0</td>\n      <td>0</td>\n      <td>0</td>\n      <td>0</td>\n      <td>0</td>\n      <td>0</td>\n      <td>0</td>\n      <td>0</td>\n      <td>0</td>\n      <td>0</td>\n      <td>0</td>\n      <td>0</td>\n      <td>0</td>\n      <td>0</td>\n      <td>0</td>\n      <td>0</td>\n      <td>0</td>\n      <td>0</td>\n      <td>0</td>\n      <td>0</td>\n      <td>0</td>\n      <td>0</td>\n      <td>0</td>\n      <td>0</td>\n      <td>0</td>\n      <td>0</td>\n      <td>0</td>\n      <td>0</td>\n      <td>0</td>\n      <td>0</td>\n      <td>0</td>\n      <td>0</td>\n      <td>0</td>\n      <td>1</td>\n      <td>0</td>\n      <td>0</td>\n      <td>0</td>\n      <td>0</td>\n      <td>0</td>\n      <td>0</td>\n      <td>0</td>\n      <td>0</td>\n      <td>0</td>\n      <td>0</td>\n      <td>0</td>\n      <td>2000-01</td>\n      <td>NaN</td>\n      <td>NaN</td>\n      <td>NaN</td>\n      <td>NaN</td>\n      <td>NaN</td>\n      <td>NaN</td>\n      <td>NaN</td>\n      <td>NaN</td>\n      <td>NaN</td>\n      <td>NaN</td>\n      <td>NaN</td>\n      <td>NaN</td>\n      <td>NaN</td>\n      <td>NaN</td>\n      <td>NaN</td>\n      <td>NaN</td>\n      <td>NaN</td>\n      <td>NaN</td>\n      <td>NaN</td>\n      <td>14.272222</td>\n      <td>0.011111</td>\n      <td>90001-2000-1</td>\n      <td>NaN</td>\n      <td>NaN</td>\n      <td>NaN</td>\n      <td>NaN</td>\n      <td>NaN</td>\n      <td>NaN</td>\n      <td>NaN</td>\n      <td>NaN</td>\n    </tr>\n    <tr>\n      <th>1</th>\n      <td>1322</td>\n      <td>1322</td>\n      <td>2000-02-01</td>\n      <td>90001</td>\n      <td>Los Angeles</td>\n      <td>Los Angeles County</td>\n      <td>13.666667</td>\n      <td>44.728889</td>\n      <td>43.703333</td>\n      <td>6196.0</td>\n      <td>3209.0</td>\n      <td>2987.0</td>\n      <td>6672.0</td>\n      <td>3397.0</td>\n      <td>3275.0</td>\n      <td>5562.0</td>\n      <td>2850.0</td>\n      <td>2712.0</td>\n      <td>5075.0</td>\n      <td>2599.0</td>\n      <td>2476.0</td>\n      <td>23505.0</td>\n      <td>12055.0</td>\n      <td>11450.0</td>\n      <td>54481.0</td>\n      <td>27320.0</td>\n      <td>27161.0</td>\n      <td>14.241154</td>\n      <td>3854.812685</td>\n      <td>-90.196586</td>\n      <td>0.965276</td>\n      <td>30.294778</td>\n      <td>30.294778</td>\n      <td>120.491364</td>\n      <td>120.491364</td>\n      <td>120.491364</td>\n      <td>0.547186</td>\n      <td>0.0</td>\n      <td>0.965276</td>\n      <td>20049.704556</td>\n      <td>2.608176e+06</td>\n      <td>47.873130</td>\n      <td>13.877778</td>\n      <td>13.866667</td>\n      <td>9</td>\n      <td>32.149998</td>\n      <td>NaN</td>\n      <td>NaN</td>\n      <td>NaN</td>\n      <td>NaN</td>\n      <td>NaN</td>\n      <td>NaN</td>\n      <td>NaN</td>\n      <td>NaN</td>\n      <td>NaN</td>\n      <td>2000</td>\n      <td>2</td>\n      <td>0</td>\n      <td>0</td>\n      <td>0</td>\n      <td>0</td>\n      <td>0</td>\n      <td>0</td>\n      <td>0</td>\n      <td>0</td>\n      <td>0</td>\n      <td>0</td>\n      <td>0</td>\n      <td>0</td>\n      <td>0</td>\n      <td>0</td>\n      <td>0</td>\n      <td>0</td>\n      <td>0</td>\n      <td>0</td>\n      <td>1</td>\n      <td>0</td>\n      <td>0</td>\n      <td>0</td>\n      <td>0</td>\n      <td>0</td>\n      <td>0</td>\n      <td>0</td>\n      <td>0</td>\n      <td>0</td>\n      <td>0</td>\n      <td>0</td>\n      <td>0</td>\n      <td>0</td>\n      <td>0</td>\n      <td>0</td>\n      <td>0</td>\n      <td>0</td>\n      <td>0</td>\n      <td>0</td>\n      <td>0</td>\n      <td>0</td>\n      <td>0</td>\n      <td>0</td>\n      <td>0</td>\n      <td>0</td>\n      <td>0</td>\n      <td>0</td>\n      <td>0</td>\n      <td>0</td>\n      <td>0</td>\n      <td>0</td>\n      <td>0</td>\n      <td>0</td>\n      <td>0</td>\n      <td>0</td>\n      <td>0</td>\n      <td>0</td>\n      <td>0</td>\n      <td>0</td>\n      <td>0</td>\n      <td>1</td>\n      <td>0</td>\n      <td>0</td>\n      <td>0</td>\n      <td>0</td>\n      <td>0</td>\n      <td>0</td>\n      <td>0</td>\n      <td>0</td>\n      <td>0</td>\n      <td>0</td>\n      <td>2000-02</td>\n      <td>NaN</td>\n      <td>NaN</td>\n      <td>NaN</td>\n      <td>NaN</td>\n      <td>NaN</td>\n      <td>NaN</td>\n      <td>NaN</td>\n      <td>NaN</td>\n      <td>NaN</td>\n      <td>NaN</td>\n      <td>NaN</td>\n      <td>NaN</td>\n      <td>NaN</td>\n      <td>NaN</td>\n      <td>NaN</td>\n      <td>NaN</td>\n      <td>NaN</td>\n      <td>NaN</td>\n      <td>NaN</td>\n      <td>13.872222</td>\n      <td>0.011111</td>\n      <td>90001-2000-2</td>\n      <td>NaN</td>\n      <td>NaN</td>\n      <td>NaN</td>\n      <td>NaN</td>\n      <td>NaN</td>\n      <td>NaN</td>\n      <td>NaN</td>\n      <td>NaN</td>\n    </tr>\n    <tr>\n      <th>2</th>\n      <td>2644</td>\n      <td>2644</td>\n      <td>2000-03-01</td>\n      <td>90001</td>\n      <td>Los Angeles</td>\n      <td>Los Angeles County</td>\n      <td>17.183334</td>\n      <td>44.728889</td>\n      <td>43.703333</td>\n      <td>6196.0</td>\n      <td>3209.0</td>\n      <td>2987.0</td>\n      <td>6672.0</td>\n      <td>3397.0</td>\n      <td>3275.0</td>\n      <td>5562.0</td>\n      <td>2850.0</td>\n      <td>2712.0</td>\n      <td>5075.0</td>\n      <td>2599.0</td>\n      <td>2476.0</td>\n      <td>23505.0</td>\n      <td>12055.0</td>\n      <td>11450.0</td>\n      <td>54481.0</td>\n      <td>27320.0</td>\n      <td>27161.0</td>\n      <td>14.241154</td>\n      <td>3854.812685</td>\n      <td>-90.196586</td>\n      <td>0.199593</td>\n      <td>107.246620</td>\n      <td>107.246620</td>\n      <td>147.368213</td>\n      <td>147.368213</td>\n      <td>147.368213</td>\n      <td>0.172183</td>\n      <td>0.0</td>\n      <td>0.199593</td>\n      <td>20049.704556</td>\n      <td>2.608176e+06</td>\n      <td>47.873130</td>\n      <td>14.677778</td>\n      <td>14.666667</td>\n      <td>9</td>\n      <td>13.666667</td>\n      <td>NaN</td>\n      <td>NaN</td>\n      <td>NaN</td>\n      <td>NaN</td>\n      <td>NaN</td>\n      <td>NaN</td>\n      <td>NaN</td>\n      <td>NaN</td>\n      <td>NaN</td>\n      <td>2000</td>\n      <td>3</td>\n      <td>0</td>\n      <td>0</td>\n      <td>0</td>\n      <td>0</td>\n      <td>0</td>\n      <td>0</td>\n      <td>0</td>\n      <td>0</td>\n      <td>0</td>\n      <td>0</td>\n      <td>0</td>\n      <td>0</td>\n      <td>0</td>\n      <td>0</td>\n      <td>0</td>\n      <td>0</td>\n      <td>0</td>\n      <td>0</td>\n      <td>1</td>\n      <td>0</td>\n      <td>0</td>\n      <td>0</td>\n      <td>0</td>\n      <td>0</td>\n      <td>0</td>\n      <td>0</td>\n      <td>0</td>\n      <td>0</td>\n      <td>0</td>\n      <td>0</td>\n      <td>0</td>\n      <td>0</td>\n      <td>0</td>\n      <td>0</td>\n      <td>0</td>\n      <td>0</td>\n      <td>0</td>\n      <td>0</td>\n      <td>0</td>\n      <td>0</td>\n      <td>0</td>\n      <td>0</td>\n      <td>0</td>\n      <td>0</td>\n      <td>0</td>\n      <td>0</td>\n      <td>0</td>\n      <td>0</td>\n      <td>0</td>\n      <td>0</td>\n      <td>0</td>\n      <td>0</td>\n      <td>0</td>\n      <td>0</td>\n      <td>0</td>\n      <td>0</td>\n      <td>0</td>\n      <td>0</td>\n      <td>0</td>\n      <td>0</td>\n      <td>1</td>\n      <td>0</td>\n      <td>0</td>\n      <td>0</td>\n      <td>0</td>\n      <td>0</td>\n      <td>0</td>\n      <td>0</td>\n      <td>0</td>\n      <td>0</td>\n      <td>2000-03</td>\n      <td>NaN</td>\n      <td>NaN</td>\n      <td>NaN</td>\n      <td>NaN</td>\n      <td>NaN</td>\n      <td>NaN</td>\n      <td>NaN</td>\n      <td>NaN</td>\n      <td>NaN</td>\n      <td>NaN</td>\n      <td>NaN</td>\n      <td>NaN</td>\n      <td>NaN</td>\n      <td>NaN</td>\n      <td>NaN</td>\n      <td>NaN</td>\n      <td>NaN</td>\n      <td>NaN</td>\n      <td>NaN</td>\n      <td>14.672222</td>\n      <td>0.011111</td>\n      <td>90001-2000-3</td>\n      <td>NaN</td>\n      <td>NaN</td>\n      <td>NaN</td>\n      <td>NaN</td>\n      <td>NaN</td>\n      <td>NaN</td>\n      <td>NaN</td>\n      <td>NaN</td>\n    </tr>\n    <tr>\n      <th>3</th>\n      <td>3966</td>\n      <td>3966</td>\n      <td>2000-04-01</td>\n      <td>90001</td>\n      <td>Los Angeles</td>\n      <td>Los Angeles County</td>\n      <td>17.366667</td>\n      <td>44.728889</td>\n      <td>43.703333</td>\n      <td>6196.0</td>\n      <td>3209.0</td>\n      <td>2987.0</td>\n      <td>6672.0</td>\n      <td>3397.0</td>\n      <td>3275.0</td>\n      <td>5562.0</td>\n      <td>2850.0</td>\n      <td>2712.0</td>\n      <td>5075.0</td>\n      <td>2599.0</td>\n      <td>2476.0</td>\n      <td>23505.0</td>\n      <td>12055.0</td>\n      <td>11450.0</td>\n      <td>54481.0</td>\n      <td>27320.0</td>\n      <td>27161.0</td>\n      <td>14.241154</td>\n      <td>3854.812685</td>\n      <td>-90.196586</td>\n      <td>0.771902</td>\n      <td>73.610928</td>\n      <td>73.610928</td>\n      <td>155.392932</td>\n      <td>155.392932</td>\n      <td>155.392932</td>\n      <td>0.159581</td>\n      <td>0.0</td>\n      <td>0.771902</td>\n      <td>20049.704556</td>\n      <td>2.608176e+06</td>\n      <td>47.873130</td>\n      <td>16.055556</td>\n      <td>16.600000</td>\n      <td>9</td>\n      <td>17.183334</td>\n      <td>NaN</td>\n      <td>NaN</td>\n      <td>NaN</td>\n      <td>NaN</td>\n      <td>NaN</td>\n      <td>NaN</td>\n      <td>NaN</td>\n      <td>NaN</td>\n      <td>NaN</td>\n      <td>2000</td>\n      <td>4</td>\n      <td>0</td>\n      <td>0</td>\n      <td>0</td>\n      <td>0</td>\n      <td>0</td>\n      <td>0</td>\n      <td>0</td>\n      <td>0</td>\n      <td>0</td>\n      <td>0</td>\n      <td>0</td>\n      <td>0</td>\n      <td>0</td>\n      <td>0</td>\n      <td>0</td>\n      <td>0</td>\n      <td>0</td>\n      <td>0</td>\n      <td>1</td>\n      <td>0</td>\n      <td>0</td>\n      <td>0</td>\n      <td>0</td>\n      <td>0</td>\n      <td>0</td>\n      <td>0</td>\n      <td>0</td>\n      <td>0</td>\n      <td>0</td>\n      <td>0</td>\n      <td>0</td>\n      <td>0</td>\n      <td>0</td>\n      <td>0</td>\n      <td>0</td>\n      <td>0</td>\n      <td>0</td>\n      <td>0</td>\n      <td>0</td>\n      <td>0</td>\n      <td>0</td>\n      <td>0</td>\n      <td>0</td>\n      <td>0</td>\n      <td>0</td>\n      <td>0</td>\n      <td>0</td>\n      <td>0</td>\n      <td>0</td>\n      <td>0</td>\n      <td>0</td>\n      <td>0</td>\n      <td>0</td>\n      <td>0</td>\n      <td>0</td>\n      <td>0</td>\n      <td>0</td>\n      <td>0</td>\n      <td>0</td>\n      <td>0</td>\n      <td>0</td>\n      <td>1</td>\n      <td>0</td>\n      <td>0</td>\n      <td>0</td>\n      <td>0</td>\n      <td>0</td>\n      <td>0</td>\n      <td>0</td>\n      <td>0</td>\n      <td>2000-04</td>\n      <td>NaN</td>\n      <td>NaN</td>\n      <td>NaN</td>\n      <td>NaN</td>\n      <td>NaN</td>\n      <td>NaN</td>\n      <td>NaN</td>\n      <td>NaN</td>\n      <td>NaN</td>\n      <td>NaN</td>\n      <td>NaN</td>\n      <td>NaN</td>\n      <td>NaN</td>\n      <td>NaN</td>\n      <td>NaN</td>\n      <td>NaN</td>\n      <td>NaN</td>\n      <td>NaN</td>\n      <td>NaN</td>\n      <td>16.327778</td>\n      <td>-0.544444</td>\n      <td>90001-2000-4</td>\n      <td>NaN</td>\n      <td>NaN</td>\n      <td>NaN</td>\n      <td>NaN</td>\n      <td>NaN</td>\n      <td>NaN</td>\n      <td>NaN</td>\n      <td>NaN</td>\n    </tr>\n    <tr>\n      <th>4</th>\n      <td>5288</td>\n      <td>5288</td>\n      <td>2000-05-01</td>\n      <td>90001</td>\n      <td>Los Angeles</td>\n      <td>Los Angeles County</td>\n      <td>17.616667</td>\n      <td>44.728889</td>\n      <td>43.703333</td>\n      <td>6196.0</td>\n      <td>3209.0</td>\n      <td>2987.0</td>\n      <td>6672.0</td>\n      <td>3397.0</td>\n      <td>3275.0</td>\n      <td>5562.0</td>\n      <td>2850.0</td>\n      <td>2712.0</td>\n      <td>5075.0</td>\n      <td>2599.0</td>\n      <td>2476.0</td>\n      <td>23505.0</td>\n      <td>12055.0</td>\n      <td>11450.0</td>\n      <td>54481.0</td>\n      <td>27320.0</td>\n      <td>27161.0</td>\n      <td>14.241154</td>\n      <td>3854.812685</td>\n      <td>-90.196586</td>\n      <td>1.063785</td>\n      <td>73.965232</td>\n      <td>73.965232</td>\n      <td>155.432299</td>\n      <td>155.432299</td>\n      <td>155.432299</td>\n      <td>0.158167</td>\n      <td>0.0</td>\n      <td>1.063785</td>\n      <td>20049.704556</td>\n      <td>2.608176e+06</td>\n      <td>47.873130</td>\n      <td>17.855556</td>\n      <td>18.533333</td>\n      <td>9</td>\n      <td>17.366667</td>\n      <td>NaN</td>\n      <td>NaN</td>\n      <td>NaN</td>\n      <td>NaN</td>\n      <td>NaN</td>\n      <td>NaN</td>\n      <td>NaN</td>\n      <td>NaN</td>\n      <td>NaN</td>\n      <td>2000</td>\n      <td>5</td>\n      <td>0</td>\n      <td>0</td>\n      <td>0</td>\n      <td>0</td>\n      <td>0</td>\n      <td>0</td>\n      <td>0</td>\n      <td>0</td>\n      <td>0</td>\n      <td>0</td>\n      <td>0</td>\n      <td>0</td>\n      <td>0</td>\n      <td>0</td>\n      <td>0</td>\n      <td>0</td>\n      <td>0</td>\n      <td>0</td>\n      <td>1</td>\n      <td>0</td>\n      <td>0</td>\n      <td>0</td>\n      <td>0</td>\n      <td>0</td>\n      <td>0</td>\n      <td>0</td>\n      <td>0</td>\n      <td>0</td>\n      <td>0</td>\n      <td>0</td>\n      <td>0</td>\n      <td>0</td>\n      <td>0</td>\n      <td>0</td>\n      <td>0</td>\n      <td>0</td>\n      <td>0</td>\n      <td>0</td>\n      <td>0</td>\n      <td>0</td>\n      <td>0</td>\n      <td>0</td>\n      <td>0</td>\n      <td>0</td>\n      <td>0</td>\n      <td>0</td>\n      <td>0</td>\n      <td>0</td>\n      <td>0</td>\n      <td>0</td>\n      <td>0</td>\n      <td>0</td>\n      <td>0</td>\n      <td>0</td>\n      <td>0</td>\n      <td>0</td>\n      <td>0</td>\n      <td>0</td>\n      <td>0</td>\n      <td>0</td>\n      <td>0</td>\n      <td>0</td>\n      <td>1</td>\n      <td>0</td>\n      <td>0</td>\n      <td>0</td>\n      <td>0</td>\n      <td>0</td>\n      <td>0</td>\n      <td>0</td>\n      <td>2000-05</td>\n      <td>NaN</td>\n      <td>NaN</td>\n      <td>NaN</td>\n      <td>NaN</td>\n      <td>NaN</td>\n      <td>NaN</td>\n      <td>NaN</td>\n      <td>NaN</td>\n      <td>NaN</td>\n      <td>NaN</td>\n      <td>NaN</td>\n      <td>NaN</td>\n      <td>NaN</td>\n      <td>NaN</td>\n      <td>NaN</td>\n      <td>NaN</td>\n      <td>NaN</td>\n      <td>NaN</td>\n      <td>NaN</td>\n      <td>18.194444</td>\n      <td>-0.677778</td>\n      <td>90001-2000-5</td>\n      <td>NaN</td>\n      <td>NaN</td>\n      <td>NaN</td>\n      <td>NaN</td>\n      <td>NaN</td>\n      <td>NaN</td>\n      <td>NaN</td>\n      <td>NaN</td>\n    </tr>\n    <tr>\n      <th>...</th>\n      <td>...</td>\n      <td>...</td>\n      <td>...</td>\n      <td>...</td>\n      <td>...</td>\n      <td>...</td>\n      <td>...</td>\n      <td>...</td>\n      <td>...</td>\n      <td>...</td>\n      <td>...</td>\n      <td>...</td>\n      <td>...</td>\n      <td>...</td>\n      <td>...</td>\n      <td>...</td>\n      <td>...</td>\n      <td>...</td>\n      <td>...</td>\n      <td>...</td>\n      <td>...</td>\n      <td>...</td>\n      <td>...</td>\n      <td>...</td>\n      <td>...</td>\n      <td>...</td>\n      <td>...</td>\n      <td>...</td>\n      <td>...</td>\n      <td>...</td>\n      <td>...</td>\n      <td>...</td>\n      <td>...</td>\n      <td>...</td>\n      <td>...</td>\n      <td>...</td>\n      <td>...</td>\n      <td>...</td>\n      <td>...</td>\n      <td>...</td>\n      <td>...</td>\n      <td>...</td>\n      <td>...</td>\n      <td>...</td>\n      <td>...</td>\n      <td>...</td>\n      <td>...</td>\n      <td>...</td>\n      <td>...</td>\n      <td>...</td>\n      <td>...</td>\n      <td>...</td>\n      <td>...</td>\n      <td>...</td>\n      <td>...</td>\n      <td>...</td>\n      <td>...</td>\n      <td>...</td>\n      <td>...</td>\n      <td>...</td>\n      <td>...</td>\n      <td>...</td>\n      <td>...</td>\n      <td>...</td>\n      <td>...</td>\n      <td>...</td>\n      <td>...</td>\n      <td>...</td>\n      <td>...</td>\n      <td>...</td>\n      <td>...</td>\n      <td>...</td>\n      <td>...</td>\n      <td>...</td>\n      <td>...</td>\n      <td>...</td>\n      <td>...</td>\n      <td>...</td>\n      <td>...</td>\n      <td>...</td>\n      <td>...</td>\n      <td>...</td>\n      <td>...</td>\n      <td>...</td>\n      <td>...</td>\n      <td>...</td>\n      <td>...</td>\n      <td>...</td>\n      <td>...</td>\n      <td>...</td>\n      <td>...</td>\n      <td>...</td>\n      <td>...</td>\n      <td>...</td>\n      <td>...</td>\n      <td>...</td>\n      <td>...</td>\n      <td>...</td>\n      <td>...</td>\n      <td>...</td>\n      <td>...</td>\n      <td>...</td>\n      <td>...</td>\n      <td>...</td>\n      <td>...</td>\n      <td>...</td>\n      <td>...</td>\n      <td>...</td>\n      <td>...</td>\n      <td>...</td>\n      <td>...</td>\n      <td>...</td>\n      <td>...</td>\n      <td>...</td>\n      <td>...</td>\n      <td>...</td>\n      <td>...</td>\n      <td>...</td>\n      <td>...</td>\n      <td>...</td>\n      <td>...</td>\n      <td>...</td>\n      <td>...</td>\n      <td>...</td>\n      <td>...</td>\n      <td>...</td>\n      <td>...</td>\n      <td>...</td>\n      <td>...</td>\n      <td>...</td>\n      <td>...</td>\n      <td>...</td>\n      <td>...</td>\n      <td>...</td>\n      <td>...</td>\n      <td>...</td>\n      <td>...</td>\n      <td>...</td>\n      <td>...</td>\n      <td>...</td>\n      <td>...</td>\n      <td>...</td>\n      <td>...</td>\n      <td>...</td>\n      <td>...</td>\n      <td>...</td>\n      <td>...</td>\n      <td>...</td>\n      <td>...</td>\n      <td>...</td>\n      <td>...</td>\n      <td>...</td>\n      <td>...</td>\n      <td>...</td>\n      <td>...</td>\n      <td>...</td>\n      <td>...</td>\n      <td>...</td>\n    </tr>\n    <tr>\n      <th>294892</th>\n      <td>289465</td>\n      <td>289465</td>\n      <td>2017-08-01</td>\n      <td>97635</td>\n      <td>Modoc</td>\n      <td>Superior California</td>\n      <td>5.925000</td>\n      <td>1484.680000</td>\n      <td>1331.890000</td>\n      <td>0.0</td>\n      <td>0.0</td>\n      <td>0.0</td>\n      <td>0.0</td>\n      <td>0.0</td>\n      <td>0.0</td>\n      <td>17.0</td>\n      <td>12.0</td>\n      <td>5.0</td>\n      <td>0.0</td>\n      <td>0.0</td>\n      <td>0.0</td>\n      <td>17.0</td>\n      <td>12.0</td>\n      <td>5.0</td>\n      <td>214.0</td>\n      <td>113.0</td>\n      <td>101.0</td>\n      <td>0.877750</td>\n      <td>60528.982992</td>\n      <td>21.694962</td>\n      <td>0.427147</td>\n      <td>128.596355</td>\n      <td>114.046726</td>\n      <td>106.901393</td>\n      <td>92.351765</td>\n      <td>99.626579</td>\n      <td>0.832774</td>\n      <td>0.0</td>\n      <td>0.371966</td>\n      <td>59799.084409</td>\n      <td>3.809391e+07</td>\n      <td>178008.912538</td>\n      <td>8.014286</td>\n      <td>19.914286</td>\n      <td>1</td>\n      <td>5.600000</td>\n      <td>2.841146</td>\n      <td>2.942708</td>\n      <td>3.593750</td>\n      <td>3.345443</td>\n      <td>0.461518</td>\n      <td>0.036927</td>\n      <td>-0.254611</td>\n      <td>-0.039781</td>\n      <td>6.550000</td>\n      <td>2017</td>\n      <td>8</td>\n      <td>0</td>\n      <td>0</td>\n      <td>0</td>\n      <td>0</td>\n      <td>0</td>\n      <td>0</td>\n      <td>0</td>\n      <td>0</td>\n      <td>0</td>\n      <td>0</td>\n      <td>0</td>\n      <td>0</td>\n      <td>0</td>\n      <td>0</td>\n      <td>0</td>\n      <td>0</td>\n      <td>0</td>\n      <td>0</td>\n      <td>0</td>\n      <td>0</td>\n      <td>0</td>\n      <td>0</td>\n      <td>0</td>\n      <td>0</td>\n      <td>1</td>\n      <td>0</td>\n      <td>0</td>\n      <td>0</td>\n      <td>0</td>\n      <td>0</td>\n      <td>0</td>\n      <td>0</td>\n      <td>0</td>\n      <td>0</td>\n      <td>0</td>\n      <td>0</td>\n      <td>0</td>\n      <td>0</td>\n      <td>0</td>\n      <td>0</td>\n      <td>0</td>\n      <td>0</td>\n      <td>0</td>\n      <td>0</td>\n      <td>0</td>\n      <td>0</td>\n      <td>0</td>\n      <td>0</td>\n      <td>0</td>\n      <td>0</td>\n      <td>0</td>\n      <td>0</td>\n      <td>0</td>\n      <td>0</td>\n      <td>0</td>\n      <td>0</td>\n      <td>0</td>\n      <td>0</td>\n      <td>0</td>\n      <td>0</td>\n      <td>0</td>\n      <td>0</td>\n      <td>0</td>\n      <td>0</td>\n      <td>0</td>\n      <td>1</td>\n      <td>0</td>\n      <td>0</td>\n      <td>0</td>\n      <td>0</td>\n      <td>2017-08</td>\n      <td>128.313092</td>\n      <td>0.0</td>\n      <td>-673.963333</td>\n      <td>1.515257</td>\n      <td>1.474275</td>\n      <td>1.895626</td>\n      <td>2.163724</td>\n      <td>41.923230</td>\n      <td>30.157308</td>\n      <td>205925.295872</td>\n      <td>2.029675</td>\n      <td>114.808556</td>\n      <td>2.312278e+07</td>\n      <td>12428.042293</td>\n      <td>6444.545693</td>\n      <td>138.089359</td>\n      <td>71.899755</td>\n      <td>86.222436</td>\n      <td>7760.019217</td>\n      <td>13.964286</td>\n      <td>-11.900000</td>\n      <td>97635-2017-8</td>\n      <td>4342.789788</td>\n      <td>2.506471</td>\n      <td>6.605095</td>\n      <td>NaN</td>\n      <td>0.0</td>\n      <td>NaN</td>\n      <td>NaN</td>\n      <td>NaN</td>\n    </tr>\n    <tr>\n      <th>294893</th>\n      <td>290823</td>\n      <td>290823</td>\n      <td>2017-09-01</td>\n      <td>97635</td>\n      <td>Modoc</td>\n      <td>Superior California</td>\n      <td>3.678125</td>\n      <td>1484.680000</td>\n      <td>1331.890000</td>\n      <td>0.0</td>\n      <td>0.0</td>\n      <td>0.0</td>\n      <td>0.0</td>\n      <td>0.0</td>\n      <td>0.0</td>\n      <td>17.0</td>\n      <td>12.0</td>\n      <td>5.0</td>\n      <td>0.0</td>\n      <td>0.0</td>\n      <td>0.0</td>\n      <td>17.0</td>\n      <td>12.0</td>\n      <td>5.0</td>\n      <td>214.0</td>\n      <td>113.0</td>\n      <td>101.0</td>\n      <td>0.877750</td>\n      <td>60528.982992</td>\n      <td>21.694962</td>\n      <td>0.073094</td>\n      <td>132.915270</td>\n      <td>-97.997283</td>\n      <td>111.220308</td>\n      <td>119.692244</td>\n      <td>115.456276</td>\n      <td>0.570178</td>\n      <td>0.0</td>\n      <td>0.135517</td>\n      <td>59799.084409</td>\n      <td>3.809391e+07</td>\n      <td>178008.912538</td>\n      <td>8.014286</td>\n      <td>15.500000</td>\n      <td>1</td>\n      <td>5.925000</td>\n      <td>3.283333</td>\n      <td>3.102431</td>\n      <td>3.541667</td>\n      <td>3.244010</td>\n      <td>0.988214</td>\n      <td>0.364479</td>\n      <td>-0.030573</td>\n      <td>0.040514</td>\n      <td>7.009375</td>\n      <td>2017</td>\n      <td>9</td>\n      <td>0</td>\n      <td>0</td>\n      <td>0</td>\n      <td>0</td>\n      <td>0</td>\n      <td>0</td>\n      <td>0</td>\n      <td>0</td>\n      <td>0</td>\n      <td>0</td>\n      <td>0</td>\n      <td>0</td>\n      <td>0</td>\n      <td>0</td>\n      <td>0</td>\n      <td>0</td>\n      <td>0</td>\n      <td>0</td>\n      <td>0</td>\n      <td>0</td>\n      <td>0</td>\n      <td>0</td>\n      <td>0</td>\n      <td>0</td>\n      <td>1</td>\n      <td>0</td>\n      <td>0</td>\n      <td>0</td>\n      <td>0</td>\n      <td>0</td>\n      <td>0</td>\n      <td>0</td>\n      <td>0</td>\n      <td>0</td>\n      <td>0</td>\n      <td>0</td>\n      <td>0</td>\n      <td>0</td>\n      <td>0</td>\n      <td>0</td>\n      <td>0</td>\n      <td>0</td>\n      <td>0</td>\n      <td>0</td>\n      <td>0</td>\n      <td>0</td>\n      <td>0</td>\n      <td>0</td>\n      <td>0</td>\n      <td>0</td>\n      <td>0</td>\n      <td>0</td>\n      <td>0</td>\n      <td>0</td>\n      <td>0</td>\n      <td>0</td>\n      <td>0</td>\n      <td>0</td>\n      <td>0</td>\n      <td>0</td>\n      <td>0</td>\n      <td>0</td>\n      <td>0</td>\n      <td>0</td>\n      <td>0</td>\n      <td>0</td>\n      <td>1</td>\n      <td>0</td>\n      <td>0</td>\n      <td>0</td>\n      <td>2017-09</td>\n      <td>121.254592</td>\n      <td>0.0</td>\n      <td>-673.963333</td>\n      <td>1.138648</td>\n      <td>1.710182</td>\n      <td>2.295742</td>\n      <td>2.090771</td>\n      <td>39.123371</td>\n      <td>30.157308</td>\n      <td>205925.295872</td>\n      <td>2.193256</td>\n      <td>72.582018</td>\n      <td>1.462739e+07</td>\n      <td>7814.384034</td>\n      <td>4056.614586</td>\n      <td>86.826489</td>\n      <td>64.158576</td>\n      <td>76.759739</td>\n      <td>6908.376471</td>\n      <td>11.757143</td>\n      <td>-7.485714</td>\n      <td>97635-2017-9</td>\n      <td>4775.122824</td>\n      <td>2.479211</td>\n      <td>7.928904</td>\n      <td>NaN</td>\n      <td>0.0</td>\n      <td>NaN</td>\n      <td>NaN</td>\n      <td>NaN</td>\n    </tr>\n    <tr>\n      <th>294894</th>\n      <td>292181</td>\n      <td>292181</td>\n      <td>2017-10-01</td>\n      <td>97635</td>\n      <td>Modoc</td>\n      <td>Superior California</td>\n      <td>3.931250</td>\n      <td>1484.680000</td>\n      <td>1331.890000</td>\n      <td>0.0</td>\n      <td>0.0</td>\n      <td>0.0</td>\n      <td>0.0</td>\n      <td>0.0</td>\n      <td>0.0</td>\n      <td>17.0</td>\n      <td>12.0</td>\n      <td>5.0</td>\n      <td>0.0</td>\n      <td>0.0</td>\n      <td>0.0</td>\n      <td>17.0</td>\n      <td>12.0</td>\n      <td>5.0</td>\n      <td>214.0</td>\n      <td>113.0</td>\n      <td>101.0</td>\n      <td>0.877750</td>\n      <td>60528.982992</td>\n      <td>21.694962</td>\n      <td>0.425838</td>\n      <td>13.870442</td>\n      <td>-67.817276</td>\n      <td>7.824520</td>\n      <td>89.512238</td>\n      <td>48.668379</td>\n      <td>1.660416</td>\n      <td>0.0</td>\n      <td>0.476738</td>\n      <td>59799.084409</td>\n      <td>3.809391e+07</td>\n      <td>178008.912538</td>\n      <td>6.050000</td>\n      <td>8.672340</td>\n      <td>1</td>\n      <td>3.678125</td>\n      <td>3.668750</td>\n      <td>3.113194</td>\n      <td>3.264063</td>\n      <td>3.259766</td>\n      <td>0.661071</td>\n      <td>0.442760</td>\n      <td>0.132299</td>\n      <td>0.045463</td>\n      <td>3.081250</td>\n      <td>2017</td>\n      <td>10</td>\n      <td>0</td>\n      <td>0</td>\n      <td>0</td>\n      <td>0</td>\n      <td>0</td>\n      <td>0</td>\n      <td>0</td>\n      <td>0</td>\n      <td>0</td>\n      <td>0</td>\n      <td>0</td>\n      <td>0</td>\n      <td>0</td>\n      <td>0</td>\n      <td>0</td>\n      <td>0</td>\n      <td>0</td>\n      <td>0</td>\n      <td>0</td>\n      <td>0</td>\n      <td>0</td>\n      <td>0</td>\n      <td>0</td>\n      <td>0</td>\n      <td>1</td>\n      <td>0</td>\n      <td>0</td>\n      <td>0</td>\n      <td>0</td>\n      <td>0</td>\n      <td>0</td>\n      <td>0</td>\n      <td>0</td>\n      <td>0</td>\n      <td>0</td>\n      <td>0</td>\n      <td>0</td>\n      <td>0</td>\n      <td>0</td>\n      <td>0</td>\n      <td>0</td>\n      <td>0</td>\n      <td>0</td>\n      <td>0</td>\n      <td>0</td>\n      <td>0</td>\n      <td>0</td>\n      <td>0</td>\n      <td>0</td>\n      <td>0</td>\n      <td>0</td>\n      <td>0</td>\n      <td>0</td>\n      <td>0</td>\n      <td>0</td>\n      <td>0</td>\n      <td>0</td>\n      <td>0</td>\n      <td>0</td>\n      <td>0</td>\n      <td>0</td>\n      <td>0</td>\n      <td>0</td>\n      <td>0</td>\n      <td>0</td>\n      <td>0</td>\n      <td>0</td>\n      <td>1</td>\n      <td>0</td>\n      <td>0</td>\n      <td>2017-10</td>\n      <td>117.610480</td>\n      <td>0.0</td>\n      <td>-673.963333</td>\n      <td>0.992379</td>\n      <td>2.098003</td>\n      <td>2.572472</td>\n      <td>1.968177</td>\n      <td>36.263669</td>\n      <td>30.157308</td>\n      <td>205925.295872</td>\n      <td>2.270324</td>\n      <td>57.395807</td>\n      <td>1.163883e+07</td>\n      <td>6153.608210</td>\n      <td>3212.957923</td>\n      <td>68.373425</td>\n      <td>61.499497</td>\n      <td>73.680521</td>\n      <td>6631.246893</td>\n      <td>7.361170</td>\n      <td>-2.622340</td>\n      <td>97635-2017-10</td>\n      <td>4671.455319</td>\n      <td>2.486227</td>\n      <td>9.608402</td>\n      <td>NaN</td>\n      <td>0.0</td>\n      <td>NaN</td>\n      <td>NaN</td>\n      <td>NaN</td>\n    </tr>\n    <tr>\n      <th>294895</th>\n      <td>293539</td>\n      <td>293539</td>\n      <td>2017-11-01</td>\n      <td>97635</td>\n      <td>Modoc</td>\n      <td>Superior California</td>\n      <td>4.284375</td>\n      <td>1484.680000</td>\n      <td>1331.890000</td>\n      <td>0.0</td>\n      <td>0.0</td>\n      <td>0.0</td>\n      <td>0.0</td>\n      <td>0.0</td>\n      <td>0.0</td>\n      <td>17.0</td>\n      <td>12.0</td>\n      <td>5.0</td>\n      <td>0.0</td>\n      <td>0.0</td>\n      <td>0.0</td>\n      <td>17.0</td>\n      <td>12.0</td>\n      <td>5.0</td>\n      <td>214.0</td>\n      <td>113.0</td>\n      <td>101.0</td>\n      <td>0.877750</td>\n      <td>60528.982992</td>\n      <td>21.694962</td>\n      <td>1.701108</td>\n      <td>32.728486</td>\n      <td>26.375591</td>\n      <td>11.033524</td>\n      <td>4.680629</td>\n      <td>7.857076</td>\n      <td>1.990612</td>\n      <td>0.0</td>\n      <td>2.559094</td>\n      <td>59799.084409</td>\n      <td>3.809391e+07</td>\n      <td>178008.912538</td>\n      <td>-0.700000</td>\n      <td>4.800000</td>\n      <td>1</td>\n      <td>3.931250</td>\n      <td>4.015104</td>\n      <td>3.397917</td>\n      <td>3.334896</td>\n      <td>3.230339</td>\n      <td>0.335446</td>\n      <td>0.351927</td>\n      <td>0.149650</td>\n      <td>0.067154</td>\n      <td>4.487500</td>\n      <td>2017</td>\n      <td>11</td>\n      <td>0</td>\n      <td>0</td>\n      <td>0</td>\n      <td>0</td>\n      <td>0</td>\n      <td>0</td>\n      <td>0</td>\n      <td>0</td>\n      <td>0</td>\n      <td>0</td>\n      <td>0</td>\n      <td>0</td>\n      <td>0</td>\n      <td>0</td>\n      <td>0</td>\n      <td>0</td>\n      <td>0</td>\n      <td>0</td>\n      <td>0</td>\n      <td>0</td>\n      <td>0</td>\n      <td>0</td>\n      <td>0</td>\n      <td>0</td>\n      <td>1</td>\n      <td>0</td>\n      <td>0</td>\n      <td>0</td>\n      <td>0</td>\n      <td>0</td>\n      <td>0</td>\n      <td>0</td>\n      <td>0</td>\n      <td>0</td>\n      <td>0</td>\n      <td>0</td>\n      <td>0</td>\n      <td>0</td>\n      <td>0</td>\n      <td>0</td>\n      <td>0</td>\n      <td>0</td>\n      <td>0</td>\n      <td>0</td>\n      <td>0</td>\n      <td>0</td>\n      <td>0</td>\n      <td>0</td>\n      <td>0</td>\n      <td>0</td>\n      <td>0</td>\n      <td>0</td>\n      <td>0</td>\n      <td>0</td>\n      <td>0</td>\n      <td>0</td>\n      <td>0</td>\n      <td>0</td>\n      <td>0</td>\n      <td>0</td>\n      <td>0</td>\n      <td>0</td>\n      <td>0</td>\n      <td>0</td>\n      <td>0</td>\n      <td>0</td>\n      <td>0</td>\n      <td>0</td>\n      <td>1</td>\n      <td>0</td>\n      <td>2017-11</td>\n      <td>134.498873</td>\n      <td>0.0</td>\n      <td>-673.963333</td>\n      <td>0.747694</td>\n      <td>2.975230</td>\n      <td>3.196173</td>\n      <td>1.749303</td>\n      <td>46.899849</td>\n      <td>30.157308</td>\n      <td>205925.295872</td>\n      <td>2.472738</td>\n      <td>52.229601</td>\n      <td>1.051500e+07</td>\n      <td>5578.276660</td>\n      <td>2892.839642</td>\n      <td>61.980852</td>\n      <td>76.280400</td>\n      <td>91.166790</td>\n      <td>8205.011112</td>\n      <td>2.050000</td>\n      <td>-5.500000</td>\n      <td>97635-2017-11</td>\n      <td>4509.354802</td>\n      <td>2.460531</td>\n      <td>10.384643</td>\n      <td>NaN</td>\n      <td>0.0</td>\n      <td>NaN</td>\n      <td>NaN</td>\n      <td>NaN</td>\n    </tr>\n    <tr>\n      <th>294896</th>\n      <td>294896</td>\n      <td>294896</td>\n      <td>2017-12-01</td>\n      <td>97635</td>\n      <td>Modoc</td>\n      <td>Superior California</td>\n      <td>1.443750</td>\n      <td>1484.680000</td>\n      <td>1331.890000</td>\n      <td>0.0</td>\n      <td>0.0</td>\n      <td>0.0</td>\n      <td>0.0</td>\n      <td>0.0</td>\n      <td>0.0</td>\n      <td>17.0</td>\n      <td>12.0</td>\n      <td>5.0</td>\n      <td>0.0</td>\n      <td>0.0</td>\n      <td>0.0</td>\n      <td>17.0</td>\n      <td>12.0</td>\n      <td>5.0</td>\n      <td>214.0</td>\n      <td>113.0</td>\n      <td>101.0</td>\n      <td>0.877750</td>\n      <td>60528.982992</td>\n      <td>21.694962</td>\n      <td>0.889833</td>\n      <td>13.163388</td>\n      <td>-34.695874</td>\n      <td>8.531574</td>\n      <td>56.390836</td>\n      <td>32.461205</td>\n      <td>1.843755</td>\n      <td>0.0</td>\n      <td>0.973581</td>\n      <td>59799.084409</td>\n      <td>3.809391e+07</td>\n      <td>178008.912538</td>\n      <td>-5.000000</td>\n      <td>-1.716667</td>\n      <td>1</td>\n      <td>4.284375</td>\n      <td>4.361979</td>\n      <td>3.510417</td>\n      <td>3.317969</td>\n      <td>3.243620</td>\n      <td>0.011518</td>\n      <td>0.400521</td>\n      <td>0.238560</td>\n      <td>0.085686</td>\n      <td>3.581250</td>\n      <td>2017</td>\n      <td>12</td>\n      <td>0</td>\n      <td>0</td>\n      <td>0</td>\n      <td>0</td>\n      <td>0</td>\n      <td>0</td>\n      <td>0</td>\n      <td>0</td>\n      <td>0</td>\n      <td>0</td>\n      <td>0</td>\n      <td>0</td>\n      <td>0</td>\n      <td>0</td>\n      <td>0</td>\n      <td>0</td>\n      <td>0</td>\n      <td>0</td>\n      <td>0</td>\n      <td>0</td>\n      <td>0</td>\n      <td>0</td>\n      <td>0</td>\n      <td>0</td>\n      <td>1</td>\n      <td>0</td>\n      <td>0</td>\n      <td>0</td>\n      <td>0</td>\n      <td>0</td>\n      <td>0</td>\n      <td>0</td>\n      <td>0</td>\n      <td>0</td>\n      <td>0</td>\n      <td>0</td>\n      <td>0</td>\n      <td>0</td>\n      <td>0</td>\n      <td>0</td>\n      <td>0</td>\n      <td>0</td>\n      <td>0</td>\n      <td>0</td>\n      <td>0</td>\n      <td>0</td>\n      <td>0</td>\n      <td>0</td>\n      <td>0</td>\n      <td>0</td>\n      <td>0</td>\n      <td>0</td>\n      <td>0</td>\n      <td>0</td>\n      <td>0</td>\n      <td>0</td>\n      <td>0</td>\n      <td>0</td>\n      <td>0</td>\n      <td>0</td>\n      <td>0</td>\n      <td>0</td>\n      <td>0</td>\n      <td>0</td>\n      <td>0</td>\n      <td>0</td>\n      <td>0</td>\n      <td>0</td>\n      <td>0</td>\n      <td>1</td>\n      <td>2017-12</td>\n      <td>120.518339</td>\n      <td>0.0</td>\n      <td>-673.963333</td>\n      <td>1.050688</td>\n      <td>1.969792</td>\n      <td>2.021679</td>\n      <td>1.782029</td>\n      <td>40.033225</td>\n      <td>30.157308</td>\n      <td>205925.295872</td>\n      <td>1.901854</td>\n      <td>68.017008</td>\n      <td>1.383476e+07</td>\n      <td>7307.760708</td>\n      <td>3832.576691</td>\n      <td>81.197341</td>\n      <td>67.887805</td>\n      <td>81.297427</td>\n      <td>7316.768415</td>\n      <td>-3.358333</td>\n      <td>-3.283333</td>\n      <td>97635-2017-12</td>\n      <td>4468.455434</td>\n      <td>2.395122</td>\n      <td>10.102599</td>\n      <td>NaN</td>\n      <td>0.0</td>\n      <td>NaN</td>\n      <td>NaN</td>\n      <td>NaN</td>\n    </tr>\n  </tbody>\n</table>\n<p>294897 rows × 158 columns</p>\n</div>"
     },
     "metadata": {},
     "output_type": "display_data"
    }
   ],
   "source": [
    "def filter_nans(df, visits_cols = num_visits_col_names):\n",
    "    \"\"\"Function to generate columns in place that replace NaNs with 0's only if that \n",
    "    row occurred after the first non-zero/not null visit in that zipcode for the specific\n",
    "    health outcome. Keeps them as nulls otherwise.\n",
    "\n",
    "    Args:\n",
    "        df (DataFrame): Input dataframe\n",
    "        visits_cols (list, optional): list of columns to selectively filter NaNs\n",
    "    Returns:\n",
    "        DataFrame with columns replaced with their NaN-filtered versions\n",
    "    \"\"\"\n",
    "\n",
    "    def get_rowIndex(row):\n",
    "        \"\"\"Function intended for applying across df rows\n",
    "\n",
    "        Args:\n",
    "            row (int): row\n",
    "\n",
    "        Returns:\n",
    "            int: index of row\n",
    "        \"\"\"\n",
    "      \n",
    "        return row.name\n",
    "\n",
    "    def compare_and_replace(orig_visits, dataset_row_idx, school_zip):\n",
    "        \"\"\"Function intended for applying across df rows\n",
    "         Selectively replaces NaNs with 0's\n",
    "        Args:\n",
    "            orig_visits: original column that needs to be filtered\n",
    "            dataset_row_idx: column with row indices for the entire df\n",
    "            school_zip: column with school zips\n",
    "\n",
    "        Returns:\n",
    "            float or NaN\n",
    "        \"\"\"\n",
    "        \n",
    "        # school zip + zip idx\n",
    "        first_val_row_idx = dict_row_idx[school_zip]\n",
    "        zip_idx = dict_zip_idx[school_zip]\n",
    "        max_idx = dict_max_zipindex_per_zip[school_zip]\n",
    "        difference = max_idx - zip_idx + 1\n",
    "\n",
    "        # check the school zip first\n",
    "        if dataset_row_idx < first_val_row_idx:\n",
    "            orig_visits = orig_visits\n",
    "        elif (dataset_row_idx >= first_val_row_idx) and (dataset_row_idx <=  first_val_row_idx + difference):\n",
    "            if pd.isnull(orig_visits):\n",
    "                orig_visits = 0\n",
    "            else:\n",
    "                orig_visits = orig_visits\n",
    "        return orig_visits\n",
    "        \n",
    "    # group df by school_zip, year_month\n",
    "    df_grouped_schools = df.groupby(['school_zip', 'year_month']).tail(1)\n",
    "\n",
    "    #df_grouped_schools['points_rank'] = df.groupby(['team'])['points'].rank('dense', ascending=False)\n",
    "    unique_school_zips = list(df_grouped_schools['school_zip'].unique())\n",
    "\n",
    "    # generate overall row index\n",
    "    df_grouped_schools['rowIndex'] = df_grouped_schools.apply(get_rowIndex, axis=1)\n",
    "\n",
    "    # generate row indices that rest per school zip\n",
    "    df_grouped_schools['zipIndex'] = df_grouped_schools.groupby(['school_zip'])['year_month'].rank('first', ascending=True).astype(int)\n",
    "    df_grouped_schools['zipIndex'] = df_grouped_schools['zipIndex'] - 1\n",
    "\n",
    "    # generate dictionary that gets max index per school zip\n",
    "    dict_max_zipindex_per_zip = {}\n",
    "    for i in unique_school_zips:\n",
    "        dict_max_zipindex_per_zip[i] = df_grouped_schools[df_grouped_schools['school_zip']==i]['zipIndex'].max()\n",
    "\n",
    "    for i in visits_cols:\n",
    "        dict_zip_idx = {}\n",
    "        dict_row_idx = {}\n",
    "        for j in unique_school_zips:\n",
    "            temp = df_grouped_schools[df_grouped_schools['school_zip']==j]\n",
    "            #display(temp)\n",
    "            #temp['rowIndex'] = temp.apply(get_rowIndex, axis=1)\n",
    "            visits_series = pd.Series(temp[i]) # one school zip, filtered to 1 health outcome\n",
    "            #display(visits_series)\n",
    "            bool_not_null = visits_series.notnull()\n",
    "            all_indices_not_null = np.where(bool_not_null)[0]\n",
    "\n",
    "            # save index of the first non-NaN value within the zipcode indices\n",
    "            # if everything every value for zip is NaN, set value to # of records in df\n",
    "            try:\n",
    "                groupby_index = all_indices_not_null[0]\n",
    "            except IndexError:\n",
    "                groupby_index = df_grouped_schools.shape[0]\n",
    "            dict_zip_idx[j] = groupby_index\n",
    "            \n",
    "            # save index of the row from whole dataset; set value to # of records in df if not\n",
    "            try:\n",
    "                row_idx = temp.loc[temp['zipIndex'] == groupby_index, 'rowIndex'].values[0]\n",
    "            except IndexError:\n",
    "                row_idx = df_grouped_schools.shape[0]\n",
    "            dict_row_idx[j] = row_idx\n",
    "        \n",
    "        df_grouped_schools[i] = df_grouped_schools.apply(lambda row: compare_and_replace(row[i], row['rowIndex'], row['school_zip']), axis=1)\n",
    "\n",
    "    # drop rowIndex and zipIndex cols\n",
    "    df_grouped_schools.drop(columns=['rowIndex', 'zipIndex'], inplace=True)\n",
    "\n",
    "    return df_grouped_schools\n",
    "\n",
    "# call function:\n",
    "df_all = filter_nans(df_all, visits_cols = num_visits_col_names)\n",
    "display(df_all)\n"
   ]
  },
  {
   "cell_type": "markdown",
   "metadata": {
    "id": "YcarHPn2hBQb"
   },
   "source": [
    "#### 5.3. Create response variables"
   ]
  },
  {
   "cell_type": "code",
   "execution_count": 18,
   "metadata": {
    "colab": {
     "base_uri": "https://localhost:8080/",
     "height": 246
    },
    "id": "GYq0hrKVhBQb",
    "executionInfo": {
     "status": "ok",
     "timestamp": 1670216425713,
     "user_tz": 480,
     "elapsed": 381,
     "user": {
      "displayName": "Trevor Johnson",
      "userId": "10875792761423186902"
     }
    },
    "outputId": "b41256a3-aff3-42aa-865f-3118d9b85071"
   },
   "outputs": [
    {
     "name": "stdout",
     "output_type": "stream",
     "text": [
      "Shape of data  (294897, 165)\n"
     ]
    },
    {
     "data": {
      "text/plain": "   Unnamed: 0.1  Unnamed: 0  year_month  school_zip       county  \\\n0             0           0  2000-01-01       90001  Los Angeles   \n1          1322        1322  2000-02-01       90001  Los Angeles   \n\n   school_region_name       pm25  school_elevation_m  ps_elevation_m  \\\n0  Los Angeles County  32.149998           44.728889       43.703333   \n1  Los Angeles County  13.666667           44.728889       43.703333   \n\n   population_0_4  population_0_4_male  population_0_4_female  population_5_9  \\\n0          6196.0               3209.0                 2987.0          6672.0   \n1          6196.0               3209.0                 2987.0          6672.0   \n\n   population_5_9_male  population_5_9_female  population_10_14  \\\n0               3397.0                 3275.0            5562.0   \n1               3397.0                 3275.0            5562.0   \n\n   population_10_14_male  population_10_14_female  population_15_19  \\\n0                 2850.0                   2712.0            5075.0   \n1                 2850.0                   2712.0            5075.0   \n\n   population_15_19_male  population_15_19_female  total_pop_under19  \\\n0                 2599.0                   2476.0            23505.0   \n1                 2599.0                   2476.0            23505.0   \n\n   pop_under19_male  pop_under19_female  total_population  \\\n0           12055.0             11450.0           54481.0   \n1           12055.0             11450.0           54481.0   \n\n   total_population_male  total_population_female  point_source_pm25_tpy  \\\n0                27320.0                  27161.0              14.241154   \n1                27320.0                  27161.0              14.241154   \n\n   dist_school_to_ps_m  angle_to_school  ps_wspd_merge  school_wdir_wrt_0n  \\\n0          3854.812685       -90.196586       0.757031         -172.758321   \n1          3854.812685       -90.196586       0.965276           30.294778   \n\n   ps_wdir_wrt_0n  school_wind_alignment  ps_wind_alignment  \\\n0     -172.758321              82.561735          82.561735   \n1       30.294778             120.491364         120.491364   \n\n   avg_wind_alignment  avg_wind_alignment_cosine  nearby_point_source_count  \\\n0           82.561735                   1.124995                        0.0   \n1          120.491364                   0.547186                        0.0   \n\n   school_wspd  ca_agi_per_returns  total_tax_liability  \\\n0     0.757031        20049.704556            2608176.0   \n1     0.965276        20049.704556            2608176.0   \n\n   tax_liability_per_capita  school_temperature  ps_temperature  school_count  \\\n0                  47.87313           14.277778       14.266667             9   \n1                  47.87313           13.877778       13.866667             9   \n\n   pm25_last_month  pm25_r6  pm25_r9  pm25_r12  pm25_r24  pm25_slope6  \\\n0              NaN      NaN      NaN       NaN       NaN          NaN   \n1        32.149998      NaN      NaN       NaN       NaN          NaN   \n\n   pm25_slope9  pm25_slope12  pm25_slope24  pm25_lag_12mo  year  month  \\\n0          NaN           NaN           NaN            NaN  2000      1   \n1          NaN           NaN           NaN            NaN  2000      2   \n\n   school_county_v2_alameda  school_county_v2_alpine  school_county_v2_amador  \\\n0                         0                        0                        0   \n1                         0                        0                        0   \n\n   school_county_v2_butte  school_county_v2_calaveras  \\\n0                       0                           0   \n1                       0                           0   \n\n   school_county_v2_colusa  school_county_v2_contra_costa  \\\n0                        0                              0   \n1                        0                              0   \n\n   school_county_v2_del_norte  school_county_v2_el_dorado  \\\n0                           0                           0   \n1                           0                           0   \n\n   school_county_v2_fresno  school_county_v2_glenn  school_county_v2_humboldt  \\\n0                        0                       0                          0   \n1                        0                       0                          0   \n\n   school_county_v2_imperial  school_county_v2_inyo  school_county_v2_kern  \\\n0                          0                      0                      0   \n1                          0                      0                      0   \n\n   school_county_v2_kings  school_county_v2_lake  school_county_v2_lassen  \\\n0                       0                      0                        0   \n1                       0                      0                        0   \n\n   school_county_v2_los_angeles  school_county_v2_madera  \\\n0                             1                        0   \n1                             1                        0   \n\n   school_county_v2_marin  school_county_v2_mariposa  \\\n0                       0                          0   \n1                       0                          0   \n\n   school_county_v2_mendocino  school_county_v2_merced  \\\n0                           0                        0   \n1                           0                        0   \n\n   school_county_v2_modoc  school_county_v2_mono  school_county_v2_monterey  \\\n0                       0                      0                          0   \n1                       0                      0                          0   \n\n   school_county_v2_napa  school_county_v2_nevada  school_county_v2_orange  \\\n0                      0                        0                        0   \n1                      0                        0                        0   \n\n   school_county_v2_placer  school_county_v2_plumas  \\\n0                        0                        0   \n1                        0                        0   \n\n   school_county_v2_riverside  school_county_v2_sacramento  \\\n0                           0                            0   \n1                           0                            0   \n\n   school_county_v2_san_benito  school_county_v2_san_bernardino  \\\n0                            0                                0   \n1                            0                                0   \n\n   school_county_v2_san_diego  school_county_v2_san_francisco  \\\n0                           0                               0   \n1                           0                               0   \n\n   school_county_v2_san_joaquin  school_county_v2_san_luis_obispo  \\\n0                             0                                 0   \n1                             0                                 0   \n\n   school_county_v2_san_mateo  school_county_v2_santa_barbara  \\\n0                           0                               0   \n1                           0                               0   \n\n   school_county_v2_santa_clara  school_county_v2_santa_cruz  \\\n0                             0                            0   \n1                             0                            0   \n\n   school_county_v2_shasta  school_county_v2_sierra  \\\n0                        0                        0   \n1                        0                        0   \n\n   school_county_v2_siskiyou  school_county_v2_solano  \\\n0                          0                        0   \n1                          0                        0   \n\n   school_county_v2_sonoma  school_county_v2_stanislaus  \\\n0                        0                            0   \n1                        0                            0   \n\n   school_county_v2_sutter  school_county_v2_tehama  school_county_v2_trinity  \\\n0                        0                        0                         0   \n1                        0                        0                         0   \n\n   school_county_v2_tulare  school_county_v2_tuolumne  \\\n0                        0                          0   \n1                        0                          0   \n\n   school_county_v2_ventura  school_county_v2_yolo  school_county_v2_yuba  \\\n0                         0                      0                      0   \n1                         0                      0                      0   \n\n   month_01  month_02  month_03  month_04  month_05  month_06  month_07  \\\n0         1         0         0         0         0         0         0   \n1         0         1         0         0         0         0         0   \n\n   month_08  month_09  month_10  month_11  month_12      y-m  \\\n0         0         0         0         0         0  2000-01   \n1         0         0         0         0         0  2000-02   \n\n   central_wind_alignment_180_high  avg_count_ps_within_5km  \\\n0                              NaN                      NaN   \n1                              NaN                      NaN   \n\n   avg_elevation_diff_m  avg_wspd_ratio_ps_sch  avg_wspd_ratio_sch_ps  \\\n0                   NaN                    NaN                    NaN   \n1                   NaN                    NaN                    NaN   \n\n   avg_school_wspd  avg_ps_wspd  new_alignment_90_high  ps_pm25_tpy_top_20  \\\n0              NaN          NaN                    NaN                 NaN   \n1              NaN          NaN                    NaN                 NaN   \n\n   school_to_ps_geod_dist_m_top_20  avg_wspd_top_15  Izmy_v1_unnormed  \\\n0                              NaN              NaN               NaN   \n1                              NaN              NaN               NaN   \n\n   Izmy_v2_nodist_unnormed  Izmy_v3_normed_D_and_TPY  \\\n0                      NaN                       NaN   \n1                      NaN                       NaN   \n\n   Izmy_v4_nodist_normed_TPY  Izmy_v5_all_normed_but_wspd_ratio  \\\n0                        NaN                                NaN   \n1                        NaN                                NaN   \n\n   Izmy_v6_unnormed_no_wspd  Izmy_v7_all_normed_no_wspd  \\\n0                       NaN                         NaN   \n1                       NaN                         NaN   \n\n   Izmy_v8_normed_D_and_TPY_no_wspd   avg_temp  diff_temp_s_ps  \\\n0                               NaN  14.272222        0.011111   \n1                               NaN  13.872222        0.011111   \n\n  patzip_year_month  Izmy_v4_nodist_normed_TPY_r9  avg_wspd_top_15_r9  \\\n0      90001-2000-1                           NaN                 NaN   \n1      90001-2000-2                           NaN                 NaN   \n\n   avg_temp_r9  visits_hematopoietic_cancers  visits_injuries_accidents  \\\n0          NaN                           NaN                        NaN   \n1          NaN                           NaN                        NaN   \n\n   visits_type_1_diabetes  visits_pediatric_vasculitis  visits_resp_cardio  \\\n0                     NaN                          NaN                 NaN   \n1                     NaN                          NaN                 NaN   \n\n   y_visits_hematopoietic_cancers  y_visits_injuries_accidents  \\\n0                             NaN                          NaN   \n1                             NaN                          NaN   \n\n   y_visits_type_1_diabetes  y_visits_pediatric_vasculitis  \\\n0                       NaN                            NaN   \n1                       NaN                            NaN   \n\n   y_visits_resp_cardio  year_trend   county_month  \n0                   NaN           1  Los Angeles_1  \n1                   NaN           1  Los Angeles_2  ",
      "text/html": "<div>\n<style scoped>\n    .dataframe tbody tr th:only-of-type {\n        vertical-align: middle;\n    }\n\n    .dataframe tbody tr th {\n        vertical-align: top;\n    }\n\n    .dataframe thead th {\n        text-align: right;\n    }\n</style>\n<table border=\"1\" class=\"dataframe\">\n  <thead>\n    <tr style=\"text-align: right;\">\n      <th></th>\n      <th>Unnamed: 0.1</th>\n      <th>Unnamed: 0</th>\n      <th>year_month</th>\n      <th>school_zip</th>\n      <th>county</th>\n      <th>school_region_name</th>\n      <th>pm25</th>\n      <th>school_elevation_m</th>\n      <th>ps_elevation_m</th>\n      <th>population_0_4</th>\n      <th>population_0_4_male</th>\n      <th>population_0_4_female</th>\n      <th>population_5_9</th>\n      <th>population_5_9_male</th>\n      <th>population_5_9_female</th>\n      <th>population_10_14</th>\n      <th>population_10_14_male</th>\n      <th>population_10_14_female</th>\n      <th>population_15_19</th>\n      <th>population_15_19_male</th>\n      <th>population_15_19_female</th>\n      <th>total_pop_under19</th>\n      <th>pop_under19_male</th>\n      <th>pop_under19_female</th>\n      <th>total_population</th>\n      <th>total_population_male</th>\n      <th>total_population_female</th>\n      <th>point_source_pm25_tpy</th>\n      <th>dist_school_to_ps_m</th>\n      <th>angle_to_school</th>\n      <th>ps_wspd_merge</th>\n      <th>school_wdir_wrt_0n</th>\n      <th>ps_wdir_wrt_0n</th>\n      <th>school_wind_alignment</th>\n      <th>ps_wind_alignment</th>\n      <th>avg_wind_alignment</th>\n      <th>avg_wind_alignment_cosine</th>\n      <th>nearby_point_source_count</th>\n      <th>school_wspd</th>\n      <th>ca_agi_per_returns</th>\n      <th>total_tax_liability</th>\n      <th>tax_liability_per_capita</th>\n      <th>school_temperature</th>\n      <th>ps_temperature</th>\n      <th>school_count</th>\n      <th>pm25_last_month</th>\n      <th>pm25_r6</th>\n      <th>pm25_r9</th>\n      <th>pm25_r12</th>\n      <th>pm25_r24</th>\n      <th>pm25_slope6</th>\n      <th>pm25_slope9</th>\n      <th>pm25_slope12</th>\n      <th>pm25_slope24</th>\n      <th>pm25_lag_12mo</th>\n      <th>year</th>\n      <th>month</th>\n      <th>school_county_v2_alameda</th>\n      <th>school_county_v2_alpine</th>\n      <th>school_county_v2_amador</th>\n      <th>school_county_v2_butte</th>\n      <th>school_county_v2_calaveras</th>\n      <th>school_county_v2_colusa</th>\n      <th>school_county_v2_contra_costa</th>\n      <th>school_county_v2_del_norte</th>\n      <th>school_county_v2_el_dorado</th>\n      <th>school_county_v2_fresno</th>\n      <th>school_county_v2_glenn</th>\n      <th>school_county_v2_humboldt</th>\n      <th>school_county_v2_imperial</th>\n      <th>school_county_v2_inyo</th>\n      <th>school_county_v2_kern</th>\n      <th>school_county_v2_kings</th>\n      <th>school_county_v2_lake</th>\n      <th>school_county_v2_lassen</th>\n      <th>school_county_v2_los_angeles</th>\n      <th>school_county_v2_madera</th>\n      <th>school_county_v2_marin</th>\n      <th>school_county_v2_mariposa</th>\n      <th>school_county_v2_mendocino</th>\n      <th>school_county_v2_merced</th>\n      <th>school_county_v2_modoc</th>\n      <th>school_county_v2_mono</th>\n      <th>school_county_v2_monterey</th>\n      <th>school_county_v2_napa</th>\n      <th>school_county_v2_nevada</th>\n      <th>school_county_v2_orange</th>\n      <th>school_county_v2_placer</th>\n      <th>school_county_v2_plumas</th>\n      <th>school_county_v2_riverside</th>\n      <th>school_county_v2_sacramento</th>\n      <th>school_county_v2_san_benito</th>\n      <th>school_county_v2_san_bernardino</th>\n      <th>school_county_v2_san_diego</th>\n      <th>school_county_v2_san_francisco</th>\n      <th>school_county_v2_san_joaquin</th>\n      <th>school_county_v2_san_luis_obispo</th>\n      <th>school_county_v2_san_mateo</th>\n      <th>school_county_v2_santa_barbara</th>\n      <th>school_county_v2_santa_clara</th>\n      <th>school_county_v2_santa_cruz</th>\n      <th>school_county_v2_shasta</th>\n      <th>school_county_v2_sierra</th>\n      <th>school_county_v2_siskiyou</th>\n      <th>school_county_v2_solano</th>\n      <th>school_county_v2_sonoma</th>\n      <th>school_county_v2_stanislaus</th>\n      <th>school_county_v2_sutter</th>\n      <th>school_county_v2_tehama</th>\n      <th>school_county_v2_trinity</th>\n      <th>school_county_v2_tulare</th>\n      <th>school_county_v2_tuolumne</th>\n      <th>school_county_v2_ventura</th>\n      <th>school_county_v2_yolo</th>\n      <th>school_county_v2_yuba</th>\n      <th>month_01</th>\n      <th>month_02</th>\n      <th>month_03</th>\n      <th>month_04</th>\n      <th>month_05</th>\n      <th>month_06</th>\n      <th>month_07</th>\n      <th>month_08</th>\n      <th>month_09</th>\n      <th>month_10</th>\n      <th>month_11</th>\n      <th>month_12</th>\n      <th>y-m</th>\n      <th>central_wind_alignment_180_high</th>\n      <th>avg_count_ps_within_5km</th>\n      <th>avg_elevation_diff_m</th>\n      <th>avg_wspd_ratio_ps_sch</th>\n      <th>avg_wspd_ratio_sch_ps</th>\n      <th>avg_school_wspd</th>\n      <th>avg_ps_wspd</th>\n      <th>new_alignment_90_high</th>\n      <th>ps_pm25_tpy_top_20</th>\n      <th>school_to_ps_geod_dist_m_top_20</th>\n      <th>avg_wspd_top_15</th>\n      <th>Izmy_v1_unnormed</th>\n      <th>Izmy_v2_nodist_unnormed</th>\n      <th>Izmy_v3_normed_D_and_TPY</th>\n      <th>Izmy_v4_nodist_normed_TPY</th>\n      <th>Izmy_v5_all_normed_but_wspd_ratio</th>\n      <th>Izmy_v6_unnormed_no_wspd</th>\n      <th>Izmy_v7_all_normed_no_wspd</th>\n      <th>Izmy_v8_normed_D_and_TPY_no_wspd</th>\n      <th>avg_temp</th>\n      <th>diff_temp_s_ps</th>\n      <th>patzip_year_month</th>\n      <th>Izmy_v4_nodist_normed_TPY_r9</th>\n      <th>avg_wspd_top_15_r9</th>\n      <th>avg_temp_r9</th>\n      <th>visits_hematopoietic_cancers</th>\n      <th>visits_injuries_accidents</th>\n      <th>visits_type_1_diabetes</th>\n      <th>visits_pediatric_vasculitis</th>\n      <th>visits_resp_cardio</th>\n      <th>y_visits_hematopoietic_cancers</th>\n      <th>y_visits_injuries_accidents</th>\n      <th>y_visits_type_1_diabetes</th>\n      <th>y_visits_pediatric_vasculitis</th>\n      <th>y_visits_resp_cardio</th>\n      <th>year_trend</th>\n      <th>county_month</th>\n    </tr>\n  </thead>\n  <tbody>\n    <tr>\n      <th>0</th>\n      <td>0</td>\n      <td>0</td>\n      <td>2000-01-01</td>\n      <td>90001</td>\n      <td>Los Angeles</td>\n      <td>Los Angeles County</td>\n      <td>32.149998</td>\n      <td>44.728889</td>\n      <td>43.703333</td>\n      <td>6196.0</td>\n      <td>3209.0</td>\n      <td>2987.0</td>\n      <td>6672.0</td>\n      <td>3397.0</td>\n      <td>3275.0</td>\n      <td>5562.0</td>\n      <td>2850.0</td>\n      <td>2712.0</td>\n      <td>5075.0</td>\n      <td>2599.0</td>\n      <td>2476.0</td>\n      <td>23505.0</td>\n      <td>12055.0</td>\n      <td>11450.0</td>\n      <td>54481.0</td>\n      <td>27320.0</td>\n      <td>27161.0</td>\n      <td>14.241154</td>\n      <td>3854.812685</td>\n      <td>-90.196586</td>\n      <td>0.757031</td>\n      <td>-172.758321</td>\n      <td>-172.758321</td>\n      <td>82.561735</td>\n      <td>82.561735</td>\n      <td>82.561735</td>\n      <td>1.124995</td>\n      <td>0.0</td>\n      <td>0.757031</td>\n      <td>20049.704556</td>\n      <td>2608176.0</td>\n      <td>47.87313</td>\n      <td>14.277778</td>\n      <td>14.266667</td>\n      <td>9</td>\n      <td>NaN</td>\n      <td>NaN</td>\n      <td>NaN</td>\n      <td>NaN</td>\n      <td>NaN</td>\n      <td>NaN</td>\n      <td>NaN</td>\n      <td>NaN</td>\n      <td>NaN</td>\n      <td>NaN</td>\n      <td>2000</td>\n      <td>1</td>\n      <td>0</td>\n      <td>0</td>\n      <td>0</td>\n      <td>0</td>\n      <td>0</td>\n      <td>0</td>\n      <td>0</td>\n      <td>0</td>\n      <td>0</td>\n      <td>0</td>\n      <td>0</td>\n      <td>0</td>\n      <td>0</td>\n      <td>0</td>\n      <td>0</td>\n      <td>0</td>\n      <td>0</td>\n      <td>0</td>\n      <td>1</td>\n      <td>0</td>\n      <td>0</td>\n      <td>0</td>\n      <td>0</td>\n      <td>0</td>\n      <td>0</td>\n      <td>0</td>\n      <td>0</td>\n      <td>0</td>\n      <td>0</td>\n      <td>0</td>\n      <td>0</td>\n      <td>0</td>\n      <td>0</td>\n      <td>0</td>\n      <td>0</td>\n      <td>0</td>\n      <td>0</td>\n      <td>0</td>\n      <td>0</td>\n      <td>0</td>\n      <td>0</td>\n      <td>0</td>\n      <td>0</td>\n      <td>0</td>\n      <td>0</td>\n      <td>0</td>\n      <td>0</td>\n      <td>0</td>\n      <td>0</td>\n      <td>0</td>\n      <td>0</td>\n      <td>0</td>\n      <td>0</td>\n      <td>0</td>\n      <td>0</td>\n      <td>0</td>\n      <td>0</td>\n      <td>0</td>\n      <td>1</td>\n      <td>0</td>\n      <td>0</td>\n      <td>0</td>\n      <td>0</td>\n      <td>0</td>\n      <td>0</td>\n      <td>0</td>\n      <td>0</td>\n      <td>0</td>\n      <td>0</td>\n      <td>0</td>\n      <td>2000-01</td>\n      <td>NaN</td>\n      <td>NaN</td>\n      <td>NaN</td>\n      <td>NaN</td>\n      <td>NaN</td>\n      <td>NaN</td>\n      <td>NaN</td>\n      <td>NaN</td>\n      <td>NaN</td>\n      <td>NaN</td>\n      <td>NaN</td>\n      <td>NaN</td>\n      <td>NaN</td>\n      <td>NaN</td>\n      <td>NaN</td>\n      <td>NaN</td>\n      <td>NaN</td>\n      <td>NaN</td>\n      <td>NaN</td>\n      <td>14.272222</td>\n      <td>0.011111</td>\n      <td>90001-2000-1</td>\n      <td>NaN</td>\n      <td>NaN</td>\n      <td>NaN</td>\n      <td>NaN</td>\n      <td>NaN</td>\n      <td>NaN</td>\n      <td>NaN</td>\n      <td>NaN</td>\n      <td>NaN</td>\n      <td>NaN</td>\n      <td>NaN</td>\n      <td>NaN</td>\n      <td>NaN</td>\n      <td>1</td>\n      <td>Los Angeles_1</td>\n    </tr>\n    <tr>\n      <th>1</th>\n      <td>1322</td>\n      <td>1322</td>\n      <td>2000-02-01</td>\n      <td>90001</td>\n      <td>Los Angeles</td>\n      <td>Los Angeles County</td>\n      <td>13.666667</td>\n      <td>44.728889</td>\n      <td>43.703333</td>\n      <td>6196.0</td>\n      <td>3209.0</td>\n      <td>2987.0</td>\n      <td>6672.0</td>\n      <td>3397.0</td>\n      <td>3275.0</td>\n      <td>5562.0</td>\n      <td>2850.0</td>\n      <td>2712.0</td>\n      <td>5075.0</td>\n      <td>2599.0</td>\n      <td>2476.0</td>\n      <td>23505.0</td>\n      <td>12055.0</td>\n      <td>11450.0</td>\n      <td>54481.0</td>\n      <td>27320.0</td>\n      <td>27161.0</td>\n      <td>14.241154</td>\n      <td>3854.812685</td>\n      <td>-90.196586</td>\n      <td>0.965276</td>\n      <td>30.294778</td>\n      <td>30.294778</td>\n      <td>120.491364</td>\n      <td>120.491364</td>\n      <td>120.491364</td>\n      <td>0.547186</td>\n      <td>0.0</td>\n      <td>0.965276</td>\n      <td>20049.704556</td>\n      <td>2608176.0</td>\n      <td>47.87313</td>\n      <td>13.877778</td>\n      <td>13.866667</td>\n      <td>9</td>\n      <td>32.149998</td>\n      <td>NaN</td>\n      <td>NaN</td>\n      <td>NaN</td>\n      <td>NaN</td>\n      <td>NaN</td>\n      <td>NaN</td>\n      <td>NaN</td>\n      <td>NaN</td>\n      <td>NaN</td>\n      <td>2000</td>\n      <td>2</td>\n      <td>0</td>\n      <td>0</td>\n      <td>0</td>\n      <td>0</td>\n      <td>0</td>\n      <td>0</td>\n      <td>0</td>\n      <td>0</td>\n      <td>0</td>\n      <td>0</td>\n      <td>0</td>\n      <td>0</td>\n      <td>0</td>\n      <td>0</td>\n      <td>0</td>\n      <td>0</td>\n      <td>0</td>\n      <td>0</td>\n      <td>1</td>\n      <td>0</td>\n      <td>0</td>\n      <td>0</td>\n      <td>0</td>\n      <td>0</td>\n      <td>0</td>\n      <td>0</td>\n      <td>0</td>\n      <td>0</td>\n      <td>0</td>\n      <td>0</td>\n      <td>0</td>\n      <td>0</td>\n      <td>0</td>\n      <td>0</td>\n      <td>0</td>\n      <td>0</td>\n      <td>0</td>\n      <td>0</td>\n      <td>0</td>\n      <td>0</td>\n      <td>0</td>\n      <td>0</td>\n      <td>0</td>\n      <td>0</td>\n      <td>0</td>\n      <td>0</td>\n      <td>0</td>\n      <td>0</td>\n      <td>0</td>\n      <td>0</td>\n      <td>0</td>\n      <td>0</td>\n      <td>0</td>\n      <td>0</td>\n      <td>0</td>\n      <td>0</td>\n      <td>0</td>\n      <td>0</td>\n      <td>0</td>\n      <td>1</td>\n      <td>0</td>\n      <td>0</td>\n      <td>0</td>\n      <td>0</td>\n      <td>0</td>\n      <td>0</td>\n      <td>0</td>\n      <td>0</td>\n      <td>0</td>\n      <td>0</td>\n      <td>2000-02</td>\n      <td>NaN</td>\n      <td>NaN</td>\n      <td>NaN</td>\n      <td>NaN</td>\n      <td>NaN</td>\n      <td>NaN</td>\n      <td>NaN</td>\n      <td>NaN</td>\n      <td>NaN</td>\n      <td>NaN</td>\n      <td>NaN</td>\n      <td>NaN</td>\n      <td>NaN</td>\n      <td>NaN</td>\n      <td>NaN</td>\n      <td>NaN</td>\n      <td>NaN</td>\n      <td>NaN</td>\n      <td>NaN</td>\n      <td>13.872222</td>\n      <td>0.011111</td>\n      <td>90001-2000-2</td>\n      <td>NaN</td>\n      <td>NaN</td>\n      <td>NaN</td>\n      <td>NaN</td>\n      <td>NaN</td>\n      <td>NaN</td>\n      <td>NaN</td>\n      <td>NaN</td>\n      <td>NaN</td>\n      <td>NaN</td>\n      <td>NaN</td>\n      <td>NaN</td>\n      <td>NaN</td>\n      <td>1</td>\n      <td>Los Angeles_2</td>\n    </tr>\n  </tbody>\n</table>\n</div>"
     },
     "execution_count": 18,
     "metadata": {},
     "output_type": "execute_result"
    }
   ],
   "source": [
    "# Create response variables, which is visits / population\n",
    "for col in num_visits_col_names:\n",
    "    df_all['y_'+col] = 1000 * df_all[col] / df_all['total_pop_under19']\n",
    "    \n",
    "# add year trend\n",
    "year_map = {label: idx for idx, label in enumerate(np.sort(df_all.year.unique()))}\n",
    "df_all[\"year_trend\"] = df_all.year.map(year_map)\n",
    "df_all[\"year_trend\"] = df_all.year_trend + 1\n",
    "\n",
    "# create county_month \n",
    "df_all['county_month'] = df_all.school_county_v2 + '_' + df_all.month.astype(str)\n",
    "\n",
    "# rename school_county_v2\n",
    "df_all.rename(columns={'school_county_v2': 'county'}, inplace=True)\n",
    "\n",
    "# reset index\n",
    "df_all.reset_index(drop=True, inplace=True)\n",
    "\n",
    "# print shape of data\n",
    "print('Shape of data ', df_all.shape) # Old shape of data  (294897, 174)\n",
    "df_all.head(2)"
   ]
  },
  {
   "cell_type": "markdown",
   "metadata": {
    "id": "XyC7Tm1chBQc"
   },
   "source": [
    "#### 5.4. Generate LAG rolling windows on Health Outcomes"
   ]
  },
  {
   "cell_type": "code",
   "execution_count": 19,
   "metadata": {
    "id": "3JNZH_iihBQc",
    "executionInfo": {
     "status": "ok",
     "timestamp": 1670216425714,
     "user_tz": 480,
     "elapsed": 5,
     "user": {
      "displayName": "Trevor Johnson",
      "userId": "10875792761423186902"
     }
    }
   },
   "outputs": [],
   "source": [
    "# get rolling n month sum\n",
    "\n",
    "def create_rolling_sum(df, var_name:str = 'number_of_visits_hem_cancers', num_months=3, center_arg:bool = False):\n",
    "  \"\"\"\n",
    "    Creates rolling sums for the number of visits for a given health outcome. \n",
    "    Overwrite your dataframe with the output.\n",
    "    Function saves the result as a column into the dataframe with subscripts \n",
    "    - '{var_name}_fwd{number of months}' for forward sums\n",
    "    - '{var_name}_cent{number of months}' for centered sums\n",
    "\n",
    "    Function includes the current month as one of the months in num_months.\n",
    "\n",
    "    Dataframe input MUST be sorted by ['school_zip', 'year_month'] ahead of time.\n",
    "\n",
    "    `df = df.sort_values(['school_zip', 'year_month'])`\n",
    "\n",
    "    Suggested: filter out tail end of dates so rolling averages are not filled with imputed values.\n",
    "\n",
    "  Args:\n",
    "      `df` (dataframe): dataframe having columns for 'school_zip', datetime 'year_month', and number of visits. Dataframe must be sorted by \n",
    "      `var_name` (str, optional): health outcome number of visits. Defaults to 'number_of_visits_hem_cancers'.\n",
    "      `num_months` (int, optional): Number of months to take rolling sum over. Defaults to 3.\n",
    "      `center_arg` (bool, optional): If this sum should be centered on current month. Defaults to False.\n",
    "\n",
    "  Returns:\n",
    "      `df_int`: returns dataframe with column added\n",
    "  \"\"\"\n",
    "  df_int = df.copy().sort_values(['school_zip', 'year_month'])\n",
    "  \n",
    "  if center_arg:\n",
    "    df_int[f'{var_name}_cent{num_months}'] = df_int.groupby('school_zip')[var_name]\\\n",
    "                                      .apply(lambda x:x.rolling(num_months, center=True).sum())\n",
    "  else:\n",
    "    df_int[f'{var_name}_fwd{num_months}'] = df_int.groupby('school_zip')[var_name]\\\n",
    "                                      .apply(lambda x:x.rolling(num_months).sum().shift(1-num_months))\n",
    "\n",
    "  \n",
    "  return df_int "
   ]
  },
  {
   "cell_type": "code",
   "execution_count": 68,
   "metadata": {
    "colab": {
     "base_uri": "https://localhost:8080/"
    },
    "id": "j5g6uhtOhBQc",
    "executionInfo": {
     "status": "ok",
     "timestamp": 1670216436591,
     "user_tz": 480,
     "elapsed": 10881,
     "user": {
      "displayName": "Trevor Johnson",
      "userId": "10875792761423186902"
     }
    },
    "outputId": "a2420b27-1d23-499c-96b7-a4588946f646"
   },
   "outputs": [
    {
     "output_type": "stream",
     "name": "stdout",
     "text": [
      "\n",
      "Columns added for health outcomes using 3 month window:\n",
      "['visits_hematopoietic_cancers_fwd3', 'y_visits_hematopoietic_cancers_fwd3', 'visits_hematopoietic_cancers_cent3', 'y_visits_hematopoietic_cancers_cent3', 'visits_resp_cardio_fwd3', 'y_visits_resp_cardio_fwd3', 'visits_resp_cardio_cent3', 'y_visits_resp_cardio_cent3', 'visits_pediatric_vasculitis_fwd3', 'y_visits_pediatric_vasculitis_fwd3', 'visits_pediatric_vasculitis_cent3', 'y_visits_pediatric_vasculitis_cent3', 'visits_injuries_accidents_fwd3', 'y_visits_injuries_accidents_fwd3', 'visits_injuries_accidents_cent3', 'y_visits_injuries_accidents_cent3', 'visits_type_1_diabetes_fwd3', 'y_visits_type_1_diabetes_fwd3', 'visits_type_1_diabetes_cent3', 'y_visits_type_1_diabetes_cent3']\n"
     ]
    }
   ],
   "source": [
    "df_all = df_all.sort_values(['school_zip', 'year_month'])\n",
    "starting_cols = list(df_all.columns)\n",
    "\n",
    "# 3 months ---\n",
    "n = int(lag_time) # specify number of months\n",
    "\n",
    "for health_outcome_y_col, health_outcome_visits_col in zip(y_col_names, num_visits_col_names):\n",
    "    # forward looking columns\n",
    "    df_all = create_rolling_sum(df=df_all, var_name=health_outcome_visits_col, num_months=n, center_arg=False)\n",
    "    df_all[f'{health_outcome_y_col}_fwd{n}'] = 1000 * df_all[f'{health_outcome_visits_col}_fwd{n}'] / df_all['total_pop_under19']\n",
    "\n",
    "    # centered columns\n",
    "    df_all = create_rolling_sum(df=df_all, var_name=health_outcome_visits_col, num_months=n, center_arg=True)\n",
    "    df_all[f'{health_outcome_y_col}_cent{n}'] = 1000 * df_all[f'{health_outcome_visits_col}_cent{n}'] / df_all['total_pop_under19']\n",
    "\n",
    "# print columns added\n",
    "ending_cols = list(df_all.columns)\n",
    "window_3months_columns = [c for c in ending_cols if c not in starting_cols]\n",
    "print(f\"\\nColumns added for health outcomes using {n} month window:\\n{window_3months_columns}\")\n",
    "starting_cols = list(df_all.columns)"
   ]
  },
  {
   "cell_type": "markdown",
   "metadata": {
    "id": "ha4VkmD0hBQc"
   },
   "source": [
    "#### 5.5. Filter out 2018 Data"
   ]
  },
  {
   "cell_type": "code",
   "execution_count": 69,
   "metadata": {
    "colab": {
     "base_uri": "https://localhost:8080/"
    },
    "id": "AHsglJUJhBQc",
    "executionInfo": {
     "status": "ok",
     "timestamp": 1670216436592,
     "user_tz": 480,
     "elapsed": 18,
     "user": {
      "displayName": "Trevor Johnson",
      "userId": "10875792761423186902"
     }
    },
    "outputId": "0ea3d9a5-ad8e-4ec5-b9ce-918291a094d9"
   },
   "outputs": [
    {
     "output_type": "stream",
     "name": "stdout",
     "text": [
      "2002\n",
      "2017\n"
     ]
    }
   ],
   "source": [
    "#filter data to appropriate data range\n",
    "df_all = df_all[df_all.year >= 2002]\n",
    "\n",
    "print(min(df_all.year))\n",
    "print(max(df_all.year))"
   ]
  },
  {
   "cell_type": "code",
   "execution_count": 70,
   "metadata": {
    "colab": {
     "base_uri": "https://localhost:8080/",
     "height": 374
    },
    "id": "0AG_rXqQhBQc",
    "executionInfo": {
     "status": "ok",
     "timestamp": 1670216436791,
     "user_tz": 480,
     "elapsed": 211,
     "user": {
      "displayName": "Trevor Johnson",
      "userId": "10875792761423186902"
     }
    },
    "outputId": "07e2a916-8878-457d-997f-34f123706d98"
   },
   "outputs": [
    {
     "output_type": "execute_result",
     "data": {
      "text/plain": [
       "    Unnamed: 0  Unnamed: 0.1  year_month  school_zip       county  \\\n",
       "24       32223         32223  2002-01-01       90001  Los Angeles   \n",
       "25       33586         33586  2002-02-01       90001  Los Angeles   \n",
       "26       34949         34949  2002-03-01       90001  Los Angeles   \n",
       "27       36312         36312  2002-04-01       90001  Los Angeles   \n",
       "28       37675         37675  2002-05-01       90001  Los Angeles   \n",
       "\n",
       "    school_region_name       pm25  school_elevation_m  ps_elevation_m  \\\n",
       "24  Los Angeles County  25.950000           44.728889       43.703333   \n",
       "25  Los Angeles County  28.033333           44.728889       43.703333   \n",
       "26  Los Angeles County  16.000000           44.728889       43.703333   \n",
       "27  Los Angeles County  17.416666           44.728889       43.703333   \n",
       "28  Los Angeles County  14.183333           44.728889       43.703333   \n",
       "\n",
       "    population_0_4  population_0_4_male  population_0_4_female  \\\n",
       "24          6104.0               3152.0                 2952.0   \n",
       "25          6104.0               3152.0                 2952.0   \n",
       "26          6104.0               3152.0                 2952.0   \n",
       "27          6104.0               3152.0                 2952.0   \n",
       "28          6104.0               3152.0                 2952.0   \n",
       "\n",
       "    population_5_9  population_5_9_male  population_5_9_female  \\\n",
       "24          6402.0               3247.0                 3155.0   \n",
       "25          6402.0               3247.0                 3155.0   \n",
       "26          6402.0               3247.0                 3155.0   \n",
       "27          6402.0               3247.0                 3155.0   \n",
       "28          6402.0               3247.0                 3155.0   \n",
       "\n",
       "    population_10_14  population_10_14_male  population_10_14_female  \\\n",
       "24            5548.0                 2833.0                   2715.0   \n",
       "25            5548.0                 2833.0                   2715.0   \n",
       "26            5548.0                 2833.0                   2715.0   \n",
       "27            5548.0                 2833.0                   2715.0   \n",
       "28            5548.0                 2833.0                   2715.0   \n",
       "\n",
       "    population_15_19  population_15_19_male  population_15_19_female  \\\n",
       "24            5176.0                 2644.0                   2532.0   \n",
       "25            5176.0                 2644.0                   2532.0   \n",
       "26            5176.0                 2644.0                   2532.0   \n",
       "27            5176.0                 2644.0                   2532.0   \n",
       "28            5176.0                 2644.0                   2532.0   \n",
       "\n",
       "    total_pop_under19  pop_under19_male  pop_under19_female  total_population  \\\n",
       "24            23230.0           11876.0             11354.0           55007.0   \n",
       "25            23230.0           11876.0             11354.0           55007.0   \n",
       "26            23230.0           11876.0             11354.0           55007.0   \n",
       "27            23230.0           11876.0             11354.0           55007.0   \n",
       "28            23230.0           11876.0             11354.0           55007.0   \n",
       "\n",
       "    total_population_male  total_population_female  point_source_pm25_tpy  \\\n",
       "24                27550.0                  27457.0              14.241154   \n",
       "25                27550.0                  27457.0              14.241154   \n",
       "26                27550.0                  27457.0              14.241154   \n",
       "27                27550.0                  27457.0              14.241154   \n",
       "28                27550.0                  27457.0              14.241154   \n",
       "\n",
       "    dist_school_to_ps_m  angle_to_school  ps_wspd_merge  school_wdir_wrt_0n  \\\n",
       "24          3854.812685       -90.196586       0.946478         -154.458522   \n",
       "25          3854.812685       -90.196586       0.878908         -142.038961   \n",
       "26          3854.812685       -90.196586       0.838772          114.546194   \n",
       "27          3854.812685       -90.196586       1.540807           69.168835   \n",
       "28          3854.812685       -90.196586       1.434252           56.411179   \n",
       "\n",
       "    ps_wdir_wrt_0n  school_wind_alignment  ps_wind_alignment  \\\n",
       "24     -154.458522              64.261936          64.261936   \n",
       "25     -142.038961              51.842374          51.842374   \n",
       "26      114.546194             144.935022         144.935022   \n",
       "27       69.168835             154.275478         154.275478   \n",
       "28       56.411179             146.607765         146.607765   \n",
       "\n",
       "    avg_wind_alignment  avg_wind_alignment_cosine  nearby_point_source_count  \\\n",
       "24           64.261936                   1.389537                        0.0   \n",
       "25           51.842374                   1.548127                        0.0   \n",
       "26          144.935022                   0.213574                        0.0   \n",
       "27          154.275478                   0.180018                        0.0   \n",
       "28          146.607765                   0.265553                        0.0   \n",
       "\n",
       "    school_wspd  ca_agi_per_returns  total_tax_liability  \\\n",
       "24     0.946478        20914.811067            2417758.0   \n",
       "25     0.878908        20914.811067            2417758.0   \n",
       "26     0.838772        20914.811067            2417758.0   \n",
       "27     1.540807        20914.811067            2417758.0   \n",
       "28     1.434252        20914.811067            2417758.0   \n",
       "\n",
       "    tax_liability_per_capita  school_temperature  ps_temperature  \\\n",
       "24                 43.953642           13.055556       13.533333   \n",
       "25                 43.953642           14.955556       14.766667   \n",
       "26                 43.953642           14.677778       14.666667   \n",
       "27                 43.953642           14.955556       15.133333   \n",
       "28                 43.953642           17.177778       17.166667   \n",
       "\n",
       "    school_count  pm25_last_month    pm25_r6    pm25_r9   pm25_r12   pm25_r24  \\\n",
       "24             9        24.250000  23.711111  21.916667  21.534722  21.597222   \n",
       "25             9        25.950000  24.886111  22.851852  21.288889  21.338889   \n",
       "26             9        28.033333  26.305556  23.625926  22.612500  21.937500   \n",
       "27             9        16.000000  26.030556  23.583333  22.269444  21.888194   \n",
       "28             9        17.416666  23.780555  23.418518  22.259722  21.890278   \n",
       "\n",
       "    pm25_slope6  pm25_slope9  pm25_slope12  pm25_slope24  pm25_lag_12mo  year  \\\n",
       "24     2.130476     1.409722      0.674301      0.182174      28.900000  2002   \n",
       "25     1.488095     1.313333      1.178904      0.340406      12.150000  2002   \n",
       "26     0.863809     1.510000      1.022902      0.323957      20.116667  2002   \n",
       "27    -2.339524     0.398056      0.655128      0.212906      17.533333  2002   \n",
       "28    -2.592857    -0.403333      0.253205      0.119043      21.066666  2002   \n",
       "\n",
       "    month  school_county_v2_alameda  school_county_v2_alpine  \\\n",
       "24      1                         0                        0   \n",
       "25      2                         0                        0   \n",
       "26      3                         0                        0   \n",
       "27      4                         0                        0   \n",
       "28      5                         0                        0   \n",
       "\n",
       "    school_county_v2_amador  school_county_v2_butte  \\\n",
       "24                        0                       0   \n",
       "25                        0                       0   \n",
       "26                        0                       0   \n",
       "27                        0                       0   \n",
       "28                        0                       0   \n",
       "\n",
       "    school_county_v2_calaveras  school_county_v2_colusa  \\\n",
       "24                           0                        0   \n",
       "25                           0                        0   \n",
       "26                           0                        0   \n",
       "27                           0                        0   \n",
       "28                           0                        0   \n",
       "\n",
       "    school_county_v2_contra_costa  school_county_v2_del_norte  \\\n",
       "24                              0                           0   \n",
       "25                              0                           0   \n",
       "26                              0                           0   \n",
       "27                              0                           0   \n",
       "28                              0                           0   \n",
       "\n",
       "    school_county_v2_el_dorado  school_county_v2_fresno  \\\n",
       "24                           0                        0   \n",
       "25                           0                        0   \n",
       "26                           0                        0   \n",
       "27                           0                        0   \n",
       "28                           0                        0   \n",
       "\n",
       "    school_county_v2_glenn  school_county_v2_humboldt  \\\n",
       "24                       0                          0   \n",
       "25                       0                          0   \n",
       "26                       0                          0   \n",
       "27                       0                          0   \n",
       "28                       0                          0   \n",
       "\n",
       "    school_county_v2_imperial  school_county_v2_inyo  school_county_v2_kern  \\\n",
       "24                          0                      0                      0   \n",
       "25                          0                      0                      0   \n",
       "26                          0                      0                      0   \n",
       "27                          0                      0                      0   \n",
       "28                          0                      0                      0   \n",
       "\n",
       "    school_county_v2_kings  school_county_v2_lake  school_county_v2_lassen  \\\n",
       "24                       0                      0                        0   \n",
       "25                       0                      0                        0   \n",
       "26                       0                      0                        0   \n",
       "27                       0                      0                        0   \n",
       "28                       0                      0                        0   \n",
       "\n",
       "    school_county_v2_los_angeles  school_county_v2_madera  \\\n",
       "24                             1                        0   \n",
       "25                             1                        0   \n",
       "26                             1                        0   \n",
       "27                             1                        0   \n",
       "28                             1                        0   \n",
       "\n",
       "    school_county_v2_marin  school_county_v2_mariposa  \\\n",
       "24                       0                          0   \n",
       "25                       0                          0   \n",
       "26                       0                          0   \n",
       "27                       0                          0   \n",
       "28                       0                          0   \n",
       "\n",
       "    school_county_v2_mendocino  school_county_v2_merced  \\\n",
       "24                           0                        0   \n",
       "25                           0                        0   \n",
       "26                           0                        0   \n",
       "27                           0                        0   \n",
       "28                           0                        0   \n",
       "\n",
       "    school_county_v2_modoc  school_county_v2_mono  school_county_v2_monterey  \\\n",
       "24                       0                      0                          0   \n",
       "25                       0                      0                          0   \n",
       "26                       0                      0                          0   \n",
       "27                       0                      0                          0   \n",
       "28                       0                      0                          0   \n",
       "\n",
       "    school_county_v2_napa  school_county_v2_nevada  school_county_v2_orange  \\\n",
       "24                      0                        0                        0   \n",
       "25                      0                        0                        0   \n",
       "26                      0                        0                        0   \n",
       "27                      0                        0                        0   \n",
       "28                      0                        0                        0   \n",
       "\n",
       "    school_county_v2_placer  school_county_v2_plumas  \\\n",
       "24                        0                        0   \n",
       "25                        0                        0   \n",
       "26                        0                        0   \n",
       "27                        0                        0   \n",
       "28                        0                        0   \n",
       "\n",
       "    school_county_v2_riverside  school_county_v2_sacramento  \\\n",
       "24                           0                            0   \n",
       "25                           0                            0   \n",
       "26                           0                            0   \n",
       "27                           0                            0   \n",
       "28                           0                            0   \n",
       "\n",
       "    school_county_v2_san_benito  school_county_v2_san_bernardino  \\\n",
       "24                            0                                0   \n",
       "25                            0                                0   \n",
       "26                            0                                0   \n",
       "27                            0                                0   \n",
       "28                            0                                0   \n",
       "\n",
       "    school_county_v2_san_diego  school_county_v2_san_francisco  \\\n",
       "24                           0                               0   \n",
       "25                           0                               0   \n",
       "26                           0                               0   \n",
       "27                           0                               0   \n",
       "28                           0                               0   \n",
       "\n",
       "    school_county_v2_san_joaquin  school_county_v2_san_luis_obispo  \\\n",
       "24                             0                                 0   \n",
       "25                             0                                 0   \n",
       "26                             0                                 0   \n",
       "27                             0                                 0   \n",
       "28                             0                                 0   \n",
       "\n",
       "    school_county_v2_san_mateo  school_county_v2_santa_barbara  \\\n",
       "24                           0                               0   \n",
       "25                           0                               0   \n",
       "26                           0                               0   \n",
       "27                           0                               0   \n",
       "28                           0                               0   \n",
       "\n",
       "    school_county_v2_santa_clara  school_county_v2_santa_cruz  \\\n",
       "24                             0                            0   \n",
       "25                             0                            0   \n",
       "26                             0                            0   \n",
       "27                             0                            0   \n",
       "28                             0                            0   \n",
       "\n",
       "    school_county_v2_shasta  school_county_v2_sierra  \\\n",
       "24                        0                        0   \n",
       "25                        0                        0   \n",
       "26                        0                        0   \n",
       "27                        0                        0   \n",
       "28                        0                        0   \n",
       "\n",
       "    school_county_v2_siskiyou  school_county_v2_solano  \\\n",
       "24                          0                        0   \n",
       "25                          0                        0   \n",
       "26                          0                        0   \n",
       "27                          0                        0   \n",
       "28                          0                        0   \n",
       "\n",
       "    school_county_v2_sonoma  school_county_v2_stanislaus  \\\n",
       "24                        0                            0   \n",
       "25                        0                            0   \n",
       "26                        0                            0   \n",
       "27                        0                            0   \n",
       "28                        0                            0   \n",
       "\n",
       "    school_county_v2_sutter  school_county_v2_tehama  \\\n",
       "24                        0                        0   \n",
       "25                        0                        0   \n",
       "26                        0                        0   \n",
       "27                        0                        0   \n",
       "28                        0                        0   \n",
       "\n",
       "    school_county_v2_trinity  school_county_v2_tulare  \\\n",
       "24                         0                        0   \n",
       "25                         0                        0   \n",
       "26                         0                        0   \n",
       "27                         0                        0   \n",
       "28                         0                        0   \n",
       "\n",
       "    school_county_v2_tuolumne  school_county_v2_ventura  \\\n",
       "24                          0                         0   \n",
       "25                          0                         0   \n",
       "26                          0                         0   \n",
       "27                          0                         0   \n",
       "28                          0                         0   \n",
       "\n",
       "    school_county_v2_yolo  school_county_v2_yuba  month_01  month_02  \\\n",
       "24                      0                      0         1         0   \n",
       "25                      0                      0         0         1   \n",
       "26                      0                      0         0         0   \n",
       "27                      0                      0         0         0   \n",
       "28                      0                      0         0         0   \n",
       "\n",
       "    month_03  month_04  month_05  month_06  month_07  month_08  month_09  \\\n",
       "24         0         0         0         0         0         0         0   \n",
       "25         0         0         0         0         0         0         0   \n",
       "26         1         0         0         0         0         0         0   \n",
       "27         0         1         0         0         0         0         0   \n",
       "28         0         0         1         0         0         0         0   \n",
       "\n",
       "    month_10  month_11  month_12      y-m  central_wind_alignment_180_high  \\\n",
       "24         0         0         0  2002-01                       117.636643   \n",
       "25         0         0         0  2002-02                       119.175049   \n",
       "26         0         0         0  2002-03                       107.745856   \n",
       "27         0         0         0  2002-04                       102.970854   \n",
       "28         0         0         0  2002-05                       107.127111   \n",
       "\n",
       "    avg_count_ps_within_5km  avg_elevation_diff_m  avg_wspd_ratio_ps_sch  \\\n",
       "24                 4.111111              3.447556               1.509384   \n",
       "25                 4.111111              3.447556               1.444129   \n",
       "26                 4.111111              3.447556               1.697081   \n",
       "27                 4.111111              3.447556               1.648185   \n",
       "28                 4.111111              3.447556               1.538614   \n",
       "\n",
       "    avg_wspd_ratio_sch_ps  avg_school_wspd  avg_ps_wspd  \\\n",
       "24               1.307353         1.613005     1.743079   \n",
       "25               1.349644         1.652421     1.766985   \n",
       "26               1.160436         1.807605     2.121729   \n",
       "27               1.106946         1.811403     2.160225   \n",
       "28               1.138897         1.943726     2.168665   \n",
       "\n",
       "    new_alignment_90_high  ps_pm25_tpy_top_20  \\\n",
       "24              37.446118           13.762825   \n",
       "25              38.882521           13.762825   \n",
       "26              32.967885           13.762825   \n",
       "27              31.818883           13.762825   \n",
       "28              33.832766           13.762825   \n",
       "\n",
       "    school_to_ps_geod_dist_m_top_20  avg_wspd_top_15  Izmy_v1_unnormed  \\\n",
       "24                      7791.520434         1.678042       1552.939135   \n",
       "25                      7791.520434         1.709703       1348.200403   \n",
       "26                      7791.520434         1.964667       1530.916801   \n",
       "27                      7791.520434         1.985814       1478.551502   \n",
       "28                      7791.520434         2.056196       1399.102240   \n",
       "\n",
       "    Izmy_v2_nodist_unnormed  Izmy_v3_normed_D_and_TPY  \\\n",
       "24             9.453577e+06             143902.950254   \n",
       "25             8.482820e+06             125657.303224   \n",
       "26             9.595257e+06             142387.717953   \n",
       "27             9.253535e+06             138295.675109   \n",
       "28             9.067496e+06             131458.279582   \n",
       "\n",
       "    Izmy_v4_nodist_normed_TPY  Izmy_v5_all_normed_but_wspd_ratio  \\\n",
       "24                2208.916967                        1598.921669   \n",
       "25                1990.790327                        1396.192258   \n",
       "26                2253.270791                        1582.085755   \n",
       "27                2173.862739                        1536.618612   \n",
       "28                2129.958211                        1460.647551   \n",
       "\n",
       "    Izmy_v6_unnormed_no_wspd  Izmy_v7_all_normed_no_wspd  \\\n",
       "24               1088.582925                 1134.938029   \n",
       "25               1011.028188                 1053.858390   \n",
       "26                900.160802                  928.291986   \n",
       "27                849.547784                  887.016637   \n",
       "28                924.056460                  967.487377   \n",
       "\n",
       "    Izmy_v8_normed_D_and_TPY_no_wspd   avg_temp  diff_temp_s_ps  \\\n",
       "24                     919299.803538  13.294444       -0.477778   \n",
       "25                     853625.295726  14.861111        0.188889   \n",
       "26                     751916.508301  14.672222        0.011111   \n",
       "27                     718483.475701  15.044444       -0.177778   \n",
       "28                     783664.775248  17.172222        0.011111   \n",
       "\n",
       "   patzip_year_month  Izmy_v4_nodist_normed_TPY_r9  avg_wspd_top_15_r9  \\\n",
       "24      90001-2002-1                   2341.567950            1.725481   \n",
       "25      90001-2002-2                   2339.405597            1.684909   \n",
       "26      90001-2002-3                   2305.876107            1.666301   \n",
       "27      90001-2002-4                   2278.460003            1.673685   \n",
       "28      90001-2002-5                   2324.052400            1.698342   \n",
       "\n",
       "    avg_temp_r9  visits_hematopoietic_cancers  visits_resp_cardio  \\\n",
       "24    18.004321                           NaN                 NaN   \n",
       "25    17.919136                           NaN                 NaN   \n",
       "26    17.585802                           NaN                 NaN   \n",
       "27    16.930247                           NaN                 NaN   \n",
       "28    16.316049                           NaN                 NaN   \n",
       "\n",
       "    visits_pediatric_vasculitis  visits_injuries_accidents  \\\n",
       "24                          NaN                        NaN   \n",
       "25                          NaN                        NaN   \n",
       "26                          NaN                        NaN   \n",
       "27                          NaN                        NaN   \n",
       "28                          NaN                        NaN   \n",
       "\n",
       "    visits_type_1_diabetes  y_visits_hematopoietic_cancers  \\\n",
       "24                     NaN                             NaN   \n",
       "25                     NaN                             NaN   \n",
       "26                     NaN                             NaN   \n",
       "27                     NaN                             NaN   \n",
       "28                     NaN                             NaN   \n",
       "\n",
       "    y_visits_resp_cardio  y_visits_pediatric_vasculitis  \\\n",
       "24                   NaN                            NaN   \n",
       "25                   NaN                            NaN   \n",
       "26                   NaN                            NaN   \n",
       "27                   NaN                            NaN   \n",
       "28                   NaN                            NaN   \n",
       "\n",
       "    y_visits_injuries_accidents  y_visits_type_1_diabetes  year_trend  \\\n",
       "24                          NaN                       NaN           3   \n",
       "25                          NaN                       NaN           3   \n",
       "26                          NaN                       NaN           3   \n",
       "27                          NaN                       NaN           3   \n",
       "28                          NaN                       NaN           3   \n",
       "\n",
       "     county_month  visits_hematopoietic_cancers_fwd3  \\\n",
       "24  Los Angeles_1                                NaN   \n",
       "25  Los Angeles_2                                NaN   \n",
       "26  Los Angeles_3                                NaN   \n",
       "27  Los Angeles_4                                NaN   \n",
       "28  Los Angeles_5                                NaN   \n",
       "\n",
       "    y_visits_hematopoietic_cancers_fwd3  visits_hematopoietic_cancers_cent3  \\\n",
       "24                                  NaN                                 NaN   \n",
       "25                                  NaN                                 NaN   \n",
       "26                                  NaN                                 NaN   \n",
       "27                                  NaN                                 NaN   \n",
       "28                                  NaN                                 NaN   \n",
       "\n",
       "    y_visits_hematopoietic_cancers_cent3  visits_resp_cardio_fwd3  \\\n",
       "24                                   NaN                      NaN   \n",
       "25                                   NaN                      NaN   \n",
       "26                                   NaN                      NaN   \n",
       "27                                   NaN                      NaN   \n",
       "28                                   NaN                      NaN   \n",
       "\n",
       "    y_visits_resp_cardio_fwd3  visits_resp_cardio_cent3  \\\n",
       "24                        NaN                       NaN   \n",
       "25                        NaN                       NaN   \n",
       "26                        NaN                       NaN   \n",
       "27                        NaN                       NaN   \n",
       "28                        NaN                       NaN   \n",
       "\n",
       "    y_visits_resp_cardio_cent3  visits_pediatric_vasculitis_fwd3  \\\n",
       "24                         NaN                               NaN   \n",
       "25                         NaN                               NaN   \n",
       "26                         NaN                               NaN   \n",
       "27                         NaN                               NaN   \n",
       "28                         NaN                               NaN   \n",
       "\n",
       "    y_visits_pediatric_vasculitis_fwd3  visits_pediatric_vasculitis_cent3  \\\n",
       "24                                 NaN                                NaN   \n",
       "25                                 NaN                                NaN   \n",
       "26                                 NaN                                NaN   \n",
       "27                                 NaN                                NaN   \n",
       "28                                 NaN                                NaN   \n",
       "\n",
       "    y_visits_pediatric_vasculitis_cent3  visits_injuries_accidents_fwd3  \\\n",
       "24                                  NaN                             NaN   \n",
       "25                                  NaN                             NaN   \n",
       "26                                  NaN                             NaN   \n",
       "27                                  NaN                             NaN   \n",
       "28                                  NaN                             NaN   \n",
       "\n",
       "    y_visits_injuries_accidents_fwd3  visits_injuries_accidents_cent3  \\\n",
       "24                               NaN                              NaN   \n",
       "25                               NaN                              NaN   \n",
       "26                               NaN                              NaN   \n",
       "27                               NaN                              NaN   \n",
       "28                               NaN                              NaN   \n",
       "\n",
       "    y_visits_injuries_accidents_cent3  visits_type_1_diabetes_fwd3  \\\n",
       "24                                NaN                          NaN   \n",
       "25                                NaN                          NaN   \n",
       "26                                NaN                          NaN   \n",
       "27                                NaN                          NaN   \n",
       "28                                NaN                          NaN   \n",
       "\n",
       "    y_visits_type_1_diabetes_fwd3  visits_type_1_diabetes_cent3  \\\n",
       "24                            NaN                           NaN   \n",
       "25                            NaN                           NaN   \n",
       "26                            NaN                           NaN   \n",
       "27                            NaN                           NaN   \n",
       "28                            NaN                           NaN   \n",
       "\n",
       "    y_visits_type_1_diabetes_cent3  \n",
       "24                             NaN  \n",
       "25                             NaN  \n",
       "26                             NaN  \n",
       "27                             NaN  \n",
       "28                             NaN  "
      ],
      "text/html": [
       "\n",
       "  <div id=\"df-122110c1-9cd4-42ef-bb17-59a747ac2fbe\">\n",
       "    <div class=\"colab-df-container\">\n",
       "      <div>\n",
       "<style scoped>\n",
       "    .dataframe tbody tr th:only-of-type {\n",
       "        vertical-align: middle;\n",
       "    }\n",
       "\n",
       "    .dataframe tbody tr th {\n",
       "        vertical-align: top;\n",
       "    }\n",
       "\n",
       "    .dataframe thead th {\n",
       "        text-align: right;\n",
       "    }\n",
       "</style>\n",
       "<table border=\"1\" class=\"dataframe\">\n",
       "  <thead>\n",
       "    <tr style=\"text-align: right;\">\n",
       "      <th></th>\n",
       "      <th>Unnamed: 0</th>\n",
       "      <th>Unnamed: 0.1</th>\n",
       "      <th>year_month</th>\n",
       "      <th>school_zip</th>\n",
       "      <th>county</th>\n",
       "      <th>school_region_name</th>\n",
       "      <th>pm25</th>\n",
       "      <th>school_elevation_m</th>\n",
       "      <th>ps_elevation_m</th>\n",
       "      <th>population_0_4</th>\n",
       "      <th>population_0_4_male</th>\n",
       "      <th>population_0_4_female</th>\n",
       "      <th>population_5_9</th>\n",
       "      <th>population_5_9_male</th>\n",
       "      <th>population_5_9_female</th>\n",
       "      <th>population_10_14</th>\n",
       "      <th>population_10_14_male</th>\n",
       "      <th>population_10_14_female</th>\n",
       "      <th>population_15_19</th>\n",
       "      <th>population_15_19_male</th>\n",
       "      <th>population_15_19_female</th>\n",
       "      <th>total_pop_under19</th>\n",
       "      <th>pop_under19_male</th>\n",
       "      <th>pop_under19_female</th>\n",
       "      <th>total_population</th>\n",
       "      <th>total_population_male</th>\n",
       "      <th>total_population_female</th>\n",
       "      <th>point_source_pm25_tpy</th>\n",
       "      <th>dist_school_to_ps_m</th>\n",
       "      <th>angle_to_school</th>\n",
       "      <th>ps_wspd_merge</th>\n",
       "      <th>school_wdir_wrt_0n</th>\n",
       "      <th>ps_wdir_wrt_0n</th>\n",
       "      <th>school_wind_alignment</th>\n",
       "      <th>ps_wind_alignment</th>\n",
       "      <th>avg_wind_alignment</th>\n",
       "      <th>avg_wind_alignment_cosine</th>\n",
       "      <th>nearby_point_source_count</th>\n",
       "      <th>school_wspd</th>\n",
       "      <th>ca_agi_per_returns</th>\n",
       "      <th>total_tax_liability</th>\n",
       "      <th>tax_liability_per_capita</th>\n",
       "      <th>school_temperature</th>\n",
       "      <th>ps_temperature</th>\n",
       "      <th>school_count</th>\n",
       "      <th>pm25_last_month</th>\n",
       "      <th>pm25_r6</th>\n",
       "      <th>pm25_r9</th>\n",
       "      <th>pm25_r12</th>\n",
       "      <th>pm25_r24</th>\n",
       "      <th>pm25_slope6</th>\n",
       "      <th>pm25_slope9</th>\n",
       "      <th>pm25_slope12</th>\n",
       "      <th>pm25_slope24</th>\n",
       "      <th>pm25_lag_12mo</th>\n",
       "      <th>year</th>\n",
       "      <th>month</th>\n",
       "      <th>school_county_v2_alameda</th>\n",
       "      <th>school_county_v2_alpine</th>\n",
       "      <th>school_county_v2_amador</th>\n",
       "      <th>school_county_v2_butte</th>\n",
       "      <th>school_county_v2_calaveras</th>\n",
       "      <th>school_county_v2_colusa</th>\n",
       "      <th>school_county_v2_contra_costa</th>\n",
       "      <th>school_county_v2_del_norte</th>\n",
       "      <th>school_county_v2_el_dorado</th>\n",
       "      <th>school_county_v2_fresno</th>\n",
       "      <th>school_county_v2_glenn</th>\n",
       "      <th>school_county_v2_humboldt</th>\n",
       "      <th>school_county_v2_imperial</th>\n",
       "      <th>school_county_v2_inyo</th>\n",
       "      <th>school_county_v2_kern</th>\n",
       "      <th>school_county_v2_kings</th>\n",
       "      <th>school_county_v2_lake</th>\n",
       "      <th>school_county_v2_lassen</th>\n",
       "      <th>school_county_v2_los_angeles</th>\n",
       "      <th>school_county_v2_madera</th>\n",
       "      <th>school_county_v2_marin</th>\n",
       "      <th>school_county_v2_mariposa</th>\n",
       "      <th>school_county_v2_mendocino</th>\n",
       "      <th>school_county_v2_merced</th>\n",
       "      <th>school_county_v2_modoc</th>\n",
       "      <th>school_county_v2_mono</th>\n",
       "      <th>school_county_v2_monterey</th>\n",
       "      <th>school_county_v2_napa</th>\n",
       "      <th>school_county_v2_nevada</th>\n",
       "      <th>school_county_v2_orange</th>\n",
       "      <th>school_county_v2_placer</th>\n",
       "      <th>school_county_v2_plumas</th>\n",
       "      <th>school_county_v2_riverside</th>\n",
       "      <th>school_county_v2_sacramento</th>\n",
       "      <th>school_county_v2_san_benito</th>\n",
       "      <th>school_county_v2_san_bernardino</th>\n",
       "      <th>school_county_v2_san_diego</th>\n",
       "      <th>school_county_v2_san_francisco</th>\n",
       "      <th>school_county_v2_san_joaquin</th>\n",
       "      <th>school_county_v2_san_luis_obispo</th>\n",
       "      <th>school_county_v2_san_mateo</th>\n",
       "      <th>school_county_v2_santa_barbara</th>\n",
       "      <th>school_county_v2_santa_clara</th>\n",
       "      <th>school_county_v2_santa_cruz</th>\n",
       "      <th>school_county_v2_shasta</th>\n",
       "      <th>school_county_v2_sierra</th>\n",
       "      <th>school_county_v2_siskiyou</th>\n",
       "      <th>school_county_v2_solano</th>\n",
       "      <th>school_county_v2_sonoma</th>\n",
       "      <th>school_county_v2_stanislaus</th>\n",
       "      <th>school_county_v2_sutter</th>\n",
       "      <th>school_county_v2_tehama</th>\n",
       "      <th>school_county_v2_trinity</th>\n",
       "      <th>school_county_v2_tulare</th>\n",
       "      <th>school_county_v2_tuolumne</th>\n",
       "      <th>school_county_v2_ventura</th>\n",
       "      <th>school_county_v2_yolo</th>\n",
       "      <th>school_county_v2_yuba</th>\n",
       "      <th>month_01</th>\n",
       "      <th>month_02</th>\n",
       "      <th>month_03</th>\n",
       "      <th>month_04</th>\n",
       "      <th>month_05</th>\n",
       "      <th>month_06</th>\n",
       "      <th>month_07</th>\n",
       "      <th>month_08</th>\n",
       "      <th>month_09</th>\n",
       "      <th>month_10</th>\n",
       "      <th>month_11</th>\n",
       "      <th>month_12</th>\n",
       "      <th>y-m</th>\n",
       "      <th>central_wind_alignment_180_high</th>\n",
       "      <th>avg_count_ps_within_5km</th>\n",
       "      <th>avg_elevation_diff_m</th>\n",
       "      <th>avg_wspd_ratio_ps_sch</th>\n",
       "      <th>avg_wspd_ratio_sch_ps</th>\n",
       "      <th>avg_school_wspd</th>\n",
       "      <th>avg_ps_wspd</th>\n",
       "      <th>new_alignment_90_high</th>\n",
       "      <th>ps_pm25_tpy_top_20</th>\n",
       "      <th>school_to_ps_geod_dist_m_top_20</th>\n",
       "      <th>avg_wspd_top_15</th>\n",
       "      <th>Izmy_v1_unnormed</th>\n",
       "      <th>Izmy_v2_nodist_unnormed</th>\n",
       "      <th>Izmy_v3_normed_D_and_TPY</th>\n",
       "      <th>Izmy_v4_nodist_normed_TPY</th>\n",
       "      <th>Izmy_v5_all_normed_but_wspd_ratio</th>\n",
       "      <th>Izmy_v6_unnormed_no_wspd</th>\n",
       "      <th>Izmy_v7_all_normed_no_wspd</th>\n",
       "      <th>Izmy_v8_normed_D_and_TPY_no_wspd</th>\n",
       "      <th>avg_temp</th>\n",
       "      <th>diff_temp_s_ps</th>\n",
       "      <th>patzip_year_month</th>\n",
       "      <th>Izmy_v4_nodist_normed_TPY_r9</th>\n",
       "      <th>avg_wspd_top_15_r9</th>\n",
       "      <th>avg_temp_r9</th>\n",
       "      <th>visits_hematopoietic_cancers</th>\n",
       "      <th>visits_resp_cardio</th>\n",
       "      <th>visits_pediatric_vasculitis</th>\n",
       "      <th>visits_injuries_accidents</th>\n",
       "      <th>visits_type_1_diabetes</th>\n",
       "      <th>y_visits_hematopoietic_cancers</th>\n",
       "      <th>y_visits_resp_cardio</th>\n",
       "      <th>y_visits_pediatric_vasculitis</th>\n",
       "      <th>y_visits_injuries_accidents</th>\n",
       "      <th>y_visits_type_1_diabetes</th>\n",
       "      <th>year_trend</th>\n",
       "      <th>county_month</th>\n",
       "      <th>visits_hematopoietic_cancers_fwd3</th>\n",
       "      <th>y_visits_hematopoietic_cancers_fwd3</th>\n",
       "      <th>visits_hematopoietic_cancers_cent3</th>\n",
       "      <th>y_visits_hematopoietic_cancers_cent3</th>\n",
       "      <th>visits_resp_cardio_fwd3</th>\n",
       "      <th>y_visits_resp_cardio_fwd3</th>\n",
       "      <th>visits_resp_cardio_cent3</th>\n",
       "      <th>y_visits_resp_cardio_cent3</th>\n",
       "      <th>visits_pediatric_vasculitis_fwd3</th>\n",
       "      <th>y_visits_pediatric_vasculitis_fwd3</th>\n",
       "      <th>visits_pediatric_vasculitis_cent3</th>\n",
       "      <th>y_visits_pediatric_vasculitis_cent3</th>\n",
       "      <th>visits_injuries_accidents_fwd3</th>\n",
       "      <th>y_visits_injuries_accidents_fwd3</th>\n",
       "      <th>visits_injuries_accidents_cent3</th>\n",
       "      <th>y_visits_injuries_accidents_cent3</th>\n",
       "      <th>visits_type_1_diabetes_fwd3</th>\n",
       "      <th>y_visits_type_1_diabetes_fwd3</th>\n",
       "      <th>visits_type_1_diabetes_cent3</th>\n",
       "      <th>y_visits_type_1_diabetes_cent3</th>\n",
       "    </tr>\n",
       "  </thead>\n",
       "  <tbody>\n",
       "    <tr>\n",
       "      <th>24</th>\n",
       "      <td>32223</td>\n",
       "      <td>32223</td>\n",
       "      <td>2002-01-01</td>\n",
       "      <td>90001</td>\n",
       "      <td>Los Angeles</td>\n",
       "      <td>Los Angeles County</td>\n",
       "      <td>25.950000</td>\n",
       "      <td>44.728889</td>\n",
       "      <td>43.703333</td>\n",
       "      <td>6104.0</td>\n",
       "      <td>3152.0</td>\n",
       "      <td>2952.0</td>\n",
       "      <td>6402.0</td>\n",
       "      <td>3247.0</td>\n",
       "      <td>3155.0</td>\n",
       "      <td>5548.0</td>\n",
       "      <td>2833.0</td>\n",
       "      <td>2715.0</td>\n",
       "      <td>5176.0</td>\n",
       "      <td>2644.0</td>\n",
       "      <td>2532.0</td>\n",
       "      <td>23230.0</td>\n",
       "      <td>11876.0</td>\n",
       "      <td>11354.0</td>\n",
       "      <td>55007.0</td>\n",
       "      <td>27550.0</td>\n",
       "      <td>27457.0</td>\n",
       "      <td>14.241154</td>\n",
       "      <td>3854.812685</td>\n",
       "      <td>-90.196586</td>\n",
       "      <td>0.946478</td>\n",
       "      <td>-154.458522</td>\n",
       "      <td>-154.458522</td>\n",
       "      <td>64.261936</td>\n",
       "      <td>64.261936</td>\n",
       "      <td>64.261936</td>\n",
       "      <td>1.389537</td>\n",
       "      <td>0.0</td>\n",
       "      <td>0.946478</td>\n",
       "      <td>20914.811067</td>\n",
       "      <td>2417758.0</td>\n",
       "      <td>43.953642</td>\n",
       "      <td>13.055556</td>\n",
       "      <td>13.533333</td>\n",
       "      <td>9</td>\n",
       "      <td>24.250000</td>\n",
       "      <td>23.711111</td>\n",
       "      <td>21.916667</td>\n",
       "      <td>21.534722</td>\n",
       "      <td>21.597222</td>\n",
       "      <td>2.130476</td>\n",
       "      <td>1.409722</td>\n",
       "      <td>0.674301</td>\n",
       "      <td>0.182174</td>\n",
       "      <td>28.900000</td>\n",
       "      <td>2002</td>\n",
       "      <td>1</td>\n",
       "      <td>0</td>\n",
       "      <td>0</td>\n",
       "      <td>0</td>\n",
       "      <td>0</td>\n",
       "      <td>0</td>\n",
       "      <td>0</td>\n",
       "      <td>0</td>\n",
       "      <td>0</td>\n",
       "      <td>0</td>\n",
       "      <td>0</td>\n",
       "      <td>0</td>\n",
       "      <td>0</td>\n",
       "      <td>0</td>\n",
       "      <td>0</td>\n",
       "      <td>0</td>\n",
       "      <td>0</td>\n",
       "      <td>0</td>\n",
       "      <td>0</td>\n",
       "      <td>1</td>\n",
       "      <td>0</td>\n",
       "      <td>0</td>\n",
       "      <td>0</td>\n",
       "      <td>0</td>\n",
       "      <td>0</td>\n",
       "      <td>0</td>\n",
       "      <td>0</td>\n",
       "      <td>0</td>\n",
       "      <td>0</td>\n",
       "      <td>0</td>\n",
       "      <td>0</td>\n",
       "      <td>0</td>\n",
       "      <td>0</td>\n",
       "      <td>0</td>\n",
       "      <td>0</td>\n",
       "      <td>0</td>\n",
       "      <td>0</td>\n",
       "      <td>0</td>\n",
       "      <td>0</td>\n",
       "      <td>0</td>\n",
       "      <td>0</td>\n",
       "      <td>0</td>\n",
       "      <td>0</td>\n",
       "      <td>0</td>\n",
       "      <td>0</td>\n",
       "      <td>0</td>\n",
       "      <td>0</td>\n",
       "      <td>0</td>\n",
       "      <td>0</td>\n",
       "      <td>0</td>\n",
       "      <td>0</td>\n",
       "      <td>0</td>\n",
       "      <td>0</td>\n",
       "      <td>0</td>\n",
       "      <td>0</td>\n",
       "      <td>0</td>\n",
       "      <td>0</td>\n",
       "      <td>0</td>\n",
       "      <td>0</td>\n",
       "      <td>1</td>\n",
       "      <td>0</td>\n",
       "      <td>0</td>\n",
       "      <td>0</td>\n",
       "      <td>0</td>\n",
       "      <td>0</td>\n",
       "      <td>0</td>\n",
       "      <td>0</td>\n",
       "      <td>0</td>\n",
       "      <td>0</td>\n",
       "      <td>0</td>\n",
       "      <td>0</td>\n",
       "      <td>2002-01</td>\n",
       "      <td>117.636643</td>\n",
       "      <td>4.111111</td>\n",
       "      <td>3.447556</td>\n",
       "      <td>1.509384</td>\n",
       "      <td>1.307353</td>\n",
       "      <td>1.613005</td>\n",
       "      <td>1.743079</td>\n",
       "      <td>37.446118</td>\n",
       "      <td>13.762825</td>\n",
       "      <td>7791.520434</td>\n",
       "      <td>1.678042</td>\n",
       "      <td>1552.939135</td>\n",
       "      <td>9.453577e+06</td>\n",
       "      <td>143902.950254</td>\n",
       "      <td>2208.916967</td>\n",
       "      <td>1598.921669</td>\n",
       "      <td>1088.582925</td>\n",
       "      <td>1134.938029</td>\n",
       "      <td>919299.803538</td>\n",
       "      <td>13.294444</td>\n",
       "      <td>-0.477778</td>\n",
       "      <td>90001-2002-1</td>\n",
       "      <td>2341.567950</td>\n",
       "      <td>1.725481</td>\n",
       "      <td>18.004321</td>\n",
       "      <td>NaN</td>\n",
       "      <td>NaN</td>\n",
       "      <td>NaN</td>\n",
       "      <td>NaN</td>\n",
       "      <td>NaN</td>\n",
       "      <td>NaN</td>\n",
       "      <td>NaN</td>\n",
       "      <td>NaN</td>\n",
       "      <td>NaN</td>\n",
       "      <td>NaN</td>\n",
       "      <td>3</td>\n",
       "      <td>Los Angeles_1</td>\n",
       "      <td>NaN</td>\n",
       "      <td>NaN</td>\n",
       "      <td>NaN</td>\n",
       "      <td>NaN</td>\n",
       "      <td>NaN</td>\n",
       "      <td>NaN</td>\n",
       "      <td>NaN</td>\n",
       "      <td>NaN</td>\n",
       "      <td>NaN</td>\n",
       "      <td>NaN</td>\n",
       "      <td>NaN</td>\n",
       "      <td>NaN</td>\n",
       "      <td>NaN</td>\n",
       "      <td>NaN</td>\n",
       "      <td>NaN</td>\n",
       "      <td>NaN</td>\n",
       "      <td>NaN</td>\n",
       "      <td>NaN</td>\n",
       "      <td>NaN</td>\n",
       "      <td>NaN</td>\n",
       "    </tr>\n",
       "    <tr>\n",
       "      <th>25</th>\n",
       "      <td>33586</td>\n",
       "      <td>33586</td>\n",
       "      <td>2002-02-01</td>\n",
       "      <td>90001</td>\n",
       "      <td>Los Angeles</td>\n",
       "      <td>Los Angeles County</td>\n",
       "      <td>28.033333</td>\n",
       "      <td>44.728889</td>\n",
       "      <td>43.703333</td>\n",
       "      <td>6104.0</td>\n",
       "      <td>3152.0</td>\n",
       "      <td>2952.0</td>\n",
       "      <td>6402.0</td>\n",
       "      <td>3247.0</td>\n",
       "      <td>3155.0</td>\n",
       "      <td>5548.0</td>\n",
       "      <td>2833.0</td>\n",
       "      <td>2715.0</td>\n",
       "      <td>5176.0</td>\n",
       "      <td>2644.0</td>\n",
       "      <td>2532.0</td>\n",
       "      <td>23230.0</td>\n",
       "      <td>11876.0</td>\n",
       "      <td>11354.0</td>\n",
       "      <td>55007.0</td>\n",
       "      <td>27550.0</td>\n",
       "      <td>27457.0</td>\n",
       "      <td>14.241154</td>\n",
       "      <td>3854.812685</td>\n",
       "      <td>-90.196586</td>\n",
       "      <td>0.878908</td>\n",
       "      <td>-142.038961</td>\n",
       "      <td>-142.038961</td>\n",
       "      <td>51.842374</td>\n",
       "      <td>51.842374</td>\n",
       "      <td>51.842374</td>\n",
       "      <td>1.548127</td>\n",
       "      <td>0.0</td>\n",
       "      <td>0.878908</td>\n",
       "      <td>20914.811067</td>\n",
       "      <td>2417758.0</td>\n",
       "      <td>43.953642</td>\n",
       "      <td>14.955556</td>\n",
       "      <td>14.766667</td>\n",
       "      <td>9</td>\n",
       "      <td>25.950000</td>\n",
       "      <td>24.886111</td>\n",
       "      <td>22.851852</td>\n",
       "      <td>21.288889</td>\n",
       "      <td>21.338889</td>\n",
       "      <td>1.488095</td>\n",
       "      <td>1.313333</td>\n",
       "      <td>1.178904</td>\n",
       "      <td>0.340406</td>\n",
       "      <td>12.150000</td>\n",
       "      <td>2002</td>\n",
       "      <td>2</td>\n",
       "      <td>0</td>\n",
       "      <td>0</td>\n",
       "      <td>0</td>\n",
       "      <td>0</td>\n",
       "      <td>0</td>\n",
       "      <td>0</td>\n",
       "      <td>0</td>\n",
       "      <td>0</td>\n",
       "      <td>0</td>\n",
       "      <td>0</td>\n",
       "      <td>0</td>\n",
       "      <td>0</td>\n",
       "      <td>0</td>\n",
       "      <td>0</td>\n",
       "      <td>0</td>\n",
       "      <td>0</td>\n",
       "      <td>0</td>\n",
       "      <td>0</td>\n",
       "      <td>1</td>\n",
       "      <td>0</td>\n",
       "      <td>0</td>\n",
       "      <td>0</td>\n",
       "      <td>0</td>\n",
       "      <td>0</td>\n",
       "      <td>0</td>\n",
       "      <td>0</td>\n",
       "      <td>0</td>\n",
       "      <td>0</td>\n",
       "      <td>0</td>\n",
       "      <td>0</td>\n",
       "      <td>0</td>\n",
       "      <td>0</td>\n",
       "      <td>0</td>\n",
       "      <td>0</td>\n",
       "      <td>0</td>\n",
       "      <td>0</td>\n",
       "      <td>0</td>\n",
       "      <td>0</td>\n",
       "      <td>0</td>\n",
       "      <td>0</td>\n",
       "      <td>0</td>\n",
       "      <td>0</td>\n",
       "      <td>0</td>\n",
       "      <td>0</td>\n",
       "      <td>0</td>\n",
       "      <td>0</td>\n",
       "      <td>0</td>\n",
       "      <td>0</td>\n",
       "      <td>0</td>\n",
       "      <td>0</td>\n",
       "      <td>0</td>\n",
       "      <td>0</td>\n",
       "      <td>0</td>\n",
       "      <td>0</td>\n",
       "      <td>0</td>\n",
       "      <td>0</td>\n",
       "      <td>0</td>\n",
       "      <td>0</td>\n",
       "      <td>0</td>\n",
       "      <td>1</td>\n",
       "      <td>0</td>\n",
       "      <td>0</td>\n",
       "      <td>0</td>\n",
       "      <td>0</td>\n",
       "      <td>0</td>\n",
       "      <td>0</td>\n",
       "      <td>0</td>\n",
       "      <td>0</td>\n",
       "      <td>0</td>\n",
       "      <td>0</td>\n",
       "      <td>2002-02</td>\n",
       "      <td>119.175049</td>\n",
       "      <td>4.111111</td>\n",
       "      <td>3.447556</td>\n",
       "      <td>1.444129</td>\n",
       "      <td>1.349644</td>\n",
       "      <td>1.652421</td>\n",
       "      <td>1.766985</td>\n",
       "      <td>38.882521</td>\n",
       "      <td>13.762825</td>\n",
       "      <td>7791.520434</td>\n",
       "      <td>1.709703</td>\n",
       "      <td>1348.200403</td>\n",
       "      <td>8.482820e+06</td>\n",
       "      <td>125657.303224</td>\n",
       "      <td>1990.790327</td>\n",
       "      <td>1396.192258</td>\n",
       "      <td>1011.028188</td>\n",
       "      <td>1053.858390</td>\n",
       "      <td>853625.295726</td>\n",
       "      <td>14.861111</td>\n",
       "      <td>0.188889</td>\n",
       "      <td>90001-2002-2</td>\n",
       "      <td>2339.405597</td>\n",
       "      <td>1.684909</td>\n",
       "      <td>17.919136</td>\n",
       "      <td>NaN</td>\n",
       "      <td>NaN</td>\n",
       "      <td>NaN</td>\n",
       "      <td>NaN</td>\n",
       "      <td>NaN</td>\n",
       "      <td>NaN</td>\n",
       "      <td>NaN</td>\n",
       "      <td>NaN</td>\n",
       "      <td>NaN</td>\n",
       "      <td>NaN</td>\n",
       "      <td>3</td>\n",
       "      <td>Los Angeles_2</td>\n",
       "      <td>NaN</td>\n",
       "      <td>NaN</td>\n",
       "      <td>NaN</td>\n",
       "      <td>NaN</td>\n",
       "      <td>NaN</td>\n",
       "      <td>NaN</td>\n",
       "      <td>NaN</td>\n",
       "      <td>NaN</td>\n",
       "      <td>NaN</td>\n",
       "      <td>NaN</td>\n",
       "      <td>NaN</td>\n",
       "      <td>NaN</td>\n",
       "      <td>NaN</td>\n",
       "      <td>NaN</td>\n",
       "      <td>NaN</td>\n",
       "      <td>NaN</td>\n",
       "      <td>NaN</td>\n",
       "      <td>NaN</td>\n",
       "      <td>NaN</td>\n",
       "      <td>NaN</td>\n",
       "    </tr>\n",
       "    <tr>\n",
       "      <th>26</th>\n",
       "      <td>34949</td>\n",
       "      <td>34949</td>\n",
       "      <td>2002-03-01</td>\n",
       "      <td>90001</td>\n",
       "      <td>Los Angeles</td>\n",
       "      <td>Los Angeles County</td>\n",
       "      <td>16.000000</td>\n",
       "      <td>44.728889</td>\n",
       "      <td>43.703333</td>\n",
       "      <td>6104.0</td>\n",
       "      <td>3152.0</td>\n",
       "      <td>2952.0</td>\n",
       "      <td>6402.0</td>\n",
       "      <td>3247.0</td>\n",
       "      <td>3155.0</td>\n",
       "      <td>5548.0</td>\n",
       "      <td>2833.0</td>\n",
       "      <td>2715.0</td>\n",
       "      <td>5176.0</td>\n",
       "      <td>2644.0</td>\n",
       "      <td>2532.0</td>\n",
       "      <td>23230.0</td>\n",
       "      <td>11876.0</td>\n",
       "      <td>11354.0</td>\n",
       "      <td>55007.0</td>\n",
       "      <td>27550.0</td>\n",
       "      <td>27457.0</td>\n",
       "      <td>14.241154</td>\n",
       "      <td>3854.812685</td>\n",
       "      <td>-90.196586</td>\n",
       "      <td>0.838772</td>\n",
       "      <td>114.546194</td>\n",
       "      <td>114.546194</td>\n",
       "      <td>144.935022</td>\n",
       "      <td>144.935022</td>\n",
       "      <td>144.935022</td>\n",
       "      <td>0.213574</td>\n",
       "      <td>0.0</td>\n",
       "      <td>0.838772</td>\n",
       "      <td>20914.811067</td>\n",
       "      <td>2417758.0</td>\n",
       "      <td>43.953642</td>\n",
       "      <td>14.677778</td>\n",
       "      <td>14.666667</td>\n",
       "      <td>9</td>\n",
       "      <td>28.033333</td>\n",
       "      <td>26.305556</td>\n",
       "      <td>23.625926</td>\n",
       "      <td>22.612500</td>\n",
       "      <td>21.937500</td>\n",
       "      <td>0.863809</td>\n",
       "      <td>1.510000</td>\n",
       "      <td>1.022902</td>\n",
       "      <td>0.323957</td>\n",
       "      <td>20.116667</td>\n",
       "      <td>2002</td>\n",
       "      <td>3</td>\n",
       "      <td>0</td>\n",
       "      <td>0</td>\n",
       "      <td>0</td>\n",
       "      <td>0</td>\n",
       "      <td>0</td>\n",
       "      <td>0</td>\n",
       "      <td>0</td>\n",
       "      <td>0</td>\n",
       "      <td>0</td>\n",
       "      <td>0</td>\n",
       "      <td>0</td>\n",
       "      <td>0</td>\n",
       "      <td>0</td>\n",
       "      <td>0</td>\n",
       "      <td>0</td>\n",
       "      <td>0</td>\n",
       "      <td>0</td>\n",
       "      <td>0</td>\n",
       "      <td>1</td>\n",
       "      <td>0</td>\n",
       "      <td>0</td>\n",
       "      <td>0</td>\n",
       "      <td>0</td>\n",
       "      <td>0</td>\n",
       "      <td>0</td>\n",
       "      <td>0</td>\n",
       "      <td>0</td>\n",
       "      <td>0</td>\n",
       "      <td>0</td>\n",
       "      <td>0</td>\n",
       "      <td>0</td>\n",
       "      <td>0</td>\n",
       "      <td>0</td>\n",
       "      <td>0</td>\n",
       "      <td>0</td>\n",
       "      <td>0</td>\n",
       "      <td>0</td>\n",
       "      <td>0</td>\n",
       "      <td>0</td>\n",
       "      <td>0</td>\n",
       "      <td>0</td>\n",
       "      <td>0</td>\n",
       "      <td>0</td>\n",
       "      <td>0</td>\n",
       "      <td>0</td>\n",
       "      <td>0</td>\n",
       "      <td>0</td>\n",
       "      <td>0</td>\n",
       "      <td>0</td>\n",
       "      <td>0</td>\n",
       "      <td>0</td>\n",
       "      <td>0</td>\n",
       "      <td>0</td>\n",
       "      <td>0</td>\n",
       "      <td>0</td>\n",
       "      <td>0</td>\n",
       "      <td>0</td>\n",
       "      <td>0</td>\n",
       "      <td>0</td>\n",
       "      <td>0</td>\n",
       "      <td>1</td>\n",
       "      <td>0</td>\n",
       "      <td>0</td>\n",
       "      <td>0</td>\n",
       "      <td>0</td>\n",
       "      <td>0</td>\n",
       "      <td>0</td>\n",
       "      <td>0</td>\n",
       "      <td>0</td>\n",
       "      <td>0</td>\n",
       "      <td>2002-03</td>\n",
       "      <td>107.745856</td>\n",
       "      <td>4.111111</td>\n",
       "      <td>3.447556</td>\n",
       "      <td>1.697081</td>\n",
       "      <td>1.160436</td>\n",
       "      <td>1.807605</td>\n",
       "      <td>2.121729</td>\n",
       "      <td>32.967885</td>\n",
       "      <td>13.762825</td>\n",
       "      <td>7791.520434</td>\n",
       "      <td>1.964667</td>\n",
       "      <td>1530.916801</td>\n",
       "      <td>9.595257e+06</td>\n",
       "      <td>142387.717953</td>\n",
       "      <td>2253.270791</td>\n",
       "      <td>1582.085755</td>\n",
       "      <td>900.160802</td>\n",
       "      <td>928.291986</td>\n",
       "      <td>751916.508301</td>\n",
       "      <td>14.672222</td>\n",
       "      <td>0.011111</td>\n",
       "      <td>90001-2002-3</td>\n",
       "      <td>2305.876107</td>\n",
       "      <td>1.666301</td>\n",
       "      <td>17.585802</td>\n",
       "      <td>NaN</td>\n",
       "      <td>NaN</td>\n",
       "      <td>NaN</td>\n",
       "      <td>NaN</td>\n",
       "      <td>NaN</td>\n",
       "      <td>NaN</td>\n",
       "      <td>NaN</td>\n",
       "      <td>NaN</td>\n",
       "      <td>NaN</td>\n",
       "      <td>NaN</td>\n",
       "      <td>3</td>\n",
       "      <td>Los Angeles_3</td>\n",
       "      <td>NaN</td>\n",
       "      <td>NaN</td>\n",
       "      <td>NaN</td>\n",
       "      <td>NaN</td>\n",
       "      <td>NaN</td>\n",
       "      <td>NaN</td>\n",
       "      <td>NaN</td>\n",
       "      <td>NaN</td>\n",
       "      <td>NaN</td>\n",
       "      <td>NaN</td>\n",
       "      <td>NaN</td>\n",
       "      <td>NaN</td>\n",
       "      <td>NaN</td>\n",
       "      <td>NaN</td>\n",
       "      <td>NaN</td>\n",
       "      <td>NaN</td>\n",
       "      <td>NaN</td>\n",
       "      <td>NaN</td>\n",
       "      <td>NaN</td>\n",
       "      <td>NaN</td>\n",
       "    </tr>\n",
       "    <tr>\n",
       "      <th>27</th>\n",
       "      <td>36312</td>\n",
       "      <td>36312</td>\n",
       "      <td>2002-04-01</td>\n",
       "      <td>90001</td>\n",
       "      <td>Los Angeles</td>\n",
       "      <td>Los Angeles County</td>\n",
       "      <td>17.416666</td>\n",
       "      <td>44.728889</td>\n",
       "      <td>43.703333</td>\n",
       "      <td>6104.0</td>\n",
       "      <td>3152.0</td>\n",
       "      <td>2952.0</td>\n",
       "      <td>6402.0</td>\n",
       "      <td>3247.0</td>\n",
       "      <td>3155.0</td>\n",
       "      <td>5548.0</td>\n",
       "      <td>2833.0</td>\n",
       "      <td>2715.0</td>\n",
       "      <td>5176.0</td>\n",
       "      <td>2644.0</td>\n",
       "      <td>2532.0</td>\n",
       "      <td>23230.0</td>\n",
       "      <td>11876.0</td>\n",
       "      <td>11354.0</td>\n",
       "      <td>55007.0</td>\n",
       "      <td>27550.0</td>\n",
       "      <td>27457.0</td>\n",
       "      <td>14.241154</td>\n",
       "      <td>3854.812685</td>\n",
       "      <td>-90.196586</td>\n",
       "      <td>1.540807</td>\n",
       "      <td>69.168835</td>\n",
       "      <td>69.168835</td>\n",
       "      <td>154.275478</td>\n",
       "      <td>154.275478</td>\n",
       "      <td>154.275478</td>\n",
       "      <td>0.180018</td>\n",
       "      <td>0.0</td>\n",
       "      <td>1.540807</td>\n",
       "      <td>20914.811067</td>\n",
       "      <td>2417758.0</td>\n",
       "      <td>43.953642</td>\n",
       "      <td>14.955556</td>\n",
       "      <td>15.133333</td>\n",
       "      <td>9</td>\n",
       "      <td>16.000000</td>\n",
       "      <td>26.030556</td>\n",
       "      <td>23.583333</td>\n",
       "      <td>22.269444</td>\n",
       "      <td>21.888194</td>\n",
       "      <td>-2.339524</td>\n",
       "      <td>0.398056</td>\n",
       "      <td>0.655128</td>\n",
       "      <td>0.212906</td>\n",
       "      <td>17.533333</td>\n",
       "      <td>2002</td>\n",
       "      <td>4</td>\n",
       "      <td>0</td>\n",
       "      <td>0</td>\n",
       "      <td>0</td>\n",
       "      <td>0</td>\n",
       "      <td>0</td>\n",
       "      <td>0</td>\n",
       "      <td>0</td>\n",
       "      <td>0</td>\n",
       "      <td>0</td>\n",
       "      <td>0</td>\n",
       "      <td>0</td>\n",
       "      <td>0</td>\n",
       "      <td>0</td>\n",
       "      <td>0</td>\n",
       "      <td>0</td>\n",
       "      <td>0</td>\n",
       "      <td>0</td>\n",
       "      <td>0</td>\n",
       "      <td>1</td>\n",
       "      <td>0</td>\n",
       "      <td>0</td>\n",
       "      <td>0</td>\n",
       "      <td>0</td>\n",
       "      <td>0</td>\n",
       "      <td>0</td>\n",
       "      <td>0</td>\n",
       "      <td>0</td>\n",
       "      <td>0</td>\n",
       "      <td>0</td>\n",
       "      <td>0</td>\n",
       "      <td>0</td>\n",
       "      <td>0</td>\n",
       "      <td>0</td>\n",
       "      <td>0</td>\n",
       "      <td>0</td>\n",
       "      <td>0</td>\n",
       "      <td>0</td>\n",
       "      <td>0</td>\n",
       "      <td>0</td>\n",
       "      <td>0</td>\n",
       "      <td>0</td>\n",
       "      <td>0</td>\n",
       "      <td>0</td>\n",
       "      <td>0</td>\n",
       "      <td>0</td>\n",
       "      <td>0</td>\n",
       "      <td>0</td>\n",
       "      <td>0</td>\n",
       "      <td>0</td>\n",
       "      <td>0</td>\n",
       "      <td>0</td>\n",
       "      <td>0</td>\n",
       "      <td>0</td>\n",
       "      <td>0</td>\n",
       "      <td>0</td>\n",
       "      <td>0</td>\n",
       "      <td>0</td>\n",
       "      <td>0</td>\n",
       "      <td>0</td>\n",
       "      <td>0</td>\n",
       "      <td>0</td>\n",
       "      <td>1</td>\n",
       "      <td>0</td>\n",
       "      <td>0</td>\n",
       "      <td>0</td>\n",
       "      <td>0</td>\n",
       "      <td>0</td>\n",
       "      <td>0</td>\n",
       "      <td>0</td>\n",
       "      <td>0</td>\n",
       "      <td>2002-04</td>\n",
       "      <td>102.970854</td>\n",
       "      <td>4.111111</td>\n",
       "      <td>3.447556</td>\n",
       "      <td>1.648185</td>\n",
       "      <td>1.106946</td>\n",
       "      <td>1.811403</td>\n",
       "      <td>2.160225</td>\n",
       "      <td>31.818883</td>\n",
       "      <td>13.762825</td>\n",
       "      <td>7791.520434</td>\n",
       "      <td>1.985814</td>\n",
       "      <td>1478.551502</td>\n",
       "      <td>9.253535e+06</td>\n",
       "      <td>138295.675109</td>\n",
       "      <td>2173.862739</td>\n",
       "      <td>1536.618612</td>\n",
       "      <td>849.547784</td>\n",
       "      <td>887.016637</td>\n",
       "      <td>718483.475701</td>\n",
       "      <td>15.044444</td>\n",
       "      <td>-0.177778</td>\n",
       "      <td>90001-2002-4</td>\n",
       "      <td>2278.460003</td>\n",
       "      <td>1.673685</td>\n",
       "      <td>16.930247</td>\n",
       "      <td>NaN</td>\n",
       "      <td>NaN</td>\n",
       "      <td>NaN</td>\n",
       "      <td>NaN</td>\n",
       "      <td>NaN</td>\n",
       "      <td>NaN</td>\n",
       "      <td>NaN</td>\n",
       "      <td>NaN</td>\n",
       "      <td>NaN</td>\n",
       "      <td>NaN</td>\n",
       "      <td>3</td>\n",
       "      <td>Los Angeles_4</td>\n",
       "      <td>NaN</td>\n",
       "      <td>NaN</td>\n",
       "      <td>NaN</td>\n",
       "      <td>NaN</td>\n",
       "      <td>NaN</td>\n",
       "      <td>NaN</td>\n",
       "      <td>NaN</td>\n",
       "      <td>NaN</td>\n",
       "      <td>NaN</td>\n",
       "      <td>NaN</td>\n",
       "      <td>NaN</td>\n",
       "      <td>NaN</td>\n",
       "      <td>NaN</td>\n",
       "      <td>NaN</td>\n",
       "      <td>NaN</td>\n",
       "      <td>NaN</td>\n",
       "      <td>NaN</td>\n",
       "      <td>NaN</td>\n",
       "      <td>NaN</td>\n",
       "      <td>NaN</td>\n",
       "    </tr>\n",
       "    <tr>\n",
       "      <th>28</th>\n",
       "      <td>37675</td>\n",
       "      <td>37675</td>\n",
       "      <td>2002-05-01</td>\n",
       "      <td>90001</td>\n",
       "      <td>Los Angeles</td>\n",
       "      <td>Los Angeles County</td>\n",
       "      <td>14.183333</td>\n",
       "      <td>44.728889</td>\n",
       "      <td>43.703333</td>\n",
       "      <td>6104.0</td>\n",
       "      <td>3152.0</td>\n",
       "      <td>2952.0</td>\n",
       "      <td>6402.0</td>\n",
       "      <td>3247.0</td>\n",
       "      <td>3155.0</td>\n",
       "      <td>5548.0</td>\n",
       "      <td>2833.0</td>\n",
       "      <td>2715.0</td>\n",
       "      <td>5176.0</td>\n",
       "      <td>2644.0</td>\n",
       "      <td>2532.0</td>\n",
       "      <td>23230.0</td>\n",
       "      <td>11876.0</td>\n",
       "      <td>11354.0</td>\n",
       "      <td>55007.0</td>\n",
       "      <td>27550.0</td>\n",
       "      <td>27457.0</td>\n",
       "      <td>14.241154</td>\n",
       "      <td>3854.812685</td>\n",
       "      <td>-90.196586</td>\n",
       "      <td>1.434252</td>\n",
       "      <td>56.411179</td>\n",
       "      <td>56.411179</td>\n",
       "      <td>146.607765</td>\n",
       "      <td>146.607765</td>\n",
       "      <td>146.607765</td>\n",
       "      <td>0.265553</td>\n",
       "      <td>0.0</td>\n",
       "      <td>1.434252</td>\n",
       "      <td>20914.811067</td>\n",
       "      <td>2417758.0</td>\n",
       "      <td>43.953642</td>\n",
       "      <td>17.177778</td>\n",
       "      <td>17.166667</td>\n",
       "      <td>9</td>\n",
       "      <td>17.416666</td>\n",
       "      <td>23.780555</td>\n",
       "      <td>23.418518</td>\n",
       "      <td>22.259722</td>\n",
       "      <td>21.890278</td>\n",
       "      <td>-2.592857</td>\n",
       "      <td>-0.403333</td>\n",
       "      <td>0.253205</td>\n",
       "      <td>0.119043</td>\n",
       "      <td>21.066666</td>\n",
       "      <td>2002</td>\n",
       "      <td>5</td>\n",
       "      <td>0</td>\n",
       "      <td>0</td>\n",
       "      <td>0</td>\n",
       "      <td>0</td>\n",
       "      <td>0</td>\n",
       "      <td>0</td>\n",
       "      <td>0</td>\n",
       "      <td>0</td>\n",
       "      <td>0</td>\n",
       "      <td>0</td>\n",
       "      <td>0</td>\n",
       "      <td>0</td>\n",
       "      <td>0</td>\n",
       "      <td>0</td>\n",
       "      <td>0</td>\n",
       "      <td>0</td>\n",
       "      <td>0</td>\n",
       "      <td>0</td>\n",
       "      <td>1</td>\n",
       "      <td>0</td>\n",
       "      <td>0</td>\n",
       "      <td>0</td>\n",
       "      <td>0</td>\n",
       "      <td>0</td>\n",
       "      <td>0</td>\n",
       "      <td>0</td>\n",
       "      <td>0</td>\n",
       "      <td>0</td>\n",
       "      <td>0</td>\n",
       "      <td>0</td>\n",
       "      <td>0</td>\n",
       "      <td>0</td>\n",
       "      <td>0</td>\n",
       "      <td>0</td>\n",
       "      <td>0</td>\n",
       "      <td>0</td>\n",
       "      <td>0</td>\n",
       "      <td>0</td>\n",
       "      <td>0</td>\n",
       "      <td>0</td>\n",
       "      <td>0</td>\n",
       "      <td>0</td>\n",
       "      <td>0</td>\n",
       "      <td>0</td>\n",
       "      <td>0</td>\n",
       "      <td>0</td>\n",
       "      <td>0</td>\n",
       "      <td>0</td>\n",
       "      <td>0</td>\n",
       "      <td>0</td>\n",
       "      <td>0</td>\n",
       "      <td>0</td>\n",
       "      <td>0</td>\n",
       "      <td>0</td>\n",
       "      <td>0</td>\n",
       "      <td>0</td>\n",
       "      <td>0</td>\n",
       "      <td>0</td>\n",
       "      <td>0</td>\n",
       "      <td>0</td>\n",
       "      <td>0</td>\n",
       "      <td>0</td>\n",
       "      <td>1</td>\n",
       "      <td>0</td>\n",
       "      <td>0</td>\n",
       "      <td>0</td>\n",
       "      <td>0</td>\n",
       "      <td>0</td>\n",
       "      <td>0</td>\n",
       "      <td>0</td>\n",
       "      <td>2002-05</td>\n",
       "      <td>107.127111</td>\n",
       "      <td>4.111111</td>\n",
       "      <td>3.447556</td>\n",
       "      <td>1.538614</td>\n",
       "      <td>1.138897</td>\n",
       "      <td>1.943726</td>\n",
       "      <td>2.168665</td>\n",
       "      <td>33.832766</td>\n",
       "      <td>13.762825</td>\n",
       "      <td>7791.520434</td>\n",
       "      <td>2.056196</td>\n",
       "      <td>1399.102240</td>\n",
       "      <td>9.067496e+06</td>\n",
       "      <td>131458.279582</td>\n",
       "      <td>2129.958211</td>\n",
       "      <td>1460.647551</td>\n",
       "      <td>924.056460</td>\n",
       "      <td>967.487377</td>\n",
       "      <td>783664.775248</td>\n",
       "      <td>17.172222</td>\n",
       "      <td>0.011111</td>\n",
       "      <td>90001-2002-5</td>\n",
       "      <td>2324.052400</td>\n",
       "      <td>1.698342</td>\n",
       "      <td>16.316049</td>\n",
       "      <td>NaN</td>\n",
       "      <td>NaN</td>\n",
       "      <td>NaN</td>\n",
       "      <td>NaN</td>\n",
       "      <td>NaN</td>\n",
       "      <td>NaN</td>\n",
       "      <td>NaN</td>\n",
       "      <td>NaN</td>\n",
       "      <td>NaN</td>\n",
       "      <td>NaN</td>\n",
       "      <td>3</td>\n",
       "      <td>Los Angeles_5</td>\n",
       "      <td>NaN</td>\n",
       "      <td>NaN</td>\n",
       "      <td>NaN</td>\n",
       "      <td>NaN</td>\n",
       "      <td>NaN</td>\n",
       "      <td>NaN</td>\n",
       "      <td>NaN</td>\n",
       "      <td>NaN</td>\n",
       "      <td>NaN</td>\n",
       "      <td>NaN</td>\n",
       "      <td>NaN</td>\n",
       "      <td>NaN</td>\n",
       "      <td>NaN</td>\n",
       "      <td>NaN</td>\n",
       "      <td>NaN</td>\n",
       "      <td>NaN</td>\n",
       "      <td>NaN</td>\n",
       "      <td>NaN</td>\n",
       "      <td>NaN</td>\n",
       "      <td>NaN</td>\n",
       "    </tr>\n",
       "  </tbody>\n",
       "</table>\n",
       "</div>\n",
       "      <button class=\"colab-df-convert\" onclick=\"convertToInteractive('df-122110c1-9cd4-42ef-bb17-59a747ac2fbe')\"\n",
       "              title=\"Convert this dataframe to an interactive table.\"\n",
       "              style=\"display:none;\">\n",
       "        \n",
       "  <svg xmlns=\"http://www.w3.org/2000/svg\" height=\"24px\"viewBox=\"0 0 24 24\"\n",
       "       width=\"24px\">\n",
       "    <path d=\"M0 0h24v24H0V0z\" fill=\"none\"/>\n",
       "    <path d=\"M18.56 5.44l.94 2.06.94-2.06 2.06-.94-2.06-.94-.94-2.06-.94 2.06-2.06.94zm-11 1L8.5 8.5l.94-2.06 2.06-.94-2.06-.94L8.5 2.5l-.94 2.06-2.06.94zm10 10l.94 2.06.94-2.06 2.06-.94-2.06-.94-.94-2.06-.94 2.06-2.06.94z\"/><path d=\"M17.41 7.96l-1.37-1.37c-.4-.4-.92-.59-1.43-.59-.52 0-1.04.2-1.43.59L10.3 9.45l-7.72 7.72c-.78.78-.78 2.05 0 2.83L4 21.41c.39.39.9.59 1.41.59.51 0 1.02-.2 1.41-.59l7.78-7.78 2.81-2.81c.8-.78.8-2.07 0-2.86zM5.41 20L4 18.59l7.72-7.72 1.47 1.35L5.41 20z\"/>\n",
       "  </svg>\n",
       "      </button>\n",
       "      \n",
       "  <style>\n",
       "    .colab-df-container {\n",
       "      display:flex;\n",
       "      flex-wrap:wrap;\n",
       "      gap: 12px;\n",
       "    }\n",
       "\n",
       "    .colab-df-convert {\n",
       "      background-color: #E8F0FE;\n",
       "      border: none;\n",
       "      border-radius: 50%;\n",
       "      cursor: pointer;\n",
       "      display: none;\n",
       "      fill: #1967D2;\n",
       "      height: 32px;\n",
       "      padding: 0 0 0 0;\n",
       "      width: 32px;\n",
       "    }\n",
       "\n",
       "    .colab-df-convert:hover {\n",
       "      background-color: #E2EBFA;\n",
       "      box-shadow: 0px 1px 2px rgba(60, 64, 67, 0.3), 0px 1px 3px 1px rgba(60, 64, 67, 0.15);\n",
       "      fill: #174EA6;\n",
       "    }\n",
       "\n",
       "    [theme=dark] .colab-df-convert {\n",
       "      background-color: #3B4455;\n",
       "      fill: #D2E3FC;\n",
       "    }\n",
       "\n",
       "    [theme=dark] .colab-df-convert:hover {\n",
       "      background-color: #434B5C;\n",
       "      box-shadow: 0px 1px 3px 1px rgba(0, 0, 0, 0.15);\n",
       "      filter: drop-shadow(0px 1px 2px rgba(0, 0, 0, 0.3));\n",
       "      fill: #FFFFFF;\n",
       "    }\n",
       "  </style>\n",
       "\n",
       "      <script>\n",
       "        const buttonEl =\n",
       "          document.querySelector('#df-122110c1-9cd4-42ef-bb17-59a747ac2fbe button.colab-df-convert');\n",
       "        buttonEl.style.display =\n",
       "          google.colab.kernel.accessAllowed ? 'block' : 'none';\n",
       "\n",
       "        async function convertToInteractive(key) {\n",
       "          const element = document.querySelector('#df-122110c1-9cd4-42ef-bb17-59a747ac2fbe');\n",
       "          const dataTable =\n",
       "            await google.colab.kernel.invokeFunction('convertToInteractive',\n",
       "                                                     [key], {});\n",
       "          if (!dataTable) return;\n",
       "\n",
       "          const docLinkHtml = 'Like what you see? Visit the ' +\n",
       "            '<a target=\"_blank\" href=https://colab.research.google.com/notebooks/data_table.ipynb>data table notebook</a>'\n",
       "            + ' to learn more about interactive tables.';\n",
       "          element.innerHTML = '';\n",
       "          dataTable['output_type'] = 'display_data';\n",
       "          await google.colab.output.renderOutput(dataTable, element);\n",
       "          const docLink = document.createElement('div');\n",
       "          docLink.innerHTML = docLinkHtml;\n",
       "          element.appendChild(docLink);\n",
       "        }\n",
       "      </script>\n",
       "    </div>\n",
       "  </div>\n",
       "  "
      ]
     },
     "metadata": {},
     "execution_count": 70
    }
   ],
   "source": [
    "df_all.head()"
   ]
  },
  {
   "cell_type": "markdown",
   "metadata": {
    "id": "odhfU2LChBQc"
   },
   "source": [
    "#### 5.6. Filter out the nulls in inputs"
   ]
  },
  {
   "cell_type": "code",
   "execution_count": 71,
   "metadata": {
    "colab": {
     "base_uri": "https://localhost:8080/"
    },
    "id": "DQjO4y88hBQc",
    "executionInfo": {
     "status": "ok",
     "timestamp": 1670216436927,
     "user_tz": 480,
     "elapsed": 139,
     "user": {
      "displayName": "Trevor Johnson",
      "userId": "10875792761423186902"
     }
    },
    "outputId": "cf6a0cd3-e8d1-4f06-dc27-4203928a1d24"
   },
   "outputs": [
    {
     "output_type": "execute_result",
     "data": {
      "text/plain": [
       "pm25_last_month                             24\n",
       "pm25_r6                                    146\n",
       "pm25_r9                                    224\n",
       "pm25_r12                                   302\n",
       "pm25_r24                                  1065\n",
       "pm25_slope6                                146\n",
       "pm25_slope9                                224\n",
       "pm25_slope12                               302\n",
       "pm25_slope24                              1065\n",
       "pm25_lag_12mo                              302\n",
       "Izmy_v4_nodist_normed_TPY_r9               224\n",
       "avg_wspd_top_15_r9                         224\n",
       "avg_temp_r9                                224\n",
       "visits_hematopoietic_cancers            195437\n",
       "visits_resp_cardio                      125698\n",
       "visits_pediatric_vasculitis             170004\n",
       "visits_injuries_accidents               131125\n",
       "visits_type_1_diabetes                  196486\n",
       "y_visits_hematopoietic_cancers          195437\n",
       "y_visits_resp_cardio                    125698\n",
       "y_visits_pediatric_vasculitis           170004\n",
       "y_visits_injuries_accidents             131125\n",
       "y_visits_type_1_diabetes                196486\n",
       "visits_hematopoietic_cancers_fwd3       196523\n",
       "y_visits_hematopoietic_cancers_fwd3     196523\n",
       "visits_hematopoietic_cancers_cent3      196495\n",
       "y_visits_hematopoietic_cancers_cent3    196495\n",
       "visits_resp_cardio_fwd3                 127182\n",
       "y_visits_resp_cardio_fwd3               127182\n",
       "visits_resp_cardio_cent3                126581\n",
       "y_visits_resp_cardio_cent3              126581\n",
       "visits_pediatric_vasculitis_fwd3        171199\n",
       "y_visits_pediatric_vasculitis_fwd3      171199\n",
       "visits_pediatric_vasculitis_cent3       171048\n",
       "y_visits_pediatric_vasculitis_cent3     171048\n",
       "visits_injuries_accidents_fwd3          132609\n",
       "y_visits_injuries_accidents_fwd3        132609\n",
       "visits_injuries_accidents_cent3         132214\n",
       "y_visits_injuries_accidents_cent3       132214\n",
       "visits_type_1_diabetes_fwd3             197680\n",
       "y_visits_type_1_diabetes_fwd3           197680\n",
       "visits_type_1_diabetes_cent3            197665\n",
       "y_visits_type_1_diabetes_cent3          197665\n",
       "dtype: int64"
      ]
     },
     "metadata": {},
     "execution_count": 71
    }
   ],
   "source": [
    "# EDA: Displays all nulls in the dataset\n",
    "temp = df_all.isna().sum()\n",
    "temp[temp > 0]\n"
   ]
  },
  {
   "cell_type": "code",
   "execution_count": 72,
   "metadata": {
    "colab": {
     "base_uri": "https://localhost:8080/"
    },
    "id": "H2BwonjvhBQc",
    "executionInfo": {
     "status": "ok",
     "timestamp": 1670216436928,
     "user_tz": 480,
     "elapsed": 3,
     "user": {
      "displayName": "Trevor Johnson",
      "userId": "10875792761423186902"
     }
    },
    "outputId": "715c86a0-c7f2-4251-a93b-8ee9695f618f"
   },
   "outputs": [
    {
     "output_type": "execute_result",
     "data": {
      "text/plain": [
       "pm25_r9                         224\n",
       "Izmy_v4_nodist_normed_TPY_r9    224\n",
       "dtype: int64"
      ]
     },
     "metadata": {},
     "execution_count": 72
    }
   ],
   "source": [
    "# check if number of NAs in the predictor and target columns are the same \n",
    "temp.loc[[target_name_s1, predictor_name_s1]]"
   ]
  },
  {
   "cell_type": "markdown",
   "metadata": {
    "id": "tMFrHounhBQc"
   },
   "source": [
    "#### 5.7. Save dataset with nulls filtered out of Instrumental Variables as new variable, `df_all_iv_filtered`, to use in Stage 1 regression"
   ]
  },
  {
   "cell_type": "code",
   "execution_count": 73,
   "metadata": {
    "id": "8B5Wzj-7hBQd",
    "executionInfo": {
     "status": "ok",
     "timestamp": 1670216437347,
     "user_tz": 480,
     "elapsed": 421,
     "user": {
      "displayName": "Trevor Johnson",
      "userId": "10875792761423186902"
     }
    }
   },
   "outputs": [],
   "source": [
    "# filter out NAs \n",
    "df_all_iv_filtered = df_all.dropna(subset=[target_name_s1, predictor_name_s1])"
   ]
  },
  {
   "cell_type": "code",
   "execution_count": 74,
   "metadata": {
    "colab": {
     "base_uri": "https://localhost:8080/"
    },
    "id": "mjvoKDNJhBQd",
    "executionInfo": {
     "status": "ok",
     "timestamp": 1670216438037,
     "user_tz": 480,
     "elapsed": 694,
     "user": {
      "displayName": "Trevor Johnson",
      "userId": "10875792761423186902"
     }
    },
    "outputId": "3822018b-bd48-4264-e77a-dacbdef5761c"
   },
   "outputs": [
    {
     "output_type": "execute_result",
     "data": {
      "text/plain": [
       "pm25_r9                         0\n",
       "Izmy_v4_nodist_normed_TPY_r9    0\n",
       "dtype: int64"
      ]
     },
     "metadata": {},
     "execution_count": 74
    }
   ],
   "source": [
    "# check that NAs were filtered out of dataframe\n",
    "df_all_iv_filtered.isna().sum().loc[[target_name_s1, predictor_name_s1]]"
   ]
  },
  {
   "cell_type": "markdown",
   "metadata": {
    "id": "CwtViwxjhBQd"
   },
   "source": [
    "---\n",
    "### Step 6: EDA"
   ]
  },
  {
   "cell_type": "code",
   "source": [
    "# correlation check\n",
    "# df_all_iv_filtered['pm25_r9']\n",
    "# df_all_iv_filtered['Izmy_v4_nodist_normed_TPY_r9']\n",
    "\n",
    "sns.set(rc = {'figure.figsize':(15,8)})\n",
    "sns.regplot(\n",
    "    data=df_all_iv_filtered, \n",
    "    x='Izmy_v4_nodist_normed_TPY_r9',\n",
    "    y='pm25_r9'\n",
    ")"
   ],
   "metadata": {
    "colab": {
     "base_uri": "https://localhost:8080/",
     "height": 519
    },
    "id": "AVGHrl70pBtH",
    "executionInfo": {
     "status": "ok",
     "timestamp": 1670216579188,
     "user_tz": 480,
     "elapsed": 43096,
     "user": {
      "displayName": "Trevor Johnson",
      "userId": "10875792761423186902"
     }
    },
    "outputId": "756ec7f8-6094-402d-eeb2-2473e306793b"
   },
   "execution_count": 77,
   "outputs": [
    {
     "output_type": "execute_result",
     "data": {
      "text/plain": [
       "<matplotlib.axes._subplots.AxesSubplot at 0x7fddd4f318b0>"
      ]
     },
     "metadata": {},
     "execution_count": 77
    },
    {
     "output_type": "display_data",
     "data": {
      "text/plain": [
       "<Figure size 1080x576 with 1 Axes>"
      ],
      "image/png": "[encoded data removed]"
     },
     "metadata": {}
    }
   ]
  },
  {
   "cell_type": "code",
   "source": [
    "# takes too long\n",
    "# sns.lmplot(data=df_all_iv_filtered, x='Izmy_v4_nodist_normed_TPY_r9', y='pm25_r9', lowess=True)"
   ],
   "metadata": {
    "id": "kGBh6gHYxFrH"
   },
   "execution_count": null,
   "outputs": []
  },
  {
   "cell_type": "code",
   "source": [
    "sns.set(rc = {'figure.figsize':(15,8)})\n",
    "sns.lmplot(data=df_all_iv_filtered.sample(frac=.1), x='Izmy_v4_nodist_normed_TPY_r9', y='pm25_r9', lowess=True)\n",
    "print('')"
   ],
   "metadata": {
    "colab": {
     "base_uri": "https://localhost:8080/",
     "height": 382
    },
    "id": "Fa7z3nJJrT9R",
    "executionInfo": {
     "status": "ok",
     "timestamp": 1670218357586,
     "user_tz": 480,
     "elapsed": 33334,
     "user": {
      "displayName": "Trevor Johnson",
      "userId": "10875792761423186902"
     }
    },
    "outputId": "cf8dae31-06b6-45ef-d56d-d177cf07249b"
   },
   "execution_count": 114,
   "outputs": [
    {
     "output_type": "stream",
     "name": "stdout",
     "text": [
      "\n"
     ]
    },
    {
     "output_type": "display_data",
     "data": {
      "text/plain": [
       "<Figure size 360x360 with 1 Axes>"
      ],
      "image/png": "[encoded data removed]"
     },
     "metadata": {}
    }
   ]
  },
  {
   "cell_type": "code",
   "source": [
    "#df_all_iv_filtered['instrum_binned']\n",
    "df_all_iv_filtered['instrum_binned'] = df_all_iv_filtered['Izmy_v4_nodist_normed_TPY_r9'].map(lambda x: \n",
    "    '0-1000' if (x >= 0 and x < 1000) else (\n",
    "    '1000-2000' if (x >= 1000 and x < 2000) else (\n",
    "    '2000-3000' if (x >= 2000 and x < 3000) else (\n",
    "    '3000-4000' if (x >= 3000 and x < 4000) else (\n",
    "    '4000-5000' if (x >= 4000 and x < 5000) else (\n",
    "    '5000-6000' if (x >= 5000 and x < 6000) else (\n",
    "    '6000-7000' if (x >= 6000 and x < 7000) else (\n",
    "    '7000+' if (x >= 7000) else (\n",
    "    'other')))))))))"
   ],
   "metadata": {
    "id": "4WCFwAQUrBHw",
    "executionInfo": {
     "status": "ok",
     "timestamp": 1670217780115,
     "user_tz": 480,
     "elapsed": 507,
     "user": {
      "displayName": "Trevor Johnson",
      "userId": "10875792761423186902"
     }
    }
   },
   "execution_count": 108,
   "outputs": []
  },
  {
   "cell_type": "code",
   "source": [
    "df_res = df_all_iv_filtered.groupby('instrum_binned')\\\n",
    "  .agg(**{\n",
    "      'pm25_r9': ('pm25_r9', 'mean'), \n",
    "      'n': ('pm25_r9', 'count')\n",
    "      }).reset_index()"
   ],
   "metadata": {
    "id": "tZczrW8UsDbg",
    "executionInfo": {
     "status": "ok",
     "timestamp": 1670217780582,
     "user_tz": 480,
     "elapsed": 1,
     "user": {
      "displayName": "Trevor Johnson",
      "userId": "10875792761423186902"
     }
    }
   },
   "execution_count": 109,
   "outputs": []
  },
  {
   "cell_type": "code",
   "source": [
    "df_res"
   ],
   "metadata": {
    "colab": {
     "base_uri": "https://localhost:8080/",
     "height": 300
    },
    "id": "PvxbAdI_uI3i",
    "executionInfo": {
     "status": "ok",
     "timestamp": 1670217780797,
     "user_tz": 480,
     "elapsed": 6,
     "user": {
      "displayName": "Trevor Johnson",
      "userId": "10875792761423186902"
     }
    },
    "outputId": "2d86073a-8555-43ec-ced1-40d794b273ff"
   },
   "execution_count": 110,
   "outputs": [
    {
     "output_type": "execute_result",
     "data": {
      "text/plain": [
       "  instrum_binned    pm25_r9      n\n",
       "0         0-1000   9.155778  26819\n",
       "1      1000-2000  10.647000  83184\n",
       "2      2000-3000   9.829932  45993\n",
       "3      3000-4000   9.203337  25835\n",
       "4      4000-5000   9.254969  18536\n",
       "5      5000-6000  10.072050  14705\n",
       "6      6000-7000  10.371334  10869\n",
       "7          7000+   9.285664  36509"
      ],
      "text/html": [
       "\n",
       "  <div id=\"df-84e010ce-1a85-4074-af86-09232e83c09d\">\n",
       "    <div class=\"colab-df-container\">\n",
       "      <div>\n",
       "<style scoped>\n",
       "    .dataframe tbody tr th:only-of-type {\n",
       "        vertical-align: middle;\n",
       "    }\n",
       "\n",
       "    .dataframe tbody tr th {\n",
       "        vertical-align: top;\n",
       "    }\n",
       "\n",
       "    .dataframe thead th {\n",
       "        text-align: right;\n",
       "    }\n",
       "</style>\n",
       "<table border=\"1\" class=\"dataframe\">\n",
       "  <thead>\n",
       "    <tr style=\"text-align: right;\">\n",
       "      <th></th>\n",
       "      <th>instrum_binned</th>\n",
       "      <th>pm25_r9</th>\n",
       "      <th>n</th>\n",
       "    </tr>\n",
       "  </thead>\n",
       "  <tbody>\n",
       "    <tr>\n",
       "      <th>0</th>\n",
       "      <td>0-1000</td>\n",
       "      <td>9.155778</td>\n",
       "      <td>26819</td>\n",
       "    </tr>\n",
       "    <tr>\n",
       "      <th>1</th>\n",
       "      <td>1000-2000</td>\n",
       "      <td>10.647000</td>\n",
       "      <td>83184</td>\n",
       "    </tr>\n",
       "    <tr>\n",
       "      <th>2</th>\n",
       "      <td>2000-3000</td>\n",
       "      <td>9.829932</td>\n",
       "      <td>45993</td>\n",
       "    </tr>\n",
       "    <tr>\n",
       "      <th>3</th>\n",
       "      <td>3000-4000</td>\n",
       "      <td>9.203337</td>\n",
       "      <td>25835</td>\n",
       "    </tr>\n",
       "    <tr>\n",
       "      <th>4</th>\n",
       "      <td>4000-5000</td>\n",
       "      <td>9.254969</td>\n",
       "      <td>18536</td>\n",
       "    </tr>\n",
       "    <tr>\n",
       "      <th>5</th>\n",
       "      <td>5000-6000</td>\n",
       "      <td>10.072050</td>\n",
       "      <td>14705</td>\n",
       "    </tr>\n",
       "    <tr>\n",
       "      <th>6</th>\n",
       "      <td>6000-7000</td>\n",
       "      <td>10.371334</td>\n",
       "      <td>10869</td>\n",
       "    </tr>\n",
       "    <tr>\n",
       "      <th>7</th>\n",
       "      <td>7000+</td>\n",
       "      <td>9.285664</td>\n",
       "      <td>36509</td>\n",
       "    </tr>\n",
       "  </tbody>\n",
       "</table>\n",
       "</div>\n",
       "      <button class=\"colab-df-convert\" onclick=\"convertToInteractive('df-84e010ce-1a85-4074-af86-09232e83c09d')\"\n",
       "              title=\"Convert this dataframe to an interactive table.\"\n",
       "              style=\"display:none;\">\n",
       "        \n",
       "  <svg xmlns=\"http://www.w3.org/2000/svg\" height=\"24px\"viewBox=\"0 0 24 24\"\n",
       "       width=\"24px\">\n",
       "    <path d=\"M0 0h24v24H0V0z\" fill=\"none\"/>\n",
       "    <path d=\"M18.56 5.44l.94 2.06.94-2.06 2.06-.94-2.06-.94-.94-2.06-.94 2.06-2.06.94zm-11 1L8.5 8.5l.94-2.06 2.06-.94-2.06-.94L8.5 2.5l-.94 2.06-2.06.94zm10 10l.94 2.06.94-2.06 2.06-.94-2.06-.94-.94-2.06-.94 2.06-2.06.94z\"/><path d=\"M17.41 7.96l-1.37-1.37c-.4-.4-.92-.59-1.43-.59-.52 0-1.04.2-1.43.59L10.3 9.45l-7.72 7.72c-.78.78-.78 2.05 0 2.83L4 21.41c.39.39.9.59 1.41.59.51 0 1.02-.2 1.41-.59l7.78-7.78 2.81-2.81c.8-.78.8-2.07 0-2.86zM5.41 20L4 18.59l7.72-7.72 1.47 1.35L5.41 20z\"/>\n",
       "  </svg>\n",
       "      </button>\n",
       "      \n",
       "  <style>\n",
       "    .colab-df-container {\n",
       "      display:flex;\n",
       "      flex-wrap:wrap;\n",
       "      gap: 12px;\n",
       "    }\n",
       "\n",
       "    .colab-df-convert {\n",
       "      background-color: #E8F0FE;\n",
       "      border: none;\n",
       "      border-radius: 50%;\n",
       "      cursor: pointer;\n",
       "      display: none;\n",
       "      fill: #1967D2;\n",
       "      height: 32px;\n",
       "      padding: 0 0 0 0;\n",
       "      width: 32px;\n",
       "    }\n",
       "\n",
       "    .colab-df-convert:hover {\n",
       "      background-color: #E2EBFA;\n",
       "      box-shadow: 0px 1px 2px rgba(60, 64, 67, 0.3), 0px 1px 3px 1px rgba(60, 64, 67, 0.15);\n",
       "      fill: #174EA6;\n",
       "    }\n",
       "\n",
       "    [theme=dark] .colab-df-convert {\n",
       "      background-color: #3B4455;\n",
       "      fill: #D2E3FC;\n",
       "    }\n",
       "\n",
       "    [theme=dark] .colab-df-convert:hover {\n",
       "      background-color: #434B5C;\n",
       "      box-shadow: 0px 1px 3px 1px rgba(0, 0, 0, 0.15);\n",
       "      filter: drop-shadow(0px 1px 2px rgba(0, 0, 0, 0.3));\n",
       "      fill: #FFFFFF;\n",
       "    }\n",
       "  </style>\n",
       "\n",
       "      <script>\n",
       "        const buttonEl =\n",
       "          document.querySelector('#df-84e010ce-1a85-4074-af86-09232e83c09d button.colab-df-convert');\n",
       "        buttonEl.style.display =\n",
       "          google.colab.kernel.accessAllowed ? 'block' : 'none';\n",
       "\n",
       "        async function convertToInteractive(key) {\n",
       "          const element = document.querySelector('#df-84e010ce-1a85-4074-af86-09232e83c09d');\n",
       "          const dataTable =\n",
       "            await google.colab.kernel.invokeFunction('convertToInteractive',\n",
       "                                                     [key], {});\n",
       "          if (!dataTable) return;\n",
       "\n",
       "          const docLinkHtml = 'Like what you see? Visit the ' +\n",
       "            '<a target=\"_blank\" href=https://colab.research.google.com/notebooks/data_table.ipynb>data table notebook</a>'\n",
       "            + ' to learn more about interactive tables.';\n",
       "          element.innerHTML = '';\n",
       "          dataTable['output_type'] = 'display_data';\n",
       "          await google.colab.output.renderOutput(dataTable, element);\n",
       "          const docLink = document.createElement('div');\n",
       "          docLink.innerHTML = docLinkHtml;\n",
       "          element.appendChild(docLink);\n",
       "        }\n",
       "      </script>\n",
       "    </div>\n",
       "  </div>\n",
       "  "
      ]
     },
     "metadata": {},
     "execution_count": 110
    }
   ]
  },
  {
   "cell_type": "code",
   "source": [
    "fig, ax = plt.subplots()\n",
    "x = np.arange(df_res.shape[0])\n",
    "width = .7\n",
    "\n",
    "# set the bars\n",
    "ax.bar(x, df_res['pm25_r9'], width, label = \"x\")\n",
    "ax.set_xlabel(\"instrum_binned\", size=15)\n",
    "ax.set_ylabel(\"pm25_r9\", size=15)\n",
    "ax.set_title(\"Distribution of grouped instrument\", size=25)\n",
    "\n",
    "import matplotlib.ticker as mticker\n",
    "x = np.arange(len(df_res.instrum_binned))\n",
    "ax.xaxis.set_major_locator(mticker.FixedLocator(x))\n",
    "ax.set_xticklabels(df_res.instrum_binned, rotation = 45)\n",
    "\n",
    "# loop through each label and set positions\n",
    "for i in range(df_res.shape[0]):\n",
    "    ax.text(x = i, y = df_res['pm25_r9'][i], s=np.round(df_res['pm25_r9'][i],3), ha='center', size=20)\n",
    "\n"
   ],
   "metadata": {
    "colab": {
     "base_uri": "https://localhost:8080/",
     "height": 570
    },
    "id": "5Yehlxw7pOzh",
    "executionInfo": {
     "status": "ok",
     "timestamp": 1670219098711,
     "user_tz": 480,
     "elapsed": 508,
     "user": {
      "displayName": "Trevor Johnson",
      "userId": "10875792761423186902"
     }
    },
    "outputId": "7c7d2894-4a49-40e9-9071-c690ab89cb82"
   },
   "execution_count": 115,
   "outputs": [
    {
     "output_type": "display_data",
     "data": {
      "text/plain": [
       "<Figure size 1080x576 with 1 Axes>"
      ],
      "image/png": "[encoded data removed]"
     },
     "metadata": {}
    }
   ]
  },
  {
   "cell_type": "markdown",
   "metadata": {
    "id": "XI-USkA8hBQd"
   },
   "source": [
    "``pm25 and instrument``"
   ]
  },
  {
   "cell_type": "code",
   "execution_count": null,
   "metadata": {
    "id": "FNRNSXvChBQd",
    "outputId": "6ebc0d81-6b79-4280-827a-ddaeb1cf68e4"
   },
   "outputs": [
    {
     "data": {
      "image/png": "[encoded data removed]",
      "text/plain": [
       "<Figure size 720x360 with 2 Axes>"
      ]
     },
     "metadata": {
      "needs_background": "light"
     },
     "output_type": "display_data"
    }
   ],
   "source": [
    "#columns = ['pm25', 'avg_wind_alignment_cosine'] # hardcoded previously but made dynamically\n",
    "columns = [target_name_s1, predictor_name_s1]\n",
    "\n",
    "\n",
    "# compute visits by patzip_year_month\n",
    "fig, axes = plt.subplots(1, 2, sharex=False, sharey=False, figsize=(10, 5))\n",
    "\n",
    "for idx, ax in enumerate(axes.flatten()):\n",
    "    sb.histplot(\n",
    "            df_all_iv_filtered[columns[idx]],\n",
    "            ax=ax\n",
    "        )\n",
    "    \n",
    "    if idx in [0]:\n",
    "        ax.set_ylabel('Count')\n",
    "    else:\n",
    "        ax.set_ylabel(' ')"
   ]
  },
  {
   "cell_type": "markdown",
   "metadata": {
    "id": "AJCiENZ8hBQd"
   },
   "source": [
    "``health outcomes``"
   ]
  },
  {
   "cell_type": "code",
   "execution_count": null,
   "metadata": {
    "id": "E0Ldl0zVhBQd",
    "outputId": "9f804061-2574-4a0c-a4f8-60c1014fc84b"
   },
   "outputs": [
    {
     "name": "stdout",
     "output_type": "stream",
     "text": [
      "['y_visits_hematopoietic_cancers', 'y_visits_injuries_accidents', 'y_visits_type_1_diabetes', 'y_visits_pediatric_vasculitis', 'y_visits_resp_cardio']\n"
     ]
    }
   ],
   "source": [
    "print(y_col_names)"
   ]
  },
  {
   "cell_type": "code",
   "execution_count": null,
   "metadata": {
    "id": "b1Ser-CShBQd",
    "outputId": "be8fae61-eed6-452f-e6e1-3dfbbc305e79"
   },
   "outputs": [
    {
     "data": {
      "image/png": "[encoded data removed]",
      "text/plain": [
       "<Figure size 1800x360 with 5 Axes>"
      ]
     },
     "metadata": {
      "needs_background": "light"
     },
     "output_type": "display_data"
    }
   ],
   "source": [
    "#columns = df_h.columns[1:]\n",
    "columns = y_col_names_lag\n",
    "\n",
    "# compute visits by patzip_year_month\n",
    "fig, axes = plt.subplots(int(len(columns)/5), 5, sharex=False, sharey=False, figsize=(25, int(len(columns))))\n",
    "\n",
    "for idx, ax in enumerate(axes.flatten()):\n",
    "    sb.histplot(\n",
    "            df_all_iv_filtered[columns[idx]],\n",
    "            ax=ax\n",
    "        )\n",
    "    if idx in [0, 5]:\n",
    "        ax.set_ylabel('Count')\n",
    "    else:\n",
    "        ax.set_ylabel(' ')"
   ]
  },
  {
   "cell_type": "markdown",
   "metadata": {
    "id": "zzn7esSFhBQd"
   },
   "source": [
    "---\n",
    "### Step 7: Analysis - linear modeling"
   ]
  },
  {
   "cell_type": "markdown",
   "metadata": {
    "id": "b8GbCB7JhBQd"
   },
   "source": [
    "#### 7.1. Check outcome_hat columns\n",
    "* Make sure that the format contains the lag"
   ]
  },
  {
   "cell_type": "code",
   "execution_count": null,
   "metadata": {
    "id": "DDhIJDwZhBQd",
    "outputId": "8e34d5a3-cdd9-47a7-c627-f4856aa5b499"
   },
   "outputs": [
    {
     "name": "stdout",
     "output_type": "stream",
     "text": [
      "['y_visits_hematopoietic_cancers_fwd3', 'y_visits_injuries_accidents_fwd3', 'y_visits_type_1_diabetes_fwd3', 'y_visits_pediatric_vasculitis_fwd3', 'y_visits_resp_cardio_fwd3']\n"
     ]
    }
   ],
   "source": [
    "# verify names of columns + lag we're going to use\n",
    "print(y_col_names_lag)\n"
   ]
  },
  {
   "cell_type": "markdown",
   "metadata": {
    "id": "27KKShZRhBQe"
   },
   "source": [
    "#### 7.2. ``fit ols``"
   ]
  },
  {
   "cell_type": "code",
   "execution_count": null,
   "metadata": {
    "id": "p-SOrKlVhBQe",
    "outputId": "ecd67353-20c3-4720-eb70-f74275659b76"
   },
   "outputs": [
    {
     "name": "stdout",
     "output_type": "stream",
     "text": [
      "Outcome:  y_visits_hematopoietic_cancers_fwd3\n",
      "-------------------------------------\n"
     ]
    },
    {
     "data": {
      "text/html": [
       "<div>\n",
       "<style scoped>\n",
       "    .dataframe tbody tr th:only-of-type {\n",
       "        vertical-align: middle;\n",
       "    }\n",
       "\n",
       "    .dataframe tbody tr th {\n",
       "        vertical-align: top;\n",
       "    }\n",
       "\n",
       "    .dataframe thead th {\n",
       "        text-align: right;\n",
       "    }\n",
       "</style>\n",
       "<table border=\"1\" class=\"dataframe\">\n",
       "  <thead>\n",
       "    <tr style=\"text-align: right;\">\n",
       "      <th></th>\n",
       "      <th>variable</th>\n",
       "      <th>coef</th>\n",
       "      <th>std err</th>\n",
       "      <th>[0.025</th>\n",
       "      <th>0.975]</th>\n",
       "      <th>p-value</th>\n",
       "    </tr>\n",
       "  </thead>\n",
       "  <tbody>\n",
       "    <tr>\n",
       "      <th>0</th>\n",
       "      <td>pm25_r9</td>\n",
       "      <td>-0.029525</td>\n",
       "      <td>0.028476</td>\n",
       "      <td>-0.086781</td>\n",
       "      <td>0.027730</td>\n",
       "      <td>0.305006</td>\n",
       "    </tr>\n",
       "    <tr>\n",
       "      <th>1</th>\n",
       "      <td>Intercept</td>\n",
       "      <td>3.765059</td>\n",
       "      <td>1.159174</td>\n",
       "      <td>1.434383</td>\n",
       "      <td>6.095735</td>\n",
       "      <td>0.002124</td>\n",
       "    </tr>\n",
       "  </tbody>\n",
       "</table>\n",
       "</div>"
      ],
      "text/plain": [
       "    variable      coef   std err    [0.025    0.975]   p-value\n",
       "0    pm25_r9 -0.029525  0.028476 -0.086781  0.027730  0.305006\n",
       "1  Intercept  3.765059  1.159174  1.434383  6.095735  0.002124"
      ]
     },
     "metadata": {},
     "output_type": "display_data"
    },
    {
     "name": "stdout",
     "output_type": "stream",
     "text": [
      "Outcome:  y_visits_injuries_accidents_fwd3\n",
      "-------------------------------------\n"
     ]
    },
    {
     "data": {
      "text/html": [
       "<div>\n",
       "<style scoped>\n",
       "    .dataframe tbody tr th:only-of-type {\n",
       "        vertical-align: middle;\n",
       "    }\n",
       "\n",
       "    .dataframe tbody tr th {\n",
       "        vertical-align: top;\n",
       "    }\n",
       "\n",
       "    .dataframe thead th {\n",
       "        text-align: right;\n",
       "    }\n",
       "</style>\n",
       "<table border=\"1\" class=\"dataframe\">\n",
       "  <thead>\n",
       "    <tr style=\"text-align: right;\">\n",
       "      <th></th>\n",
       "      <th>variable</th>\n",
       "      <th>coef</th>\n",
       "      <th>std err</th>\n",
       "      <th>[0.025</th>\n",
       "      <th>0.975]</th>\n",
       "      <th>p-value</th>\n",
       "    </tr>\n",
       "  </thead>\n",
       "  <tbody>\n",
       "    <tr>\n",
       "      <th>0</th>\n",
       "      <td>pm25_r9</td>\n",
       "      <td>-0.072941</td>\n",
       "      <td>3.929110</td>\n",
       "      <td>-7.960959</td>\n",
       "      <td>7.815077</td>\n",
       "      <td>0.985261</td>\n",
       "    </tr>\n",
       "    <tr>\n",
       "      <th>1</th>\n",
       "      <td>Intercept</td>\n",
       "      <td>128.192195</td>\n",
       "      <td>116.128504</td>\n",
       "      <td>-104.945506</td>\n",
       "      <td>361.329896</td>\n",
       "      <td>0.274826</td>\n",
       "    </tr>\n",
       "  </tbody>\n",
       "</table>\n",
       "</div>"
      ],
      "text/plain": [
       "    variable        coef     std err      [0.025      0.975]   p-value\n",
       "0    pm25_r9   -0.072941    3.929110   -7.960959    7.815077  0.985261\n",
       "1  Intercept  128.192195  116.128504 -104.945506  361.329896  0.274826"
      ]
     },
     "metadata": {},
     "output_type": "display_data"
    },
    {
     "name": "stdout",
     "output_type": "stream",
     "text": [
      "Outcome:  y_visits_type_1_diabetes_fwd3\n",
      "-------------------------------------\n"
     ]
    },
    {
     "data": {
      "text/html": [
       "<div>\n",
       "<style scoped>\n",
       "    .dataframe tbody tr th:only-of-type {\n",
       "        vertical-align: middle;\n",
       "    }\n",
       "\n",
       "    .dataframe tbody tr th {\n",
       "        vertical-align: top;\n",
       "    }\n",
       "\n",
       "    .dataframe thead th {\n",
       "        text-align: right;\n",
       "    }\n",
       "</style>\n",
       "<table border=\"1\" class=\"dataframe\">\n",
       "  <thead>\n",
       "    <tr style=\"text-align: right;\">\n",
       "      <th></th>\n",
       "      <th>variable</th>\n",
       "      <th>coef</th>\n",
       "      <th>std err</th>\n",
       "      <th>[0.025</th>\n",
       "      <th>0.975]</th>\n",
       "      <th>p-value</th>\n",
       "    </tr>\n",
       "  </thead>\n",
       "  <tbody>\n",
       "    <tr>\n",
       "      <th>0</th>\n",
       "      <td>pm25_r9</td>\n",
       "      <td>0.010183</td>\n",
       "      <td>0.058066</td>\n",
       "      <td>-0.106567</td>\n",
       "      <td>0.126932</td>\n",
       "      <td>0.861531</td>\n",
       "    </tr>\n",
       "    <tr>\n",
       "      <th>1</th>\n",
       "      <td>Intercept</td>\n",
       "      <td>-1.819591</td>\n",
       "      <td>2.976871</td>\n",
       "      <td>-7.804991</td>\n",
       "      <td>4.165809</td>\n",
       "      <td>0.543923</td>\n",
       "    </tr>\n",
       "  </tbody>\n",
       "</table>\n",
       "</div>"
      ],
      "text/plain": [
       "    variable      coef   std err    [0.025    0.975]   p-value\n",
       "0    pm25_r9  0.010183  0.058066 -0.106567  0.126932  0.861531\n",
       "1  Intercept -1.819591  2.976871 -7.804991  4.165809  0.543923"
      ]
     },
     "metadata": {},
     "output_type": "display_data"
    },
    {
     "name": "stdout",
     "output_type": "stream",
     "text": [
      "Outcome:  y_visits_pediatric_vasculitis_fwd3\n",
      "-------------------------------------\n"
     ]
    },
    {
     "data": {
      "text/html": [
       "<div>\n",
       "<style scoped>\n",
       "    .dataframe tbody tr th:only-of-type {\n",
       "        vertical-align: middle;\n",
       "    }\n",
       "\n",
       "    .dataframe tbody tr th {\n",
       "        vertical-align: top;\n",
       "    }\n",
       "\n",
       "    .dataframe thead th {\n",
       "        text-align: right;\n",
       "    }\n",
       "</style>\n",
       "<table border=\"1\" class=\"dataframe\">\n",
       "  <thead>\n",
       "    <tr style=\"text-align: right;\">\n",
       "      <th></th>\n",
       "      <th>variable</th>\n",
       "      <th>coef</th>\n",
       "      <th>std err</th>\n",
       "      <th>[0.025</th>\n",
       "      <th>0.975]</th>\n",
       "      <th>p-value</th>\n",
       "    </tr>\n",
       "  </thead>\n",
       "  <tbody>\n",
       "    <tr>\n",
       "      <th>0</th>\n",
       "      <td>pm25_r9</td>\n",
       "      <td>0.009059</td>\n",
       "      <td>0.009466</td>\n",
       "      <td>-0.009994</td>\n",
       "      <td>0.028113</td>\n",
       "      <td>0.343542</td>\n",
       "    </tr>\n",
       "    <tr>\n",
       "      <th>1</th>\n",
       "      <td>Intercept</td>\n",
       "      <td>0.987548</td>\n",
       "      <td>0.222637</td>\n",
       "      <td>0.539403</td>\n",
       "      <td>1.435692</td>\n",
       "      <td>0.000057</td>\n",
       "    </tr>\n",
       "  </tbody>\n",
       "</table>\n",
       "</div>"
      ],
      "text/plain": [
       "    variable      coef   std err    [0.025    0.975]   p-value\n",
       "0    pm25_r9  0.009059  0.009466 -0.009994  0.028113  0.343542\n",
       "1  Intercept  0.987548  0.222637  0.539403  1.435692  0.000057"
      ]
     },
     "metadata": {},
     "output_type": "display_data"
    },
    {
     "name": "stdout",
     "output_type": "stream",
     "text": [
      "Outcome:  y_visits_resp_cardio_fwd3\n",
      "-------------------------------------\n"
     ]
    },
    {
     "data": {
      "text/html": [
       "<div>\n",
       "<style scoped>\n",
       "    .dataframe tbody tr th:only-of-type {\n",
       "        vertical-align: middle;\n",
       "    }\n",
       "\n",
       "    .dataframe tbody tr th {\n",
       "        vertical-align: top;\n",
       "    }\n",
       "\n",
       "    .dataframe thead th {\n",
       "        text-align: right;\n",
       "    }\n",
       "</style>\n",
       "<table border=\"1\" class=\"dataframe\">\n",
       "  <thead>\n",
       "    <tr style=\"text-align: right;\">\n",
       "      <th></th>\n",
       "      <th>variable</th>\n",
       "      <th>coef</th>\n",
       "      <th>std err</th>\n",
       "      <th>[0.025</th>\n",
       "      <th>0.975]</th>\n",
       "      <th>p-value</th>\n",
       "    </tr>\n",
       "  </thead>\n",
       "  <tbody>\n",
       "    <tr>\n",
       "      <th>0</th>\n",
       "      <td>pm25_r9</td>\n",
       "      <td>-3.267881</td>\n",
       "      <td>3.500527</td>\n",
       "      <td>-10.295483</td>\n",
       "      <td>3.759721</td>\n",
       "      <td>0.354940</td>\n",
       "    </tr>\n",
       "    <tr>\n",
       "      <th>1</th>\n",
       "      <td>Intercept</td>\n",
       "      <td>226.176917</td>\n",
       "      <td>131.188224</td>\n",
       "      <td>-37.194432</td>\n",
       "      <td>489.548267</td>\n",
       "      <td>0.090754</td>\n",
       "    </tr>\n",
       "  </tbody>\n",
       "</table>\n",
       "</div>"
      ],
      "text/plain": [
       "    variable        coef     std err     [0.025      0.975]   p-value\n",
       "0    pm25_r9   -3.267881    3.500527 -10.295483    3.759721  0.354940\n",
       "1  Intercept  226.176917  131.188224 -37.194432  489.548267  0.090754"
      ]
     },
     "metadata": {},
     "output_type": "display_data"
    }
   ],
   "source": [
    "for col in y_col_names_lag:\n",
    "    fit_ols(df_all_iv_filtered, col, target_name_s1, fixed_effects)"
   ]
  },
  {
   "cell_type": "markdown",
   "metadata": {
    "id": "ZVWPNwqJhBQe"
   },
   "source": [
    "#### 7.3. ``fit Stage 1``\n",
    "* The function `fit_1st_stage` is in \"Step 3: Define functions\" in this notebook; added functionality within that function to output the model object in .pkl form to the directory called models_s1/"
   ]
  },
  {
   "cell_type": "code",
   "execution_count": null,
   "metadata": {
    "id": "chlaTptnhBQe",
    "outputId": "c4919fd7-dc8b-431e-f952-024614d49d9b"
   },
   "outputs": [
    {
     "name": "stdout",
     "output_type": "stream",
     "text": [
      "Outcome:  pm25_r9\n",
      "-------------------------------------\n"
     ]
    },
    {
     "data": {
      "text/html": [
       "<div>\n",
       "<style scoped>\n",
       "    .dataframe tbody tr th:only-of-type {\n",
       "        vertical-align: middle;\n",
       "    }\n",
       "\n",
       "    .dataframe tbody tr th {\n",
       "        vertical-align: top;\n",
       "    }\n",
       "\n",
       "    .dataframe thead th {\n",
       "        text-align: right;\n",
       "    }\n",
       "</style>\n",
       "<table border=\"1\" class=\"dataframe\">\n",
       "  <thead>\n",
       "    <tr style=\"text-align: right;\">\n",
       "      <th></th>\n",
       "      <th>variable</th>\n",
       "      <th>coef</th>\n",
       "      <th>std err</th>\n",
       "      <th>[0.025</th>\n",
       "      <th>0.975]</th>\n",
       "      <th>p-value</th>\n",
       "    </tr>\n",
       "  </thead>\n",
       "  <tbody>\n",
       "    <tr>\n",
       "      <th>0</th>\n",
       "      <td>Izmy_v5_all_normed_but_wspd_ratio_r9</td>\n",
       "      <td>-0.000031</td>\n",
       "      <td>0.000009</td>\n",
       "      <td>-0.000049</td>\n",
       "      <td>-0.000014</td>\n",
       "      <td>8.057818e-04</td>\n",
       "    </tr>\n",
       "    <tr>\n",
       "      <th>1</th>\n",
       "      <td>Intercept</td>\n",
       "      <td>8.844315</td>\n",
       "      <td>1.441276</td>\n",
       "      <td>5.958209</td>\n",
       "      <td>11.730421</td>\n",
       "      <td>8.589035e-08</td>\n",
       "    </tr>\n",
       "  </tbody>\n",
       "</table>\n",
       "</div>"
      ],
      "text/plain": [
       "                               variable      coef   std err    [0.025  \\\n",
       "0  Izmy_v5_all_normed_but_wspd_ratio_r9 -0.000031  0.000009 -0.000049   \n",
       "1                             Intercept  8.844315  1.441276  5.958209   \n",
       "\n",
       "      0.975]       p-value  \n",
       "0  -0.000014  8.057818e-04  \n",
       "1  11.730421  8.589035e-08  "
      ]
     },
     "metadata": {},
     "output_type": "display_data"
    }
   ],
   "source": [
    "#df_all = fit_1st_stage(df_all, 'pm25', 'avg_wind_alignment_cosine')  # old code; don't use\n",
    "df_all_iv_filtered = fit_1st_stage(df_all_iv_filtered, target_name_s1, predictor_name_s1, fixed_effects)\n"
   ]
  },
  {
   "cell_type": "code",
   "execution_count": null,
   "metadata": {
    "id": "XjEaQ8w4hBQe",
    "outputId": "949ed08f-7698-4201-df60-e7effb36383a"
   },
   "outputs": [
    {
     "data": {
      "text/html": [
       "<div>\n",
       "<style scoped>\n",
       "    .dataframe tbody tr th:only-of-type {\n",
       "        vertical-align: middle;\n",
       "    }\n",
       "\n",
       "    .dataframe tbody tr th {\n",
       "        vertical-align: top;\n",
       "    }\n",
       "\n",
       "    .dataframe thead th {\n",
       "        text-align: right;\n",
       "    }\n",
       "</style>\n",
       "<table border=\"1\" class=\"dataframe\">\n",
       "  <thead>\n",
       "    <tr style=\"text-align: right;\">\n",
       "      <th></th>\n",
       "      <th>pm25_r9</th>\n",
       "      <th>pm25_r9_hat</th>\n",
       "    </tr>\n",
       "  </thead>\n",
       "  <tbody>\n",
       "    <tr>\n",
       "      <th>24</th>\n",
       "      <td>21.916667</td>\n",
       "      <td>19.607199</td>\n",
       "    </tr>\n",
       "    <tr>\n",
       "      <th>25</th>\n",
       "      <td>22.851852</td>\n",
       "      <td>20.227607</td>\n",
       "    </tr>\n",
       "    <tr>\n",
       "      <th>26</th>\n",
       "      <td>23.625926</td>\n",
       "      <td>19.992042</td>\n",
       "    </tr>\n",
       "    <tr>\n",
       "      <th>27</th>\n",
       "      <td>23.583333</td>\n",
       "      <td>19.895238</td>\n",
       "    </tr>\n",
       "    <tr>\n",
       "      <th>28</th>\n",
       "      <td>23.418518</td>\n",
       "      <td>19.316006</td>\n",
       "    </tr>\n",
       "    <tr>\n",
       "      <th>...</th>\n",
       "      <td>...</td>\n",
       "      <td>...</td>\n",
       "    </tr>\n",
       "    <tr>\n",
       "      <th>294892</th>\n",
       "      <td>2.942708</td>\n",
       "      <td>3.359012</td>\n",
       "    </tr>\n",
       "    <tr>\n",
       "      <th>294893</th>\n",
       "      <td>3.102431</td>\n",
       "      <td>3.501744</td>\n",
       "    </tr>\n",
       "    <tr>\n",
       "      <th>294894</th>\n",
       "      <td>3.113194</td>\n",
       "      <td>3.579745</td>\n",
       "    </tr>\n",
       "    <tr>\n",
       "      <th>294895</th>\n",
       "      <td>3.397917</td>\n",
       "      <td>3.674647</td>\n",
       "    </tr>\n",
       "    <tr>\n",
       "      <th>294896</th>\n",
       "      <td>3.510417</td>\n",
       "      <td>3.823728</td>\n",
       "    </tr>\n",
       "  </tbody>\n",
       "</table>\n",
       "<p>262450 rows × 2 columns</p>\n",
       "</div>"
      ],
      "text/plain": [
       "          pm25_r9  pm25_r9_hat\n",
       "24      21.916667    19.607199\n",
       "25      22.851852    20.227607\n",
       "26      23.625926    19.992042\n",
       "27      23.583333    19.895238\n",
       "28      23.418518    19.316006\n",
       "...           ...          ...\n",
       "294892   2.942708     3.359012\n",
       "294893   3.102431     3.501744\n",
       "294894   3.113194     3.579745\n",
       "294895   3.397917     3.674647\n",
       "294896   3.510417     3.823728\n",
       "\n",
       "[262450 rows x 2 columns]"
      ]
     },
     "metadata": {},
     "output_type": "display_data"
    }
   ],
   "source": [
    "display(df_all_iv_filtered[[target_name_s1, target_name_s1 + '_hat']])"
   ]
  },
  {
   "cell_type": "markdown",
   "metadata": {
    "id": "Za0DyU15hBQe"
   },
   "source": [
    "#### 7.4. Save Stage 1 dataset (csv + parquet)\n",
    "Don't worry, Cornelia, these datasets only contain our own features and predictions - we dropped your true health data columns earlier!"
   ]
  },
  {
   "cell_type": "code",
   "execution_count": null,
   "metadata": {
    "id": "E7jbqEZkhBQe"
   },
   "outputs": [],
   "source": [
    "# Drops all health-data-related columns before saving\n",
    "saved_stage1 = df_all_iv_filtered.drop(columns=[i for i in df_all_iv_filtered.columns if 'visit' in i])"
   ]
  },
  {
   "cell_type": "code",
   "execution_count": null,
   "metadata": {
    "id": "F2G-jlLKhBQe",
    "outputId": "a027cf69-0b91-4bb3-faeb-d7d3821b722f"
   },
   "outputs": [
    {
     "data": {
      "text/plain": [
       "[]"
      ]
     },
     "execution_count": 58,
     "metadata": {},
     "output_type": "execute_result"
    }
   ],
   "source": [
    "# Check that there are no longer any health-data-related columns in the dataset (should return empty list)\n",
    "[i for i in saved_stage1.columns if 'visit' in i]"
   ]
  },
  {
   "cell_type": "code",
   "execution_count": null,
   "metadata": {
    "id": "laq9-N9HhBQe"
   },
   "outputs": [],
   "source": [
    "# Saving out datasets\n",
    "saved_stage1_name = \"s1_PREDICTOR_\" + predictor_name_s1 +  \"_FE_SET_\" + str(FE_set_num) + \"_TARGETING_\" + target_name_s1 + \"_LAG\" + HO_lag_input\n",
    "saved_stage1.to_csv(os.path.join(out_dir1, saved_stage1_name + \".csv\"))\n",
    "saved_stage1.to_parquet(os.path.join(out_dir1, saved_stage1_name + \".parquet\"))"
   ]
  },
  {
   "cell_type": "markdown",
   "metadata": {
    "id": "1eFAO9gnhBQe"
   },
   "source": [
    "#### 7.5. Plot counts per pm2.5r# and pm2.5r#_hat"
   ]
  },
  {
   "cell_type": "code",
   "execution_count": null,
   "metadata": {
    "id": "YHoOynfthBQf",
    "outputId": "3aad9762-c88e-4f50-a085-09edd2f61782"
   },
   "outputs": [
    {
     "data": {
      "image/png": "[encoded data removed]",
      "text/plain": [
       "<Figure size 720x360 with 2 Axes>"
      ]
     },
     "metadata": {
      "needs_background": "light"
     },
     "output_type": "display_data"
    }
   ],
   "source": [
    "columns = [target_name_s1, target_name_s1+'_hat']\n",
    "\n",
    "# compute visits by patzip_year_month\n",
    "fig, axes = plt.subplots(1, 2, sharex=False, sharey=False, figsize=(10, 5))\n",
    "\n",
    "for idx, ax in enumerate(axes.flatten()):\n",
    "    sb.histplot(\n",
    "            df_all_iv_filtered[columns[idx]],\n",
    "            ax=ax\n",
    "        )"
   ]
  },
  {
   "cell_type": "markdown",
   "metadata": {
    "id": "EMbwuQichBQf"
   },
   "source": [
    "#### 7.6. Stage 1 F-test:\n",
    "\n",
    "Run an F test with our instrument to study the impact on the pm2.5. "
   ]
  },
  {
   "cell_type": "code",
   "execution_count": null,
   "metadata": {
    "id": "C9riVcmbhBQf",
    "outputId": "6496779f-259e-429a-fc2a-2f51e82eb78c"
   },
   "outputs": [
    {
     "data": {
      "text/html": [
       "<div>\n",
       "<style scoped>\n",
       "    .dataframe tbody tr th:only-of-type {\n",
       "        vertical-align: middle;\n",
       "    }\n",
       "\n",
       "    .dataframe tbody tr th {\n",
       "        vertical-align: top;\n",
       "    }\n",
       "\n",
       "    .dataframe thead th {\n",
       "        text-align: right;\n",
       "    }\n",
       "</style>\n",
       "<table border=\"1\" class=\"dataframe\">\n",
       "  <thead>\n",
       "    <tr style=\"text-align: right;\">\n",
       "      <th></th>\n",
       "      <th>df_resid</th>\n",
       "      <th>ssr</th>\n",
       "      <th>df_diff</th>\n",
       "      <th>ss_diff</th>\n",
       "      <th>F</th>\n",
       "      <th>Pr(&gt;F)</th>\n",
       "    </tr>\n",
       "  </thead>\n",
       "  <tbody>\n",
       "    <tr>\n",
       "      <th>0</th>\n",
       "      <td>262449.0</td>\n",
       "      <td>4.934512e+06</td>\n",
       "      <td>0.0</td>\n",
       "      <td>NaN</td>\n",
       "      <td>NaN</td>\n",
       "      <td>NaN</td>\n",
       "    </tr>\n",
       "    <tr>\n",
       "      <th>1</th>\n",
       "      <td>262448.0</td>\n",
       "      <td>4.911781e+06</td>\n",
       "      <td>1.0</td>\n",
       "      <td>22731.204524</td>\n",
       "      <td>1214.581705</td>\n",
       "      <td>1.681578e-265</td>\n",
       "    </tr>\n",
       "  </tbody>\n",
       "</table>\n",
       "</div>"
      ],
      "text/plain": [
       "   df_resid           ssr  df_diff       ss_diff            F         Pr(>F)\n",
       "0  262449.0  4.934512e+06      0.0           NaN          NaN            NaN\n",
       "1  262448.0  4.911781e+06      1.0  22731.204524  1214.581705  1.681578e-265"
      ]
     },
     "execution_count": 61,
     "metadata": {},
     "output_type": "execute_result"
    }
   ],
   "source": [
    "# get data into right model form\n",
    "\n",
    "y, X_null = dmatrices(f'{target_name_s1} ~ 1', data=df_all_iv_filtered, return_type='dataframe')\n",
    "y, X_instrument = dmatrices(f'{target_name_s1} ~ 1 + {predictor_name_s1}', data=df_all_iv_filtered, return_type='dataframe')\n",
    "\n",
    "fit_null = sm.OLS(y, X_null).fit()\n",
    "fit_instrument = sm.OLS(y, X_instrument).fit()\n",
    "\n",
    "anovaResults = anova_lm(fit_null, fit_instrument)\n",
    "anovaResults"
   ]
  },
  {
   "cell_type": "markdown",
   "metadata": {
    "id": "eIXHn8AIhBQf"
   },
   "source": [
    "#### 7.7. ``fit 2sls``\n",
    "* Fits the stage 2 linear regression\n",
    "* The function `2sls` is in \"Step 3: Define functions\" in this notebook; added functionality within that function to output the model object in .pkl form to the directory called models_s2/\n",
    "* Generates dataset after dropping the real health outcomes values (so we're only saving the predicted values)"
   ]
  },
  {
   "cell_type": "code",
   "execution_count": null,
   "metadata": {
    "id": "GBTt8zCPhBQf",
    "outputId": "9342a666-249a-44a4-d293-53d02b6160f7"
   },
   "outputs": [
    {
     "name": "stdout",
     "output_type": "stream",
     "text": [
      "Outcome:  y_visits_hematopoietic_cancers_fwd3\n",
      "-------------------------------------\n"
     ]
    },
    {
     "data": {
      "text/html": [
       "<div>\n",
       "<style scoped>\n",
       "    .dataframe tbody tr th:only-of-type {\n",
       "        vertical-align: middle;\n",
       "    }\n",
       "\n",
       "    .dataframe tbody tr th {\n",
       "        vertical-align: top;\n",
       "    }\n",
       "\n",
       "    .dataframe thead th {\n",
       "        text-align: right;\n",
       "    }\n",
       "</style>\n",
       "<table border=\"1\" class=\"dataframe\">\n",
       "  <thead>\n",
       "    <tr style=\"text-align: right;\">\n",
       "      <th></th>\n",
       "      <th>variable</th>\n",
       "      <th>coef</th>\n",
       "      <th>std err</th>\n",
       "      <th>[0.025</th>\n",
       "      <th>0.975]</th>\n",
       "      <th>p-value</th>\n",
       "    </tr>\n",
       "  </thead>\n",
       "  <tbody>\n",
       "    <tr>\n",
       "      <th>0</th>\n",
       "      <td>pm25_r9_hat</td>\n",
       "      <td>1.046377</td>\n",
       "      <td>1.028380</td>\n",
       "      <td>-1.021320</td>\n",
       "      <td>3.114073</td>\n",
       "      <td>0.314017</td>\n",
       "    </tr>\n",
       "    <tr>\n",
       "      <th>1</th>\n",
       "      <td>Intercept</td>\n",
       "      <td>-5.756191</td>\n",
       "      <td>9.362875</td>\n",
       "      <td>-24.581512</td>\n",
       "      <td>13.069130</td>\n",
       "      <td>0.541598</td>\n",
       "    </tr>\n",
       "  </tbody>\n",
       "</table>\n",
       "</div>"
      ],
      "text/plain": [
       "      variable      coef   std err     [0.025     0.975]   p-value\n",
       "0  pm25_r9_hat  1.046377  1.028380  -1.021320   3.114073  0.314017\n",
       "1    Intercept -5.756191  9.362875 -24.581512  13.069130  0.541598"
      ]
     },
     "metadata": {},
     "output_type": "display_data"
    },
    {
     "name": "stderr",
     "output_type": "stream",
     "text": [
      "/Users/michelle/anaconda3/lib/python3.8/site-packages/statsmodels/regression/_prediction.py:61: RuntimeWarning: invalid value encountered in sqrt\n",
      "  return np.sqrt(self.var_pred_mean)\n"
     ]
    },
    {
     "name": "stdout",
     "output_type": "stream",
     "text": [
      "RMSE for y_visits_hematopoietic_cancers_fwd3 and y_visits_hematopoietic_cancers_fwd3_hat: 2.351369085323305\n",
      "Outcome:  y_visits_injuries_accidents_fwd3\n",
      "-------------------------------------\n"
     ]
    },
    {
     "data": {
      "text/html": [
       "<div>\n",
       "<style scoped>\n",
       "    .dataframe tbody tr th:only-of-type {\n",
       "        vertical-align: middle;\n",
       "    }\n",
       "\n",
       "    .dataframe tbody tr th {\n",
       "        vertical-align: top;\n",
       "    }\n",
       "\n",
       "    .dataframe thead th {\n",
       "        text-align: right;\n",
       "    }\n",
       "</style>\n",
       "<table border=\"1\" class=\"dataframe\">\n",
       "  <thead>\n",
       "    <tr style=\"text-align: right;\">\n",
       "      <th></th>\n",
       "      <th>variable</th>\n",
       "      <th>coef</th>\n",
       "      <th>std err</th>\n",
       "      <th>[0.025</th>\n",
       "      <th>0.975]</th>\n",
       "      <th>p-value</th>\n",
       "    </tr>\n",
       "  </thead>\n",
       "  <tbody>\n",
       "    <tr>\n",
       "      <th>0</th>\n",
       "      <td>pm25_r9_hat</td>\n",
       "      <td>-91.563091</td>\n",
       "      <td>90.952843</td>\n",
       "      <td>-274.158541</td>\n",
       "      <td>91.032359</td>\n",
       "      <td>0.318827</td>\n",
       "    </tr>\n",
       "    <tr>\n",
       "      <th>1</th>\n",
       "      <td>Intercept</td>\n",
       "      <td>939.289529</td>\n",
       "      <td>865.196372</td>\n",
       "      <td>-797.664664</td>\n",
       "      <td>2676.243722</td>\n",
       "      <td>0.282744</td>\n",
       "    </tr>\n",
       "  </tbody>\n",
       "</table>\n",
       "</div>"
      ],
      "text/plain": [
       "      variable        coef     std err      [0.025       0.975]   p-value\n",
       "0  pm25_r9_hat  -91.563091   90.952843 -274.158541    91.032359  0.318827\n",
       "1    Intercept  939.289529  865.196372 -797.664664  2676.243722  0.282744"
      ]
     },
     "metadata": {},
     "output_type": "display_data"
    },
    {
     "name": "stdout",
     "output_type": "stream",
     "text": [
      "RMSE for y_visits_injuries_accidents_fwd3 and y_visits_injuries_accidents_fwd3_hat: 385.7376326437283\n",
      "Outcome:  y_visits_type_1_diabetes_fwd3\n",
      "-------------------------------------\n"
     ]
    },
    {
     "data": {
      "text/html": [
       "<div>\n",
       "<style scoped>\n",
       "    .dataframe tbody tr th:only-of-type {\n",
       "        vertical-align: middle;\n",
       "    }\n",
       "\n",
       "    .dataframe tbody tr th {\n",
       "        vertical-align: top;\n",
       "    }\n",
       "\n",
       "    .dataframe thead th {\n",
       "        text-align: right;\n",
       "    }\n",
       "</style>\n",
       "<table border=\"1\" class=\"dataframe\">\n",
       "  <thead>\n",
       "    <tr style=\"text-align: right;\">\n",
       "      <th></th>\n",
       "      <th>variable</th>\n",
       "      <th>coef</th>\n",
       "      <th>std err</th>\n",
       "      <th>[0.025</th>\n",
       "      <th>0.975]</th>\n",
       "      <th>p-value</th>\n",
       "    </tr>\n",
       "  </thead>\n",
       "  <tbody>\n",
       "    <tr>\n",
       "      <th>0</th>\n",
       "      <td>pm25_r9_hat</td>\n",
       "      <td>0.847197</td>\n",
       "      <td>1.007541</td>\n",
       "      <td>-1.178601</td>\n",
       "      <td>2.872995</td>\n",
       "      <td>0.404598</td>\n",
       "    </tr>\n",
       "    <tr>\n",
       "      <th>1</th>\n",
       "      <td>Intercept</td>\n",
       "      <td>-9.196973</td>\n",
       "      <td>9.732464</td>\n",
       "      <td>-28.765403</td>\n",
       "      <td>10.371456</td>\n",
       "      <td>0.349402</td>\n",
       "    </tr>\n",
       "  </tbody>\n",
       "</table>\n",
       "</div>"
      ],
      "text/plain": [
       "      variable      coef   std err     [0.025     0.975]   p-value\n",
       "0  pm25_r9_hat  0.847197  1.007541  -1.178601   2.872995  0.404598\n",
       "1    Intercept -9.196973  9.732464 -28.765403  10.371456  0.349402"
      ]
     },
     "metadata": {},
     "output_type": "display_data"
    },
    {
     "name": "stderr",
     "output_type": "stream",
     "text": [
      "/Users/michelle/anaconda3/lib/python3.8/site-packages/statsmodels/regression/_prediction.py:61: RuntimeWarning: invalid value encountered in sqrt\n",
      "  return np.sqrt(self.var_pred_mean)\n"
     ]
    },
    {
     "name": "stdout",
     "output_type": "stream",
     "text": [
      "RMSE for y_visits_type_1_diabetes_fwd3 and y_visits_type_1_diabetes_fwd3_hat: 1.8578457678399656\n",
      "Outcome:  y_visits_pediatric_vasculitis_fwd3\n",
      "-------------------------------------\n"
     ]
    },
    {
     "data": {
      "text/html": [
       "<div>\n",
       "<style scoped>\n",
       "    .dataframe tbody tr th:only-of-type {\n",
       "        vertical-align: middle;\n",
       "    }\n",
       "\n",
       "    .dataframe tbody tr th {\n",
       "        vertical-align: top;\n",
       "    }\n",
       "\n",
       "    .dataframe thead th {\n",
       "        text-align: right;\n",
       "    }\n",
       "</style>\n",
       "<table border=\"1\" class=\"dataframe\">\n",
       "  <thead>\n",
       "    <tr style=\"text-align: right;\">\n",
       "      <th></th>\n",
       "      <th>variable</th>\n",
       "      <th>coef</th>\n",
       "      <th>std err</th>\n",
       "      <th>[0.025</th>\n",
       "      <th>0.975]</th>\n",
       "      <th>p-value</th>\n",
       "    </tr>\n",
       "  </thead>\n",
       "  <tbody>\n",
       "    <tr>\n",
       "      <th>0</th>\n",
       "      <td>pm25_r9_hat</td>\n",
       "      <td>0.23101</td>\n",
       "      <td>0.535108</td>\n",
       "      <td>-0.846106</td>\n",
       "      <td>1.308127</td>\n",
       "      <td>0.667970</td>\n",
       "    </tr>\n",
       "    <tr>\n",
       "      <th>1</th>\n",
       "      <td>Intercept</td>\n",
       "      <td>-0.97000</td>\n",
       "      <td>4.810895</td>\n",
       "      <td>-10.653829</td>\n",
       "      <td>8.713829</td>\n",
       "      <td>0.841098</td>\n",
       "    </tr>\n",
       "  </tbody>\n",
       "</table>\n",
       "</div>"
      ],
      "text/plain": [
       "      variable     coef   std err     [0.025    0.975]   p-value\n",
       "0  pm25_r9_hat  0.23101  0.535108  -0.846106  1.308127  0.667970\n",
       "1    Intercept -0.97000  4.810895 -10.653829  8.713829  0.841098"
      ]
     },
     "metadata": {},
     "output_type": "display_data"
    },
    {
     "name": "stdout",
     "output_type": "stream",
     "text": [
      "RMSE for y_visits_pediatric_vasculitis_fwd3 and y_visits_pediatric_vasculitis_fwd3_hat: 1.3629520904768624\n",
      "Outcome:  y_visits_resp_cardio_fwd3\n",
      "-------------------------------------\n"
     ]
    },
    {
     "data": {
      "text/html": [
       "<div>\n",
       "<style scoped>\n",
       "    .dataframe tbody tr th:only-of-type {\n",
       "        vertical-align: middle;\n",
       "    }\n",
       "\n",
       "    .dataframe tbody tr th {\n",
       "        vertical-align: top;\n",
       "    }\n",
       "\n",
       "    .dataframe thead th {\n",
       "        text-align: right;\n",
       "    }\n",
       "</style>\n",
       "<table border=\"1\" class=\"dataframe\">\n",
       "  <thead>\n",
       "    <tr style=\"text-align: right;\">\n",
       "      <th></th>\n",
       "      <th>variable</th>\n",
       "      <th>coef</th>\n",
       "      <th>std err</th>\n",
       "      <th>[0.025</th>\n",
       "      <th>0.975]</th>\n",
       "      <th>p-value</th>\n",
       "    </tr>\n",
       "  </thead>\n",
       "  <tbody>\n",
       "    <tr>\n",
       "      <th>0</th>\n",
       "      <td>pm25_r9_hat</td>\n",
       "      <td>-133.609276</td>\n",
       "      <td>58.321865</td>\n",
       "      <td>-250.695304</td>\n",
       "      <td>-16.523247</td>\n",
       "      <td>0.026135</td>\n",
       "    </tr>\n",
       "    <tr>\n",
       "      <th>1</th>\n",
       "      <td>Intercept</td>\n",
       "      <td>1381.302469</td>\n",
       "      <td>557.464978</td>\n",
       "      <td>262.144829</td>\n",
       "      <td>2500.460109</td>\n",
       "      <td>0.016571</td>\n",
       "    </tr>\n",
       "  </tbody>\n",
       "</table>\n",
       "</div>"
      ],
      "text/plain": [
       "      variable         coef     std err      [0.025       0.975]   p-value\n",
       "0  pm25_r9_hat  -133.609276   58.321865 -250.695304   -16.523247  0.026135\n",
       "1    Intercept  1381.302469  557.464978  262.144829  2500.460109  0.016571"
      ]
     },
     "metadata": {},
     "output_type": "display_data"
    },
    {
     "name": "stdout",
     "output_type": "stream",
     "text": [
      "RMSE for y_visits_resp_cardio_fwd3 and y_visits_resp_cardio_fwd3_hat: 368.22823257126345\n"
     ]
    }
   ],
   "source": [
    "list_of_stage2_saves = []\n",
    "saved_stage1_copy = df_all_iv_filtered.drop(columns=[i for i in df_all_iv_filtered.columns if 'visit' in i])\n",
    "\n",
    "# Merging predicted outcome variables (taken from subsetting the fit_2sls function output dataset) with original dataset (minus visits columns)\n",
    "for col in y_col_names_lag:\n",
    "    s2_df = fit_2sls(df_all_iv_filtered, col, target_name_s1+\"_hat\", fixed_effects)\n",
    "    \n",
    "    # subset to have join keys and new columns (e.g. 'y_visits_hematopoietic_cancers_fwd3_hat') only\n",
    "    outcome_hat = s2_df[['year_month', 'school_zip', col+\"_hat\"]]\n",
    "    saved_stage1_copy = pd.merge(saved_stage1_copy, outcome_hat, how='left', left_on=['year_month', 'school_zip'], right_on=['year_month', 'school_zip'])\n",
    "    rmse_val = np.mean(((df_all_iv_filtered[col] - saved_stage1_copy[col+'_hat'])**2)**.5)\n",
    "    print('RMSE for {} and {}: {}'.format(col, col+'_hat', rmse_val))\n",
    "\n"
   ]
  },
  {
   "cell_type": "markdown",
   "metadata": {
    "id": "sFMkC7uNhBQf"
   },
   "source": [
    "#### 7.8. Save Stage 2 dataset\n",
    "* Contains: all pm2.5r#, pm2.5r#_hat, outcome_hats, all instruments"
   ]
  },
  {
   "cell_type": "code",
   "execution_count": null,
   "metadata": {
    "id": "2tRB9zkPhBQf"
   },
   "outputs": [],
   "source": [
    "# saves stage 2 datasets (minus any visits columns) as csv and parquet\n",
    "\n",
    "s2_dataset_out_name = \"s2_INSTRUMENT_\" + predictor_name_s1 + \"_FE_SET_\" + str(FE_set_num) + \"_TARGETING_\" + \"all_outcomes\" + \"_LAG\" + HO_lag_input\n",
    "saved_stage1_copy.to_csv(os.path.join(out_dir2, s2_dataset_out_name + \".csv\"))\n",
    "saved_stage1_copy.to_parquet(os.path.join(out_dir2, s2_dataset_out_name + \".parquet\"))"
   ]
  },
  {
   "cell_type": "markdown",
   "metadata": {
    "id": "igS-CFkrhBQf"
   },
   "source": [
    "#### 7.9. Generate dataset with name of the notebook, the stage 1 and stage 2 model and corresponding fixed effects (csv)\n",
    "* Generates a csv that associates an instrument-plus-fixed-effects combo with the filenames of S1 and S2 datasets that we wrote out (doesn't include any columns with real outcome/visit data)"
   ]
  },
  {
   "cell_type": "code",
   "execution_count": null,
   "metadata": {
    "id": "ov_iAJHQhBQf",
    "outputId": "119ff83c-ba05-44a8-80af-c25a7c114372"
   },
   "outputs": [
    {
     "data": {
      "text/html": [
       "<div>\n",
       "<style scoped>\n",
       "    .dataframe tbody tr th:only-of-type {\n",
       "        vertical-align: middle;\n",
       "    }\n",
       "\n",
       "    .dataframe tbody tr th {\n",
       "        vertical-align: top;\n",
       "    }\n",
       "\n",
       "    .dataframe thead th {\n",
       "        text-align: right;\n",
       "    }\n",
       "</style>\n",
       "<table border=\"1\" class=\"dataframe\">\n",
       "  <thead>\n",
       "    <tr style=\"text-align: right;\">\n",
       "      <th></th>\n",
       "      <th>notebook_idx</th>\n",
       "      <th>instrument_name</th>\n",
       "      <th>fixed_effects_list</th>\n",
       "      <th>s1_filename</th>\n",
       "      <th>s2_filename</th>\n",
       "    </tr>\n",
       "  </thead>\n",
       "  <tbody>\n",
       "    <tr>\n",
       "      <th>0</th>\n",
       "      <td>12</td>\n",
       "      <td>Izmy_v5_all_normed_but_wspd_ratio</td>\n",
       "      <td>~ county + month + year_trend * C(county_mont...</td>\n",
       "      <td>s1_PREDICTOR_Izmy_v5_all_normed_but_wspd_ratio...</td>\n",
       "      <td>s2_INSTRUMENT_Izmy_v5_all_normed_but_wspd_rati...</td>\n",
       "    </tr>\n",
       "  </tbody>\n",
       "</table>\n",
       "</div>"
      ],
      "text/plain": [
       "  notebook_idx                    instrument_name  \\\n",
       "0           12  Izmy_v5_all_normed_but_wspd_ratio   \n",
       "\n",
       "                                  fixed_effects_list  \\\n",
       "0   ~ county + month + year_trend * C(county_mont...   \n",
       "\n",
       "                                         s1_filename  \\\n",
       "0  s1_PREDICTOR_Izmy_v5_all_normed_but_wspd_ratio...   \n",
       "\n",
       "                                         s2_filename  \n",
       "0  s2_INSTRUMENT_Izmy_v5_all_normed_but_wspd_rati...  "
      ]
     },
     "metadata": {},
     "output_type": "display_data"
    }
   ],
   "source": [
    "csv_name = 'fixed_effects_' + notebook_index + '.csv'\n",
    "FE_df_data = [[notebook_index, predictor, fixed_effects, saved_stage1_name+'.csv', s2_dataset_out_name+'.csv']]\n",
    "FE_df = pd.DataFrame(data=FE_df_data, columns=['notebook_idx', 'instrument_name', 'fixed_effects_list', 's1_filename', 's2_filename'])\n",
    "display(FE_df)"
   ]
  },
  {
   "cell_type": "code",
   "execution_count": null,
   "metadata": {
    "id": "KZAWQKq_hBQf"
   },
   "outputs": [],
   "source": [
    "# Write out to csv\n",
    "FE_df.to_csv(os.path.join(out_dir3, csv_name))"
   ]
  }
 ],
 "metadata": {
  "kernelspec": {
   "display_name": "Python 3.8.5 ('base')",
   "language": "python",
   "name": "python3"
  },
  "language_info": {
   "codemirror_mode": {
    "name": "ipython",
    "version": 3
   },
   "file_extension": ".py",
   "mimetype": "text/x-python",
   "name": "python",
   "nbconvert_exporter": "python",
   "pygments_lexer": "ipython3",
   "version": "3.8.5"
  },
  "vscode": {
   "interpreter": {
    "hash": "d510e9bb5859371fd49630b90422e265271576d64edfe799e5e3282c92efd972"
   }
  },
  "colab": {
   "provenance": [],
   "collapsed_sections": [
    "b8GbCB7JhBQd",
    "27KKShZRhBQe",
    "ZVWPNwqJhBQe",
    "Za0DyU15hBQe",
    "1eFAO9gnhBQe",
    "EMbwuQichBQf",
    "eIXHn8AIhBQf",
    "sFMkC7uNhBQf",
    "igS-CFkrhBQf"
   ],
   "machine_shape": "hm"
  },
  "gpuClass": "standard"
 },
 "nbformat": 4,
 "nbformat_minor": 0
}
