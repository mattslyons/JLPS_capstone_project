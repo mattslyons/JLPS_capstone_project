{
 "cells": [
  {
   "cell_type": "markdown",
   "metadata": {},
   "source": [
    "# Baseline 2-Staged Least Squares Instrumental Variables Regression using Cornelia's Randomized Medical Data"
   ]
  },
  {
   "cell_type": "code",
   "execution_count": 7,
   "metadata": {},
   "outputs": [],
   "source": [
    "# optional. I'm getting annoying warnings that I just want to ignore:\n",
    "import warnings\n",
    "warnings.simplefilter(action='ignore', category=FutureWarning)\n",
    "\n",
    "# basics\n",
    "import pandas as pd \n",
    "import numpy as np\n",
    "import os \n",
    "import re\n",
    "from datetime import datetime\n",
    "from tqdm.notebook import tqdm\n",
    "tqdm.pandas()\n",
    "import requests\n",
    "import urllib\n",
    "\n",
    "# plotting\n",
    "import matplotlib.pyplot as plt\n",
    "from matplotlib.dates import DateFormatter\n",
    "import plotly.express as px\n",
    "import seaborn as sns\n",
    "\n",
    "# modeling\n",
    "import statsmodels.api as sm\n",
    "from sklearn.linear_model import LinearRegression\n",
    "from statsmodels.sandbox.regression.gmm import IV2SLS\n",
    "\n",
    "pd.set_option('display.max_columns', None)\n",
    "pd.options.mode.chained_assignment = None"
   ]
  },
  {
   "cell_type": "code",
   "execution_count": 8,
   "metadata": {},
   "outputs": [],
   "source": [
    "# download this extra package from here: https://github.com/bashtage/linearmodels\n",
    "#!pip install linearmodels\n",
    "from linearmodels.iv import IV2SLS as IV2SLS_v2"
   ]
  },
  {
   "cell_type": "code",
   "execution_count": 9,
   "metadata": {},
   "outputs": [],
   "source": [
    "# local or gdrive\n",
    "path_source = 'local'\n",
    "\n",
    "if path_source == 'gdrive':\n",
    "  from google.colab import drive\n",
    "  drive.mount('/content/gdrive')\n",
    "  data_path = '/content/gdrive/MyDrive/Classes/W210_capstone/W210_Capstone/Data'\n",
    "  #env_path = '/content/gdrive/MyDrive/.env'\n",
    "  \n",
    "elif path_source == 'local':\n",
    "  data_path = '/Users/tj/trevorj@berkeley.edu - Google Drive/My Drive/Classes/W210_capstone/W210_Capstone/Data'\n",
    "  #env_path = '/content/gdrive/MyDrive/.env'\n",
    "\n",
    "elif path_source == 'work':\n",
    "  data_path = '/Users/trevorjohnson/trevorj@berkeley.edu - Google Drive/My Drive/Classes/W210_capstone/W210_Capstone/Data'"
   ]
  },
  {
   "cell_type": "markdown",
   "metadata": {},
   "source": [
    "# Read in data"
   ]
  },
  {
   "cell_type": "code",
   "execution_count": 10,
   "metadata": {},
   "outputs": [],
   "source": [
    "# read in our modeling data\n",
    "df = pd.read_csv(os.path.join(data_path, 'modeling_data/modeling_data_2022-10-16.csv'))\n",
    "\n",
    "# read in cornelia's healthcare data\n",
    "# read cornelia med data\n",
    "df1 = pd.read_csv(os.path.join(data_path, 'medical/hematopoietic_cancers.csv')).iloc[:,1:]\n",
    "df2 = pd.read_csv(os.path.join(data_path, 'medical/pediatric_vasculitis.csv')).iloc[:,1:]\n",
    "df3 = pd.read_csv(os.path.join(data_path, 'medical/type_1_diabetes.csv')).iloc[:,1:]"
   ]
  },
  {
   "cell_type": "markdown",
   "metadata": {},
   "source": [
    "# Data clean"
   ]
  },
  {
   "cell_type": "markdown",
   "metadata": {},
   "source": [
    "Clean med data"
   ]
  },
  {
   "cell_type": "code",
   "execution_count": 11,
   "metadata": {},
   "outputs": [
    {
     "data": {
      "text/html": [
       "<div>\n",
       "<style scoped>\n",
       "    .dataframe tbody tr th:only-of-type {\n",
       "        vertical-align: middle;\n",
       "    }\n",
       "\n",
       "    .dataframe tbody tr th {\n",
       "        vertical-align: top;\n",
       "    }\n",
       "\n",
       "    .dataframe thead th {\n",
       "        text-align: right;\n",
       "    }\n",
       "</style>\n",
       "<table border=\"1\" class=\"dataframe\">\n",
       "  <thead>\n",
       "    <tr style=\"text-align: right;\">\n",
       "      <th></th>\n",
       "      <th>patzip_year_month</th>\n",
       "      <th>hematopoietic_cancers</th>\n",
       "      <th>number_of_visits_hem_cancers</th>\n",
       "      <th>pediatric_vasculitis</th>\n",
       "      <th>number_of_visits_vasc</th>\n",
       "      <th>type_1_diabetes</th>\n",
       "      <th>number_of_visits_diab</th>\n",
       "    </tr>\n",
       "  </thead>\n",
       "  <tbody>\n",
       "    <tr>\n",
       "      <th>0</th>\n",
       "      <td>92227-2016-8</td>\n",
       "      <td>NaN</td>\n",
       "      <td>NaN</td>\n",
       "      <td>1.0</td>\n",
       "      <td>17.0</td>\n",
       "      <td>1.0</td>\n",
       "      <td>18.0</td>\n",
       "    </tr>\n",
       "    <tr>\n",
       "      <th>1</th>\n",
       "      <td>92154-2017-7</td>\n",
       "      <td>1.0</td>\n",
       "      <td>18.0</td>\n",
       "      <td>NaN</td>\n",
       "      <td>NaN</td>\n",
       "      <td>1.0</td>\n",
       "      <td>18.0</td>\n",
       "    </tr>\n",
       "    <tr>\n",
       "      <th>2</th>\n",
       "      <td>95971-2016-4</td>\n",
       "      <td>NaN</td>\n",
       "      <td>NaN</td>\n",
       "      <td>NaN</td>\n",
       "      <td>NaN</td>\n",
       "      <td>1.0</td>\n",
       "      <td>17.0</td>\n",
       "    </tr>\n",
       "  </tbody>\n",
       "</table>\n",
       "</div>"
      ],
      "text/plain": [
       "  patzip_year_month  hematopoietic_cancers  number_of_visits_hem_cancers  \\\n",
       "0      92227-2016-8                    NaN                           NaN   \n",
       "1      92154-2017-7                    1.0                          18.0   \n",
       "2      95971-2016-4                    NaN                           NaN   \n",
       "\n",
       "   pediatric_vasculitis  number_of_visits_vasc  type_1_diabetes  \\\n",
       "0                   1.0                   17.0              1.0   \n",
       "1                   NaN                    NaN              1.0   \n",
       "2                   NaN                    NaN              1.0   \n",
       "\n",
       "   number_of_visits_diab  \n",
       "0                   18.0  \n",
       "1                   18.0  \n",
       "2                   17.0  "
      ]
     },
     "execution_count": 11,
     "metadata": {},
     "output_type": "execute_result"
    }
   ],
   "source": [
    "# get all distinct patzip_year_month\n",
    "all_pats = df1['patzip_year_month'].to_list() + df2['patzip_year_month'].to_list() + df3['patzip_year_month'].to_list()\n",
    "all_pats = list(set(all_pats))\n",
    "df_med = pd.DataFrame({'patzip_year_month': all_pats})\n",
    "\n",
    "# rename columns more intuitively\n",
    "df1 = df1.rename(columns={'number_of_visits': 'number_of_visits_hem_cancers'})\n",
    "df2 = df2.rename(columns={'number_of_visits': 'number_of_visits_vasc'})\n",
    "df3 = df3.rename(columns={'number_of_visits': 'number_of_visits_diab'})\n",
    "\n",
    "# now join all the diagnoses on this dataset\n",
    "df_med = df_med\\\n",
    "  .merge(df1, on='patzip_year_month', how='left')\\\n",
    "  .merge(df2, on='patzip_year_month', how='left')\\\n",
    "  .merge(df3, on='patzip_year_month', how='left')\n",
    "\n",
    "df_med.head(3)"
   ]
  },
  {
   "cell_type": "markdown",
   "metadata": {},
   "source": [
    "Join med data"
   ]
  },
  {
   "cell_type": "code",
   "execution_count": 15,
   "metadata": {},
   "outputs": [
    {
     "name": "stdout",
     "output_type": "stream",
     "text": [
      "312345\n"
     ]
    }
   ],
   "source": [
    "df['year_month'] = df['year_month'].map(lambda x: datetime.strptime(x, '%Y-%m-%d'))\n",
    "\n",
    "df['zip_year_month'] = df['school_zip'].astype(str) + '-' +\\\n",
    "  df['year_month'].dt.year.astype(str) + '-' +\\\n",
    "  df['year_month'].dt.month.astype(str)\n",
    "\n",
    "df = pd.merge(df, df_med, left_on='zip_year_month', right_on='patzip_year_month', how='left')\n",
    "\n",
    "# for missing med data, assume there were 0 cases:\n",
    "med_vars = ['hematopoietic_cancers', 'number_of_visits_hem_cancers', 'pediatric_vasculitis', \n",
    "  'number_of_visits_vasc', 'type_1_diabetes', 'number_of_visits_diab']\n",
    "for var in med_vars:\n",
    "  df[var] = df[var].fillna(0)\n",
    "\n",
    "print(df.shape[0])"
   ]
  },
  {
   "cell_type": "code",
   "execution_count": 16,
   "metadata": {},
   "outputs": [],
   "source": [
    "# Create response variables, which is visits / population\n",
    "df['y_hematopoietic'] = df['number_of_visits_hem_cancers'] / df['total_pop_under19']\n",
    "df['y_vasculitis'] = df['number_of_visits_vasc'] / df['total_pop_under19']\n",
    "df['y_diabetes'] = df['number_of_visits_diab'] / df['total_pop_under19']\n",
    "\n",
    "# Make treatment var normally distributed by taking log(1+x)\n",
    "df['pm25_log'] = np.log1p(df['pm25'])"
   ]
  },
  {
   "cell_type": "code",
   "execution_count": null,
   "metadata": {},
   "outputs": [],
   "source": []
  },
  {
   "cell_type": "markdown",
   "metadata": {},
   "source": [
    "# EDA"
   ]
  },
  {
   "cell_type": "markdown",
   "metadata": {},
   "source": [
    "Plotting all diseases in 1 graph is too hard to see anything. Since when one is positive, the others are usually 0. "
   ]
  },
  {
   "cell_type": "code",
   "execution_count": 17,
   "metadata": {},
   "outputs": [
    {
     "name": "stdout",
     "output_type": "stream",
     "text": [
      "\n"
     ]
    },
    {
     "data": {
      "image/png": "[encoded data removed]",
      "text/plain": [
       "<Figure size 1080x288 with 1 Axes>"
      ]
     },
     "metadata": {},
     "output_type": "display_data"
    }
   ],
   "source": [
    "df_melt = pd.melt(df, \n",
    "              value_vars=['y_hematopoietic', 'y_vasculitis', 'y_diabetes'], \n",
    "              var_name='disease', value_name='proportion')\n",
    "sns.set(rc = {'figure.figsize':(15,4)}) \n",
    "sns.set_style(\"whitegrid\", {'axes.grid' : False})\n",
    "\n",
    "sns.kdeplot(data=df_melt, x=\"proportion\", hue='disease', bw_adjust=.8, fill=True)\\\n",
    "  .set_title(\"Disease distributions\", size=20)\n",
    "print('')"
   ]
  },
  {
   "cell_type": "markdown",
   "metadata": {},
   "source": [
    "When looking at positive diagnoses, it's still too hard to visualize anything."
   ]
  },
  {
   "cell_type": "code",
   "execution_count": 18,
   "metadata": {},
   "outputs": [
    {
     "name": "stdout",
     "output_type": "stream",
     "text": [
      "\n"
     ]
    },
    {
     "data": {
      "image/png": "[encoded data removed]",
      "text/plain": [
       "<Figure size 1080x288 with 1 Axes>"
      ]
     },
     "metadata": {},
     "output_type": "display_data"
    }
   ],
   "source": [
    "df_melt = pd.melt(df[df['y_hematopoietic'] + df['y_vasculitis'] + df['y_diabetes'] > 0], \n",
    "              value_vars=['y_hematopoietic', 'y_vasculitis', 'y_diabetes'], \n",
    "              var_name='disease', value_name='proportion')\n",
    "sns.set(rc = {'figure.figsize':(15,4)}) \n",
    "sns.set_style(\"whitegrid\", {'axes.grid' : False})\n",
    "\n",
    "sns.kdeplot(data=df_melt, x=\"proportion\", hue='disease', bw_adjust=.8, fill=True)\\\n",
    "  .set_title(\"Disease distribution when there were at least 1 diagnosis is positive\", size=20)\n",
    "print('')"
   ]
  },
  {
   "cell_type": "markdown",
   "metadata": {},
   "source": [
    "Plots of each diagnosis individually, positive observations only, log scaled. "
   ]
  },
  {
   "cell_type": "code",
   "execution_count": 19,
   "metadata": {},
   "outputs": [
    {
     "name": "stdout",
     "output_type": "stream",
     "text": [
      "\n"
     ]
    },
    {
     "data": {
      "image/png": "[encoded data removed]",
      "text/plain": [
       "<Figure size 1080x288 with 1 Axes>"
      ]
     },
     "metadata": {},
     "output_type": "display_data"
    }
   ],
   "source": [
    "sns.set(rc = {'figure.figsize':(15,4)}) \n",
    "sns.set_style(\"whitegrid\", {'axes.grid' : False})\n",
    "\n",
    "sns.kdeplot(data=df[df['y_vasculitis']>0], x=\"y_vasculitis\", bw_adjust=.8, fill=True, log_scale=True)\\\n",
    "  .set_title(\"Pediatric Vasculitis Positive Distribution (Log)\", size=20)\n",
    "print('')"
   ]
  },
  {
   "cell_type": "code",
   "execution_count": 20,
   "metadata": {},
   "outputs": [
    {
     "name": "stdout",
     "output_type": "stream",
     "text": [
      "\n"
     ]
    },
    {
     "data": {
      "image/png": "[encoded data removed]",
      "text/plain": [
       "<Figure size 1080x288 with 1 Axes>"
      ]
     },
     "metadata": {},
     "output_type": "display_data"
    }
   ],
   "source": [
    "sns.set(rc = {'figure.figsize':(15,4)}) \n",
    "sns.set_style(\"whitegrid\", {'axes.grid' : False})\n",
    "\n",
    "sns.kdeplot(data=df[df['y_hematopoietic']>0], x=\"y_hematopoietic\", bw_adjust=.8, fill=True, log_scale=True)\\\n",
    "  .set_title(\"Hematopoietic Positive Distribution (Log)\", size=20)\n",
    "print('')"
   ]
  },
  {
   "cell_type": "code",
   "execution_count": 21,
   "metadata": {},
   "outputs": [
    {
     "name": "stdout",
     "output_type": "stream",
     "text": [
      "\n"
     ]
    },
    {
     "data": {
      "image/png": "[encoded data removed]",
      "text/plain": [
       "<Figure size 1080x288 with 1 Axes>"
      ]
     },
     "metadata": {},
     "output_type": "display_data"
    }
   ],
   "source": [
    "sns.set(rc = {'figure.figsize':(15,4)}) \n",
    "sns.set_style(\"whitegrid\", {'axes.grid' : False})\n",
    "\n",
    "sns.kdeplot(data=df[df['y_diabetes']>0], x=\"y_diabetes\", bw_adjust=.8, fill=True, log_scale=True)\\\n",
    "  .set_title(\"Pediatric Diabetes Positive Distribution (Log)\", size=20)\n",
    "print('')"
   ]
  },
  {
   "cell_type": "code",
   "execution_count": 22,
   "metadata": {},
   "outputs": [
    {
     "name": "stdout",
     "output_type": "stream",
     "text": [
      "\n"
     ]
    },
    {
     "data": {
      "image/png": "[encoded data removed]",
      "text/plain": [
       "<Figure size 1080x288 with 1 Axes>"
      ]
     },
     "metadata": {},
     "output_type": "display_data"
    }
   ],
   "source": [
    "sns.set(rc = {'figure.figsize':(15,4)}) \n",
    "sns.set_style(\"whitegrid\", {'axes.grid' : False})\n",
    "\n",
    "sns.kdeplot(data=df, x=\"pm25\", bw_adjust=.8, fill=True).set_title(\"Distribution PM2.5\", size=20)\n",
    "print('')"
   ]
  },
  {
   "cell_type": "code",
   "execution_count": 23,
   "metadata": {},
   "outputs": [
    {
     "name": "stdout",
     "output_type": "stream",
     "text": [
      "\n"
     ]
    },
    {
     "data": {
      "image/png": "[encoded data removed]",
      "text/plain": [
       "<Figure size 1080x288 with 1 Axes>"
      ]
     },
     "metadata": {},
     "output_type": "display_data"
    }
   ],
   "source": [
    "sns.set(rc = {'figure.figsize':(15,4)}) \n",
    "sns.set_style(\"whitegrid\", {'axes.grid' : False})\n",
    "\n",
    "sns.kdeplot(data=df, x=\"pm25_log\", bw_adjust=.8, fill=True)\\\n",
    "  .set_title(\"Distribution of: log(PM2.5)\", size=20)\n",
    "print('')"
   ]
  },
  {
   "cell_type": "markdown",
   "metadata": {},
   "source": [
    "Univariate analysis"
   ]
  },
  {
   "cell_type": "code",
   "execution_count": 24,
   "metadata": {},
   "outputs": [],
   "source": [
    "class FeatureStats:\n",
    "  \n",
    "  def __init__(self, df):\n",
    "    self.df = df\n",
    "\n",
    "\n",
    "  # method to get linear reg stats from any continuous feature\n",
    "  def num_var_analyze(self, var, yvar='pm25'):\n",
    "  \n",
    "    df1 = self.df[[var, yvar]]\n",
    "    \n",
    "    # % missing\n",
    "    percent_missing = df1[var].isna().sum() / df1.shape[0]\n",
    "    \n",
    "    # median impute\n",
    "    df1[var] = df1[var].fillna(df1[var].median())\n",
    "    \n",
    "    # get lm metrics\n",
    "    lm_model = LinearRegression() \n",
    "    lm_model.fit(X = df1[[var]], y=df1[yvar])\n",
    "    yhat = lm_model.predict(df1[[var]])\n",
    "    beta = lm_model.coef_[0]\n",
    "    intercept = lm_model.intercept_\n",
    "    ss_resid = sum((yhat - df1[yvar].values)**2)\n",
    "    ss_total = sum((df1[yvar].mean() - df1[yvar].values)**2)\n",
    "    r_squared = 1 - ss_resid / ss_total \n",
    "    \n",
    "    output = {'var': [var], 'percent_missing': [percent_missing], 'beta': [beta], 'r_squared': [r_squared], 'intercept': [intercept]}\n",
    "    return output\n",
    "  \n",
    "  \n",
    "  def sort_num_features(self, var_list, yvar='pm25'):\n",
    "    res_all = {}\n",
    "    for var in var_list:\n",
    "      res_i = self.num_var_analyze(var)\n",
    "      \n",
    "      if len(res_all) == 0:\n",
    "        res_all = res_i.copy()\n",
    "      else:\n",
    "        for metric in ['var', 'percent_missing', 'beta', 'r_squared', 'intercept']:\n",
    "          res_all[metric].append(res_i[metric][0])\n",
    "    \n",
    "    df_res = pd.DataFrame(res_all)\n",
    "    df_res = df_res.sort_values('r_squared', ascending=False)\n",
    "    \n",
    "    return df_res\n",
    "  \n",
    "  \n",
    "  def plot_num_features(self, var_list, yvar='pm25', show_missing_percent=False):\n",
    "    \n",
    "    ncol=2\n",
    "    nrow = int(len(var_list) / ncol) + 1\n",
    "    \n",
    "    fig, ax = plt.subplots(nrow,ncol, figsize=(10*ncol, 5*nrow))\n",
    "    \n",
    "    # sort num features by r-squared\n",
    "    sorted_features = self.sort_num_features(var_list)\n",
    "    var_list = sorted_features['var'].to_list()\n",
    "    \n",
    "    var_i = 0\n",
    "    for i in range(nrow):\n",
    "      for j in range(ncol):\n",
    "        \n",
    "        if var_i+1 > len(var_list):\n",
    "          break \n",
    "        \n",
    "        var = var_list[var_i]\n",
    "        \n",
    "        # clean data\n",
    "        df1 = self.df[[var, yvar]]\n",
    "        df1[var] = df1[var].fillna(df1[var].median())\n",
    "        \n",
    "        # get regression details\n",
    "        reg_results = self.num_var_analyze(var)\n",
    "        \n",
    "        # plot scatter \n",
    "        ax[i][j].scatter(df1[var], df1[yvar], alpha=.3, color='#3d7aba') # #f70eaa = lyft color\n",
    "        \n",
    "        # plot line\n",
    "        xseq = np.linspace(df1[var].min(), df1[var].max(), num=100)\n",
    "        yseq = reg_results['intercept'][0] + reg_results['beta'][0] * xseq\n",
    "        xseq = xseq[yseq > 0]\n",
    "        yseq = yseq[yseq > 0]\n",
    "        ax[i][j].plot(xseq, yseq, color='k', lw=2.5)\n",
    "        \n",
    "        # set title\n",
    "        if show_missing_percent:\n",
    "          title_text = '{} | % missing: {:.2f} | beta: {:.1f} | $r^2$: {:.4f}'.format(\n",
    "            var, reg_results['percent_missing'][0], reg_results['beta'][0], reg_results['r_squared'][0])\n",
    "        else:\n",
    "          title_text = '{} | beta: {:.1f} | $r^2$: {:.4f}'.format(var, reg_results['beta'][0], reg_results['r_squared'][0])\n",
    "        \n",
    "        ax[i][j].title.set_text(title_text)\n",
    "        \n",
    "        var_i += 1\n",
    "    \n",
    "    return fig.tight_layout()\n",
    "  \n",
    "  \n",
    "  def cat_var_analyze(self, var, yvar='pm25', max_factor_levels = 10):\n",
    "    \n",
    "    df1 = self.df[[var, yvar]]\n",
    "    \n",
    "    df_plt = df1.copy()\n",
    "    \n",
    "    # if it's numeric and has more than 10 factor levels, bin it into [bracketed] bins\n",
    "    if ((df_plt[var].dtypes == 'int') | (df_plt[var].dtypes == 'float')) & (len(set(df_plt[var])) > max_factor_levels):\n",
    "      # give the intervals better names that start with a number\n",
    "      res = pd.qcut(df_plt[var], q=max_factor_levels, precision=2, duplicates='drop').to_list()\n",
    "      res_distinct = list(set(res))\n",
    "      res_distinct.sort()\n",
    "      res_string = [str(i) for i in res_distinct]\n",
    "      res_string = [str(i).rjust(2,'0')+'_'+var for i, var in enumerate(res_string)]\n",
    "      res_mapping = {x:y for x,y in zip(res_distinct, res_string)}\n",
    "      res2 = [res_mapping[i] for i in res]\n",
    "      # df_plot[var] = pd.cut(df_plot[var], bins=max_factor_levels, precision=2).to_list()\n",
    "      df_plt[var] = res2\n",
    "      df1 = df_plt.copy()\n",
    "    \n",
    "    df1[var] = df1[var].astype(str)\n",
    "\n",
    "    def count_missing(var):\n",
    "      num_na = df1[var].isna().sum()\n",
    "      num_unknown = df1[var].map(lambda x: bool(re.search('unknown|no_data|missing', x.lower()))).sum()\n",
    "      total_na = num_na + num_unknown\n",
    "      \n",
    "      return total_na\n",
    "    \n",
    "    # % missing\n",
    "    percent_missing = count_missing(var) / df1.shape[0]\n",
    "    \n",
    "    # impute missing\n",
    "    df1[var] = df1[var].fillna('missing')\n",
    "    \n",
    "    # one hot encode\n",
    "    df1 = pd.get_dummies(df1)\n",
    "    \n",
    "    # rename columns\n",
    "    #df1.columns = df1.columns.str.replace(\"\\.*\\s+\", \"_\").str.lower()\n",
    "    \n",
    "    # run a linear reg\n",
    "    X = df1.iloc[:,1:]\n",
    "    X = sm.add_constant(X)\n",
    "    y = df1[yvar]\n",
    "    lm_fit = sm.OLS(y, X).fit() \n",
    "    lm_summary = lm_fit.summary()\n",
    "    aic_ = lm_fit.aic\n",
    "    bic_ = lm_fit.bic\n",
    "    \n",
    "    # save results \n",
    "    output = {'var': [var], 'percent_missing': [percent_missing], 'aic': [aic_], 'bic': [bic_]}\n",
    "    return output\n",
    "    \n",
    "  \n",
    "  def sort_cat_features(self, var_list, yvar='pm25', sort_by='aic', verbose=False):\n",
    "    res_all = {}\n",
    "    for var in var_list:\n",
    "      if verbose:\n",
    "        print(var)\n",
    "        \n",
    "      res_i = self.cat_var_analyze(var)\n",
    "      \n",
    "      if len(res_all) == 0:\n",
    "        res_all = res_i.copy()\n",
    "      else:\n",
    "        for metric in ['var', 'percent_missing', 'aic', 'bic']:\n",
    "          res_all[metric].append(res_i[metric][0])\n",
    "    \n",
    "    df_res = pd.DataFrame(res_all)\n",
    "    df_res = df_res.sort_values(sort_by, ascending=True)\n",
    "    \n",
    "    return df_res\n",
    "  \n",
    "  \n",
    "  def plot_cat_features(self, var_list, yvar='pm25', max_factor_levels = 10, verbose=False, show_missing_percent=False):\n",
    "    \n",
    "    fig, axes = plt.subplots(len(var_list), 1, figsize=(15, 6 * len(var_list)))\n",
    "  \n",
    "    for i, var in enumerate(var_list):\n",
    "      if verbose:\n",
    "        print(var)\n",
    "        \n",
    "      df_plt = self.df[[yvar, var]]\n",
    "      # if it's numeric and has more than 10 factor levels, bin it into [bracketed] bins\n",
    "      if ((df_plt[var].dtypes == 'int') | (df_plt[var].dtypes == 'float')) & (len(set(df_plt[var])) > max_factor_levels):\n",
    "        # give the intervals better names that start with a number\n",
    "        res = pd.qcut(df_plt[var], q=max_factor_levels, precision=2, duplicates='drop').to_list()\n",
    "        res_distinct = list(set(res))\n",
    "        res_distinct.sort()\n",
    "        res_string = [str(i) for i in res_distinct]\n",
    "        res_string = [str(i).rjust(2,'0')+'_'+var for i, var in enumerate(res_string)]\n",
    "        res_mapping = {x:y for x,y in zip(res_distinct, res_string)}\n",
    "        res2 = [res_mapping[i] for i in res]\n",
    "        # df_plot[var] = pd.cut(df_plot[var], bins=max_factor_levels, precision=2).to_list()\n",
    "        df_plt[var] = res2\n",
    "        df1 = df_plt.copy()\n",
    "      \n",
    "      df_plt = df_plt\\\n",
    "        .groupby(var)\\\n",
    "        .agg(**{'n': (var, 'count'), yvar: (yvar, 'mean')})\\\n",
    "        .reset_index()\\\n",
    "        .sort_values(var)\n",
    "      \n",
    "      # get lm stats\n",
    "      res = self.cat_var_analyze(var)\n",
    "      \n",
    "      # plot\n",
    "      x = np.arange(df_plt.shape[0])\n",
    "      width=.7\n",
    "      \n",
    "      if len(var_list) == 1:\n",
    "        ax = axes \n",
    "      else:\n",
    "        ax = axes[i]\n",
    "        \n",
    "      ax.tick_params('x', labelrotation=-45)\n",
    "      ax.plot(df_plt[var], df_plt[yvar], color='magenta', linestyle='-', marker='o', label=yvar)\n",
    "      ax.set_ylabel(f'Mean {yvar}')\n",
    "      ax_twin = ax.twinx()\n",
    "      ax_twin.bar(df_plt[var], df_plt['n'], label=\"Count\", color='darkgrey', width=12 / (df_plt.shape[0]*5))\n",
    "      ax_twin.set_ylabel('Count')\n",
    "      ax.set_ylim(ax.get_ylim()[0], ax.get_ylim()[1]*1.2)\n",
    "      ax_twin.set_ylim(ax_twin.get_ylim()[0], ax_twin.get_ylim()[1]*1.2)\n",
    "      ax.legend(loc='upper left')\n",
    "      ax_twin.legend(loc='upper right')\n",
    "      ax.set_zorder(ax_twin.get_zorder() + 1)\n",
    "      ax.patch.set_visible(False)\n",
    "      ax.set_ylim(0, df_plt[yvar].max()*1.1)\n",
    "      \n",
    "      if show_missing_percent:\n",
    "        title_t = '{} | AIC: {:.4} | BIC: {:.4} | Percent Missing: {:.0%}'.format(var, res['aic'][0], res['bic'][0], res['percent_missing'][0])\n",
    "      else:\n",
    "        title_t = '{} | AIC: {:.4} | BIC: {:.4}'.format(var, res['aic'][0], res['bic'][0])\n",
    "      \n",
    "      ax.set_title(title_t)\n",
    "    \n",
    "    fig.tight_layout()"
   ]
  },
  {
   "cell_type": "code",
   "execution_count": null,
   "metadata": {},
   "outputs": [],
   "source": [
    "fs = FeatureStats(df[~df['pm25_r12'].isna()])\n",
    "var_list = [\n",
    "  'school_region_name', 'month',\n",
    "  \n",
    "  'school_wspd', 'school_elevation_m', 'ps_elevation_m', 'dist_school_to_ps_m', \n",
    "  'angle_to_school', 'ps_wspd_merge', 'avg_wind_speed', 'avg_wind_alignment', 'avg_wind_alignment_cosine', \n",
    "  'nearby_point_source_count', 'ca_agi_per_returns', 'total_tax_liability', 'tax_liability_per_capita', \n",
    "  'school_count', \n",
    "  \n",
    "  'pm25_r6', 'pm25_r9', 'pm25_r12']\n",
    "  \n",
    "var_list2 = fs.sort_cat_features(var_list)\n",
    "fs.plot_cat_features(var_list2['var'].to_list(), yvar='pm25', max_factor_levels=10)\n",
    "print('')"
   ]
  },
  {
   "cell_type": "markdown",
   "metadata": {},
   "source": [
    "Plots for the log scaled PM2.5 look the same."
   ]
  },
  {
   "cell_type": "markdown",
   "metadata": {},
   "source": [
    "# Aim 2 Regression = Predict pm2.5 levels"
   ]
  },
  {
   "cell_type": "code",
   "execution_count": null,
   "metadata": {},
   "outputs": [],
   "source": [
    "# X vars\n",
    "x_vars = ['school_elevation_m', 'ps_elevation_m', 'pop_under19_male', \n",
    "          'pop_under19_female', 'dist_school_to_ps_m',\n",
    "          'avg_wind_speed', 'avg_wind_alignment_cosine']\n",
    "\n",
    "x_wind = ['school_wspd']\n",
    "x_other = ['school_elevation_m']"
   ]
  },
  {
   "cell_type": "code",
   "execution_count": 202,
   "metadata": {},
   "outputs": [
    {
     "name": "stdout",
     "output_type": "stream",
     "text": [
      "                            OLS Regression Results                            \n",
      "==============================================================================\n",
      "Dep. Variable:               pm25_log   R-squared:                       0.631\n",
      "Model:                            OLS   Adj. R-squared:                  0.631\n",
      "Method:                 Least Squares   F-statistic:                 1.488e+04\n",
      "Date:                Sun, 16 Oct 2022   Prob (F-statistic):               0.00\n",
      "Time:                        14:07:23   Log-Likelihood:                -87694.\n",
      "No. Observations:              295365   AIC:                         1.755e+05\n",
      "Df Residuals:                  295330   BIC:                         1.758e+05\n",
      "Df Model:                          34                                         \n",
      "Covariance Type:            nonrobust                                         \n",
      "==================================================================================================================\n",
      "                                                     coef    std err          t      P>|t|      [0.025      0.975]\n",
      "------------------------------------------------------------------------------------------------------------------\n",
      "const                                              1.7253      0.005    373.836      0.000       1.716       1.734\n",
      "school_wspd                                       -0.0287      0.002    -17.009      0.000      -0.032      -0.025\n",
      "school_elevation_m                                -0.0002    3.7e-06    -47.028      0.000      -0.000      -0.000\n",
      "ps_elevation_m                                 -4.016e-05   3.73e-06    -10.769      0.000   -4.75e-05   -3.28e-05\n",
      "dist_school_to_ps_m                            -2.495e-06   5.96e-08    -41.890      0.000   -2.61e-06   -2.38e-06\n",
      "ps_wspd_merge                                      0.0062      0.002      3.555      0.000       0.003       0.010\n",
      "avg_wind_speed                                    -0.0113      0.000    -31.086      0.000      -0.012      -0.011\n",
      "avg_wind_alignment_cosine                          0.0076      0.001      7.376      0.000       0.006       0.010\n",
      "nearby_point_source_count                          0.0032      0.001      3.545      0.000       0.001       0.005\n",
      "ca_agi_per_returns                             -7.611e-08   9.77e-09     -7.790      0.000   -9.53e-08    -5.7e-08\n",
      "total_tax_liability                             1.939e-10    1.3e-11     14.915      0.000    1.68e-10    2.19e-10\n",
      "tax_liability_per_capita                        1.176e-07   8.48e-08      1.387      0.166   -4.86e-08    2.84e-07\n",
      "school_count                                       0.0013      0.000     12.448      0.000       0.001       0.002\n",
      "pm25_r6                                            0.0511      0.000    102.753      0.000       0.050       0.052\n",
      "pm25_r9                                           -0.1540      0.001   -160.949      0.000      -0.156      -0.152\n",
      "pm25_r12                                           0.1702      0.001    221.240      0.000       0.169       0.172\n",
      "month_02                                          -0.0598      0.003    -20.229      0.000      -0.066      -0.054\n",
      "month_03                                          -0.1427      0.003    -48.008      0.000      -0.149      -0.137\n",
      "month_04                                          -0.0807      0.003    -26.585      0.000      -0.087      -0.075\n",
      "month_05                                          -0.0010      0.003     -0.321      0.748      -0.007       0.005\n",
      "month_06                                           0.0550      0.003     17.335      0.000       0.049       0.061\n",
      "month_07                                           0.1729      0.003     54.342      0.000       0.167       0.179\n",
      "month_08                                           0.2001      0.003     63.466      0.000       0.194       0.206\n",
      "month_09                                           0.1107      0.003     36.400      0.000       0.105       0.117\n",
      "month_10                                          -0.0075      0.003     -2.522      0.012      -0.013      -0.002\n",
      "month_11                                           0.0358      0.003     12.046      0.000       0.030       0.042\n",
      "month_12                                          -0.0053      0.003     -1.801      0.072      -0.011       0.000\n",
      "school_region_name_central_coast                  -0.1594      0.003    -49.457      0.000      -0.166      -0.153\n",
      "school_region_name_inland_empire                   0.0328      0.003     12.541      0.000       0.028       0.038\n",
      "school_region_name_north_coast                    -0.3544      0.003   -101.935      0.000      -0.361      -0.348\n",
      "school_region_name_northern_san_joaquin_valley    -0.0224      0.003     -8.068      0.000      -0.028      -0.017\n",
      "school_region_name_orange_county                  -0.0043      0.003     -1.420      0.156      -0.010       0.002\n",
      "school_region_name_san_diego_-_imperial           -0.0410      0.003    -13.801      0.000      -0.047      -0.035\n",
      "school_region_name_san_francisco_bay_area         -0.1070      0.003    -40.007      0.000      -0.112      -0.102\n",
      "school_region_name_southern_san_joaquin_valley    -0.0297      0.003    -11.574      0.000      -0.035      -0.025\n",
      "school_region_name_superior_california            -0.0997      0.003    -38.677      0.000      -0.105      -0.095\n",
      "==============================================================================\n",
      "Omnibus:                    29402.235   Durbin-Watson:                   0.530\n",
      "Prob(Omnibus):                  0.000   Jarque-Bera (JB):           189932.663\n",
      "Skew:                           0.252   Prob(JB):                         0.00\n",
      "Kurtosis:                       6.896   Cond. No.                     1.64e+19\n",
      "==============================================================================\n",
      "\n",
      "Notes:\n",
      "[1] Standard Errors assume that the covariance matrix of the errors is correctly specified.\n",
      "[2] The smallest eigenvalue is 5.56e-18. This might indicate that there are\n",
      "strong multicollinearity problems or that the design matrix is singular.\n"
     ]
    }
   ],
   "source": [
    "# select X vars, for the categorical features, select all one hot encoded ones. then drop a baseline for each. \n",
    "x_vars = [\n",
    "  'school_wspd', 'school_elevation_m', 'ps_elevation_m', 'dist_school_to_ps_m', \n",
    "  'ps_wspd_merge', 'avg_wind_speed', 'avg_wind_alignment_cosine', \n",
    "  'nearby_point_source_count', 'ca_agi_per_returns', 'total_tax_liability', 'tax_liability_per_capita', \n",
    "  'school_count', \n",
    "  \n",
    "  'pm25_r6', 'pm25_r9', 'pm25_r12']+\\\n",
    "    [i for i in df.columns if (re.search('month_', i) and i not in 'month_01')]+\\\n",
    "    [i for i in df.columns if (re.search('school_region_name_', i) and i not in 'school_region_name_los_angeles_county')]\n",
    "\n",
    "df1 = df[~df['pm25_r12'].isna()]\n",
    "\n",
    "X = df1[x_vars]\n",
    "y = df1['pm25_log']\n",
    "\n",
    "# add constant\n",
    "X = sm.add_constant(X)\n",
    "\n",
    "# fit\n",
    "est = sm.OLS(y, X).fit()\n",
    "\n",
    "# see summary\n",
    "print(est.summary())"
   ]
  },
  {
   "cell_type": "markdown",
   "metadata": {},
   "source": [
    "# Aim 3 Regression\n",
    "\n",
    "- Stage 1 of the least squares regression: $\\hat{x} = z \\delta$.\n",
    "  - $\\hat{x}$ = Predicted pm2.5 amounts ($\\hat{pm2.5}$). We'll use this predicted var to predict our final Y, health outcomes. \n",
    "  - $z$ = Instrument = `avg_wind_alignment_cosine`. But this right hand side of the equation should also include all other exogenous (x) vars. \n",
    "  \n",
    "- Stage 2 of the equation: $\\hat{y} = \\hat{x} \\beta$\n",
    "  - $\\hat{y}$ = predicted medical outcome\n",
    "  - $\\hat{x}$ = predicted pm2.5 amt from the first stage. But we also should include the other exogenous vars. "
   ]
  },
  {
   "cell_type": "code",
   "execution_count": 247,
   "metadata": {},
   "outputs": [],
   "source": [
    "# try the IV2SLS function from statsmodels first\n",
    "#help(IV2SLS)"
   ]
  },
  {
   "cell_type": "code",
   "execution_count": 248,
   "metadata": {},
   "outputs": [
    {
     "name": "stdout",
     "output_type": "stream",
     "text": [
      "                          IV2SLS Regression Results                           \n",
      "==============================================================================\n",
      "Dep. Variable:        y_hematopoietic   R-squared:                      -2.433\n",
      "Model:                         IV2SLS   Adj. R-squared:                 -2.434\n",
      "Method:                     Two Stage   F-statistic:                       nan\n",
      "                        Least Squares   Prob (F-statistic):                nan\n",
      "Date:                Sun, 16 Oct 2022                                         \n",
      "Time:                        15:33:13                                         \n",
      "No. Observations:              293873                                         \n",
      "Df Residuals:                  293839                                         \n",
      "Df Model:                          34                                         \n",
      "==================================================================================================================\n",
      "                                                     coef    std err          t      P>|t|      [0.025      0.975]\n",
      "------------------------------------------------------------------------------------------------------------------\n",
      "school_wspd                                        0.0002    537.662   3.61e-07      1.000   -1053.803    1053.803\n",
      "school_elevation_m                               -1.5e-06        nan        nan        nan         nan         nan\n",
      "ps_elevation_m                                 -1.894e-07        nan        nan        nan         nan         nan\n",
      "dist_school_to_ps_m                            -3.259e-08        nan        nan        nan         nan         nan\n",
      "ps_wspd_merge                                   8.076e-05    592.857   1.36e-07      1.000   -1161.984    1161.984\n",
      "avg_wind_speed                                     0.0002    353.647   5.43e-07      1.000    -693.137     693.138\n",
      "nearby_point_source_count                       3.612e-05   4505.601   8.02e-09      1.000   -8830.851    8830.851\n",
      "ca_agi_per_returns                              1.626e-09        nan        nan        nan         nan         nan\n",
      "total_tax_liability                            -5.757e-12   5.96e-05  -9.66e-08      1.000      -0.000       0.000\n",
      "tax_liability_per_capita                        2.687e-08      0.510   5.26e-08      1.000      -1.000       1.000\n",
      "school_count                                   -7.206e-05        nan        nan        nan         nan         nan\n",
      "pm25_r6                                        -1.658e-05    135.355  -1.22e-07      1.000    -265.292     265.292\n",
      "pm25_r9                                         2.604e-05    283.723   9.18e-08      1.000    -556.089     556.089\n",
      "pm25_r12                                       -2.265e-05    121.284  -1.87e-07      1.000    -237.713     237.713\n",
      "month_02                                          -0.0028        nan        nan        nan         nan         nan\n",
      "month_03                                           0.0015   3640.888   4.05e-07      1.000   -7136.037    7136.040\n",
      "month_04                                          -0.0008        nan        nan        nan         nan         nan\n",
      "month_05                                          -0.0017        nan        nan        nan         nan         nan\n",
      "month_06                                           0.0036   3.42e+04   1.04e-07      1.000   -6.71e+04    6.71e+04\n",
      "month_07                                           0.0020   1.28e+04   1.55e-07      1.000   -2.51e+04    2.51e+04\n",
      "month_08                                           0.0039   9865.178   3.93e-07      1.000   -1.93e+04    1.93e+04\n",
      "month_09                                           0.0014        nan        nan        nan         nan         nan\n",
      "month_10                                          -0.0010        nan        nan        nan         nan         nan\n",
      "month_11                                           0.0047   2.54e+04   1.84e-07      1.000   -4.98e+04    4.98e+04\n",
      "month_12                                          -0.0031   3.34e+04  -9.29e-08      1.000   -6.55e+04    6.55e+04\n",
      "school_region_name_central_coast                   0.0036   1.53e+04   2.35e-07      1.000   -2.99e+04    2.99e+04\n",
      "school_region_name_inland_empire                  -0.0005   1.51e+04  -3.18e-08      1.000   -2.97e+04    2.97e+04\n",
      "school_region_name_north_coast                     0.0034   2.83e+04   1.19e-07      1.000   -5.55e+04    5.55e+04\n",
      "school_region_name_northern_san_joaquin_valley     0.0038   3.71e+04   1.01e-07      1.000   -7.27e+04    7.27e+04\n",
      "school_region_name_orange_county                   0.0029   5.46e+04   5.36e-08      1.000   -1.07e+05    1.07e+05\n",
      "school_region_name_san_diego_-_imperial         3.965e-05   1.76e+04   2.26e-09      1.000   -3.44e+04    3.44e+04\n",
      "school_region_name_san_francisco_bay_area         -0.0003   6064.036  -4.58e-08      1.000   -1.19e+04    1.19e+04\n",
      "school_region_name_southern_san_joaquin_valley    -0.0025        nan        nan        nan         nan         nan\n",
      "school_region_name_superior_california            -0.0021        nan        nan        nan         nan         nan\n",
      "==============================================================================\n",
      "Omnibus:                   627804.634   Durbin-Watson:                   0.757\n",
      "Prob(Omnibus):                  0.000   Jarque-Bera (JB):      55168801926.864\n",
      "Skew:                          17.688   Prob(JB):                         0.00\n",
      "Kurtosis:                    2125.327   Cond. No.                          nan\n",
      "==============================================================================\n"
     ]
    },
    {
     "name": "stderr",
     "output_type": "stream",
     "text": [
      "/Users/tj/opt/miniconda3/lib/python3.9/site-packages/statsmodels/sandbox/regression/gmm.py:290: RuntimeWarning: invalid value encountered in sqrt\n",
      "  condno = np.sqrt(eigvals[-1]/eigvals[0])\n",
      "/Users/tj/opt/miniconda3/lib/python3.9/site-packages/statsmodels/regression/linear_model.py:1817: RuntimeWarning: invalid value encountered in sqrt\n",
      "  return np.sqrt(np.diag(self.cov_params()))\n"
     ]
    }
   ],
   "source": [
    "# select X vars, for the categorical features, select all one hot encoded ones. then drop a baseline for each. \n",
    "x_vars = [\n",
    "  'school_wspd', 'school_elevation_m', 'ps_elevation_m', 'dist_school_to_ps_m', 'ps_wspd_merge', 'avg_wind_speed', \n",
    "  'nearby_point_source_count', 'ca_agi_per_returns', 'total_tax_liability', 'tax_liability_per_capita', \n",
    "  'school_count', \n",
    "  \n",
    "  'pm25_r6', 'pm25_r9', 'pm25_r12']+\\\n",
    "    [i for i in df.columns if (re.search('month_', i) and i not in 'month_01')]+\\\n",
    "    [i for i in df.columns if (re.search('school_region_name_', i) and i not in 'school_region_name_los_angeles_county')]\n",
    "\n",
    "df1 = df[~df['pm25_r12'].isna()]\n",
    "\n",
    "y = df1['y_hematopoietic']\n",
    "X = df1[x_vars]\n",
    "endog_var = df1['pm25_log']\n",
    "x_instrument = df1['avg_wind_alignment_cosine']\n",
    "X_and_instruments = df1[x_vars + ['avg_wind_alignment_cosine']]\n",
    "\n",
    "iv_fit = IV2SLS(\n",
    "  endog=y,\n",
    "  exog=X,\n",
    "  instrument=x_instrument\n",
    "  ).fit()\n",
    "\n",
    "print(iv_fit.summary())"
   ]
  },
  {
   "cell_type": "markdown",
   "metadata": {},
   "source": [
    "Trying with alternative package"
   ]
  },
  {
   "cell_type": "code",
   "execution_count": 249,
   "metadata": {},
   "outputs": [],
   "source": [
    "#help(IV2SLS_v2)"
   ]
  },
  {
   "cell_type": "code",
   "execution_count": 252,
   "metadata": {},
   "outputs": [
    {
     "data": {
      "text/html": [
       "<table class=\"simpletable\">\n",
       "<caption>IV-2SLS Estimation Summary</caption>\n",
       "<tr>\n",
       "  <th>Dep. Variable:</th>     <td>y_hematopoietic</td> <th>  R-squared:         </th> <td>-0.0075</td>\n",
       "</tr>\n",
       "<tr>\n",
       "  <th>Estimator:</th>             <td>IV-2SLS</td>     <th>  Adj. R-squared:    </th> <td>-0.0075</td>\n",
       "</tr>\n",
       "<tr>\n",
       "  <th>No. Observations:</th>      <td>293873</td>      <th>  F-statistic:       </th> <td>28.925</td> \n",
       "</tr>\n",
       "<tr>\n",
       "  <th>Date:</th>             <td>Sun, Oct 16 2022</td> <th>  P-value (F-stat)   </th> <td>0.0000</td> \n",
       "</tr>\n",
       "<tr>\n",
       "  <th>Time:</th>                 <td>15:33:36</td>     <th>  Distribution:      </th> <td>chi2(5)</td>\n",
       "</tr>\n",
       "<tr>\n",
       "  <th>Cov. Estimator:</th>      <td>unadjusted</td>    <th>                     </th>    <td></td>    \n",
       "</tr>\n",
       "<tr>\n",
       "  <th></th>                          <td></td>         <th>                     </th>    <td></td>    \n",
       "</tr>\n",
       "</table>\n",
       "<table class=\"simpletable\">\n",
       "<caption>Parameter Estimates</caption>\n",
       "<tr>\n",
       "              <td></td>              <th>Parameter</th> <th>Std. Err.</th> <th>T-stat</th>  <th>P-value</th>  <th>Lower CI</th>   <th>Upper CI</th> \n",
       "</tr>\n",
       "<tr>\n",
       "  <th>Intercept</th>                  <td>-0.0007</td>   <td>0.0006</td>   <td>-1.0896</td> <td>0.2759</td>    <td>-0.0019</td>    <td>0.0005</td>  \n",
       "</tr>\n",
       "<tr>\n",
       "  <th>dist_school_to_ps_m</th>       <td>4.36e-09</td>  <td>2.931e-09</td> <td>1.4877</td>  <td>0.1368</td>  <td>-1.384e-09</td>  <td>1.01e-08</td> \n",
       "</tr>\n",
       "<tr>\n",
       "  <th>school_count</th>             <td>-5.817e-06</td> <td>2.258e-06</td> <td>-2.5765</td> <td>0.0100</td>  <td>-1.024e-05</td> <td>-1.392e-06</td>\n",
       "</tr>\n",
       "<tr>\n",
       "  <th>school_elevation_m</th>        <td>5.094e-08</td> <td>7.356e-08</td> <td>0.6926</td>  <td>0.4886</td>  <td>-9.323e-08</td>  <td>1.951e-07</td>\n",
       "</tr>\n",
       "<tr>\n",
       "  <th>tax_liability_per_capita</th>  <td>4.776e-11</td> <td>5.577e-10</td> <td>0.0856</td>  <td>0.9318</td>  <td>-1.045e-09</td>  <td>1.141e-09</td>\n",
       "</tr>\n",
       "<tr>\n",
       "  <th>pm25_log</th>                   <td>0.0004</td>    <td>0.0003</td>   <td>1.3728</td>  <td>0.1698</td>    <td>-0.0002</td>    <td>0.0009</td>  \n",
       "</tr>\n",
       "</table><br/><br/>Endogenous: pm25_log<br/>Instruments: avg_wind_alignment_cosine<br/>Unadjusted Covariance (Homoskedastic)<br/>Debiased: False<br/>id: 0x7f820a163700"
      ],
      "text/plain": [
       "                          IV-2SLS Estimation Summary                          \n",
       "==============================================================================\n",
       "Dep. Variable:        y_hematopoietic   R-squared:                     -0.0075\n",
       "Estimator:                    IV-2SLS   Adj. R-squared:                -0.0075\n",
       "No. Observations:              293873   F-statistic:                    28.925\n",
       "Date:                Sun, Oct 16 2022   P-value (F-stat)                0.0000\n",
       "Time:                        15:33:36   Distribution:                  chi2(5)\n",
       "Cov. Estimator:            unadjusted                                         \n",
       "                                                                              \n",
       "                                    Parameter Estimates                                     \n",
       "============================================================================================\n",
       "                          Parameter  Std. Err.     T-stat    P-value    Lower CI    Upper CI\n",
       "--------------------------------------------------------------------------------------------\n",
       "Intercept                   -0.0007     0.0006    -1.0896     0.2759     -0.0019      0.0005\n",
       "dist_school_to_ps_m        4.36e-09  2.931e-09     1.4877     0.1368  -1.384e-09    1.01e-08\n",
       "school_count             -5.817e-06  2.258e-06    -2.5765     0.0100  -1.024e-05  -1.392e-06\n",
       "school_elevation_m        5.094e-08  7.356e-08     0.6926     0.4886  -9.323e-08   1.951e-07\n",
       "tax_liability_per_capita  4.776e-11  5.577e-10     0.0856     0.9318  -1.045e-09   1.141e-09\n",
       "pm25_log                     0.0004     0.0003     1.3728     0.1698     -0.0002      0.0009\n",
       "============================================================================================\n",
       "\n",
       "Endogenous: pm25_log\n",
       "Instruments: avg_wind_alignment_cosine\n",
       "Unadjusted Covariance (Homoskedastic)\n",
       "Debiased: False\n",
       "IVResults, id: 0x7f820a163700"
      ]
     },
     "execution_count": 252,
     "metadata": {},
     "output_type": "execute_result"
    }
   ],
   "source": [
    "formula = '''y_hematopoietic ~ 1 + school_elevation_m + \n",
    "  dist_school_to_ps_m + tax_liability_per_capita + school_count + \n",
    "  [pm25_log ~ avg_wind_alignment_cosine]'''\n",
    "iv_fit2 = IV2SLS_v2.from_formula(formula, data=df1).fit(cov_type='unadjusted')\n",
    "iv_fit2"
   ]
  },
  {
   "cell_type": "code",
   "execution_count": 254,
   "metadata": {},
   "outputs": [
    {
     "data": {
      "text/html": [
       "<table class=\"simpletable\">\n",
       "<caption>IV-2SLS Estimation Summary</caption>\n",
       "<tr>\n",
       "  <th>Dep. Variable:</th>      <td>y_vasculitis</td>   <th>  R-squared:         </th> <td>-0.0089</td>\n",
       "</tr>\n",
       "<tr>\n",
       "  <th>Estimator:</th>             <td>IV-2SLS</td>     <th>  Adj. R-squared:    </th> <td>-0.0089</td>\n",
       "</tr>\n",
       "<tr>\n",
       "  <th>No. Observations:</th>      <td>293873</td>      <th>  F-statistic:       </th> <td>37.340</td> \n",
       "</tr>\n",
       "<tr>\n",
       "  <th>Date:</th>             <td>Sun, Oct 16 2022</td> <th>  P-value (F-stat)   </th> <td>0.0000</td> \n",
       "</tr>\n",
       "<tr>\n",
       "  <th>Time:</th>                 <td>15:34:47</td>     <th>  Distribution:      </th> <td>chi2(5)</td>\n",
       "</tr>\n",
       "<tr>\n",
       "  <th>Cov. Estimator:</th>      <td>unadjusted</td>    <th>                     </th>    <td></td>    \n",
       "</tr>\n",
       "<tr>\n",
       "  <th></th>                          <td></td>         <th>                     </th>    <td></td>    \n",
       "</tr>\n",
       "</table>\n",
       "<table class=\"simpletable\">\n",
       "<caption>Parameter Estimates</caption>\n",
       "<tr>\n",
       "              <td></td>              <th>Parameter</th> <th>Std. Err.</th> <th>T-stat</th>  <th>P-value</th>  <th>Lower CI</th>   <th>Upper CI</th> \n",
       "</tr>\n",
       "<tr>\n",
       "  <th>Intercept</th>                  <td>0.0009</td>    <td>0.0004</td>   <td>2.2611</td>  <td>0.0238</td>    <td>0.0001</td>     <td>0.0016</td>  \n",
       "</tr>\n",
       "<tr>\n",
       "  <th>dist_school_to_ps_m</th>      <td>-4.991e-09</td> <td>1.869e-09</td> <td>-2.6701</td> <td>0.0076</td>  <td>-8.655e-09</td> <td>-1.327e-09</td>\n",
       "</tr>\n",
       "<tr>\n",
       "  <th>school_count</th>              <td>1.86e-06</td>  <td>1.44e-06</td>  <td>1.2914</td>  <td>0.1966</td>  <td>-9.628e-07</td>  <td>4.683e-06</td>\n",
       "</tr>\n",
       "<tr>\n",
       "  <th>school_elevation_m</th>       <td>-7.097e-08</td> <td>4.692e-08</td> <td>-1.5126</td> <td>0.1304</td>  <td>-1.629e-07</td>  <td>2.099e-08</td>\n",
       "</tr>\n",
       "<tr>\n",
       "  <th>tax_liability_per_capita</th> <td>-2.068e-10</td> <td>3.558e-10</td> <td>-0.5812</td> <td>0.5611</td>  <td>-9.041e-10</td>  <td>4.905e-10</td>\n",
       "</tr>\n",
       "<tr>\n",
       "  <th>pm25_log</th>                   <td>-0.0003</td>   <td>0.0002</td>   <td>-1.9401</td> <td>0.0524</td>    <td>-0.0006</td>   <td>3.27e-06</td> \n",
       "</tr>\n",
       "</table><br/><br/>Endogenous: pm25_log<br/>Instruments: avg_wind_alignment_cosine<br/>Unadjusted Covariance (Homoskedastic)<br/>Debiased: False<br/>id: 0x7f81fba43d30"
      ],
      "text/plain": [
       "                          IV-2SLS Estimation Summary                          \n",
       "==============================================================================\n",
       "Dep. Variable:           y_vasculitis   R-squared:                     -0.0089\n",
       "Estimator:                    IV-2SLS   Adj. R-squared:                -0.0089\n",
       "No. Observations:              293873   F-statistic:                    37.340\n",
       "Date:                Sun, Oct 16 2022   P-value (F-stat)                0.0000\n",
       "Time:                        15:34:47   Distribution:                  chi2(5)\n",
       "Cov. Estimator:            unadjusted                                         \n",
       "                                                                              \n",
       "                                    Parameter Estimates                                     \n",
       "============================================================================================\n",
       "                          Parameter  Std. Err.     T-stat    P-value    Lower CI    Upper CI\n",
       "--------------------------------------------------------------------------------------------\n",
       "Intercept                    0.0009     0.0004     2.2611     0.0238      0.0001      0.0016\n",
       "dist_school_to_ps_m      -4.991e-09  1.869e-09    -2.6701     0.0076  -8.655e-09  -1.327e-09\n",
       "school_count               1.86e-06   1.44e-06     1.2914     0.1966  -9.628e-07   4.683e-06\n",
       "school_elevation_m       -7.097e-08  4.692e-08    -1.5126     0.1304  -1.629e-07   2.099e-08\n",
       "tax_liability_per_capita -2.068e-10  3.558e-10    -0.5812     0.5611  -9.041e-10   4.905e-10\n",
       "pm25_log                    -0.0003     0.0002    -1.9401     0.0524     -0.0006    3.27e-06\n",
       "============================================================================================\n",
       "\n",
       "Endogenous: pm25_log\n",
       "Instruments: avg_wind_alignment_cosine\n",
       "Unadjusted Covariance (Homoskedastic)\n",
       "Debiased: False\n",
       "IVResults, id: 0x7f81fba43d30"
      ]
     },
     "execution_count": 254,
     "metadata": {},
     "output_type": "execute_result"
    }
   ],
   "source": [
    "formula = '''y_vasculitis ~ 1 + school_elevation_m + \n",
    "  dist_school_to_ps_m + tax_liability_per_capita + school_count + \n",
    "  [pm25_log ~ avg_wind_alignment_cosine]'''\n",
    "iv_fit2 = IV2SLS_v2.from_formula(formula, data=df1).fit(cov_type='unadjusted')\n",
    "iv_fit2"
   ]
  },
  {
   "cell_type": "code",
   "execution_count": 255,
   "metadata": {},
   "outputs": [
    {
     "data": {
      "text/html": [
       "<table class=\"simpletable\">\n",
       "<caption>IV-2SLS Estimation Summary</caption>\n",
       "<tr>\n",
       "  <th>Dep. Variable:</th>       <td>y_diabetes</td>    <th>  R-squared:         </th> <td>0.0002</td> \n",
       "</tr>\n",
       "<tr>\n",
       "  <th>Estimator:</th>             <td>IV-2SLS</td>     <th>  Adj. R-squared:    </th> <td>0.0002</td> \n",
       "</tr>\n",
       "<tr>\n",
       "  <th>No. Observations:</th>      <td>293873</td>      <th>  F-statistic:       </th> <td>55.115</td> \n",
       "</tr>\n",
       "<tr>\n",
       "  <th>Date:</th>             <td>Sun, Oct 16 2022</td> <th>  P-value (F-stat)   </th> <td>0.0000</td> \n",
       "</tr>\n",
       "<tr>\n",
       "  <th>Time:</th>                 <td>15:34:49</td>     <th>  Distribution:      </th> <td>chi2(5)</td>\n",
       "</tr>\n",
       "<tr>\n",
       "  <th>Cov. Estimator:</th>      <td>unadjusted</td>    <th>                     </th>    <td></td>    \n",
       "</tr>\n",
       "<tr>\n",
       "  <th></th>                          <td></td>         <th>                     </th>    <td></td>    \n",
       "</tr>\n",
       "</table>\n",
       "<table class=\"simpletable\">\n",
       "<caption>Parameter Estimates</caption>\n",
       "<tr>\n",
       "              <td></td>              <th>Parameter</th> <th>Std. Err.</th> <th>T-stat</th>  <th>P-value</th>  <th>Lower CI</th>  <th>Upper CI</th> \n",
       "</tr>\n",
       "<tr>\n",
       "  <th>Intercept</th>                  <td>0.0004</td>    <td>0.0008</td>   <td>0.4242</td>  <td>0.6714</td>    <td>-0.0013</td>   <td>0.0020</td>  \n",
       "</tr>\n",
       "<tr>\n",
       "  <th>dist_school_to_ps_m</th>      <td>-1.165e-09</td> <td>3.998e-09</td> <td>-0.2914</td> <td>0.7708</td>  <td>-9.002e-09</td> <td>6.672e-09</td>\n",
       "</tr>\n",
       "<tr>\n",
       "  <th>school_count</th>             <td>-2.971e-06</td> <td>3.081e-06</td> <td>-0.9645</td> <td>0.3348</td>  <td>-9.009e-06</td> <td>3.067e-06</td>\n",
       "</tr>\n",
       "<tr>\n",
       "  <th>school_elevation_m</th>        <td>5.787e-08</td> <td>1.004e-07</td> <td>0.5767</td>  <td>0.5642</td>  <td>-1.388e-07</td> <td>2.546e-07</td>\n",
       "</tr>\n",
       "<tr>\n",
       "  <th>tax_liability_per_capita</th>  <td>6.307e-11</td> <td>7.61e-10</td>  <td>0.0829</td>  <td>0.9339</td>  <td>-1.428e-09</td> <td>1.555e-09</td>\n",
       "</tr>\n",
       "<tr>\n",
       "  <th>pm25_log</th>                   <td>-0.0001</td>   <td>0.0004</td>   <td>-0.2963</td> <td>0.7670</td>    <td>-0.0008</td>   <td>0.0006</td>  \n",
       "</tr>\n",
       "</table><br/><br/>Endogenous: pm25_log<br/>Instruments: avg_wind_alignment_cosine<br/>Unadjusted Covariance (Homoskedastic)<br/>Debiased: False<br/>id: 0x7f80f8d305e0"
      ],
      "text/plain": [
       "                          IV-2SLS Estimation Summary                          \n",
       "==============================================================================\n",
       "Dep. Variable:             y_diabetes   R-squared:                      0.0002\n",
       "Estimator:                    IV-2SLS   Adj. R-squared:                 0.0002\n",
       "No. Observations:              293873   F-statistic:                    55.115\n",
       "Date:                Sun, Oct 16 2022   P-value (F-stat)                0.0000\n",
       "Time:                        15:34:49   Distribution:                  chi2(5)\n",
       "Cov. Estimator:            unadjusted                                         \n",
       "                                                                              \n",
       "                                    Parameter Estimates                                     \n",
       "============================================================================================\n",
       "                          Parameter  Std. Err.     T-stat    P-value    Lower CI    Upper CI\n",
       "--------------------------------------------------------------------------------------------\n",
       "Intercept                    0.0004     0.0008     0.4242     0.6714     -0.0013      0.0020\n",
       "dist_school_to_ps_m      -1.165e-09  3.998e-09    -0.2914     0.7708  -9.002e-09   6.672e-09\n",
       "school_count             -2.971e-06  3.081e-06    -0.9645     0.3348  -9.009e-06   3.067e-06\n",
       "school_elevation_m        5.787e-08  1.004e-07     0.5767     0.5642  -1.388e-07   2.546e-07\n",
       "tax_liability_per_capita  6.307e-11   7.61e-10     0.0829     0.9339  -1.428e-09   1.555e-09\n",
       "pm25_log                    -0.0001     0.0004    -0.2963     0.7670     -0.0008      0.0006\n",
       "============================================================================================\n",
       "\n",
       "Endogenous: pm25_log\n",
       "Instruments: avg_wind_alignment_cosine\n",
       "Unadjusted Covariance (Homoskedastic)\n",
       "Debiased: False\n",
       "IVResults, id: 0x7f80f8d305e0"
      ]
     },
     "execution_count": 255,
     "metadata": {},
     "output_type": "execute_result"
    }
   ],
   "source": [
    "formula = '''y_diabetes ~ 1 + school_elevation_m + \n",
    "  dist_school_to_ps_m + tax_liability_per_capita + school_count + \n",
    "  [pm25_log ~ avg_wind_alignment_cosine]'''\n",
    "iv_fit2 = IV2SLS_v2.from_formula(formula, data=df1).fit(cov_type='unadjusted')\n",
    "iv_fit2"
   ]
  },
  {
   "cell_type": "markdown",
   "metadata": {},
   "source": [
    "# Modeling with more complex relationship. \n",
    "\n",
    "Now, model $\\hat{x}$ using a more complex ML algo such as xgb. Then use that $\\hat{x}$ in the 2nd stage least squares regression. "
   ]
  },
  {
   "cell_type": "code",
   "execution_count": null,
   "metadata": {},
   "outputs": [],
   "source": []
  },
  {
   "cell_type": "code",
   "execution_count": null,
   "metadata": {},
   "outputs": [],
   "source": []
  },
  {
   "cell_type": "code",
   "execution_count": null,
   "metadata": {},
   "outputs": [],
   "source": []
  },
  {
   "cell_type": "code",
   "execution_count": null,
   "metadata": {},
   "outputs": [],
   "source": []
  }
 ],
 "metadata": {
  "kernelspec": {
   "display_name": "Python 3.9.1 64-bit ('miniconda3')",
   "language": "python",
   "name": "python3"
  },
  "language_info": {
   "codemirror_mode": {
    "name": "ipython",
    "version": 3
   },
   "file_extension": ".py",
   "mimetype": "text/x-python",
   "name": "python",
   "nbconvert_exporter": "python",
   "pygments_lexer": "ipython3",
   "version": "3.9.1"
  },
  "orig_nbformat": 4,
  "vscode": {
   "interpreter": {
    "hash": "b25cd5a5a3cd1ea9e93fd254f185f4731ffaa4421de0b98534600687fe3ed44f"
   }
  }
 },
 "nbformat": 4,
 "nbformat_minor": 2
}
