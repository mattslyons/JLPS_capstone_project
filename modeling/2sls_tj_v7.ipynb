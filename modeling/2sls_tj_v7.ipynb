{
 "cells": [
  {
   "cell_type": "markdown",
   "metadata": {},
   "source": [
    "# Baseline 2-Staged Least Squares Instrumental Variables Regression using Cornelia's Randomized Medical Data\n",
    "\n",
    "- Using year, month, county as fixed effects. But interact year_trend * month_county.\n",
    "- Include control diagnoses."
   ]
  },
  {
   "cell_type": "code",
   "execution_count": 24,
   "metadata": {},
   "outputs": [],
   "source": [
    "# optional. I'm getting annoying warnings that I just want to ignore:\n",
    "import warnings\n",
    "warnings.simplefilter(action='ignore', category=FutureWarning)\n",
    "\n",
    "# basics\n",
    "import pandas as pd \n",
    "import numpy as np\n",
    "import os \n",
    "import re\n",
    "from datetime import datetime\n",
    "from tqdm.notebook import tqdm\n",
    "tqdm.pandas()\n",
    "import requests\n",
    "import urllib\n",
    "\n",
    "# plotting\n",
    "import matplotlib.pyplot as plt\n",
    "from matplotlib.dates import DateFormatter\n",
    "import plotly.express as px\n",
    "import seaborn as sns\n",
    "\n",
    "# modeling\n",
    "from patsy import dmatrices\n",
    "import statsmodels.api as sm\n",
    "from sklearn.linear_model import LinearRegression\n",
    "from sklearn.preprocessing import OneHotEncoder\n",
    "#from statsmodels.sandbox.regression.gmm import IV2SLS\n",
    "\n",
    "pd.set_option('display.max_columns', None)\n",
    "pd.options.mode.chained_assignment = None"
   ]
  },
  {
   "cell_type": "code",
   "execution_count": 25,
   "metadata": {},
   "outputs": [],
   "source": [
    "# download this extra package from here: https://github.com/bashtage/linearmodels\n",
    "#!pip install linearmodels\n",
    "# from linearmodels.iv import IV2SLS as IV2SLS_v2"
   ]
  },
  {
   "cell_type": "code",
   "execution_count": 26,
   "metadata": {},
   "outputs": [],
   "source": [
    "# decide whether to save results:\n",
    "save_results = False"
   ]
  },
  {
   "cell_type": "code",
   "execution_count": 27,
   "metadata": {},
   "outputs": [],
   "source": [
    "# local or gdrive\n",
    "path_source = 'local'\n",
    "\n",
    "if path_source == 'gdrive':\n",
    "  from google.colab import drive\n",
    "  drive.mount('/content/gdrive')\n",
    "  data_path = '/content/gdrive/MyDrive/Classes/W210_capstone/W210_Capstone/Data'\n",
    "  #env_path = '/content/gdrive/MyDrive/.env'\n",
    "  \n",
    "elif path_source == 'local':\n",
    "  data_path = '/Users/tj/trevorj@berkeley.edu - Google Drive/My Drive/Classes/W210_capstone/W210_Capstone/Data'\n",
    "  #env_path = '/content/gdrive/MyDrive/.env'\n",
    "\n",
    "elif path_source == 'work':\n",
    "  data_path = '/Users/trevorjohnson/trevorj@berkeley.edu - Google Drive/My Drive/Classes/W210_capstone/W210_Capstone/Data'"
   ]
  },
  {
   "cell_type": "markdown",
   "metadata": {},
   "source": [
    "# Read in data"
   ]
  },
  {
   "cell_type": "code",
   "execution_count": 28,
   "metadata": {},
   "outputs": [],
   "source": [
    "# read in our modeling data\n",
    "df = pd.read_csv(os.path.join(data_path, 'modeling_data/modeling_data_2022-10-18.csv'))\n",
    "\n",
    "# read in cornelia's healthcare data\n",
    "df1 = pd.read_csv(os.path.join(data_path, 'medical/hematopoietic_cancers.csv')).iloc[:,1:]\n",
    "df2 = pd.read_csv(os.path.join(data_path, 'medical/pediatric_vasculitis.csv')).iloc[:,1:]\n",
    "df3 = pd.read_csv(os.path.join(data_path, 'medical/type_1_diabetes.csv')).iloc[:,1:]\n",
    "df4 = pd.read_csv(os.path.join(data_path, 'medical/resp_cardio.csv')).iloc[:,1:]\n",
    "df5 = pd.read_csv(os.path.join(data_path, 'medical/injuries_accidents.csv')).iloc[:,1:]"
   ]
  },
  {
   "cell_type": "markdown",
   "metadata": {},
   "source": [
    "# Data clean"
   ]
  },
  {
   "cell_type": "code",
   "execution_count": 29,
   "metadata": {},
   "outputs": [],
   "source": [
    "# med data:\n",
    "\n",
    "# get all distinct patzip_year_month\n",
    "all_pats = df1['patzip_year_month'].to_list() + \\\n",
    "  df2['patzip_year_month'].to_list() + \\\n",
    "  df3['patzip_year_month'].to_list() + \\\n",
    "  df4['patzip_year_month'].to_list() + \\\n",
    "  df5['patzip_year_month'].to_list() \n",
    "all_pats = list(set(all_pats))\n",
    "df_med = pd.DataFrame({'patzip_year_month': all_pats})\n",
    "\n",
    "# rename columns more intuitively\n",
    "df1 = df1.rename(columns={'number_of_visits': 'number_of_visits_hem_cancers'})\n",
    "df2 = df2.rename(columns={'number_of_visits': 'number_of_visits_vasc'})\n",
    "df3 = df3.rename(columns={'number_of_visits': 'number_of_visits_diab'})\n",
    "df4 = df4.rename(columns={'number_of_visits': 'number_of_visits_resp_cardio'})\n",
    "df5 = df5.rename(columns={'number_of_visits': 'number_of_visits_injuries'})\n",
    "\n",
    "# now join all the diagnoses on this dataset\n",
    "df_med = df_med\\\n",
    "  .merge(df1, on='patzip_year_month', how='left')\\\n",
    "  .merge(df2, on='patzip_year_month', how='left')\\\n",
    "  .merge(df3, on='patzip_year_month', how='left')\\\n",
    "  .merge(df4, on='patzip_year_month', how='left')\\\n",
    "  .merge(df5, on='patzip_year_month', how='left')\n",
    "\n",
    "# join data\n",
    "df['year_month'] = df['year_month'].map(lambda x: datetime.strptime(x, '%Y-%m-%d'))\n",
    "\n",
    "df['zip_year_month'] = df['school_zip'].astype(str) + '-' +\\\n",
    "  df['year_month'].dt.year.astype(str) + '-' +\\\n",
    "  df['year_month'].dt.month.astype(str)\n",
    "\n",
    "df = pd.merge(df, df_med, left_on='zip_year_month', right_on='patzip_year_month', how='left')\n",
    "\n",
    "# for missing med data, assume there were 0 cases:\n",
    "med_vars = ['hematopoietic_cancers', 'number_of_visits_hem_cancers', \n",
    "  'pediatric_vasculitis', 'number_of_visits_vasc', \n",
    "  'type_1_diabetes', 'number_of_visits_diab',\n",
    "  'resp_cardio', 'number_of_visits_resp_cardio',\n",
    "  'injuries_accidents', 'number_of_visits_injuries'\n",
    "  ]\n",
    "for var in med_vars:\n",
    "  df[var] = df[var].fillna(0)\n",
    "\n",
    "# fixing month datatype\n",
    "df['month'] = df['month'].astype(str)\n",
    "\n",
    "# Create response variables, which is visits / population\n",
    "df['y_hematopoietic'] = 1000 * df['number_of_visits_hem_cancers'] / df['total_pop_under19']\n",
    "df['y_vasculitis'] = 1000 * df['number_of_visits_vasc'] / df['total_pop_under19']\n",
    "df['y_diabetes'] = 1000 * df['number_of_visits_diab'] / df['total_pop_under19']\n",
    "df['y_resp_cardio'] = 1000 * df['number_of_visits_resp_cardio'] / df['total_pop_under19']\n",
    "df['y_injuries'] = 1000 * df['number_of_visits_injuries'] / df['total_pop_under19']\n",
    "\n",
    "# Make treatment var normally distributed by taking log(1+x)\n",
    "df['pm25_log'] = np.log1p(df['pm25'])\n",
    "\n",
    "# create year trend feature\n",
    "df['year_trend'] = df['year'] - 1999\n",
    "\n",
    "# create county_month (not used anymore)\n",
    "df['county_month'] = df.apply(lambda df: df['month'].rjust(2, '0') + '_' + df['school_county_v2'], axis=1)\n",
    "\n",
    "# create year_month_county\n",
    "df['year_month_county'] = df.apply(lambda df: str(df['year']) + '_' + df['month'] + '_' + df['school_county_v2'], axis=1)"
   ]
  },
  {
   "cell_type": "code",
   "execution_count": 30,
   "metadata": {},
   "outputs": [],
   "source": [
    "# DELETE LATER\n",
    "# df = df.head(1000)"
   ]
  },
  {
   "cell_type": "markdown",
   "metadata": {},
   "source": [
    "Function to get a simpler model output"
   ]
  },
  {
   "cell_type": "code",
   "execution_count": 31,
   "metadata": {},
   "outputs": [],
   "source": [
    "def get_ols_res(fitted):\n",
    "  fit_res = fitted.params.to_frame().reset_index()\n",
    "  fit_res.columns = ['variable', 'coef']\n",
    "  fit_res['p_value'] = fitted.pvalues.values\n",
    "  df_ci = fitted.conf_int().reset_index()\n",
    "  df_ci.columns = ['variable','95_ci_lower', '95_ci_upper']\n",
    "  fit_res = pd.merge(fit_res, df_ci, on='variable', how='inner')\n",
    "  return fit_res\n",
    "\n",
    "#get_ols_res(fit1).head(1)"
   ]
  },
  {
   "cell_type": "markdown",
   "metadata": {},
   "source": [
    "# First stage regression - Predict pm2.5 levels"
   ]
  },
  {
   "cell_type": "markdown",
   "metadata": {},
   "source": [
    "One hot encode"
   ]
  },
  {
   "cell_type": "code",
   "execution_count": 32,
   "metadata": {},
   "outputs": [],
   "source": [
    "cols_to_encode = ['school_county_v2', 'month', 'year_month_county']\n",
    "instrum = ['avg_wind_alignment_cosine']\n",
    "enc1 = OneHotEncoder(handle_unknown = 'ignore')\n",
    "enc1.fit(df[cols_to_encode])\n",
    "\n",
    "if save_results:\n",
    "  enc_file = os.path.join(data_path, '../fitted_models/onehotencoder')\n",
    "  import pickle\n",
    "  with open(enc_file, \"wb\") as f: \n",
    "    pickle.dump(enc1, f)\n",
    "\n",
    "# Load it back in like this:\n",
    "# with open(enc_file, \"rb\") as f: \n",
    "#   enc = pickle.load(f)\n",
    "\n",
    "\n",
    "df_encoded = pd.DataFrame(enc1.transform(df[cols_to_encode]).toarray())\n",
    "\n",
    "all_cols = []\n",
    "for i,col in enumerate(cols_to_encode):\n",
    "  res1 = [col+'_'+j for j in enc1.categories_[i]]\n",
    "  all_cols += res1\n",
    "\n",
    "df_encoded.columns = all_cols\n",
    "df_encoded.columns = df_encoded.columns.str.replace(\"\\.*\\s+\", \"_\").str.lower()"
   ]
  },
  {
   "cell_type": "code",
   "execution_count": 33,
   "metadata": {},
   "outputs": [],
   "source": [
    "# get data into right model form\n",
    "y = df['pm25']\n",
    "X = pd.concat([df['avg_wind_alignment_cosine'], df_encoded], axis=1)"
   ]
  },
  {
   "cell_type": "code",
   "execution_count": 34,
   "metadata": {},
   "outputs": [
    {
     "data": {
      "text/html": [
       "<div>\n",
       "<style scoped>\n",
       "    .dataframe tbody tr th:only-of-type {\n",
       "        vertical-align: middle;\n",
       "    }\n",
       "\n",
       "    .dataframe tbody tr th {\n",
       "        vertical-align: top;\n",
       "    }\n",
       "\n",
       "    .dataframe thead th {\n",
       "        text-align: right;\n",
       "    }\n",
       "</style>\n",
       "<table border=\"1\" class=\"dataframe\">\n",
       "  <thead>\n",
       "    <tr style=\"text-align: right;\">\n",
       "      <th></th>\n",
       "      <th>variable</th>\n",
       "      <th>coef</th>\n",
       "      <th>p_value</th>\n",
       "      <th>95_ci_lower</th>\n",
       "      <th>95_ci_upper</th>\n",
       "    </tr>\n",
       "  </thead>\n",
       "  <tbody>\n",
       "    <tr>\n",
       "      <th>0</th>\n",
       "      <td>avg_wind_alignment_cosine</td>\n",
       "      <td>0.143102</td>\n",
       "      <td>0.661812</td>\n",
       "      <td>-0.498720</td>\n",
       "      <td>0.784924</td>\n",
       "    </tr>\n",
       "    <tr>\n",
       "      <th>1</th>\n",
       "      <td>school_county_v2_alameda</td>\n",
       "      <td>-0.102298</td>\n",
       "      <td>0.830623</td>\n",
       "      <td>-1.040565</td>\n",
       "      <td>0.835968</td>\n",
       "    </tr>\n",
       "    <tr>\n",
       "      <th>2</th>\n",
       "      <td>school_county_v2_calaveras</td>\n",
       "      <td>-1.285082</td>\n",
       "      <td>0.186781</td>\n",
       "      <td>-3.194004</td>\n",
       "      <td>0.623840</td>\n",
       "    </tr>\n",
       "  </tbody>\n",
       "</table>\n",
       "</div>"
      ],
      "text/plain": [
       "                     variable      coef   p_value  95_ci_lower  95_ci_upper\n",
       "0   avg_wind_alignment_cosine  0.143102  0.661812    -0.498720     0.784924\n",
       "1    school_county_v2_alameda -0.102298  0.830623    -1.040565     0.835968\n",
       "2  school_county_v2_calaveras -1.285082  0.186781    -3.194004     0.623840"
      ]
     },
     "execution_count": 34,
     "metadata": {},
     "output_type": "execute_result"
    }
   ],
   "source": [
    "# fit model\n",
    "fit1 = sm.OLS(y, X).fit()\n",
    "\n",
    "# add fitted y value to our dataset\n",
    "df['yhat_pm25'] = fit1.fittedvalues.values\n",
    "\n",
    "# save model\n",
    "if save_results:\n",
    "  fit1.save(os.path.join(data_path, '../fitted_models/stage1_ols.pickle'), remove_data=True)\n",
    "\n",
    "# Get residuals\n",
    "resids_and_fitted = pd.DataFrame({'resids': fit1.resid, 'fitted': fit1.fittedvalues.values})\n",
    "\n",
    "get_ols_res(fit1).head(3)"
   ]
  },
  {
   "cell_type": "markdown",
   "metadata": {},
   "source": [
    "# Second Stage Regression\n",
    "\n",
    "- Stage 1 of the least squares regression: $\\hat{x} = z \\delta$.\n",
    "  - $\\hat{x}$ = Predicted pm2.5 amounts ($\\hat{pm2.5}$). We'll use this predicted var to predict our final Y, health outcomes. \n",
    "  - $z$ = Instrument = `avg_wind_alignment_cosine`. But this right hand side of the equation should also include all other exogenous (x) vars. \n",
    "  \n",
    "- Stage 2 of the equation: $\\hat{y} = \\hat{x} \\beta$\n",
    "  - $\\hat{y}$ = predicted medical outcome\n",
    "  - $\\hat{x}$ = predicted pm2.5 amt from the first stage. But we also should include the other exogenous vars. "
   ]
  },
  {
   "cell_type": "code",
   "execution_count": 35,
   "metadata": {},
   "outputs": [],
   "source": [
    "X = pd.concat([df['yhat_pm25'], df_encoded], axis=1)"
   ]
  },
  {
   "cell_type": "code",
   "execution_count": 36,
   "metadata": {},
   "outputs": [
    {
     "data": {
      "text/html": [
       "<div>\n",
       "<style scoped>\n",
       "    .dataframe tbody tr th:only-of-type {\n",
       "        vertical-align: middle;\n",
       "    }\n",
       "\n",
       "    .dataframe tbody tr th {\n",
       "        vertical-align: top;\n",
       "    }\n",
       "\n",
       "    .dataframe thead th {\n",
       "        text-align: right;\n",
       "    }\n",
       "</style>\n",
       "<table border=\"1\" class=\"dataframe\">\n",
       "  <thead>\n",
       "    <tr style=\"text-align: right;\">\n",
       "      <th></th>\n",
       "      <th>variable</th>\n",
       "      <th>coef</th>\n",
       "      <th>p_value</th>\n",
       "      <th>95_ci_lower</th>\n",
       "      <th>95_ci_upper</th>\n",
       "    </tr>\n",
       "  </thead>\n",
       "  <tbody>\n",
       "    <tr>\n",
       "      <th>0</th>\n",
       "      <td>yhat_pm25</td>\n",
       "      <td>0.0</td>\n",
       "      <td>NaN</td>\n",
       "      <td>0.0</td>\n",
       "      <td>0.0</td>\n",
       "    </tr>\n",
       "    <tr>\n",
       "      <th>1</th>\n",
       "      <td>school_county_v2_alameda</td>\n",
       "      <td>0.0</td>\n",
       "      <td>NaN</td>\n",
       "      <td>0.0</td>\n",
       "      <td>0.0</td>\n",
       "    </tr>\n",
       "    <tr>\n",
       "      <th>2</th>\n",
       "      <td>school_county_v2_calaveras</td>\n",
       "      <td>0.0</td>\n",
       "      <td>NaN</td>\n",
       "      <td>0.0</td>\n",
       "      <td>0.0</td>\n",
       "    </tr>\n",
       "  </tbody>\n",
       "</table>\n",
       "</div>"
      ],
      "text/plain": [
       "                     variable  coef  p_value  95_ci_lower  95_ci_upper\n",
       "0                   yhat_pm25   0.0      NaN          0.0          0.0\n",
       "1    school_county_v2_alameda   0.0      NaN          0.0          0.0\n",
       "2  school_county_v2_calaveras   0.0      NaN          0.0          0.0"
      ]
     },
     "execution_count": 36,
     "metadata": {},
     "output_type": "execute_result"
    }
   ],
   "source": [
    "# fit model\n",
    "fit2_hema = sm.OLS(df['y_hematopoietic'], X).fit()\n",
    "\n",
    "# save model\n",
    "if save_results:\n",
    "  fit2_hema.save(os.path.join(data_path, '../fitted_models/stage2_ols_hematopoietic.pickle'), remove_data=True)\n",
    "\n",
    "# add fitted y value to our dataset\n",
    "df['yhat_hematopoietic'] = fit2_hema.fittedvalues.values\n",
    "\n",
    "# Get residuals\n",
    "resids_and_fitted_hema = pd.DataFrame({'resids': fit2_hema.resid, 'fitted': fit2_hema.fittedvalues.values})\n",
    "\n",
    "get_ols_res(fit2_hema).head(3)"
   ]
  },
  {
   "cell_type": "code",
   "execution_count": 37,
   "metadata": {},
   "outputs": [
    {
     "data": {
      "text/html": [
       "<div>\n",
       "<style scoped>\n",
       "    .dataframe tbody tr th:only-of-type {\n",
       "        vertical-align: middle;\n",
       "    }\n",
       "\n",
       "    .dataframe tbody tr th {\n",
       "        vertical-align: top;\n",
       "    }\n",
       "\n",
       "    .dataframe thead th {\n",
       "        text-align: right;\n",
       "    }\n",
       "</style>\n",
       "<table border=\"1\" class=\"dataframe\">\n",
       "  <thead>\n",
       "    <tr style=\"text-align: right;\">\n",
       "      <th></th>\n",
       "      <th>variable</th>\n",
       "      <th>coef</th>\n",
       "      <th>p_value</th>\n",
       "      <th>95_ci_lower</th>\n",
       "      <th>95_ci_upper</th>\n",
       "    </tr>\n",
       "  </thead>\n",
       "  <tbody>\n",
       "    <tr>\n",
       "      <th>0</th>\n",
       "      <td>yhat_pm25</td>\n",
       "      <td>-0.002953</td>\n",
       "      <td>0.722232</td>\n",
       "      <td>-0.019253</td>\n",
       "      <td>0.013346</td>\n",
       "    </tr>\n",
       "    <tr>\n",
       "      <th>1</th>\n",
       "      <td>school_county_v2_alameda</td>\n",
       "      <td>-0.000362</td>\n",
       "      <td>0.843713</td>\n",
       "      <td>-0.003963</td>\n",
       "      <td>0.003240</td>\n",
       "    </tr>\n",
       "    <tr>\n",
       "      <th>2</th>\n",
       "      <td>school_county_v2_calaveras</td>\n",
       "      <td>-0.003899</td>\n",
       "      <td>0.726702</td>\n",
       "      <td>-0.025787</td>\n",
       "      <td>0.017988</td>\n",
       "    </tr>\n",
       "  </tbody>\n",
       "</table>\n",
       "</div>"
      ],
      "text/plain": [
       "                     variable      coef   p_value  95_ci_lower  95_ci_upper\n",
       "0                   yhat_pm25 -0.002953  0.722232    -0.019253     0.013346\n",
       "1    school_county_v2_alameda -0.000362  0.843713    -0.003963     0.003240\n",
       "2  school_county_v2_calaveras -0.003899  0.726702    -0.025787     0.017988"
      ]
     },
     "execution_count": 37,
     "metadata": {},
     "output_type": "execute_result"
    }
   ],
   "source": [
    "# fit model\n",
    "fit2_vasc = sm.OLS(df['y_vasculitis'], X).fit()\n",
    "\n",
    "# save model\n",
    "if save_results:\n",
    "  fit2_vasc.save(os.path.join(data_path, '../fitted_models/stage2_ols_vasculitis.pickle'), remove_data=True)\n",
    "\n",
    "# add fitted y value to our dataset\n",
    "df['yhat_vasculitis'] = fit2_vasc.fittedvalues.values\n",
    "\n",
    "# Get residuals\n",
    "resids_and_fitted_vasc = pd.DataFrame({'resids': fit2_vasc.resid, 'fitted': fit2_vasc.fittedvalues.values})\n",
    "\n",
    "get_ols_res(fit2_vasc).head(3)"
   ]
  },
  {
   "cell_type": "code",
   "execution_count": 38,
   "metadata": {},
   "outputs": [
    {
     "data": {
      "text/html": [
       "<div>\n",
       "<style scoped>\n",
       "    .dataframe tbody tr th:only-of-type {\n",
       "        vertical-align: middle;\n",
       "    }\n",
       "\n",
       "    .dataframe tbody tr th {\n",
       "        vertical-align: top;\n",
       "    }\n",
       "\n",
       "    .dataframe thead th {\n",
       "        text-align: right;\n",
       "    }\n",
       "</style>\n",
       "<table border=\"1\" class=\"dataframe\">\n",
       "  <thead>\n",
       "    <tr style=\"text-align: right;\">\n",
       "      <th></th>\n",
       "      <th>variable</th>\n",
       "      <th>coef</th>\n",
       "      <th>p_value</th>\n",
       "      <th>95_ci_lower</th>\n",
       "      <th>95_ci_upper</th>\n",
       "    </tr>\n",
       "  </thead>\n",
       "  <tbody>\n",
       "    <tr>\n",
       "      <th>0</th>\n",
       "      <td>yhat_pm25</td>\n",
       "      <td>0.0</td>\n",
       "      <td>NaN</td>\n",
       "      <td>0.0</td>\n",
       "      <td>0.0</td>\n",
       "    </tr>\n",
       "    <tr>\n",
       "      <th>1</th>\n",
       "      <td>school_county_v2_alameda</td>\n",
       "      <td>0.0</td>\n",
       "      <td>NaN</td>\n",
       "      <td>0.0</td>\n",
       "      <td>0.0</td>\n",
       "    </tr>\n",
       "    <tr>\n",
       "      <th>2</th>\n",
       "      <td>school_county_v2_calaveras</td>\n",
       "      <td>0.0</td>\n",
       "      <td>NaN</td>\n",
       "      <td>0.0</td>\n",
       "      <td>0.0</td>\n",
       "    </tr>\n",
       "  </tbody>\n",
       "</table>\n",
       "</div>"
      ],
      "text/plain": [
       "                     variable  coef  p_value  95_ci_lower  95_ci_upper\n",
       "0                   yhat_pm25   0.0      NaN          0.0          0.0\n",
       "1    school_county_v2_alameda   0.0      NaN          0.0          0.0\n",
       "2  school_county_v2_calaveras   0.0      NaN          0.0          0.0"
      ]
     },
     "execution_count": 38,
     "metadata": {},
     "output_type": "execute_result"
    }
   ],
   "source": [
    "# fit model\n",
    "fit2_diab = sm.OLS(df['y_diabetes'], X).fit()\n",
    "\n",
    "# save model\n",
    "if save_results:\n",
    "  fit2_diab.save(os.path.join(data_path, '../fitted_models/stage2_ols_diabetes.pickle'), remove_data=True)\n",
    "\n",
    "# add fitted y value to our dataset\n",
    "df['yhat_diabetes'] = fit2_diab.fittedvalues.values \n",
    "\n",
    "# Get residuals\n",
    "resids_and_fitted_diab = pd.DataFrame({'resids': fit2_diab.resid, 'fitted': fit2_diab.fittedvalues.values})\n",
    "\n",
    "get_ols_res(fit2_diab).head(3)"
   ]
  },
  {
   "cell_type": "code",
   "execution_count": 39,
   "metadata": {},
   "outputs": [
    {
     "data": {
      "text/html": [
       "<div>\n",
       "<style scoped>\n",
       "    .dataframe tbody tr th:only-of-type {\n",
       "        vertical-align: middle;\n",
       "    }\n",
       "\n",
       "    .dataframe tbody tr th {\n",
       "        vertical-align: top;\n",
       "    }\n",
       "\n",
       "    .dataframe thead th {\n",
       "        text-align: right;\n",
       "    }\n",
       "</style>\n",
       "<table border=\"1\" class=\"dataframe\">\n",
       "  <thead>\n",
       "    <tr style=\"text-align: right;\">\n",
       "      <th></th>\n",
       "      <th>variable</th>\n",
       "      <th>coef</th>\n",
       "      <th>p_value</th>\n",
       "      <th>95_ci_lower</th>\n",
       "      <th>95_ci_upper</th>\n",
       "    </tr>\n",
       "  </thead>\n",
       "  <tbody>\n",
       "    <tr>\n",
       "      <th>0</th>\n",
       "      <td>yhat_pm25</td>\n",
       "      <td>-1.967606</td>\n",
       "      <td>0.929285</td>\n",
       "      <td>-45.466646</td>\n",
       "      <td>41.531434</td>\n",
       "    </tr>\n",
       "    <tr>\n",
       "      <th>1</th>\n",
       "      <td>school_county_v2_alameda</td>\n",
       "      <td>-0.949188</td>\n",
       "      <td>0.846374</td>\n",
       "      <td>-10.560739</td>\n",
       "      <td>8.662362</td>\n",
       "    </tr>\n",
       "    <tr>\n",
       "      <th>2</th>\n",
       "      <td>school_county_v2_calaveras</td>\n",
       "      <td>-3.480423</td>\n",
       "      <td>0.906940</td>\n",
       "      <td>-61.892177</td>\n",
       "      <td>54.931332</td>\n",
       "    </tr>\n",
       "  </tbody>\n",
       "</table>\n",
       "</div>"
      ],
      "text/plain": [
       "                     variable      coef   p_value  95_ci_lower  95_ci_upper\n",
       "0                   yhat_pm25 -1.967606  0.929285   -45.466646    41.531434\n",
       "1    school_county_v2_alameda -0.949188  0.846374   -10.560739     8.662362\n",
       "2  school_county_v2_calaveras -3.480423  0.906940   -61.892177    54.931332"
      ]
     },
     "execution_count": 39,
     "metadata": {},
     "output_type": "execute_result"
    }
   ],
   "source": [
    "# fit model\n",
    "fit2_resp_cardio = sm.OLS(df['y_resp_cardio'], X).fit()\n",
    "\n",
    "# save model\n",
    "if save_results:\n",
    "  fit2_resp_cardio.save(os.path.join(data_path, '../fitted_models/stage2_ols_resp_cardio.pickle'), remove_data=True)\n",
    "\n",
    "# add fitted y value to our dataset\n",
    "df['yhat_resp_cardio'] = fit2_resp_cardio.fittedvalues.values \n",
    "\n",
    "# Get residuals\n",
    "resids_and_fitted_resp_cardio = pd.DataFrame({'resids': fit2_resp_cardio.resid, 'fitted': fit2_resp_cardio.fittedvalues.values})\n",
    "\n",
    "get_ols_res(fit2_resp_cardio).head(3)"
   ]
  },
  {
   "cell_type": "code",
   "execution_count": 40,
   "metadata": {},
   "outputs": [
    {
     "data": {
      "text/html": [
       "<div>\n",
       "<style scoped>\n",
       "    .dataframe tbody tr th:only-of-type {\n",
       "        vertical-align: middle;\n",
       "    }\n",
       "\n",
       "    .dataframe tbody tr th {\n",
       "        vertical-align: top;\n",
       "    }\n",
       "\n",
       "    .dataframe thead th {\n",
       "        text-align: right;\n",
       "    }\n",
       "</style>\n",
       "<table border=\"1\" class=\"dataframe\">\n",
       "  <thead>\n",
       "    <tr style=\"text-align: right;\">\n",
       "      <th></th>\n",
       "      <th>variable</th>\n",
       "      <th>coef</th>\n",
       "      <th>p_value</th>\n",
       "      <th>95_ci_lower</th>\n",
       "      <th>95_ci_upper</th>\n",
       "    </tr>\n",
       "  </thead>\n",
       "  <tbody>\n",
       "    <tr>\n",
       "      <th>0</th>\n",
       "      <td>yhat_pm25</td>\n",
       "      <td>-0.858647</td>\n",
       "      <td>0.159485</td>\n",
       "      <td>-2.055494</td>\n",
       "      <td>0.338200</td>\n",
       "    </tr>\n",
       "    <tr>\n",
       "      <th>1</th>\n",
       "      <td>school_county_v2_alameda</td>\n",
       "      <td>-0.093812</td>\n",
       "      <td>0.486507</td>\n",
       "      <td>-0.358267</td>\n",
       "      <td>0.170644</td>\n",
       "    </tr>\n",
       "    <tr>\n",
       "      <th>2</th>\n",
       "      <td>school_county_v2_calaveras</td>\n",
       "      <td>-1.122270</td>\n",
       "      <td>0.170897</td>\n",
       "      <td>-2.729430</td>\n",
       "      <td>0.484891</td>\n",
       "    </tr>\n",
       "  </tbody>\n",
       "</table>\n",
       "</div>"
      ],
      "text/plain": [
       "                     variable      coef   p_value  95_ci_lower  95_ci_upper\n",
       "0                   yhat_pm25 -0.858647  0.159485    -2.055494     0.338200\n",
       "1    school_county_v2_alameda -0.093812  0.486507    -0.358267     0.170644\n",
       "2  school_county_v2_calaveras -1.122270  0.170897    -2.729430     0.484891"
      ]
     },
     "execution_count": 40,
     "metadata": {},
     "output_type": "execute_result"
    }
   ],
   "source": [
    "# fit model\n",
    "fit2_injuries = sm.OLS(df['y_injuries'], X).fit()\n",
    "\n",
    "# save model\n",
    "if save_results:\n",
    "  fit2_injuries.save(os.path.join(data_path, '../fitted_models/stage2_ols_injuries.pickle'), remove_data=True)\n",
    "\n",
    "# add fitted y value to our dataset\n",
    "df['yhat_injuries'] = fit2_injuries.fittedvalues.values \n",
    "\n",
    "# Get residuals\n",
    "resids_and_fitted_injuries = pd.DataFrame({'resids': fit2_injuries.resid, 'fitted': fit2_injuries.fittedvalues.values})\n",
    "\n",
    "get_ols_res(fit2_injuries).head(3)"
   ]
  },
  {
   "cell_type": "markdown",
   "metadata": {},
   "source": [
    "# Save data with results"
   ]
  },
  {
   "cell_type": "code",
   "execution_count": null,
   "metadata": {},
   "outputs": [],
   "source": [
    "if save_results:\n",
    "  df.to_csv(os.path.join(data_path, 'modeling_data/modeling_data_results_2022-10-27.csv'), index=False)"
   ]
  },
  {
   "cell_type": "markdown",
   "metadata": {},
   "source": [
    "# Verify the Exclusion Restriction\n",
    "- Exclusion restriction: Our instrument (wind bearing) cannot be correlated to the residuals from the 2nd stage regression. "
   ]
  },
  {
   "cell_type": "code",
   "execution_count": 66,
   "metadata": {},
   "outputs": [
    {
     "name": "stdout",
     "output_type": "stream",
     "text": [
      "\n",
      "                    wind_bearing   hema_resids   vasc_resids   diab_resids  \\\n",
      "wind_bearing        1.000000e+00 -1.106043e-16  1.071914e-16  5.364000e-17   \n",
      "hema_resids        -1.106043e-16  1.000000e+00  2.056838e-02  5.797023e-04   \n",
      "vasc_resids         1.071914e-16  2.056838e-02  1.000000e+00  6.532641e-04   \n",
      "diab_resids         5.364000e-17  5.797023e-04  6.532641e-04  1.000000e+00   \n",
      "resp_cardio_resids -4.076764e-17  7.013851e-03  5.849211e-03  6.222753e-02   \n",
      "injuries_resids     1.870045e-17  5.221488e-03  2.569402e-03  3.462874e-02   \n",
      "\n",
      "                    resp_cardio_resids  injuries_resids  \n",
      "wind_bearing             -4.076764e-17     1.870045e-17  \n",
      "hema_resids               7.013851e-03     5.221488e-03  \n",
      "vasc_resids               5.849211e-03     2.569402e-03  \n",
      "diab_resids               6.222753e-02     3.462874e-02  \n",
      "resp_cardio_resids        1.000000e+00     9.861661e-02  \n",
      "injuries_resids           9.861661e-02     1.000000e+00  \n"
     ]
    },
    {
     "data": {
      "image/png": "[encoded data removed]",
      "text/plain": [
       "<Figure size 864x648 with 2 Axes>"
      ]
     },
     "metadata": {
      "needs_background": "light"
     },
     "output_type": "display_data"
    }
   ],
   "source": [
    "df_corr = pd.DataFrame({\n",
    "  'wind_bearing': df['avg_wind_alignment_cosine'].values, \n",
    "  'hema_resids': resids_and_fitted_hema.resids.values,\n",
    "  'vasc_resids': resids_and_fitted_vasc.resids.values, \n",
    "  'diab_resids': resids_and_fitted_diab.resids.values,\n",
    "  'resp_cardio_resids': resids_and_fitted_resp_cardio.resids.values,\n",
    "  'injuries_resids': resids_and_fitted_injuries.resids.values\n",
    "}).corr()\n",
    "\n",
    "# plot the results\n",
    "f, ax = plt.subplots(figsize=(12, 9))\n",
    "sns.heatmap(df_corr, vmin=-1, center=0, vmax=1, cmap=sns.diverging_palette(20, 220, n=200), square=True)\n",
    "\n",
    "ax.set_xticklabels(ax.get_xticklabels(), \n",
    "    rotation=45, horizontalalignment='right')\n",
    "ax.set_title(\"Showing that wind bearing is not correlated \\nwith the residuals of the 2nd stage\", fontdict = {\"fontsize\": 20})\n",
    "print('')\n",
    "\n",
    "print(df_corr)"
   ]
  },
  {
   "cell_type": "markdown",
   "metadata": {},
   "source": [
    "# First stage F-test\n",
    "\n",
    "Run an F test with our instrument to study the impact on the pm2.5. "
   ]
  },
  {
   "cell_type": "code",
   "execution_count": 67,
   "metadata": {},
   "outputs": [
    {
     "data": {
      "text/html": [
       "<div>\n",
       "<style scoped>\n",
       "    .dataframe tbody tr th:only-of-type {\n",
       "        vertical-align: middle;\n",
       "    }\n",
       "\n",
       "    .dataframe tbody tr th {\n",
       "        vertical-align: top;\n",
       "    }\n",
       "\n",
       "    .dataframe thead th {\n",
       "        text-align: right;\n",
       "    }\n",
       "</style>\n",
       "<table border=\"1\" class=\"dataframe\">\n",
       "  <thead>\n",
       "    <tr style=\"text-align: right;\">\n",
       "      <th></th>\n",
       "      <th>df_resid</th>\n",
       "      <th>ssr</th>\n",
       "      <th>df_diff</th>\n",
       "      <th>ss_diff</th>\n",
       "      <th>F</th>\n",
       "      <th>Pr(&gt;F)</th>\n",
       "    </tr>\n",
       "  </thead>\n",
       "  <tbody>\n",
       "    <tr>\n",
       "      <th>0</th>\n",
       "      <td>311162.0</td>\n",
       "      <td>1.114428e+07</td>\n",
       "      <td>0.0</td>\n",
       "      <td>NaN</td>\n",
       "      <td>NaN</td>\n",
       "      <td>NaN</td>\n",
       "    </tr>\n",
       "    <tr>\n",
       "      <th>1</th>\n",
       "      <td>311161.0</td>\n",
       "      <td>1.114275e+07</td>\n",
       "      <td>1.0</td>\n",
       "      <td>1526.706847</td>\n",
       "      <td>42.633231</td>\n",
       "      <td>6.612902e-11</td>\n",
       "    </tr>\n",
       "  </tbody>\n",
       "</table>\n",
       "</div>"
      ],
      "text/plain": [
       "   df_resid           ssr  df_diff      ss_diff          F        Pr(>F)\n",
       "0  311162.0  1.114428e+07      0.0          NaN        NaN           NaN\n",
       "1  311161.0  1.114275e+07      1.0  1526.706847  42.633231  6.612902e-11"
      ]
     },
     "execution_count": 67,
     "metadata": {},
     "output_type": "execute_result"
    }
   ],
   "source": [
    "# get data into right model form\n",
    "y, X_null = dmatrices('pm25 ~ 1', data=df, return_type='dataframe')\n",
    "y, X_instrument = dmatrices('pm25 ~ 1 + avg_wind_alignment_cosine', data=df, return_type='dataframe')\n",
    "\n",
    "fit_null = sm.OLS(y, X_null).fit()\n",
    "fit_instrument = sm.OLS(y, X_instrument).fit()\n",
    "\n",
    "from statsmodels.stats.anova import anova_lm\n",
    "anovaResults = anova_lm(fit_null, fit_instrument)\n",
    "anovaResults"
   ]
  },
  {
   "cell_type": "code",
   "execution_count": null,
   "metadata": {},
   "outputs": [],
   "source": []
  }
 ],
 "metadata": {
  "kernelspec": {
   "display_name": "Python 3.9.1 64-bit ('miniconda3')",
   "language": "python",
   "name": "python3"
  },
  "language_info": {
   "codemirror_mode": {
    "name": "ipython",
    "version": 3
   },
   "file_extension": ".py",
   "mimetype": "text/x-python",
   "name": "python",
   "nbconvert_exporter": "python",
   "pygments_lexer": "ipython3",
   "version": "3.9.1"
  },
  "orig_nbformat": 4,
  "vscode": {
   "interpreter": {
    "hash": "b25cd5a5a3cd1ea9e93fd254f185f4731ffaa4421de0b98534600687fe3ed44f"
   }
  }
 },
 "nbformat": 4,
 "nbformat_minor": 2
}
