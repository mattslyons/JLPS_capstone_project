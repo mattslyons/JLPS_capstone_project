{
 "cells": [
  {
   "cell_type": "markdown",
   "metadata": {},
   "source": [
    "# Baseline 2-Staged Least Squares Instrumental Variables Regression using Cornelia's Randomized Medical Data"
   ]
  },
  {
   "cell_type": "code",
   "execution_count": 1,
   "metadata": {},
   "outputs": [],
   "source": [
    "# optional. I'm getting annoying warnings that I just want to ignore:\n",
    "import warnings\n",
    "warnings.simplefilter(action='ignore', category=FutureWarning)\n",
    "\n",
    "# basics\n",
    "import pandas as pd \n",
    "import numpy as np\n",
    "import os \n",
    "import re\n",
    "from datetime import datetime\n",
    "from tqdm.notebook import tqdm\n",
    "tqdm.pandas()\n",
    "import requests\n",
    "import urllib\n",
    "\n",
    "# plotting\n",
    "import matplotlib.pyplot as plt\n",
    "from matplotlib.dates import DateFormatter\n",
    "import plotly.express as px\n",
    "import seaborn as sns\n",
    "\n",
    "# modeling\n",
    "import statsmodels.api as sm\n",
    "from sklearn.linear_model import LinearRegression\n",
    "from statsmodels.sandbox.regression.gmm import IV2SLS\n",
    "from sklearn.model_selection import GridSearchCV\n",
    "\n",
    "pd.set_option('display.max_columns', None)\n",
    "pd.options.mode.chained_assignment = None"
   ]
  },
  {
   "cell_type": "code",
   "execution_count": 2,
   "metadata": {},
   "outputs": [],
   "source": [
    "# download this extra package from here: https://github.com/bashtage/linearmodels\n",
    "#!pip install linearmodels\n",
    "# from linearmodels.iv import IV2SLS as IV2SLS_v2"
   ]
  },
  {
   "cell_type": "code",
   "execution_count": 3,
   "metadata": {},
   "outputs": [],
   "source": [
    "# local or gdrive\n",
    "path_source = 'local'\n",
    "\n",
    "if path_source == 'gdrive':\n",
    "  from google.colab import drive\n",
    "  drive.mount('/content/gdrive')\n",
    "  data_path = '/content/gdrive/MyDrive/Classes/W210_capstone/W210_Capstone/Data'\n",
    "  #env_path = '/content/gdrive/MyDrive/.env'\n",
    "  \n",
    "elif path_source == 'local':\n",
    "  data_path = '/Users/tj/trevorj@berkeley.edu - Google Drive/My Drive/Classes/W210_capstone/W210_Capstone/Data'\n",
    "  #env_path = '/content/gdrive/MyDrive/.env'\n",
    "\n",
    "elif path_source == 'work':\n",
    "  data_path = '/Users/trevorjohnson/trevorj@berkeley.edu - Google Drive/My Drive/Classes/W210_capstone/W210_Capstone/Data'"
   ]
  },
  {
   "cell_type": "markdown",
   "metadata": {},
   "source": [
    "# Read in data"
   ]
  },
  {
   "cell_type": "code",
   "execution_count": 4,
   "metadata": {},
   "outputs": [],
   "source": [
    "# read in our modeling data\n",
    "df = pd.read_csv(os.path.join(data_path, 'modeling_data/modeling_data_2022-10-16.csv'))\n",
    "\n",
    "# read in cornelia's healthcare data\n",
    "df1 = pd.read_csv(os.path.join(data_path, 'medical/hematopoietic_cancers.csv')).iloc[:,1:]\n",
    "df2 = pd.read_csv(os.path.join(data_path, 'medical/pediatric_vasculitis.csv')).iloc[:,1:]\n",
    "df3 = pd.read_csv(os.path.join(data_path, 'medical/type_1_diabetes.csv')).iloc[:,1:]"
   ]
  },
  {
   "cell_type": "markdown",
   "metadata": {},
   "source": [
    "# Data clean"
   ]
  },
  {
   "cell_type": "markdown",
   "metadata": {},
   "source": [
    "Clean med data"
   ]
  },
  {
   "cell_type": "code",
   "execution_count": 5,
   "metadata": {},
   "outputs": [
    {
     "data": {
      "text/html": [
       "<div>\n",
       "<style scoped>\n",
       "    .dataframe tbody tr th:only-of-type {\n",
       "        vertical-align: middle;\n",
       "    }\n",
       "\n",
       "    .dataframe tbody tr th {\n",
       "        vertical-align: top;\n",
       "    }\n",
       "\n",
       "    .dataframe thead th {\n",
       "        text-align: right;\n",
       "    }\n",
       "</style>\n",
       "<table border=\"1\" class=\"dataframe\">\n",
       "  <thead>\n",
       "    <tr style=\"text-align: right;\">\n",
       "      <th></th>\n",
       "      <th>patzip_year_month</th>\n",
       "      <th>hematopoietic_cancers</th>\n",
       "      <th>number_of_visits_hem_cancers</th>\n",
       "      <th>pediatric_vasculitis</th>\n",
       "      <th>number_of_visits_vasc</th>\n",
       "      <th>type_1_diabetes</th>\n",
       "      <th>number_of_visits_diab</th>\n",
       "    </tr>\n",
       "  </thead>\n",
       "  <tbody>\n",
       "    <tr>\n",
       "      <th>0</th>\n",
       "      <td>92571-2014-11</td>\n",
       "      <td>1.0</td>\n",
       "      <td>17.0</td>\n",
       "      <td>NaN</td>\n",
       "      <td>NaN</td>\n",
       "      <td>1.0</td>\n",
       "      <td>18.0</td>\n",
       "    </tr>\n",
       "    <tr>\n",
       "      <th>1</th>\n",
       "      <td>93955-2006-3</td>\n",
       "      <td>NaN</td>\n",
       "      <td>NaN</td>\n",
       "      <td>1.0</td>\n",
       "      <td>17.0</td>\n",
       "      <td>NaN</td>\n",
       "      <td>NaN</td>\n",
       "    </tr>\n",
       "    <tr>\n",
       "      <th>2</th>\n",
       "      <td>92344-2017-7</td>\n",
       "      <td>NaN</td>\n",
       "      <td>NaN</td>\n",
       "      <td>NaN</td>\n",
       "      <td>NaN</td>\n",
       "      <td>1.0</td>\n",
       "      <td>17.0</td>\n",
       "    </tr>\n",
       "  </tbody>\n",
       "</table>\n",
       "</div>"
      ],
      "text/plain": [
       "  patzip_year_month  hematopoietic_cancers  number_of_visits_hem_cancers  \\\n",
       "0     92571-2014-11                    1.0                          17.0   \n",
       "1      93955-2006-3                    NaN                           NaN   \n",
       "2      92344-2017-7                    NaN                           NaN   \n",
       "\n",
       "   pediatric_vasculitis  number_of_visits_vasc  type_1_diabetes  \\\n",
       "0                   NaN                    NaN              1.0   \n",
       "1                   1.0                   17.0              NaN   \n",
       "2                   NaN                    NaN              1.0   \n",
       "\n",
       "   number_of_visits_diab  \n",
       "0                   18.0  \n",
       "1                    NaN  \n",
       "2                   17.0  "
      ]
     },
     "execution_count": 5,
     "metadata": {},
     "output_type": "execute_result"
    }
   ],
   "source": [
    "# get all distinct patzip_year_month\n",
    "all_pats = df1['patzip_year_month'].to_list() + df2['patzip_year_month'].to_list() + df3['patzip_year_month'].to_list()\n",
    "all_pats = list(set(all_pats))\n",
    "df_med = pd.DataFrame({'patzip_year_month': all_pats})\n",
    "\n",
    "# rename columns more intuitively\n",
    "df1 = df1.rename(columns={'number_of_visits': 'number_of_visits_hem_cancers'})\n",
    "df2 = df2.rename(columns={'number_of_visits': 'number_of_visits_vasc'})\n",
    "df3 = df3.rename(columns={'number_of_visits': 'number_of_visits_diab'})\n",
    "\n",
    "# now join all the diagnoses on this dataset\n",
    "df_med = df_med\\\n",
    "  .merge(df1, on='patzip_year_month', how='left')\\\n",
    "  .merge(df2, on='patzip_year_month', how='left')\\\n",
    "  .merge(df3, on='patzip_year_month', how='left')\n",
    "\n",
    "df_med.head(3)"
   ]
  },
  {
   "cell_type": "markdown",
   "metadata": {},
   "source": [
    "Join med data"
   ]
  },
  {
   "cell_type": "code",
   "execution_count": 6,
   "metadata": {},
   "outputs": [
    {
     "name": "stdout",
     "output_type": "stream",
     "text": [
      "311163\n"
     ]
    }
   ],
   "source": [
    "df['year_month'] = df['year_month'].map(lambda x: datetime.strptime(x, '%Y-%m-%d'))\n",
    "\n",
    "df['zip_year_month'] = df['school_zip'].astype(str) + '-' +\\\n",
    "  df['year_month'].dt.year.astype(str) + '-' +\\\n",
    "  df['year_month'].dt.month.astype(str)\n",
    "\n",
    "df = pd.merge(df, df_med, left_on='zip_year_month', right_on='patzip_year_month', how='left')\n",
    "\n",
    "# for missing med data, assume there were 0 cases:\n",
    "med_vars = ['hematopoietic_cancers', 'number_of_visits_hem_cancers', 'pediatric_vasculitis', \n",
    "  'number_of_visits_vasc', 'type_1_diabetes', 'number_of_visits_diab']\n",
    "for var in med_vars:\n",
    "  df[var] = df[var].fillna(0)\n",
    "\n",
    "# fixing month datatype\n",
    "df['month'] = df['month'].astype(str)\n",
    "\n",
    "print(df.shape[0])"
   ]
  },
  {
   "cell_type": "markdown",
   "metadata": {},
   "source": [
    "Var transformations"
   ]
  },
  {
   "cell_type": "code",
   "execution_count": 7,
   "metadata": {},
   "outputs": [],
   "source": [
    "# Create response variables, which is visits / population\n",
    "df['y_hematopoietic'] = df['number_of_visits_hem_cancers'] / df['total_pop_under19']\n",
    "df['y_vasculitis'] = df['number_of_visits_vasc'] / df['total_pop_under19']\n",
    "df['y_diabetes'] = df['number_of_visits_diab'] / df['total_pop_under19']\n",
    "\n",
    "# Make treatment var normally distributed by taking log(1+x)\n",
    "df['pm25_log'] = np.log1p(df['pm25'])"
   ]
  },
  {
   "cell_type": "markdown",
   "metadata": {},
   "source": [
    "Define all variables we'll be using"
   ]
  },
  {
   "cell_type": "code",
   "execution_count": 8,
   "metadata": {},
   "outputs": [
    {
     "data": {
      "text/plain": [
       "['pm25_slope6', 'pm25_slope9', 'pm25_slope12', 'pm25_slope24']"
      ]
     },
     "execution_count": 8,
     "metadata": {},
     "output_type": "execute_result"
    }
   ],
   "source": [
    "[i for i in df.columns if re.search('pm25_slope', i)]"
   ]
  },
  {
   "cell_type": "code",
   "execution_count": 9,
   "metadata": {},
   "outputs": [],
   "source": [
    "# X vars\n",
    "#x_wind = ['school_wspd', 'ps_wspd_merge', 'avg_wind_speed']\n",
    "x_wind = ['school_wspd', 'ps_wspd_merge']\n",
    "x_elevation = ['school_elevation_m', 'ps_elevation_m']\n",
    "x_population = [i for i in df.columns if (re.search('population_', i) and re.search('male', i))] # + ['pop_under19_male', 'pop_under19_female']\n",
    "x_socioecon = ['ca_agi_per_returns', 'tax_liability_per_capita']\n",
    "x_temp = ['school_temperature', 'ps_temperature']\n",
    "x_window = ['pm25_last_month', 'pm25_r6', 'pm25_r9', 'pm25_r12', 'pm25_r24', 'pm25_slope6', 'pm25_slope9', 'pm25_slope12', 'pm25_slope24', 'pm25_lag_12mo']\n",
    "x_other = ['nearby_point_source_count', 'school_count', 'point_source_pm25_tpy']\n",
    "x_time = ['year'] + [i for i in df.columns if (re.search('month_', i) and i not in 'month_01')]\n",
    "x_region = [i for i in df.columns if (re.search('school_region_name_', i) and i not in 'school_region_name_los_angeles_county')]\n",
    "# vars I dont think we can use:\n",
    "#point_source_pm25_tpy\n",
    "x_all = x_wind + x_elevation + x_population + x_socioecon + x_temp + x_window + x_other + x_time + x_region\n",
    "x_vars_for_tree_model = x_wind + x_elevation + x_population + x_socioecon + x_temp + x_window + x_other + ['year', 'month', 'school_region_name']\n",
    "\n",
    "other_vars_to_keep = ['month_01', 'school_region_name_los_angeles_county', 'month', 'school_region_name']\n",
    "\n",
    "instrument = ['avg_wind_alignment_cosine']\n",
    "\n",
    "y_pm25_log = ['pm25_log']\n",
    "y_pm25 = ['pm25']\n",
    "\n",
    "y_hema = ['y_hematopoietic']\n",
    "y_vasc = ['y_vasculitis']\n",
    "y_diab = ['y_diabetes']\n",
    "\n",
    "all_vars_to_keep = list(set(x_all + other_vars_to_keep + instrument + y_pm25_log + y_pm25 + y_hema + y_vasc + y_diab))"
   ]
  },
  {
   "cell_type": "markdown",
   "metadata": {},
   "source": [
    "Select only necessary columns, and remove all NA values"
   ]
  },
  {
   "cell_type": "code",
   "execution_count": 10,
   "metadata": {},
   "outputs": [
    {
     "name": "stdout",
     "output_type": "stream",
     "text": [
      "num rows to start: 311163\n",
      "num rows after filtering: 277875\n"
     ]
    }
   ],
   "source": [
    "# get complete data\n",
    "print(f'num rows to start: {df.shape[0]}')\n",
    "\n",
    "df_modeling = df[all_vars_to_keep]\n",
    "\n",
    "for var in df_modeling.columns:\n",
    "  df_modeling = df_modeling[~df_modeling[var].isna()]\n",
    "\n",
    "print(f'num rows after filtering: {df_modeling.shape[0]}')"
   ]
  },
  {
   "cell_type": "markdown",
   "metadata": {},
   "source": [
    "# First stage regression - Predict pm2.5 levels using xgboost"
   ]
  },
  {
   "cell_type": "code",
   "execution_count": 17,
   "metadata": {},
   "outputs": [
    {
     "name": "stdout",
     "output_type": "stream",
     "text": [
      "{'learning_rate': 0.05, 'max_depth': 3, 'n_estimators': 100}\n"
     ]
    }
   ],
   "source": [
    "import xgboost as xgb\n",
    "\n",
    "# do we need to train/test split for IV reg?\n",
    "#from sklearn.model_selection import train_test_split\n",
    "# X_train, X_test, Y_train, Y_test = train_test_split(df_modeling[x_vars_for_tree_model + ['pm25']], df_modeling['pm25'], train_size=.8, random_state=1)\n",
    "\n",
    "xgb_reg = xgb.XGBRegressor(\n",
    "    booster=\"gbtree\",\n",
    "    verbosity=0, \n",
    "    subsample=.7,\n",
    "    colsample_bytree=.7,\n",
    "    random_state=1\n",
    ")\n",
    "\n",
    "# set up grid for hyperparam tuning\n",
    "cv_grid = {\n",
    "    \"n_estimators\": [50, 100], # best = 100, also tried 300 & 500\n",
    "    \"max_depth\": [3, 6, 10], # best = 3\n",
    "    \"learning_rate\": [.05, .1], # best = .05\n",
    "    #\"gamma\": [0, .01, .05], \n",
    "    #'reg_alpha': [0, .1], # L1\n",
    "    #'reg_lambda': [0, .1], # L2\n",
    "}\n",
    "\n",
    "gscv = GridSearchCV(estimator=xgb_reg, param_grid=cv_grid, n_jobs=-1, cv=3)\n",
    "\n",
    "# cv\n",
    "xgb_cv_results = gscv.fit(df_modeling[x_all], df_modeling['pm25'])\n",
    "print(xgb_cv_results.best_params_)\n",
    "# {'learning_rate': 0.1, 'max_depth': 6, 'n_estimators': 500}\n",
    "# now go use these in the regular xgb function, or sklearn implementation"
   ]
  },
  {
   "cell_type": "code",
   "execution_count": 18,
   "metadata": {},
   "outputs": [],
   "source": [
    "# fit xgb with best params\n",
    "xgb_reg = xgb.XGBRegressor(\n",
    "    booster=\"gbtree\",\n",
    "    verbosity=0, \n",
    "    subsample=.7,\n",
    "    colsample_bytree=.7,\n",
    "    random_state=1, \n",
    "    n_estimators=100, \n",
    "    learning_rate=.05, \n",
    "    max_depth=3\n",
    ")\n",
    "xgb_fit = xgb_reg.fit(df_modeling[x_all], df_modeling['pm25'])"
   ]
  },
  {
   "cell_type": "code",
   "execution_count": 21,
   "metadata": {},
   "outputs": [],
   "source": [
    "df_modeling['pm25_yhat_xgb'] = xgb_fit.predict(df_modeling[x_all])"
   ]
  },
  {
   "cell_type": "code",
   "execution_count": 31,
   "metadata": {},
   "outputs": [
    {
     "name": "stdout",
     "output_type": "stream",
     "text": [
      "XGB r^2: 0.6244\n",
      "XGB rmse: 3.5126\n"
     ]
    }
   ],
   "source": [
    "# compute r^2\n",
    "ss_resid = sum((df_modeling['pm25_yhat_xgb'].values - df_modeling['pm25'].values)**2)\n",
    "ss_total = sum((df_modeling['pm25'].mean() - df_modeling['pm25'].values)**2)\n",
    "r_squared = 1 - ss_resid / ss_total \n",
    "print(f'XGB r^2: {r_squared:.4f}')\n",
    "\n",
    "# rmse:\n",
    "rmse = ((df_modeling['pm25_yhat_xgb'].values - df_modeling['pm25'].values)**2).mean()**.5\n",
    "print(f'XGB rmse: {rmse:.4f}')"
   ]
  },
  {
   "cell_type": "code",
   "execution_count": 32,
   "metadata": {},
   "outputs": [
    {
     "name": "stdout",
     "output_type": "stream",
     "text": [
      "XGB r^2 of log output: 0.6938\n"
     ]
    }
   ],
   "source": [
    "# compute r^2 for log\n",
    "ss_resid = sum((np.log1p(df_modeling['pm25_yhat_xgb']) - np.log1p(df_modeling['pm25']))**2)\n",
    "ss_total = sum((np.log1p(df_modeling['pm25']).mean() - np.log1p(df_modeling['pm25']))**2)\n",
    "r_squared = 1 - ss_resid / ss_total \n",
    "print(f'XGB r^2 of log output: {r_squared:.4f}')"
   ]
  },
  {
   "cell_type": "markdown",
   "metadata": {},
   "source": [
    "# Second Stage Regression\n",
    "\n",
    "- Stage 1 of the least squares regression: $\\hat{x} = z \\delta$.\n",
    "  - $\\hat{x}$ = Predicted pm2.5 amounts ($\\hat{pm2.5}$). We'll use this predicted var to predict our final Y, health outcomes. \n",
    "  - $z$ = Instrument = `avg_wind_alignment_cosine`. But this right hand side of the equation should also include all other exogenous (x) vars. \n",
    "  \n",
    "- Stage 2 of the equation: $\\hat{y} = \\hat{x} \\beta$\n",
    "  - $\\hat{y}$ = predicted medical outcome\n",
    "  - $\\hat{x}$ = predicted pm2.5 amt from the first stage. But we also should include the other exogenous vars. "
   ]
  },
  {
   "cell_type": "code",
   "execution_count": 33,
   "metadata": {},
   "outputs": [
    {
     "name": "stdout",
     "output_type": "stream",
     "text": [
      "p-value: 0.40727898518224304\n",
      "                            OLS Regression Results                            \n",
      "==============================================================================\n",
      "Dep. Variable:        y_hematopoietic   R-squared:                       0.002\n",
      "Model:                            OLS   Adj. R-squared:                  0.002\n",
      "Method:                 Least Squares   F-statistic:                     12.66\n",
      "Date:                Mon, 17 Oct 2022   Prob (F-statistic):          9.64e-108\n",
      "Time:                        20:10:53   Log-Likelihood:             1.2903e+06\n",
      "No. Observations:              277875   AIC:                        -2.580e+06\n",
      "Df Residuals:                  277821   BIC:                        -2.580e+06\n",
      "Df Model:                          53                                         \n",
      "Covariance Type:            nonrobust                                         \n",
      "==================================================================================================================\n",
      "                                                     coef    std err          t      P>|t|      [0.025      0.975]\n",
      "------------------------------------------------------------------------------------------------------------------\n",
      "const                                             -0.0276      0.002    -12.993      0.000      -0.032      -0.023\n",
      "school_wspd                                     6.633e-05   1.28e-05      5.162      0.000    4.11e-05    9.15e-05\n",
      "ps_wspd_merge                                  -5.744e-05   1.34e-05     -4.286      0.000   -8.37e-05   -3.12e-05\n",
      "school_elevation_m                             -9.021e-08    2.7e-08     -3.336      0.001   -1.43e-07   -3.72e-08\n",
      "ps_elevation_m                                 -5.917e-09   2.79e-08     -0.212      0.832   -6.06e-08    4.88e-08\n",
      "population_0_4_male                            -3.968e-08   3.47e-08     -1.143      0.253   -1.08e-07    2.83e-08\n",
      "population_0_4_female                           1.138e-08    3.5e-08      0.325      0.745   -5.73e-08    8.01e-08\n",
      "population_5_9_male                            -2.046e-08   3.92e-08     -0.522      0.602   -9.73e-08    5.64e-08\n",
      "population_5_9_female                           5.877e-08   3.91e-08      1.503      0.133   -1.79e-08    1.35e-07\n",
      "population_10_14_male                          -9.779e-09   3.67e-08     -0.266      0.790   -8.17e-08    6.22e-08\n",
      "population_10_14_female                         2.302e-08   3.82e-08      0.603      0.547   -5.18e-08    9.79e-08\n",
      "population_15_19_male                           5.462e-08   3.16e-08      1.726      0.084    -7.4e-09    1.17e-07\n",
      "population_15_19_female                        -1.693e-08   2.67e-08     -0.634      0.526   -6.92e-08    3.54e-08\n",
      "total_population_male                          -5.329e-09   3.84e-09     -1.387      0.165   -1.29e-08     2.2e-09\n",
      "total_population_female                        -1.687e-09   3.88e-09     -0.435      0.664   -9.29e-09    5.91e-09\n",
      "ca_agi_per_returns                             -1.727e-10   6.15e-11     -2.807      0.005   -2.93e-10   -5.21e-11\n",
      "tax_liability_per_capita                        3.038e-11   6.03e-10      0.050      0.960   -1.15e-09    1.21e-09\n",
      "school_temperature                              2.906e-06   2.05e-06      1.421      0.155    -1.1e-06    6.91e-06\n",
      "ps_temperature                                 -6.414e-07   2.04e-06     -0.315      0.753   -4.63e-06    3.35e-06\n",
      "pm25_last_month                                -3.605e-06   2.02e-06     -1.783      0.075   -7.57e-06    3.57e-07\n",
      "pm25_r6                                         3.946e-06    2.5e-05      0.158      0.874    -4.5e-05    5.29e-05\n",
      "pm25_r9                                        -4.793e-05      0.000     -0.476      0.634      -0.000       0.000\n",
      "pm25_r12                                        1.747e-05   9.71e-05      0.180      0.857      -0.000       0.000\n",
      "pm25_r24                                        2.988e-05    1.3e-05      2.303      0.021    4.45e-06    5.53e-05\n",
      "pm25_slope6                                     4.477e-06   1.64e-05      0.273      0.785   -2.76e-05    3.66e-05\n",
      "pm25_slope9                                    -4.702e-05      0.000     -0.369      0.712      -0.000       0.000\n",
      "pm25_slope12                                       0.0001      0.000      0.450      0.653      -0.000       0.001\n",
      "pm25_slope24                                    8.549e-06   9.22e-05      0.093      0.926      -0.000       0.000\n",
      "pm25_lag_12mo                                   4.412e-06   3.62e-06      1.220      0.222   -2.68e-06    1.15e-05\n",
      "nearby_point_source_count                      -3.216e-05    6.7e-06     -4.801      0.000   -4.53e-05    -1.9e-05\n",
      "school_count                                   -8.757e-07   1.28e-06     -0.685      0.493   -3.38e-06    1.63e-06\n",
      "point_source_pm25_tpy                          -1.166e-07   7.86e-08     -1.483      0.138   -2.71e-07    3.75e-08\n",
      "year                                            1.378e-05   1.05e-06     13.116      0.000    1.17e-05    1.58e-05\n",
      "month_02                                       -9.685e-06    2.2e-05     -0.441      0.660   -5.28e-05    3.34e-05\n",
      "month_03                                       -1.547e-05    2.3e-05     -0.672      0.501   -6.06e-05    2.96e-05\n",
      "month_04                                       -2.665e-05   2.35e-05     -1.135      0.256   -7.27e-05    1.94e-05\n",
      "month_05                                        -5.42e-05   2.45e-05     -2.209      0.027      -0.000    -6.1e-06\n",
      "month_06                                       -4.038e-05   2.59e-05     -1.557      0.120   -9.12e-05    1.05e-05\n",
      "month_07                                       -2.093e-05   2.72e-05     -0.770      0.442   -7.42e-05    3.24e-05\n",
      "month_08                                       -4.115e-05   2.72e-05     -1.514      0.130   -9.44e-05    1.21e-05\n",
      "month_09                                       -4.603e-05   2.63e-05     -1.750      0.080   -9.76e-05    5.51e-06\n",
      "month_10                                          -0.0002   2.44e-05     -7.851      0.000      -0.000      -0.000\n",
      "month_11                                       -2.799e-05   2.29e-05     -1.225      0.221   -7.28e-05    1.68e-05\n",
      "month_12                                         -1.4e-05   2.19e-05     -0.640      0.522   -5.69e-05    2.89e-05\n",
      "school_region_name_central_coast               -5.632e-06   2.57e-05     -0.219      0.826   -5.59e-05    4.47e-05\n",
      "school_region_name_inland_empire                   0.0001   1.99e-05      5.371      0.000    6.79e-05       0.000\n",
      "school_region_name_north_coast                     0.0002   2.87e-05      5.818      0.000       0.000       0.000\n",
      "school_region_name_northern_san_joaquin_valley     0.0001   2.19e-05      5.755      0.000    8.33e-05       0.000\n",
      "school_region_name_orange_county                9.604e-05   2.22e-05      4.327      0.000    5.25e-05       0.000\n",
      "school_region_name_san_diego                    5.467e-05   2.27e-05      2.410      0.016    1.02e-05    9.91e-05\n",
      "school_region_name_san_francisco_bay_area          0.0001   2.22e-05      5.364      0.000    7.57e-05       0.000\n",
      "school_region_name_southern_san_joaquin_valley     0.0001   2.06e-05      7.038      0.000       0.000       0.000\n",
      "school_region_name_superior_california             0.0001   2.05e-05      6.955      0.000       0.000       0.000\n",
      "pm25_yhat_xgb                                  -3.507e-06   4.23e-06     -0.829      0.407   -1.18e-05    4.79e-06\n",
      "==============================================================================\n",
      "Omnibus:                  1142634.120   Durbin-Watson:                   1.992\n",
      "Prob(Omnibus):                  0.000   Jarque-Bera (JB):    6831661251014.007\n",
      "Skew:                         111.294   Prob(JB):                         0.00\n",
      "Kurtosis:                   24292.905   Cond. No.                     5.23e+07\n",
      "==============================================================================\n",
      "\n",
      "Notes:\n",
      "[1] Standard Errors assume that the covariance matrix of the errors is correctly specified.\n",
      "[2] The condition number is large, 5.23e+07. This might indicate that there are\n",
      "strong multicollinearity or other numerical problems.\n"
     ]
    },
    {
     "data": {
      "image/png": "[encoded data removed]",
      "text/plain": [
       "<Figure size 720x360 with 1 Axes>"
      ]
     },
     "metadata": {
      "needs_background": "light"
     },
     "output_type": "display_data"
    },
    {
     "data": {
      "image/png": "[encoded data removed]",
      "text/plain": [
       "<Figure size 720x360 with 1 Axes>"
      ]
     },
     "metadata": {
      "needs_background": "light"
     },
     "output_type": "display_data"
    }
   ],
   "source": [
    "X = sm.add_constant(df_modeling[x_all + ['pm25_yhat_xgb']])\n",
    "y = df_modeling['y_hematopoietic']\n",
    "fit2_hema = sm.OLS(y, X).fit()\n",
    "\n",
    "# add fitted y value to our dataset\n",
    "#df_modeling['yhat_pm25'] = fit2.fittedvalues.values\n",
    "# resid\n",
    "resids = fit2_hema.resid\n",
    "resids_and_fitted = pd.DataFrame({'resids': fit2_hema.resid, 'fitted': fit2_hema.fittedvalues.values})\n",
    "\n",
    "# p-value\n",
    "print(f'p-value: {fit2_hema.pvalues.to_frame().iloc[-1][0]}')\n",
    "\n",
    "print(fit2_hema.summary())\n",
    "\n",
    "# qqplot\n",
    "import scipy.stats as stats\n",
    "plt.rcParams[\"figure.figsize\"] = (10,5)\n",
    "fig = sm.qqplot(resids, stats.t, fit=True, line=\"45\")\n",
    "plt.show()\n",
    "\n",
    "# resid vs fitted\n",
    "plt.scatter(resids_and_fitted['fitted'], resids_and_fitted['resids'])\n",
    "plt.title('Fitted values vs residuals')\n",
    "plt.show()"
   ]
  },
  {
   "cell_type": "code",
   "execution_count": 34,
   "metadata": {},
   "outputs": [
    {
     "name": "stdout",
     "output_type": "stream",
     "text": [
      "                            OLS Regression Results                            \n",
      "==============================================================================\n",
      "Dep. Variable:           y_vasculitis   R-squared:                       0.002\n",
      "Model:                            OLS   Adj. R-squared:                  0.002\n",
      "Method:                 Least Squares   F-statistic:                     10.68\n",
      "Date:                Mon, 17 Oct 2022   Prob (F-statistic):           6.88e-87\n",
      "Time:                        20:10:58   Log-Likelihood:             1.4163e+06\n",
      "No. Observations:              277875   AIC:                        -2.832e+06\n",
      "Df Residuals:                  277821   BIC:                        -2.832e+06\n",
      "Df Model:                          53                                         \n",
      "Covariance Type:            nonrobust                                         \n",
      "==================================================================================================================\n",
      "                                                     coef    std err          t      P>|t|      [0.025      0.975]\n",
      "------------------------------------------------------------------------------------------------------------------\n",
      "const                                             -0.0152      0.001    -11.284      0.000      -0.018      -0.013\n",
      "school_wspd                                    -5.252e-06   8.16e-06     -0.643      0.520   -2.13e-05    1.07e-05\n",
      "ps_wspd_merge                                   9.165e-06   8.52e-06      1.076      0.282   -7.53e-06    2.59e-05\n",
      "school_elevation_m                             -3.048e-08   1.72e-08     -1.774      0.076   -6.42e-08    3.19e-09\n",
      "ps_elevation_m                                  3.369e-09   1.77e-08      0.190      0.849   -3.14e-08    3.81e-08\n",
      "population_0_4_male                            -1.835e-09    2.2e-08     -0.083      0.934    -4.5e-08    4.14e-08\n",
      "population_0_4_female                          -2.361e-08   2.23e-08     -1.060      0.289   -6.73e-08       2e-08\n",
      "population_5_9_male                             2.104e-08   2.49e-08      0.845      0.398   -2.78e-08    6.99e-08\n",
      "population_5_9_female                           6.492e-09   2.48e-08      0.261      0.794   -4.22e-08    5.52e-08\n",
      "population_10_14_male                          -1.247e-08   2.33e-08     -0.535      0.593   -5.82e-08    3.33e-08\n",
      "population_10_14_female                         7.621e-09   2.43e-08      0.314      0.754   -3.99e-08    5.52e-08\n",
      "population_15_19_male                           1.438e-08   2.01e-08      0.715      0.474    -2.5e-08    5.38e-08\n",
      "population_15_19_female                        -1.249e-08    1.7e-08     -0.737      0.461   -4.57e-08    2.07e-08\n",
      "total_population_male                          -4.104e-09   2.44e-09     -1.682      0.093   -8.89e-09    6.79e-10\n",
      "total_population_female                         2.943e-09   2.46e-09      1.195      0.232   -1.89e-09    7.77e-09\n",
      "ca_agi_per_returns                             -8.152e-11   3.91e-11     -2.085      0.037   -1.58e-10   -4.89e-12\n",
      "tax_liability_per_capita                       -9.587e-11   3.83e-10     -0.250      0.802   -8.46e-10    6.55e-10\n",
      "school_temperature                             -1.118e-06    1.3e-06     -0.861      0.390   -3.67e-06    1.43e-06\n",
      "ps_temperature                                  1.212e-06   1.29e-06      0.937      0.349   -1.32e-06    3.75e-06\n",
      "pm25_last_month                                -1.257e-06   1.28e-06     -0.979      0.328   -3.77e-06    1.26e-06\n",
      "pm25_r6                                        -2.373e-06   1.59e-05     -0.150      0.881   -3.35e-05    2.87e-05\n",
      "pm25_r9                                          1.49e-05    6.4e-05      0.233      0.816      -0.000       0.000\n",
      "pm25_r12                                       -2.928e-05   6.17e-05     -0.475      0.635      -0.000    9.16e-05\n",
      "pm25_r24                                        1.811e-05   8.24e-06      2.197      0.028    1.96e-06    3.43e-05\n",
      "pm25_slope6                                    -5.528e-07   1.04e-05     -0.053      0.958   -2.09e-05    1.98e-05\n",
      "pm25_slope9                                     2.397e-05   8.09e-05      0.296      0.767      -0.000       0.000\n",
      "pm25_slope12                                     -3.8e-05      0.000     -0.209      0.835      -0.000       0.000\n",
      "pm25_slope24                                    8.552e-06   5.86e-05      0.146      0.884      -0.000       0.000\n",
      "pm25_lag_12mo                                   6.204e-07    2.3e-06      0.270      0.787   -3.88e-06    5.12e-06\n",
      "nearby_point_source_count                      -1.551e-05   4.26e-06     -3.646      0.000   -2.39e-05   -7.17e-06\n",
      "school_count                                    6.532e-07   8.13e-07      0.804      0.421   -9.39e-07    2.25e-06\n",
      "point_source_pm25_tpy                           -4.32e-08      5e-08     -0.865      0.387   -1.41e-07    5.47e-08\n",
      "year                                            7.612e-06   6.68e-07     11.402      0.000     6.3e-06    8.92e-06\n",
      "month_02                                        1.222e-05    1.4e-05      0.875      0.381   -1.52e-05    3.96e-05\n",
      "month_03                                        -5.89e-06   1.46e-05     -0.403      0.687   -3.45e-05    2.28e-05\n",
      "month_04                                       -1.041e-05   1.49e-05     -0.698      0.485   -3.96e-05    1.88e-05\n",
      "month_05                                       -1.496e-05   1.56e-05     -0.960      0.337   -4.55e-05    1.56e-05\n",
      "month_06                                       -1.795e-05   1.65e-05     -1.089      0.276   -5.03e-05    1.44e-05\n",
      "month_07                                       -2.193e-05   1.73e-05     -1.270      0.204   -5.58e-05    1.19e-05\n",
      "month_08                                       -3.585e-05   1.73e-05     -2.076      0.038   -6.97e-05      -2e-06\n",
      "month_09                                       -1.965e-05   1.67e-05     -1.176      0.240   -5.24e-05    1.31e-05\n",
      "month_10                                          -0.0001   1.55e-05     -8.942      0.000      -0.000      -0.000\n",
      "month_11                                       -5.228e-06   1.45e-05     -0.360      0.719   -3.37e-05    2.32e-05\n",
      "month_12                                       -9.677e-06   1.39e-05     -0.696      0.486   -3.69e-05    1.76e-05\n",
      "school_region_name_central_coast                1.583e-05   1.63e-05      0.971      0.332   -1.61e-05    4.78e-05\n",
      "school_region_name_inland_empire                   0.0001   1.27e-05      9.134      0.000    9.08e-05       0.000\n",
      "school_region_name_north_coast                  8.364e-05   1.82e-05      4.594      0.000     4.8e-05       0.000\n",
      "school_region_name_northern_san_joaquin_valley  9.779e-05   1.39e-05      7.012      0.000    7.05e-05       0.000\n",
      "school_region_name_orange_county                8.028e-05   1.41e-05      5.692      0.000    5.26e-05       0.000\n",
      "school_region_name_san_diego                    6.871e-05   1.44e-05      4.767      0.000    4.05e-05     9.7e-05\n",
      "school_region_name_san_francisco_bay_area       8.929e-05   1.41e-05      6.322      0.000    6.16e-05       0.000\n",
      "school_region_name_southern_san_joaquin_valley  9.793e-05   1.31e-05      7.495      0.000    7.23e-05       0.000\n",
      "school_region_name_superior_california          6.697e-05    1.3e-05      5.154      0.000    4.15e-05    9.24e-05\n",
      "pm25_yhat_xgb                                   -1.01e-07   2.69e-06     -0.038      0.970   -5.37e-06    5.17e-06\n",
      "==============================================================================\n",
      "Omnibus:                  1006189.158   Durbin-Watson:                   1.986\n",
      "Prob(Omnibus):                  0.000   Jarque-Bera (JB):    1242051196057.336\n",
      "Skew:                          74.967   Prob(JB):                         0.00\n",
      "Kurtosis:                   10359.312   Cond. No.                     5.23e+07\n",
      "==============================================================================\n",
      "\n",
      "Notes:\n",
      "[1] Standard Errors assume that the covariance matrix of the errors is correctly specified.\n",
      "[2] The condition number is large, 5.23e+07. This might indicate that there are\n",
      "strong multicollinearity or other numerical problems.\n",
      "p-value: 0.9700229506120914\n"
     ]
    },
    {
     "data": {
      "image/png": "[encoded data removed]",
      "text/plain": [
       "<Figure size 720x360 with 1 Axes>"
      ]
     },
     "metadata": {
      "needs_background": "light"
     },
     "output_type": "display_data"
    },
    {
     "data": {
      "image/png": "[encoded data removed]",
      "text/plain": [
       "<Figure size 720x360 with 1 Axes>"
      ]
     },
     "metadata": {
      "needs_background": "light"
     },
     "output_type": "display_data"
    }
   ],
   "source": [
    "X = sm.add_constant(df_modeling[x_all + ['pm25_yhat_xgb']])\n",
    "y = df_modeling['y_vasculitis']\n",
    "fit2_vasc = sm.OLS(y, X).fit()\n",
    "\n",
    "# add fitted y value to our dataset\n",
    "#df_modeling['yhat_pm25'] = fit2.fittedvalues.values\n",
    "# resid\n",
    "resids = fit2_vasc.resid\n",
    "resids_and_fitted = pd.DataFrame({'resids': fit2_vasc.resid, 'fitted': fit2_vasc.fittedvalues.values})\n",
    "\n",
    "print(fit2_vasc.summary())\n",
    "\n",
    "# p-value\n",
    "print(f'p-value: {fit2_vasc.pvalues.to_frame().iloc[-1][0]}')\n",
    "\n",
    "# qqplot\n",
    "import scipy.stats as stats\n",
    "plt.rcParams[\"figure.figsize\"] = (10,5)\n",
    "fig = sm.qqplot(resids, stats.t, fit=True, line=\"45\")\n",
    "plt.show()\n",
    "\n",
    "# resid vs fitted\n",
    "plt.scatter(resids_and_fitted['fitted'], resids_and_fitted['resids'])\n",
    "plt.title('Fitted values vs residuals')\n",
    "plt.show()"
   ]
  },
  {
   "cell_type": "code",
   "execution_count": 35,
   "metadata": {},
   "outputs": [
    {
     "name": "stdout",
     "output_type": "stream",
     "text": [
      "                            OLS Regression Results                            \n",
      "==============================================================================\n",
      "Dep. Variable:             y_diabetes   R-squared:                       0.001\n",
      "Model:                            OLS   Adj. R-squared:                  0.001\n",
      "Method:                 Least Squares   F-statistic:                     4.912\n",
      "Date:                Mon, 17 Oct 2022   Prob (F-statistic):           4.05e-29\n",
      "Time:                        20:11:04   Log-Likelihood:             1.0172e+06\n",
      "No. Observations:              277875   AIC:                        -2.034e+06\n",
      "Df Residuals:                  277821   BIC:                        -2.034e+06\n",
      "Df Model:                          53                                         \n",
      "Covariance Type:            nonrobust                                         \n",
      "==================================================================================================================\n",
      "                                                     coef    std err          t      P>|t|      [0.025      0.975]\n",
      "------------------------------------------------------------------------------------------------------------------\n",
      "const                                             -0.0444      0.006     -7.840      0.000      -0.056      -0.033\n",
      "school_wspd                                     3.131e-05   3.43e-05      0.912      0.362    -3.6e-05    9.86e-05\n",
      "ps_wspd_merge                                   -2.37e-05   3.58e-05     -0.662      0.508   -9.39e-05    4.65e-05\n",
      "school_elevation_m                              4.309e-07   7.22e-08      5.966      0.000    2.89e-07    5.72e-07\n",
      "ps_elevation_m                                 -3.556e-07   7.45e-08     -4.773      0.000   -5.02e-07    -2.1e-07\n",
      "population_0_4_male                            -1.845e-09   9.27e-08     -0.020      0.984   -1.84e-07     1.8e-07\n",
      "population_0_4_female                          -2.459e-09   9.36e-08     -0.026      0.979   -1.86e-07    1.81e-07\n",
      "population_5_9_male                             5.781e-08   1.05e-07      0.552      0.581   -1.48e-07    2.63e-07\n",
      "population_5_9_female                            6.05e-08   1.04e-07      0.579      0.563   -1.44e-07    2.65e-07\n",
      "population_10_14_male                          -5.192e-08   9.81e-08     -0.529      0.597   -2.44e-07     1.4e-07\n",
      "population_10_14_female                        -1.851e-08   1.02e-07     -0.181      0.856   -2.19e-07    1.81e-07\n",
      "population_15_19_male                            3.06e-08   8.45e-08      0.362      0.717   -1.35e-07    1.96e-07\n",
      "population_15_19_female                         -1.15e-08   7.13e-08     -0.161      0.872   -1.51e-07    1.28e-07\n",
      "total_population_male                          -4.409e-09   1.03e-08     -0.430      0.667   -2.45e-08    1.57e-08\n",
      "total_population_female                        -2.461e-09   1.04e-08     -0.238      0.812   -2.28e-08    1.78e-08\n",
      "ca_agi_per_returns                              6.387e-10   1.64e-10      3.886      0.000    3.17e-10    9.61e-10\n",
      "tax_liability_per_capita                       -2.686e-09   1.61e-09     -1.668      0.095   -5.84e-09     4.7e-10\n",
      "school_temperature                              1.852e-05   5.46e-06      3.390      0.001    7.81e-06    2.92e-05\n",
      "ps_temperature                                 -1.722e-05   5.44e-06     -3.167      0.002   -2.79e-05   -6.56e-06\n",
      "pm25_last_month                                -9.401e-06    5.4e-06     -1.741      0.082      -2e-05    1.18e-06\n",
      "pm25_r6                                        -3.449e-05   6.67e-05     -0.517      0.605      -0.000    9.62e-05\n",
      "pm25_r9                                          8.67e-06      0.000      0.032      0.974      -0.001       0.001\n",
      "pm25_r12                                        2.172e-05      0.000      0.084      0.933      -0.000       0.001\n",
      "pm25_r24                                        2.215e-06   3.47e-05      0.064      0.949   -6.57e-05    7.01e-05\n",
      "pm25_slope6                                    -1.695e-05   4.37e-05     -0.387      0.698      -0.000    6.88e-05\n",
      "pm25_slope9                                     4.784e-05      0.000      0.141      0.888      -0.001       0.001\n",
      "pm25_slope12                                       0.0002      0.001      0.224      0.823      -0.001       0.002\n",
      "pm25_slope24                                   -9.491e-05      0.000     -0.385      0.700      -0.001       0.000\n",
      "pm25_lag_12mo                                   1.916e-05   9.66e-06      1.983      0.047    2.24e-07    3.81e-05\n",
      "nearby_point_source_count                      -1.345e-05   1.79e-05     -0.752      0.452   -4.85e-05    2.16e-05\n",
      "school_count                                    4.639e-07   3.42e-06      0.136      0.892   -6.23e-06    7.16e-06\n",
      "point_source_pm25_tpy                           2.393e-07    2.1e-07      1.139      0.255   -1.72e-07    6.51e-07\n",
      "year                                            2.205e-05   2.81e-06      7.856      0.000    1.66e-05    2.76e-05\n",
      "month_02                                        4.601e-05   5.87e-05      0.784      0.433   -6.91e-05       0.000\n",
      "month_03                                        3.623e-05   6.15e-05      0.589      0.556   -8.43e-05       0.000\n",
      "month_04                                        3.153e-05   6.27e-05      0.503      0.615   -9.14e-05       0.000\n",
      "month_05                                        8.762e-06   6.56e-05      0.134      0.894      -0.000       0.000\n",
      "month_06                                         2.73e-05   6.93e-05      0.394      0.694      -0.000       0.000\n",
      "month_07                                        9.333e-06   7.26e-05      0.129      0.898      -0.000       0.000\n",
      "month_08                                           0.0001   7.26e-05      1.972      0.049     8.8e-07       0.000\n",
      "month_09                                        5.601e-05   7.02e-05      0.797      0.425   -8.17e-05       0.000\n",
      "month_10                                       -8.221e-05   6.51e-05     -1.262      0.207      -0.000    4.54e-05\n",
      "month_11                                           0.0001   6.11e-05      1.902      0.057   -3.51e-06       0.000\n",
      "month_12                                        1.845e-05   5.84e-05      0.316      0.752   -9.61e-05       0.000\n",
      "school_region_name_central_coast                6.304e-05   6.86e-05      0.919      0.358   -7.13e-05       0.000\n",
      "school_region_name_inland_empire                5.686e-05   5.32e-05      1.069      0.285   -4.74e-05       0.000\n",
      "school_region_name_north_coast                     0.0004   7.65e-05      5.163      0.000       0.000       0.001\n",
      "school_region_name_northern_san_joaquin_valley     0.0001   5.86e-05      2.466      0.014    2.97e-05       0.000\n",
      "school_region_name_orange_county                4.573e-05   5.93e-05      0.771      0.441   -7.05e-05       0.000\n",
      "school_region_name_san_diego                    1.562e-05   6.06e-05      0.258      0.797      -0.000       0.000\n",
      "school_region_name_san_francisco_bay_area       5.274e-05   5.94e-05      0.888      0.374   -6.37e-05       0.000\n",
      "school_region_name_southern_san_joaquin_valley  8.586e-05   5.49e-05      1.563      0.118   -2.18e-05       0.000\n",
      "school_region_name_superior_california             0.0001   5.46e-05      1.890      0.059   -3.84e-06       0.000\n",
      "pm25_yhat_xgb                                  -3.447e-06   1.13e-05     -0.305      0.760   -2.56e-05    1.87e-05\n",
      "==============================================================================\n",
      "Omnibus:                  1464581.765   Durbin-Watson:                   1.971\n",
      "Prob(Omnibus):                  0.000   Jarque-Bera (JB):   72762760604031.469\n",
      "Skew:                         260.916   Prob(JB):                         0.00\n",
      "Kurtosis:                   79276.139   Cond. No.                     5.23e+07\n",
      "==============================================================================\n",
      "\n",
      "Notes:\n",
      "[1] Standard Errors assume that the covariance matrix of the errors is correctly specified.\n",
      "[2] The condition number is large, 5.23e+07. This might indicate that there are\n",
      "strong multicollinearity or other numerical problems.\n",
      "p-value: 0.760404152683801\n"
     ]
    },
    {
     "data": {
      "image/png": "[encoded data removed]",
      "text/plain": [
       "<Figure size 720x360 with 1 Axes>"
      ]
     },
     "metadata": {
      "needs_background": "light"
     },
     "output_type": "display_data"
    },
    {
     "data": {
      "image/png": "[encoded data removed]",
      "text/plain": [
       "<Figure size 720x360 with 1 Axes>"
      ]
     },
     "metadata": {
      "needs_background": "light"
     },
     "output_type": "display_data"
    }
   ],
   "source": [
    "X = sm.add_constant(df_modeling[x_all + ['pm25_yhat_xgb']])\n",
    "y = df_modeling['y_diabetes']\n",
    "fit2_diab = sm.OLS(y, X).fit()\n",
    "\n",
    "# add fitted y value to our dataset\n",
    "#df_modeling['yhat_pm25'] = fit2.fittedvalues.values\n",
    "# resid\n",
    "resids = fit2_diab.resid\n",
    "\n",
    "resids_and_fitted = pd.DataFrame({'resids': fit2_diab.resid, 'fitted': fit2_diab.fittedvalues.values})\n",
    "\n",
    "print(fit2_diab.summary())\n",
    "\n",
    "# p-value\n",
    "print(f'p-value: {fit2_diab.pvalues.to_frame().iloc[-1][0]}')\n",
    "\n",
    "# qqplot\n",
    "import scipy.stats as stats\n",
    "plt.rcParams[\"figure.figsize\"] = (10,5)\n",
    "fig = sm.qqplot(resids, stats.t, fit=True, line=\"45\")\n",
    "plt.show()\n",
    "\n",
    "# resid vs fitted\n",
    "plt.scatter(resids_and_fitted['fitted'], resids_and_fitted['resids'])\n",
    "plt.title('Fitted values vs residuals')\n",
    "plt.show()"
   ]
  },
  {
   "cell_type": "code",
   "execution_count": null,
   "metadata": {},
   "outputs": [],
   "source": []
  }
 ],
 "metadata": {
  "kernelspec": {
   "display_name": "Python 3.9.1 64-bit ('miniconda3')",
   "language": "python",
   "name": "python3"
  },
  "language_info": {
   "codemirror_mode": {
    "name": "ipython",
    "version": 3
   },
   "file_extension": ".py",
   "mimetype": "text/x-python",
   "name": "python",
   "nbconvert_exporter": "python",
   "pygments_lexer": "ipython3",
   "version": "3.9.1"
  },
  "orig_nbformat": 4,
  "vscode": {
   "interpreter": {
    "hash": "b25cd5a5a3cd1ea9e93fd254f185f4731ffaa4421de0b98534600687fe3ed44f"
   }
  }
 },
 "nbformat": 4,
 "nbformat_minor": 2
}
