{
 "cells": [
  {
   "cell_type": "markdown",
   "id": "1fa360e4-7076-430f-87ef-f556436f88b0",
   "metadata": {
    "tags": []
   },
   "source": [
    "# Main script - health data\n",
    "\n",
    "## Capstone project\n",
    "\n",
    "\n",
    "Author: Cornelia Ilin\n",
    "\n",
    "Email: cilin@wisc.edu\n",
    "\n",
    "Date created: Oct 14, 2022"
   ]
  },
  {
   "cell_type": "markdown",
   "id": "9e08d8e0-e05d-449b-881d-1bc53e8e94ef",
   "metadata": {},
   "source": [
    "### Step 1: Import packages"
   ]
  },
  {
   "cell_type": "code",
   "execution_count": 1,
   "id": "f4c2a6ac-fd72-4907-bfd2-b1d8abbe62f9",
   "metadata": {},
   "outputs": [],
   "source": [
    "import pandas as pd\n",
    "import numpy as np\n",
    "import os\n",
    "\n",
    "import warnings\n",
    "warnings.filterwarnings(\"ignore\")"
   ]
  },
  {
   "cell_type": "markdown",
   "id": "e8f41818-d3f3-4b9e-856e-90c6527183f9",
   "metadata": {},
   "source": [
    "### Step 2: Define working directories"
   ]
  },
  {
   "cell_type": "code",
   "execution_count": 2,
   "id": "f26bdf4d-2e20-4cc9-a6c1-ac7b7a142eed",
   "metadata": {},
   "outputs": [],
   "source": [
    "in_dir = 'C:/Users/cilin/Research/CA_hospitals_capstone/data/'\n",
    "in_dir_h = 'C:/Users/cilin/Research/CA_hospitals/Input/final_data/health/'\n",
    "\n",
    "out_dir = 'C:/Users/cilin/Research/CA_hospitals_capstone/output/'"
   ]
  },
  {
   "cell_type": "markdown",
   "id": "35a76c0a-5aa2-4994-aa85-541b43197456",
   "metadata": {},
   "source": [
    "### Step 3: Define functions"
   ]
  },
  {
   "cell_type": "code",
   "execution_count": 3,
   "id": "8a10bb8c-486a-4b13-b22e-b7fc22a20cbe",
   "metadata": {},
   "outputs": [],
   "source": [
    "def read_health_data():\n",
    "    '''\n",
    "    '''\n",
    "    df_dict = {}\n",
    "    for file in os.listdir(in_dir_h):\n",
    "        if file in ['PDD_final.csv', 'EDD_final.csv']:\n",
    "            key = file.split('_')[0]\n",
    "            print('Reading:', file)\n",
    "            df_dict[key] = pd.read_csv(in_dir_h + file)\n",
    "        \n",
    "    return df_dict"
   ]
  },
  {
   "cell_type": "markdown",
   "id": "b87a15f8-495d-443f-b83b-df275526e7e5",
   "metadata": {},
   "source": [
    "### Step 4: Read data"
   ]
  },
  {
   "cell_type": "markdown",
   "id": "2261fa55-14a0-4b61-be4e-810c9361e7dc",
   "metadata": {},
   "source": [
    "``school zip-year-month keys``"
   ]
  },
  {
   "cell_type": "code",
   "execution_count": 4,
   "id": "9994f113-a0df-43f2-925b-3b440399db6d",
   "metadata": {},
   "outputs": [
    {
     "data": {
      "text/html": [
       "<div>\n",
       "<style scoped>\n",
       "    .dataframe tbody tr th:only-of-type {\n",
       "        vertical-align: middle;\n",
       "    }\n",
       "\n",
       "    .dataframe tbody tr th {\n",
       "        vertical-align: top;\n",
       "    }\n",
       "\n",
       "    .dataframe thead th {\n",
       "        text-align: right;\n",
       "    }\n",
       "</style>\n",
       "<table border=\"1\" class=\"dataframe\">\n",
       "  <thead>\n",
       "    <tr style=\"text-align: right;\">\n",
       "      <th></th>\n",
       "      <th>year_month</th>\n",
       "      <th>school_zip</th>\n",
       "      <th>school_county_v2</th>\n",
       "      <th>school_region_name</th>\n",
       "      <th>pm25</th>\n",
       "      <th>school_elevation_m</th>\n",
       "      <th>ps_elevation_m</th>\n",
       "      <th>population_0_4</th>\n",
       "      <th>population_0_4_male</th>\n",
       "      <th>population_0_4_female</th>\n",
       "      <th>...</th>\n",
       "      <th>year_trend</th>\n",
       "      <th>county_month</th>\n",
       "      <th>yhat_pm25</th>\n",
       "      <th>yhat_hematopoietic</th>\n",
       "      <th>yhat_vasculitis</th>\n",
       "      <th>yhat_diabetes</th>\n",
       "      <th>yhat_resp_cardio</th>\n",
       "      <th>yhat_injuries</th>\n",
       "      <th>school_zip_lat</th>\n",
       "      <th>school_zip_lon</th>\n",
       "    </tr>\n",
       "  </thead>\n",
       "  <tbody>\n",
       "    <tr>\n",
       "      <th>0</th>\n",
       "      <td>2000-01-01</td>\n",
       "      <td>90001</td>\n",
       "      <td>Los Angeles</td>\n",
       "      <td>Los Angeles County</td>\n",
       "      <td>32.149998</td>\n",
       "      <td>44.728889</td>\n",
       "      <td>43.703333</td>\n",
       "      <td>6196.0</td>\n",
       "      <td>3209.0</td>\n",
       "      <td>2987.0</td>\n",
       "      <td>...</td>\n",
       "      <td>1</td>\n",
       "      <td>01_Los Angeles</td>\n",
       "      <td>21.928643</td>\n",
       "      <td>0.000007</td>\n",
       "      <td>0.000015</td>\n",
       "      <td>-0.000011</td>\n",
       "      <td>0.002668</td>\n",
       "      <td>0.001943</td>\n",
       "      <td>33.9731</td>\n",
       "      <td>-118.2479</td>\n",
       "    </tr>\n",
       "    <tr>\n",
       "      <th>1</th>\n",
       "      <td>2000-01-01</td>\n",
       "      <td>90002</td>\n",
       "      <td>Los Angeles</td>\n",
       "      <td>Los Angeles County</td>\n",
       "      <td>31.849998</td>\n",
       "      <td>33.858889</td>\n",
       "      <td>29.690000</td>\n",
       "      <td>4795.0</td>\n",
       "      <td>2447.0</td>\n",
       "      <td>2348.0</td>\n",
       "      <td>...</td>\n",
       "      <td>1</td>\n",
       "      <td>01_Los Angeles</td>\n",
       "      <td>21.904684</td>\n",
       "      <td>0.000003</td>\n",
       "      <td>0.000017</td>\n",
       "      <td>-0.000008</td>\n",
       "      <td>0.002290</td>\n",
       "      <td>0.000813</td>\n",
       "      <td>33.9497</td>\n",
       "      <td>-118.2462</td>\n",
       "    </tr>\n",
       "    <tr>\n",
       "      <th>2</th>\n",
       "      <td>2000-01-01</td>\n",
       "      <td>90003</td>\n",
       "      <td>Los Angeles</td>\n",
       "      <td>Los Angeles County</td>\n",
       "      <td>31.724998</td>\n",
       "      <td>42.329167</td>\n",
       "      <td>45.785000</td>\n",
       "      <td>6527.0</td>\n",
       "      <td>3297.0</td>\n",
       "      <td>3230.0</td>\n",
       "      <td>...</td>\n",
       "      <td>1</td>\n",
       "      <td>01_Los Angeles</td>\n",
       "      <td>21.903709</td>\n",
       "      <td>0.000003</td>\n",
       "      <td>0.000017</td>\n",
       "      <td>-0.000008</td>\n",
       "      <td>0.002275</td>\n",
       "      <td>0.000767</td>\n",
       "      <td>33.9653</td>\n",
       "      <td>-118.2727</td>\n",
       "    </tr>\n",
       "    <tr>\n",
       "      <th>3</th>\n",
       "      <td>2000-01-01</td>\n",
       "      <td>90004</td>\n",
       "      <td>Los Angeles</td>\n",
       "      <td>Los Angeles County</td>\n",
       "      <td>29.560000</td>\n",
       "      <td>83.190000</td>\n",
       "      <td>102.906667</td>\n",
       "      <td>5621.0</td>\n",
       "      <td>2879.0</td>\n",
       "      <td>2742.0</td>\n",
       "      <td>...</td>\n",
       "      <td>1</td>\n",
       "      <td>01_Los Angeles</td>\n",
       "      <td>21.932160</td>\n",
       "      <td>0.000007</td>\n",
       "      <td>0.000014</td>\n",
       "      <td>-0.000011</td>\n",
       "      <td>0.002724</td>\n",
       "      <td>0.002109</td>\n",
       "      <td>34.0762</td>\n",
       "      <td>-118.3029</td>\n",
       "    </tr>\n",
       "    <tr>\n",
       "      <th>4</th>\n",
       "      <td>2000-01-01</td>\n",
       "      <td>90006</td>\n",
       "      <td>Los Angeles</td>\n",
       "      <td>Los Angeles County</td>\n",
       "      <td>30.750000</td>\n",
       "      <td>65.920000</td>\n",
       "      <td>77.570000</td>\n",
       "      <td>5939.0</td>\n",
       "      <td>3050.0</td>\n",
       "      <td>2889.0</td>\n",
       "      <td>...</td>\n",
       "      <td>1</td>\n",
       "      <td>01_Los Angeles</td>\n",
       "      <td>21.908952</td>\n",
       "      <td>0.000004</td>\n",
       "      <td>0.000017</td>\n",
       "      <td>-0.000008</td>\n",
       "      <td>0.002357</td>\n",
       "      <td>0.001014</td>\n",
       "      <td>34.0493</td>\n",
       "      <td>-118.2917</td>\n",
       "    </tr>\n",
       "  </tbody>\n",
       "</table>\n",
       "<p>5 rows × 154 columns</p>\n",
       "</div>"
      ],
      "text/plain": [
       "   year_month  school_zip school_county_v2  school_region_name       pm25  \\\n",
       "0  2000-01-01       90001      Los Angeles  Los Angeles County  32.149998   \n",
       "1  2000-01-01       90002      Los Angeles  Los Angeles County  31.849998   \n",
       "2  2000-01-01       90003      Los Angeles  Los Angeles County  31.724998   \n",
       "3  2000-01-01       90004      Los Angeles  Los Angeles County  29.560000   \n",
       "4  2000-01-01       90006      Los Angeles  Los Angeles County  30.750000   \n",
       "\n",
       "   school_elevation_m  ps_elevation_m  population_0_4  population_0_4_male  \\\n",
       "0           44.728889       43.703333          6196.0               3209.0   \n",
       "1           33.858889       29.690000          4795.0               2447.0   \n",
       "2           42.329167       45.785000          6527.0               3297.0   \n",
       "3           83.190000      102.906667          5621.0               2879.0   \n",
       "4           65.920000       77.570000          5939.0               3050.0   \n",
       "\n",
       "   population_0_4_female  ...  year_trend    county_month  yhat_pm25  \\\n",
       "0                 2987.0  ...           1  01_Los Angeles  21.928643   \n",
       "1                 2348.0  ...           1  01_Los Angeles  21.904684   \n",
       "2                 3230.0  ...           1  01_Los Angeles  21.903709   \n",
       "3                 2742.0  ...           1  01_Los Angeles  21.932160   \n",
       "4                 2889.0  ...           1  01_Los Angeles  21.908952   \n",
       "\n",
       "   yhat_hematopoietic  yhat_vasculitis  yhat_diabetes  yhat_resp_cardio  \\\n",
       "0            0.000007         0.000015      -0.000011          0.002668   \n",
       "1            0.000003         0.000017      -0.000008          0.002290   \n",
       "2            0.000003         0.000017      -0.000008          0.002275   \n",
       "3            0.000007         0.000014      -0.000011          0.002724   \n",
       "4            0.000004         0.000017      -0.000008          0.002357   \n",
       "\n",
       "   yhat_injuries  school_zip_lat  school_zip_lon  \n",
       "0       0.001943         33.9731       -118.2479  \n",
       "1       0.000813         33.9497       -118.2462  \n",
       "2       0.000767         33.9653       -118.2727  \n",
       "3       0.002109         34.0762       -118.3029  \n",
       "4       0.001014         34.0493       -118.2917  \n",
       "\n",
       "[5 rows x 154 columns]"
      ]
     },
     "execution_count": 4,
     "metadata": {},
     "output_type": "execute_result"
    }
   ],
   "source": [
    "df_sch = pd.read_csv(in_dir + 'modeling_data_results_2022-10-26.csv')\n",
    "df_sch.head()"
   ]
  },
  {
   "cell_type": "markdown",
   "id": "ce35cad8-41f9-4242-9db5-8f3fa67135b8",
   "metadata": {},
   "source": [
    "``diag keys``"
   ]
  },
  {
   "cell_type": "code",
   "execution_count": 5,
   "id": "8418529a-6211-40e0-8d03-968a59240d62",
   "metadata": {},
   "outputs": [
    {
     "data": {
      "text/html": [
       "<div>\n",
       "<style scoped>\n",
       "    .dataframe tbody tr th:only-of-type {\n",
       "        vertical-align: middle;\n",
       "    }\n",
       "\n",
       "    .dataframe tbody tr th {\n",
       "        vertical-align: top;\n",
       "    }\n",
       "\n",
       "    .dataframe thead th {\n",
       "        text-align: right;\n",
       "    }\n",
       "</style>\n",
       "<table border=\"1\" class=\"dataframe\">\n",
       "  <thead>\n",
       "    <tr style=\"text-align: right;\">\n",
       "      <th></th>\n",
       "      <th>disease_grp_num</th>\n",
       "      <th>disease_grp_name</th>\n",
       "      <th>icd_code</th>\n",
       "      <th>icd_code_type</th>\n",
       "      <th>icd_code_type_verbose</th>\n",
       "    </tr>\n",
       "  </thead>\n",
       "  <tbody>\n",
       "    <tr>\n",
       "      <th>0</th>\n",
       "      <td>1</td>\n",
       "      <td>hematopoietic_cancers</td>\n",
       "      <td>200</td>\n",
       "      <td>9</td>\n",
       "      <td>ICD-9-CM</td>\n",
       "    </tr>\n",
       "    <tr>\n",
       "      <th>1</th>\n",
       "      <td>1</td>\n",
       "      <td>hematopoietic_cancers</td>\n",
       "      <td>201</td>\n",
       "      <td>9</td>\n",
       "      <td>ICD-9-CM</td>\n",
       "    </tr>\n",
       "    <tr>\n",
       "      <th>2</th>\n",
       "      <td>1</td>\n",
       "      <td>hematopoietic_cancers</td>\n",
       "      <td>202</td>\n",
       "      <td>9</td>\n",
       "      <td>ICD-9-CM</td>\n",
       "    </tr>\n",
       "    <tr>\n",
       "      <th>3</th>\n",
       "      <td>1</td>\n",
       "      <td>hematopoietic_cancers</td>\n",
       "      <td>203</td>\n",
       "      <td>9</td>\n",
       "      <td>ICD-9-CM</td>\n",
       "    </tr>\n",
       "    <tr>\n",
       "      <th>4</th>\n",
       "      <td>1</td>\n",
       "      <td>hematopoietic_cancers</td>\n",
       "      <td>204</td>\n",
       "      <td>9</td>\n",
       "      <td>ICD-9-CM</td>\n",
       "    </tr>\n",
       "  </tbody>\n",
       "</table>\n",
       "</div>"
      ],
      "text/plain": [
       "   disease_grp_num       disease_grp_name icd_code  icd_code_type  \\\n",
       "0                1  hematopoietic_cancers      200              9   \n",
       "1                1  hematopoietic_cancers      201              9   \n",
       "2                1  hematopoietic_cancers      202              9   \n",
       "3                1  hematopoietic_cancers      203              9   \n",
       "4                1  hematopoietic_cancers      204              9   \n",
       "\n",
       "  icd_code_type_verbose  \n",
       "0              ICD-9-CM  \n",
       "1              ICD-9-CM  \n",
       "2              ICD-9-CM  \n",
       "3              ICD-9-CM  \n",
       "4              ICD-9-CM  "
      ]
     },
     "execution_count": 5,
     "metadata": {},
     "output_type": "execute_result"
    }
   ],
   "source": [
    "# non med data\n",
    "df_diag = pd.read_csv(in_dir + 'diag_keys.csv')\n",
    "df_diag.head()"
   ]
  },
  {
   "cell_type": "markdown",
   "id": "1ff97d55-2052-4691-9ff0-029196ed2b50",
   "metadata": {},
   "source": [
    "``health data``"
   ]
  },
  {
   "cell_type": "code",
   "execution_count": 6,
   "id": "d3d764d5-ec02-4755-b786-a1300dec7b26",
   "metadata": {},
   "outputs": [
    {
     "name": "stdout",
     "output_type": "stream",
     "text": [
      "Reading: EDD_final.csv\n",
      "Reading: PDD_final.csv\n",
      "Keys in data: dict_keys(['EDD', 'PDD'])\n"
     ]
    }
   ],
   "source": [
    "dict_h = read_health_data()\n",
    "print('Keys in data:', dict_h.keys())"
   ]
  },
  {
   "cell_type": "markdown",
   "id": "36d7e86d-8a0b-4a4c-b00f-8a1ddcc3dbf4",
   "metadata": {},
   "source": [
    "### Step 5: Preprocess data"
   ]
  },
  {
   "cell_type": "markdown",
   "id": "308479e6-613e-4ca2-8aba-d216af6d1b4e",
   "metadata": {},
   "source": [
    "``school zip-year-month keys``"
   ]
  },
  {
   "cell_type": "code",
   "execution_count": 8,
   "id": "97755b08-fd2e-46e3-b7f6-032fef5efb48",
   "metadata": {},
   "outputs": [
    {
     "name": "stdout",
     "output_type": "stream",
     "text": [
      "Example data points:\n"
     ]
    },
    {
     "data": {
      "text/plain": [
       "array(['90001-2000-1', '90002-2000-1', '90003-2000-1'], dtype=object)"
      ]
     },
     "execution_count": 8,
     "metadata": {},
     "output_type": "execute_result"
    }
   ],
   "source": [
    "# add key to df\n",
    "df_sch['schoolzip_year_month'] = df_sch.school_zip.astype(str) + '-' + df_sch.year.astype(str) + '-' + df_sch.month.astype(str)\n",
    "\n",
    "# drop if year >=2018\n",
    "df_sch = df_sch[df_sch.year.lt(2017) | df_sch.year.ge(2000)]\n",
    "\n",
    "ziph_year_month = df_sch.schoolzip_year_month.unique()\n",
    "print('Example data points:')\n",
    "ziph_year_month[:3]"
   ]
  },
  {
   "cell_type": "markdown",
   "id": "abedcefa-c14d-46ab-b480-975311ce5552",
   "metadata": {},
   "source": [
    "``diagnosis keys``"
   ]
  },
  {
   "cell_type": "code",
   "execution_count": 9,
   "id": "ddaabbad-fdf5-465c-885b-f7455a5cb440",
   "metadata": {},
   "outputs": [
    {
     "data": {
      "text/plain": [
       "array(['hematopoietic_cancers', 'type_1_diabetes', 'injuries',\n",
       "       'respiratory', 'all_malignant_cancers',\n",
       "       'all_nonblood_malignant_cancers', 'cardioresp_cancers',\n",
       "       'blood_diseases', 'blood_vessel_diseases', 'blood_or_bv_diseases'],\n",
       "      dtype=object)"
      ]
     },
     "execution_count": 9,
     "metadata": {},
     "output_type": "execute_result"
    }
   ],
   "source": [
    "df_diag.disease_grp_name.unique()"
   ]
  },
  {
   "cell_type": "code",
   "execution_count": 10,
   "id": "baf712cd-58a6-475d-9310-8d5f7d1a19d4",
   "metadata": {},
   "outputs": [],
   "source": [
    "# pull out icd codes of interest\n",
    "df_diag['icd_code'] = df_diag.icd_code.astype(str)\n",
    "df_diag['icd_code_2'] = df_diag.icd_code.str.replace('.', '')\n",
    "\n",
    "# add to dictionary\n",
    "diseases = {}\n",
    "for val in df_diag.disease_grp_name.unique():\n",
    "    diseases[val] = list(df_diag[df_diag.disease_grp_name.eq(val)].icd_code_2.values)"
   ]
  },
  {
   "cell_type": "code",
   "execution_count": 11,
   "id": "b530848e-332b-415b-910a-d06b7864fd6e",
   "metadata": {},
   "outputs": [
    {
     "data": {
      "text/plain": [
       "['25011',\n",
       " '25013',\n",
       " '25021',\n",
       " '25023',\n",
       " '25031',\n",
       " '25033',\n",
       " '25041',\n",
       " '25043',\n",
       " '25051',\n",
       " '25053',\n",
       " '25061',\n",
       " '25063',\n",
       " '25071',\n",
       " '25073',\n",
       " '25081',\n",
       " '25083',\n",
       " '25091',\n",
       " '25093',\n",
       " 'E10']"
      ]
     },
     "execution_count": 11,
     "metadata": {},
     "output_type": "execute_result"
    }
   ],
   "source": [
    "diseases['type_1_diabetes']"
   ]
  },
  {
   "cell_type": "markdown",
   "id": "f7cf2415-5c63-437e-ab5f-cc00186a9ffb",
   "metadata": {},
   "source": [
    "``health data``"
   ]
  },
  {
   "cell_type": "code",
   "execution_count": 12,
   "id": "da287671-619e-49af-a1ec-2d79d0f62230",
   "metadata": {},
   "outputs": [
    {
     "name": "stdout",
     "output_type": "stream",
     "text": [
      "PDD\n"
     ]
    },
    {
     "data": {
      "text/plain": [
       "(20628508, 33)"
      ]
     },
     "metadata": {},
     "output_type": "display_data"
    },
    {
     "name": "stdout",
     "output_type": "stream",
     "text": [
      "---\n",
      "EDD\n"
     ]
    },
    {
     "data": {
      "text/plain": [
       "(35622173, 33)"
      ]
     },
     "metadata": {},
     "output_type": "display_data"
    },
    {
     "name": "stdout",
     "output_type": "stream",
     "text": [
      "---\n"
     ]
    }
   ],
   "source": [
    "# print shapes\n",
    "for key in ['PDD', 'EDD']:\n",
    "    print(key)\n",
    "    display(dict_h[key].shape)\n",
    "    print('---')"
   ]
  },
  {
   "cell_type": "code",
   "execution_count": 13,
   "id": "2daf758f-8640-454d-8bd1-c8a61f6979c6",
   "metadata": {},
   "outputs": [],
   "source": [
    "# transform cols to strings\n",
    "for key in ['PDD', 'EDD']:\n",
    "    for col in ['bthyear', 'ZCTA10P', 'patzip', 'admtyear', 'admtmonth', 'diag00', 'diag01']:\n",
    "        dict_h[key][col] = dict_h[key][col].astype(str)\n",
    "    \n",
    "    for col in ['patzip', 'ZCTA10P', 'admtyear', 'admtmonth']:\n",
    "        dict_h[key][col] = dict_h[key][col].str.replace('.0', '')"
   ]
  },
  {
   "cell_type": "code",
   "execution_count": 14,
   "id": "744f653a-f86c-4edd-b163-218082a4c80b",
   "metadata": {},
   "outputs": [],
   "source": [
    "# create key for ZCTA10P_year_month\n",
    "for key in ['PDD', 'EDD']:\n",
    "    dict_h[key]['patzip_year_month'] = dict_h[key].patzip + '-' + dict_h[key].admtdate.str[:4] + '-' + dict_h[key].admtmonth\n",
    "    dict_h[key]['ZCTA10P_year_month'] = dict_h[key].ZCTA10P + '-' + dict_h[key].admtdate.str[:4] + '-' + dict_h[key].admtmonth"
   ]
  },
  {
   "cell_type": "code",
   "execution_count": 15,
   "id": "33a8d2e2-c6cd-40fa-b430-a87440dd9365",
   "metadata": {},
   "outputs": [
    {
     "name": "stdout",
     "output_type": "stream",
     "text": [
      "PDD\n"
     ]
    },
    {
     "data": {
      "text/plain": [
       "(11877700, 35)"
      ]
     },
     "metadata": {},
     "output_type": "display_data"
    },
    {
     "name": "stdout",
     "output_type": "stream",
     "text": [
      "---\n",
      "EDD\n"
     ]
    },
    {
     "data": {
      "text/plain": [
       "(25109512, 35)"
      ]
     },
     "metadata": {},
     "output_type": "display_data"
    },
    {
     "name": "stdout",
     "output_type": "stream",
     "text": [
      "---\n"
     ]
    }
   ],
   "source": [
    "# keep only patients born after 2000\n",
    "for key in ['PDD', 'EDD']:\n",
    "    dict_h[key] = dict_h[key][dict_h[key].bthyear.ge('2000')]\n",
    "    # print shapes\n",
    "    print(key)\n",
    "    display(dict_h[key].shape)\n",
    "    print('---')"
   ]
  },
  {
   "cell_type": "code",
   "execution_count": 16,
   "id": "5927fc9c-ac6c-4252-a3ff-731b7269b796",
   "metadata": {},
   "outputs": [
    {
     "name": "stdout",
     "output_type": "stream",
     "text": [
      "PDD\n"
     ]
    },
    {
     "data": {
      "text/plain": [
       "(4482365, 35)"
      ]
     },
     "metadata": {},
     "output_type": "display_data"
    },
    {
     "name": "stdout",
     "output_type": "stream",
     "text": [
      "---\n",
      "EDD\n"
     ]
    },
    {
     "data": {
      "text/plain": [
       "(9685741, 35)"
      ]
     },
     "metadata": {},
     "output_type": "display_data"
    },
    {
     "name": "stdout",
     "output_type": "stream",
     "text": [
      "---\n"
     ]
    }
   ],
   "source": [
    "# keep only if key in schools data\n",
    "for key in ['PDD', 'EDD']:\n",
    "    dict_h[key] = dict_h[key][dict_h[key].patzip_year_month.isin(ziph_year_month)]\n",
    "    # print shapes\n",
    "    print(key)\n",
    "    display(dict_h[key].shape)\n",
    "    print('---')"
   ]
  },
  {
   "cell_type": "code",
   "execution_count": 17,
   "id": "b369e9d3-3acd-4b9b-b604-d6b7289135fe",
   "metadata": {},
   "outputs": [
    {
     "name": "stdout",
     "output_type": "stream",
     "text": [
      "Shape of concat data\n"
     ]
    },
    {
     "data": {
      "text/plain": [
       "(14168106, 35)"
      ]
     },
     "metadata": {},
     "output_type": "display_data"
    },
    {
     "data": {
      "text/html": [
       "<div>\n",
       "<style scoped>\n",
       "    .dataframe tbody tr th:only-of-type {\n",
       "        vertical-align: middle;\n",
       "    }\n",
       "\n",
       "    .dataframe tbody tr th {\n",
       "        vertical-align: top;\n",
       "    }\n",
       "\n",
       "    .dataframe thead th {\n",
       "        text-align: right;\n",
       "    }\n",
       "</style>\n",
       "<table border=\"1\" class=\"dataframe\">\n",
       "  <thead>\n",
       "    <tr style=\"text-align: right;\">\n",
       "      <th></th>\n",
       "      <th>Unnamed: 0</th>\n",
       "      <th>pat_id</th>\n",
       "      <th>rln</th>\n",
       "      <th>patzip</th>\n",
       "      <th>ZCTA10P</th>\n",
       "      <th>patcnty</th>\n",
       "      <th>patcnty_name</th>\n",
       "      <th>hplzip</th>\n",
       "      <th>ZCTA10hP</th>\n",
       "      <th>hplcnty</th>\n",
       "      <th>...</th>\n",
       "      <th>diag03</th>\n",
       "      <th>diag04</th>\n",
       "      <th>proc00</th>\n",
       "      <th>proc01</th>\n",
       "      <th>proc02</th>\n",
       "      <th>proc03</th>\n",
       "      <th>proc04</th>\n",
       "      <th>data_source</th>\n",
       "      <th>patzip_year_month</th>\n",
       "      <th>ZCTA10P_year_month</th>\n",
       "    </tr>\n",
       "  </thead>\n",
       "  <tbody>\n",
       "    <tr>\n",
       "      <th>6072577</th>\n",
       "      <td>6072577</td>\n",
       "      <td>NaN</td>\n",
       "      <td>---------</td>\n",
       "      <td>94578</td>\n",
       "      <td>94578</td>\n",
       "      <td>1.0</td>\n",
       "      <td>Alameda</td>\n",
       "      <td>94501</td>\n",
       "      <td>94501.0</td>\n",
       "      <td>1</td>\n",
       "      <td>...</td>\n",
       "      <td>NaN</td>\n",
       "      <td>NaN</td>\n",
       "      <td>NaN</td>\n",
       "      <td>NaN</td>\n",
       "      <td>NaN</td>\n",
       "      <td>NaN</td>\n",
       "      <td>NaN</td>\n",
       "      <td>PDD</td>\n",
       "      <td>94578-2000-1</td>\n",
       "      <td>94578-2000-1</td>\n",
       "    </tr>\n",
       "    <tr>\n",
       "      <th>6072578</th>\n",
       "      <td>6072578</td>\n",
       "      <td>NaN</td>\n",
       "      <td>---------</td>\n",
       "      <td>94578</td>\n",
       "      <td>94578</td>\n",
       "      <td>1.0</td>\n",
       "      <td>Alameda</td>\n",
       "      <td>94501</td>\n",
       "      <td>94501.0</td>\n",
       "      <td>1</td>\n",
       "      <td>...</td>\n",
       "      <td>NaN</td>\n",
       "      <td>NaN</td>\n",
       "      <td>NaN</td>\n",
       "      <td>NaN</td>\n",
       "      <td>NaN</td>\n",
       "      <td>NaN</td>\n",
       "      <td>NaN</td>\n",
       "      <td>PDD</td>\n",
       "      <td>94578-2000-1</td>\n",
       "      <td>94578-2000-1</td>\n",
       "    </tr>\n",
       "    <tr>\n",
       "      <th>6072581</th>\n",
       "      <td>6072581</td>\n",
       "      <td>NaN</td>\n",
       "      <td>---------</td>\n",
       "      <td>94578</td>\n",
       "      <td>94578</td>\n",
       "      <td>1.0</td>\n",
       "      <td>Alameda</td>\n",
       "      <td>94501</td>\n",
       "      <td>94501.0</td>\n",
       "      <td>1</td>\n",
       "      <td>...</td>\n",
       "      <td>NaN</td>\n",
       "      <td>NaN</td>\n",
       "      <td>NaN</td>\n",
       "      <td>NaN</td>\n",
       "      <td>NaN</td>\n",
       "      <td>NaN</td>\n",
       "      <td>NaN</td>\n",
       "      <td>PDD</td>\n",
       "      <td>94578-2000-2</td>\n",
       "      <td>94578-2000-2</td>\n",
       "    </tr>\n",
       "    <tr>\n",
       "      <th>6072586</th>\n",
       "      <td>6072586</td>\n",
       "      <td>NaN</td>\n",
       "      <td>---------</td>\n",
       "      <td>94544</td>\n",
       "      <td>94544</td>\n",
       "      <td>1.0</td>\n",
       "      <td>Alameda</td>\n",
       "      <td>94501</td>\n",
       "      <td>94501.0</td>\n",
       "      <td>1</td>\n",
       "      <td>...</td>\n",
       "      <td>7756</td>\n",
       "      <td>NaN</td>\n",
       "      <td>3891.0</td>\n",
       "      <td>9396.0</td>\n",
       "      <td>NaN</td>\n",
       "      <td>NaN</td>\n",
       "      <td>NaN</td>\n",
       "      <td>PDD</td>\n",
       "      <td>94544-2000-2</td>\n",
       "      <td>94544-2000-2</td>\n",
       "    </tr>\n",
       "    <tr>\n",
       "      <th>6072590</th>\n",
       "      <td>6072590</td>\n",
       "      <td>NaN</td>\n",
       "      <td>---------</td>\n",
       "      <td>94621</td>\n",
       "      <td>94621</td>\n",
       "      <td>1.0</td>\n",
       "      <td>Alameda</td>\n",
       "      <td>94501</td>\n",
       "      <td>94501.0</td>\n",
       "      <td>1</td>\n",
       "      <td>...</td>\n",
       "      <td>NaN</td>\n",
       "      <td>NaN</td>\n",
       "      <td>NaN</td>\n",
       "      <td>NaN</td>\n",
       "      <td>NaN</td>\n",
       "      <td>NaN</td>\n",
       "      <td>NaN</td>\n",
       "      <td>PDD</td>\n",
       "      <td>94621-2000-2</td>\n",
       "      <td>94621-2000-2</td>\n",
       "    </tr>\n",
       "  </tbody>\n",
       "</table>\n",
       "<p>5 rows × 35 columns</p>\n",
       "</div>"
      ],
      "text/plain": [
       "         Unnamed: 0  pat_id        rln patzip ZCTA10P  patcnty patcnty_name  \\\n",
       "6072577     6072577     NaN  ---------  94578   94578      1.0      Alameda   \n",
       "6072578     6072578     NaN  ---------  94578   94578      1.0      Alameda   \n",
       "6072581     6072581     NaN  ---------  94578   94578      1.0      Alameda   \n",
       "6072586     6072586     NaN  ---------  94544   94544      1.0      Alameda   \n",
       "6072590     6072590     NaN  ---------  94621   94621      1.0      Alameda   \n",
       "\n",
       "         hplzip  ZCTA10hP  hplcnty  ...  diag03 diag04  proc00  proc01  \\\n",
       "6072577   94501   94501.0        1  ...     NaN    NaN     NaN     NaN   \n",
       "6072578   94501   94501.0        1  ...     NaN    NaN     NaN     NaN   \n",
       "6072581   94501   94501.0        1  ...     NaN    NaN     NaN     NaN   \n",
       "6072586   94501   94501.0        1  ...    7756    NaN  3891.0  9396.0   \n",
       "6072590   94501   94501.0        1  ...     NaN    NaN     NaN     NaN   \n",
       "\n",
       "         proc02 proc03 proc04 data_source  patzip_year_month  \\\n",
       "6072577     NaN    NaN    NaN         PDD       94578-2000-1   \n",
       "6072578     NaN    NaN    NaN         PDD       94578-2000-1   \n",
       "6072581     NaN    NaN    NaN         PDD       94578-2000-2   \n",
       "6072586     NaN    NaN    NaN         PDD       94544-2000-2   \n",
       "6072590     NaN    NaN    NaN         PDD       94621-2000-2   \n",
       "\n",
       "        ZCTA10P_year_month  \n",
       "6072577       94578-2000-1  \n",
       "6072578       94578-2000-1  \n",
       "6072581       94578-2000-2  \n",
       "6072586       94544-2000-2  \n",
       "6072590       94621-2000-2  \n",
       "\n",
       "[5 rows x 35 columns]"
      ]
     },
     "execution_count": 17,
     "metadata": {},
     "output_type": "execute_result"
    }
   ],
   "source": [
    "# concatenate PDD end EDD\n",
    "df_all = pd.concat([dict_h['PDD'], dict_h['EDD']], axis=0)\n",
    "print('Shape of concat data')\n",
    "display(df_all.shape)\n",
    "df_all.head()"
   ]
  },
  {
   "cell_type": "markdown",
   "id": "a73a4192-1ab2-45a6-ac05-c54b5d87de42",
   "metadata": {},
   "source": [
    "### Step 6: Compute admission numbers for each disease"
   ]
  },
  {
   "cell_type": "code",
   "execution_count": 18,
   "id": "036fdcc7-bab5-4d29-a016-61efe6c0745a",
   "metadata": {},
   "outputs": [
    {
     "name": "stdout",
     "output_type": "stream",
     "text": [
      "create dummies for:  hematopoietic_cancers\n",
      "create dummies for:  type_1_diabetes\n",
      "create dummies for:  injuries\n",
      "create dummies for:  respiratory\n",
      "create dummies for:  all_malignant_cancers\n",
      "create dummies for:  all_nonblood_malignant_cancers\n",
      "create dummies for:  cardioresp_cancers\n",
      "create dummies for:  blood_diseases\n",
      "create dummies for:  blood_vessel_diseases\n",
      "create dummies for:  blood_or_bv_diseases\n"
     ]
    },
    {
     "data": {
      "text/html": [
       "<div>\n",
       "<style scoped>\n",
       "    .dataframe tbody tr th:only-of-type {\n",
       "        vertical-align: middle;\n",
       "    }\n",
       "\n",
       "    .dataframe tbody tr th {\n",
       "        vertical-align: top;\n",
       "    }\n",
       "\n",
       "    .dataframe thead th {\n",
       "        text-align: right;\n",
       "    }\n",
       "</style>\n",
       "<table border=\"1\" class=\"dataframe\">\n",
       "  <thead>\n",
       "    <tr style=\"text-align: right;\">\n",
       "      <th></th>\n",
       "      <th>Unnamed: 0</th>\n",
       "      <th>pat_id</th>\n",
       "      <th>rln</th>\n",
       "      <th>patzip</th>\n",
       "      <th>ZCTA10P</th>\n",
       "      <th>patcnty</th>\n",
       "      <th>patcnty_name</th>\n",
       "      <th>hplzip</th>\n",
       "      <th>ZCTA10hP</th>\n",
       "      <th>hplcnty</th>\n",
       "      <th>...</th>\n",
       "      <th>hematopoietic_cancers</th>\n",
       "      <th>type_1_diabetes</th>\n",
       "      <th>injuries</th>\n",
       "      <th>respiratory</th>\n",
       "      <th>all_malignant_cancers</th>\n",
       "      <th>all_nonblood_malignant_cancers</th>\n",
       "      <th>cardioresp_cancers</th>\n",
       "      <th>blood_diseases</th>\n",
       "      <th>blood_vessel_diseases</th>\n",
       "      <th>blood_or_bv_diseases</th>\n",
       "    </tr>\n",
       "  </thead>\n",
       "  <tbody>\n",
       "    <tr>\n",
       "      <th>6072577</th>\n",
       "      <td>6072577</td>\n",
       "      <td>NaN</td>\n",
       "      <td>---------</td>\n",
       "      <td>94578</td>\n",
       "      <td>94578</td>\n",
       "      <td>1.0</td>\n",
       "      <td>Alameda</td>\n",
       "      <td>94501</td>\n",
       "      <td>94501.0</td>\n",
       "      <td>1</td>\n",
       "      <td>...</td>\n",
       "      <td>0</td>\n",
       "      <td>0</td>\n",
       "      <td>0</td>\n",
       "      <td>0</td>\n",
       "      <td>0</td>\n",
       "      <td>0</td>\n",
       "      <td>0</td>\n",
       "      <td>0</td>\n",
       "      <td>0</td>\n",
       "      <td>0</td>\n",
       "    </tr>\n",
       "    <tr>\n",
       "      <th>6072578</th>\n",
       "      <td>6072578</td>\n",
       "      <td>NaN</td>\n",
       "      <td>---------</td>\n",
       "      <td>94578</td>\n",
       "      <td>94578</td>\n",
       "      <td>1.0</td>\n",
       "      <td>Alameda</td>\n",
       "      <td>94501</td>\n",
       "      <td>94501.0</td>\n",
       "      <td>1</td>\n",
       "      <td>...</td>\n",
       "      <td>0</td>\n",
       "      <td>0</td>\n",
       "      <td>0</td>\n",
       "      <td>0</td>\n",
       "      <td>0</td>\n",
       "      <td>0</td>\n",
       "      <td>0</td>\n",
       "      <td>0</td>\n",
       "      <td>0</td>\n",
       "      <td>0</td>\n",
       "    </tr>\n",
       "    <tr>\n",
       "      <th>6072581</th>\n",
       "      <td>6072581</td>\n",
       "      <td>NaN</td>\n",
       "      <td>---------</td>\n",
       "      <td>94578</td>\n",
       "      <td>94578</td>\n",
       "      <td>1.0</td>\n",
       "      <td>Alameda</td>\n",
       "      <td>94501</td>\n",
       "      <td>94501.0</td>\n",
       "      <td>1</td>\n",
       "      <td>...</td>\n",
       "      <td>0</td>\n",
       "      <td>0</td>\n",
       "      <td>0</td>\n",
       "      <td>0</td>\n",
       "      <td>0</td>\n",
       "      <td>0</td>\n",
       "      <td>0</td>\n",
       "      <td>0</td>\n",
       "      <td>0</td>\n",
       "      <td>0</td>\n",
       "    </tr>\n",
       "    <tr>\n",
       "      <th>6072586</th>\n",
       "      <td>6072586</td>\n",
       "      <td>NaN</td>\n",
       "      <td>---------</td>\n",
       "      <td>94544</td>\n",
       "      <td>94544</td>\n",
       "      <td>1.0</td>\n",
       "      <td>Alameda</td>\n",
       "      <td>94501</td>\n",
       "      <td>94501.0</td>\n",
       "      <td>1</td>\n",
       "      <td>...</td>\n",
       "      <td>0</td>\n",
       "      <td>0</td>\n",
       "      <td>0</td>\n",
       "      <td>0</td>\n",
       "      <td>0</td>\n",
       "      <td>0</td>\n",
       "      <td>0</td>\n",
       "      <td>0</td>\n",
       "      <td>0</td>\n",
       "      <td>0</td>\n",
       "    </tr>\n",
       "    <tr>\n",
       "      <th>6072590</th>\n",
       "      <td>6072590</td>\n",
       "      <td>NaN</td>\n",
       "      <td>---------</td>\n",
       "      <td>94621</td>\n",
       "      <td>94621</td>\n",
       "      <td>1.0</td>\n",
       "      <td>Alameda</td>\n",
       "      <td>94501</td>\n",
       "      <td>94501.0</td>\n",
       "      <td>1</td>\n",
       "      <td>...</td>\n",
       "      <td>0</td>\n",
       "      <td>0</td>\n",
       "      <td>0</td>\n",
       "      <td>0</td>\n",
       "      <td>0</td>\n",
       "      <td>0</td>\n",
       "      <td>0</td>\n",
       "      <td>0</td>\n",
       "      <td>0</td>\n",
       "      <td>0</td>\n",
       "    </tr>\n",
       "  </tbody>\n",
       "</table>\n",
       "<p>5 rows × 45 columns</p>\n",
       "</div>"
      ],
      "text/plain": [
       "         Unnamed: 0  pat_id        rln patzip ZCTA10P  patcnty patcnty_name  \\\n",
       "6072577     6072577     NaN  ---------  94578   94578      1.0      Alameda   \n",
       "6072578     6072578     NaN  ---------  94578   94578      1.0      Alameda   \n",
       "6072581     6072581     NaN  ---------  94578   94578      1.0      Alameda   \n",
       "6072586     6072586     NaN  ---------  94544   94544      1.0      Alameda   \n",
       "6072590     6072590     NaN  ---------  94621   94621      1.0      Alameda   \n",
       "\n",
       "         hplzip  ZCTA10hP  hplcnty  ...  hematopoietic_cancers  \\\n",
       "6072577   94501   94501.0        1  ...                      0   \n",
       "6072578   94501   94501.0        1  ...                      0   \n",
       "6072581   94501   94501.0        1  ...                      0   \n",
       "6072586   94501   94501.0        1  ...                      0   \n",
       "6072590   94501   94501.0        1  ...                      0   \n",
       "\n",
       "        type_1_diabetes injuries  respiratory  all_malignant_cancers  \\\n",
       "6072577               0        0            0                      0   \n",
       "6072578               0        0            0                      0   \n",
       "6072581               0        0            0                      0   \n",
       "6072586               0        0            0                      0   \n",
       "6072590               0        0            0                      0   \n",
       "\n",
       "        all_nonblood_malignant_cancers cardioresp_cancers blood_diseases  \\\n",
       "6072577                              0                  0              0   \n",
       "6072578                              0                  0              0   \n",
       "6072581                              0                  0              0   \n",
       "6072586                              0                  0              0   \n",
       "6072590                              0                  0              0   \n",
       "\n",
       "         blood_vessel_diseases blood_or_bv_diseases  \n",
       "6072577                      0                    0  \n",
       "6072578                      0                    0  \n",
       "6072581                      0                    0  \n",
       "6072586                      0                    0  \n",
       "6072590                      0                    0  \n",
       "\n",
       "[5 rows x 45 columns]"
      ]
     },
     "execution_count": 18,
     "metadata": {},
     "output_type": "execute_result"
    }
   ],
   "source": [
    "# create dummy if visit is for given disease\n",
    "for key in list(diseases.keys()):\n",
    "    print('create dummies for: ', key)\n",
    "    df_all[key] = np.where((df_all.diag00.str.startswith(tuple((diseases[key]))) | df_all.diag01.str.startswith(tuple((diseases[key])))), 1, 0)\n",
    "    \n",
    "df_all.head()"
   ]
  },
  {
   "cell_type": "code",
   "execution_count": 19,
   "id": "a51c0f19-b181-49db-8b3a-f8608c667e58",
   "metadata": {},
   "outputs": [
    {
     "data": {
      "text/plain": [
       "count    1.416811e+07\n",
       "mean     2.964405e-05\n",
       "std      5.444554e-03\n",
       "min      0.000000e+00\n",
       "25%      0.000000e+00\n",
       "50%      0.000000e+00\n",
       "75%      0.000000e+00\n",
       "max      1.000000e+00\n",
       "Name: cardioresp_cancers, dtype: float64"
      ]
     },
     "execution_count": 19,
     "metadata": {},
     "output_type": "execute_result"
    }
   ],
   "source": [
    "df_all.cardioresp_cancers.describe()"
   ]
  },
  {
   "cell_type": "code",
   "execution_count": 20,
   "id": "b8c40143-b92e-41cf-bb1a-6712548a2f3f",
   "metadata": {},
   "outputs": [
    {
     "data": {
      "text/plain": [
       "135671"
      ]
     },
     "execution_count": 20,
     "metadata": {},
     "output_type": "execute_result"
    }
   ],
   "source": [
    "df_all.patzip_year_month.nunique()"
   ]
  },
  {
   "cell_type": "code",
   "execution_count": 21,
   "id": "e160fabd-b355-4a7b-9625-93161522c57b",
   "metadata": {},
   "outputs": [
    {
     "data": {
      "text/plain": [
       "dict_keys(['hematopoietic_cancers', 'type_1_diabetes', 'injuries', 'respiratory', 'all_malignant_cancers', 'all_nonblood_malignant_cancers', 'cardioresp_cancers', 'blood_diseases', 'blood_vessel_diseases', 'blood_or_bv_diseases'])"
      ]
     },
     "execution_count": 21,
     "metadata": {},
     "output_type": "execute_result"
    }
   ],
   "source": [
    "diseases.keys()"
   ]
  },
  {
   "cell_type": "code",
   "execution_count": 27,
   "id": "a38b676c-90dd-4bea-a030-abb5fcc2368f",
   "metadata": {},
   "outputs": [
    {
     "name": "stdout",
     "output_type": "stream",
     "text": [
      "hematopoietic_cancers\n",
      "type_1_diabetes\n",
      "injuries\n",
      "respiratory\n",
      "all_malignant_cancers\n",
      "all_nonblood_malignant_cancers\n",
      "cardioresp_cancers\n",
      "blood_diseases\n",
      "blood_vessel_diseases\n",
      "blood_or_bv_diseases\n"
     ]
    },
    {
     "data": {
      "image/png": "[encoded data removed]",
      "text/plain": [
       "<Figure size 432x288 with 1 Axes>"
      ]
     },
     "metadata": {
      "needs_background": "light"
     },
     "output_type": "display_data"
    }
   ],
   "source": [
    "%matplotlib inline\n",
    "import seaborn as sns\n",
    "colors =  sns.color_palette(\"rocket_r\", 11)\n",
    "\n",
    "# compute visits by patzip_year_month\n",
    "for idx, key in enumerate(list(diseases.keys())):\n",
    "    print(key)\n",
    "    temp = df_all.groupby(['patzip_year_month', key], as_index=False).patzip.count()\n",
    "    temp.rename(columns={'patzip': 'number_of_visits'}, inplace=True)\n",
    "    # disturn reality (Add noise)\n",
    "    #if idx in [0, 1, 2]:\n",
    "    #    temp['number_of_visits'] = temp.number_of_visits + 16\n",
    "    #else:\n",
    "    #    temp['number_of_visits'] = temp.number_of_visits + 111\n",
    "    temp = temp[temp[key].eq(1)]\n",
    "    temp.reset_index(drop=True, inplace=True)\n",
    "    temp.to_csv(out_dir + key + '.csv')\n",
    "    temp.number_of_visits.hist(color=colors[idx], alpha=0.4)"
   ]
  },
  {
   "cell_type": "code",
   "execution_count": 28,
   "id": "fbb0e441-a348-44cd-b302-a182c56433bc",
   "metadata": {},
   "outputs": [
    {
     "data": {
      "text/plain": [
       "46903"
      ]
     },
     "execution_count": 28,
     "metadata": {},
     "output_type": "execute_result"
    }
   ],
   "source": [
    "temp.patzip_year_month.nunique()"
   ]
  },
  {
   "cell_type": "code",
   "execution_count": 29,
   "id": "e0bea97d-22c3-4d4a-b0b5-f04b10751270",
   "metadata": {},
   "outputs": [
    {
     "data": {
      "text/html": [
       "<div>\n",
       "<style scoped>\n",
       "    .dataframe tbody tr th:only-of-type {\n",
       "        vertical-align: middle;\n",
       "    }\n",
       "\n",
       "    .dataframe tbody tr th {\n",
       "        vertical-align: top;\n",
       "    }\n",
       "\n",
       "    .dataframe thead th {\n",
       "        text-align: right;\n",
       "    }\n",
       "</style>\n",
       "<table border=\"1\" class=\"dataframe\">\n",
       "  <thead>\n",
       "    <tr style=\"text-align: right;\">\n",
       "      <th></th>\n",
       "      <th>patzip_year_month</th>\n",
       "      <th>blood_or_bv_diseases</th>\n",
       "      <th>number_of_visits</th>\n",
       "    </tr>\n",
       "  </thead>\n",
       "  <tbody>\n",
       "    <tr>\n",
       "      <th>0</th>\n",
       "      <td>91214-2003-7</td>\n",
       "      <td>1</td>\n",
       "      <td>1</td>\n",
       "    </tr>\n",
       "    <tr>\n",
       "      <th>1</th>\n",
       "      <td>91214-2004-7</td>\n",
       "      <td>1</td>\n",
       "      <td>1</td>\n",
       "    </tr>\n",
       "    <tr>\n",
       "      <th>2</th>\n",
       "      <td>91214-2005-1</td>\n",
       "      <td>1</td>\n",
       "      <td>1</td>\n",
       "    </tr>\n",
       "    <tr>\n",
       "      <th>3</th>\n",
       "      <td>91214-2005-6</td>\n",
       "      <td>1</td>\n",
       "      <td>2</td>\n",
       "    </tr>\n",
       "    <tr>\n",
       "      <th>4</th>\n",
       "      <td>91214-2006-3</td>\n",
       "      <td>1</td>\n",
       "      <td>1</td>\n",
       "    </tr>\n",
       "    <tr>\n",
       "      <th>...</th>\n",
       "      <td>...</td>\n",
       "      <td>...</td>\n",
       "      <td>...</td>\n",
       "    </tr>\n",
       "    <tr>\n",
       "      <th>46898</th>\n",
       "      <td>96161-2017-2</td>\n",
       "      <td>1</td>\n",
       "      <td>1</td>\n",
       "    </tr>\n",
       "    <tr>\n",
       "      <th>46899</th>\n",
       "      <td>96161-2017-3</td>\n",
       "      <td>1</td>\n",
       "      <td>1</td>\n",
       "    </tr>\n",
       "    <tr>\n",
       "      <th>46900</th>\n",
       "      <td>96161-2017-5</td>\n",
       "      <td>1</td>\n",
       "      <td>1</td>\n",
       "    </tr>\n",
       "    <tr>\n",
       "      <th>46901</th>\n",
       "      <td>96161-2017-7</td>\n",
       "      <td>1</td>\n",
       "      <td>2</td>\n",
       "    </tr>\n",
       "    <tr>\n",
       "      <th>46902</th>\n",
       "      <td>96161-2017-8</td>\n",
       "      <td>1</td>\n",
       "      <td>2</td>\n",
       "    </tr>\n",
       "  </tbody>\n",
       "</table>\n",
       "<p>46903 rows × 3 columns</p>\n",
       "</div>"
      ],
      "text/plain": [
       "      patzip_year_month  blood_or_bv_diseases  number_of_visits\n",
       "0          91214-2003-7                     1                 1\n",
       "1          91214-2004-7                     1                 1\n",
       "2          91214-2005-1                     1                 1\n",
       "3          91214-2005-6                     1                 2\n",
       "4          91214-2006-3                     1                 1\n",
       "...                 ...                   ...               ...\n",
       "46898      96161-2017-2                     1                 1\n",
       "46899      96161-2017-3                     1                 1\n",
       "46900      96161-2017-5                     1                 1\n",
       "46901      96161-2017-7                     1                 2\n",
       "46902      96161-2017-8                     1                 2\n",
       "\n",
       "[46903 rows x 3 columns]"
      ]
     },
     "execution_count": 29,
     "metadata": {},
     "output_type": "execute_result"
    }
   ],
   "source": [
    "temp"
   ]
  },
  {
   "cell_type": "code",
   "execution_count": null,
   "id": "b49560b1-af31-41dd-87c9-78972ae9b1ea",
   "metadata": {},
   "outputs": [],
   "source": []
  }
 ],
 "metadata": {
  "kernelspec": {
   "display_name": "Python 3",
   "language": "python",
   "name": "python3"
  },
  "language_info": {
   "codemirror_mode": {
    "name": "ipython",
    "version": 3
   },
   "file_extension": ".py",
   "mimetype": "text/x-python",
   "name": "python",
   "nbconvert_exporter": "python",
   "pygments_lexer": "ipython3",
   "version": "3.8.5"
  }
 },
 "nbformat": 4,
 "nbformat_minor": 5
}
