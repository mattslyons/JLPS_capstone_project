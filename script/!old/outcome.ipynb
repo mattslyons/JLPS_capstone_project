{
 "cells": [
  {
   "cell_type": "markdown",
   "id": "1fa360e4-7076-430f-87ef-f556436f88b0",
   "metadata": {
    "tags": []
   },
   "source": [
    "# Main script - health data\n",
    "\n",
    "## Capstone project\n",
    "\n",
    "\n",
    "Author: Cornelia Ilin\n",
    "\n",
    "Email: cilin@wisc.edu\n",
    "\n",
    "Date created: Oct 14, 2022"
   ]
  },
  {
   "cell_type": "markdown",
   "id": "9e08d8e0-e05d-449b-881d-1bc53e8e94ef",
   "metadata": {},
   "source": [
    "### Step 1: Import packages"
   ]
  },
  {
   "cell_type": "code",
   "execution_count": 1,
   "id": "f4c2a6ac-fd72-4907-bfd2-b1d8abbe62f9",
   "metadata": {},
   "outputs": [],
   "source": [
    "import pandas as pd\n",
    "import numpy as np\n",
    "import os\n",
    "\n",
    "import warnings\n",
    "warnings.filterwarnings(\"ignore\")"
   ]
  },
  {
   "cell_type": "markdown",
   "id": "e8f41818-d3f3-4b9e-856e-90c6527183f9",
   "metadata": {},
   "source": [
    "### Step 2: Define working directories"
   ]
  },
  {
   "cell_type": "code",
   "execution_count": 2,
   "id": "f26bdf4d-2e20-4cc9-a6c1-ac7b7a142eed",
   "metadata": {},
   "outputs": [],
   "source": [
    "in_dir = 'C:/Users/cilin/Research/CA_hospitals_capstone/data/'\n",
    "in_dir_h = 'C:/Users/cilin/Research/CA_hospitals/Input/final_data/health/'\n",
    "\n",
    "out_dir = 'C:/Users/cilin/Research/CA_hospitals_capstone/output/'"
   ]
  },
  {
   "cell_type": "markdown",
   "id": "35a76c0a-5aa2-4994-aa85-541b43197456",
   "metadata": {},
   "source": [
    "### Step 3: Define functions"
   ]
  },
  {
   "cell_type": "code",
   "execution_count": 3,
   "id": "8a10bb8c-486a-4b13-b22e-b7fc22a20cbe",
   "metadata": {},
   "outputs": [],
   "source": [
    "def read_health_data():\n",
    "    '''\n",
    "    '''\n",
    "    df_dict = {}\n",
    "    for file in os.listdir(in_dir_h):\n",
    "        if file in ['PDD_final.csv', 'EDD_final.csv']:\n",
    "            key = file.split('_')[0]\n",
    "            print('Reading:', file)\n",
    "            df_dict[key] = pd.read_csv(in_dir_h + file)\n",
    "        \n",
    "    return df_dict"
   ]
  },
  {
   "cell_type": "code",
   "execution_count": 4,
   "id": "7e72688c-86fd-4f74-ae28-d365c9f20c50",
   "metadata": {},
   "outputs": [],
   "source": [
    "def add_outcome(df):\n",
    "    \"\"\" A function that adds an outcome variable (=1 if diagnosis (diag00-diag04) is for respiratory/circulatory/injury; = 0 if for injury/poisoning) \n",
    "    \"\"\"\n",
    "    outcome_is_1 = add_outcome_helper()\n",
    "        \n",
    "    df[\"outcome\"] = np.where((df.diag00.str.startswith(outcome_is_1)| df.diag01.str.startswith(outcome_is_1)), 1,\n",
    "                                      np.where(df.diag00.str.startswith((\"8\", \"9\", \"S\", \"T\")), 0, 'others'))\n",
    "        \n",
    "    return df"
   ]
  },
  {
   "cell_type": "code",
   "execution_count": 5,
   "id": "1346a11b-ebdb-4cd1-a821-eb4f9d1e2d59",
   "metadata": {},
   "outputs": [],
   "source": [
    "def add_outcome_helper():\n",
    "    \"\"\" A function that creates a list of ICD9/10 diagnosis codes for which outcome variable == 1, \n",
    "        (i.e. diagnosis is related to respiratory or circultory health condition)\n",
    "    # return: a list of diagnosis codes\n",
    "    \"\"\"\n",
    "    # read icd codes selection    \n",
    "    icd = pd.read_excel(\n",
    "        in_dir + 'data_selection.xlsx',\n",
    "        'Diag_codes', skiprows = 2, header = 0\n",
    "    )\n",
    "        \n",
    "    # keep only if it's to be used in the analysis\n",
    "    icd = icd[icd[\"Use to define outcome variable [behrt]\"] == 1]\n",
    "\n",
    "    \n",
    "    ## Step1: extract ICD-9-CM codes for which outcome == 1:\n",
    "    icd9_values = [] \n",
    "\n",
    "    # grab raw values\n",
    "    raw_values = icd[\"ICD-9-CM\"].values.tolist()\n",
    "\n",
    "    # create array sequences based on raw values\n",
    "    seq_values = []\n",
    "    for val in raw_values:\n",
    "        if val == -1:\n",
    "            continue\n",
    "        else:\n",
    "            seq_values.append(np.arange(int(val[0:3]), int(val[4:7])+1, 1))\n",
    "\n",
    "    # save final values\n",
    "    for row in seq_values:\n",
    "        for cell in row:\n",
    "            icd9_values.append(str(cell))\n",
    "\n",
    "    # create tuple\n",
    "    icd9_values = tuple(icd9_values)\n",
    "    \n",
    "    ## Step2: extract ICD-10-CM codes for which outcome == 1:\n",
    "    icd10_values = [] \n",
    "\n",
    "    # grab raw values\n",
    "    raw_values = icd[\"ICD-10-CM\"].values.tolist()\n",
    "    raw_values = [val.lstrip() for val in raw_values]\n",
    "\n",
    "    # create array sequences based on raw values\n",
    "    seq_values = []\n",
    "    seq_letters = []\n",
    "    \n",
    "    for val in raw_values:\n",
    "        if val == \"J00-J06, J20-J22\":\n",
    "            seq_values.append(np.arange(int(val[1:3]), int(val[5:7])+1, 1))\n",
    "            seq_values.append(np.arange(int(val[10:12]), int(val[14:16])+1, 1))\n",
    "            seq_letters.append(val[0])\n",
    "            seq_letters.append(val[9]) \n",
    "        else: \n",
    "            seq_values.append(np.arange(int(val[1:3]), int(val[5:7])+1, 1))\n",
    "            seq_letters.append(val[0])\n",
    "\n",
    "    # save final values\n",
    "    for index, row in enumerate(seq_values):\n",
    "        for cell in row:\n",
    "            if cell < 10: # add a 0 to numbers that have only one character\n",
    "                icd10_values.append(seq_letters[index] + \"0\" + str(cell))\n",
    "            else:\n",
    "                icd10_values.append(seq_letters[index] + str(cell))\n",
    "\n",
    "    # create tuple\n",
    "    icd10_values = tuple(icd10_values)\n",
    "    \n",
    "    ## Step3: Combine Step1 and Step2\n",
    "    icd_values = icd9_values + icd10_values\n",
    "    \n",
    "    return icd_values"
   ]
  },
  {
   "cell_type": "markdown",
   "id": "b87a15f8-495d-443f-b83b-df275526e7e5",
   "metadata": {},
   "source": [
    "### Step 4: Read data"
   ]
  },
  {
   "cell_type": "markdown",
   "id": "2261fa55-14a0-4b61-be4e-810c9361e7dc",
   "metadata": {},
   "source": [
    "``school zip-year-month keys``"
   ]
  },
  {
   "cell_type": "code",
   "execution_count": null,
   "id": "8418529a-6211-40e0-8d03-968a59240d62",
   "metadata": {},
   "outputs": [],
   "source": [
    "df = pd.read_csv(in_dir + 'keys.csv')\n",
    "df.head()"
   ]
  },
  {
   "cell_type": "markdown",
   "id": "1ff97d55-2052-4691-9ff0-029196ed2b50",
   "metadata": {},
   "source": [
    "``health data``"
   ]
  },
  {
   "cell_type": "code",
   "execution_count": null,
   "id": "d3d764d5-ec02-4755-b786-a1300dec7b26",
   "metadata": {},
   "outputs": [],
   "source": [
    "dict_h = read_health_data()\n",
    "print('Keys in data:', dict_h.keys())"
   ]
  },
  {
   "cell_type": "markdown",
   "id": "36d7e86d-8a0b-4a4c-b00f-8a1ddcc3dbf4",
   "metadata": {},
   "source": [
    "### Step 5: Preprocess data"
   ]
  },
  {
   "cell_type": "markdown",
   "id": "308479e6-613e-4ca2-8aba-d216af6d1b4e",
   "metadata": {},
   "source": [
    "``school zip-year-month keys``"
   ]
  },
  {
   "cell_type": "code",
   "execution_count": null,
   "id": "97755b08-fd2e-46e3-b7f6-032fef5efb48",
   "metadata": {},
   "outputs": [],
   "source": [
    "# create ziph_year_month\n",
    "df['zips'] = df.school_zips.values\n",
    "df['year'] = df.year_month.str[:4]\n",
    "df['month'] = df.year_month.str[5:].astype(str)\n",
    "df['month'] = np.where(df.month.str.startswith('0'), df.month.str[1:], df.month)\n",
    "df.head(20)"
   ]
  },
  {
   "cell_type": "code",
   "execution_count": null,
   "id": "3b226e37-764d-47c8-af17-4623424334ba",
   "metadata": {},
   "outputs": [],
   "source": [
    "# create ziph_year_month\n",
    "df['school_zips'] = np.where(df.school_zips.isna(), 'nan', df.school_zips)\n",
    "df['year'] = df.year_month.str[:4]\n",
    "df['month'] = df.year_month.str[5:]\n",
    "df['month'] = np.where(df.month.str.startswith('0'), df.month.str[1:], df.month)\n",
    "df['year_month'] = df.year + '-' + df.month\n",
    "df['year_month'] = np.where(df.year_month.isna(), 'nan', df.year_month)\n",
    "\n",
    "zips = df.school_zips.values\n",
    "year_month = df.year_month.values\n",
    "ziph_year_month = []\n",
    "for z in zips:\n",
    "    for val in year_month:\n",
    "        if z=='nan' or val=='nan':\n",
    "            continue\n",
    "        else:\n",
    "            ziph_year_month.append(str(z) + '-' + str(val))\n",
    "print('Example data points:')\n",
    "ziph_year_month[:3]"
   ]
  },
  {
   "cell_type": "code",
   "execution_count": null,
   "id": "baf712cd-58a6-475d-9310-8d5f7d1a19d4",
   "metadata": {},
   "outputs": [],
   "source": [
    "# pull out icd codes of interest\n",
    "df['icd_code_2'] = df.icd_code.str.replace('.', '')\n",
    "\n",
    "# add to dictionary\n",
    "diseases = {}\n",
    "for val in ['hematopoietic_cancers', 'type_1_diabetes', 'pediatric_vasculitis']:\n",
    "    diseases[val] = list(df[df.disease_grp_name.eq(val)].icd_code_2.values)\n"
   ]
  },
  {
   "cell_type": "code",
   "execution_count": null,
   "id": "b530848e-332b-415b-910a-d06b7864fd6e",
   "metadata": {},
   "outputs": [],
   "source": [
    "diseases['type_1_diabetes']"
   ]
  },
  {
   "cell_type": "markdown",
   "id": "f7cf2415-5c63-437e-ab5f-cc00186a9ffb",
   "metadata": {},
   "source": [
    "``health data``"
   ]
  },
  {
   "cell_type": "code",
   "execution_count": null,
   "id": "da287671-619e-49af-a1ec-2d79d0f62230",
   "metadata": {},
   "outputs": [],
   "source": [
    "# print shapes\n",
    "for key in ['PDD', 'EDD']:\n",
    "    print(key)\n",
    "    display(dict_h[key].shape)\n",
    "    print('---')"
   ]
  },
  {
   "cell_type": "code",
   "execution_count": null,
   "id": "2daf758f-8640-454d-8bd1-c8a61f6979c6",
   "metadata": {},
   "outputs": [],
   "source": [
    "# transform cols to strings\n",
    "for key in ['PDD', 'EDD']:\n",
    "    for col in ['bthyear', 'ZCTA10P', 'patzip', 'admtyear', 'admtmonth', 'diag00', 'diag01']:\n",
    "        dict_h[key][col] = dict_h[key][col].astype(str)\n",
    "    \n",
    "    for col in ['patzip', 'ZCTA10P', 'admtyear', 'admtmonth']:\n",
    "        dict_h[key][col] = dict_h[key][col].str.replace('.0', '')"
   ]
  },
  {
   "cell_type": "code",
   "execution_count": null,
   "id": "744f653a-f86c-4edd-b163-218082a4c80b",
   "metadata": {},
   "outputs": [],
   "source": [
    "# create key for ZCTA10P_year_month\n",
    "for key in ['PDD', 'EDD']:\n",
    "    dict_h[key]['patzip_year_month'] = dict_h[key].patzip + '-' + dict_h[key].admtdate.str[:4] + '-' + dict_h[key].admtmonth\n",
    "    dict_h[key]['ZCTA10P_year_month'] = dict_h[key].ZCTA10P + '-' + dict_h[key].admtdate.str[:4] + '-' + dict_h[key].admtmonth"
   ]
  },
  {
   "cell_type": "code",
   "execution_count": null,
   "id": "33a8d2e2-c6cd-40fa-b430-a87440dd9365",
   "metadata": {},
   "outputs": [],
   "source": [
    "# keep only patients born after 2000\n",
    "for key in ['PDD', 'EDD']:\n",
    "    dict_h[key] = dict_h[key][dict_h[key].bthyear.ge('2000')]\n",
    "    # print shapes\n",
    "    print(key)\n",
    "    display(dict_h[key].shape)\n",
    "    print('---')"
   ]
  },
  {
   "cell_type": "code",
   "execution_count": null,
   "id": "5927fc9c-ac6c-4252-a3ff-731b7269b796",
   "metadata": {},
   "outputs": [],
   "source": [
    "# keep only if key in schools data\n",
    "for key in ['PDD', 'EDD']:\n",
    "    dict_h[key] = dict_h[key][dict_h[key].patzip_year_month.isin(ziph_year_month)]\n",
    "    # print shapes\n",
    "    print(key)\n",
    "    display(dict_h[key].shape)\n",
    "    print('---')"
   ]
  },
  {
   "cell_type": "code",
   "execution_count": null,
   "id": "b369e9d3-3acd-4b9b-b604-d6b7289135fe",
   "metadata": {},
   "outputs": [],
   "source": [
    "# concatenate PDD end EDD\n",
    "df_all = pd.concat([dict_h['PDD'], dict_h['EDD']], axis=0)\n",
    "print('Shape of concat data')\n",
    "display(df_all.shape)\n",
    "df_all.head()"
   ]
  },
  {
   "cell_type": "code",
   "execution_count": null,
   "id": "555d96f9-e663-4621-aad3-d27c2372ebcd",
   "metadata": {},
   "outputs": [],
   "source": [
    "# add resp/cardio and injury/accidents disease codes\n",
    "df_all = add_outcome(df_all)\n",
    "df_all.head()"
   ]
  },
  {
   "cell_type": "code",
   "execution_count": null,
   "id": "f14948ea-644c-4163-a085-ae316124c2a5",
   "metadata": {},
   "outputs": [],
   "source": [
    "df_all.outcome.unique()"
   ]
  },
  {
   "cell_type": "markdown",
   "id": "a73a4192-1ab2-45a6-ac05-c54b5d87de42",
   "metadata": {},
   "source": [
    "### Step 6: Compute admission numbers for each disease"
   ]
  },
  {
   "cell_type": "code",
   "execution_count": null,
   "id": "036fdcc7-bab5-4d29-a016-61efe6c0745a",
   "metadata": {},
   "outputs": [],
   "source": [
    "# create dummy if visit is for given disease\n",
    "for key in list(diseases.keys()):\n",
    "    print('create dummies for: ', key)\n",
    "    df_all[key] = np.where((df_all.diag00.str.startswith(tuple((diseases[key]))) | df_all.diag01.str.startswith(tuple((diseases[key])))), 1, 0)\n",
    "\n",
    "for idx, key in enumerate(['injuries_accidents', 'resp_cardio']):\n",
    "    print('create dummies for: ', key)\n",
    "    df_all[key] = np.where(df_all.outcome.eq(str(idx)), 1, 0)\n",
    "    \n",
    "df_all.head()"
   ]
  },
  {
   "cell_type": "code",
   "execution_count": null,
   "id": "a51c0f19-b181-49db-8b3a-f8608c667e58",
   "metadata": {},
   "outputs": [],
   "source": [
    "df_all.resp_cardio.describe()"
   ]
  },
  {
   "cell_type": "code",
   "execution_count": null,
   "id": "a38b676c-90dd-4bea-a030-abb5fcc2368f",
   "metadata": {},
   "outputs": [],
   "source": [
    "%matplotlib inline\n",
    "import seaborn as sns\n",
    "colors =  sns.color_palette(\"rocket_r\", 5)\n",
    "\n",
    "# compute visits by patzip_year_month\n",
    "for idx, key in enumerate(list(diseases.keys()) + ['injuries_accidents', 'resp_cardio']):\n",
    "    print(key)\n",
    "    temp = df_all.groupby(['patzip_year_month', key], as_index=False).ZCTA10P.count()\n",
    "    temp.rename(columns={'ZCTA10P': 'number_of_visits'}, inplace=True)\n",
    "    # disturn reality (Add noise)\n",
    "    if idx in [0, 1, 2]:\n",
    "        temp['number_of_visits'] = temp.number_of_visits + 16\n",
    "    else:\n",
    "        temp['number_of_visits'] = temp.number_of_visits + 111\n",
    "    temp = temp[temp[key].eq(1)]\n",
    "    temp.reset_index(drop=True, inplace=True)\n",
    "    temp.to_csv(out_dir + key + '.csv')\n",
    "    temp.number_of_visits.hist(color=colors[idx], alpha=0.4)"
   ]
  },
  {
   "cell_type": "code",
   "execution_count": null,
   "id": "52b9cae4-a1e4-4fd5-ac3e-3823ba1494ae",
   "metadata": {},
   "outputs": [],
   "source": []
  }
 ],
 "metadata": {
  "kernelspec": {
   "display_name": "Python 3",
   "language": "python",
   "name": "python3"
  },
  "language_info": {
   "codemirror_mode": {
    "name": "ipython",
    "version": 3
   },
   "file_extension": ".py",
   "mimetype": "text/x-python",
   "name": "python",
   "nbconvert_exporter": "python",
   "pygments_lexer": "ipython3",
   "version": "3.8.5"
  }
 },
 "nbformat": 4,
 "nbformat_minor": 5
}
